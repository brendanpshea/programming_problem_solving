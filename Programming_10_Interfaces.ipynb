{
  "nbformat": 4,
  "nbformat_minor": 0,
  "metadata": {
    "colab": {
      "provenance": [],
      "authorship_tag": "ABX9TyOswCfw8G56zMdQnZE542u4",
      "include_colab_link": true
    },
    "kernelspec": {
      "name": "python3",
      "display_name": "Python 3"
    },
    "language_info": {
      "name": "python"
    }
  },
  "cells": [
    {
      "cell_type": "markdown",
      "metadata": {
        "id": "view-in-github",
        "colab_type": "text"
      },
      "source": [
        "<a href=\"https://colab.research.google.com/github/brendanpshea/programming_problem_solving/blob/main/Programming_10_Interfaces.ipynb\" target=\"_parent\"><img src=\"https://colab.research.google.com/assets/colab-badge.svg\" alt=\"Open In Colab\"/></a>"
      ]
    },
    {
      "cell_type": "markdown",
      "source": [
        "# Bowling for Interfaces\n",
        "### Brendan Shea, PhD\n",
        "\n",
        "In Object-Oriented Programming (OOP), we use classes to encapsulate data and behavior into reusable components. Classes define the properties (attributes) and methods (behaviors) of objects, and we can create instances of these classes to represent specific entities in our program.\n",
        "\n",
        "Java supports several fundamental concepts of OOP, including:\n",
        "\n",
        "1.  **Encapsulation.** Bundling data and methods into a single unit (class) and controlling access to the internal state of an object.\n",
        "2.  **Inheritance.** Creating new classes based on existing classes, allowing for code reuse and hierarchical relationships between classes.\n",
        "3.  **Polymorphism.** Treating objects of different classes as objects of a common superclass, enabling more flexible and modular code.\n",
        "4.  **Abstraction** Focusing on the essential features of an object and hiding unnecessary details, providing a simplified and generalized view of the system.\n",
        "\n",
        "These concepts help us create well-structured, maintainable, and extensible code. However, there are situations where we need to define a set of methods that are common to different classes, but these classes don't necessarily share a common superclass. This is where interfaces come into play.\n",
        "\n",
        "An interface in Java is a collection of abstract methods (methods without a body) and constant variables. It defines a contract that classes can implement, specifying a set of methods that the implementing classes must provide. Interfaces allow us to define common behavior that can be shared across different classes, regardless of their inheritance hierarchy.\n",
        "\n",
        "Now, let's introduce a case study to illustrate the concept of interfaces in Java. Imagine we're building a bowling alley management system inspired by the movie \"The Big Lebowski\". In this system, we have various classes representing different aspects of the bowling alley, such as `Bowler`, `Lane`, `Ball`, and `Score`.\n",
        "\n",
        "```java\n",
        "public  class  Bowler  {\n",
        "  private  String name;\n",
        "  private  int score;\n",
        "  // Constructor, getters, and setters  \n",
        "  }\n",
        "\n",
        "public  class  Lane  {\n",
        "  private  int number;\n",
        "  private  boolean isOccupied;\n",
        "  // Constructor, getters, and setters  \n",
        "  }\n",
        "\n",
        "public  class  Ball  {   \n",
        "  private  String color;   \n",
        "  private  int weight;\n",
        "  // Constructor, getters, and setters  \n",
        "  }\n",
        "\n",
        "public  class  Score  {   \n",
        "  private  int value;   \n",
        "  private  int frameNumber;\n",
        "  // Constructor, getters, and setters  \n",
        "  }\n",
        "```\n",
        "\n",
        "While these classes represent different entities in our system, they don't necessarily share a common superclass. However, we can identify a common behavior that some of these classes should have: the ability to reset their state.\n",
        "\n",
        "For example, when a game is over, we might want to reset the `Bowler`'s score, the `Lane`'s occupied status, and the `Score` object's value and frame number. We can define this common behavior using an interface.\n",
        "\n",
        "To define an interface in Java, you use the `interface` keyword followed by the name of the interface. The proper syntax for defining an interface is as follows:\n",
        "\n",
        "```java\n",
        "public  interface  InterfaceName  {    \n",
        "  // Method declarations   \n",
        "  returnType methodName(parameters);     \n",
        "  // Constant declarations   \n",
        "  dataType CONSTANT_NAME = value;  }\n",
        "```\n",
        "Here's an example of defining the `Resetable` interface:\n",
        "\n",
        "```java\n",
        "public  interface  Resetable  {   \n",
        "  void  reset();  \n",
        "}\n",
        "```\n",
        "\n",
        "Now, any class that needs to have the ability to reset its state can implement the `Resetable` interface and provide its own implementation of the `reset()` method.\n",
        "\n",
        "```java\n",
        "public  class  Bowler  implements  Resetable  {\n",
        "     // ...\n",
        "     @Override   public  void  reset()  {  \n",
        "    score =  0;   }  \n",
        "    }\n",
        "public  class  Lane  implements  Resetable  {   \n",
        "  // ...\n",
        "  @Override   public  void  reset()  {  \n",
        "    isOccupied =  false;   }  \n",
        "    }\n",
        "public  class  Score  implements  Resetable  {   \n",
        "  // ...\n",
        "  @Override   \n",
        "  public  void  reset()  {  \n",
        "    value =  0;  \n",
        "    frameNumber =  1;   \n",
        "    }  \n",
        "    }\n",
        "```\n",
        "\n",
        "When a class implements an interface, it agrees to adhere to the contract defined by the interface. This has several implications:\n",
        "\n",
        "1.  The class must provide implementations for all the methods declared in the interface. If a class fails to implement any of the interface methods, it will result in a compilation error.\n",
        "2.  The class can be treated as an instance of the interface type. This allows for polymorphism, where an object of the implementing class can be assigned to a variable of the interface type.\n",
        "3.  Implementing an interface enables loose coupling between classes. It allows classes to interact with each other based on the interface contract, rather than being tightly coupled to specific implementations.\n",
        "\n",
        "Interfaces allow us to define a contract that classes can adhere to, promoting a clear and consistent structure across different classes. They enable us to write more modular and flexible code, as we can work with objects based on their interface rather than their specific class.\n",
        "\n",
        "As we continue exploring the bowling alley management system, we'll see how interfaces can help us create a well-designed and maintainable codebase, just like how the Dude abides by his own code and adapts to the various characters and situations he encounters in the movie."
      ],
      "metadata": {
        "id": "DUCO2ggoYu0q"
      }
    },
    {
      "cell_type": "markdown",
      "source": [
        "### A Class Can Implement Multiple Interfaces\n",
        "You might notice that interfaces are a bit like abstract classes. However, in Java, a class can only have ONE abstract class as its \"parent.\" By contrast, a class can implement mutiple interfaces, so long as it follows the \"rules\" for each of them. To further illustrate this, let's consider another example, this time related to the \"Playable\" interface.\n",
        "\n",
        "```java\n",
        "public interface Playable {\n",
        "    void play();\n",
        "    void pause();\n",
        "}\n",
        "\n",
        "public class BowlingGame implements Resetable, Playable {\n",
        "    // Implementations of reset(), play(), and pause() methods\n",
        "}\n",
        "\n",
        "public class GameManager {\n",
        "    private Playable game;\n",
        "\n",
        "    public void setGame(Playable game) {\n",
        "        this.game = game;\n",
        "    }\n",
        "\n",
        "    public void startGame() {\n",
        "        game.play();\n",
        "    }\n",
        "\n",
        "    public void pauseGame() {\n",
        "        game.pause();\n",
        "    }\n",
        "}\n",
        "```"
      ],
      "metadata": {
        "id": "bU5S_dN8JIRg"
      }
    },
    {
      "cell_type": "markdown",
      "source": [
        "## Sample Code\n",
        "To get started, let's show how to fully implement resetable in the context of one class ("
      ],
      "metadata": {
        "id": "d_0fkt1fZ_jS"
      }
    },
    {
      "cell_type": "code",
      "source": [
        "%%writefile Resetable.java\n",
        "\n",
        "public  interface  Resetable  {\n",
        "  void  reset();\n",
        "}"
      ],
      "metadata": {
        "colab": {
          "base_uri": "https://localhost:8080/"
        },
        "id": "Mp7LHrsEZ6s2",
        "outputId": "1f9c2bd9-4dd5-4c56-923b-3e5f3315e9cd"
      },
      "execution_count": null,
      "outputs": [
        {
          "output_type": "stream",
          "name": "stdout",
          "text": [
            "Writing Resetable.java\n"
          ]
        }
      ]
    },
    {
      "cell_type": "code",
      "source": [
        "!javac Resetable.java"
      ],
      "metadata": {
        "id": "_91porqVaUBA"
      },
      "execution_count": null,
      "outputs": []
    },
    {
      "cell_type": "markdown",
      "source": [
        "Now, let's implement the `Bowler` class:"
      ],
      "metadata": {
        "id": "O_P6KdQUaXwv"
      }
    },
    {
      "cell_type": "code",
      "source": [
        "%%writefile Bowler.java\n",
        "\n",
        "public class Bowler implements Resetable {\n",
        "    private String name;\n",
        "    private int score;\n",
        "\n",
        "    public Bowler(String name) {\n",
        "        this.name = name;\n",
        "        this.score = 0;\n",
        "    }\n",
        "\n",
        "    public String getName() {\n",
        "        return name;\n",
        "    }\n",
        "\n",
        "    public int getScore() {\n",
        "        return score;\n",
        "    }\n",
        "\n",
        "    public void setScore(int score) {\n",
        "        this.score = score;\n",
        "    }\n",
        "\n",
        "    public void bowlFrame(int pinsKnocked) {\n",
        "        score += pinsKnocked;\n",
        "        System.out.println(name + \" bowled a frame and knocked down \" + pinsKnocked + \" pins.\");\n",
        "    }\n",
        "\n",
        "    @Override\n",
        "    public void reset() {\n",
        "        score = 0;\n",
        "        System.out.println(name + \"'s score has been reset to \" + score);\n",
        "    }\n",
        "}"
      ],
      "metadata": {
        "colab": {
          "base_uri": "https://localhost:8080/"
        },
        "id": "GZBIRWZdbEbb",
        "outputId": "b973e93e-1378-418d-ad26-5c01ecad8c7c"
      },
      "execution_count": null,
      "outputs": [
        {
          "output_type": "stream",
          "name": "stdout",
          "text": [
            "Writing Bowler.java\n"
          ]
        }
      ]
    },
    {
      "cell_type": "code",
      "source": [
        "!javac Bowler.java"
      ],
      "metadata": {
        "id": "hAuFRkulbT--"
      },
      "execution_count": null,
      "outputs": []
    },
    {
      "cell_type": "markdown",
      "source": [
        "In this implementation, the `Bowler` class has a constructor that takes the bowler's name, and it initializes the score to 0. It also provides methods to get and set the score, as well as a `bowlFrame()` method to simulate bowling a frame and updating the score.\n",
        "\n",
        "The `reset()` method is implemented as required by the `Resetable` interface. It sets the score back to 0 and prints a message indicating that the bowler's score has been reset.\n",
        "\n",
        "Now, let's create a `BowlerTest` class to demonstrate the usage of the `Bowler` class and the `reset()` method:"
      ],
      "metadata": {
        "id": "pEsV59babRpH"
      }
    },
    {
      "cell_type": "code",
      "source": [
        "%%writefile BowlerTest.java\n",
        "public class BowlerTest {\n",
        "    public static void main(String[] args) {\n",
        "        Bowler theDude = new Bowler(\"The Dude\");\n",
        "        Bowler walterSobchak = new Bowler(\"Walter Sobchak\");\n",
        "        Bowler donnyKerabatsos = new Bowler(\"Donny Kerabatsos\");\n",
        "\n",
        "        theDude.bowlFrame(7);\n",
        "        walterSobchak.bowlFrame(10);\n",
        "        donnyKerabatsos.bowlFrame(6);\n",
        "\n",
        "        System.out.println(\"Scores before reset:\");\n",
        "        System.out.println(theDude.getName() + \": \" + theDude.getScore());\n",
        "        System.out.println(walterSobchak.getName() + \": \" + walterSobchak.getScore());\n",
        "        System.out.println(donnyKerabatsos.getName() + \": \" + donnyKerabatsos.getScore());\n",
        "\n",
        "        System.out.println(\"\\nResetting scores...\");\n",
        "        theDude.reset();\n",
        "        walterSobchak.reset();\n",
        "        donnyKerabatsos.reset();\n",
        "\n",
        "        System.out.println(\"\\nScores after reset:\");\n",
        "        System.out.println(theDude.getName() + \": \" + theDude.getScore());\n",
        "        System.out.println(walterSobchak.getName() + \": \" + walterSobchak.getScore());\n",
        "        System.out.println(donnyKerabatsos.getName() + \": \" + donnyKerabatsos.getScore());\n",
        "    }\n",
        "}"
      ],
      "metadata": {
        "colab": {
          "base_uri": "https://localhost:8080/"
        },
        "id": "mnyBkQHObSyR",
        "outputId": "b310da73-42bd-4019-c748-4760a29d5c38"
      },
      "execution_count": null,
      "outputs": [
        {
          "output_type": "stream",
          "name": "stdout",
          "text": [
            "Overwriting BowlerTest.java\n"
          ]
        }
      ]
    },
    {
      "cell_type": "code",
      "source": [
        "!javac BowlerTest.java"
      ],
      "metadata": {
        "id": "vXbeM-6vbcTF"
      },
      "execution_count": null,
      "outputs": []
    },
    {
      "cell_type": "code",
      "source": [
        "!java BowlerTest"
      ],
      "metadata": {
        "colab": {
          "base_uri": "https://localhost:8080/"
        },
        "id": "lkQMgvg9bhJ1",
        "outputId": "1d9b3556-20ef-4bf8-aa9c-c94c0694a8b3"
      },
      "execution_count": null,
      "outputs": [
        {
          "output_type": "stream",
          "name": "stdout",
          "text": [
            "The Dude bowled a frame and knocked down 7 pins.\n",
            "Walter Sobchak bowled a frame and knocked down 10 pins.\n",
            "Donny Kerabatsos bowled a frame and knocked down 6 pins.\n",
            "Scores before reset:\n",
            "The Dude: 7\n",
            "Walter Sobchak: 10\n",
            "Donny Kerabatsos: 6\n",
            "\n",
            "Resetting scores...\n",
            "The Dude's score has been reset to 0\n",
            "Walter Sobchak's score has been reset to 0\n",
            "Donny Kerabatsos's score has been reset to 0\n",
            "\n",
            "Scores after reset:\n",
            "The Dude: 0\n",
            "Walter Sobchak: 0\n",
            "Donny Kerabatsos: 0\n"
          ]
        }
      ]
    },
    {
      "cell_type": "markdown",
      "source": [
        "### Exercise: Bowling Alley Lane\n",
        " Implement a `Lane` class that represents a bowling alley lane. The lane should have attributes and methods to manage its state and behavior.\n",
        "\n",
        "1.  The `Lane` class should implement the `Resetable` interface, which defines the `reset()` method.\n",
        "2.  Implement the following attributes in the `Lane` class:\n",
        "    -   `number` (int): The lane number.\n",
        "    -   `isOccupied` (boolean): Indicates whether the lane is currently occupied by a bowler.\n",
        "    -   `bowler` (String): The name of the bowler currently occupying the lane (optional).\n",
        "3.  Implement a constructor for the `Lane` class that takes the lane number as a parameter and initializes the lane attributes appropriately.\n",
        "4.  Implement the following methods in the `Lane` class:\n",
        "    -   `getNumber()`: Returns the lane number.\n",
        "    -   `isOccupied()`: Returns the current occupancy status of the lane.\n",
        "    -   `getBowler()`: Returns the bowler currently occupying the lane (if any).\n",
        "    -   `assignBowler(Bowler bowler)`: Assigns a bowler to the lane and sets the occupancy status to true.\n",
        "    -   `releaseBowler()`: Removes the bowler from the lane and sets the occupancy status to false.\n",
        "    -   `reset()`: Resets the lane by releasing the bowler and setting the occupancy status to false.\n",
        "5.  Test your implementation by creating instances of the `Lane` class in `LaneTest` class, assigning bowlers, and resetting the lanes.\n",
        "\n"
      ],
      "metadata": {
        "id": "ioq47pBsJ6Yr"
      }
    },
    {
      "cell_type": "code",
      "source": [
        "%%writefile Lane.java\n",
        "public  class  Lane  implements  Resetable  {\n",
        "  // ...\n",
        "  @Override   public  void  reset()  {\n",
        "    isOccupied =  false;   }\n",
        "    }"
      ],
      "metadata": {
        "id": "EGfOcX7jKF5D"
      },
      "execution_count": null,
      "outputs": []
    },
    {
      "cell_type": "code",
      "source": [
        "!javac Resetable.java\n",
        "!javac Lane.java"
      ],
      "metadata": {
        "id": "V8S5LhUwLZRp"
      },
      "execution_count": null,
      "outputs": []
    },
    {
      "cell_type": "code",
      "source": [
        "%%writefile LaneTest.java\n",
        "public class LaneTest{\n",
        "\n",
        "\n",
        "\n",
        "}"
      ],
      "metadata": {
        "id": "jSrk7FrRLYSq"
      },
      "execution_count": null,
      "outputs": []
    }
  ]
}