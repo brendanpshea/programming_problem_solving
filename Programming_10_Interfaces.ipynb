{
  "nbformat": 4,
  "nbformat_minor": 0,
  "metadata": {
    "colab": {
      "provenance": [],
      "authorship_tag": "ABX9TyMoWv4QHIp6Kho8aI1r/wk8",
      "include_colab_link": true
    },
    "kernelspec": {
      "name": "python3",
      "display_name": "Python 3"
    },
    "language_info": {
      "name": "python"
    }
  },
  "cells": [
    {
      "cell_type": "markdown",
      "metadata": {
        "id": "view-in-github",
        "colab_type": "text"
      },
      "source": [
        "<a href=\"https://colab.research.google.com/github/brendanpshea/programming_problem_solving/blob/main/Programming_10_Interfaces.ipynb\" target=\"_parent\"><img src=\"https://colab.research.google.com/assets/colab-badge.svg\" alt=\"Open In Colab\"/></a>"
      ]
    },
    {
      "cell_type": "markdown",
      "source": [
        "# Bowling for Interfaces\n",
        "### Brendan Shea, PhD\n",
        "\n",
        "In Object-Oriented Programming (OOP), we use classes to encapsulate data and behavior into reusable components. Classes define the properties (attributes) and methods (behaviors) of objects, and we can create instances of these classes to represent specific entities in our program.\n",
        "\n",
        "Java supports several fundamental concepts of OOP, including:\n",
        "\n",
        "1.  **Encapsulation.** Bundling data and methods into a single unit (class) and controlling access to the internal state of an object.\n",
        "2.  **Inheritance.** Creating new classes based on existing classes, allowing for code reuse and hierarchical relationships between classes.\n",
        "3.  **Polymorphism.** Treating objects of different classes as objects of a common superclass, enabling more flexible and modular code.\n",
        "4.  **Abstraction** Focusing on the essential features of an object and hiding unnecessary details, providing a simplified and generalized view of the system.\n",
        "\n",
        "These concepts help us create well-structured, maintainable, and extensible code. However, there are situations where we need to define a set of methods that are common to different classes, but these classes don't necessarily share a common superclass. This is where interfaces come into play.\n",
        "\n",
        "An interface in Java is a collection of abstract methods (methods without a body) and constant variables. It defines a contract that classes can implement, specifying a set of methods that the implementing classes must provide. Interfaces allow us to define common behavior that can be shared across different classes, regardless of their inheritance hierarchy.\n",
        "\n",
        "Now, let's introduce a case study to illustrate the concept of interfaces in Java. Imagine we're building a bowling alley management system inspired by the movie \"The Big Lebowski\". In this system, we have various classes representing different aspects of the bowling alley, such as `Bowler`, `Lane`, `Ball`, and `Score`.\n",
        "\n",
        "```java\n",
        "public  class  Bowler  {\n",
        "  private  String name;\n",
        "  private  int score;\n",
        "  // Constructor, getters, and setters  \n",
        "  }\n",
        "\n",
        "public  class  Lane  {\n",
        "  private  int number;\n",
        "  private  boolean isOccupied;\n",
        "  // Constructor, getters, and setters  \n",
        "  }\n",
        "\n",
        "public  class  Ball  {   \n",
        "  private  String color;   \n",
        "  private  int weight;\n",
        "  // Constructor, getters, and setters  \n",
        "  }\n",
        "\n",
        "public  class  Score  {   \n",
        "  private  int value;   \n",
        "  private  int frameNumber;\n",
        "  // Constructor, getters, and setters  \n",
        "  }\n",
        "```\n",
        "\n",
        "While these classes represent different entities in our system, they don't necessarily share a common superclass. However, we can identify a common behavior that some of these classes should have: the ability to reset their state.\n",
        "\n",
        "For example, when a game is over, we might want to reset the `Bowler`'s score, the `Lane`'s occupied status, and the `Score` object's value and frame number. We can define this common behavior using an interface.\n",
        "\n",
        "To define an interface in Java, you use the `interface` keyword followed by the name of the interface. The proper syntax for defining an interface is as follows:\n",
        "\n",
        "```java\n",
        "public  interface  InterfaceName  {    \n",
        "  // Method declarations   \n",
        "  returnType methodName(parameters);     \n",
        "  // Constant declarations   \n",
        "  dataType CONSTANT_NAME = value;  }\n",
        "```\n",
        "Here's an example of defining the `Resetable` interface:\n",
        "\n",
        "```java\n",
        "public  interface  Resetable  {   \n",
        "  void  reset();  \n",
        "}\n",
        "```\n",
        "\n",
        "Now, any class that needs to have the ability to reset its state can implement the `Resetable` interface and provide its own implementation of the `reset()` method.\n",
        "\n",
        "```java\n",
        "public  class  Bowler  implements  Resetable  {\n",
        "     // ...\n",
        "     @Override   public  void  reset()  {  \n",
        "    score =  0;   }  \n",
        "    }\n",
        "public  class  Lane  implements  Resetable  {   \n",
        "  // ...\n",
        "  @Override   public  void  reset()  {  \n",
        "    isOccupied =  false;   }  \n",
        "    }\n",
        "public  class  Score  implements  Resetable  {   \n",
        "  // ...\n",
        "  @Override   \n",
        "  public  void  reset()  {  \n",
        "    value =  0;  \n",
        "    frameNumber =  1;   \n",
        "    }  \n",
        "    }\n",
        "```\n",
        "\n",
        "When a class implements an interface, it agrees to adhere to the contract defined by the interface. This has several implications:\n",
        "\n",
        "1.  The class must provide implementations for all the methods declared in the interface. If a class fails to implement any of the interface methods, it will result in a compilation error.\n",
        "2.  The class can be treated as an instance of the interface type. This allows for polymorphism, where an object of the implementing class can be assigned to a variable of the interface type.\n",
        "3.  Implementing an interface enables loose coupling between classes. It allows classes to interact with each other based on the interface contract, rather than being tightly coupled to specific implementations.\n",
        "\n",
        "Interfaces allow us to define a contract that classes can adhere to, promoting a clear and consistent structure across different classes. They enable us to write more modular and flexible code, as we can work with objects based on their interface rather than their specific class.\n",
        "\n",
        "As we continue exploring the bowling alley management system, we'll see how interfaces can help us create a well-designed and maintainable codebase, just like how the Dude abides by his own code and adapts to the various characters and situations he encounters in the movie."
      ],
      "metadata": {
        "id": "DUCO2ggoYu0q"
      }
    },
    {
      "cell_type": "markdown",
      "source": [
        "### A Class Can Implement Multiple Interfaces\n",
        "You might notice that interfaces are a bit like abstract classes. However, in Java, a class can only have ONE abstract class as its \"parent.\" By contrast, a class can implement mutiple interfaces, so long as it follows the \"rules\" for each of them. To further illustrate this, let's consider another example, this time related to the \"Playable\" interface.\n",
        "\n",
        "```java\n",
        "public interface Playable {\n",
        "    void play();\n",
        "    void pause();\n",
        "}\n",
        "\n",
        "public class BowlingGame implements Resetable, Playable {\n",
        "    // Implementations of reset(), play(), and pause() methods\n",
        "}\n",
        "\n",
        "public class GameManager {\n",
        "    private Playable game;\n",
        "\n",
        "    public void setGame(Playable game) {\n",
        "        this.game = game;\n",
        "    }\n",
        "\n",
        "    public void startGame() {\n",
        "        game.play();\n",
        "    }\n",
        "\n",
        "    public void pauseGame() {\n",
        "        game.pause();\n",
        "    }\n",
        "}\n",
        "```"
      ],
      "metadata": {
        "id": "bU5S_dN8JIRg"
      }
    },
    {
      "cell_type": "markdown",
      "source": [
        "## Sample Code\n",
        "To get started, let's show how to fully implement resetable in the context of one class ("
      ],
      "metadata": {
        "id": "d_0fkt1fZ_jS"
      }
    },
    {
      "cell_type": "code",
      "source": [
        "%%writefile Resetable.java\n",
        "\n",
        "public  interface  Resetable  {\n",
        "  void  reset();\n",
        "}"
      ],
      "metadata": {
        "colab": {
          "base_uri": "https://localhost:8080/"
        },
        "id": "Mp7LHrsEZ6s2",
        "outputId": "1f9c2bd9-4dd5-4c56-923b-3e5f3315e9cd"
      },
      "execution_count": null,
      "outputs": [
        {
          "output_type": "stream",
          "name": "stdout",
          "text": [
            "Writing Resetable.java\n"
          ]
        }
      ]
    },
    {
      "cell_type": "code",
      "source": [
        "!javac Resetable.java"
      ],
      "metadata": {
        "id": "_91porqVaUBA"
      },
      "execution_count": null,
      "outputs": []
    },
    {
      "cell_type": "markdown",
      "source": [
        "Now, let's implement a `SimpleBowler` class (later, we'll be implementing a slightly more complex version):"
      ],
      "metadata": {
        "id": "O_P6KdQUaXwv"
      }
    },
    {
      "cell_type": "code",
      "source": [
        "%%writefile SimpleBowler.java\n",
        "\n",
        "public class SimpleBowler implements Resetable {\n",
        "    private String name;\n",
        "    private int score;\n",
        "\n",
        "    public SimpleBowler(String name) {\n",
        "        this.name = name;\n",
        "        this.score = 0;\n",
        "    }\n",
        "\n",
        "    public String getName() {\n",
        "        return name;\n",
        "    }\n",
        "\n",
        "    public int getScore() {\n",
        "        return score;\n",
        "    }\n",
        "\n",
        "    public void setScore(int score) {\n",
        "        this.score = score;\n",
        "    }\n",
        "\n",
        "    public void bowlFrame(int pinsKnocked) {\n",
        "        score += pinsKnocked;\n",
        "        System.out.println(name + \" bowled a frame and knocked down \" + pinsKnocked + \" pins.\");\n",
        "    }\n",
        "\n",
        "    @Override\n",
        "    public void reset() {\n",
        "        score = 0;\n",
        "        System.out.println(name + \"'s score has been reset to \" + score);\n",
        "    }\n",
        "}"
      ],
      "metadata": {
        "colab": {
          "base_uri": "https://localhost:8080/"
        },
        "id": "GZBIRWZdbEbb",
        "outputId": "f349a362-e107-476a-e228-243876eaac83"
      },
      "execution_count": 5,
      "outputs": [
        {
          "output_type": "stream",
          "name": "stdout",
          "text": [
            "Writing SimpleBowler.java\n"
          ]
        }
      ]
    },
    {
      "cell_type": "code",
      "source": [
        "!javac Bowler.java"
      ],
      "metadata": {
        "id": "hAuFRkulbT--"
      },
      "execution_count": 6,
      "outputs": []
    },
    {
      "cell_type": "markdown",
      "source": [
        "In this implementation, the `Bowler` class has a constructor that takes the bowler's name, and it initializes the score to 0. It also provides methods to get and set the score, as well as a `bowlFrame()` method to simulate bowling a frame and updating the score.\n",
        "\n",
        "The `reset()` method is implemented as required by the `Resetable` interface. It sets the score back to 0 and prints a message indicating that the bowler's score has been reset.\n",
        "\n",
        "Now, let's create a `BowlerTest` class to demonstrate the usage of the `Bowler` class and the `reset()` method:"
      ],
      "metadata": {
        "id": "pEsV59babRpH"
      }
    },
    {
      "cell_type": "code",
      "source": [
        "%%writefile SimpleBowlerTest.java\n",
        "public class SimpleBowlerTest {\n",
        "    public static void main(String[] args) {\n",
        "        SimpleBowler theDude = new SimpleBowler(\"The Dude\");\n",
        "        SimpleBowler walterSobchak = new SimpleBowler(\"Walter Sobchak\");\n",
        "        SimpleBowler donnyKerabatsos = new SimpleBowler(\"Donny Kerabatsos\");\n",
        "\n",
        "        theDude.bowlFrame(7);\n",
        "        walterSobchak.bowlFrame(10);\n",
        "        donnyKerabatsos.bowlFrame(6);\n",
        "\n",
        "        System.out.println(\"Scores before reset:\");\n",
        "        System.out.println(theDude.getName() + \": \" + theDude.getScore());\n",
        "        System.out.println(walterSobchak.getName() + \": \" + walterSobchak.getScore());\n",
        "        System.out.println(donnyKerabatsos.getName() + \": \" + donnyKerabatsos.getScore());\n",
        "\n",
        "        System.out.println(\"\\nResetting scores...\");\n",
        "        theDude.reset();\n",
        "        walterSobchak.reset();\n",
        "        donnyKerabatsos.reset();\n",
        "\n",
        "        System.out.println(\"\\nScores after reset:\");\n",
        "        System.out.println(theDude.getName() + \": \" + theDude.getScore());\n",
        "        System.out.println(walterSobchak.getName() + \": \" + walterSobchak.getScore());\n",
        "        System.out.println(donnyKerabatsos.getName() + \": \" + donnyKerabatsos.getScore());\n",
        "    }\n",
        "}"
      ],
      "metadata": {
        "colab": {
          "base_uri": "https://localhost:8080/"
        },
        "id": "mnyBkQHObSyR",
        "outputId": "c5815665-d178-47ae-b493-6ccee58d3960"
      },
      "execution_count": 10,
      "outputs": [
        {
          "output_type": "stream",
          "name": "stdout",
          "text": [
            "Overwriting SimpleBowlerTest.java\n"
          ]
        }
      ]
    },
    {
      "cell_type": "code",
      "source": [
        "!javac SimpleBowlerTest.java"
      ],
      "metadata": {
        "id": "vXbeM-6vbcTF"
      },
      "execution_count": 11,
      "outputs": []
    },
    {
      "cell_type": "code",
      "source": [
        "!java BowlerTest"
      ],
      "metadata": {
        "colab": {
          "base_uri": "https://localhost:8080/"
        },
        "id": "lkQMgvg9bhJ1",
        "outputId": "1d9b3556-20ef-4bf8-aa9c-c94c0694a8b3"
      },
      "execution_count": null,
      "outputs": [
        {
          "output_type": "stream",
          "name": "stdout",
          "text": [
            "The Dude bowled a frame and knocked down 7 pins.\n",
            "Walter Sobchak bowled a frame and knocked down 10 pins.\n",
            "Donny Kerabatsos bowled a frame and knocked down 6 pins.\n",
            "Scores before reset:\n",
            "The Dude: 7\n",
            "Walter Sobchak: 10\n",
            "Donny Kerabatsos: 6\n",
            "\n",
            "Resetting scores...\n",
            "The Dude's score has been reset to 0\n",
            "Walter Sobchak's score has been reset to 0\n",
            "Donny Kerabatsos's score has been reset to 0\n",
            "\n",
            "Scores after reset:\n",
            "The Dude: 0\n",
            "Walter Sobchak: 0\n",
            "Donny Kerabatsos: 0\n"
          ]
        }
      ]
    },
    {
      "cell_type": "markdown",
      "source": [
        "### Exercise: Bowling Alley Lane\n",
        " Implement a `Lane` class that represents a bowling alley lane. The lane should have attributes and methods to manage its state and behavior.\n",
        "\n",
        "1.  The `Lane` class should implement the `Resetable` interface, which defines the `reset()` method.\n",
        "2.  Implement the following attributes in the `Lane` class:\n",
        "    -   `number` (int): The lane number.\n",
        "    -   `isOccupied` (boolean): Indicates whether the lane is currently occupied by a bowler.\n",
        "    -   `bowler` (String): The name of the bowler currently occupying the lane (optional).\n",
        "3.  Implement a constructor for the `Lane` class that takes the lane number as a parameter and initializes the lane attributes appropriately.\n",
        "4.  Implement the following methods in the `Lane` class:\n",
        "    -   `getNumber()`: Returns the lane number.\n",
        "    -   `isOccupied()`: Returns the current occupancy status of the lane.\n",
        "    -   `getBowler()`: Returns the bowler currently occupying the lane (if any).\n",
        "    -   `assignBowler(Bowler bowler)`: Assigns a bowler to the lane and sets the occupancy status to true.\n",
        "    -   `releaseBowler()`: Removes the bowler from the lane and sets the occupancy status to false.\n",
        "    -   `reset()`: Resets the lane by releasing the bowler and setting the occupancy status to false.\n",
        "5.  Test your implementation by creating instances of the `Lane` class in `LaneTest` class, assigning bowlers, and resetting the lanes.\n",
        "\n"
      ],
      "metadata": {
        "id": "ioq47pBsJ6Yr"
      }
    },
    {
      "cell_type": "code",
      "source": [
        "%%writefile Lane.java\n",
        "public  class  Lane  implements  Resetable  {\n",
        "  // ...\n",
        "  @Override   public  void  reset()  {\n",
        "    isOccupied =  false;   }\n",
        "    }"
      ],
      "metadata": {
        "id": "EGfOcX7jKF5D"
      },
      "execution_count": null,
      "outputs": []
    },
    {
      "cell_type": "markdown",
      "source": [],
      "metadata": {
        "id": "LEw0VhPFL7_s"
      }
    },
    {
      "cell_type": "code",
      "source": [
        "!javac Resetable.java\n",
        "!javac Lane.java"
      ],
      "metadata": {
        "id": "V8S5LhUwLZRp"
      },
      "execution_count": null,
      "outputs": []
    },
    {
      "cell_type": "code",
      "source": [
        "%%writefile LaneTest.java\n",
        "public class LaneTest{\n",
        "\n",
        "\n",
        "\n",
        "}"
      ],
      "metadata": {
        "id": "jSrk7FrRLYSq"
      },
      "execution_count": null,
      "outputs": []
    },
    {
      "cell_type": "code",
      "source": [
        "!javac LaneTest.java"
      ],
      "metadata": {
        "id": "Rh5pNtKkL34O"
      },
      "execution_count": null,
      "outputs": []
    },
    {
      "cell_type": "code",
      "source": [
        "!java LaneTest"
      ],
      "metadata": {
        "id": "kyEBGF7VL6Ft"
      },
      "execution_count": null,
      "outputs": []
    },
    {
      "cell_type": "markdown",
      "source": [
        "## Case Study: Software Engineering\n",
        "\n",
        "Picture this: you're the manager of a beloved bowling alley frequented by the likes of The Dude, Walter Sobchak, and their eccentric friends. The alley has been using a manual scoring system, but as business picks up, you realize it's time to modernize and streamline operations.\n",
        "\n",
        "Enter the nihilists - a group of talented programmers who promise to build a cutting-edge bowling score tracking system. However, their lack of software engineering expertise quickly becomes apparent as the project spirals out of control. The requirements are vague, the design is chaotic, and the code is as convoluted as the plot of a Coen brothers' movie.\n",
        "\n",
        "Frustrated and desperate, you decide to take matters into your own hands and embark on a journey to develop a reliable and efficient bowling score tracking program. To ensure success, you turn to the software development lifecycle (SDLC) - a structured approach that will guide you through the process of building high-quality software.\n",
        "\n",
        "The SDLC consists of several key stages, each playing a crucial role in the development of your bowling score tracking program:\n",
        "\n",
        "1.  **Requirements Gathering.** This stage is all about understanding what your bowling alley needs. You'll interview stakeholders (like The Dude and Walter), observe current processes, and document the features and functionalities the program must have, such as tracking scores, managing lanes and bowlers, and generating reports. Think of this stage as gathering intel for a big heist - the more detailed and accurate your requirements, the smoother the rest of the project will go.\n",
        "2.  **Design.** With the requirements in hand, it's time to put on your architect hat and plan the structure of your program. You'll use object-oriented design principles to create a modular and extensible architecture, defining classes for lanes, bowlers, and scores, and interfaces for common behavior. You'll also sketch out the user interface, ensuring it's as cool and intuitive as a White Russian. This stage is like drawing up blueprints for your software masterpiece.\n",
        "3.  **Implementation.** Now, the real fun begins! You'll channel your inner programmer and start writing code, bringing your design to life. This is where you'll leverage object-oriented programming concepts, like encapsulation and inheritance, to create clean, maintainable, and efficient code. You'll also make sure to follow best practices, like using proper naming conventions and commenting your code, so that future maintainers (or your future self) can easily understand what's going on.\n",
        "4.  **Testing.** Before you unleash your program on the unsuspecting bowlers, you need to make sure it's as solid as a 7-10 split. This is where testing comes in - you'll write unit tests, perform integration testing, and conduct user acceptance testing to ensure the program meets all the requirements and works flawlessly. You'll also use debugging techniques to identify and fix any issues that crop up, like bugs in the score calculation or glitches in the user interface.\n",
        "5.  **Deployment.** Once your program is tested and ready, it's time to deploy it to the bowling alley's computer system. This stage involves packaging the program, configuring the environment, and providing clear installation instructions. You'll also train the staff on how to use the new system, making sure they're as comfortable with it as The Dude is with his bowling shoes.\n",
        "6.  **Maintenance.** Your work doesn't end once the program is deployed. You'll need to provide ongoing support and maintenance, fixing any bugs that arise, updating the software to keep up with changing requirements, and enhancing the program based on user feedback. This stage is like being the guardian angel of your software, always watching over it and making sure it stays in top form.\n",
        "\n",
        "By following the SDLC and applying its stages to the development of your bowling score tracking program, you'll avoid the chaos and confusion that plagued the nihilists' project. Instead, you'll create a robust, reliable, and user-friendly system that will keep your bowlers happy and your alley running smoothly. So, take a deep breath, grab your bowling ball, and let's embark on this software development adventure together!"
      ],
      "metadata": {
        "id": "rz3i9ZyMMEY8"
      }
    },
    {
      "cell_type": "markdown",
      "source": [
        "### Requirements Gathering\n",
        "Requirements gathering is a critical stage in the software development lifecycle where the team aims to identify and document the key requirements for the project. In the context of our bowling alley score tracking program, this involves understanding the needs and expectations of the various stakeholders, such as the alley owner, staff, and bowlers.\n",
        "\n",
        "To gather requirements effectively, we can employ several techniques:\n",
        "\n",
        "1.  Conducting **interviews** with stakeholders allows us to have in-depth conversations about their needs, preferences, and pain points. By asking questions like \"What features would enhance your bowling experience?\" or \"How can we improve score tracking accuracy and efficiency?\", we can gain valuable insights into their requirements.\n",
        "2.  **Surveys** are a useful tool for gathering feedback from a larger group of users. We can create questionnaires that focus on specific aspects of the bowling experience, such as lane management, league play, and player statistics. This helps us collect comprehensive and representative requirements from a diverse range of users.\n",
        "3. **User stories** are a way to capture requirements from the user's perspective. They follow a simple format: \"As a [type of user], I want [some goal] so that [some reason].\" For example, \"As a league bowler, I want to view my average score over the past month so that I can track my progress and identify areas for improvement.\" User stories help us understand the user's needs in a concise and relatable manner.\n",
        "\n",
        "Once the requirements are gathered, it's essential to document them clearly and thoroughly. Requirements documentation should include details such as the purpose, priority, and acceptance criteria for each requirement. Using diagrams, flowcharts, and mockups can help visualize complex processes and user interfaces. It's also crucial to keep the documentation updated throughout the project lifecycle as requirements may evolve and change."
      ],
      "metadata": {
        "id": "endeWfcsP0LG"
      }
    },
    {
      "cell_type": "markdown",
      "source": [
        "#### Example: Requirements\n",
        "At the end of the day, let's suppose we have a long list of requirements, which include the following:\n",
        "\n",
        "1.  The system shall accurately calculate and display the score for each frame bowled by a player.\n",
        "2.  The system shall support tracking scores for up to 10 frames per game, following the standard bowling scoring rules.\n",
        "3.  The system shall allow players to input the number of pins knocked down for each throw in a frame.\n",
        "4.  The system shall automatically calculate and display the total score for each player at the end of the game.\n",
        "5.  The system shall handle spare and strike calculations correctly, adhering to the bowling scoring guidelines.\n",
        "6.  The system shall display an error message if the number of pins knocked down in a single throw exceeds 10.\n",
        "7.  The system shall provide an option to correct or modify scores for a specific frame during the game.\n",
        "\n",
        "In writing these requirements, we try to do the following:\n",
        "\n",
        "1.  Each requirement is stated in a clear and specific manner, leaving no room for ambiguity. For example, \"The system shall accurately calculate and display the score for each frame bowled by a player\" clearly states what the system needs to do and what is expected of it.\n",
        "2. The requirements are phrased in a way that makes them measurable and testable (or \"falsiable\"). For instance, \"The system shall support tracking scores for up to 10 frames per game, following the standard bowling scoring rules\" can be easily verified by testing the system with different game scenarios and checking if the scores are tracked correctly for 10 frames.\n",
        "3.  The requirements are realistic and achievable within the scope of the project. They focus on the core functionalities needed for score tracking without introducing unnecessary complexity.\n",
        "\n",
        "By phrasing the requirements as clear, complete, and falsifiable statements, we ensure that the development team has a solid understanding of what needs to be built. It helps in avoiding ambiguity, reducing misinterpretations, and providing a basis for testing and validation.\n",
        "\n",
        "Moreover, well-defined requirements act as a contract between the stakeholders and the development team. They set clear expectations and provide a reference point for evaluating the success of the project. By having a comprehensive set of requirements, the team can prioritize their work, make informed decisions, and deliver a system that meets the needs of the users."
      ],
      "metadata": {
        "id": "nbqWtdXeP9rk"
      }
    },
    {
      "cell_type": "markdown",
      "source": [
        "### The Design Phase\n",
        "Designing the architecture and user interface of our bowling score tracking program is a crucial step in ensuring its modularity, extensibility, and user-friendliness. Before diving into the actual coding, it's important to review the principles of object-oriented design (OOD) and how they can be applied to our program's architecture.\n",
        "\n",
        "OOD is a programming paradigm that organizes software design around objects, which are instances of classes. Let's revisit the main principles of OOD:\n",
        "\n",
        "1.  **Classes** are the blueprints for creating objects. They define the attributes (data) and methods (behavior) that objects of that class will possess. In our bowling score tracking program, we have identified several key classes, such as `Person`, `Bowler`, `Staff`, `Lane`, `Game`, and `Score`.\n",
        "2.  **Encapsulation** is the practice of bundling data and methods within a class and controlling access to them. By encapsulating the internal details of an object and providing a public interface, we ensure that the program is modular and maintainable. For example, the `Bowler` class encapsulates the bowler's name, age, and average score, while providing methods to update and retrieve these values.\n",
        "3.  **Inheritance** allows classes to inherit attributes and methods from other classes, promoting code reuse and hierarchical relationships. In our program, we have created an abstract base class called `Person` with common attributes like name and age. The `Bowler` and `Staff` classes inherit from `Person`, inheriting its attributes and methods.\n",
        "4.  **Polymorphism.** Polymorphism enables objects of different classes to be treated as objects of a common parent class or interface. It allows for flexibility and extensibility in the program's design. For instance, we have defined the `Resetable` interface, which declares the `reset()` method. The `Bowler`, `Lane`, and `Game` classes implement this interface, allowing them to be reset to their initial state polymorphically.\n",
        "\n",
        "Here are some key points to consider during the design phase:\n",
        "\n",
        "1.   Create a class diagram that illustrates the classes in our program, their attributes, methods, and relationships. The class diagram helps in visualizing the overall structure of the program and how the classes interact with each other.\n",
        "2.  Identify and define abstract classes and interfaces that specify common behavior across multiple classes. In our program, we have defined the `Resetable` interface, which declares the `reset()` method. Similarly, we have made the `Person` class an abstract class, providing a base for the `Bowler` and `Staff` classes. Abstract classes allow for code reuse and provide a foundation for inheritance.\n",
        "3.  Create mockups or wireframes of the user interface to visualize how the program will look and feel. Consider incorporating the Big Lebowski theme into the design, using elements like bowling pins, lanes, and characters from the movie. The UI should be intuitive, visually appealing, and provide a seamless user experience. (Here, we're not going to do this!).\n",
        "\n",
        "By focusing on the design phase and utilizing tools like UML diagrams and UI mockups, we can create a clear blueprint for our program before starting the actual coding. This approach ensures that we have a solid foundation and a well-thought-out architecture that adheres to the principles of OOD."
      ],
      "metadata": {
        "id": "7qUFSH5rTiAy"
      }
    },
    {
      "cell_type": "markdown",
      "source": [
        "### Implementation\n",
        "When implementing our bowling score tracking program, it's crucial to consider key aspects that contribute to writing clean, maintainable, and efficient code. Let's focus on the implementation of a `BowlerRevised` class and its dependencies, while highlighting the importance of coding best practices and demonstrating how to leverage object-oriented programming concepts.\n",
        "\n",
        "First, we'll implement the `Person` abstract class and the `Resetable` interface, which the (revised) `Bowler` class depends on. Then, we'll implement the rest of the Bowler clss."
      ],
      "metadata": {
        "id": "Qm32xMFIWBzc"
      }
    },
    {
      "cell_type": "code",
      "source": [
        "%%writefile Bowler.java\n",
        "\n",
        "\n",
        "// Person\n",
        "\n",
        "abstract class Person {\n",
        "    protected String name;\n",
        "    protected int age;\n",
        "\n",
        "    public Person(String name, int age) {\n",
        "        this.name = name;\n",
        "        this.age = age;\n",
        "    }\n",
        "    public abstract void introduceSelf();\n",
        "\n",
        "    public String getName(){\n",
        "        return name;\n",
        "    }\n",
        "\n",
        "    public int getAge(){\n",
        "      return age;\n",
        "    }\n",
        "}\n",
        "\n",
        "\n",
        "// Resetable\n",
        "\n",
        "interface Resetable {\n",
        "    void reset();\n",
        "}\n",
        "\n",
        "\n",
        "// Bowler\n",
        "class Bowler extends Person implements Resetable {\n",
        "    private static int nextBowlerID = 1;\n",
        "    private int bowlerID;\n",
        "    private double averageScore;\n",
        "\n",
        "    public Bowler(String name, int age) {\n",
        "        super(name, age);\n",
        "        this.bowlerID = nextBowlerID++;\n",
        "        this.averageScore = 0.0;\n",
        "    }\n",
        "\n",
        "\n",
        "\n",
        "    public int getBowlerID() {\n",
        "        return bowlerID;\n",
        "    }\n",
        "\n",
        "    public double getAverageScore() {\n",
        "        return averageScore;\n",
        "    }\n",
        "\n",
        "    public void updateAverageScore(int score) {\n",
        "        // TODO: Implement logic to update the average score based on the new score\n",
        "    }\n",
        "\n",
        "    @Override\n",
        "    public void introduceSelf() {\n",
        "        System.out.println(\"Hello, my name is \" + name + \", and I'm a bowler!\");\n",
        "    }\n",
        "\n",
        "    @Override\n",
        "    public void reset() {\n",
        "        averageScore = 0.0;\n",
        "    }\n",
        "}"
      ],
      "metadata": {
        "colab": {
          "base_uri": "https://localhost:8080/"
        },
        "id": "j-kSy1cXPXV4",
        "outputId": "8b62bbfb-c207-4109-fe74-9926d146b33f"
      },
      "execution_count": 34,
      "outputs": [
        {
          "output_type": "stream",
          "name": "stdout",
          "text": [
            "Overwriting Bowler.java\n"
          ]
        }
      ]
    },
    {
      "cell_type": "code",
      "source": [
        "!javac Bowler.java"
      ],
      "metadata": {
        "id": "vvZjNSxTXW7t"
      },
      "execution_count": 35,
      "outputs": []
    },
    {
      "cell_type": "markdown",
      "source": [
        "Let's break down the implementation:\n",
        "\n",
        "1.  The `BowlerRevised` class extends the `Person` abstract class and implements the `Resetable` interface, indicating that it inherits the properties and methods of `Person` and must provide an implementation for the `reset()` method.\n",
        "2.  We introduce a **static variable** `nextBowlerID` to assign unique IDs to each bowler. This variable is incremented every time a new bowler is created. (So, this variable belongs to class Bowler, than to any individual bowler).\n",
        "3.  The `BowlerRevised` class has additional attributes: `bowlerID` (unique identifier) and `averageScore` (average bowling score).\n",
        "4.  The constructor takes the bowler's name and age and calls the `super` constructor to initialize the inherited properties. It assigns a unique `bowlerID` using `nextBowlerID` and initializes `averageScore` to 0.0.\n",
        "5.  Getter methods (`getBowlerID()` and `getAverageScore()`) are provided to access the bowler's ID and average score.\n",
        "6.  The `updateAverageScore()` method is responsible for updating the bowler's average score based on a new score. The implementation logic is left as a TODO comment for now.\n",
        "7.  The `introduceSelf()` method is an implementation of the abstract method from the `Person` class. It introduces the bowler by printing a message that includes their name.\n",
        "8.  The `reset()` method is the implementation of the `Resetable` interface. It resets the bowler's average score to 0.0.\n",
        "\n",
        "Now, let's (breifly) discuss some coding best practices and how they are applied in this implementation:\n",
        "\n",
        "1.  Use Proper Naming Conventions.\n",
        "    -   Class names are in PascalCase (e.g., `Person`, `Bowler`, `Resetable`).\n",
        "    -   Method names and variable names are in camelCase (e.g., `introduceSelf()`, `updateAverageScore()`, `averageScore`).\n",
        "    -   Constant names are in UPPER_SNAKE_CASE (not used in this example).\n",
        "2.  Comments and Documentation: Not too many, not too few.\n",
        "    -   Use comments to explain complex logic or provide clarifications where necessary. In this example, a TODO comment is used to indicate where the implementation logic for updating the average score needs to be added.\n",
        "    -   Provide meaningful and concise comments to enhance code readability and maintainability.\n",
        "3.   Encapsulate this!\n",
        "    -   Encapsulate the internal state of objects by declaring attributes as private (e.g., `bowlerID`, `averageScore`).\n",
        "    -   Provide getter methods (`getBowlerID()`, `getAverageScore()`) to access the object's state externally.\n",
        "4.  Inheritance and Polymorphism are your friends.\n",
        "    -   Utilize inheritance to create specialized classes (`Bowler`) based on a more general class (`Person`).\n",
        "    -   Implement interfaces (`Resetable`) to define common behavior that classes must adhere to.\n",
        "    -   Override methods (`introduceSelf()`) to provide class-specific implementations.\n",
        "\n",
        "By following these coding best practices and leveraging object-oriented programming concepts, we can create a clean, maintainable, and efficient implementation of the `Bowler` class and its dependencies."
      ],
      "metadata": {
        "id": "ucBy8ADoWkKh"
      }
    },
    {
      "cell_type": "markdown",
      "source": [
        "### Introduction to Unit Testing\n",
        "**Unit testing** is a software testing technique where individual units or components of a program are tested in isolation to verify their correctness. The goal of unit testing is to validate that each unit of the software performs as expected and meets the specified requirements. By writing and executing unit tests, we can catch bugs early, ensure code integrity, and maintain a high level of confidence in our codebase.\n",
        "\n",
        "In the context of our bowling score tracking program, let's focus on writing unit tests for the Bowler class. We'll use a popular testing framework called JUnit to define and run our tests.\n",
        "\n",
        "#### Example Unit Tests for the Bowler Class\n",
        "First, let's create a new class called BowlerTest to house our unit tests.\n"
      ],
      "metadata": {
        "id": "VhNtdUbrb5FP"
      }
    },
    {
      "cell_type": "code",
      "source": [
        "%%writefile BowlerTest.java\n",
        "import org.junit.jupiter.api.Assertions;\n",
        "import org.junit.jupiter.api.Test;\n",
        "\n",
        "class BowlerTest {\n",
        "\n",
        "    @Test\n",
        "    void testBowlerCreation() {\n",
        "        Bowler bowler = new Bowler(\"The Dude\", 30);\n",
        "        Assertions.assertEquals(\"The Dude\", bowler.getName());\n",
        "        Assertions.assertEquals(30, bowler.getAge());\n",
        "        Assertions.assertTrue(bowler.getBowlerID() > 0);\n",
        "        Assertions.assertEquals(0.0, bowler.getAverageScore());\n",
        "    }\n",
        "\n",
        "    @Test\n",
        "    void testUpdateAverageScore() {\n",
        "        Bowler bowler = new Bowler(\"Walter Sobchak\", 35);\n",
        "        bowler.updateAverageScore(200);\n",
        "        bowler.updateAverageScore(180);\n",
        "        Assertions.assertEquals(190.0, bowler.getAverageScore());\n",
        "    }\n",
        "\n",
        "    @Test\n",
        "    void testReset() {\n",
        "        Bowler bowler = new Bowler(\"Donny\", 25);\n",
        "        bowler.updateAverageScore(160);\n",
        "        bowler.reset();\n",
        "        Assertions.assertEquals(0.0, bowler.getAverageScore());\n",
        "    }\n",
        "}"
      ],
      "metadata": {
        "colab": {
          "base_uri": "https://localhost:8080/"
        },
        "id": "xjxSEbPUXSnd",
        "outputId": "6391f7ab-15a2-4cec-ed2f-01360762575e"
      },
      "execution_count": 36,
      "outputs": [
        {
          "output_type": "stream",
          "name": "stdout",
          "text": [
            "Overwriting BowlerTest.java\n"
          ]
        }
      ]
    },
    {
      "cell_type": "markdown",
      "source": [
        "In this `BowlerTest` class, we define three unit tests:\n",
        "\n",
        "1.  `testBowlerCreation()`:\n",
        "    -   This test verifies that a `Bowler` object is created correctly with the provided name and age.\n",
        "    -   We use **assertions** to check that the `getName()`, `getAge()`, `getBowlerID()`, and `getAverageScore()` methods return the expected values.\n",
        "2.  `testUpdateAverageScore()`:\n",
        "    -   This test checks the functionality of the `updateAverageScore()` method.\n",
        "    -   We create a bowler, update their average score with two scores, and assert that the calculated average score matches the expected value.\n",
        "    - Since we haven't implemented this yet, we expect this test to FAIL.\n",
        "3.  `testReset()`:\n",
        "    -   This test ensures that the `reset()` method works as intended.\n",
        "    -   We create a bowler, update their average score, call the `reset()` method, and assert that the average score is reset to 0.0.\n",
        "\n",
        "By writing these unit tests, we can verify the expected behavior of the `Bowler` class and its methods. We use the `Assertions` class provided by JUnit to make assertions about the expected values and the actual values returned by the methods."
      ],
      "metadata": {
        "id": "53cAVKh0czSq"
      }
    },
    {
      "cell_type": "markdown",
      "source": [
        "While JUnit tests are almost always carried either using an IDE (such as Eclipse, VSCode, IntelliJ, NetBeans) or from the  project managers that underly these (like Maven or Gradle), they *can* be run from the command line, as follows (note I wouldn't recommend running them this way!)."
      ],
      "metadata": {
        "id": "FUK7A9QGgzGY"
      }
    },
    {
      "cell_type": "code",
      "source": [
        "!wget https://github.com/brendanpshea/programming_problem_solving/raw/main/java/junit-platform-console-standalone-1.9.3.jar -q\n",
        "!javac -cp junit-platform-console-standalone-1.9.3.jar Bowler.java BowlerTest.java\n",
        "!java -jar junit-platform-console-standalone-1.9.3.jar --class-path . --select-class BowlerTest"
      ],
      "metadata": {
        "colab": {
          "base_uri": "https://localhost:8080/"
        },
        "id": "VKfMwjWhedRy",
        "outputId": "069b8abf-c2ad-4977-b1fe-fdcae76d62eb"
      },
      "execution_count": 40,
      "outputs": [
        {
          "output_type": "stream",
          "name": "stdout",
          "text": [
            "\n",
            "Thanks for using JUnit! Support its development at https://junit.org/sponsoring\n",
            "\n",
            "\u001b[36m╷\u001b[0m\n",
            "\u001b[36m├─\u001b[0m \u001b[36mJUnit Jupiter\u001b[0m \u001b[32m✔\u001b[0m\n",
            "\u001b[36m│  └─\u001b[0m \u001b[36mBowlerTest\u001b[0m \u001b[32m✔\u001b[0m\n",
            "\u001b[36m│     ├─\u001b[0m \u001b[31mtestUpdateAverageScore()\u001b[0m \u001b[31m✘\u001b[0m \u001b[31mexpected: <190.0> but was: <0.0>\u001b[0m\n",
            "\u001b[36m│     ├─\u001b[0m \u001b[34mtestReset()\u001b[0m \u001b[32m✔\u001b[0m\n",
            "\u001b[36m│     └─\u001b[0m \u001b[34mtestBowlerCreation()\u001b[0m \u001b[32m✔\u001b[0m\n",
            "\u001b[36m├─\u001b[0m \u001b[36mJUnit Vintage\u001b[0m \u001b[32m✔\u001b[0m\n",
            "\u001b[36m└─\u001b[0m \u001b[36mJUnit Platform Suite\u001b[0m \u001b[32m✔\u001b[0m\n",
            "\n",
            "Failures (1):\n",
            "  JUnit Jupiter:BowlerTest:testUpdateAverageScore()\n",
            "    MethodSource [className = 'BowlerTest', methodName = 'testUpdateAverageScore', methodParameterTypes = '']\n",
            "    => org.opentest4j.AssertionFailedError: expected: <190.0> but was: <0.0>\n",
            "       org.junit.jupiter.api.AssertionFailureBuilder.build(AssertionFailureBuilder.java:151)\n",
            "       org.junit.jupiter.api.AssertionFailureBuilder.buildAndThrow(AssertionFailureBuilder.java:132)\n",
            "       org.junit.jupiter.api.AssertEquals.failNotEqual(AssertEquals.java:197)\n",
            "       org.junit.jupiter.api.AssertEquals.assertEquals(AssertEquals.java:70)\n",
            "       org.junit.jupiter.api.AssertEquals.assertEquals(AssertEquals.java:65)\n",
            "       org.junit.jupiter.api.Assertions.assertEquals(Assertions.java:886)\n",
            "       BowlerTest.testUpdateAverageScore(BowlerTest.java:20)\n",
            "       java.base/jdk.internal.reflect.NativeMethodAccessorImpl.invoke0(Native Method)\n",
            "       java.base/jdk.internal.reflect.NativeMethodAccessorImpl.invoke(NativeMethodAccessorImpl.java:62)\n",
            "       java.base/jdk.internal.reflect.DelegatingMethodAccessorImpl.invoke(DelegatingMethodAccessorImpl.java:43)\n",
            "       [...]\n",
            "\n",
            "Test run finished after 170 ms\n",
            "[         4 containers found      ]\n",
            "[         0 containers skipped    ]\n",
            "[         4 containers started    ]\n",
            "[         0 containers aborted    ]\n",
            "[         4 containers successful ]\n",
            "[         0 containers failed     ]\n",
            "[         3 tests found           ]\n",
            "[         0 tests skipped         ]\n",
            "[         3 tests started         ]\n",
            "[         0 tests aborted         ]\n",
            "[         2 tests successful      ]\n",
            "[         1 tests failed          ]\n",
            "\n"
          ]
        }
      ]
    }
  ]
}