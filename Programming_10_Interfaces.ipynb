{
  "nbformat": 4,
  "nbformat_minor": 0,
  "metadata": {
    "colab": {
      "provenance": [],
      "authorship_tag": "ABX9TyPlnNirDU+cLREeAI0ZCRyn",
      "include_colab_link": true
    },
    "kernelspec": {
      "name": "python3",
      "display_name": "Python 3"
    },
    "language_info": {
      "name": "python"
    }
  },
  "cells": [
    {
      "cell_type": "markdown",
      "metadata": {
        "id": "view-in-github",
        "colab_type": "text"
      },
      "source": [
        "<a href=\"https://colab.research.google.com/github/brendanpshea/programming_problem_solving/blob/main/Programming_10_Interfaces.ipynb\" target=\"_parent\"><img src=\"https://colab.research.google.com/assets/colab-badge.svg\" alt=\"Open In Colab\"/></a>"
      ]
    },
    {
      "cell_type": "markdown",
      "source": [
        "# Software Engineering at the Bowling Alley: Interfaces, Design Principles, and Unit Testing\n",
        "### Brendan Shea, PhD\n",
        "\n",
        "In Object-Oriented Programming (OOP), we use classes to encapsulate data and behavior into reusable components. Classes define the properties (attributes) and methods (behaviors) of objects, and we can create instances of these classes to represent specific entities in our program.\n",
        "\n",
        "Java supports several fundamental concepts of OOP, including:\n",
        "\n",
        "1.  **Encapsulation.** Bundling data and methods into a single unit (class) and controlling access to the internal state of an object.\n",
        "2.  **Inheritance.** Creating new classes based on existing classes, allowing for code reuse and hierarchical relationships between classes.\n",
        "3.  **Polymorphism.** Treating objects of different classes as objects of a common superclass, enabling more flexible and modular code.\n",
        "4.  **Abstraction** Focusing on the essential features of an object and hiding unnecessary details, providing a simplified and generalized view of the system.\n",
        "\n",
        "These concepts help us create well-structured, maintainable, and extensible code. However, there are situations where we need to define a set of methods that are common to different classes, but these classes don't necessarily share a common superclass. This is where interfaces come into play.\n",
        "\n",
        "An interface in Java is a collection of abstract methods (methods without a body) and constant variables. It defines a contract that classes can implement, specifying a set of methods that the implementing classes must provide. Interfaces allow us to define common behavior that can be shared across different classes, regardless of their inheritance hierarchy.\n",
        "\n",
        "Now, let's introduce a case study to illustrate the concept of interfaces in Java. Imagine we're building a bowling alley management system inspired by the movie \"The Big Lebowski\". In this system, we have various classes representing different aspects of the bowling alley, such as `Bowler`, `Lane`, `Ball`, and `Score`.\n",
        "\n",
        "```java\n",
        "public  class  Bowler  {\n",
        "  private  String name;\n",
        "  private  int score;\n",
        "  // Constructor, getters, and setters  \n",
        "  }\n",
        "\n",
        "public  class  Lane  {\n",
        "  private  int number;\n",
        "  private  boolean isOccupied;\n",
        "  // Constructor, getters, and setters  \n",
        "  }\n",
        "\n",
        "public  class  Ball  {   \n",
        "  private  String color;   \n",
        "  private  int weight;\n",
        "  // Constructor, getters, and setters  \n",
        "  }\n",
        "\n",
        "public  class  Score  {   \n",
        "  private  int value;   \n",
        "  private  int frameNumber;\n",
        "  // Constructor, getters, and setters  \n",
        "  }\n",
        "```\n",
        "\n",
        "While these classes represent different entities in our system, they don't necessarily share a common superclass. However, we can identify a common behavior that some of these classes should have: the ability to reset their state.\n",
        "\n",
        "For example, when a game is over, we might want to reset the `Bowler`'s score, the `Lane`'s occupied status, and the `Score` object's value and frame number. We can define this common behavior using an interface.\n",
        "\n",
        "To define an interface in Java, you use the `interface` keyword followed by the name of the interface. The proper syntax for defining an interface is as follows:\n",
        "\n",
        "```java\n",
        "public  interface  InterfaceName  {    \n",
        "  // Method declarations   \n",
        "  returnType methodName(parameters);     \n",
        "  // Constant declarations   \n",
        "  dataType CONSTANT_NAME = value;  }\n",
        "```\n",
        "Here's an example of defining the `Resetable` interface:\n",
        "\n",
        "```java\n",
        "public  interface  Resetable  {   \n",
        "  void  reset();  \n",
        "}\n",
        "```\n",
        "\n",
        "Now, any class that needs to have the ability to reset its state can implement the `Resetable` interface and provide its own implementation of the `reset()` method.\n",
        "\n",
        "```java\n",
        "public  class  Bowler  implements  Resetable  {\n",
        "     // ...\n",
        "     @Override   public  void  reset()  {  \n",
        "    score =  0;   }  \n",
        "    }\n",
        "public  class  Lane  implements  Resetable  {   \n",
        "  // ...\n",
        "  @Override   public  void  reset()  {  \n",
        "    isOccupied =  false;   }  \n",
        "    }\n",
        "public  class  Score  implements  Resetable  {   \n",
        "  // ...\n",
        "  @Override   \n",
        "  public  void  reset()  {  \n",
        "    value =  0;  \n",
        "    frameNumber =  1;   \n",
        "    }  \n",
        "    }\n",
        "```\n",
        "\n",
        "When a class implements an interface, it agrees to adhere to the contract defined by the interface. This has several implications:\n",
        "\n",
        "1.  The class must provide implementations for all the methods declared in the interface. If a class fails to implement any of the interface methods, it will result in a compilation error.\n",
        "2.  The class can be treated as an instance of the interface type. This allows for polymorphism, where an object of the implementing class can be assigned to a variable of the interface type.\n",
        "3.  Implementing an interface enables loose coupling between classes. It allows classes to interact with each other based on the interface contract, rather than being tightly coupled to specific implementations.\n",
        "\n",
        "Interfaces allow us to define a contract that classes can adhere to, promoting a clear and consistent structure across different classes. They enable us to write more modular and flexible code, as we can work with objects based on their interface rather than their specific class.\n",
        "\n",
        "As we continue exploring the bowling alley management system, we'll see how interfaces can help us create a well-designed and maintainable codebase, just like how the Dude abides by his own code and adapts to the various characters and situations he encounters in the movie."
      ],
      "metadata": {
        "id": "DUCO2ggoYu0q"
      }
    },
    {
      "cell_type": "markdown",
      "source": [
        "### A Class Can Implement Multiple Interfaces\n",
        "You might notice that interfaces are a bit like abstract classes. However, in Java, a class can only have ONE abstract class as its \"parent.\" By contrast, a class can implement mutiple interfaces, so long as it follows the \"rules\" for each of them. To further illustrate this, let's consider another example, this time related to the \"Playable\" interface.\n",
        "\n",
        "```java\n",
        "public interface Playable {\n",
        "    void play();\n",
        "    void pause();\n",
        "}\n",
        "\n",
        "public class BowlingGame implements Resetable, Playable {\n",
        "    // Implementations of reset(), play(), and pause() methods\n",
        "}\n",
        "\n",
        "public class GameManager {\n",
        "    private Playable game;\n",
        "\n",
        "    public void setGame(Playable game) {\n",
        "        this.game = game;\n",
        "    }\n",
        "\n",
        "    public void startGame() {\n",
        "        game.play();\n",
        "    }\n",
        "\n",
        "    public void pauseGame() {\n",
        "        game.pause();\n",
        "    }\n",
        "}\n",
        "```"
      ],
      "metadata": {
        "id": "bU5S_dN8JIRg"
      }
    },
    {
      "cell_type": "markdown",
      "source": [
        "## Sample Code\n",
        "To get started, let's show how to fully implement resetable in the context of one class ("
      ],
      "metadata": {
        "id": "d_0fkt1fZ_jS"
      }
    },
    {
      "cell_type": "code",
      "source": [
        "%%writefile Resetable.java\n",
        "\n",
        "public  interface  Resetable  {\n",
        "  void  reset();\n",
        "}"
      ],
      "metadata": {
        "colab": {
          "base_uri": "https://localhost:8080/"
        },
        "id": "Mp7LHrsEZ6s2",
        "outputId": "e222240e-575f-4850-f94a-6a59164b5e79"
      },
      "execution_count": 3,
      "outputs": [
        {
          "output_type": "stream",
          "name": "stdout",
          "text": [
            "Writing Resetable.java\n"
          ]
        }
      ]
    },
    {
      "cell_type": "code",
      "source": [
        "!javac Resetable.java"
      ],
      "metadata": {
        "id": "_91porqVaUBA"
      },
      "execution_count": 4,
      "outputs": []
    },
    {
      "cell_type": "markdown",
      "source": [
        "Now, let's implement a `SimpleBowler` class (later, we'll be implementing a slightly more complex version):"
      ],
      "metadata": {
        "id": "O_P6KdQUaXwv"
      }
    },
    {
      "cell_type": "code",
      "source": [
        "%%writefile SimpleBowler.java\n",
        "\n",
        "public class SimpleBowler implements Resetable {\n",
        "    private String name;\n",
        "    private int score;\n",
        "\n",
        "    public SimpleBowler(String name) {\n",
        "        this.name = name;\n",
        "        this.score = 0;\n",
        "    }\n",
        "\n",
        "    public String getName() {\n",
        "        return name;\n",
        "    }\n",
        "\n",
        "    public int getScore() {\n",
        "        return score;\n",
        "    }\n",
        "\n",
        "    public void setScore(int score) {\n",
        "        this.score = score;\n",
        "    }\n",
        "\n",
        "    public void bowlFrame(int pinsKnocked) {\n",
        "        score += pinsKnocked;\n",
        "        System.out.println(name + \" bowled a frame and knocked down \" + pinsKnocked + \" pins.\");\n",
        "    }\n",
        "\n",
        "    @Override\n",
        "    public void reset() {\n",
        "        score = 0;\n",
        "        System.out.println(name + \"'s score has been reset to \" + score);\n",
        "    }\n",
        "}"
      ],
      "metadata": {
        "colab": {
          "base_uri": "https://localhost:8080/"
        },
        "id": "GZBIRWZdbEbb",
        "outputId": "90364048-f6c1-4415-94b4-7ca59aace97e"
      },
      "execution_count": 5,
      "outputs": [
        {
          "output_type": "stream",
          "name": "stdout",
          "text": [
            "Overwriting SimpleBowler.java\n"
          ]
        }
      ]
    },
    {
      "cell_type": "code",
      "source": [
        "!javac SimpleBowler.java"
      ],
      "metadata": {
        "id": "hAuFRkulbT--",
        "outputId": "accf73d0-fc47-4118-8a97-02069a090b5a",
        "colab": {
          "base_uri": "https://localhost:8080/"
        }
      },
      "execution_count": 2,
      "outputs": [
        {
          "output_type": "stream",
          "name": "stdout",
          "text": [
            "SimpleBowler.java:2: error: cannot find symbol\n",
            "public class SimpleBowler implements Resetable {\n",
            "                                     ^\n",
            "  symbol: class Resetable\n",
            "SimpleBowler.java:28: error: method does not override or implement a method from a supertype\n",
            "    @Override\n",
            "    ^\n",
            "2 errors\n"
          ]
        }
      ]
    },
    {
      "cell_type": "markdown",
      "source": [
        "In this implementation, the `Bowler` class has a constructor that takes the bowler's name, and it initializes the score to 0. It also provides methods to get and set the score, as well as a `bowlFrame()` method to simulate bowling a frame and updating the score.\n",
        "\n",
        "The `reset()` method is implemented as required by the `Resetable` interface. It sets the score back to 0 and prints a message indicating that the bowler's score has been reset.\n",
        "\n",
        "Now, let's create a `BowlerTest` class to demonstrate the usage of the `Bowler` class and the `reset()` method:"
      ],
      "metadata": {
        "id": "pEsV59babRpH"
      }
    },
    {
      "cell_type": "code",
      "source": [
        "%%writefile SimpleBowlerTest.java\n",
        "public class SimpleBowlerTest {\n",
        "    public static void main(String[] args) {\n",
        "        SimpleBowler theDude = new SimpleBowler(\"The Dude\");\n",
        "        SimpleBowler walterSobchak = new SimpleBowler(\"Walter Sobchak\");\n",
        "        SimpleBowler donnyKerabatsos = new SimpleBowler(\"Donny Kerabatsos\");\n",
        "\n",
        "        theDude.bowlFrame(7);\n",
        "        walterSobchak.bowlFrame(10);\n",
        "        donnyKerabatsos.bowlFrame(6);\n",
        "\n",
        "        System.out.println(\"Scores before reset:\");\n",
        "        System.out.println(theDude.getName() + \": \" + theDude.getScore());\n",
        "        System.out.println(walterSobchak.getName() + \": \" + walterSobchak.getScore());\n",
        "        System.out.println(donnyKerabatsos.getName() + \": \" + donnyKerabatsos.getScore());\n",
        "\n",
        "        System.out.println(\"\\nResetting scores...\");\n",
        "        theDude.reset();\n",
        "        walterSobchak.reset();\n",
        "        donnyKerabatsos.reset();\n",
        "\n",
        "        System.out.println(\"\\nScores after reset:\");\n",
        "        System.out.println(theDude.getName() + \": \" + theDude.getScore());\n",
        "        System.out.println(walterSobchak.getName() + \": \" + walterSobchak.getScore());\n",
        "        System.out.println(donnyKerabatsos.getName() + \": \" + donnyKerabatsos.getScore());\n",
        "    }\n",
        "}"
      ],
      "metadata": {
        "colab": {
          "base_uri": "https://localhost:8080/"
        },
        "id": "mnyBkQHObSyR",
        "outputId": "2f88661a-6317-47f5-f6d8-383eea90d87d"
      },
      "execution_count": 6,
      "outputs": [
        {
          "output_type": "stream",
          "name": "stdout",
          "text": [
            "Writing SimpleBowlerTest.java\n"
          ]
        }
      ]
    },
    {
      "cell_type": "code",
      "source": [
        "!javac SimpleBowlerTest.java"
      ],
      "metadata": {
        "id": "vXbeM-6vbcTF"
      },
      "execution_count": 7,
      "outputs": []
    },
    {
      "cell_type": "code",
      "source": [
        "!java SimpleBowlerTest"
      ],
      "metadata": {
        "colab": {
          "base_uri": "https://localhost:8080/"
        },
        "id": "lkQMgvg9bhJ1",
        "outputId": "e015f2fc-1385-4e1b-dfd5-33272624b8bb"
      },
      "execution_count": 8,
      "outputs": [
        {
          "output_type": "stream",
          "name": "stdout",
          "text": [
            "The Dude bowled a frame and knocked down 7 pins.\n",
            "Walter Sobchak bowled a frame and knocked down 10 pins.\n",
            "Donny Kerabatsos bowled a frame and knocked down 6 pins.\n",
            "Scores before reset:\n",
            "The Dude: 7\n",
            "Walter Sobchak: 10\n",
            "Donny Kerabatsos: 6\n",
            "\n",
            "Resetting scores...\n",
            "The Dude's score has been reset to 0\n",
            "Walter Sobchak's score has been reset to 0\n",
            "Donny Kerabatsos's score has been reset to 0\n",
            "\n",
            "Scores after reset:\n",
            "The Dude: 0\n",
            "Walter Sobchak: 0\n",
            "Donny Kerabatsos: 0\n"
          ]
        }
      ]
    },
    {
      "cell_type": "markdown",
      "source": [
        "### Exercise: Bowling Alley Lane\n",
        " Implement a `Lane` class that represents a bowling alley lane. The lane should have attributes and methods to manage its state and behavior.\n",
        "\n",
        "1.  The `Lane` class should implement the `Resetable` interface, which defines the `reset()` method.\n",
        "2.  Implement the following attributes in the `Lane` class:\n",
        "    -   `number` (int): The lane number.\n",
        "    -   `isOccupied` (boolean): Indicates whether the lane is currently occupied by a bowler.\n",
        "    -   `bowler` (String): The name of the bowler currently occupying the lane (optional).\n",
        "3.  Implement a constructor for the `Lane` class that takes the lane number as a parameter and initializes the lane attributes appropriately.\n",
        "4.  Implement the following methods in the `Lane` class:\n",
        "    -   `getNumber()`: Returns the lane number.\n",
        "    -   `isOccupied()`: Returns the current occupancy status of the lane.\n",
        "    -   `getBowler()`: Returns the bowler currently occupying the lane (if any).\n",
        "    -   `assignBowler(Bowler bowler)`: Assigns a bowler to the lane and sets the occupancy status to true.\n",
        "    -   `releaseBowler()`: Removes the bowler from the lane and sets the occupancy status to false.\n",
        "    -   `reset()`: Resets the lane by releasing the bowler and setting the occupancy status to false.\n",
        "5.  Test your implementation by creating instances of the `Lane` class in `LaneTest` class, assigning bowlers, and resetting the lanes.\n",
        "\n"
      ],
      "metadata": {
        "id": "ioq47pBsJ6Yr"
      }
    },
    {
      "cell_type": "code",
      "source": [
        "%%writefile Lane.java\n",
        "public  class  Lane  implements  Resetable  {\n",
        "  // ...\n",
        "  @Override   public  void  reset()  {\n",
        "    isOccupied =  false;   }\n",
        "    }"
      ],
      "metadata": {
        "id": "EGfOcX7jKF5D"
      },
      "execution_count": null,
      "outputs": []
    },
    {
      "cell_type": "markdown",
      "source": [],
      "metadata": {
        "id": "LEw0VhPFL7_s"
      }
    },
    {
      "cell_type": "code",
      "source": [
        "!javac Resetable.java\n",
        "!javac Lane.java"
      ],
      "metadata": {
        "id": "V8S5LhUwLZRp"
      },
      "execution_count": null,
      "outputs": []
    },
    {
      "cell_type": "code",
      "source": [
        "%%writefile LaneTest.java\n",
        "public class LaneTest{\n",
        "\n",
        "\n",
        "\n",
        "}"
      ],
      "metadata": {
        "id": "jSrk7FrRLYSq"
      },
      "execution_count": null,
      "outputs": []
    },
    {
      "cell_type": "code",
      "source": [
        "!javac LaneTest.java"
      ],
      "metadata": {
        "id": "Rh5pNtKkL34O"
      },
      "execution_count": null,
      "outputs": []
    },
    {
      "cell_type": "code",
      "source": [
        "!java LaneTest"
      ],
      "metadata": {
        "id": "kyEBGF7VL6Ft"
      },
      "execution_count": null,
      "outputs": []
    },
    {
      "cell_type": "markdown",
      "source": [
        "## Case Study: Software Engineering\n",
        "\n",
        "Picture this: you're the manager of a beloved bowling alley frequented by the likes of The Dude, Walter Sobchak, and their eccentric friends. The alley has been using a manual scoring system, but as business picks up, you realize it's time to modernize and streamline operations.\n",
        "\n",
        "Enter the nihilists - a group of talented programmers who promise to build a cutting-edge bowling score tracking system. However, their lack of software engineering expertise quickly becomes apparent as the project spirals out of control. The requirements are vague, the design is chaotic, and the code is as convoluted as the plot of a Coen brothers' movie.\n",
        "\n",
        "Frustrated and desperate, you decide to take matters into your own hands and embark on a journey to develop a reliable and efficient bowling score tracking program. To ensure success, you turn to the software development lifecycle (SDLC) - a structured approach that will guide you through the process of building high-quality software.\n",
        "\n",
        "The SDLC consists of several key stages, each playing a crucial role in the development of your bowling score tracking program:\n",
        "\n",
        "1.  **Requirements Gathering.** This stage is all about understanding what your bowling alley needs. You'll interview stakeholders (like The Dude and Walter), observe current processes, and document the features and functionalities the program must have, such as tracking scores, managing lanes and bowlers, and generating reports. Think of this stage as gathering intel for a big heist - the more detailed and accurate your requirements, the smoother the rest of the project will go.\n",
        "2.  **Design.** With the requirements in hand, it's time to put on your architect hat and plan the structure of your program. You'll use object-oriented design principles to create a modular and extensible architecture, defining classes for lanes, bowlers, and scores, and interfaces for common behavior. You'll also sketch out the user interface, ensuring it's as cool and intuitive as a White Russian. This stage is like drawing up blueprints for your software masterpiece.\n",
        "3.  **Implementation.** Now, the real fun begins! You'll channel your inner programmer and start writing code, bringing your design to life. This is where you'll leverage object-oriented programming concepts, like encapsulation and inheritance, to create clean, maintainable, and efficient code. You'll also make sure to follow best practices, like using proper naming conventions and commenting your code, so that future maintainers (or your future self) can easily understand what's going on.\n",
        "4.  **Testing.** Before you unleash your program on the unsuspecting bowlers, you need to make sure it's as solid as a 7-10 split. This is where testing comes in - you'll write unit tests, perform integration testing, and conduct user acceptance testing to ensure the program meets all the requirements and works flawlessly. You'll also use debugging techniques to identify and fix any issues that crop up, like bugs in the score calculation or glitches in the user interface.\n",
        "5.  **Deployment.** Once your program is tested and ready, it's time to deploy it to the bowling alley's computer system. This stage involves packaging the program, configuring the environment, and providing clear installation instructions. You'll also train the staff on how to use the new system, making sure they're as comfortable with it as The Dude is with his bowling shoes.\n",
        "6.  **Maintenance.** Your work doesn't end once the program is deployed. You'll need to provide ongoing support and maintenance, fixing any bugs that arise, updating the software to keep up with changing requirements, and enhancing the program based on user feedback. This stage is like being the guardian angel of your software, always watching over it and making sure it stays in top form.\n",
        "\n",
        "By following the SDLC and applying its stages to the development of your bowling score tracking program, you'll avoid the chaos and confusion that plagued the nihilists' project. Instead, you'll create a robust, reliable, and user-friendly system that will keep your bowlers happy and your alley running smoothly. So, take a deep breath, grab your bowling ball, and let's embark on this software development adventure together!"
      ],
      "metadata": {
        "id": "rz3i9ZyMMEY8"
      }
    },
    {
      "cell_type": "markdown",
      "source": [
        "### Requirements Gathering\n",
        "Requirements gathering is a critical stage in the software development lifecycle where the team aims to identify and document the key requirements for the project. In the context of our bowling alley score tracking program, this involves understanding the needs and expectations of the various stakeholders, such as the alley owner, staff, and bowlers.\n",
        "\n",
        "To gather requirements effectively, we can employ several techniques:\n",
        "\n",
        "1.  Conducting **interviews** with stakeholders allows us to have in-depth conversations about their needs, preferences, and pain points. By asking questions like \"What features would enhance your bowling experience?\" or \"How can we improve score tracking accuracy and efficiency?\", we can gain valuable insights into their requirements.\n",
        "2.  **Surveys** are a useful tool for gathering feedback from a larger group of users. We can create questionnaires that focus on specific aspects of the bowling experience, such as lane management, league play, and player statistics. This helps us collect comprehensive and representative requirements from a diverse range of users.\n",
        "3. **User stories** are a way to capture requirements from the user's perspective. They follow a simple format: \"As a [type of user], I want [some goal] so that [some reason].\" For example, \"As a league bowler, I want to view my average score over the past month so that I can track my progress and identify areas for improvement.\" User stories help us understand the user's needs in a concise and relatable manner.\n",
        "\n",
        "Once the requirements are gathered, it's essential to document them clearly and thoroughly. Requirements documentation should include details such as the purpose, priority, and acceptance criteria for each requirement. Using diagrams, flowcharts, and mockups can help visualize complex processes and user interfaces. It's also crucial to keep the documentation updated throughout the project lifecycle as requirements may evolve and change."
      ],
      "metadata": {
        "id": "endeWfcsP0LG"
      }
    },
    {
      "cell_type": "markdown",
      "source": [
        "#### Example: Requirements\n",
        "At the end of the day, let's suppose we have a long list of requirements, which include the following:\n",
        "\n",
        "1.  The system shall accurately calculate and display the score for each frame bowled by a player.\n",
        "2.  The system shall support tracking scores for up to 10 frames per game, following the standard bowling scoring rules.\n",
        "3.  The system shall allow players to input the number of pins knocked down for each throw in a frame.\n",
        "4.  The system shall automatically calculate and display the total score for each player at the end of the game.\n",
        "5.  The system shall handle spare and strike calculations correctly, adhering to the bowling scoring guidelines.\n",
        "6.  The system shall display an error message if the number of pins knocked down in a single throw exceeds 10.\n",
        "7.  The system shall provide an option to correct or modify scores for a specific frame during the game.\n",
        "\n",
        "In writing these requirements, we try to do the following:\n",
        "\n",
        "1.  Each requirement is stated in a clear and specific manner, leaving no room for ambiguity. For example, \"The system shall accurately calculate and display the score for each frame bowled by a player\" clearly states what the system needs to do and what is expected of it.\n",
        "2. The requirements are phrased in a way that makes them measurable and testable (or \"falsiable\"). For instance, \"The system shall support tracking scores for up to 10 frames per game, following the standard bowling scoring rules\" can be easily verified by testing the system with different game scenarios and checking if the scores are tracked correctly for 10 frames.\n",
        "3.  The requirements are realistic and achievable within the scope of the project. They focus on the core functionalities needed for score tracking without introducing unnecessary complexity.\n",
        "\n",
        "By phrasing the requirements as clear, complete, and falsifiable statements, we ensure that the development team has a solid understanding of what needs to be built. It helps in avoiding ambiguity, reducing misinterpretations, and providing a basis for testing and validation.\n",
        "\n",
        "Moreover, well-defined requirements act as a contract between the stakeholders and the development team. They set clear expectations and provide a reference point for evaluating the success of the project. By having a comprehensive set of requirements, the team can prioritize their work, make informed decisions, and deliver a system that meets the needs of the users."
      ],
      "metadata": {
        "id": "nbqWtdXeP9rk"
      }
    },
    {
      "cell_type": "markdown",
      "source": [
        "### The Design Phase\n",
        "Designing the architecture and user interface of our bowling score tracking program is a crucial step in ensuring its modularity, extensibility, and user-friendliness. Before diving into the actual coding, it's important to review the principles of object-oriented design (OOD) and how they can be applied to our program's architecture.\n",
        "\n",
        "OOD is a programming paradigm that organizes software design around objects, which are instances of classes. Let's revisit the main principles of OOD:\n",
        "\n",
        "1.  **Classes** are the blueprints for creating objects. They define the attributes (data) and methods (behavior) that objects of that class will possess. In our bowling score tracking program, we have identified several key classes, such as `Person`, `Bowler`, `Staff`, `Lane`, `Game`, and `Score`.\n",
        "2.  **Encapsulation** is the practice of bundling data and methods within a class and controlling access to them. By encapsulating the internal details of an object and providing a public interface, we ensure that the program is modular and maintainable. For example, the `Bowler` class encapsulates the bowler's name, age, and average score, while providing methods to update and retrieve these values.\n",
        "3.  **Inheritance** allows classes to inherit attributes and methods from other classes, promoting code reuse and hierarchical relationships. In our program, we have created an abstract base class called `Person` with common attributes like name and age. The `Bowler` and `Staff` classes inherit from `Person`, inheriting its attributes and methods.\n",
        "4.  **Polymorphism.** Polymorphism enables objects of different classes to be treated as objects of a common parent class or interface. It allows for flexibility and extensibility in the program's design. For instance, we have defined the `Resetable` interface, which declares the `reset()` method. The `Bowler`, `Lane`, and `Game` classes implement this interface, allowing them to be reset to their initial state polymorphically.\n",
        "\n",
        "Here are some key points to consider during the design phase:\n",
        "\n",
        "1.   Create a class diagram that illustrates the classes in our program, their attributes, methods, and relationships. The class diagram helps in visualizing the overall structure of the program and how the classes interact with each other.\n",
        "2.  Identify and define abstract classes and interfaces that specify common behavior across multiple classes. In our program, we have defined the `Resetable` interface, which declares the `reset()` method. Similarly, we have made the `Person` class an abstract class, providing a base for the `Bowler` and `Staff` classes. Abstract classes allow for code reuse and provide a foundation for inheritance.\n",
        "3.  Create mockups or wireframes of the user interface to visualize how the program will look and feel. Consider incorporating the Big Lebowski theme into the design, using elements like bowling pins, lanes, and characters from the movie. The UI should be intuitive, visually appealing, and provide a seamless user experience. (Here, we're not going to do this!).\n",
        "\n",
        "By focusing on the design phase and utilizing tools like UML diagrams and UI mockups, we can create a clear blueprint for our program before starting the actual coding. This approach ensures that we have a solid foundation and a well-thought-out architecture that adheres to the principles of OOD."
      ],
      "metadata": {
        "id": "7qUFSH5rTiAy"
      }
    },
    {
      "cell_type": "markdown",
      "source": [
        "### Graphic: Sample UML Diagram\n",
        "![image.png](data:image/png;base64,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)"
      ],
      "metadata": {
        "id": "H0qFtzuYDK1a"
      }
    },
    {
      "cell_type": "markdown",
      "source": [
        "#### How to Interpret UML Diagrams\n",
        "1. Each box in the diagram represents a **class** (e.g., Person, Staff, Bowler, Game, Lane).\n",
        "2. The class name is written at the top of each box.\n",
        "3. An **abstract class** is denoted by italicized text (e.g., Person).Abstract classes cannot be instantiated and are intended to be subclassed.\n",
        "4. **Inheritance** is represented by a solid line with a hollow arrowhead pointing from the subclass to the superclass. In this diagram, Staff and Bowler inherit from the abstract class Person.\n",
        "5. An **interface** is represented by a box with the «interface» stereotype (e.g., Resetable). Interfaces define a contract that classes can implement.\n",
        "6. Realization is represented by a dashed line with a hollow arrowhead pointing from the implementing class to the interface.  In this diagram, Bowler, Game, and Lane classes implement the Resetable interface.\n",
        "7. **Attributes** are listed inside the class boxes, below the class name.\n",
        "8. The **visibility** of attributes is denoted by symbols: + (public), - (private), # (protected).\n",
        "9. Attribute names are followed by their type (e.g., name: String, age: int).\n",
        "10. **Methods** are listed inside the class boxes, below the attributes. Method names are followed by parentheses () and their return type (e.g., introduceSelf(): void).  Abstract methods are italicized (e.g., introduceSelf(): void in the Person class).\n",
        "11. **Associations** represent relationships between classes.  In this diagram, there is an association between the Game class and the Bowler and Lane classes (represented by a solid lane)."
      ],
      "metadata": {
        "id": "-Ml-TXVzDwjt"
      }
    },
    {
      "cell_type": "markdown",
      "source": [
        "## Questions: SDLC\n",
        "1. Why is the software development lifecycle (SDLC) important in the development of the bowling score tracking program? How does following the SDLC help avoid the chaos and confusion experienced in the nihilists' project?\n",
        "2. Looking at the provided UML class diagram, identify the abstract class and explain its purpose. How does using an abstract class promote code reuse and provide a foundation for inheritance?\n",
        "3. The UML diagram shows that the Bowler, Game, and Lane classes implement the Resetable interface. What is the benefit of using interfaces in the design of the bowling score tracking program?"
      ],
      "metadata": {
        "id": "OrcRbGH5FxSH"
      }
    },
    {
      "cell_type": "markdown",
      "source": [
        "### Answers: SDLC\n",
        "1.\n",
        "\n",
        "2.\n",
        "\n",
        "3."
      ],
      "metadata": {
        "id": "1D-tKRssGIdt"
      }
    },
    {
      "cell_type": "markdown",
      "source": [
        "### Implementation\n",
        "When implementing our bowling score tracking program, it's crucial to consider key aspects that contribute to writing clean, maintainable, and efficient code. Let's focus on the implementation of a `BowlerRevised` class and its dependencies, while highlighting the importance of coding best practices and demonstrating how to leverage object-oriented programming concepts.\n",
        "\n",
        "First, we'll implement the `Person` abstract class and the `Resetable` interface, which the (revised) `Bowler` class depends on. Then, we'll implement the rest of the Bowler clss."
      ],
      "metadata": {
        "id": "Qm32xMFIWBzc"
      }
    },
    {
      "cell_type": "code",
      "source": [
        "%%writefile Bowler.java\n",
        "\n",
        "\n",
        "// Person\n",
        "\n",
        "abstract class Person {\n",
        "    protected String name;\n",
        "    protected int age;\n",
        "\n",
        "    public Person(String name, int age) {\n",
        "        this.name = name;\n",
        "        this.age = age;\n",
        "    }\n",
        "    public abstract void introduceSelf();\n",
        "\n",
        "    public String getName(){\n",
        "        return name;\n",
        "    }\n",
        "\n",
        "    public int getAge(){\n",
        "      return age;\n",
        "    }\n",
        "}\n",
        "\n",
        "\n",
        "// Resetable\n",
        "\n",
        "interface Resetable {\n",
        "    void reset();\n",
        "}\n",
        "\n",
        "\n",
        "// Bowler\n",
        "class Bowler extends Person implements Resetable {\n",
        "    private static int nextBowlerID = 1;\n",
        "    private int bowlerID;\n",
        "    private double averageScore;\n",
        "\n",
        "    public Bowler(String name, int age) {\n",
        "        super(name, age);\n",
        "        this.bowlerID = nextBowlerID++;\n",
        "        this.averageScore = 0.0;\n",
        "    }\n",
        "\n",
        "\n",
        "\n",
        "    public int getBowlerID() {\n",
        "        return bowlerID;\n",
        "    }\n",
        "\n",
        "    public double getAverageScore() {\n",
        "        return averageScore;\n",
        "    }\n",
        "\n",
        "    public void updateAverageScore(int score) {\n",
        "        // TODO: Implement logic to update the average score based on the new score\n",
        "    }\n",
        "\n",
        "    @Override\n",
        "    public void introduceSelf() {\n",
        "        System.out.println(\"Hello, my name is \" + name + \", and I'm a bowler!\");\n",
        "    }\n",
        "\n",
        "    @Override\n",
        "    public void reset() {\n",
        "        averageScore = 0.0;\n",
        "    }\n",
        "}"
      ],
      "metadata": {
        "colab": {
          "base_uri": "https://localhost:8080/"
        },
        "id": "j-kSy1cXPXV4",
        "outputId": "8b62bbfb-c207-4109-fe74-9926d146b33f"
      },
      "execution_count": null,
      "outputs": [
        {
          "output_type": "stream",
          "name": "stdout",
          "text": [
            "Overwriting Bowler.java\n"
          ]
        }
      ]
    },
    {
      "cell_type": "code",
      "source": [
        "!javac Bowler.java"
      ],
      "metadata": {
        "id": "vvZjNSxTXW7t"
      },
      "execution_count": null,
      "outputs": []
    },
    {
      "cell_type": "markdown",
      "source": [
        "Let's break down the implementation:\n",
        "\n",
        "1.  The `BowlerRevised` class extends the `Person` abstract class and implements the `Resetable` interface, indicating that it inherits the properties and methods of `Person` and must provide an implementation for the `reset()` method.\n",
        "2.  We introduce a **static variable** `nextBowlerID` to assign unique IDs to each bowler. This variable is incremented every time a new bowler is created. (So, this variable belongs to class Bowler, than to any individual bowler).\n",
        "3.  The `BowlerRevised` class has additional attributes: `bowlerID` (unique identifier) and `averageScore` (average bowling score).\n",
        "4.  The constructor takes the bowler's name and age and calls the `super` constructor to initialize the inherited properties. It assigns a unique `bowlerID` using `nextBowlerID` and initializes `averageScore` to 0.0.\n",
        "5.  Getter methods (`getBowlerID()` and `getAverageScore()`) are provided to access the bowler's ID and average score.\n",
        "6.  The `updateAverageScore()` method is responsible for updating the bowler's average score based on a new score. The implementation logic is left as a TODO comment for now.\n",
        "7.  The `introduceSelf()` method is an implementation of the abstract method from the `Person` class. It introduces the bowler by printing a message that includes their name.\n",
        "8.  The `reset()` method is the implementation of the `Resetable` interface. It resets the bowler's average score to 0.0.\n",
        "\n",
        "Now, let's (breifly) discuss some coding best practices and how they are applied in this implementation:\n",
        "\n",
        "1.  Use Proper Naming Conventions.\n",
        "    -   Class names are in PascalCase (e.g., `Person`, `Bowler`, `Resetable`).\n",
        "    -   Method names and variable names are in camelCase (e.g., `introduceSelf()`, `updateAverageScore()`, `averageScore`).\n",
        "    -   Constant names are in UPPER_SNAKE_CASE (not used in this example).\n",
        "2.  Comments and Documentation: Not too many, not too few.\n",
        "    -   Use comments to explain complex logic or provide clarifications where necessary. In this example, a TODO comment is used to indicate where the implementation logic for updating the average score needs to be added.\n",
        "    -   Provide meaningful and concise comments to enhance code readability and maintainability.\n",
        "3.   Encapsulate this!\n",
        "    -   Encapsulate the internal state of objects by declaring attributes as private (e.g., `bowlerID`, `averageScore`).\n",
        "    -   Provide getter methods (`getBowlerID()`, `getAverageScore()`) to access the object's state externally.\n",
        "4.  Inheritance and Polymorphism are your friends.\n",
        "    -   Utilize inheritance to create specialized classes (`Bowler`) based on a more general class (`Person`).\n",
        "    -   Implement interfaces (`Resetable`) to define common behavior that classes must adhere to.\n",
        "    -   Override methods (`introduceSelf()`) to provide class-specific implementations.\n",
        "\n",
        "By following these coding best practices and leveraging object-oriented programming concepts, we can create a clean, maintainable, and efficient implementation of the `Bowler` class and its dependencies."
      ],
      "metadata": {
        "id": "ucBy8ADoWkKh"
      }
    },
    {
      "cell_type": "markdown",
      "source": [
        "### Introduction to Unit Testing\n",
        "**Unit testing** is a software testing technique where individual units or components of a program are tested in isolation to verify their correctness. The goal of unit testing is to validate that each unit of the software performs as expected and meets the specified requirements. By writing and executing unit tests, we can catch bugs early, ensure code integrity, and maintain a high level of confidence in our codebase.\n",
        "\n",
        "In the context of our bowling score tracking program, let's focus on writing unit tests for the Bowler class. We'll use a popular testing framework called JUnit to define and run our tests.\n",
        "\n",
        "#### Example Unit Tests for the Bowler Class\n",
        "First, let's create a new class called BowlerTest to house our unit tests.\n"
      ],
      "metadata": {
        "id": "VhNtdUbrb5FP"
      }
    },
    {
      "cell_type": "code",
      "source": [
        "%%writefile BowlerTest.java\n",
        "import org.junit.jupiter.api.Assertions;\n",
        "import org.junit.jupiter.api.Test;\n",
        "\n",
        "class BowlerTest {\n",
        "\n",
        "    @Test\n",
        "    void testBowlerCreation() {\n",
        "        Bowler bowler = new Bowler(\"The Dude\", 30);\n",
        "        Assertions.assertEquals(\"The Dude\", bowler.getName());\n",
        "        Assertions.assertEquals(30, bowler.getAge());\n",
        "        Assertions.assertTrue(bowler.getBowlerID() > 0);\n",
        "        Assertions.assertEquals(0.0, bowler.getAverageScore());\n",
        "    }\n",
        "\n",
        "    @Test\n",
        "    void testUpdateAverageScore() {\n",
        "        Bowler bowler = new Bowler(\"Walter Sobchak\", 35);\n",
        "        bowler.updateAverageScore(200);\n",
        "        bowler.updateAverageScore(180);\n",
        "        Assertions.assertEquals(190.0, bowler.getAverageScore());\n",
        "    }\n",
        "\n",
        "    @Test\n",
        "    void testReset() {\n",
        "        Bowler bowler = new Bowler(\"Donny\", 25);\n",
        "        bowler.updateAverageScore(160);\n",
        "        bowler.reset();\n",
        "        Assertions.assertEquals(0.0, bowler.getAverageScore());\n",
        "    }\n",
        "}"
      ],
      "metadata": {
        "colab": {
          "base_uri": "https://localhost:8080/"
        },
        "id": "xjxSEbPUXSnd",
        "outputId": "6391f7ab-15a2-4cec-ed2f-01360762575e"
      },
      "execution_count": null,
      "outputs": [
        {
          "output_type": "stream",
          "name": "stdout",
          "text": [
            "Overwriting BowlerTest.java\n"
          ]
        }
      ]
    },
    {
      "cell_type": "markdown",
      "source": [
        "In this `BowlerTest` class, we define three unit tests:\n",
        "\n",
        "1. `testBowlerCreation()` verifies that a `Bowler` object is created correctly with the provided name and age.\n",
        "    -   We use **assertions** to check that the `getName()`, `getAge()`, `getBowlerID()`, and `getAverageScore()` methods return the expected values. If these assertions are true the test passes. Otherwise, it fails.\n",
        "2.  `testUpdateAverageScore()` checks the functionality of the `updateAverageScore()` method.\n",
        "    -   We create a bowler, update their average score with two scores, and assert that the calculated average score matches the expected value.\n",
        "    - Since we haven't implemented this yet, we expect this test to FAIL.\n",
        "3.  `testReset()` ensures that the `reset()` method works as intended.\n",
        "    -   We create a bowler, update their average score, call the `reset()` method, and assert that the average score is reset to 0.0.\n",
        "\n",
        "By writing these unit tests, we can verify the expected behavior of the `Bowler` class and its methods. We use the `Assertions` class provided by JUnit to make assertions about the expected values and the actual values returned by the methods.\n",
        "\n",
        "While JUnit tests are almost always carried either using an IDE (such as Eclipse, VSCode, IntelliJ, NetBeans) or from the  project managers that underly these (like Maven or Gradle), they *can* be run from the command line, as follows (note I wouldn't recommend running them this way!)."
      ],
      "metadata": {
        "id": "53cAVKh0czSq"
      }
    },
    {
      "cell_type": "code",
      "source": [
        "!wget https://github.com/brendanpshea/programming_problem_solving/raw/main/java/junit-platform-console-standalone-1.9.3.jar -q\n",
        "!javac -cp junit-platform-console-standalone-1.9.3.jar Bowler.java BowlerTest.java\n",
        "!java -jar junit-platform-console-standalone-1.9.3.jar --class-path . --select-class BowlerTest"
      ],
      "metadata": {
        "colab": {
          "base_uri": "https://localhost:8080/"
        },
        "id": "VKfMwjWhedRy",
        "outputId": "069b8abf-c2ad-4977-b1fe-fdcae76d62eb"
      },
      "execution_count": null,
      "outputs": [
        {
          "output_type": "stream",
          "name": "stdout",
          "text": [
            "\n",
            "Thanks for using JUnit! Support its development at https://junit.org/sponsoring\n",
            "\n",
            "\u001b[36m╷\u001b[0m\n",
            "\u001b[36m├─\u001b[0m \u001b[36mJUnit Jupiter\u001b[0m \u001b[32m✔\u001b[0m\n",
            "\u001b[36m│  └─\u001b[0m \u001b[36mBowlerTest\u001b[0m \u001b[32m✔\u001b[0m\n",
            "\u001b[36m│     ├─\u001b[0m \u001b[31mtestUpdateAverageScore()\u001b[0m \u001b[31m✘\u001b[0m \u001b[31mexpected: <190.0> but was: <0.0>\u001b[0m\n",
            "\u001b[36m│     ├─\u001b[0m \u001b[34mtestReset()\u001b[0m \u001b[32m✔\u001b[0m\n",
            "\u001b[36m│     └─\u001b[0m \u001b[34mtestBowlerCreation()\u001b[0m \u001b[32m✔\u001b[0m\n",
            "\u001b[36m├─\u001b[0m \u001b[36mJUnit Vintage\u001b[0m \u001b[32m✔\u001b[0m\n",
            "\u001b[36m└─\u001b[0m \u001b[36mJUnit Platform Suite\u001b[0m \u001b[32m✔\u001b[0m\n",
            "\n",
            "Failures (1):\n",
            "  JUnit Jupiter:BowlerTest:testUpdateAverageScore()\n",
            "    MethodSource [className = 'BowlerTest', methodName = 'testUpdateAverageScore', methodParameterTypes = '']\n",
            "    => org.opentest4j.AssertionFailedError: expected: <190.0> but was: <0.0>\n",
            "       org.junit.jupiter.api.AssertionFailureBuilder.build(AssertionFailureBuilder.java:151)\n",
            "       org.junit.jupiter.api.AssertionFailureBuilder.buildAndThrow(AssertionFailureBuilder.java:132)\n",
            "       org.junit.jupiter.api.AssertEquals.failNotEqual(AssertEquals.java:197)\n",
            "       org.junit.jupiter.api.AssertEquals.assertEquals(AssertEquals.java:70)\n",
            "       org.junit.jupiter.api.AssertEquals.assertEquals(AssertEquals.java:65)\n",
            "       org.junit.jupiter.api.Assertions.assertEquals(Assertions.java:886)\n",
            "       BowlerTest.testUpdateAverageScore(BowlerTest.java:20)\n",
            "       java.base/jdk.internal.reflect.NativeMethodAccessorImpl.invoke0(Native Method)\n",
            "       java.base/jdk.internal.reflect.NativeMethodAccessorImpl.invoke(NativeMethodAccessorImpl.java:62)\n",
            "       java.base/jdk.internal.reflect.DelegatingMethodAccessorImpl.invoke(DelegatingMethodAccessorImpl.java:43)\n",
            "       [...]\n",
            "\n",
            "Test run finished after 170 ms\n",
            "[         4 containers found      ]\n",
            "[         0 containers skipped    ]\n",
            "[         4 containers started    ]\n",
            "[         0 containers aborted    ]\n",
            "[         4 containers successful ]\n",
            "[         0 containers failed     ]\n",
            "[         3 tests found           ]\n",
            "[         0 tests skipped         ]\n",
            "[         3 tests started         ]\n",
            "[         0 tests aborted         ]\n",
            "[         2 tests successful      ]\n",
            "[         1 tests failed          ]\n",
            "\n"
          ]
        }
      ]
    },
    {
      "cell_type": "markdown",
      "source": [
        "While JUnit provides a lot of information, the most important bits are at the beginning, regarding which tests passed and which tests failed. Here, we see that 2 tests passed and one failed. We are also given information on why this test failed (i.e., the expected output versus the actual output)."
      ],
      "metadata": {
        "id": "dFkwVaBKAgOg"
      }
    },
    {
      "cell_type": "markdown",
      "source": [
        "## Exercise: Concession Sales\n",
        "The bowling alley wants to modernize its concession sales system to improve efficiency, inventory management, and customer experience. The new system should allow staff to easily process orders, track inventory levels, and generate sales reports. The system should also provide customers with an option to place orders online for pickup at the concession stand.\n",
        "\n",
        "1.  **Requirements Gathering.**Create a list of 5-7 key requirements for the concession sales system. Consider the needs of the staff, management, and customers. Write each requirement as a clear, concise statement.\n",
        "2.  **System Design**. Create a list of of classes with their methods and attributes. If you are feeling ambitious, design a simple class diagram that represents the main components of the concession sales system. Include classes such as `MenuItem`, `Order`, `Inventory`, and `SalesReport`. Show the relationships between the classes using appropriate UML notations.\n",
        "3.  **Implementation (Coding)**.Implement a `MenuItem` class in Java. Include attributes for item name, price, and category (e.g., food, beverage, snack). Create methods to display the item details and calculate the total price with tax.\n",
        "4.  **Testing.** Describe a set of test cases for the `MenuItem` class. Consider different scenarios, such as creating menu items with valid and invalid data, updating item prices, and calculating the total price with tax. Describe the expected results for each test case. (You don't need to actually write the JUnit code here, though you are welcome to if you'd like a challenge!)"
      ],
      "metadata": {
        "id": "WFMcILo0JARt"
      }
    },
    {
      "cell_type": "markdown",
      "source": [
        "### Answer\n",
        "(You can put your answers to the above questions below)."
      ],
      "metadata": {
        "id": "zk6_cZE-KA1g"
      }
    },
    {
      "cell_type": "code",
      "source": [],
      "metadata": {
        "id": "0Kil4WnpKImt"
      },
      "execution_count": null,
      "outputs": []
    }
  ]
}