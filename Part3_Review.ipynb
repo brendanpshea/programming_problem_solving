{
  "nbformat": 4,
  "nbformat_minor": 0,
  "metadata": {
    "colab": {
      "provenance": [],
      "authorship_tag": "ABX9TyMEXg4pC8RvOf+XKlH+Gs2v",
      "include_colab_link": true
    },
    "kernelspec": {
      "name": "python3",
      "display_name": "Python 3"
    },
    "language_info": {
      "name": "python"
    }
  },
  "cells": [
    {
      "cell_type": "markdown",
      "metadata": {
        "id": "view-in-github",
        "colab_type": "text"
      },
      "source": [
        "<a href=\"https://colab.research.google.com/github/brendanpshea/programming_problem_solving/blob/main/Part3_Review.ipynb\" target=\"_parent\"><img src=\"https://colab.research.google.com/assets/colab-badge.svg\" alt=\"Open In Colab\"/></a>"
      ]
    },
    {
      "cell_type": "code",
      "execution_count": null,
      "metadata": {
        "id": "WajP5DECwcLn"
      },
      "outputs": [],
      "source": []
    },
    {
      "cell_type": "markdown",
      "source": [
        "# Part 3 Review: Java, OOP and Inheritance\n",
        "In this chapter, we'll be reviewing concepts related to chapters 7, 8, and 9.\n"
      ],
      "metadata": {
        "id": "UBv4v-wewe8M"
      }
    },
    {
      "cell_type": "markdown",
      "source": [],
      "metadata": {
        "id": "5uYAb9S1wvp7"
      }
    },
    {
      "cell_type": "markdown",
      "source": [
        "## The basic structure of a Java program\n",
        "\n",
        "Every Java program consists of at least one class, which contains the main method. The main method is the entry point of the program, and it's where the execution begins. Here's a basic structure of a Java program:\n"
      ],
      "metadata": {
        "id": "GGZjseNTwod-"
      }
    },
    {
      "cell_type": "code",
      "source": [
        "%%writefile GameDemo.java\n",
        "\n",
        "public class GameDemo {\n",
        "    public static void main(String[] args) {\n",
        "        // Code goes here\n",
        "        System.out.println(\"Welcome to the game!\");\n",
        "    }\n",
        "}"
      ],
      "metadata": {
        "colab": {
          "base_uri": "https://localhost:8080/"
        },
        "id": "Ump5wzPdwtuK",
        "outputId": "9c1f4dac-5aa7-40a2-bf6c-f7660053f4c9"
      },
      "execution_count": 1,
      "outputs": [
        {
          "output_type": "stream",
          "name": "stdout",
          "text": [
            "Writing GameDemo.java\n"
          ]
        }
      ]
    },
    {
      "cell_type": "markdown",
      "source": [
        "We can compille GameDemo using `javac`, the Java Compiler."
      ],
      "metadata": {
        "id": "IjnA4u96w4VO"
      }
    },
    {
      "cell_type": "code",
      "source": [
        "!javac GameDemo.java"
      ],
      "metadata": {
        "id": "QmXmAUTlw0ds"
      },
      "execution_count": 2,
      "outputs": []
    },
    {
      "cell_type": "markdown",
      "source": [
        "We can run it using the Java Virtual Machine, which we call by typing this:"
      ],
      "metadata": {
        "id": "bCmsEeXcw_E4"
      }
    },
    {
      "cell_type": "code",
      "source": [
        "!java GameDemo"
      ],
      "metadata": {
        "colab": {
          "base_uri": "https://localhost:8080/"
        },
        "id": "aQuxgGhFxEni",
        "outputId": "c42a0971-488a-406c-c5fa-f978b18f2b6e"
      },
      "execution_count": 3,
      "outputs": [
        {
          "output_type": "stream",
          "name": "stdout",
          "text": [
            "Welcome to the game!\n"
          ]
        }
      ]
    },
    {
      "cell_type": "markdown",
      "source": [
        "In this example, we have a class named `GameDemo`. The class name should match the file name (e.g., `GameDemo.java`). Inside the class, we have the `main` method, which is declared as `public static void main(String[] args)`. This is the standard signature for the main method in Java.\n",
        "\n",
        "Inside the main method, we can write our code. In this case, we have a simple line that prints \"Welcome to the game!\" to the console using `System.out.println()`.\n",
        "\n",
        "Let's look at another example related to a classic game, such as Chess:"
      ],
      "metadata": {
        "id": "EntnSdrbxMB5"
      }
    },
    {
      "cell_type": "code",
      "source": [
        "%%writefile ChessDemo.java\n",
        "\n",
        "public class ChessDemo {\n",
        "    public static void main(String[] args) {\n",
        "        System.out.println(\"Welcome to Chess!\");\n",
        "        System.out.println(\"Setting up the chessboard...\");\n",
        "        // Code to set up the chessboard\n",
        "        System.out.println(\"Ready to play!\");\n",
        "    }\n",
        "}"
      ],
      "metadata": {
        "colab": {
          "base_uri": "https://localhost:8080/"
        },
        "id": "mVbkfvjlxO4R",
        "outputId": "ecdf9234-1868-4313-e1fa-4acc48f7ef86"
      },
      "execution_count": 6,
      "outputs": [
        {
          "output_type": "stream",
          "name": "stdout",
          "text": [
            "Writing ChessDemo.java\n"
          ]
        }
      ]
    },
    {
      "cell_type": "code",
      "source": [
        "!javac ChessDemo.java"
      ],
      "metadata": {
        "id": "8RIfCt2yxb-Z"
      },
      "execution_count": 8,
      "outputs": []
    },
    {
      "cell_type": "code",
      "source": [
        "!java ChessDemo"
      ],
      "metadata": {
        "colab": {
          "base_uri": "https://localhost:8080/"
        },
        "id": "0p09lpE4xfS8",
        "outputId": "ad04ca11-a32d-432e-fd33-a7a904e76de9"
      },
      "execution_count": 9,
      "outputs": [
        {
          "output_type": "stream",
          "name": "stdout",
          "text": [
            "Welcome to Chess!\n",
            "Setting up the chessboard...\n",
            "Ready to play!\n"
          ]
        }
      ]
    },
    {
      "cell_type": "markdown",
      "source": [
        "In this example, we have a class named `ChessDemo` with the main method. We print a welcome message, indicate that we're setting up the chessboard, and then print \"Ready to play!\" after the setup is complete.\n",
        "\n",
        "This is the basic structure of a Java program. The code inside the main method is executed sequentially, from top to bottom. As we progress, we'll explore more concepts and add functionality to our examples."
      ],
      "metadata": {
        "id": "zDFRbTISxoEA"
      }
    },
    {
      "cell_type": "markdown",
      "source": [
        "## Variables and Data Types in Java\n",
        "\n",
        "In Java, variables are used to store data values. Before using a variable, you need to declare it by specifying its data type and giving it a name. Java has several built-in data types, including:\n",
        "\n",
        "-   `int`: used for integers (whole numbers)\n",
        "-   `double`: used for floating-point numbers (numbers with decimals)\n",
        "-   `boolean`: used for true/false values\n",
        "-   `char`: used for single characters\n",
        "-   `String`: used for text (a sequence of characters)\n",
        "\n",
        "Here's an example that demonstrates variable declaration and usage:"
      ],
      "metadata": {
        "id": "FcgySynXx6nO"
      }
    },
    {
      "cell_type": "code",
      "source": [
        "%%writefile DiceRoller.java\n",
        "\n",
        "public class DiceRoller {\n",
        "    public static void main(String[] args) {\n",
        "        int numSides = 6;\n",
        "        int roll = (int) (Math.random() * numSides) + 1;\n",
        "        System.out.println(\"You rolled a \" + roll);\n",
        "    }\n",
        "}"
      ],
      "metadata": {
        "colab": {
          "base_uri": "https://localhost:8080/"
        },
        "id": "BGK82L_8x8r1",
        "outputId": "07a81b68-7f7b-4ae4-abb0-28ad81b11f62"
      },
      "execution_count": 10,
      "outputs": [
        {
          "output_type": "stream",
          "name": "stdout",
          "text": [
            "Writing DiceRoller.java\n"
          ]
        }
      ]
    },
    {
      "cell_type": "code",
      "source": [
        "!javac DiceRoller.java"
      ],
      "metadata": {
        "id": "AA1vaB8CyDJU"
      },
      "execution_count": 11,
      "outputs": []
    },
    {
      "cell_type": "code",
      "source": [
        "!java DiceRoller"
      ],
      "metadata": {
        "colab": {
          "base_uri": "https://localhost:8080/"
        },
        "id": "r-gLdNjwyGTI",
        "outputId": "1d561ac4-5171-4741-80f1-ee6ac9dee986"
      },
      "execution_count": 12,
      "outputs": [
        {
          "output_type": "stream",
          "name": "stdout",
          "text": [
            "You rolled a 6\n"
          ]
        }
      ]
    },
    {
      "cell_type": "markdown",
      "source": [
        "In this example, we have a simple dice roller. We declare an integer variable `numSides` and assign it a value of 6, representing a standard six-sided die. We then declare another integer variable `roll` and assign it a random value between 1 and `numSides` using `Math.random()` and type casting to `int`.\n",
        "\n",
        "Finally, we print the result using `System.out.println()`, concatenating the string \"You rolled a \" with the value of `roll`.\n",
        "\n",
        "Let's look at another example involving character movement in a game:"
      ],
      "metadata": {
        "id": "alJrauElyNX8"
      }
    },
    {
      "cell_type": "code",
      "source": [
        "%%writefile CharacterMovement.java\n",
        "public class CharacterMovement {\n",
        "    public static void main(String[] args) {\n",
        "        double x = 0.0;\n",
        "        double y = 0.0;\n",
        "        double speed = 5.5;\n",
        "\n",
        "        // Move the character to the right\n",
        "        x += speed;\n",
        "\n",
        "        System.out.println(\"Character position: (\" + x + \", \" + y + \")\");\n",
        "    }\n",
        "}"
      ],
      "metadata": {
        "colab": {
          "base_uri": "https://localhost:8080/"
        },
        "id": "0FBoDAm6yN8p",
        "outputId": "82a8e0f6-7000-470e-96c1-0ee2942e3b33"
      },
      "execution_count": 13,
      "outputs": [
        {
          "output_type": "stream",
          "name": "stdout",
          "text": [
            "Writing CharacterMovement.java\n"
          ]
        }
      ]
    },
    {
      "cell_type": "code",
      "source": [
        "!javac CharacterMovement.java"
      ],
      "metadata": {
        "id": "gCBuZcMWydLm"
      },
      "execution_count": 14,
      "outputs": []
    },
    {
      "cell_type": "code",
      "source": [
        "!java CharacterMovement"
      ],
      "metadata": {
        "colab": {
          "base_uri": "https://localhost:8080/"
        },
        "id": "q6GSanDlyfZO",
        "outputId": "7793bc4a-2964-4cc9-d804-a7fb444037a7"
      },
      "execution_count": 15,
      "outputs": [
        {
          "output_type": "stream",
          "name": "stdout",
          "text": [
            "Character position: (5.5, 0.0)\n"
          ]
        }
      ]
    },
    {
      "cell_type": "markdown",
      "source": [
        "In this example, we declare two `double` variables, `x` and `y`, to represent the character's position on a 2D plane. We also declare a `double` variable `speed` to represent the character's movement speed.\n",
        "\n",
        "We then update the `x` position by adding the `speed` value to it, simulating movement to the right.\n",
        "\n",
        "Finally, we print the character's current position using `System.out.println()`, concatenating the string \"Character position: (\" with the values of `x` and `y`."
      ],
      "metadata": {
        "id": "gGxDXZ2xyXxE"
      }
    },
    {
      "cell_type": "markdown",
      "source": [
        "### Arrays and ArrayLists\n",
        "\n",
        "Arrays and ArrayLists are used to store multiple values of the same data type. They allow you to group related data together and access elements by their index.\n",
        "\n",
        "Arrays have a fixed size, which means you need to specify the number of elements when creating an array. Here's an example of creating an array of integers to represent the health points of players in a game:"
      ],
      "metadata": {
        "id": "ocjAdHwHy2I4"
      }
    },
    {
      "cell_type": "code",
      "source": [
        "%%writefile PlayerHealth.java\n",
        "public class PlayerHealth {\n",
        "    public static void main(String[] args) {\n",
        "        int[] healthPoints = new int[4];\n",
        "        healthPoints[0] = 100;\n",
        "        healthPoints[1] = 75;\n",
        "        healthPoints[2] = 90;\n",
        "        healthPoints[3] = 120;\n",
        "\n",
        "        System.out.println(\"Player 1 health: \" + healthPoints[0]);\n",
        "        System.out.println(\"Player 2 health: \" + healthPoints[1]);\n",
        "        System.out.println(\"Player 3 health: \" + healthPoints[2]);\n",
        "        System.out.println(\"Player 4 health: \" + healthPoints[3]);\n",
        "    }\n",
        "}"
      ],
      "metadata": {
        "colab": {
          "base_uri": "https://localhost:8080/"
        },
        "id": "dbuZR2Iky7gI",
        "outputId": "09a0d0aa-9845-44aa-e151-b2958c52fad2"
      },
      "execution_count": 16,
      "outputs": [
        {
          "output_type": "stream",
          "name": "stdout",
          "text": [
            "Writing PlayerHealth.java\n"
          ]
        }
      ]
    },
    {
      "cell_type": "code",
      "source": [
        "!javac PlayerHealth.java"
      ],
      "metadata": {
        "id": "QcrpUhqjzCIb"
      },
      "execution_count": 17,
      "outputs": []
    },
    {
      "cell_type": "code",
      "source": [
        "!java PlayerHealth"
      ],
      "metadata": {
        "colab": {
          "base_uri": "https://localhost:8080/"
        },
        "id": "g4r7sIygzFfx",
        "outputId": "0cb81d75-3782-49ab-9965-87089b2a278e"
      },
      "execution_count": 18,
      "outputs": [
        {
          "output_type": "stream",
          "name": "stdout",
          "text": [
            "Player 1 health: 100\n",
            "Player 2 health: 75\n",
            "Player 3 health: 90\n",
            "Player 4 health: 120\n"
          ]
        }
      ]
    },
    {
      "cell_type": "markdown",
      "source": [
        "In this example, we create an integer array `healthPoints` with a size of 4 using the syntax `int[] healthPoints = new int[4]`. We then assign health point values to each element of the array using their respective indices (0, 1, 2, 3).\n",
        "\n",
        "Finally, we print the health points of each player using `System.out.println()`, accessing the values from the array using their indices.\n",
        "\n",
        "ArrayLists, on the other hand, are more flexible than arrays because they can grow or shrink dynamically. Here's an example of using an ArrayList to store the names of game items:"
      ],
      "metadata": {
        "id": "dh7PEUFBzIAh"
      }
    },
    {
      "cell_type": "code",
      "source": [
        "%%writefile GameItems.java\n",
        "import java.util.ArrayList;\n",
        "\n",
        "public class GameItems {\n",
        "    public static void main(String[] args) {\n",
        "        ArrayList<String> items = new ArrayList<>();\n",
        "        items.add(\"Sword\");\n",
        "        items.add(\"Shield\");\n",
        "        items.add(\"Health Potion\");\n",
        "        items.add(\"Mana Potion\");\n",
        "\n",
        "        System.out.println(\"Game items: \" + items);\n",
        "\n",
        "        // Remove an item\n",
        "        items.remove(\"Shield\");\n",
        "\n",
        "        System.out.println(\"Updated game items: \" + items);\n",
        "    }\n",
        "}"
      ],
      "metadata": {
        "colab": {
          "base_uri": "https://localhost:8080/"
        },
        "id": "xTuj7Ou9zNGy",
        "outputId": "c90e04ac-5e9d-4f3f-8bed-c44da9e79677"
      },
      "execution_count": 19,
      "outputs": [
        {
          "output_type": "stream",
          "name": "stdout",
          "text": [
            "Writing GameItems.java\n"
          ]
        }
      ]
    }
  ]
}