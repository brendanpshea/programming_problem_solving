{
  "nbformat": 4,
  "nbformat_minor": 0,
  "metadata": {
    "colab": {
      "provenance": [],
      "authorship_tag": "ABX9TyMHRFkKq03p4LT2McSRbB3S",
      "include_colab_link": true
    },
    "kernelspec": {
      "name": "python3",
      "display_name": "Python 3"
    },
    "language_info": {
      "name": "python"
    }
  },
  "cells": [
    {
      "cell_type": "markdown",
      "metadata": {
        "id": "view-in-github",
        "colab_type": "text"
      },
      "source": [
        "<a href=\"https://colab.research.google.com/github/brendanpshea/programming_problem_solving/blob/main/Part3_Review.ipynb\" target=\"_parent\"><img src=\"https://colab.research.google.com/assets/colab-badge.svg\" alt=\"Open In Colab\"/></a>"
      ]
    },
    {
      "cell_type": "code",
      "execution_count": null,
      "metadata": {
        "id": "WajP5DECwcLn"
      },
      "outputs": [],
      "source": []
    },
    {
      "cell_type": "markdown",
      "source": [
        "# Part 3 Review: Java, OOP and Inheritance\n",
        "In this chapter, we'll be reviewing concepts related to chapters 7, 8, and 9.\n"
      ],
      "metadata": {
        "id": "UBv4v-wewe8M"
      }
    },
    {
      "cell_type": "markdown",
      "source": [],
      "metadata": {
        "id": "5uYAb9S1wvp7"
      }
    },
    {
      "cell_type": "markdown",
      "source": [
        "## The basic structure of a Java program\n",
        "\n",
        "Every Java program consists of at least one class, which contains the main method. The main method is the entry point of the program, and it's where the execution begins. Here's a basic structure of a Java program:\n"
      ],
      "metadata": {
        "id": "GGZjseNTwod-"
      }
    },
    {
      "cell_type": "code",
      "source": [
        "%%writefile GameDemo.java\n",
        "\n",
        "public class GameDemo {\n",
        "    public static void main(String[] args) {\n",
        "        // Code goes here\n",
        "        System.out.println(\"Welcome to the game!\");\n",
        "    }\n",
        "}"
      ],
      "metadata": {
        "colab": {
          "base_uri": "https://localhost:8080/"
        },
        "id": "Ump5wzPdwtuK",
        "outputId": "9c1f4dac-5aa7-40a2-bf6c-f7660053f4c9"
      },
      "execution_count": 1,
      "outputs": [
        {
          "output_type": "stream",
          "name": "stdout",
          "text": [
            "Writing GameDemo.java\n"
          ]
        }
      ]
    },
    {
      "cell_type": "markdown",
      "source": [
        "We can compille GameDemo using `javac`, the Java Compiler."
      ],
      "metadata": {
        "id": "IjnA4u96w4VO"
      }
    },
    {
      "cell_type": "code",
      "source": [
        "!javac GameDemo.java"
      ],
      "metadata": {
        "id": "QmXmAUTlw0ds"
      },
      "execution_count": 2,
      "outputs": []
    },
    {
      "cell_type": "markdown",
      "source": [
        "We can run it using the Java Virtual Machine, which we call by typing this:"
      ],
      "metadata": {
        "id": "bCmsEeXcw_E4"
      }
    },
    {
      "cell_type": "code",
      "source": [
        "!java GameDemo"
      ],
      "metadata": {
        "colab": {
          "base_uri": "https://localhost:8080/"
        },
        "id": "aQuxgGhFxEni",
        "outputId": "c42a0971-488a-406c-c5fa-f978b18f2b6e"
      },
      "execution_count": 3,
      "outputs": [
        {
          "output_type": "stream",
          "name": "stdout",
          "text": [
            "Welcome to the game!\n"
          ]
        }
      ]
    },
    {
      "cell_type": "markdown",
      "source": [
        "In this example, we have a class named `GameDemo`. The class name should match the file name (e.g., `GameDemo.java`). Inside the class, we have the `main` method, which is declared as `public static void main(String[] args)`. This is the standard signature for the main method in Java.\n",
        "\n",
        "Inside the main method, we can write our code. In this case, we have a simple line that prints \"Welcome to the game!\" to the console using `System.out.println()`.\n",
        "\n",
        "Let's look at another example related to a classic game, such as Chess:"
      ],
      "metadata": {
        "id": "EntnSdrbxMB5"
      }
    },
    {
      "cell_type": "code",
      "source": [
        "%%writefile ChessDemo.java\n",
        "\n",
        "public class ChessDemo {\n",
        "    public static void main(String[] args) {\n",
        "        System.out.println(\"Welcome to Chess!\");\n",
        "        System.out.println(\"Setting up the chessboard...\");\n",
        "        // Code to set up the chessboard\n",
        "        System.out.println(\"Ready to play!\");\n",
        "    }\n",
        "}"
      ],
      "metadata": {
        "colab": {
          "base_uri": "https://localhost:8080/"
        },
        "id": "mVbkfvjlxO4R",
        "outputId": "ecdf9234-1868-4313-e1fa-4acc48f7ef86"
      },
      "execution_count": 6,
      "outputs": [
        {
          "output_type": "stream",
          "name": "stdout",
          "text": [
            "Writing ChessDemo.java\n"
          ]
        }
      ]
    },
    {
      "cell_type": "code",
      "source": [
        "!javac ChessDemo.java"
      ],
      "metadata": {
        "id": "8RIfCt2yxb-Z"
      },
      "execution_count": 8,
      "outputs": []
    },
    {
      "cell_type": "code",
      "source": [
        "!java ChessDemo"
      ],
      "metadata": {
        "colab": {
          "base_uri": "https://localhost:8080/"
        },
        "id": "0p09lpE4xfS8",
        "outputId": "ad04ca11-a32d-432e-fd33-a7a904e76de9"
      },
      "execution_count": 9,
      "outputs": [
        {
          "output_type": "stream",
          "name": "stdout",
          "text": [
            "Welcome to Chess!\n",
            "Setting up the chessboard...\n",
            "Ready to play!\n"
          ]
        }
      ]
    },
    {
      "cell_type": "markdown",
      "source": [
        "In this example, we have a class named `ChessDemo` with the main method. We print a welcome message, indicate that we're setting up the chessboard, and then print \"Ready to play!\" after the setup is complete.\n",
        "\n",
        "This is the basic structure of a Java program. The code inside the main method is executed sequentially, from top to bottom. As we progress, we'll explore more concepts and add functionality to our examples."
      ],
      "metadata": {
        "id": "zDFRbTISxoEA"
      }
    },
    {
      "cell_type": "markdown",
      "source": [
        "## Variables and Data Types in Java\n",
        "\n",
        "In Java, variables are used to store data values. Before using a variable, you need to declare it by specifying its data type and giving it a name. Java has several built-in data types, including:\n",
        "\n",
        "-   `int`: used for integers (whole numbers)\n",
        "-   `double`: used for floating-point numbers (numbers with decimals)\n",
        "-   `boolean`: used for true/false values\n",
        "-   `char`: used for single characters\n",
        "-   `String`: used for text (a sequence of characters)\n",
        "\n",
        "Here's an example that demonstrates variable declaration and usage:"
      ],
      "metadata": {
        "id": "FcgySynXx6nO"
      }
    },
    {
      "cell_type": "code",
      "source": [
        "%%writefile DiceRoller.java\n",
        "\n",
        "public class DiceRoller {\n",
        "    public static void main(String[] args) {\n",
        "        int numSides = 6;\n",
        "        int roll = (int) (Math.random() * numSides) + 1;\n",
        "        System.out.println(\"You rolled a \" + roll);\n",
        "    }\n",
        "}"
      ],
      "metadata": {
        "colab": {
          "base_uri": "https://localhost:8080/"
        },
        "id": "BGK82L_8x8r1",
        "outputId": "07a81b68-7f7b-4ae4-abb0-28ad81b11f62"
      },
      "execution_count": 10,
      "outputs": [
        {
          "output_type": "stream",
          "name": "stdout",
          "text": [
            "Writing DiceRoller.java\n"
          ]
        }
      ]
    },
    {
      "cell_type": "code",
      "source": [
        "!javac DiceRoller.java"
      ],
      "metadata": {
        "id": "AA1vaB8CyDJU"
      },
      "execution_count": 11,
      "outputs": []
    },
    {
      "cell_type": "code",
      "source": [
        "!java DiceRoller"
      ],
      "metadata": {
        "colab": {
          "base_uri": "https://localhost:8080/"
        },
        "id": "r-gLdNjwyGTI",
        "outputId": "1d561ac4-5171-4741-80f1-ee6ac9dee986"
      },
      "execution_count": 12,
      "outputs": [
        {
          "output_type": "stream",
          "name": "stdout",
          "text": [
            "You rolled a 6\n"
          ]
        }
      ]
    },
    {
      "cell_type": "markdown",
      "source": [
        "In this example, we have a simple dice roller. We declare an integer variable `numSides` and assign it a value of 6, representing a standard six-sided die. We then declare another integer variable `roll` and assign it a random value between 1 and `numSides` using `Math.random()` and type casting to `int`.\n",
        "\n",
        "Finally, we print the result using `System.out.println()`, concatenating the string \"You rolled a \" with the value of `roll`.\n",
        "\n",
        "Let's look at another example involving character movement in a game:"
      ],
      "metadata": {
        "id": "alJrauElyNX8"
      }
    },
    {
      "cell_type": "code",
      "source": [
        "%%writefile CharacterMovement.java\n",
        "public class CharacterMovement {\n",
        "    public static void main(String[] args) {\n",
        "        double x = 0.0;\n",
        "        double y = 0.0;\n",
        "        double speed = 5.5;\n",
        "\n",
        "        // Move the character to the right\n",
        "        x += speed;\n",
        "\n",
        "        System.out.println(\"Character position: (\" + x + \", \" + y + \")\");\n",
        "    }\n",
        "}"
      ],
      "metadata": {
        "colab": {
          "base_uri": "https://localhost:8080/"
        },
        "id": "0FBoDAm6yN8p",
        "outputId": "82a8e0f6-7000-470e-96c1-0ee2942e3b33"
      },
      "execution_count": 13,
      "outputs": [
        {
          "output_type": "stream",
          "name": "stdout",
          "text": [
            "Writing CharacterMovement.java\n"
          ]
        }
      ]
    },
    {
      "cell_type": "code",
      "source": [
        "!javac CharacterMovement.java"
      ],
      "metadata": {
        "id": "gCBuZcMWydLm"
      },
      "execution_count": 14,
      "outputs": []
    },
    {
      "cell_type": "code",
      "source": [
        "!java CharacterMovement"
      ],
      "metadata": {
        "colab": {
          "base_uri": "https://localhost:8080/"
        },
        "id": "q6GSanDlyfZO",
        "outputId": "7793bc4a-2964-4cc9-d804-a7fb444037a7"
      },
      "execution_count": 15,
      "outputs": [
        {
          "output_type": "stream",
          "name": "stdout",
          "text": [
            "Character position: (5.5, 0.0)\n"
          ]
        }
      ]
    },
    {
      "cell_type": "markdown",
      "source": [
        "In this example, we declare two `double` variables, `x` and `y`, to represent the character's position on a 2D plane. We also declare a `double` variable `speed` to represent the character's movement speed.\n",
        "\n",
        "We then update the `x` position by adding the `speed` value to it, simulating movement to the right.\n",
        "\n",
        "Finally, we print the character's current position using `System.out.println()`, concatenating the string \"Character position: (\" with the values of `x` and `y`."
      ],
      "metadata": {
        "id": "gGxDXZ2xyXxE"
      }
    },
    {
      "cell_type": "markdown",
      "source": [
        "### Arrays and ArrayLists\n",
        "\n",
        "Arrays and ArrayLists are used to store multiple values of the same data type. They allow you to group related data together and access elements by their index.\n",
        "\n",
        "**Arrays** have a fixed size, which means you need to specify the number of elements when creating an array. Here's an example of creating an array of integers to represent the health points of players in a game:"
      ],
      "metadata": {
        "id": "ocjAdHwHy2I4"
      }
    },
    {
      "cell_type": "code",
      "source": [
        "%%writefile PlayerHealth.java\n",
        "public class PlayerHealth {\n",
        "    public static void main(String[] args) {\n",
        "        int[] healthPoints = new int[4];\n",
        "        healthPoints[0] = 100;\n",
        "        healthPoints[1] = 75;\n",
        "        healthPoints[2] = 90;\n",
        "        healthPoints[3] = 120;\n",
        "\n",
        "        System.out.println(\"Player 1 health: \" + healthPoints[0]);\n",
        "        System.out.println(\"Player 2 health: \" + healthPoints[1]);\n",
        "        System.out.println(\"Player 3 health: \" + healthPoints[2]);\n",
        "        System.out.println(\"Player 4 health: \" + healthPoints[3]);\n",
        "    }\n",
        "}"
      ],
      "metadata": {
        "colab": {
          "base_uri": "https://localhost:8080/"
        },
        "id": "dbuZR2Iky7gI",
        "outputId": "09a0d0aa-9845-44aa-e151-b2958c52fad2"
      },
      "execution_count": 16,
      "outputs": [
        {
          "output_type": "stream",
          "name": "stdout",
          "text": [
            "Writing PlayerHealth.java\n"
          ]
        }
      ]
    },
    {
      "cell_type": "code",
      "source": [
        "!javac PlayerHealth.java"
      ],
      "metadata": {
        "id": "QcrpUhqjzCIb"
      },
      "execution_count": 17,
      "outputs": []
    },
    {
      "cell_type": "code",
      "source": [
        "!java PlayerHealth"
      ],
      "metadata": {
        "colab": {
          "base_uri": "https://localhost:8080/"
        },
        "id": "g4r7sIygzFfx",
        "outputId": "0cb81d75-3782-49ab-9965-87089b2a278e"
      },
      "execution_count": 18,
      "outputs": [
        {
          "output_type": "stream",
          "name": "stdout",
          "text": [
            "Player 1 health: 100\n",
            "Player 2 health: 75\n",
            "Player 3 health: 90\n",
            "Player 4 health: 120\n"
          ]
        }
      ]
    },
    {
      "cell_type": "markdown",
      "source": [
        "In this example, we create an integer array `healthPoints` with a size of 4 using the syntax `int[] healthPoints = new int[4]`. We then assign health point values to each element of the array using their respective indices (0, 1, 2, 3).\n",
        "\n",
        "Finally, we print the health points of each player using `System.out.println()`, accessing the values from the array using their indices.\n",
        "\n",
        "**ArrayLists**, on the other hand, are more flexible than arrays because they can grow or shrink dynamically. Here's an example of using an ArrayList to store the names of game items:"
      ],
      "metadata": {
        "id": "dh7PEUFBzIAh"
      }
    },
    {
      "cell_type": "code",
      "source": [
        "%%writefile GameItems.java\n",
        "import java.util.ArrayList;\n",
        "\n",
        "public class GameItems {\n",
        "    public static void main(String[] args) {\n",
        "        ArrayList<String> items = new ArrayList<>();\n",
        "        items.add(\"Sword\");\n",
        "        items.add(\"Shield\");\n",
        "        items.add(\"Health Potion\");\n",
        "        items.add(\"Mana Potion\");\n",
        "\n",
        "        System.out.println(\"Game items: \" + items);\n",
        "\n",
        "        // Remove an item\n",
        "        items.remove(\"Shield\");\n",
        "\n",
        "        System.out.println(\"Updated game items: \" + items);\n",
        "    }\n",
        "}"
      ],
      "metadata": {
        "colab": {
          "base_uri": "https://localhost:8080/"
        },
        "id": "xTuj7Ou9zNGy",
        "outputId": "c90e04ac-5e9d-4f3f-8bed-c44da9e79677"
      },
      "execution_count": 19,
      "outputs": [
        {
          "output_type": "stream",
          "name": "stdout",
          "text": [
            "Writing GameItems.java\n"
          ]
        }
      ]
    },
    {
      "cell_type": "markdown",
      "source": [
        "## Decision Making with if, else, and Boolean Operators:\n",
        "\n",
        "In Java, you can make decisions based on certain conditions using the `if` and `else` statements. The `if` statement allows you to execute a block of code if a condition is true, while the `else` statement provides an alternative block of code to execute if the condition is false.\n",
        "\n",
        "Boolean operators (`&&`, `||`, `!`) are used to combine or negate conditions.\n",
        "\n",
        "Here's an example that demonstrates decision making:"
      ],
      "metadata": {
        "id": "S5fccNLp_nz6"
      }
    },
    {
      "cell_type": "code",
      "source": [
        "%%writefile GameLevelAccess.java\n",
        "public class GameLevelAccess {\n",
        "    public static void main(String[] args) {\n",
        "        int playerLevel = 5;\n",
        "        boolean hasKey = true;\n",
        "\n",
        "        if (playerLevel >= 10 && hasKey) {\n",
        "            System.out.println(\"Access granted to level 10!\");\n",
        "        } else if (playerLevel >= 5 && hasKey) {\n",
        "            System.out.println(\"Access granted to level 5!\");\n",
        "        } else {\n",
        "            System.out.println(\"Access denied. Insufficient level or missing key.\");\n",
        "        }\n",
        "    }\n",
        "}"
      ],
      "metadata": {
        "colab": {
          "base_uri": "https://localhost:8080/"
        },
        "id": "PZww4WqA_ob4",
        "outputId": "1b6a5aea-a488-4d32-c279-624f3cc5c1c5"
      },
      "execution_count": 1,
      "outputs": [
        {
          "output_type": "stream",
          "name": "stdout",
          "text": [
            "Writing GameLevelAccess.java\n"
          ]
        }
      ]
    },
    {
      "cell_type": "code",
      "source": [
        "!javac GameLevelAccess.java"
      ],
      "metadata": {
        "id": "luZzEQkb_x8R"
      },
      "execution_count": 2,
      "outputs": []
    },
    {
      "cell_type": "code",
      "source": [
        "!java GameLevelAccess"
      ],
      "metadata": {
        "colab": {
          "base_uri": "https://localhost:8080/"
        },
        "id": "THMianqe_0bT",
        "outputId": "e18528c3-76cd-44f8-bd93-c1eacc9a7da8"
      },
      "execution_count": 3,
      "outputs": [
        {
          "output_type": "stream",
          "name": "stdout",
          "text": [
            "Access granted to level 5!\n"
          ]
        }
      ]
    },
    {
      "cell_type": "markdown",
      "source": [
        "## Decision Making with if, else, and Boolean Operators:\n",
        "\n",
        "In this example, we have two variables: `playerLevel` (an integer representing the player's level) and `hasKey` (a boolean indicating whether the player has a key).\n",
        "\n",
        "We use an `if-else if-else` statement to make decisions based on the player's level and key possession:\n",
        "\n",
        "-   If the player's level is greater than or equal to 10 (`playerLevel >= 10`) AND (`&&`) the player has the key (`hasKey`), we print \"Access granted to level 10!\".\n",
        "-   If the first condition is false, but the player's level is greater than or equal to 5 (`playerLevel >= 5`) AND (`&&`) the player has the key (`hasKey`), we print \"Access granted to level 5!\".\n",
        "-   If none of the above conditions are true, we print \"Access denied. Insufficient level or missing key.\" using the `else` statement.\n",
        "\n",
        "Let's look at another example that uses boolean operators to determine the outcome of a game move:"
      ],
      "metadata": {
        "id": "jUv9LB8k_2nc"
      }
    },
    {
      "cell_type": "code",
      "source": [
        "%%writefile GameMove.java\n",
        "public class GameMove {\n",
        "    public static void main(String[] args) {\n",
        "        boolean isJumping = true;\n",
        "        boolean isRunning = false;\n",
        "        boolean isBlocking = false;\n",
        "\n",
        "        if (isJumping || isRunning) {\n",
        "            System.out.println(\"The character is moving.\");\n",
        "        } else if (!isBlocking) {\n",
        "            System.out.println(\"The character is not blocking.\");\n",
        "        } else {\n",
        "            System.out.println(\"The character is standing still.\");\n",
        "        }\n",
        "    }\n",
        "}"
      ],
      "metadata": {
        "colab": {
          "base_uri": "https://localhost:8080/"
        },
        "id": "MG7zW_IY__l8",
        "outputId": "df7ce1c9-e29d-4617-c5ec-b0f99ac2cbe3"
      },
      "execution_count": 4,
      "outputs": [
        {
          "output_type": "stream",
          "name": "stdout",
          "text": [
            "Writing GameMove.java\n"
          ]
        }
      ]
    },
    {
      "cell_type": "code",
      "source": [
        "!javac GameMove.java"
      ],
      "metadata": {
        "id": "qlBAd1h0Ajbw"
      },
      "execution_count": 5,
      "outputs": []
    },
    {
      "cell_type": "code",
      "source": [
        "!java GameMove"
      ],
      "metadata": {
        "colab": {
          "base_uri": "https://localhost:8080/"
        },
        "id": "7vnLb44TAmVa",
        "outputId": "2fdef8da-5c23-4143-fc5b-92e4c76f8b40"
      },
      "execution_count": 6,
      "outputs": [
        {
          "output_type": "stream",
          "name": "stdout",
          "text": [
            "The character is moving.\n"
          ]
        }
      ]
    },
    {
      "cell_type": "markdown",
      "source": [
        "In this example, we have three boolean variables: `isJumping`, `isRunning`, and `isBlocking`, representing different states of a game character.\n",
        "\n",
        "We use an `if-else if-else` statement with boolean operators to determine the character's action:\n",
        "\n",
        "-   If the character is jumping (`isJumping`) OR (`||`) running (`isRunning`), we print \"The character is moving.\".\n",
        "-   If the character is not jumping or running, but is not blocking (`!isBlocking`), we print \"The character is not blocking.\".\n",
        "-   If none of the above conditions are true, we print \"The character is standing still.\" using the `else` statement.\n"
      ],
      "metadata": {
        "id": "sBl_-SzsAppt"
      }
    },
    {
      "cell_type": "markdown",
      "source": [
        "## For and While Loops:\n",
        "\n",
        "Loops in Java allow you to repeat a block of code multiple times. The two most common types of loops are `for` loops and `while` loops.\n",
        "\n",
        "`for` loops are used when you know the exact number of iterations needed, while `while` loops are used when the number of iterations is not known in advance and depends on a certain condition.\n",
        "\n",
        "Let's start with a `for` loop:"
      ],
      "metadata": {
        "id": "upn-hrvsBKHP"
      }
    },
    {
      "cell_type": "code",
      "source": [
        "%%writefile DigDugTunnel.java\n",
        "public class DigDugTunnel {\n",
        "    public static void main(String[] args) {\n",
        "        int tunnelLength = 10;\n",
        "\n",
        "        for (int i = 0; i < tunnelLength; i++) {\n",
        "            System.out.println(\"Digging tunnel: \" + (i + 1) + \" meters\");\n",
        "        }\n",
        "\n",
        "        System.out.println(\"Tunnel digging completed!\");\n",
        "    }\n",
        "}"
      ],
      "metadata": {
        "colab": {
          "base_uri": "https://localhost:8080/"
        },
        "id": "RINpCsn3BNq4",
        "outputId": "c8a6ec23-88d7-4dc3-b272-d3830c109f95"
      },
      "execution_count": 7,
      "outputs": [
        {
          "output_type": "stream",
          "name": "stdout",
          "text": [
            "Writing DigDugTunnel.java\n"
          ]
        }
      ]
    },
    {
      "cell_type": "code",
      "source": [
        "!javac DigDugTunnel.java"
      ],
      "metadata": {
        "id": "CfLfT5HWAwRM"
      },
      "execution_count": 8,
      "outputs": []
    },
    {
      "cell_type": "code",
      "source": [
        "!java DigDugTunnel"
      ],
      "metadata": {
        "colab": {
          "base_uri": "https://localhost:8080/"
        },
        "id": "SN2WbII_BYbM",
        "outputId": "9954d6e1-de54-4467-87a6-e518e2193145"
      },
      "execution_count": 9,
      "outputs": [
        {
          "output_type": "stream",
          "name": "stdout",
          "text": [
            "Digging tunnel: 1 meters\n",
            "Digging tunnel: 2 meters\n",
            "Digging tunnel: 3 meters\n",
            "Digging tunnel: 4 meters\n",
            "Digging tunnel: 5 meters\n",
            "Digging tunnel: 6 meters\n",
            "Digging tunnel: 7 meters\n",
            "Digging tunnel: 8 meters\n",
            "Digging tunnel: 9 meters\n",
            "Digging tunnel: 10 meters\n",
            "Tunnel digging completed!\n"
          ]
        }
      ]
    },
    {
      "cell_type": "markdown",
      "source": [
        "In this example, we have a variable `tunnelLength` representing the length of the tunnel that Dig Dug needs to dig.\n",
        "\n",
        "We use a `for` loop to simulate the digging process. The loop initializes a variable `i` to 0, and it continues as long as `i` is less than `tunnelLength`. After each iteration, `i` is incremented by 1.\n",
        "\n",
        "Inside the loop, we print the current digging progress using `System.out.println()`, displaying the current meter of the tunnel being dug.\n",
        "\n",
        "After the loop finishes, we print a message indicating that the tunnel digging is completed.\n",
        "\n",
        "Now, let's look at an example using a `while` loop:"
      ],
      "metadata": {
        "id": "J7zv1XAmBltB"
      }
    },
    {
      "cell_type": "code",
      "source": [
        "%%writefile DigDugEnemies.java\n",
        "public class DigDugEnemies {\n",
        "    public static void main(String[] args) {\n",
        "        int enemyCount = 5;\n",
        "\n",
        "        while (enemyCount > 0) {\n",
        "            System.out.println(\"Enemies remaining: \" + enemyCount);\n",
        "            enemyCount--;\n",
        "        }\n",
        "\n",
        "        System.out.println(\"All enemies defeated!\");\n",
        "    }\n",
        "}"
      ],
      "metadata": {
        "colab": {
          "base_uri": "https://localhost:8080/"
        },
        "id": "rg3h0wRGBmrU",
        "outputId": "acf5b40a-87bf-47cc-d61e-c7ec39a1e8bc"
      },
      "execution_count": 10,
      "outputs": [
        {
          "output_type": "stream",
          "name": "stdout",
          "text": [
            "Writing DigDugEnemies.java\n"
          ]
        }
      ]
    },
    {
      "cell_type": "code",
      "source": [
        "!javac DigDugEnemies.java"
      ],
      "metadata": {
        "id": "BlE3mUm9Buiu"
      },
      "execution_count": 11,
      "outputs": []
    },
    {
      "cell_type": "code",
      "source": [
        "!java DigDugEnemies"
      ],
      "metadata": {
        "colab": {
          "base_uri": "https://localhost:8080/"
        },
        "id": "KGQMl5srByW8",
        "outputId": "45477c05-4a4c-471b-ca3a-cea07b46b98e"
      },
      "execution_count": 12,
      "outputs": [
        {
          "output_type": "stream",
          "name": "stdout",
          "text": [
            "Enemies remaining: 5\n",
            "Enemies remaining: 4\n",
            "Enemies remaining: 3\n",
            "Enemies remaining: 2\n",
            "Enemies remaining: 1\n",
            "All enemies defeated!\n"
          ]
        }
      ]
    },
    {
      "cell_type": "markdown",
      "source": [
        "In this example, we have a variable `enemyCount` representing the number of enemies Dig Dug needs to defeat.\n",
        "\n",
        "We use a `while` loop to simulate the process of defeating enemies. The loop continues as long as `enemyCount` is greater than 0.\n",
        "\n",
        "Inside the loop, we print the number of remaining enemies using `System.out.println()`, and then we decrement `enemyCount` by 1 using the `--` operator.\n",
        "\n",
        "The loop continues until `enemyCount` reaches 0, indicating that all enemies have been defeated. After the loop finishes, we print a message stating that all enemies are defeated."
      ],
      "metadata": {
        "id": "T1EhKzToB3AZ"
      }
    },
    {
      "cell_type": "markdown",
      "source": [
        "## Methods\n",
        "Methods in Java are blocks of code that perform specific tasks. They are used to break down a program into smaller, more manageable pieces, making the code more organized, reusable, and easier to understand. Methods can take parameters (inputs) and return values (outputs).\n",
        "\n",
        "Here are some important keywords and concepts related to methods in Java:\n",
        "\n",
        "-   **`void`** is a keyword used to declare a method that doesn't return a value.\n",
        "-   The **return type* is the type of value a method returns. It can be any valid Java data type, such as `int`, `double`, `boolean`, or even a class type. If a method doesn't return a value, the return type is `void`.\n",
        "-   `return` is a keyword used to specify the value that a method returns. It is followed by the value to be returned.\n",
        "-   A **parameter** is a value passed to a method when it is called. Parameters are specified within the parentheses of the method declaration.\n",
        "-   **Visibility modifiers** are keywords that control the accessibility of methods. The most common modifiers are `public` (accessible from anywhere), `private` (accessible only within the same class), and `protected` (accessible within the same package and subclasses).\n",
        "\n",
        "In the context of Donkey Kong, let's say we have a method called `jumpOverBarrel()` that represents Mario jumping over a barrel. It could be declared as follows:\n",
        "\n",
        "```java\n",
        "public void jumpOverBarrel() {\n",
        "    // Code to perform the jump\n",
        "    System.out.println(\"Mario jumps over a barrel!\");\n",
        "}\n",
        "```\n",
        "In this example, `jumpOverBarrel()` is a method with the `public` visibility modifier and a `void` return type, meaning it doesn't return any value. When called, it executes the code inside the method body, which in this case, prints a message indicating that Mario jumps over a barrel.\n",
        "\n",
        "Now, let's look at a longer example."
      ],
      "metadata": {
        "id": "ghjtYUbmEYFe"
      }
    },
    {
      "cell_type": "code",
      "source": [
        "%%writefile DonkeyKong.java\n",
        "public class DonkeyKong {\n",
        "    private int score;\n",
        "    private int lives;\n",
        "\n",
        "    public DonkeyKong() {\n",
        "        score = 0;\n",
        "        lives = 3;\n",
        "    }\n",
        "\n",
        "    public void jumpOverBarrel() {\n",
        "        System.out.println(\"Mario jumps over a barrel!\");\n",
        "        score += 100;\n",
        "    }\n",
        "\n",
        "    public void hitByBarrel() {\n",
        "        System.out.println(\"Mario is hit by a barrel!\");\n",
        "        lives--;\n",
        "    }\n",
        "\n",
        "    public boolean isGameOver() {\n",
        "        return lives == 0;\n",
        "    }\n",
        "\n",
        "    public int getScore() {\n",
        "        return score;\n",
        "    }\n",
        "\n",
        "    public void printStatus() {\n",
        "        System.out.println(\"Score: \" + score);\n",
        "        System.out.println(\"Lives: \" + lives);\n",
        "    }\n",
        "\n",
        "    public static void main(String[] args) {\n",
        "    DonkeyKong game = new DonkeyKong();\n",
        "\n",
        "    game.jumpOverBarrel();\n",
        "    game.jumpOverBarrel();\n",
        "    game.hitByBarrel();\n",
        "    game.printStatus();\n",
        "\n",
        "    if (game.isGameOver()) {\n",
        "        System.out.println(\"Game Over!\");\n",
        "    } else {\n",
        "        System.out.println(\"Keep playing!\");\n",
        "    }\n",
        "}\n",
        "\n",
        "\n",
        "}"
      ],
      "metadata": {
        "colab": {
          "base_uri": "https://localhost:8080/"
        },
        "id": "CC786rJWEjT5",
        "outputId": "f738ce0f-c3bb-4c2b-8886-c754904ccbe2"
      },
      "execution_count": 13,
      "outputs": [
        {
          "output_type": "stream",
          "name": "stdout",
          "text": [
            "Writing DonkeyKong.java\n"
          ]
        }
      ]
    },
    {
      "cell_type": "code",
      "source": [
        "!javac DonkeyKong.java"
      ],
      "metadata": {
        "id": "nPRGRtQqB_dq"
      },
      "execution_count": 14,
      "outputs": []
    },
    {
      "cell_type": "code",
      "source": [
        "!java DonkeyKong"
      ],
      "metadata": {
        "colab": {
          "base_uri": "https://localhost:8080/"
        },
        "id": "WHSJzxOfE79N",
        "outputId": "abe8f92b-64e5-47d2-b061-6885b72950ac"
      },
      "execution_count": 15,
      "outputs": [
        {
          "output_type": "stream",
          "name": "stdout",
          "text": [
            "Mario jumps over a barrel!\n",
            "Mario jumps over a barrel!\n",
            "Mario is hit by a barrel!\n",
            "Score: 200\n",
            "Lives: 2\n",
            "Keep playing!\n"
          ]
        }
      ]
    },
    {
      "cell_type": "markdown",
      "source": [
        "In this program, we have a number of different classes and methods:\n",
        "\n",
        "-   The `DonkeyKong` class represents the game state and contains methods related to the game mechanics.\n",
        "-   The class has two private instance variables: `score` and `lives`, which keep track of the player's score and remaining lives, respectively.\n",
        "-   The constructor `DonkeyKong()` initializes the `score` to 0 and `lives` to 3 when a new instance of the class is created.\n",
        "-   The `jumpOverBarrel()` method is called when Mario successfully jumps over a barrel. It prints a message and increments the `score` by 100 points.\n",
        "-   The `hitByBarrel()` method is called when Mario is hit by a barrel. It prints a message and decrements the `lives` by 1.\n",
        "-   The `isGameOver()` method returns a boolean value indicating whether the game is over. It checks if the number of `lives` has reached 0.\n",
        "-   The `getScore()` method is a getter method that returns the current value of the `score`.\n",
        "-   The `printStatus()` method is used to display the current score and remaining lives.\n",
        "\n",
        "These methods encapsulate specific actions and game logic, making the code more organized and easier to understand. By breaking down the game into smaller methods, we can easily modify and extend the functionality of the game."
      ],
      "metadata": {
        "id": "vCdzoK_pR82R"
      }
    },
    {
      "cell_type": "markdown",
      "source": [
        "## **Object-oriented programming (OOP)** is a programming paradigm that organizes code into objects, which are instances of classes. It focuses on creating reusable and modular code structures. In OOP, we define classes that represent real-world entities or abstract concepts, and objects are created based on these classes.\n",
        "\n",
        "1. A **class** of objects.\n",
        "    -   It encapsulates data (attributes) and functions (methods) that operate on that data.\n",
        "    -   Classes provide a way to organize related code and create reusable components.\n",
        "2. **Attributes**, also known as properties or instance variables, are the data members of a class.\n",
        "    -   They represent the state or characteristics of an object.\n",
        "    -   Attributes can have different data types, such as integers, strings, or even other objects.\n",
        "3.  **Methods** (discussed above) are the functions or procedures defined within a class.\n",
        "    -   They define the behavior or actions that objects of the class can perform.\n",
        "    -   Methods can access and manipulate the attributes of an object.\n",
        "    -   They can also take parameters and return values.\n",
        "4.  A **constructor** is a special method that is called when an object is created.\n",
        "    -   It is used to initialize the attributes of an object and perform any necessary setup.\n",
        "    -   Constructors have the same name as the class and do not have a return type.\n",
        "5.  An **object** is an instance of a class.\n",
        "    -   It represents a specific entity or concept based on the blueprint defined by the class.\n",
        "    -   Objects are created using the `new` keyword followed by the constructor of the class.\n",
        "    -   Each object has its own set of attribute values and can independently execute the methods defined in the class.\n",
        "\n",
        "Now, let's see how we might apply these concepts  a Space Invaders-style game."
      ],
      "metadata": {
        "id": "hxL9JnG0ARp0"
      }
    },
    {
      "cell_type": "markdown",
      "source": [
        "### Example: Space-Invaders, OO-style\n",
        "Let's suppose we are designing a simple \"Space Invaders\"-style game, in which a spaceship controlled by a player battles alien ship. In keeping with OOP, let's begin by defining the basic \"ontology\" or the classes that represent the main elements of the game.\n",
        "1.  `Player` class:\n",
        "    -   Represents the player's spaceship.\n",
        "    -   Contains properties such as position, lives, and score.\n",
        "    -   Has methods for moving the spaceship, firing weapons, and handling collisions.\n",
        "2.  `Enemy` class:\n",
        "    -   Represents the enemy spaceships.\n",
        "    -   Contains properties such as position, speed, and hit points.\n",
        "    -   Has methods for moving the enemy, firing weapons, and handling collisions.\n",
        "3.  `Bullet` class:\n",
        "    -   Represents the bullets fired by the player and enemies.\n",
        "    -   Contains properties such as position, speed, and damage.\n",
        "    -   Has methods for moving the bullet and handling collisions.\n",
        "4.  `GameManager` class:\n",
        "    -   Manages the overall game state and game loop.\n",
        "    -   Contains properties such as score, level, and game over status.\n",
        "    -   Has methods for starting the game, updating game objects, and handling game events.\n",
        "\n",
        "The (partial) code for this might be as follows."
      ],
      "metadata": {
        "id": "n0KQR-gPBPea"
      }
    },
    {
      "cell_type": "markdown",
      "source": [
        "```java\n",
        "\n",
        "public class Player {\n",
        "    private int x, y, lives, score;\n",
        "\n",
        "    public Player(int initialX, int initialY) {\n",
        "        x = initialX; y = initialY; lives = 3; score = 0;\n",
        "    }\n",
        "\n",
        "    public void moveLeft() { x--; }\n",
        "\n",
        "    public void moveRight() { x++; }\n",
        "\n",
        "    public void fire() { /* Code for bullet management */ }\n",
        "}\n",
        "\n",
        "public class Enemy {\n",
        "    private int x, y, speed, hitPoints;\n",
        "\n",
        "    public Enemy(int initialX, int initialY, int initialSpeed, int initialHitPoints) {\n",
        "        x = initialX; y = initialY; speed = initialSpeed; hitPoints = initialHitPoints;\n",
        "    }\n",
        "\n",
        "    public void move() { y += speed; }\n",
        "\n",
        "    public void fire() { /* Code for bullet management */ }\n",
        "}\n",
        "\n",
        "public class Bullet {\n",
        "    private int x, y, speed, damage;\n",
        "\n",
        "    public Bullet(int initialX, int initialY, int initialSpeed, int initialDamage) {\n",
        "        x = initialX; y = initialY; speed = initialSpeed; damage = initialDamage;\n",
        "    }\n",
        "\n",
        "    public void move() { y -= speed; }\n",
        "}\n",
        "\n",
        "public class GameManager {\n",
        "    private int score, level;\n",
        "    private boolean gameOver;\n",
        "\n",
        "    public GameManager() {\n",
        "        score = 0; level = 1; gameOver = false;\n",
        "    }\n",
        "\n",
        "    public void startGame() { /* Code to initialize game */ }\n",
        "\n",
        "    public void updateGame() { /* Code to update game state */ }\n",
        "}\n",
        "```"
      ],
      "metadata": {
        "id": "ecXJMjZwB5IS"
      }
    },
    {
      "cell_type": "code",
      "source": [],
      "metadata": {
        "id": "XAmINiudB4oP"
      },
      "execution_count": null,
      "outputs": []
    },
    {
      "cell_type": "code",
      "source": [],
      "metadata": {
        "id": "PZ3eZUlKBvDz"
      },
      "execution_count": null,
      "outputs": []
    },
    {
      "cell_type": "code",
      "source": [],
      "metadata": {
        "id": "cNFjxZa7R9SX"
      },
      "execution_count": null,
      "outputs": []
    }
  ]
}