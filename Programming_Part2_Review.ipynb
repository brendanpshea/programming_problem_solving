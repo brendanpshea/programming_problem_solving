{
  "nbformat": 4,
  "nbformat_minor": 0,
  "metadata": {
    "colab": {
      "provenance": [],
      "authorship_tag": "ABX9TyMcaXJZWjOL/019NeKvhZXi",
      "include_colab_link": true
    },
    "kernelspec": {
      "name": "python3",
      "display_name": "Python 3"
    },
    "language_info": {
      "name": "python"
    }
  },
  "cells": [
    {
      "cell_type": "markdown",
      "metadata": {
        "id": "view-in-github",
        "colab_type": "text"
      },
      "source": [
        "<a href=\"https://colab.research.google.com/github/brendanpshea/programming_problem_solving/blob/main/Programming_Part2_Review.ipynb\" target=\"_parent\"><img src=\"https://colab.research.google.com/assets/colab-badge.svg\" alt=\"Open In Colab\"/></a>"
      ]
    },
    {
      "cell_type": "code",
      "execution_count": null,
      "metadata": {
        "id": "A4o-fqkN89yk"
      },
      "outputs": [],
      "source": []
    },
    {
      "cell_type": "markdown",
      "source": [
        "## Exceptions\n",
        "In Python, exceptions are events detected during execution that interrupt the normal flow of a program. The language provides a robust mechanism to handle these exceptions gracefully, using try, except, and finally blocks. This mechanism allows a program to respond to different types of errors without crashing abruptly. Let's delve into how this mechanism can be applied in the context of a simple sushi restaurant script.\n",
        "\n",
        "Consider a script for a sushi restaurant's order system. Various exceptions might occur, such as an order for an item not on the menu, entering a non-integer value for the quantity, or trying to access a file that logs orders but doesn't exist. Handling these exceptions properly ensures the program runs smoothly and provides meaningful feedback to the user or the system.\n",
        "\n",
        "### Example 1: Handling a Non-existent Menu Item"
      ],
      "metadata": {
        "id": "X4tXwc4K9Bwu"
      }
    },
    {
      "cell_type": "code",
      "source": [
        "menu = [\"salmon nigiri\", \"tuna roll\", \"avocado maki\"]\n",
        "\n",
        "try:\n",
        "    order = input(\"Enter your order: \")\n",
        "    if order not in menu:\n",
        "        raise ValueError(f\"Item {order} not on the menu\")\n",
        "except ValueError as e:\n",
        "    print(e)\n",
        "finally:\n",
        "    print(\"Thank you for visiting our sushi restaurant.\")\n"
      ],
      "metadata": {
        "colab": {
          "base_uri": "https://localhost:8080/"
        },
        "id": "4DAx5IhR9C9u",
        "outputId": "9f0cab1f-4c5d-4c0b-8ccb-94959688f645"
      },
      "execution_count": 2,
      "outputs": [
        {
          "output_type": "stream",
          "name": "stdout",
          "text": [
            "Enter your order: California roll\n",
            "Item California roll not on the menu\n",
            "Thank you for visiting our sushi restaurant.\n"
          ]
        }
      ]
    },
    {
      "cell_type": "markdown",
      "source": [
        "In this example, if a customer orders something not on the menu, a `ValueError` is raised, and the except block handles it by printing the error message. The `finally` block executes regardless of the exception, thanking the customer.\n",
        "\n",
        "### Example 2: Handling Invalid Quantity Input"
      ],
      "metadata": {
        "id": "1xeiurai9Teh"
      }
    },
    {
      "cell_type": "code",
      "source": [
        "try:\n",
        "    quantity = int(input(\"Enter quantity: \"))\n",
        "except ValueError:\n",
        "    print(\"Please enter a valid integer for quantity.\")\n",
        "finally:\n",
        "    print(\"Processing completed.\")"
      ],
      "metadata": {
        "colab": {
          "base_uri": "https://localhost:8080/"
        },
        "id": "8OVur1a_9a1l",
        "outputId": "d8c266bd-5359-432d-a296-d3afff044e1e"
      },
      "execution_count": 3,
      "outputs": [
        {
          "output_type": "stream",
          "name": "stdout",
          "text": [
            "Enter quantity: a\n",
            "Please enter a valid integer for quantity.\n",
            "Processing completed.\n"
          ]
        }
      ]
    },
    {
      "cell_type": "markdown",
      "source": [
        "Here, if the user inputs a non-integer value for quantity, a `ValueError` is raised, and the corresponding except block informs the user to provide a valid integer.\n",
        "\n",
        "## Example 3: File Handling"
      ],
      "metadata": {
        "id": "H-byde4p9h8B"
      }
    },
    {
      "cell_type": "code",
      "source": [
        "try:\n",
        "    with open(\"order_log.txt\", \"r\") as file:\n",
        "        orders = file.read()\n",
        "except FileNotFoundError:\n",
        "    print(\"Order log file not found.\")\n",
        "finally:\n",
        "    print(\"End of order processing.\")"
      ],
      "metadata": {
        "colab": {
          "base_uri": "https://localhost:8080/"
        },
        "id": "zXE3Udqd92mo",
        "outputId": "7efd8da6-9e4c-49f8-89f8-cd0491db0166"
      },
      "execution_count": 4,
      "outputs": [
        {
          "output_type": "stream",
          "name": "stdout",
          "text": [
            "Order log file not found.\n",
            "End of order processing.\n"
          ]
        }
      ]
    },
    {
      "cell_type": "markdown",
      "source": [
        "### Table of 10 Common Python Exceptions\n",
        "\n",
        "| Exception Name | Description |\n",
        "| --- | --- |\n",
        "| ValueError | Raised when a built-in operation or function receives an argument with the right type but an inappropriate value. |\n",
        "| TypeError | Occurs when an operation or function is applied to an object of inappropriate type. |\n",
        "| IndexError | Raised when attempting to access an index out of the range of a sequence (e.g., a list or tuple). |\n",
        "| KeyError | Occurs when a dictionary key is not found. |\n",
        "| FileNotFoundError | Raised when an attempt to open a file (or a specified path) fails. |\n",
        "| ZeroDivisionError | Occurs when the second argument of a division or modulo operation is zero. |\n",
        "| NameError | Raised when a local or global name is not found. |\n",
        "| OverflowError | Occurs when an arithmetic operation exceeds the limits of the data type. |\n",
        "| SyntaxError | Raised when the parser encounters a syntax error. |\n",
        "| AttributeError | Occurs when an attribute reference or assignment fails. |\n",
        "\n",
        "Understanding and handling these exceptions are fundamental in developing resilient Python applications that can anticipate and manage errors gracefully, enhancing both the user experience and system stability."
      ],
      "metadata": {
        "id": "4WMydQq7-BIY"
      }
    },
    {
      "cell_type": "markdown",
      "source": [
        "## CSV Files\n",
        "\n",
        "A CSV (Comma-Separated Values) file is a type of plain text file that uses specific structuring to arrange tabular data. Because it's a plain text file, it can be easily read by humans and machines. CSV files are commonly used for exchanging data between different applications. In a CSV file, each line corresponds to a row in the table, and each field (or cell in the table) is separated by a comma or another delimiter like a semicolon. The simplicity of this format makes it a universal standard for data interchange.\n",
        "\n",
        "Python provides the `csv` module to facilitate reading from and writing to CSV files. Below are basic examples of how to read from and write to CSV files.\n",
        "\n",
        "### Writing to a CSV File\n",
        "\n",
        "To create a simple menu for a sushi restaurant, we'll first write this menu to a CSV file."
      ],
      "metadata": {
        "id": "sMEg3iPr_Q4P"
      }
    },
    {
      "cell_type": "code",
      "source": [
        "import csv\n",
        "\n",
        "menu = [\n",
        "    [\"Sushi Name\", \"Ingredients\", \"Price\"],\n",
        "    [\"The Godfather Roll\", [\"Salmon\", \"avocado\", \"cream cheese\"], 12.5],\n",
        "    [\"Casablanca Sashimi\", [\"Tuna\"], 10.0],\n",
        "    [\"Gone with the Wind Gunkan\", [\"Scallop\", \"mayo\"], 8.75],\n",
        "    [\"Citizen Kane Nigiri\", [\"Eel\"], 7.5],\n",
        "    [\"The Shawshank Temaki\", [\"Crab\", \"cucumber\", \"avocado\"], 9.25],\n",
        "    [\"Pulp Fiction Uramaki\", [\"Shrimp tempura\", \"avocado\", \"cucumber\"], 11.0],\n",
        "    [\"Forrest Gump Futomaki\", [\"Pickled radish\"], 8.0],\n",
        "    [\"Inception Roll\", [\"Lobster\", \"caviar\", \"asparagus\"], 18.5],\n",
        "    [\"Interstellar Maki\", [\"Spicy tuna\", \"jalapeno\"], 13.0],\n",
        "    [\"La La Land Nigiri\", [\"Salmon belly\"], 14.75],\n",
        "    [\"Mad Max Roll\", [\"Beef\", \"scallion\", \"asparagus\"], 15.5],\n",
        "    [\"The Matrix Uramaki\", [\"Avocado\", \"cucumber\", \"tofu\"], 10.25],\n",
        "    [\"No Country for Old Men Temaki\", [\"Tuna\", \"spicy mayo\"], 12.0],\n",
        "    [\"Once Upon a Time Temaki\", [\"Shrimp\", \"mango\", \"cream cheese\"], 13.25],\n",
        "    [\"Parasite Gunkan\", [\"Sea urchin\"], 19.0],\n",
        "    [\"The Silence of the Lambs Sashimi\", [\"Octopus\"], 11.5],\n",
        "    [\"Skyfall Nigiri\", [\"Smoked salmon\"], 9.75],\n",
        "    [\"Titanic Roll\", [\"Cucumber\", \"avocado\", \"salmon\"], 16.0],\n",
        "    [\"Whiplash Maki\", [\"Eel\", \"avocado\"], 10.5],\n",
        "]\n",
        "\n",
        "try:\n",
        "    with open('sushi_menu.csv', 'w', newline='') as file:\n",
        "        writer = csv.writer(file)\n",
        "        writer.writerows(menu)\n",
        "    print(\"Menu successfully written to sushi_menu.csv\")\n",
        "except IOError:\n",
        "    print(\"Error writing to file.\")\n"
      ],
      "metadata": {
        "colab": {
          "base_uri": "https://localhost:8080/"
        },
        "id": "i0UNbe0h_W9G",
        "outputId": "f4ef4b66-e5a2-468d-c463-6f9f94e4c4c0"
      },
      "execution_count": 8,
      "outputs": [
        {
          "output_type": "stream",
          "name": "stdout",
          "text": [
            "Menu successfully written to sushi_menu.csv\n"
          ]
        }
      ]
    },
    {
      "cell_type": "code",
      "source": [
        "# Open file using system viewer\n",
        "!cat sushi_menu.csv"
      ],
      "metadata": {
        "colab": {
          "base_uri": "https://localhost:8080/"
        },
        "id": "8ofzgXWN-CgF",
        "outputId": "9339a9d1-8b24-46bf-c988-e3e8a40a2a93"
      },
      "execution_count": 9,
      "outputs": [
        {
          "output_type": "stream",
          "name": "stdout",
          "text": [
            "Sushi Name,Ingredients,Price\r\n",
            "The Godfather Roll,\"['Salmon', 'avocado', 'cream cheese']\",12.5\r\n",
            "Casablanca Sashimi,['Tuna'],10.0\r\n",
            "Gone with the Wind Gunkan,\"['Scallop', 'mayo']\",8.75\r\n",
            "Citizen Kane Nigiri,['Eel'],7.5\r\n",
            "The Shawshank Temaki,\"['Crab', 'cucumber', 'avocado']\",9.25\r\n",
            "Pulp Fiction Uramaki,\"['Shrimp tempura', 'avocado', 'cucumber']\",11.0\r\n",
            "Forrest Gump Futomaki,['Pickled radish'],8.0\r\n",
            "Inception Roll,\"['Lobster', 'caviar', 'asparagus']\",18.5\r\n",
            "Interstellar Maki,\"['Spicy tuna', 'jalapeno']\",13.0\r\n",
            "La La Land Nigiri,['Salmon belly'],14.75\r\n",
            "Mad Max Roll,\"['Beef', 'scallion', 'asparagus']\",15.5\r\n",
            "The Matrix Uramaki,\"['Avocado', 'cucumber', 'tofu']\",10.25\r\n",
            "No Country for Old Men Temaki,\"['Tuna', 'spicy mayo']\",12.0\r\n",
            "Once Upon a Time Temaki,\"['Shrimp', 'mango', 'cream cheese']\",13.25\r\n",
            "Parasite Gunkan,['Sea urchin'],19.0\r\n",
            "The Silence of the Lambs Sashimi,['Octopus'],11.5\r\n",
            "Skyfall Nigiri,['Smoked salmon'],9.75\r\n",
            "Titanic Roll,\"['Cucumber', 'avocado', 'salmon']\",16.0\r\n",
            "Whiplash Maki,\"['Eel', 'avocado']\",10.5\r\n"
          ]
        }
      ]
    },
    {
      "cell_type": "markdown",
      "source": [
        "This example tries to write the extended menu to a CSV file. If an error occurs during file operations (e.g., permission issues), it is caught by the `except` block, which prints an error message.\n",
        "\n",
        "### Reading a CSV file"
      ],
      "metadata": {
        "id": "V9OwDeUm_zIZ"
      }
    },
    {
      "cell_type": "code",
      "source": [
        "import csv\n",
        "\n",
        "try:\n",
        "    with open('sushi_menu.csv', 'r') as file:\n",
        "        reader = csv.reader(file)\n",
        "        for row in reader:\n",
        "            print(row)\n",
        "except FileNotFoundError:\n",
        "    print(\"The file sushi_menu.csv was not found.\")\n",
        "except IOError:\n",
        "    print(\"Error reading file.\")"
      ],
      "metadata": {
        "colab": {
          "base_uri": "https://localhost:8080/"
        },
        "id": "ZxMcPKZn_9Gy",
        "outputId": "799e1d74-82c9-4817-d069-2dbb5daed81a"
      },
      "execution_count": 10,
      "outputs": [
        {
          "output_type": "stream",
          "name": "stdout",
          "text": [
            "['Sushi Name', 'Ingredients', 'Price']\n",
            "['The Godfather Roll', \"['Salmon', 'avocado', 'cream cheese']\", '12.5']\n",
            "['Casablanca Sashimi', \"['Tuna']\", '10.0']\n",
            "['Gone with the Wind Gunkan', \"['Scallop', 'mayo']\", '8.75']\n",
            "['Citizen Kane Nigiri', \"['Eel']\", '7.5']\n",
            "['The Shawshank Temaki', \"['Crab', 'cucumber', 'avocado']\", '9.25']\n",
            "['Pulp Fiction Uramaki', \"['Shrimp tempura', 'avocado', 'cucumber']\", '11.0']\n",
            "['Forrest Gump Futomaki', \"['Pickled radish']\", '8.0']\n",
            "['Inception Roll', \"['Lobster', 'caviar', 'asparagus']\", '18.5']\n",
            "['Interstellar Maki', \"['Spicy tuna', 'jalapeno']\", '13.0']\n",
            "['La La Land Nigiri', \"['Salmon belly']\", '14.75']\n",
            "['Mad Max Roll', \"['Beef', 'scallion', 'asparagus']\", '15.5']\n",
            "['The Matrix Uramaki', \"['Avocado', 'cucumber', 'tofu']\", '10.25']\n",
            "['No Country for Old Men Temaki', \"['Tuna', 'spicy mayo']\", '12.0']\n",
            "['Once Upon a Time Temaki', \"['Shrimp', 'mango', 'cream cheese']\", '13.25']\n",
            "['Parasite Gunkan', \"['Sea urchin']\", '19.0']\n",
            "['The Silence of the Lambs Sashimi', \"['Octopus']\", '11.5']\n",
            "['Skyfall Nigiri', \"['Smoked salmon']\", '9.75']\n",
            "['Titanic Roll', \"['Cucumber', 'avocado', 'salmon']\", '16.0']\n",
            "['Whiplash Maki', \"['Eel', 'avocado']\", '10.5']\n"
          ]
        }
      ]
    },
    {
      "cell_type": "markdown",
      "source": [
        "In this reading example, we specifically catch `FileNotFoundError` to handle the case where the file does not exist. A general `IOError` is also caught to cover other I/O related errors. This ensures that the program provides a clear message about what went wrong instead of terminating abruptly."
      ],
      "metadata": {
        "id": "vHcEAGkJBOGO"
      }
    },
    {
      "cell_type": "markdown",
      "source": [
        "## Table: Reading and Writing CSV Files\n",
        "\n",
        "| Code Snippet | Explanation |\n",
        "| --- | --- |\n",
        "| `with open(\"file_path\", \"r\") as file:` | Open a file for reading. The `with` statement ensures proper resource management, automatically closing the file after the block's execution. |\n",
        "| `with open(\"file_path\", \"w\") as file:` | Open a file for writing. If the file exists, it will be overwritten. If the file doesn't exist, it will be created. |\n",
        "| `with open(\"file_path\", \"a\") as file:` | Open a file for appending. If the file exists, data will be appended to the end. If the file doesn't exist, it will be created. |\n",
        "| `file.read()` | Read the entire contents of a file into a string. |\n",
        "| `file.readline()` | Read the next line from the file, including the newline character. |\n",
        "| `file.readlines()` | Read all lines in a file into a list where each element is a line. |\n",
        "| `file.write(\"text\")` | Write the string \"text\" to the file. |\n",
        "| `import csv` | Import the CSV module, which provides functionality to read and write CSV files. |\n",
        "| `csv.reader(file)` | Create a CSV reader object which will iterate over lines in the specified file. |\n",
        "| `csv.writer(file)` | Create a CSV writer object which provides methods to write to the CSV file. |\n",
        "| `writer.writerow([\"data1\", \"data2\"])` | Write a single row to the CSV file. The argument is a list where each element corresponds to a field. |\n",
        "| `writer.writerows([[\"row1data1\", \"row1data2\"], [\"row2data1\", \"row2data2\"]])` | Write multiple rows to the CSV file. The argument is a list of lists, with each inner list representing a row. |\n",
        "| `reader = csv.DictReader(file)` | Create a CSV reader object that maps the information read into a dictionary where keys are given by the optional `fieldnames` parameter or the first row in the file. |\n",
        "| `writer = csv.DictWriter(file, fieldnames=[\"col1\", \"col2\"])` | Create a CSV writer object to write dictionaries to the file, using the `fieldnames` parameter to specify the column names. |"
      ],
      "metadata": {
        "id": "2HGejDMpCJQc"
      }
    },
    {
      "cell_type": "code",
      "source": [],
      "metadata": {
        "id": "pctWhghSCJmh"
      },
      "execution_count": null,
      "outputs": []
    }
  ]
}