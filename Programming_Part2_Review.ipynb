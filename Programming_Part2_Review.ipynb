{
  "nbformat": 4,
  "nbformat_minor": 0,
  "metadata": {
    "colab": {
      "provenance": [],
      "authorship_tag": "ABX9TyPjs/MTwJKo4eOVOLgDKRVa",
      "include_colab_link": true
    },
    "kernelspec": {
      "name": "python3",
      "display_name": "Python 3"
    },
    "language_info": {
      "name": "python"
    }
  },
  "cells": [
    {
      "cell_type": "markdown",
      "metadata": {
        "id": "view-in-github",
        "colab_type": "text"
      },
      "source": [
        "<a href=\"https://colab.research.google.com/github/brendanpshea/programming_problem_solving/blob/main/Programming_Part2_Review.ipynb\" target=\"_parent\"><img src=\"https://colab.research.google.com/assets/colab-badge.svg\" alt=\"Open In Colab\"/></a>"
      ]
    },
    {
      "cell_type": "code",
      "execution_count": null,
      "metadata": {
        "id": "A4o-fqkN89yk"
      },
      "outputs": [],
      "source": []
    },
    {
      "cell_type": "markdown",
      "source": [
        "## Exceptions\n",
        "In Python, exceptions are events detected during execution that interrupt the normal flow of a program. The language provides a robust mechanism to handle these exceptions gracefully, using try, except, and finally blocks. This mechanism allows a program to respond to different types of errors without crashing abruptly. Let's delve into how this mechanism can be applied in the context of a simple sushi restaurant script.\n",
        "\n",
        "Consider a script for a sushi restaurant's order system. Various exceptions might occur, such as an order for an item not on the menu, entering a non-integer value for the quantity, or trying to access a file that logs orders but doesn't exist. Handling these exceptions properly ensures the program runs smoothly and provides meaningful feedback to the user or the system.\n",
        "\n",
        "### Example 1: Handling a Non-existent Menu Item"
      ],
      "metadata": {
        "id": "X4tXwc4K9Bwu"
      }
    },
    {
      "cell_type": "code",
      "source": [
        "menu = [\"salmon nigiri\", \"tuna roll\", \"avocado maki\"]\n",
        "\n",
        "try:\n",
        "    order = input(\"Enter your order: \")\n",
        "    if order not in menu:\n",
        "        raise ValueError(f\"Item {order} not on the menu\")\n",
        "except ValueError as e:\n",
        "    print(e)\n",
        "finally:\n",
        "    print(\"Thank you for visiting our sushi restaurant.\")\n"
      ],
      "metadata": {
        "colab": {
          "base_uri": "https://localhost:8080/"
        },
        "id": "4DAx5IhR9C9u",
        "outputId": "f7c2e710-5a05-4c0e-fed4-b5f37872d54f"
      },
      "execution_count": 1,
      "outputs": [
        {
          "output_type": "stream",
          "name": "stdout",
          "text": [
            "Enter your order: tuna\n",
            "Item tuna not on the menu\n",
            "Thank you for visiting our sushi restaurant.\n"
          ]
        }
      ]
    },
    {
      "cell_type": "markdown",
      "source": [
        "In this example, if a customer orders something not on the menu, a `ValueError` is raised, and the except block handles it by printing the error message. The `finally` block executes regardless of the exception, thanking the customer.\n",
        "\n",
        "### Example 2: Handling Invalid Quantity Input"
      ],
      "metadata": {
        "id": "1xeiurai9Teh"
      }
    },
    {
      "cell_type": "code",
      "source": [
        "try:\n",
        "    quantity = int(input(\"Enter quantity: \"))\n",
        "except ValueError:\n",
        "    print(\"Please enter a valid integer for quantity.\")\n",
        "finally:\n",
        "    print(\"Processing completed.\")"
      ],
      "metadata": {
        "colab": {
          "base_uri": "https://localhost:8080/"
        },
        "id": "8OVur1a_9a1l",
        "outputId": "f93d5c1e-a42c-4c1d-890e-c00b0a81adc8"
      },
      "execution_count": 2,
      "outputs": [
        {
          "output_type": "stream",
          "name": "stdout",
          "text": [
            "Enter quantity: 3\n",
            "Processing completed.\n"
          ]
        }
      ]
    },
    {
      "cell_type": "markdown",
      "source": [
        "Here, if the user inputs a non-integer value for quantity, a `ValueError` is raised, and the corresponding except block informs the user to provide a valid integer.\n",
        "\n",
        "## Example 3: File Handling"
      ],
      "metadata": {
        "id": "H-byde4p9h8B"
      }
    },
    {
      "cell_type": "code",
      "source": [
        "try:\n",
        "    with open(\"order_log.txt\", \"r\") as file:\n",
        "        orders = file.read()\n",
        "except FileNotFoundError:\n",
        "    print(\"Order log file not found.\")\n",
        "finally:\n",
        "    print(\"End of order processing.\")"
      ],
      "metadata": {
        "colab": {
          "base_uri": "https://localhost:8080/"
        },
        "id": "zXE3Udqd92mo",
        "outputId": "d3a33c35-318c-4e35-bf2e-7a8c21c1dbb2"
      },
      "execution_count": 3,
      "outputs": [
        {
          "output_type": "stream",
          "name": "stdout",
          "text": [
            "Order log file not found.\n",
            "End of order processing.\n"
          ]
        }
      ]
    },
    {
      "cell_type": "markdown",
      "source": [
        "### Table of 10 Common Python Exceptions\n",
        "\n",
        "| Exception Name | Description |\n",
        "| --- | --- |\n",
        "| ValueError | Raised when a built-in operation or function receives an argument with the right type but an inappropriate value. |\n",
        "| TypeError | Occurs when an operation or function is applied to an object of inappropriate type. |\n",
        "| IndexError | Raised when attempting to access an index out of the range of a sequence (e.g., a list or tuple). |\n",
        "| KeyError | Occurs when a dictionary key is not found. |\n",
        "| FileNotFoundError | Raised when an attempt to open a file (or a specified path) fails. |\n",
        "| ZeroDivisionError | Occurs when the second argument of a division or modulo operation is zero. |\n",
        "| NameError | Raised when a local or global name is not found. |\n",
        "| OverflowError | Occurs when an arithmetic operation exceeds the limits of the data type. |\n",
        "| SyntaxError | Raised when the parser encounters a syntax error. |\n",
        "| AttributeError | Occurs when an attribute reference or assignment fails. |\n",
        "\n",
        "Understanding and handling these exceptions are fundamental in developing resilient Python applications that can anticipate and manage errors gracefully, enhancing both the user experience and system stability."
      ],
      "metadata": {
        "id": "4WMydQq7-BIY"
      }
    },
    {
      "cell_type": "markdown",
      "source": [
        "### General File Handling in Python\n",
        "\n",
        "File handling is a fundamental aspect of many programming tasks, enabling applications to persist data between sessions, interact with data files, and process user input or outputs. Python simplifies file operations through its built-in functions, allowing for efficient and straightforward file reading, writing, and manipulation. This section introduces the core concepts of file handling in Python, serving as a precursor to more structured data handling methods like CSV and JSON.\n",
        "\n",
        "#### Opening Files\n",
        "\n",
        "The `open()` function is the gateway to file handling in Python. It returns a file object and is commonly used with two arguments: `filename` and `mode`.\n",
        "\n",
        "`file = open(\"example.txt\", \"r\")`\n",
        "\n",
        "#### File Modes\n",
        "\n",
        "-   \"r\" - Read: Default mode. Opens a file for reading.\n",
        "-   \"w\" - Write: Opens a file for writing, creates the file if it does not exist, and truncates the file to zero length if it does.\n",
        "-   \"a\" - Append: Opens a file for appending at the end without truncating it. Creates a new file if it does not exist.\n",
        "-   \"r+\" - Read/Write: Opens the file for both reading and writing.\n",
        "\n",
        "#### The `with` Statement\n",
        "\n",
        "Using `with` is highly recommended when dealing with file operations. It ensures that the file is properly closed after its suite finishes, even if an exception is raised.\n",
        "\n",
        "```python\n",
        "with open(\"example.txt\", \"r\") as file:\n",
        "    data = file.read()\n",
        "```\n",
        "\n",
        "#### Reading Files\n",
        "\n",
        "-   `read(size)` - Reads at most `size` bytes from the file. If the `size` argument is omitted or negative, the entire content of the file will be read and returned.\n",
        "-   `readline()` - Reads a single line from the file.\n",
        "-   `readlines()` - Reads all the lines in a file and returns them as a list.\n",
        "\n",
        "```python\n",
        "with open(\"example.txt\", \"r\") as file:\n",
        "    for line in file:\n",
        "        print(line, end='')\n",
        "```\n",
        "\n",
        "#### Writing to Files\n",
        "\n",
        "-   `write(string)` - Writes the string to the file, returning the number of characters written.\n",
        "-   `writelines(list)` - Writes a list of strings to the file.\n",
        "\n",
        "```python\n",
        "with open(\"example.txt\", \"w\") as file:\n",
        "    file.write(\"Hello, world!\\n\")\n",
        "```\n",
        "\n",
        "#### Appending to Files\n",
        "\n",
        "Appending to a file adds content to the end, preserving the existing data.\n",
        "\n",
        "```python\n",
        "with open(\"example.txt\", \"a\") as file:\n",
        "    file.write(\"Appending to the file.\\n\")\n",
        "```"
      ],
      "metadata": {
        "id": "BtSMLeyilwT2"
      }
    },
    {
      "cell_type": "markdown",
      "source": [
        "## CSV Files\n",
        "\n",
        "A CSV (Comma-Separated Values) file is a type of plain text file that uses specific structuring to arrange tabular data. Because it's a plain text file, it can be easily read by humans and machines. CSV files are commonly used for exchanging data between different applications. In a CSV file, each line corresponds to a row in the table, and each field (or cell in the table) is separated by a comma or another delimiter like a semicolon. The simplicity of this format makes it a universal standard for data interchange.\n",
        "\n",
        "Python provides the `csv` module to facilitate reading from and writing to CSV files. Below are basic examples of how to read from and write to CSV files.\n",
        "\n",
        "### Writing to a CSV File\n",
        "\n",
        "To create a simple menu for a sushi restaurant, we'll first write this menu to a CSV file."
      ],
      "metadata": {
        "id": "sMEg3iPr_Q4P"
      }
    },
    {
      "cell_type": "code",
      "source": [
        "import csv\n",
        "\n",
        "menu = [\n",
        "    [\"Sushi Name\", \"Ingredients\", \"Price\"],\n",
        "    [\"The Godfather Roll\", [\"Salmon\", \"avocado\", \"cream cheese\"], 12.5],\n",
        "    [\"Casablanca Sashimi\", [\"Tuna\"], 10.0],\n",
        "    [\"Gone with the Wind Gunkan\", [\"Scallop\", \"mayo\"], 8.75],\n",
        "    [\"Citizen Kane Nigiri\", [\"Eel\"], 7.5],\n",
        "    [\"The Shawshank Temaki\", [\"Crab\", \"cucumber\", \"avocado\"], 9.25],\n",
        "    [\"Pulp Fiction Uramaki\", [\"Shrimp tempura\", \"avocado\", \"cucumber\"], 11.0],\n",
        "    [\"Forrest Gump Futomaki\", [\"Pickled radish\"], 8.0],\n",
        "    [\"Inception Roll\", [\"Lobster\", \"caviar\", \"asparagus\"], 18.5],\n",
        "    [\"Interstellar Maki\", [\"Spicy tuna\", \"jalapeno\"], 13.0],\n",
        "    [\"La La Land Nigiri\", [\"Salmon belly\"], 14.75],\n",
        "    [\"Mad Max Roll\", [\"Beef\", \"scallion\", \"asparagus\"], 15.5],\n",
        "    [\"The Matrix Uramaki\", [\"Avocado\", \"cucumber\", \"tofu\"], 10.25],\n",
        "    [\"No Country for Old Men Temaki\", [\"Tuna\", \"spicy mayo\"], 12.0],\n",
        "    [\"Once Upon a Time Temaki\", [\"Shrimp\", \"mango\", \"cream cheese\"], 13.25],\n",
        "    [\"Parasite Gunkan\", [\"Sea urchin\"], 19.0],\n",
        "    [\"The Silence of the Lambs Sashimi\", [\"Octopus\"], 11.5],\n",
        "    [\"Skyfall Nigiri\", [\"Smoked salmon\"], 9.75],\n",
        "    [\"Titanic Roll\", [\"Cucumber\", \"avocado\", \"salmon\"], 16.0],\n",
        "    [\"Whiplash Maki\", [\"Eel\", \"avocado\"], 10.5],\n",
        "]\n",
        "\n",
        "try:\n",
        "    with open('sushi_menu.csv', 'w', newline='') as file:\n",
        "        writer = csv.writer(file)\n",
        "        writer.writerows(menu)\n",
        "    print(\"Menu successfully written to sushi_menu.csv\")\n",
        "except IOError:\n",
        "    print(\"Error writing to file.\")\n"
      ],
      "metadata": {
        "colab": {
          "base_uri": "https://localhost:8080/"
        },
        "id": "i0UNbe0h_W9G",
        "outputId": "0b9336ae-6241-430d-8090-5c5378c424a0"
      },
      "execution_count": 4,
      "outputs": [
        {
          "output_type": "stream",
          "name": "stdout",
          "text": [
            "Menu successfully written to sushi_menu.csv\n"
          ]
        }
      ]
    },
    {
      "cell_type": "code",
      "source": [
        "# Open file using system viewer\n",
        "!cat sushi_menu.csv"
      ],
      "metadata": {
        "colab": {
          "base_uri": "https://localhost:8080/"
        },
        "id": "8ofzgXWN-CgF",
        "outputId": "0f92cab8-0cf2-4b46-f647-996d074ee8a9"
      },
      "execution_count": 5,
      "outputs": [
        {
          "output_type": "stream",
          "name": "stdout",
          "text": [
            "Sushi Name,Ingredients,Price\r\n",
            "The Godfather Roll,\"['Salmon', 'avocado', 'cream cheese']\",12.5\r\n",
            "Casablanca Sashimi,['Tuna'],10.0\r\n",
            "Gone with the Wind Gunkan,\"['Scallop', 'mayo']\",8.75\r\n",
            "Citizen Kane Nigiri,['Eel'],7.5\r\n",
            "The Shawshank Temaki,\"['Crab', 'cucumber', 'avocado']\",9.25\r\n",
            "Pulp Fiction Uramaki,\"['Shrimp tempura', 'avocado', 'cucumber']\",11.0\r\n",
            "Forrest Gump Futomaki,['Pickled radish'],8.0\r\n",
            "Inception Roll,\"['Lobster', 'caviar', 'asparagus']\",18.5\r\n",
            "Interstellar Maki,\"['Spicy tuna', 'jalapeno']\",13.0\r\n",
            "La La Land Nigiri,['Salmon belly'],14.75\r\n",
            "Mad Max Roll,\"['Beef', 'scallion', 'asparagus']\",15.5\r\n",
            "The Matrix Uramaki,\"['Avocado', 'cucumber', 'tofu']\",10.25\r\n",
            "No Country for Old Men Temaki,\"['Tuna', 'spicy mayo']\",12.0\r\n",
            "Once Upon a Time Temaki,\"['Shrimp', 'mango', 'cream cheese']\",13.25\r\n",
            "Parasite Gunkan,['Sea urchin'],19.0\r\n",
            "The Silence of the Lambs Sashimi,['Octopus'],11.5\r\n",
            "Skyfall Nigiri,['Smoked salmon'],9.75\r\n",
            "Titanic Roll,\"['Cucumber', 'avocado', 'salmon']\",16.0\r\n",
            "Whiplash Maki,\"['Eel', 'avocado']\",10.5\r\n"
          ]
        }
      ]
    },
    {
      "cell_type": "markdown",
      "source": [
        "This example tries to write the extended menu to a CSV file. If an error occurs during file operations (e.g., permission issues), it is caught by the `except` block, which prints an error message.\n",
        "\n",
        "### Reading a CSV file"
      ],
      "metadata": {
        "id": "V9OwDeUm_zIZ"
      }
    },
    {
      "cell_type": "code",
      "source": [
        "import csv\n",
        "\n",
        "try:\n",
        "    with open('sushi_menu.csv', 'r') as file:\n",
        "        reader = csv.reader(file)\n",
        "        for row in reader:\n",
        "            print(row)\n",
        "except FileNotFoundError:\n",
        "    print(\"The file sushi_menu.csv was not found.\")\n",
        "except IOError:\n",
        "    print(\"Error reading file.\")"
      ],
      "metadata": {
        "colab": {
          "base_uri": "https://localhost:8080/"
        },
        "id": "ZxMcPKZn_9Gy",
        "outputId": "a4f8da30-a836-469b-859c-deb9a0f9d3b5"
      },
      "execution_count": 6,
      "outputs": [
        {
          "output_type": "stream",
          "name": "stdout",
          "text": [
            "['Sushi Name', 'Ingredients', 'Price']\n",
            "['The Godfather Roll', \"['Salmon', 'avocado', 'cream cheese']\", '12.5']\n",
            "['Casablanca Sashimi', \"['Tuna']\", '10.0']\n",
            "['Gone with the Wind Gunkan', \"['Scallop', 'mayo']\", '8.75']\n",
            "['Citizen Kane Nigiri', \"['Eel']\", '7.5']\n",
            "['The Shawshank Temaki', \"['Crab', 'cucumber', 'avocado']\", '9.25']\n",
            "['Pulp Fiction Uramaki', \"['Shrimp tempura', 'avocado', 'cucumber']\", '11.0']\n",
            "['Forrest Gump Futomaki', \"['Pickled radish']\", '8.0']\n",
            "['Inception Roll', \"['Lobster', 'caviar', 'asparagus']\", '18.5']\n",
            "['Interstellar Maki', \"['Spicy tuna', 'jalapeno']\", '13.0']\n",
            "['La La Land Nigiri', \"['Salmon belly']\", '14.75']\n",
            "['Mad Max Roll', \"['Beef', 'scallion', 'asparagus']\", '15.5']\n",
            "['The Matrix Uramaki', \"['Avocado', 'cucumber', 'tofu']\", '10.25']\n",
            "['No Country for Old Men Temaki', \"['Tuna', 'spicy mayo']\", '12.0']\n",
            "['Once Upon a Time Temaki', \"['Shrimp', 'mango', 'cream cheese']\", '13.25']\n",
            "['Parasite Gunkan', \"['Sea urchin']\", '19.0']\n",
            "['The Silence of the Lambs Sashimi', \"['Octopus']\", '11.5']\n",
            "['Skyfall Nigiri', \"['Smoked salmon']\", '9.75']\n",
            "['Titanic Roll', \"['Cucumber', 'avocado', 'salmon']\", '16.0']\n",
            "['Whiplash Maki', \"['Eel', 'avocado']\", '10.5']\n"
          ]
        }
      ]
    },
    {
      "cell_type": "markdown",
      "source": [
        "In this reading example, we specifically catch `FileNotFoundError` to handle the case where the file does not exist. A general `IOError` is also caught to cover other I/O related errors. This ensures that the program provides a clear message about what went wrong instead of terminating abruptly."
      ],
      "metadata": {
        "id": "vHcEAGkJBOGO"
      }
    },
    {
      "cell_type": "markdown",
      "source": [
        "## Table: Reading and Writing CSV Files\n",
        "\n",
        "| Code Snippet | Explanation |\n",
        "| --- | --- |\n",
        "| `with open(\"file_path\", \"r\") as file:` | Open a file for reading. The `with` statement ensures proper resource management, automatically closing the file after the block's execution. |\n",
        "| `with open(\"file_path\", \"w\") as file:` | Open a file for writing. If the file exists, it will be overwritten. If the file doesn't exist, it will be created. |\n",
        "| `with open(\"file_path\", \"a\") as file:` | Open a file for appending. If the file exists, data will be appended to the end. If the file doesn't exist, it will be created. |\n",
        "| `file.read()` | Read the entire contents of a file into a string. |\n",
        "| `file.readline()` | Read the next line from the file, including the newline character. |\n",
        "| `file.readlines()` | Read all lines in a file into a list where each element is a line. |\n",
        "| `file.write(\"text\")` | Write the string \"text\" to the file. |\n",
        "| `import csv` | Import the CSV module, which provides functionality to read and write CSV files. |\n",
        "| `csv.reader(file)` | Create a CSV reader object which will iterate over lines in the specified file. |\n",
        "| `csv.writer(file)` | Create a CSV writer object which provides methods to write to the CSV file. |\n",
        "| `writer.writerow([\"data1\", \"data2\"])` | Write a single row to the CSV file. The argument is a list where each element corresponds to a field. |\n",
        "| `writer.writerows([[\"row1data1\", \"row1data2\"], [\"row2data1\", \"row2data2\"]])` | Write multiple rows to the CSV file. The argument is a list of lists, with each inner list representing a row. |\n",
        "| `reader = csv.DictReader(file)` | Create a CSV reader object that maps the information read into a dictionary where keys are given by the optional `fieldnames` parameter or the first row in the file. |\n",
        "| `writer = csv.DictWriter(file, fieldnames=[\"col1\", \"col2\"])` | Create a CSV writer object to write dictionaries to the file, using the `fieldnames` parameter to specify the column names. |"
      ],
      "metadata": {
        "id": "2HGejDMpCJQc"
      }
    },
    {
      "cell_type": "markdown",
      "source": [
        "## JSON Files\n",
        "\n",
        "JSON (JavaScript Object Notation) is a lightweight data-interchange format that is easy for humans to read and write and easy for machines to parse and generate. JSON is based on the syntax of JavaScript but is a text format that is completely language independent. JSON files are ideal for data interchange between a server and a web application or between different parts of an application. A JSON file typically has a `.json` extension and represents data structured in a hierarchy of objects and arrays. Objects are denoted by curly braces `{}` containing key-value pairs, where the key is a string, and the value can be a string, number, boolean, array, or another object. Arrays are ordered lists of values and are denoted by square brackets `[]`.\n",
        "\n",
        "Python comes with a built-in module named `json` for encoding and decoding JSON data. You can easily convert between Python dictionaries and JSON formatted strings, and vice versa.\n",
        "\n",
        "#### Writing to a JSON File\n",
        "To write a Python dictionary to a file:"
      ],
      "metadata": {
        "id": "t_tJBlRQF9_C"
      }
    },
    {
      "cell_type": "code",
      "source": [
        "import json\n",
        "\n",
        "# Data to be written\n",
        "sushi_menu = {\n",
        "    \"rolls\": [\n",
        "        {\"name\": \"The Matrix Reloaded Roll\", \"ingredients\": [\"Avocado\", \"cucumber\", \"green onion\"], \"price\": 9.5},\n",
        "        {\"name\": \"The Incredibles Roll\", \"ingredients\": [\"Tempura shrimp\", \"spicy tuna\", \"avocado\"], \"price\": 12.5},\n",
        "        # Add more rolls here\n",
        "    ]\n",
        "}\n",
        "\n",
        "# Writing JSON data\n",
        "with open('sushi_menu.json', 'w') as file:\n",
        "    json.dump(sushi_menu, file, indent=4)\n"
      ],
      "metadata": {
        "id": "vmzeKKlKGJdJ"
      },
      "execution_count": 7,
      "outputs": []
    },
    {
      "cell_type": "code",
      "source": [
        "# View the file with the system viewer\n",
        "!cat sushi_menu.json"
      ],
      "metadata": {
        "colab": {
          "base_uri": "https://localhost:8080/"
        },
        "id": "r8mUk7U0GMV9",
        "outputId": "38d291d2-f126-4032-ac2d-0ed37877b820"
      },
      "execution_count": 8,
      "outputs": [
        {
          "output_type": "stream",
          "name": "stdout",
          "text": [
            "{\n",
            "    \"rolls\": [\n",
            "        {\n",
            "            \"name\": \"The Matrix Reloaded Roll\",\n",
            "            \"ingredients\": [\n",
            "                \"Avocado\",\n",
            "                \"cucumber\",\n",
            "                \"green onion\"\n",
            "            ],\n",
            "            \"price\": 9.5\n",
            "        },\n",
            "        {\n",
            "            \"name\": \"The Incredibles Roll\",\n",
            "            \"ingredients\": [\n",
            "                \"Tempura shrimp\",\n",
            "                \"spicy tuna\",\n",
            "                \"avocado\"\n",
            "            ],\n",
            "            \"price\": 12.5\n",
            "        }\n",
            "    ]\n",
            "}"
          ]
        }
      ]
    },
    {
      "cell_type": "markdown",
      "source": [
        "To read a JSON file back into JSON, we can do the following:"
      ],
      "metadata": {
        "id": "bAsXL2cljpZs"
      }
    },
    {
      "cell_type": "code",
      "source": [
        "import json\n",
        "\n",
        "# Reading JSON data\n",
        "with open('sushi_menu.json', 'r') as file:\n",
        "    menu_data = json.load(file)\n",
        "\n",
        "print(menu_data)"
      ],
      "metadata": {
        "colab": {
          "base_uri": "https://localhost:8080/"
        },
        "id": "pctWhghSCJmh",
        "outputId": "772097e5-2733-45b4-f5eb-7c4e95d5eff8"
      },
      "execution_count": 9,
      "outputs": [
        {
          "output_type": "stream",
          "name": "stdout",
          "text": [
            "{'rolls': [{'name': 'The Matrix Reloaded Roll', 'ingredients': ['Avocado', 'cucumber', 'green onion'], 'price': 9.5}, {'name': 'The Incredibles Roll', 'ingredients': ['Tempura shrimp', 'spicy tuna', 'avocado'], 'price': 12.5}]}\n"
          ]
        }
      ]
    },
    {
      "cell_type": "markdown",
      "source": [
        "## Table: CSV and JSON\n",
        "\n",
        "| Feature | JSON | CSV |\n",
        "| --- | --- | --- |\n",
        "| Format | Text-based, hierarchical | Text-based, tabular |\n",
        "| Data Structure | Supports nested and complex data. <br> Ideal for hierarchical or structured data with varying fields. | Flat structure.  <br> Best for simple tabular data without hierarchical relationships. |\n",
        "| Readability | Readable by humans and easily parsed by machines.  <br> Provides clear visibility of nested data. | Easily readable by humans, especially in spreadsheet programs. <br> Less clear for complex hierarchical data. |\n",
        "| Flexibility | Highly flexible in representing different data types and structures. | Limited flexibility. Best suited for straightforward, table-like data. |\n",
        "| Standardization | Widely used in web applications for data interchange.  <br>JSON format is universally recognized across programming languages. | A common format for data export and import in spreadsheets and databases.  <br>Less standardized in terms of data interpretation. |\n",
        "| File Size | Generally larger due to repeated keys and more verbose formatting.  <br>Can be minimized with compression. | Typically smaller and more compact, making it efficient for large datasets. |\n",
        "| Ease of Use | Easy to use with modern web APIs and JavaScript-based applications. <br> Requires parsing to and from objects in most programming languages. | Simple to use with minimal overhead for reading and writing. <br> Directly compatible with spreadsheet applications. |\n",
        "| Data Types | Supports strings, numbers, arrays, and Boolean values directly. | Primarily treats all data as strings. <br> Requires explicit conversion for numerical operations. |\n",
        "| Use Cases | Ideal for applications that require complex data with nested structures, <br> such as configurations, web API responses, and settings. | Suitable for data analysis, spreadsheet manipulation, <br> and scenarios where data is uniformly structured without a need for nesting. |"
      ],
      "metadata": {
        "id": "ek3a4zv-kQBt"
      }
    },
    {
      "cell_type": "markdown",
      "source": [
        "## Sample Program: Random Rolls\n",
        "Here is a sample program that demonstrates some of what we've been coverning so far. It creates a menu of random sushi rolls."
      ],
      "metadata": {
        "id": "URfmSg3BnwhB"
      }
    },
    {
      "cell_type": "code",
      "source": [
        "import random\n",
        "\n",
        "def random_rolls(n):\n",
        "    \"\"\" A function to create n random sushi rolls\"\"\"\n",
        "    ingredients = [\n",
        "        (\"salmon\", 60), (\"tuna\", 50), (\"red snapper\", 60), (\"avocado\", 160), (\"cucumber\", 8),\n",
        "        (\"eel\", 85), (\"shrimp\", 20), (\"crab meat\", 40), (\"tempura\", 95), (\"mayo\", 100),\n",
        "        (\"spicy mayo\", 110), (\"tofu\", 70), (\"cream cheese\", 100), (\"sweet potato\", 90),\n",
        "        (\"asparagus\", 20), (\"scallions\", 5), (\"mango\", 70), (\"red bell pepper\", 25),\n",
        "        (\"carrot\", 40), (\"pickled radish\", 15)\n",
        "    ]\n",
        "    rolls = []\n",
        "\n",
        "    for _ in range(n):\n",
        "        roll_type = random.choice([\"maki\", \"nigiri\"])\n",
        "        num_ingredients = random.randint(2, 4)\n",
        "        selected_ingredients = random.sample(ingredients, num_ingredients)\n",
        "        ingredients_names = [ing[0] for ing in selected_ingredients]\n",
        "        total_calories = sum(ing[1] for ing in selected_ingredients)\n",
        "\n",
        "        # For nigiri, add rice calories\n",
        "        if roll_type == \"nigiri\":\n",
        "            total_calories += 40  # Assuming rice adds 40 calories\n",
        "        # For maki, add rice and seaweed calories\n",
        "        else:\n",
        "            total_calories += 50  # Assuming rice and seaweed together add 50 calories\n",
        "\n",
        "        sushi_name = \" and \".join(ingredients_names) + f\" {roll_type}\"\n",
        "        rolls.append((sushi_name, ingredients_names, total_calories, roll_type))\n",
        "\n",
        "    return rolls\n",
        "\n",
        "# Example of generating 5 random sushi rolls\n",
        "print(random_rolls(5))"
      ],
      "metadata": {
        "colab": {
          "base_uri": "https://localhost:8080/"
        },
        "id": "mGl3WxuuzY-A",
        "outputId": "096ddb86-4622-428b-a478-ce622efd4a4b"
      },
      "execution_count": 2,
      "outputs": [
        {
          "output_type": "stream",
          "name": "stdout",
          "text": [
            "[('eel and pickled radish maki', ['eel', 'pickled radish'], 150, 'maki'), ('asparagus and cream cheese and mayo nigiri', ['asparagus', 'cream cheese', 'mayo'], 260, 'nigiri'), ('cream cheese and red snapper nigiri', ['cream cheese', 'red snapper'], 200, 'nigiri'), ('asparagus and mango and scallions and cream cheese maki', ['asparagus', 'mango', 'scallions', 'cream cheese'], 245, 'maki'), ('eel and tuna nigiri', ['eel', 'tuna'], 175, 'nigiri')]\n"
          ]
        }
      ]
    },
    {
      "cell_type": "markdown",
      "source": [
        "Here's what happens here:\n",
        "\n",
        "1.  `def random_rolls(n):` defines a function named `random_rolls` that accepts a single argument, `n`, indicating the number of sushi rolls to generate.\n",
        "\n",
        "2.  `selected_ingredients = random.sample(ingredients, num_ingredients)` selects a random sample of ingredients from the `ingredients` list.\n",
        "\n",
        "3.  `ingredients_names = [ing[0] for ing in selected_ingredients]` uses list comprehension to extract the first element (name) from each tuple in the `selected_ingredients` list.\n",
        "\n",
        "4.  `total_calories = sum(ing[1] for ing in selected_ingredients)` calculates the total caloric value of the selected ingredients using aggregation with the `sum()` function, combined with a \"generator expression\".\n",
        "\n",
        "5.  `rolls.append((sushi_name, ingredients_names, total_calories, roll_type))` adds a tuple containing the sushi roll's name, its ingredients, the total caloric value, and the roll type to the `rolls` list.\n",
        "\n",
        "Now, let's see how we can generate 100 rolls and write these to a CSV file."
      ],
      "metadata": {
        "id": "vpMmObPLbhVN"
      }
    },
    {
      "cell_type": "code",
      "source": [
        "import csv\n",
        "\n",
        "def write_sushi_rolls_to_csv(sushi_rolls, filename=\"sushi_rolls.csv\"):\n",
        "    headers = [\"Sushi Name\", \"Ingredients\", \"Total Calories\", \"Type\"]\n",
        "\n",
        "    try:\n",
        "        # Open file in write mode.\n",
        "        with open(filename, 'w') as file:\n",
        "            writer = csv.writer(file)\n",
        "            writer.writerow(headers)  # Write the header row\n",
        "            for roll in sushi_rolls:\n",
        "                # Prepare the ingredients list as a string for CSV\n",
        "                ingredients_str = ', '.join(roll[1])\n",
        "                writer.writerow([roll[0], ingredients_str, roll[2], roll[3]])\n",
        "\n",
        "        print(f\"Sushi rolls data successfully written to {filename}\")\n",
        "    except IOError as e:\n",
        "        print(f\"Failed to write to file {filename}. Error: {e}\")\n",
        "    except Exception as e:\n",
        "        print(f\"An unexpected error occurred: {e}\")\n",
        "\n",
        "sushi_rolls = random_rolls(100)\n",
        "write_sushi_rolls_to_csv(sushi_rolls)"
      ],
      "metadata": {
        "colab": {
          "base_uri": "https://localhost:8080/"
        },
        "id": "OtV83dvab0u1",
        "outputId": "0ed9d2cd-5d69-402f-e935-f1b9f29d29b7"
      },
      "execution_count": 4,
      "outputs": [
        {
          "output_type": "stream",
          "name": "stdout",
          "text": [
            "Sushi rolls data successfully written to sushi_rolls.csv\n"
          ]
        }
      ]
    },
    {
      "cell_type": "markdown",
      "source": [
        "A few important lines here:\n",
        "\n",
        "1.  `def write_sushi_rolls_to_csv(sushi_rolls, filename=\"sushi_rolls.csv\")` establishes a method to save sushi roll information into a CSV file, accepting the data and an optional file name. We specify a default value for the filename.\n",
        "\n",
        "2.  `with open(filename, 'w') as file:` opens a file for writing. The indented lines that follow can interact with this file. Once we \"un-indent\", Python will automatically close the file.\n",
        "\n",
        "3.  `writer = csv.writer(file)` initializes a CSV writer object, preparing it to convert and store the provided data into the specified file.\n",
        "\n",
        "4.  `writer.writerow(headers)` inputs column names at the top of the CSV file, laying out the structure for the data entries that follow.\n",
        "\n",
        "5.  `writer.writerow([roll[0], ingredients_str, roll[2], roll[3]])` iterates over each sushi roll's data, formatting and recording it into the CSV file according to the predefined headers.\n",
        "\n",
        "6. We use `try` and `except` blocks to handle possible problems with writing to the file."
      ],
      "metadata": {
        "id": "6-YaktgAdUq5"
      }
    },
    {
      "cell_type": "markdown",
      "source": [
        "## Exercise: Create a Random Pizza Generator in Python\n",
        "\n",
        "The goal of this exercise is to adapt the given sushi roll generator functions to create a random pizza generator. This generator will produce a list of pizzas with randomly selected toppings, a type of crust, and calculate the total calories. This can be closely based on the above sushi generator app, and you should be able to reuse much of the same code.\n",
        "\n",
        "#### Step 1: Define Pizza Ingredients\n",
        "\n",
        "Create a list of tuples for pizza ingredients, similar to the sushi ingredients. Each tuple should contain the ingredient name and its calorie count. Consider ingredients like various cheeses, meats, vegetables, and sauces.\n",
        "\n",
        "#### Step 2: Implement the Random Pizza Generator Function\n",
        "Adapt the `random_rolls` function to generate random pizzas. Each pizza should have a random number of toppings (e.g., 2 to 5), a type of crust (e.g., thin, thick, stuffed), and calculate the total calories. Generate a name for each pizza based on its toppings.\n",
        "\n",
        "#### Step 3: Modify the Output Structure\n",
        "Modify the structure of the output tuple to fit the pizza context. It could include the pizza name, list of toppings, total calories, and crust type.\n",
        "\n",
        "#### Step 4: Write the Pizza Data to a CSV File\n",
        "\n",
        "Adapt the `write_sushi_rolls_to_csv` function to write your pizza data to a CSV file. Ensure your file includes headers appropriate for pizza (e.g., \"Pizza Name\", \"Toppings\", \"Total Calories\", \"Crust Type\").\n"
      ],
      "metadata": {
        "id": "wW6hKmOId_W_"
      }
    },
    {
      "cell_type": "code",
      "source": [
        "def pizza_generator(n):\n",
        "  # Your code here\n",
        "  pass"
      ],
      "metadata": {
        "id": "f5lHNzoJfKHw"
      },
      "execution_count": null,
      "outputs": []
    },
    {
      "cell_type": "code",
      "source": [
        "def write_pizza_to_csv(sushi_rolls, filename=\"pizzas.csv\"):\n",
        "  # Your code here\n",
        "  pass"
      ],
      "metadata": {
        "id": "JmFWMG9xdzfj"
      },
      "execution_count": null,
      "outputs": []
    },
    {
      "cell_type": "markdown",
      "source": [
        "## What is pandas?\n",
        "\n",
        "pandas is an open-source data analysis and manipulation tool, built on top of the Python programming language. It offers data structures and operations for manipulating numerical tables and time series, making it one of the most preferred and widely used tools in data analytics. pandas is particularly suited for working with tabular data (similar to Excel spreadsheets), including data that might have heterogeneous types, missing values, or other complexities.\n",
        "Some basic concepts of Pandas include:\n",
        "\n",
        "-  A **Data Series** is a one-dimensional array-like object containing a sequence of values (similar to a list in Python) and an associated array of data labels, called its index. Think of it as a single column of a spreadsheet, with row labels.\n",
        "\n",
        "-   A **Data Frame** is a two-dimensional, size-mutable, and potentially heterogeneous tabular data structure with labeled axes (rows and columns). It can be thought of as a spreadsheet or SQL table, or a dict of Series objects. Data Frames are the most commonly used pandas object, facilitating the handling of data in a structured form.\n",
        "\n",
        "pandas provides built in methods that are focused on the following tasks:\n",
        "\n",
        "-   **Data Cleaning.** pandas provides various functions for easily dropping missing values, filling missing values with specific data, and finding duplicates, which are essential steps in preparing data for analysis.\n",
        "\n",
        "-   **Data Analytics.** With pandas, you can perform both simple and complex data analysis tasks. These include aggregations, summarizations, transformations, and more sophisticated operations like group by, merge, join, and time series analysis.\n",
        "\n",
        "-   **Data Visualization.** pandas also integrates with Matplotlib for basic plotting functionality, allowing for quick and easy visualization of the data contained within a DataFrame or Series, including line plots, bar plots, histograms, and scatter plots.\n",
        "\n",
        "To utilize pandas for working with our sushi rolls data, we would start by loading the `sushi_rolls.csv` file into a pandas DataFrame. This process converts the structured CSV file into a DataFrame, enabling us to perform more complex manipulations and analyses with greater ease."
      ],
      "metadata": {
        "id": "u-K0CFebge8-"
      }
    },
    {
      "cell_type": "code",
      "source": [
        "import pandas as pd\n",
        "sushi_df = pd.read_csv(\"sushi_rolls.csv\")\n",
        "sushi_df.head()"
      ],
      "metadata": {
        "colab": {
          "base_uri": "https://localhost:8080/",
          "height": 206
        },
        "id": "QVHDY_26giGM",
        "outputId": "2434f942-2a5e-4f0c-baaf-f8c61b885c0c"
      },
      "execution_count": 6,
      "outputs": [
        {
          "output_type": "execute_result",
          "data": {
            "text/plain": [
              "                                         Sushi Name  \\\n",
              "0                      sweet potato and shrimp maki   \n",
              "1                   avocado and pickled radish maki   \n",
              "2                      spicy mayo and carrot nigiri   \n",
              "3  crab meat and scallions and shrimp and tuna maki   \n",
              "4                    cucumber and cream cheese maki   \n",
              "\n",
              "                          Ingredients  Total Calories    Type  \n",
              "0                sweet potato, shrimp             160    maki  \n",
              "1             avocado, pickled radish             225    maki  \n",
              "2                  spicy mayo, carrot             190  nigiri  \n",
              "3  crab meat, scallions, shrimp, tuna             165    maki  \n",
              "4              cucumber, cream cheese             158    maki  "
            ],
            "text/html": [
              "\n",
              "  <div id=\"df-238a879e-20b9-43f9-9c62-09475013afb0\" class=\"colab-df-container\">\n",
              "    <div>\n",
              "<style scoped>\n",
              "    .dataframe tbody tr th:only-of-type {\n",
              "        vertical-align: middle;\n",
              "    }\n",
              "\n",
              "    .dataframe tbody tr th {\n",
              "        vertical-align: top;\n",
              "    }\n",
              "\n",
              "    .dataframe thead th {\n",
              "        text-align: right;\n",
              "    }\n",
              "</style>\n",
              "<table border=\"1\" class=\"dataframe\">\n",
              "  <thead>\n",
              "    <tr style=\"text-align: right;\">\n",
              "      <th></th>\n",
              "      <th>Sushi Name</th>\n",
              "      <th>Ingredients</th>\n",
              "      <th>Total Calories</th>\n",
              "      <th>Type</th>\n",
              "    </tr>\n",
              "  </thead>\n",
              "  <tbody>\n",
              "    <tr>\n",
              "      <th>0</th>\n",
              "      <td>sweet potato and shrimp maki</td>\n",
              "      <td>sweet potato, shrimp</td>\n",
              "      <td>160</td>\n",
              "      <td>maki</td>\n",
              "    </tr>\n",
              "    <tr>\n",
              "      <th>1</th>\n",
              "      <td>avocado and pickled radish maki</td>\n",
              "      <td>avocado, pickled radish</td>\n",
              "      <td>225</td>\n",
              "      <td>maki</td>\n",
              "    </tr>\n",
              "    <tr>\n",
              "      <th>2</th>\n",
              "      <td>spicy mayo and carrot nigiri</td>\n",
              "      <td>spicy mayo, carrot</td>\n",
              "      <td>190</td>\n",
              "      <td>nigiri</td>\n",
              "    </tr>\n",
              "    <tr>\n",
              "      <th>3</th>\n",
              "      <td>crab meat and scallions and shrimp and tuna maki</td>\n",
              "      <td>crab meat, scallions, shrimp, tuna</td>\n",
              "      <td>165</td>\n",
              "      <td>maki</td>\n",
              "    </tr>\n",
              "    <tr>\n",
              "      <th>4</th>\n",
              "      <td>cucumber and cream cheese maki</td>\n",
              "      <td>cucumber, cream cheese</td>\n",
              "      <td>158</td>\n",
              "      <td>maki</td>\n",
              "    </tr>\n",
              "  </tbody>\n",
              "</table>\n",
              "</div>\n",
              "    <div class=\"colab-df-buttons\">\n",
              "\n",
              "  <div class=\"colab-df-container\">\n",
              "    <button class=\"colab-df-convert\" onclick=\"convertToInteractive('df-238a879e-20b9-43f9-9c62-09475013afb0')\"\n",
              "            title=\"Convert this dataframe to an interactive table.\"\n",
              "            style=\"display:none;\">\n",
              "\n",
              "  <svg xmlns=\"http://www.w3.org/2000/svg\" height=\"24px\" viewBox=\"0 -960 960 960\">\n",
              "    <path d=\"M120-120v-720h720v720H120Zm60-500h600v-160H180v160Zm220 220h160v-160H400v160Zm0 220h160v-160H400v160ZM180-400h160v-160H180v160Zm440 0h160v-160H620v160ZM180-180h160v-160H180v160Zm440 0h160v-160H620v160Z\"/>\n",
              "  </svg>\n",
              "    </button>\n",
              "\n",
              "  <style>\n",
              "    .colab-df-container {\n",
              "      display:flex;\n",
              "      gap: 12px;\n",
              "    }\n",
              "\n",
              "    .colab-df-convert {\n",
              "      background-color: #E8F0FE;\n",
              "      border: none;\n",
              "      border-radius: 50%;\n",
              "      cursor: pointer;\n",
              "      display: none;\n",
              "      fill: #1967D2;\n",
              "      height: 32px;\n",
              "      padding: 0 0 0 0;\n",
              "      width: 32px;\n",
              "    }\n",
              "\n",
              "    .colab-df-convert:hover {\n",
              "      background-color: #E2EBFA;\n",
              "      box-shadow: 0px 1px 2px rgba(60, 64, 67, 0.3), 0px 1px 3px 1px rgba(60, 64, 67, 0.15);\n",
              "      fill: #174EA6;\n",
              "    }\n",
              "\n",
              "    .colab-df-buttons div {\n",
              "      margin-bottom: 4px;\n",
              "    }\n",
              "\n",
              "    [theme=dark] .colab-df-convert {\n",
              "      background-color: #3B4455;\n",
              "      fill: #D2E3FC;\n",
              "    }\n",
              "\n",
              "    [theme=dark] .colab-df-convert:hover {\n",
              "      background-color: #434B5C;\n",
              "      box-shadow: 0px 1px 3px 1px rgba(0, 0, 0, 0.15);\n",
              "      filter: drop-shadow(0px 1px 2px rgba(0, 0, 0, 0.3));\n",
              "      fill: #FFFFFF;\n",
              "    }\n",
              "  </style>\n",
              "\n",
              "    <script>\n",
              "      const buttonEl =\n",
              "        document.querySelector('#df-238a879e-20b9-43f9-9c62-09475013afb0 button.colab-df-convert');\n",
              "      buttonEl.style.display =\n",
              "        google.colab.kernel.accessAllowed ? 'block' : 'none';\n",
              "\n",
              "      async function convertToInteractive(key) {\n",
              "        const element = document.querySelector('#df-238a879e-20b9-43f9-9c62-09475013afb0');\n",
              "        const dataTable =\n",
              "          await google.colab.kernel.invokeFunction('convertToInteractive',\n",
              "                                                    [key], {});\n",
              "        if (!dataTable) return;\n",
              "\n",
              "        const docLinkHtml = 'Like what you see? Visit the ' +\n",
              "          '<a target=\"_blank\" href=https://colab.research.google.com/notebooks/data_table.ipynb>data table notebook</a>'\n",
              "          + ' to learn more about interactive tables.';\n",
              "        element.innerHTML = '';\n",
              "        dataTable['output_type'] = 'display_data';\n",
              "        await google.colab.output.renderOutput(dataTable, element);\n",
              "        const docLink = document.createElement('div');\n",
              "        docLink.innerHTML = docLinkHtml;\n",
              "        element.appendChild(docLink);\n",
              "      }\n",
              "    </script>\n",
              "  </div>\n",
              "\n",
              "\n",
              "<div id=\"df-f9baee7b-5ff7-478b-9b07-350f9f52e684\">\n",
              "  <button class=\"colab-df-quickchart\" onclick=\"quickchart('df-f9baee7b-5ff7-478b-9b07-350f9f52e684')\"\n",
              "            title=\"Suggest charts\"\n",
              "            style=\"display:none;\">\n",
              "\n",
              "<svg xmlns=\"http://www.w3.org/2000/svg\" height=\"24px\"viewBox=\"0 0 24 24\"\n",
              "     width=\"24px\">\n",
              "    <g>\n",
              "        <path d=\"M19 3H5c-1.1 0-2 .9-2 2v14c0 1.1.9 2 2 2h14c1.1 0 2-.9 2-2V5c0-1.1-.9-2-2-2zM9 17H7v-7h2v7zm4 0h-2V7h2v10zm4 0h-2v-4h2v4z\"/>\n",
              "    </g>\n",
              "</svg>\n",
              "  </button>\n",
              "\n",
              "<style>\n",
              "  .colab-df-quickchart {\n",
              "      --bg-color: #E8F0FE;\n",
              "      --fill-color: #1967D2;\n",
              "      --hover-bg-color: #E2EBFA;\n",
              "      --hover-fill-color: #174EA6;\n",
              "      --disabled-fill-color: #AAA;\n",
              "      --disabled-bg-color: #DDD;\n",
              "  }\n",
              "\n",
              "  [theme=dark] .colab-df-quickchart {\n",
              "      --bg-color: #3B4455;\n",
              "      --fill-color: #D2E3FC;\n",
              "      --hover-bg-color: #434B5C;\n",
              "      --hover-fill-color: #FFFFFF;\n",
              "      --disabled-bg-color: #3B4455;\n",
              "      --disabled-fill-color: #666;\n",
              "  }\n",
              "\n",
              "  .colab-df-quickchart {\n",
              "    background-color: var(--bg-color);\n",
              "    border: none;\n",
              "    border-radius: 50%;\n",
              "    cursor: pointer;\n",
              "    display: none;\n",
              "    fill: var(--fill-color);\n",
              "    height: 32px;\n",
              "    padding: 0;\n",
              "    width: 32px;\n",
              "  }\n",
              "\n",
              "  .colab-df-quickchart:hover {\n",
              "    background-color: var(--hover-bg-color);\n",
              "    box-shadow: 0 1px 2px rgba(60, 64, 67, 0.3), 0 1px 3px 1px rgba(60, 64, 67, 0.15);\n",
              "    fill: var(--button-hover-fill-color);\n",
              "  }\n",
              "\n",
              "  .colab-df-quickchart-complete:disabled,\n",
              "  .colab-df-quickchart-complete:disabled:hover {\n",
              "    background-color: var(--disabled-bg-color);\n",
              "    fill: var(--disabled-fill-color);\n",
              "    box-shadow: none;\n",
              "  }\n",
              "\n",
              "  .colab-df-spinner {\n",
              "    border: 2px solid var(--fill-color);\n",
              "    border-color: transparent;\n",
              "    border-bottom-color: var(--fill-color);\n",
              "    animation:\n",
              "      spin 1s steps(1) infinite;\n",
              "  }\n",
              "\n",
              "  @keyframes spin {\n",
              "    0% {\n",
              "      border-color: transparent;\n",
              "      border-bottom-color: var(--fill-color);\n",
              "      border-left-color: var(--fill-color);\n",
              "    }\n",
              "    20% {\n",
              "      border-color: transparent;\n",
              "      border-left-color: var(--fill-color);\n",
              "      border-top-color: var(--fill-color);\n",
              "    }\n",
              "    30% {\n",
              "      border-color: transparent;\n",
              "      border-left-color: var(--fill-color);\n",
              "      border-top-color: var(--fill-color);\n",
              "      border-right-color: var(--fill-color);\n",
              "    }\n",
              "    40% {\n",
              "      border-color: transparent;\n",
              "      border-right-color: var(--fill-color);\n",
              "      border-top-color: var(--fill-color);\n",
              "    }\n",
              "    60% {\n",
              "      border-color: transparent;\n",
              "      border-right-color: var(--fill-color);\n",
              "    }\n",
              "    80% {\n",
              "      border-color: transparent;\n",
              "      border-right-color: var(--fill-color);\n",
              "      border-bottom-color: var(--fill-color);\n",
              "    }\n",
              "    90% {\n",
              "      border-color: transparent;\n",
              "      border-bottom-color: var(--fill-color);\n",
              "    }\n",
              "  }\n",
              "</style>\n",
              "\n",
              "  <script>\n",
              "    async function quickchart(key) {\n",
              "      const quickchartButtonEl =\n",
              "        document.querySelector('#' + key + ' button');\n",
              "      quickchartButtonEl.disabled = true;  // To prevent multiple clicks.\n",
              "      quickchartButtonEl.classList.add('colab-df-spinner');\n",
              "      try {\n",
              "        const charts = await google.colab.kernel.invokeFunction(\n",
              "            'suggestCharts', [key], {});\n",
              "      } catch (error) {\n",
              "        console.error('Error during call to suggestCharts:', error);\n",
              "      }\n",
              "      quickchartButtonEl.classList.remove('colab-df-spinner');\n",
              "      quickchartButtonEl.classList.add('colab-df-quickchart-complete');\n",
              "    }\n",
              "    (() => {\n",
              "      let quickchartButtonEl =\n",
              "        document.querySelector('#df-f9baee7b-5ff7-478b-9b07-350f9f52e684 button');\n",
              "      quickchartButtonEl.style.display =\n",
              "        google.colab.kernel.accessAllowed ? 'block' : 'none';\n",
              "    })();\n",
              "  </script>\n",
              "</div>\n",
              "\n",
              "    </div>\n",
              "  </div>\n"
            ],
            "application/vnd.google.colaboratory.intrinsic+json": {
              "type": "dataframe",
              "variable_name": "sushi_df",
              "summary": "{\n  \"name\": \"sushi_df\",\n  \"rows\": 100,\n  \"fields\": [\n    {\n      \"column\": \"Sushi Name\",\n      \"properties\": {\n        \"dtype\": \"string\",\n        \"num_unique_values\": 100,\n        \"samples\": [\n          \"red bell pepper and carrot and cream cheese maki\",\n          \"avocado and red bell pepper maki\",\n          \"mango and carrot and pickled radish maki\"\n        ],\n        \"semantic_type\": \"\",\n        \"description\": \"\"\n      }\n    },\n    {\n      \"column\": \"Ingredients\",\n      \"properties\": {\n        \"dtype\": \"string\",\n        \"num_unique_values\": 99,\n        \"samples\": [\n          \"tofu, tempura\",\n          \"shrimp, mango, cucumber, scallions\",\n          \"crab meat, red bell pepper, cream cheese\"\n        ],\n        \"semantic_type\": \"\",\n        \"description\": \"\"\n      }\n    },\n    {\n      \"column\": \"Total Calories\",\n      \"properties\": {\n        \"dtype\": \"number\",\n        \"std\": 85,\n        \"min\": 85,\n        \"max\": 435,\n        \"num_unique_values\": 61,\n        \"samples\": [\n          160,\n          355,\n          175\n        ],\n        \"semantic_type\": \"\",\n        \"description\": \"\"\n      }\n    },\n    {\n      \"column\": \"Type\",\n      \"properties\": {\n        \"dtype\": \"category\",\n        \"num_unique_values\": 2,\n        \"samples\": [\n          \"nigiri\",\n          \"maki\"\n        ],\n        \"semantic_type\": \"\",\n        \"description\": \"\"\n      }\n    }\n  ]\n}"
            }
          },
          "metadata": {},
          "execution_count": 6
        }
      ]
    },
    {
      "cell_type": "markdown",
      "source": [
        "### Filtering, Selecting, and Sorting Data in pandas\n",
        "\n",
        "Filtering, selecting, and sorting data are foundational operations that enable analysts to focus on specific subsets of data, identify patterns, and organize data in meaningful ways. These operations form the core of data manipulation tasks, allowing for the extraction of relevant information from larger datasets.\n",
        "\n",
        "-   Filtering involves narrowing down the data to a subset that meets certain criteria. This could be rows that have specific values in one or more columns.\n",
        "-   Selecting refers to choosing specific columns or rows from the dataset based on their labels, indices, or conditions.\n",
        "-   Sorting is the process of ordering the data in ascending or descending order based on one or more columns, which helps in understanding the distribution and relationship of data.\n",
        "\n",
        "\n",
        "Some sample operations:\n",
        "\n",
        "| pandas Code | Explanation |\n",
        "| --- | --- |\n",
        "| `sushi_df['Total Calories'] < 200` |  Returns a Boolean Series (True or False) of whether rows are less than 200 calories.. |\n",
        "| `sushi_df[sushi_df['Type'] == 'maki']` |  Selects rows where the 'Type' column is equal to 'maki'. |\n",
        "| `sushi_df[['Sushi Name', 'Total Calories']]` | Returns a DataFrame containing only the 'Sushi Name' and 'Total Calories' columns. |\n",
        "| `sushi_df.iloc[0:3]` | Selects the first three rows of the DataFrame using integer indices. |\n",
        "| `sushi_df.loc[sushi_df['Sushi Name'].str.contains('avocado')]` | Filter rows containing 'avocado' in the Sushi Name. |\n",
        "| `sushi_df.sort_values(by='Total Calories')` | Sort the DataFrame by Total Calories. |\n",
        "| `sushi_df.sort_values(by=['Type', 'Total Calories'], ascending=[True, False])` | Sorts the DataFrame first by 'Type' in ascending order, then by 'Total Calories' in descending order within each 'Type'. |\n",
        "| `sushi_df[sushi_df['Ingredients'].str.split(', ').apply(len) > 2]` | Filter rows with more than two ingredients by applying the `len()` function to each row. |\n",
        "| `sushi_df.drop_duplicates(subset='Sushi Name')` | Drop duplicate rows based on the 'Name' column. |\n",
        "| `sushi_df.groupby('Type')[[\"Total Calories\"]].mean()` | Group by 'Type' and calculate mean calories. |"
      ],
      "metadata": {
        "id": "a7PVPrcdguHg"
      }
    },
    {
      "cell_type": "code",
      "source": [
        "# Try these out here!"
      ],
      "metadata": {
        "id": "8K_Nmd1fjMIS"
      },
      "execution_count": 19,
      "outputs": []
    },
    {
      "cell_type": "markdown",
      "source": [
        "### Creating New columns\n",
        "In pandas, creating new columns in a DataFrame is a common operation that allows for the enrichment of the dataset with additional information or metrics derived from existing data. Creating new columns can serve multiple purposes:\n",
        "\n",
        "-   Generate new data points from existing columns, such as ratios, sums, or averages.\n",
        "-   Classify rows into categories based on certain conditions or thresholds.\n",
        "-   Apply transformations or operations to existing data to create a new representation, such as scaling, normalization, or string manipulation.\n",
        "\n",
        "A few sample operations:\n",
        "\n",
        "| Code | Description |\n",
        "| --- | --- |\n",
        "| `sushi_df['Ingredient Count'] = sushi_df['Ingredients'].str.split(', ').apply(len)` | Creates a new column called 'Ingredient Count' that stores the number of ingredients in each sushi roll. |\n",
        "| `sushi_df['Contains Avocado'] = sushi_df['Ingredients'].str.contains('avocado')` |Adds a boolean column 'Contains Avocado' to indicate whether the sushi roll includes avocado. |\n",
        "| `sushi_df['Calories per Ingredient'] = sushi_df['Total Calories'] / sushi_df['Ingredient Count']` | Generates a new column 'Calories per Ingredient' by dividing the total calories by the ingredient count. |\n",
        "| `sushi_df['Is Low Calorie'] = sushi_df['Total Calories'] < 150` | Introduces a boolean column 'Is Low Calorie' to flag sushi rolls with less than 150 total calories. |\n",
        "| `sushi_df['Type Code'] = sushi_df['Type'].map({'maki': 0, 'nigiri': 1})` |  Adds a numeric column 'Type Code' by mapping 'maki' to 0 and 'nigiri' to 1. |\n",
        "| `sushi_df['First Ingredient'] = sushi_df['Ingredients'].str.split(', ').str[0]` | Creates a new column 'First Ingredient' to store the first ingredient listed for each sushi roll. |"
      ],
      "metadata": {
        "id": "TLGGDhrnnmJW"
      }
    },
    {
      "cell_type": "code",
      "source": [],
      "metadata": {
        "id": "uqF5WvOrljPA"
      },
      "execution_count": null,
      "outputs": []
    }
  ]
}