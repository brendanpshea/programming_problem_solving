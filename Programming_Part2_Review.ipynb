{
  "nbformat": 4,
  "nbformat_minor": 0,
  "metadata": {
    "colab": {
      "provenance": [],
      "authorship_tag": "ABX9TyM1GIhETpix7luLlHsjPjys",
      "include_colab_link": true
    },
    "kernelspec": {
      "name": "python3",
      "display_name": "Python 3"
    },
    "language_info": {
      "name": "python"
    }
  },
  "cells": [
    {
      "cell_type": "markdown",
      "metadata": {
        "id": "view-in-github",
        "colab_type": "text"
      },
      "source": [
        "<a href=\"https://colab.research.google.com/github/brendanpshea/programming_problem_solving/blob/main/Programming_Part2_Review.ipynb\" target=\"_parent\"><img src=\"https://colab.research.google.com/assets/colab-badge.svg\" alt=\"Open In Colab\"/></a>"
      ]
    },
    {
      "cell_type": "code",
      "execution_count": null,
      "metadata": {
        "id": "A4o-fqkN89yk"
      },
      "outputs": [],
      "source": []
    },
    {
      "cell_type": "markdown",
      "source": [
        "## Exceptions\n",
        "In Python, exceptions are events detected during execution that interrupt the normal flow of a program. The language provides a robust mechanism to handle these exceptions gracefully, using try, except, and finally blocks. This mechanism allows a program to respond to different types of errors without crashing abruptly. Let's delve into how this mechanism can be applied in the context of a simple sushi restaurant script.\n",
        "\n",
        "Consider a script for a sushi restaurant's order system. Various exceptions might occur, such as an order for an item not on the menu, entering a non-integer value for the quantity, or trying to access a file that logs orders but doesn't exist. Handling these exceptions properly ensures the program runs smoothly and provides meaningful feedback to the user or the system.\n",
        "\n",
        "### Example 1: Handling a Non-existent Menu Item"
      ],
      "metadata": {
        "id": "X4tXwc4K9Bwu"
      }
    },
    {
      "cell_type": "code",
      "source": [
        "menu = [\"salmon nigiri\", \"tuna roll\", \"avocado maki\"]\n",
        "\n",
        "try:\n",
        "    order = input(\"Enter your order: \")\n",
        "    if order not in menu:\n",
        "        raise ValueError(f\"Item {order} not on the menu\")\n",
        "except ValueError as e:\n",
        "    print(e)\n",
        "finally:\n",
        "    print(\"Thank you for visiting our sushi restaurant.\")\n"
      ],
      "metadata": {
        "colab": {
          "base_uri": "https://localhost:8080/"
        },
        "id": "4DAx5IhR9C9u",
        "outputId": "f7c2e710-5a05-4c0e-fed4-b5f37872d54f"
      },
      "execution_count": 1,
      "outputs": [
        {
          "output_type": "stream",
          "name": "stdout",
          "text": [
            "Enter your order: tuna\n",
            "Item tuna not on the menu\n",
            "Thank you for visiting our sushi restaurant.\n"
          ]
        }
      ]
    },
    {
      "cell_type": "markdown",
      "source": [
        "In this example, if a customer orders something not on the menu, a `ValueError` is raised, and the except block handles it by printing the error message. The `finally` block executes regardless of the exception, thanking the customer.\n",
        "\n",
        "### Example 2: Handling Invalid Quantity Input"
      ],
      "metadata": {
        "id": "1xeiurai9Teh"
      }
    },
    {
      "cell_type": "code",
      "source": [
        "try:\n",
        "    quantity = int(input(\"Enter quantity: \"))\n",
        "except ValueError:\n",
        "    print(\"Please enter a valid integer for quantity.\")\n",
        "finally:\n",
        "    print(\"Processing completed.\")"
      ],
      "metadata": {
        "colab": {
          "base_uri": "https://localhost:8080/"
        },
        "id": "8OVur1a_9a1l",
        "outputId": "f93d5c1e-a42c-4c1d-890e-c00b0a81adc8"
      },
      "execution_count": 2,
      "outputs": [
        {
          "output_type": "stream",
          "name": "stdout",
          "text": [
            "Enter quantity: 3\n",
            "Processing completed.\n"
          ]
        }
      ]
    },
    {
      "cell_type": "markdown",
      "source": [
        "Here, if the user inputs a non-integer value for quantity, a `ValueError` is raised, and the corresponding except block informs the user to provide a valid integer.\n",
        "\n",
        "## Example 3: File Handling"
      ],
      "metadata": {
        "id": "H-byde4p9h8B"
      }
    },
    {
      "cell_type": "code",
      "source": [
        "try:\n",
        "    with open(\"order_log.txt\", \"r\") as file:\n",
        "        orders = file.read()\n",
        "except FileNotFoundError:\n",
        "    print(\"Order log file not found.\")\n",
        "finally:\n",
        "    print(\"End of order processing.\")"
      ],
      "metadata": {
        "colab": {
          "base_uri": "https://localhost:8080/"
        },
        "id": "zXE3Udqd92mo",
        "outputId": "d3a33c35-318c-4e35-bf2e-7a8c21c1dbb2"
      },
      "execution_count": 3,
      "outputs": [
        {
          "output_type": "stream",
          "name": "stdout",
          "text": [
            "Order log file not found.\n",
            "End of order processing.\n"
          ]
        }
      ]
    },
    {
      "cell_type": "markdown",
      "source": [
        "### Table of 10 Common Python Exceptions\n",
        "\n",
        "| Exception Name | Description |\n",
        "| --- | --- |\n",
        "| ValueError | Raised when a built-in operation or function receives an argument with the right type but an inappropriate value. |\n",
        "| TypeError | Occurs when an operation or function is applied to an object of inappropriate type. |\n",
        "| IndexError | Raised when attempting to access an index out of the range of a sequence (e.g., a list or tuple). |\n",
        "| KeyError | Occurs when a dictionary key is not found. |\n",
        "| FileNotFoundError | Raised when an attempt to open a file (or a specified path) fails. |\n",
        "| ZeroDivisionError | Occurs when the second argument of a division or modulo operation is zero. |\n",
        "| NameError | Raised when a local or global name is not found. |\n",
        "| OverflowError | Occurs when an arithmetic operation exceeds the limits of the data type. |\n",
        "| SyntaxError | Raised when the parser encounters a syntax error. |\n",
        "| AttributeError | Occurs when an attribute reference or assignment fails. |\n",
        "\n",
        "Understanding and handling these exceptions are fundamental in developing resilient Python applications that can anticipate and manage errors gracefully, enhancing both the user experience and system stability."
      ],
      "metadata": {
        "id": "4WMydQq7-BIY"
      }
    },
    {
      "cell_type": "markdown",
      "source": [
        "### General File Handling in Python\n",
        "\n",
        "File handling is a fundamental aspect of many programming tasks, enabling applications to persist data between sessions, interact with data files, and process user input or outputs. Python simplifies file operations through its built-in functions, allowing for efficient and straightforward file reading, writing, and manipulation. This section introduces the core concepts of file handling in Python, serving as a precursor to more structured data handling methods like CSV and JSON.\n",
        "\n",
        "#### Opening Files\n",
        "\n",
        "The `open()` function is the gateway to file handling in Python. It returns a file object and is commonly used with two arguments: `filename` and `mode`.\n",
        "\n",
        "`file = open(\"example.txt\", \"r\")`\n",
        "\n",
        "#### File Modes\n",
        "\n",
        "-   \"r\" - Read: Default mode. Opens a file for reading.\n",
        "-   \"w\" - Write: Opens a file for writing, creates the file if it does not exist, and truncates the file to zero length if it does.\n",
        "-   \"a\" - Append: Opens a file for appending at the end without truncating it. Creates a new file if it does not exist.\n",
        "-   \"r+\" - Read/Write: Opens the file for both reading and writing.\n",
        "\n",
        "#### The `with` Statement\n",
        "\n",
        "Using `with` is highly recommended when dealing with file operations. It ensures that the file is properly closed after its suite finishes, even if an exception is raised.\n",
        "\n",
        "```python\n",
        "with open(\"example.txt\", \"r\") as file:\n",
        "    data = file.read()\n",
        "```\n",
        "\n",
        "#### Reading Files\n",
        "\n",
        "-   `read(size)` - Reads at most `size` bytes from the file. If the `size` argument is omitted or negative, the entire content of the file will be read and returned.\n",
        "-   `readline()` - Reads a single line from the file.\n",
        "-   `readlines()` - Reads all the lines in a file and returns them as a list.\n",
        "\n",
        "```python\n",
        "with open(\"example.txt\", \"r\") as file:\n",
        "    for line in file:\n",
        "        print(line, end='')\n",
        "```\n",
        "\n",
        "#### Writing to Files\n",
        "\n",
        "-   `write(string)` - Writes the string to the file, returning the number of characters written.\n",
        "-   `writelines(list)` - Writes a list of strings to the file.\n",
        "\n",
        "```python\n",
        "with open(\"example.txt\", \"w\") as file:\n",
        "    file.write(\"Hello, world!\\n\")\n",
        "```\n",
        "\n",
        "#### Appending to Files\n",
        "\n",
        "Appending to a file adds content to the end, preserving the existing data.\n",
        "\n",
        "```python\n",
        "with open(\"example.txt\", \"a\") as file:\n",
        "    file.write(\"Appending to the file.\\n\")\n",
        "```"
      ],
      "metadata": {
        "id": "BtSMLeyilwT2"
      }
    },
    {
      "cell_type": "markdown",
      "source": [
        "## CSV Files\n",
        "\n",
        "A CSV (Comma-Separated Values) file is a type of plain text file that uses specific structuring to arrange tabular data. Because it's a plain text file, it can be easily read by humans and machines. CSV files are commonly used for exchanging data between different applications. In a CSV file, each line corresponds to a row in the table, and each field (or cell in the table) is separated by a comma or another delimiter like a semicolon. The simplicity of this format makes it a universal standard for data interchange.\n",
        "\n",
        "Python provides the `csv` module to facilitate reading from and writing to CSV files. Below are basic examples of how to read from and write to CSV files.\n",
        "\n",
        "### Writing to a CSV File\n",
        "\n",
        "To create a simple menu for a sushi restaurant, we'll first write this menu to a CSV file."
      ],
      "metadata": {
        "id": "sMEg3iPr_Q4P"
      }
    },
    {
      "cell_type": "code",
      "source": [
        "import csv\n",
        "\n",
        "menu = [\n",
        "    [\"Sushi Name\", \"Ingredients\", \"Price\"],\n",
        "    [\"The Godfather Roll\", [\"Salmon\", \"avocado\", \"cream cheese\"], 12.5],\n",
        "    [\"Casablanca Sashimi\", [\"Tuna\"], 10.0],\n",
        "    [\"Gone with the Wind Gunkan\", [\"Scallop\", \"mayo\"], 8.75],\n",
        "    [\"Citizen Kane Nigiri\", [\"Eel\"], 7.5],\n",
        "    [\"The Shawshank Temaki\", [\"Crab\", \"cucumber\", \"avocado\"], 9.25],\n",
        "    [\"Pulp Fiction Uramaki\", [\"Shrimp tempura\", \"avocado\", \"cucumber\"], 11.0],\n",
        "    [\"Forrest Gump Futomaki\", [\"Pickled radish\"], 8.0],\n",
        "    [\"Inception Roll\", [\"Lobster\", \"caviar\", \"asparagus\"], 18.5],\n",
        "    [\"Interstellar Maki\", [\"Spicy tuna\", \"jalapeno\"], 13.0],\n",
        "    [\"La La Land Nigiri\", [\"Salmon belly\"], 14.75],\n",
        "    [\"Mad Max Roll\", [\"Beef\", \"scallion\", \"asparagus\"], 15.5],\n",
        "    [\"The Matrix Uramaki\", [\"Avocado\", \"cucumber\", \"tofu\"], 10.25],\n",
        "    [\"No Country for Old Men Temaki\", [\"Tuna\", \"spicy mayo\"], 12.0],\n",
        "    [\"Once Upon a Time Temaki\", [\"Shrimp\", \"mango\", \"cream cheese\"], 13.25],\n",
        "    [\"Parasite Gunkan\", [\"Sea urchin\"], 19.0],\n",
        "    [\"The Silence of the Lambs Sashimi\", [\"Octopus\"], 11.5],\n",
        "    [\"Skyfall Nigiri\", [\"Smoked salmon\"], 9.75],\n",
        "    [\"Titanic Roll\", [\"Cucumber\", \"avocado\", \"salmon\"], 16.0],\n",
        "    [\"Whiplash Maki\", [\"Eel\", \"avocado\"], 10.5],\n",
        "]\n",
        "\n",
        "try:\n",
        "    with open('sushi_menu.csv', 'w', newline='') as file:\n",
        "        writer = csv.writer(file)\n",
        "        writer.writerows(menu)\n",
        "    print(\"Menu successfully written to sushi_menu.csv\")\n",
        "except IOError:\n",
        "    print(\"Error writing to file.\")\n"
      ],
      "metadata": {
        "colab": {
          "base_uri": "https://localhost:8080/"
        },
        "id": "i0UNbe0h_W9G",
        "outputId": "0b9336ae-6241-430d-8090-5c5378c424a0"
      },
      "execution_count": 4,
      "outputs": [
        {
          "output_type": "stream",
          "name": "stdout",
          "text": [
            "Menu successfully written to sushi_menu.csv\n"
          ]
        }
      ]
    },
    {
      "cell_type": "code",
      "source": [
        "# Open file using system viewer\n",
        "!cat sushi_menu.csv"
      ],
      "metadata": {
        "colab": {
          "base_uri": "https://localhost:8080/"
        },
        "id": "8ofzgXWN-CgF",
        "outputId": "0f92cab8-0cf2-4b46-f647-996d074ee8a9"
      },
      "execution_count": 5,
      "outputs": [
        {
          "output_type": "stream",
          "name": "stdout",
          "text": [
            "Sushi Name,Ingredients,Price\r\n",
            "The Godfather Roll,\"['Salmon', 'avocado', 'cream cheese']\",12.5\r\n",
            "Casablanca Sashimi,['Tuna'],10.0\r\n",
            "Gone with the Wind Gunkan,\"['Scallop', 'mayo']\",8.75\r\n",
            "Citizen Kane Nigiri,['Eel'],7.5\r\n",
            "The Shawshank Temaki,\"['Crab', 'cucumber', 'avocado']\",9.25\r\n",
            "Pulp Fiction Uramaki,\"['Shrimp tempura', 'avocado', 'cucumber']\",11.0\r\n",
            "Forrest Gump Futomaki,['Pickled radish'],8.0\r\n",
            "Inception Roll,\"['Lobster', 'caviar', 'asparagus']\",18.5\r\n",
            "Interstellar Maki,\"['Spicy tuna', 'jalapeno']\",13.0\r\n",
            "La La Land Nigiri,['Salmon belly'],14.75\r\n",
            "Mad Max Roll,\"['Beef', 'scallion', 'asparagus']\",15.5\r\n",
            "The Matrix Uramaki,\"['Avocado', 'cucumber', 'tofu']\",10.25\r\n",
            "No Country for Old Men Temaki,\"['Tuna', 'spicy mayo']\",12.0\r\n",
            "Once Upon a Time Temaki,\"['Shrimp', 'mango', 'cream cheese']\",13.25\r\n",
            "Parasite Gunkan,['Sea urchin'],19.0\r\n",
            "The Silence of the Lambs Sashimi,['Octopus'],11.5\r\n",
            "Skyfall Nigiri,['Smoked salmon'],9.75\r\n",
            "Titanic Roll,\"['Cucumber', 'avocado', 'salmon']\",16.0\r\n",
            "Whiplash Maki,\"['Eel', 'avocado']\",10.5\r\n"
          ]
        }
      ]
    },
    {
      "cell_type": "markdown",
      "source": [
        "This example tries to write the extended menu to a CSV file. If an error occurs during file operations (e.g., permission issues), it is caught by the `except` block, which prints an error message.\n",
        "\n",
        "### Reading a CSV file"
      ],
      "metadata": {
        "id": "V9OwDeUm_zIZ"
      }
    },
    {
      "cell_type": "code",
      "source": [
        "import csv\n",
        "\n",
        "try:\n",
        "    with open('sushi_menu.csv', 'r') as file:\n",
        "        reader = csv.reader(file)\n",
        "        for row in reader:\n",
        "            print(row)\n",
        "except FileNotFoundError:\n",
        "    print(\"The file sushi_menu.csv was not found.\")\n",
        "except IOError:\n",
        "    print(\"Error reading file.\")"
      ],
      "metadata": {
        "colab": {
          "base_uri": "https://localhost:8080/"
        },
        "id": "ZxMcPKZn_9Gy",
        "outputId": "a4f8da30-a836-469b-859c-deb9a0f9d3b5"
      },
      "execution_count": 6,
      "outputs": [
        {
          "output_type": "stream",
          "name": "stdout",
          "text": [
            "['Sushi Name', 'Ingredients', 'Price']\n",
            "['The Godfather Roll', \"['Salmon', 'avocado', 'cream cheese']\", '12.5']\n",
            "['Casablanca Sashimi', \"['Tuna']\", '10.0']\n",
            "['Gone with the Wind Gunkan', \"['Scallop', 'mayo']\", '8.75']\n",
            "['Citizen Kane Nigiri', \"['Eel']\", '7.5']\n",
            "['The Shawshank Temaki', \"['Crab', 'cucumber', 'avocado']\", '9.25']\n",
            "['Pulp Fiction Uramaki', \"['Shrimp tempura', 'avocado', 'cucumber']\", '11.0']\n",
            "['Forrest Gump Futomaki', \"['Pickled radish']\", '8.0']\n",
            "['Inception Roll', \"['Lobster', 'caviar', 'asparagus']\", '18.5']\n",
            "['Interstellar Maki', \"['Spicy tuna', 'jalapeno']\", '13.0']\n",
            "['La La Land Nigiri', \"['Salmon belly']\", '14.75']\n",
            "['Mad Max Roll', \"['Beef', 'scallion', 'asparagus']\", '15.5']\n",
            "['The Matrix Uramaki', \"['Avocado', 'cucumber', 'tofu']\", '10.25']\n",
            "['No Country for Old Men Temaki', \"['Tuna', 'spicy mayo']\", '12.0']\n",
            "['Once Upon a Time Temaki', \"['Shrimp', 'mango', 'cream cheese']\", '13.25']\n",
            "['Parasite Gunkan', \"['Sea urchin']\", '19.0']\n",
            "['The Silence of the Lambs Sashimi', \"['Octopus']\", '11.5']\n",
            "['Skyfall Nigiri', \"['Smoked salmon']\", '9.75']\n",
            "['Titanic Roll', \"['Cucumber', 'avocado', 'salmon']\", '16.0']\n",
            "['Whiplash Maki', \"['Eel', 'avocado']\", '10.5']\n"
          ]
        }
      ]
    },
    {
      "cell_type": "markdown",
      "source": [
        "In this reading example, we specifically catch `FileNotFoundError` to handle the case where the file does not exist. A general `IOError` is also caught to cover other I/O related errors. This ensures that the program provides a clear message about what went wrong instead of terminating abruptly."
      ],
      "metadata": {
        "id": "vHcEAGkJBOGO"
      }
    },
    {
      "cell_type": "markdown",
      "source": [
        "## Table: Reading and Writing CSV Files\n",
        "\n",
        "| Code Snippet | Explanation |\n",
        "| --- | --- |\n",
        "| `with open(\"file_path\", \"r\") as file:` | Open a file for reading. The `with` statement ensures proper resource management, automatically closing the file after the block's execution. |\n",
        "| `with open(\"file_path\", \"w\") as file:` | Open a file for writing. If the file exists, it will be overwritten. If the file doesn't exist, it will be created. |\n",
        "| `with open(\"file_path\", \"a\") as file:` | Open a file for appending. If the file exists, data will be appended to the end. If the file doesn't exist, it will be created. |\n",
        "| `file.read()` | Read the entire contents of a file into a string. |\n",
        "| `file.readline()` | Read the next line from the file, including the newline character. |\n",
        "| `file.readlines()` | Read all lines in a file into a list where each element is a line. |\n",
        "| `file.write(\"text\")` | Write the string \"text\" to the file. |\n",
        "| `import csv` | Import the CSV module, which provides functionality to read and write CSV files. |\n",
        "| `csv.reader(file)` | Create a CSV reader object which will iterate over lines in the specified file. |\n",
        "| `csv.writer(file)` | Create a CSV writer object which provides methods to write to the CSV file. |\n",
        "| `writer.writerow([\"data1\", \"data2\"])` | Write a single row to the CSV file. The argument is a list where each element corresponds to a field. |\n",
        "| `writer.writerows([[\"row1data1\", \"row1data2\"], [\"row2data1\", \"row2data2\"]])` | Write multiple rows to the CSV file. The argument is a list of lists, with each inner list representing a row. |\n",
        "| `reader = csv.DictReader(file)` | Create a CSV reader object that maps the information read into a dictionary where keys are given by the optional `fieldnames` parameter or the first row in the file. |\n",
        "| `writer = csv.DictWriter(file, fieldnames=[\"col1\", \"col2\"])` | Create a CSV writer object to write dictionaries to the file, using the `fieldnames` parameter to specify the column names. |"
      ],
      "metadata": {
        "id": "2HGejDMpCJQc"
      }
    },
    {
      "cell_type": "markdown",
      "source": [
        "## JSON Files\n",
        "\n",
        "JSON (JavaScript Object Notation) is a lightweight data-interchange format that is easy for humans to read and write and easy for machines to parse and generate. JSON is based on the syntax of JavaScript but is a text format that is completely language independent. JSON files are ideal for data interchange between a server and a web application or between different parts of an application. A JSON file typically has a `.json` extension and represents data structured in a hierarchy of objects and arrays. Objects are denoted by curly braces `{}` containing key-value pairs, where the key is a string, and the value can be a string, number, boolean, array, or another object. Arrays are ordered lists of values and are denoted by square brackets `[]`.\n",
        "\n",
        "Python comes with a built-in module named `json` for encoding and decoding JSON data. You can easily convert between Python dictionaries and JSON formatted strings, and vice versa.\n",
        "\n",
        "#### Writing to a JSON File\n",
        "To write a Python dictionary to a file:"
      ],
      "metadata": {
        "id": "t_tJBlRQF9_C"
      }
    },
    {
      "cell_type": "code",
      "source": [
        "import json\n",
        "\n",
        "# Data to be written\n",
        "sushi_menu = {\n",
        "    \"rolls\": [\n",
        "        {\"name\": \"The Matrix Reloaded Roll\", \"ingredients\": [\"Avocado\", \"cucumber\", \"green onion\"], \"price\": 9.5},\n",
        "        {\"name\": \"The Incredibles Roll\", \"ingredients\": [\"Tempura shrimp\", \"spicy tuna\", \"avocado\"], \"price\": 12.5},\n",
        "        # Add more rolls here\n",
        "    ]\n",
        "}\n",
        "\n",
        "# Writing JSON data\n",
        "with open('sushi_menu.json', 'w') as file:\n",
        "    json.dump(sushi_menu, file, indent=4)\n"
      ],
      "metadata": {
        "id": "vmzeKKlKGJdJ"
      },
      "execution_count": 7,
      "outputs": []
    },
    {
      "cell_type": "code",
      "source": [
        "# View the file with the system viewer\n",
        "!cat sushi_menu.json"
      ],
      "metadata": {
        "colab": {
          "base_uri": "https://localhost:8080/"
        },
        "id": "r8mUk7U0GMV9",
        "outputId": "38d291d2-f126-4032-ac2d-0ed37877b820"
      },
      "execution_count": 8,
      "outputs": [
        {
          "output_type": "stream",
          "name": "stdout",
          "text": [
            "{\n",
            "    \"rolls\": [\n",
            "        {\n",
            "            \"name\": \"The Matrix Reloaded Roll\",\n",
            "            \"ingredients\": [\n",
            "                \"Avocado\",\n",
            "                \"cucumber\",\n",
            "                \"green onion\"\n",
            "            ],\n",
            "            \"price\": 9.5\n",
            "        },\n",
            "        {\n",
            "            \"name\": \"The Incredibles Roll\",\n",
            "            \"ingredients\": [\n",
            "                \"Tempura shrimp\",\n",
            "                \"spicy tuna\",\n",
            "                \"avocado\"\n",
            "            ],\n",
            "            \"price\": 12.5\n",
            "        }\n",
            "    ]\n",
            "}"
          ]
        }
      ]
    },
    {
      "cell_type": "markdown",
      "source": [
        "To read a JSON file back into JSON, we can do the following:"
      ],
      "metadata": {
        "id": "bAsXL2cljpZs"
      }
    },
    {
      "cell_type": "code",
      "source": [
        "import json\n",
        "\n",
        "# Reading JSON data\n",
        "with open('sushi_menu.json', 'r') as file:\n",
        "    menu_data = json.load(file)\n",
        "\n",
        "print(menu_data)"
      ],
      "metadata": {
        "colab": {
          "base_uri": "https://localhost:8080/"
        },
        "id": "pctWhghSCJmh",
        "outputId": "772097e5-2733-45b4-f5eb-7c4e95d5eff8"
      },
      "execution_count": 9,
      "outputs": [
        {
          "output_type": "stream",
          "name": "stdout",
          "text": [
            "{'rolls': [{'name': 'The Matrix Reloaded Roll', 'ingredients': ['Avocado', 'cucumber', 'green onion'], 'price': 9.5}, {'name': 'The Incredibles Roll', 'ingredients': ['Tempura shrimp', 'spicy tuna', 'avocado'], 'price': 12.5}]}\n"
          ]
        }
      ]
    },
    {
      "cell_type": "markdown",
      "source": [
        "## Table: CSV and JSON\n",
        "\n",
        "| Feature | JSON | CSV |\n",
        "| --- | --- | --- |\n",
        "| Format | Text-based, hierarchical | Text-based, tabular |\n",
        "| Data Structure | Supports nested and complex data. <br> Ideal for hierarchical or structured data with varying fields. | Flat structure.  <br> Best for simple tabular data without hierarchical relationships. |\n",
        "| Readability | Readable by humans and easily parsed by machines.  <br> Provides clear visibility of nested data. | Easily readable by humans, especially in spreadsheet programs. <br> Less clear for complex hierarchical data. |\n",
        "| Flexibility | Highly flexible in representing different data types and structures. | Limited flexibility. Best suited for straightforward, table-like data. |\n",
        "| Standardization | Widely used in web applications for data interchange.  <br>JSON format is universally recognized across programming languages. | A common format for data export and import in spreadsheets and databases.  <br>Less standardized in terms of data interpretation. |\n",
        "| File Size | Generally larger due to repeated keys and more verbose formatting.  <br>Can be minimized with compression. | Typically smaller and more compact, making it efficient for large datasets. |\n",
        "| Ease of Use | Easy to use with modern web APIs and JavaScript-based applications. <br> Requires parsing to and from objects in most programming languages. | Simple to use with minimal overhead for reading and writing. <br> Directly compatible with spreadsheet applications. |\n",
        "| Data Types | Supports strings, numbers, arrays, and Boolean values directly. | Primarily treats all data as strings. <br> Requires explicit conversion for numerical operations. |\n",
        "| Use Cases | Ideal for applications that require complex data with nested structures, <br> such as configurations, web API responses, and settings. | Suitable for data analysis, spreadsheet manipulation, <br> and scenarios where data is uniformly structured without a need for nesting. |"
      ],
      "metadata": {
        "id": "ek3a4zv-kQBt"
      }
    },
    {
      "cell_type": "markdown",
      "source": [
        "## Sample Program: Random Rolls\n",
        "Here is a sample program that demonstrates some of what we've been coverning so far. It creates a menu of random sushi rolls."
      ],
      "metadata": {
        "id": "URfmSg3BnwhB"
      }
    },
    {
      "cell_type": "code",
      "source": [
        "import random\n",
        "\n",
        "def random_rolls(n):\n",
        "    ingredients = [\n",
        "        (\"salmon\", 60), (\"tuna\", 50), (\"red snapper\", 60), (\"avocado\", 160), (\"cucumber\", 8),\n",
        "        (\"eel\", 85), (\"shrimp\", 20), (\"crab meat\", 40), (\"tempura\", 95), (\"mayo\", 100),\n",
        "        (\"spicy mayo\", 110), (\"tofu\", 70), (\"cream cheese\", 100), (\"sweet potato\", 90),\n",
        "        (\"asparagus\", 20), (\"scallions\", 5), (\"mango\", 70), (\"red bell pepper\", 25),\n",
        "        (\"carrot\", 40), (\"pickled radish\", 15)\n",
        "    ]\n",
        "    rolls = []\n",
        "\n",
        "    for _ in range(n):\n",
        "        roll_type = random.choice([\"maki\", \"nigiri\"])\n",
        "        num_ingredients = random.randint(1, 3)\n",
        "        selected_ingredients = random.sample(ingredients, num_ingredients)\n",
        "        ingredients_names = [ing[0] for ing in selected_ingredients]\n",
        "        total_calories = sum(ing[1] for ing in selected_ingredients)\n",
        "\n",
        "        # For nigiri, add rice calories\n",
        "        if roll_type == \"nigiri\":\n",
        "            total_calories += 40  # Assuming rice adds 40 calories\n",
        "        # For maki, add rice and seaweed calories\n",
        "        else:\n",
        "            total_calories += 50  # Assuming rice and seaweed together add 50 calories\n",
        "\n",
        "        sushi_name = \" and \".join(ingredients_names) + f\" {roll_type}\"\n",
        "        rolls.append((sushi_name, ingredients_names, total_calories, roll_type))\n",
        "\n",
        "    return rolls\n",
        "\n",
        "# Example of generating 5 random sushi rolls\n",
        "print(random_rolls(5))\n"
      ],
      "metadata": {
        "colab": {
          "base_uri": "https://localhost:8080/"
        },
        "id": "mGl3WxuuzY-A",
        "outputId": "ed740bd4-8ff5-4b95-ecfb-822961e08afa"
      },
      "execution_count": 14,
      "outputs": [
        {
          "output_type": "stream",
          "name": "stdout",
          "text": [
            "[('red snapper and asparagus maki', ['red snapper', 'asparagus'], 130, 'maki'), ('sweet potato and mayo and salmon nigiri', ['sweet potato', 'mayo', 'salmon'], 290, 'nigiri'), ('avocado and tuna and spicy mayo maki', ['avocado', 'tuna', 'spicy mayo'], 370, 'maki'), ('avocado maki', ['avocado'], 210, 'maki'), ('carrot and mayo and cucumber nigiri', ['carrot', 'mayo', 'cucumber'], 188, 'nigiri')]\n"
          ]
        }
      ]
    }
  ]
}