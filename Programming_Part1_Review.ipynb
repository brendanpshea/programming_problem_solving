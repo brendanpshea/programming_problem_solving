{
  "nbformat": 4,
  "nbformat_minor": 0,
  "metadata": {
    "colab": {
      "provenance": [],
      "authorship_tag": "ABX9TyMSurBTPGwEMP6DyMOsvvGB",
      "include_colab_link": true
    },
    "kernelspec": {
      "name": "python3",
      "display_name": "Python 3"
    },
    "language_info": {
      "name": "python"
    }
  },
  "cells": [
    {
      "cell_type": "markdown",
      "metadata": {
        "id": "view-in-github",
        "colab_type": "text"
      },
      "source": [
        "<a href=\"https://colab.research.google.com/github/brendanpshea/programming_problem_solving/blob/main/Programming_Part1_Review.ipynb\" target=\"_parent\"><img src=\"https://colab.research.google.com/assets/colab-badge.svg\" alt=\"Open In Colab\"/></a>"
      ]
    },
    {
      "cell_type": "markdown",
      "source": [
        "# Programming and Problem Solvig: Part 1 Review\n",
        "### Brendan Shea, PhD\n",
        "This reviews material covered in chapters 1, 2, and 3. This will be updated with a video by Wednesday.\n",
        "\n",
        "### Python Practice at CodingBat\n",
        "I highly recommend completing the Python exercises at CodingBat. These provides lots of practice with basic Python structures and syntax. (And you might see one ore two of these on my exams!).\n",
        "\n",
        "https://codingbat.com/python\n"
      ],
      "metadata": {
        "id": "z2DleFtr8_qz"
      }
    },
    {
      "cell_type": "markdown",
      "source": [
        "## Python Data Types\n",
        "\n",
        "| Data Type | Definition |\n",
        "| --- | --- |\n",
        "| int | A Python data type that represents whole numbers without a fractional component, positive or negative. For example, `3`, `-467`. |\n",
        "| float | A Python data type that holds real numbers, including those with fractional parts. Examples include `3.14`, `-0.01`. |\n",
        "| complex | A Python data type that consists of two parts: a real part and an imaginary part. An example is `3 + 4j`. |\n",
        "| bool | A Python data type that can hold only two values: True or False. Examples are `True`, `False`. |\n",
        "| str | A Python data type that is a sequence of characters enclosed in quotes. Examples include `\"hello\"`, `\"1234\"`. |\n",
        "| list | A Python data type that is an ordered collection of items which can be of different types. An example is `[1, \"two\", 3.0]`. |\n",
        "| tuple | A Python data type similar to lists, but immutable. An example is `(1, \"two\", 3.0)`. |\n",
        "| set | A Python data type that is an unordered collection of unique items. An example is `{1, 2, 3}`. |\n",
        "| frozenset | A Python data type that is an immutable version of a set. An example is `frozenset({1, 2, 3})`. |\n",
        "| dict | A Python data type that is a collection of key-value pairs. An example is `{\"key\": \"value\", \"number\": 123}`. |\n"
      ],
      "metadata": {
        "id": "bvjSnNRZ94Xe"
      }
    },
    {
      "cell_type": "code",
      "source": [
        "# You can check data type with type()\n",
        "type(5.21)"
      ],
      "metadata": {
        "colab": {
          "base_uri": "https://localhost:8080/"
        },
        "id": "7aBVhXmA98um",
        "outputId": "020d9e3f-1c7f-4bee-9ae8-50fe43f81910"
      },
      "execution_count": null,
      "outputs": [
        {
          "output_type": "execute_result",
          "data": {
            "text/plain": [
              "float"
            ]
          },
          "metadata": {},
          "execution_count": 1
        }
      ]
    },
    {
      "cell_type": "markdown",
      "source": [
        "## Basic Math in Python\n",
        "Many basic math functions are built into Python, and many, many more are available in libraries like `math`.\n",
        "\n",
        "\n",
        "| Python Code | Description |\n",
        "| --- | --- |\n",
        "| `a + b` | Adds `a` and `b`. For example, `5 + 3` results in `8`. |\n",
        "| `a - b` | Subtracts `b` from `a`. For example, `10 - 2` results in `8`. |\n",
        "| `a * b` | Multiplies `a` and `b`. For example, `4 * 2` results in `8`. |\n",
        "| `a / b` | Divides `a` by `b`, resulting in a float. For example, `8 / 2` results in `4.0`. |\n",
        "| `a // b` | Performs floor division on `a` and `b`, discarding the fractional part. For example, `9 // 2` results in `4`. |\n",
        "| `a % b` | Calculates the modulus, returning the remainder of `a` divided by `b`. For example, `9 % 2` results in `1`. |\n",
        "| `a ** b` | Raises `a` to the power of `b`. For example, `2 ** 3` results in `8`. |\n",
        "| `abs(a)` | Returns the absolute value of `a`. For example, `abs(-5)` results in `5`. |\n",
        "| `round(a, digits)` | Rounds `a` to `digits` decimal places. If `digits` is omitted, it rounds to the nearest integer. For example, `round(3.14159, 2)` results in `3.14`. |\n",
        "| `pow(a, b)` | Raises `a` to the power of `b`, equivalent to `a ** b`. For example, `pow(2, 3)` results in `8`. |\n",
        "| `max(a, b, c, ...)` | Returns the largest of the input values. For example, `max(1, 2, 3)` results in `3`. |\n",
        "| `min(a, b, c, ...)` | Returns the smallest of the input values. For example, `min(1, 2, 3)` results in `1`. |\n",
        "| `sum([a, b, c, ...])` | Returns the sum of all the elements in the input list. For example, `sum([1, 2, 3, 4])` results in `10`. |"
      ],
      "metadata": {
        "id": "1xG93e2W-U-E"
      }
    },
    {
      "cell_type": "code",
      "source": [
        "# You can compose functions!\n",
        "\n",
        "round(max(4**7,abs(324324),2))"
      ],
      "metadata": {
        "colab": {
          "base_uri": "https://localhost:8080/"
        },
        "id": "0cEcI7XA-iHf",
        "outputId": "8d53a560-9c25-476a-ae07-8543977e9636"
      },
      "execution_count": null,
      "outputs": [
        {
          "output_type": "execute_result",
          "data": {
            "text/plain": [
              "324324"
            ]
          },
          "metadata": {},
          "execution_count": 2
        }
      ]
    },
    {
      "cell_type": "markdown",
      "source": [
        "## String Operations\n",
        "Strings are immutable collections of characters. Some basic operations include:\n",
        "\n",
        "| Python Code | Description |\n",
        "| --- | --- |\n",
        "| `s = \"Python\"` | Initializes `s` with the string value `\"Python\"`. |\n",
        "| `f\"{s} is cool\"` | Uses an f-string to combine `s` with other text. For example, it results in `\"Python is cool\"`. |\n",
        "| `s + \" Programming\"` | Concatenates `s` with another string. For example, it results in `\"Python Programming\"`. |\n",
        "| `s[0]` | Accesses the first character of `s`. For example, it results in `'P'`. |\n",
        "| `s[-1]` | Accesses the last character of `s`. For example, it results in `'n'`. |\n",
        "| `s[1:4]` | Slices `s` from index 1 to 3, excluding index 4. For example, it results in `\"yth\"`. |\n",
        "| `\"\\\\\" is an escape character` | Demonstrates the use of the backslash as an escape character. For example, it results in `\"\\\" is an escape character\"`. |\n",
        "| `s.lower()` | Converts all characters in `s` to lowercase. For example, it results in `\"python\"`. |\n",
        "| `s.upper()` | Converts all characters in `s` to uppercase. For example, it results in `\"PYTHON\"`. |\n",
        "| `len(s)` | Returns the length of `s`. For example, `6` for `\"Python\"`. |\n",
        "| `s.startswith(\"P\")` | Checks if `s` starts with `\"P\"`. Returns `True`. |\n",
        "| `s.endswith(\"n\")` | Checks if `s` ends with `\"n\"`. Returns `True`. |\n",
        "| `\"n\" in s` | Checks if `\"n\"` is in `s`. Returns `True`. |\n",
        "| `s.replace(\"P\", \"J\")` | Replaces all instances of `\"P\"` with `\"J\"` in `s`. For example, it results in `\"Jython\"`. |\n",
        "| `s.find(\"t\")` | Finds the index of the first occurrence of `\"t\"` in `s`. For example, it results in `2`. |\n",
        "| `s.split(\"y\")` | Splits `s` at every `\"y\"`. For example, it results in `['P', 'thon']`. |"
      ],
      "metadata": {
        "id": "Smb7B8Lc-15N"
      }
    },
    {
      "cell_type": "code",
      "source": [
        "# Feel free to play with this code cell\n",
        "s = \"Python\""
      ],
      "metadata": {
        "id": "RfYY-IIG_EAZ"
      },
      "execution_count": null,
      "outputs": []
    },
    {
      "cell_type": "markdown",
      "source": [
        "## Boolean Values\n",
        "Boolean values are always `True` or `False`. THey are at the heart of structures like if-elif-else blocks and for and while loops.\n",
        "\n",
        "| Python Code | Explanation |\n",
        "| --- | --- |\n",
        "| `10 == 20` | A statement checking if 10 and 20 are equal. It evaluates to false. |\n",
        "| `5 != 7` | A comparison to see if 5 and 7 are not equal. Evaluates to true. |\n",
        "| `3 < 4` | Evaluates whether 3 is less than 4. This statement is true. |\n",
        "| `100 > 50` | Checks if 100 is greater than 50. True. |\n",
        "| `15 >= 15` | Determines if 15 is greater than or equal to 15. True. |\n",
        "| `25 <= 30` | Assesses if 25 is less than or equal to 30. True. |\n",
        "| `2 in [1, 2, 3]` | Checks if 2 is a member of the list [1, 2, 3]. True. |\n",
        "| `4 not in [1, 2, 3]` | Determines if 4 is not in the list [1, 2, 3]. True. |\n",
        "| `True and False` | Logical AND operation between True and False. Evaluates to false. |\n",
        "| `True or False` | Logical OR operation between True and False. True. |\n",
        "| `not True` | Logical NOT operation applied to True. Evaluates to false. |\n",
        "| `(\"apple\" == \"apple\") and (2 > 1)` | Combines two true statements with AND. Evaluates to true. |\n",
        "| `(\"car\" == \"bike\") or (10 < 20)` | Combines a false and a true statement with OR. True. |\n",
        "| `not (10 <= 5)` | Uses NOT to invert the false condition that 10 is less than or equal to 5. True. |"
      ],
      "metadata": {
        "id": "ZqxwuKgp_X5N"
      }
    },
    {
      "cell_type": "code",
      "source": [
        "(\"car\" == \"bike\") or (10 < 20)"
      ],
      "metadata": {
        "colab": {
          "base_uri": "https://localhost:8080/"
        },
        "id": "fuMmWLdP_Lks",
        "outputId": "4b3bb6b2-79c7-46bd-ce20-60563173a902"
      },
      "execution_count": null,
      "outputs": [
        {
          "output_type": "execute_result",
          "data": {
            "text/plain": [
              "True"
            ]
          },
          "metadata": {},
          "execution_count": 3
        }
      ]
    },
    {
      "cell_type": "markdown",
      "source": [
        "## Lists\n",
        "Lists in Python are versatile, ordered collections of items that can hold mixed data types. They are mutable, allowing for dynamic modifications such as adding, removing, or changing items.\n",
        "\n",
        "| Python Code | Description |\n",
        "| --- | --- |\n",
        "| `l = [1, \"two\", 3.14, True]` | Declares a new list |\n",
        "| `l.append(\"new\")` | Adds an item to the end of the list. For example, `l` becomes `[1, \"two\", 3.14, True, \"new\"]`. |\n",
        "| `l.insert(1, \"inserted\")` | Inserts an item at a specified position. For example, `l` becomes `[1, \"inserted\", \"two\", 3.14, True]` after insertion at index 1. |\n",
        "| `l.pop()` | Removes and returns the last item from the list. If `l` was `[1, \"two\", 3.14, True]`, `True` is removed and returned. |\n",
        "| `l.pop(1)` | Removes and returns the item at the specified position. If `l` was `[1, \"two\", 3.14, True]`, `\"two\"` is removed and returned. |\n",
        "| `l.remove(\"two\")` | Removes the first occurrence of an item. For example, removes `\"two\"` from `l`, resulting in `[1, 3.14, True]`. |\n",
        "| `l.index(\"two\")` | Returns the index of the first occurrence of an item. For `l` as `[1, \"two\", 3.14, True]`, it returns `1`. |\n",
        "| `l.count(\"two\")` | Counts how many times an item appears in the list. For `l`, it returns `1` for `\"two\"`. |\n",
        "| `l.sort()` | Sorts the list in ascending order. Not applicable for `l` due to mixed data types but works for homogeneous lists. |\n",
        "| `l.reverse()` | Reverses the order of the list. For `l`, it becomes `[True, 3.14, \"two\", 1]`. |\n",
        "| `len(l)` | Returns the number of items in the list. For `l`, it returns `4`. |\n",
        "| `\"two\" in l` | Checks if an item is in the list. Returns `True` for `\"two\"` in `l`. |\n",
        "| `l + [\"extra\"]` | Concatenates two lists. For `l`, it results in `[1, \"two\", 3.14, True, \"extra\"]`. |\n",
        "| `l[2]` | Accesses the item at the specified index. For `l`, it returns `3.14`. |\n",
        "| `l[1:3]` | Slices the list from index 1 to 2. For `l`, it returns `[\"two\", 3.14]`. |\n",
        "| `[x.upper() for x in l if isinstance(x, str)]` | Uses a list comprehension to apply an operation to list items of a specific type. For `l`, it returns `[\"TWO\"]`. |"
      ],
      "metadata": {
        "id": "cUPHR5lW_uf9"
      }
    },
    {
      "cell_type": "code",
      "source": [
        "l = [1, \"two\", 3.14, True]\n",
        "l[-1]"
      ],
      "metadata": {
        "colab": {
          "base_uri": "https://localhost:8080/"
        },
        "id": "NXQDFUuHAc-1",
        "outputId": "93783e55-a4ab-4f7b-a96f-ce57cf0d5ff1"
      },
      "execution_count": null,
      "outputs": [
        {
          "output_type": "execute_result",
          "data": {
            "text/plain": [
              "True"
            ]
          },
          "metadata": {},
          "execution_count": 6
        }
      ]
    },
    {
      "cell_type": "markdown",
      "source": [
        "## Dictionaries\n",
        "Dictionaries in Python are powerful, flexible collections that store key-value pairs. Each key is unique and maps to a value, allowing for efficient data retrieval and manipulation. Dictionaries are mutable, meaning you can add, remove, or change items after the dictionary has been created.\n",
        "\n",
        "| Python Code | Description |\n",
        "| --- | --- |\n",
        "| `d = {\"engine\": \"Steam\", \"cars\": 5, \"name\": \"The Flying Scotsman\"}` | Declares a dictionary `d` with information about a train. |\n",
        "| `d[\"speed\"] = 100` | Adds a new key-value pair, setting the train's speed to 100. |\n",
        "| `d[\"engine\"] = \"Electric\"` | Updates the value associated with the key `\"engine\"` to `\"Electric\"`. |\n",
        "| `d.pop(\"speed\")` | Removes the key `\"speed\"` and its associated value from the dictionary. |\n",
        "| `d.get(\"name\")` | Retrieves the value for the key `\"name\"`, resulting in `\"The Flying Scotsman\"`. |\n",
        "| `d.keys()` | Returns a view of the dictionary's keys, such as `[\"engine\", \"cars\", \"name\"]`. |\n",
        "| `d.values()` | Returns a view of the dictionary's values, like `[\"Electric\", 5, \"The Flying Scotsman\"]`. |\n",
        "| `d.items()` | Returns a view of the dictionary's key-value pairs as tuples. |\n",
        "| `\"cars\" in d` | Checks if `\"cars\"` is a key in the dictionary. Returns True. |\n",
        "| `d.update({\"route\": \"London to Edinburgh\"})` | Updates `d` with an additional key-value pair, specifying the route. |\n",
        "| `len(d)` | Returns the number of key-value pairs in the dictionary, such as `4` after the update. |\n",
        "| `d[\"route\"]` | Accesses the value for the key `\"route\"`, resulting in `\"London to Edinburgh\"`. |"
      ],
      "metadata": {
        "id": "sYlDmtGPBJHD"
      }
    },
    {
      "cell_type": "code",
      "source": [
        "d = {\"engine\": \"Steam\", \"cars\": 5, \"name\": \"The Flying Scotsman\"}\n",
        "d[\"speed\"] = 100\n",
        "d.items()"
      ],
      "metadata": {
        "colab": {
          "base_uri": "https://localhost:8080/"
        },
        "id": "roBW8LGnBmzb",
        "outputId": "551d7597-e528-4d3c-936e-1c2f9e32bc26"
      },
      "execution_count": null,
      "outputs": [
        {
          "output_type": "execute_result",
          "data": {
            "text/plain": [
              "dict_items([('engine', 'Steam'), ('cars', 5), ('name', 'The Flying Scotsman'), ('speed', 100)])"
            ]
          },
          "metadata": {},
          "execution_count": 7
        }
      ]
    },
    {
      "cell_type": "markdown",
      "source": [
        "## Program Flow with `if`, `elif`, `else`, `for`, and `while`\n",
        "\n",
        "Program flow in Python is controlled through conditional statements and loops, allowing the program to execute different blocks of code based on certain conditions or repeat actions. The primary structures for this are `if`, `elif`, `else` for conditional execution, and `for` and `while` loops for iteration.\n",
        "\n",
        "-   An **`if` statement** executes a block if a specified condition is true.\n",
        "-   **`elif` (else if)** checks another condition if the previous conditions were false.\n",
        "-   **`else`** executes a block if all preceding conditions in the `if`/`elif` chain are false.\n",
        "-   A **`for` loop** iterates over items in a sequence or iterable.\n",
        "-   A **`while` loop** Repeats as long as a condition is true.\n",
        "\n",
        "In order to see how this works, let's use some (vaguely) Castlevania themed examples."
      ],
      "metadata": {
        "id": "IAFjojd-By3l"
      }
    },
    {
      "cell_type": "code",
      "source": [
        "# Exploring a dungeon\n",
        "room_content = \"enemy\"  # Could be \"enemy\", \"power-up\", or \"empty\"\n",
        "\n",
        "if room_content == \"enemy\":\n",
        "    print(\"Prepare for battle!\")\n",
        "elif room_content == \"power-up\":\n",
        "    print(\"You found a power-up!\")\n",
        "else:\n",
        "    print(\"The room is empty. Safe to proceed.\")\n"
      ],
      "metadata": {
        "colab": {
          "base_uri": "https://localhost:8080/"
        },
        "id": "H5O2NIOWCH8H",
        "outputId": "13377b5a-2e3d-488f-a2bf-88e53f5287cb"
      },
      "execution_count": null,
      "outputs": [
        {
          "output_type": "stream",
          "name": "stdout",
          "text": [
            "Prepare for battle!\n"
          ]
        }
      ]
    },
    {
      "cell_type": "code",
      "source": [
        "# Let's iterate through a list, a check each room\n",
        "rooms = [\"enemy\", \"empty\", \"power-up\", \"enemy\", \"boss\"]\n",
        "\n",
        "for room in rooms:\n",
        "    if room == \"enemy\":\n",
        "        print(\"Fight!\")\n",
        "    elif room == \"power-up\":\n",
        "        print(\"Boost!\")\n",
        "    elif room == \"boss\":\n",
        "        print(\"Boss battle!\")\n",
        "    else:\n",
        "        print(\"No danger here.\")\n"
      ],
      "metadata": {
        "colab": {
          "base_uri": "https://localhost:8080/"
        },
        "id": "MsSh06hcCksm",
        "outputId": "f85f6267-81b0-42a2-f0ca-d181f7a264cd"
      },
      "execution_count": null,
      "outputs": [
        {
          "output_type": "stream",
          "name": "stdout",
          "text": [
            "Fight!\n",
            "No danger here.\n",
            "Boost!\n",
            "Fight!\n",
            "Boss battle!\n"
          ]
        }
      ]
    },
    {
      "cell_type": "code",
      "source": [
        "enemies = 10  # Integer\n",
        "\n",
        "score = 10 # Starting score\n",
        "while enemies > 0:\n",
        "    print(\"Enemy defeated!\")\n",
        "    enemies -= 1  # Decrement the enemy count\n",
        "    score *= 1.5 # Increase score by 50%\n",
        "\n",
        "print(\"All enemies in the room are defeated!\")\n",
        "print(f\"Final score: {round(score,2)}\")\n"
      ],
      "metadata": {
        "colab": {
          "base_uri": "https://localhost:8080/"
        },
        "id": "ofYVzr9KCzko",
        "outputId": "16e5d019-d2f9-41ed-f606-b2a7140571c2"
      },
      "execution_count": null,
      "outputs": [
        {
          "output_type": "stream",
          "name": "stdout",
          "text": [
            "Enemy defeated!\n",
            "Enemy defeated!\n",
            "Enemy defeated!\n",
            "Enemy defeated!\n",
            "Enemy defeated!\n",
            "Enemy defeated!\n",
            "Enemy defeated!\n",
            "Enemy defeated!\n",
            "Enemy defeated!\n",
            "Enemy defeated!\n",
            "All enemies in the room are defeated!\n",
            "Final score: 576.65\n"
          ]
        }
      ]
    },
    {
      "cell_type": "markdown",
      "source": [
        "## Exercise: Putting it All Together (To Fight Dracula)\n",
        "\n",
        "Let's take a look at a slightly more involved example."
      ],
      "metadata": {
        "id": "HeR22x_LEHa7"
      }
    },
    {
      "cell_type": "code",
      "source": [
        "castle_rooms = [\n",
        "    {\n",
        "        \"name\": \"The Lair of the Lost Boys\",\n",
        "        \"enemy\": {\"name\": \"Lesser Vampire\", \"hp\": 50, \"strength\": 0.5},\n",
        "        \"items\": []\n",
        "    },\n",
        "    {\n",
        "        \"name\": \"The Crypt of Count Yorga\",\n",
        "        \"enemy\": {\"name\": \"Trap Master\", \"hp\": 100, \"strength\": 0.0},\n",
        "        \"items\": [\"invisibility cloak\"]\n",
        "    },\n",
        "    {\n",
        "        \"name\": \"The Tomb of Nosferatu\",\n",
        "        \"enemy\": {\"name\": \"Night Stalker\", \"hp\": 150, \"strength\": 1.5},\n",
        "        \"items\": [\"healing potion\"]\n",
        "    },\n",
        "    {\n",
        "        \"name\": \"The Chamber of Shadows\",\n",
        "        \"enemy\": {\"name\": \"Shadow Phantom\", \"hp\": 1, \"strength\": 0.1},\n",
        "        \"items\": [\"mana potion\"]\n",
        "    },\n",
        "    {\n",
        "        \"name\": \"Dracula's Final Stand\",\n",
        "        \"enemy\": {\"name\": \"Dracula\", \"hp\": 500, \"strength\": 5.0},\n",
        "        \"items\": [\"power sword\", \"ultimate shield\"]\n",
        "    }\n",
        "]\n",
        "\n",
        "# Main program\n",
        "for room in castle_rooms:\n",
        "    enemy = room[\"enemy\"]\n",
        "    items = room[\"items\"]\n",
        "    print(f\"\\nEntering {room['name']}...\")\n",
        "\n",
        "    if enemy[\"strength\"] <= 0.5:\n",
        "        print(f\"A weak enemy detected: {enemy['name']}. No special strategy needed.\")\n",
        "    elif enemy[\"strength\"] > 0.5 and enemy[\"strength\"] <= 1.5:\n",
        "        print(f\"Prepare for a challenging battle against {enemy['name']}!\")\n",
        "        if \"healing potion\" in items:\n",
        "            print(\"A healing potion is available. Use it wisely!\")\n",
        "    elif enemy[\"name\"] == \"Dracula\":\n",
        "        print(f\"The ultimate challenge: {enemy['name']} awaits! Gear up for the epic showdown.\")\n",
        "        if \"power sword\" in items:\n",
        "            print(\"A power sword is at your disposal. This is your chance to shine!\")\n",
        "\n",
        "    if items:\n",
        "        print(\"Items found in this room:\", \", \".join(items))\n",
        "    else:\n",
        "        print(\"No items found in this room. Proceed with caution.\")\n"
      ],
      "metadata": {
        "colab": {
          "base_uri": "https://localhost:8080/"
        },
        "id": "-zygBTS_EOxt",
        "outputId": "18342b4e-5d81-425e-94e5-d7b2489845f9"
      },
      "execution_count": null,
      "outputs": [
        {
          "output_type": "stream",
          "name": "stdout",
          "text": [
            "\n",
            "Entering The Lair of the Lost Boys...\n",
            "A weak enemy detected: Lesser Vampire. No special strategy needed.\n",
            "No items found in this room. Proceed with caution.\n",
            "\n",
            "Entering The Crypt of Count Yorga...\n",
            "A weak enemy detected: Trap Master. No special strategy needed.\n",
            "Items found in this room: invisibility cloak\n",
            "\n",
            "Entering The Tomb of Nosferatu...\n",
            "Prepare for a challenging battle against Night Stalker!\n",
            "A healing potion is available. Use it wisely!\n",
            "Items found in this room: healing potion\n",
            "\n",
            "Entering The Chamber of Shadows...\n",
            "A weak enemy detected: Shadow Phantom. No special strategy needed.\n",
            "Items found in this room: mana potion\n",
            "\n",
            "Entering Dracula's Final Stand...\n",
            "The ultimate challenge: Dracula awaits! Gear up for the epic showdown.\n",
            "A power sword is at your disposal. This is your chance to shine!\n",
            "Items found in this room: power sword, ultimate shield\n"
          ]
        }
      ]
    },
    {
      "cell_type": "markdown",
      "source": [
        "## Questions\n",
        "Identify the value and data type of each of the following WITHOUT coding. Then check your answers using Python code.\n",
        "1. `castle_rooms`\n",
        "2. `castle_rooms[1]`\n",
        "3. `castle_rooms[-1][\"name\"]`\n",
        "4. `castle_rooms[2][\"name][1:5]`\n",
        "5. `5 > .05 and 5 <= 1.5`\n",
        "6. `5 > .05 or 5 <= 1.5`\n",
        "7. `not(5 > .05 and 5 <= 1.5) and False`\n",
        "8. `castle_rooms[3][\"items\"]`\n",
        "9. `castle_rooms[3][\"items\"][1:2]`\n",
        "10. `castle_rooms[2][\"enemy\"]`\n",
        "11. `castle_rooms[1][\"enemy\"].values()`\n",
        "12. `castle_rooms[-1][\"enemy\"].keys()`\n",
        "13. `castle_rooms[0][\"enemy\"][\"hp\"]`\n",
        "14. `castle_rooms + [\"Simon\"]`\n",
        "15. `castle_rooms[0][\"enemy\"][\"stregth\"] ** 2`\n",
        "\n",
        "Now, write code to do the following:\n",
        "\n",
        "16. Add a new room to the castle.\n",
        "\n",
        "17. Add a new key \"appearance\" to each room. GIve it appropriate values.\n",
        "18. Find the minimum enemy hp, maximum hp, and sum of enemy hps.\n",
        "19. Print a nicely formatted list of all items found in all rooms of the castle.\n",
        "20. (Challenge) Write code that allows the user to CHOOSE which room of the castle to explore."
      ],
      "metadata": {
        "id": "vz1rcvRhFJut"
      }
    },
    {
      "cell_type": "code",
      "source": [
        "castle_rooms + [\"Simon\"]"
      ],
      "metadata": {
        "colab": {
          "base_uri": "https://localhost:8080/"
        },
        "id": "afDOaHMRFKPR",
        "outputId": "0324b178-df48-48c7-ac5a-dc286137472a"
      },
      "execution_count": null,
      "outputs": [
        {
          "output_type": "execute_result",
          "data": {
            "text/plain": [
              "[{'name': 'The Lair of the Lost Boys',\n",
              "  'enemy': {'name': 'Lesser Vampire', 'hp': 50, 'strength': 0.5},\n",
              "  'items': []},\n",
              " {'name': 'The Crypt of Count Yorga',\n",
              "  'enemy': {'name': 'Trap Master', 'hp': 100, 'strength': 0.0},\n",
              "  'items': ['invisibility cloak']},\n",
              " {'name': 'The Tomb of Nosferatu',\n",
              "  'enemy': {'name': 'Night Stalker', 'hp': 150, 'strength': 1.5},\n",
              "  'items': ['healing potion']},\n",
              " {'name': 'The Chamber of Shadows',\n",
              "  'enemy': {'name': 'Shadow Phantom', 'hp': 1, 'strength': 0.1},\n",
              "  'items': ['mana potion']},\n",
              " {'name': \"Dracula's Final Stand\",\n",
              "  'enemy': {'name': 'Dracula', 'hp': 500, 'strength': 5.0},\n",
              "  'items': ['power sword', 'ultimate shield']},\n",
              " 'Simon']"
            ]
          },
          "metadata": {},
          "execution_count": 9
        }
      ]
    },
    {
      "cell_type": "code",
      "source": [
        "# Some code cells to work with."
      ],
      "metadata": {
        "id": "mgQEo07wyE0G"
      },
      "execution_count": null,
      "outputs": []
    },
    {
      "cell_type": "code",
      "source": [
        "# Some code cells to work with."
      ],
      "metadata": {
        "id": "ZQAxNaCDyLTh"
      },
      "execution_count": null,
      "outputs": []
    },
    {
      "cell_type": "code",
      "source": [
        "# Some code cells to work with."
      ],
      "metadata": {
        "id": "uNgR4QNkyLdd"
      },
      "execution_count": null,
      "outputs": []
    },
    {
      "cell_type": "code",
      "source": [
        "# Some code cells to work with."
      ],
      "metadata": {
        "id": "O3p0Ze9jyL2W"
      },
      "execution_count": null,
      "outputs": []
    },
    {
      "cell_type": "markdown",
      "source": [
        "## Functions\n",
        "Functions are reusable blocks of code that perform a specific task. Functions can take inputs, known as parameters, and can return an output. Functions help in organizing code, making it more readable, and reducing repetition. There are two main types of functions based on their operation: iterative and recursive.\n",
        "\n",
        "-   Iterative functions use loops to repeat a sequence of operations until a condition is met.\n",
        "-   Recursive functions call themselves within their own definition to solve a problem by breaking it down into smaller, more manageable problems.\n",
        "\n",
        "Let's use examples from the Metroid series to illustrate both iterative and recursive functions.\n",
        "\n",
        "###  Iterative Function Example: Counting Power-Ups\n",
        "Imagine Samus (the main character of Metroid is exploring a planet and collecting different types of power-ups. We can write an iterative function to count the total number of a specific power-up type she has collected."
      ],
      "metadata": {
        "id": "EqFS_uDbyVen"
      }
    },
    {
      "cell_type": "code",
      "source": [
        "def count_power_ups(power_up_list, power_up_type=\"energy tank\"):\n",
        "    \"\"\"Count the number of specific power-ups in the list.\"\"\"\n",
        "    count = 0\n",
        "    for power_up in power_up_list:\n",
        "        if power_up.lower() == power_up_type.lower():\n",
        "            count += 1\n",
        "    return count\n",
        "\n",
        "power_ups_collected = [\"missile\", \"energy tank\", \"missile\", \"morph ball\"]\n",
        "\n",
        "missile_count = count_power_ups(power_ups_collected, \"missile\")\n",
        "print(f\"Samus has collected {missile_count} missile power-ups.\")\n"
      ],
      "metadata": {
        "colab": {
          "base_uri": "https://localhost:8080/"
        },
        "id": "xEolUJWlyzsl",
        "outputId": "0f69bad1-6c75-40b8-98c1-b35ba15992e2"
      },
      "execution_count": null,
      "outputs": [
        {
          "output_type": "stream",
          "name": "stdout",
          "text": [
            "Samus has collected 2 missile power-ups.\n"
          ]
        }
      ]
    },
    {
      "cell_type": "markdown",
      "source": [
        "### Exercises\n",
        "Write code to do the following, based on the above function.\n",
        "1. Add some new values to the power up list (using list methods), including at least 2 morph balls. Then run count_power_ups to counts the morph balls. This should NOT require altering the function.\n",
        "2. Write a new function allowing a user to enter a list of power-ups. When the user is done, run count_power_ups to print the results. Again, this shouldn't require alterning the initial function.\n",
        "3. Write a new function that takes `power_up_list` as a parameter. It should return a dictionary with counts of all powerup. For example:\n",
        "`{\"missile\":2, \"energy tank\":1, \"morph ball\":1}`"
      ],
      "metadata": {
        "id": "ITci4kqPz5Zr"
      }
    },
    {
      "cell_type": "code",
      "source": [],
      "metadata": {
        "id": "iohKs2Fn1WXq"
      },
      "execution_count": null,
      "outputs": []
    },
    {
      "cell_type": "code",
      "source": [],
      "metadata": {
        "id": "FN-aDNPv1WiJ"
      },
      "execution_count": null,
      "outputs": []
    },
    {
      "cell_type": "code",
      "source": [],
      "metadata": {
        "id": "Fekkpa7U1WwJ"
      },
      "execution_count": null,
      "outputs": []
    },
    {
      "cell_type": "markdown",
      "source": [
        "### Recursive Function Example: Calculating Damage Over Time\n",
        "\n",
        "Suppose Samus uses a special weapon that deals damage over time (DoT), with the damage decreasing in each subsequent time period until it wears off. We can use a recursive function to calculate the total damage dealt over all time periods."
      ],
      "metadata": {
        "id": "xCAZw2xFzKeh"
      }
    },
    {
      "cell_type": "code",
      "source": [
        "def calculate_total_damage(initial_damage, periods):\n",
        "    \"\"\"Calculate total damage over time, with damage halving each period.\"\"\"\n",
        "    if periods == 0: # base case\n",
        "        return 0\n",
        "    else:  # Recursive case\n",
        "        print(f\"Damage this period: {initial_damage}\")\n",
        "        return initial_damage + calculate_total_damage(initial_damage / 2, periods - 1)\n",
        "\n",
        "total_damage = calculate_total_damage(100, 4)  # Example: 100 damage, over 4 periods\n",
        "print(f\"The total damage dealt is {total_damage}.\")\n"
      ],
      "metadata": {
        "colab": {
          "base_uri": "https://localhost:8080/"
        },
        "id": "xNK4jB73zMxD",
        "outputId": "f681fa84-4f8f-45c7-fd9b-64be58d07d50"
      },
      "execution_count": null,
      "outputs": [
        {
          "output_type": "stream",
          "name": "stdout",
          "text": [
            "Damage this period: 100\n",
            "Damage this period: 50.0\n",
            "Damage this period: 25.0\n",
            "Damage this period: 12.5\n",
            "The total damage dealt is 187.5.\n"
          ]
        }
      ]
    },
    {
      "cell_type": "markdown",
      "source": [
        "### Exercises\n",
        "1. Modify the function to ensure that initial_damage and periods are positive integers before proceeding with the calculation. If not, print an error message and return None.\n",
        "\n",
        "2. Alter the function to take an additional parameter that specifies the fraction by which the damage reduces each period, instead of halving.\n",
        "\n",
        "3. Create a function that calculates and prints the remaining damage after each period, not just the damage dealt in the current period.\n",
        "\n",
        "4. Rewrite the function iteratively using a loop instead of recursion to perform the same calculation."
      ],
      "metadata": {
        "id": "qHQbH5yn2P0d"
      }
    },
    {
      "cell_type": "code",
      "source": [],
      "metadata": {
        "id": "epWIp4v3zCOH"
      },
      "execution_count": null,
      "outputs": []
    },
    {
      "cell_type": "code",
      "source": [],
      "metadata": {
        "id": "bYCjBezO2hGw"
      },
      "execution_count": null,
      "outputs": []
    },
    {
      "cell_type": "code",
      "source": [],
      "metadata": {
        "id": "QChaJ9vj2hOW"
      },
      "execution_count": null,
      "outputs": []
    },
    {
      "cell_type": "code",
      "source": [],
      "metadata": {
        "id": "8zJ_ki6-zCUJ"
      },
      "execution_count": null,
      "outputs": []
    },
    {
      "cell_type": "markdown",
      "source": [
        "## Libraries in Python\n",
        "\n",
        "Python libraries are collections of modules that include functions, methods, and types, offering a wide range of functionalities without the need for writing your own code for every little task. Libraries can significantly speed up the programming process and include everything from performing mathematical operations to generating random numbers and creating graphical outputs. Some examples we've looked include:\n",
        "\n",
        "1. The `math` library provides access to mathematical functions defined by the C standard. These functions include trigonometric functions, representation functions, logarithmic functions, and much more. For instance, `math.sqrt(x)` will return the square root of `x`.\n",
        "2. The `random` library is used to generate random numbers. Python uses a pseudo-random number generator that produces numbers that are not truly random but can be used as though they are random. For example, `random.randint(a, b)` returns a random integer N such that `a <= N <= b`.\n",
        "3. `turtle` is a Python library that enables the Turtle graphics library to be used inside a Jupyter notebook or Google Colab notebook. It's particularly useful for educational purposes and for creating simple graphics. With `turtle`, you can draw shapes, such as circles and squares, with various colors.\n",
        "\n",
        "Let's write a simple program to draw random sized circle using thsis."
      ],
      "metadata": {
        "id": "5oxStr0sLAY9"
      }
    },
    {
      "cell_type": "code",
      "source": [
        "%%capture\n",
        "# Here's how we install a libary and import it\n",
        "!pip install ColabTurtle\n",
        "import ColabTurtle.Turtle as turtle"
      ],
      "metadata": {
        "id": "3HFr0MLWLCYD"
      },
      "execution_count": null,
      "outputs": []
    },
    {
      "cell_type": "code",
      "source": [
        "import random\n",
        "import math\n",
        "\n",
        "def initialize_screen():\n",
        "    turtle.initializeTurtle()\n",
        "    turtle.speed(10)\n",
        "    turtle.bgcolor(\"white\")\n",
        "\n",
        "def get_random_color():\n",
        "    r = random.randint(0, 255)\n",
        "    g = random.randint(0, 255)\n",
        "    b = random.randint(0, 255)\n",
        "    return f'#{r:02x}{g:02x}{b:02x}'\n",
        "\n",
        "def draw_circle(radius):\n",
        "    # Approximate the circle by a polygon with a sufficient number of sides\n",
        "    circumference = 2 * math.pi * radius\n",
        "    # The number of segments affects the smoothness of the circle\n",
        "    num_segments = int(circumference / 4) or 10\n",
        "    segment_length = circumference / num_segments\n",
        "    segment_angle = 360 / num_segments\n",
        "\n",
        "    turtle.penup()\n",
        "    turtle.forward(radius)  # Move from center to the right edge of the circle\n",
        "    turtle.left(90)  # Orient the turtle to start drawing the circle\n",
        "    turtle.pendown()\n",
        "\n",
        "    for _ in range(num_segments):\n",
        "        turtle.forward(segment_length)\n",
        "        turtle.left(segment_angle)\n",
        "    turtle.right(90)  # Reset the orientation\n",
        "    turtle.penup()  # Lift the pen up to stop drawing\n",
        "    turtle.backward(radius)  # Move back to the starting position\n",
        "\n",
        "def draw_circles(number_of_circles):\n",
        "    for _ in range(number_of_circles):\n",
        "        x = random.randint(0, 600)\n",
        "        y = random.randint(0, 400)\n",
        "        turtle.goto(x, y)\n",
        "\n",
        "        turtle.color(get_random_color())\n",
        "        radius = random.randint(10, 100)\n",
        "        draw_circle(radius)\n",
        "\n",
        "# Main program\n",
        "initialize_screen()\n",
        "draw_circles(5)  # Draw 5 random circles\n",
        "\n"
      ],
      "metadata": {
        "colab": {
          "base_uri": "https://localhost:8080/",
          "height": 521
        },
        "id": "FSP4cGGQLjt0",
        "outputId": "65351ae5-c7c5-4314-accd-269b04d69c02"
      },
      "execution_count": null,
      "outputs": [
        {
          "output_type": "display_data",
          "data": {
            "text/plain": [
              "<IPython.core.display.HTML object>"
            ],
            "text/html": [
              "\n",
              "      <svg width=\"800\" height=\"500\">\n",
              "        <rect width=\"100%\" height=\"100%\" fill=\"white\"/>\n",
              "        <line x1=\"400\" y1=\"250\" x2=\"353\" y2=\"116\" stroke-linecap=\"round\" style=\"stroke:white;stroke-width:4\"/><line x1=\"353.0\" y1=\"77.0\" x2=\"348.983\" y2=\"77.0\" stroke-linecap=\"round\" style=\"stroke:#3d1dab;stroke-width:4\"/><line x1=\"348.983\" y1=\"77.0\" x2=\"344.987\" y2=\"77.413\" stroke-linecap=\"round\" style=\"stroke:#3d1dab;stroke-width:4\"/><line x1=\"344.987\" y1=\"77.413\" x2=\"341.055\" y2=\"78.235\" stroke-linecap=\"round\" style=\"stroke:#3d1dab;stroke-width:4\"/><line x1=\"341.055\" y1=\"78.235\" x2=\"337.228\" y2=\"79.457\" stroke-linecap=\"round\" style=\"stroke:#3d1dab;stroke-width:4\"/><line x1=\"337.228\" y1=\"79.457\" x2=\"333.547\" y2=\"81.066\" stroke-linecap=\"round\" style=\"stroke:#3d1dab;stroke-width:4\"/><line x1=\"333.547\" y1=\"81.066\" x2=\"330.051\" y2=\"83.045\" stroke-linecap=\"round\" style=\"stroke:#3d1dab;stroke-width:4\"/><line x1=\"330.051\" y1=\"83.045\" x2=\"326.777\" y2=\"85.373\" stroke-linecap=\"round\" style=\"stroke:#3d1dab;stroke-width:4\"/><line x1=\"326.777\" y1=\"85.373\" x2=\"323.76\" y2=\"88.025\" stroke-linecap=\"round\" style=\"stroke:#3d1dab;stroke-width:4\"/><line x1=\"323.76\" y1=\"88.025\" x2=\"321.031\" y2=\"90.973\" stroke-linecap=\"round\" style=\"stroke:#3d1dab;stroke-width:4\"/><line x1=\"321.031\" y1=\"90.973\" x2=\"318.62\" y2=\"94.186\" stroke-linecap=\"round\" style=\"stroke:#3d1dab;stroke-width:4\"/><line x1=\"318.62\" y1=\"94.186\" x2=\"316.552\" y2=\"97.63\" stroke-linecap=\"round\" style=\"stroke:#3d1dab;stroke-width:4\"/><line x1=\"316.552\" y1=\"97.63\" x2=\"314.849\" y2=\"101.268\" stroke-linecap=\"round\" style=\"stroke:#3d1dab;stroke-width:4\"/><line x1=\"314.849\" y1=\"101.268\" x2=\"313.529\" y2=\"105.062\" stroke-linecap=\"round\" style=\"stroke:#3d1dab;stroke-width:4\"/><line x1=\"313.529\" y1=\"105.062\" x2=\"312.606\" y2=\"108.972\" stroke-linecap=\"round\" style=\"stroke:#3d1dab;stroke-width:4\"/><line x1=\"312.606\" y1=\"108.972\" x2=\"312.09\" y2=\"112.956\" stroke-linecap=\"round\" style=\"stroke:#3d1dab;stroke-width:4\"/><line x1=\"312.09\" y1=\"112.956\" x2=\"311.987\" y2=\"116.972\" stroke-linecap=\"round\" style=\"stroke:#3d1dab;stroke-width:4\"/><line x1=\"311.987\" y1=\"116.972\" x2=\"312.297\" y2=\"120.977\" stroke-linecap=\"round\" style=\"stroke:#3d1dab;stroke-width:4\"/><line x1=\"312.297\" y1=\"120.977\" x2=\"313.017\" y2=\"124.929\" stroke-linecap=\"round\" style=\"stroke:#3d1dab;stroke-width:4\"/><line x1=\"313.017\" y1=\"124.929\" x2=\"314.14\" y2=\"128.786\" stroke-linecap=\"round\" style=\"stroke:#3d1dab;stroke-width:4\"/><line x1=\"314.14\" y1=\"128.786\" x2=\"315.653\" y2=\"132.507\" stroke-linecap=\"round\" style=\"stroke:#3d1dab;stroke-width:4\"/><line x1=\"315.653\" y1=\"132.507\" x2=\"317.541\" y2=\"136.053\" stroke-linecap=\"round\" style=\"stroke:#3d1dab;stroke-width:4\"/><line x1=\"317.541\" y1=\"136.053\" x2=\"319.784\" y2=\"139.386\" stroke-linecap=\"round\" style=\"stroke:#3d1dab;stroke-width:4\"/><line x1=\"319.784\" y1=\"139.386\" x2=\"322.357\" y2=\"142.471\" stroke-linecap=\"round\" style=\"stroke:#3d1dab;stroke-width:4\"/><line x1=\"322.357\" y1=\"142.471\" x2=\"325.234\" y2=\"145.275\" stroke-linecap=\"round\" style=\"stroke:#3d1dab;stroke-width:4\"/><line x1=\"325.234\" y1=\"145.275\" x2=\"328.384\" y2=\"147.768\" stroke-linecap=\"round\" style=\"stroke:#3d1dab;stroke-width:4\"/><line x1=\"328.384\" y1=\"147.768\" x2=\"331.774\" y2=\"149.924\" stroke-linecap=\"round\" style=\"stroke:#3d1dab;stroke-width:4\"/><line x1=\"331.774\" y1=\"149.924\" x2=\"335.367\" y2=\"151.72\" stroke-linecap=\"round\" style=\"stroke:#3d1dab;stroke-width:4\"/><line x1=\"335.367\" y1=\"151.72\" x2=\"339.126\" y2=\"153.137\" stroke-linecap=\"round\" style=\"stroke:#3d1dab;stroke-width:4\"/><line x1=\"339.126\" y1=\"153.137\" x2=\"343.011\" y2=\"154.16\" stroke-linecap=\"round\" style=\"stroke:#3d1dab;stroke-width:4\"/><line x1=\"343.011\" y1=\"154.16\" x2=\"346.98\" y2=\"154.778\" stroke-linecap=\"round\" style=\"stroke:#3d1dab;stroke-width:4\"/><line x1=\"346.98\" y1=\"154.778\" x2=\"350.992\" y2=\"154.985\" stroke-linecap=\"round\" style=\"stroke:#3d1dab;stroke-width:4\"/><line x1=\"350.992\" y1=\"154.985\" x2=\"355.004\" y2=\"154.778\" stroke-linecap=\"round\" style=\"stroke:#3d1dab;stroke-width:4\"/><line x1=\"355.004\" y1=\"154.778\" x2=\"358.973\" y2=\"154.16\" stroke-linecap=\"round\" style=\"stroke:#3d1dab;stroke-width:4\"/><line x1=\"358.973\" y1=\"154.16\" x2=\"362.858\" y2=\"153.137\" stroke-linecap=\"round\" style=\"stroke:#3d1dab;stroke-width:4\"/><line x1=\"362.858\" y1=\"153.137\" x2=\"366.617\" y2=\"151.72\" stroke-linecap=\"round\" style=\"stroke:#3d1dab;stroke-width:4\"/><line x1=\"366.617\" y1=\"151.72\" x2=\"370.21\" y2=\"149.924\" stroke-linecap=\"round\" style=\"stroke:#3d1dab;stroke-width:4\"/><line x1=\"370.21\" y1=\"149.924\" x2=\"373.6\" y2=\"147.768\" stroke-linecap=\"round\" style=\"stroke:#3d1dab;stroke-width:4\"/><line x1=\"373.6\" y1=\"147.768\" x2=\"376.75\" y2=\"145.275\" stroke-linecap=\"round\" style=\"stroke:#3d1dab;stroke-width:4\"/><line x1=\"376.75\" y1=\"145.275\" x2=\"379.627\" y2=\"142.471\" stroke-linecap=\"round\" style=\"stroke:#3d1dab;stroke-width:4\"/><line x1=\"379.627\" y1=\"142.471\" x2=\"382.2\" y2=\"139.386\" stroke-linecap=\"round\" style=\"stroke:#3d1dab;stroke-width:4\"/><line x1=\"382.2\" y1=\"139.386\" x2=\"384.443\" y2=\"136.053\" stroke-linecap=\"round\" style=\"stroke:#3d1dab;stroke-width:4\"/><line x1=\"384.443\" y1=\"136.053\" x2=\"386.331\" y2=\"132.507\" stroke-linecap=\"round\" style=\"stroke:#3d1dab;stroke-width:4\"/><line x1=\"386.331\" y1=\"132.507\" x2=\"387.844\" y2=\"128.786\" stroke-linecap=\"round\" style=\"stroke:#3d1dab;stroke-width:4\"/><line x1=\"387.844\" y1=\"128.786\" x2=\"388.967\" y2=\"124.929\" stroke-linecap=\"round\" style=\"stroke:#3d1dab;stroke-width:4\"/><line x1=\"388.967\" y1=\"124.929\" x2=\"389.687\" y2=\"120.977\" stroke-linecap=\"round\" style=\"stroke:#3d1dab;stroke-width:4\"/><line x1=\"389.687\" y1=\"120.977\" x2=\"389.997\" y2=\"116.972\" stroke-linecap=\"round\" style=\"stroke:#3d1dab;stroke-width:4\"/><line x1=\"389.997\" y1=\"116.972\" x2=\"389.894\" y2=\"112.956\" stroke-linecap=\"round\" style=\"stroke:#3d1dab;stroke-width:4\"/><line x1=\"389.894\" y1=\"112.956\" x2=\"389.378\" y2=\"108.972\" stroke-linecap=\"round\" style=\"stroke:#3d1dab;stroke-width:4\"/><line x1=\"389.378\" y1=\"108.972\" x2=\"388.455\" y2=\"105.062\" stroke-linecap=\"round\" style=\"stroke:#3d1dab;stroke-width:4\"/><line x1=\"388.455\" y1=\"105.062\" x2=\"387.135\" y2=\"101.268\" stroke-linecap=\"round\" style=\"stroke:#3d1dab;stroke-width:4\"/><line x1=\"387.135\" y1=\"101.268\" x2=\"385.432\" y2=\"97.63\" stroke-linecap=\"round\" style=\"stroke:#3d1dab;stroke-width:4\"/><line x1=\"385.432\" y1=\"97.63\" x2=\"383.364\" y2=\"94.186\" stroke-linecap=\"round\" style=\"stroke:#3d1dab;stroke-width:4\"/><line x1=\"383.364\" y1=\"94.186\" x2=\"380.953\" y2=\"90.973\" stroke-linecap=\"round\" style=\"stroke:#3d1dab;stroke-width:4\"/><line x1=\"380.953\" y1=\"90.973\" x2=\"378.224\" y2=\"88.025\" stroke-linecap=\"round\" style=\"stroke:#3d1dab;stroke-width:4\"/><line x1=\"378.224\" y1=\"88.025\" x2=\"375.207\" y2=\"85.373\" stroke-linecap=\"round\" style=\"stroke:#3d1dab;stroke-width:4\"/><line x1=\"375.207\" y1=\"85.373\" x2=\"371.933\" y2=\"83.045\" stroke-linecap=\"round\" style=\"stroke:#3d1dab;stroke-width:4\"/><line x1=\"371.933\" y1=\"83.045\" x2=\"368.437\" y2=\"81.066\" stroke-linecap=\"round\" style=\"stroke:#3d1dab;stroke-width:4\"/><line x1=\"368.437\" y1=\"81.066\" x2=\"364.756\" y2=\"79.457\" stroke-linecap=\"round\" style=\"stroke:#3d1dab;stroke-width:4\"/><line x1=\"364.756\" y1=\"79.457\" x2=\"360.929\" y2=\"78.235\" stroke-linecap=\"round\" style=\"stroke:#3d1dab;stroke-width:4\"/><line x1=\"360.929\" y1=\"78.235\" x2=\"356.997\" y2=\"77.413\" stroke-linecap=\"round\" style=\"stroke:#3d1dab;stroke-width:4\"/><line x1=\"356.997\" y1=\"77.413\" x2=\"353.001\" y2=\"77.0\" stroke-linecap=\"round\" style=\"stroke:#3d1dab;stroke-width:4\"/><line x1=\"487.0\" y1=\"274.0\" x2=\"482.975\" y2=\"274.0\" stroke-linecap=\"round\" style=\"stroke:#44f1b3;stroke-width:4\"/><line x1=\"482.975\" y1=\"274.0\" x2=\"478.955\" y2=\"274.198\" stroke-linecap=\"round\" style=\"stroke:#44f1b3;stroke-width:4\"/><line x1=\"478.955\" y1=\"274.198\" x2=\"474.949\" y2=\"274.593\" stroke-linecap=\"round\" style=\"stroke:#44f1b3;stroke-width:4\"/><line x1=\"474.949\" y1=\"274.593\" x2=\"470.967\" y2=\"275.184\" stroke-linecap=\"round\" style=\"stroke:#44f1b3;stroke-width:4\"/><line x1=\"470.967\" y1=\"275.184\" x2=\"467.019\" y2=\"275.969\" stroke-linecap=\"round\" style=\"stroke:#44f1b3;stroke-width:4\"/><line x1=\"467.019\" y1=\"275.969\" x2=\"463.114\" y2=\"276.947\" stroke-linecap=\"round\" style=\"stroke:#44f1b3;stroke-width:4\"/><line x1=\"463.114\" y1=\"276.947\" x2=\"459.262\" y2=\"278.115\" stroke-linecap=\"round\" style=\"stroke:#44f1b3;stroke-width:4\"/><line x1=\"459.262\" y1=\"278.115\" x2=\"455.472\" y2=\"279.471\" stroke-linecap=\"round\" style=\"stroke:#44f1b3;stroke-width:4\"/><line x1=\"455.472\" y1=\"279.471\" x2=\"451.753\" y2=\"281.011\" stroke-linecap=\"round\" style=\"stroke:#44f1b3;stroke-width:4\"/><line x1=\"451.753\" y1=\"281.011\" x2=\"448.114\" y2=\"282.732\" stroke-linecap=\"round\" style=\"stroke:#44f1b3;stroke-width:4\"/><line x1=\"448.114\" y1=\"282.732\" x2=\"444.564\" y2=\"284.629\" stroke-linecap=\"round\" style=\"stroke:#44f1b3;stroke-width:4\"/><line x1=\"444.564\" y1=\"284.629\" x2=\"441.112\" y2=\"286.698\" stroke-linecap=\"round\" style=\"stroke:#44f1b3;stroke-width:4\"/><line x1=\"441.112\" y1=\"286.698\" x2=\"437.765\" y2=\"288.934\" stroke-linecap=\"round\" style=\"stroke:#44f1b3;stroke-width:4\"/><line x1=\"437.765\" y1=\"288.934\" x2=\"434.532\" y2=\"291.332\" stroke-linecap=\"round\" style=\"stroke:#44f1b3;stroke-width:4\"/><line x1=\"434.532\" y1=\"291.332\" x2=\"431.421\" y2=\"293.886\" stroke-linecap=\"round\" style=\"stroke:#44f1b3;stroke-width:4\"/><line x1=\"431.421\" y1=\"293.886\" x2=\"428.439\" y2=\"296.589\" stroke-linecap=\"round\" style=\"stroke:#44f1b3;stroke-width:4\"/><line x1=\"428.439\" y1=\"296.589\" x2=\"425.593\" y2=\"299.435\" stroke-linecap=\"round\" style=\"stroke:#44f1b3;stroke-width:4\"/><line x1=\"425.593\" y1=\"299.435\" x2=\"422.89\" y2=\"302.417\" stroke-linecap=\"round\" style=\"stroke:#44f1b3;stroke-width:4\"/><line x1=\"422.89\" y1=\"302.417\" x2=\"420.336\" y2=\"305.528\" stroke-linecap=\"round\" style=\"stroke:#44f1b3;stroke-width:4\"/><line x1=\"420.336\" y1=\"305.528\" x2=\"417.938\" y2=\"308.761\" stroke-linecap=\"round\" style=\"stroke:#44f1b3;stroke-width:4\"/><line x1=\"417.938\" y1=\"308.761\" x2=\"415.702\" y2=\"312.108\" stroke-linecap=\"round\" style=\"stroke:#44f1b3;stroke-width:4\"/><line x1=\"415.702\" y1=\"312.108\" x2=\"413.633\" y2=\"315.56\" stroke-linecap=\"round\" style=\"stroke:#44f1b3;stroke-width:4\"/><line x1=\"413.633\" y1=\"315.56\" x2=\"411.736\" y2=\"319.11\" stroke-linecap=\"round\" style=\"stroke:#44f1b3;stroke-width:4\"/><line x1=\"411.736\" y1=\"319.11\" x2=\"410.015\" y2=\"322.749\" stroke-linecap=\"round\" style=\"stroke:#44f1b3;stroke-width:4\"/><line x1=\"410.015\" y1=\"322.749\" x2=\"408.475\" y2=\"326.468\" stroke-linecap=\"round\" style=\"stroke:#44f1b3;stroke-width:4\"/><line x1=\"408.475\" y1=\"326.468\" x2=\"407.119\" y2=\"330.258\" stroke-linecap=\"round\" style=\"stroke:#44f1b3;stroke-width:4\"/><line x1=\"407.119\" y1=\"330.258\" x2=\"405.951\" y2=\"334.11\" stroke-linecap=\"round\" style=\"stroke:#44f1b3;stroke-width:4\"/><line x1=\"405.951\" y1=\"334.11\" x2=\"404.973\" y2=\"338.015\" stroke-linecap=\"round\" style=\"stroke:#44f1b3;stroke-width:4\"/><line x1=\"404.973\" y1=\"338.015\" x2=\"404.188\" y2=\"341.963\" stroke-linecap=\"round\" style=\"stroke:#44f1b3;stroke-width:4\"/><line x1=\"404.188\" y1=\"341.963\" x2=\"403.597\" y2=\"345.945\" stroke-linecap=\"round\" style=\"stroke:#44f1b3;stroke-width:4\"/><line x1=\"403.597\" y1=\"345.945\" x2=\"403.202\" y2=\"349.951\" stroke-linecap=\"round\" style=\"stroke:#44f1b3;stroke-width:4\"/><line x1=\"403.202\" y1=\"349.951\" x2=\"403.004\" y2=\"353.971\" stroke-linecap=\"round\" style=\"stroke:#44f1b3;stroke-width:4\"/><line x1=\"403.004\" y1=\"353.971\" x2=\"403.004\" y2=\"357.996\" stroke-linecap=\"round\" style=\"stroke:#44f1b3;stroke-width:4\"/><line x1=\"403.004\" y1=\"357.996\" x2=\"403.202\" y2=\"362.016\" stroke-linecap=\"round\" style=\"stroke:#44f1b3;stroke-width:4\"/><line x1=\"403.202\" y1=\"362.016\" x2=\"403.597\" y2=\"366.022\" stroke-linecap=\"round\" style=\"stroke:#44f1b3;stroke-width:4\"/><line x1=\"403.597\" y1=\"366.022\" x2=\"404.188\" y2=\"370.004\" stroke-linecap=\"round\" style=\"stroke:#44f1b3;stroke-width:4\"/><line x1=\"404.188\" y1=\"370.004\" x2=\"404.973\" y2=\"373.952\" stroke-linecap=\"round\" style=\"stroke:#44f1b3;stroke-width:4\"/><line x1=\"404.973\" y1=\"373.952\" x2=\"405.951\" y2=\"377.857\" stroke-linecap=\"round\" style=\"stroke:#44f1b3;stroke-width:4\"/><line x1=\"405.951\" y1=\"377.857\" x2=\"407.119\" y2=\"381.709\" stroke-linecap=\"round\" style=\"stroke:#44f1b3;stroke-width:4\"/><line x1=\"407.119\" y1=\"381.709\" x2=\"408.475\" y2=\"385.499\" stroke-linecap=\"round\" style=\"stroke:#44f1b3;stroke-width:4\"/><line x1=\"408.475\" y1=\"385.499\" x2=\"410.015\" y2=\"389.218\" stroke-linecap=\"round\" style=\"stroke:#44f1b3;stroke-width:4\"/><line x1=\"410.015\" y1=\"389.218\" x2=\"411.736\" y2=\"392.857\" stroke-linecap=\"round\" style=\"stroke:#44f1b3;stroke-width:4\"/><line x1=\"411.736\" y1=\"392.857\" x2=\"413.633\" y2=\"396.407\" stroke-linecap=\"round\" style=\"stroke:#44f1b3;stroke-width:4\"/><line x1=\"413.633\" y1=\"396.407\" x2=\"415.702\" y2=\"399.859\" stroke-linecap=\"round\" style=\"stroke:#44f1b3;stroke-width:4\"/><line x1=\"415.702\" y1=\"399.859\" x2=\"417.938\" y2=\"403.206\" stroke-linecap=\"round\" style=\"stroke:#44f1b3;stroke-width:4\"/><line x1=\"417.938\" y1=\"403.206\" x2=\"420.336\" y2=\"406.439\" stroke-linecap=\"round\" style=\"stroke:#44f1b3;stroke-width:4\"/><line x1=\"420.336\" y1=\"406.439\" x2=\"422.89\" y2=\"409.55\" stroke-linecap=\"round\" style=\"stroke:#44f1b3;stroke-width:4\"/><line x1=\"422.89\" y1=\"409.55\" x2=\"425.593\" y2=\"412.532\" stroke-linecap=\"round\" style=\"stroke:#44f1b3;stroke-width:4\"/><line x1=\"425.593\" y1=\"412.532\" x2=\"428.439\" y2=\"415.378\" stroke-linecap=\"round\" style=\"stroke:#44f1b3;stroke-width:4\"/><line x1=\"428.439\" y1=\"415.378\" x2=\"431.421\" y2=\"418.081\" stroke-linecap=\"round\" style=\"stroke:#44f1b3;stroke-width:4\"/><line x1=\"431.421\" y1=\"418.081\" x2=\"434.532\" y2=\"420.635\" stroke-linecap=\"round\" style=\"stroke:#44f1b3;stroke-width:4\"/><line x1=\"434.532\" y1=\"420.635\" x2=\"437.765\" y2=\"423.033\" stroke-linecap=\"round\" style=\"stroke:#44f1b3;stroke-width:4\"/><line x1=\"437.765\" y1=\"423.033\" x2=\"441.112\" y2=\"425.269\" stroke-linecap=\"round\" style=\"stroke:#44f1b3;stroke-width:4\"/><line x1=\"441.112\" y1=\"425.269\" x2=\"444.564\" y2=\"427.338\" stroke-linecap=\"round\" style=\"stroke:#44f1b3;stroke-width:4\"/><line x1=\"444.564\" y1=\"427.338\" x2=\"448.114\" y2=\"429.235\" stroke-linecap=\"round\" style=\"stroke:#44f1b3;stroke-width:4\"/><line x1=\"448.114\" y1=\"429.235\" x2=\"451.753\" y2=\"430.956\" stroke-linecap=\"round\" style=\"stroke:#44f1b3;stroke-width:4\"/><line x1=\"451.753\" y1=\"430.956\" x2=\"455.472\" y2=\"432.496\" stroke-linecap=\"round\" style=\"stroke:#44f1b3;stroke-width:4\"/><line x1=\"455.472\" y1=\"432.496\" x2=\"459.262\" y2=\"433.852\" stroke-linecap=\"round\" style=\"stroke:#44f1b3;stroke-width:4\"/><line x1=\"459.262\" y1=\"433.852\" x2=\"463.114\" y2=\"435.02\" stroke-linecap=\"round\" style=\"stroke:#44f1b3;stroke-width:4\"/><line x1=\"463.114\" y1=\"435.02\" x2=\"467.019\" y2=\"435.998\" stroke-linecap=\"round\" style=\"stroke:#44f1b3;stroke-width:4\"/><line x1=\"467.019\" y1=\"435.998\" x2=\"470.967\" y2=\"436.783\" stroke-linecap=\"round\" style=\"stroke:#44f1b3;stroke-width:4\"/><line x1=\"470.967\" y1=\"436.783\" x2=\"474.949\" y2=\"437.374\" stroke-linecap=\"round\" style=\"stroke:#44f1b3;stroke-width:4\"/><line x1=\"474.949\" y1=\"437.374\" x2=\"478.955\" y2=\"437.769\" stroke-linecap=\"round\" style=\"stroke:#44f1b3;stroke-width:4\"/><line x1=\"478.955\" y1=\"437.769\" x2=\"482.975\" y2=\"437.967\" stroke-linecap=\"round\" style=\"stroke:#44f1b3;stroke-width:4\"/><line x1=\"482.975\" y1=\"437.967\" x2=\"487.0\" y2=\"437.967\" stroke-linecap=\"round\" style=\"stroke:#44f1b3;stroke-width:4\"/><line x1=\"487.0\" y1=\"437.967\" x2=\"491.02\" y2=\"437.769\" stroke-linecap=\"round\" style=\"stroke:#44f1b3;stroke-width:4\"/><line x1=\"491.02\" y1=\"437.769\" x2=\"495.026\" y2=\"437.374\" stroke-linecap=\"round\" style=\"stroke:#44f1b3;stroke-width:4\"/><line x1=\"495.026\" y1=\"437.374\" x2=\"499.008\" y2=\"436.783\" stroke-linecap=\"round\" style=\"stroke:#44f1b3;stroke-width:4\"/><line x1=\"499.008\" y1=\"436.783\" x2=\"502.956\" y2=\"435.998\" stroke-linecap=\"round\" style=\"stroke:#44f1b3;stroke-width:4\"/><line x1=\"502.956\" y1=\"435.998\" x2=\"506.861\" y2=\"435.02\" stroke-linecap=\"round\" style=\"stroke:#44f1b3;stroke-width:4\"/><line x1=\"506.861\" y1=\"435.02\" x2=\"510.713\" y2=\"433.852\" stroke-linecap=\"round\" style=\"stroke:#44f1b3;stroke-width:4\"/><line x1=\"510.713\" y1=\"433.852\" x2=\"514.503\" y2=\"432.496\" stroke-linecap=\"round\" style=\"stroke:#44f1b3;stroke-width:4\"/><line x1=\"514.503\" y1=\"432.496\" x2=\"518.222\" y2=\"430.956\" stroke-linecap=\"round\" style=\"stroke:#44f1b3;stroke-width:4\"/><line x1=\"518.222\" y1=\"430.956\" x2=\"521.861\" y2=\"429.235\" stroke-linecap=\"round\" style=\"stroke:#44f1b3;stroke-width:4\"/><line x1=\"521.861\" y1=\"429.235\" x2=\"525.411\" y2=\"427.338\" stroke-linecap=\"round\" style=\"stroke:#44f1b3;stroke-width:4\"/><line x1=\"525.411\" y1=\"427.338\" x2=\"528.863\" y2=\"425.269\" stroke-linecap=\"round\" style=\"stroke:#44f1b3;stroke-width:4\"/><line x1=\"528.863\" y1=\"425.269\" x2=\"532.21\" y2=\"423.033\" stroke-linecap=\"round\" style=\"stroke:#44f1b3;stroke-width:4\"/><line x1=\"532.21\" y1=\"423.033\" x2=\"535.443\" y2=\"420.635\" stroke-linecap=\"round\" style=\"stroke:#44f1b3;stroke-width:4\"/><line x1=\"535.443\" y1=\"420.635\" x2=\"538.554\" y2=\"418.081\" stroke-linecap=\"round\" style=\"stroke:#44f1b3;stroke-width:4\"/><line x1=\"538.554\" y1=\"418.081\" x2=\"541.536\" y2=\"415.378\" stroke-linecap=\"round\" style=\"stroke:#44f1b3;stroke-width:4\"/><line x1=\"541.536\" y1=\"415.378\" x2=\"544.382\" y2=\"412.532\" stroke-linecap=\"round\" style=\"stroke:#44f1b3;stroke-width:4\"/><line x1=\"544.382\" y1=\"412.532\" x2=\"547.085\" y2=\"409.55\" stroke-linecap=\"round\" style=\"stroke:#44f1b3;stroke-width:4\"/><line x1=\"547.085\" y1=\"409.55\" x2=\"549.639\" y2=\"406.439\" stroke-linecap=\"round\" style=\"stroke:#44f1b3;stroke-width:4\"/><line x1=\"549.639\" y1=\"406.439\" x2=\"552.037\" y2=\"403.206\" stroke-linecap=\"round\" style=\"stroke:#44f1b3;stroke-width:4\"/><line x1=\"552.037\" y1=\"403.206\" x2=\"554.273\" y2=\"399.859\" stroke-linecap=\"round\" style=\"stroke:#44f1b3;stroke-width:4\"/><line x1=\"554.273\" y1=\"399.859\" x2=\"556.342\" y2=\"396.407\" stroke-linecap=\"round\" style=\"stroke:#44f1b3;stroke-width:4\"/><line x1=\"556.342\" y1=\"396.407\" x2=\"558.239\" y2=\"392.857\" stroke-linecap=\"round\" style=\"stroke:#44f1b3;stroke-width:4\"/><line x1=\"558.239\" y1=\"392.857\" x2=\"559.96\" y2=\"389.218\" stroke-linecap=\"round\" style=\"stroke:#44f1b3;stroke-width:4\"/><line x1=\"559.96\" y1=\"389.218\" x2=\"561.5\" y2=\"385.499\" stroke-linecap=\"round\" style=\"stroke:#44f1b3;stroke-width:4\"/><line x1=\"561.5\" y1=\"385.499\" x2=\"562.856\" y2=\"381.709\" stroke-linecap=\"round\" style=\"stroke:#44f1b3;stroke-width:4\"/><line x1=\"562.856\" y1=\"381.709\" x2=\"564.024\" y2=\"377.857\" stroke-linecap=\"round\" style=\"stroke:#44f1b3;stroke-width:4\"/><line x1=\"564.024\" y1=\"377.857\" x2=\"565.002\" y2=\"373.952\" stroke-linecap=\"round\" style=\"stroke:#44f1b3;stroke-width:4\"/><line x1=\"565.002\" y1=\"373.952\" x2=\"565.787\" y2=\"370.004\" stroke-linecap=\"round\" style=\"stroke:#44f1b3;stroke-width:4\"/><line x1=\"565.787\" y1=\"370.004\" x2=\"566.378\" y2=\"366.022\" stroke-linecap=\"round\" style=\"stroke:#44f1b3;stroke-width:4\"/><line x1=\"566.378\" y1=\"366.022\" x2=\"566.773\" y2=\"362.016\" stroke-linecap=\"round\" style=\"stroke:#44f1b3;stroke-width:4\"/><line x1=\"566.773\" y1=\"362.016\" x2=\"566.971\" y2=\"357.996\" stroke-linecap=\"round\" style=\"stroke:#44f1b3;stroke-width:4\"/><line x1=\"566.971\" y1=\"357.996\" x2=\"566.971\" y2=\"353.971\" stroke-linecap=\"round\" style=\"stroke:#44f1b3;stroke-width:4\"/><line x1=\"566.971\" y1=\"353.971\" x2=\"566.773\" y2=\"349.951\" stroke-linecap=\"round\" style=\"stroke:#44f1b3;stroke-width:4\"/><line x1=\"566.773\" y1=\"349.951\" x2=\"566.378\" y2=\"345.945\" stroke-linecap=\"round\" style=\"stroke:#44f1b3;stroke-width:4\"/><line x1=\"566.378\" y1=\"345.945\" x2=\"565.787\" y2=\"341.963\" stroke-linecap=\"round\" style=\"stroke:#44f1b3;stroke-width:4\"/><line x1=\"565.787\" y1=\"341.963\" x2=\"565.002\" y2=\"338.015\" stroke-linecap=\"round\" style=\"stroke:#44f1b3;stroke-width:4\"/><line x1=\"565.002\" y1=\"338.015\" x2=\"564.024\" y2=\"334.11\" stroke-linecap=\"round\" style=\"stroke:#44f1b3;stroke-width:4\"/><line x1=\"564.024\" y1=\"334.11\" x2=\"562.856\" y2=\"330.258\" stroke-linecap=\"round\" style=\"stroke:#44f1b3;stroke-width:4\"/><line x1=\"562.856\" y1=\"330.258\" x2=\"561.5\" y2=\"326.468\" stroke-linecap=\"round\" style=\"stroke:#44f1b3;stroke-width:4\"/><line x1=\"561.5\" y1=\"326.468\" x2=\"559.96\" y2=\"322.749\" stroke-linecap=\"round\" style=\"stroke:#44f1b3;stroke-width:4\"/><line x1=\"559.96\" y1=\"322.749\" x2=\"558.239\" y2=\"319.11\" stroke-linecap=\"round\" style=\"stroke:#44f1b3;stroke-width:4\"/><line x1=\"558.239\" y1=\"319.11\" x2=\"556.342\" y2=\"315.56\" stroke-linecap=\"round\" style=\"stroke:#44f1b3;stroke-width:4\"/><line x1=\"556.342\" y1=\"315.56\" x2=\"554.273\" y2=\"312.108\" stroke-linecap=\"round\" style=\"stroke:#44f1b3;stroke-width:4\"/><line x1=\"554.273\" y1=\"312.108\" x2=\"552.037\" y2=\"308.761\" stroke-linecap=\"round\" style=\"stroke:#44f1b3;stroke-width:4\"/><line x1=\"552.037\" y1=\"308.761\" x2=\"549.639\" y2=\"305.528\" stroke-linecap=\"round\" style=\"stroke:#44f1b3;stroke-width:4\"/><line x1=\"549.639\" y1=\"305.528\" x2=\"547.085\" y2=\"302.417\" stroke-linecap=\"round\" style=\"stroke:#44f1b3;stroke-width:4\"/><line x1=\"547.085\" y1=\"302.417\" x2=\"544.382\" y2=\"299.435\" stroke-linecap=\"round\" style=\"stroke:#44f1b3;stroke-width:4\"/><line x1=\"544.382\" y1=\"299.435\" x2=\"541.536\" y2=\"296.589\" stroke-linecap=\"round\" style=\"stroke:#44f1b3;stroke-width:4\"/><line x1=\"541.536\" y1=\"296.589\" x2=\"538.554\" y2=\"293.886\" stroke-linecap=\"round\" style=\"stroke:#44f1b3;stroke-width:4\"/><line x1=\"538.554\" y1=\"293.886\" x2=\"535.443\" y2=\"291.332\" stroke-linecap=\"round\" style=\"stroke:#44f1b3;stroke-width:4\"/><line x1=\"535.443\" y1=\"291.332\" x2=\"532.21\" y2=\"288.934\" stroke-linecap=\"round\" style=\"stroke:#44f1b3;stroke-width:4\"/><line x1=\"532.21\" y1=\"288.934\" x2=\"528.863\" y2=\"286.698\" stroke-linecap=\"round\" style=\"stroke:#44f1b3;stroke-width:4\"/><line x1=\"528.863\" y1=\"286.698\" x2=\"525.411\" y2=\"284.629\" stroke-linecap=\"round\" style=\"stroke:#44f1b3;stroke-width:4\"/><line x1=\"525.411\" y1=\"284.629\" x2=\"521.861\" y2=\"282.732\" stroke-linecap=\"round\" style=\"stroke:#44f1b3;stroke-width:4\"/><line x1=\"521.861\" y1=\"282.732\" x2=\"518.222\" y2=\"281.011\" stroke-linecap=\"round\" style=\"stroke:#44f1b3;stroke-width:4\"/><line x1=\"518.222\" y1=\"281.011\" x2=\"514.503\" y2=\"279.471\" stroke-linecap=\"round\" style=\"stroke:#44f1b3;stroke-width:4\"/><line x1=\"514.503\" y1=\"279.471\" x2=\"510.713\" y2=\"278.115\" stroke-linecap=\"round\" style=\"stroke:#44f1b3;stroke-width:4\"/><line x1=\"510.713\" y1=\"278.115\" x2=\"506.861\" y2=\"276.947\" stroke-linecap=\"round\" style=\"stroke:#44f1b3;stroke-width:4\"/><line x1=\"506.861\" y1=\"276.947\" x2=\"502.956\" y2=\"275.969\" stroke-linecap=\"round\" style=\"stroke:#44f1b3;stroke-width:4\"/><line x1=\"502.956\" y1=\"275.969\" x2=\"499.008\" y2=\"275.184\" stroke-linecap=\"round\" style=\"stroke:#44f1b3;stroke-width:4\"/><line x1=\"499.008\" y1=\"275.184\" x2=\"495.026\" y2=\"274.593\" stroke-linecap=\"round\" style=\"stroke:#44f1b3;stroke-width:4\"/><line x1=\"495.026\" y1=\"274.593\" x2=\"491.02\" y2=\"274.198\" stroke-linecap=\"round\" style=\"stroke:#44f1b3;stroke-width:4\"/><line x1=\"491.02\" y1=\"274.198\" x2=\"487.0\" y2=\"274.0\" stroke-linecap=\"round\" style=\"stroke:#44f1b3;stroke-width:4\"/><line x1=\"402.0\" y1=\"234.0\" x2=\"397.975\" y2=\"234.0\" stroke-linecap=\"round\" style=\"stroke:#91f4e0;stroke-width:4\"/><line x1=\"397.975\" y1=\"234.0\" x2=\"393.955\" y2=\"234.198\" stroke-linecap=\"round\" style=\"stroke:#91f4e0;stroke-width:4\"/><line x1=\"393.955\" y1=\"234.198\" x2=\"389.949\" y2=\"234.593\" stroke-linecap=\"round\" style=\"stroke:#91f4e0;stroke-width:4\"/><line x1=\"389.949\" y1=\"234.593\" x2=\"385.967\" y2=\"235.184\" stroke-linecap=\"round\" style=\"stroke:#91f4e0;stroke-width:4\"/><line x1=\"385.967\" y1=\"235.184\" x2=\"382.019\" y2=\"235.969\" stroke-linecap=\"round\" style=\"stroke:#91f4e0;stroke-width:4\"/><line x1=\"382.019\" y1=\"235.969\" x2=\"378.114\" y2=\"236.947\" stroke-linecap=\"round\" style=\"stroke:#91f4e0;stroke-width:4\"/><line x1=\"378.114\" y1=\"236.947\" x2=\"374.262\" y2=\"238.115\" stroke-linecap=\"round\" style=\"stroke:#91f4e0;stroke-width:4\"/><line x1=\"374.262\" y1=\"238.115\" x2=\"370.472\" y2=\"239.471\" stroke-linecap=\"round\" style=\"stroke:#91f4e0;stroke-width:4\"/><line x1=\"370.472\" y1=\"239.471\" x2=\"366.753\" y2=\"241.011\" stroke-linecap=\"round\" style=\"stroke:#91f4e0;stroke-width:4\"/><line x1=\"366.753\" y1=\"241.011\" x2=\"363.114\" y2=\"242.732\" stroke-linecap=\"round\" style=\"stroke:#91f4e0;stroke-width:4\"/><line x1=\"363.114\" y1=\"242.732\" x2=\"359.564\" y2=\"244.629\" stroke-linecap=\"round\" style=\"stroke:#91f4e0;stroke-width:4\"/><line x1=\"359.564\" y1=\"244.629\" x2=\"356.112\" y2=\"246.698\" stroke-linecap=\"round\" style=\"stroke:#91f4e0;stroke-width:4\"/><line x1=\"356.112\" y1=\"246.698\" x2=\"352.765\" y2=\"248.934\" stroke-linecap=\"round\" style=\"stroke:#91f4e0;stroke-width:4\"/><line x1=\"352.765\" y1=\"248.934\" x2=\"349.532\" y2=\"251.332\" stroke-linecap=\"round\" style=\"stroke:#91f4e0;stroke-width:4\"/><line x1=\"349.532\" y1=\"251.332\" x2=\"346.421\" y2=\"253.886\" stroke-linecap=\"round\" style=\"stroke:#91f4e0;stroke-width:4\"/><line x1=\"346.421\" y1=\"253.886\" x2=\"343.439\" y2=\"256.589\" stroke-linecap=\"round\" style=\"stroke:#91f4e0;stroke-width:4\"/><line x1=\"343.439\" y1=\"256.589\" x2=\"340.593\" y2=\"259.435\" stroke-linecap=\"round\" style=\"stroke:#91f4e0;stroke-width:4\"/><line x1=\"340.593\" y1=\"259.435\" x2=\"337.89\" y2=\"262.417\" stroke-linecap=\"round\" style=\"stroke:#91f4e0;stroke-width:4\"/><line x1=\"337.89\" y1=\"262.417\" x2=\"335.336\" y2=\"265.528\" stroke-linecap=\"round\" style=\"stroke:#91f4e0;stroke-width:4\"/><line x1=\"335.336\" y1=\"265.528\" x2=\"332.938\" y2=\"268.761\" stroke-linecap=\"round\" style=\"stroke:#91f4e0;stroke-width:4\"/><line x1=\"332.938\" y1=\"268.761\" x2=\"330.702\" y2=\"272.108\" stroke-linecap=\"round\" style=\"stroke:#91f4e0;stroke-width:4\"/><line x1=\"330.702\" y1=\"272.108\" x2=\"328.633\" y2=\"275.56\" stroke-linecap=\"round\" style=\"stroke:#91f4e0;stroke-width:4\"/><line x1=\"328.633\" y1=\"275.56\" x2=\"326.736\" y2=\"279.11\" stroke-linecap=\"round\" style=\"stroke:#91f4e0;stroke-width:4\"/><line x1=\"326.736\" y1=\"279.11\" x2=\"325.015\" y2=\"282.749\" stroke-linecap=\"round\" style=\"stroke:#91f4e0;stroke-width:4\"/><line x1=\"325.015\" y1=\"282.749\" x2=\"323.475\" y2=\"286.468\" stroke-linecap=\"round\" style=\"stroke:#91f4e0;stroke-width:4\"/><line x1=\"323.475\" y1=\"286.468\" x2=\"322.119\" y2=\"290.258\" stroke-linecap=\"round\" style=\"stroke:#91f4e0;stroke-width:4\"/><line x1=\"322.119\" y1=\"290.258\" x2=\"320.951\" y2=\"294.11\" stroke-linecap=\"round\" style=\"stroke:#91f4e0;stroke-width:4\"/><line x1=\"320.951\" y1=\"294.11\" x2=\"319.973\" y2=\"298.015\" stroke-linecap=\"round\" style=\"stroke:#91f4e0;stroke-width:4\"/><line x1=\"319.973\" y1=\"298.015\" x2=\"319.188\" y2=\"301.963\" stroke-linecap=\"round\" style=\"stroke:#91f4e0;stroke-width:4\"/><line x1=\"319.188\" y1=\"301.963\" x2=\"318.597\" y2=\"305.945\" stroke-linecap=\"round\" style=\"stroke:#91f4e0;stroke-width:4\"/><line x1=\"318.597\" y1=\"305.945\" x2=\"318.202\" y2=\"309.951\" stroke-linecap=\"round\" style=\"stroke:#91f4e0;stroke-width:4\"/><line x1=\"318.202\" y1=\"309.951\" x2=\"318.004\" y2=\"313.971\" stroke-linecap=\"round\" style=\"stroke:#91f4e0;stroke-width:4\"/><line x1=\"318.004\" y1=\"313.971\" x2=\"318.004\" y2=\"317.996\" stroke-linecap=\"round\" style=\"stroke:#91f4e0;stroke-width:4\"/><line x1=\"318.004\" y1=\"317.996\" x2=\"318.202\" y2=\"322.016\" stroke-linecap=\"round\" style=\"stroke:#91f4e0;stroke-width:4\"/><line x1=\"318.202\" y1=\"322.016\" x2=\"318.597\" y2=\"326.022\" stroke-linecap=\"round\" style=\"stroke:#91f4e0;stroke-width:4\"/><line x1=\"318.597\" y1=\"326.022\" x2=\"319.188\" y2=\"330.004\" stroke-linecap=\"round\" style=\"stroke:#91f4e0;stroke-width:4\"/><line x1=\"319.188\" y1=\"330.004\" x2=\"319.973\" y2=\"333.952\" stroke-linecap=\"round\" style=\"stroke:#91f4e0;stroke-width:4\"/><line x1=\"319.973\" y1=\"333.952\" x2=\"320.951\" y2=\"337.857\" stroke-linecap=\"round\" style=\"stroke:#91f4e0;stroke-width:4\"/><line x1=\"320.951\" y1=\"337.857\" x2=\"322.119\" y2=\"341.709\" stroke-linecap=\"round\" style=\"stroke:#91f4e0;stroke-width:4\"/><line x1=\"322.119\" y1=\"341.709\" x2=\"323.475\" y2=\"345.499\" stroke-linecap=\"round\" style=\"stroke:#91f4e0;stroke-width:4\"/><line x1=\"323.475\" y1=\"345.499\" x2=\"325.015\" y2=\"349.218\" stroke-linecap=\"round\" style=\"stroke:#91f4e0;stroke-width:4\"/><line x1=\"325.015\" y1=\"349.218\" x2=\"326.736\" y2=\"352.857\" stroke-linecap=\"round\" style=\"stroke:#91f4e0;stroke-width:4\"/><line x1=\"326.736\" y1=\"352.857\" x2=\"328.633\" y2=\"356.407\" stroke-linecap=\"round\" style=\"stroke:#91f4e0;stroke-width:4\"/><line x1=\"328.633\" y1=\"356.407\" x2=\"330.702\" y2=\"359.859\" stroke-linecap=\"round\" style=\"stroke:#91f4e0;stroke-width:4\"/><line x1=\"330.702\" y1=\"359.859\" x2=\"332.938\" y2=\"363.206\" stroke-linecap=\"round\" style=\"stroke:#91f4e0;stroke-width:4\"/><line x1=\"332.938\" y1=\"363.206\" x2=\"335.336\" y2=\"366.439\" stroke-linecap=\"round\" style=\"stroke:#91f4e0;stroke-width:4\"/><line x1=\"335.336\" y1=\"366.439\" x2=\"337.89\" y2=\"369.55\" stroke-linecap=\"round\" style=\"stroke:#91f4e0;stroke-width:4\"/><line x1=\"337.89\" y1=\"369.55\" x2=\"340.593\" y2=\"372.532\" stroke-linecap=\"round\" style=\"stroke:#91f4e0;stroke-width:4\"/><line x1=\"340.593\" y1=\"372.532\" x2=\"343.439\" y2=\"375.378\" stroke-linecap=\"round\" style=\"stroke:#91f4e0;stroke-width:4\"/><line x1=\"343.439\" y1=\"375.378\" x2=\"346.421\" y2=\"378.081\" stroke-linecap=\"round\" style=\"stroke:#91f4e0;stroke-width:4\"/><line x1=\"346.421\" y1=\"378.081\" x2=\"349.532\" y2=\"380.635\" stroke-linecap=\"round\" style=\"stroke:#91f4e0;stroke-width:4\"/><line x1=\"349.532\" y1=\"380.635\" x2=\"352.765\" y2=\"383.033\" stroke-linecap=\"round\" style=\"stroke:#91f4e0;stroke-width:4\"/><line x1=\"352.765\" y1=\"383.033\" x2=\"356.112\" y2=\"385.269\" stroke-linecap=\"round\" style=\"stroke:#91f4e0;stroke-width:4\"/><line x1=\"356.112\" y1=\"385.269\" x2=\"359.564\" y2=\"387.338\" stroke-linecap=\"round\" style=\"stroke:#91f4e0;stroke-width:4\"/><line x1=\"359.564\" y1=\"387.338\" x2=\"363.114\" y2=\"389.235\" stroke-linecap=\"round\" style=\"stroke:#91f4e0;stroke-width:4\"/><line x1=\"363.114\" y1=\"389.235\" x2=\"366.753\" y2=\"390.956\" stroke-linecap=\"round\" style=\"stroke:#91f4e0;stroke-width:4\"/><line x1=\"366.753\" y1=\"390.956\" x2=\"370.472\" y2=\"392.496\" stroke-linecap=\"round\" style=\"stroke:#91f4e0;stroke-width:4\"/><line x1=\"370.472\" y1=\"392.496\" x2=\"374.262\" y2=\"393.852\" stroke-linecap=\"round\" style=\"stroke:#91f4e0;stroke-width:4\"/><line x1=\"374.262\" y1=\"393.852\" x2=\"378.114\" y2=\"395.02\" stroke-linecap=\"round\" style=\"stroke:#91f4e0;stroke-width:4\"/><line x1=\"378.114\" y1=\"395.02\" x2=\"382.019\" y2=\"395.998\" stroke-linecap=\"round\" style=\"stroke:#91f4e0;stroke-width:4\"/><line x1=\"382.019\" y1=\"395.998\" x2=\"385.967\" y2=\"396.783\" stroke-linecap=\"round\" style=\"stroke:#91f4e0;stroke-width:4\"/><line x1=\"385.967\" y1=\"396.783\" x2=\"389.949\" y2=\"397.374\" stroke-linecap=\"round\" style=\"stroke:#91f4e0;stroke-width:4\"/><line x1=\"389.949\" y1=\"397.374\" x2=\"393.955\" y2=\"397.769\" stroke-linecap=\"round\" style=\"stroke:#91f4e0;stroke-width:4\"/><line x1=\"393.955\" y1=\"397.769\" x2=\"397.975\" y2=\"397.967\" stroke-linecap=\"round\" style=\"stroke:#91f4e0;stroke-width:4\"/><line x1=\"397.975\" y1=\"397.967\" x2=\"402.0\" y2=\"397.967\" stroke-linecap=\"round\" style=\"stroke:#91f4e0;stroke-width:4\"/><line x1=\"402.0\" y1=\"397.967\" x2=\"406.02\" y2=\"397.769\" stroke-linecap=\"round\" style=\"stroke:#91f4e0;stroke-width:4\"/><line x1=\"406.02\" y1=\"397.769\" x2=\"410.026\" y2=\"397.374\" stroke-linecap=\"round\" style=\"stroke:#91f4e0;stroke-width:4\"/><line x1=\"410.026\" y1=\"397.374\" x2=\"414.008\" y2=\"396.783\" stroke-linecap=\"round\" style=\"stroke:#91f4e0;stroke-width:4\"/><line x1=\"414.008\" y1=\"396.783\" x2=\"417.956\" y2=\"395.998\" stroke-linecap=\"round\" style=\"stroke:#91f4e0;stroke-width:4\"/><line x1=\"417.956\" y1=\"395.998\" x2=\"421.861\" y2=\"395.02\" stroke-linecap=\"round\" style=\"stroke:#91f4e0;stroke-width:4\"/><line x1=\"421.861\" y1=\"395.02\" x2=\"425.713\" y2=\"393.852\" stroke-linecap=\"round\" style=\"stroke:#91f4e0;stroke-width:4\"/><line x1=\"425.713\" y1=\"393.852\" x2=\"429.503\" y2=\"392.496\" stroke-linecap=\"round\" style=\"stroke:#91f4e0;stroke-width:4\"/><line x1=\"429.503\" y1=\"392.496\" x2=\"433.222\" y2=\"390.956\" stroke-linecap=\"round\" style=\"stroke:#91f4e0;stroke-width:4\"/><line x1=\"433.222\" y1=\"390.956\" x2=\"436.861\" y2=\"389.235\" stroke-linecap=\"round\" style=\"stroke:#91f4e0;stroke-width:4\"/><line x1=\"436.861\" y1=\"389.235\" x2=\"440.411\" y2=\"387.338\" stroke-linecap=\"round\" style=\"stroke:#91f4e0;stroke-width:4\"/><line x1=\"440.411\" y1=\"387.338\" x2=\"443.863\" y2=\"385.269\" stroke-linecap=\"round\" style=\"stroke:#91f4e0;stroke-width:4\"/><line x1=\"443.863\" y1=\"385.269\" x2=\"447.21\" y2=\"383.033\" stroke-linecap=\"round\" style=\"stroke:#91f4e0;stroke-width:4\"/><line x1=\"447.21\" y1=\"383.033\" x2=\"450.443\" y2=\"380.635\" stroke-linecap=\"round\" style=\"stroke:#91f4e0;stroke-width:4\"/><line x1=\"450.443\" y1=\"380.635\" x2=\"453.554\" y2=\"378.081\" stroke-linecap=\"round\" style=\"stroke:#91f4e0;stroke-width:4\"/><line x1=\"453.554\" y1=\"378.081\" x2=\"456.536\" y2=\"375.378\" stroke-linecap=\"round\" style=\"stroke:#91f4e0;stroke-width:4\"/><line x1=\"456.536\" y1=\"375.378\" x2=\"459.382\" y2=\"372.532\" stroke-linecap=\"round\" style=\"stroke:#91f4e0;stroke-width:4\"/><line x1=\"459.382\" y1=\"372.532\" x2=\"462.085\" y2=\"369.55\" stroke-linecap=\"round\" style=\"stroke:#91f4e0;stroke-width:4\"/><line x1=\"462.085\" y1=\"369.55\" x2=\"464.639\" y2=\"366.439\" stroke-linecap=\"round\" style=\"stroke:#91f4e0;stroke-width:4\"/><line x1=\"464.639\" y1=\"366.439\" x2=\"467.037\" y2=\"363.206\" stroke-linecap=\"round\" style=\"stroke:#91f4e0;stroke-width:4\"/><line x1=\"467.037\" y1=\"363.206\" x2=\"469.273\" y2=\"359.859\" stroke-linecap=\"round\" style=\"stroke:#91f4e0;stroke-width:4\"/><line x1=\"469.273\" y1=\"359.859\" x2=\"471.342\" y2=\"356.407\" stroke-linecap=\"round\" style=\"stroke:#91f4e0;stroke-width:4\"/><line x1=\"471.342\" y1=\"356.407\" x2=\"473.239\" y2=\"352.857\" stroke-linecap=\"round\" style=\"stroke:#91f4e0;stroke-width:4\"/><line x1=\"473.239\" y1=\"352.857\" x2=\"474.96\" y2=\"349.218\" stroke-linecap=\"round\" style=\"stroke:#91f4e0;stroke-width:4\"/><line x1=\"474.96\" y1=\"349.218\" x2=\"476.5\" y2=\"345.499\" stroke-linecap=\"round\" style=\"stroke:#91f4e0;stroke-width:4\"/><line x1=\"476.5\" y1=\"345.499\" x2=\"477.856\" y2=\"341.709\" stroke-linecap=\"round\" style=\"stroke:#91f4e0;stroke-width:4\"/><line x1=\"477.856\" y1=\"341.709\" x2=\"479.024\" y2=\"337.857\" stroke-linecap=\"round\" style=\"stroke:#91f4e0;stroke-width:4\"/><line x1=\"479.024\" y1=\"337.857\" x2=\"480.002\" y2=\"333.952\" stroke-linecap=\"round\" style=\"stroke:#91f4e0;stroke-width:4\"/><line x1=\"480.002\" y1=\"333.952\" x2=\"480.787\" y2=\"330.004\" stroke-linecap=\"round\" style=\"stroke:#91f4e0;stroke-width:4\"/><line x1=\"480.787\" y1=\"330.004\" x2=\"481.378\" y2=\"326.022\" stroke-linecap=\"round\" style=\"stroke:#91f4e0;stroke-width:4\"/><line x1=\"481.378\" y1=\"326.022\" x2=\"481.773\" y2=\"322.016\" stroke-linecap=\"round\" style=\"stroke:#91f4e0;stroke-width:4\"/><line x1=\"481.773\" y1=\"322.016\" x2=\"481.971\" y2=\"317.996\" stroke-linecap=\"round\" style=\"stroke:#91f4e0;stroke-width:4\"/><line x1=\"481.971\" y1=\"317.996\" x2=\"481.971\" y2=\"313.971\" stroke-linecap=\"round\" style=\"stroke:#91f4e0;stroke-width:4\"/><line x1=\"481.971\" y1=\"313.971\" x2=\"481.773\" y2=\"309.951\" stroke-linecap=\"round\" style=\"stroke:#91f4e0;stroke-width:4\"/><line x1=\"481.773\" y1=\"309.951\" x2=\"481.378\" y2=\"305.945\" stroke-linecap=\"round\" style=\"stroke:#91f4e0;stroke-width:4\"/><line x1=\"481.378\" y1=\"305.945\" x2=\"480.787\" y2=\"301.963\" stroke-linecap=\"round\" style=\"stroke:#91f4e0;stroke-width:4\"/><line x1=\"480.787\" y1=\"301.963\" x2=\"480.002\" y2=\"298.015\" stroke-linecap=\"round\" style=\"stroke:#91f4e0;stroke-width:4\"/><line x1=\"480.002\" y1=\"298.015\" x2=\"479.024\" y2=\"294.11\" stroke-linecap=\"round\" style=\"stroke:#91f4e0;stroke-width:4\"/><line x1=\"479.024\" y1=\"294.11\" x2=\"477.856\" y2=\"290.258\" stroke-linecap=\"round\" style=\"stroke:#91f4e0;stroke-width:4\"/><line x1=\"477.856\" y1=\"290.258\" x2=\"476.5\" y2=\"286.468\" stroke-linecap=\"round\" style=\"stroke:#91f4e0;stroke-width:4\"/><line x1=\"476.5\" y1=\"286.468\" x2=\"474.96\" y2=\"282.749\" stroke-linecap=\"round\" style=\"stroke:#91f4e0;stroke-width:4\"/><line x1=\"474.96\" y1=\"282.749\" x2=\"473.239\" y2=\"279.11\" stroke-linecap=\"round\" style=\"stroke:#91f4e0;stroke-width:4\"/><line x1=\"473.239\" y1=\"279.11\" x2=\"471.342\" y2=\"275.56\" stroke-linecap=\"round\" style=\"stroke:#91f4e0;stroke-width:4\"/><line x1=\"471.342\" y1=\"275.56\" x2=\"469.273\" y2=\"272.108\" stroke-linecap=\"round\" style=\"stroke:#91f4e0;stroke-width:4\"/><line x1=\"469.273\" y1=\"272.108\" x2=\"467.037\" y2=\"268.761\" stroke-linecap=\"round\" style=\"stroke:#91f4e0;stroke-width:4\"/><line x1=\"467.037\" y1=\"268.761\" x2=\"464.639\" y2=\"265.528\" stroke-linecap=\"round\" style=\"stroke:#91f4e0;stroke-width:4\"/><line x1=\"464.639\" y1=\"265.528\" x2=\"462.085\" y2=\"262.417\" stroke-linecap=\"round\" style=\"stroke:#91f4e0;stroke-width:4\"/><line x1=\"462.085\" y1=\"262.417\" x2=\"459.382\" y2=\"259.435\" stroke-linecap=\"round\" style=\"stroke:#91f4e0;stroke-width:4\"/><line x1=\"459.382\" y1=\"259.435\" x2=\"456.536\" y2=\"256.589\" stroke-linecap=\"round\" style=\"stroke:#91f4e0;stroke-width:4\"/><line x1=\"456.536\" y1=\"256.589\" x2=\"453.554\" y2=\"253.886\" stroke-linecap=\"round\" style=\"stroke:#91f4e0;stroke-width:4\"/><line x1=\"453.554\" y1=\"253.886\" x2=\"450.443\" y2=\"251.332\" stroke-linecap=\"round\" style=\"stroke:#91f4e0;stroke-width:4\"/><line x1=\"450.443\" y1=\"251.332\" x2=\"447.21\" y2=\"248.934\" stroke-linecap=\"round\" style=\"stroke:#91f4e0;stroke-width:4\"/><line x1=\"447.21\" y1=\"248.934\" x2=\"443.863\" y2=\"246.698\" stroke-linecap=\"round\" style=\"stroke:#91f4e0;stroke-width:4\"/><line x1=\"443.863\" y1=\"246.698\" x2=\"440.411\" y2=\"244.629\" stroke-linecap=\"round\" style=\"stroke:#91f4e0;stroke-width:4\"/><line x1=\"440.411\" y1=\"244.629\" x2=\"436.861\" y2=\"242.732\" stroke-linecap=\"round\" style=\"stroke:#91f4e0;stroke-width:4\"/><line x1=\"436.861\" y1=\"242.732\" x2=\"433.222\" y2=\"241.011\" stroke-linecap=\"round\" style=\"stroke:#91f4e0;stroke-width:4\"/><line x1=\"433.222\" y1=\"241.011\" x2=\"429.503\" y2=\"239.471\" stroke-linecap=\"round\" style=\"stroke:#91f4e0;stroke-width:4\"/><line x1=\"429.503\" y1=\"239.471\" x2=\"425.713\" y2=\"238.115\" stroke-linecap=\"round\" style=\"stroke:#91f4e0;stroke-width:4\"/><line x1=\"425.713\" y1=\"238.115\" x2=\"421.861\" y2=\"236.947\" stroke-linecap=\"round\" style=\"stroke:#91f4e0;stroke-width:4\"/><line x1=\"421.861\" y1=\"236.947\" x2=\"417.956\" y2=\"235.969\" stroke-linecap=\"round\" style=\"stroke:#91f4e0;stroke-width:4\"/><line x1=\"417.956\" y1=\"235.969\" x2=\"414.008\" y2=\"235.184\" stroke-linecap=\"round\" style=\"stroke:#91f4e0;stroke-width:4\"/><line x1=\"414.008\" y1=\"235.184\" x2=\"410.026\" y2=\"234.593\" stroke-linecap=\"round\" style=\"stroke:#91f4e0;stroke-width:4\"/><line x1=\"410.026\" y1=\"234.593\" x2=\"406.02\" y2=\"234.198\" stroke-linecap=\"round\" style=\"stroke:#91f4e0;stroke-width:4\"/><line x1=\"406.02\" y1=\"234.198\" x2=\"402.0\" y2=\"234.0\" stroke-linecap=\"round\" style=\"stroke:#91f4e0;stroke-width:4\"/><line x1=\"86.0\" y1=\"-23.0\" x2=\"81.961\" y2=\"-23.0\" stroke-linecap=\"round\" style=\"stroke:#9e4d16;stroke-width:4\"/><line x1=\"81.961\" y1=\"-23.0\" x2=\"77.947\" y2=\"-22.548\" stroke-linecap=\"round\" style=\"stroke:#9e4d16;stroke-width:4\"/><line x1=\"77.947\" y1=\"-22.548\" x2=\"74.009\" y2=\"-21.649\" stroke-linecap=\"round\" style=\"stroke:#9e4d16;stroke-width:4\"/><line x1=\"74.009\" y1=\"-21.649\" x2=\"70.196\" y2=\"-20.315\" stroke-linecap=\"round\" style=\"stroke:#9e4d16;stroke-width:4\"/><line x1=\"70.196\" y1=\"-20.315\" x2=\"66.557\" y2=\"-18.562\" stroke-linecap=\"round\" style=\"stroke:#9e4d16;stroke-width:4\"/><line x1=\"66.557\" y1=\"-18.562\" x2=\"63.137\" y2=\"-16.413\" stroke-linecap=\"round\" style=\"stroke:#9e4d16;stroke-width:4\"/><line x1=\"63.137\" y1=\"-16.413\" x2=\"59.979\" y2=\"-13.895\" stroke-linecap=\"round\" style=\"stroke:#9e4d16;stroke-width:4\"/><line x1=\"59.979\" y1=\"-13.895\" x2=\"57.123\" y2=\"-11.039\" stroke-linecap=\"round\" style=\"stroke:#9e4d16;stroke-width:4\"/><line x1=\"57.123\" y1=\"-11.039\" x2=\"54.605\" y2=\"-7.881\" stroke-linecap=\"round\" style=\"stroke:#9e4d16;stroke-width:4\"/><line x1=\"54.605\" y1=\"-7.881\" x2=\"52.456\" y2=\"-4.461\" stroke-linecap=\"round\" style=\"stroke:#9e4d16;stroke-width:4\"/><line x1=\"52.456\" y1=\"-4.461\" x2=\"50.703\" y2=\"-0.822\" stroke-linecap=\"round\" style=\"stroke:#9e4d16;stroke-width:4\"/><line x1=\"50.703\" y1=\"-0.822\" x2=\"49.369\" y2=\"2.991\" stroke-linecap=\"round\" style=\"stroke:#9e4d16;stroke-width:4\"/><line x1=\"49.369\" y1=\"2.991\" x2=\"48.47\" y2=\"6.929\" stroke-linecap=\"round\" style=\"stroke:#9e4d16;stroke-width:4\"/><line x1=\"48.47\" y1=\"6.929\" x2=\"48.018\" y2=\"10.943\" stroke-linecap=\"round\" style=\"stroke:#9e4d16;stroke-width:4\"/><line x1=\"48.018\" y1=\"10.943\" x2=\"48.018\" y2=\"14.982\" stroke-linecap=\"round\" style=\"stroke:#9e4d16;stroke-width:4\"/><line x1=\"48.018\" y1=\"14.982\" x2=\"48.47\" y2=\"18.996\" stroke-linecap=\"round\" style=\"stroke:#9e4d16;stroke-width:4\"/><line x1=\"48.47\" y1=\"18.996\" x2=\"49.369\" y2=\"22.934\" stroke-linecap=\"round\" style=\"stroke:#9e4d16;stroke-width:4\"/><line x1=\"49.369\" y1=\"22.934\" x2=\"50.703\" y2=\"26.747\" stroke-linecap=\"round\" style=\"stroke:#9e4d16;stroke-width:4\"/><line x1=\"50.703\" y1=\"26.747\" x2=\"52.456\" y2=\"30.386\" stroke-linecap=\"round\" style=\"stroke:#9e4d16;stroke-width:4\"/><line x1=\"52.456\" y1=\"30.386\" x2=\"54.605\" y2=\"33.806\" stroke-linecap=\"round\" style=\"stroke:#9e4d16;stroke-width:4\"/><line x1=\"54.605\" y1=\"33.806\" x2=\"57.123\" y2=\"36.964\" stroke-linecap=\"round\" style=\"stroke:#9e4d16;stroke-width:4\"/><line x1=\"57.123\" y1=\"36.964\" x2=\"59.979\" y2=\"39.82\" stroke-linecap=\"round\" style=\"stroke:#9e4d16;stroke-width:4\"/><line x1=\"59.979\" y1=\"39.82\" x2=\"63.137\" y2=\"42.338\" stroke-linecap=\"round\" style=\"stroke:#9e4d16;stroke-width:4\"/><line x1=\"63.137\" y1=\"42.338\" x2=\"66.557\" y2=\"44.487\" stroke-linecap=\"round\" style=\"stroke:#9e4d16;stroke-width:4\"/><line x1=\"66.557\" y1=\"44.487\" x2=\"70.196\" y2=\"46.24\" stroke-linecap=\"round\" style=\"stroke:#9e4d16;stroke-width:4\"/><line x1=\"70.196\" y1=\"46.24\" x2=\"74.009\" y2=\"47.574\" stroke-linecap=\"round\" style=\"stroke:#9e4d16;stroke-width:4\"/><line x1=\"74.009\" y1=\"47.574\" x2=\"77.947\" y2=\"48.473\" stroke-linecap=\"round\" style=\"stroke:#9e4d16;stroke-width:4\"/><line x1=\"77.947\" y1=\"48.473\" x2=\"81.961\" y2=\"48.925\" stroke-linecap=\"round\" style=\"stroke:#9e4d16;stroke-width:4\"/><line x1=\"81.961\" y1=\"48.925\" x2=\"86.0\" y2=\"48.925\" stroke-linecap=\"round\" style=\"stroke:#9e4d16;stroke-width:4\"/><line x1=\"86.0\" y1=\"48.925\" x2=\"90.014\" y2=\"48.473\" stroke-linecap=\"round\" style=\"stroke:#9e4d16;stroke-width:4\"/><line x1=\"90.014\" y1=\"48.473\" x2=\"93.952\" y2=\"47.574\" stroke-linecap=\"round\" style=\"stroke:#9e4d16;stroke-width:4\"/><line x1=\"93.952\" y1=\"47.574\" x2=\"97.765\" y2=\"46.24\" stroke-linecap=\"round\" style=\"stroke:#9e4d16;stroke-width:4\"/><line x1=\"97.765\" y1=\"46.24\" x2=\"101.404\" y2=\"44.487\" stroke-linecap=\"round\" style=\"stroke:#9e4d16;stroke-width:4\"/><line x1=\"101.404\" y1=\"44.487\" x2=\"104.824\" y2=\"42.338\" stroke-linecap=\"round\" style=\"stroke:#9e4d16;stroke-width:4\"/><line x1=\"104.824\" y1=\"42.338\" x2=\"107.982\" y2=\"39.82\" stroke-linecap=\"round\" style=\"stroke:#9e4d16;stroke-width:4\"/><line x1=\"107.982\" y1=\"39.82\" x2=\"110.838\" y2=\"36.964\" stroke-linecap=\"round\" style=\"stroke:#9e4d16;stroke-width:4\"/><line x1=\"110.838\" y1=\"36.964\" x2=\"113.356\" y2=\"33.806\" stroke-linecap=\"round\" style=\"stroke:#9e4d16;stroke-width:4\"/><line x1=\"113.356\" y1=\"33.806\" x2=\"115.505\" y2=\"30.386\" stroke-linecap=\"round\" style=\"stroke:#9e4d16;stroke-width:4\"/><line x1=\"115.505\" y1=\"30.386\" x2=\"117.258\" y2=\"26.747\" stroke-linecap=\"round\" style=\"stroke:#9e4d16;stroke-width:4\"/><line x1=\"117.258\" y1=\"26.747\" x2=\"118.592\" y2=\"22.934\" stroke-linecap=\"round\" style=\"stroke:#9e4d16;stroke-width:4\"/><line x1=\"118.592\" y1=\"22.934\" x2=\"119.491\" y2=\"18.996\" stroke-linecap=\"round\" style=\"stroke:#9e4d16;stroke-width:4\"/><line x1=\"119.491\" y1=\"18.996\" x2=\"119.943\" y2=\"14.982\" stroke-linecap=\"round\" style=\"stroke:#9e4d16;stroke-width:4\"/><line x1=\"119.943\" y1=\"14.982\" x2=\"119.943\" y2=\"10.943\" stroke-linecap=\"round\" style=\"stroke:#9e4d16;stroke-width:4\"/><line x1=\"119.943\" y1=\"10.943\" x2=\"119.491\" y2=\"6.929\" stroke-linecap=\"round\" style=\"stroke:#9e4d16;stroke-width:4\"/><line x1=\"119.491\" y1=\"6.929\" x2=\"118.592\" y2=\"2.991\" stroke-linecap=\"round\" style=\"stroke:#9e4d16;stroke-width:4\"/><line x1=\"118.592\" y1=\"2.991\" x2=\"117.258\" y2=\"-0.822\" stroke-linecap=\"round\" style=\"stroke:#9e4d16;stroke-width:4\"/><line x1=\"117.258\" y1=\"-0.822\" x2=\"115.505\" y2=\"-4.461\" stroke-linecap=\"round\" style=\"stroke:#9e4d16;stroke-width:4\"/><line x1=\"115.505\" y1=\"-4.461\" x2=\"113.356\" y2=\"-7.881\" stroke-linecap=\"round\" style=\"stroke:#9e4d16;stroke-width:4\"/><line x1=\"113.356\" y1=\"-7.881\" x2=\"110.838\" y2=\"-11.039\" stroke-linecap=\"round\" style=\"stroke:#9e4d16;stroke-width:4\"/><line x1=\"110.838\" y1=\"-11.039\" x2=\"107.982\" y2=\"-13.895\" stroke-linecap=\"round\" style=\"stroke:#9e4d16;stroke-width:4\"/><line x1=\"107.982\" y1=\"-13.895\" x2=\"104.824\" y2=\"-16.413\" stroke-linecap=\"round\" style=\"stroke:#9e4d16;stroke-width:4\"/><line x1=\"104.824\" y1=\"-16.413\" x2=\"101.404\" y2=\"-18.562\" stroke-linecap=\"round\" style=\"stroke:#9e4d16;stroke-width:4\"/><line x1=\"101.404\" y1=\"-18.562\" x2=\"97.765\" y2=\"-20.315\" stroke-linecap=\"round\" style=\"stroke:#9e4d16;stroke-width:4\"/><line x1=\"97.765\" y1=\"-20.315\" x2=\"93.952\" y2=\"-21.649\" stroke-linecap=\"round\" style=\"stroke:#9e4d16;stroke-width:4\"/><line x1=\"93.952\" y1=\"-21.649\" x2=\"90.014\" y2=\"-22.548\" stroke-linecap=\"round\" style=\"stroke:#9e4d16;stroke-width:4\"/><line x1=\"90.014\" y1=\"-22.548\" x2=\"86.0\" y2=\"-23.0\" stroke-linecap=\"round\" style=\"stroke:#9e4d16;stroke-width:4\"/><line x1=\"125.0\" y1=\"261.0\" x2=\"120.992\" y2=\"261.0\" stroke-linecap=\"round\" style=\"stroke:#fde3c5;stroke-width:4\"/><line x1=\"120.992\" y1=\"261.0\" x2=\"116.99\" y2=\"261.217\" stroke-linecap=\"round\" style=\"stroke:#fde3c5;stroke-width:4\"/><line x1=\"116.99\" y1=\"261.217\" x2=\"113.005\" y2=\"261.65\" stroke-linecap=\"round\" style=\"stroke:#fde3c5;stroke-width:4\"/><line x1=\"113.005\" y1=\"261.65\" x2=\"109.05\" y2=\"262.298\" stroke-linecap=\"round\" style=\"stroke:#fde3c5;stroke-width:4\"/><line x1=\"109.05\" y1=\"262.298\" x2=\"105.135\" y2=\"263.16\" stroke-linecap=\"round\" style=\"stroke:#fde3c5;stroke-width:4\"/><line x1=\"105.135\" y1=\"263.16\" x2=\"101.273\" y2=\"264.232\" stroke-linecap=\"round\" style=\"stroke:#fde3c5;stroke-width:4\"/><line x1=\"101.273\" y1=\"264.232\" x2=\"97.475\" y2=\"265.512\" stroke-linecap=\"round\" style=\"stroke:#fde3c5;stroke-width:4\"/><line x1=\"97.475\" y1=\"265.512\" x2=\"93.751\" y2=\"266.996\" stroke-linecap=\"round\" style=\"stroke:#fde3c5;stroke-width:4\"/><line x1=\"93.751\" y1=\"266.996\" x2=\"90.113\" y2=\"268.679\" stroke-linecap=\"round\" style=\"stroke:#fde3c5;stroke-width:4\"/><line x1=\"90.113\" y1=\"268.679\" x2=\"86.572\" y2=\"270.556\" stroke-linecap=\"round\" style=\"stroke:#fde3c5;stroke-width:4\"/><line x1=\"86.572\" y1=\"270.556\" x2=\"83.138\" y2=\"272.622\" stroke-linecap=\"round\" style=\"stroke:#fde3c5;stroke-width:4\"/><line x1=\"83.138\" y1=\"272.622\" x2=\"79.82\" y2=\"274.871\" stroke-linecap=\"round\" style=\"stroke:#fde3c5;stroke-width:4\"/><line x1=\"79.82\" y1=\"274.871\" x2=\"76.629\" y2=\"277.297\" stroke-linecap=\"round\" style=\"stroke:#fde3c5;stroke-width:4\"/><line x1=\"76.629\" y1=\"277.297\" x2=\"73.574\" y2=\"279.892\" stroke-linecap=\"round\" style=\"stroke:#fde3c5;stroke-width:4\"/><line x1=\"73.574\" y1=\"279.892\" x2=\"70.664\" y2=\"282.648\" stroke-linecap=\"round\" style=\"stroke:#fde3c5;stroke-width:4\"/><line x1=\"70.664\" y1=\"282.648\" x2=\"67.908\" y2=\"285.558\" stroke-linecap=\"round\" style=\"stroke:#fde3c5;stroke-width:4\"/><line x1=\"67.908\" y1=\"285.558\" x2=\"65.313\" y2=\"288.613\" stroke-linecap=\"round\" style=\"stroke:#fde3c5;stroke-width:4\"/><line x1=\"65.313\" y1=\"288.613\" x2=\"62.887\" y2=\"291.804\" stroke-linecap=\"round\" style=\"stroke:#fde3c5;stroke-width:4\"/><line x1=\"62.887\" y1=\"291.804\" x2=\"60.638\" y2=\"295.122\" stroke-linecap=\"round\" style=\"stroke:#fde3c5;stroke-width:4\"/><line x1=\"60.638\" y1=\"295.122\" x2=\"58.572\" y2=\"298.556\" stroke-linecap=\"round\" style=\"stroke:#fde3c5;stroke-width:4\"/><line x1=\"58.572\" y1=\"298.556\" x2=\"56.695\" y2=\"302.097\" stroke-linecap=\"round\" style=\"stroke:#fde3c5;stroke-width:4\"/><line x1=\"56.695\" y1=\"302.097\" x2=\"55.012\" y2=\"305.735\" stroke-linecap=\"round\" style=\"stroke:#fde3c5;stroke-width:4\"/><line x1=\"55.012\" y1=\"305.735\" x2=\"53.528\" y2=\"309.459\" stroke-linecap=\"round\" style=\"stroke:#fde3c5;stroke-width:4\"/><line x1=\"53.528\" y1=\"309.459\" x2=\"52.248\" y2=\"313.257\" stroke-linecap=\"round\" style=\"stroke:#fde3c5;stroke-width:4\"/><line x1=\"52.248\" y1=\"313.257\" x2=\"51.176\" y2=\"317.119\" stroke-linecap=\"round\" style=\"stroke:#fde3c5;stroke-width:4\"/><line x1=\"51.176\" y1=\"317.119\" x2=\"50.314\" y2=\"321.034\" stroke-linecap=\"round\" style=\"stroke:#fde3c5;stroke-width:4\"/><line x1=\"50.314\" y1=\"321.034\" x2=\"49.666\" y2=\"324.989\" stroke-linecap=\"round\" style=\"stroke:#fde3c5;stroke-width:4\"/><line x1=\"49.666\" y1=\"324.989\" x2=\"49.233\" y2=\"328.974\" stroke-linecap=\"round\" style=\"stroke:#fde3c5;stroke-width:4\"/><line x1=\"49.233\" y1=\"328.974\" x2=\"49.016\" y2=\"332.976\" stroke-linecap=\"round\" style=\"stroke:#fde3c5;stroke-width:4\"/><line x1=\"49.016\" y1=\"332.976\" x2=\"49.016\" y2=\"336.984\" stroke-linecap=\"round\" style=\"stroke:#fde3c5;stroke-width:4\"/><line x1=\"49.016\" y1=\"336.984\" x2=\"49.233\" y2=\"340.986\" stroke-linecap=\"round\" style=\"stroke:#fde3c5;stroke-width:4\"/><line x1=\"49.233\" y1=\"340.986\" x2=\"49.666\" y2=\"344.971\" stroke-linecap=\"round\" style=\"stroke:#fde3c5;stroke-width:4\"/><line x1=\"49.666\" y1=\"344.971\" x2=\"50.314\" y2=\"348.926\" stroke-linecap=\"round\" style=\"stroke:#fde3c5;stroke-width:4\"/><line x1=\"50.314\" y1=\"348.926\" x2=\"51.176\" y2=\"352.841\" stroke-linecap=\"round\" style=\"stroke:#fde3c5;stroke-width:4\"/><line x1=\"51.176\" y1=\"352.841\" x2=\"52.248\" y2=\"356.703\" stroke-linecap=\"round\" style=\"stroke:#fde3c5;stroke-width:4\"/><line x1=\"52.248\" y1=\"356.703\" x2=\"53.528\" y2=\"360.501\" stroke-linecap=\"round\" style=\"stroke:#fde3c5;stroke-width:4\"/><line x1=\"53.528\" y1=\"360.501\" x2=\"55.012\" y2=\"364.225\" stroke-linecap=\"round\" style=\"stroke:#fde3c5;stroke-width:4\"/><line x1=\"55.012\" y1=\"364.225\" x2=\"56.695\" y2=\"367.863\" stroke-linecap=\"round\" style=\"stroke:#fde3c5;stroke-width:4\"/><line x1=\"56.695\" y1=\"367.863\" x2=\"58.572\" y2=\"371.404\" stroke-linecap=\"round\" style=\"stroke:#fde3c5;stroke-width:4\"/><line x1=\"58.572\" y1=\"371.404\" x2=\"60.638\" y2=\"374.838\" stroke-linecap=\"round\" style=\"stroke:#fde3c5;stroke-width:4\"/><line x1=\"60.638\" y1=\"374.838\" x2=\"62.887\" y2=\"378.156\" stroke-linecap=\"round\" style=\"stroke:#fde3c5;stroke-width:4\"/><line x1=\"62.887\" y1=\"378.156\" x2=\"65.313\" y2=\"381.347\" stroke-linecap=\"round\" style=\"stroke:#fde3c5;stroke-width:4\"/><line x1=\"65.313\" y1=\"381.347\" x2=\"67.908\" y2=\"384.402\" stroke-linecap=\"round\" style=\"stroke:#fde3c5;stroke-width:4\"/><line x1=\"67.908\" y1=\"384.402\" x2=\"70.664\" y2=\"387.312\" stroke-linecap=\"round\" style=\"stroke:#fde3c5;stroke-width:4\"/><line x1=\"70.664\" y1=\"387.312\" x2=\"73.574\" y2=\"390.068\" stroke-linecap=\"round\" style=\"stroke:#fde3c5;stroke-width:4\"/><line x1=\"73.574\" y1=\"390.068\" x2=\"76.629\" y2=\"392.663\" stroke-linecap=\"round\" style=\"stroke:#fde3c5;stroke-width:4\"/><line x1=\"76.629\" y1=\"392.663\" x2=\"79.82\" y2=\"395.089\" stroke-linecap=\"round\" style=\"stroke:#fde3c5;stroke-width:4\"/><line x1=\"79.82\" y1=\"395.089\" x2=\"83.138\" y2=\"397.338\" stroke-linecap=\"round\" style=\"stroke:#fde3c5;stroke-width:4\"/><line x1=\"83.138\" y1=\"397.338\" x2=\"86.572\" y2=\"399.404\" stroke-linecap=\"round\" style=\"stroke:#fde3c5;stroke-width:4\"/><line x1=\"86.572\" y1=\"399.404\" x2=\"90.113\" y2=\"401.281\" stroke-linecap=\"round\" style=\"stroke:#fde3c5;stroke-width:4\"/><line x1=\"90.113\" y1=\"401.281\" x2=\"93.751\" y2=\"402.964\" stroke-linecap=\"round\" style=\"stroke:#fde3c5;stroke-width:4\"/><line x1=\"93.751\" y1=\"402.964\" x2=\"97.475\" y2=\"404.448\" stroke-linecap=\"round\" style=\"stroke:#fde3c5;stroke-width:4\"/><line x1=\"97.475\" y1=\"404.448\" x2=\"101.273\" y2=\"405.728\" stroke-linecap=\"round\" style=\"stroke:#fde3c5;stroke-width:4\"/><line x1=\"101.273\" y1=\"405.728\" x2=\"105.135\" y2=\"406.8\" stroke-linecap=\"round\" style=\"stroke:#fde3c5;stroke-width:4\"/><line x1=\"105.135\" y1=\"406.8\" x2=\"109.05\" y2=\"407.662\" stroke-linecap=\"round\" style=\"stroke:#fde3c5;stroke-width:4\"/><line x1=\"109.05\" y1=\"407.662\" x2=\"113.005\" y2=\"408.31\" stroke-linecap=\"round\" style=\"stroke:#fde3c5;stroke-width:4\"/><line x1=\"113.005\" y1=\"408.31\" x2=\"116.99\" y2=\"408.743\" stroke-linecap=\"round\" style=\"stroke:#fde3c5;stroke-width:4\"/><line x1=\"116.99\" y1=\"408.743\" x2=\"120.992\" y2=\"408.96\" stroke-linecap=\"round\" style=\"stroke:#fde3c5;stroke-width:4\"/><line x1=\"120.992\" y1=\"408.96\" x2=\"125.0\" y2=\"408.96\" stroke-linecap=\"round\" style=\"stroke:#fde3c5;stroke-width:4\"/><line x1=\"125.0\" y1=\"408.96\" x2=\"129.002\" y2=\"408.743\" stroke-linecap=\"round\" style=\"stroke:#fde3c5;stroke-width:4\"/><line x1=\"129.002\" y1=\"408.743\" x2=\"132.987\" y2=\"408.31\" stroke-linecap=\"round\" style=\"stroke:#fde3c5;stroke-width:4\"/><line x1=\"132.987\" y1=\"408.31\" x2=\"136.942\" y2=\"407.662\" stroke-linecap=\"round\" style=\"stroke:#fde3c5;stroke-width:4\"/><line x1=\"136.942\" y1=\"407.662\" x2=\"140.857\" y2=\"406.8\" stroke-linecap=\"round\" style=\"stroke:#fde3c5;stroke-width:4\"/><line x1=\"140.857\" y1=\"406.8\" x2=\"144.719\" y2=\"405.728\" stroke-linecap=\"round\" style=\"stroke:#fde3c5;stroke-width:4\"/><line x1=\"144.719\" y1=\"405.728\" x2=\"148.517\" y2=\"404.448\" stroke-linecap=\"round\" style=\"stroke:#fde3c5;stroke-width:4\"/><line x1=\"148.517\" y1=\"404.448\" x2=\"152.241\" y2=\"402.964\" stroke-linecap=\"round\" style=\"stroke:#fde3c5;stroke-width:4\"/><line x1=\"152.241\" y1=\"402.964\" x2=\"155.879\" y2=\"401.281\" stroke-linecap=\"round\" style=\"stroke:#fde3c5;stroke-width:4\"/><line x1=\"155.879\" y1=\"401.281\" x2=\"159.42\" y2=\"399.404\" stroke-linecap=\"round\" style=\"stroke:#fde3c5;stroke-width:4\"/><line x1=\"159.42\" y1=\"399.404\" x2=\"162.854\" y2=\"397.338\" stroke-linecap=\"round\" style=\"stroke:#fde3c5;stroke-width:4\"/><line x1=\"162.854\" y1=\"397.338\" x2=\"166.172\" y2=\"395.089\" stroke-linecap=\"round\" style=\"stroke:#fde3c5;stroke-width:4\"/><line x1=\"166.172\" y1=\"395.089\" x2=\"169.363\" y2=\"392.663\" stroke-linecap=\"round\" style=\"stroke:#fde3c5;stroke-width:4\"/><line x1=\"169.363\" y1=\"392.663\" x2=\"172.418\" y2=\"390.068\" stroke-linecap=\"round\" style=\"stroke:#fde3c5;stroke-width:4\"/><line x1=\"172.418\" y1=\"390.068\" x2=\"175.328\" y2=\"387.312\" stroke-linecap=\"round\" style=\"stroke:#fde3c5;stroke-width:4\"/><line x1=\"175.328\" y1=\"387.312\" x2=\"178.084\" y2=\"384.402\" stroke-linecap=\"round\" style=\"stroke:#fde3c5;stroke-width:4\"/><line x1=\"178.084\" y1=\"384.402\" x2=\"180.679\" y2=\"381.347\" stroke-linecap=\"round\" style=\"stroke:#fde3c5;stroke-width:4\"/><line x1=\"180.679\" y1=\"381.347\" x2=\"183.105\" y2=\"378.156\" stroke-linecap=\"round\" style=\"stroke:#fde3c5;stroke-width:4\"/><line x1=\"183.105\" y1=\"378.156\" x2=\"185.354\" y2=\"374.838\" stroke-linecap=\"round\" style=\"stroke:#fde3c5;stroke-width:4\"/><line x1=\"185.354\" y1=\"374.838\" x2=\"187.42\" y2=\"371.404\" stroke-linecap=\"round\" style=\"stroke:#fde3c5;stroke-width:4\"/><line x1=\"187.42\" y1=\"371.404\" x2=\"189.297\" y2=\"367.863\" stroke-linecap=\"round\" style=\"stroke:#fde3c5;stroke-width:4\"/><line x1=\"189.297\" y1=\"367.863\" x2=\"190.98\" y2=\"364.225\" stroke-linecap=\"round\" style=\"stroke:#fde3c5;stroke-width:4\"/><line x1=\"190.98\" y1=\"364.225\" x2=\"192.464\" y2=\"360.501\" stroke-linecap=\"round\" style=\"stroke:#fde3c5;stroke-width:4\"/><line x1=\"192.464\" y1=\"360.501\" x2=\"193.744\" y2=\"356.703\" stroke-linecap=\"round\" style=\"stroke:#fde3c5;stroke-width:4\"/><line x1=\"193.744\" y1=\"356.703\" x2=\"194.816\" y2=\"352.841\" stroke-linecap=\"round\" style=\"stroke:#fde3c5;stroke-width:4\"/><line x1=\"194.816\" y1=\"352.841\" x2=\"195.678\" y2=\"348.926\" stroke-linecap=\"round\" style=\"stroke:#fde3c5;stroke-width:4\"/><line x1=\"195.678\" y1=\"348.926\" x2=\"196.326\" y2=\"344.971\" stroke-linecap=\"round\" style=\"stroke:#fde3c5;stroke-width:4\"/><line x1=\"196.326\" y1=\"344.971\" x2=\"196.759\" y2=\"340.986\" stroke-linecap=\"round\" style=\"stroke:#fde3c5;stroke-width:4\"/><line x1=\"196.759\" y1=\"340.986\" x2=\"196.976\" y2=\"336.984\" stroke-linecap=\"round\" style=\"stroke:#fde3c5;stroke-width:4\"/><line x1=\"196.976\" y1=\"336.984\" x2=\"196.976\" y2=\"332.976\" stroke-linecap=\"round\" style=\"stroke:#fde3c5;stroke-width:4\"/><line x1=\"196.976\" y1=\"332.976\" x2=\"196.759\" y2=\"328.974\" stroke-linecap=\"round\" style=\"stroke:#fde3c5;stroke-width:4\"/><line x1=\"196.759\" y1=\"328.974\" x2=\"196.326\" y2=\"324.989\" stroke-linecap=\"round\" style=\"stroke:#fde3c5;stroke-width:4\"/><line x1=\"196.326\" y1=\"324.989\" x2=\"195.678\" y2=\"321.034\" stroke-linecap=\"round\" style=\"stroke:#fde3c5;stroke-width:4\"/><line x1=\"195.678\" y1=\"321.034\" x2=\"194.816\" y2=\"317.119\" stroke-linecap=\"round\" style=\"stroke:#fde3c5;stroke-width:4\"/><line x1=\"194.816\" y1=\"317.119\" x2=\"193.744\" y2=\"313.257\" stroke-linecap=\"round\" style=\"stroke:#fde3c5;stroke-width:4\"/><line x1=\"193.744\" y1=\"313.257\" x2=\"192.464\" y2=\"309.459\" stroke-linecap=\"round\" style=\"stroke:#fde3c5;stroke-width:4\"/><line x1=\"192.464\" y1=\"309.459\" x2=\"190.98\" y2=\"305.735\" stroke-linecap=\"round\" style=\"stroke:#fde3c5;stroke-width:4\"/><line x1=\"190.98\" y1=\"305.735\" x2=\"189.297\" y2=\"302.097\" stroke-linecap=\"round\" style=\"stroke:#fde3c5;stroke-width:4\"/><line x1=\"189.297\" y1=\"302.097\" x2=\"187.42\" y2=\"298.556\" stroke-linecap=\"round\" style=\"stroke:#fde3c5;stroke-width:4\"/><line x1=\"187.42\" y1=\"298.556\" x2=\"185.354\" y2=\"295.122\" stroke-linecap=\"round\" style=\"stroke:#fde3c5;stroke-width:4\"/><line x1=\"185.354\" y1=\"295.122\" x2=\"183.105\" y2=\"291.804\" stroke-linecap=\"round\" style=\"stroke:#fde3c5;stroke-width:4\"/><line x1=\"183.105\" y1=\"291.804\" x2=\"180.679\" y2=\"288.613\" stroke-linecap=\"round\" style=\"stroke:#fde3c5;stroke-width:4\"/><line x1=\"180.679\" y1=\"288.613\" x2=\"178.084\" y2=\"285.558\" stroke-linecap=\"round\" style=\"stroke:#fde3c5;stroke-width:4\"/><line x1=\"178.084\" y1=\"285.558\" x2=\"175.328\" y2=\"282.648\" stroke-linecap=\"round\" style=\"stroke:#fde3c5;stroke-width:4\"/><line x1=\"175.328\" y1=\"282.648\" x2=\"172.418\" y2=\"279.892\" stroke-linecap=\"round\" style=\"stroke:#fde3c5;stroke-width:4\"/><line x1=\"172.418\" y1=\"279.892\" x2=\"169.363\" y2=\"277.297\" stroke-linecap=\"round\" style=\"stroke:#fde3c5;stroke-width:4\"/><line x1=\"169.363\" y1=\"277.297\" x2=\"166.172\" y2=\"274.871\" stroke-linecap=\"round\" style=\"stroke:#fde3c5;stroke-width:4\"/><line x1=\"166.172\" y1=\"274.871\" x2=\"162.854\" y2=\"272.622\" stroke-linecap=\"round\" style=\"stroke:#fde3c5;stroke-width:4\"/><line x1=\"162.854\" y1=\"272.622\" x2=\"159.42\" y2=\"270.556\" stroke-linecap=\"round\" style=\"stroke:#fde3c5;stroke-width:4\"/><line x1=\"159.42\" y1=\"270.556\" x2=\"155.879\" y2=\"268.679\" stroke-linecap=\"round\" style=\"stroke:#fde3c5;stroke-width:4\"/><line x1=\"155.879\" y1=\"268.679\" x2=\"152.241\" y2=\"266.996\" stroke-linecap=\"round\" style=\"stroke:#fde3c5;stroke-width:4\"/><line x1=\"152.241\" y1=\"266.996\" x2=\"148.517\" y2=\"265.512\" stroke-linecap=\"round\" style=\"stroke:#fde3c5;stroke-width:4\"/><line x1=\"148.517\" y1=\"265.512\" x2=\"144.719\" y2=\"264.232\" stroke-linecap=\"round\" style=\"stroke:#fde3c5;stroke-width:4\"/><line x1=\"144.719\" y1=\"264.232\" x2=\"140.857\" y2=\"263.16\" stroke-linecap=\"round\" style=\"stroke:#fde3c5;stroke-width:4\"/><line x1=\"140.857\" y1=\"263.16\" x2=\"136.942\" y2=\"262.298\" stroke-linecap=\"round\" style=\"stroke:#fde3c5;stroke-width:4\"/><line x1=\"136.942\" y1=\"262.298\" x2=\"132.987\" y2=\"261.65\" stroke-linecap=\"round\" style=\"stroke:#fde3c5;stroke-width:4\"/><line x1=\"132.987\" y1=\"261.65\" x2=\"129.002\" y2=\"261.217\" stroke-linecap=\"round\" style=\"stroke:#fde3c5;stroke-width:4\"/><line x1=\"129.002\" y1=\"261.217\" x2=\"125.0\" y2=\"261.0\" stroke-linecap=\"round\" style=\"stroke:#fde3c5;stroke-width:4\"/>\n",
              "        <g visibility=visible transform=\"rotate(359.9999999999991,125.0,335.0) translate(107.0, 317.0)\">\n",
              "<path style=\" stroke:none;fill-rule:evenodd;fill:#fde3c5;fill-opacity:1;\" d=\"M 18.214844 0.632812 C 16.109375 1.800781 15.011719 4.074219 15.074219 7.132812 L 15.085938 7.652344 L 14.785156 7.496094 C 13.476562 6.824219 11.957031 6.671875 10.40625 7.066406 C 8.46875 7.550781 6.515625 9.15625 4.394531 11.992188 C 3.0625 13.777344 2.679688 14.636719 3.042969 15.027344 L 3.15625 15.152344 L 3.519531 15.152344 C 4.238281 15.152344 4.828125 14.886719 8.1875 13.039062 C 9.386719 12.378906 10.371094 11.839844 10.378906 11.839844 C 10.386719 11.839844 10.355469 11.929688 10.304688 12.035156 C 9.832031 13.09375 9.257812 14.820312 8.96875 16.078125 C 7.914062 20.652344 8.617188 24.53125 11.070312 27.660156 C 11.351562 28.015625 11.363281 27.914062 10.972656 28.382812 C 8.925781 30.84375 7.945312 33.28125 8.238281 35.1875 C 8.289062 35.527344 8.28125 35.523438 8.917969 35.523438 C 10.941406 35.523438 13.074219 34.207031 15.136719 31.6875 C 15.359375 31.417969 15.328125 31.425781 15.5625 31.574219 C 16.292969 32.042969 18.023438 32.964844 18.175781 32.964844 C 18.335938 32.964844 19.941406 32.210938 20.828125 31.71875 C 20.996094 31.625 21.136719 31.554688 21.136719 31.558594 C 21.203125 31.664062 21.898438 32.414062 22.222656 32.730469 C 23.835938 34.300781 25.5625 35.132812 27.582031 35.300781 C 27.90625 35.328125 27.9375 35.308594 28.007812 34.984375 C 28.382812 33.242188 27.625 30.925781 25.863281 28.425781 L 25.542969 27.96875 L 25.699219 27.785156 C 28.945312 23.960938 29.132812 18.699219 26.257812 11.96875 L 26.207031 11.84375 L 27.945312 12.703125 C 31.53125 14.476562 32.316406 14.800781 33.03125 14.800781 C 33.976562 14.800781 33.78125 13.9375 32.472656 12.292969 C 28.519531 7.355469 25.394531 5.925781 21.921875 7.472656 L 21.558594 7.636719 L 21.578125 7.542969 C 21.699219 6.992188 21.761719 5.742188 21.699219 5.164062 C 21.496094 3.296875 20.664062 1.964844 19.003906 0.855469 C 18.480469 0.503906 18.457031 0.5 18.214844 0.632812\"/>\n",
              "</g>\n",
              "      </svg>\n",
              "    "
            ]
          },
          "metadata": {}
        }
      ]
    },
    {
      "cell_type": "markdown",
      "source": [
        "## Exercise\n",
        "Modify the program to allow the user to input the number of circles, their minimum and maximum radius, and then draw the circles based on these inputs."
      ],
      "metadata": {
        "id": "mDW-vsP_Mx7O"
      }
    },
    {
      "cell_type": "code",
      "source": [],
      "metadata": {
        "id": "sNXQlUCAM1St"
      },
      "execution_count": null,
      "outputs": []
    }
  ]
}