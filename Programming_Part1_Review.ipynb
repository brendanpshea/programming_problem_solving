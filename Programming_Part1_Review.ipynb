{
  "nbformat": 4,
  "nbformat_minor": 0,
  "metadata": {
    "colab": {
      "provenance": [],
      "authorship_tag": "ABX9TyOGtsm/0TTaEp/rh3dRTmkG",
      "include_colab_link": true
    },
    "kernelspec": {
      "name": "python3",
      "display_name": "Python 3"
    },
    "language_info": {
      "name": "python"
    }
  },
  "cells": [
    {
      "cell_type": "markdown",
      "metadata": {
        "id": "view-in-github",
        "colab_type": "text"
      },
      "source": [
        "<a href=\"https://colab.research.google.com/github/brendanpshea/programming_problem_solving/blob/main/Programming_Part1_Review.ipynb\" target=\"_parent\"><img src=\"https://colab.research.google.com/assets/colab-badge.svg\" alt=\"Open In Colab\"/></a>"
      ]
    },
    {
      "cell_type": "markdown",
      "source": [
        "# Part 1 Review\n",
        "This reviews material covered in chapters 1, 2, and 3. This will be updated with a video by Wednesday.\n",
        "\n"
      ],
      "metadata": {
        "id": "z2DleFtr8_qz"
      }
    },
    {
      "cell_type": "markdown",
      "source": [
        "## Python Data Types\n",
        "\n",
        "| Data Type | Definition |\n",
        "| --- | --- |\n",
        "| int | A Python data type that represents whole numbers without a fractional component, positive or negative. For example, `3`, `-467`. |\n",
        "| float | A Python data type that holds real numbers, including those with fractional parts. Examples include `3.14`, `-0.01`. |\n",
        "| complex | A Python data type that consists of two parts: a real part and an imaginary part. An example is `3 + 4j`. |\n",
        "| bool | A Python data type that can hold only two values: True or False. Examples are `True`, `False`. |\n",
        "| str | A Python data type that is a sequence of characters enclosed in quotes. Examples include `\"hello\"`, `\"1234\"`. |\n",
        "| list | A Python data type that is an ordered collection of items which can be of different types. An example is `[1, \"two\", 3.0]`. |\n",
        "| tuple | A Python data type similar to lists, but immutable. An example is `(1, \"two\", 3.0)`. |\n",
        "| set | A Python data type that is an unordered collection of unique items. An example is `{1, 2, 3}`. |\n",
        "| frozenset | A Python data type that is an immutable version of a set. An example is `frozenset({1, 2, 3})`. |\n",
        "| dict | A Python data type that is a collection of key-value pairs. An example is `{\"key\": \"value\", \"number\": 123}`. |\n"
      ],
      "metadata": {
        "id": "bvjSnNRZ94Xe"
      }
    },
    {
      "cell_type": "code",
      "source": [
        "# You can check data type with type()\n",
        "type(5.21)"
      ],
      "metadata": {
        "colab": {
          "base_uri": "https://localhost:8080/"
        },
        "id": "7aBVhXmA98um",
        "outputId": "020d9e3f-1c7f-4bee-9ae8-50fe43f81910"
      },
      "execution_count": 1,
      "outputs": [
        {
          "output_type": "execute_result",
          "data": {
            "text/plain": [
              "float"
            ]
          },
          "metadata": {},
          "execution_count": 1
        }
      ]
    },
    {
      "cell_type": "markdown",
      "source": [
        "## Basic Math in Python\n",
        "Many basic math functions are built into Python, and many, many more are available in libraries like `math`.\n",
        "\n",
        "\n",
        "| Python Code | Description |\n",
        "| --- | --- |\n",
        "| `a + b` | Adds `a` and `b`. For example, `5 + 3` results in `8`. |\n",
        "| `a - b` | Subtracts `b` from `a`. For example, `10 - 2` results in `8`. |\n",
        "| `a * b` | Multiplies `a` and `b`. For example, `4 * 2` results in `8`. |\n",
        "| `a / b` | Divides `a` by `b`, resulting in a float. For example, `8 / 2` results in `4.0`. |\n",
        "| `a // b` | Performs floor division on `a` and `b`, discarding the fractional part. For example, `9 // 2` results in `4`. |\n",
        "| `a % b` | Calculates the modulus, returning the remainder of `a` divided by `b`. For example, `9 % 2` results in `1`. |\n",
        "| `a ** b` | Raises `a` to the power of `b`. For example, `2 ** 3` results in `8`. |\n",
        "| `abs(a)` | Returns the absolute value of `a`. For example, `abs(-5)` results in `5`. |\n",
        "| `round(a, digits)` | Rounds `a` to `digits` decimal places. If `digits` is omitted, it rounds to the nearest integer. For example, `round(3.14159, 2)` results in `3.14`. |\n",
        "| `pow(a, b)` | Raises `a` to the power of `b`, equivalent to `a ** b`. For example, `pow(2, 3)` results in `8`. |\n",
        "| `max(a, b, c, ...)` | Returns the largest of the input values. For example, `max(1, 2, 3)` results in `3`. |\n",
        "| `min(a, b, c, ...)` | Returns the smallest of the input values. For example, `min(1, 2, 3)` results in `1`. |\n",
        "| `sum([a, b, c, ...])` | Returns the sum of all the elements in the input list. For example, `sum([1, 2, 3, 4])` results in `10`. |"
      ],
      "metadata": {
        "id": "1xG93e2W-U-E"
      }
    },
    {
      "cell_type": "code",
      "source": [
        "# You can compose functions!\n",
        "\n",
        "round(max(4**7,abs(324324),2))"
      ],
      "metadata": {
        "colab": {
          "base_uri": "https://localhost:8080/"
        },
        "id": "0cEcI7XA-iHf",
        "outputId": "8d53a560-9c25-476a-ae07-8543977e9636"
      },
      "execution_count": 2,
      "outputs": [
        {
          "output_type": "execute_result",
          "data": {
            "text/plain": [
              "324324"
            ]
          },
          "metadata": {},
          "execution_count": 2
        }
      ]
    },
    {
      "cell_type": "markdown",
      "source": [
        "## String Operations\n",
        "Strings are immutable collections of characters. Some basic operations include:\n",
        "\n",
        "| Python Code | Description |\n",
        "| --- | --- |\n",
        "| `s = \"Python\"` | Initializes `s` with the string value `\"Python\"`. |\n",
        "| `f\"{s} is cool\"` | Uses an f-string to combine `s` with other text. For example, it results in `\"Python is cool\"`. |\n",
        "| `s + \" Programming\"` | Concatenates `s` with another string. For example, it results in `\"Python Programming\"`. |\n",
        "| `s[0]` | Accesses the first character of `s`. For example, it results in `'P'`. |\n",
        "| `s[-1]` | Accesses the last character of `s`. For example, it results in `'n'`. |\n",
        "| `s[1:4]` | Slices `s` from index 1 to 3, excluding index 4. For example, it results in `\"yth\"`. |\n",
        "| `\"\\\\\" is an escape character` | Demonstrates the use of the backslash as an escape character. For example, it results in `\"\\\" is an escape character\"`. |\n",
        "| `s.lower()` | Converts all characters in `s` to lowercase. For example, it results in `\"python\"`. |\n",
        "| `s.upper()` | Converts all characters in `s` to uppercase. For example, it results in `\"PYTHON\"`. |\n",
        "| `len(s)` | Returns the length of `s`. For example, `6` for `\"Python\"`. |\n",
        "| `s.startswith(\"P\")` | Checks if `s` starts with `\"P\"`. Returns `True`. |\n",
        "| `s.endswith(\"n\")` | Checks if `s` ends with `\"n\"`. Returns `True`. |\n",
        "| `\"n\" in s` | Checks if `\"n\"` is in `s`. Returns `True`. |\n",
        "| `s.replace(\"P\", \"J\")` | Replaces all instances of `\"P\"` with `\"J\"` in `s`. For example, it results in `\"Jython\"`. |\n",
        "| `s.find(\"t\")` | Finds the index of the first occurrence of `\"t\"` in `s`. For example, it results in `2`. |\n",
        "| `s.split(\"y\")` | Splits `s` at every `\"y\"`. For example, it results in `['P', 'thon']`. |"
      ],
      "metadata": {
        "id": "Smb7B8Lc-15N"
      }
    },
    {
      "cell_type": "code",
      "source": [
        "# Feel free to play with this code cell\n",
        "s = \"Python\""
      ],
      "metadata": {
        "id": "RfYY-IIG_EAZ"
      },
      "execution_count": null,
      "outputs": []
    },
    {
      "cell_type": "markdown",
      "source": [
        "## Boolean Values\n",
        "Boolean values are always `True` or `False`. THey are at the heart of structures like if-elif-else blocks and for and while loops.\n",
        "\n",
        "| Python Code | Explanation |\n",
        "| --- | --- |\n",
        "| `10 == 20` | A statement checking if 10 and 20 are equal. It evaluates to false. |\n",
        "| `5 != 7` | A comparison to see if 5 and 7 are not equal. Evaluates to true. |\n",
        "| `3 < 4` | Evaluates whether 3 is less than 4. This statement is true. |\n",
        "| `100 > 50` | Checks if 100 is greater than 50. True. |\n",
        "| `15 >= 15` | Determines if 15 is greater than or equal to 15. True. |\n",
        "| `25 <= 30` | Assesses if 25 is less than or equal to 30. True. |\n",
        "| `2 in [1, 2, 3]` | Checks if 2 is a member of the list [1, 2, 3]. True. |\n",
        "| `4 not in [1, 2, 3]` | Determines if 4 is not in the list [1, 2, 3]. True. |\n",
        "| `True and False` | Logical AND operation between True and False. Evaluates to false. |\n",
        "| `True or False` | Logical OR operation between True and False. True. |\n",
        "| `not True` | Logical NOT operation applied to True. Evaluates to false. |\n",
        "| `(\"apple\" == \"apple\") and (2 > 1)` | Combines two true statements with AND. Evaluates to true. |\n",
        "| `(\"car\" == \"bike\") or (10 < 20)` | Combines a false and a true statement with OR. True. |\n",
        "| `not (10 <= 5)` | Uses NOT to invert the false condition that 10 is less than or equal to 5. True. |"
      ],
      "metadata": {
        "id": "ZqxwuKgp_X5N"
      }
    },
    {
      "cell_type": "code",
      "source": [
        "(\"car\" == \"bike\") or (10 < 20)"
      ],
      "metadata": {
        "colab": {
          "base_uri": "https://localhost:8080/"
        },
        "id": "fuMmWLdP_Lks",
        "outputId": "4b3bb6b2-79c7-46bd-ce20-60563173a902"
      },
      "execution_count": 3,
      "outputs": [
        {
          "output_type": "execute_result",
          "data": {
            "text/plain": [
              "True"
            ]
          },
          "metadata": {},
          "execution_count": 3
        }
      ]
    },
    {
      "cell_type": "markdown",
      "source": [
        "## Lists\n",
        "Lists in Python are versatile, ordered collections of items that can hold mixed data types. They are mutable, allowing for dynamic modifications such as adding, removing, or changing items.\n",
        "\n",
        "| Python Code | Description |\n",
        "| --- | --- |\n",
        "| `l = [1, \"two\", 3.14, True]` | Declares a new list |\n",
        "| `l.append(\"new\")` | Adds an item to the end of the list. For example, `l` becomes `[1, \"two\", 3.14, True, \"new\"]`. |\n",
        "| `l.insert(1, \"inserted\")` | Inserts an item at a specified position. For example, `l` becomes `[1, \"inserted\", \"two\", 3.14, True]` after insertion at index 1. |\n",
        "| `l.pop()` | Removes and returns the last item from the list. If `l` was `[1, \"two\", 3.14, True]`, `True` is removed and returned. |\n",
        "| `l.pop(1)` | Removes and returns the item at the specified position. If `l` was `[1, \"two\", 3.14, True]`, `\"two\"` is removed and returned. |\n",
        "| `l.remove(\"two\")` | Removes the first occurrence of an item. For example, removes `\"two\"` from `l`, resulting in `[1, 3.14, True]`. |\n",
        "| `l.index(\"two\")` | Returns the index of the first occurrence of an item. For `l` as `[1, \"two\", 3.14, True]`, it returns `1`. |\n",
        "| `l.count(\"two\")` | Counts how many times an item appears in the list. For `l`, it returns `1` for `\"two\"`. |\n",
        "| `l.sort()` | Sorts the list in ascending order. Not applicable for `l` due to mixed data types but works for homogeneous lists. |\n",
        "| `l.reverse()` | Reverses the order of the list. For `l`, it becomes `[True, 3.14, \"two\", 1]`. |\n",
        "| `len(l)` | Returns the number of items in the list. For `l`, it returns `4`. |\n",
        "| `\"two\" in l` | Checks if an item is in the list. Returns `True` for `\"two\"` in `l`. |\n",
        "| `l + [\"extra\"]` | Concatenates two lists. For `l`, it results in `[1, \"two\", 3.14, True, \"extra\"]`. |\n",
        "| `l[2]` | Accesses the item at the specified index. For `l`, it returns `3.14`. |\n",
        "| `l[1:3]` | Slices the list from index 1 to 2. For `l`, it returns `[\"two\", 3.14]`. |\n",
        "| `[x.upper() for x in l if isinstance(x, str)]` | Uses a list comprehension to apply an operation to list items of a specific type. For `l`, it returns `[\"TWO\"]`. |"
      ],
      "metadata": {
        "id": "cUPHR5lW_uf9"
      }
    },
    {
      "cell_type": "code",
      "source": [
        "l = [1, \"two\", 3.14, True]\n",
        "l[-1]"
      ],
      "metadata": {
        "colab": {
          "base_uri": "https://localhost:8080/"
        },
        "id": "NXQDFUuHAc-1",
        "outputId": "93783e55-a4ab-4f7b-a96f-ce57cf0d5ff1"
      },
      "execution_count": 6,
      "outputs": [
        {
          "output_type": "execute_result",
          "data": {
            "text/plain": [
              "True"
            ]
          },
          "metadata": {},
          "execution_count": 6
        }
      ]
    },
    {
      "cell_type": "markdown",
      "source": [
        "## Dictionaries\n",
        "Dictionaries in Python are powerful, flexible collections that store key-value pairs. Each key is unique and maps to a value, allowing for efficient data retrieval and manipulation. Dictionaries are mutable, meaning you can add, remove, or change items after the dictionary has been created.\n",
        "\n",
        "| Python Code | Description |\n",
        "| --- | --- |\n",
        "| `d = {\"engine\": \"Steam\", \"cars\": 5, \"name\": \"The Flying Scotsman\"}` | Declares a dictionary `d` with information about a train. |\n",
        "| `d[\"speed\"] = 100` | Adds a new key-value pair, setting the train's speed to 100. |\n",
        "| `d[\"engine\"] = \"Electric\"` | Updates the value associated with the key `\"engine\"` to `\"Electric\"`. |\n",
        "| `d.pop(\"speed\")` | Removes the key `\"speed\"` and its associated value from the dictionary. |\n",
        "| `d.get(\"name\")` | Retrieves the value for the key `\"name\"`, resulting in `\"The Flying Scotsman\"`. |\n",
        "| `d.keys()` | Returns a view of the dictionary's keys, such as `[\"engine\", \"cars\", \"name\"]`. |\n",
        "| `d.values()` | Returns a view of the dictionary's values, like `[\"Electric\", 5, \"The Flying Scotsman\"]`. |\n",
        "| `d.items()` | Returns a view of the dictionary's key-value pairs as tuples. |\n",
        "| `\"cars\" in d` | Checks if `\"cars\"` is a key in the dictionary. Returns True. |\n",
        "| `d.update({\"route\": \"London to Edinburgh\"})` | Updates `d` with an additional key-value pair, specifying the route. |\n",
        "| `len(d)` | Returns the number of key-value pairs in the dictionary, such as `4` after the update. |\n",
        "| `d[\"route\"]` | Accesses the value for the key `\"route\"`, resulting in `\"London to Edinburgh\"`. |"
      ],
      "metadata": {
        "id": "sYlDmtGPBJHD"
      }
    },
    {
      "cell_type": "code",
      "source": [
        "d = {\"engine\": \"Steam\", \"cars\": 5, \"name\": \"The Flying Scotsman\"}\n",
        "d[\"speed\"] = 100\n",
        "d.items()"
      ],
      "metadata": {
        "colab": {
          "base_uri": "https://localhost:8080/"
        },
        "id": "roBW8LGnBmzb",
        "outputId": "551d7597-e528-4d3c-936e-1c2f9e32bc26"
      },
      "execution_count": 7,
      "outputs": [
        {
          "output_type": "execute_result",
          "data": {
            "text/plain": [
              "dict_items([('engine', 'Steam'), ('cars', 5), ('name', 'The Flying Scotsman'), ('speed', 100)])"
            ]
          },
          "metadata": {},
          "execution_count": 7
        }
      ]
    },
    {
      "cell_type": "markdown",
      "source": [
        "## Program Flow with `if`, `elif`, `else`, `for`, and `while`\n",
        "\n",
        "Program flow in Python is controlled through conditional statements and loops, allowing the program to execute different blocks of code based on certain conditions or repeat actions. The primary structures for this are `if`, `elif`, `else` for conditional execution, and `for` and `while` loops for iteration.\n",
        "\n",
        "-   An **`if` statement** executes a block if a specified condition is true.\n",
        "-   **`elif` (else if)** checks another condition if the previous conditions were false.\n",
        "-   **`else`** executes a block if all preceding conditions in the `if`/`elif` chain are false.\n",
        "-   A **`for` loop** iterates over items in a sequence or iterable.\n",
        "-   A **`while` loop** Repeats as long as a condition is true.\n",
        "\n",
        "In order to see how this works, let's use some (vaguely) Castlevania themed examples."
      ],
      "metadata": {
        "id": "IAFjojd-By3l"
      }
    },
    {
      "cell_type": "code",
      "source": [
        "# Exploring a dungeon\n",
        "room_content = \"enemy\"  # Could be \"enemy\", \"power-up\", or \"empty\"\n",
        "\n",
        "if room_content == \"enemy\":\n",
        "    print(\"Prepare for battle!\")\n",
        "elif room_content == \"power-up\":\n",
        "    print(\"You found a power-up!\")\n",
        "else:\n",
        "    print(\"The room is empty. Safe to proceed.\")\n"
      ],
      "metadata": {
        "colab": {
          "base_uri": "https://localhost:8080/"
        },
        "id": "H5O2NIOWCH8H",
        "outputId": "13377b5a-2e3d-488f-a2bf-88e53f5287cb"
      },
      "execution_count": 8,
      "outputs": [
        {
          "output_type": "stream",
          "name": "stdout",
          "text": [
            "Prepare for battle!\n"
          ]
        }
      ]
    },
    {
      "cell_type": "code",
      "source": [
        "# Let's iterate through a list, a check each room\n",
        "rooms = [\"enemy\", \"empty\", \"power-up\", \"enemy\", \"boss\"]\n",
        "\n",
        "for room in rooms:\n",
        "    if room == \"enemy\":\n",
        "        print(\"Fight!\")\n",
        "    elif room == \"power-up\":\n",
        "        print(\"Boost!\")\n",
        "    elif room == \"boss\":\n",
        "        print(\"Boss battle!\")\n",
        "    else:\n",
        "        print(\"No danger here.\")\n"
      ],
      "metadata": {
        "colab": {
          "base_uri": "https://localhost:8080/"
        },
        "id": "MsSh06hcCksm",
        "outputId": "f85f6267-81b0-42a2-f0ca-d181f7a264cd"
      },
      "execution_count": 9,
      "outputs": [
        {
          "output_type": "stream",
          "name": "stdout",
          "text": [
            "Fight!\n",
            "No danger here.\n",
            "Boost!\n",
            "Fight!\n",
            "Boss battle!\n"
          ]
        }
      ]
    },
    {
      "cell_type": "code",
      "source": [
        "enemies = 10  # Integer\n",
        "\n",
        "score = 10 # Starting score\n",
        "while enemies > 0:\n",
        "    print(\"Enemy defeated!\")\n",
        "    enemies -= 1  # Decrement the enemy count\n",
        "    score *= 1.5 # Increase score by 50%\n",
        "\n",
        "print(\"All enemies in the room are defeated!\")\n",
        "print(f\"Final score: {round(score,2)}\")\n"
      ],
      "metadata": {
        "colab": {
          "base_uri": "https://localhost:8080/"
        },
        "id": "ofYVzr9KCzko",
        "outputId": "16e5d019-d2f9-41ed-f606-b2a7140571c2"
      },
      "execution_count": 13,
      "outputs": [
        {
          "output_type": "stream",
          "name": "stdout",
          "text": [
            "Enemy defeated!\n",
            "Enemy defeated!\n",
            "Enemy defeated!\n",
            "Enemy defeated!\n",
            "Enemy defeated!\n",
            "Enemy defeated!\n",
            "Enemy defeated!\n",
            "Enemy defeated!\n",
            "Enemy defeated!\n",
            "Enemy defeated!\n",
            "All enemies in the room are defeated!\n",
            "Final score: 576.65\n"
          ]
        }
      ]
    },
    {
      "cell_type": "markdown",
      "source": [
        "## Exercise: Putting it All Together (To Fight Dracula)\n",
        "\n",
        "Let's take a look at a slightly more involved example."
      ],
      "metadata": {
        "id": "HeR22x_LEHa7"
      }
    },
    {
      "cell_type": "code",
      "source": [
        "castle_rooms = [\n",
        "    {\n",
        "        \"name\": \"The Lair of the Lost Boys\",\n",
        "        \"enemy\": {\"name\": \"Lesser Vampire\", \"hp\": 50, \"strength\": 0.5},\n",
        "        \"items\": []\n",
        "    },\n",
        "    {\n",
        "        \"name\": \"The Crypt of Count Yorga\",\n",
        "        \"enemy\": {\"name\": \"Trap Master\", \"hp\": 100, \"strength\": 0.0},\n",
        "        \"items\": [\"invisibility cloak\"]\n",
        "    },\n",
        "    {\n",
        "        \"name\": \"The Tomb of Nosferatu\",\n",
        "        \"enemy\": {\"name\": \"Night Stalker\", \"hp\": 150, \"strength\": 1.5},\n",
        "        \"items\": [\"healing potion\"]\n",
        "    },\n",
        "    {\n",
        "        \"name\": \"The Chamber of Shadows\",\n",
        "        \"enemy\": {\"name\": \"Shadow Phantom\", \"hp\": 1, \"strength\": 0.1},\n",
        "        \"items\": [\"mana potion\"]\n",
        "    },\n",
        "    {\n",
        "        \"name\": \"Dracula's Final Stand\",\n",
        "        \"enemy\": {\"name\": \"Dracula\", \"hp\": 500, \"strength\": 5.0},\n",
        "        \"items\": [\"power sword\", \"ultimate shield\"]\n",
        "    }\n",
        "]\n",
        "\n",
        "# Main program\n",
        "for room in castle_rooms:\n",
        "    enemy = room[\"enemy\"]\n",
        "    items = room[\"items\"]\n",
        "    print(f\"\\nEntering {room['name']}...\")\n",
        "\n",
        "    if enemy[\"strength\"] <= 0.5:\n",
        "        print(f\"A weak enemy detected: {enemy['name']}. No special strategy needed.\")\n",
        "    elif enemy[\"strength\"] > 0.5 and enemy[\"strength\"] <= 1.5:\n",
        "        print(f\"Prepare for a challenging battle against {enemy['name']}!\")\n",
        "        if \"healing potion\" in items:\n",
        "            print(\"A healing potion is available. Use it wisely!\")\n",
        "    elif enemy[\"name\"] == \"Dracula\":\n",
        "        print(f\"The ultimate challenge: {enemy['name']} awaits! Gear up for the epic showdown.\")\n",
        "        if \"power sword\" in items:\n",
        "            print(\"A power sword is at your disposal. This is your chance to shine!\")\n",
        "\n",
        "    if items:\n",
        "        print(\"Items found in this room:\", \", \".join(items))\n",
        "    else:\n",
        "        print(\"No items found in this room. Proceed with caution.\")\n"
      ],
      "metadata": {
        "colab": {
          "base_uri": "https://localhost:8080/"
        },
        "id": "-zygBTS_EOxt",
        "outputId": "18342b4e-5d81-425e-94e5-d7b2489845f9"
      },
      "execution_count": 3,
      "outputs": [
        {
          "output_type": "stream",
          "name": "stdout",
          "text": [
            "\n",
            "Entering The Lair of the Lost Boys...\n",
            "A weak enemy detected: Lesser Vampire. No special strategy needed.\n",
            "No items found in this room. Proceed with caution.\n",
            "\n",
            "Entering The Crypt of Count Yorga...\n",
            "A weak enemy detected: Trap Master. No special strategy needed.\n",
            "Items found in this room: invisibility cloak\n",
            "\n",
            "Entering The Tomb of Nosferatu...\n",
            "Prepare for a challenging battle against Night Stalker!\n",
            "A healing potion is available. Use it wisely!\n",
            "Items found in this room: healing potion\n",
            "\n",
            "Entering The Chamber of Shadows...\n",
            "A weak enemy detected: Shadow Phantom. No special strategy needed.\n",
            "Items found in this room: mana potion\n",
            "\n",
            "Entering Dracula's Final Stand...\n",
            "The ultimate challenge: Dracula awaits! Gear up for the epic showdown.\n",
            "A power sword is at your disposal. This is your chance to shine!\n",
            "Items found in this room: power sword, ultimate shield\n"
          ]
        }
      ]
    },
    {
      "cell_type": "markdown",
      "source": [
        "## Questions\n",
        "Identify the value and data type of each of the following WITHOUT coding. Then check your answers using Python code.\n",
        "1. `castle_rooms`\n",
        "2. `castle_rooms[1]`\n",
        "3. `castle_rooms[-1][\"name\"]`\n",
        "4. `castle_rooms[2][\"name][1:5]`\n",
        "5. `5 > .05 and 5 <= 1.5`\n",
        "6. `5 > .05 or 5 <= 1.5`\n",
        "7. `not(5 > .05 and 5 <= 1.5) and False`\n",
        "8. `castle_rooms[3][\"items\"]`\n",
        "9. `castle_rooms[3][\"items\"][1:2]`\n",
        "10. `castle_rooms[2][\"enemy\"]`\n",
        "11. `castle_rooms[1][\"enemy\"].values()`\n",
        "12. `castle_rooms[-1][\"enemy\"].keys()`\n",
        "13. `castle_rooms[0][\"enemy\"][\"hp\"]`\n",
        "14. `castle_rooms + [\"Simon\"]`\n",
        "15. `castle_rooms[0][\"enemy\"][\"stregth\"] ** 2`\n",
        "\n",
        "Now, write code to do the following:\n",
        "\n",
        "16. Add a new room to the castle.\n",
        "\n",
        "17. Add a new key \"appearance\" to each room. GIve it appropriate values.\n",
        "18. Find the minimum enemy hp, maximum hp, and sum of enemy hps.\n",
        "19. Print a nicely formatted list of all items found in all rooms of the castle.\n",
        "20. (Challenge) Write code that allows the user to CHOOSE which room of the castle to explore."
      ],
      "metadata": {
        "id": "vz1rcvRhFJut"
      }
    },
    {
      "cell_type": "code",
      "source": [
        "castle_rooms + [\"Simon\"]"
      ],
      "metadata": {
        "colab": {
          "base_uri": "https://localhost:8080/"
        },
        "id": "afDOaHMRFKPR",
        "outputId": "0324b178-df48-48c7-ac5a-dc286137472a"
      },
      "execution_count": 9,
      "outputs": [
        {
          "output_type": "execute_result",
          "data": {
            "text/plain": [
              "[{'name': 'The Lair of the Lost Boys',\n",
              "  'enemy': {'name': 'Lesser Vampire', 'hp': 50, 'strength': 0.5},\n",
              "  'items': []},\n",
              " {'name': 'The Crypt of Count Yorga',\n",
              "  'enemy': {'name': 'Trap Master', 'hp': 100, 'strength': 0.0},\n",
              "  'items': ['invisibility cloak']},\n",
              " {'name': 'The Tomb of Nosferatu',\n",
              "  'enemy': {'name': 'Night Stalker', 'hp': 150, 'strength': 1.5},\n",
              "  'items': ['healing potion']},\n",
              " {'name': 'The Chamber of Shadows',\n",
              "  'enemy': {'name': 'Shadow Phantom', 'hp': 1, 'strength': 0.1},\n",
              "  'items': ['mana potion']},\n",
              " {'name': \"Dracula's Final Stand\",\n",
              "  'enemy': {'name': 'Dracula', 'hp': 500, 'strength': 5.0},\n",
              "  'items': ['power sword', 'ultimate shield']},\n",
              " 'Simon']"
            ]
          },
          "metadata": {},
          "execution_count": 9
        }
      ]
    },
    {
      "cell_type": "code",
      "source": [
        "# Some code cells to work with."
      ],
      "metadata": {
        "id": "mgQEo07wyE0G"
      },
      "execution_count": null,
      "outputs": []
    },
    {
      "cell_type": "code",
      "source": [
        "# Some code cells to work with."
      ],
      "metadata": {
        "id": "ZQAxNaCDyLTh"
      },
      "execution_count": null,
      "outputs": []
    },
    {
      "cell_type": "code",
      "source": [
        "# Some code cells to work with."
      ],
      "metadata": {
        "id": "uNgR4QNkyLdd"
      },
      "execution_count": null,
      "outputs": []
    },
    {
      "cell_type": "code",
      "source": [
        "# Some code cells to work with."
      ],
      "metadata": {
        "id": "O3p0Ze9jyL2W"
      },
      "execution_count": null,
      "outputs": []
    },
    {
      "cell_type": "markdown",
      "source": [
        "## Functions\n",
        "Functions are reusable blocks of code that perform a specific task. Functions can take inputs, known as parameters, and can return an output. Functions help in organizing code, making it more readable, and reducing repetition. There are two main types of functions based on their operation: iterative and recursive.\n",
        "\n",
        "-   Iterative functions use loops to repeat a sequence of operations until a condition is met.\n",
        "-   Recursive functions call themselves within their own definition to solve a problem by breaking it down into smaller, more manageable problems.\n",
        "\n",
        "Let's use examples from the Metroid series to illustrate both iterative and recursive functions.\n",
        "\n",
        "###  Iterative Function Example: Counting Power-Ups\n",
        "Imagine Samus (the main character of Metroid is exploring a planet and collecting different types of power-ups. We can write an iterative function to count the total number of a specific power-up type she has collected."
      ],
      "metadata": {
        "id": "EqFS_uDbyVen"
      }
    },
    {
      "cell_type": "code",
      "source": [
        "def count_power_ups(power_up_list, power_up_type=\"energy tank\"):\n",
        "    \"\"\"Count the number of specific power-ups in the list.\"\"\"\n",
        "    count = 0\n",
        "    for power_up in power_up_list:\n",
        "        if power_up.lower() == power_up_type.lower():\n",
        "            count += 1\n",
        "    return count\n",
        "\n",
        "power_ups_collected = [\"missile\", \"energy tank\", \"missile\", \"morph ball\"]\n",
        "\n",
        "missile_count = count_power_ups(power_ups_collected, \"missile\")\n",
        "print(f\"Samus has collected {missile_count} missile power-ups.\")\n"
      ],
      "metadata": {
        "colab": {
          "base_uri": "https://localhost:8080/"
        },
        "id": "xEolUJWlyzsl",
        "outputId": "0f69bad1-6c75-40b8-98c1-b35ba15992e2"
      },
      "execution_count": 10,
      "outputs": [
        {
          "output_type": "stream",
          "name": "stdout",
          "text": [
            "Samus has collected 2 missile power-ups.\n"
          ]
        }
      ]
    },
    {
      "cell_type": "markdown",
      "source": [
        "### Exercises\n",
        "Write code to do the following, based on the above function.\n",
        "1. Add some new values to the power up list (using list methods), including at least 2 morph balls. Then run count_power_ups to counts the morph balls. This should NOT require altering the function.\n",
        "2. Write a new function allowing a user to enter a list of power-ups. When the user is done, run count_power_ups to print the results. Again, this shouldn't require alterning the initial function.\n",
        "3. Write a new function that takes `power_up_list` as a parameter. It should return a dictionary with counts of all powerup. For example:\n",
        "`{\"missile\":2, \"energy tank\":1, \"morph ball\":1}`"
      ],
      "metadata": {
        "id": "ITci4kqPz5Zr"
      }
    },
    {
      "cell_type": "code",
      "source": [],
      "metadata": {
        "id": "iohKs2Fn1WXq"
      },
      "execution_count": null,
      "outputs": []
    },
    {
      "cell_type": "code",
      "source": [],
      "metadata": {
        "id": "FN-aDNPv1WiJ"
      },
      "execution_count": null,
      "outputs": []
    },
    {
      "cell_type": "code",
      "source": [],
      "metadata": {
        "id": "Fekkpa7U1WwJ"
      },
      "execution_count": null,
      "outputs": []
    },
    {
      "cell_type": "markdown",
      "source": [
        "### Recursive Function Example: Calculating Damage Over Time\n",
        "\n",
        "Suppose Samus uses a special weapon that deals damage over time (DoT), with the damage decreasing in each subsequent time period until it wears off. We can use a recursive function to calculate the total damage dealt over all time periods."
      ],
      "metadata": {
        "id": "xCAZw2xFzKeh"
      }
    },
    {
      "cell_type": "code",
      "source": [
        "def calculate_total_damage(initial_damage, periods):\n",
        "    \"\"\"Calculate total damage over time, with damage halving each period.\"\"\"\n",
        "    if periods == 0: # base case\n",
        "        return 0\n",
        "    else:  # Recursive case\n",
        "        print(f\"Damage this period: {initial_damage}\")\n",
        "        return initial_damage + calculate_total_damage(initial_damage / 2, periods - 1)\n",
        "\n",
        "total_damage = calculate_total_damage(100, 4)  # Example: 100 damage, over 4 periods\n",
        "print(f\"The total damage dealt is {total_damage}.\")\n"
      ],
      "metadata": {
        "colab": {
          "base_uri": "https://localhost:8080/"
        },
        "id": "xNK4jB73zMxD",
        "outputId": "f681fa84-4f8f-45c7-fd9b-64be58d07d50"
      },
      "execution_count": 12,
      "outputs": [
        {
          "output_type": "stream",
          "name": "stdout",
          "text": [
            "Damage this period: 100\n",
            "Damage this period: 50.0\n",
            "Damage this period: 25.0\n",
            "Damage this period: 12.5\n",
            "The total damage dealt is 187.5.\n"
          ]
        }
      ]
    },
    {
      "cell_type": "markdown",
      "source": [
        "### Exercises\n",
        "1. Modify the function to ensure that initial_damage and periods are positive integers before proceeding with the calculation. If not, print an error message and return None.\n",
        "\n",
        "2. Alter the function to take an additional parameter that specifies the fraction by which the damage reduces each period, instead of halving.\n",
        "\n",
        "3. Create a function that calculates and prints the remaining damage after each period, not just the damage dealt in the current period.\n",
        "\n",
        "4. Rewrite the function iteratively using a loop instead of recursion to perform the same calculation."
      ],
      "metadata": {
        "id": "qHQbH5yn2P0d"
      }
    },
    {
      "cell_type": "code",
      "source": [],
      "metadata": {
        "id": "epWIp4v3zCOH"
      },
      "execution_count": null,
      "outputs": []
    },
    {
      "cell_type": "code",
      "source": [],
      "metadata": {
        "id": "bYCjBezO2hGw"
      },
      "execution_count": null,
      "outputs": []
    },
    {
      "cell_type": "code",
      "source": [],
      "metadata": {
        "id": "QChaJ9vj2hOW"
      },
      "execution_count": null,
      "outputs": []
    },
    {
      "cell_type": "code",
      "source": [],
      "metadata": {
        "id": "8zJ_ki6-zCUJ"
      },
      "execution_count": null,
      "outputs": []
    }
  ]
}