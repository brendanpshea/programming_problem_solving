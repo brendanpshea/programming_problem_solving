{
  "nbformat": 4,
  "nbformat_minor": 0,
  "metadata": {
    "colab": {
      "provenance": [],
      "authorship_tag": "ABX9TyNyWNYWUcpgVstqh7lIGpn2",
      "include_colab_link": true
    },
    "kernelspec": {
      "name": "python3",
      "display_name": "Python 3"
    },
    "language_info": {
      "name": "python"
    }
  },
  "cells": [
    {
      "cell_type": "markdown",
      "metadata": {
        "id": "view-in-github",
        "colab_type": "text"
      },
      "source": [
        "<a href=\"https://colab.research.google.com/github/brendanpshea/programming_problem_solving/blob/main/Programming_12_JavaWar.ipynb\" target=\"_parent\"><img src=\"https://colab.research.google.com/assets/colab-badge.svg\" alt=\"Open In Colab\"/></a>"
      ]
    },
    {
      "cell_type": "markdown",
      "source": [
        "# A Java \"War\"\n",
        "Welcome to our Java programming adventure! In this series of exercises, we'll be building a War card game step by step, exploring the fundamental concepts of object-oriented programming (OOP) along the way. By the end of this journey, you'll have a solid understanding of Java classes, methods, and OOP principles, and you'll have created a fully functional game.\n",
        "\n",
        "The War card game is a classic two-player game where players compete to win all the cards. In our version, we'll have two players, Ada and Alan, battling it out with their deck of cards. The game rules are simple:\n",
        "\n",
        "1.  The deck is divided evenly between Ada and Alan.\n",
        "2.  In each round, both players reveal the top card of their deck simultaneously.\n",
        "3.  The player with the higher-value card wins the round and takes both cards.\n",
        "4.  If the cards have the same value, it's a \"war.\" Each player places seven face-down cards from their stack, and then they reveal the eighth card. The player with the higher-value eighth card wins all the cards played in the war. If the eighth cards are also the same value, the war continues until one player wins the turn.\n",
        "5.  The game ends when one player has collected all the cards.\n",
        "\n",
        "To build our War game, we'll create several classes that represent different components of the game. We'll start with a simple version of each class and then progressively enhance them to demonstrate various OOP concepts.\n",
        "\n",
        "Here's an overview of the classes we'll be building:\n",
        "\n",
        "1.  `CardSimple`: Represents a basic playing card with a rank.\n",
        "2.  `Card`: An enhanced version of CardSimple with additional properties and methods.\n",
        "3.  `DeckSimple`: Manages a collection of Card objects.\n",
        "4.  `Deck`: An enhanced version of DeckSimple with more functionality.\n",
        "5.  `WarSimple`: Implements the basic gameplay logic for a single battle\n",
        "6.  `WarGame`: The complete War game implementation using the enhanced Card and Deck classes.\n",
        "\n",
        "Throughout the exercises, we'll explore essential OOP principles such as encapsulation, inheritance, and polymorphism. We'll discuss how to define classes, create objects, and implement methods to achieve the desired functionality.\n",
        "\n",
        "By breaking down the game into smaller components and building them incrementally, we'll gain a deep understanding of how OOP concepts are applied in practice. You'll learn how to design and structure your code using classes, how to interact with objects, and how to create reusable and maintainable code.\n"
      ],
      "metadata": {
        "id": "_uNxmDOQV6fH"
      }
    },
    {
      "cell_type": "markdown",
      "source": [
        "## Our First Class - `CardSimple`\n",
        "In object-oriented programming (OOP), **classes** serve as blueprints for creating **objects**. They define the properties (**attributes**) and behaviors (**methods**) that objects of that class will possess. Let's dive into the CardSimple class and explore the fundamental concepts it demonstrates.\n",
        "\n",
        "The CardSimple class represents a basic playing card with two properties: rank and suit. The rank represents the value of the card (e.g., Ace, 2, 3, ..., King), while the suit represents the category of the card (e.g., Hearts, Diamonds, Clubs, Spades). In this simple implementation, we use integers to represent both rank and suit.\n",
        "\n",
        "1. The class begins with the declaration `public class CardSimple`, which tells Java that we are defining a new class named CardSimple. The `public` keyword indicates that this class can be accessed from anywhere in the program.\n",
        "\n",
        "2. Inside the class, we have two instance variables: `rank` and `suit`, both of type `int`. **Instance variables** are attributes that belong to each individual object created from the class. Each CardSimple object will have its own values for `rank` and `suit`.\n",
        "\n",
        "3. Next, we have a **constructor** method named `CardSimple`. Constructors are special methods that are called when creating a new object of the class. They initialize the object's instance variables. In this case, the constructor takes two parameters: `rank` and `suit`, which are used to set the initial values of the corresponding instance variables using the `this` keyword. The `this` keyword refers to the current object instance.\n",
        "\n",
        "  By providing a constructor that accepts the rank and suit values, we ensure that each CardSimple object is created with specific values for its properties. This promotes encapsulation, a key principle of OOP, by bundling the data (rank and suit) together with the object that owns it.\n",
        "\n",
        "5. In the `main` method, which is the entry point of the program, we demonstrate how to create and use CardSimple objects. We create three CardSimple objects named `card1`, `card2`, and `card3`, each with different rank and suit values. The `new` keyword is used to instantiate a new object by calling the constructor with the appropriate arguments.\n",
        "\n",
        "6. Finally, we print the rank and suit of each card using `System.out.println()`. We access the `rank` and `suit` instance variables of each card object directly, as they have default access within the same class.\n",
        "\n",
        "This simple implementation of the CardSimple class provides a foundation for representing playing cards in our War game. However, there are some design choices we might consider:\n",
        "\n",
        "1.  Using integers to represent rank and suit may not be the most intuitive or readable approach. We could use enums or constants to provide more meaningful names for the rank and suit values.\n",
        "2.  The current implementation allows direct access to the `rank` and `suit` instance variables from outside the class. To promote encapsulation and data integrity, we could make these variables private and provide getter methods to access their values.\n",
        "3.  We could add more methods to the CardSimple class to provide additional functionality, such as comparing cards or determining the winner of a battle.\n",
        "\n",
        "As we progress through the exercises, we'll explore these design choices and evolve our Card class to incorporate better practices and functionality.\n",
        "\n",
        "In the next section, we'll implement the Card class, which will build upon the concepts introduced in CardSimple and introduce new OOP principles."
      ],
      "metadata": {
        "id": "y8muPuP8V-KC"
      }
    },
    {
      "cell_type": "code",
      "source": [
        "%%writefile CardSimple.java\n",
        "public class CardSimple {\n",
        "    // Instance variables to store the rank and suit of the card\n",
        "    int rank;\n",
        "    int suit;\n",
        "\n",
        "    // Constructor to initialize the rank and suit of the card\n",
        "    public CardSimple(int rank, int suit) {\n",
        "        this.rank = rank;\n",
        "        this.suit = suit;\n",
        "    }\n",
        "\n",
        "    // Main method for testing the CardSimple class\n",
        "    public static void main(String[] args) {\n",
        "        // Create three CardSimple objects with different rank and suit values\n",
        "        CardSimple card1 = new CardSimple(1, 1);\n",
        "        CardSimple card2 = new CardSimple(12, 3);\n",
        "        CardSimple card3 = new CardSimple(7, 2);\n",
        "\n",
        "        // Print the rank and suit of each card\n",
        "        System.out.println(\"Card 1: Rank = \" + card1.rank + \", Suit = \" + card1.suit);\n",
        "        System.out.println(\"Card 2: Rank = \" + card2.rank + \", Suit = \" + card2.suit);\n",
        "        System.out.println(\"Card 3: Rank = \" + card3.rank + \", Suit = \" + card3.suit);\n",
        "    }\n",
        "}"
      ],
      "metadata": {
        "id": "wNMt6NN0SHTP",
        "outputId": "cd7142a6-1004-49a9-92a8-953211d01634",
        "colab": {
          "base_uri": "https://localhost:8080/"
        }
      },
      "execution_count": 1,
      "outputs": [
        {
          "output_type": "stream",
          "name": "stdout",
          "text": [
            "Writing CardSimple.java\n"
          ]
        }
      ]
    },
    {
      "cell_type": "code",
      "source": [
        "!javac CardSimple.java"
      ],
      "metadata": {
        "id": "obgfS4fUSLT3"
      },
      "execution_count": 2,
      "outputs": []
    },
    {
      "cell_type": "code",
      "source": [
        "!java CardSimple"
      ],
      "metadata": {
        "id": "GzER1A1-SSAF",
        "outputId": "8ede1e6c-3974-43be-feb9-f28d2ecbc47c",
        "colab": {
          "base_uri": "https://localhost:8080/"
        }
      },
      "execution_count": 3,
      "outputs": [
        {
          "output_type": "stream",
          "name": "stdout",
          "text": [
            "Card 1: Rank = 1, Suit = 1\n",
            "Card 2: Rank = 12, Suit = 3\n",
            "Card 3: Rank = 7, Suit = 2\n"
          ]
        }
      ]
    },
    {
      "cell_type": "markdown",
      "source": [
        "## A Complete `Card`\n",
        "In this section, we'll dive deeper into the enhanced Card class and explore the various Java concepts it incorporates. This class builds upon the ideas introduced in the CardSimple class and introduces several new features that showcase the power and flexibility of object-oriented programming in Java.\n",
        "\n",
        "1.  **Implementing an Interface.** An interface in Java is a contract that specifies a set of methods that a class must implement. By implementing an interface, a class agrees to provide implementations for all the methods declared in the interface. In the Card class, we implement the `Comparable<Card>` interface, which defines a single method called `compareTo`. This method is used to compare two objects of the same type and determine their relative order.\n",
        "\n",
        "  By implementing the Comparable interface, we ensure that Card objects can be compared to each other based on their rank and suit. This is useful when we need to sort cards or determine the winner of a battle in our War game. The `compareTo` method returns a negative integer, zero, or a positive integer if the current card is less than, equal to, or greater than the other card, respectively.\n",
        "\n",
        "2.  **Static Final Variables.** In the Card class, we introduce two `static final` arrays: `RANKS` and `SUITS`. The `static` keyword means that these arrays belong to the class itself, rather than individual instances of the class. This allows all Card objects to share the same rank and suit information, saving memory and ensuring consistency.\n",
        "\n",
        "  The `final` keyword indicates that the values of these arrays cannot be modified once they are initialized. This is important because we want the rank and suit information to remain constant throughout the program's execution.\n",
        "\n",
        "  Using static final arrays for ranks and suits provides several benefits. It improves code readability by providing meaningful names for the rank and suit values, making the code easier to understand. It also allows us to easily update the rank and suit information in a single place if needed, without having to modify each individual card object.\n",
        "\n",
        "3.  **Encapsulation and Access Control.** Encapsulation is a fundamental principle of object-oriented programming, and it involves bundling data and methods together within a class and controlling access to them. In the Card class, we achieve encapsulation by declaring the `rank` and `suit` instance variables as `private`. This means that these variables can only be accessed within the Card class itself, and not from outside the class.\n",
        "\n",
        "  By making the instance variables private, we prevent unauthorized modification of the card's rank and suit from other parts of the program. This ensures data integrity and maintains the internal consistency of the Card objects.\n",
        "\n",
        "  To provide controlled access to the rank and suit values, we introduce **getter&& methods: `getRank()` and `getSuit()`. These methods allow other parts of the program to retrieve the values of the rank and suit variables without directly accessing them. This way, we maintain encapsulation while still providing necessary access to the card's information.\n",
        "\n",
        "5.  **Method Overriding.** Method overriding is a feature in Java where a subclass provides its own implementation of a method that is already defined in its superclass. In the Card class, we override several methods inherited from the Object class, which is the ultimate superclass of all classes in Java.\n",
        "\n",
        "  -   `compareTo`: We override this method from the Comparable interface to define how two Card objects should be compared based on their rank and suit. By providing our own implementation, we specify the comparison logic that is specific to the Card class.\n",
        "  -   `equals`: We override the `equals` method to determine if two Card objects are equal based on their rank and suit. By default, the `equals` method in the Object class compares object references, but we want to compare the actual content of the Card objects. Our implementation checks if the rank and suit of two cards are the same, providing a more meaningful equality comparison.\n",
        "  -   `toString`: We override the `toString` method to provide a string representation of a Card object. Instead of returning the default object reference, we use the `RANKS` and `SUITS` arrays to create a readable format (e.g., \"A♠\" for the Ace of Spades). This allows us to easily print and display Card objects in a human-readable format.\n",
        "\n",
        "6.  **Type Casting.** In the `equals` method, we encounter type casting, which is a way to convert an object from one type to another. Before comparing the current Card object with another object, we first need to ensure that the other object is also of type Card. We use the `getClass()` method to check the class of the other object.\n",
        "\n",
        "  If the other object is indeed of type Card, we need to cast it from the general Object type to the specific Card type. This is done using the `(Card)` syntax. After casting, we can access the `rank` and `suit` instance variables of the other Card object to perform the equality comparison.\n",
        "\n",
        "  Type casting allows us to treat an object of a general type as an object of a more specific type, enabling us to access its specific properties and methods.\n",
        "\n",
        "7. To demonstrate the usage and functionality of the Card class, we include a `main` method within the class. In the `main` method, we create three Card objects with different rank and suit values. We then print these objects using the `toString` method, which returns a string representation of each card.\n",
        "\n",
        "The enhanced Card class introduces several important Java concepts, including interfaces, static final variables, encapsulation, method overriding, and type casting. These concepts work together to create a robust and flexible representation of a playing card, with well-defined behavior and encapsulated data.\n",
        "\n",
        "By understanding and applying these concepts, we can create classes that are modular, maintainable, and adhere to the principles of object-oriented programming. The Card class serves as a foundation for building more complex components of our War game, such as the deck and the game logic itself.\n",
        "\n",
        "In the next section, we'll explore the DeckSimple class, which will utilize the Card class to represent a collection of cards and provide functionality for shuffling and dealing cards in our game."
      ],
      "metadata": {
        "id": "_8z2WT-dXTFL"
      }
    },
    {
      "cell_type": "code",
      "execution_count": 6,
      "metadata": {
        "colab": {
          "base_uri": "https://localhost:8080/"
        },
        "id": "d15_sudOGVbu",
        "outputId": "6acbb23e-287e-4677-88e9-43f070569f66"
      },
      "outputs": [
        {
          "output_type": "stream",
          "name": "stdout",
          "text": [
            "Writing Card.java\n"
          ]
        }
      ],
      "source": [
        "%%writefile Card.java\n",
        "public class Card implements Comparable<Card> {\n",
        "    private static final String[] RANKS = {\n",
        "        null, \"A\", \"2\", \"3\", \"4\", \"5\", \"6\", \"7\", \"8\", \"9\", \"10\", \"J\", \"Q\", \"K\"\n",
        "    };\n",
        "\n",
        "    private static final String[] SUITS = {\n",
        "        null, \"♣\", \"♦\", \"♥\", \"♠\"\n",
        "    };\n",
        "\n",
        "    private int rank;\n",
        "    private int suit;\n",
        "\n",
        "    public Card(int rank, int suit) {\n",
        "        this.rank = rank;\n",
        "        this.suit = suit;\n",
        "    }\n",
        "\n",
        "    @Override\n",
        "    public int compareTo(Card other) {\n",
        "        if (this.rank != other.rank) {\n",
        "            return this.rank - other.rank;\n",
        "        } else {\n",
        "            return this.suit - other.suit;\n",
        "        }\n",
        "    }\n",
        "\n",
        "    @Override\n",
        "    public boolean equals(Object obj) {\n",
        "        if (this == obj) {\n",
        "            return true;\n",
        "        }\n",
        "        if (obj == null || getClass() != obj.getClass()) {\n",
        "            return false;\n",
        "        }\n",
        "        Card other = (Card) obj;\n",
        "        return this.rank == other.rank && this.suit == other.suit;\n",
        "    }\n",
        "\n",
        "    public int getRank(){\n",
        "      return rank;\n",
        "    }\n",
        "\n",
        "    public int getSuit(){\n",
        "      return suit;\n",
        "    }\n",
        "\n",
        "    @Override\n",
        "    public String toString() {\n",
        "        return RANKS[rank] + SUITS[suit];\n",
        "    }\n",
        "\n",
        "    public static void main(String[] args) {\n",
        "        Card card1 = new Card(1, 4);  // Ace of Spades\n",
        "        Card card2 = new Card(12, 3); // Queen of Hearts\n",
        "        Card card3 = new Card(7, 2);  // 7 of Diamonds\n",
        "\n",
        "        System.out.println(\"card1: \" + card1);\n",
        "        System.out.println(\"card2: \" + card2);\n",
        "        System.out.println(\"card3: \" + card3);\n",
        "\n",
        "        System.out.println(\"card1 compareTo card2: \" + card1.compareTo(card2));\n",
        "        System.out.println(\"card2 compareTo card3: \" + card2.compareTo(card3));\n",
        "        System.out.println(\"card1 equals card3: \" + card1.equals(card3));\n",
        "    }\n",
        "}"
      ]
    },
    {
      "cell_type": "code",
      "source": [
        "!javac Card.java"
      ],
      "metadata": {
        "id": "GdNh1lh8GaJK"
      },
      "execution_count": 7,
      "outputs": []
    },
    {
      "cell_type": "code",
      "source": [
        "!java Card"
      ],
      "metadata": {
        "colab": {
          "base_uri": "https://localhost:8080/"
        },
        "id": "3fYGrP4PGefy",
        "outputId": "084c48d8-6abf-4868-c5bc-bf3bd7e994b1"
      },
      "execution_count": 8,
      "outputs": [
        {
          "output_type": "stream",
          "name": "stdout",
          "text": [
            "card1: A♠\n",
            "card2: Q♥\n",
            "card3: 7♦\n",
            "card1 compareTo card2: -11\n",
            "card2 compareTo card3: 5\n",
            "card1 equals card3: false\n"
          ]
        }
      ]
    },
    {
      "cell_type": "code",
      "source": [
        "%%writefile DeckSimple.java\n",
        "import java.util.ArrayList;\n",
        "import java.util.Collections;\n",
        "import java.util.List;\n",
        "\n",
        "public class DeckSimple {\n",
        "    private static final int DECK_SIZE = 52;\n",
        "    private List<Card> cards;\n",
        "\n",
        "    // Constructor to initialize the deck with 52 cards\n",
        "    public DeckSimple() {\n",
        "        cards = new ArrayList<>();\n",
        "        for (int suit = 1; suit <= 4; suit++) {\n",
        "            for (int rank = 1; rank <= 13; rank++) {\n",
        "                cards.add(new Card(rank, suit));\n",
        "            }\n",
        "        }\n",
        "    }\n",
        "\n",
        "    // Shuffles the deck using the built-in Collections.shuffle() method\n",
        "    public void shuffle() {\n",
        "        Collections.shuffle(cards);\n",
        "    }\n",
        "\n",
        "    // Draws the top card from the deck\n",
        "    public Card drawCard() {\n",
        "        if (!isEmpty()) {\n",
        "            return cards.remove(cards.size() - 1);\n",
        "        }\n",
        "        return null;\n",
        "    }\n",
        "\n",
        "    // Checks if the deck is empty\n",
        "    public boolean isEmpty() {\n",
        "        return cards.isEmpty();\n",
        "    }\n",
        "\n",
        "    // Returns the number of cards remaining in the deck\n",
        "    public int remainingCards() {\n",
        "        return cards.size();\n",
        "    }\n",
        "\n",
        "    // Returns a string representation of the deck\n",
        "    @Override\n",
        "    public String toString() {\n",
        "        return cards.toString();\n",
        "    }\n",
        "\n",
        "    public static void main(String[] args) {\n",
        "        // Create a new deck\n",
        "        DeckSimple deck = new DeckSimple();\n",
        "\n",
        "        // Print the initial deck\n",
        "        System.out.println(\"Initial Deck:\");\n",
        "        System.out.println(deck);\n",
        "\n",
        "        // Shuffle the deck\n",
        "        deck.shuffle();\n",
        "\n",
        "        // Print the shuffled deck\n",
        "        System.out.println(\"\\nShuffled Deck:\");\n",
        "        System.out.println(deck);\n",
        "    }\n",
        "\n",
        "}"
      ],
      "metadata": {
        "id": "GtSHXunkSv7_",
        "outputId": "d0c8efa0-8d4e-4742-c6c8-e0864ff8ecc4",
        "colab": {
          "base_uri": "https://localhost:8080/"
        }
      },
      "execution_count": 9,
      "outputs": [
        {
          "output_type": "stream",
          "name": "stdout",
          "text": [
            "Overwriting DeckSimple.java\n"
          ]
        }
      ]
    },
    {
      "cell_type": "code",
      "source": [
        "!javac DeckSimple.java"
      ],
      "metadata": {
        "id": "W_El0sI-TGRi",
        "outputId": "770f04f1-d390-4bfa-d11a-9ca7f0527fa2",
        "colab": {
          "base_uri": "https://localhost:8080/"
        }
      },
      "execution_count": 5,
      "outputs": [
        {
          "output_type": "stream",
          "name": "stdout",
          "text": [
            "DeckSimple.java:7: error: cannot find symbol\n",
            "    private List<Card> cards;\n",
            "                 ^\n",
            "  symbol:   class Card\n",
            "  location: class DeckSimple\n",
            "DeckSimple.java:25: error: cannot find symbol\n",
            "    public Card drawCard() {\n",
            "           ^\n",
            "  symbol:   class Card\n",
            "  location: class DeckSimple\n",
            "DeckSimple.java:14: error: cannot find symbol\n",
            "                cards.add(new Card(rank, suit));\n",
            "                              ^\n",
            "  symbol:   class Card\n",
            "  location: class DeckSimple\n",
            "3 errors\n"
          ]
        }
      ]
    },
    {
      "cell_type": "code",
      "source": [
        "%%writefile Deck.java\n",
        "import java.util.ArrayList;\n",
        "import java.util.Collections;\n",
        "import java.util.List;\n",
        "\n",
        "public class Deck {\n",
        "    private List<Card> cards;\n",
        "\n",
        "    public Deck() {\n",
        "        cards = new ArrayList<>();\n",
        "        for (int suit = 1; suit <= 4; suit++) {\n",
        "            for (int rank = 1; rank <= 13; rank++) {\n",
        "                cards.add(new Card(rank, suit));\n",
        "            }\n",
        "        }\n",
        "    }\n",
        "\n",
        "    public void shuffle() {\n",
        "        Collections.shuffle(cards);\n",
        "    }\n",
        "\n",
        "    public Card drawCard() {\n",
        "        if (!isEmpty()) {\n",
        "            return cards.remove(cards.size() - 1);\n",
        "        }\n",
        "        return null;\n",
        "    }\n",
        "\n",
        "    public boolean isEmpty() {\n",
        "        return cards.isEmpty();\n",
        "    }\n",
        "\n",
        "    public int remainingCards() {\n",
        "        return cards.size();\n",
        "    }\n",
        "\n",
        "    public int linearSearch(Card target) {\n",
        "        for (int i = 0; i < cards.size(); i++) {\n",
        "            if (cards.get(i).equals(target)) {\n",
        "                return i;\n",
        "            }\n",
        "        }\n",
        "        return -1;\n",
        "    }\n",
        "\n",
        "    public void sort() {\n",
        "        Collections.sort(cards);\n",
        "    }\n",
        "\n",
        "    public int binarySearch(Card target) {\n",
        "        return Collections.binarySearch(cards, target);\n",
        "    }\n",
        "\n",
        "    @Override\n",
        "    public String toString() {\n",
        "        return cards.toString();\n",
        "    }\n",
        "\n",
        "    public static void main(String[] args) {\n",
        "        // Create a new deck of cards\n",
        "        Deck deck = new Deck();\n",
        "        System.out.println(\"Initial deck:\");\n",
        "        System.out.println(deck);\n",
        "\n",
        "        // Shuffle the deck\n",
        "        deck.shuffle();\n",
        "        System.out.println(\"Shuffled deck:\");\n",
        "        System.out.println(deck);\n",
        "\n",
        "        // Draw a card from the deck\n",
        "        Card drawnCard = deck.drawCard();\n",
        "        System.out.println(\"Drawn card: \" + drawnCard);\n",
        "        System.out.println(\"Deck after drawing one card:\");\n",
        "        System.out.println(deck);\n",
        "\n",
        "        // Check if the deck is empty\n",
        "        System.out.println(\"Is the deck empty? \" + deck.isEmpty());\n",
        "\n",
        "        // Remaining cards in the deck\n",
        "        System.out.println(\"Remaining cards: \" + deck.remainingCards());\n",
        "\n",
        "        // Perform a linear search for the drawn card\n",
        "        int index = deck.linearSearch(drawnCard);\n",
        "        System.out.println(\"Index of the drawn card (linear search -- should be missing): \" + index);\n",
        "\n",
        "        // Sort the deck\n",
        "        deck.sort();\n",
        "        System.out.println(\"Sorted deck:\");\n",
        "        System.out.println(deck);\n",
        "\n",
        "        // Perform a binary search for the drawn card\n",
        "        index = deck.binarySearch(drawnCard);\n",
        "        System.out.println(\"Index of the drawn card (binary search): \" + index);\n",
        "    }\n",
        "}\n"
      ],
      "metadata": {
        "colab": {
          "base_uri": "https://localhost:8080/"
        },
        "id": "Fh1BznmHGg9b",
        "outputId": "cb605404-47a7-4321-c8b4-e9f9516a1bf3"
      },
      "execution_count": null,
      "outputs": [
        {
          "output_type": "stream",
          "name": "stdout",
          "text": [
            "Overwriting Deck.java\n"
          ]
        }
      ]
    },
    {
      "cell_type": "code",
      "source": [
        "!javac Deck.java"
      ],
      "metadata": {
        "id": "ZhZ5SzD9HGy_"
      },
      "execution_count": null,
      "outputs": []
    },
    {
      "cell_type": "code",
      "source": [
        "!java Deck"
      ],
      "metadata": {
        "colab": {
          "base_uri": "https://localhost:8080/"
        },
        "id": "J5Tr3iL0HIw1",
        "outputId": "cc763bc8-c8d3-4d97-83a7-1411e79c2443"
      },
      "execution_count": null,
      "outputs": [
        {
          "output_type": "stream",
          "name": "stdout",
          "text": [
            "Initial deck:\n",
            "[A♣, 2♣, 3♣, 4♣, 5♣, 6♣, 7♣, 8♣, 9♣, 10♣, J♣, Q♣, K♣, A♦, 2♦, 3♦, 4♦, 5♦, 6♦, 7♦, 8♦, 9♦, 10♦, J♦, Q♦, K♦, A♥, 2♥, 3♥, 4♥, 5♥, 6♥, 7♥, 8♥, 9♥, 10♥, J♥, Q♥, K♥, A♠, 2♠, 3♠, 4♠, 5♠, 6♠, 7♠, 8♠, 9♠, 10♠, J♠, Q♠, K♠]\n",
            "Shuffled deck:\n",
            "[10♠, K♣, 4♦, 10♦, 10♣, 9♥, Q♣, 3♦, A♠, 2♥, 5♦, 10♥, 4♣, 2♦, Q♥, Q♠, 9♠, A♣, 7♣, 6♦, 8♥, 3♣, 4♥, 2♣, 2♠, 5♥, 7♦, K♠, K♦, Q♦, A♦, 4♠, 8♠, J♣, J♠, 8♣, 9♦, 5♠, 7♠, 3♠, 9♣, 5♣, 7♥, J♥, K♥, 3♥, A♥, 8♦, 6♥, 6♣, 6♠, J♦]\n",
            "Drawn card: J♦\n",
            "Deck after drawing one card:\n",
            "[10♠, K♣, 4♦, 10♦, 10♣, 9♥, Q♣, 3♦, A♠, 2♥, 5♦, 10♥, 4♣, 2♦, Q♥, Q♠, 9♠, A♣, 7♣, 6♦, 8♥, 3♣, 4♥, 2♣, 2♠, 5♥, 7♦, K♠, K♦, Q♦, A♦, 4♠, 8♠, J♣, J♠, 8♣, 9♦, 5♠, 7♠, 3♠, 9♣, 5♣, 7♥, J♥, K♥, 3♥, A♥, 8♦, 6♥, 6♣, 6♠]\n",
            "Is the deck empty? false\n",
            "Remaining cards: 51\n",
            "Index of the drawn card (linear search -- should be missing): -1\n",
            "Sorted deck:\n",
            "[A♣, A♦, A♥, A♠, 2♣, 2♦, 2♥, 2♠, 3♣, 3♦, 3♥, 3♠, 4♣, 4♦, 4♥, 4♠, 5♣, 5♦, 5♥, 5♠, 6♣, 6♦, 6♥, 6♠, 7♣, 7♦, 7♥, 7♠, 8♣, 8♦, 8♥, 8♠, 9♣, 9♦, 9♥, 9♠, 10♣, 10♦, 10♥, 10♠, J♣, J♥, J♠, Q♣, Q♦, Q♥, Q♠, K♣, K♦, K♥, K♠]\n",
            "Index of the drawn card (binary search): -42\n"
          ]
        }
      ]
    },
    {
      "cell_type": "code",
      "source": [
        "%%writefile WarSimple.java\n",
        "import java.util.ArrayList;\n",
        "import java.util.List;\n",
        "\n",
        "public class WarSimple {\n",
        "    private List<Card> adaHand;\n",
        "    private List<Card> alanHand;\n",
        "    private Deck deck;\n",
        "\n",
        "    /**\n",
        "     * Constructor for WarSimple. Initializes the deck and distributes war scenario cards to each player.\n",
        "     */\n",
        "    public WarSimple() {\n",
        "        this.deck = new Deck();\n",
        "        this.deck.shuffle(); // Ensures the cards are randomly distributed.\n",
        "        this.adaHand = new ArrayList<>();\n",
        "        this.alanHand = new ArrayList<>();\n",
        "        distributeInitialCards();\n",
        "    }\n",
        "\n",
        "    /**\n",
        "     * Distributes an equal number of cards to each player to prepare for a war.\n",
        "     */\n",
        "    private void distributeInitialCards() {\n",
        "        for (int i = 0; i < 2; i++) { // Assuming each player gets 2 cards: 1 for war, 1 as back-up for the tie case\n",
        "            if (!deck.isEmpty()) adaHand.add(deck.drawCard());\n",
        "            if (!deck.isEmpty()) alanHand.add(deck.drawCard());\n",
        "        }\n",
        "    }\n",
        "\n",
        "    /**\n",
        "     * Resolves a single war round between two players using their top cards.\n",
        "     */\n",
        "    public void resolveSingleWar() {\n",
        "        if (adaHand.size() < 1 || alanHand.size() < 1) {\n",
        "            System.out.println(\"One of the players does not have enough cards to play a war.\");\n",
        "            return;\n",
        "        }\n",
        "\n",
        "        // Each player plays the top card\n",
        "        Card adaWarCard = adaHand.remove(0);\n",
        "        Card alanWarCard = alanHand.remove(0);\n",
        "\n",
        "        List<Card> warPile = new ArrayList<>();\n",
        "        warPile.add(adaWarCard);\n",
        "        warPile.add(alanWarCard);\n",
        "\n",
        "        // Announcing the cards played in the war\n",
        "        System.out.println(\"Ada's war card: \" + adaWarCard);\n",
        "        System.out.println(\"Alan's war card: \" + alanWarCard);\n",
        "\n",
        "        // Comparing the rank of the cards to decide the winner\n",
        "        if (adaWarCard.getRank() > alanWarCard.getRank()) {\n",
        "            adaHand.addAll(warPile); // Ada wins the war and takes all cards\n",
        "            System.out.println(\"Ada wins the war!\");\n",
        "        } else if (alanWarCard.getRank() > adaWarCard.getRank()) {\n",
        "            alanHand.addAll(warPile); // Alan wins the war and takes all cards\n",
        "            System.out.println(\"Alan wins the war!\");\n",
        "        } else {\n",
        "            System.out.println(\"It's a tie - no more cards to continue another war.\");\n",
        "        }\n",
        "    }\n",
        "\n",
        "    public static void main(String[] args) {\n",
        "        // Create an instance of WarSimple and run the war simulation\n",
        "        WarSimple warGame = new WarSimple();\n",
        "        warGame.resolveSingleWar();\n",
        "    }\n",
        "}\n"
      ],
      "metadata": {
        "colab": {
          "base_uri": "https://localhost:8080/"
        },
        "id": "UCLpxXczRT4_",
        "outputId": "18a54092-56d5-4300-cb8e-5a3db1cb593d"
      },
      "execution_count": null,
      "outputs": [
        {
          "output_type": "stream",
          "name": "stdout",
          "text": [
            "Overwriting WarSimple.java\n"
          ]
        }
      ]
    },
    {
      "cell_type": "code",
      "source": [
        "!javac WarSimple.java"
      ],
      "metadata": {
        "id": "ETtlFffGRcee"
      },
      "execution_count": null,
      "outputs": []
    },
    {
      "cell_type": "code",
      "source": [
        "!java WarSimple"
      ],
      "metadata": {
        "colab": {
          "base_uri": "https://localhost:8080/"
        },
        "id": "L6Oci_f2RfPH",
        "outputId": "021513af-08ed-4a08-d61b-75064bb21544"
      },
      "execution_count": null,
      "outputs": [
        {
          "output_type": "stream",
          "name": "stdout",
          "text": [
            "Ada's war card: A♣\n",
            "Alan's war card: K♠\n",
            "Alan wins the war!\n"
          ]
        }
      ]
    },
    {
      "cell_type": "code",
      "source": [
        "%%writefile Wargame.java\n",
        "public class WarGame {\n",
        "    private Deck deck;\n",
        "    private List<Card> adaHand;\n",
        "    private List<Card> alanHand;\n",
        "    private int roundNumber;\n",
        "\n",
        "    /**\n",
        "     * Constructor for WarGame. Initializes the deck and player hands, shuffles the deck,\n",
        "     * and distributes the cards evenly between two players.\n",
        "     */\n",
        "    public WarGame() {\n",
        "        deck = new Deck();\n",
        "        adaHand = new ArrayList<>();\n",
        "        alanHand = new ArrayList<>();\n",
        "        roundNumber = 1;\n",
        "        deck.shuffle();\n",
        "        distributeCards();\n",
        "    }\n",
        "\n",
        "    /**\n",
        "     * Starts and plays the game until one player runs out of cards.\n",
        "     */\n",
        "    public void playGame() {\n",
        "        while (!adaHand.isEmpty() && !alanHand.isEmpty()) {\n",
        "            playRound();\n",
        "            roundNumber++;\n",
        "        }\n",
        "        announceWinner();\n",
        "    }\n",
        "\n",
        "    /**\n",
        "     * Distributes cards from the deck to each player alternately.\n",
        "     */\n",
        "    private void distributeCards() {\n",
        "        while (!deck.isEmpty()) {\n",
        "            adaHand.add(deck.drawCard());\n",
        "            if (!deck.isEmpty()) {\n",
        "                alanHand.add(deck.drawCard());\n",
        "            }\n",
        "        }\n",
        "    }\n",
        "\n",
        "    /**\n",
        "     * Simulates one round of the game. Each player plays a card, and the player with the higher card wins the round.\n",
        "     */\n",
        "    private void playRound() {\n",
        "        Card adaCard = adaHand.remove(0);\n",
        "        Card alanCard = alanHand.remove(0);\n",
        "        announceRound(adaCard, alanCard);\n",
        "        compareCards(adaCard, alanCard);\n",
        "    }\n",
        "\n",
        "    /**\n",
        "     * Announces the current round and cards played by each player.\n",
        "     */\n",
        "    private void announceRound(Card adaCard, Card alanCard) {\n",
        "        System.out.printf(\"Round %d: Ada (%d) - %s | Alan (%d) - %s | \",\n",
        "                roundNumber, adaHand.size() + 1, adaCard, alanHand.size() + 1, alanCard);\n",
        "    }\n",
        "\n",
        "    /**\n",
        "     * Compares cards played by the players and decides the outcome of the round or a war.\n",
        "     */\n",
        "    private void compareCards(Card adaCard, Card alanCard) {\n",
        "        if (adaCard.getRank() > alanCard.getRank()) {\n",
        "            adaHand.add(adaCard);\n",
        "            adaHand.add(alanCard);\n",
        "            System.out.println(\"Ada wins\");\n",
        "        } else if (alanCard.getRank() > adaCard.getRank()) {\n",
        "            alanHand.add(adaCard);\n",
        "            alanHand.add(alanCard);\n",
        "            System.out.println(\"Alan wins\");\n",
        "        } else {\n",
        "            System.out.println(\"War!\");\n",
        "            playWar(new ArrayList<>(List.of(adaCard, alanCard)));\n",
        "        }\n",
        "    }\n",
        "\n",
        "    /**\n",
        "     * Handles the war scenario when both players play cards of the same rank.\n",
        "     */\n",
        "    private void playWar(List<Card> warCards) {\n",
        "        if (!prepareWar(warCards)) return;\n",
        "        Card adaWarCard = adaHand.remove(0);\n",
        "        Card alanWarCard = alanHand.remove(0);\n",
        "        warCards.add(adaWarCard);\n",
        "        warCards.add(alanWarCard);\n",
        "        System.out.println(\"Ada's war card: \" + adaWarCard);\n",
        "        System.out.println(\"Alan's war card: \" + alanWarCard);\n",
        "        resolveWar(adaWarCard, alanWarCard, warCards);\n",
        "    }\n",
        "\n",
        "    /**\n",
        "     * Prepares for war by adding face-down cards to the war pile. Returns false if any player cannot continue.\n",
        "     */\n",
        "    private boolean prepareWar(List<Card> warCards) {\n",
        "        if (adaHand.isEmpty() || alanHand.isEmpty()) {\n",
        "            (adaHand.isEmpty() ? alanHand : adaHand).addAll(warCards);\n",
        "            return false;\n",
        "        }\n",
        "        int numFaceDownCards = Math.min(8, Math.min(adaHand.size(), alanHand.size()));\n",
        "        for (int i = 0; i < numFaceDownCards; i++) {\n",
        "            warCards.add(adaHand.remove(0));\n",
        "            warCards.add(alanHand.remove(0));\n",
        "        }\n",
        "        return !(adaHand.isEmpty() || alanHand.isEmpty());\n",
        "    }\n",
        "\n",
        "    /**\n",
        "     * Resolves a war scenario based on the war cards played.\n",
        "     */\n",
        "    private void resolveWar(Card adaWarCard, Card alanWarCard, List<Card> warCards) {\n",
        "        if (adaWarCard.getRank() > alanWarCard.getRank()) {\n",
        "            adaHand.addAll(warCards);\n",
        "            System.out.println(\"Ada wins the war!\");\n",
        "        } else if (alanWarCard.getRank() > adaWarCard.getRank()) {\n",
        "            alanHand.addAll(warCards);\n",
        "            System.out.println(\"Alan wins the war!\");\n",
        "        } else {\n",
        "            System.out.println(\"Another war!\");\n",
        "            playWar(warCards);\n",
        "        }\n",
        "    }\n",
        "\n",
        "    /**\n",
        "     * Announces the winner of the game.\n",
        "     */\n",
        "    private void announceWinner() {\n",
        "        String winner = adaHand.isEmpty() ? \"Alan\" : \"Ada\";\n",
        "        System.out.println(\"Game over. The winner is: \" + winner);\n",
        "    }\n",
        "\n",
        "    public static void main(String[] args) {\n",
        "        new WarGame().playGame();\n",
        "    }\n",
        "}\n"
      ],
      "metadata": {
        "colab": {
          "base_uri": "https://localhost:8080/"
        },
        "id": "UmteV_A4PfoA",
        "outputId": "ed712ddd-32a1-41b3-b3ad-fe901ad3a6c9"
      },
      "execution_count": null,
      "outputs": [
        {
          "output_type": "stream",
          "name": "stdout",
          "text": [
            "Overwriting Wargame.java\n"
          ]
        }
      ]
    },
    {
      "cell_type": "code",
      "source": [
        "!javac WarGame.java"
      ],
      "metadata": {
        "id": "AJBo51vsPlY-"
      },
      "execution_count": null,
      "outputs": []
    },
    {
      "cell_type": "code",
      "source": [
        "!java WarGame"
      ],
      "metadata": {
        "colab": {
          "base_uri": "https://localhost:8080/"
        },
        "id": "36sOwZ9vPoB2",
        "outputId": "ea408726-d540-44b6-968a-eb74c4add8a3"
      },
      "execution_count": null,
      "outputs": [
        {
          "output_type": "stream",
          "name": "stdout",
          "text": [
            "Round 1: Ada (26) - 9♦ | Alan (26) - Q♣ | Alan wins\n",
            "Round 2: Ada (25) - 2♠ | Alan (27) - 6♣ | Alan wins\n",
            "Round 3: Ada (24) - K♠ | Alan (28) - 6♥ | Ada wins\n",
            "Round 4: Ada (25) - 4♠ | Alan (27) - 3♠ | Ada wins\n",
            "Round 5: Ada (26) - 10♦ | Alan (26) - J♦ | Alan wins\n",
            "Round 6: Ada (25) - 6♠ | Alan (27) - 10♣ | Alan wins\n",
            "Round 7: Ada (24) - 3♦ | Alan (28) - Q♥ | Alan wins\n",
            "Round 8: Ada (23) - 3♣ | Alan (29) - J♣ | Alan wins\n",
            "Round 9: Ada (22) - 2♦ | Alan (30) - 5♣ | Alan wins\n",
            "Round 10: Ada (21) - 3♥ | Alan (31) - J♠ | Alan wins\n",
            "Round 11: Ada (20) - 8♣ | Alan (32) - 8♥ | War!\n",
            "Ada's war card: 10♠\n",
            "Alan's war card: K♦\n",
            "Alan wins the war!\n",
            "Round 12: Ada (10) - 9♣ | Alan (42) - K♥ | Alan wins\n",
            "Round 13: Ada (9) - 9♠ | Alan (43) - 2♥ | Ada wins\n",
            "Round 14: Ada (10) - Q♦ | Alan (42) - 6♦ | Ada wins\n",
            "Round 15: Ada (11) - K♣ | Alan (41) - A♣ | Ada wins\n",
            "Round 16: Ada (12) - 7♣ | Alan (40) - J♥ | Alan wins\n",
            "Round 17: Ada (11) - 10♥ | Alan (41) - 7♦ | Ada wins\n",
            "Round 18: Ada (12) - K♠ | Alan (40) - 9♦ | Ada wins\n",
            "Round 19: Ada (13) - 6♥ | Alan (39) - Q♣ | Alan wins\n",
            "Round 20: Ada (12) - 4♠ | Alan (40) - 2♠ | Ada wins\n",
            "Round 21: Ada (13) - 3♠ | Alan (39) - 6♣ | Alan wins\n",
            "Round 22: Ada (12) - 9♠ | Alan (40) - 10♦ | Alan wins\n",
            "Round 23: Ada (11) - 2♥ | Alan (41) - J♦ | Alan wins\n",
            "Round 24: Ada (10) - Q♦ | Alan (42) - 6♠ | Ada wins\n",
            "Round 25: Ada (11) - 6♦ | Alan (41) - 10♣ | Alan wins\n",
            "Round 26: Ada (10) - K♣ | Alan (42) - 3♦ | Ada wins\n",
            "Round 27: Ada (11) - A♣ | Alan (41) - Q♥ | Alan wins\n",
            "Round 28: Ada (10) - 10♥ | Alan (42) - 3♣ | Ada wins\n",
            "Round 29: Ada (11) - 7♦ | Alan (41) - J♣ | Alan wins\n",
            "Round 30: Ada (10) - K♠ | Alan (42) - 2♦ | Ada wins\n",
            "Round 31: Ada (11) - 9♦ | Alan (41) - 5♣ | Ada wins\n",
            "Round 32: Ada (12) - 4♠ | Alan (40) - 3♥ | Ada wins\n",
            "Round 33: Ada (13) - 2♠ | Alan (39) - J♠ | Alan wins\n",
            "Round 34: Ada (12) - Q♦ | Alan (40) - 8♣ | Ada wins\n",
            "Round 35: Ada (13) - 6♠ | Alan (39) - 8♥ | Alan wins\n",
            "Round 36: Ada (12) - K♣ | Alan (40) - 7♥ | Ada wins\n",
            "Round 37: Ada (13) - 3♦ | Alan (39) - 5♥ | Alan wins\n",
            "Round 38: Ada (12) - 10♥ | Alan (40) - 5♦ | Ada wins\n",
            "Round 39: Ada (13) - 3♣ | Alan (39) - 8♠ | Alan wins\n",
            "Round 40: Ada (12) - K♠ | Alan (40) - 4♦ | Ada wins\n",
            "Round 41: Ada (13) - 2♦ | Alan (39) - 9♥ | Alan wins\n",
            "Round 42: Ada (12) - 9♦ | Alan (40) - A♥ | Ada wins\n",
            "Round 43: Ada (13) - 5♣ | Alan (39) - 4♣ | Ada wins\n",
            "Round 44: Ada (14) - 4♠ | Alan (38) - 5♠ | Alan wins\n",
            "Round 45: Ada (13) - 3♥ | Alan (39) - 8♦ | Alan wins\n",
            "Round 46: Ada (12) - Q♦ | Alan (40) - 2♣ | Ada wins\n",
            "Round 47: Ada (13) - 8♣ | Alan (39) - 4♥ | Ada wins\n",
            "Round 48: Ada (14) - K♣ | Alan (38) - A♠ | Ada wins\n",
            "Round 49: Ada (15) - 7♥ | Alan (37) - 7♠ | War!\n",
            "Ada's war card: Q♦\n",
            "Alan's war card: 6♥\n",
            "Ada wins the war!\n",
            "Round 50: Ada (25) - 2♣ | Alan (27) - Q♣ | Alan wins\n",
            "Round 51: Ada (24) - 8♣ | Alan (28) - 3♠ | Ada wins\n",
            "Round 52: Ada (25) - 4♥ | Alan (27) - 6♣ | Alan wins\n",
            "Round 53: Ada (24) - K♣ | Alan (28) - 9♠ | Ada wins\n",
            "Round 54: Ada (25) - A♠ | Alan (27) - 10♦ | Alan wins\n",
            "Round 55: Ada (24) - 7♥ | Alan (28) - 2♥ | Ada wins\n",
            "Round 56: Ada (25) - 7♠ | Alan (27) - J♦ | Alan wins\n",
            "Round 57: Ada (24) - 10♥ | Alan (28) - 6♦ | Ada wins\n",
            "Round 58: Ada (25) - Q♠ | Alan (27) - 10♣ | Ada wins\n",
            "Round 59: Ada (26) - 5♦ | Alan (26) - A♣ | Ada wins\n",
            "Round 60: Ada (27) - A♦ | Alan (25) - Q♥ | Alan wins\n",
            "Round 61: Ada (26) - K♠ | Alan (26) - 7♦ | Ada wins\n",
            "Round 62: Ada (27) - 10♠ | Alan (25) - J♣ | Alan wins\n",
            "Round 63: Ada (26) - 4♦ | Alan (26) - 2♠ | Ada wins\n",
            "Round 64: Ada (27) - K♦ | Alan (25) - J♠ | Ada wins\n",
            "Round 65: Ada (28) - 9♦ | Alan (24) - 6♠ | Ada wins\n",
            "Round 66: Ada (29) - 9♣ | Alan (23) - 8♥ | Ada wins\n",
            "Round 67: Ada (30) - A♥ | Alan (22) - 3♦ | Alan wins\n",
            "Round 68: Ada (29) - K♥ | Alan (23) - 5♥ | Ada wins\n",
            "Round 69: Ada (30) - 5♣ | Alan (22) - 3♣ | Ada wins\n",
            "Round 70: Ada (31) - 7♣ | Alan (21) - 8♠ | Alan wins\n",
            "Round 71: Ada (30) - 4♣ | Alan (22) - 2♦ | Ada wins\n",
            "Round 72: Ada (31) - J♥ | Alan (21) - 9♥ | Ada wins\n",
            "Round 73: Ada (32) - Q♦ | Alan (20) - 4♠ | Ada wins\n",
            "Round 74: Ada (33) - 6♥ | Alan (19) - 5♠ | Ada wins\n",
            "Round 75: Ada (34) - 8♣ | Alan (18) - 3♥ | Ada wins\n",
            "Round 76: Ada (35) - 3♠ | Alan (17) - 8♦ | Alan wins\n",
            "Round 77: Ada (34) - K♣ | Alan (18) - 2♣ | Ada wins\n",
            "Round 78: Ada (35) - 9♠ | Alan (17) - Q♣ | Alan wins\n",
            "Round 79: Ada (34) - 7♥ | Alan (18) - 4♥ | Ada wins\n",
            "Round 80: Ada (35) - 2♥ | Alan (17) - 6♣ | Alan wins\n",
            "Round 81: Ada (34) - 10♥ | Alan (18) - A♠ | Ada wins\n",
            "Round 82: Ada (35) - 6♦ | Alan (17) - 10♦ | Alan wins\n",
            "Round 83: Ada (34) - Q♠ | Alan (18) - 7♠ | Ada wins\n",
            "Round 84: Ada (35) - 10♣ | Alan (17) - J♦ | Alan wins\n",
            "Round 85: Ada (34) - 5♦ | Alan (18) - A♦ | Ada wins\n",
            "Round 86: Ada (35) - A♣ | Alan (17) - Q♥ | Alan wins\n",
            "Round 87: Ada (34) - K♠ | Alan (18) - 10♠ | Ada wins\n",
            "Round 88: Ada (35) - 7♦ | Alan (17) - J♣ | Alan wins\n",
            "Round 89: Ada (34) - 4♦ | Alan (18) - A♥ | Ada wins\n",
            "Round 90: Ada (35) - 2♠ | Alan (17) - 3♦ | Alan wins\n",
            "Round 91: Ada (34) - K♦ | Alan (18) - 7♣ | Ada wins\n",
            "Round 92: Ada (35) - J♠ | Alan (17) - 8♠ | Ada wins\n",
            "Round 93: Ada (36) - 9♦ | Alan (16) - 3♠ | Ada wins\n",
            "Round 94: Ada (37) - 6♠ | Alan (15) - 8♦ | Alan wins\n",
            "Round 95: Ada (36) - 9♣ | Alan (16) - 9♠ | War!\n",
            "Ada's war card: 9♥\n",
            "Alan's war card: Q♥\n",
            "Alan wins the war!\n",
            "Round 96: Ada (26) - Q♦ | Alan (26) - 7♦ | Ada wins\n",
            "Round 97: Ada (27) - 4♠ | Alan (25) - J♣ | Alan wins\n",
            "Round 98: Ada (26) - 6♥ | Alan (26) - 2♠ | Ada wins\n",
            "Round 99: Ada (27) - 5♠ | Alan (25) - 3♦ | Ada wins\n",
            "Round 100: Ada (28) - 8♣ | Alan (24) - 6♠ | Ada wins\n",
            "Round 101: Ada (29) - 3♥ | Alan (23) - 8♦ | Alan wins\n",
            "Round 102: Ada (28) - K♣ | Alan (24) - 9♣ | Ada wins\n",
            "Round 103: Ada (29) - 2♣ | Alan (23) - 9♠ | Alan wins\n",
            "Round 104: Ada (28) - 7♥ | Alan (24) - 8♥ | Alan wins\n",
            "Round 105: Ada (27) - 4♥ | Alan (25) - Q♣ | Alan wins\n",
            "Round 106: Ada (26) - 10♥ | Alan (26) - K♥ | Alan wins\n",
            "Round 107: Ada (25) - A♠ | Alan (27) - 2♥ | Alan wins\n",
            "Round 108: Ada (24) - Q♠ | Alan (28) - 5♥ | Ada wins\n",
            "Round 109: Ada (25) - 7♠ | Alan (27) - 6♣ | Ada wins\n",
            "Round 110: Ada (26) - 5♦ | Alan (26) - 5♣ | War!\n",
            "Ada's war card: 8♠\n",
            "Alan's war card: A♣\n",
            "Ada wins the war!\n",
            "Round 111: Ada (36) - 9♦ | Alan (16) - 9♥ | War!\n",
            "Ada's war card: 6♠\n",
            "Alan's war card: 8♥\n",
            "Alan wins the war!\n",
            "Round 112: Ada (26) - K♣ | Alan (26) - 4♥ | Ada wins\n",
            "Round 113: Ada (27) - 9♣ | Alan (25) - Q♣ | Alan wins\n",
            "Round 114: Ada (26) - Q♠ | Alan (26) - 10♥ | Ada wins\n",
            "Round 115: Ada (27) - 5♥ | Alan (25) - K♥ | Alan wins\n",
            "Round 116: Ada (26) - 7♠ | Alan (26) - A♠ | Ada wins\n",
            "Round 117: Ada (27) - 6♣ | Alan (25) - 2♥ | Ada wins\n",
            "Round 118: Ada (28) - 5♦ | Alan (24) - 9♦ | Alan wins\n",
            "Round 119: Ada (27) - 5♣ | Alan (25) - 9♥ | Alan wins\n",
            "Round 120: Ada (26) - A♦ | Alan (26) - 3♠ | Alan wins\n",
            "Round 121: Ada (25) - 6♦ | Alan (27) - Q♥ | Alan wins\n",
            "Round 122: Ada (24) - K♠ | Alan (28) - Q♦ | Ada wins\n",
            "Round 123: Ada (25) - 3♣ | Alan (27) - 4♠ | Alan wins\n",
            "Round 124: Ada (24) - 10♠ | Alan (28) - 7♦ | Ada wins\n",
            "Round 125: Ada (25) - 10♦ | Alan (27) - J♣ | Alan wins\n",
            "Round 126: Ada (24) - 4♦ | Alan (28) - 6♥ | Alan wins\n",
            "Round 127: Ada (23) - 4♣ | Alan (29) - 3♥ | Ada wins\n",
            "Round 128: Ada (24) - A♥ | Alan (28) - 2♠ | Alan wins\n",
            "Round 129: Ada (23) - 10♣ | Alan (29) - 8♦ | Ada wins\n",
            "Round 130: Ada (24) - K♦ | Alan (28) - 5♠ | Ada wins\n",
            "Round 131: Ada (25) - 2♦ | Alan (27) - 2♣ | War!\n",
            "Ada's war card: Q♠\n",
            "Alan's war card: 5♥\n",
            "Ada wins the war!\n",
            "Round 132: Ada (35) - 10♥ | Alan (17) - K♥ | Alan wins\n",
            "Round 133: Ada (34) - 7♠ | Alan (18) - 5♦ | Ada wins\n",
            "Round 134: Ada (35) - A♠ | Alan (17) - 9♦ | Alan wins\n",
            "Round 135: Ada (34) - 6♣ | Alan (18) - 5♣ | Ada wins\n",
            "Round 136: Ada (35) - 2♥ | Alan (17) - 9♥ | Alan wins\n",
            "Round 137: Ada (34) - K♠ | Alan (18) - A♦ | Ada wins\n",
            "Round 138: Ada (35) - Q♦ | Alan (17) - 3♠ | Ada wins\n",
            "Round 139: Ada (36) - 10♠ | Alan (16) - 6♦ | Ada wins\n",
            "Round 140: Ada (37) - 7♦ | Alan (15) - Q♥ | Alan wins\n",
            "Round 141: Ada (36) - 4♣ | Alan (16) - 3♣ | Ada wins\n",
            "Round 142: Ada (37) - 3♥ | Alan (15) - 4♠ | Alan wins\n",
            "Round 143: Ada (36) - 10♣ | Alan (16) - 10♦ | War!\n",
            "Ada's war card: 9♠\n",
            "Alan's war card: 9♦\n",
            "Another war!\n",
            "Game over. The winner is: Ada\n"
          ]
        }
      ]
    }
  ]
}