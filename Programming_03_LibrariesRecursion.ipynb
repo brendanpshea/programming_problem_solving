{
  "nbformat": 4,
  "nbformat_minor": 0,
  "metadata": {
    "colab": {
      "provenance": [],
      "authorship_tag": "ABX9TyNo1r5l8gdCh71Hwt1AqZLq",
      "include_colab_link": true
    },
    "kernelspec": {
      "name": "python3",
      "display_name": "Python 3"
    },
    "language_info": {
      "name": "python"
    }
  },
  "cells": [
    {
      "cell_type": "markdown",
      "metadata": {
        "id": "view-in-github",
        "colab_type": "text"
      },
      "source": [
        "<a href=\"https://colab.research.google.com/github/brendanpshea/programming_problem_solving/blob/main/Programming_03_LibrariesRecursion.ipynb\" target=\"_parent\"><img src=\"https://colab.research.google.com/assets/colab-badge.svg\" alt=\"Open In Colab\"/></a>"
      ]
    },
    {
      "cell_type": "markdown",
      "source": [
        "# Further Into Functions: Libraries and Recursion\n",
        "### Brendan Shea, PhD\n",
        "\n",
        "This chapter delves into the more complex aspects of Python functions. Our goal is to go beyond the basics, providing a deeper understanding of how functions work in Python and how they can be used effectively.\n",
        "\n",
        "We start by exploring the concept of libraries in Python. Libraries are collections of pre-written code that we can use to perform a variety of tasks without needing to write the code from scratch. We'll learn how to import and use key libraries like Turtle, Math, and Random.\n",
        "\n",
        "A significant part of this chapter is dedicated to recursive functions. These are functions that call themselves as part of their execution. We'll examine how they work, compare them to iterative functions, and discuss when it's appropriate to use them.\n",
        "\n",
        "The chapter also introduces the concept of the stack. This is an essential part of how functions operate, especially recursive ones. Understanding the stack will help us grasp why and how a stack overflow error occurs.\n",
        "\n",
        "Finally, we'll bring all these concepts together with a practical example. This will demonstrate how to integrate multiple libraries in a single Python program, using functions to create something greater than the sum of its parts.\n",
        "\n",
        "By the end of this chapter, you should have a solid grasp of Python functions, both in theory and in practice, and be better equipped to use them in your programming projects.\n",
        "\n",
        "\n"
      ],
      "metadata": {
        "id": "bw6NdqiNZ9vS"
      }
    },
    {
      "cell_type": "markdown",
      "source": [
        "## What is Function (Review)?\n",
        "A Python **function** is a structured set of instructions designed to perform a specific task. At its core, a function encapsulates code for easy reuse and clarity. In Python, we create a function using the `def` keyword, followed by a unique function name and a set of parentheses which can contain parameters. These parameters act as inputs that the function can use.\n",
        "\n",
        "For instance, consider a function named add_turtle_ages, designed to add the ages of two turtles:"
      ],
      "metadata": {
        "id": "yh4z71TbbHba"
      }
    },
    {
      "cell_type": "code",
      "source": [
        "def add_turtle_ages(age_of_leo, age_of_raph):\n",
        "    return age_of_leo + age_of_raph\n",
        "\n",
        "# Calling the function\n",
        "add_turtle_ages(17, 18)"
      ],
      "metadata": {
        "colab": {
          "base_uri": "https://localhost:8080/"
        },
        "id": "MKA6c9cAbOgu",
        "outputId": "445e33f0-ce24-46dc-987c-acc172cdd68f"
      },
      "execution_count": 2,
      "outputs": [
        {
          "output_type": "execute_result",
          "data": {
            "text/plain": [
              "35"
            ]
          },
          "metadata": {},
          "execution_count": 2
        }
      ]
    },
    {
      "cell_type": "markdown",
      "source": [
        "Here, `age_of_leo` and `age_of_raph` are parameters. When this function is called with two numbers, it returns their sum, representing the combined ages of the turtles.\n",
        "\n",
        "Functions can also embody more elaborate behavior. For example, a function that calculates a Ninja Turtle's power level based on age and belt ranks could look like this:"
      ],
      "metadata": {
        "id": "UhzdmQr7baxw"
      }
    },
    {
      "cell_type": "code",
      "source": [
        "def turtle_power_level(age, belt_ranks):\n",
        "    return age * belt_ranks\n",
        "\n",
        "# Call the function\n",
        "turtle_power_level(19, 3)"
      ],
      "metadata": {
        "colab": {
          "base_uri": "https://localhost:8080/"
        },
        "id": "TdMrOJhpbr6_",
        "outputId": "e7fa27f8-930f-4347-e38e-185eb9143265"
      },
      "execution_count": 3,
      "outputs": [
        {
          "output_type": "execute_result",
          "data": {
            "text/plain": [
              "57"
            ]
          },
          "metadata": {},
          "execution_count": 3
        }
      ]
    },
    {
      "cell_type": "markdown",
      "source": [
        "In this function, we multiply the age of the turtle by their belt ranks to estimate their power level. The function takes two arguments: the turtle's age and the number of belt ranks they have achieved.\n",
        "\n",
        "Another interesting aspect of Python functions is their ability to be **recursive**, meaning they can call themselves. An example of this is a function simulating a turtle race, where each recursive call represents a step taken by a turtle:"
      ],
      "metadata": {
        "id": "WAM9VWU9ba2Q"
      }
    },
    {
      "cell_type": "code",
      "source": [
        "def turtle_race(steps_remaining):\n",
        "    if steps_remaining == 0:\n",
        "        return \"Finish!\"\n",
        "    else:\n",
        "        print(\"Step Remaining: \", steps_remaining)\n",
        "        return turtle_race(steps_remaining - 1)\n",
        "\n",
        "turtle_race(7)"
      ],
      "metadata": {
        "colab": {
          "base_uri": "https://localhost:8080/",
          "height": 157
        },
        "id": "B-BbAod1b9xc",
        "outputId": "15662b45-8c7f-46e9-cebe-963e46e1a850"
      },
      "execution_count": 5,
      "outputs": [
        {
          "output_type": "stream",
          "name": "stdout",
          "text": [
            "Step Remaining:  7\n",
            "Step Remaining:  6\n",
            "Step Remaining:  5\n",
            "Step Remaining:  4\n",
            "Step Remaining:  3\n",
            "Step Remaining:  2\n",
            "Step Remaining:  1\n"
          ]
        },
        {
          "output_type": "execute_result",
          "data": {
            "text/plain": [
              "'Finish!'"
            ],
            "application/vnd.google.colaboratory.intrinsic+json": {
              "type": "string"
            }
          },
          "metadata": {},
          "execution_count": 5
        }
      ]
    },
    {
      "cell_type": "markdown",
      "source": [
        "This function continues to call itself, reducing the steps_remaining by one each time, until it reaches zero. Later in this chapter, we'll talk about recursive functions in much more details.\n",
        "\n",
        "Lastly, functions can have **default parameter values**, providing more flexibility. For example, a greeting function for the Ninja Turtles might include a default message:"
      ],
      "metadata": {
        "id": "vHVxcvqVcLW6"
      }
    },
    {
      "cell_type": "code",
      "source": [
        "def greet_turtle(name, message=\"Hello\"):\n",
        "    print(f\"{message}, {name}!\")\n",
        "\n",
        "greet_turtle(\"Michaelangelo\", \"Cowabunga\")\n",
        "greet_turtle(\"Leonardo\")"
      ],
      "metadata": {
        "colab": {
          "base_uri": "https://localhost:8080/"
        },
        "id": "zFFGY74ccW4o",
        "outputId": "0eedce9f-a0f9-4a7b-cd87-ad87273cb35f"
      },
      "execution_count": 8,
      "outputs": [
        {
          "output_type": "stream",
          "name": "stdout",
          "text": [
            "Cowabunga, Michaelangelo!\n",
            "Hello, Leonardo!\n"
          ]
        }
      ]
    },
    {
      "cell_type": "markdown",
      "source": [
        "With this function, if no message is specified, it defaults to \"Hello\". Calling `greet_turtle(\"Leonardo\")` would output \"Hello, Leonardo!\", but you could also customize the message: `greet_turtle(\"Michelangelo\", \"Cowabunga\")` would output \"Cowabunga, Michelangelo!\".\n",
        "\n",
        "Python functions are versatile tools for organizing code into logical, reusable blocks. They can range from simple operations, like adding numbers, to complex recursive processes, and are fundamental to efficient programming in Python"
      ],
      "metadata": {
        "id": "FYLmTXKacj7_"
      }
    }
  ]
}