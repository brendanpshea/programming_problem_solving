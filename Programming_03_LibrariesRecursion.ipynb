{
  "nbformat": 4,
  "nbformat_minor": 0,
  "metadata": {
    "colab": {
      "provenance": [],
      "authorship_tag": "ABX9TyNz6cPzKPBJRXeEp5QyEi1+",
      "include_colab_link": true
    },
    "kernelspec": {
      "name": "python3",
      "display_name": "Python 3"
    },
    "language_info": {
      "name": "python"
    }
  },
  "cells": [
    {
      "cell_type": "markdown",
      "metadata": {
        "id": "view-in-github",
        "colab_type": "text"
      },
      "source": [
        "<a href=\"https://colab.research.google.com/github/brendanpshea/programming_problem_solving/blob/main/Programming_03_LibrariesRecursion.ipynb\" target=\"_parent\"><img src=\"https://colab.research.google.com/assets/colab-badge.svg\" alt=\"Open In Colab\"/></a>"
      ]
    },
    {
      "cell_type": "markdown",
      "source": [
        "# Further Into Functions: Libraries and Recursion\n",
        "### Brendan Shea, PhD\n",
        "\n",
        "This chapter delves into the more complex aspects of Python functions. Our goal is to go beyond the basics, providing a deeper understanding of how functions work in Python and how they can be used effectively.\n",
        "\n",
        "We start by exploring the concept of libraries in Python. Libraries are collections of pre-written code that we can use to perform a variety of tasks without needing to write the code from scratch. We'll learn how to import and use key libraries like Turtle, Math, and Random.\n",
        "\n",
        "A significant part of this chapter is dedicated to recursive functions. These are functions that call themselves as part of their execution. We'll examine how they work, compare them to iterative functions, and discuss when it's appropriate to use them.\n",
        "\n",
        "The chapter also introduces the concept of the stack. This is an essential part of how functions operate, especially recursive ones. Understanding the stack will help us grasp why and how a stack overflow error occurs.\n",
        "\n",
        "Finally, we'll bring all these concepts together with a practical example. This will demonstrate how to integrate multiple libraries in a single Python program, using functions to create something greater than the sum of its parts.\n",
        "\n",
        "By the end of this chapter, you should have a solid grasp of Python functions, both in theory and in practice, and be better equipped to use them in your programming projects.\n",
        "\n",
        "\n"
      ],
      "metadata": {
        "id": "bw6NdqiNZ9vS"
      }
    },
    {
      "cell_type": "markdown",
      "source": [
        "## What is Function (Review)?\n",
        "A Python **function** is a structured set of instructions designed to perform a specific task. At its core, a function encapsulates code for easy reuse and clarity. In Python, we create a function using the `def` keyword, followed by a unique function name and a set of parentheses which can contain parameters. These parameters act as inputs that the function can use.\n",
        "\n",
        "For instance, consider a function named add_turtle_ages, designed to add the ages of two turtles:"
      ],
      "metadata": {
        "id": "yh4z71TbbHba"
      }
    },
    {
      "cell_type": "code",
      "source": [
        "def add_turtle_ages(age_of_leo, age_of_raph):\n",
        "    return age_of_leo + age_of_raph\n",
        "\n",
        "# Calling the function\n",
        "add_turtle_ages(17, 18)"
      ],
      "metadata": {
        "colab": {
          "base_uri": "https://localhost:8080/"
        },
        "id": "MKA6c9cAbOgu",
        "outputId": "569720d6-ac1e-43a1-b984-7587eac30e90"
      },
      "execution_count": 1,
      "outputs": [
        {
          "output_type": "execute_result",
          "data": {
            "text/plain": [
              "35"
            ]
          },
          "metadata": {},
          "execution_count": 1
        }
      ]
    },
    {
      "cell_type": "markdown",
      "source": [
        "Here, `age_of_leo` and `age_of_raph` are parameters. When this function is called with two numbers, it returns their sum, representing the combined ages of the turtles.\n",
        "\n",
        "Functions can also embody more elaborate behavior. For example, a function that calculates a Ninja Turtle's power level based on age and belt ranks could look like this:"
      ],
      "metadata": {
        "id": "UhzdmQr7baxw"
      }
    },
    {
      "cell_type": "code",
      "source": [
        "def turtle_power_level(age, belt_ranks):\n",
        "    return age * belt_ranks\n",
        "\n",
        "# Call the function\n",
        "turtle_power_level(19, 3)"
      ],
      "metadata": {
        "colab": {
          "base_uri": "https://localhost:8080/"
        },
        "id": "TdMrOJhpbr6_",
        "outputId": "700758a2-e9c0-455c-8375-2f36a18d5376"
      },
      "execution_count": 2,
      "outputs": [
        {
          "output_type": "execute_result",
          "data": {
            "text/plain": [
              "57"
            ]
          },
          "metadata": {},
          "execution_count": 2
        }
      ]
    },
    {
      "cell_type": "markdown",
      "source": [
        "In this function, we multiply the age of the turtle by their belt ranks to estimate their power level. The function takes two arguments: the turtle's age and the number of belt ranks they have achieved.\n",
        "\n",
        "Another interesting aspect of Python functions is their ability to be **recursive**, meaning they can call themselves. An example of this is a function simulating a turtle race, where each recursive call represents a step taken by a turtle:"
      ],
      "metadata": {
        "id": "WAM9VWU9ba2Q"
      }
    },
    {
      "cell_type": "code",
      "source": [
        "def turtle_race(steps_remaining):\n",
        "    if steps_remaining == 0:\n",
        "        return \"Finish!\"\n",
        "    else:\n",
        "        print(\"Step Remaining: \", steps_remaining)\n",
        "        return turtle_race(steps_remaining - 1)\n",
        "\n",
        "turtle_race(7)"
      ],
      "metadata": {
        "colab": {
          "base_uri": "https://localhost:8080/",
          "height": 157
        },
        "id": "B-BbAod1b9xc",
        "outputId": "5ae70d5c-cdc2-4f0a-dc3e-bab49a957fe2"
      },
      "execution_count": 3,
      "outputs": [
        {
          "output_type": "stream",
          "name": "stdout",
          "text": [
            "Step Remaining:  7\n",
            "Step Remaining:  6\n",
            "Step Remaining:  5\n",
            "Step Remaining:  4\n",
            "Step Remaining:  3\n",
            "Step Remaining:  2\n",
            "Step Remaining:  1\n"
          ]
        },
        {
          "output_type": "execute_result",
          "data": {
            "text/plain": [
              "'Finish!'"
            ],
            "application/vnd.google.colaboratory.intrinsic+json": {
              "type": "string"
            }
          },
          "metadata": {},
          "execution_count": 3
        }
      ]
    },
    {
      "cell_type": "markdown",
      "source": [
        "This function continues to call itself, reducing the steps_remaining by one each time, until it reaches zero. Later in this chapter, we'll talk about recursive functions in much more details.\n",
        "\n",
        "Lastly, functions can have **default parameter values**, providing more flexibility. For example, a greeting function for the Ninja Turtles might include a default message:"
      ],
      "metadata": {
        "id": "vHVxcvqVcLW6"
      }
    },
    {
      "cell_type": "code",
      "source": [
        "def greet_turtle(name, message=\"Hello\"):\n",
        "    print(f\"{message}, {name}!\")\n",
        "\n",
        "greet_turtle(\"Michaelangelo\", \"Cowabunga\")\n",
        "greet_turtle(\"Leonardo\")"
      ],
      "metadata": {
        "colab": {
          "base_uri": "https://localhost:8080/"
        },
        "id": "zFFGY74ccW4o",
        "outputId": "10de0f18-40b7-4c15-b64c-8f98b1c4805a"
      },
      "execution_count": 4,
      "outputs": [
        {
          "output_type": "stream",
          "name": "stdout",
          "text": [
            "Cowabunga, Michaelangelo!\n",
            "Hello, Leonardo!\n"
          ]
        }
      ]
    },
    {
      "cell_type": "markdown",
      "source": [
        "With this function, if no message is specified, it defaults to \"Hello\". Calling `greet_turtle(\"Leonardo\")` would output \"Hello, Leonardo!\", but you could also customize the message: `greet_turtle(\"Michelangelo\", \"Cowabunga\")` would output \"Cowabunga, Michelangelo!\".\n",
        "\n",
        "Python functions are versatile tools for organizing code into logical, reusable blocks. They can range from simple operations, like adding numbers, to complex recursive processes, and are fundamental to efficient programming in Python"
      ],
      "metadata": {
        "id": "FYLmTXKacj7_"
      }
    },
    {
      "cell_type": "markdown",
      "source": [
        "## The Turtle Library\n",
        "Python **libraries** are collections of pre-written code that offer additional functionality to Python's standard capabilities. They are akin to toolkits, providing a range of specialized tools or functions that can be used to perform various tasks without the need to write code from scratch.\n",
        "\n",
        "To utilize a library in Python, one must first import it into their program. This is done using the `import` statement. Once imported, the functions, classes, and variables defined in the library become accessible to the programmer.\n",
        "\n",
        "Our first example Python library is the **Turtle Graphics library**, which  is used for drawing shapes and patterns. It is an excellent tool for introducing programming concepts, as it provides a visual output for code.\n",
        "\n",
        "To use Turtle in a Colab environment, the library is imported slightly differently due to Colab's online nature. Typically, one would start by installing the library (if it's not a part of the standard Python library), and then importing it. For instance:"
      ],
      "metadata": {
        "id": "kDVpf2lAeQwR"
      }
    },
    {
      "cell_type": "code",
      "source": [
        "!pip install ColabTurtle\n",
        "import ColabTurtle.Turtle as turtle"
      ],
      "metadata": {
        "colab": {
          "base_uri": "https://localhost:8080/"
        },
        "id": "NqPw-PqyeqgW",
        "outputId": "4e2d94d3-df3a-4d6e-d77d-11d1f3cbc12f"
      },
      "execution_count": 11,
      "outputs": [
        {
          "output_type": "stream",
          "name": "stdout",
          "text": [
            "Requirement already satisfied: ColabTurtle in /usr/local/lib/python3.10/dist-packages (2.1.0)\n"
          ]
        }
      ]
    },
    {
      "cell_type": "markdown",
      "source": [
        "A lot happens in these two lines of code.\n",
        "1. `!pip install ColabTurtle`. This line instructs the Python environment to install a library called \"ColabTurtle\". Libraries are collections of pre-written code that provide additional functionalities for your programs.\n",
        "    -   `!` signals that this command is intended for the Colab environment (which runs **Ubuntu Linux**), not Python itself.\n",
        "    -   `pip` is a **package installer** for Python, used to manage libraries.\n",
        "    -   `install` is the command to install a new library.\n",
        "    -   `ColabTurtle` is the specific library being installed.\n",
        "\n",
        "2. `import ColabTurtle.Turtle as turtle`. This line imports a specific **module** (part of a library) called \"Turtle\" from the ColabTurtle library and gives it a shorter alias for convenience.\n",
        "    -   `import` is the keyword used to import modules in Python.\n",
        "    -   `ColabTurtle.Turtle` specifies the module's location within the library.\n",
        "    -   `as turtle` creates an **alias**, allowing you to use `turtle` instead of the longer name throughout your code.\n",
        "\n",
        "Once imported, you can start using the library's functions. For example, to initialize the drawing canvas and draw a simple square, the code would look like this:"
      ],
      "metadata": {
        "id": "RVqJYjOiq9lP"
      }
    },
    {
      "cell_type": "code",
      "source": [
        "turtle.initializeTurtle()\n",
        "for i in range(4):\n",
        "    turtle.forward(100)\n",
        "    turtle.right(90)"
      ],
      "metadata": {
        "colab": {
          "base_uri": "https://localhost:8080/",
          "height": 521
        },
        "id": "gNCB4i_AsBNL",
        "outputId": "82ba8411-3ad6-46f7-8da6-9bdff9903dd5"
      },
      "execution_count": 6,
      "outputs": [
        {
          "output_type": "display_data",
          "data": {
            "text/plain": [
              "<IPython.core.display.HTML object>"
            ],
            "text/html": [
              "\n",
              "      <svg width=\"800\" height=\"500\">\n",
              "        <rect width=\"100%\" height=\"100%\" fill=\"black\"/>\n",
              "        <line x1=\"400\" y1=\"250\" x2=\"400.0\" y2=\"150.0\" stroke-linecap=\"round\" style=\"stroke:white;stroke-width:4\"/><line x1=\"400.0\" y1=\"150.0\" x2=\"500.0\" y2=\"150.0\" stroke-linecap=\"round\" style=\"stroke:white;stroke-width:4\"/><line x1=\"500.0\" y1=\"150.0\" x2=\"500.0\" y2=\"250.0\" stroke-linecap=\"round\" style=\"stroke:white;stroke-width:4\"/><line x1=\"500.0\" y1=\"250.0\" x2=\"400.0\" y2=\"250.0\" stroke-linecap=\"round\" style=\"stroke:white;stroke-width:4\"/>\n",
              "        <g visibility=visible transform=\"rotate(360,400.0,250.0) translate(382.0, 232.0)\">\n",
              "<path style=\" stroke:none;fill-rule:evenodd;fill:white;fill-opacity:1;\" d=\"M 18.214844 0.632812 C 16.109375 1.800781 15.011719 4.074219 15.074219 7.132812 L 15.085938 7.652344 L 14.785156 7.496094 C 13.476562 6.824219 11.957031 6.671875 10.40625 7.066406 C 8.46875 7.550781 6.515625 9.15625 4.394531 11.992188 C 3.0625 13.777344 2.679688 14.636719 3.042969 15.027344 L 3.15625 15.152344 L 3.519531 15.152344 C 4.238281 15.152344 4.828125 14.886719 8.1875 13.039062 C 9.386719 12.378906 10.371094 11.839844 10.378906 11.839844 C 10.386719 11.839844 10.355469 11.929688 10.304688 12.035156 C 9.832031 13.09375 9.257812 14.820312 8.96875 16.078125 C 7.914062 20.652344 8.617188 24.53125 11.070312 27.660156 C 11.351562 28.015625 11.363281 27.914062 10.972656 28.382812 C 8.925781 30.84375 7.945312 33.28125 8.238281 35.1875 C 8.289062 35.527344 8.28125 35.523438 8.917969 35.523438 C 10.941406 35.523438 13.074219 34.207031 15.136719 31.6875 C 15.359375 31.417969 15.328125 31.425781 15.5625 31.574219 C 16.292969 32.042969 18.023438 32.964844 18.175781 32.964844 C 18.335938 32.964844 19.941406 32.210938 20.828125 31.71875 C 20.996094 31.625 21.136719 31.554688 21.136719 31.558594 C 21.203125 31.664062 21.898438 32.414062 22.222656 32.730469 C 23.835938 34.300781 25.5625 35.132812 27.582031 35.300781 C 27.90625 35.328125 27.9375 35.308594 28.007812 34.984375 C 28.382812 33.242188 27.625 30.925781 25.863281 28.425781 L 25.542969 27.96875 L 25.699219 27.785156 C 28.945312 23.960938 29.132812 18.699219 26.257812 11.96875 L 26.207031 11.84375 L 27.945312 12.703125 C 31.53125 14.476562 32.316406 14.800781 33.03125 14.800781 C 33.976562 14.800781 33.78125 13.9375 32.472656 12.292969 C 28.519531 7.355469 25.394531 5.925781 21.921875 7.472656 L 21.558594 7.636719 L 21.578125 7.542969 C 21.699219 6.992188 21.761719 5.742188 21.699219 5.164062 C 21.496094 3.296875 20.664062 1.964844 19.003906 0.855469 C 18.480469 0.503906 18.457031 0.5 18.214844 0.632812\"/>\n",
              "</g>\n",
              "      </svg>\n",
              "    "
            ]
          },
          "metadata": {}
        }
      ]
    },
    {
      "cell_type": "markdown",
      "source": [
        "Here, `initializeTurtle()` prepares the drawing canvas, `forward(100)` moves the turtle forward by 100 pixels, and `right(90)` turns the turtle to the right by 90 degrees. Repeating these last two commands four times draws a square."
      ],
      "metadata": {
        "id": "-XPsW4LZsRjZ"
      }
    },
    {
      "cell_type": "markdown",
      "source": [
        "## Basic Turtle Commands\n",
        "Some of the basic turtle commands are as follows:\n",
        "\n",
        "| Turtle Command | Description |\n",
        "| --- | --- |\n",
        "| `forward(distance)` | Moves the turtle forward by the specified distance. |\n",
        "| `backward(distance)` | Moves the turtle backward by the specified distance. |\n",
        "| `right(angle)` | Turns the turtle to the right by the given angle in degrees. |\n",
        "| `left(angle)` | Turns the turtle to the left by the given angle in degrees. |\n",
        "| `penup()` | Lifts the pen so that moving the turtle doesn't draw a line. |\n",
        "| `pendown()` | Lowers the pen so that moving the turtle draws a line. |\n",
        "| `goto(x, y)` | Moves the turtle to a specified position without changing its orientation. |\n",
        "| `circle(radius)` | Draws a circle with the given radius around the turtle's current position. |\n",
        "| `speed(speed)` | Sets the speed of the turtle's movement (1=slowest, 10=fastest). |\n",
        "| `color(color_name)` | Changes the color of the turtle's pen. |\n",
        "| `begin_fill()` | Starts filling the shape drawn by the turtle. |\n",
        "| `end_fill()` | Ends filling the shape drawn by the turtle. |\n",
        "| `hideturtle()` | Makes the turtle invisible. |\n",
        "| `showturtle()` | Makes the turtle visible. |\n",
        "| `clear()` | Clears the drawing, leaving the turtle at its current position and heading. |\n",
        "| `reset()` | Clears the drawing and resets the turtle to its initial position and orientation. |\n",
        "\n"
      ],
      "metadata": {
        "id": "zihPxt5wsRm3"
      }
    },
    {
      "cell_type": "markdown",
      "source": [
        "## More Python Functions\n",
        "As we've learned, functions in Python are self-contained blocks of code that perform a specific task. They are defined using the `def` keyword, followed by a function name and parentheses that can include parameters. Functions can return values using the `return` statement, but they don't have to. In the context of Turtle graphics, functions are incredibly useful for organizing code and reusing it to perform repetitive tasks or complex operations.\n",
        "\n",
        "### Basic Function Definition\n",
        "\n",
        "A simple function in Turtle might be one that draws a square. Here, `draw_square` is a function that takes one parameter, `size`, and uses it to draw a square. You can call this function with different sizes, and it will draw squares of varying sizes."
      ],
      "metadata": {
        "id": "dhRWz5n7eWb8"
      }
    },
    {
      "cell_type": "code",
      "source": [
        "def draw_square(size):\n",
        "  \"\"\" draws a square \"\"\"\n",
        "  for _ in range(4):\n",
        "    turtle.forward(size)\n",
        "    turtle.right(90)\n",
        "\n",
        "# example fumction call\n",
        "turtle.initializeTurtle()\n",
        "draw_square(100)"
      ],
      "metadata": {
        "colab": {
          "base_uri": "https://localhost:8080/",
          "height": 521
        },
        "id": "T3yJ32-K4xpX",
        "outputId": "182f693d-b835-4d25-e53b-edc426ac68ff"
      },
      "execution_count": 7,
      "outputs": [
        {
          "output_type": "display_data",
          "data": {
            "text/plain": [
              "<IPython.core.display.HTML object>"
            ],
            "text/html": [
              "\n",
              "      <svg width=\"800\" height=\"500\">\n",
              "        <rect width=\"100%\" height=\"100%\" fill=\"black\"/>\n",
              "        <line x1=\"400\" y1=\"250\" x2=\"400.0\" y2=\"150.0\" stroke-linecap=\"round\" style=\"stroke:white;stroke-width:4\"/><line x1=\"400.0\" y1=\"150.0\" x2=\"500.0\" y2=\"150.0\" stroke-linecap=\"round\" style=\"stroke:white;stroke-width:4\"/><line x1=\"500.0\" y1=\"150.0\" x2=\"500.0\" y2=\"250.0\" stroke-linecap=\"round\" style=\"stroke:white;stroke-width:4\"/><line x1=\"500.0\" y1=\"250.0\" x2=\"400.0\" y2=\"250.0\" stroke-linecap=\"round\" style=\"stroke:white;stroke-width:4\"/>\n",
              "        <g visibility=visible transform=\"rotate(360,400.0,250.0) translate(382.0, 232.0)\">\n",
              "<path style=\" stroke:none;fill-rule:evenodd;fill:white;fill-opacity:1;\" d=\"M 18.214844 0.632812 C 16.109375 1.800781 15.011719 4.074219 15.074219 7.132812 L 15.085938 7.652344 L 14.785156 7.496094 C 13.476562 6.824219 11.957031 6.671875 10.40625 7.066406 C 8.46875 7.550781 6.515625 9.15625 4.394531 11.992188 C 3.0625 13.777344 2.679688 14.636719 3.042969 15.027344 L 3.15625 15.152344 L 3.519531 15.152344 C 4.238281 15.152344 4.828125 14.886719 8.1875 13.039062 C 9.386719 12.378906 10.371094 11.839844 10.378906 11.839844 C 10.386719 11.839844 10.355469 11.929688 10.304688 12.035156 C 9.832031 13.09375 9.257812 14.820312 8.96875 16.078125 C 7.914062 20.652344 8.617188 24.53125 11.070312 27.660156 C 11.351562 28.015625 11.363281 27.914062 10.972656 28.382812 C 8.925781 30.84375 7.945312 33.28125 8.238281 35.1875 C 8.289062 35.527344 8.28125 35.523438 8.917969 35.523438 C 10.941406 35.523438 13.074219 34.207031 15.136719 31.6875 C 15.359375 31.417969 15.328125 31.425781 15.5625 31.574219 C 16.292969 32.042969 18.023438 32.964844 18.175781 32.964844 C 18.335938 32.964844 19.941406 32.210938 20.828125 31.71875 C 20.996094 31.625 21.136719 31.554688 21.136719 31.558594 C 21.203125 31.664062 21.898438 32.414062 22.222656 32.730469 C 23.835938 34.300781 25.5625 35.132812 27.582031 35.300781 C 27.90625 35.328125 27.9375 35.308594 28.007812 34.984375 C 28.382812 33.242188 27.625 30.925781 25.863281 28.425781 L 25.542969 27.96875 L 25.699219 27.785156 C 28.945312 23.960938 29.132812 18.699219 26.257812 11.96875 L 26.207031 11.84375 L 27.945312 12.703125 C 31.53125 14.476562 32.316406 14.800781 33.03125 14.800781 C 33.976562 14.800781 33.78125 13.9375 32.472656 12.292969 C 28.519531 7.355469 25.394531 5.925781 21.921875 7.472656 L 21.558594 7.636719 L 21.578125 7.542969 C 21.699219 6.992188 21.761719 5.742188 21.699219 5.164062 C 21.496094 3.296875 20.664062 1.964844 19.003906 0.855469 C 18.480469 0.503906 18.457031 0.5 18.214844 0.632812\"/>\n",
              "</g>\n",
              "      </svg>\n",
              "    "
            ]
          },
          "metadata": {}
        }
      ]
    },
    {
      "cell_type": "markdown",
      "source": [
        "### Functions with Multiple Parameters\n",
        "Functions can have more than one parameter. For instance, a function to draw a rectangle, which requires two parameters for different lengths, as well as a parameter for color:"
      ],
      "metadata": {
        "id": "zbSDyyiJ5e3A"
      }
    },
    {
      "cell_type": "code",
      "source": [
        "def draw_rectangle(length, width, color):\n",
        "  \"\"\"draws a rectangle\"\"\"\n",
        "  turtle.color(color)\n",
        "  for _ in range(2):\n",
        "      turtle.forward(length)\n",
        "      turtle.right(90)\n",
        "      turtle.forward(width)\n",
        "      turtle.right(90)\n",
        "\n",
        "turtle.initializeTurtle()\n",
        "draw_rectangle(length = 50, width = 100, color = \"blue\")"
      ],
      "metadata": {
        "colab": {
          "base_uri": "https://localhost:8080/",
          "height": 521
        },
        "id": "Y6iaLBli5mRV",
        "outputId": "c761afd8-7ff1-4a60-a540-e2026b53dac8"
      },
      "execution_count": 8,
      "outputs": [
        {
          "output_type": "display_data",
          "data": {
            "text/plain": [
              "<IPython.core.display.HTML object>"
            ],
            "text/html": [
              "\n",
              "      <svg width=\"800\" height=\"500\">\n",
              "        <rect width=\"100%\" height=\"100%\" fill=\"black\"/>\n",
              "        <line x1=\"400\" y1=\"250\" x2=\"400.0\" y2=\"200.0\" stroke-linecap=\"round\" style=\"stroke:blue;stroke-width:4\"/><line x1=\"400.0\" y1=\"200.0\" x2=\"500.0\" y2=\"200.0\" stroke-linecap=\"round\" style=\"stroke:blue;stroke-width:4\"/><line x1=\"500.0\" y1=\"200.0\" x2=\"500.0\" y2=\"250.0\" stroke-linecap=\"round\" style=\"stroke:blue;stroke-width:4\"/><line x1=\"500.0\" y1=\"250.0\" x2=\"400.0\" y2=\"250.0\" stroke-linecap=\"round\" style=\"stroke:blue;stroke-width:4\"/>\n",
              "        <g visibility=visible transform=\"rotate(360,400.0,250.0) translate(382.0, 232.0)\">\n",
              "<path style=\" stroke:none;fill-rule:evenodd;fill:blue;fill-opacity:1;\" d=\"M 18.214844 0.632812 C 16.109375 1.800781 15.011719 4.074219 15.074219 7.132812 L 15.085938 7.652344 L 14.785156 7.496094 C 13.476562 6.824219 11.957031 6.671875 10.40625 7.066406 C 8.46875 7.550781 6.515625 9.15625 4.394531 11.992188 C 3.0625 13.777344 2.679688 14.636719 3.042969 15.027344 L 3.15625 15.152344 L 3.519531 15.152344 C 4.238281 15.152344 4.828125 14.886719 8.1875 13.039062 C 9.386719 12.378906 10.371094 11.839844 10.378906 11.839844 C 10.386719 11.839844 10.355469 11.929688 10.304688 12.035156 C 9.832031 13.09375 9.257812 14.820312 8.96875 16.078125 C 7.914062 20.652344 8.617188 24.53125 11.070312 27.660156 C 11.351562 28.015625 11.363281 27.914062 10.972656 28.382812 C 8.925781 30.84375 7.945312 33.28125 8.238281 35.1875 C 8.289062 35.527344 8.28125 35.523438 8.917969 35.523438 C 10.941406 35.523438 13.074219 34.207031 15.136719 31.6875 C 15.359375 31.417969 15.328125 31.425781 15.5625 31.574219 C 16.292969 32.042969 18.023438 32.964844 18.175781 32.964844 C 18.335938 32.964844 19.941406 32.210938 20.828125 31.71875 C 20.996094 31.625 21.136719 31.554688 21.136719 31.558594 C 21.203125 31.664062 21.898438 32.414062 22.222656 32.730469 C 23.835938 34.300781 25.5625 35.132812 27.582031 35.300781 C 27.90625 35.328125 27.9375 35.308594 28.007812 34.984375 C 28.382812 33.242188 27.625 30.925781 25.863281 28.425781 L 25.542969 27.96875 L 25.699219 27.785156 C 28.945312 23.960938 29.132812 18.699219 26.257812 11.96875 L 26.207031 11.84375 L 27.945312 12.703125 C 31.53125 14.476562 32.316406 14.800781 33.03125 14.800781 C 33.976562 14.800781 33.78125 13.9375 32.472656 12.292969 C 28.519531 7.355469 25.394531 5.925781 21.921875 7.472656 L 21.558594 7.636719 L 21.578125 7.542969 C 21.699219 6.992188 21.761719 5.742188 21.699219 5.164062 C 21.496094 3.296875 20.664062 1.964844 19.003906 0.855469 C 18.480469 0.503906 18.457031 0.5 18.214844 0.632812\"/>\n",
              "</g>\n",
              "      </svg>\n",
              "    "
            ]
          },
          "metadata": {}
        }
      ]
    },
    {
      "cell_type": "markdown",
      "source": [
        "## Example: Writing More Complex Functions\n",
        "We can combine functions to create more complex programs."
      ],
      "metadata": {
        "id": "vPa2qqiE7qsX"
      }
    },
    {
      "cell_type": "code",
      "source": [
        "import turtle\n",
        "\n",
        "def draw_circle(radius, color):\n",
        "    turtle.color(color)\n",
        "    turtle.circle(radius)\n",
        "\n",
        "def draw_star(size, color):\n",
        "    turtle.color(color)\n",
        "    for _ in range(5):\n",
        "        turtle.forward(size)\n",
        "        turtle.right(144)\n",
        "\n",
        "def draw_shape_based_on_input():\n",
        "    while True:\n",
        "        shape = input(\"Enter the shape to draw (circle, star) or 'exit' to quit: \").lower()\n",
        "        if shape in ['circle', 'star']:\n",
        "            color = input(f\"Enter the color for the {shape}: \")\n",
        "\n",
        "            if shape == 'circle':\n",
        "                radius = int(input(\"Enter the radius of the circle: \"))\n",
        "                turtle.initializeTurtle()\n",
        "                draw_circle(radius, color)\n",
        "                break\n",
        "\n",
        "            elif shape == 'star':\n",
        "                size = int(input(\"Enter the size of the star: \"))\n",
        "                turtle.initializeTurtle()\n",
        "                draw_star(size, color)\n",
        "                break\n",
        "\n",
        "        elif shape == 'exit':\n",
        "            print(\"Exiting the program.\")\n",
        "            break\n",
        "\n",
        "        else:\n",
        "            print(\"Invalid input. Please enter 'circle', 'star', or 'exit'.\")\n",
        "\n",
        "# Call the function\n",
        "draw_shape_based_on_input()\n"
      ],
      "metadata": {
        "id": "kv76VYSy6tGz"
      },
      "execution_count": null,
      "outputs": []
    },
    {
      "cell_type": "markdown",
      "source": [
        "In this script:\n",
        "\n",
        "-   The `draw_shape_based_on_input` function starts an infinite loop that repeatedly asks the user to input the shape they want to draw.\n",
        "-   The user can choose to draw a star or circle, and must provide the necessary dimensions for the chosen shape.\n",
        "-   Once a shape and size are entered, the corresponding function (`draw_circle`, or `draw_star`) is called to draw the shape.\n",
        "-   If the user inputs 'exit', the loop breaks, and the program stops.\n",
        "-   If an invalid input is entered, the function prompts the user again."
      ],
      "metadata": {
        "id": "HAkb_Nzb95jK"
      }
    },
    {
      "cell_type": "markdown",
      "source": [
        "## Recursive Functions\n",
        "A **recursive function** is a unique type of function in programming that calls itself as a part of its execution process. This method of solving a problem by breaking it down into smaller versions of the same problem is a fundamental concept in computer science, particularly useful in scenarios where a task can be divided into similar subtasks.\n",
        "\n",
        "The defining characteristic of recursive functions is their structure, which typically involves two main components: the base case and the recursive case.\n",
        "- The **base case** is a condition that stops the recursion, preventing an infinite loop of function calls. It usually represents the simplest form of the problem, one that can be solved directly without further recursion.\n",
        "- The **recursive case** is where the function makes a call to itself, each time with a slightly modified set of parameters, progressively approaching the base case.\n",
        "\n",
        "A straightforward example of a recursive function in Turtle graphics could be a function that draws a spiral. A spiral can be thought of as a series of lines, each slightly longer than the last, turning by a constant angle. Here's how a recursive function to draw a spiral might look:"
      ],
      "metadata": {
        "id": "CrwOdUZs_HAA"
      }
    },
    {
      "cell_type": "code",
      "source": [
        "def draw_spiral(length, angle):\n",
        "    if length <= 100:\n",
        "      # This is the \"recursive case\"\n",
        "      turtle.forward(length)\n",
        "      turtle.right(angle)\n",
        "      draw_spiral(length + 5, angle)  # Recursive call\n",
        "    else:\n",
        "      # Base case that is executed when length is greater than 100\n",
        "      turtle.hideturtle()\n",
        "\n",
        "turtle.initializeTurtle()\n",
        "draw_spiral(10, 50)\n"
      ],
      "metadata": {
        "colab": {
          "base_uri": "https://localhost:8080/",
          "height": 521
        },
        "id": "Gz0EtBqx_cLS",
        "outputId": "cd990f10-31ec-4711-c921-8aee0053a256"
      },
      "execution_count": 22,
      "outputs": [
        {
          "output_type": "display_data",
          "data": {
            "text/plain": [
              "<IPython.core.display.HTML object>"
            ],
            "text/html": [
              "\n",
              "      <svg width=\"800\" height=\"500\">\n",
              "        <rect width=\"100%\" height=\"100%\" fill=\"black\"/>\n",
              "        <line x1=\"400\" y1=\"250\" x2=\"400.0\" y2=\"240.0\" stroke-linecap=\"round\" style=\"stroke:white;stroke-width:4\"/><line x1=\"400.0\" y1=\"240.0\" x2=\"411.491\" y2=\"230.358\" stroke-linecap=\"round\" style=\"stroke:white;stroke-width:4\"/><line x1=\"411.491\" y1=\"230.358\" x2=\"431.187\" y2=\"233.831\" stroke-linecap=\"round\" style=\"stroke:white;stroke-width:4\"/><line x1=\"431.187\" y1=\"233.831\" x2=\"443.687\" y2=\"255.482\" stroke-linecap=\"round\" style=\"stroke:white;stroke-width:4\"/><line x1=\"443.687\" y1=\"255.482\" x2=\"433.426\" y2=\"283.673\" stroke-linecap=\"round\" style=\"stroke:white;stroke-width:4\"/><line x1=\"433.426\" y1=\"283.673\" x2=\"400.537\" y2=\"295.644\" stroke-linecap=\"round\" style=\"stroke:white;stroke-width:4\"/><line x1=\"400.537\" y1=\"295.644\" x2=\"365.896\" y2=\"275.644\" stroke-linecap=\"round\" style=\"stroke:white;stroke-width:4\"/><line x1=\"365.896\" y1=\"275.644\" x2=\"358.082\" y2=\"231.328\" stroke-linecap=\"round\" style=\"stroke:white;stroke-width:4\"/><line x1=\"358.082\" y1=\"231.328\" x2=\"390.221\" y2=\"193.026\" stroke-linecap=\"round\" style=\"stroke:white;stroke-width:4\"/><line x1=\"390.221\" y1=\"193.026\" x2=\"445.221\" y2=\"193.026\" stroke-linecap=\"round\" style=\"stroke:white;stroke-width:4\"/><line x1=\"445.221\" y1=\"193.026\" x2=\"483.788\" y2=\"238.989\" stroke-linecap=\"round\" style=\"stroke:white;stroke-width:4\"/><line x1=\"483.788\" y1=\"238.989\" x2=\"472.501\" y2=\"303.002\" stroke-linecap=\"round\" style=\"stroke:white;stroke-width:4\"/><line x1=\"472.501\" y1=\"303.002\" x2=\"411.879\" y2=\"338.002\" stroke-linecap=\"round\" style=\"stroke:white;stroke-width:4\"/><line x1=\"411.879\" y1=\"338.002\" x2=\"341.402\" y2=\"312.35\" stroke-linecap=\"round\" style=\"stroke:white;stroke-width:4\"/><line x1=\"341.402\" y1=\"312.35\" x2=\"314.04\" y2=\"237.175\" stroke-linecap=\"round\" style=\"stroke:white;stroke-width:4\"/><line x1=\"314.04\" y1=\"237.175\" x2=\"356.54\" y2=\"163.563\" stroke-linecap=\"round\" style=\"stroke:white;stroke-width:4\"/><line x1=\"356.54\" y1=\"163.563\" x2=\"445.173\" y2=\"147.935\" stroke-linecap=\"round\" style=\"stroke:white;stroke-width:4\"/><line x1=\"445.173\" y1=\"147.935\" x2=\"517.947\" y2=\"209.0\" stroke-linecap=\"round\" style=\"stroke:white;stroke-width:4\"/><line x1=\"517.947\" y1=\"209.0\" x2=\"517.947\" y2=\"309.0\" stroke-linecap=\"round\" style=\"stroke:white;stroke-width:4\"/>\n",
              "        <g visibility=hidden transform=\"rotate(230,517.947,309.0) translate(499.947, 291.0)\">\n",
              "<path style=\" stroke:none;fill-rule:evenodd;fill:white;fill-opacity:1;\" d=\"M 18.214844 0.632812 C 16.109375 1.800781 15.011719 4.074219 15.074219 7.132812 L 15.085938 7.652344 L 14.785156 7.496094 C 13.476562 6.824219 11.957031 6.671875 10.40625 7.066406 C 8.46875 7.550781 6.515625 9.15625 4.394531 11.992188 C 3.0625 13.777344 2.679688 14.636719 3.042969 15.027344 L 3.15625 15.152344 L 3.519531 15.152344 C 4.238281 15.152344 4.828125 14.886719 8.1875 13.039062 C 9.386719 12.378906 10.371094 11.839844 10.378906 11.839844 C 10.386719 11.839844 10.355469 11.929688 10.304688 12.035156 C 9.832031 13.09375 9.257812 14.820312 8.96875 16.078125 C 7.914062 20.652344 8.617188 24.53125 11.070312 27.660156 C 11.351562 28.015625 11.363281 27.914062 10.972656 28.382812 C 8.925781 30.84375 7.945312 33.28125 8.238281 35.1875 C 8.289062 35.527344 8.28125 35.523438 8.917969 35.523438 C 10.941406 35.523438 13.074219 34.207031 15.136719 31.6875 C 15.359375 31.417969 15.328125 31.425781 15.5625 31.574219 C 16.292969 32.042969 18.023438 32.964844 18.175781 32.964844 C 18.335938 32.964844 19.941406 32.210938 20.828125 31.71875 C 20.996094 31.625 21.136719 31.554688 21.136719 31.558594 C 21.203125 31.664062 21.898438 32.414062 22.222656 32.730469 C 23.835938 34.300781 25.5625 35.132812 27.582031 35.300781 C 27.90625 35.328125 27.9375 35.308594 28.007812 34.984375 C 28.382812 33.242188 27.625 30.925781 25.863281 28.425781 L 25.542969 27.96875 L 25.699219 27.785156 C 28.945312 23.960938 29.132812 18.699219 26.257812 11.96875 L 26.207031 11.84375 L 27.945312 12.703125 C 31.53125 14.476562 32.316406 14.800781 33.03125 14.800781 C 33.976562 14.800781 33.78125 13.9375 32.472656 12.292969 C 28.519531 7.355469 25.394531 5.925781 21.921875 7.472656 L 21.558594 7.636719 L 21.578125 7.542969 C 21.699219 6.992188 21.761719 5.742188 21.699219 5.164062 C 21.496094 3.296875 20.664062 1.964844 19.003906 0.855469 C 18.480469 0.503906 18.457031 0.5 18.214844 0.632812\"/>\n",
              "</g>\n",
              "      </svg>\n",
              "    "
            ]
          },
          "metadata": {}
        }
      ]
    },
    {
      "cell_type": "markdown",
      "source": [
        "In this function, `draw_spiral` takes two parameters: `length` and `angle`. The base case here is `length <= 100`, which ensures that the function stops calling itself once the length of the line exceeds 100. The recursive case involves calling `draw_spiral` within itself, but with the `length` parameter increased by 10. Each time the function calls itself, it draws a line and turns right by the given `angle`, creating a spiral pattern.\n",
        "\n",
        "### How It Works\n",
        "\n",
        "When you call `draw_spiral(10, 45)`, for instance, the function executes as follows:\n",
        "\n",
        "1.  It checks if `length` (10) is less than or equal to 100.\n",
        "2.  Since the condition is true, it moves the turtle forward by 10 units and turns right by 45 degrees.\n",
        "3.  Then it calls itself with `length` increased by 10 (`length + 10`), so in the next iteration, `length` is 20.\n",
        "4.  This process repeats, with the line length increasing each time, until `length` exceeds 100, at which point the recursion stops at the \"base case\" (which hides the turtle).\n",
        "\n",
        "This example demonstrates the essential elements of a recursive function: a simple base case that provides a clear stopping point for the recursion and a recursive case where the function calls itself with slightly altered parameters."
      ],
      "metadata": {
        "id": "dpAu8n1422Hw"
      }
    },
    {
      "cell_type": "markdown",
      "source": [
        "![image.png](data:image/png;base64,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)"
      ],
      "metadata": {
        "id": "b04nBSLt5yb4"
      }
    },
    {
      "cell_type": "code",
      "source": [],
      "metadata": {
        "id": "b1YXTdEV_FSE"
      },
      "execution_count": null,
      "outputs": []
    }
  ]
}