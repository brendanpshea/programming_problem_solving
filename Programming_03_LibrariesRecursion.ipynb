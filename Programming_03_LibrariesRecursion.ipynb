{
  "nbformat": 4,
  "nbformat_minor": 0,
  "metadata": {
    "colab": {
      "provenance": [],
      "authorship_tag": "ABX9TyMOzfwLWR7m0RT2dCJHbsWk",
      "include_colab_link": true
    },
    "kernelspec": {
      "name": "python3",
      "display_name": "Python 3"
    },
    "language_info": {
      "name": "python"
    }
  },
  "cells": [
    {
      "cell_type": "markdown",
      "metadata": {
        "id": "view-in-github",
        "colab_type": "text"
      },
      "source": [
        "<a href=\"https://colab.research.google.com/github/brendanpshea/programming_problem_solving/blob/main/Programming_03_LibrariesRecursion.ipynb\" target=\"_parent\"><img src=\"https://colab.research.google.com/assets/colab-badge.svg\" alt=\"Open In Colab\"/></a>"
      ]
    },
    {
      "cell_type": "markdown",
      "source": [
        "# Further Into Functions: Libraries and Recursion\n",
        "### Brendan Shea, PhD\n",
        "\n",
        "This chapter delves into the more complex aspects of Python functions. Our goal is to go beyond the basics, providing a deeper understanding of how functions work in Python and how they can be used effectively.\n",
        "\n",
        "We start by exploring the concept of libraries in Python. Libraries are collections of pre-written code that we can use to perform a variety of tasks without needing to write the code from scratch. We'll learn how to import and use key libraries like Turtle, Math, and Random.\n",
        "\n",
        "A significant part of this chapter is dedicated to recursive functions. These are functions that call themselves as part of their execution. We'll examine how they work, compare them to iterative functions, and discuss when it's appropriate to use them.\n",
        "\n",
        "The chapter also introduces the concept of the stack. This is an essential part of how functions operate, especially recursive ones. Understanding the stack will help us grasp why and how a stack overflow error occurs.\n",
        "\n",
        "Finally, we'll bring all these concepts together with a practical example. This will demonstrate how to integrate multiple libraries in a single Python program, using functions to create something greater than the sum of its parts.\n",
        "\n",
        "By the end of this chapter, you should have a solid grasp of Python functions, both in theory and in practice, and be better equipped to use them in your programming projects.\n",
        "\n",
        "\n"
      ],
      "metadata": {
        "id": "bw6NdqiNZ9vS"
      }
    },
    {
      "cell_type": "markdown",
      "source": [
        "## What is Function (Review)?\n",
        "A Python **function** is a structured set of instructions designed to perform a specific task. At its core, a function encapsulates code for easy reuse and clarity. In Python, we create a function using the `def` keyword, followed by a unique function name and a set of parentheses which can contain parameters. These parameters act as inputs that the function can use.\n",
        "\n",
        "For instance, consider a function named add_turtle_ages, designed to add the ages of two turtles:"
      ],
      "metadata": {
        "id": "yh4z71TbbHba"
      }
    },
    {
      "cell_type": "code",
      "source": [
        "def add_turtle_ages(age_of_leo, age_of_raph):\n",
        "    return age_of_leo + age_of_raph\n",
        "\n",
        "# Calling the function\n",
        "add_turtle_ages(17, 18)"
      ],
      "metadata": {
        "colab": {
          "base_uri": "https://localhost:8080/"
        },
        "id": "MKA6c9cAbOgu",
        "outputId": "445e33f0-ce24-46dc-987c-acc172cdd68f"
      },
      "execution_count": 2,
      "outputs": [
        {
          "output_type": "execute_result",
          "data": {
            "text/plain": [
              "35"
            ]
          },
          "metadata": {},
          "execution_count": 2
        }
      ]
    },
    {
      "cell_type": "markdown",
      "source": [
        "Here, `age_of_leo` and `age_of_raph` are parameters. When this function is called with two numbers, it returns their sum, representing the combined ages of the turtles.\n",
        "\n",
        "Functions can also embody more elaborate behavior. For example, a function that calculates a Ninja Turtle's power level based on age and belt ranks could look like this:"
      ],
      "metadata": {
        "id": "UhzdmQr7baxw"
      }
    },
    {
      "cell_type": "code",
      "source": [
        "def turtle_power_level(age, belt_ranks):\n",
        "    return age * belt_ranks\n",
        "\n",
        "# Call the function\n",
        "turtle_power_level(19, 3)"
      ],
      "metadata": {
        "colab": {
          "base_uri": "https://localhost:8080/"
        },
        "id": "TdMrOJhpbr6_",
        "outputId": "e7fa27f8-930f-4347-e38e-185eb9143265"
      },
      "execution_count": 3,
      "outputs": [
        {
          "output_type": "execute_result",
          "data": {
            "text/plain": [
              "57"
            ]
          },
          "metadata": {},
          "execution_count": 3
        }
      ]
    },
    {
      "cell_type": "markdown",
      "source": [
        "In this function, we multiply the age of the turtle by their belt ranks to estimate their power level. The function takes two arguments: the turtle's age and the number of belt ranks they have achieved.\n",
        "\n",
        "Another interesting aspect of Python functions is their ability to be **recursive**, meaning they can call themselves. An example of this is a function simulating a turtle race, where each recursive call represents a step taken by a turtle:"
      ],
      "metadata": {
        "id": "WAM9VWU9ba2Q"
      }
    },
    {
      "cell_type": "code",
      "source": [
        "def turtle_race(steps_remaining):\n",
        "    if steps_remaining == 0:\n",
        "        return \"Finish!\"\n",
        "    else:\n",
        "        print(\"Step Remaining: \", steps_remaining)\n",
        "        return turtle_race(steps_remaining - 1)\n",
        "\n",
        "turtle_race(7)"
      ],
      "metadata": {
        "colab": {
          "base_uri": "https://localhost:8080/",
          "height": 157
        },
        "id": "B-BbAod1b9xc",
        "outputId": "15662b45-8c7f-46e9-cebe-963e46e1a850"
      },
      "execution_count": 5,
      "outputs": [
        {
          "output_type": "stream",
          "name": "stdout",
          "text": [
            "Step Remaining:  7\n",
            "Step Remaining:  6\n",
            "Step Remaining:  5\n",
            "Step Remaining:  4\n",
            "Step Remaining:  3\n",
            "Step Remaining:  2\n",
            "Step Remaining:  1\n"
          ]
        },
        {
          "output_type": "execute_result",
          "data": {
            "text/plain": [
              "'Finish!'"
            ],
            "application/vnd.google.colaboratory.intrinsic+json": {
              "type": "string"
            }
          },
          "metadata": {},
          "execution_count": 5
        }
      ]
    },
    {
      "cell_type": "markdown",
      "source": [
        "This function continues to call itself, reducing the steps_remaining by one each time, until it reaches zero. Later in this chapter, we'll talk about recursive functions in much more details.\n",
        "\n",
        "Lastly, functions can have **default parameter values**, providing more flexibility. For example, a greeting function for the Ninja Turtles might include a default message:"
      ],
      "metadata": {
        "id": "vHVxcvqVcLW6"
      }
    },
    {
      "cell_type": "code",
      "source": [
        "def greet_turtle(name, message=\"Hello\"):\n",
        "    print(f\"{message}, {name}!\")\n",
        "\n",
        "greet_turtle(\"Michaelangelo\", \"Cowabunga\")\n",
        "greet_turtle(\"Leonardo\")"
      ],
      "metadata": {
        "colab": {
          "base_uri": "https://localhost:8080/"
        },
        "id": "zFFGY74ccW4o",
        "outputId": "0eedce9f-a0f9-4a7b-cd87-ad87273cb35f"
      },
      "execution_count": 8,
      "outputs": [
        {
          "output_type": "stream",
          "name": "stdout",
          "text": [
            "Cowabunga, Michaelangelo!\n",
            "Hello, Leonardo!\n"
          ]
        }
      ]
    },
    {
      "cell_type": "markdown",
      "source": [
        "With this function, if no message is specified, it defaults to \"Hello\". Calling `greet_turtle(\"Leonardo\")` would output \"Hello, Leonardo!\", but you could also customize the message: `greet_turtle(\"Michelangelo\", \"Cowabunga\")` would output \"Cowabunga, Michelangelo!\".\n",
        "\n",
        "Python functions are versatile tools for organizing code into logical, reusable blocks. They can range from simple operations, like adding numbers, to complex recursive processes, and are fundamental to efficient programming in Python"
      ],
      "metadata": {
        "id": "FYLmTXKacj7_"
      }
    },
    {
      "cell_type": "markdown",
      "source": [
        "## The Turtle Library\n",
        "Python **libraries** are collections of pre-written code that offer additional functionality to Python's standard capabilities. They are akin to toolkits, providing a range of specialized tools or functions that can be used to perform various tasks without the need to write code from scratch.\n",
        "\n",
        "To utilize a library in Python, one must first import it into their program. This is done using the `import` statement. Once imported, the functions, classes, and variables defined in the library become accessible to the programmer.\n",
        "\n",
        "Our first example Python library is the **Turtle Graphics library**, which  is used for drawing shapes and patterns. It is an excellent tool for introducing programming concepts, as it provides a visual output for code.\n",
        "\n",
        "To use Turtle in a Colab environment, the library is imported slightly differently due to Colab's online nature. Typically, one would start by installing the library (if it's not a part of the standard Python library), and then importing it. For instance:"
      ],
      "metadata": {
        "id": "kDVpf2lAeQwR"
      }
    },
    {
      "cell_type": "code",
      "source": [
        "!pip install ColabTurtle\n",
        "import ColabTurtle.Turtle as turtle"
      ],
      "metadata": {
        "colab": {
          "base_uri": "https://localhost:8080/"
        },
        "id": "NqPw-PqyeqgW",
        "outputId": "0707e4c3-55f2-4777-cee7-7e352cbdf5ce"
      },
      "execution_count": 9,
      "outputs": [
        {
          "output_type": "stream",
          "name": "stdout",
          "text": [
            "Collecting ColabTurtle\n",
            "  Downloading ColabTurtle-2.1.0.tar.gz (6.8 kB)\n",
            "  Preparing metadata (setup.py) ... \u001b[?25l\u001b[?25hdone\n",
            "Building wheels for collected packages: ColabTurtle\n",
            "  Building wheel for ColabTurtle (setup.py) ... \u001b[?25l\u001b[?25hdone\n",
            "  Created wheel for ColabTurtle: filename=ColabTurtle-2.1.0-py3-none-any.whl size=7641 sha256=4c7e25f6d51aec09b32d9b10d0c1af93f8dc6302d4b405e2bdee0dbc9b16e038\n",
            "  Stored in directory: /root/.cache/pip/wheels/5b/86/e8/54f5c8c853606e3a3060bb2e60363cbed632374a12e0f33ffc\n",
            "Successfully built ColabTurtle\n",
            "Installing collected packages: ColabTurtle\n",
            "Successfully installed ColabTurtle-2.1.0\n"
          ]
        }
      ]
    },
    {
      "cell_type": "markdown",
      "source": [
        "A lot happens in these two lines of code.\n",
        "1. `!pip install ColabTurtle`. This line instructs the Python environment to install a library called \"ColabTurtle\". Libraries are collections of pre-written code that provide additional functionalities for your programs.\n",
        "    -   `!` signals that this command is intended for the Colab environment (which runs **Ubuntu Linux**), not Python itself.\n",
        "    -   `pip` is a **package installer** for Python, used to manage libraries.\n",
        "    -   `install` is the command to install a new library.\n",
        "    -   `ColabTurtle` is the specific library being installed.\n",
        "\n",
        "2. `import ColabTurtle.Turtle as turtle`. This line imports a specific **module** (part of a library) called \"Turtle\" from the ColabTurtle library and gives it a shorter alias for convenience.\n",
        "    -   `import` is the keyword used to import modules in Python.\n",
        "    -   `ColabTurtle.Turtle` specifies the module's location within the library.\n",
        "    -   `as turtle` creates an **alias**, allowing you to use `turtle` instead of the longer name throughout your code.\n",
        "\n",
        "Once imported, you can start using the library's functions. For example, to initialize the drawing canvas and draw a simple square, the code would look like this:"
      ],
      "metadata": {
        "id": "RVqJYjOiq9lP"
      }
    },
    {
      "cell_type": "code",
      "source": [
        "turtle.initializeTurtle()\n",
        "for i in range(4):\n",
        "    turtle.forward(100)\n",
        "    turtle.right(90)"
      ],
      "metadata": {
        "colab": {
          "base_uri": "https://localhost:8080/",
          "height": 521
        },
        "id": "gNCB4i_AsBNL",
        "outputId": "ac823f3f-89a2-42c7-8679-55c531ebdb68"
      },
      "execution_count": 11,
      "outputs": [
        {
          "output_type": "display_data",
          "data": {
            "text/plain": [
              "<IPython.core.display.HTML object>"
            ],
            "text/html": [
              "\n",
              "      <svg width=\"800\" height=\"500\">\n",
              "        <rect width=\"100%\" height=\"100%\" fill=\"black\"/>\n",
              "        <line x1=\"400\" y1=\"250\" x2=\"400.0\" y2=\"150.0\" stroke-linecap=\"round\" style=\"stroke:white;stroke-width:4\"/><line x1=\"400.0\" y1=\"150.0\" x2=\"500.0\" y2=\"150.0\" stroke-linecap=\"round\" style=\"stroke:white;stroke-width:4\"/><line x1=\"500.0\" y1=\"150.0\" x2=\"500.0\" y2=\"250.0\" stroke-linecap=\"round\" style=\"stroke:white;stroke-width:4\"/><line x1=\"500.0\" y1=\"250.0\" x2=\"400.0\" y2=\"250.0\" stroke-linecap=\"round\" style=\"stroke:white;stroke-width:4\"/>\n",
              "        <g visibility=visible transform=\"rotate(360,400.0,250.0) translate(382.0, 232.0)\">\n",
              "<path style=\" stroke:none;fill-rule:evenodd;fill:white;fill-opacity:1;\" d=\"M 18.214844 0.632812 C 16.109375 1.800781 15.011719 4.074219 15.074219 7.132812 L 15.085938 7.652344 L 14.785156 7.496094 C 13.476562 6.824219 11.957031 6.671875 10.40625 7.066406 C 8.46875 7.550781 6.515625 9.15625 4.394531 11.992188 C 3.0625 13.777344 2.679688 14.636719 3.042969 15.027344 L 3.15625 15.152344 L 3.519531 15.152344 C 4.238281 15.152344 4.828125 14.886719 8.1875 13.039062 C 9.386719 12.378906 10.371094 11.839844 10.378906 11.839844 C 10.386719 11.839844 10.355469 11.929688 10.304688 12.035156 C 9.832031 13.09375 9.257812 14.820312 8.96875 16.078125 C 7.914062 20.652344 8.617188 24.53125 11.070312 27.660156 C 11.351562 28.015625 11.363281 27.914062 10.972656 28.382812 C 8.925781 30.84375 7.945312 33.28125 8.238281 35.1875 C 8.289062 35.527344 8.28125 35.523438 8.917969 35.523438 C 10.941406 35.523438 13.074219 34.207031 15.136719 31.6875 C 15.359375 31.417969 15.328125 31.425781 15.5625 31.574219 C 16.292969 32.042969 18.023438 32.964844 18.175781 32.964844 C 18.335938 32.964844 19.941406 32.210938 20.828125 31.71875 C 20.996094 31.625 21.136719 31.554688 21.136719 31.558594 C 21.203125 31.664062 21.898438 32.414062 22.222656 32.730469 C 23.835938 34.300781 25.5625 35.132812 27.582031 35.300781 C 27.90625 35.328125 27.9375 35.308594 28.007812 34.984375 C 28.382812 33.242188 27.625 30.925781 25.863281 28.425781 L 25.542969 27.96875 L 25.699219 27.785156 C 28.945312 23.960938 29.132812 18.699219 26.257812 11.96875 L 26.207031 11.84375 L 27.945312 12.703125 C 31.53125 14.476562 32.316406 14.800781 33.03125 14.800781 C 33.976562 14.800781 33.78125 13.9375 32.472656 12.292969 C 28.519531 7.355469 25.394531 5.925781 21.921875 7.472656 L 21.558594 7.636719 L 21.578125 7.542969 C 21.699219 6.992188 21.761719 5.742188 21.699219 5.164062 C 21.496094 3.296875 20.664062 1.964844 19.003906 0.855469 C 18.480469 0.503906 18.457031 0.5 18.214844 0.632812\"/>\n",
              "</g>\n",
              "      </svg>\n",
              "    "
            ]
          },
          "metadata": {}
        }
      ]
    },
    {
      "cell_type": "markdown",
      "source": [
        "Here, `initializeTurtle()` prepares the drawing canvas, `forward(100)` moves the turtle forward by 100 pixels, and `right(90)` turns the turtle to the right by 90 degrees. Repeating these last two commands four times draws a square."
      ],
      "metadata": {
        "id": "-XPsW4LZsRjZ"
      }
    },
    {
      "cell_type": "markdown",
      "source": [
        "## Basic Turtle Commands\n",
        "Some of the basic turtle commands are as follows:\n",
        "\n",
        "| Turtle Command | Description |\n",
        "| --- | --- |\n",
        "| `forward(distance)` | Moves the turtle forward by the specified distance. |\n",
        "| `backward(distance)` | Moves the turtle backward by the specified distance. |\n",
        "| `right(angle)` | Turns the turtle to the right by the given angle in degrees. |\n",
        "| `left(angle)` | Turns the turtle to the left by the given angle in degrees. |\n",
        "| `penup()` | Lifts the pen so that moving the turtle doesn't draw a line. |\n",
        "| `pendown()` | Lowers the pen so that moving the turtle draws a line. |\n",
        "| `goto(x, y)` | Moves the turtle to a specified position without changing its orientation. |\n",
        "| `circle(radius)` | Draws a circle with the given radius around the turtle's current position. |\n",
        "| `speed(speed)` | Sets the speed of the turtle's movement (1=slowest, 10=fastest). |\n",
        "| `color(color_name)` | Changes the color of the turtle's pen. |\n",
        "| `begin_fill()` | Starts filling the shape drawn by the turtle. |\n",
        "| `end_fill()` | Ends filling the shape drawn by the turtle. |\n",
        "| `hideturtle()` | Makes the turtle invisible. |\n",
        "| `showturtle()` | Makes the turtle visible. |\n",
        "| `clear()` | Clears the drawing, leaving the turtle at its current position and heading. |\n",
        "| `reset()` | Clears the drawing and resets the turtle to its initial position and orientation. |\n",
        "\n"
      ],
      "metadata": {
        "id": "zihPxt5wsRm3"
      }
    },
    {
      "cell_type": "markdown",
      "source": [
        "**"
      ],
      "metadata": {
        "id": "dhRWz5n7eWb8"
      }
    },
    {
      "cell_type": "code",
      "source": [],
      "metadata": {
        "id": "nETGv90cs3cS"
      },
      "execution_count": null,
      "outputs": []
    }
  ]
}