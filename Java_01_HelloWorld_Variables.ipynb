{
  "nbformat": 4,
  "nbformat_minor": 0,
  "metadata": {
    "colab": {
      "provenance": [],
      "authorship_tag": "ABX9TyMQK/sHMyf1fQqNAR0dvVxx",
      "include_colab_link": true
    },
    "kernelspec": {
      "name": "python3",
      "display_name": "Python 3"
    },
    "language_info": {
      "name": "python"
    }
  },
  "cells": [
    {
      "cell_type": "markdown",
      "metadata": {
        "id": "view-in-github",
        "colab_type": "text"
      },
      "source": [
        "<a href=\"https://colab.research.google.com/github/brendanpshea/programming_problem_solving/blob/main/Java_01_HelloWorld_Variables.ipynb\" target=\"_parent\"><img src=\"https://colab.research.google.com/assets/colab-badge.svg\" alt=\"Open In Colab\"/></a>"
      ]
    },
    {
      "cell_type": "markdown",
      "source": [
        "# Welcome to Java Programming! ☕\n",
        "### Brendan Shea, PhD\n",
        "\n",
        "Welcome to your first Java programming lesson! Today we're going to explore the basics of **Java programming** using examples from a coffee shop.\n",
        "\n",
        "#### By the end of this lesson, you'll be able to:\n",
        "- Write your first Java program that says \"Hello World\"\n",
        "- Understand what **variables** are and how to use them\n",
        "- Work with different **data types** like numbers and text\n",
        "- Perform basic **operations** with your data\n",
        "- Fix common beginner programming mistakes\n",
        "\n",
        "#### Why Java?\n",
        "Java is one of the most popular programming languages in the world! It's used to build everything from mobile apps to large business systems. Many coffee shops and restaurants use Java-based systems for their:\n",
        "- Point-of-sale (cash register) systems\n",
        "- Inventory management\n",
        "- Customer loyalty programs\n",
        "- Online ordering platforms\n",
        "\n",
        "#### Why a Coffee Shop Theme?\n",
        "Programming concepts can seem abstract at first. By using familiar coffee shop examples throughout this lesson, we'll make these concepts more concrete and easier to understand. Plus, who doesn't love coffee? ☕\n",
        "\n",
        "Let's get brewing with Java!"
      ],
      "metadata": {
        "id": "VNX7JigY4vao"
      }
    },
    {
      "cell_type": "markdown",
      "source": [
        "## What is Java? ☕\n",
        "\n",
        "### A Brief Introduction to Java\n",
        "\n",
        "**Java** is a **programming language** - a way for humans to give instructions to computers. Think of it like learning a new language to communicate, except instead of talking to people, you're talking to computers!\n",
        "\n",
        "#### Key Facts About Java:\n",
        "\n",
        "**Created in 1995** by Sun Microsystems (now owned by Oracle)\n",
        "- Java is about the same age as the first Starbucks outside of Seattle!\n",
        "\n",
        "**\"Write Once, Run Anywhere\"**\n",
        "- This is Java's famous motto\n",
        "- It means you can write a Java program on one type of computer (like a Mac) and it will run on other types of computers (like Windows or Linux) without changes\n",
        "- Just like how a coffee recipe works the same way whether you make it in New York or Tokyo!\n",
        "\n",
        "**Object-Oriented Programming Language**\n",
        "- Don't worry about what this means yet - we'll learn about it in future lessons\n",
        "- For now, just know that Java helps organize code in a way that makes sense to humans\n",
        "\n",
        "#### Why is Java So Popular?\n",
        "\n",
        "1. **Reliable** - Java programs are stable and don't crash easily\n",
        "2. **Secure** - Java has built-in security features\n",
        "3. **Fast** - Java programs run quickly\n",
        "4. **Everywhere** - Java runs on billions of devices worldwide\n",
        "\n",
        "Think of Java like a universal coffee brewing method that works reliably no matter what equipment you use!"
      ],
      "metadata": {
        "id": "XlDkZEv245wo"
      }
    },
    {
      "cell_type": "markdown",
      "source": [
        "## Java in the Real World 🌍\n",
        "\n",
        "### Where Do We Use Java?\n",
        "\n",
        "Java isn't just something you learn in school - it's everywhere around us! Let's look at some real-world examples, especially in businesses like coffee shops.\n",
        "\n",
        "#### Coffee Shop & Restaurant Systems\n",
        "\n",
        "**Point-of-Sale (POS) Systems**\n",
        "- The cash register systems at Starbucks, McDonald's, and local cafes\n",
        "- These handle orders, payments, and receipts\n",
        "- Written in Java because they need to be fast and reliable\n",
        "\n",
        "**Inventory Management**\n",
        "- Systems that track how many coffee beans, cups, and pastries are in stock\n",
        "- Automatically reorder supplies when they're running low\n",
        "- Java helps manage thousands of products across multiple locations\n",
        "\n",
        "**Mobile Apps**\n",
        "- Many coffee shop apps for ordering and loyalty programs\n",
        "- Android apps are built using Java (or Kotlin, a Java-family language)!\n",
        "\n",
        "#### Other Places You'll Find Java\n",
        "\n",
        "**Banking Systems**\n",
        "- Your bank's ATM software\n",
        "- Online banking websites\n",
        "- Credit card processing systems\n",
        "\n",
        "**Enterprise Applications**\n",
        "- Large company internal systems\n",
        "- Customer management databases\n",
        "- Email servers\n",
        "\n",
        "**Big Websites**\n",
        "- Netflix uses Java for their streaming service\n",
        "- LinkedIn's backend is built with Java\n",
        "- Amazon uses Java for many of their services\n",
        "\n",
        "#### The Bottom Line\n",
        "Java powers the technology behind businesses you interact with every day. When you order coffee through an app, pay with a card, or check your bank account online, there's a good chance Java is working behind the scenes to make it happen!"
      ],
      "metadata": {
        "id": "Pz1u6liH4-k7"
      }
    },
    {
      "cell_type": "markdown",
      "source": [
        "## Setting Up Our Coffee Shop Program 🔧\n",
        "\n",
        "In this course, we'll be using **Jupyter notebooks** to write and run our Java programs. This is different from using a traditional **IDE** (Integrated Development Environment) like Eclipse or IntelliJ, but it's perfect for learning!\n",
        "\n",
        "#### Our Three-Step Process\n",
        "\n",
        "Every time we write a Java program, we'll follow these three steps:\n",
        "\n",
        "1. **`%%writefile`** - Create our Java file\n",
        "2. **`javac`** - Compile our program (turn it into computer language)\n",
        "3. **`java`** - Run our program\n",
        "\n",
        "Think of it like making coffee:\n",
        "1. **Write the recipe** (our Java code)\n",
        "2. **Prepare the ingredients** (compile the code)\n",
        "3. **Brew the coffee** (run the program)\n",
        "\n",
        "#### Java File Naming Rules\n",
        "\n",
        "**File Names Must Match Class Names**\n",
        "- If our **class** is called `CoffeeShop`, our file must be named `CoffeeShop.java`\n",
        "- Java is **case-sensitive**, so `coffeeshop.java` would be wrong!\n",
        "- Always use `.java` as the file extension\n",
        "\n",
        "**Naming Conventions**\n",
        "- Class names start with a capital letter: `CoffeeShop`\n",
        "- If multiple words, capitalize each word: `CoffeeShopManager`\n",
        "- No spaces allowed in file names!\n",
        "\n",
        "#### What We'll Build Today\n",
        "\n",
        "We're going to create a simple coffee shop program that:\n",
        "- Welcomes customers\n",
        "- Stores information about coffee drinks and prices\n",
        "- Calculates order totals\n",
        "- Displays receipts\n",
        "\n",
        "Ready to write your first Java program? Let's go!"
      ],
      "metadata": {
        "id": "0EC121Up5JGA"
      }
    },
    {
      "cell_type": "markdown",
      "source": [
        "## Anatomy of a Java Program 🔍\n",
        "\n",
        "### The Basic Structure\n",
        "\n",
        "Every Java program has the same basic structure, just like how every coffee shop has certain essential parts (a counter, coffee machines, seating area). Let's break down the essential parts of a Java program:\n",
        "\n",
        "#### The Essential Components\n",
        "\n",
        "```java\n",
        "public class CoffeeShop // 1. Class Declaration {                    \n",
        "    public static void main(String[] args) {// 2. Main Method\n",
        "        System.out.println(\"Hello Coffee!\");  // 3. Statements\n",
        "    } // 4. Closing Braces\n",
        "}\n",
        "```\n",
        "\n",
        "#### 1. Class Declaration\n",
        "```java\n",
        "public class CoffeeShop {\n",
        "```\n",
        "- **`public`** - means other programs can use this class\n",
        "- **`class`** - tells Java we're creating a new class\n",
        "- **`CoffeeShop`** - the name of our class (must match the filename!)\n",
        "- **`{`** - opening brace that starts the class\n",
        "\n",
        "#### 2. Main Method\n",
        "```java\n",
        "public static void main(String[] args) {\n",
        "```\n",
        "- This is the **entry point** of our program\n",
        "- When you run a Java program, it starts here\n",
        "- Think of it as the \"Open for Business\" sign on your coffee shop\n",
        "- Every Java program that runs by itself needs a main method\n",
        "\n",
        "#### 3. Statements\n",
        "```java\n",
        "System.out.println(\"Hello Coffee!\");\n",
        "```\n",
        "- **Statements** are individual instructions to the computer\n",
        "- This one tells the computer to print text to the screen\n",
        "- Every statement ends with a **semicolon** (`;`) - this is like a period in English!\n",
        "\n",
        "#### 4. Closing Braces\n",
        "```java\n",
        "}\n",
        "```\n",
        "- Every opening brace `{` must have a matching closing brace `}`\n",
        "- They work in pairs to group code together\n",
        "- Like parentheses in math: what goes in must come out!\n",
        "\n",
        "Think of these braces like the walls of your coffee shop - they define where your business begins and ends!"
      ],
      "metadata": {
        "id": "rP5JNXKH5Qc-"
      }
    },
    {
      "cell_type": "markdown",
      "source": [
        "## Hello World - Coffee Shop Style ☕\n",
        "\n",
        "### Your First Java Program!\n",
        "\n",
        "The **\"Hello World\" program** is a programming tradition - it's usually the first program anyone writes in a new language. Let's make ours coffee-themed!\n",
        "\n",
        "#### Step 1: Write the File\n",
        "In Jupyter, we'll use the **`%%writefile`** command to create our Java file:"
      ],
      "metadata": {
        "id": "KqNpoE5Y52Sz"
      }
    },
    {
      "cell_type": "code",
      "source": [
        "%%writefile CoffeeShop.java\n",
        "public class CoffeeShop {\n",
        "    public static void main(String[] args) {\n",
        "        System.out.println(\"Welcome to Java Coffee Shop!\");\n",
        "    }\n",
        "}"
      ],
      "metadata": {
        "colab": {
          "base_uri": "https://localhost:8080/"
        },
        "id": "snlgG1816XrA",
        "outputId": "5ff56e43-1545-4164-fbd3-4674984004c5"
      },
      "execution_count": null,
      "outputs": [
        {
          "output_type": "stream",
          "name": "stdout",
          "text": [
            "Writing CoffeeShop.java\n"
          ]
        }
      ]
    },
    {
      "cell_type": "markdown",
      "source": [
        "\n",
        "\n",
        "#### Step 2: Compile the Program\n",
        "**Compiling** means translating our human-readable Java code into **bytecode** that the computer can understand:\n"
      ],
      "metadata": {
        "id": "T2MpzdE46LpH"
      }
    },
    {
      "cell_type": "code",
      "source": [
        "!javac CoffeeShop.java"
      ],
      "metadata": {
        "id": "eR5YN2ov6Hl5"
      },
      "execution_count": null,
      "outputs": []
    },
    {
      "cell_type": "markdown",
      "source": [
        "- **`javac`** is the Java compiler\n",
        "- If successful, this creates a file called `CoffeeShop.class`\n",
        "- If there are errors, the compiler will tell you what's wrong\n",
        "\n",
        "#### Step 3: Run the Program\n",
        "Now we can run our compiled program:"
      ],
      "metadata": {
        "id": "XeafIjzD6DDl"
      }
    },
    {
      "cell_type": "code",
      "source": [
        "!java CoffeeShop"
      ],
      "metadata": {
        "colab": {
          "base_uri": "https://localhost:8080/"
        },
        "id": "o0DK5nuc5-lj",
        "outputId": "abedb338-ed3d-4c17-8009-d8c92a005069"
      },
      "execution_count": null,
      "outputs": [
        {
          "output_type": "stream",
          "name": "stdout",
          "text": [
            "Welcome to Java Coffee Shop!\n"
          ]
        }
      ]
    },
    {
      "cell_type": "markdown",
      "source": [
        "\n",
        "- Notice we use `java` (not `javac`) and don't include `.java` or `.class`\n",
        "- If everything works, you should see: `Welcome to Java Coffee Shop!`\n",
        "\n",
        "#### Let's Break It Down\n",
        "\n",
        "**`System.out.println(\"Welcome to Java Coffee Shop!\");`**\n",
        "- **`System.out`** - refers to the computer's standard output (usually the screen)\n",
        "- **`println`** - means \"print line\" (print the text and move to the next line)\n",
        "- **`\"Welcome to Java Coffee Shop!\"`** - this is a **string literal** (text in quotes)\n",
        "- **`;`** - the semicolon ends the statement\n",
        "\n",
        "Congratulations! You've just written your first Java program! 🎉"
      ],
      "metadata": {
        "id": "wcP6EYDn56hN"
      }
    },
    {
      "cell_type": "markdown",
      "source": [
        "## Problem #1 - Fix the Hello World 🔧\n",
        "\n",
        "### Your First Debugging Challenge!\n",
        "\n",
        "**Debugging** is the process of finding and fixing errors in code. It's a crucial skill for programmers - even experienced developers spend a lot of time debugging!\n",
        "\n",
        "#### The Broken Code\n",
        "\n",
        "A new barista tried to create a welcome message for the coffee shop, but something went wrong. Can you spot the error?\n",
        "\n",
        "### Note on AI Use for Problems\n",
        "By default, Google Colab (like most modern coding development environments) has AI \"auto-completion enabled. This is, in general, a helpful and good things when you are working. When your are first learning, however, it can cause problems by \"doing it for you.\"\n",
        "\n",
        "With this in mind, I'd recommend that you turn off AI auto-completion. In Google Colab, you can click on the \"Setttings\" gear along the top, and disable AI inline suggestions. If you get stuck, it's fine to ask AI (Claude, chatGPT, Claude) for \"help\". However, even here, be careful about what you ask (so that you have a chance to think things through yourself). My go-to prompt is something like \"I'm having problems understanding X. Can you explain it to me like I'm 12?\""
      ],
      "metadata": {
        "id": "ow8fPnWx67Hu"
      }
    },
    {
      "cell_type": "code",
      "source": [
        "%%writefile CoffeeShopBad.java\n",
        "public class CoffeeShopBad {\n",
        "    public static void main(String[] args) {\n",
        "        System.out.println(\"Welcome to Java Coffee Shop!\"\n",
        "    }\n",
        "}\n"
      ],
      "metadata": {
        "id": "3qR6h_rO6tLM"
      },
      "execution_count": null,
      "outputs": []
    },
    {
      "cell_type": "code",
      "source": [
        "!javac CoffeeShopBad.java"
      ],
      "metadata": {
        "id": "k03tBEh06thc"
      },
      "execution_count": null,
      "outputs": []
    },
    {
      "cell_type": "code",
      "source": [
        "!java CoffeeShopBad"
      ],
      "metadata": {
        "id": "Z_jt6h8o61ip"
      },
      "execution_count": null,
      "outputs": []
    },
    {
      "cell_type": "markdown",
      "source": [
        "#### Your Task\n",
        "\n",
        "1. Try to compile this code using `javac CoffeeShop.java`\n",
        "2. Read the error message carefully\n",
        "3. Figure out what's wrong\n",
        "4. Fix the error\n",
        "5. Compile and run the corrected program\n",
        "\n",
        "#### Debugging Tips\n",
        "\n",
        "**Read Error Messages Carefully**\n",
        "- The compiler will tell you the line number where it found the problem\n",
        "- It will also give you a hint about what type of error it is\n",
        "\n",
        "**Common Beginner Mistakes**\n",
        "- Missing semicolons (`;`)\n",
        "- Missing quotes (`\"`)\n",
        "- Missing braces (`{` or `}`)\n",
        "- Typos in keywords like `public`, `class`, `static`\n",
        "\n",
        "#### Think Like a Barista\n",
        "Just like a barista follows a recipe step-by-step, Java expects you to follow the syntax rules exactly. One missing ingredient (or semicolon) can ruin the whole batch!\n",
        "\n",
        "---\n",
        "\n",
        "*Hint: Look at the end of the println statement... 🤔*"
      ],
      "metadata": {
        "id": "EaKW0yEV6nO_"
      }
    },
    {
      "cell_type": "markdown",
      "source": [
        "## Understanding Print Statements 📄\n",
        "\n",
        "### Different Ways to Print\n",
        "\n",
        "Java gives us several ways to display text, just like a coffee shop has different ways to communicate with customers (spoken orders, written receipts, menu boards).\n",
        "\n",
        "#### `System.out.println()` vs `System.out.print()`\n",
        "\n",
        "**`println()` - Print with New Line**\n",
        "```java\n",
        "System.out.println(\"Welcome to Java Coffee Shop!\");\n",
        "System.out.println(\"Today's special: Caramel Macchiato\");\n",
        "```\n",
        "**Output:**\n",
        "```\n",
        "Welcome to Java Coffee Shop!\n",
        "Today's special: Caramel Macchiato\n",
        "```\n",
        "\n",
        "**`print()` - Print Without New Line**\n",
        "```java\n",
        "System.out.print(\"Welcome to Java Coffee Shop!\");\n",
        "System.out.print(\"Today's special: Caramel Macchiato\");\n",
        "```\n",
        "**Output:**\n",
        "```\n",
        "Welcome to Java Coffee Shop!Today's special: Caramel Macchiato\n",
        "```\n",
        "\n",
        "#### Escape Sequences\n",
        "\n",
        "Sometimes we need special characters in our text. **Escape sequences** use a backslash (`\\`) followed by a letter:\n",
        "\n",
        "**`\\n` - New Line**\n",
        "```java\n",
        "System.out.print(\"Line 1\\nLine 2\");\n",
        "```\n",
        "**Output:**\n",
        "```\n",
        "Line 1\n",
        "Line 2\n",
        "```\n",
        "\n",
        "**`\\t` - Tab**\n",
        "```java\n",
        "System.out.println(\"Coffee:\\tEspresso\");\n",
        "System.out.println(\"Price:\\t$2.50\");\n",
        "```\n",
        "**Output:**\n",
        "```\n",
        "Coffee:    Espresso\n",
        "Price:     $2.50\n",
        "```\n",
        "\n",
        "**`\\\"` - Quote Mark**\n",
        "```java\n",
        "System.out.println(\"The barista said, \\\"Enjoy your coffee!\\\"\");\n",
        "```\n",
        "**Output:**\n",
        "```\n",
        "The barista said, \"Enjoy your coffee!\"\n",
        "```"
      ],
      "metadata": {
        "id": "8Amqv7pt6-Rw"
      }
    },
    {
      "cell_type": "markdown",
      "source": [
        "## Problem #2 - Fix the Print Statement 🔧\n",
        "\n",
        "### Another Debugging Challenge!\n",
        "\n",
        "The coffee shop manager wants to display the shop's hours, but there's an error in the code. Can you find and fix it?\n",
        "\n",
        "#### The Broken Code\n"
      ],
      "metadata": {
        "id": "crr5b8gO7MO3"
      }
    },
    {
      "cell_type": "code",
      "source": [
        "%%writefile CoffeeShop3.java\n",
        "public class CoffeeShop3 {\n",
        "    public static void main(String[] args) {\n",
        "        System.out.println(\"Welcome to Java Coffee Shop!\");\n",
        "        System.out.println(\"Hours: Monday-Friday 6AM-8PM);\n",
        "    }\n",
        "}"
      ],
      "metadata": {
        "colab": {
          "base_uri": "https://localhost:8080/"
        },
        "id": "tCT1ahlN7d0D",
        "outputId": "2bad57cb-d515-4d85-cb8e-5a175ea9363a"
      },
      "execution_count": null,
      "outputs": [
        {
          "output_type": "stream",
          "name": "stdout",
          "text": [
            "Writing CoffeeShop3.java\n"
          ]
        }
      ]
    },
    {
      "cell_type": "code",
      "source": [
        "!javac CoffeeShop3.java"
      ],
      "metadata": {
        "colab": {
          "base_uri": "https://localhost:8080/"
        },
        "id": "kYTnL6vn7lno",
        "outputId": "f1d9486c-7610-4ba1-a3e6-3aa7dab92d86"
      },
      "execution_count": null,
      "outputs": [
        {
          "output_type": "stream",
          "name": "stdout",
          "text": [
            "CoffeeShop3.java:4: error: unclosed string literal\n",
            "        System.out.println(\"Hours: Monday-Friday 6AM-8PM);\n",
            "                           ^\n",
            "1 error\n"
          ]
        }
      ]
    },
    {
      "cell_type": "markdown",
      "source": [
        "#### Your Task\n",
        "\n",
        "1. Try to compile it with `javac CoffeeShop3.java`\n",
        "2. Read the error message\n",
        "3. Find the problem\n",
        "4. Fix it and test your solution\n",
        "\n",
        "#### Debugging Detective Work 🔍\n",
        "\n",
        "When you see an error message, ask yourself:\n",
        "- **What line** is the error on?\n",
        "- **What type of error** is it? (syntax, missing character, etc.)\n",
        "- **What was I trying to do** on that line?\n",
        "\n",
        "#### Common String Problems\n",
        "\n",
        "When working with **strings** (text in quotes), watch out for:\n",
        "- Missing opening quote (`\"`)\n",
        "- Missing closing quote (`\"`)\n",
        "- Quotes that don't match\n",
        "- Forgetting the semicolon at the end\n",
        "\n",
        "#### Think About It\n",
        "\n",
        "Look carefully at the second `println` statement. Compare it to the first one that works correctly. What's different?\n",
        "\n",
        "**Remember:** Java is very picky about syntax - every quote, semicolon, and brace must be exactly right!\n"
      ],
      "metadata": {
        "id": "lc_VIJS-7ZEB"
      }
    },
    {
      "cell_type": "markdown",
      "source": [
        "## Introduction to Variables 📦\n",
        "\n",
        "### What Are Variables?\n",
        "\n",
        "A **variable** is like a labeled container that holds information. Just like coffee shops use containers to store different ingredients, programmers use variables to store different pieces of data.\n",
        "\n",
        "#### Real Coffee Shop Examples\n",
        "\n",
        "Think about the information a coffee shop needs to track:\n",
        "- **Coffee names:** \"Espresso\", \"Latte\", \"Cappuccino\"\n",
        "- **Prices:** $2.50, $4.00, $3.75\n",
        "- **Quantities:** 50 cups in stock, 12 orders today\n",
        "- **Status:** Is the shop open? Is a drink ready?\n",
        "\n",
        "#### Why Use Variables?\n",
        "\n",
        "**Without Variables (Hard Way):**\n",
        "```java\n",
        "System.out.println(\"Espresso costs $2.50\");\n",
        "System.out.println(\"You ordered 2 Espresso drinks\");\n",
        "System.out.println(\"Your total is $\" + (2.50 * 2));\n",
        "```\n",
        "*What if the price changes? You'd have to update it in multiple places!*\n",
        "\n",
        "**With Variables (Smart Way):**\n",
        "```java\n",
        "String coffeeName = \"Espresso\";\n",
        "double coffeePrice = 2.50;\n",
        "int quantity = 2;\n",
        "System.out.println(coffeeName + \" costs $\" + coffeePrice);\n",
        "System.out.println(\"You ordered \" + quantity + \" \" + coffeeName + \" drinks\");\n",
        "System.out.println(\"Your total is $\" + (coffeePrice * quantity));\n",
        "```\n",
        "*Now if the price changes, you only update it in one place!*\n",
        "\n",
        "#### Benefits of Variables\n",
        "\n",
        "1. **Reusability** - Use the same value multiple times\n",
        "2. **Maintainability** - Easy to update values\n",
        "3. **Readability** - Code is easier to understand\n",
        "4. **Flexibility** - Values can change while the program runs\n",
        "\n",
        "Variables are like having an organized ingredient station - everything has its place and is easy to find!"
      ],
      "metadata": {
        "id": "vZAhgQFv7sJx"
      }
    },
    {
      "cell_type": "markdown",
      "source": [
        "## Declaring Variables 📝\n",
        "\n",
        "### Variable Declaration Syntax\n",
        "\n",
        "**Declaring a variable** means creating it and giving it a name. Think of it like getting a new storage container and putting a label on it.\n",
        "\n",
        "#### Basic Syntax\n",
        "```java\n",
        "dataType variableName = value;\n",
        "```\n",
        "\n",
        "- **`dataType`** - What kind of data will this variable hold?\n",
        "- **`variableName`** - What do you want to call this variable?\n",
        "- **`=`** - The assignment operator (puts the value into the variable)\n",
        "- **`value`** - The actual data you want to store\n",
        "- **`;`** - Ends the statement (always required!)\n",
        "\n",
        "#### Coffee Shop Examples\n",
        "\n",
        "```java\n",
        "// Coffee information\n",
        "String coffeeName = \"Espresso\";\n",
        "double coffeePrice = 2.50;\n",
        "int cupsInStock = 100;\n",
        "boolean isHot = true;\n",
        "\n",
        "// Customer information  \n",
        "String customerName = \"Alice\";\n",
        "int loyaltyPoints = 250;\n",
        "boolean isMember = true;\n",
        "\n",
        "// Shop status\n",
        "boolean isOpen = true;\n",
        "String currentSpecial = \"Pumpkin Spice Latte\";\n",
        "double discountRate = 0.10;\n",
        "```\n",
        "\n",
        "#### Variable Naming Rules\n",
        "\n",
        "**Must Follow These Rules:**\n",
        "- Start with a letter, underscore (_), or dollar sign ($)\n",
        "- Can contain letters, numbers, underscores, and dollar signs\n",
        "- Cannot start with a number\n",
        "- Cannot use Java keywords (like `public`, `class`, `int`)\n",
        "- Case-sensitive (`coffeeName` ≠ `CoffeeName`)\n",
        "\n",
        "**Java Naming Conventions:**\n",
        "- Use **camelCase** for variable names: `coffeePrice`, `customerName`\n",
        "- Start with a lowercase letter\n",
        "- If multiple words, capitalize the first letter of each new word\n",
        "- Make names descriptive: `price` is better than `p`\n",
        "\n",
        "#### Good vs Bad Variable Names\n",
        "\n",
        "**Good Names:**\n",
        "```java\n",
        "String coffeeName = \"Latte\";\n",
        "double totalPrice = 8.50;\n",
        "int numberOfCustomers = 15;\n",
        "```\n",
        "\n",
        "**Bad Names:**\n",
        "```java\n",
        "String x = \"Latte\";           // Not descriptive\n",
        "double 2price = 8.50;         // Starts with number (won't compile!)\n",
        "int number-of-customers = 15; // Contains hyphens (won't compile!)\n",
        "```"
      ],
      "metadata": {
        "id": "oPPyC2rJ72n6"
      }
    },
    {
      "cell_type": "markdown",
      "source": [
        "## Java Data Types - Numbers 🔢\n",
        "\n",
        "### Understanding Number Data Types\n",
        "\n",
        "In Java, we have different **data types** for different kinds of information. Just like a coffee shop has different sized cups for different drinks, Java has different data types for different kinds of numbers.\n",
        "\n",
        "#### `int` - Whole Numbers\n",
        "\n",
        "**`int`** stores **integers** (whole numbers without decimals).\n",
        "\n",
        "**Perfect for:**\n",
        "- Counting items: cups sold, customers served\n",
        "- Quantities: items in stock, table numbers\n",
        "- Ages, years, days\n",
        "\n",
        "```java\n",
        "int cupsInStock = 150;\n",
        "int customersToday = 47;\n",
        "int tableNumber = 12;\n",
        "int employeeAge = 25;\n",
        "int currentYear = 2025;\n",
        "```\n",
        "\n",
        "**Range:** -2,147,483,648 to 2,147,483,647\n",
        "*(That's about 2 billion - plenty for most coffee shop needs!)*\n",
        "\n",
        "#### `double` - Decimal Numbers\n",
        "\n",
        "**`double`** stores **floating-point numbers** (numbers with decimal places).\n",
        "\n",
        "**Perfect for:**\n",
        "- Money: prices, totals, tips\n",
        "- Measurements: temperature, weight\n",
        "- Percentages: discount rates, tax rates\n",
        "\n",
        "```java\n",
        "double espressoPrice = 2.50;\n",
        "double tipAmount = 3.75;\n",
        "double coffeeTemperature = 165.5;\n",
        "double discountRate = 0.15;\n",
        "double totalSales = 1247.89;\n",
        "```\n",
        "\n",
        "**Why \"double\"?** It uses twice as much memory as the older `float` type, giving us more precision.\n",
        "\n",
        "#### Choosing Between `int` and `double`\n",
        "\n",
        "**Use `int` when:**\n",
        "- You're counting whole things\n",
        "- The number will never have decimals\n",
        "- Examples: number of customers, cups sold, table numbers\n",
        "\n",
        "**Use `double` when:**\n",
        "- You need decimal places\n",
        "- You're working with money\n",
        "- You're doing calculations that might result in decimals\n",
        "- Examples: prices, tips, temperatures\n",
        "\n",
        "#### Common Mistakes\n",
        "\n",
        "```java\n",
        "// WRONG - trying to store a decimal in an int\n",
        "int price = 2.50;  // This won't compile!\n",
        "\n",
        "// RIGHT - use double for decimal numbers\n",
        "double price = 2.50;  // This works!\n",
        "\n",
        "// WRONG - forgetting the decimal point\n",
        "double price = 250;   // Works, but Java treats this as 250.0\n",
        "\n",
        "// BETTER - be explicit with decimals\n",
        "double price = 2.50;\n",
        "```"
      ],
      "metadata": {
        "id": "pHkVQxMN75qf"
      }
    },
    {
      "cell_type": "markdown",
      "source": [
        "## Java Data Types - Text and Logic 📝\n",
        "\n",
        "### Beyond Numbers: Text and True/False\n",
        "\n",
        "Numbers aren't the only type of information we need to store. Coffee shops also need to track text (like names and descriptions) and yes/no information (like whether the shop is open).\n",
        "\n",
        "#### `String` - Text Data\n",
        "\n",
        "**`String`** stores text - any sequence of characters surrounded by quotes.\n",
        "\n",
        "**Perfect for:**\n",
        "- Names: customer names, coffee drink names\n",
        "- Descriptions: coffee descriptions, special offers\n",
        "- Addresses: customer addresses, supplier information\n",
        "\n",
        "```java\n",
        "String coffeeName = \"Caramel Macchiato\";\n",
        "String customerName = \"Sarah Johnson\";\n",
        "String shopAddress = \"123 Main Street\";\n",
        "String todaysSpecial = \"Buy 2 lattes, get 1 free!\";\n",
        "String baristaGreeting = \"Welcome to Java Coffee Shop!\";\n",
        "```\n",
        "\n",
        "**Important String Rules:**\n",
        "- Must be surrounded by **double quotes** (`\"`)\n",
        "- Can contain letters, numbers, spaces, and symbols\n",
        "- Can be empty: `String emptyString = \"\";`\n",
        "- Case-sensitive: `\"Latte\"` is different from `\"latte\"`\n",
        "\n",
        "#### `char` - Single Characters\n",
        "\n",
        "**`char`** stores exactly one character, surrounded by single quotes.\n",
        "\n",
        "**Perfect for:**\n",
        "- Size codes: 'S', 'M', 'L' for small, medium, large\n",
        "- Grades: 'A', 'B', 'C' for coffee quality ratings\n",
        "- Initials: first letter of names\n",
        "\n",
        "```java\n",
        "char coffeeSize = 'L';        // Large\n",
        "char qualityGrade = 'A';      // Premium quality\n",
        "char customerInitial = 'M';   // First letter of name\n",
        "char yesOrNo = 'Y';          // Y for yes, N for no\n",
        "```\n",
        "\n",
        "**`char` vs `String`:**\n",
        "```java\n",
        "char singleLetter = 'A';      // ONE character, single quotes\n",
        "String word = \"Apple\";        // Multiple characters, double quotes\n",
        "String singleLetterString = \"A\"; // This is also valid, but it's a String\n",
        "```\n",
        "\n",
        "#### `boolean` - True or False\n",
        "\n",
        "**`boolean`** stores only two possible values: `true` or `false`.\n",
        "\n",
        "**Perfect for:**\n",
        "- Status checks: Is the shop open? Is the order ready?\n",
        "- Yes/No questions: Is the customer a member? Is the drink decaf?\n",
        "- Conditions: Is it raining? Is it a weekend?\n",
        "\n",
        "```java\n",
        "boolean isShopOpen = true;\n",
        "boolean orderReady = false;\n",
        "boolean isMember = true;\n",
        "boolean isDecaf = false;\n",
        "boolean acceptsCreditCards = true;\n",
        "boolean isRaining = false;\n",
        "```\n",
        "\n",
        "**Important `boolean` Rules:**\n",
        "- Only two values: `true` or `false` (lowercase!)\n",
        "- No quotes needed\n",
        "- Very useful for making decisions in programs\n",
        "\n",
        "#### Data Type Summary\n",
        "\n",
        "| Data Type | Used For | Example |\n",
        "|-----------|----------|---------|\n",
        "| `int` | Whole numbers | `int cups = 50;` |\n",
        "| `double` | Decimal numbers | `double price = 4.25;` |\n",
        "| `String` | Text | `String name = \"Latte\";` |\n",
        "| `char` | Single character | `char size = 'M';` |\n",
        "| `boolean` | True/False | `boolean open = true;` |"
      ],
      "metadata": {
        "id": "Gqm807977-b6"
      }
    },
    {
      "cell_type": "markdown",
      "source": [
        "## Problem #3 - Variable Declaration 🔧\n",
        "\n",
        "### Fix the Coffee Shop Variables!\n",
        "\n",
        "The new barista is trying to set up variables for the coffee shop's point-of-sale system, but made some mistakes. Can you help fix the code?\n",
        "\n",
        "#### The Broken Code"
      ],
      "metadata": {
        "id": "Lz02RcGW7-5P"
      }
    },
    {
      "cell_type": "code",
      "source": [
        "%%writefile CoffeeShop4.java\n",
        "public class CoffeeShop4 {\n",
        "    public static void main(String[] args) {\n",
        "        String coffee name = \"Latte\";\n",
        "        int price = 3.50;\n",
        "        isHot = true;\n",
        "\n",
        "        System.out.println(\"Coffee: \" + coffee name);\n",
        "        System.out.println(\"Price: $\" + price);\n",
        "        System.out.println(\"Hot drink: \" + isHot);\n",
        "    }\n",
        "}"
      ],
      "metadata": {
        "colab": {
          "base_uri": "https://localhost:8080/"
        },
        "id": "wPCrOse48SUj",
        "outputId": "7c8f01f0-aca0-40b2-a1f9-a1d9bd521bda"
      },
      "execution_count": null,
      "outputs": [
        {
          "output_type": "stream",
          "name": "stdout",
          "text": [
            "Overwriting CoffeeShop4.java\n"
          ]
        }
      ]
    },
    {
      "cell_type": "code",
      "source": [
        "!javac CoffeeShop4.java"
      ],
      "metadata": {
        "id": "yKnzQV6H8XZQ"
      },
      "execution_count": null,
      "outputs": []
    },
    {
      "cell_type": "code",
      "source": [
        "!java CoffeeShop4"
      ],
      "metadata": {
        "colab": {
          "base_uri": "https://localhost:8080/"
        },
        "id": "2UsshZRK83jC",
        "outputId": "a82be3eb-6e02-46fe-e848-3c306e76b87d"
      },
      "execution_count": null,
      "outputs": [
        {
          "output_type": "stream",
          "name": "stdout",
          "text": [
            "Coffee: Latte\n",
            "Price: $3.5\n",
            "Hot drink: true\n"
          ]
        }
      ]
    },
    {
      "cell_type": "markdown",
      "source": [
        "#### Your Detective Work 🔍\n",
        "\n",
        "There are **multiple errors** in this code! Look for:\n",
        "\n",
        "1. **Variable naming problems** - Are the variable names following Java rules?\n",
        "2. **Data type mismatches** - Is each variable using the right data type?\n",
        "3. **Syntax errors** - Are all the Java rules being followed?\n",
        "\n",
        "#### Questions to Ask Yourself\n",
        "\n",
        "1. **Variable Names:**\n",
        "   - Can Java variable names contain spaces?\n",
        "   - What naming convention should we use?\n",
        "\n",
        "2. **Data Types:**\n",
        "   - What data type should be used for prices with decimal points?\n",
        "   - Is `int` the right choice for currency?\n",
        "\n",
        "3. **Usage:**\n",
        "   - If we fix the variable name, do we also need to fix where it's used?\n",
        "\n",
        "#### Your Task\n",
        "\n",
        "1. Identify all the errors in the code\n",
        "2. Fix each error\n",
        "3. Compile the corrected code with `javac CoffeeShop4.java`\n",
        "4. Run it with `java CoffeeShop4`\n",
        "5. Verify that the output makes sense\n",
        "\n",
        "#### Expected Output (after fixing)\n",
        "```\n",
        "Coffee: Latte\n",
        "Price: $3.5\n",
        "Hot drink: true\n",
        "```\n"
      ],
      "metadata": {
        "id": "_6Ft69gI8JaE"
      }
    },
    {
      "cell_type": "markdown",
      "source": [
        "## Initializing Variables 🏁\n",
        "\n",
        "### Declaration vs Initialization\n",
        "\n",
        "There's an important difference between **declaring** and **initializing** variables.\n",
        "\n",
        "#### Declaration Only\n",
        "**Declaration** means creating a variable but not giving it a value yet:\n",
        "```java\n",
        "String coffeeName;      // Declared but not initialized\n",
        "double price;           // Declared but not initialized\n",
        "int quantity;           // Declared but not initialized\n",
        "```\n",
        "\n",
        "#### Declaration + Initialization\n",
        "**Initialization** means giving the variable its first value:\n",
        "```java\n",
        "String coffeeName = \"Espresso\";  // Declared AND initialized\n",
        "double price = 2.50;             // Declared AND initialized\n",
        "int quantity = 10;               // Declared AND initialized\n",
        "```\n",
        "\n",
        "#### Separate Declaration and Initialization\n",
        "You can also declare first, then initialize later:\n",
        "```java\n",
        "// Declaration\n",
        "String coffeeName;\n",
        "double price;\n",
        "\n",
        "// Initialization (later in the program)\n",
        "coffeeName = \"Cappuccino\";\n",
        "price = 4.00;\n",
        "```\n",
        "\n",
        "### Best Practices for Coffee Shop Variables\n",
        "\n",
        "**Initialize When You Declare (Recommended):**\n",
        "```java\n",
        "String todaysSpecial = \"Vanilla Latte\";\n",
        "double specialPrice = 3.75;\n",
        "boolean specialActive = true;\n",
        "```\n",
        "\n",
        "**Use Descriptive Names:**\n",
        "```java\n",
        "// Good\n",
        "double espressoPrice = 2.50;\n",
        "int cupsRemaining = 25;\n",
        "\n",
        "// Not so good\n",
        "double p = 2.50;\n",
        "int x = 25;\n",
        "```\n",
        "\n",
        "**Group Related Variables:**\n",
        "```java\n",
        "// Customer order information\n",
        "String customerName = \"John\";\n",
        "String drinkOrder = \"Americano\";\n",
        "double orderTotal = 3.25;\n",
        "boolean orderReady = false;\n",
        "```\n",
        "\n",
        "Think of initialization like setting up your coffee station at the start of the day - everything should have its proper place and starting value!"
      ],
      "metadata": {
        "id": "WRFx6b5J9CSg"
      }
    },
    {
      "cell_type": "markdown",
      "source": [
        "## Problem #4 - Variable Types 🔧\n",
        "\n",
        "### Choose the Correct Data Types!\n",
        "\n",
        "The coffee shop's computer system needs to store different types of information. Your job is to choose the correct **data type** for each variable.\n",
        "\n",
        "#### The Challenge\n",
        "\n",
        "Fill in the blanks with the appropriate data type (`String`, `double`, `int`, or `boolean`):\n",
        "\n"
      ],
      "metadata": {
        "id": "tuxqJpE59bu7"
      }
    },
    {
      "cell_type": "code",
      "source": [
        "\n",
        "%%writefile CoffeeShop5.java\n",
        "public class CoffeeShop5 {\n",
        "    public static void main(String[] args) {\n",
        "        _______ customerName = \"Alice\";\n",
        "        _______ coffeePrice = 4.25;\n",
        "        _______ cupsOrdered = 2;\n",
        "        _______ decafAvailable = false;\n",
        "\n",
        "        System.out.println(\"Customer: \" + customerName);\n",
        "        System.out.println(\"Coffee price: $\" + coffeePrice);\n",
        "        System.out.println(\"Cups ordered: \" + cupsOrdered);\n",
        "        System.out.println(\"Decaf available: \" + decafAvailable);\n",
        "    }\n",
        "}"
      ],
      "metadata": {
        "colab": {
          "base_uri": "https://localhost:8080/"
        },
        "id": "xfEwRra69jCV",
        "outputId": "90c276bc-2ff2-4bf1-c3ca-3e29dd7f7f0f"
      },
      "execution_count": null,
      "outputs": [
        {
          "output_type": "stream",
          "name": "stdout",
          "text": [
            "Writing CoffeeShop5.java\n"
          ]
        }
      ]
    },
    {
      "cell_type": "code",
      "source": [
        "!javac CoffeeShop5.java\n",
        "!java CoffeeShop5"
      ],
      "metadata": {
        "id": "mk2Y4C0p9nGq"
      },
      "execution_count": null,
      "outputs": []
    },
    {
      "cell_type": "markdown",
      "source": [
        "#### Think Through Each Variable\n",
        "\n",
        "**For `customerName = \"Alice\"`:**\n",
        "- What type of data is \"Alice\"?\n",
        "- Is it a number, text, or true/false?\n",
        "\n",
        "**For `coffeePrice = 4.25`:**\n",
        "- What type of number is 4.25?\n",
        "- Does it have a decimal point?\n",
        "- Are we dealing with money?\n",
        "\n",
        "**For `cupsOrdered = 2`:**\n",
        "- What type of number is 2?\n",
        "- Are we counting whole items?\n",
        "- Would this ever be a fraction?\n",
        "\n",
        "**For `decafAvailable = false`:**\n",
        "- What are the only two possible values here?\n",
        "- Is this a yes/no question?\n",
        "\n",
        "#### Your Task\n",
        "\n",
        "1. Replace each `_______` with the correct data type\n",
        "2. Compile and run the program\n",
        "3. Make sure the output looks correct\n",
        "\n",
        "#### Data Type Reminder\n",
        "\n",
        "| Data Type | What It Stores | Examples |\n",
        "|-----------|----------------|----------|\n",
        "| `String` | Text in quotes | `\"Hello\"`, `\"Coffee\"`, `\"123 Main St\"` |\n",
        "| `double` | Decimal numbers | `2.50`, `4.25`, `0.15` |\n",
        "| `int` | Whole numbers | `1`, `42`, `100` |\n",
        "| `boolean` | True or false | `true`, `false` |\n"
      ],
      "metadata": {
        "id": "0kxzuAxs9fQ2"
      }
    },
    {
      "cell_type": "markdown",
      "source": [
        "## Basic Operations - Arithmetic ➕➖✖️➗\n",
        "\n",
        "### Arithmetic Operations in Java\n",
        "\n",
        "Just like a coffee shop needs to calculate prices, totals, and change, Java can perform mathematical calculations using **arithmetic operators**.\n",
        "\n",
        "#### The Basic Arithmetic Operators\n",
        "\n",
        "| Operator | Name | Example | Result |\n",
        "|----------|------|---------|---------|\n",
        "| `+` | Addition | `5 + 3` | `8` |\n",
        "| `-` | Subtraction | `10 - 4` | `6` |\n",
        "| `*` | Multiplication | `6 * 2` | `12` |\n",
        "| `/` | Division | `15 / 3` | `5` |\n",
        "| `%` | Modulus (remainder) | `17 % 5` | `2` |\n",
        "\n",
        "#### Coffee Shop Examples\n",
        "\n",
        "**Calculating Order Totals:**\n",
        "```java\n",
        "double lattePrice = 4.50;\n",
        "double cappuccinoPrice = 4.00;\n",
        "double muffinPrice = 2.25;\n",
        "\n",
        "double subtotal = lattePrice + cappuccinoPrice + muffinPrice;\n",
        "System.out.println(\"Subtotal: $\" + subtotal);  // $10.75\n",
        "```\n",
        "\n",
        "**Calculating Tax:**\n",
        "```java\n",
        "double subtotal = 10.75;\n",
        "double taxRate = 0.08;  // 8% tax\n",
        "double tax = subtotal * taxRate;\n",
        "double total = subtotal + tax;\n",
        "\n",
        "System.out.println(\"Tax: $\" + tax);      \n",
        "System.out.println(\"Total: $\" + total);  \n",
        "```\n",
        "\n",
        "**Calculating Change:**\n",
        "```java\n",
        "double total = 11.61;\n",
        "double amountPaid = 20.00;\n",
        "double change = amountPaid - total;\n",
        "\n",
        "System.out.println(\"Change: $\" + change);  // $8.39\n",
        "```\n",
        "\n",
        "#### The Modulus Operator (%)\n",
        "\n",
        "The **modulus operator** (`%`) gives you the remainder after division. It's useful for:\n",
        "\n",
        "**Checking if numbers are even or odd:**\n",
        "```java\n",
        "int customers = 17;\n",
        "int remainder = customers % 2;\n",
        "// If remainder is 0, number is even\n",
        "// If remainder is 1, number is odd\n",
        "```\n",
        "\n",
        "**Rotating through options:**\n",
        "```java\n",
        "int tableNumber = 15;\n",
        "int section = tableNumber % 4;  // Sections 0, 1, 2, 3\n",
        "// Table 15 would be in section 3 (15 ÷ 4 = 3 remainder 3)\n",
        "```\n",
        "\n",
        "#### Order of Operations\n",
        "\n",
        "Java follows the same math rules you learned in school (PEMDAS):\n",
        "```java\n",
        "double result = 2 + 3 * 4;        // Result is 14, not 20!\n",
        "double result2 = (2 + 3) * 4;     // Result is 20 (parentheses first)\n",
        "```"
      ],
      "metadata": {
        "id": "qvCgR1P49fef"
      }
    },
    {
      "cell_type": "markdown",
      "source": [
        "## Arithmetic Examples ☕💰\n",
        "\n",
        "### A Complete Coffee Shop Calculation\n",
        "\n",
        "Let's put arithmetic operations together to create a realistic coffee shop scenario. This example shows how a point-of-sale system might calculate a customer's total.\n",
        "\n",
        "#### Step-by-Step Order Calculation\n"
      ],
      "metadata": {
        "id": "2OtWlEbF-GR5"
      }
    },
    {
      "cell_type": "code",
      "source": [
        "%%writefile CoffeeShop6.java\n",
        "public class CoffeeShop6 {\n",
        "    public static void main(String[] args) {\n",
        "        // Menu prices\n",
        "        double lattePrice = 4.50;\n",
        "        double cappuccinoPrice = 4.00;\n",
        "        double muffinPrice = 2.25;\n",
        "\n",
        "        // Customer order\n",
        "        int latteQuantity = 2;\n",
        "        int cappuccinoQuantity = 1;\n",
        "        int muffinQuantity = 1;\n",
        "\n",
        "        // Calculate line totals\n",
        "        double latteTotal = lattePrice * latteQuantity;\n",
        "        double cappuccinoTotal = cappuccinoPrice * cappuccinoQuantity;\n",
        "        double muffinTotal = muffinPrice * muffinQuantity;\n",
        "\n",
        "        // Calculate subtotal\n",
        "        double subtotal = latteTotal + cappuccinoTotal + muffinTotal;\n",
        "\n",
        "        // Calculate tax (8.5%)\n",
        "        double taxRate = 0.085;\n",
        "        double tax = subtotal * taxRate;\n",
        "\n",
        "        // Calculate final total\n",
        "        double finalTotal = subtotal + tax;\n",
        "\n",
        "        // Display receipt\n",
        "        System.out.println(\"=== JAVA COFFEE SHOP ===\");\n",
        "        System.out.println(\"2 Lattes: $\" + latteTotal);\n",
        "        System.out.println(\"1 Cappuccino: $\" + cappuccinoTotal);\n",
        "        System.out.println(\"1 Muffin: $\" + muffinTotal);\n",
        "        System.out.println(\"------------------------\");\n",
        "        System.out.println(\"Subtotal: $\" + subtotal);\n",
        "        System.out.println(\"Tax: $\" + tax);\n",
        "        System.out.println(\"========================\");\n",
        "        System.out.println(\"TOTAL: $\" + finalTotal);\n",
        "    }\n",
        "}\n"
      ],
      "metadata": {
        "colab": {
          "base_uri": "https://localhost:8080/"
        },
        "id": "6vVqAmiS-Q3k",
        "outputId": "381336fd-4479-404c-9b12-bc9a774c591f"
      },
      "execution_count": null,
      "outputs": [
        {
          "output_type": "stream",
          "name": "stdout",
          "text": [
            "Overwriting CoffeeShop6.java\n"
          ]
        }
      ]
    },
    {
      "cell_type": "code",
      "source": [
        "!javac CoffeeShop6.java\n",
        "!java CoffeeShop6"
      ],
      "metadata": {
        "colab": {
          "base_uri": "https://localhost:8080/"
        },
        "id": "WKtmyiBD-YaF",
        "outputId": "a4966f35-800e-4726-bcf5-af4d57e50370"
      },
      "execution_count": null,
      "outputs": [
        {
          "output_type": "stream",
          "name": "stdout",
          "text": [
            "=== JAVA COFFEE SHOP ===\n",
            "2 Lattes: $9.0\n",
            "1 Cappuccino: $4.0\n",
            "1 Muffin: $2.25\n",
            "------------------------\n",
            "Subtotal: $15.25\n",
            "Tax: $1.2962500000000001\n",
            "========================\n",
            "TOTAL: $16.54625\n"
          ]
        }
      ]
    },
    {
      "cell_type": "markdown",
      "source": [
        "\n",
        "#### Real-World Considerations\n",
        "\n",
        "**Rounding for Money:**\n",
        "Notice the tax calculation gives us many decimal places. In real applications, we'd round to 2 decimal places for currency. We'll learn how to do this in future lessons!\n",
        "\n",
        "**Variable Reuse:**\n",
        "See how we calculated `latteTotal`, `cappuccinoTotal`, and `muffinTotal` separately, then added them together? This makes the code easier to read and debug.\n",
        "\n",
        "**Order of Operations:**\n",
        "```java\n",
        "double finalTotal = subtotal + (subtotal * taxRate);  // Clear with parentheses\n",
        "// vs\n",
        "double finalTotal = subtotal + subtotal * taxRate;    // Same result, but less clear\n",
        "```\n",
        "\n",
        "#### Try It Yourself!\n",
        "\n",
        "Modify the program to:\n",
        "1. Change the quantities ordered\n",
        "2. Add a new menu item (like a cookie)\n",
        "3. Change the tax rate to your local tax rate"
      ],
      "metadata": {
        "id": "5jxm2DL1-KxV"
      }
    },
    {
      "cell_type": "markdown",
      "source": [
        "## Problem #5 - Calculate Coffee Order 🔧\n",
        "\n",
        "### Complete the Calculation!\n",
        "\n",
        "A customer wants to order multiple espressos. Help complete the code to calculate the total cost.\n",
        "\n",
        "#### The Incomplete Code\n"
      ],
      "metadata": {
        "id": "4xo828bt-kk-"
      }
    },
    {
      "cell_type": "code",
      "source": [
        "%%writefile CoffeeShop7.java\n",
        "public class CoffeeShop7 {\n",
        "    public static void main(String[] args) {\n",
        "        // Order details\n",
        "        double espressoPrice = 2.50;\n",
        "        int quantity = 3;\n",
        "\n",
        "        // Calculate total (fill in the missing operator)\n",
        "        double total = espressoPrice __ quantity;\n",
        "\n",
        "        // Display the result\n",
        "        System.out.println(\"Item: Espresso\");\n",
        "        System.out.println(\"Price each: $\" + espressoPrice);\n",
        "        System.out.println(\"Quantity: \" + quantity);\n",
        "        System.out.println(\"Total: $\" + total);\n",
        "    }\n",
        "}"
      ],
      "metadata": {
        "colab": {
          "base_uri": "https://localhost:8080/"
        },
        "id": "Z3lzpwB3-4De",
        "outputId": "a21ecd0f-70cc-413a-98e5-503ae170552f"
      },
      "execution_count": null,
      "outputs": [
        {
          "output_type": "stream",
          "name": "stdout",
          "text": [
            "Writing CoffeeShop7.java\n"
          ]
        }
      ]
    },
    {
      "cell_type": "code",
      "source": [
        "!javac CoffeeShop7.java\n",
        "!java CoffeeShop7"
      ],
      "metadata": {
        "id": "Xd5Hnks__Hc5"
      },
      "execution_count": null,
      "outputs": []
    },
    {
      "cell_type": "markdown",
      "source": [
        "\n",
        "#### Your Task\n",
        "\n",
        "1. Look at the line: `double total = espressoPrice __ quantity;`\n",
        "2. Figure out what **arithmetic operator** should replace the `__`\n",
        "3. Think about what calculation we need:\n",
        "   - We have a price per item: `$2.50`\n",
        "   - We have a quantity: `3`\n",
        "   - We want the total cost for all items\n",
        "\n",
        "#### Questions to Consider\n",
        "\n",
        "- If one espresso costs $2.50, how do you calculate the cost of 3 espressos?\n",
        "- What mathematical operation do you use when you want to find the total of multiple items at the same price?\n",
        "- Which arithmetic operator represents this mathematical operation in Java?\n",
        "\n",
        "#### Expected Output (after fixing)\n",
        "```\n",
        "Item: Espresso\n",
        "Price each: $2.5\n",
        "Quantity: 3\n",
        "Total: $7.5\n",
        "```\n",
        "\n",
        "#### Arithmetic Operators Reminder\n",
        "\n",
        "| Operator | Operation | Example |\n",
        "|----------|-----------|---------|\n",
        "| `+` | Addition | `5 + 3 = 8` |\n",
        "| `-` | Subtraction | `10 - 4 = 6` |\n",
        "| `*` | Multiplication | `6 * 2 = 12` |\n",
        "| `/` | Division | `15 / 3 = 5` |\n",
        "| `%` | Modulus | `17 % 5 = 2` |\n",
        "\n",
        "#### Bonus Challenge\n",
        "After you get the basic calculation working, try adding:\n",
        "- A tip calculation (15% of the total)\n",
        "- A final total including the tip"
      ],
      "metadata": {
        "id": "36IDtG3W-0ZU"
      }
    },
    {
      "cell_type": "markdown",
      "source": [
        "## Lesson Summary & Next Steps 🎓\n",
        "\n",
        "### What We Accomplished Today! 🎉\n",
        "\n",
        "Congratulations! You've just completed your first Java programming lesson. Let's review everything you learned:\n",
        "\n",
        "#### ✅ **Java Program Structure**\n",
        "- Every Java program needs a **class** with the same name as the file\n",
        "- The **main method** is where your program starts running\n",
        "- Every statement ends with a **semicolon** (`;`)\n",
        "- **Braces** (`{}`) group code together\n",
        "- Use `%%writefile`, `javac`, and `java` commands in Jupyter\n",
        "\n",
        "#### ✅ **Variables and Data Types**\n",
        "- **Variables** store information in labeled containers\n",
        "- **`int`** - whole numbers (cups sold, table numbers)\n",
        "- **`double`** - decimal numbers (prices, totals)\n",
        "- **`String`** - text data (names, descriptions)\n",
        "- **`char`** - single characters (size codes: 'S', 'M', 'L')\n",
        "- **`boolean`** - true/false values (shop open?, order ready?)\n",
        "\n",
        "#### ✅ **Operations**\n",
        "- **Arithmetic operators:** `+`, `-`, `*`, `/`, `%`\n",
        "- Order of operations and using parentheses\n",
        "\n",
        "#### ✅ **Problem-Solving Skills**\n",
        "- Reading and understanding error messages\n",
        "- Debugging common syntax mistakes\n",
        "- Testing code by compiling and running\n",
        "- Using descriptive variable names\n",
        "\n",
        "### Key Programming Concepts You've Mastered\n",
        "\n",
        "**Declaration and Initialization:**\n",
        "```java\n",
        "String coffeeName = \"Espresso\";  // Declare and initialize\n",
        "double price = 2.50;             // Right data type for money\n",
        "```\n",
        "\n",
        "**Calculations:**\n",
        "```java\n",
        "double total = price * quantity;     // Arithmetic\n",
        "double tax = total * 0.08;          // Percentage calculations\n",
        "```\n",
        "\n",
        "**Output Formatting:**\n",
        "```java\n",
        "System.out.println(\"Total: $\" + total);  // Combining text and numbers\n",
        "```\n",
        "\n",
        "### What's Coming Next? 🚀\n",
        "\n",
        "In **Lesson 2**, you'll learn about:\n",
        "\n",
        "#### **Conditional Statements**\n",
        "- `if`, `else if`, and `else` statements\n",
        "- Making decisions based on conditions\n",
        "- Different prices for members vs. non-members\n",
        "\n",
        "\n",
        "### Additional Practice Exercises 📝\n",
        "\n",
        "**Exercise 1: Personal Coffee Order**\n",
        "Create a program that calculates your favorite coffee order with tax.\n",
        "\n",
        "**Exercise 2: Coffee Shop Employee**\n",
        "Make a program that stores employee information (name, hourly wage, hours worked) and calculates their weekly pay.\n",
        "\n",
        "**Exercise 3: Menu Display**\n",
        "Create a program that displays a formatted coffee shop menu with at least 5 items and prices.\n",
        "\n",
        "**Exercise 4: Fix the Bugs**\n",
        "Practice debugging by intentionally introducing errors into working programs, then fixing them.\n",
        "\n",
        "Remember: Every expert programmer started exactly where you are now. You've taken the first important step into the world of Java programming!\n",
        "\n",
        "**See you in Lesson 2!** ☕👩‍💻👨‍💻"
      ],
      "metadata": {
        "id": "JqyZtLW-SoF0"
      }
    },
    {
      "cell_type": "code",
      "source": [],
      "metadata": {
        "id": "yRkmx9MO9Z-f"
      },
      "execution_count": null,
      "outputs": []
    },
    {
      "cell_type": "code",
      "source": [],
      "metadata": {
        "id": "pLsuxQFk7FoY"
      },
      "execution_count": null,
      "outputs": []
    }
  ]
}