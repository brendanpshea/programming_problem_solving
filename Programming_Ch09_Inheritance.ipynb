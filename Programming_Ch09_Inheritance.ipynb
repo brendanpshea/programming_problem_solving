{
  "nbformat": 4,
  "nbformat_minor": 0,
  "metadata": {
    "colab": {
      "provenance": [],
      "authorship_tag": "ABX9TyNYrFxXS+FgaSlF/o4KaHKo",
      "include_colab_link": true
    },
    "kernelspec": {
      "name": "python3",
      "display_name": "Python 3"
    },
    "language_info": {
      "name": "python"
    }
  },
  "cells": [
    {
      "cell_type": "markdown",
      "metadata": {
        "id": "view-in-github",
        "colab_type": "text"
      },
      "source": [
        "<a href=\"https://colab.research.google.com/github/brendanpshea/programming_problem_solving/blob/main/Programming_Ch09_Inheritance.ipynb\" target=\"_parent\"><img src=\"https://colab.research.google.com/assets/colab-badge.svg\" alt=\"Open In Colab\"/></a>"
      ]
    },
    {
      "cell_type": "markdown",
      "source": [
        "# Inheritance and Polymorphism\n",
        "In this chapter, we will learn about **inheritance** and **polymorphism**, two important concepts in object-oriented programming (OOP) in Java. Inheritance allows us to create new classes that are based on existing classes, inheriting their properties and methods. Polymorphism allows us to use objects of different classes interchangeably, as if they were objects of a common superclass. These concepts help us to create more modular, flexible, and reusable code.\n",
        "\n",
        "Throughout this chapter, we will be using a case study to illustrate the concepts of inheritance and polymorphism. We will be building software to manage a humane society, an organization that cares for animals and helps them find homes. The software will need to keep track of information about the animals, such as their breed, age, and medical history, as well as information about the people who adopt them. We will design classes to represent animals, people, and other entities involved in the humane society, and we will use inheritance and polymorphism to organize these classes and enable code reuse.\n",
        "\n",
        "For example, we might have a class called Animal that represents all animals at the humane society. This class could have attributes such as name, breed, and age, and shared methods such as `getWeight()` and `setAage()`. We could then create subclasses of Animal to represent specific types of animals, such as Dog and Cat. These subclasses could inherit the properties and methods of the Animal class, but they could also have additional properties and methods that are specific to their type.\n",
        "\n",
        "By using inheritance and polymorphism, we can create a hierarchy of classes that represents the relationships between different entities in the humane society, and we can write code that is more modular, flexible, and reusable."
      ],
      "metadata": {
        "id": "wrmKDhBCoKVl"
      }
    },
    {
      "cell_type": "markdown",
      "source": [
        "## Object-Oriented Programmign at the Humane Society\n",
        "As we previously learned, in object-oriented programming (OOP), we use classes to define the properties and behavior of objects. A class is like a blueprint for creating objects, and it defines a set of attributes (data) and methods (functions) that the objects of that class will have.\n",
        "\n",
        "For example, at the humane society we might have clases such as the follows:\n",
        "\n",
        "-   `Animal` - Represents all animals at the humane society. This class might have attributes such as name, breed, age, and medical history, and methods such as eat() and sleep().\n",
        "-   `Dog` - Represents dogs at the humane society. This class could inherit from the Animal class, and it might have additional attributes such as leash trained and good with kids, and methods such as bark() and playFetch().\n",
        "-   `Cat` - Represents cats at the humane society. This class could also inherit from the Animal class, and it might have additional attributes such as declawed and litter trained, and methods such as meow() and purr().\n",
        "-   `Person` - Represents people involved with the humane society, such as staff, volunteers, and adopters. This class might have attributes such as name, address, and phone number, and methods such as adoptAnimal() and volunteer().\n",
        "-   `Adoption` - Represents an adoption of an animal by a person. This class might have attributes such as adoption date and adoption fee, and methods such as processAdoption() and completeAdoption()."
      ],
      "metadata": {
        "id": "LkvSlFC_pT7b"
      }
    },
    {
      "cell_type": "markdown",
      "source": [
        "## Creating and Instanitating Classes (Review)\n",
        "To create a class in Java, you use the `class` keyword followed by the name of the class. The class definition should include the attributes and methods that the class will have. Here is an example of an Animal class that has attributes for name, species, breed, and age, and a method for getting the animal's name:"
      ],
      "metadata": {
        "id": "C8rCKhbXqJ8R"
      }
    },
    {
      "cell_type": "code",
      "source": [
        "%%writefile Animal.java\n",
        "public class Animal {\n",
        "  private String name, species, breed;\n",
        "  private int age;\n",
        "\n",
        "  public Animal(String name, String species, String breed, int age) {\n",
        "    this.name = name;\n",
        "    this.species = species;\n",
        "    this.breed = breed;\n",
        "    this.age = age;\n",
        "  }\n",
        "\n",
        "  public String getName() { return this.name; }\n",
        "  public void setName(String name) { this.name = name; }\n",
        "\n",
        "  public String getSpecies() { return this.species; }\n",
        "  public void setSpecies(String species) { this.species = species; }\n",
        "\n",
        "  public String getBreed() { return this.breed; }\n",
        "  public void setBreed(String breed) { this.breed = breed; }\n",
        "\n",
        "  public int getAge() { return this.age; }\n",
        "  public void setAge(int age) { this.age = age; }\n",
        "}\n"
      ],
      "metadata": {
        "colab": {
          "base_uri": "https://localhost:8080/"
        },
        "id": "LuHbJpSdovHR",
        "outputId": "75bf706c-63f4-4cc7-f5b4-5ac16689ef00"
      },
      "execution_count": null,
      "outputs": [
        {
          "output_type": "stream",
          "name": "stdout",
          "text": [
            "Overwriting Animal.java\n"
          ]
        }
      ]
    },
    {
      "cell_type": "code",
      "source": [
        "!javac Animal.java"
      ],
      "metadata": {
        "id": "srQNJRCBqXOp"
      },
      "execution_count": null,
      "outputs": []
    },
    {
      "cell_type": "markdown",
      "source": [
        "To create an object from a class in Java, you use the `new` keyword followed by the name of the class and its constructor. The constructor is a special method that is called when an object is created, and it is used to initialize the object's attributes. Here is an example of an AnimalTest class that creates an object of the Animal class and calls its getName() method:"
      ],
      "metadata": {
        "id": "m46LBx0MqkQY"
      }
    },
    {
      "cell_type": "code",
      "source": [
        "%%writefile AnimalTest.java\n",
        "public class AnimalTest {\n",
        "  public static void main(String[] args) {\n",
        "    // create an object of the Animal class\n",
        "    Animal myAnimal = new Animal(\"Fluffy\", \"cat\", \"Persian\", 3);\n",
        "\n",
        "    // call the getName() method on the object\n",
        "    String name = myAnimal.getName();\n",
        "    System.out.println(\"The animal's name is: \" + name);\n",
        "  }\n",
        "}\n"
      ],
      "metadata": {
        "colab": {
          "base_uri": "https://localhost:8080/"
        },
        "id": "plu1H2-lqfJA",
        "outputId": "aefe7e6a-e2c0-4104-8f7c-060c08f0525e"
      },
      "execution_count": null,
      "outputs": [
        {
          "output_type": "stream",
          "name": "stdout",
          "text": [
            "Overwriting AnimalTest.java\n"
          ]
        }
      ]
    },
    {
      "cell_type": "code",
      "source": [
        "!javac Animal.java\n",
        "!javac AnimalTest.java"
      ],
      "metadata": {
        "id": "IV0o2EScqnIo"
      },
      "execution_count": null,
      "outputs": []
    },
    {
      "cell_type": "code",
      "source": [
        "!java AnimalTest"
      ],
      "metadata": {
        "colab": {
          "base_uri": "https://localhost:8080/"
        },
        "id": "kNWgnFqiqqYH",
        "outputId": "40f9b953-7bc7-4162-9cda-f4e6ea53733a"
      },
      "execution_count": null,
      "outputs": [
        {
          "output_type": "stream",
          "name": "stdout",
          "text": [
            "The animal's name is: Fluffy\n"
          ]
        }
      ]
    },
    {
      "cell_type": "markdown",
      "source": [
        "In this example, we create an object of the Animal class by calling its constructor and passing it the values for the name, species, breed, and age attributes. We then call the `getName()` method on the object to get its name, and we print the name to the console.\n",
        "\n",
        "Note that in the Animal class, we used the `private` access modifier for the attributes. This means that the attributes can only be accessed from within the class, and they cannot be accessed directly from outside the class. To allow other classes to access the attributes, we provided a public method (`getName()`) that can be called to get the value of the attribute. This is known as **encapsulation**, and it is a way to protect the data of an object from being modified or accessed inappropriately."
      ],
      "metadata": {
        "id": "0ys7Y205q-Uf"
      }
    },
    {
      "cell_type": "markdown",
      "source": [
        "## Introducing Inheritance\n",
        "In object-oriented programming (OOP), inheritance is a mechanism that allows you to create new classes that are based on existing classes. The new class inherits the properties and methods of the existing class, and it can also add its own properties and methods or override the ones it inherits. Inheritance allows you to reuse code and create a hierarchy of classes that represent the relationships between different entities in your program.\n",
        "\n",
        "For example, in our humane society case study, we might have an Animal class that represents all animals at the humane society, and we might want to create subclasses of this class to represent specific types of animals, such as dogs and cats. The Dog and Cat classes could inherit the properties and methods of the Animal class, and they could also have additional properties and methods that are specific to their type.\n",
        "\n",
        "Here is an example of how you might define the the Dog and Cat classes using inheritance in Java:"
      ],
      "metadata": {
        "id": "7p3moyPvsZHu"
      }
    },
    {
      "cell_type": "code",
      "source": [
        "%%writefile Dog.java\n",
        "public class Dog extends Animal {\n",
        "  // attributes\n",
        "  private boolean leashTrained;\n",
        "\n",
        "  // constructor\n",
        "  public Dog(String name, String breed, int age, boolean leashTrained) {\n",
        "    super(name, \"dog\", breed, age);\n",
        "    this.leashTrained = leashTrained;\n",
        "  }\n",
        "\n",
        "  // methods\n",
        "  public boolean isLeashTrained() {\n",
        "    return this.leashTrained;\n",
        "  }\n",
        "\n",
        "  public void setLeashTrained(boolean leashTrained) {\n",
        "    this.leashTrained = leashTrained;\n",
        "  }\n",
        "}"
      ],
      "metadata": {
        "colab": {
          "base_uri": "https://localhost:8080/"
        },
        "id": "6c2zAJpirCXg",
        "outputId": "fa74fc0d-9a92-4431-b295-46da327a09c8"
      },
      "execution_count": null,
      "outputs": [
        {
          "output_type": "stream",
          "name": "stdout",
          "text": [
            "Writing Dog.java\n"
          ]
        }
      ]
    },
    {
      "cell_type": "code",
      "source": [
        "!javac Animal.java\n",
        "!javac Dog.java"
      ],
      "metadata": {
        "id": "VCejOmjBsraV"
      },
      "execution_count": null,
      "outputs": []
    },
    {
      "cell_type": "code",
      "source": [
        "%%writefile Cat.java\n",
        "public class Cat extends Animal {\n",
        "  // attributes\n",
        "  private boolean declawed;\n",
        "\n",
        "  // constructor\n",
        "  public Cat(String name, String breed, int age, boolean declawed) {\n",
        "    super(name, \"cat\", breed, age);\n",
        "    this.declawed = declawed;\n",
        "  }\n",
        "\n",
        "  // methods\n",
        "  public boolean isDeclawed() {\n",
        "    return this.declawed;\n",
        "  }\n",
        "\n",
        "  public void setDeclawed(boolean declawed) {\n",
        "    this.declawed = declawed;\n",
        "  }\n",
        "}"
      ],
      "metadata": {
        "colab": {
          "base_uri": "https://localhost:8080/"
        },
        "id": "Cre9gx-7snrV",
        "outputId": "9425ee01-83fa-459d-9d74-2307ccecc769"
      },
      "execution_count": null,
      "outputs": [
        {
          "output_type": "stream",
          "name": "stdout",
          "text": [
            "Overwriting Cat.java\n"
          ]
        }
      ]
    },
    {
      "cell_type": "code",
      "source": [
        "!javac Animal.java\n",
        "!javac Cat.java"
      ],
      "metadata": {
        "id": "OF8sgskHszL8"
      },
      "execution_count": null,
      "outputs": []
    },
    {
      "cell_type": "markdown",
      "source": [
        "In this example, the Dog and Cat classes inherit from the Animal class using the `extends` keyword. This means that the Dog and Cat classes have all the attributes and methods of the Animal class, and they can also add their own attributes and methods.\n",
        "\n",
        "The Dog class has an additional attribute called leashTrained, which indicates whether the dog is trained to walk on a leash. The Cat class has an additional attribute called declawed, which indicates whether the cat has been declawed. Both classes have constructors that call the superclass constructor using the `super` keyword, and they have methods for getting and setting their additional attributes.\n",
        "\n",
        "By using inheritance, we can reuse the code from the Animal class in the Dog and Cat classes, and we can create a hierarchy of classes that represents the relationships between different entities in our humane society case study. This allows us to write more modular, flexible, and reusable code.\n",
        "\n",
        "To use inheritance in your own Java classes, here's the basic process:\n",
        "\n",
        "1.  Define a base class (also called a **superclass** or **parent class**) that contains the common properties and methods that you want to share among multiple classes.\n",
        "2.  Define one or more **subclasses** (also called **derived classes** or **child classes**) that inherit from the base class using the `extends` keyword. The subclasses can add their own properties and methods, or they can override the ones inherited from the base class.\n",
        "3.  Use the `super` keyword in the subclass constructors to call the constructor of the base class and initialize the inherited attributes."
      ],
      "metadata": {
        "id": "dXmEjkNqs9h0"
      }
    },
    {
      "cell_type": "markdown",
      "source": [
        "## Testing Dog and Cat\n",
        "Let's write a program to see how Dog and Cat work:"
      ],
      "metadata": {
        "id": "13wPJ2Rqvty6"
      }
    },
    {
      "cell_type": "code",
      "source": [
        "%%writefile DogCatTest.java\n",
        "public class DogCatTest {\n",
        "    public static void main(String[] args) {\n",
        "        // Creating instances of Dog, Cat, and Animal\n",
        "        Dog krypto = new Dog(\"Krypto\", \"Kryptonian Canine\", 3, true);\n",
        "        Cat streaky = new Cat(\"Streaky\", \"Domestic Short Hair\", 2, false);\n",
        "        Animal hoppy = new Animal(\"Hoppy\", \"Bunny\", \"Super Leap Bunny\", 1);\n",
        "\n",
        "        // Demonstrating shared methods (getName and getAge)\n",
        "        System.out.println(krypto.getName() + \" is \" + krypto.getAge() + \" years old and leash trained: \" + krypto.isLeashTrained());\n",
        "        System.out.println(streaky.getName() + \" is \" + streaky.getAge() + \" years old and declawed: \" + streaky.isDeclawed());\n",
        "        System.out.println(hoppy.getName() + \" is a \" + hoppy.getSpecies() + \" and \" + hoppy.getAge() + \" years old.\");\n",
        "\n",
        "        // Demonstrating unique method calls\n",
        "        // For Dog: isLeashTrained()\n",
        "        System.out.println(krypto.getName() + \" leash trained status: \" + krypto.isLeashTrained());\n",
        "\n",
        "        // For Cat: isDeclawed()\n",
        "        System.out.println(streaky.getName() + \" declawed status: \" + streaky.isDeclawed());\n",
        "\n",
        "        // Changing attributes using setters\n",
        "        // Demonstrating shared method (setAge) and showing age update\n",
        "        krypto.setAge(4); // Krypto's birthday passed\n",
        "        System.out.println(\"After a birthday, \" + krypto.getName() + \" is now \" + krypto.getAge() + \" years old.\");\n",
        "    }\n",
        "}\n"
      ],
      "metadata": {
        "colab": {
          "base_uri": "https://localhost:8080/"
        },
        "id": "HBQ_uGuXtdHM",
        "outputId": "62b614c7-dd54-4fbd-e9a3-d17e1960bbf4"
      },
      "execution_count": null,
      "outputs": [
        {
          "output_type": "stream",
          "name": "stdout",
          "text": [
            "Writing DogCatTest.java\n"
          ]
        }
      ]
    },
    {
      "cell_type": "code",
      "source": [
        "!javac Animal.java\n",
        "!javac Dog.java\n",
        "!javac Cat.java\n",
        "!javac DogCatTest.java"
      ],
      "metadata": {
        "id": "BRUm8S2Xv7a7"
      },
      "execution_count": null,
      "outputs": []
    },
    {
      "cell_type": "code",
      "source": [
        "!java DogCatTest"
      ],
      "metadata": {
        "colab": {
          "base_uri": "https://localhost:8080/"
        },
        "id": "eL6tPaYwv94Z",
        "outputId": "ca806204-62a0-4b47-c1cc-e1acac5aaeca"
      },
      "execution_count": null,
      "outputs": [
        {
          "output_type": "stream",
          "name": "stdout",
          "text": [
            "Krypto is 3 years old and leash trained: true\n",
            "Streaky is 2 years old and declawed: false\n",
            "Hoppy is a Bunny and 1 years old.\n",
            "Krypto leash trained status: true\n",
            "Streaky declawed status: false\n",
            "After a birthday, Krypto is now 4 years old.\n"
          ]
        }
      ]
    },
    {
      "cell_type": "markdown",
      "source": [
        "## Class Diagrams: Dogs and Cats!\n",
        "![image.png](data:image/png;base64,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)"
      ],
      "metadata": {
        "id": "RkeUOU67q2aM"
      }
    },
    {
      "cell_type": "markdown",
      "source": [
        "## Exercise: Implementing Horse.java and HorseTest.java\n",
        "\n",
        "Building on the concepts of inheritance and polymorphism covered in our humane society case study, let's extend our application to include a new type of animal: horses. This exercise will involve creating two new Java classes, `Horse.java` and `HorseTest.java`, to practice implementing inheritance and testing our class.\n",
        "\n",
        "#### Horse.java\n",
        "\n",
        "Your task is to create a `Horse` class that inherits from the `Animal` class. Remember, the `Animal` class has attributes such as name, species, breed, and age, and methods like `getName()` and `setAge()`. Your `Horse` class should include:\n",
        "\n",
        "-   Additional attributes unique to horses, such as `isRaceHorse` (a boolean indicating if the horse is a racehorse) and `speed` (an integer representing the horse's top speed in miles per hour).\n",
        "-   A constructor that uses the `super` keyword to call the `Animal` class constructor, while also initializing the new attributes specific to the `Horse` class.\n",
        "-   Getters and setters for the new attributes."
      ],
      "metadata": {
        "id": "3EgkLZQ1lx-4"
      }
    },
    {
      "cell_type": "code",
      "source": [
        "%%writefile Horse.java\n",
        "public class Horse extends Animal {\n",
        "\n",
        "}"
      ],
      "metadata": {
        "id": "O5ghlcBMmWgZ"
      },
      "execution_count": null,
      "outputs": []
    },
    {
      "cell_type": "code",
      "source": [
        "!javac Horse.java"
      ],
      "metadata": {
        "id": "L5vaPcTJlwvW"
      },
      "execution_count": null,
      "outputs": []
    },
    {
      "cell_type": "markdown",
      "source": [
        "#### HorseTest.java\n",
        "\n",
        "Next, create a `HorseTest.java` class to test the functionality of your `Horse` class. This should:\n",
        "\n",
        "-   Instantiate an object of the `Horse` class.\n",
        "-   Demonstrate the use of both inherited methods (e.g., `getName()`, `getAge()`) and methods specific to the `Horse` class (e.g., `isRaceHorse()`, `getSpeed()`).\n",
        "-   Print out the attributes of the `Horse` object to verify that your class works correctly."
      ],
      "metadata": {
        "id": "mNggQil8mwZ6"
      }
    },
    {
      "cell_type": "code",
      "source": [
        "%%writefile HorseTest.java\n",
        "public class HorseTest{\n",
        "\n",
        "}"
      ],
      "metadata": {
        "id": "AdSUjbIlm0S7"
      },
      "execution_count": null,
      "outputs": []
    },
    {
      "cell_type": "code",
      "source": [
        "!javac HorseTest.java"
      ],
      "metadata": {
        "id": "T8lfEhghm5ue"
      },
      "execution_count": null,
      "outputs": []
    },
    {
      "cell_type": "code",
      "source": [
        "!java HorseTest"
      ],
      "metadata": {
        "id": "NN-0NedZm7ZB"
      },
      "execution_count": null,
      "outputs": []
    },
    {
      "cell_type": "markdown",
      "source": [
        "## Class Hierarchies in Object-Oriented Programming\n",
        "\n",
        "Class hierarchies are a fundamental concept in object-oriented programming (OOP), allowing developers to structure their code in a way that represents real-world relationships between objects. A class hierarchy is created using inheritance, where a class can inherit properties and methods from another class. This structure forms a \"parent-child\" relationship, where the parent class (also known as the superclass) provides common attributes and behaviors to its child classes (subclasses), which can then extend or modify these characteristics.\n",
        "\n",
        "In our previous examples, we discussed the implementation of an animal management system for a humane society, including classes like `Animal`, `Dog`, and `Cat`. These classes form a simple hierarchy where `Dog` and `Cat` are subclasses that inherit from the `Animal` superclass. This structure allows both `Dog` and `Cat` to share common properties of `Animal` while also defining their own specific attributes and methods.\n",
        "\n",
        "Expanding on this concept, consider a veterinary clinic software system, which requires a more complex class hierarchy to manage its operations efficiently. Beyond animal care, the system must handle appointments, staff details, billing, and more. For instance:\n",
        "\n",
        "-   *Personnel Hierarchy.* The personnel involved in a vet clinic can be categorized into several classes, such as `Veterinarian`, `Nurse`, and `Receptionist`. All these can inherit from a base class called `Staff`, which contains shared attributes like name, ID, and contact details. Each subclass can then add its own specific properties and methods, such as `performSurgery()` for `Veterinarian` or `scheduleAppointment()` for `Receptionist`.\n",
        "\n",
        "-   *Appointment System.* An appointment system might include classes such as `Appointment`, `WalkIn`, and `Emergency`. These classes could inherit from a base class `ClinicVisit`, which includes common attributes like date, time, and patient details. The subclasses could define additional details relevant to the type of visit, for example, `priorityLevel` for `Emergency` visits.\n",
        "\n",
        "Through class hierarchies, the vet clinic software system can represent complex relationships and interactions in a structured and intuitive way. This not only makes the code more reusable and easier to maintain but also mirrors the real-world relationships between the various entities involved in the clinic's operations.\n",
        "\n",
        "For example, implementing a hierarchy for clinic personnel might look something like this:"
      ],
      "metadata": {
        "id": "ET3qMUcHm-Dx"
      }
    },
    {
      "cell_type": "markdown",
      "source": [
        "```java\n",
        "public class Staff {\n",
        "  private String name;\n",
        "  private String id;\n",
        "  // common attributes and methods\n",
        "}\n",
        "\n",
        "public class Veterinarian extends Staff {\n",
        "  private String specialty;\n",
        "  // methods specific to Veterinarian\n",
        "}\n",
        "\n",
        "public class Receptionist extends Staff {\n",
        "  private String shift;\n",
        "  // methods specific to Receptionist\n",
        "}\n",
        "```\n",
        "\n",
        "This approach enables the software to treat all personnel as instances of Staff when general information is needed but also allows access to specific methods and properties relevant to their particular roles within the clinic."
      ],
      "metadata": {
        "id": "3VXNM8WNnnGI"
      }
    },
    {
      "cell_type": "markdown",
      "source": [
        "## Introduction to Abstract Classes in Java\n",
        "\n",
        "**Abstract Classes** in Java are a fundamental concept in object-oriented programming that allow you to create classes which are not meant to instantiate objects directly. Instead, abstract classes are designed to be inherited by other classes. They can include **abstract methods**, which are methods declared without an implementation. The purpose of an abstract class is to provide a base or template for other classes to extend and implement the abstract methods, ensuring that certain methods are implemented in all subclasses.\n",
        "\n",
        "Abstract classes are used when you want to define a common protocol for a group of related classes. This means you can define methods that must be implemented by any subclass, but you can also provide concrete implementations of some methods that can be reused by the subclasses.\n",
        "\n",
        "### SuperPet: An Abstract Class Example\n",
        "\n",
        "Imagine we are creating a software model for a series of superhero pets, inspired by the famous DC superpets. To represent these, we'll define an abstract class called `SuperPet`. Each `SuperPet` has a unique power that can be used, but the way each pet uses its power varies. Therefore, we'll declare an abstract method `usePower()` that each specific type of `SuperPet` will implement in its own way."
      ],
      "metadata": {
        "id": "lEefBCGpGyrF"
      }
    },
    {
      "cell_type": "code",
      "source": [
        "%%writefile SuperPet.java\n",
        "public abstract class SuperPet {\n",
        "    protected String name;\n",
        "    protected String superPower;\n",
        "\n",
        "    public SuperPet(String name, String superPower) {\n",
        "        this.name = name;\n",
        "        this.superPower = superPower;\n",
        "    }\n",
        "\n",
        "    public String getName() {\n",
        "        return name;\n",
        "    }\n",
        "\n",
        "    public String getSuperPower() {\n",
        "        return superPower;\n",
        "    }\n",
        "\n",
        "    // Abstract method that subclasses must implement\n",
        "    public abstract void usePower();\n",
        "}\n"
      ],
      "metadata": {
        "colab": {
          "base_uri": "https://localhost:8080/"
        },
        "id": "a27Dv75rG90V",
        "outputId": "9590f859-1e27-4c9d-9782-24ffd7400272"
      },
      "execution_count": 1,
      "outputs": [
        {
          "output_type": "stream",
          "name": "stdout",
          "text": [
            "Writing SuperPet.java\n"
          ]
        }
      ]
    },
    {
      "cell_type": "code",
      "source": [
        "!javac SuperPet.java"
      ],
      "metadata": {
        "id": "EDDYnvsOH7Qk"
      },
      "execution_count": 2,
      "outputs": []
    },
    {
      "cell_type": "markdown",
      "source": [
        "This code defines an abstract class named `SuperPet`. An abstract class is a class that cannot be instantiated (meaning you can't create objects directly from it), and it's used as a base class for other classes to inherit from. It often contains a mix of both concrete (regular) methods and abstract methods (methods without a body).\n",
        "\n",
        "Here are some of the new things you might notice here:\n",
        "\n",
        "1. We begin by declaring that this an `abstract class`. This means we CANNOT make new instances of this class directly.\n",
        "\n",
        "2.  `protected String name` and `protected String superPower` are **protected** instance variables. The `protected` keyword means that these variables can be accessed within the class, its subclasses, and other classes in the same package. The `name` variable will hold the name of the pet, and the `superPower` variable will hold the pet's superpower.\n",
        "\n",
        "3.  `public SuperPet(String name, String superPower) {...}` is a constructor method that is called when an object of a subclass of `SuperPet` is created. It takes two parameters (`name` and `superPower`) and assigns them to the instance variables.\n",
        "\n",
        "4.  `public String getName() {...}` and `public String getSuperPower() {...}` are (concrete) getter methods that return the values of the `name` and `superPower` instance variables, respectively. They allow other classes to access these variables in a controlled way.\n",
        "\n",
        "4.  `public abstract void usePower();` is an abstract method. Abstract methods have no implementation in the abstract class and must be implemented (i.e., given a method body) in any non-abstract subclass. In this case, any class that extends `SuperPet` must implement the `usePower` method to define how the pet uses its superpower.\n",
        "\n",
        "`SuperPet` class is a blueprint for creating subclasses of pets with superpowers. Each subclass must define how the pet uses its superpower by implementing the `usePower` method.\n",
        "\n",
        "We CANNOT create new instances of abstract classes directly."
      ],
      "metadata": {
        "id": "RYIUu0fNIALN"
      }
    },
    {
      "cell_type": "code",
      "source": [
        "%%writefile BadIdea.java\n",
        "public class BadIdea{\n",
        "  public static void main(String[] args){\n",
        "    SuperPet garfield = new SuperPet(\"Garfield\", \"Eats Lasagna\");\n",
        "\n",
        "    System.out.println(garfield.getName());\n",
        "  }\n",
        "\n",
        "}"
      ],
      "metadata": {
        "colab": {
          "base_uri": "https://localhost:8080/"
        },
        "id": "QEMS3La5IGUD",
        "outputId": "b8df4228-c32d-4e2b-f0b3-eacc66f32189"
      },
      "execution_count": 8,
      "outputs": [
        {
          "output_type": "stream",
          "name": "stdout",
          "text": [
            "Overwriting BadIdea.java\n"
          ]
        }
      ]
    },
    {
      "cell_type": "markdown",
      "source": [
        "This should lead to an error:"
      ],
      "metadata": {
        "id": "lFbgmLoSJAMB"
      }
    },
    {
      "cell_type": "code",
      "source": [
        "!javac SuperPet.java\n",
        "!javac BadIdea.java"
      ],
      "metadata": {
        "colab": {
          "base_uri": "https://localhost:8080/"
        },
        "id": "Te3n-vp4njSa",
        "outputId": "3ff15cd6-d439-47e9-ce1e-748f117a9ab6"
      },
      "execution_count": 9,
      "outputs": [
        {
          "output_type": "stream",
          "name": "stdout",
          "text": [
            "BadIdea.java:3: error: SuperPet is abstract; cannot be instantiated\n",
            "    SuperPet garfield = new SuperPet(\"Garfield\", \"Eats Lasagna\");\n",
            "                        ^\n",
            "1 error\n"
          ]
        }
      ]
    },
    {
      "cell_type": "markdown",
      "source": [
        "### Concrete Subclasses: SuperDog and SuperCat\n",
        "Building on the `SuperPet` abstract class, we can define two subclasses: `SuperDog` and `SuperCat`. Each of these subclasses will represent superhero pets with their unique powers, implementing the `usePower()` method to showcase how they use their special abilities.\n",
        "\n",
        "The `SuperDog` subclass represents super dogs with unique powers. For example, let's create a `SuperDog` class with super strength."
      ],
      "metadata": {
        "id": "nckzz1pBJWOq"
      }
    },
    {
      "cell_type": "code",
      "source": [
        "%%writefile SuperDog.java\n",
        "public class SuperDog extends SuperPet {\n",
        "\n",
        "    public SuperDog(String name) {\n",
        "        super(name, \"Super Strength\");\n",
        "    }\n",
        "\n",
        "    @Override\n",
        "    public void usePower() {\n",
        "        System.out.println(getName() + \" lifts heavy objects with ease using his \" + getSuperPower() + \".\");\n",
        "    }\n",
        "}\n"
      ],
      "metadata": {
        "colab": {
          "base_uri": "https://localhost:8080/"
        },
        "id": "QCSeI8Qym87M",
        "outputId": "da6d5c67-72b4-4e8f-ae9a-17827034a8bc"
      },
      "execution_count": 10,
      "outputs": [
        {
          "output_type": "stream",
          "name": "stdout",
          "text": [
            "Writing SuperDog.java\n"
          ]
        }
      ]
    },
    {
      "cell_type": "code",
      "source": [
        "!javac SuperPet.java\n",
        "!javac SuperDog.java"
      ],
      "metadata": {
        "id": "wTXMzsoYKJCq"
      },
      "execution_count": 11,
      "outputs": []
    },
    {
      "cell_type": "markdown",
      "source": [
        "This code defines a class named `SuperDog` that extends (or inherits from) the `SuperPet` abstract class. Let's break it down:\n",
        "\n",
        "1.  `public class SuperDog extends SuperPet {...}` declares the `SuperDog` class as a subclass of `SuperPet`. This means that `SuperDog` inherits all the properties and methods of `SuperPet`, including the abstract `usePower` method that it must implement.\n",
        "\n",
        "2.  `public SuperDog(String name) {...}` is a constructor method for the `SuperDog` class. It takes one parameter, `name`, which is the name of the dog. It calls the constructor of the superclass `SuperPet` using the `super` keyword. The `super` keyword is used to call the constructor of the parent class. Here, it passes the `name` parameter and a default superpower \"Super Strength\" to the `SuperPet` constructor.\n",
        "\n",
        "3.  `@Override public void usePower() {...}`is the implementation of the abstract `usePower` method from the `SuperPet` class. The `@Override` annotation indicates that this method is being overridden from a superclass. In this implementation, a message is printed to the console stating that the dog lifts heavy objects with ease using its super strength. The `getName()` and `getSuperPower()` methods are used to get the name and superpower of the dog, respectively.\n",
        "\n",
        "Now, let's do the same thing for SuperCat:"
      ],
      "metadata": {
        "id": "9rGNxwjZKHYc"
      }
    },
    {
      "cell_type": "code",
      "source": [
        "%%writefile SuperCat.java\n",
        "public class SuperCat extends SuperPet {\n",
        "\n",
        "    public SuperCat(String name) {\n",
        "        super(name, \"Super Speed\");\n",
        "    }\n",
        "\n",
        "    @Override\n",
        "    public void usePower() {\n",
        "        System.out.println(getName() + \" runs faster than the speed of sound using his \" + getSuperPower() + \".\");\n",
        "    }\n",
        "}\n"
      ],
      "metadata": {
        "id": "ckfCmN9DLSXV",
        "outputId": "8b5b6c62-a6ef-48c5-a0be-fdcb7a2c02b1",
        "colab": {
          "base_uri": "https://localhost:8080/"
        }
      },
      "execution_count": 12,
      "outputs": [
        {
          "output_type": "stream",
          "name": "stdout",
          "text": [
            "Writing SuperCat.java\n"
          ]
        }
      ]
    },
    {
      "cell_type": "code",
      "source": [
        "!javac SuperPet.java\n",
        "!javac SuperCat.java"
      ],
      "metadata": {
        "id": "ZE7jhY-9LXrd"
      },
      "execution_count": 13,
      "outputs": []
    },
    {
      "cell_type": "markdown",
      "source": [
        "Finally, let's write a client program to test out the functionality of SuperDog and SuperCat."
      ],
      "metadata": {
        "id": "0rysWTbpLfeH"
      }
    },
    {
      "cell_type": "code",
      "source": [
        "%%writefile SuperPetTest.java\n",
        "public class SuperPetTest {\n",
        "\n",
        "    public static void main(String[] args) {\n",
        "        SuperDog krypto = new SuperDog(\"Krypto\");\n",
        "        SuperCat streaky = new SuperCat(\"Streaky\");\n",
        "\n",
        "        // Demonstrating how each super pet uses their power\n",
        "        krypto.usePower();\n",
        "        streaky.usePower();\n",
        "    }\n",
        "}\n"
      ],
      "metadata": {
        "id": "-S4rZlz3LDPW",
        "outputId": "5dabad77-6ca4-45ff-e392-c0761e6e99e4",
        "colab": {
          "base_uri": "https://localhost:8080/"
        }
      },
      "execution_count": 14,
      "outputs": [
        {
          "output_type": "stream",
          "name": "stdout",
          "text": [
            "Writing SuperPetTest.java\n"
          ]
        }
      ]
    },
    {
      "cell_type": "markdown",
      "source": [
        "Now, let's compile it and run it."
      ],
      "metadata": {
        "id": "pS70K4qQMBvY"
      }
    },
    {
      "cell_type": "code",
      "source": [
        "!javac SuperPet.java\n",
        "!javac SuperDog.java\n",
        "!javac SuperCat.java\n",
        "!javac SuperPetTest.java"
      ],
      "metadata": {
        "id": "fodQU0awL2k2"
      },
      "execution_count": 15,
      "outputs": []
    },
    {
      "cell_type": "code",
      "source": [
        "!java SuperPetTest"
      ],
      "metadata": {
        "id": "4rdkLLrAMJOR",
        "outputId": "088ce703-1423-4a9a-f835-a8170822869f",
        "colab": {
          "base_uri": "https://localhost:8080/"
        }
      },
      "execution_count": 16,
      "outputs": [
        {
          "output_type": "stream",
          "name": "stdout",
          "text": [
            "Krypto lifts heavy objects with ease using his Super Strength.\n",
            "Streaky runs faster than the speed of sound using his Super Speed.\n"
          ]
        }
      ]
    },
    {
      "cell_type": "markdown",
      "source": [
        "## Poly wants Polymorphism\n",
        "In the `SuperPetTest`, pay special attention to two lines:\n",
        "- `krypto.usePower();` and\n",
        "- `streaky.usePower();`\n",
        "\n",
        "These lines call the `usePower` method for the `krypto` and `streaky` objects, respectively. This demonstrates how each super pet uses their power. While each method uses the same name, they actually different underlying methods (defined in SuperCat and SuperDog). This is an example of polymorphism.\n",
        "\n",
        "**Polymorphism** is a fundamental concept in object-oriented programming that allows objects to take on multiple forms. It comes from the Greek words \"poly\" meaning many, and \"morph\" meaning forms. In Java, polymorphism is achieved through inheritance and interface implementation.\n",
        "\n",
        "There are two types of polymorphism in Java: compile-time polymorphism (also known as static polymorphism or method overloading) and runtime polymorphism (also known as dynamic polymorphism or method overriding). In the context of `SuperPetTest`, we're dealing with runtime polymorphism.\n",
        "\n",
        "Runtime polymorphism allows a subclass to override a method implemented by its superclass. When we call the overridden method on an object of the subclass, the subclass's implementation of the method is executed, even if the object is being referred to by a reference variable of the superclass type. This decision of which method to call is made at runtime, hence the name \"runtime polymorphism\".\n",
        "\n",
        "Polymorphism is important and useful for several reasons:\n",
        "\n",
        "1.  *Code reusability.* Polymorphism allows us to write code that can work with objects of different classes, as long as they are related by inheritance or interface implementation. This means we can write more generalized code that can be reused in different contexts.\n",
        "2.  *Abstraction and encapsulation.* Polymorphism allows us to hide the implementation details of a method and expose only the interface. This means we can change the implementation of a method without affecting the code that calls it, as long as the method signature remains the same.\n",
        "3.  *Flexibility and extensibility.& Polymorphism allows us to add new subclasses to a program without modifying the existing code. This makes our code more flexible and easier to extend.\n",
        "\n",
        "In the context of `SuperPetTest`, polymorphism is useful because it allows us to write code that can work with any `SuperPet` object, regardless of whether it's a `SuperDog`, `SuperCat`, or any other subclass of `SuperPet`. This means we can add new subclasses of `SuperPet` without modifying the existing code, as long as they implement the `usePower` method.\n",
        "\n",
        "For example, we could add a new subclass `SuperBird` that implements the `usePower` method to fly at super speed. We could then create a `SuperBird` object (we might call her \"Polly\"!) and call its `usePower` method, and the code would work without any modifications. This demonstrates the power of polymorphism in making our code more flexible, extensible, and reusable."
      ],
      "metadata": {
        "id": "XS37zVtmM2gr"
      }
    },
    {
      "cell_type": "markdown",
      "source": [],
      "metadata": {
        "id": "fVjfbBipLfmz"
      }
    }
  ]
}