{
  "nbformat": 4,
  "nbformat_minor": 0,
  "metadata": {
    "colab": {
      "provenance": [],
      "authorship_tag": "ABX9TyOuX8UwyINTRlu8wngGogmg",
      "include_colab_link": true
    },
    "kernelspec": {
      "name": "python3",
      "display_name": "Python 3"
    },
    "language_info": {
      "name": "python"
    }
  },
  "cells": [
    {
      "cell_type": "markdown",
      "metadata": {
        "id": "view-in-github",
        "colab_type": "text"
      },
      "source": [
        "<a href=\"https://colab.research.google.com/github/brendanpshea/programming_problem_solving/blob/main/Programming_Ch09_Inheritance.ipynb\" target=\"_parent\"><img src=\"https://colab.research.google.com/assets/colab-badge.svg\" alt=\"Open In Colab\"/></a>"
      ]
    },
    {
      "cell_type": "markdown",
      "source": [
        "# Inheritance and Polymorphism\n",
        "In this chapter, we will learn about **inheritance** and **polymorphism**, two important concepts in object-oriented programming (OOP) in Java. Inheritance allows us to create new classes that are based on existing classes, inheriting their properties and methods. Polymorphism allows us to use objects of different classes interchangeably, as if they were objects of a common superclass. These concepts help us to create more modular, flexible, and reusable code.\n",
        "\n",
        "Throughout this chapter, we will be using a case study to illustrate the concepts of inheritance and polymorphism. We will be building software to manage a humane society, an organization that cares for animals and helps them find homes. The software will need to keep track of information about the animals, such as their breed, age, and medical history, as well as information about the people who adopt them. We will design classes to represent animals, people, and other entities involved in the humane society, and we will use inheritance and polymorphism to organize these classes and enable code reuse.\n",
        "\n",
        "For example, we might have a class called Animal that represents all animals at the humane society. This class could have attributes such as name, breed, and age, and shared methods such as `getWeight()` and `setAage()`. We could then create subclasses of Animal to represent specific types of animals, such as Dog and Cat. These subclasses could inherit the properties and methods of the Animal class, but they could also have additional properties and methods that are specific to their type.\n",
        "\n",
        "By using inheritance and polymorphism, we can create a hierarchy of classes that represents the relationships between different entities in the humane society, and we can write code that is more modular, flexible, and reusable."
      ],
      "metadata": {
        "id": "wrmKDhBCoKVl"
      }
    },
    {
      "cell_type": "markdown",
      "source": [
        "## Object-Oriented Programmign at the Humane Society\n",
        "As we previously learned, in object-oriented programming (OOP), we use classes to define the properties and behavior of objects. A class is like a blueprint for creating objects, and it defines a set of attributes (data) and methods (functions) that the objects of that class will have.\n",
        "\n",
        "For example, at the humane society we might have clases such as the follows:\n",
        "\n",
        "-   `Animal` - Represents all animals at the humane society. This class might have attributes such as name, breed, age, and medical history, and methods such as eat() and sleep().\n",
        "-   `Dog` - Represents dogs at the humane society. This class could inherit from the Animal class, and it might have additional attributes such as leash trained and good with kids, and methods such as bark() and playFetch().\n",
        "-   `Cat` - Represents cats at the humane society. This class could also inherit from the Animal class, and it might have additional attributes such as declawed and litter trained, and methods such as meow() and purr().\n",
        "-   `Person` - Represents people involved with the humane society, such as staff, volunteers, and adopters. This class might have attributes such as name, address, and phone number, and methods such as adoptAnimal() and volunteer().\n",
        "-   `Adoption` - Represents an adoption of an animal by a person. This class might have attributes such as adoption date and adoption fee, and methods such as processAdoption() and completeAdoption()."
      ],
      "metadata": {
        "id": "LkvSlFC_pT7b"
      }
    },
    {
      "cell_type": "markdown",
      "source": [
        "## Creating and Instanitating Classes (Review)\n",
        "To create a class in Java, you use the `class` keyword followed by the name of the class. The class definition should include the attributes and methods that the class will have. Here is an example of an Animal class that has attributes for name, species, breed, and age, and a method for getting the animal's name:"
      ],
      "metadata": {
        "id": "C8rCKhbXqJ8R"
      }
    },
    {
      "cell_type": "code",
      "source": [
        "%%writefile Animal.java\n",
        "public class Animal {\n",
        "  private String name, species, breed;\n",
        "  private int age;\n",
        "\n",
        "  public Animal(String name, String species, String breed, int age) {\n",
        "    this.name = name;\n",
        "    this.species = species;\n",
        "    this.breed = breed;\n",
        "    this.age = age;\n",
        "  }\n",
        "\n",
        "  public String getName() { return this.name; }\n",
        "  public void setName(String name) { this.name = name; }\n",
        "\n",
        "  public String getSpecies() { return this.species; }\n",
        "  public void setSpecies(String species) { this.species = species; }\n",
        "\n",
        "  public String getBreed() { return this.breed; }\n",
        "  public void setBreed(String breed) { this.breed = breed; }\n",
        "\n",
        "  public int getAge() { return this.age; }\n",
        "  public void setAge(int age) { this.age = age; }\n",
        "}\n"
      ],
      "metadata": {
        "colab": {
          "base_uri": "https://localhost:8080/"
        },
        "id": "LuHbJpSdovHR",
        "outputId": "75bf706c-63f4-4cc7-f5b4-5ac16689ef00"
      },
      "execution_count": null,
      "outputs": [
        {
          "output_type": "stream",
          "name": "stdout",
          "text": [
            "Overwriting Animal.java\n"
          ]
        }
      ]
    },
    {
      "cell_type": "code",
      "source": [
        "!javac Animal.java"
      ],
      "metadata": {
        "id": "srQNJRCBqXOp"
      },
      "execution_count": null,
      "outputs": []
    },
    {
      "cell_type": "markdown",
      "source": [
        "To create an object from a class in Java, you use the `new` keyword followed by the name of the class and its constructor. The constructor is a special method that is called when an object is created, and it is used to initialize the object's attributes. Here is an example of an AnimalTest class that creates an object of the Animal class and calls its getName() method:"
      ],
      "metadata": {
        "id": "m46LBx0MqkQY"
      }
    },
    {
      "cell_type": "code",
      "source": [
        "%%writefile AnimalTest.java\n",
        "public class AnimalTest {\n",
        "  public static void main(String[] args) {\n",
        "    // create an object of the Animal class\n",
        "    Animal myAnimal = new Animal(\"Fluffy\", \"cat\", \"Persian\", 3);\n",
        "\n",
        "    // call the getName() method on the object\n",
        "    String name = myAnimal.getName();\n",
        "    System.out.println(\"The animal's name is: \" + name);\n",
        "  }\n",
        "}\n"
      ],
      "metadata": {
        "colab": {
          "base_uri": "https://localhost:8080/"
        },
        "id": "plu1H2-lqfJA",
        "outputId": "aefe7e6a-e2c0-4104-8f7c-060c08f0525e"
      },
      "execution_count": null,
      "outputs": [
        {
          "output_type": "stream",
          "name": "stdout",
          "text": [
            "Overwriting AnimalTest.java\n"
          ]
        }
      ]
    },
    {
      "cell_type": "code",
      "source": [
        "!javac AnimalTest.java"
      ],
      "metadata": {
        "id": "IV0o2EScqnIo"
      },
      "execution_count": null,
      "outputs": []
    },
    {
      "cell_type": "code",
      "source": [
        "!java AnimalTest"
      ],
      "metadata": {
        "colab": {
          "base_uri": "https://localhost:8080/"
        },
        "id": "kNWgnFqiqqYH",
        "outputId": "40f9b953-7bc7-4162-9cda-f4e6ea53733a"
      },
      "execution_count": null,
      "outputs": [
        {
          "output_type": "stream",
          "name": "stdout",
          "text": [
            "The animal's name is: Fluffy\n"
          ]
        }
      ]
    },
    {
      "cell_type": "markdown",
      "source": [
        "In this example, we create an object of the Animal class by calling its constructor and passing it the values for the name, species, breed, and age attributes. We then call the `getName()` method on the object to get its name, and we print the name to the console.\n",
        "\n",
        "Note that in the Animal class, we used the `private` access modifier for the attributes. This means that the attributes can only be accessed from within the class, and they cannot be accessed directly from outside the class. To allow other classes to access the attributes, we provided a public method (`getName()`) that can be called to get the value of the attribute. This is known as **encapsulation**, and it is a way to protect the data of an object from being modified or accessed inappropriately."
      ],
      "metadata": {
        "id": "0ys7Y205q-Uf"
      }
    },
    {
      "cell_type": "markdown",
      "source": [
        "## Introducing Inheritance\n",
        "In object-oriented programming (OOP), inheritance is a mechanism that allows you to create new classes that are based on existing classes. The new class inherits the properties and methods of the existing class, and it can also add its own properties and methods or override the ones it inherits. Inheritance allows you to reuse code and create a hierarchy of classes that represent the relationships between different entities in your program.\n",
        "\n",
        "For example, in our humane society case study, we might have an Animal class that represents all animals at the humane society, and we might want to create subclasses of this class to represent specific types of animals, such as dogs and cats. The Dog and Cat classes could inherit the properties and methods of the Animal class, and they could also have additional properties and methods that are specific to their type.\n",
        "\n",
        "Here is an example of how you might define the the Dog and Cat classes using inheritance in Java:"
      ],
      "metadata": {
        "id": "7p3moyPvsZHu"
      }
    },
    {
      "cell_type": "code",
      "source": [
        "%%writefile Dog.java\n",
        "public class Dog extends Animal {\n",
        "  // attributes\n",
        "  private boolean leashTrained;\n",
        "\n",
        "  // constructor\n",
        "  public Dog(String name, String breed, int age, boolean leashTrained) {\n",
        "    super(name, \"dog\", breed, age);\n",
        "    this.leashTrained = leashTrained;\n",
        "  }\n",
        "\n",
        "  // methods\n",
        "  public boolean isLeashTrained() {\n",
        "    return this.leashTrained;\n",
        "  }\n",
        "\n",
        "  public void setLeashTrained(boolean leashTrained) {\n",
        "    this.leashTrained = leashTrained;\n",
        "  }\n",
        "}"
      ],
      "metadata": {
        "colab": {
          "base_uri": "https://localhost:8080/"
        },
        "id": "6c2zAJpirCXg",
        "outputId": "fa74fc0d-9a92-4431-b295-46da327a09c8"
      },
      "execution_count": null,
      "outputs": [
        {
          "output_type": "stream",
          "name": "stdout",
          "text": [
            "Writing Dog.java\n"
          ]
        }
      ]
    },
    {
      "cell_type": "code",
      "source": [
        "# make sure to compile Animal first!\n",
        "!javac Dog.java"
      ],
      "metadata": {
        "id": "VCejOmjBsraV"
      },
      "execution_count": null,
      "outputs": []
    },
    {
      "cell_type": "code",
      "source": [
        "%%writefile Cat.java\n",
        "public class Cat extends Animal {\n",
        "  // attributes\n",
        "  private boolean declawed;\n",
        "\n",
        "  // constructor\n",
        "  public Cat(String name, String breed, int age, boolean declawed) {\n",
        "    super(name, \"cat\", breed, age);\n",
        "    this.declawed = declawed;\n",
        "  }\n",
        "\n",
        "  // methods\n",
        "  public boolean isDeclawed() {\n",
        "    return this.declawed;\n",
        "  }\n",
        "\n",
        "  public void setDeclawed(boolean declawed) {\n",
        "    this.declawed = declawed;\n",
        "  }\n",
        "}"
      ],
      "metadata": {
        "colab": {
          "base_uri": "https://localhost:8080/"
        },
        "id": "Cre9gx-7snrV",
        "outputId": "9425ee01-83fa-459d-9d74-2307ccecc769"
      },
      "execution_count": null,
      "outputs": [
        {
          "output_type": "stream",
          "name": "stdout",
          "text": [
            "Overwriting Cat.java\n"
          ]
        }
      ]
    },
    {
      "cell_type": "code",
      "source": [
        "# make sure to compile Animal first!\n",
        "!javac Cat.java"
      ],
      "metadata": {
        "id": "OF8sgskHszL8"
      },
      "execution_count": null,
      "outputs": []
    },
    {
      "cell_type": "markdown",
      "source": [
        "In this example, the Dog and Cat classes inherit from the Animal class using the `extends` keyword. This means that the Dog and Cat classes have all the attributes and methods of the Animal class, and they can also add their own attributes and methods.\n",
        "\n",
        "The Dog class has an additional attribute called leashTrained, which indicates whether the dog is trained to walk on a leash. The Cat class has an additional attribute called declawed, which indicates whether the cat has been declawed. Both classes have constructors that call the superclass constructor using the `super` keyword, and they have methods for getting and setting their additional attributes.\n",
        "\n",
        "By using inheritance, we can reuse the code from the Animal class in the Dog and Cat classes, and we can create a hierarchy of classes that represents the relationships between different entities in our humane society case study. This allows us to write more modular, flexible, and reusable code.\n",
        "\n",
        "To use inheritance in your own Java classes, here's the basic process:\n",
        "\n",
        "1.  Define a base class (also called a **superclass** or **parent class**) that contains the common properties and methods that you want to share among multiple classes.\n",
        "2.  Define one or more **subclasses** (also called **derived classes** or **child classes**) that inherit from the base class using the `extends` keyword. The subclasses can add their own properties and methods, or they can override the ones inherited from the base class.\n",
        "3.  Use the `super` keyword in the subclass constructors to call the constructor of the base class and initialize the inherited attributes."
      ],
      "metadata": {
        "id": "dXmEjkNqs9h0"
      }
    },
    {
      "cell_type": "markdown",
      "source": [
        "## Testing Dog and Cat\n",
        "Let's write a program to see how Dog and Cat work:"
      ],
      "metadata": {
        "id": "13wPJ2Rqvty6"
      }
    },
    {
      "cell_type": "code",
      "source": [
        "%%writefile DogCatTest.java\n",
        "public class DogCatTest {\n",
        "    public static void main(String[] args) {\n",
        "        // Creating instances of Dog, Cat, and Animal\n",
        "        Dog krypto = new Dog(\"Krypto\", \"Kryptonian Canine\", 3, true);\n",
        "        Cat streaky = new Cat(\"Streaky\", \"Domestic Short Hair\", 2, false);\n",
        "        Animal hoppy = new Animal(\"Hoppy\", \"Bunny\", \"Super Leap Bunny\", 1);\n",
        "\n",
        "        // Demonstrating shared methods (getName and getAge)\n",
        "        System.out.println(krypto.getName() + \" is \" + krypto.getAge() + \" years old and leash trained: \" + krypto.isLeashTrained());\n",
        "        System.out.println(streaky.getName() + \" is \" + streaky.getAge() + \" years old and declawed: \" + streaky.isDeclawed());\n",
        "        System.out.println(hoppy.getName() + \" is a \" + hoppy.getSpecies() + \" and \" + hoppy.getAge() + \" years old.\");\n",
        "\n",
        "        // Demonstrating unique method calls\n",
        "        // For Dog: isLeashTrained()\n",
        "        System.out.println(krypto.getName() + \" leash trained status: \" + krypto.isLeashTrained());\n",
        "\n",
        "        // For Cat: isDeclawed()\n",
        "        System.out.println(streaky.getName() + \" declawed status: \" + streaky.isDeclawed());\n",
        "\n",
        "        // Changing attributes using setters\n",
        "        // Demonstrating shared method (setAge) and showing age update\n",
        "        krypto.setAge(4); // Krypto's birthday passed\n",
        "        System.out.println(\"After a birthday, \" + krypto.getName() + \" is now \" + krypto.getAge() + \" years old.\");\n",
        "    }\n",
        "}\n"
      ],
      "metadata": {
        "colab": {
          "base_uri": "https://localhost:8080/"
        },
        "id": "HBQ_uGuXtdHM",
        "outputId": "62b614c7-dd54-4fbd-e9a3-d17e1960bbf4"
      },
      "execution_count": null,
      "outputs": [
        {
          "output_type": "stream",
          "name": "stdout",
          "text": [
            "Writing DogCatTest.java\n"
          ]
        }
      ]
    },
    {
      "cell_type": "code",
      "source": [
        "# Make sure to compile Animal, Dog, and Cat\n",
        "!javac DogCatTest.java"
      ],
      "metadata": {
        "id": "BRUm8S2Xv7a7"
      },
      "execution_count": null,
      "outputs": []
    },
    {
      "cell_type": "code",
      "source": [
        "!java DogCatTest"
      ],
      "metadata": {
        "colab": {
          "base_uri": "https://localhost:8080/"
        },
        "id": "eL6tPaYwv94Z",
        "outputId": "ca806204-62a0-4b47-c1cc-e1acac5aaeca"
      },
      "execution_count": null,
      "outputs": [
        {
          "output_type": "stream",
          "name": "stdout",
          "text": [
            "Krypto is 3 years old and leash trained: true\n",
            "Streaky is 2 years old and declawed: false\n",
            "Hoppy is a Bunny and 1 years old.\n",
            "Krypto leash trained status: true\n",
            "Streaky declawed status: false\n",
            "After a birthday, Krypto is now 4 years old.\n"
          ]
        }
      ]
    },
    {
      "cell_type": "markdown",
      "source": [
        "## Exercise: Implementing Horse.java and HorseTest.java\n",
        "\n",
        "Building on the concepts of inheritance and polymorphism covered in our humane society case study, let's extend our application to include a new type of animal: horses. This exercise will involve creating two new Java classes, `Horse.java` and `HorseTest.java`, to practice implementing inheritance and testing our class.\n",
        "\n",
        "#### Horse.java\n",
        "\n",
        "Your task is to create a `Horse` class that inherits from the `Animal` class. Remember, the `Animal` class has attributes such as name, species, breed, and age, and methods like `getName()` and `setAge()`. Your `Horse` class should include:\n",
        "\n",
        "-   Additional attributes unique to horses, such as `isRaceHorse` (a boolean indicating if the horse is a racehorse) and `speed` (an integer representing the horse's top speed in miles per hour).\n",
        "-   A constructor that uses the `super` keyword to call the `Animal` class constructor, while also initializing the new attributes specific to the `Horse` class.\n",
        "-   Getters and setters for the new attributes."
      ],
      "metadata": {
        "id": "3EgkLZQ1lx-4"
      }
    },
    {
      "cell_type": "code",
      "source": [
        "%%writefile Horse.java\n",
        "public class Horse extends Animal {\n",
        "\n",
        "}"
      ],
      "metadata": {
        "id": "O5ghlcBMmWgZ"
      },
      "execution_count": null,
      "outputs": []
    },
    {
      "cell_type": "code",
      "source": [
        "!javac Horse.java"
      ],
      "metadata": {
        "id": "L5vaPcTJlwvW"
      },
      "execution_count": null,
      "outputs": []
    },
    {
      "cell_type": "markdown",
      "source": [
        "#### HorseTest.java\n",
        "\n",
        "Next, create a `HorseTest.java` class to test the functionality of your `Horse` class. This should:\n",
        "\n",
        "-   Instantiate an object of the `Horse` class.\n",
        "-   Demonstrate the use of both inherited methods (e.g., `getName()`, `getAge()`) and methods specific to the `Horse` class (e.g., `isRaceHorse()`, `getSpeed()`).\n",
        "-   Print out the attributes of the `Horse` object to verify that your class works correctly."
      ],
      "metadata": {
        "id": "mNggQil8mwZ6"
      }
    },
    {
      "cell_type": "code",
      "source": [
        "%%writefile HorseTest.java\n",
        "public class HorseTest{\n",
        "\n",
        "}"
      ],
      "metadata": {
        "id": "AdSUjbIlm0S7"
      },
      "execution_count": null,
      "outputs": []
    },
    {
      "cell_type": "code",
      "source": [
        "!javac HorseTest.java"
      ],
      "metadata": {
        "id": "T8lfEhghm5ue"
      },
      "execution_count": null,
      "outputs": []
    },
    {
      "cell_type": "code",
      "source": [
        "!java HorseTest"
      ],
      "metadata": {
        "id": "NN-0NedZm7ZB"
      },
      "execution_count": null,
      "outputs": []
    },
    {
      "cell_type": "markdown",
      "source": [
        "## Class Hierarchies in Object-Oriented Programming\n",
        "\n",
        "Class hierarchies are a fundamental concept in object-oriented programming (OOP), allowing developers to structure their code in a way that represents real-world relationships between objects. A class hierarchy is created using inheritance, where a class can inherit properties and methods from another class. This structure forms a \"parent-child\" relationship, where the parent class (also known as the superclass) provides common attributes and behaviors to its child classes (subclasses), which can then extend or modify these characteristics.\n",
        "\n",
        "In our previous examples, we discussed the implementation of an animal management system for a humane society, including classes like `Animal`, `Dog`, and `Cat`. These classes form a simple hierarchy where `Dog` and `Cat` are subclasses that inherit from the `Animal` superclass. This structure allows both `Dog` and `Cat` to share common properties of `Animal` while also defining their own specific attributes and methods.\n",
        "\n",
        "Expanding on this concept, consider a veterinary clinic software system, which requires a more complex class hierarchy to manage its operations efficiently. Beyond animal care, the system must handle appointments, staff details, billing, and more. For instance:\n",
        "\n",
        "-   *Personnel Hierarchy.* The personnel involved in a vet clinic can be categorized into several classes, such as `Veterinarian`, `Nurse`, and `Receptionist`. All these can inherit from a base class called `Staff`, which contains shared attributes like name, ID, and contact details. Each subclass can then add its own specific properties and methods, such as `performSurgery()` for `Veterinarian` or `scheduleAppointment()` for `Receptionist`.\n",
        "\n",
        "-   *Appointment System.* An appointment system might include classes such as `Appointment`, `WalkIn`, and `Emergency`. These classes could inherit from a base class `ClinicVisit`, which includes common attributes like date, time, and patient details. The subclasses could define additional details relevant to the type of visit, for example, `priorityLevel` for `Emergency` visits.\n",
        "\n",
        "Through class hierarchies, the vet clinic software system can represent complex relationships and interactions in a structured and intuitive way. This not only makes the code more reusable and easier to maintain but also mirrors the real-world relationships between the various entities involved in the clinic's operations.\n",
        "\n",
        "For example, implementing a hierarchy for clinic personnel might look something like this:"
      ],
      "metadata": {
        "id": "ET3qMUcHm-Dx"
      }
    },
    {
      "cell_type": "markdown",
      "source": [
        "```java\n",
        "public class Staff {\n",
        "  private String name;\n",
        "  private String id;\n",
        "  // common attributes and methods\n",
        "}\n",
        "\n",
        "public class Veterinarian extends Staff {\n",
        "  private String specialty;\n",
        "  // methods specific to Veterinarian\n",
        "}\n",
        "\n",
        "public class Receptionist extends Staff {\n",
        "  private String shift;\n",
        "  // methods specific to Receptionist\n",
        "}\n",
        "```\n",
        "\n",
        "This approach enables the software to treat all personnel as instances of Staff when general information is needed but also allows access to specific methods and properties relevant to their particular roles within the clinic."
      ],
      "metadata": {
        "id": "3VXNM8WNnnGI"
      }
    },
    {
      "cell_type": "markdown",
      "source": [],
      "metadata": {
        "id": "nHrn4IPuntdq"
      }
    },
    {
      "cell_type": "code",
      "source": [],
      "metadata": {
        "id": "Te3n-vp4njSa"
      },
      "execution_count": null,
      "outputs": []
    },
    {
      "cell_type": "code",
      "source": [],
      "metadata": {
        "id": "QCSeI8Qym87M"
      },
      "execution_count": null,
      "outputs": []
    }
  ]
}