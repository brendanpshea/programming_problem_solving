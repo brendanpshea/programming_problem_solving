{
  "nbformat": 4,
  "nbformat_minor": 0,
  "metadata": {
    "colab": {
      "provenance": [],
      "authorship_tag": "ABX9TyN9erLIKdJkegKyTF2q4Wox",
      "include_colab_link": true
    },
    "kernelspec": {
      "name": "python3",
      "display_name": "Python 3"
    },
    "language_info": {
      "name": "python"
    }
  },
  "cells": [
    {
      "cell_type": "markdown",
      "metadata": {
        "id": "view-in-github",
        "colab_type": "text"
      },
      "source": [
        "<a href=\"https://colab.research.google.com/github/brendanpshea/programming_problem_solving/blob/main/Programming_Ch09_Inheritance.ipynb\" target=\"_parent\"><img src=\"https://colab.research.google.com/assets/colab-badge.svg\" alt=\"Open In Colab\"/></a>"
      ]
    },
    {
      "cell_type": "markdown",
      "source": [
        "# Inheritance and Polymorphism\n",
        "In this chapter, we will learn about **inheritance** and **polymorphism**, two important concepts in object-oriented programming (OOP) in Java. Inheritance allows us to create new classes that are based on existing classes, inheriting their properties and methods. Polymorphism allows us to use objects of different classes interchangeably, as if they were objects of a common superclass. These concepts help us to create more modular, flexible, and reusable code.\n",
        "\n",
        "Throughout this chapter, we will be using a case study to illustrate the concepts of inheritance and polymorphism. We will be building software to manage a humane society, an organization that cares for animals and helps them find homes. The software will need to keep track of information about the animals, such as their breed, age, and medical history, as well as information about the people who adopt them. We will design classes to represent animals, people, and other entities involved in the humane society, and we will use inheritance and polymorphism to organize these classes and enable code reuse.\n",
        "\n",
        "For example, we might have a class called Animal that represents all animals at the humane society. This class could have attributes such as name, breed, and age, and shared methods such as `getWeight()` and `setAage()`. We could then create subclasses of Animal to represent specific types of animals, such as Dog and Cat. These subclasses could inherit the properties and methods of the Animal class, but they could also have additional properties and methods that are specific to their type.\n",
        "\n",
        "By using inheritance and polymorphism, we can create a hierarchy of classes that represents the relationships between different entities in the humane society, and we can write code that is more modular, flexible, and reusable."
      ],
      "metadata": {
        "id": "wrmKDhBCoKVl"
      }
    },
    {
      "cell_type": "markdown",
      "source": [
        "## Object-Oriented Programmign at the Humane Society\n",
        "As we previously learned, in object-oriented programming (OOP), we use classes to define the properties and behavior of objects. A class is like a blueprint for creating objects, and it defines a set of attributes (data) and methods (functions) that the objects of that class will have.\n",
        "\n",
        "For example, at the humane society we might have clases such as the follows:\n",
        "\n",
        "-   `Animal` - Represents all animals at the humane society. This class might have attributes such as name, breed, age, and medical history, and methods such as eat() and sleep().\n",
        "-   `Dog` - Represents dogs at the humane society. This class could inherit from the Animal class, and it might have additional attributes such as leash trained and good with kids, and methods such as bark() and playFetch().\n",
        "-   `Cat` - Represents cats at the humane society. This class could also inherit from the Animal class, and it might have additional attributes such as declawed and litter trained, and methods such as meow() and purr().\n",
        "-   `Person` - Represents people involved with the humane society, such as staff, volunteers, and adopters. This class might have attributes such as name, address, and phone number, and methods such as adoptAnimal() and volunteer().\n",
        "-   `Adoption` - Represents an adoption of an animal by a person. This class might have attributes such as adoption date and adoption fee, and methods such as processAdoption() and completeAdoption()."
      ],
      "metadata": {
        "id": "LkvSlFC_pT7b"
      }
    },
    {
      "cell_type": "markdown",
      "source": [
        "## Creating and Instanitating Classes (Review)\n",
        "To create a class in Java, you use the `class` keyword followed by the name of the class. The class definition should include the attributes and methods that the class will have. Here is an example of an Animal class that has attributes for name, species, breed, and age, and a method for getting the animal's name:"
      ],
      "metadata": {
        "id": "C8rCKhbXqJ8R"
      }
    },
    {
      "cell_type": "code",
      "source": [
        "%%writefile Animal.java\n",
        "public class Animal {\n",
        "  // attributes\n",
        "  private String name;\n",
        "  private String species;\n",
        "  private String breed;\n",
        "  private int age;\n",
        "\n",
        "  // constructor\n",
        "  public Animal(String name, String species, String breed, int age) {\n",
        "    this.name = name;\n",
        "    this.species = species;\n",
        "    this.breed = breed;\n",
        "    this.age = age;\n",
        "  }\n",
        "\n",
        "  // method to get the animal's name\n",
        "  public String getName() {\n",
        "    return this.name;\n",
        "  }\n",
        "}\n"
      ],
      "metadata": {
        "colab": {
          "base_uri": "https://localhost:8080/"
        },
        "id": "LuHbJpSdovHR",
        "outputId": "ac372f49-eedf-41db-8c35-e3c0cb29f322"
      },
      "execution_count": 1,
      "outputs": [
        {
          "output_type": "stream",
          "name": "stdout",
          "text": [
            "Writing Animal.java\n"
          ]
        }
      ]
    },
    {
      "cell_type": "code",
      "source": [
        "!javac Animal.java"
      ],
      "metadata": {
        "id": "srQNJRCBqXOp"
      },
      "execution_count": 2,
      "outputs": []
    },
    {
      "cell_type": "markdown",
      "source": [
        "To create an object from a class in Java, you use the `new` keyword followed by the name of the class and its constructor. The constructor is a special method that is called when an object is created, and it is used to initialize the object's attributes. Here is an example of an AnimalTest class that creates an object of the Animal class and calls its getName() method:"
      ],
      "metadata": {
        "id": "m46LBx0MqkQY"
      }
    },
    {
      "cell_type": "code",
      "source": [
        "%%writefile AnimalTest.java\n",
        "public class AnimalTest {\n",
        "  public static void main(String[] args) {\n",
        "    // create an object of the Animal class\n",
        "    Animal myAnimal = new Animal(\"Fluffy\", \"cat\", \"Persian\", 3);\n",
        "\n",
        "    // call the getName() method on the object\n",
        "    String name = myAnimal.getName();\n",
        "    System.out.println(\"The animal's name is: \" + name);\n",
        "  }\n",
        "}\n"
      ],
      "metadata": {
        "colab": {
          "base_uri": "https://localhost:8080/"
        },
        "id": "plu1H2-lqfJA",
        "outputId": "a6a0b70a-a6b8-4fa7-c457-d424c0e94673"
      },
      "execution_count": 3,
      "outputs": [
        {
          "output_type": "stream",
          "name": "stdout",
          "text": [
            "Writing AnimalTest.java\n"
          ]
        }
      ]
    },
    {
      "cell_type": "code",
      "source": [
        "!javac AnimalTest.java"
      ],
      "metadata": {
        "id": "IV0o2EScqnIo"
      },
      "execution_count": 4,
      "outputs": []
    },
    {
      "cell_type": "code",
      "source": [
        "!java AnimalTest"
      ],
      "metadata": {
        "colab": {
          "base_uri": "https://localhost:8080/"
        },
        "id": "kNWgnFqiqqYH",
        "outputId": "3e9b5af9-57db-4375-dd2e-604cbafa4e08"
      },
      "execution_count": 5,
      "outputs": [
        {
          "output_type": "stream",
          "name": "stdout",
          "text": [
            "The animal's name is: Fluffy\n"
          ]
        }
      ]
    },
    {
      "cell_type": "markdown",
      "source": [
        "In this example, we create an object of the Animal class by calling its constructor and passing it the values for the name, species, breed, and age attributes. We then call the `getName()` method on the object to get its name, and we print the name to the console.\n",
        "\n",
        "Note that in the Animal class, we used the `private` access modifier for the attributes. This means that the attributes can only be accessed from within the class, and they cannot be accessed directly from outside the class. To allow other classes to access the attributes, we provided a public method (`getName()`) that can be called to get the value of the attribute. This is known as **encapsulation**, and it is a way to protect the data of an object from being modified or accessed inappropriately."
      ],
      "metadata": {
        "id": "0ys7Y205q-Uf"
      }
    },
    {
      "cell_type": "code",
      "source": [],
      "metadata": {
        "id": "6c2zAJpirCXg"
      },
      "execution_count": null,
      "outputs": []
    }
  ]
}