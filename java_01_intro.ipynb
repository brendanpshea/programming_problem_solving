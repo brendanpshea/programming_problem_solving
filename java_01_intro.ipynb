{
 "cells": [
  {
   "cell_type": "markdown",
   "id": "c21221e8",
   "metadata": {},
   "source": [
    "# Welcome to Java Programming: Your Journey Begins\n",
    "\n",
    "Welcome to the exciting world of Java programming! In this course, you'll transform from a complete beginner to someone who can write real, useful Java programs. Programming is both a technical skill and a creative endeavor that allows you to solve problems in new ways.\n",
    "\n",
    "In this journey, we'll cover:\n",
    "- What computers are and how they work\n",
    "- How programming languages like Java let us communicate with computers\n",
    "- The process of creating software from idea to working program\n",
    "- Setting up your programming environment\n",
    "- Writing and running your first program\n",
    "\n",
    "Learning to program is like learning any new language - it takes practice, patience, and persistence. You'll make mistakes along the way, and that's perfectly normal. Each error is an opportunity to learn something new about how Java works.\n",
    "\n",
    "Remember, every expert programmer once started exactly where you are now. Let's begin this journey together!"
   ]
  },
  {
   "cell_type": "markdown",
   "id": "5bcafda6",
   "metadata": {},
   "source": []
  }
 ],
 "metadata": {
  "language_info": {
   "name": "python"
  }
 },
 "nbformat": 4,
 "nbformat_minor": 5
}
