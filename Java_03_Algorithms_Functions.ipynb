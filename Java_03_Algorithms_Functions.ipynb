{
  "nbformat": 4,
  "nbformat_minor": 0,
  "metadata": {
    "colab": {
      "provenance": [],
      "authorship_tag": "ABX9TyNlkoEmAAti0+JMZWZxuwck",
      "include_colab_link": true
    },
    "kernelspec": {
      "name": "python3",
      "display_name": "Python 3"
    },
    "language_info": {
      "name": "python"
    }
  },
  "cells": [
    {
      "cell_type": "markdown",
      "metadata": {
        "id": "view-in-github",
        "colab_type": "text"
      },
      "source": [
        "<a href=\"https://colab.research.google.com/github/brendanpshea/programming_problem_solving/blob/main/Java_03_Algorithms_Functions.ipynb\" target=\"_parent\"><img src=\"https://colab.research.google.com/assets/colab-badge.svg\" alt=\"Open In Colab\"/></a>"
      ]
    },
    {
      "cell_type": "markdown",
      "source": [
        "# Algorithms at the Pawnee Parks Department! 🌳\n",
        "\n",
        "Today you'll learn about algorithms while working at the Pawnee Parks and Recreation Department - a local government office responsible for maintaining public parks, organizing community events, and making the town a better place to live!\n",
        "\n",
        "### Welcome to Your New Job!\n",
        "You've just been hired at the Pawnee Parks and Recreation Department - a local government office responsible for maintaining public parks, organizing community events, and making the town a better place to live!\n",
        "\n",
        "### Your Colleagues Include:\n",
        "- **Leslie Knope**: The ultra-enthusiastic deputy director who loves waffles and making detailed plans\n",
        "- **Ron Swanson**: The director who ironically dislikes government but loves woodworking and breakfast foods\n",
        "- **Tom Haverford**: The trendy entrepreneur who handles social events\n",
        "- **April Ludgate**: The sarcastic intern who secretly cares about her job\n",
        "- **Ben Wyatt**: The budget-minded analyst who loves spreadsheets and board games\n",
        "\n",
        "### Today's Learning Goals:\n",
        "- 📋 Understand what algorithms are and why they matter\n",
        "- 📊 Create flowcharts to visualize our solutions\n",
        "- 🔍 Master linear search to find things efficiently\n",
        "- 📈 Use accumulators to track totals and counts\n",
        "- 🔧 Write reusable code blocks\n",
        "\n",
        "### Why This Matters:\n",
        "Just like the Parks Department needs organized procedures to run smoothly, your programs need well-designed algorithms to solve problems effectively!"
      ],
      "metadata": {
        "id": "1Vc0cSAy91pP"
      }
    },
    {
      "cell_type": "markdown",
      "source": [
        "# What is an Algorithm? 📋\n",
        "\n",
        "An **algorithm** is a step-by-step procedure for solving a problem or completing a task. Think of it as a detailed recipe or instruction manual that anyone can follow to get the same result.\n",
        "\n",
        "### Real-World Example: Planning a Community Festival\n",
        "Leslie Knope (our enthusiastic deputy director) needs to organize the Harvest Festival. Here's her algorithm:\n",
        "\n",
        "1. **Start**: Decide to have a festival\n",
        "2. **Step 1**: Check the budget\n",
        "3. **Step 2**: If budget > $5000, continue; else find sponsors\n",
        "4. **Step 3**: Reserve the park location\n",
        "5. **Step 4**: Book vendors (food, games, crafts)\n",
        "6. **Step 5**: Advertise the event\n",
        "7. **Step 6**: Set up on festival day\n",
        "8. **Step 7**: Run the festival\n",
        "9. **Step 8**: Clean up\n",
        "10. **End**: Celebrate success!\n",
        "\n",
        "### In Programming Terms:\n",
        "```java\n",
        "// This is like an algorithm in Java:\n",
        "int budget = 6000;\n",
        "if (budget > 5000) {\n",
        "    System.out.println(\"We can afford the festival!\");\n",
        "    System.out.println(\"Book the vendors\");\n",
        "    System.out.println(\"Start advertising\");\n",
        "} else {\n",
        "    System.out.println(\"Find sponsors first\");\n",
        "}\n",
        "```\n",
        "\n",
        "### Key Point:\n",
        "Algorithms exist everywhere - from recipes to driving directions to computer programs!"
      ],
      "metadata": {
        "id": "4htH_sRP940s"
      }
    },
    {
      "cell_type": "markdown",
      "source": [
        "# Why Algorithms Matter 🎯\n",
        "\n",
        "Algorithms are everywhere! From making breakfast to running a government department, having a clear set of steps makes the difference between chaos and success. Let's see why programs need algorithms just like people do.\n",
        "\n",
        "#### Without an Algorithm (Chaos):\n",
        "Imagine if Leslie tried to make her beloved waffles without a plan:\n",
        "- Pour... something?\n",
        "- Heat... somehow?\n",
        "- Hope for the best?\n",
        "- Result: 🔥 Disaster!\n",
        "\n",
        "#### With an Algorithm (Success):\n",
        "```\n",
        "// Leslie's Waffle Algorithm\n",
        "    1. Preheat waffle iron\n",
        "    2. Mix 2 cups flour\n",
        "    3. Add 2 eggs\n",
        "    4. Add 1.75 cups milk\n",
        "    5. Pour batter into iron\n",
        "    6. Cook for 3 minutes\n",
        "    7. Enjoy perfect waffle!\n",
        "}\n",
        "```\n",
        "\n",
        "### Why Programs Need Algorithms:\n",
        "1. **Consistency**: Same input → Same output (every waffle is perfect!)\n",
        "2. **Efficiency**: No wasted steps (save time for more important work)\n",
        "3. **Correctness**: Solve the problem properly (edible waffles, not burnt disasters)\n",
        "4. **Communication**: Others can understand and follow your solution\n",
        "\n",
        "### Parks Department Example:\n",
        "Instead of randomly maintaining parks, the department uses algorithms to:\n",
        "- Schedule regular maintenance\n",
        "- Allocate budget efficiently\n",
        "- Process permit applications fairly\n",
        "- Organize events systematically\n",
        "\n",
        "**Remember**: A good algorithm is like a good recipe - anyone should be able to follow it and get the same great result!"
      ],
      "metadata": {
        "id": "fkbXHUs69_yL"
      }
    },
    {
      "cell_type": "markdown",
      "source": [
        "# Algorithm Example: Ron's Perfect Burger Recipe 🍔\n",
        "\n",
        "Meet Ron Swanson, the Parks Director who paradoxically dislikes government but LOVES meat. His burger algorithm is legendary for its simplicity and effectiveness. Let's see how his step-by-step approach translates to code.\n",
        "\n",
        "### Ron's Burger Algorithm:\n",
        "\n"
      ],
      "metadata": {
        "id": "3ypngrUe-ecc"
      }
    },
    {
      "cell_type": "code",
      "source": [
        "%%writefile PerfectBurger.java\n",
        "public class PerfectBurger {\n",
        "  public static void main(String[] args) {\n",
        "      // Ron's Perfect Burger Algorithm\n",
        "\n",
        "      // Step 1: Meat selection\n",
        "      String meat = \"beef\";\n",
        "      double weight = 0.5;  // Half pound\n",
        "      System.out.println(\"Step 1: Select \" + weight + \" pounds of \" + meat);\n",
        "\n",
        "      // Step 2: Season appropriately\n",
        "      boolean addSalt = true;\n",
        "      boolean addPepper = true;\n",
        "      if (addSalt && addPepper) {\n",
        "          System.out.println(\"Step 2: Add salt and pepper. Nothing else.\");\n",
        "      }\n",
        "\n",
        "      // Step 3: Cook to perfection\n",
        "      int grillTemp = 400;\n",
        "      int minutesPerSide = 4;\n",
        "      System.out.println(\"Step 3: Grill at \" + grillTemp + \"°F\");\n",
        "      System.out.println(\"        Cook \" + minutesPerSide + \" minutes per side\");\n",
        "\n",
        "      // Step 4: Serve simply\n",
        "      String bun = \"none\";  // Ron often skips the bun\n",
        "      String toppings = \"none\";  // \"Vegetables are what food eats\"\n",
        "      System.out.println(\"Step 4: Serve. Bun: \" + bun + \", Toppings: \" + toppings);\n",
        "\n",
        "      // Step 5: Enjoy\n",
        "      System.out.println(\"Step 5: Consume immediately.\");\n",
        "  }\n",
        "}"
      ],
      "metadata": {
        "colab": {
          "base_uri": "https://localhost:8080/"
        },
        "id": "Jx0bKK2B-nzH",
        "outputId": "af421a2e-ca40-4b52-f7aa-b6c76e0a1b18"
      },
      "execution_count": 1,
      "outputs": [
        {
          "output_type": "stream",
          "name": "stdout",
          "text": [
            "Writing PerfectBurger.java\n"
          ]
        }
      ]
    },
    {
      "cell_type": "code",
      "source": [
        "!javac PerfectBurger.java\n",
        "!java PerfectBurger"
      ],
      "metadata": {
        "colab": {
          "base_uri": "https://localhost:8080/"
        },
        "id": "Ge5-Mit7-z0c",
        "outputId": "681475c5-514d-4a14-8ed9-c665681c0469"
      },
      "execution_count": 2,
      "outputs": [
        {
          "output_type": "stream",
          "name": "stdout",
          "text": [
            "Step 1: Select 0.5 pounds of beef\n",
            "Step 2: Add salt and pepper. Nothing else.\n",
            "Step 3: Grill at 400°F\n",
            "        Cook 4 minutes per side\n",
            "Step 4: Serve. Bun: none, Toppings: none\n",
            "Step 5: Consume immediately.\n"
          ]
        }
      ]
    },
    {
      "cell_type": "markdown",
      "source": [
        "### What Makes This a Good Algorithm?\n",
        "1. **Clear steps**: Each action is specific\n",
        "2. **Precise values**: Exact temperature, time, and weight\n",
        "3. **Decision points**: Uses conditionals (if statements)\n",
        "4. **Complete**: Goes from raw ingredients to finished product\n",
        "5. **Reproducible**: Anyone can follow it\n",
        "\n",
        "### Key Takeaway:\n",
        "Even something as simple as making a burger benefits from algorithmic thinking!"
      ],
      "metadata": {
        "id": "xwJ4jkyZ-hjD"
      }
    },
    {
      "cell_type": "markdown",
      "source": [
        "# Characteristics of Good Algorithms ✅\n",
        "\n",
        "A good algorithm is like good instructions for assembling furniture - anyone should be able to follow it without getting confused, it should actually end, and you should have a complete piece of furniture when done! Let's explore the three key characteristics.\n",
        "\n",
        "### The Three C's of Good Algorithms\n",
        "\n",
        "#### 1. CLEAR (Unambiguous)\n",
        "❌ **Bad**: \"Add some water to the park fountain\"\n",
        "✅ **Good**: \"Add 50 gallons of water to the park fountain\"\n",
        "\n",
        "```java\n",
        "// Unclear algorithm\n",
        "System.out.println(\"Water the plants for a while\");\n",
        "\n",
        "// Clear algorithm\n",
        "int gallonsPerPlant = 2;\n",
        "int numberOfPlants = 15;\n",
        "System.out.println(\"Water each plant with \" + gallonsPerPlant + \" gallons\");\n",
        "System.out.println(\"Total water needed: \" + (gallonsPerPlant * numberOfPlants));\n",
        "```\n",
        "\n",
        "#### 2. FINITE (Must End)\n",
        "❌ **Bad**: Keep painting the fence forever\n",
        "✅ **Good**: Paint the fence until all 100 sections are done\n",
        "\n",
        "```java\n",
        "// This would run forever (DON'T DO THIS!)\n",
        "// while (true) {\n",
        "//     System.out.println(\"Keep painting...\");\n",
        "// }\n",
        "\n",
        "// This will end properly\n",
        "int fenceSections = 100;\n",
        "for (int i = 0; i < fenceSections; i++) {\n",
        "    System.out.println(\"Painting section \" + (i + 1));\n",
        "}\n",
        "System.out.println(\"Fence painting complete!\");\n",
        "```\n",
        "\n",
        "#### 3. EFFECTIVE (Solves the Problem)\n",
        "❌ **Bad**: Count park visitors but forget to add them up\n",
        "✅ **Good**: Count visitors AND calculate the total\n",
        "\n",
        "```java\n",
        "// Effective algorithm for counting daily visitors\n",
        "int[] hourlyVisitors = {5, 8, 12, 15, 20, 18, 14, 10, 6};\n",
        "int totalVisitors = 0;\n",
        "\n",
        "for (int i = 0; i < hourlyVisitors.length; i++) {\n",
        "    totalVisitors = totalVisitors + hourlyVisitors[i];\n",
        "}\n",
        "\n",
        "System.out.println(\"Total park visitors today: \" + totalVisitors);\n",
        "```\n",
        "\n",
        "### Remember:\n",
        "A good algorithm is like good instructions for assembling furniture - anyone should be able to follow it without getting confused, it should actually end, and you should have a complete piece of furniture at the end!"
      ],
      "metadata": {
        "id": "iC_QANh_-_jS"
      }
    },
    {
      "cell_type": "markdown",
      "source": [
        "# Problem #1: Fix Tom's Party Planning Algorithm 🎉\n",
        "## Debug and Complete the Code!\n",
        "\n",
        "### The Situation\n",
        "Tom Haverford (the trendy events coordinator) wrote an algorithm to plan his \"Entertainment 720\" park party, but it has problems! Help him fix it.\n",
        "\n",
        "### Tom's Broken Algorithm:"
      ],
      "metadata": {
        "id": "ENoiKlLQ_Aci"
      }
    },
    {
      "cell_type": "code",
      "source": [
        "%%writefile TomPartyPlanner.java\n",
        "public class TomPartyPlanner {\n",
        "  public static void main(String[] args) {\n",
        "      // Tom's Party Planning Algorithm (IT HAS ERRORS!)\n",
        "\n",
        "      int budget = 1000;\n",
        "      int guestCount = 75;\n",
        "      int costPerGuest;  // Tom forgot to set this!\n",
        "\n",
        "      System.out.println(\"Tom's Epic Party Planner!\");\n",
        "\n",
        "      // ERROR 1: What's the cost per guest?\n",
        "      int totalCost = guestCount * costPerGuest;\n",
        "\n",
        "      // ERROR 2: This condition is backwards!\n",
        "      if (totalCost > budget) {\n",
        "          System.out.println(\"Party is within budget! Let's go!\");\n",
        "      } else {\n",
        "          System.out.println(\"Need to cut costs or get more money!\");\n",
        "      }\n",
        "\n",
        "      // TODO 1: Add code to calculate how many pizzas needed\n",
        "      // (Assume 3 slices per person, 8 slices per pizza)\n",
        "\n",
        "\n",
        "      // TODO 2: Add code to determine party location\n",
        "      // If guests <= 50: Small pavilion\n",
        "      // If guests <= 100: Large pavilion\n",
        "      // If guests > 100: Main park area\n",
        "\n",
        "\n",
        "      // ERROR 3: This loop never ends!\n",
        "      int decorations = 0;\n",
        "      while (decorations < 10) {\n",
        "          System.out.println(\"Adding decoration #\" + decorations);\n",
        "          // What's missing here?\n",
        "      }\n",
        "  }\n",
        "}"
      ],
      "metadata": {
        "colab": {
          "base_uri": "https://localhost:8080/"
        },
        "id": "xMBppFvv_LYE",
        "outputId": "e8d8167d-e32b-448b-e1e1-3fa69e9f2826"
      },
      "execution_count": 3,
      "outputs": [
        {
          "output_type": "stream",
          "name": "stdout",
          "text": [
            "Writing TomPartyPlanner.java\n"
          ]
        }
      ]
    },
    {
      "cell_type": "code",
      "source": [
        "!javac TomPartyPlanner.java\n",
        "!java TomPartyPlanner"
      ],
      "metadata": {
        "id": "0JMgCSZR_hU7"
      },
      "execution_count": null,
      "outputs": []
    },
    {
      "cell_type": "markdown",
      "source": [
        "\n",
        "### Your Tasks:\n",
        "1. **Fix ERROR 1**: Set costPerGuest to 12\n",
        "2. **Fix ERROR 2**: The if-condition logic is backwards\n",
        "3. **Fix ERROR 3**: The loop needs to increment decorations\n",
        "4. **Complete TODO 1**: Calculate pizzas needed\n",
        "5. **Complete TODO 2**: Add if-else statements for location\n",
        "\n",
        "### Hints:\n",
        "- For pizzas: totalSlices = guestCount * 3, then pizzasNeeded = totalSlices / 8\n",
        "- For the while loop: Don't forget decorations++\n",
        "- The if-condition should check if totalCost <= budget for success"
      ],
      "metadata": {
        "id": "DSn8izoG_GsP"
      }
    },
    {
      "cell_type": "markdown",
      "source": [
        "# Flowcharts: Drawing Your Algorithm 📊\n",
        "\n",
        "A **flowchart** is a visual representation of an algorithm using shapes and arrows. Think of it like a map showing how to navigate through your program - much like how the Parks Department uses blueprints to design park layouts!\n",
        "\n",
        "### Why Use Flowcharts?\n",
        "- **Plan** before you code (like sketching a park layout)\n",
        "- **Visualize** the logic flow\n",
        "- **Communicate** ideas to others\n",
        "- **Debug** by seeing where logic might fail\n",
        "\n",
        "We'll use a tool called Mermaid to create professional flowcharts in our documentation!"
      ],
      "metadata": {
        "id": "KqCGjt_k_jtw"
      }
    },
    {
      "cell_type": "markdown",
      "source": [
        "# Flowchart Symbols: The Building Blocks 🔷\n",
        "\n",
        "Just like blueprints use standard symbols for doors, windows, and walls, flowcharts use standard shapes to represent different parts of your algorithm. Let's learn the essential symbols you'll use to draw your programs.\n",
        "\n",
        "### The Essential Flowchart Symbols\n",
        "\n",
        "#### 1. Start/End (Oval Shape) 🟢\n",
        "- **Purpose**: Mark beginning and end points\n",
        "- **In Code**: Where main method starts and ends\n",
        "- **Example**: \"Start Park Inspection\" or \"End Daily Report\"\n",
        "\n",
        "```java\n",
        "public static void main(String[] args) {  // START\n",
        "    // Your code here\n",
        "}  // END\n",
        "```\n",
        "\n",
        "#### 2. Process (Rectangle) 📦\n",
        "- **Purpose**: Show actions, calculations, or assignments\n",
        "- **In Code**: Variable assignments, calculations, print statements\n",
        "- **Examples**:\n",
        "  - \"Calculate entrance fee\"\n",
        "  - \"Add visitor to count\"\n",
        "  - \"Print receipt\"\n",
        "\n",
        "```java\n",
        "int visitors = 0;           // Process: Initialize\n",
        "visitors = visitors + 1;     // Process: Increment\n",
        "System.out.println(visitors); // Process: Output\n",
        "```\n",
        "\n",
        "#### 3. Decision (Diamond) 🔷\n",
        "- **Purpose**: Show Yes/No questions or conditions\n",
        "- **In Code**: if statements, while/for loop conditions\n",
        "- **Examples**:\n",
        "  - \"Is age >= 65?\"\n",
        "  - \"Is park at capacity?\"\n",
        "  - \"More items to process?\"\n",
        "\n",
        "```java\n",
        "if (age >= 65) {    // Decision diamond\n",
        "    // Yes path\n",
        "} else {\n",
        "    // No path\n",
        "}\n",
        "```\n",
        "\n",
        "#### 4. Flow Lines (Arrows) ➡️\n",
        "- **Purpose**: Connect symbols and show direction\n",
        "- **Rules**:\n",
        "  - One arrow leaves Start\n",
        "  - All paths lead to End\n",
        "  - Decision diamonds have two exits (Yes/No)\n",
        "\n",
        "### Putting It Together:\n",
        "```\n",
        "Mermaid code example:\n",
        "flowchart TD\n",
        "    A[Start] --> B[Input age]\n",
        "    B --> C{Age >= 65?}\n",
        "    C -->|Yes| D[Senior discount]\n",
        "    C -->|No| E[Regular price]\n",
        "    D --> F[Calculate total]\n",
        "    E --> F\n",
        "    F --> G[End]\n",
        "```\n",
        "\n",
        "### Remember:\n",
        "- Ovals = Start/Stop points\n",
        "- Rectangles = Do something\n",
        "- Diamonds = Make a choice\n",
        "- Arrows = Show the path\n",
        "\n",
        "Here's what this looks like:"
      ],
      "metadata": {
        "id": "2fbNES7e_yDe"
      }
    },
    {
      "cell_type": "code",
      "source": [
        "import base64\n",
        "import requests\n",
        "from IPython.display import SVG, display\n",
        "\n",
        "def mm(graph: str) -> None:\n",
        "    \"\"\"\n",
        "    Fetch and display a Mermaid diagram as SVG.\n",
        "\n",
        "    Parameters:\n",
        "      graph (str): Mermaid graph definition.\n",
        "    \"\"\"\n",
        "    # 1. Encode the graph to Base64\n",
        "    b64 = base64.urlsafe_b64encode(graph.encode('utf-8')).decode('ascii')\n",
        "    # 2. Construct the SVG URL\n",
        "    url = f'https://mermaid.ink/svg/{b64}'\n",
        "    # 3. Fetch SVG content\n",
        "    svg_data = requests.get(url).text\n",
        "    # 4. Render inline in Jupyter\n",
        "    display(SVG(data=svg_data))\n"
      ],
      "metadata": {
        "id": "Ks_ItuLuAJVb"
      },
      "execution_count": 6,
      "outputs": []
    },
    {
      "cell_type": "code",
      "source": [
        "# Here is the diagram\n",
        "mm(\"\"\"\n",
        "  flowchart TD\n",
        "    A([Start]) --> B[Input age]\n",
        "    B --> C{Age >= 65?}\n",
        "    C -->|Yes| D[Senior discount]\n",
        "    C -->|No| E[Regular price]\n",
        "    D --> F[Calculate total]\n",
        "    E --> F\n",
        "    F --> G([End])\n",
        "    \"\"\")"
      ],
      "metadata": {
        "colab": {
          "base_uri": "https://localhost:8080/",
          "height": 688
        },
        "id": "wZBtp1Gs_1ib",
        "outputId": "dadd5996-430c-454a-a153-a2fac129f655"
      },
      "execution_count": 10,
      "outputs": [
        {
          "output_type": "display_data",
          "data": {
            "text/plain": [
              "<IPython.core.display.SVG object>"
            ],
            "image/svg+xml": "<svg xmlns=\"http://www.w3.org/2000/svg\" xmlns:xlink=\"http://www.w3.org/1999/xlink\" id=\"mermaid-svg\" width=\"100%\" class=\"flowchart\" style=\"max-width: 391.453125px;\" viewBox=\"0 0 391.453125 666.75\" role=\"graphics-document document\" aria-roledescription=\"flowchart-v2\"><style xmlns=\"http://www.w3.org/1999/xhtml\">@import url(&quot;https://cdnjs.cloudflare.com/ajax/libs/font-awesome/6.7.2/css/all.min.css&quot;);</style><style>#mermaid-svg{font-family:&quot;trebuchet ms&quot;,verdana,arial,sans-serif;font-size:16px;fill:#333;}@keyframes edge-animation-frame{from{stroke-dashoffset:0;}}@keyframes dash{to{stroke-dashoffset:0;}}#mermaid-svg .edge-animation-slow{stroke-dasharray:9,5!important;stroke-dashoffset:900;animation:dash 50s linear infinite;stroke-linecap:round;}#mermaid-svg .edge-animation-fast{stroke-dasharray:9,5!important;stroke-dashoffset:900;animation:dash 20s linear infinite;stroke-linecap:round;}#mermaid-svg .error-icon{fill:#552222;}#mermaid-svg .error-text{fill:#552222;stroke:#552222;}#mermaid-svg .edge-thickness-normal{stroke-width:1px;}#mermaid-svg .edge-thickness-thick{stroke-width:3.5px;}#mermaid-svg .edge-pattern-solid{stroke-dasharray:0;}#mermaid-svg .edge-thickness-invisible{stroke-width:0;fill:none;}#mermaid-svg .edge-pattern-dashed{stroke-dasharray:3;}#mermaid-svg .edge-pattern-dotted{stroke-dasharray:2;}#mermaid-svg .marker{fill:#333333;stroke:#333333;}#mermaid-svg .marker.cross{stroke:#333333;}#mermaid-svg svg{font-family:&quot;trebuchet ms&quot;,verdana,arial,sans-serif;font-size:16px;}#mermaid-svg p{margin:0;}#mermaid-svg .label{font-family:&quot;trebuchet ms&quot;,verdana,arial,sans-serif;color:#333;}#mermaid-svg .cluster-label text{fill:#333;}#mermaid-svg .cluster-label span{color:#333;}#mermaid-svg .cluster-label span p{background-color:transparent;}#mermaid-svg .label text,#mermaid-svg span{fill:#333;color:#333;}#mermaid-svg .node rect,#mermaid-svg .node circle,#mermaid-svg .node ellipse,#mermaid-svg .node polygon,#mermaid-svg .node path{fill:#ECECFF;stroke:#9370DB;stroke-width:1px;}#mermaid-svg .rough-node .label text,#mermaid-svg .node .label text,#mermaid-svg .image-shape .label,#mermaid-svg .icon-shape .label{text-anchor:middle;}#mermaid-svg .node .katex path{fill:#000;stroke:#000;stroke-width:1px;}#mermaid-svg .rough-node .label,#mermaid-svg .node .label,#mermaid-svg .image-shape .label,#mermaid-svg .icon-shape .label{text-align:center;}#mermaid-svg .node.clickable{cursor:pointer;}#mermaid-svg .root .anchor path{fill:#333333!important;stroke-width:0;stroke:#333333;}#mermaid-svg .arrowheadPath{fill:#333333;}#mermaid-svg .edgePath .path{stroke:#333333;stroke-width:2.0px;}#mermaid-svg .flowchart-link{stroke:#333333;fill:none;}#mermaid-svg .edgeLabel{background-color:rgba(232,232,232, 0.8);text-align:center;}#mermaid-svg .edgeLabel p{background-color:rgba(232,232,232, 0.8);}#mermaid-svg .edgeLabel rect{opacity:0.5;background-color:rgba(232,232,232, 0.8);fill:rgba(232,232,232, 0.8);}#mermaid-svg .labelBkg{background-color:rgba(232, 232, 232, 0.5);}#mermaid-svg .cluster rect{fill:#ffffde;stroke:#aaaa33;stroke-width:1px;}#mermaid-svg .cluster text{fill:#333;}#mermaid-svg .cluster span{color:#333;}#mermaid-svg div.mermaidTooltip{position:absolute;text-align:center;max-width:200px;padding:2px;font-family:&quot;trebuchet ms&quot;,verdana,arial,sans-serif;font-size:12px;background:hsl(80, 100%, 96.2745098039%);border:1px solid #aaaa33;border-radius:2px;pointer-events:none;z-index:100;}#mermaid-svg .flowchartTitleText{text-anchor:middle;font-size:18px;fill:#333;}#mermaid-svg rect.text{fill:none;stroke-width:0;}#mermaid-svg .icon-shape,#mermaid-svg .image-shape{background-color:rgba(232,232,232, 0.8);text-align:center;}#mermaid-svg .icon-shape p,#mermaid-svg .image-shape p{background-color:rgba(232,232,232, 0.8);padding:2px;}#mermaid-svg .icon-shape rect,#mermaid-svg .image-shape rect{opacity:0.5;background-color:rgba(232,232,232, 0.8);fill:rgba(232,232,232, 0.8);}#mermaid-svg :root{--mermaid-font-family:&quot;trebuchet ms&quot;,verdana,arial,sans-serif;}</style><g><marker id=\"mermaid-svg_flowchart-v2-pointEnd\" class=\"marker flowchart-v2\" viewBox=\"0 0 10 10\" refX=\"5\" refY=\"5\" markerUnits=\"userSpaceOnUse\" markerWidth=\"8\" markerHeight=\"8\" orient=\"auto\"><path d=\"M 0 0 L 10 5 L 0 10 z\" class=\"arrowMarkerPath\" style=\"stroke-width: 1; stroke-dasharray: 1, 0;\"/></marker><marker id=\"mermaid-svg_flowchart-v2-pointStart\" class=\"marker flowchart-v2\" viewBox=\"0 0 10 10\" refX=\"4.5\" refY=\"5\" markerUnits=\"userSpaceOnUse\" markerWidth=\"8\" markerHeight=\"8\" orient=\"auto\"><path d=\"M 0 5 L 10 10 L 10 0 z\" class=\"arrowMarkerPath\" style=\"stroke-width: 1; stroke-dasharray: 1, 0;\"/></marker><marker id=\"mermaid-svg_flowchart-v2-circleEnd\" class=\"marker flowchart-v2\" viewBox=\"0 0 10 10\" refX=\"11\" refY=\"5\" markerUnits=\"userSpaceOnUse\" markerWidth=\"11\" markerHeight=\"11\" orient=\"auto\"><circle cx=\"5\" cy=\"5\" r=\"5\" class=\"arrowMarkerPath\" style=\"stroke-width: 1; stroke-dasharray: 1, 0;\"/></marker><marker id=\"mermaid-svg_flowchart-v2-circleStart\" class=\"marker flowchart-v2\" viewBox=\"0 0 10 10\" refX=\"-1\" refY=\"5\" markerUnits=\"userSpaceOnUse\" markerWidth=\"11\" markerHeight=\"11\" orient=\"auto\"><circle cx=\"5\" cy=\"5\" r=\"5\" class=\"arrowMarkerPath\" style=\"stroke-width: 1; stroke-dasharray: 1, 0;\"/></marker><marker id=\"mermaid-svg_flowchart-v2-crossEnd\" class=\"marker cross flowchart-v2\" viewBox=\"0 0 11 11\" refX=\"12\" refY=\"5.2\" markerUnits=\"userSpaceOnUse\" markerWidth=\"11\" markerHeight=\"11\" orient=\"auto\"><path d=\"M 1,1 l 9,9 M 10,1 l -9,9\" class=\"arrowMarkerPath\" style=\"stroke-width: 2; stroke-dasharray: 1, 0;\"/></marker><marker id=\"mermaid-svg_flowchart-v2-crossStart\" class=\"marker cross flowchart-v2\" viewBox=\"0 0 11 11\" refX=\"-1\" refY=\"5.2\" markerUnits=\"userSpaceOnUse\" markerWidth=\"11\" markerHeight=\"11\" orient=\"auto\"><path d=\"M 1,1 l 9,9 M 10,1 l -9,9\" class=\"arrowMarkerPath\" style=\"stroke-width: 2; stroke-dasharray: 1, 0;\"/></marker><g class=\"root\"><g class=\"clusters\"/><g class=\"edgePaths\"><path d=\"M199.512,47L199.512,51.167C199.512,55.333,199.512,63.667,199.512,71.333C199.512,79,199.512,86,199.512,89.5L199.512,93\" id=\"L_A_B_0\" class=\" edge-thickness-normal edge-pattern-solid edge-thickness-normal edge-pattern-solid flowchart-link\" style=\"\" marker-end=\"url(#mermaid-svg_flowchart-v2-pointEnd)\"/><path d=\"M199.512,151L199.512,155.167C199.512,159.333,199.512,167.667,199.582,175.417C199.652,183.167,199.793,190.334,199.863,193.917L199.933,197.501\" id=\"L_B_C_0\" class=\" edge-thickness-normal edge-pattern-solid edge-thickness-normal edge-pattern-solid flowchart-link\" style=\"\" marker-end=\"url(#mermaid-svg_flowchart-v2-pointEnd)\"/><path d=\"M165.665,303.903L153.579,315.711C141.493,327.519,117.321,351.134,105.234,368.442C93.148,385.75,93.148,396.75,93.148,402.25L93.148,407.75\" id=\"L_C_D_0\" class=\" edge-thickness-normal edge-pattern-solid edge-thickness-normal edge-pattern-solid flowchart-link\" style=\"\" marker-end=\"url(#mermaid-svg_flowchart-v2-pointEnd)\"/><path d=\"M234.359,303.903L246.278,315.711C258.198,327.519,282.036,351.134,293.956,368.442C305.875,385.75,305.875,396.75,305.875,402.25L305.875,407.75\" id=\"L_C_E_0\" class=\" edge-thickness-normal edge-pattern-solid edge-thickness-normal edge-pattern-solid flowchart-link\" style=\"\" marker-end=\"url(#mermaid-svg_flowchart-v2-pointEnd)\"/><path d=\"M93.148,465.75L93.148,469.917C93.148,474.083,93.148,482.417,101.072,490.457C108.996,498.498,124.844,506.245,132.767,510.119L140.691,513.993\" id=\"L_D_F_0\" class=\" edge-thickness-normal edge-pattern-solid edge-thickness-normal edge-pattern-solid flowchart-link\" style=\"\" marker-end=\"url(#mermaid-svg_flowchart-v2-pointEnd)\"/><path d=\"M305.875,465.75L305.875,469.917C305.875,474.083,305.875,482.417,297.951,490.457C290.027,498.498,274.18,506.245,266.256,510.119L258.332,513.993\" id=\"L_E_F_0\" class=\" edge-thickness-normal edge-pattern-solid edge-thickness-normal edge-pattern-solid flowchart-link\" style=\"\" marker-end=\"url(#mermaid-svg_flowchart-v2-pointEnd)\"/><path d=\"M199.512,569.75L199.512,573.917C199.512,578.083,199.512,586.417,199.512,594.083C199.512,601.75,199.512,608.75,199.512,612.25L199.512,615.75\" id=\"L_F_G_0\" class=\" edge-thickness-normal edge-pattern-solid edge-thickness-normal edge-pattern-solid flowchart-link\" style=\"\" marker-end=\"url(#mermaid-svg_flowchart-v2-pointEnd)\"/></g><g class=\"edgeLabels\"><g class=\"edgeLabel\"><g class=\"label\" transform=\"translate(0, 0)\"><foreignObject width=\"0\" height=\"0\"><div xmlns=\"http://www.w3.org/1999/xhtml\" class=\"labelBkg\" style=\"display: table-cell; white-space: nowrap; line-height: 1.5; max-width: 200px; text-align: center;\"><span class=\"edgeLabel \"/></div></foreignObject></g></g><g class=\"edgeLabel\"><g class=\"label\" transform=\"translate(0, 0)\"><foreignObject width=\"0\" height=\"0\"><div xmlns=\"http://www.w3.org/1999/xhtml\" class=\"labelBkg\" style=\"display: table-cell; white-space: nowrap; line-height: 1.5; max-width: 200px; text-align: center;\"><span class=\"edgeLabel \"/></div></foreignObject></g></g><g class=\"edgeLabel\" transform=\"translate(93.1484375, 374.75)\"><g class=\"label\" transform=\"translate(-13.0546875, -12)\"><foreignObject width=\"26.109375\" height=\"24\"><div xmlns=\"http://www.w3.org/1999/xhtml\" class=\"labelBkg\" style=\"display: table-cell; white-space: nowrap; line-height: 1.5; max-width: 200px; text-align: center;\"><span class=\"edgeLabel \"><p>Yes</p></span></div></foreignObject></g></g><g class=\"edgeLabel\" transform=\"translate(305.875, 374.75)\"><g class=\"label\" transform=\"translate(-10.2265625, -12)\"><foreignObject width=\"20.453125\" height=\"24\"><div xmlns=\"http://www.w3.org/1999/xhtml\" class=\"labelBkg\" style=\"display: table-cell; white-space: nowrap; line-height: 1.5; max-width: 200px; text-align: center;\"><span class=\"edgeLabel \"><p>No</p></span></div></foreignObject></g></g><g class=\"edgeLabel\"><g class=\"label\" transform=\"translate(0, 0)\"><foreignObject width=\"0\" height=\"0\"><div xmlns=\"http://www.w3.org/1999/xhtml\" class=\"labelBkg\" style=\"display: table-cell; white-space: nowrap; line-height: 1.5; max-width: 200px; text-align: center;\"><span class=\"edgeLabel \"/></div></foreignObject></g></g><g class=\"edgeLabel\"><g class=\"label\" transform=\"translate(0, 0)\"><foreignObject width=\"0\" height=\"0\"><div xmlns=\"http://www.w3.org/1999/xhtml\" class=\"labelBkg\" style=\"display: table-cell; white-space: nowrap; line-height: 1.5; max-width: 200px; text-align: center;\"><span class=\"edgeLabel \"/></div></foreignObject></g></g><g class=\"edgeLabel\"><g class=\"label\" transform=\"translate(0, 0)\"><foreignObject width=\"0\" height=\"0\"><div xmlns=\"http://www.w3.org/1999/xhtml\" class=\"labelBkg\" style=\"display: table-cell; white-space: nowrap; line-height: 1.5; max-width: 200px; text-align: center;\"><span class=\"edgeLabel \"/></div></foreignObject></g></g></g><g class=\"nodes\"><g class=\"node default  \" id=\"flowchart-A-0\" transform=\"translate(199.51171875, 27.5)\"><rect class=\"basic label-container\" style=\"\" rx=\"19.5\" ry=\"19.5\" x=\"-29.2734375\" y=\"-19.5\" width=\"58.546875\" height=\"39\"/><g class=\"label\" style=\"\" transform=\"translate(-16.8984375, -12)\"><rect/><foreignObject width=\"33.796875\" height=\"24\"><div xmlns=\"http://www.w3.org/1999/xhtml\" style=\"display: table-cell; white-space: nowrap; line-height: 1.5; max-width: 200px; text-align: center;\"><span class=\"nodeLabel \"><p>Start</p></span></div></foreignObject></g></g><g class=\"node default  \" id=\"flowchart-B-1\" transform=\"translate(199.51171875, 124)\"><rect class=\"basic label-container\" style=\"\" x=\"-63.3671875\" y=\"-27\" width=\"126.734375\" height=\"54\"/><g class=\"label\" style=\"\" transform=\"translate(-33.3671875, -12)\"><rect/><foreignObject width=\"66.734375\" height=\"24\"><div xmlns=\"http://www.w3.org/1999/xhtml\" style=\"display: table-cell; white-space: nowrap; line-height: 1.5; max-width: 200px; text-align: center;\"><span class=\"nodeLabel \"><p>Input age</p></span></div></foreignObject></g></g><g class=\"node default  \" id=\"flowchart-C-3\" transform=\"translate(199.51171875, 269.375)\"><polygon points=\"68.375,0 136.75,-68.375 68.375,-136.75 0,-68.375\" class=\"label-container\" transform=\"translate(-68.375,68.375)\"/><g class=\"label\" style=\"\" transform=\"translate(-41.375, -12)\"><rect/><foreignObject width=\"82.75\" height=\"24\"><div xmlns=\"http://www.w3.org/1999/xhtml\" style=\"display: table-cell; white-space: nowrap; line-height: 1.5; max-width: 200px; text-align: center;\"><span class=\"nodeLabel \"><p>Age &gt;= 65?</p></span></div></foreignObject></g></g><g class=\"node default  \" id=\"flowchart-D-5\" transform=\"translate(93.1484375, 438.75)\"><rect class=\"basic label-container\" style=\"\" x=\"-85.1484375\" y=\"-27\" width=\"170.296875\" height=\"54\"/><g class=\"label\" style=\"\" transform=\"translate(-55.1484375, -12)\"><rect/><foreignObject width=\"110.296875\" height=\"24\"><div xmlns=\"http://www.w3.org/1999/xhtml\" style=\"display: table-cell; white-space: nowrap; line-height: 1.5; max-width: 200px; text-align: center;\"><span class=\"nodeLabel \"><p>Senior discount</p></span></div></foreignObject></g></g><g class=\"node default  \" id=\"flowchart-E-7\" transform=\"translate(305.875, 438.75)\"><rect class=\"basic label-container\" style=\"\" x=\"-77.578125\" y=\"-27\" width=\"155.15625\" height=\"54\"/><g class=\"label\" style=\"\" transform=\"translate(-47.578125, -12)\"><rect/><foreignObject width=\"95.15625\" height=\"24\"><div xmlns=\"http://www.w3.org/1999/xhtml\" style=\"display: table-cell; white-space: nowrap; line-height: 1.5; max-width: 200px; text-align: center;\"><span class=\"nodeLabel \"><p>Regular price</p></span></div></foreignObject></g></g><g class=\"node default  \" id=\"flowchart-F-9\" transform=\"translate(199.51171875, 542.75)\"><rect class=\"basic label-container\" style=\"\" x=\"-80.6953125\" y=\"-27\" width=\"161.390625\" height=\"54\"/><g class=\"label\" style=\"\" transform=\"translate(-50.6953125, -12)\"><rect/><foreignObject width=\"101.390625\" height=\"24\"><div xmlns=\"http://www.w3.org/1999/xhtml\" style=\"display: table-cell; white-space: nowrap; line-height: 1.5; max-width: 200px; text-align: center;\"><span class=\"nodeLabel \"><p>Calculate total</p></span></div></foreignObject></g></g><g class=\"node default  \" id=\"flowchart-G-13\" transform=\"translate(199.51171875, 639.25)\"><rect class=\"basic label-container\" style=\"\" rx=\"19.5\" ry=\"19.5\" x=\"-26.609375\" y=\"-19.5\" width=\"53.21875\" height=\"39\"/><g class=\"label\" style=\"\" transform=\"translate(-14.234375, -12)\"><rect/><foreignObject width=\"28.46875\" height=\"24\"><div xmlns=\"http://www.w3.org/1999/xhtml\" style=\"display: table-cell; white-space: nowrap; line-height: 1.5; max-width: 200px; text-align: center;\"><span class=\"nodeLabel \"><p>End</p></span></div></foreignObject></g></g></g></g></g></svg>"
          },
          "metadata": {}
        }
      ]
    },
    {
      "cell_type": "markdown",
      "source": [
        "# Simple Flowchart: Should We Have a Town Meeting? 🏛️\n",
        "## (if-else Decision)\n",
        "\n",
        "### The Scenario\n",
        "Leslie needs to decide if a town meeting is required based on the number of citizen complaints. If there are 10 or more complaints, she must schedule a meeting.\n",
        "\n",
        "### The Algorithm in Java:\n",
        "```java\n",
        "public static void main(String[] args) {\n",
        "    int complaints = 12;\n",
        "    \n",
        "    if (complaints >= 10) {\n",
        "        System.out.println(\"Schedule town meeting\");\n",
        "        System.out.println(\"Book the community center\");\n",
        "        System.out.println(\"Send notifications\");\n",
        "    } else {\n",
        "        System.out.println(\"Handle individually\");\n",
        "        System.out.println(\"Send email responses\");\n",
        "    }\n",
        "}\n",
        "```\n",
        "\n",
        "### The Flowchart (Mermaid):\n"
      ],
      "metadata": {
        "id": "IPz4WL6SAnBj"
      }
    },
    {
      "cell_type": "code",
      "source": [
        "mm(\"\"\"\n",
        "flowchart TD\n",
        "    A([Start]) --> B[Count citizen complaints]\n",
        "    B --> C{Complaints >= 10?}\n",
        "    C -->|Yes| D[Schedule town meeting]\n",
        "    D --> E[Book community center]\n",
        "    E --> F[Send notifications]\n",
        "    C -->|No| G[Handle individually]\n",
        "    G --> H[Send email responses]\n",
        "    F --> I([End])\n",
        "    H --> I\n",
        "\"\"\")"
      ],
      "metadata": {
        "colab": {
          "base_uri": "https://localhost:8080/",
          "height": 843
        },
        "id": "VOiDxbqqA6na",
        "outputId": "2f965f0a-fbf6-481c-a78f-9cc27beced61"
      },
      "execution_count": 11,
      "outputs": [
        {
          "output_type": "display_data",
          "data": {
            "text/plain": [
              "<IPython.core.display.SVG object>"
            ],
            "image/svg+xml": "<svg xmlns=\"http://www.w3.org/2000/svg\" xmlns:xlink=\"http://www.w3.org/1999/xlink\" id=\"mermaid-svg\" width=\"100%\" class=\"flowchart\" style=\"max-width: 499.0546875px;\" viewBox=\"0 0 499.0546875 822.3125\" role=\"graphics-document document\" aria-roledescription=\"flowchart-v2\"><style xmlns=\"http://www.w3.org/1999/xhtml\">@import url(&quot;https://cdnjs.cloudflare.com/ajax/libs/font-awesome/6.7.2/css/all.min.css&quot;);</style><style>#mermaid-svg{font-family:&quot;trebuchet ms&quot;,verdana,arial,sans-serif;font-size:16px;fill:#333;}@keyframes edge-animation-frame{from{stroke-dashoffset:0;}}@keyframes dash{to{stroke-dashoffset:0;}}#mermaid-svg .edge-animation-slow{stroke-dasharray:9,5!important;stroke-dashoffset:900;animation:dash 50s linear infinite;stroke-linecap:round;}#mermaid-svg .edge-animation-fast{stroke-dasharray:9,5!important;stroke-dashoffset:900;animation:dash 20s linear infinite;stroke-linecap:round;}#mermaid-svg .error-icon{fill:#552222;}#mermaid-svg .error-text{fill:#552222;stroke:#552222;}#mermaid-svg .edge-thickness-normal{stroke-width:1px;}#mermaid-svg .edge-thickness-thick{stroke-width:3.5px;}#mermaid-svg .edge-pattern-solid{stroke-dasharray:0;}#mermaid-svg .edge-thickness-invisible{stroke-width:0;fill:none;}#mermaid-svg .edge-pattern-dashed{stroke-dasharray:3;}#mermaid-svg .edge-pattern-dotted{stroke-dasharray:2;}#mermaid-svg .marker{fill:#333333;stroke:#333333;}#mermaid-svg .marker.cross{stroke:#333333;}#mermaid-svg svg{font-family:&quot;trebuchet ms&quot;,verdana,arial,sans-serif;font-size:16px;}#mermaid-svg p{margin:0;}#mermaid-svg .label{font-family:&quot;trebuchet ms&quot;,verdana,arial,sans-serif;color:#333;}#mermaid-svg .cluster-label text{fill:#333;}#mermaid-svg .cluster-label span{color:#333;}#mermaid-svg .cluster-label span p{background-color:transparent;}#mermaid-svg .label text,#mermaid-svg span{fill:#333;color:#333;}#mermaid-svg .node rect,#mermaid-svg .node circle,#mermaid-svg .node ellipse,#mermaid-svg .node polygon,#mermaid-svg .node path{fill:#ECECFF;stroke:#9370DB;stroke-width:1px;}#mermaid-svg .rough-node .label text,#mermaid-svg .node .label text,#mermaid-svg .image-shape .label,#mermaid-svg .icon-shape .label{text-anchor:middle;}#mermaid-svg .node .katex path{fill:#000;stroke:#000;stroke-width:1px;}#mermaid-svg .rough-node .label,#mermaid-svg .node .label,#mermaid-svg .image-shape .label,#mermaid-svg .icon-shape .label{text-align:center;}#mermaid-svg .node.clickable{cursor:pointer;}#mermaid-svg .root .anchor path{fill:#333333!important;stroke-width:0;stroke:#333333;}#mermaid-svg .arrowheadPath{fill:#333333;}#mermaid-svg .edgePath .path{stroke:#333333;stroke-width:2.0px;}#mermaid-svg .flowchart-link{stroke:#333333;fill:none;}#mermaid-svg .edgeLabel{background-color:rgba(232,232,232, 0.8);text-align:center;}#mermaid-svg .edgeLabel p{background-color:rgba(232,232,232, 0.8);}#mermaid-svg .edgeLabel rect{opacity:0.5;background-color:rgba(232,232,232, 0.8);fill:rgba(232,232,232, 0.8);}#mermaid-svg .labelBkg{background-color:rgba(232, 232, 232, 0.5);}#mermaid-svg .cluster rect{fill:#ffffde;stroke:#aaaa33;stroke-width:1px;}#mermaid-svg .cluster text{fill:#333;}#mermaid-svg .cluster span{color:#333;}#mermaid-svg div.mermaidTooltip{position:absolute;text-align:center;max-width:200px;padding:2px;font-family:&quot;trebuchet ms&quot;,verdana,arial,sans-serif;font-size:12px;background:hsl(80, 100%, 96.2745098039%);border:1px solid #aaaa33;border-radius:2px;pointer-events:none;z-index:100;}#mermaid-svg .flowchartTitleText{text-anchor:middle;font-size:18px;fill:#333;}#mermaid-svg rect.text{fill:none;stroke-width:0;}#mermaid-svg .icon-shape,#mermaid-svg .image-shape{background-color:rgba(232,232,232, 0.8);text-align:center;}#mermaid-svg .icon-shape p,#mermaid-svg .image-shape p{background-color:rgba(232,232,232, 0.8);padding:2px;}#mermaid-svg .icon-shape rect,#mermaid-svg .image-shape rect{opacity:0.5;background-color:rgba(232,232,232, 0.8);fill:rgba(232,232,232, 0.8);}#mermaid-svg :root{--mermaid-font-family:&quot;trebuchet ms&quot;,verdana,arial,sans-serif;}</style><g><marker id=\"mermaid-svg_flowchart-v2-pointEnd\" class=\"marker flowchart-v2\" viewBox=\"0 0 10 10\" refX=\"5\" refY=\"5\" markerUnits=\"userSpaceOnUse\" markerWidth=\"8\" markerHeight=\"8\" orient=\"auto\"><path d=\"M 0 0 L 10 5 L 0 10 z\" class=\"arrowMarkerPath\" style=\"stroke-width: 1; stroke-dasharray: 1, 0;\"/></marker><marker id=\"mermaid-svg_flowchart-v2-pointStart\" class=\"marker flowchart-v2\" viewBox=\"0 0 10 10\" refX=\"4.5\" refY=\"5\" markerUnits=\"userSpaceOnUse\" markerWidth=\"8\" markerHeight=\"8\" orient=\"auto\"><path d=\"M 0 5 L 10 10 L 10 0 z\" class=\"arrowMarkerPath\" style=\"stroke-width: 1; stroke-dasharray: 1, 0;\"/></marker><marker id=\"mermaid-svg_flowchart-v2-circleEnd\" class=\"marker flowchart-v2\" viewBox=\"0 0 10 10\" refX=\"11\" refY=\"5\" markerUnits=\"userSpaceOnUse\" markerWidth=\"11\" markerHeight=\"11\" orient=\"auto\"><circle cx=\"5\" cy=\"5\" r=\"5\" class=\"arrowMarkerPath\" style=\"stroke-width: 1; stroke-dasharray: 1, 0;\"/></marker><marker id=\"mermaid-svg_flowchart-v2-circleStart\" class=\"marker flowchart-v2\" viewBox=\"0 0 10 10\" refX=\"-1\" refY=\"5\" markerUnits=\"userSpaceOnUse\" markerWidth=\"11\" markerHeight=\"11\" orient=\"auto\"><circle cx=\"5\" cy=\"5\" r=\"5\" class=\"arrowMarkerPath\" style=\"stroke-width: 1; stroke-dasharray: 1, 0;\"/></marker><marker id=\"mermaid-svg_flowchart-v2-crossEnd\" class=\"marker cross flowchart-v2\" viewBox=\"0 0 11 11\" refX=\"12\" refY=\"5.2\" markerUnits=\"userSpaceOnUse\" markerWidth=\"11\" markerHeight=\"11\" orient=\"auto\"><path d=\"M 1,1 l 9,9 M 10,1 l -9,9\" class=\"arrowMarkerPath\" style=\"stroke-width: 2; stroke-dasharray: 1, 0;\"/></marker><marker id=\"mermaid-svg_flowchart-v2-crossStart\" class=\"marker cross flowchart-v2\" viewBox=\"0 0 11 11\" refX=\"-1\" refY=\"5.2\" markerUnits=\"userSpaceOnUse\" markerWidth=\"11\" markerHeight=\"11\" orient=\"auto\"><path d=\"M 1,1 l 9,9 M 10,1 l -9,9\" class=\"arrowMarkerPath\" style=\"stroke-width: 2; stroke-dasharray: 1, 0;\"/></marker><g class=\"root\"><g class=\"clusters\"/><g class=\"edgePaths\"><path d=\"M251.746,47L251.746,51.167C251.746,55.333,251.746,63.667,251.746,71.333C251.746,79,251.746,86,251.746,89.5L251.746,93\" id=\"L_A_B_0\" class=\" edge-thickness-normal edge-pattern-solid edge-thickness-normal edge-pattern-solid flowchart-link\" style=\"\" marker-end=\"url(#mermaid-svg_flowchart-v2-pointEnd)\"/><path d=\"M251.746,151L251.746,155.167C251.746,159.333,251.746,167.667,251.816,175.417C251.887,183.167,252.027,190.334,252.097,193.917L252.168,197.501\" id=\"L_B_C_0\" class=\" edge-thickness-normal edge-pattern-solid edge-thickness-normal edge-pattern-solid flowchart-link\" style=\"\" marker-end=\"url(#mermaid-svg_flowchart-v2-pointEnd)\"/><path d=\"M205.349,342.915L191.39,356.815C177.43,370.714,149.512,398.513,135.553,417.913C121.594,437.313,121.594,448.313,121.594,453.813L121.594,459.313\" id=\"L_C_D_0\" class=\" edge-thickness-normal edge-pattern-solid edge-thickness-normal edge-pattern-solid flowchart-link\" style=\"\" marker-end=\"url(#mermaid-svg_flowchart-v2-pointEnd)\"/><path d=\"M121.594,517.313L121.594,521.479C121.594,525.646,121.594,533.979,121.594,541.646C121.594,549.313,121.594,556.313,121.594,559.813L121.594,563.313\" id=\"L_D_E_0\" class=\" edge-thickness-normal edge-pattern-solid edge-thickness-normal edge-pattern-solid flowchart-link\" style=\"\" marker-end=\"url(#mermaid-svg_flowchart-v2-pointEnd)\"/><path d=\"M121.594,621.313L121.594,625.479C121.594,629.646,121.594,637.979,121.594,645.646C121.594,653.313,121.594,660.313,121.594,663.813L121.594,667.313\" id=\"L_E_F_0\" class=\" edge-thickness-normal edge-pattern-solid edge-thickness-normal edge-pattern-solid flowchart-link\" style=\"\" marker-end=\"url(#mermaid-svg_flowchart-v2-pointEnd)\"/><path d=\"M299.143,342.915L312.936,356.815C326.728,370.714,354.313,398.513,368.106,423.08C381.898,447.646,381.898,468.979,381.898,488.313C381.898,507.646,381.898,524.979,381.898,537.146C381.898,549.313,381.898,556.313,381.898,559.813L381.898,563.313\" id=\"L_C_G_0\" class=\" edge-thickness-normal edge-pattern-solid edge-thickness-normal edge-pattern-solid flowchart-link\" style=\"\" marker-end=\"url(#mermaid-svg_flowchart-v2-pointEnd)\"/><path d=\"M381.898,621.313L381.898,625.479C381.898,629.646,381.898,637.979,381.898,645.646C381.898,653.313,381.898,660.313,381.898,663.813L381.898,667.313\" id=\"L_G_H_0\" class=\" edge-thickness-normal edge-pattern-solid edge-thickness-normal edge-pattern-solid flowchart-link\" style=\"\" marker-end=\"url(#mermaid-svg_flowchart-v2-pointEnd)\"/><path d=\"M121.594,725.313L121.594,729.479C121.594,733.646,121.594,741.979,138.22,751.83C154.846,761.682,188.099,773.051,204.725,778.736L221.352,784.42\" id=\"L_F_I_0\" class=\" edge-thickness-normal edge-pattern-solid edge-thickness-normal edge-pattern-solid flowchart-link\" style=\"\" marker-end=\"url(#mermaid-svg_flowchart-v2-pointEnd)\"/><path d=\"M381.898,725.313L381.898,729.479C381.898,733.646,381.898,741.979,365.272,751.83C348.646,761.682,315.393,773.051,298.767,778.736L282.14,784.42\" id=\"L_H_I_0\" class=\" edge-thickness-normal edge-pattern-solid edge-thickness-normal edge-pattern-solid flowchart-link\" style=\"\" marker-end=\"url(#mermaid-svg_flowchart-v2-pointEnd)\"/></g><g class=\"edgeLabels\"><g class=\"edgeLabel\"><g class=\"label\" transform=\"translate(0, 0)\"><foreignObject width=\"0\" height=\"0\"><div xmlns=\"http://www.w3.org/1999/xhtml\" class=\"labelBkg\" style=\"display: table-cell; white-space: nowrap; line-height: 1.5; max-width: 200px; text-align: center;\"><span class=\"edgeLabel \"/></div></foreignObject></g></g><g class=\"edgeLabel\"><g class=\"label\" transform=\"translate(0, 0)\"><foreignObject width=\"0\" height=\"0\"><div xmlns=\"http://www.w3.org/1999/xhtml\" class=\"labelBkg\" style=\"display: table-cell; white-space: nowrap; line-height: 1.5; max-width: 200px; text-align: center;\"><span class=\"edgeLabel \"/></div></foreignObject></g></g><g class=\"edgeLabel\" transform=\"translate(121.59375, 426.3125)\"><g class=\"label\" transform=\"translate(-13.0546875, -12)\"><foreignObject width=\"26.109375\" height=\"24\"><div xmlns=\"http://www.w3.org/1999/xhtml\" class=\"labelBkg\" style=\"display: table-cell; white-space: nowrap; line-height: 1.5; max-width: 200px; text-align: center;\"><span class=\"edgeLabel \"><p>Yes</p></span></div></foreignObject></g></g><g class=\"edgeLabel\"><g class=\"label\" transform=\"translate(0, 0)\"><foreignObject width=\"0\" height=\"0\"><div xmlns=\"http://www.w3.org/1999/xhtml\" class=\"labelBkg\" style=\"display: table-cell; white-space: nowrap; line-height: 1.5; max-width: 200px; text-align: center;\"><span class=\"edgeLabel \"/></div></foreignObject></g></g><g class=\"edgeLabel\"><g class=\"label\" transform=\"translate(0, 0)\"><foreignObject width=\"0\" height=\"0\"><div xmlns=\"http://www.w3.org/1999/xhtml\" class=\"labelBkg\" style=\"display: table-cell; white-space: nowrap; line-height: 1.5; max-width: 200px; text-align: center;\"><span class=\"edgeLabel \"/></div></foreignObject></g></g><g class=\"edgeLabel\" transform=\"translate(381.8984375, 490.3125)\"><g class=\"label\" transform=\"translate(-10.2265625, -12)\"><foreignObject width=\"20.453125\" height=\"24\"><div xmlns=\"http://www.w3.org/1999/xhtml\" class=\"labelBkg\" style=\"display: table-cell; white-space: nowrap; line-height: 1.5; max-width: 200px; text-align: center;\"><span class=\"edgeLabel \"><p>No</p></span></div></foreignObject></g></g><g class=\"edgeLabel\"><g class=\"label\" transform=\"translate(0, 0)\"><foreignObject width=\"0\" height=\"0\"><div xmlns=\"http://www.w3.org/1999/xhtml\" class=\"labelBkg\" style=\"display: table-cell; white-space: nowrap; line-height: 1.5; max-width: 200px; text-align: center;\"><span class=\"edgeLabel \"/></div></foreignObject></g></g><g class=\"edgeLabel\"><g class=\"label\" transform=\"translate(0, 0)\"><foreignObject width=\"0\" height=\"0\"><div xmlns=\"http://www.w3.org/1999/xhtml\" class=\"labelBkg\" style=\"display: table-cell; white-space: nowrap; line-height: 1.5; max-width: 200px; text-align: center;\"><span class=\"edgeLabel \"/></div></foreignObject></g></g><g class=\"edgeLabel\"><g class=\"label\" transform=\"translate(0, 0)\"><foreignObject width=\"0\" height=\"0\"><div xmlns=\"http://www.w3.org/1999/xhtml\" class=\"labelBkg\" style=\"display: table-cell; white-space: nowrap; line-height: 1.5; max-width: 200px; text-align: center;\"><span class=\"edgeLabel \"/></div></foreignObject></g></g></g><g class=\"nodes\"><g class=\"node default  \" id=\"flowchart-A-0\" transform=\"translate(251.74609375, 27.5)\"><rect class=\"basic label-container\" style=\"\" rx=\"19.5\" ry=\"19.5\" x=\"-29.2734375\" y=\"-19.5\" width=\"58.546875\" height=\"39\"/><g class=\"label\" style=\"\" transform=\"translate(-16.8984375, -12)\"><rect/><foreignObject width=\"33.796875\" height=\"24\"><div xmlns=\"http://www.w3.org/1999/xhtml\" style=\"display: table-cell; white-space: nowrap; line-height: 1.5; max-width: 200px; text-align: center;\"><span class=\"nodeLabel \"><p>Start</p></span></div></foreignObject></g></g><g class=\"node default  \" id=\"flowchart-B-1\" transform=\"translate(251.74609375, 124)\"><rect class=\"basic label-container\" style=\"\" x=\"-116.7109375\" y=\"-27\" width=\"233.421875\" height=\"54\"/><g class=\"label\" style=\"\" transform=\"translate(-86.7109375, -12)\"><rect/><foreignObject width=\"173.421875\" height=\"24\"><div xmlns=\"http://www.w3.org/1999/xhtml\" style=\"display: table-cell; white-space: nowrap; line-height: 1.5; max-width: 200px; text-align: center;\"><span class=\"nodeLabel \"><p>Count citizen complaints</p></span></div></foreignObject></g></g><g class=\"node default  \" id=\"flowchart-C-3\" transform=\"translate(251.74609375, 295.15625)\"><polygon points=\"94.15625,0 188.3125,-94.15625 94.15625,-188.3125 0,-94.15625\" class=\"label-container\" transform=\"translate(-94.15625,94.15625)\"/><g class=\"label\" style=\"\" transform=\"translate(-67.15625, -12)\"><rect/><foreignObject width=\"134.3125\" height=\"24\"><div xmlns=\"http://www.w3.org/1999/xhtml\" style=\"display: table-cell; white-space: nowrap; line-height: 1.5; max-width: 200px; text-align: center;\"><span class=\"nodeLabel \"><p>Complaints &gt;= 10?</p></span></div></foreignObject></g></g><g class=\"node default  \" id=\"flowchart-D-5\" transform=\"translate(121.59375, 490.3125)\"><rect class=\"basic label-container\" style=\"\" x=\"-113.1640625\" y=\"-27\" width=\"226.328125\" height=\"54\"/><g class=\"label\" style=\"\" transform=\"translate(-83.1640625, -12)\"><rect/><foreignObject width=\"166.328125\" height=\"24\"><div xmlns=\"http://www.w3.org/1999/xhtml\" style=\"display: table-cell; white-space: nowrap; line-height: 1.5; max-width: 200px; text-align: center;\"><span class=\"nodeLabel \"><p>Schedule town meeting</p></span></div></foreignObject></g></g><g class=\"node default  \" id=\"flowchart-E-7\" transform=\"translate(121.59375, 594.3125)\"><rect class=\"basic label-container\" style=\"\" x=\"-113.59375\" y=\"-27\" width=\"227.1875\" height=\"54\"/><g class=\"label\" style=\"\" transform=\"translate(-83.59375, -12)\"><rect/><foreignObject width=\"167.1875\" height=\"24\"><div xmlns=\"http://www.w3.org/1999/xhtml\" style=\"display: table-cell; white-space: nowrap; line-height: 1.5; max-width: 200px; text-align: center;\"><span class=\"nodeLabel \"><p>Book community center</p></span></div></foreignObject></g></g><g class=\"node default  \" id=\"flowchart-F-9\" transform=\"translate(121.59375, 698.3125)\"><rect class=\"basic label-container\" style=\"\" x=\"-93.15625\" y=\"-27\" width=\"186.3125\" height=\"54\"/><g class=\"label\" style=\"\" transform=\"translate(-63.15625, -12)\"><rect/><foreignObject width=\"126.3125\" height=\"24\"><div xmlns=\"http://www.w3.org/1999/xhtml\" style=\"display: table-cell; white-space: nowrap; line-height: 1.5; max-width: 200px; text-align: center;\"><span class=\"nodeLabel \"><p>Send notifications</p></span></div></foreignObject></g></g><g class=\"node default  \" id=\"flowchart-G-11\" transform=\"translate(381.8984375, 594.3125)\"><rect class=\"basic label-container\" style=\"\" x=\"-96.7109375\" y=\"-27\" width=\"193.421875\" height=\"54\"/><g class=\"label\" style=\"\" transform=\"translate(-66.7109375, -12)\"><rect/><foreignObject width=\"133.421875\" height=\"24\"><div xmlns=\"http://www.w3.org/1999/xhtml\" style=\"display: table-cell; white-space: nowrap; line-height: 1.5; max-width: 200px; text-align: center;\"><span class=\"nodeLabel \"><p>Handle individually</p></span></div></foreignObject></g></g><g class=\"node default  \" id=\"flowchart-H-13\" transform=\"translate(381.8984375, 698.3125)\"><rect class=\"basic label-container\" style=\"\" x=\"-109.15625\" y=\"-27\" width=\"218.3125\" height=\"54\"/><g class=\"label\" style=\"\" transform=\"translate(-79.15625, -12)\"><rect/><foreignObject width=\"158.3125\" height=\"24\"><div xmlns=\"http://www.w3.org/1999/xhtml\" style=\"display: table-cell; white-space: nowrap; line-height: 1.5; max-width: 200px; text-align: center;\"><span class=\"nodeLabel \"><p>Send email responses</p></span></div></foreignObject></g></g><g class=\"node default  \" id=\"flowchart-I-15\" transform=\"translate(251.74609375, 794.8125)\"><rect class=\"basic label-container\" style=\"\" rx=\"19.5\" ry=\"19.5\" x=\"-26.609375\" y=\"-19.5\" width=\"53.21875\" height=\"39\"/><g class=\"label\" style=\"\" transform=\"translate(-14.234375, -12)\"><rect/><foreignObject width=\"28.46875\" height=\"24\"><div xmlns=\"http://www.w3.org/1999/xhtml\" style=\"display: table-cell; white-space: nowrap; line-height: 1.5; max-width: 200px; text-align: center;\"><span class=\"nodeLabel \"><p>End</p></span></div></foreignObject></g></g></g></g></g></svg>"
          },
          "metadata": {}
        }
      ]
    },
    {
      "cell_type": "markdown",
      "source": [
        "\n",
        "### How to Read This Flowchart:\n",
        "1. **Start** at the oval\n",
        "2. **Count complaints** (process box)\n",
        "3. **Decision**: Are there 10 or more complaints?\n",
        "   - **Yes path**: Schedule meeting → Book venue → Notify citizens\n",
        "   - **No path**: Handle individually → Send emails\n",
        "4. Both paths lead to **End**\n",
        "\n",
        "### Key Pattern:\n",
        "This is the visual representation of an if-else statement:\n",
        "- Diamond = if condition\n",
        "- Left branch = true (Yes)\n",
        "- Right branch = false (No)\n",
        "- Both branches eventually merge\n"
      ],
      "metadata": {
        "id": "P8mot7_8A1be"
      }
    },
    {
      "cell_type": "markdown",
      "source": [
        "# Problem #2: Complete the Flowchart for Park Permit Approval 📝\n",
        "## Draw the Missing Pieces!\n",
        "\n",
        "### The Situation\n",
        "The Parks Department needs a flowchart for their permit approval process. The Java code is complete, but the flowchart is missing some pieces!\n",
        "\n",
        "### Complete Working Java Code:"
      ],
      "metadata": {
        "id": "fW3gkHo1CFZd"
      }
    },
    {
      "cell_type": "code",
      "source": [
        "%%writefile PermitApproval.java\n",
        "public class PermitApproval {\n",
        "  public static void main(String[] args) {\n",
        "      // Park permit application\n",
        "      String eventType = \"concert\";\n",
        "      int expectedAttendance = 150;\n",
        "      boolean hasInsurance = true;\n",
        "      double permitFee = 0;\n",
        "\n",
        "      System.out.println(\"Start permit application\");\n",
        "\n",
        "      // Check event size\n",
        "      if (expectedAttendance > 200) {\n",
        "          System.out.println(\"Large event - requires special review\");\n",
        "          permitFee = 500;\n",
        "      } else {\n",
        "          System.out.println(\"Standard event\");\n",
        "          permitFee = 100;\n",
        "      }\n",
        "\n",
        "      // Check insurance\n",
        "      if (!hasInsurance) {\n",
        "          System.out.println(\"DENIED - Insurance required\");\n",
        "      } else {\n",
        "          // Check event type\n",
        "          if (eventType.equals(\"concert\")) {\n",
        "              permitFee = permitFee + 50;  // Music fee\n",
        "          }\n",
        "          System.out.println(\"APPROVED - Fee: $\" + permitFee);\n",
        "      }\n",
        "\n",
        "      System.out.println(\"End application process\");\n",
        "  }\n",
        "}"
      ],
      "metadata": {
        "colab": {
          "base_uri": "https://localhost:8080/"
        },
        "id": "UTG-mu8gCUgz",
        "outputId": "72122093-890c-4b6c-bb09-c81bdd76aa5e"
      },
      "execution_count": 13,
      "outputs": [
        {
          "output_type": "stream",
          "name": "stdout",
          "text": [
            "Writing PermitApproval.java\n"
          ]
        }
      ]
    },
    {
      "cell_type": "code",
      "source": [
        "!javac PermitApproval.java\n",
        "!java PermitApproval"
      ],
      "metadata": {
        "colab": {
          "base_uri": "https://localhost:8080/"
        },
        "id": "tEELDYIwCgWr",
        "outputId": "409e4a88-b785-4f9a-8bb3-c16fc4867cc0"
      },
      "execution_count": 14,
      "outputs": [
        {
          "output_type": "stream",
          "name": "stdout",
          "text": [
            "Start permit application\n",
            "Standard event\n",
            "APPROVED - Fee: $150.0\n",
            "End application process\n"
          ]
        }
      ]
    },
    {
      "cell_type": "markdown",
      "source": [
        "### Incomplete Flowchart - FILL IN THE BLANKS:"
      ],
      "metadata": {
        "id": "sGR6iBWrCl-O"
      }
    },
    {
      "cell_type": "code",
      "source": [
        "mm(\"\"\"\n",
        "flowchart TD\n",
        "    A[Start permit application] --> B{Attendance > 200?}\n",
        "    B -->|Yes| C[Large event review]\n",
        "    C --> D[Fee = $500]\n",
        "    B -->|No| E[???]\n",
        "    E --> F[???]\n",
        "    D --> G{Has insurance?}\n",
        "    F --> G\n",
        "    G -->|No| H[???]\n",
        "    G -->|Yes| I{Event type = concert?}\n",
        "    I -->|Yes| J[???]\n",
        "    I -->|No| K[APPROVED - Show fee]\n",
        "    J --> L[???]\n",
        "    L --> M[End application process]\n",
        "    K --> M\n",
        "    H --> M\n",
        "\"\"\")"
      ],
      "metadata": {
        "id": "Y_f6AS-yCLqZ"
      },
      "execution_count": null,
      "outputs": []
    },
    {
      "cell_type": "markdown",
      "source": [
        "\n",
        "### Your Tasks:\n",
        "1. **Box E**: What process happens for non-large events?\n",
        "2. **Box F**: What's the fee for standard events?\n",
        "3. **Box H**: What happens when there's no insurance?\n",
        "4. **Box J**: What adjustment happens for concerts?\n",
        "5. **Box L**: What's the final step for concert approvals?\n",
        "\n",
        "### Hints:\n",
        "- Look at the Java code to see what should go in each box\n",
        "- Process boxes (rectangles) for actions\n",
        "- Make sure the flow matches the code logic\n",
        "- Remember: \"Standard event\" and \"Fee = $100\" are processes\n",
        "- \"DENIED - Insurance required\" is also a process"
      ],
      "metadata": {
        "id": "0mYcS5PUCHxK"
      }
    },
    {
      "cell_type": "markdown",
      "source": [
        "# Finding Things: Linear Search at the Parks Department 🔍\n",
        "\n",
        "**Linear search** is the simplest search algorithm - you check every item in a list one by one until you find what you're looking for (or reach the end). It's like looking through a filing cabinet drawer by drawer.\n",
        "\n",
        "### Real-World Example\n",
        "Imagine April (the intern) needs to find a specific permit application in a filing cabinet:\n",
        "1. Start at the first folder\n",
        "2. Check if it's the right one\n",
        "3. If yes → Found it! Stop searching\n",
        "4. If no → Move to the next folder\n",
        "5. Repeat until found or no more folders\n",
        "\n",
        "### Why \"Linear\"?\n",
        "It's called \"linear\" because you move in a straight line through the data - first item, second item, third item, etc.\n",
        "\n",
        "### Parks Department Uses:\n",
        "- Finding a specific park by name\n",
        "- Looking up an employee's phone number\n",
        "- Searching for a particular maintenance record\n",
        "- Checking if a date is already booked\n",
        "\n",
        "### The Basic Pattern:\n",
        "```java\n",
        "public static void main(String[] args) {\n",
        "    // Linear search example\n",
        "    String[] items = {\"item1\", \"item2\", \"item3\", \"item4\"};\n",
        "    String target = \"item3\";\n",
        "    boolean found = false;\n",
        "    \n",
        "    for (int i = 0; i < items.length; i++) {\n",
        "        if (items[i].equals(target)) {\n",
        "            found = true;\n",
        "            System.out.println(\"Found at position \" + i);\n",
        "            break;  // Stop searching\n",
        "        }\n",
        "    }\n",
        "    \n",
        "    if (!found) {\n",
        "        System.out.println(\"Not found\");\n",
        "    }\n",
        "}\n",
        "```\n",
        "\n",
        "### Key Characteristics:\n",
        "- ✅ **Simple**: Easy to understand and implement\n",
        "- ✅ **Works everywhere**: Doesn't require sorted data\n",
        "- ❌ **Can be slow**: Might check every single item\n",
        "- 📊 **Best case**: Find it immediately (first item)\n",
        "- 📊 **Worst case**: Check every item (last item or not there)"
      ],
      "metadata": {
        "id": "MAYAAYFFCwI-"
      }
    },
    {
      "cell_type": "markdown",
      "source": [
        "# Linear Search Basics: Checking Every Community Garden Plot 🌱\n",
        "\n",
        "Pawnee has 8 community garden plots, and Leslie needs to find which plot belongs to her best friend Ann Perkins. Let's see how linear search helps us check each plot systematically until we find the right one.\n",
        "\n",
        "### Visual Representation:\n",
        "```\n",
        "Plot #:     [0]    [1]    [2]    [3]    [4]    [5]    [6]    [7]\n",
        "Owner:    \"Jones\" \"Smith\" \"Patel\" \"Chen\" \"Perkins\" \"Lee\" \"Garcia\" \"Wilson\"\n",
        "Check:       ✓      ✓      ✓      ✓      ✓ Found!\n",
        "```\n",
        "### The Linear Search Algorithm:\n"
      ],
      "metadata": {
        "id": "C4pOBRkRC3vP"
      }
    },
    {
      "cell_type": "code",
      "source": [
        "%%writefile CommunityGarden.java\n",
        "public class CommunityGarden {\n",
        "  public static void main(String[] args) {\n",
        "      // Community garden plot owners\n",
        "      String[] plotOwners = {\"Jones\", \"Smith\", \"Patel\", \"Chen\",\n",
        "                            \"Perkins\", \"Lee\", \"Garcia\", \"Wilson\"};\n",
        "      String lookingFor = \"Perkins\";\n",
        "      int plotNumber = -1;  // -1 means \"not found yet\"\n",
        "\n",
        "      System.out.println(\"Searching for \" + lookingFor + \"'s garden plot...\");\n",
        "\n",
        "      // Linear search through all plots\n",
        "      for (int i = 0; i < plotOwners.length; i++) {\n",
        "          System.out.println(\"Checking plot \" + i + \": \" + plotOwners[i]);\n",
        "\n",
        "          if (plotOwners[i].equals(lookingFor)) {\n",
        "              plotNumber = i;\n",
        "              System.out.println(\"Found it!\");\n",
        "              break;  // Stop searching - we found it!\n",
        "          }\n",
        "      }\n",
        "\n",
        "      // Report results\n",
        "      if (plotNumber != -1) {\n",
        "          System.out.println(\"\\n\" + lookingFor + \" owns plot #\" + plotNumber);\n",
        "      } else {\n",
        "          System.out.println(\"\\n\" + lookingFor + \" doesn't have a plot\");\n",
        "      }\n",
        "  }\n",
        "}"
      ],
      "metadata": {
        "colab": {
          "base_uri": "https://localhost:8080/"
        },
        "id": "OqoKvHu1DANM",
        "outputId": "f2c356d2-6bfc-4985-d4ca-5841e95c25d9"
      },
      "execution_count": 15,
      "outputs": [
        {
          "output_type": "stream",
          "name": "stdout",
          "text": [
            "Writing CommunityGarden.java\n"
          ]
        }
      ]
    },
    {
      "cell_type": "code",
      "source": [
        "!javac CommunityGarden.java\n",
        "!java CommunityGarden"
      ],
      "metadata": {
        "colab": {
          "base_uri": "https://localhost:8080/"
        },
        "id": "IV8LmqhDDM2G",
        "outputId": "50df8616-f3fb-4bd0-c35e-d2cc121d1004"
      },
      "execution_count": 16,
      "outputs": [
        {
          "output_type": "stream",
          "name": "stdout",
          "text": [
            "Searching for Perkins's garden plot...\n",
            "Checking plot 0: Jones\n",
            "Checking plot 1: Smith\n",
            "Checking plot 2: Patel\n",
            "Checking plot 3: Chen\n",
            "Checking plot 4: Perkins\n",
            "Found it!\n",
            "\n",
            "Perkins owns plot #4\n"
          ]
        }
      ]
    },
    {
      "cell_type": "markdown",
      "source": [
        "### Key Points:\n",
        "1. **Start at index 0** (first element)\n",
        "2. **Check each element** against what we're looking for\n",
        "3. **Stop when found** (break statement)\n",
        "4. **Handle \"not found\"** case (check if still -1)\n",
        "\n",
        "### The Power of break:\n",
        "Without `break`, the search continues even after finding the target. The `break` statement makes it efficient by stopping as soon as we succeed!"
      ],
      "metadata": {
        "id": "JH-WwyjXC5q3"
      }
    },
    {
      "cell_type": "markdown",
      "source": [
        "# When Linear Search Works Best (and When It Doesn't) ⚖️\n",
        "\n",
        "Linear search is simple and reliable, but it's not always the best choice. Understanding when to use it (and when not to) is an important programming skill. Let's explore the trade-offs.\n",
        "\n",
        "### When Linear Search Shines ✅\n",
        "\n",
        "**1. Small Lists**\n",
        "- Searching through 10 park benches\n",
        "- Finding a name among 20 employees\n",
        "- The simplicity outweighs any speed concerns\n",
        "\n",
        "**2. Unsorted Data**\n",
        "- Random permit applications\n",
        "- Mixed equipment inventory\n",
        "- No way to use a \"smarter\" search\n",
        "\n",
        "**3. Finding First or All Matches**\n",
        "- \"Show me ALL parks with playgrounds\"\n",
        "- \"Find EVERY expired permit\"\n",
        "\n",
        "**4. One-Time Searches**\n",
        "- Not worth organizing data first\n",
        "- Quick checks and lookups\n",
        "\n",
        "### When Linear Search Struggles ❌\n",
        "\n",
        "**1. Large Data Sets**\n",
        "```java\n",
        "// Searching 10,000 items could be slow!\n",
        "String[] allCitizens = new String[10000];\n",
        "// Linear search might check all 10,000!\n",
        "```\n",
        "\n",
        "**2. Repeated Searches**\n",
        "- Looking up data many times\n",
        "- Better to organize it first\n",
        "\n",
        "**3. Sorted Data**\n",
        "- If data is alphabetical/numerical\n",
        "- More efficient methods exist\n",
        "\n",
        "### Performance Analysis\n",
        "\n",
        "**Best Case**: Find on first try! 🎯\n",
        "```java\n",
        "// Looking for \"Apple\" in [\"Apple\", \"Banana\", \"Cherry\"]\n",
        "// Found immediately at index 0!\n",
        "```\n",
        "\n",
        "**Average Case**: Find halfway through 📊\n",
        "```java\n",
        "// Looking for \"Banana\" in [\"Apple\", \"Banana\", \"Cherry\"]\n",
        "// Found after checking 2 items\n",
        "```\n",
        "\n",
        "**Worst Case**: Check everything 😮\n",
        "```java\n",
        "// Looking for \"Zebra\" in [\"Apple\", \"Banana\", \"Cherry\"]\n",
        "// Not found - had to check all 3!\n",
        "```\n",
        "\n",
        "### Rule of Thumb\n",
        "For Parks Department tasks, linear search is usually fine because:\n",
        "- Most lists are small (< 100 items)\n",
        "- Data isn't always sorted\n",
        "- Code simplicity matters\n",
        "\n",
        "### Real Example: Good Use Case\n",
        "```java\n",
        "// Finding today's scheduled events (usually < 20)\n",
        "String[] todaysEvents = {\"Yoga\", \"Concert\", \"Cleanup\", \"Meeting\"};\n",
        "// Linear search is perfect here!\n",
        "```"
      ],
      "metadata": {
        "id": "7zP1bKHsDq28"
      }
    },
    {
      "cell_type": "markdown",
      "source": [
        "# Problem #3: Debug April's Intern Search Algorithm 🔧\n",
        "\n",
        "April Ludgate, the sarcastic intern, wrote code to find which department has a specific employee. Her code has bugs and she \"doesn't care\" (but secretly does). Help her fix it!\n",
        "\n",
        "### April's Broken Code:\n"
      ],
      "metadata": {
        "id": "bScHwjsXDvNA"
      }
    },
    {
      "cell_type": "code",
      "source": [
        "%%writefile InternSearch.java\n",
        "public class InternSearch {\n",
        "    public static void main(String[] args) {\n",
        "        // Department employee lists\n",
        "        String[] parksEmployees = {\"Leslie\", \"Ron\", \"Tom\", \"April\", \"Andy\"};\n",
        "        String[] financeEmployees = {\"Ben\", \"Chris\", \"Craig\"};\n",
        "        String[] animalControl = {\"Harris\", \"Brett\"};\n",
        "\n",
        "        String lookingFor = \"Ben\";\n",
        "        String department = \"Not found\";\n",
        "\n",
        "        System.out.println(\"=== EMPLOYEE SEARCH SYSTEM ===\");\n",
        "        System.out.println(\"(April pretends not to care about this)\");\n",
        "        System.out.println(\"\\nSearching for: \" + lookingFor);\n",
        "\n",
        "        // ERROR 1: Wrong comparison operator\n",
        "        for (int i = 0; i <= parksEmployees.length; i++) {\n",
        "            if (parksEmployees[i] = lookingFor) {  // ERROR 2: Assignment not comparison!\n",
        "                department = \"Parks\";\n",
        "                // ERROR 3: Forgot something important here\n",
        "            }\n",
        "        }\n",
        "\n",
        "        // Check Finance Department\n",
        "        for (int i = 0; i < financeEmployees.length; i++) {\n",
        "            if (financeEmployees[i].equals(lookingFor)) {\n",
        "                department = \"Finance\";\n",
        "                break;\n",
        "            }\n",
        "        }\n",
        "\n",
        "        // TODO: Add search for Animal Control department\n",
        "        // Use the same pattern as Finance search\n",
        "\n",
        "\n",
        "        // ERROR 4: Logic error in output\n",
        "        if (department == \"Not found\") {\n",
        "            System.out.println(\"\\nFound \" + lookingFor + \" in \" + department);\n",
        "        } else {\n",
        "            System.out.println(\"\\nPerson not found. April says: 'Whatever.'\");\n",
        "        }\n",
        "    }\n",
        "}\n"
      ],
      "metadata": {
        "colab": {
          "base_uri": "https://localhost:8080/"
        },
        "id": "5XXKYozWECWZ",
        "outputId": "f34d068a-37d0-45e1-b9ed-5d3d00e3e2b5"
      },
      "execution_count": 17,
      "outputs": [
        {
          "output_type": "stream",
          "name": "stdout",
          "text": [
            "Writing InternSearch.java\n"
          ]
        }
      ]
    },
    {
      "cell_type": "code",
      "source": [
        "!javac InternSearch.java\n",
        "!java InternSearch"
      ],
      "metadata": {
        "id": "t2sRHLtsEI5A"
      },
      "execution_count": null,
      "outputs": []
    },
    {
      "cell_type": "markdown",
      "source": [
        "\n",
        "### Your Tasks:\n",
        "1. **Fix ERROR 1**: The loop condition will cause an ArrayIndexOutOfBoundsException (hint: think about `<` vs `<=`)\n",
        "2. **Fix ERROR 2**: Using assignment (=) instead of comparison\n",
        "   \n",
        "3. **Fix ERROR 3**: The search doesn't stop when found (hint: use `break`)\n",
        "\n",
        "4. **Fix ERROR 4**: The if-else logic is backwards\n",
        "   - Swap the conditions or the println statements\n",
        "\n",
        "5. **Complete TODO**: Add Animal Control search\n",
        "   ```"
      ],
      "metadata": {
        "id": "Tuipa_p-D91W"
      }
    },
    {
      "cell_type": "markdown",
      "source": [
        "### Expected Output (when fixed):\n",
        "```\n",
        "=== EMPLOYEE SEARCH SYSTEM ===\n",
        "(April pretends not to care about this)\n",
        "\n",
        "Searching for: Ben\n",
        "\n",
        "Found Ben in Finance\n",
        "```\n",
        "\n",
        "### Bonus Challenge:\n",
        "Add a counter to show how many employees were checked before finding the target!"
      ],
      "metadata": {
        "id": "glihms_7D49J"
      }
    },
    {
      "cell_type": "markdown",
      "source": [
        "# Accumulators: Counting and Totaling Like Ben's Budget Spreadsheets 📊\n",
        "\n",
        "Ben Wyatt, the budget-minded analyst, loves tracking numbers. An **accumulator** is a variable that builds up a value over time - perfect for counting things, calculating totals, or finding extremes. Let's learn this essential pattern!\n",
        "\n",
        "### What is an Accumulator?\n",
        "A variable that:\n",
        "1. Starts at an initial value (often 0)\n",
        "2. Gets updated repeatedly in a loop\n",
        "3. Holds the final result after the loop\n",
        "\n",
        "### The Basic Pattern:\n",
        "```java\n",
        "// 1. Initialize accumulator\n",
        "int total = 0;\n",
        "\n",
        "// 2. Loop and update\n",
        "for (int i = 0; i < array.length; i++) {\n",
        "    total = total + array[i];  // Accumulate!\n",
        "}\n",
        "\n",
        "// 3. Use the result\n",
        "System.out.println(\"Total: \" + total);\n",
        "```\n",
        "\n",
        "### Common Accumulator Types:\n",
        "\n",
        "**1. Counter (How Many?)**\n",
        "```java\n",
        "int count = 0;  // Start at 0\n",
        "count = count + 1;  // Add 1 each time\n",
        "// or count++;\n",
        "```\n",
        "\n",
        "**2. Sum (Total Value?)**\n",
        "```java\n",
        "double sum = 0.0;  // Start at 0\n",
        "sum = sum + value;  // Add each value\n",
        "```\n",
        "\n",
        "**3. Maximum (Largest Value?)**\n",
        "```java\n",
        "int max = array[0];  // Start with first\n",
        "if (current > max) {\n",
        "    max = current;  // Update if bigger\n",
        "}\n",
        "```\n",
        "\n",
        "### Complete Working Example - Park Budget Calculator:\n"
      ],
      "metadata": {
        "id": "q9p4JXO9EUfT"
      }
    },
    {
      "cell_type": "code",
      "source": [
        "%%writefile BudgetCalculator.java\n",
        "public class BudgetCalculator {\n",
        "    public static void main(String[] args) {\n",
        "        // Monthly park maintenance costs\n",
        "        double[] monthlyCosts = {1200.50, 1350.00, 980.75, 1500.00,\n",
        "                                1675.25, 1450.50, 1225.00, 1380.00,\n",
        "                                1290.75, 1425.25, 1550.00, 1600.00};\n",
        "\n",
        "        // Accumulator variables\n",
        "        double totalCost = 0.0;\n",
        "        double highestMonth = monthlyCosts[0];\n",
        "        int expensiveMonths = 0;\n",
        "\n",
        "        System.out.println(\"=== BEN'S ANNUAL BUDGET ANALYSIS ===\\n\");\n",
        "\n",
        "        // Process each month\n",
        "        for (int i = 0; i < monthlyCosts.length; i++) {\n",
        "            // Accumulate total\n",
        "            totalCost = totalCost + monthlyCosts[i];\n",
        "\n",
        "            // Track maximum\n",
        "            if (monthlyCosts[i] > highestMonth) {\n",
        "                highestMonth = monthlyCosts[i];\n",
        "            }\n",
        "\n",
        "            // Count expensive months (over $1400)\n",
        "            if (monthlyCosts[i] > 1400) {\n",
        "                expensiveMonths++;\n",
        "            }\n",
        "\n",
        "            System.out.println(\"Month \" + (i+1) + \": $\" + monthlyCosts[i]);\n",
        "        }\n",
        "\n",
        "        // Calculate average (using our total)\n",
        "        double average = totalCost / monthlyCosts.length;\n",
        "\n",
        "        // Report results\n",
        "        System.out.println(\"\\n=== SUMMARY ===\");\n",
        "        System.out.println(\"Total Annual Cost: $\" + totalCost);\n",
        "        System.out.println(\"Average Monthly Cost: $\" + average);\n",
        "        System.out.println(\"Highest Monthly Cost: $\" + highestMonth);\n",
        "        System.out.println(\"Months over $1400: \" + expensiveMonths);\n",
        "\n",
        "        if (totalCost > 15000) {\n",
        "            System.out.println(\"\\nBen says: 'We need to find cost savings!'\");\n",
        "        } else {\n",
        "            System.out.println(\"\\nBen says: 'Budget is under control!'\");\n",
        "        }\n",
        "    }\n",
        "}\n"
      ],
      "metadata": {
        "colab": {
          "base_uri": "https://localhost:8080/"
        },
        "id": "8Pa-ovKGEcAH",
        "outputId": "2f1e5110-90c6-40ff-ee0c-f3ec383f6e8b"
      },
      "execution_count": 18,
      "outputs": [
        {
          "output_type": "stream",
          "name": "stdout",
          "text": [
            "Writing BudgetCalculator.java\n"
          ]
        }
      ]
    },
    {
      "cell_type": "code",
      "source": [
        "!javac BudgetCalculator.java\n",
        "!java BudgetCalculator"
      ],
      "metadata": {
        "colab": {
          "base_uri": "https://localhost:8080/"
        },
        "id": "m3q-KcsPEg_n",
        "outputId": "5362ebe5-d50b-4bb4-fc11-945a98d9d8a2"
      },
      "execution_count": 19,
      "outputs": [
        {
          "output_type": "stream",
          "name": "stdout",
          "text": [
            "=== BEN'S ANNUAL BUDGET ANALYSIS ===\n",
            "\n",
            "Month 1: $1200.5\n",
            "Month 2: $1350.0\n",
            "Month 3: $980.75\n",
            "Month 4: $1500.0\n",
            "Month 5: $1675.25\n",
            "Month 6: $1450.5\n",
            "Month 7: $1225.0\n",
            "Month 8: $1380.0\n",
            "Month 9: $1290.75\n",
            "Month 10: $1425.25\n",
            "Month 11: $1550.0\n",
            "Month 12: $1600.0\n",
            "\n",
            "=== SUMMARY ===\n",
            "Total Annual Cost: $16628.0\n",
            "Average Monthly Cost: $1385.6666666666667\n",
            "Highest Monthly Cost: $1675.25\n",
            "Months over $1400: 6\n",
            "\n",
            "Ben says: 'We need to find cost savings!'\n"
          ]
        }
      ]
    },
    {
      "cell_type": "markdown",
      "source": [
        "\n",
        "### Key Points:\n",
        "- Always initialize your accumulator before the loop\n",
        "- Update it inside the loop\n",
        "- Use it after the loop completes\n",
        "- Different problems need different accumulator types"
      ],
      "metadata": {
        "id": "G-3I4h4xEW1R"
      }
    },
    {
      "cell_type": "markdown",
      "source": [
        "# Pattern 1: Counting - How Many Waffles Did Leslie Eat? 🧇\n",
        "\n",
        "Leslie Knope LOVES waffles. She's been tracking her daily waffle consumption, and now wants to know some statistics. Let's use the counting pattern to analyze her waffle data!\n",
        "\n",
        "### The Counting Pattern:\n",
        "```java\n",
        "int counter = 0;  // Start at zero\n",
        "\n",
        "for (int i = 0; i < array.length; i++) {\n",
        "    if (/* some condition */) {\n",
        "        counter++;  // Increment by 1\n",
        "    }\n",
        "}\n",
        "```\n",
        "### Common Counting Patterns:\n",
        "\n",
        "**1. Count All:**\n",
        "```java\n",
        "int count = array.length;  // Just use length!\n",
        "```\n",
        "\n",
        "**2. Count Matching:**\n",
        "```java\n",
        "int count = 0;\n",
        "for (int i = 0; i < array.length; i++) {\n",
        "    if (array[i].equals(target)) {\n",
        "        count++;\n",
        "    }\n",
        "}\n",
        "```\n",
        "\n",
        "**3. Count in Range:**\n",
        "```java\n",
        "int count = 0;\n",
        "for (int i = 0; i < array.length; i++) {\n",
        "    if (array[i] >= min && array[i] <= max) {\n",
        "        count++;\n",
        "    }\n",
        "}\n",
        "```\n",
        "\n",
        "### Remember:\n",
        "- Start at 0\n",
        "- Add 1 for each item you want to count\n",
        "- Use conditions to count only specific items\n",
        "- The final value is your count!"
      ],
      "metadata": {
        "id": "ntqwwdCzE5cx"
      }
    },
    {
      "cell_type": "markdown",
      "source": [
        "# Pattern 2: Summing - Total Cost of Park Improvements 💰\n",
        "\n",
        "The Parks Department needs to calculate the total cost of various improvement projects. The summing pattern helps us add up all values in an array to get a total.\n",
        "\n",
        "### The Summing Pattern:\n",
        "```java\n",
        "double sum = 0.0;  // Start at zero\n",
        "\n",
        "for (int i = 0; i < array.length; i++) {\n",
        "    sum = sum + array[i];  // Add each value\n",
        "}\n",
        "```\n",
        "\n",
        "### Variations of Summing:\n",
        "\n",
        "**1. Simple Sum:**\n",
        "```java\n",
        "int sum = 0;\n",
        "for (int i = 0; i < numbers.length; i++) {\n",
        "    sum = sum + numbers[i];\n",
        "}\n",
        "```\n",
        "\n",
        "**2. Conditional Sum:**\n",
        "```java\n",
        "double sum = 0.0;\n",
        "for (int i = 0; i < values.length; i++) {\n",
        "    if (values[i] > 0) {  // Only positive\n",
        "        sum = sum + values[i];\n",
        "    }\n",
        "}\n",
        "```\n",
        "\n",
        "**3. Running Total (Show progress):**\n",
        "```java\n",
        "double runningTotal = 0.0;\n",
        "for (int i = 0; i < costs.length; i++) {\n",
        "    runningTotal = runningTotal + costs[i];\n",
        "    System.out.println(\"Total so far: $\" + runningTotal);\n",
        "}\n",
        "```\n",
        "\n",
        "### Key Points:\n",
        "- Initialize sum to 0 (or 0.0 for doubles)\n",
        "- Add each element to the sum\n",
        "- Can sum all or just items meeting a condition\n",
        "- Useful for totals, averages, and budget calculations"
      ],
      "metadata": {
        "id": "kIPjNm_2FEth"
      }
    },
    {
      "cell_type": "markdown",
      "source": [
        "# Pattern 3: Finding Maximum - Biggest Park in Pawnee 🏞️\n",
        "\n",
        "The Parks Department manages multiple parks of different sizes. Let's use the maximum-finding pattern to identify the largest park and gather related statistics.\n",
        "\n",
        "### The Maximum Pattern:\n",
        "```java\n",
        "double max = array[0];  // Start with first element\n",
        "\n",
        "for (int i = 1; i < array.length; i++) {  // Start at 1!\n",
        "    if (array[i] > max) {\n",
        "        max = array[i];  // Update if bigger\n",
        "    }\n",
        "}\n",
        "```\n",
        "\n",
        "### Common Maximum/Minimum Patterns:\n",
        "\n",
        "**1. Just the Value:**\n",
        "```java\n",
        "int max = numbers[0];\n",
        "for (int i = 1; i < numbers.length; i++) {\n",
        "    if (numbers[i] > max) {\n",
        "        max = numbers[i];\n",
        "    }\n",
        "}\n",
        "```\n",
        "\n",
        "**2. Value and Position:**\n",
        "```java\n",
        "int max = numbers[0];\n",
        "int maxIndex = 0;\n",
        "for (int i = 1; i < numbers.length; i++) {\n",
        "    if (numbers[i] > max) {\n",
        "        max = numbers[i];\n",
        "        maxIndex = i;\n",
        "    }\n",
        "}\n",
        "```\n",
        "\n",
        "**3. Multiple Criteria:**\n",
        "```java\n",
        "// Find park with best size-to-maintenance ratio\n",
        "double bestRatio = sizes[0] / costs[0];\n",
        "int bestIndex = 0;\n",
        "for (int i = 1; i < sizes.length; i++) {\n",
        "    double ratio = sizes[i] / costs[i];\n",
        "    if (ratio > bestRatio) {\n",
        "        bestRatio = ratio;\n",
        "        bestIndex = i;\n",
        "    }\n",
        "}\n",
        "```\n",
        "\n",
        "### Remember:\n",
        "- Start with the first element\n",
        "- Compare each element to current max/min\n",
        "- Update when you find a bigger/smaller value\n",
        "- Can track both value and index"
      ],
      "metadata": {
        "id": "SiVj-5qPFQLB"
      }
    },
    {
      "cell_type": "markdown",
      "source": [
        "# Problem #4: Calculate Total Volunteer Hours 🤝\n",
        "\n",
        "The Parks Department relies on volunteers for many events. Help them complete a program that analyzes volunteer contributions using accumulators. The code is partially written but needs your help!\n",
        "\n",
        "### Incomplete Code to Fix:\n",
        "\n"
      ],
      "metadata": {
        "id": "nN_cP1D4GQ8B"
      }
    },
    {
      "cell_type": "code",
      "source": [
        "%%writefile VolunteerHours.java\n",
        "public class VolunteerHours {\n",
        "    public static void main(String[] args) {\n",
        "        // Volunteer names\n",
        "        String[] volunteers = {\n",
        "            \"Ann\", \"Chris\", \"Jerry\", \"Donna\", \"Garry\",\n",
        "            \"Jean-Ralphio\", \"Craig\", \"Tammy\"\n",
        "        };\n",
        "\n",
        "        // Hours volunteered per person this month\n",
        "        double[] hoursWorked = {\n",
        "            12.5, 18.0, 8.5, 15.0, 22.0,\n",
        "            3.0, 16.5, 11.0\n",
        "        };\n",
        "\n",
        "        // TODO 1: Initialize accumulators\n",
        "        // Create variables for:\n",
        "        // - totalHours (sum of all hours)\n",
        "        // - volunteerCount (count of active volunteers, > 0 hours)\n",
        "        // - superVolunteers (count of people with 15+ hours)\n",
        "        // - mostHours (maximum hours worked)\n",
        "        // - bestVolunteerIndex (index of person with most hours)\n",
        "\n",
        "\n",
        "        System.out.println(\"=== PARKS VOLUNTEER REPORT ===\\n\");\n",
        "\n",
        "        // TODO 2: Process each volunteer\n",
        "        // Loop through the arrays and:\n",
        "        // - Print each volunteer's name and hours\n",
        "        // - Update totalHours\n",
        "        // - Count active volunteers (hours > 0)\n",
        "        // - Count super volunteers (hours >= 15)\n",
        "        // - Track who worked the most hours\n",
        "\n",
        "\n",
        "        // TODO 3: Calculate statistics\n",
        "        // Calculate average hours per active volunteer\n",
        "        // (totalHours / volunteerCount)\n",
        "\n",
        "\n",
        "        // TODO 4: Display results\n",
        "        // Print:\n",
        "        // - Total volunteer hours\n",
        "        // - Number of active volunteers\n",
        "        // - Number of super volunteers (15+ hours)\n",
        "        // - Average hours per volunteer\n",
        "        // - Best volunteer name and hours\n",
        "\n",
        "\n",
        "        // TODO 5: Recognition messages\n",
        "        // If totalHours > 100: \"Outstanding community support!\"\n",
        "        // If superVolunteers >= 4: \"Many dedicated volunteers!\"\n",
        "        // Always: Thank the best volunteer by name\n",
        "\n",
        "    }\n",
        "}"
      ],
      "metadata": {
        "colab": {
          "base_uri": "https://localhost:8080/"
        },
        "id": "hLcXuPPtGnul",
        "outputId": "dce1c104-233b-434f-a3c7-12834bc7abd1"
      },
      "execution_count": 20,
      "outputs": [
        {
          "output_type": "stream",
          "name": "stdout",
          "text": [
            "Writing VolunteerHours.java\n"
          ]
        }
      ]
    },
    {
      "cell_type": "code",
      "source": [
        "!javac VolunteerHours.java\n",
        "!java VolunteerHours"
      ],
      "metadata": {
        "id": "Dvgo9WdvGtJl"
      },
      "execution_count": null,
      "outputs": []
    },
    {
      "cell_type": "markdown",
      "source": [
        "\n",
        "It's your job to complete the TODOs (note: this is one of the more complex programs you've had to complete!). When you finish, you should see something like this:\n",
        "\n",
        "### Expected Output Preview:\n",
        "```\n",
        "=== PARKS VOLUNTEER REPORT ===\n",
        "\n",
        "Ann: 12.5 hours\n",
        "Chris: 18.0 hours\n",
        "Jerry: 8.5 hours\n",
        "...\n",
        "\n",
        "=== SUMMARY ===\n",
        "Total volunteer hours: 106.5\n",
        "Active volunteers: 8\n",
        "Super volunteers (15+ hrs): 4\n",
        "...\n",
        "```"
      ],
      "metadata": {
        "id": "woehIuBnGik6"
      }
    },
    {
      "cell_type": "markdown",
      "source": [
        "# Introduction to Simple Functions: Code Reuse 🔄\n",
        "\n",
        "Imagine if Ron had to write out his burger recipe from scratch every single time. That would be inefficient! Functions (also called methods) let us write code once and use it many times. Let's start with the simplest possible functions.\n",
        "\n",
        "### The Problem: Repetitive Calculations\n",
        "```java\n",
        "public static void main(String[] args) {\n",
        "    // Calculating park fees repeatedly\n",
        "    double adult1 = 25.00;\n",
        "    double adult1Fee = adult1 * 0.10;  // 10% fee\n",
        "    System.out.println(\"Fee: $\" + adult1Fee);\n",
        "    \n",
        "    double adult2 = 30.00;\n",
        "    double adult2Fee = adult2 * 0.10;  // Same calculation!\n",
        "    System.out.println(\"Fee: $\" + adult2Fee);\n",
        "    \n",
        "    double adult3 = 45.00;\n",
        "    double adult3Fee = adult3 * 0.10;  // Again!\n",
        "    System.out.println(\"Fee: $\" + adult3Fee);\n",
        "}\n",
        "```\n",
        "\n",
        "### The Solution: A Simple Function!\n",
        "```java\n",
        "public class ParkFeeCalculator {\n",
        "    // Our first function! Takes one parameter, returns a value\n",
        "    public static double calculateParkFee(double amount) {\n",
        "        return amount * 0.10;\n",
        "    }\n",
        "    \n",
        "    public static void main(String[] args) {\n",
        "        // Now we can reuse our function!\n",
        "        double adult1 = 25.00;\n",
        "        double fee1 = calculateParkFee(adult1);\n",
        "        System.out.println(\"Fee: $\" + fee1);\n",
        "        \n",
        "        double adult2 = 30.00;\n",
        "        double fee2 = calculateParkFee(adult2);\n",
        "        System.out.println(\"Fee: $\" + fee2);\n",
        "        \n",
        "        double adult3 = 45.00;\n",
        "        double fee3 = calculateParkFee(adult3);\n",
        "        System.out.println(\"Fee: $\" + fee3);\n",
        "    }\n",
        "}\n",
        "```\n",
        "\n",
        "### Understanding Function Parts:\n",
        "```java\n",
        "public static double calculateParkFee(double amount) {\n",
        "    return amount * 0.10;\n",
        "}\n",
        "```\n",
        "\n",
        "1. **public static** - Required keywords for now (just copy them)\n",
        "2. **double** - What type of value the function returns\n",
        "3. **calculateParkFee** - The function name (you choose this)\n",
        "4. **(double amount)** - Parameter: what information goes IN\n",
        "5. **return** - Sends the result back\n",
        "\n",
        "### Complete Working Example:\n",
        "\n"
      ],
      "metadata": {
        "id": "-8HPKTp0ICGe"
      }
    },
    {
      "cell_type": "code",
      "source": [
        "%%writefile ParkGreeting.java\n",
        "public class ParkGreeting {\n",
        "    // Function that creates a greeting\n",
        "    public static String makeGreeting(String name) {\n",
        "        return \"Welcome to Pawnee Parks, \" + name + \"!\";\n",
        "    }\n",
        "\n",
        "    // Function that calculates age discount\n",
        "    public static double getDiscount(int age) {\n",
        "        if (age >= 65) {\n",
        "            return 0.50;  // 50% off for seniors\n",
        "        } else if (age <= 12) {\n",
        "            return 0.25;  // 25% off for kids\n",
        "        } else {\n",
        "            return 0.00;  // No discount\n",
        "        }\n",
        "    }\n",
        "\n",
        "    public static void main(String[] args) {\n",
        "        // Using our functions\n",
        "        String greeting1 = makeGreeting(\"Leslie\");\n",
        "        String greeting2 = makeGreeting(\"Ron\");\n",
        "        System.out.println(greeting1);\n",
        "        System.out.println(greeting2);\n",
        "\n",
        "        // Calculate discounts\n",
        "        double seniorDiscount = getDiscount(70);\n",
        "        double adultDiscount = getDiscount(35);\n",
        "        double childDiscount = getDiscount(8);\n",
        "\n",
        "        System.out.println(\"\\nDiscount rates:\");\n",
        "        System.out.println(\"Senior (70): \" + (seniorDiscount * 100) + \"%\");\n",
        "        System.out.println(\"Adult (35): \" + (adultDiscount * 100) + \"%\");\n",
        "        System.out.println(\"Child (8): \" + (childDiscount * 100) + \"%\");\n",
        "    }\n",
        "}\n"
      ],
      "metadata": {
        "colab": {
          "base_uri": "https://localhost:8080/"
        },
        "id": "gYF1K1RTIQdA",
        "outputId": "5862aae4-d26f-4117-9810-66246c1bdb3c"
      },
      "execution_count": 21,
      "outputs": [
        {
          "output_type": "stream",
          "name": "stdout",
          "text": [
            "Writing ParkGreeting.java\n"
          ]
        }
      ]
    },
    {
      "cell_type": "code",
      "source": [
        "!javac ParkGreeting.java\n",
        "!java ParkGreeting"
      ],
      "metadata": {
        "colab": {
          "base_uri": "https://localhost:8080/"
        },
        "id": "oIfZIafZIWVn",
        "outputId": "5ec89ed4-6ba1-4c9d-a695-c3baba512dd4"
      },
      "execution_count": 22,
      "outputs": [
        {
          "output_type": "stream",
          "name": "stdout",
          "text": [
            "Welcome to Pawnee Parks, Leslie!\n",
            "Welcome to Pawnee Parks, Ron!\n",
            "\n",
            "Discount rates:\n",
            "Senior (70): 50.0%\n",
            "Adult (35): 0.0%\n",
            "Child (8): 25.0%\n"
          ]
        }
      ]
    },
    {
      "cell_type": "markdown",
      "source": [
        "\n",
        "### Key Points:\n",
        "- Functions go OUTSIDE main but INSIDE the class\n",
        "- They can take one input (parameter)\n",
        "- They can return one output\n",
        "- Use them by calling: functionName(value)\n",
        "- The returned value can be stored in a variable"
      ],
      "metadata": {
        "id": "jqrgQgsVIIf-"
      }
    },
    {
      "cell_type": "markdown",
      "source": [
        "# Practice: Building Your Own Simple Functions 🛠️\n",
        "\n",
        "Now let's practice creating simple functions for common Parks Department calculations. Remember: one parameter in, one result out!\n",
        "\n",
        "### Function Patterns to Master:\n",
        "\n",
        "**Pattern 1: Simple Calculation**\n",
        "```java\n",
        "public static double calculateTax(double price) {\n",
        "    return price * 0.08;  // 8% tax\n",
        "}\n",
        "```\n",
        "\n",
        "**Pattern 2: Conditional Logic**\n",
        "```java\n",
        "public static boolean canEnterPark(int age) {\n",
        "    if (age >= 5) {\n",
        "        return true;  // Old enough\n",
        "    } else {\n",
        "        return false;  // Too young\n",
        "    }\n",
        "}\n",
        "```\n",
        "\n",
        "**Pattern 3: String Manipulation**\n",
        "```java\n",
        "public static String formatParkCode(String parkName) {\n",
        "    return \"PWN-\" + parkName + \"-2024\";\n",
        "}\n",
        "```\n",
        "\n",
        "### Practice Exercises:\n",
        "Try writing these functions:\n",
        "1. `calculateOvertime(double hours)` - Returns overtime pay (1.5x for hours over 40)\n",
        "2. `isWeekend(String day)` - Returns true if day is \"Saturday\" or \"Sunday\"\n",
        "3. `getParkingFee(int hours)` - Returns fee ($2/hour, max $10)\n",
        "\n",
        "### Remember:\n",
        "- Function name should describe what it does\n",
        "- One parameter goes in the parentheses\n",
        "- Use return to send back the result\n",
        "- Call the function with: functionName(value)"
      ],
      "metadata": {
        "id": "Tx-NAmr2IEj8"
      }
    },
    {
      "cell_type": "markdown",
      "source": [
        "# Problem #5: Festival Planning System with Functions 🎪\n",
        "\n",
        "For your final challenge, create a park festival planning system that uses simple functions! This combines everything: algorithms, search, accumulators, AND your new function skills.\n",
        "\n",
        "### Your Task:\n",
        "Complete the missing functions and use them in the main program.\n",
        "\n",
        "### Starter Code:\n",
        "```java\n",
        "public class FestivalPlannerPro {\n",
        "    \n",
        "    // TODO 1: Complete this function\n",
        "    // Calculate ticket revenue for an event\n",
        "    public static double calculateRevenue(int attendance) {\n",
        "        // Ticket price is $12 per person\n",
        "        // Return the total revenue\n",
        "        \n",
        "    }\n",
        "    \n",
        "    // TODO 2: Complete this function  \n",
        "    // Determine event size category\n",
        "    public static String getEventSize(int attendance) {\n",
        "        // Less than 200: \"Small\"\n",
        "        // 200-500: \"Medium\"  \n",
        "        // More than 500: \"Large\"\n",
        "        // Return the appropriate size\n",
        "        \n",
        "    }\n",
        "    \n",
        "    // TODO 3: Complete this function\n",
        "    // Check if event is profitable\n",
        "    public static boolean isProfitable(double revenue) {\n",
        "        // If revenue > 2000, return true\n",
        "        // Otherwise return false\n",
        "        \n",
        "    }\n",
        "    \n",
        "    // TODO 4: Complete this function\n",
        "    // Calculate staff needed (1 staff per 50 attendees)\n",
        "    public static int calculateStaff(int attendance) {\n",
        "        // Divide attendance by 50\n",
        "        // Round up (add 1 if there's a remainder)\n",
        "        // Return number of staff needed\n",
        "        \n",
        "    }\n",
        "    \n",
        "    public static void main(String[] args) {\n",
        "        // Festival event data\n",
        "        String[] events = {\n",
        "            \"Opening Ceremony\", \"Concert Night\", \"Food Festival\",\n",
        "            \"Kids Carnival\", \"Art Fair\", \"Sports Day\", \"Closing Fireworks\"\n",
        "        };\n",
        "        \n",
        "        int[] expectedAttendance = {\n",
        "            200, 500, 800, 150, 300, 450, 900\n",
        "        };\n",
        "        \n",
        "        System.out.println(\"=== PAWNEE SUMMER FESTIVAL PLANNER ===\\n\");\n",
        "        \n",
        "        // Variables for tracking\n",
        "        double totalRevenue = 0.0;\n",
        "        int profitableEvents = 0;\n",
        "        int largeEvents = 0;\n",
        "        int totalStaff = 0;\n",
        "        \n",
        "        // Process each event using our functions\n",
        "        for (int i = 0; i < events.length; i++) {\n",
        "            System.out.println(events[i] + \":\");\n",
        "            \n",
        "            // TODO 5: Use the functions!\n",
        "            // Call calculateRevenue with expectedAttendance[i]\n",
        "            // Store result and add to totalRevenue\n",
        "            \n",
        "            \n",
        "            // Call getEventSize with expectedAttendance[i]\n",
        "            // Print the size\n",
        "            \n",
        "            \n",
        "            // Call isProfitable with the revenue\n",
        "            // If true, increment profitableEvents\n",
        "            // Print \"Profitable!\" or \"Needs subsidy\"\n",
        "            \n",
        "            \n",
        "            // Call calculateStaff with expectedAttendance[i]\n",
        "            // Add to totalStaff\n",
        "            // Print staff needed\n",
        "            \n",
        "            \n",
        "            // Count large events\n",
        "            // If size equals \"Large\", increment largeEvents\n",
        "            \n",
        "            \n",
        "            System.out.println();  // Blank line between events\n",
        "        }\n",
        "        \n",
        "        // TODO 6: Summary Report\n",
        "        // Print:\n",
        "        // - Total expected revenue\n",
        "        // - Number of profitable events\n",
        "        // - Number of large events\n",
        "        // - Total staff needed\n",
        "        // - Average revenue per event (use a calculation)\n",
        "        \n",
        "        \n",
        "        // TODO 7: Recommendations using functions\n",
        "        // If more than half the events are profitable:\n",
        "        //   \"Festival is financially viable!\"\n",
        "        // If totalStaff > 100:\n",
        "        //   \"Major staffing operation required!\"\n",
        "        // Always: Show the most attended event\n",
        "        \n",
        "    }\n",
        "}\n",
        "```\n",
        "\n",
        "### Solution Hints:\n",
        "\n",
        "**Function 1:**\n",
        "```java\n",
        "public static double calculateRevenue(int attendance) {\n",
        "    return attendance * 12.0;\n",
        "}\n",
        "```\n",
        "\n",
        "**Function 2:**\n",
        "```java\n",
        "public static String getEventSize(int attendance) {\n",
        "    if (attendance < 200) {\n",
        "        return \"Small\";\n",
        "    } else if (attendance <= 500) {\n",
        "        return \"Medium\";\n",
        "    } else {\n",
        "        return \"Large\";\n",
        "    }\n",
        "}\n",
        "```\n",
        "\n",
        "**Main Loop Usage:**\n",
        "```java\n",
        "double revenue = calculateRevenue(expectedAttendance[i]);\n",
        "totalRevenue = totalRevenue + revenue;\n",
        "System.out.println(\"  Expected revenue: $\" + revenue);\n",
        "\n",
        "String size = getEventSize(expectedAttendance[i]);\n",
        "System.out.println(\"  Event size: \" + size);\n",
        "```\n",
        "\n",
        "### Expected Output (partial):\n",
        "```\n",
        "=== PAWNEE SUMMER FESTIVAL PLANNER ===\n",
        "\n",
        "Opening Ceremony:\n",
        "  Expected revenue: $2400.0\n",
        "  Event size: Medium\n",
        "  Profitable!\n",
        "  Staff needed: 4\n",
        "\n",
        "Concert Night:\n",
        "  Expected revenue: $6000.0\n",
        "  Event size: Medium\n",
        "  Profitable!\n",
        "  Staff needed: 10\n",
        "\n",
        "[... continues for all events ...]\n",
        "\n",
        "=== SUMMARY ===\n",
        "Total expected revenue: $39600.0\n",
        "Profitable events: 7\n",
        "Large events: 2\n",
        "Total staff needed: 66\n",
        "Average revenue per event: $5657.14\n",
        "\n",
        "Festival is financially viable!\n",
        "Most attended: Closing Fireworks (900 people)\n",
        "```\n",
        "\n",
        "### Key Learning Points:\n",
        "- Functions make code reusable and cleaner\n",
        "- One parameter in, one result out\n",
        "- Call functions by name with a value\n",
        "- Use the returned result in calculations or decisions# Problem #5: Build a Complete Park Event Planning System 🎪\n",
        "\n",
        "For your final challenge, create a complete event planning system for the Parks Department! This combines everything you've learned: algorithms, flowcharts, linear search, and accumulators.\n",
        "\n",
        "### Requirements:\n",
        "Build a system that helps Leslie plan the annual \"Pawnee Summer Festival Week\" with multiple events.\n",
        "\n",
        "### Starter Code:\n"
      ],
      "metadata": {
        "id": "d6uM2t2XIwz6"
      }
    },
    {
      "cell_type": "code",
      "source": [
        "%%writefile FestivalPlanner.java\n",
        "public class FestivalPlanner {\n",
        "    public static void main(String[] args) {\n",
        "        // Event data\n",
        "        String[] eventNames = {\n",
        "            \"Opening Ceremony\", \"Concert Night\", \"Food Festival\",\n",
        "            \"Kids Carnival\", \"Art Fair\", \"Sports Day\", \"Closing Fireworks\"\n",
        "        };\n",
        "\n",
        "        String[] eventDays = {\n",
        "            \"Monday\", \"Tuesday\", \"Wednesday\",\n",
        "            \"Thursday\", \"Friday\", \"Saturday\", \"Sunday\"\n",
        "        };\n",
        "\n",
        "        int[] expectedAttendance = {\n",
        "            200, 500, 800, 400, 300, 450, 900\n",
        "        };\n",
        "\n",
        "        double[] eventBudgets = {\n",
        "            1000.00, 3000.00, 2500.00,\n",
        "            1500.00, 1200.00, 1800.00, 4000.00\n",
        "        };\n",
        "\n",
        "        // TODO 1: SEARCH FUNCTIONALITY\n",
        "        // Search for a specific event (use linear search)\n",
        "        // Event to find: \"Food Festival\"\n",
        "        // Print its day, expected attendance, and budget\n",
        "\n",
        "\n",
        "        // TODO 2: ACCUMULATOR CALCULATIONS\n",
        "        // Calculate:\n",
        "        // - Total expected attendance for the week\n",
        "        // - Total budget needed\n",
        "        // - Count of \"big events\" (attendance >= 500)\n",
        "        // - Most expensive event (name and cost)\n",
        "\n",
        "\n",
        "        // TODO 3: DAILY ANALYSIS\n",
        "        // For each day, print:\n",
        "        // - Event name and day\n",
        "        // - Status: \"Small\" (<400), \"Medium\" (400-600), or \"Large\" (>600)\n",
        "        // - Budget per person (budget / attendance)\n",
        "\n",
        "\n",
        "        // TODO 4: FEASIBILITY CHECK\n",
        "        // Available budget: $12,000\n",
        "        // If total budget > available:\n",
        "        //   - Calculate how much over budget\n",
        "        //   - Find events that cost > $2000 and suggest reducing them\n",
        "        // Otherwise:\n",
        "        //   - Calculate surplus\n",
        "        //   - Suggest enhancing the most popular event\n",
        "\n",
        "\n",
        "        // TODO 5: FINAL RECOMMENDATIONS\n",
        "        // Based on analysis:\n",
        "        // - If more than 4 big events: \"Prepare for large crowds!\"\n",
        "        // - If average attendance > 500: \"This will be our biggest festival!\"\n",
        "        // - Always: List the 3 most expensive events as \"Priority Planning\"\n",
        "\n",
        "    }\n",
        "}\n"
      ],
      "metadata": {
        "colab": {
          "base_uri": "https://localhost:8080/"
        },
        "id": "ICF5lsOcJHGd",
        "outputId": "72486cbe-f06e-4a0f-ed9b-14613875ecac"
      },
      "execution_count": 23,
      "outputs": [
        {
          "output_type": "stream",
          "name": "stdout",
          "text": [
            "Writing FestivalPlanner.java\n"
          ]
        }
      ]
    },
    {
      "cell_type": "code",
      "source": [
        "!javac FestivalPlanner.java\n",
        "!java FestivalPlanner"
      ],
      "metadata": {
        "id": "A7xQEgabJUWw"
      },
      "execution_count": null,
      "outputs": []
    },
    {
      "cell_type": "markdown",
      "source": [
        "### Detailed Requirements:\n",
        "\n",
        "**Part 1 - Search Feature:**\n",
        "```java\n",
        "// Search for \"Food Festival\"\n",
        "String searchTarget = \"Food Festival\";\n",
        "int foundIndex = -1;\n",
        "\n",
        "for (int i = 0; i < eventNames.length; i++) {\n",
        "    if (eventNames[i].equals(searchTarget)) {\n",
        "        foundIndex = i;\n",
        "        break;\n",
        "    }\n",
        "}\n",
        "\n",
        "if (foundIndex != -1) {\n",
        "    System.out.println(\"Found: \" + eventNames[foundIndex]);\n",
        "    System.out.println(\"Day: \" + eventDays[foundIndex]);\n",
        "    System.out.println(\"Expected: \" + expectedAttendance[foundIndex] + \" people\");\n",
        "    System.out.println(\"Budget: $\" + eventBudgets[foundIndex]);\n",
        "}\n",
        "```\n",
        "\n",
        "**Part 2 - Accumulator Calculations:**\n",
        "- Use accumulator patterns for totals and counts\n",
        "- Track maximum budget with index\n",
        "\n",
        "**Part 3 - Daily Analysis:**\n",
        "- Loop through all events\n",
        "- Use if-else if-else for size categories\n",
        "- Calculate budget per person\n",
        "\n",
        "**Part 4 - Feasibility Check:**\n",
        "- Compare total to available budget\n",
        "- Use conditional logic for recommendations\n",
        "- Loop to find high-cost events if needed\n",
        "\n",
        "**Part 5 - Final Recommendations:**\n",
        "- Use accumulated statistics\n",
        "- Multiple if statements for different scenarios\n",
        "- Loop to find top 3 expensive events\n",
        "\n",
        "### Expected Output Sample:\n",
        "```\n",
        "=== PAWNEE SUMMER FESTIVAL PLANNER ===\n",
        "\n",
        "Event Search Results:\n",
        "Found: Food Festival\n",
        "Day: Wednesday\n",
        "Expected: 800 people\n",
        "Budget: $2500.0\n",
        "\n",
        "=== WEEKLY STATISTICS ===\n",
        "Total expected attendance: 3550\n",
        "Total budget needed: $15000.0\n",
        "Number of big events: 3\n",
        "Most expensive: Closing Fireworks ($4000.0)\n",
        "\n",
        "=== DAILY BREAKDOWN ===\n",
        "Monday: Opening Ceremony\n",
        "  Size: Small event\n",
        "  Budget per person: $5.0\n",
        "\n",
        "[... continues for all days ...]\n",
        "\n",
        "=== BUDGET ANALYSIS ===\n",
        "⚠️ OVER BUDGET by $3000.0\n",
        "Events costing over $2000 to review:\n",
        "- Concert Night: $3000.0\n",
        "- Food Festival: $2500.0\n",
        "- Closing Fireworks: $4000.0\n",
        "\n",
        "=== RECOMMENDATIONS ===\n",
        "This will be our biggest festival!\n",
        "Priority Planning Required:\n",
        "1. Closing Fireworks\n",
        "2. Concert Night\n",
        "3. Food Festival\n",
        "```\n",
        "\n",
        "### Hints:\n",
        "- Break the problem into sections (like code blocks from slide 23)\n",
        "- Test each part before moving to the next\n",
        "- Use meaningful variable names\n",
        "- Remember: arrays are parallel (same index = related data)"
      ],
      "metadata": {
        "id": "oeIK8NTaI6cl"
      }
    },
    {
      "cell_type": "code",
      "source": [],
      "metadata": {
        "id": "btX0fAa7Axt-"
      },
      "execution_count": null,
      "outputs": []
    }
  ]
}