{
  "nbformat": 4,
  "nbformat_minor": 0,
  "metadata": {
    "colab": {
      "provenance": [],
      "authorship_tag": "ABX9TyMoX0pqrLNuFaNAzSIEhU09",
      "include_colab_link": true
    },
    "kernelspec": {
      "name": "python3",
      "display_name": "Python 3"
    },
    "language_info": {
      "name": "python"
    }
  },
  "cells": [
    {
      "cell_type": "markdown",
      "metadata": {
        "id": "view-in-github",
        "colab_type": "text"
      },
      "source": [
        "<a href=\"https://colab.research.google.com/github/brendanpshea/programming_problem_solving/blob/main/Java_03_Algorithms_Functions.ipynb\" target=\"_parent\"><img src=\"https://colab.research.google.com/assets/colab-badge.svg\" alt=\"Open In Colab\"/></a>"
      ]
    },
    {
      "cell_type": "markdown",
      "source": [
        "# Algorithms  at the Pawnee Parks Department!\n",
        "### Brendan Shea, PhD\n",
        "\n",
        "Today you'll learn about **algorithms** and **functions** while working at the Pawnee Parks and Recreation Department - a local government office responsible for maintaining public parks, organizing community events, and making the town a better place to live!\n",
        "\n",
        "### Welcome to Your New Job!\n",
        "You've just been hired at the Pawnee Parks and Recreation Department - a local government office responsible for maintaining public parks, organizing community events, and making the town a better place to live!\n",
        "\n",
        "### Your Colleagues Include:\n",
        "- **Leslie Knope**: The ultra-enthusiastic deputy director who loves waffles and making detailed plans\n",
        "- **Ron Swanson**: The director who ironically dislikes government but loves woodworking and breakfast foods\n",
        "- **Tom Haverford**: The trendy entrepreneur who handles social events\n",
        "- **April Ludgate**: The sarcastic intern who secretly cares about her job\n",
        "- **Ben Wyatt**: The budget-minded analyst who loves spreadsheets and board games\n",
        "\n",
        "### Today's Learning Goals:\n",
        "- 📋 Understand what algorithms are and why they matter\n",
        "- 📊 Create flowcharts to visualize our solutions\n",
        "- 🔍 Master linear search to find things efficiently\n",
        "- 📈 Use accumulators to track totals and counts\n",
        "- 🔧 Write reusable code blocks\n",
        "\n",
        "### Why This Matters:\n",
        "Just like the Parks Department needs organized procedures to run smoothly, your programs need well-designed algorithms to solve problems effectively!"
      ],
      "metadata": {
        "id": "1Vc0cSAy91pP"
      }
    },
    {
      "cell_type": "markdown",
      "source": [
        "## Brendan's Lecture"
      ],
      "metadata": {
        "id": "5H4E3czGMVRb"
      }
    },
    {
      "cell_type": "code",
      "source": [
        "from IPython.display import YouTubeVideo\n",
        "YouTubeVideo('6tr3t97-QVE', width=800, height=500)"
      ],
      "metadata": {
        "id": "S3sjbXZSMXEh"
      },
      "execution_count": null,
      "outputs": []
    },
    {
      "cell_type": "markdown",
      "source": [
        "## What is an Algorithm? 📋\n",
        "\n",
        "An **algorithm** is a step-by-step procedure for solving a problem or completing a task. Think of it as a detailed recipe or instruction manual that anyone can follow to get the same result.\n",
        "\n",
        "### Real-World Example: Planning a Community Festival\n",
        "Leslie Knope (our enthusiastic deputy director) needs to organize the Harvest Festival. Here's her algorithm:\n",
        "\n",
        "1. **Start**: Decide to have a festival\n",
        "2. **Step 1**: Check the budget\n",
        "3. **Step 2**: If budget > $5000, continue; else find sponsors\n",
        "4. **Step 3**: Reserve the park location\n",
        "5. **Step 4**: Book vendors (food, games, crafts)\n",
        "6. **Step 5**: Advertise the event\n",
        "7. **Step 6**: Set up on festival day\n",
        "8. **Step 7**: Run the festival\n",
        "9. **Step 8**: Clean up\n",
        "10. **End**: Celebrate success!\n",
        "\n",
        "### In Programming Terms:\n",
        "```java\n",
        "// This is like an algorithm in Java:\n",
        "int budget = 6000;\n",
        "if (budget > 5000) {\n",
        "    System.out.println(\"We can afford the festival!\");\n",
        "    System.out.println(\"Book the vendors\");\n",
        "    System.out.println(\"Start advertising\");\n",
        "} else {\n",
        "    System.out.println(\"Find sponsors first\");\n",
        "}\n",
        "```\n",
        "\n",
        "### Key Point:\n",
        "Algorithms exist everywhere - from recipes to driving directions to computer programs!"
      ],
      "metadata": {
        "id": "4htH_sRP940s"
      }
    },
    {
      "cell_type": "markdown",
      "source": [
        "## Why Algorithms Matter 🎯\n",
        "\n",
        "Algorithms are everywhere! From making breakfast to running a government department, having a clear set of steps makes the difference between chaos and success. Let's see why programs need algorithms just like people do.\n",
        "\n",
        "#### Without an Algorithm (Chaos):\n",
        "Imagine if Leslie tried to make her beloved waffles without a plan:\n",
        "- Pour... something?\n",
        "- Heat... somehow?\n",
        "- Hope for the best?\n",
        "- Result: 🔥 Disaster!\n",
        "\n",
        "#### With an Algorithm (Success):\n",
        "```\n",
        "// Leslie's Waffle Algorithm\n",
        "    1. Preheat waffle iron\n",
        "    2. Mix 2 cups flour\n",
        "    3. Add 2 eggs\n",
        "    4. Add 1.75 cups milk\n",
        "    5. Pour batter into iron\n",
        "    6. Cook for 3 minutes\n",
        "    7. Enjoy perfect waffle!\n",
        "}\n",
        "```\n",
        "\n",
        "### Why Programs Need Algorithms:\n",
        "1. **Consistency**: Same input → Same output (every waffle is perfect!)\n",
        "2. **Efficiency**: No wasted steps (save time for more important work)\n",
        "3. **Correctness**: Solve the problem properly (edible waffles, not burnt disasters)\n",
        "4. **Communication**: Others can understand and follow your solution\n",
        "\n",
        "### Parks Department Example:\n",
        "Instead of randomly maintaining parks, the department uses algorithms to:\n",
        "- Schedule regular maintenance\n",
        "- Allocate budget efficiently\n",
        "- Process permit applications fairly\n",
        "- Organize events systematically\n",
        "\n",
        "**Remember**: A good algorithm is like a good recipe - anyone should be able to follow it and get the same great result!"
      ],
      "metadata": {
        "id": "fkbXHUs69_yL"
      }
    },
    {
      "cell_type": "markdown",
      "source": [
        "## Algorithm Example: Ron's Perfect Burger Recipe 🍔\n",
        "\n",
        "Meet Ron Swanson, the Parks Director who paradoxically dislikes government but LOVES meat. His burger algorithm is legendary for its simplicity and effectiveness. Let's see how his step-by-step approach translates to code.\n",
        "\n",
        "### Ron's Burger Algorithm:\n",
        "\n"
      ],
      "metadata": {
        "id": "3ypngrUe-ecc"
      }
    },
    {
      "cell_type": "code",
      "source": [
        "%%writefile PerfectBurger.java\n",
        "public class PerfectBurger {\n",
        "  public static void main(String[] args) {\n",
        "      // Ron's Perfect Burger Algorithm\n",
        "\n",
        "      // Step 1: Meat selection\n",
        "      String meat = \"beef\";\n",
        "      double weight = 0.5;  // Half pound\n",
        "      System.out.println(\"Step 1: Select \" + weight + \" pounds of \" + meat);\n",
        "\n",
        "      // Step 2: Season appropriately\n",
        "      boolean addSalt = true;\n",
        "      boolean addPepper = true;\n",
        "      if (addSalt && addPepper) {\n",
        "          System.out.println(\"Step 2: Add salt and pepper. Nothing else.\");\n",
        "      }\n",
        "\n",
        "      // Step 3: Cook to perfection\n",
        "      int grillTemp = 400;\n",
        "      int minutesPerSide = 4;\n",
        "      System.out.println(\"Step 3: Grill at \" + grillTemp + \"°F\");\n",
        "      System.out.println(\"        Cook \" + minutesPerSide + \" minutes per side\");\n",
        "\n",
        "      // Step 4: Serve simply\n",
        "      String bun = \"none\";  // Ron often skips the bun\n",
        "      String toppings = \"none\";  // \"Vegetables are what food eats\"\n",
        "      System.out.println(\"Step 4: Serve. Bun: \" + bun + \", Toppings: \" + toppings);\n",
        "\n",
        "      // Step 5: Enjoy\n",
        "      System.out.println(\"Step 5: Consume immediately.\");\n",
        "  }\n",
        "}"
      ],
      "metadata": {
        "colab": {
          "base_uri": "https://localhost:8080/"
        },
        "id": "Jx0bKK2B-nzH",
        "outputId": "af421a2e-ca40-4b52-f7aa-b6c76e0a1b18"
      },
      "execution_count": null,
      "outputs": [
        {
          "output_type": "stream",
          "name": "stdout",
          "text": [
            "Writing PerfectBurger.java\n"
          ]
        }
      ]
    },
    {
      "cell_type": "code",
      "source": [
        "!javac PerfectBurger.java\n",
        "!java PerfectBurger"
      ],
      "metadata": {
        "colab": {
          "base_uri": "https://localhost:8080/"
        },
        "id": "Ge5-Mit7-z0c",
        "outputId": "681475c5-514d-4a14-8ed9-c665681c0469"
      },
      "execution_count": null,
      "outputs": [
        {
          "output_type": "stream",
          "name": "stdout",
          "text": [
            "Step 1: Select 0.5 pounds of beef\n",
            "Step 2: Add salt and pepper. Nothing else.\n",
            "Step 3: Grill at 400°F\n",
            "        Cook 4 minutes per side\n",
            "Step 4: Serve. Bun: none, Toppings: none\n",
            "Step 5: Consume immediately.\n"
          ]
        }
      ]
    },
    {
      "cell_type": "markdown",
      "source": [
        "### What Makes This a Good Algorithm?\n",
        "1. **Clear steps**: Each action is specific\n",
        "2. **Precise values**: Exact temperature, time, and weight\n",
        "3. **Decision points**: Uses conditionals (if statements)\n",
        "4. **Complete**: Goes from raw ingredients to finished product\n",
        "5. **Reproducible**: Anyone can follow it\n",
        "\n",
        "### Key Takeaway:\n",
        "Even something as simple as making a burger benefits from algorithmic thinking!"
      ],
      "metadata": {
        "id": "xwJ4jkyZ-hjD"
      }
    },
    {
      "cell_type": "markdown",
      "source": [
        "## Characteristics of Good Algorithms ✅\n",
        "\n",
        "A good algorithm is like good instructions for assembling furniture - anyone should be able to follow it without getting confused, it should actually end, and you should have a complete piece of furniture when done! Let's explore the three key characteristics.\n",
        "\n",
        "### The Three C's of Good Algorithms\n",
        "\n",
        "#### 1. CLEAR (Unambiguous)\n",
        "❌ **Bad**: \"Add some water to the park fountain\"\n",
        "\n",
        "✅ **Good**: \"Add 50 gallons of water to the park fountain on Saturday between 9 AM and 12 PM\"\n",
        "\n",
        "```java\n",
        "// Unclear algorithm\n",
        "System.out.println(\"Water the plants for a while\");\n",
        "\n",
        "// Clear algorithm\n",
        "int gallonsPerPlant = 2;\n",
        "int numberOfPlants = 15;\n",
        "System.out.println(\"Water each plant with \" + gallonsPerPlant + \" gallons\");\n",
        "System.out.println(\"Total water needed: \" + (gallonsPerPlant * numberOfPlants));\n",
        "```\n",
        "\n",
        "#### 2. FINITE (Must End)\n",
        "❌ **Bad**: Keep painting the fence forever\n",
        "✅ **Good**: Paint the fence until all 100 sections are done\n",
        "\n",
        "```java\n",
        "// This would run forever (DON'T DO THIS!)\n",
        "// while (true) {\n",
        "//     System.out.println(\"Keep painting...\");\n",
        "// }\n",
        "\n",
        "// This will end properly\n",
        "int fenceSections = 100;\n",
        "for (int i = 0; i < fenceSections; i++) {\n",
        "    System.out.println(\"Painting section \" + (i + 1));\n",
        "}\n",
        "System.out.println(\"Fence painting complete!\");\n",
        "```\n",
        "\n",
        "#### 3. EFFECTIVE (Solves the Problem)\n",
        "❌ **Bad**: Count park visitors but forget to add them up\n",
        "✅ **Good**: Count visitors AND calculate the total\n",
        "\n",
        "```java\n",
        "// Effective algorithm for counting daily visitors\n",
        "int[] hourlyVisitors = {5, 8, 12, 15, 20, 18, 14, 10, 6};\n",
        "int totalVisitors = 0;\n",
        "\n",
        "for (int i = 0; i < hourlyVisitors.length; i++) {\n",
        "    totalVisitors = totalVisitors + hourlyVisitors[i];\n",
        "}\n",
        "\n",
        "System.out.println(\"Total park visitors today: \" + totalVisitors);\n",
        "```\n",
        "\n",
        "### Remember:\n",
        "A good algorithm is like good instructions for assembling furniture - anyone should be able to follow it without getting confused, it should actually end, and you should have a complete piece of furniture at the end!"
      ],
      "metadata": {
        "id": "iC_QANh_-_jS"
      }
    },
    {
      "cell_type": "markdown",
      "source": [
        "## Problem #1: Fix Tom's Party Planning Algorithm\n",
        "Tom Haverford wrote an algorithm to plan his park party, but it has syntax errors. Help him fix the bugs!\n",
        "\n",
        "**The Code**"
      ],
      "metadata": {
        "id": "ENoiKlLQ_Aci"
      }
    },
    {
      "cell_type": "code",
      "source": [
        "%%writefile TomPartyPlanner.java\n",
        "public class TomPartyPlanner {\n",
        "    public static void main(String[] args) {\n",
        "        int budget = 1000;\n",
        "        int guestCount = 75;\n",
        "        int costPerGuest;  // TODO 1: Tom forgot to set this! Fix it by setting to 12\n",
        "\n",
        "        System.out.println(\"Tom's Party Planner!\");\n",
        "\n",
        "        int totalCost = guestCount * costPerGuest;\n",
        "\n",
        "        // TODO 2: Fix this backwards logic!\n",
        "        if (totalCost > budget) {\n",
        "            System.out.println(\"Party is within budget! Let's go!\");\n",
        "        } else {\n",
        "            System.out.println(\"Need to cut costs or get more money!\");\n",
        "        }\n",
        "\n",
        "        // TODO 3: Fix this infinite loop - what's missing?\n",
        "        int decorations = 0;\n",
        "        while (decorations < 5) {\n",
        "            System.out.println(\"Adding decoration #\" + decorations);\n",
        "            // Missing something here to make decorations increase\n",
        "        }\n",
        "\n",
        "        System.out.println(\"Party planning complete!\");\n",
        "    }\n",
        "}"
      ],
      "metadata": {
        "colab": {
          "base_uri": "https://localhost:8080/"
        },
        "id": "xMBppFvv_LYE",
        "outputId": "e8d8167d-e32b-448b-e1e1-3fa69e9f2826"
      },
      "execution_count": null,
      "outputs": [
        {
          "output_type": "stream",
          "name": "stdout",
          "text": [
            "Writing TomPartyPlanner.java\n"
          ]
        }
      ]
    },
    {
      "cell_type": "code",
      "source": [
        "!javac TomPartyPlanner.java\n",
        "!java TomPartyPlanner"
      ],
      "metadata": {
        "id": "0JMgCSZR_hU7"
      },
      "execution_count": null,
      "outputs": []
    },
    {
      "cell_type": "markdown",
      "source": [
        "**Expected Output**\n",
        "```\n",
        "Tom's Party Planner!\n",
        "Party is within budget! Let's go!\n",
        "Adding decoration #0\n",
        "Adding decoration #1\n",
        "Adding decoration #2\n",
        "Adding decoration #3\n",
        "Adding decoration #4\n",
        "Party planning complete!\n",
        "```"
      ],
      "metadata": {
        "id": "DSn8izoG_GsP"
      }
    },
    {
      "cell_type": "markdown",
      "source": [
        "## Flowcharts: Drawing Your Algorithm 📊\n",
        "\n",
        "A **flowchart** is a visual representation of an algorithm using shapes and arrows. Think of it like a map showing how to navigate through your program - much like how the Parks Department uses blueprints to design park layouts!\n",
        "\n",
        "### Why Use Flowcharts?\n",
        "- **Plan** before you code (like sketching a park layout)\n",
        "- **Visualize** the logic flow\n",
        "- **Communicate** ideas to others\n",
        "- **Debug** by seeing where logic might fail\n",
        "\n",
        "We'll use a tool called Mermaid to create professional flowcharts in our documentation!"
      ],
      "metadata": {
        "id": "KqCGjt_k_jtw"
      }
    },
    {
      "cell_type": "markdown",
      "source": [
        "## Flowchart Symbols: The Building Blocks 🔷\n",
        "\n",
        "Just like blueprints use standard symbols for doors, windows, and walls, flowcharts use standard shapes to represent different parts of your algorithm. Let's learn the essential symbols you'll use to draw your programs.\n",
        "\n",
        "### The Essential Flowchart Symbols\n",
        "\n",
        "#### 1. Start/End (Oval Shape) 🟢\n",
        "- **Purpose**: Mark beginning and end points\n",
        "- **In Code**: Where main method starts and ends\n",
        "- **Example**: \"Start Park Inspection\" or \"End Daily Report\"\n",
        "\n",
        "```java\n",
        "public static void main(String[] args) {  // START\n",
        "    // Your code here\n",
        "}  // END\n",
        "```\n",
        "\n",
        "#### 2. Process (Rectangle) 📦\n",
        "- **Purpose**: Show actions, calculations, or assignments\n",
        "- **In Code**: Variable assignments, calculations, print statements\n",
        "- **Examples**:\n",
        "  - \"Calculate entrance fee\"\n",
        "  - \"Add visitor to count\"\n",
        "  - \"Print receipt\"\n",
        "\n",
        "```java\n",
        "int visitors = 0;           // Process: Initialize\n",
        "visitors = visitors + 1;     // Process: Increment\n",
        "System.out.println(visitors); // Process: Output\n",
        "```\n",
        "\n",
        "#### 3. Decision (Diamond) 🔷\n",
        "- **Purpose**: Show Yes/No questions or conditions\n",
        "- **In Code**: if statements, while/for loop conditions\n",
        "- **Examples**:\n",
        "  - \"Is age >= 65?\"\n",
        "  - \"Is park at capacity?\"\n",
        "  - \"More items to process?\"\n",
        "\n",
        "```java\n",
        "if (age >= 65) {    // Decision diamond\n",
        "    // Yes path\n",
        "} else {\n",
        "    // No path\n",
        "}\n",
        "```\n",
        "\n",
        "#### 4. Flow Lines (Arrows) ➡️\n",
        "- **Purpose**: Connect symbols and show direction\n",
        "- **Rules**:\n",
        "  - One arrow leaves Start\n",
        "  - All paths lead to End\n",
        "  - Decision diamonds have two exits (Yes/No)\n",
        "\n",
        "### Putting It Together:\n",
        "```\n",
        "Mermaid code example:\n",
        "flowchart TD\n",
        "    A[Start] --> B[Input age]\n",
        "    B --> C{Age >= 65?}\n",
        "    C -->|Yes| D[Senior discount]\n",
        "    C -->|No| E[Regular price]\n",
        "    D --> F[Calculate total]\n",
        "    E --> F\n",
        "    F --> G[End]\n",
        "```\n",
        "\n",
        "### Remember:\n",
        "- Ovals = Start/Stop points\n",
        "- Rectangles = Do something\n",
        "- Diamonds = Make a choice\n",
        "- Arrows = Show the path\n",
        "\n",
        "Here's what this looks like:"
      ],
      "metadata": {
        "id": "2fbNES7e_yDe"
      }
    },
    {
      "cell_type": "code",
      "source": [
        "# Run this cell first to make mermaid work in Colab\n",
        "import base64\n",
        "import requests\n",
        "from IPython.display import SVG, display\n",
        "\n",
        "def mm(graph: str) -> None:\n",
        "    \"\"\"\n",
        "    Fetch and display a Mermaid diagram as SVG.\n",
        "\n",
        "    Parameters:\n",
        "      graph (str): Mermaid graph definition.\n",
        "    \"\"\"\n",
        "    # 1. Encode the graph to Base64\n",
        "    b64 = base64.urlsafe_b64encode(graph.encode('utf-8')).decode('ascii')\n",
        "    # 2. Construct the SVG URL\n",
        "    url = f'https://mermaid.ink/svg/{b64}'\n",
        "    # 3. Fetch SVG content\n",
        "    svg_data = requests.get(url).text\n",
        "    # 4. Render inline in Jupyter\n",
        "    display(SVG(data=svg_data))\n"
      ],
      "metadata": {
        "id": "Ks_ItuLuAJVb"
      },
      "execution_count": null,
      "outputs": []
    },
    {
      "cell_type": "code",
      "source": [
        "# Here is the diagram\n",
        "mm(\"\"\"\n",
        "  flowchart TD\n",
        "    A([Start]) --> B[Input age]\n",
        "    B --> C{Age >= 65?}\n",
        "    C -->|Yes| D[Senior discount]\n",
        "    C -->|No| E[Regular price]\n",
        "    D --> F[Calculate total]\n",
        "    E --> F\n",
        "    F --> G([End])\n",
        "    \"\"\")"
      ],
      "metadata": {
        "colab": {
          "base_uri": "https://localhost:8080/",
          "height": 688
        },
        "id": "wZBtp1Gs_1ib",
        "outputId": "78d68470-af5d-4cae-ece1-c4437e2d1c9c"
      },
      "execution_count": null,
      "outputs": [
        {
          "output_type": "display_data",
          "data": {
            "text/plain": [
              "<IPython.core.display.SVG object>"
            ],
            "image/svg+xml": "<svg xmlns=\"http://www.w3.org/2000/svg\" xmlns:xlink=\"http://www.w3.org/1999/xlink\" id=\"mermaid-svg\" width=\"100%\" class=\"flowchart\" style=\"max-width: 391.453125px;\" viewBox=\"0 0 391.453125 666.75\" role=\"graphics-document document\" aria-roledescription=\"flowchart-v2\"><style xmlns=\"http://www.w3.org/1999/xhtml\">@import url(&quot;https://cdnjs.cloudflare.com/ajax/libs/font-awesome/6.7.2/css/all.min.css&quot;);</style><style>#mermaid-svg{font-family:&quot;trebuchet ms&quot;,verdana,arial,sans-serif;font-size:16px;fill:#333;}@keyframes edge-animation-frame{from{stroke-dashoffset:0;}}@keyframes dash{to{stroke-dashoffset:0;}}#mermaid-svg .edge-animation-slow{stroke-dasharray:9,5!important;stroke-dashoffset:900;animation:dash 50s linear infinite;stroke-linecap:round;}#mermaid-svg .edge-animation-fast{stroke-dasharray:9,5!important;stroke-dashoffset:900;animation:dash 20s linear infinite;stroke-linecap:round;}#mermaid-svg .error-icon{fill:#552222;}#mermaid-svg .error-text{fill:#552222;stroke:#552222;}#mermaid-svg .edge-thickness-normal{stroke-width:1px;}#mermaid-svg .edge-thickness-thick{stroke-width:3.5px;}#mermaid-svg .edge-pattern-solid{stroke-dasharray:0;}#mermaid-svg .edge-thickness-invisible{stroke-width:0;fill:none;}#mermaid-svg .edge-pattern-dashed{stroke-dasharray:3;}#mermaid-svg .edge-pattern-dotted{stroke-dasharray:2;}#mermaid-svg .marker{fill:#333333;stroke:#333333;}#mermaid-svg .marker.cross{stroke:#333333;}#mermaid-svg svg{font-family:&quot;trebuchet ms&quot;,verdana,arial,sans-serif;font-size:16px;}#mermaid-svg p{margin:0;}#mermaid-svg .label{font-family:&quot;trebuchet ms&quot;,verdana,arial,sans-serif;color:#333;}#mermaid-svg .cluster-label text{fill:#333;}#mermaid-svg .cluster-label span{color:#333;}#mermaid-svg .cluster-label span p{background-color:transparent;}#mermaid-svg .label text,#mermaid-svg span{fill:#333;color:#333;}#mermaid-svg .node rect,#mermaid-svg .node circle,#mermaid-svg .node ellipse,#mermaid-svg .node polygon,#mermaid-svg .node path{fill:#ECECFF;stroke:#9370DB;stroke-width:1px;}#mermaid-svg .rough-node .label text,#mermaid-svg .node .label text,#mermaid-svg .image-shape .label,#mermaid-svg .icon-shape .label{text-anchor:middle;}#mermaid-svg .node .katex path{fill:#000;stroke:#000;stroke-width:1px;}#mermaid-svg .rough-node .label,#mermaid-svg .node .label,#mermaid-svg .image-shape .label,#mermaid-svg .icon-shape .label{text-align:center;}#mermaid-svg .node.clickable{cursor:pointer;}#mermaid-svg .root .anchor path{fill:#333333!important;stroke-width:0;stroke:#333333;}#mermaid-svg .arrowheadPath{fill:#333333;}#mermaid-svg .edgePath .path{stroke:#333333;stroke-width:2.0px;}#mermaid-svg .flowchart-link{stroke:#333333;fill:none;}#mermaid-svg .edgeLabel{background-color:rgba(232,232,232, 0.8);text-align:center;}#mermaid-svg .edgeLabel p{background-color:rgba(232,232,232, 0.8);}#mermaid-svg .edgeLabel rect{opacity:0.5;background-color:rgba(232,232,232, 0.8);fill:rgba(232,232,232, 0.8);}#mermaid-svg .labelBkg{background-color:rgba(232, 232, 232, 0.5);}#mermaid-svg .cluster rect{fill:#ffffde;stroke:#aaaa33;stroke-width:1px;}#mermaid-svg .cluster text{fill:#333;}#mermaid-svg .cluster span{color:#333;}#mermaid-svg div.mermaidTooltip{position:absolute;text-align:center;max-width:200px;padding:2px;font-family:&quot;trebuchet ms&quot;,verdana,arial,sans-serif;font-size:12px;background:hsl(80, 100%, 96.2745098039%);border:1px solid #aaaa33;border-radius:2px;pointer-events:none;z-index:100;}#mermaid-svg .flowchartTitleText{text-anchor:middle;font-size:18px;fill:#333;}#mermaid-svg rect.text{fill:none;stroke-width:0;}#mermaid-svg .icon-shape,#mermaid-svg .image-shape{background-color:rgba(232,232,232, 0.8);text-align:center;}#mermaid-svg .icon-shape p,#mermaid-svg .image-shape p{background-color:rgba(232,232,232, 0.8);padding:2px;}#mermaid-svg .icon-shape rect,#mermaid-svg .image-shape rect{opacity:0.5;background-color:rgba(232,232,232, 0.8);fill:rgba(232,232,232, 0.8);}#mermaid-svg .label-icon{display:inline-block;height:1em;overflow:visible;vertical-align:-0.125em;}#mermaid-svg .node .label-icon path{fill:currentColor;stroke:revert;stroke-width:revert;}#mermaid-svg :root{--mermaid-font-family:&quot;trebuchet ms&quot;,verdana,arial,sans-serif;}</style><g><marker id=\"mermaid-svg_flowchart-v2-pointEnd\" class=\"marker flowchart-v2\" viewBox=\"0 0 10 10\" refX=\"5\" refY=\"5\" markerUnits=\"userSpaceOnUse\" markerWidth=\"8\" markerHeight=\"8\" orient=\"auto\"><path d=\"M 0 0 L 10 5 L 0 10 z\" class=\"arrowMarkerPath\" style=\"stroke-width: 1; stroke-dasharray: 1, 0;\"/></marker><marker id=\"mermaid-svg_flowchart-v2-pointStart\" class=\"marker flowchart-v2\" viewBox=\"0 0 10 10\" refX=\"4.5\" refY=\"5\" markerUnits=\"userSpaceOnUse\" markerWidth=\"8\" markerHeight=\"8\" orient=\"auto\"><path d=\"M 0 5 L 10 10 L 10 0 z\" class=\"arrowMarkerPath\" style=\"stroke-width: 1; stroke-dasharray: 1, 0;\"/></marker><marker id=\"mermaid-svg_flowchart-v2-circleEnd\" class=\"marker flowchart-v2\" viewBox=\"0 0 10 10\" refX=\"11\" refY=\"5\" markerUnits=\"userSpaceOnUse\" markerWidth=\"11\" markerHeight=\"11\" orient=\"auto\"><circle cx=\"5\" cy=\"5\" r=\"5\" class=\"arrowMarkerPath\" style=\"stroke-width: 1; stroke-dasharray: 1, 0;\"/></marker><marker id=\"mermaid-svg_flowchart-v2-circleStart\" class=\"marker flowchart-v2\" viewBox=\"0 0 10 10\" refX=\"-1\" refY=\"5\" markerUnits=\"userSpaceOnUse\" markerWidth=\"11\" markerHeight=\"11\" orient=\"auto\"><circle cx=\"5\" cy=\"5\" r=\"5\" class=\"arrowMarkerPath\" style=\"stroke-width: 1; stroke-dasharray: 1, 0;\"/></marker><marker id=\"mermaid-svg_flowchart-v2-crossEnd\" class=\"marker cross flowchart-v2\" viewBox=\"0 0 11 11\" refX=\"12\" refY=\"5.2\" markerUnits=\"userSpaceOnUse\" markerWidth=\"11\" markerHeight=\"11\" orient=\"auto\"><path d=\"M 1,1 l 9,9 M 10,1 l -9,9\" class=\"arrowMarkerPath\" style=\"stroke-width: 2; stroke-dasharray: 1, 0;\"/></marker><marker id=\"mermaid-svg_flowchart-v2-crossStart\" class=\"marker cross flowchart-v2\" viewBox=\"0 0 11 11\" refX=\"-1\" refY=\"5.2\" markerUnits=\"userSpaceOnUse\" markerWidth=\"11\" markerHeight=\"11\" orient=\"auto\"><path d=\"M 1,1 l 9,9 M 10,1 l -9,9\" class=\"arrowMarkerPath\" style=\"stroke-width: 2; stroke-dasharray: 1, 0;\"/></marker><g class=\"root\"><g class=\"clusters\"/><g class=\"edgePaths\"><path d=\"M200.012,47.5L199.928,51.583C199.845,55.667,199.678,63.833,199.595,71.417C199.512,79,199.512,86,199.512,89.5L199.512,93\" id=\"L_A_B_0\" class=\" edge-thickness-normal edge-pattern-solid edge-thickness-normal edge-pattern-solid flowchart-link\" style=\"\" marker-end=\"url(#mermaid-svg_flowchart-v2-pointEnd)\"/><path d=\"M199.512,151L199.512,155.167C199.512,159.333,199.512,167.667,199.582,175.417C199.652,183.167,199.793,190.334,199.863,193.917L199.933,197.501\" id=\"L_B_C_0\" class=\" edge-thickness-normal edge-pattern-solid edge-thickness-normal edge-pattern-solid flowchart-link\" style=\"\" marker-end=\"url(#mermaid-svg_flowchart-v2-pointEnd)\"/><path d=\"M165.665,303.903L153.579,315.711C141.493,327.519,117.321,351.134,105.234,368.442C93.148,385.75,93.148,396.75,93.148,402.25L93.148,407.75\" id=\"L_C_D_0\" class=\" edge-thickness-normal edge-pattern-solid edge-thickness-normal edge-pattern-solid flowchart-link\" style=\"\" marker-end=\"url(#mermaid-svg_flowchart-v2-pointEnd)\"/><path d=\"M234.359,303.903L246.278,315.711C258.198,327.519,282.036,351.134,293.956,368.442C305.875,385.75,305.875,396.75,305.875,402.25L305.875,407.75\" id=\"L_C_E_0\" class=\" edge-thickness-normal edge-pattern-solid edge-thickness-normal edge-pattern-solid flowchart-link\" style=\"\" marker-end=\"url(#mermaid-svg_flowchart-v2-pointEnd)\"/><path d=\"M93.148,465.75L93.148,469.917C93.148,474.083,93.148,482.417,101.072,490.457C108.996,498.498,124.844,506.245,132.767,510.119L140.691,513.993\" id=\"L_D_F_0\" class=\" edge-thickness-normal edge-pattern-solid edge-thickness-normal edge-pattern-solid flowchart-link\" style=\"\" marker-end=\"url(#mermaid-svg_flowchart-v2-pointEnd)\"/><path d=\"M305.875,465.75L305.875,469.917C305.875,474.083,305.875,482.417,297.951,490.457C290.027,498.498,274.18,506.245,266.256,510.119L258.332,513.993\" id=\"L_E_F_0\" class=\" edge-thickness-normal edge-pattern-solid edge-thickness-normal edge-pattern-solid flowchart-link\" style=\"\" marker-end=\"url(#mermaid-svg_flowchart-v2-pointEnd)\"/><path d=\"M199.512,569.75L199.512,573.917C199.512,578.083,199.512,586.417,199.582,594.167C199.652,601.917,199.793,609.084,199.863,612.667L199.933,616.251\" id=\"L_F_G_0\" class=\" edge-thickness-normal edge-pattern-solid edge-thickness-normal edge-pattern-solid flowchart-link\" style=\"\" marker-end=\"url(#mermaid-svg_flowchart-v2-pointEnd)\"/></g><g class=\"edgeLabels\"><g class=\"edgeLabel\"><g class=\"label\" transform=\"translate(0, 0)\"><foreignObject width=\"0\" height=\"0\"><div xmlns=\"http://www.w3.org/1999/xhtml\" class=\"labelBkg\" style=\"display: table-cell; white-space: nowrap; line-height: 1.5; max-width: 200px; text-align: center;\"><span class=\"edgeLabel \"/></div></foreignObject></g></g><g class=\"edgeLabel\"><g class=\"label\" transform=\"translate(0, 0)\"><foreignObject width=\"0\" height=\"0\"><div xmlns=\"http://www.w3.org/1999/xhtml\" class=\"labelBkg\" style=\"display: table-cell; white-space: nowrap; line-height: 1.5; max-width: 200px; text-align: center;\"><span class=\"edgeLabel \"/></div></foreignObject></g></g><g class=\"edgeLabel\" transform=\"translate(93.1484375, 374.75)\"><g class=\"label\" transform=\"translate(-13.0546875, -12)\"><foreignObject width=\"26.109375\" height=\"24\"><div xmlns=\"http://www.w3.org/1999/xhtml\" class=\"labelBkg\" style=\"display: table-cell; white-space: nowrap; line-height: 1.5; max-width: 200px; text-align: center;\"><span class=\"edgeLabel \"><p>Yes</p></span></div></foreignObject></g></g><g class=\"edgeLabel\" transform=\"translate(305.875, 374.75)\"><g class=\"label\" transform=\"translate(-10.2265625, -12)\"><foreignObject width=\"20.453125\" height=\"24\"><div xmlns=\"http://www.w3.org/1999/xhtml\" class=\"labelBkg\" style=\"display: table-cell; white-space: nowrap; line-height: 1.5; max-width: 200px; text-align: center;\"><span class=\"edgeLabel \"><p>No</p></span></div></foreignObject></g></g><g class=\"edgeLabel\"><g class=\"label\" transform=\"translate(0, 0)\"><foreignObject width=\"0\" height=\"0\"><div xmlns=\"http://www.w3.org/1999/xhtml\" class=\"labelBkg\" style=\"display: table-cell; white-space: nowrap; line-height: 1.5; max-width: 200px; text-align: center;\"><span class=\"edgeLabel \"/></div></foreignObject></g></g><g class=\"edgeLabel\"><g class=\"label\" transform=\"translate(0, 0)\"><foreignObject width=\"0\" height=\"0\"><div xmlns=\"http://www.w3.org/1999/xhtml\" class=\"labelBkg\" style=\"display: table-cell; white-space: nowrap; line-height: 1.5; max-width: 200px; text-align: center;\"><span class=\"edgeLabel \"/></div></foreignObject></g></g><g class=\"edgeLabel\"><g class=\"label\" transform=\"translate(0, 0)\"><foreignObject width=\"0\" height=\"0\"><div xmlns=\"http://www.w3.org/1999/xhtml\" class=\"labelBkg\" style=\"display: table-cell; white-space: nowrap; line-height: 1.5; max-width: 200px; text-align: center;\"><span class=\"edgeLabel \"/></div></foreignObject></g></g></g><g class=\"nodes\"><g class=\"node default  \" id=\"flowchart-A-0\" transform=\"translate(199.51171875, 27.5)\"><g class=\"basic label-container outer-path\"><path d=\"M-9.7734375 -19.5 C-2.1468873415354555 -19.5, 5.479662816929089 -19.5, 9.7734375 -19.5 C9.7734375 -19.5, 9.7734375 -19.5, 9.773437499999998 -19.5 C10.043140033591442 -19.491351164691856, 10.312842567182887 -19.482702329383716, 11.0228067896239 -19.45993515863156 C11.425662845309523 -19.421072119444858, 11.828518900995144 -19.38220908025816, 12.267042152847864 -19.3399052695533 C12.645742195596013 -19.27867998350447, 13.024442238344163 -19.217454697455647, 13.501030759676757 -19.140403561325776 C13.849421835496548 -19.060885571734143, 14.197812911316339 -18.981367582142514, 14.71970188623539 -18.862249829261074 C14.98055758938021 -18.78482922582722, 15.24141329252503 -18.707408622393363, 15.918047751460602 -18.50658706670804 C16.36033571146705 -18.34382100896058, 16.802623671473498 -18.181054951213124, 17.091144095147794 -18.074876768247425 C17.527727784499042 -17.88161411976663, 17.96431147385029 -17.688351471285834, 18.23417041279238 -17.568892924097174 C18.582820135628236 -17.387002587014514, 18.931469858464094 -17.205112249931855, 19.342429764076783 -16.990714730406097 C19.74115039208396 -16.74900794256565, 20.13987102009114 -16.5073011547252, 20.411368073605697 -16.342718045390892 C20.64698992218781 -16.178358443725443, 20.882611770769923 -16.013998842059994, 21.436592844578712 -15.627565626425154 C21.712603639602314 -15.407454362349556, 21.988614434625912 -15.187343098273958, 22.41389120850187 -14.848196188198123 C22.63773588409061 -14.644906376433998, 22.86158055967935 -14.441616564669872, 23.339247236767985 -14.007812326905688 C23.556462288730312 -13.783519952067156, 23.77367734069264 -13.559227577228626, 24.208858442968648 -13.10986736009568 C24.437450524938633 -12.841350093355791, 24.666042606908622 -12.572832826615903, 25.019151408126582 -12.158051136245305 C25.30184718055108 -11.779264555311158, 25.584542952975575 -11.40047797437701, 25.766796464640635 -11.156274872382312 C26.024035794230482 -10.761086183700419, 26.28127512382033 -10.365897495018526, 26.448721378604247 -10.108655082055241 C26.60730686735198 -9.82707048826158, 26.765892356099712 -9.54548589446792, 27.0621239742735 -9.019496659696287 C27.26559529874554 -8.596984100841185, 27.46906662321758 -8.174471541986083, 27.60448364880834 -7.893275190886684 C27.73909190595445 -7.560790193262185, 27.873700163100562 -7.228305195637685, 28.073571729970325 -6.734618561215508 C28.174931332758952 -6.429339587075732, 28.27629093554758 -6.1240606129359545, 28.46746063421488 -5.548287939305138 C28.55379633352376 -5.219052499711611, 28.640132032832636 -4.889817060118085, 28.78453178754556 -4.339158212148133 C28.855731360594152 -3.973563452578716, 28.92693093364274 -3.6079686930092985, 29.023482276581777 -3.1121979531509023 C29.082663893889045 -2.6531970160479257, 29.141845511196315 -2.194196078944949, 29.183330202509367 -1.872449005199798 C29.209033126216763 -1.4721052214305232, 29.234736049924155 -1.0717614376612488, 29.263418715913414 -0.6250057626472757 C29.263418715913414 -0.14314906438095026, 29.263418715913414 0.33870763388537517, 29.263418715913414 0.625005762647271 C29.24332001006413 0.9380593296332319, 29.223221304214846 1.2511128966191927, 29.183330202509367 1.8724490051997846 C29.14355510355359 2.180936818219091, 29.103780004597816 2.489424631238398, 29.023482276581777 3.1121979531508885 C28.972116334237402 3.375951210893494, 28.92075039189303 3.639704468636099, 28.78453178754556 4.339158212148129 C28.66854421886409 4.781469080860837, 28.552556650182616 5.223779949573545, 28.467460634214884 5.548287939305125 C28.33280515619963 5.953848784650224, 28.19814967818437 6.359409629995322, 28.07357172997033 6.734618561215495 C27.91842855122856 7.117825212196978, 27.763285372486788 7.501031863178461, 27.604483648808344 7.893275190886679 C27.479686449527474 8.15241924542571, 27.354889250246604 8.41156329996474, 27.062123974273504 9.019496659696284 C26.874885263483968 9.351957950678518, 26.687646552694435 9.684419241660754, 26.44872137860425 10.108655082055236 C26.2341238158553 10.438334565951834, 26.01952625310635 10.768014049848434, 25.76679646464064 11.156274872382301 C25.60270072942888 11.376148208137046, 25.43860499421712 11.59602154389179, 25.019151408126582 12.158051136245302 C24.809983240967725 12.403751967395976, 24.600815073808867 12.649452798546651, 24.20885844296866 13.10986736009567 C23.88853783666438 13.440624684915708, 23.568217230360098 13.771382009735746, 23.33924723676799 14.007812326905684 C23.150385824029662 14.17933126495548, 22.961524411291336 14.350850203005272, 22.413891208501887 14.848196188198111 C22.216955949352844 15.005246816702135, 22.020020690203797 15.162297445206157, 21.436592844578715 15.627565626425152 C21.209904834062062 15.785693369395755, 20.98321682354541 15.943821112366358, 20.411368073605708 16.34271804539089 C20.00778265726465 16.587373896508, 19.604197240923593 16.832029747625118, 19.342429764076787 16.990714730406093 C18.910695381945338 17.215950281025002, 18.478960999813886 17.44118583164391, 18.234170412792388 17.56889292409717 C17.794277338591705 17.763620539081398, 17.35438426439102 17.958348154065625, 17.091144095147804 18.07487676824742 C16.74117806113025 18.203667503816437, 16.39121202711269 18.332458239385453, 15.918047751460616 18.506587066708033 C15.501592167775085 18.630188897925933, 15.085136584089556 18.753790729143834, 14.719701886235413 18.86224982926107 C14.235418869423466 18.97278426760637, 13.751135852611519 19.083318705951672, 13.501030759676766 19.140403561325773 C13.142642472842265 19.1983450001985, 12.784254186007765 19.25628643907123, 12.267042152847878 19.3399052695533 C11.949528847698419 19.37053539623545, 11.63201554254896 19.401165522917598, 11.0228067896239 19.45993515863156 C10.641825757175264 19.472152478807594, 10.260844724726626 19.48436979898363, 9.773437500000004 19.5 C9.773437500000004 19.5, 9.773437500000002 19.5, 9.7734375 19.5 C3.87937876725597 19.5, -2.0146799654880603 19.5, -9.773437499999996 19.5 C-10.227514075895831 19.485438648017457, -10.681590651791666 19.470877296034917, -11.022806789623893 19.45993515863156 C-11.427828023434316 19.420863247315168, -11.832849257244739 19.381791335998777, -12.267042152847871 19.3399052695533 C-12.716172791953284 19.26729331088286, -13.165303431058698 19.194681352212424, -13.501030759676759 19.140403561325773 C-13.754785972162445 19.082485589983428, -14.00854118464813 19.024567618641086, -14.719701886235388 18.862249829261074 C-14.967328117026572 18.78875566377886, -15.214954347817754 18.71526149829665, -15.918047751460593 18.506587066708043 C-16.215073223786327 18.397278947218805, -16.51209869611206 18.28797082772957, -17.091144095147797 18.074876768247425 C-17.3288137209445 17.96966747512618, -17.566483346741197 17.864458182004935, -18.23417041279238 17.568892924097174 C-18.611921217246874 17.3718205713742, -18.98967202170137 17.17474821865123, -19.34242976407678 16.990714730406097 C-19.65757252926271 16.79967333416593, -19.972715294448637 16.608631937925768, -20.411368073605686 16.3427180453909 C-20.643950956706924 16.180478294490214, -20.87653383980816 16.01823854358953, -21.436592844578712 15.627565626425156 C-21.72618052754484 15.396627155511553, -22.015768210510974 15.16568868459795, -22.41389120850187 14.848196188198125 C-22.645497195975416 14.637857758333276, -22.877103183448966 14.427519328468426, -23.339247236767974 14.007812326905697 C-23.596822694519304 13.74184451943908, -23.854398152270637 13.475876711972465, -24.208858442968655 13.109867360095677 C-24.521344984296537 12.74280288766403, -24.83383152562442 12.375738415232385, -25.01915140812658 12.158051136245307 C-25.234958401464166 11.868889425594485, -25.450765394801753 11.579727714943665, -25.766796464640635 11.156274872382316 C-25.962806461447176 10.855150881233582, -26.158816458253717 10.55402689008485, -26.448721378604244 10.108655082055249 C-26.613961915104827 9.815253777079743, -26.779202451605407 9.52185247210424, -27.0621239742735 9.019496659696289 C-27.215977252616177 8.70001703528492, -27.369830530958854 8.380537410873552, -27.60448364880834 7.893275190886686 C-27.70898268399673 7.635160553619965, -27.813481719185116 7.377045916353243, -28.073571729970325 6.73461856121551 C-28.210001262662548 6.323714545840615, -28.346430795354767 5.9128105304657215, -28.46746063421488 5.5482879393051325 C-28.5609875245131 5.191629371787363, -28.654514414811317 4.834970804269594, -28.784531787545557 4.339158212148136 C-28.879710740913453 3.8504344026829256, -28.974889694281345 3.3617105932177154, -29.023482276581777 3.112197953150904 C-29.078738275686803 2.683643335623517, -29.13399427479183 2.2550887180961303, -29.183330202509364 1.872449005199809 C-29.209992868784287 1.457156456251046, -29.236655535059207 1.0418639073022828, -29.263418715913414 0.6250057626472781 C-29.263418715913414 0.33193010151950036, -29.263418715913414 0.03885444039172259, -29.263418715913414 -0.6250057626472687 C-29.236174265026328 -1.0493600765385886, -29.20892981413924 -1.4737143904299086, -29.183330202509367 -1.8724490051997822 C-29.13130299434035 -2.275961757824369, -29.079275786171333 -2.679474510448956, -29.023482276581777 -3.112197953150895 C-28.951374737225624 -3.482454927810899, -28.87926719786947 -3.852711902470903, -28.78453178754556 -4.339158212148126 C-28.703283040846713 -4.648994896740401, -28.622034294147866 -4.958831581332676, -28.467460634214884 -5.548287939305123 C-28.347282744607924 -5.9102445950548965, -28.227104855000963 -6.272201250804669, -28.073571729970332 -6.734618561215485 C-27.955551215402583 -7.026131513969246, -27.837530700834836 -7.317644466723008, -27.604483648808344 -7.893275190886676 C-27.49502853207117 -8.120561082755742, -27.385573415333994 -8.34784697462481, -27.062123974273504 -9.019496659696282 C-26.896584216586326 -9.313429262188018, -26.73104445889915 -9.607361864679755, -26.448721378604247 -10.108655082055243 C-26.244187420118724 -10.422874167347098, -26.039653461633197 -10.737093252638951, -25.76679646464064 -11.156274872382308 C-25.577742036245393 -11.409590583219199, -25.388687607850148 -11.662906294056087, -25.019151408126586 -12.158051136245302 C-24.83018651966728 -12.380020046636359, -24.641221631207973 -12.601988957027416, -24.208858442968662 -13.10986736009567 C-23.93242744181286 -13.395305064196307, -23.655996440657056 -13.680742768296945, -23.339247236767996 -14.007812326905677 C-23.0196619070736 -14.298051267569663, -22.700076577379207 -14.58829020823365, -22.413891208501887 -14.848196188198107 C-22.065385932110235 -15.126119872005559, -21.716880655718583 -15.40404355581301, -21.43659284457872 -15.627565626425149 C-21.035151218793295 -15.907593926445166, -20.633709593007875 -16.187622226465184, -20.41136807360571 -16.342718045390885 C-20.072223066397044 -16.548309741798064, -19.733078059188376 -16.753901438205247, -19.34242976407679 -16.99071473040609 C-19.0339765105577 -17.15163459519326, -18.72552325703861 -17.312554459980433, -18.234170412792388 -17.56889292409717 C-17.79232953805571 -17.76448277259923, -17.350488663319037 -17.960072621101293, -17.091144095147804 -18.07487676824742 C-16.687344444475382 -18.223478772377923, -16.28354479380296 -18.37208077650843, -15.918047751460618 -18.506587066708033 C-15.665614942974939 -18.581507799219732, -15.413182134489261 -18.65642853173143, -14.719701886235413 -18.862249829261067 C-14.26731632612619 -18.965503881264333, -13.814930766016968 -19.068757933267594, -13.501030759676768 -19.140403561325773 C-13.010984585145533 -19.21963042645914, -12.5209384106143 -19.29885729159251, -12.26704215284788 -19.3399052695533 C-11.83348350581097 -19.38173015080239, -11.399924858774058 -19.42355503205148, -11.022806789623903 -19.45993515863156 C-10.737736708314007 -19.469076801283915, -10.452666627004112 -19.47821844393627, -9.773437500000005 -19.5 C-9.773437500000004 -19.5, -9.773437500000002 -19.5, -9.7734375 -19.5\" stroke=\"none\" stroke-width=\"0\" fill=\"#ECECFF\" style=\"\"/><path d=\"M-9.7734375 -19.5 C-3.623742897271142 -19.5, 2.5259517054577163 -19.5, 9.7734375 -19.5 M-9.7734375 -19.5 C-2.396716288901227 -19.5, 4.980004922197546 -19.5, 9.7734375 -19.5 M9.7734375 -19.5 C9.7734375 -19.5, 9.773437499999998 -19.5, 9.773437499999998 -19.5 M9.7734375 -19.5 C9.7734375 -19.5, 9.773437499999998 -19.5, 9.773437499999998 -19.5 M9.773437499999998 -19.5 C10.108139879750563 -19.48926674614006, 10.442842259501129 -19.47853349228012, 11.0228067896239 -19.45993515863156 M9.773437499999998 -19.5 C10.220473509853516 -19.485664425266805, 10.667509519707036 -19.47132885053361, 11.0228067896239 -19.45993515863156 M11.0228067896239 -19.45993515863156 C11.508555814182058 -19.413075534431105, 11.994304838740216 -19.366215910230654, 12.267042152847864 -19.3399052695533 M11.0228067896239 -19.45993515863156 C11.34273988604449 -19.42907159759571, 11.662672982465079 -19.398208036559858, 12.267042152847864 -19.3399052695533 M12.267042152847864 -19.3399052695533 C12.695661482240165 -19.270609420369695, 13.124280811632465 -19.201313571186095, 13.501030759676757 -19.140403561325776 M12.267042152847864 -19.3399052695533 C12.576319889694933 -19.289903643544537, 12.885597626542 -19.239902017535773, 13.501030759676757 -19.140403561325776 M13.501030759676757 -19.140403561325776 C13.78529578328523 -19.07552192468978, 14.069560806893701 -19.010640288053786, 14.71970188623539 -18.862249829261074 M13.501030759676757 -19.140403561325776 C13.800233593239042 -19.072112467046143, 14.09943642680133 -19.00382137276651, 14.71970188623539 -18.862249829261074 M14.71970188623539 -18.862249829261074 C15.104155242097415 -18.74814609127807, 15.48860859795944 -18.63404235329507, 15.918047751460602 -18.50658706670804 M14.71970188623539 -18.862249829261074 C15.15823332978433 -18.73209599871427, 15.59676477333327 -18.601942168167465, 15.918047751460602 -18.50658706670804 M15.918047751460602 -18.50658706670804 C16.250125656697634 -18.384379327886307, 16.582203561934666 -18.26217158906457, 17.091144095147794 -18.074876768247425 M15.918047751460602 -18.50658706670804 C16.17995683597113 -18.410202102547128, 16.44186592048166 -18.313817138386216, 17.091144095147794 -18.074876768247425 M17.091144095147794 -18.074876768247425 C17.35060590848266 -17.96002072014531, 17.61006772181753 -17.845164672043193, 18.23417041279238 -17.568892924097174 M17.091144095147794 -18.074876768247425 C17.514962072150265 -17.88726512194203, 17.93878004915274 -17.699653475636637, 18.23417041279238 -17.568892924097174 M18.23417041279238 -17.568892924097174 C18.634929842292536 -17.35981698642561, 19.03568927179269 -17.150741048754046, 19.342429764076783 -16.990714730406097 M18.23417041279238 -17.568892924097174 C18.473958281609114 -17.443795746526945, 18.71374615042585 -17.318698568956716, 19.342429764076783 -16.990714730406097 M19.342429764076783 -16.990714730406097 C19.57226492732166 -16.851387303785714, 19.802100090566533 -16.71205987716533, 20.411368073605697 -16.342718045390892 M19.342429764076783 -16.990714730406097 C19.643078278419647 -16.80845983420467, 19.94372679276251 -16.62620493800324, 20.411368073605697 -16.342718045390892 M20.411368073605697 -16.342718045390892 C20.663069596070436 -16.167141959302786, 20.91477111853517 -15.99156587321468, 21.436592844578712 -15.627565626425154 M20.411368073605697 -16.342718045390892 C20.69037152067957 -16.14809731857672, 20.969374967753442 -15.953476591762552, 21.436592844578712 -15.627565626425154 M21.436592844578712 -15.627565626425154 C21.72433131589744 -15.398101852590766, 22.012069787216166 -15.168638078756377, 22.41389120850187 -14.848196188198123 M21.436592844578712 -15.627565626425154 C21.70019296530843 -15.417351544837016, 21.963793086038145 -15.207137463248877, 22.41389120850187 -14.848196188198123 M22.41389120850187 -14.848196188198123 C22.667108708932545 -14.61823075407491, 22.92032620936322 -14.388265319951696, 23.339247236767985 -14.007812326905688 M22.41389120850187 -14.848196188198123 C22.648469598376682 -14.635158301117903, 22.883047988251498 -14.422120414037682, 23.339247236767985 -14.007812326905688 M23.339247236767985 -14.007812326905688 C23.65149529381105 -13.685390571966474, 23.963743350854116 -13.36296881702726, 24.208858442968648 -13.10986736009568 M23.339247236767985 -14.007812326905688 C23.6017073954477 -13.736800664689108, 23.864167554127416 -13.465789002472528, 24.208858442968648 -13.10986736009568 M24.208858442968648 -13.10986736009568 C24.44596120437844 -12.83135296501442, 24.68306396578823 -12.55283856993316, 25.019151408126582 -12.158051136245305 M24.208858442968648 -13.10986736009568 C24.382427106381268 -12.905983731714485, 24.55599576979389 -12.70210010333329, 25.019151408126582 -12.158051136245305 M25.019151408126582 -12.158051136245305 C25.268835129978847 -11.823497695618274, 25.518518851831107 -11.488944254991244, 25.766796464640635 -11.156274872382312 M25.019151408126582 -12.158051136245305 C25.261309879239715 -11.833580846044264, 25.503468350352847 -11.509110555843224, 25.766796464640635 -11.156274872382312 M25.766796464640635 -11.156274872382312 C25.913873798978653 -10.930324591044913, 26.06095113331667 -10.704374309707514, 26.448721378604247 -10.108655082055241 M25.766796464640635 -11.156274872382312 C25.908035738844255 -10.939293419150001, 26.049275013047872 -10.72231196591769, 26.448721378604247 -10.108655082055241 M26.448721378604247 -10.108655082055241 C26.64407015057412 -9.761793556214574, 26.839418922543988 -9.414932030373906, 27.0621239742735 -9.019496659696287 M26.448721378604247 -10.108655082055241 C26.59442137714836 -9.849949980915476, 26.740121375692475 -9.59124487977571, 27.0621239742735 -9.019496659696287 M27.0621239742735 -9.019496659696287 C27.264079215712883 -8.600132279697482, 27.46603445715226 -8.180767899698676, 27.60448364880834 -7.893275190886684 M27.0621239742735 -9.019496659696287 C27.186841046353326 -8.760518991004677, 27.31155811843315 -8.501541322313066, 27.60448364880834 -7.893275190886684 M27.60448364880834 -7.893275190886684 C27.78179366230428 -7.455316029495808, 27.959103675800222 -7.017356868104932, 28.073571729970325 -6.734618561215508 M27.60448364880834 -7.893275190886684 C27.759798851934338 -7.509643636350302, 27.915114055060332 -7.126012081813919, 28.073571729970325 -6.734618561215508 M28.073571729970325 -6.734618561215508 C28.215639477012882 -6.306733142544864, 28.357707224055442 -5.87884772387422, 28.46746063421488 -5.548287939305138 M28.073571729970325 -6.734618561215508 C28.182001474162345 -6.408045447642766, 28.290431218354364 -6.081472334070024, 28.46746063421488 -5.548287939305138 M28.46746063421488 -5.548287939305138 C28.546866107903938 -5.245480453578772, 28.626271581592995 -4.942672967852404, 28.78453178754556 -4.339158212148133 M28.46746063421488 -5.548287939305138 C28.566274793068605 -5.17146672526853, 28.665088951922332 -4.794645511231923, 28.78453178754556 -4.339158212148133 M28.78453178754556 -4.339158212148133 C28.84756461961048 -4.01549794148854, 28.9105974516754 -3.6918376708289484, 29.023482276581777 -3.1121979531509023 M28.78453178754556 -4.339158212148133 C28.851728805323635 -3.994115727952452, 28.918925823101713 -3.6490732437567712, 29.023482276581777 -3.1121979531509023 M29.023482276581777 -3.1121979531509023 C29.076231257555094 -2.7030872731863473, 29.128980238528406 -2.293976593221793, 29.183330202509367 -1.872449005199798 M29.023482276581777 -3.1121979531509023 C29.06120876790749 -2.8195987363670176, 29.09893525923321 -2.5269995195831325, 29.183330202509367 -1.872449005199798 M29.183330202509367 -1.872449005199798 C29.21400858251976 -1.3946084733952846, 29.244686962530153 -0.916767941590771, 29.263418715913414 -0.6250057626472757 M29.183330202509367 -1.872449005199798 C29.21286440244411 -1.4124300016390292, 29.242398602378856 -0.9524109980782604, 29.263418715913414 -0.6250057626472757 M29.263418715913414 -0.6250057626472757 C29.263418715913414 -0.1866048604236481, 29.263418715913414 0.2517960417999795, 29.263418715913414 0.625005762647271 M29.263418715913414 -0.6250057626472757 C29.263418715913414 -0.226870931065686, 29.263418715913414 0.17126390051590368, 29.263418715913414 0.625005762647271 M29.263418715913414 0.625005762647271 C29.23619569950587 1.049026217218101, 29.208972683098327 1.473046671788931, 29.183330202509367 1.8724490051997846 M29.263418715913414 0.625005762647271 C29.237889016463548 1.0226514387814296, 29.212359317013682 1.4202971149155883, 29.183330202509367 1.8724490051997846 M29.183330202509367 1.8724490051997846 C29.12745029106238 2.3058425636459883, 29.07157037961539 2.739236122092192, 29.023482276581777 3.1121979531508885 M29.183330202509367 1.8724490051997846 C29.148860081979933 2.139792453130869, 29.1143899614505 2.4071359010619533, 29.023482276581777 3.1121979531508885 M29.023482276581777 3.1121979531508885 C28.937568437861643 3.553347357082547, 28.851654599141504 3.994496761014206, 28.78453178754556 4.339158212148129 M29.023482276581777 3.1121979531508885 C28.963426725960172 3.4205705128477137, 28.903371175338567 3.728943072544539, 28.78453178754556 4.339158212148129 M28.78453178754556 4.339158212148129 C28.69467201777679 4.681832459747027, 28.60481224800802 5.0245067073459255, 28.467460634214884 5.548287939305125 M28.78453178754556 4.339158212148129 C28.671427719007475 4.770473045097229, 28.558323650469394 5.201787878046329, 28.467460634214884 5.548287939305125 M28.467460634214884 5.548287939305125 C28.363910010182884 5.860165920338114, 28.26035938615089 6.172043901371102, 28.07357172997033 6.734618561215495 M28.467460634214884 5.548287939305125 C28.37298202003703 5.832842472085914, 28.278503405859173 6.117397004866702, 28.07357172997033 6.734618561215495 M28.07357172997033 6.734618561215495 C27.978129747661317 6.970362102763954, 27.882687765352305 7.206105644312413, 27.604483648808344 7.893275190886679 M28.07357172997033 6.734618561215495 C27.93432884504272 7.078551179064729, 27.795085960115113 7.422483796913964, 27.604483648808344 7.893275190886679 M27.604483648808344 7.893275190886679 C27.396838302998475 8.324455194359535, 27.189192957188606 8.75563519783239, 27.062123974273504 9.019496659696284 M27.604483648808344 7.893275190886679 C27.470069213992357 8.172389640790255, 27.33565477917637 8.451504090693831, 27.062123974273504 9.019496659696284 M27.062123974273504 9.019496659696284 C26.889776705653585 9.325516687184333, 26.717429437033665 9.631536714672382, 26.44872137860425 10.108655082055236 M27.062123974273504 9.019496659696284 C26.894701175417378 9.316772792462082, 26.727278376561255 9.614048925227879, 26.44872137860425 10.108655082055236 M26.44872137860425 10.108655082055236 C26.21272872880256 10.47120316505015, 25.976736079000865 10.833751248045063, 25.76679646464064 11.156274872382301 M26.44872137860425 10.108655082055236 C26.1797947318847 10.521798628332432, 25.91086808516515 10.934942174609626, 25.76679646464064 11.156274872382301 M25.76679646464064 11.156274872382301 C25.521441362151734 11.485028357407773, 25.276086259662826 11.813781842433242, 25.019151408126582 12.158051136245302 M25.76679646464064 11.156274872382301 C25.58936407217962 11.394018113856585, 25.411931679718595 11.631761355330871, 25.019151408126582 12.158051136245302 M25.019151408126582 12.158051136245302 C24.837969491005495 12.37087772563887, 24.656787573884408 12.58370431503244, 24.20885844296866 13.10986736009567 M25.019151408126582 12.158051136245302 C24.846443558290353 12.360923604017989, 24.673735708454124 12.563796071790676, 24.20885844296866 13.10986736009567 M24.20885844296866 13.10986736009567 C23.937328841266655 13.390243966847882, 23.665799239564652 13.670620573600093, 23.33924723676799 14.007812326905684 M24.20885844296866 13.10986736009567 C23.874901382697715 13.454705443209983, 23.540944322426768 13.799543526324294, 23.33924723676799 14.007812326905684 M23.33924723676799 14.007812326905684 C23.018142232613773 14.299431395705698, 22.697037228459557 14.591050464505713, 22.413891208501887 14.848196188198111 M23.33924723676799 14.007812326905684 C23.0616069217562 14.259957915039202, 22.783966606744414 14.512103503172717, 22.413891208501887 14.848196188198111 M22.413891208501887 14.848196188198111 C22.199979542000484 15.018785049804467, 21.98606787549908 15.189373911410822, 21.436592844578715 15.627565626425152 M22.413891208501887 14.848196188198111 C22.06272537466514 15.12824159576762, 21.711559540828386 15.40828700333713, 21.436592844578715 15.627565626425152 M21.436592844578715 15.627565626425152 C21.146518974495386 15.829908601099833, 20.856445104412057 16.032251575774513, 20.411368073605708 16.34271804539089 M21.436592844578715 15.627565626425152 C21.139439928681835 15.834846637012411, 20.84228701278495 16.04212764759967, 20.411368073605708 16.34271804539089 M20.411368073605708 16.34271804539089 C19.990273804090464 16.597987866195638, 19.56917953457522 16.853257687000383, 19.342429764076787 16.990714730406093 M20.411368073605708 16.34271804539089 C20.107689020372067 16.52681007207733, 19.80400996713843 16.710902098763764, 19.342429764076787 16.990714730406093 M19.342429764076787 16.990714730406093 C19.00486558424434 17.166821746804505, 18.66730140441189 17.342928763202917, 18.234170412792388 17.56889292409717 M19.342429764076787 16.990714730406093 C19.000796721834735 17.168944469717363, 18.65916367959268 17.347174209028637, 18.234170412792388 17.56889292409717 M18.234170412792388 17.56889292409717 C17.93711354660817 17.700391186878075, 17.640056680423957 17.831889449658977, 17.091144095147804 18.07487676824742 M18.234170412792388 17.56889292409717 C17.896548144062553 17.718348287255107, 17.55892587533272 17.867803650413045, 17.091144095147804 18.07487676824742 M17.091144095147804 18.07487676824742 C16.760746728356995 18.196466053386217, 16.430349361566186 18.318055338525014, 15.918047751460616 18.506587066708033 M17.091144095147804 18.07487676824742 C16.792821128566388 18.184662377616657, 16.494498161984968 18.29444798698589, 15.918047751460616 18.506587066708033 M15.918047751460616 18.506587066708033 C15.452911531146766 18.644637055347342, 14.987775310832918 18.782687043986652, 14.719701886235413 18.86224982926107 M15.918047751460616 18.506587066708033 C15.551419442461913 18.615400424347584, 15.18479113346321 18.724213781987135, 14.719701886235413 18.86224982926107 M14.719701886235413 18.86224982926107 C14.354312781735164 18.945647507976513, 13.988923677234915 19.029045186691956, 13.501030759676766 19.140403561325773 M14.719701886235413 18.86224982926107 C14.35219390149364 18.946131128564655, 13.98468591675187 19.03001242786824, 13.501030759676766 19.140403561325773 M13.501030759676766 19.140403561325773 C13.206323575606428 19.18804953335792, 12.91161639153609 19.235695505390066, 12.267042152847878 19.3399052695533 M13.501030759676766 19.140403561325773 C13.121165829028744 19.201817177416412, 12.741300898380722 19.26323079350705, 12.267042152847878 19.3399052695533 M12.267042152847878 19.3399052695533 C11.900926857103173 19.375223971815725, 11.534811561358467 19.410542674078155, 11.0228067896239 19.45993515863156 M12.267042152847878 19.3399052695533 C11.806328230532495 19.384349787549507, 11.34561430821711 19.428794305545715, 11.0228067896239 19.45993515863156 M11.0228067896239 19.45993515863156 C10.592493030168486 19.473734483342373, 10.162179270713073 19.487533808053186, 9.773437500000004 19.5 M11.0228067896239 19.45993515863156 C10.626946117655654 19.472629639885525, 10.231085445687409 19.48532412113949, 9.773437500000004 19.5 M9.773437500000004 19.5 C9.773437500000002 19.5, 9.773437500000002 19.5, 9.7734375 19.5 M9.773437500000004 19.5 C9.773437500000004 19.5, 9.773437500000002 19.5, 9.7734375 19.5 M9.7734375 19.5 C2.017946416757627 19.5, -5.737544666484746 19.5, -9.773437499999996 19.5 M9.7734375 19.5 C5.429771427059231 19.5, 1.0861053541184624 19.5, -9.773437499999996 19.5 M-9.773437499999996 19.5 C-10.139661875978668 19.48825589707487, -10.50588625195734 19.476511794149737, -11.022806789623893 19.45993515863156 M-9.773437499999996 19.5 C-10.025199213895245 19.49192649185983, -10.276960927790492 19.483852983719654, -11.022806789623893 19.45993515863156 M-11.022806789623893 19.45993515863156 C-11.307538042945522 19.432467477063053, -11.592269296267151 19.40499979549455, -12.267042152847871 19.3399052695533 M-11.022806789623893 19.45993515863156 C-11.299678105614865 19.433225715764387, -11.576549421605836 19.40651627289721, -12.267042152847871 19.3399052695533 M-12.267042152847871 19.3399052695533 C-12.691139147476559 19.271340556383045, -13.115236142105248 19.20277584321279, -13.501030759676759 19.140403561325773 M-12.267042152847871 19.3399052695533 C-12.595385175738512 19.28682131595051, -12.923728198629153 19.233737362347725, -13.501030759676759 19.140403561325773 M-13.501030759676759 19.140403561325773 C-13.8476761738808 19.06128400760643, -14.19432158808484 18.982164453887087, -14.719701886235388 18.862249829261074 M-13.501030759676759 19.140403561325773 C-13.776289814542446 19.07757747828588, -14.051548869408133 19.014751395245987, -14.719701886235388 18.862249829261074 M-14.719701886235388 18.862249829261074 C-14.971019596877417 18.787660051936104, -15.222337307519444 18.713070274611134, -15.918047751460593 18.506587066708043 M-14.719701886235388 18.862249829261074 C-15.135828681382282 18.738745580755598, -15.551955476529178 18.615241332250122, -15.918047751460593 18.506587066708043 M-15.918047751460593 18.506587066708043 C-16.37816389945336 18.337260070979656, -16.838280047446126 18.167933075251273, -17.091144095147797 18.074876768247425 M-15.918047751460593 18.506587066708043 C-16.229189691591273 18.392083956575387, -16.540331631721955 18.27758084644273, -17.091144095147797 18.074876768247425 M-17.091144095147797 18.074876768247425 C-17.44083130627307 17.920080612984826, -17.79051851739834 17.76528445772223, -18.23417041279238 17.568892924097174 M-17.091144095147797 18.074876768247425 C-17.397147104361373 17.939418313325326, -17.70315011357495 17.80395985840323, -18.23417041279238 17.568892924097174 M-18.23417041279238 17.568892924097174 C-18.58953446009718 17.383499728239794, -18.94489850740198 17.19810653238242, -19.34242976407678 16.990714730406097 M-18.23417041279238 17.568892924097174 C-18.536756252132623 17.41103408552885, -18.83934209147286 17.253175246960527, -19.34242976407678 16.990714730406097 M-19.34242976407678 16.990714730406097 C-19.60010818162945 16.8345085593992, -19.857786599182123 16.678302388392307, -20.411368073605686 16.3427180453909 M-19.34242976407678 16.990714730406097 C-19.628566892231742 16.817256721790148, -19.914704020386704 16.643798713174196, -20.411368073605686 16.3427180453909 M-20.411368073605686 16.3427180453909 C-20.732168050149514 16.11894186896109, -21.05296802669334 15.895165692531279, -21.436592844578712 15.627565626425156 M-20.411368073605686 16.3427180453909 C-20.656422176882153 16.171778911166392, -20.90147628015862 16.000839776941888, -21.436592844578712 15.627565626425156 M-21.436592844578712 15.627565626425156 C-21.663848085791518 15.446335619073892, -21.89110332700432 15.265105611722628, -22.41389120850187 14.848196188198125 M-21.436592844578712 15.627565626425156 C-21.7254828564737 15.397183529624982, -22.014372868368685 15.166801432824808, -22.41389120850187 14.848196188198125 M-22.41389120850187 14.848196188198125 C-22.75219454635369 14.540958047776922, -23.090497884205508 14.233719907355718, -23.339247236767974 14.007812326905697 M-22.41389120850187 14.848196188198125 C-22.69219006484627 14.59545253025038, -22.970488921190665 14.342708872302635, -23.339247236767974 14.007812326905697 M-23.339247236767974 14.007812326905697 C-23.624841678452366 13.712912618126833, -23.910436120136758 13.418012909347969, -24.208858442968655 13.109867360095677 M-23.339247236767974 14.007812326905697 C-23.617959176409894 13.72001936654961, -23.896671116051813 13.432226406193527, -24.208858442968655 13.109867360095677 M-24.208858442968655 13.109867360095677 C-24.462754791651346 12.811626261821477, -24.71665114033404 12.513385163547277, -25.01915140812658 12.158051136245307 M-24.208858442968655 13.109867360095677 C-24.50407949013669 12.763083919538635, -24.799300537304727 12.416300478981594, -25.01915140812658 12.158051136245307 M-25.01915140812658 12.158051136245307 C-25.189295725075954 11.930073251999293, -25.35944004202533 11.702095367753277, -25.766796464640635 11.156274872382316 M-25.01915140812658 12.158051136245307 C-25.195352139548184 11.921958208357212, -25.37155287096979 11.685865280469118, -25.766796464640635 11.156274872382316 M-25.766796464640635 11.156274872382316 C-25.919571964833622 10.921570678119908, -26.07234746502661 10.6868664838575, -26.448721378604244 10.108655082055249 M-25.766796464640635 11.156274872382316 C-25.92830454794084 10.908155085440322, -26.089812631241045 10.660035298498329, -26.448721378604244 10.108655082055249 M-26.448721378604244 10.108655082055249 C-26.68440280029171 9.690178852517338, -26.920084221979177 9.271702622979426, -27.0621239742735 9.019496659696289 M-26.448721378604244 10.108655082055249 C-26.5980479353485 9.843510659602293, -26.747374492092757 9.578366237149337, -27.0621239742735 9.019496659696289 M-27.0621239742735 9.019496659696289 C-27.191539349416274 8.750762864166886, -27.320954724559044 8.482029068637484, -27.60448364880834 7.893275190886686 M-27.0621239742735 9.019496659696289 C-27.270869440024704 8.586032233626456, -27.47961490577591 8.152567807556622, -27.60448364880834 7.893275190886686 M-27.60448364880834 7.893275190886686 C-27.7845769651069 7.448441217761847, -27.964670281405457 7.003607244637006, -28.073571729970325 6.73461856121551 M-27.60448364880834 7.893275190886686 C-27.71594292543929 7.617968622689729, -27.827402202070235 7.342662054492773, -28.073571729970325 6.73461856121551 M-28.073571729970325 6.73461856121551 C-28.156880081133018 6.4837070808966715, -28.240188432295714 6.232795600577834, -28.46746063421488 5.5482879393051325 M-28.073571729970325 6.73461856121551 C-28.18764401318365 6.391051019127101, -28.30171629639697 6.047483477038692, -28.46746063421488 5.5482879393051325 M-28.46746063421488 5.5482879393051325 C-28.543631164371575 5.257816695301055, -28.61980169452827 4.9673454512969775, -28.784531787545557 4.339158212148136 M-28.46746063421488 5.5482879393051325 C-28.571373790851712 5.152022036801921, -28.675286947488544 4.755756134298711, -28.784531787545557 4.339158212148136 M-28.784531787545557 4.339158212148136 C-28.870894524896283 3.895703808623164, -28.957257262247012 3.4522494050981924, -29.023482276581777 3.112197953150904 M-28.784531787545557 4.339158212148136 C-28.855988115535787 3.972245070218577, -28.927444443526017 3.6053319282890186, -29.023482276581777 3.112197953150904 M-29.023482276581777 3.112197953150904 C-29.061472640744462 2.8175521907510697, -29.099463004907143 2.5229064283512352, -29.183330202509364 1.872449005199809 M-29.023482276581777 3.112197953150904 C-29.07961319694239 2.6768576191379467, -29.135744117303 2.241517285124989, -29.183330202509364 1.872449005199809 M-29.183330202509364 1.872449005199809 C-29.212348281445145 1.4204690028033056, -29.241366360380923 0.9684890004068021, -29.263418715913414 0.6250057626472781 M-29.183330202509364 1.872449005199809 C-29.21428128052347 1.3903609818696017, -29.245232358537578 0.9082729585393944, -29.263418715913414 0.6250057626472781 M-29.263418715913414 0.6250057626472781 C-29.263418715913414 0.13164067937437085, -29.263418715913414 -0.36172440389853644, -29.263418715913414 -0.6250057626472687 M-29.263418715913414 0.6250057626472781 C-29.263418715913414 0.282546987220031, -29.263418715913414 -0.0599117882072161, -29.263418715913414 -0.6250057626472687 M-29.263418715913414 -0.6250057626472687 C-29.246036916752775 -0.8957413149099795, -29.228655117592137 -1.1664768671726904, -29.183330202509367 -1.8724490051997822 M-29.263418715913414 -0.6250057626472687 C-29.237112571168343 -1.034745200989629, -29.210806426423268 -1.444484639331989, -29.183330202509367 -1.8724490051997822 M-29.183330202509367 -1.8724490051997822 C-29.130038698697952 -2.285767385163404, -29.076747194886533 -2.699085765127026, -29.023482276581777 -3.112197953150895 M-29.183330202509367 -1.8724490051997822 C-29.13003862378996 -2.2857679661349883, -29.07674704507055 -2.6990869270701943, -29.023482276581777 -3.112197953150895 M-29.023482276581777 -3.112197953150895 C-28.951782684734884 -3.4803602035705894, -28.88008309288799 -3.8485224539902836, -28.78453178754556 -4.339158212148126 M-29.023482276581777 -3.112197953150895 C-28.964852748094472 -3.4132481905779684, -28.90622321960717 -3.7142984280050415, -28.78453178754556 -4.339158212148126 M-28.78453178754556 -4.339158212148126 C-28.699257038306165 -4.664347789308049, -28.61398228906677 -4.989537366467974, -28.467460634214884 -5.548287939305123 M-28.78453178754556 -4.339158212148126 C-28.67276571019446 -4.765370704812204, -28.560999632843362 -5.191583197476282, -28.467460634214884 -5.548287939305123 M-28.467460634214884 -5.548287939305123 C-28.325528623069932 -5.975764543078757, -28.18359661192498 -6.403241146852392, -28.073571729970332 -6.734618561215485 M-28.467460634214884 -5.548287939305123 C-28.367216039601228 -5.850208686474323, -28.26697144498757 -6.152129433643523, -28.073571729970332 -6.734618561215485 M-28.073571729970332 -6.734618561215485 C-27.93528180635163 -7.076197346207467, -27.79699188273293 -7.417776131199449, -27.604483648808344 -7.893275190886676 M-28.073571729970332 -6.734618561215485 C-27.972772289312267 -6.983595128465511, -27.871972848654202 -7.232571695715539, -27.604483648808344 -7.893275190886676 M-27.604483648808344 -7.893275190886676 C-27.460935572792785 -8.19135584216978, -27.317387496777222 -8.489436493452887, -27.062123974273504 -9.019496659696282 M-27.604483648808344 -7.893275190886676 C-27.39294723760192 -8.332535074910938, -27.1814108263955 -8.7717949589352, -27.062123974273504 -9.019496659696282 M-27.062123974273504 -9.019496659696282 C-26.859260267255387 -9.3797017136848, -26.656396560237273 -9.739906767673318, -26.448721378604247 -10.108655082055243 M-27.062123974273504 -9.019496659696282 C-26.834210295179478 -9.424180475690306, -26.606296616085455 -9.828864291684333, -26.448721378604247 -10.108655082055243 M-26.448721378604247 -10.108655082055243 C-26.29605771372086 -10.343187467250123, -26.143394048837468 -10.577719852445002, -25.76679646464064 -11.156274872382308 M-26.448721378604247 -10.108655082055243 C-26.299451688367693 -10.337973410782784, -26.150181998131135 -10.567291739510324, -25.76679646464064 -11.156274872382308 M-25.76679646464064 -11.156274872382308 C-25.475930559282286 -11.546008687133401, -25.185064653923934 -11.935742501884494, -25.019151408126586 -12.158051136245302 M-25.76679646464064 -11.156274872382308 C-25.600339240356064 -11.379312388358544, -25.43388201607149 -11.60234990433478, -25.019151408126586 -12.158051136245302 M-25.019151408126586 -12.158051136245302 C-24.788846419080333 -12.428580481104149, -24.55854143003408 -12.699109825962996, -24.208858442968662 -13.10986736009567 M-25.019151408126586 -12.158051136245302 C-24.723062588295317 -12.50585391195024, -24.426973768464048 -12.853656687655176, -24.208858442968662 -13.10986736009567 M-24.208858442968662 -13.10986736009567 C-23.994969976651827 -13.330724762137468, -23.781081510334992 -13.551582164179266, -23.339247236767996 -14.007812326905677 M-24.208858442968662 -13.10986736009567 C-24.008411768766614 -13.316845008187293, -23.80796509456457 -13.523822656278917, -23.339247236767996 -14.007812326905677 M-23.339247236767996 -14.007812326905677 C-23.10433202287178 -14.221156108650261, -22.869416808975565 -14.434499890394843, -22.413891208501887 -14.848196188198107 M-23.339247236767996 -14.007812326905677 C-23.023029305758055 -14.294993085180929, -22.706811374748117 -14.58217384345618, -22.413891208501887 -14.848196188198107 M-22.413891208501887 -14.848196188198107 C-22.0462242560768 -15.141400798728608, -21.678557303651715 -15.43460540925911, -21.43659284457872 -15.627565626425149 M-22.413891208501887 -14.848196188198107 C-22.147885052254473 -15.060329019084316, -21.88187889600706 -15.272461849970524, -21.43659284457872 -15.627565626425149 M-21.43659284457872 -15.627565626425149 C-21.035365827160923 -15.907444224938157, -20.634138809743128 -16.187322823451165, -20.41136807360571 -16.342718045390885 M-21.43659284457872 -15.627565626425149 C-21.21549080994327 -15.781796834434022, -20.994388775307822 -15.936028042442896, -20.41136807360571 -16.342718045390885 M-20.41136807360571 -16.342718045390885 C-20.121561181075023 -16.51840068673733, -19.83175428854434 -16.69408332808377, -19.34242976407679 -16.99071473040609 M-20.41136807360571 -16.342718045390885 C-20.089651086708358 -16.53774477346693, -19.767934099811008 -16.732771501542974, -19.34242976407679 -16.99071473040609 M-19.34242976407679 -16.99071473040609 C-19.047423203119717 -17.144619464296674, -18.752416642162647 -17.29852419818726, -18.234170412792388 -17.56889292409717 M-19.34242976407679 -16.99071473040609 C-18.924099021408626 -17.20895761090244, -18.505768278740465 -17.427200491398796, -18.234170412792388 -17.56889292409717 M-18.234170412792388 -17.56889292409717 C-17.79374841695144 -17.76385467700164, -17.353326421110495 -17.958816429906108, -17.091144095147804 -18.07487676824742 M-18.234170412792388 -17.56889292409717 C-17.949962555050163 -17.6947033119931, -17.665754697307936 -17.820513699889027, -17.091144095147804 -18.07487676824742 M-17.091144095147804 -18.07487676824742 C-16.726963080579285 -18.20889874806103, -16.362782066010766 -18.342920727874642, -15.918047751460618 -18.506587066708033 M-17.091144095147804 -18.07487676824742 C-16.662507326283087 -18.232619061464494, -16.233870557418374 -18.390361354681563, -15.918047751460618 -18.506587066708033 M-15.918047751460618 -18.506587066708033 C-15.571180909783871 -18.609535324576484, -15.224314068107125 -18.712483582444936, -14.719701886235413 -18.862249829261067 M-15.918047751460618 -18.506587066708033 C-15.533075785037857 -18.620844725583222, -15.148103818615095 -18.735102384458408, -14.719701886235413 -18.862249829261067 M-14.719701886235413 -18.862249829261067 C-14.451088222040962 -18.923559145245477, -14.182474557846511 -18.98486846122989, -13.501030759676768 -19.140403561325773 M-14.719701886235413 -18.862249829261067 C-14.364517118352152 -18.9433184347332, -14.009332350468894 -19.024387040205337, -13.501030759676768 -19.140403561325773 M-13.501030759676768 -19.140403561325773 C-13.059593873824191 -19.21177165363624, -12.618156987971616 -19.283139745946706, -12.26704215284788 -19.3399052695533 M-13.501030759676768 -19.140403561325773 C-13.241913827575553 -19.18229557742608, -12.98279689547434 -19.22418759352638, -12.26704215284788 -19.3399052695533 M-12.26704215284788 -19.3399052695533 C-11.987862457147036 -19.36683739903485, -11.708682761446195 -19.393769528516405, -11.022806789623903 -19.45993515863156 M-12.26704215284788 -19.3399052695533 C-11.900622933822902 -19.375253290929052, -11.534203714797924 -19.41060131230481, -11.022806789623903 -19.45993515863156 M-11.022806789623903 -19.45993515863156 C-10.670130020416812 -19.471244816176345, -10.317453251209722 -19.482554473721127, -9.773437500000005 -19.5 M-11.022806789623903 -19.45993515863156 C-10.561121151880558 -19.47474051841741, -10.099435514137213 -19.48954587820326, -9.773437500000005 -19.5 M-9.773437500000005 -19.5 C-9.773437500000004 -19.5, -9.773437500000002 -19.5, -9.7734375 -19.5 M-9.773437500000005 -19.5 C-9.773437500000004 -19.5, -9.773437500000002 -19.5, -9.7734375 -19.5\" stroke=\"#9370DB\" stroke-width=\"1.3\" fill=\"none\" stroke-dasharray=\"0 0\" style=\"\"/></g><g class=\"label\" style=\"\" transform=\"translate(-16.8984375, -12)\"><rect/><foreignObject width=\"33.796875\" height=\"24\"><div xmlns=\"http://www.w3.org/1999/xhtml\" style=\"display: table-cell; white-space: nowrap; line-height: 1.5; max-width: 200px; text-align: center;\"><span class=\"nodeLabel \"><p>Start</p></span></div></foreignObject></g></g><g class=\"node default  \" id=\"flowchart-B-1\" transform=\"translate(199.51171875, 124)\"><rect class=\"basic label-container\" style=\"\" x=\"-63.3671875\" y=\"-27\" width=\"126.734375\" height=\"54\"/><g class=\"label\" style=\"\" transform=\"translate(-33.3671875, -12)\"><rect/><foreignObject width=\"66.734375\" height=\"24\"><div xmlns=\"http://www.w3.org/1999/xhtml\" style=\"display: table-cell; white-space: nowrap; line-height: 1.5; max-width: 200px; text-align: center;\"><span class=\"nodeLabel \"><p>Input age</p></span></div></foreignObject></g></g><g class=\"node default  \" id=\"flowchart-C-3\" transform=\"translate(199.51171875, 269.375)\"><polygon points=\"68.375,0 136.75,-68.375 68.375,-136.75 0,-68.375\" class=\"label-container\" transform=\"translate(-67.875, 68.375)\"/><g class=\"label\" style=\"\" transform=\"translate(-41.375, -12)\"><rect/><foreignObject width=\"82.75\" height=\"24\"><div xmlns=\"http://www.w3.org/1999/xhtml\" style=\"display: table-cell; white-space: nowrap; line-height: 1.5; max-width: 200px; text-align: center;\"><span class=\"nodeLabel \"><p>Age &gt;= 65?</p></span></div></foreignObject></g></g><g class=\"node default  \" id=\"flowchart-D-5\" transform=\"translate(93.1484375, 438.75)\"><rect class=\"basic label-container\" style=\"\" x=\"-85.1484375\" y=\"-27\" width=\"170.296875\" height=\"54\"/><g class=\"label\" style=\"\" transform=\"translate(-55.1484375, -12)\"><rect/><foreignObject width=\"110.296875\" height=\"24\"><div xmlns=\"http://www.w3.org/1999/xhtml\" style=\"display: table-cell; white-space: nowrap; line-height: 1.5; max-width: 200px; text-align: center;\"><span class=\"nodeLabel \"><p>Senior discount</p></span></div></foreignObject></g></g><g class=\"node default  \" id=\"flowchart-E-7\" transform=\"translate(305.875, 438.75)\"><rect class=\"basic label-container\" style=\"\" x=\"-77.578125\" y=\"-27\" width=\"155.15625\" height=\"54\"/><g class=\"label\" style=\"\" transform=\"translate(-47.578125, -12)\"><rect/><foreignObject width=\"95.15625\" height=\"24\"><div xmlns=\"http://www.w3.org/1999/xhtml\" style=\"display: table-cell; white-space: nowrap; line-height: 1.5; max-width: 200px; text-align: center;\"><span class=\"nodeLabel \"><p>Regular price</p></span></div></foreignObject></g></g><g class=\"node default  \" id=\"flowchart-F-9\" transform=\"translate(199.51171875, 542.75)\"><rect class=\"basic label-container\" style=\"\" x=\"-80.6953125\" y=\"-27\" width=\"161.390625\" height=\"54\"/><g class=\"label\" style=\"\" transform=\"translate(-50.6953125, -12)\"><rect/><foreignObject width=\"101.390625\" height=\"24\"><div xmlns=\"http://www.w3.org/1999/xhtml\" style=\"display: table-cell; white-space: nowrap; line-height: 1.5; max-width: 200px; text-align: center;\"><span class=\"nodeLabel \"><p>Calculate total</p></span></div></foreignObject></g></g><g class=\"node default  \" id=\"flowchart-G-13\" transform=\"translate(199.51171875, 639.25)\"><g class=\"basic label-container outer-path\"><path d=\"M-7.109375 -19.5 C-3.2481546806707304 -19.5, 0.6130656386585391 -19.5, 7.109375 -19.5 C7.109375 -19.5, 7.109374999999999 -19.5, 7.109374999999999 -19.5 C7.378065745000043 -19.491383610782655, 7.646756490000087 -19.482767221565314, 8.3587442896239 -19.45993515863156 C8.761084315594411 -19.42112190021086, 9.163424341564923 -19.38230864179016, 9.602979652847864 -19.3399052695533 C10.03760378759871 -19.269638610007288, 10.472227922349555 -19.199371950461277, 10.836968259676757 -19.140403561325776 C11.195946323500651 -19.058469160808762, 11.554924387324546 -18.976534760291745, 12.05563938623539 -18.862249829261074 C12.421501351141066 -18.753663918525714, 12.78736331604674 -18.645078007790353, 13.253985251460602 -18.50658706670804 C13.599338586917742 -18.379493846848575, 13.944691922374885 -18.252400626989107, 14.427081595147794 -18.074876768247425 C14.759814383754852 -17.927585832898565, 15.092547172361911 -17.78029489754971, 15.570107912792382 -17.568892924097174 C15.839512025775175 -17.42834497091562, 16.108916138757966 -17.287797017734068, 16.678367264076783 -16.990714730406097 C16.95423691008301 -16.82348092980713, 17.230106556089243 -16.656247129208165, 17.747305573605697 -16.342718045390892 C18.116428285841465 -16.0852340203999, 18.485550998077233 -15.827749995408901, 18.772530344578712 -15.627565626425154 C19.02522044995377 -15.426051991754653, 19.27791055532883 -15.224538357084153, 19.74982870850187 -14.848196188198123 C20.078922993926113 -14.54932146553347, 20.408017279350354 -14.250446742868817, 20.675184736767985 -14.007812326905688 C20.93377674533333 -13.740794847263228, 21.192368753898673 -13.473777367620768, 21.544795942968648 -13.10986736009568 C21.80971030791807 -12.798683872971697, 22.074624672867493 -12.487500385847712, 22.355088908126582 -12.158051136245305 C22.645453878697158 -11.768988528473736, 22.935818849267733 -11.379925920702165, 23.102733964640635 -11.156274872382312 C23.304903007040593 -10.845688933266777, 23.507072049440552 -10.535102994151242, 23.784658878604247 -10.108655082055241 C23.92108560559453 -9.866415613579868, 24.057512332584817 -9.624176145104496, 24.3980614742735 -9.019496659696287 C24.61256243277893 -8.574080829774491, 24.82706339128436 -8.128664999852694, 24.94042114880834 -7.893275190886684 C25.090765285220506 -7.521922267242504, 25.241109421632668 -7.150569343598323, 25.409509229970325 -6.734618561215508 C25.508903388239844 -6.435259192816229, 25.60829754650936 -6.13589982441695, 25.80339813421488 -5.548287939305138 C25.92628723924963 -5.079658521332616, 26.049176344284376 -4.611029103360094, 26.12046928754556 -4.339158212148133 C26.21191566438134 -3.8696003942949853, 26.303362041217124 -3.400042576441837, 26.359419776581777 -3.1121979531509023 C26.392891272777334 -2.852599638352695, 26.42636276897289 -2.593001323554487, 26.519267702509367 -1.872449005199798 C26.546388777926108 -1.450016363846002, 26.57350985334285 -1.027583722492206, 26.599356215913414 -0.6250057626472757 C26.599356215913414 -0.2968345258973077, 26.599356215913414 0.03133671085266032, 26.599356215913414 0.625005762647271 C26.571749249453735 1.0550065491990481, 26.544142282994052 1.4850073357508253, 26.519267702509367 1.8724490051997846 C26.467780490667227 2.271773652947438, 26.416293278825087 2.6710983006950912, 26.359419776581777 3.1121979531508885 C26.30138609184855 3.4101886588323973, 26.243352407115324 3.708179364513906, 26.12046928754556 4.339158212148129 C26.027933116279687 4.692038738615231, 25.93539694501381 5.044919265082333, 25.803398134214884 5.548287939305125 C25.724332342481972 5.786421506581512, 25.645266550749056 6.024555073857899, 25.40950922997033 6.734618561215495 C25.28459365420624 7.0431624484311515, 25.159678078442155 7.351706335646808, 24.940421148808344 7.893275190886679 C24.734430768936857 8.321018622177888, 24.528440389065366 8.748762053469099, 24.398061474273504 9.019496659696284 C24.233393375323764 9.311881543834682, 24.06872527637402 9.60426642797308, 23.78465887860425 10.108655082055236 C23.551558474141732 10.466759899532558, 23.318458069679217 10.82486471700988, 23.10273396464064 11.156274872382301 C22.89934167136507 11.428802015952463, 22.695949378089498 11.701329159522627, 22.355088908126582 12.158051136245302 C22.063649402830958 12.500392562543178, 21.772209897535337 12.842733988841056, 21.54479594296866 13.10986736009567 C21.318326223691454 13.34371593875913, 21.09185650441425 13.577564517422589, 20.67518473676799 14.007812326905684 C20.46129727569346 14.202059259901462, 20.247409814618933 14.396306192897242, 19.749828708501887 14.848196188198111 C19.51104045693108 15.038623464403587, 19.27225220536027 15.229050740609063, 18.772530344578715 15.627565626425152 C18.374702572260336 15.905073058707755, 17.976874799941957 16.182580490990357, 17.747305573605708 16.34271804539089 C17.421973831287545 16.53993605944569, 17.09664208896938 16.73715407350049, 16.678367264076787 16.990714730406093 C16.27003365150556 17.20374211453434, 15.861700038934332 17.41676949866259, 15.570107912792386 17.56889292409717 C15.250431337507331 17.710404261107186, 14.930754762222277 17.851915598117202, 14.427081595147804 18.07487676824742 C14.138773114488147 18.180976954224555, 13.85046463382849 18.28707714020169, 13.253985251460616 18.506587066708033 C12.980694537384629 18.587698316113556, 12.707403823308642 18.668809565519076, 12.055639386235413 18.86224982926107 C11.732381082763727 18.936031427570914, 11.409122779292042 19.009813025880756, 10.836968259676766 19.140403561325773 C10.557864041834817 19.185526966780923, 10.278759823992868 19.230650372236074, 9.602979652847878 19.3399052695533 C9.327591039110944 19.366471677917236, 9.052202425374011 19.393038086281173, 8.3587442896239 19.45993515863156 C7.927695642592809 19.47375804975655, 7.4966469955617185 19.487580940881546, 7.1093750000000036 19.5 C7.109375000000003 19.5, 7.109375000000001 19.5, 7.109375 19.5 C2.6352246606019714 19.5, -1.8389256787960573 19.5, -7.1093749999999964 19.5 C-7.543034576129006 19.4860933814607, -7.976694152258015 19.472186762921403, -8.358744289623893 19.45993515863156 C-8.79230673136326 19.418109911312087, -9.225869173102629 19.376284663992614, -9.602979652847871 19.3399052695533 C-9.88710946666351 19.2939693647152, -10.171239280479147 19.248033459877103, -10.836968259676759 19.140403561325773 C-11.107327887434192 19.078695740551588, -11.377687515191626 19.016987919777403, -12.055639386235388 18.862249829261074 C-12.368999613978053 18.769246158528453, -12.682359841720718 18.676242487795832, -13.253985251460593 18.506587066708043 C-13.722801791826358 18.33405824616085, -14.191618332192123 18.161529425613654, -14.427081595147797 18.074876768247425 C-14.871733129431412 17.87804272413919, -15.316384663715025 17.68120868003095, -15.57010791279238 17.568892924097174 C-15.835030159019539 17.430683157931263, -16.099952405246697 17.292473391765352, -16.67836726407678 16.990714730406097 C-17.10300807883657 16.73329497303229, -17.52764889359636 16.475875215658487, -17.747305573605686 16.3427180453909 C-18.121127543053674 16.081956021996223, -18.494949512501666 15.821193998601549, -18.772530344578712 15.627565626425156 C-19.07213662217804 15.388637592897577, -19.371742899777367 15.14970955937, -19.74982870850187 14.848196188198125 C-19.96771445339018 14.650318119631462, -20.18560019827849 14.4524400510648, -20.675184736767974 14.007812326905697 C-20.999786394768677 13.672634464728224, -21.32438805276938 13.33745660255075, -21.544795942968655 13.109867360095677 C-21.72049604076438 12.90348002760603, -21.89619613856011 12.697092695116384, -22.35508890812658 12.158051136245307 C-22.62422072101955 11.797439025381271, -22.89335253391252 11.436826914517237, -23.102733964640635 11.156274872382316 C-23.294786042287644 10.861231307912735, -23.48683811993465 10.566187743443153, -23.784658878604244 10.108655082055249 C-23.96402161414672 9.790178382653142, -24.143384349689192 9.471701683251037, -24.3980614742735 9.019496659696289 C-24.59369994247441 8.61324919448447, -24.789338410675313 8.20700172927265, -24.94042114880834 7.893275190886686 C-25.118123875415677 7.454346020518076, -25.29582660202301 7.015416850149466, -25.409509229970325 6.73461856121551 C-25.52412450339734 6.389415619117205, -25.638739776824355 6.044212677018901, -25.80339813421488 5.5482879393051325 C-25.87784347845188 5.264395576913163, -25.95228882268888 4.9805032145211925, -26.120469287545557 4.339158212148136 C-26.172176533898767 4.0736524304547945, -26.223883780251978 3.8081466487614537, -26.359419776581777 3.112197953150904 C-26.399322982050823 2.8027165713121738, -26.439226187519868 2.4932351894734435, -26.519267702509364 1.872449005199809 C-26.546483983405032 1.4485334616632315, -26.5737002643007 1.024617918126654, -26.599356215913414 0.6250057626472781 C-26.599356215913414 0.20750532424078366, -26.599356215913414 -0.20999511416571082, -26.599356215913414 -0.6250057626472687 C-26.571435871370305 -1.059887665802659, -26.5435155268272 -1.4947695689580494, -26.519267702509367 -1.8724490051997822 C-26.47009677285592 -2.253809025693574, -26.42092584320248 -2.635169046187366, -26.359419776581777 -3.112197953150895 C-26.299628635686197 -3.4192128247875972, -26.239837494790617 -3.7262276964242997, -26.12046928754556 -4.339158212148126 C-26.056265293936917 -4.58399586596474, -25.99206130032827 -4.828833519781353, -25.803398134214884 -5.548287939305123 C-25.717171752288888 -5.807988063357961, -25.630945370362895 -6.067688187410798, -25.409509229970332 -6.734618561215485 C-25.226335154196526 -7.187062069806618, -25.043161078422724 -7.639505578397751, -24.940421148808344 -7.893275190886676 C-24.828111391241368 -8.126488805518353, -24.715801633674392 -8.359702420150029, -24.398061474273504 -9.019496659696282 C-24.172333073726918 -9.420300292345882, -23.94660467318033 -9.82110392499548, -23.784658878604247 -10.108655082055243 C-23.55380316633275 -10.46331144954291, -23.32294745406125 -10.817967817030578, -23.10273396464064 -11.156274872382308 C-22.94960738422764 -11.361450540017277, -22.796480803814635 -11.566626207652243, -22.355088908126586 -12.158051136245302 C-22.068861739891567 -12.494269854841415, -21.782634571656544 -12.830488573437526, -21.544795942968662 -13.10986736009567 C-21.30223730741574 -13.360329065738398, -21.059678671862816 -13.610790771381128, -20.675184736767996 -14.007812326905677 C-20.309491041997546 -14.339925664771247, -19.9437973472271 -14.672039002636819, -19.749828708501887 -14.848196188198107 C-19.472239410628163 -15.069566266290954, -19.194650112754438 -15.290936344383802, -18.77253034457872 -15.627565626425149 C-18.5150741841143 -15.807155898867569, -18.257618023649883 -15.986746171309989, -17.74730557360571 -16.342718045390885 C-17.39708868753614 -16.555021579829127, -17.046871801466573 -16.76732511426737, -16.67836726407679 -16.99071473040609 C-16.263162003970542 -17.20732704865186, -15.847956743864295 -17.423939366897628, -15.57010791279239 -17.56889292409717 C-15.331475573778238 -17.674528381801906, -15.092843234764086 -17.780163839506645, -14.427081595147806 -18.07487676824742 C-14.139926066120463 -18.180552657366096, -13.852770537093122 -18.286228546484768, -13.253985251460618 -18.506587066708033 C-12.865984086354551 -18.621743775851836, -12.477982921248485 -18.73690048499564, -12.055639386235413 -18.862249829261067 C-11.793782363346894 -18.922016985958603, -11.531925340458374 -18.981784142656142, -10.836968259676768 -19.140403561325773 C-10.56716327208472 -19.184023539350726, -10.297358284492674 -19.227643517375682, -9.60297965284788 -19.3399052695533 C-9.18804937652852 -19.37993309428316, -8.773119100209158 -19.419960919013022, -8.358744289623903 -19.45993515863156 C-7.957432719064164 -19.472804439593826, -7.556121148504424 -19.48567372055609, -7.109375000000006 -19.5 C-7.1093750000000036 -19.5, -7.109375000000002 -19.5, -7.109375 -19.5\" stroke=\"none\" stroke-width=\"0\" fill=\"#ECECFF\" style=\"\"/><path d=\"M-7.109375 -19.5 C-4.109063018906673 -19.5, -1.1087510378133443 -19.5, 7.109375 -19.5 M-7.109375 -19.5 C-2.4921236369759283 -19.5, 2.1251277260481434 -19.5, 7.109375 -19.5 M7.109375 -19.5 C7.109375 -19.5, 7.109374999999999 -19.5, 7.109374999999999 -19.5 M7.109375 -19.5 C7.109375 -19.5, 7.109375 -19.5, 7.109374999999999 -19.5 M7.109374999999999 -19.5 C7.604870791295099 -19.484110414397215, 8.1003665825902 -19.468220828794433, 8.3587442896239 -19.45993515863156 M7.109374999999999 -19.5 C7.448309572309411 -19.489131027962163, 7.787244144618823 -19.478262055924322, 8.3587442896239 -19.45993515863156 M8.3587442896239 -19.45993515863156 C8.849276082649746 -19.41261414650915, 9.339807875675593 -19.36529313438674, 9.602979652847864 -19.3399052695533 M8.3587442896239 -19.45993515863156 C8.856115134934425 -19.41195439136041, 9.353485980244951 -19.36397362408926, 9.602979652847864 -19.3399052695533 M9.602979652847864 -19.3399052695533 C9.956193582331641 -19.282800380649295, 10.30940751181542 -19.22569549174529, 10.836968259676757 -19.140403561325776 M9.602979652847864 -19.3399052695533 C10.079799699680786 -19.262816702176043, 10.556619746513709 -19.185728134798786, 10.836968259676757 -19.140403561325776 M10.836968259676757 -19.140403561325776 C11.21353705811675 -19.05445419042291, 11.590105856556741 -18.96850481952004, 12.05563938623539 -18.862249829261074 M10.836968259676757 -19.140403561325776 C11.312815665946543 -19.03179449603922, 11.788663072216327 -18.92318543075266, 12.05563938623539 -18.862249829261074 M12.05563938623539 -18.862249829261074 C12.324738957564309 -18.782382489023124, 12.593838528893228 -18.702515148785178, 13.253985251460602 -18.50658706670804 M12.05563938623539 -18.862249829261074 C12.399964534510328 -18.76005593265266, 12.744289682785267 -18.657862036044243, 13.253985251460602 -18.50658706670804 M13.253985251460602 -18.50658706670804 C13.681082091081098 -18.34941148168779, 14.108178930701596 -18.19223589666754, 14.427081595147794 -18.074876768247425 M13.253985251460602 -18.50658706670804 C13.576981450571848 -18.387721479690967, 13.899977649683095 -18.268855892673894, 14.427081595147794 -18.074876768247425 M14.427081595147794 -18.074876768247425 C14.690253910127993 -17.95837819113504, 14.95342622510819 -17.84187961402266, 15.570107912792382 -17.568892924097174 M14.427081595147794 -18.074876768247425 C14.727698919444341 -17.94180239627743, 15.028316243740887 -17.808728024307435, 15.570107912792382 -17.568892924097174 M15.570107912792382 -17.568892924097174 C15.818158133836564 -17.439485282662176, 16.066208354880743 -17.310077641227174, 16.678367264076783 -16.990714730406097 M15.570107912792382 -17.568892924097174 C15.827253499193304 -17.434740236381423, 16.084399085594228 -17.30058754866567, 16.678367264076783 -16.990714730406097 M16.678367264076783 -16.990714730406097 C16.927893128783584 -16.83945068484409, 17.17741899349038 -16.68818663928208, 17.747305573605697 -16.342718045390892 M16.678367264076783 -16.990714730406097 C17.070727156603965 -16.752863857793454, 17.463087049131147 -16.51501298518081, 17.747305573605697 -16.342718045390892 M17.747305573605697 -16.342718045390892 C18.08768894127379 -16.10528134306413, 18.428072308941882 -15.867844640737372, 18.772530344578712 -15.627565626425154 M17.747305573605697 -16.342718045390892 C18.13553231024585 -16.071907879975285, 18.523759046886006 -15.801097714559678, 18.772530344578712 -15.627565626425154 M18.772530344578712 -15.627565626425154 C19.08713868736738 -15.3766738451308, 19.40174703015604 -15.125782063836445, 19.74982870850187 -14.848196188198123 M18.772530344578712 -15.627565626425154 C19.00069874051599 -15.445607402481192, 19.228867136453264 -15.263649178537229, 19.74982870850187 -14.848196188198123 M19.74982870850187 -14.848196188198123 C20.102585188674865 -14.527832086330017, 20.455341668847865 -14.20746798446191, 20.675184736767985 -14.007812326905688 M19.74982870850187 -14.848196188198123 C20.114500781181203 -14.517010660485065, 20.479172853860536 -14.185825132772006, 20.675184736767985 -14.007812326905688 M20.675184736767985 -14.007812326905688 C20.996696259110323 -13.675825283500329, 21.318207781452664 -13.343838240094968, 21.544795942968648 -13.10986736009568 M20.675184736767985 -14.007812326905688 C20.95897234410797 -13.71477832293128, 21.242759951447955 -13.421744318956875, 21.544795942968648 -13.10986736009568 M21.544795942968648 -13.10986736009568 C21.737385618791166 -12.883640568211552, 21.929975294613683 -12.657413776327424, 22.355088908126582 -12.158051136245305 M21.544795942968648 -13.10986736009568 C21.76707661568964 -12.84876383378902, 21.989357288410634 -12.58766030748236, 22.355088908126582 -12.158051136245305 M22.355088908126582 -12.158051136245305 C22.61778799807355 -11.806058288095798, 22.880487088020516 -11.454065439946291, 23.102733964640635 -11.156274872382312 M22.355088908126582 -12.158051136245305 C22.633032912456155 -11.785631491663379, 22.910976916785724 -11.413211847081453, 23.102733964640635 -11.156274872382312 M23.102733964640635 -11.156274872382312 C23.369124511284916 -10.747027456858955, 23.635515057929197 -10.337780041335598, 23.784658878604247 -10.108655082055241 M23.102733964640635 -11.156274872382312 C23.306606787964412 -10.843071468238552, 23.51047961128819 -10.52986806409479, 23.784658878604247 -10.108655082055241 M23.784658878604247 -10.108655082055241 C24.00373774762153 -9.719658365974004, 24.22281661663881 -9.330661649892768, 24.3980614742735 -9.019496659696287 M23.784658878604247 -10.108655082055241 C23.944924261424163 -9.8240876662287, 24.105189644244078 -9.539520250402155, 24.3980614742735 -9.019496659696287 M24.3980614742735 -9.019496659696287 C24.551101642299795 -8.70170547625466, 24.704141810326092 -8.383914292813031, 24.94042114880834 -7.893275190886684 M24.3980614742735 -9.019496659696287 C24.53652069843974 -8.731983118162287, 24.674979922605978 -8.444469576628286, 24.94042114880834 -7.893275190886684 M24.94042114880834 -7.893275190886684 C25.09139760492505 -7.520360425347205, 25.24237406104176 -7.147445659807725, 25.409509229970325 -6.734618561215508 M24.94042114880834 -7.893275190886684 C25.094919799058914 -7.5116605377395675, 25.24941844930949 -7.130045884592452, 25.409509229970325 -6.734618561215508 M25.409509229970325 -6.734618561215508 C25.55896037644382 -6.284495519843828, 25.708411522917313 -5.834372478472147, 25.80339813421488 -5.548287939305138 M25.409509229970325 -6.734618561215508 C25.5567403802345 -6.2911817947179305, 25.703971530498677 -5.847745028220354, 25.80339813421488 -5.548287939305138 M25.80339813421488 -5.548287939305138 C25.87038846382611 -5.292824778705007, 25.93737879343734 -5.037361618104876, 26.12046928754556 -4.339158212148133 M25.80339813421488 -5.548287939305138 C25.884200691021643 -5.24015277015131, 25.965003247828406 -4.932017600997482, 26.12046928754556 -4.339158212148133 M26.12046928754556 -4.339158212148133 C26.175337632625066 -4.057420856593721, 26.230205977704568 -3.775683501039308, 26.359419776581777 -3.1121979531509023 M26.12046928754556 -4.339158212148133 C26.186532081891976 -3.9999397255558207, 26.25259487623839 -3.660721238963508, 26.359419776581777 -3.1121979531509023 M26.359419776581777 -3.1121979531509023 C26.406765581844073 -2.7449932370232957, 26.454111387106366 -2.377788520895689, 26.519267702509367 -1.872449005199798 M26.359419776581777 -3.1121979531509023 C26.405799137466428 -2.7524887887702825, 26.452178498351078 -2.392779624389663, 26.519267702509367 -1.872449005199798 M26.519267702509367 -1.872449005199798 C26.540063353776556 -1.5485399507657678, 26.560859005043742 -1.2246308963317376, 26.599356215913414 -0.6250057626472757 M26.519267702509367 -1.872449005199798 C26.54773431585195 -1.4290585245523424, 26.57620092919453 -0.9856680439048867, 26.599356215913414 -0.6250057626472757 M26.599356215913414 -0.6250057626472757 C26.599356215913414 -0.29157212042168906, 26.599356215913414 0.04186152180389757, 26.599356215913414 0.625005762647271 M26.599356215913414 -0.6250057626472757 C26.599356215913414 -0.25642328279286636, 26.599356215913414 0.11215919706154298, 26.599356215913414 0.625005762647271 M26.599356215913414 0.625005762647271 C26.57285564770235 1.0377735034082165, 26.546355079491292 1.4505412441691616, 26.519267702509367 1.8724490051997846 M26.599356215913414 0.625005762647271 C26.571998454329155 1.0511249821097972, 26.544640692744895 1.477244201572323, 26.519267702509367 1.8724490051997846 M26.519267702509367 1.8724490051997846 C26.46906660598135 2.2617987965432893, 26.418865509453337 2.6511485878867944, 26.359419776581777 3.1121979531508885 M26.519267702509367 1.8724490051997846 C26.47941748367366 2.1815194331737433, 26.43956726483795 2.490589861147702, 26.359419776581777 3.1121979531508885 M26.359419776581777 3.1121979531508885 C26.274709150297543 3.5471691155232286, 26.18999852401331 3.982140277895569, 26.12046928754556 4.339158212148129 M26.359419776581777 3.1121979531508885 C26.297531580104884 3.429980761984778, 26.23564338362799 3.7477635708186674, 26.12046928754556 4.339158212148129 M26.12046928754556 4.339158212148129 C26.027869686504562 4.692280623838411, 25.935270085463564 5.045403035528694, 25.803398134214884 5.548287939305125 M26.12046928754556 4.339158212148129 C26.037702833215654 4.654782573716279, 25.954936378885748 4.97040693528443, 25.803398134214884 5.548287939305125 M25.803398134214884 5.548287939305125 C25.720388061571036 5.798301052249427, 25.637377988927188 6.04831416519373, 25.40950922997033 6.734618561215495 M25.803398134214884 5.548287939305125 C25.695107309649572 5.874442649096063, 25.58681648508426 6.200597358887, 25.40950922997033 6.734618561215495 M25.40950922997033 6.734618561215495 C25.310877148991466 6.978241708154849, 25.2122450680126 7.2218648550942035, 24.940421148808344 7.893275190886679 M25.40950922997033 6.734618561215495 C25.306073092470303 6.99010782064223, 25.20263695497028 7.245597080068964, 24.940421148808344 7.893275190886679 M24.940421148808344 7.893275190886679 C24.7405399852357 8.308332703817051, 24.540658821663055 8.723390216747424, 24.398061474273504 9.019496659696284 M24.940421148808344 7.893275190886679 C24.795278138257782 8.194667757857843, 24.650135127707223 8.496060324829008, 24.398061474273504 9.019496659696284 M24.398061474273504 9.019496659696284 C24.16713224373522 9.429534892637282, 23.93620301319694 9.839573125578282, 23.78465887860425 10.108655082055236 M24.398061474273504 9.019496659696284 C24.1955736759054 9.379034249811824, 23.993085877537297 9.738571839927365, 23.78465887860425 10.108655082055236 M23.78465887860425 10.108655082055236 C23.601469243200775 10.39008355533979, 23.418279607797302 10.671512028624345, 23.10273396464064 11.156274872382301 M23.78465887860425 10.108655082055236 C23.528639153501555 10.501970130735202, 23.27261942839886 10.89528517941517, 23.10273396464064 11.156274872382301 M23.10273396464064 11.156274872382301 C22.827218903315554 11.525439954619477, 22.551703841990467 11.894605036856653, 22.355088908126582 12.158051136245302 M23.10273396464064 11.156274872382301 C22.87156004793634 11.466026860389002, 22.640386131232038 11.775778848395701, 22.355088908126582 12.158051136245302 M22.355088908126582 12.158051136245302 C22.043160546581994 12.52445993894216, 21.731232185037406 12.890868741639018, 21.54479594296866 13.10986736009567 M22.355088908126582 12.158051136245302 C22.05359957602773 12.512197660957597, 21.75211024392888 12.86634418566989, 21.54479594296866 13.10986736009567 M21.54479594296866 13.10986736009567 C21.25795967632249 13.406049355103296, 20.971123409676323 13.702231350110921, 20.67518473676799 14.007812326905684 M21.54479594296866 13.10986736009567 C21.278031654294672 13.38532338990698, 21.011267365620686 13.660779419718287, 20.67518473676799 14.007812326905684 M20.67518473676799 14.007812326905684 C20.42442584402388 14.235544918579153, 20.173666951279774 14.463277510252622, 19.749828708501887 14.848196188198111 M20.67518473676799 14.007812326905684 C20.352778449202557 14.300613186869693, 20.030372161637125 14.5934140468337, 19.749828708501887 14.848196188198111 M19.749828708501887 14.848196188198111 C19.445576025500106 15.090829606388105, 19.141323342498325 15.3334630245781, 18.772530344578715 15.627565626425152 M19.749828708501887 14.848196188198111 C19.455843429614063 15.082641624834324, 19.16185815072624 15.317087061470534, 18.772530344578715 15.627565626425152 M18.772530344578715 15.627565626425152 C18.47684074756697 15.833825889104194, 18.181151150555227 16.040086151783235, 17.747305573605708 16.34271804539089 M18.772530344578715 15.627565626425152 C18.46649136683762 15.841045169083518, 18.160452389096523 16.054524711741884, 17.747305573605708 16.34271804539089 M17.747305573605708 16.34271804539089 C17.51231925697336 16.485168131466295, 17.277332940341008 16.627618217541706, 16.678367264076787 16.990714730406093 M17.747305573605708 16.34271804539089 C17.411731835746068 16.54614481733158, 17.07615809788643 16.74957158927227, 16.678367264076787 16.990714730406093 M16.678367264076787 16.990714730406093 C16.350392927637227 17.16181873164902, 16.02241859119767 17.33292273289195, 15.570107912792386 17.56889292409717 M16.678367264076787 16.990714730406093 C16.297812271265368 17.189250026398703, 15.917257278453947 17.387785322391316, 15.570107912792386 17.56889292409717 M15.570107912792386 17.56889292409717 C15.179606127518163 17.741756480614182, 14.789104342243938 17.914620037131197, 14.427081595147804 18.07487676824742 M15.570107912792386 17.56889292409717 C15.226137663402405 17.7211583499872, 14.882167414012422 17.873423775877228, 14.427081595147804 18.07487676824742 M14.427081595147804 18.07487676824742 C14.075384565760041 18.20430452611382, 13.723687536372276 18.33373228398022, 13.253985251460616 18.506587066708033 M14.427081595147804 18.07487676824742 C14.171761070560617 18.168837081452562, 13.916440545973431 18.262797394657703, 13.253985251460616 18.506587066708033 M13.253985251460616 18.506587066708033 C12.952156947670439 18.596168122943862, 12.650328643880261 18.68574917917969, 12.055639386235413 18.86224982926107 M13.253985251460616 18.506587066708033 C12.884982634769434 18.616105106407716, 12.515980018078253 18.7256231461074, 12.055639386235413 18.86224982926107 M12.055639386235413 18.86224982926107 C11.636111924073038 18.958004234827094, 11.216584461910662 19.053758640393117, 10.836968259676766 19.140403561325773 M12.055639386235413 18.86224982926107 C11.611231286580095 18.963683077973524, 11.166823186924777 19.065116326685978, 10.836968259676766 19.140403561325773 M10.836968259676766 19.140403561325773 C10.542985298511281 19.187932446615093, 10.249002337345797 19.235461331904418, 9.602979652847878 19.3399052695533 M10.836968259676766 19.140403561325773 C10.444151552709346 19.203911120169206, 10.051334845741927 19.26741867901264, 9.602979652847878 19.3399052695533 M9.602979652847878 19.3399052695533 C9.232830427039389 19.375613120197468, 8.862681201230899 19.41132097084164, 8.3587442896239 19.45993515863156 M9.602979652847878 19.3399052695533 C9.168704644805137 19.38179925728707, 8.734429636762396 19.423693245020843, 8.3587442896239 19.45993515863156 M8.3587442896239 19.45993515863156 C7.939946813598209 19.473365178547866, 7.521149337572519 19.486795198464176, 7.1093750000000036 19.5 M8.3587442896239 19.45993515863156 C8.066780775423657 19.469297860259456, 7.774817261223416 19.478660561887352, 7.1093750000000036 19.5 M7.1093750000000036 19.5 C7.109375000000003 19.5, 7.109375000000001 19.5, 7.109375 19.5 M7.1093750000000036 19.5 C7.109375000000003 19.5, 7.109375000000002 19.5, 7.109375 19.5 M7.109375 19.5 C3.6783827817542245 19.5, 0.247390563508449 19.5, -7.1093749999999964 19.5 M7.109375 19.5 C2.903472732776793 19.5, -1.3024295344464143 19.5, -7.1093749999999964 19.5 M-7.1093749999999964 19.5 C-7.563745091246657 19.48542923555145, -8.018115182493318 19.4708584711029, -8.358744289623893 19.45993515863156 M-7.1093749999999964 19.5 C-7.483906530572927 19.487989502795926, -7.858438061145859 19.475979005591853, -8.358744289623893 19.45993515863156 M-8.358744289623893 19.45993515863156 C-8.752235525868926 19.42197553231345, -9.14572676211396 19.38401590599534, -9.602979652847871 19.3399052695533 M-8.358744289623893 19.45993515863156 C-8.822976620662466 19.415151223977333, -9.28720895170104 19.370367289323102, -9.602979652847871 19.3399052695533 M-9.602979652847871 19.3399052695533 C-9.89872427364128 19.292091572797208, -10.194468894434689 19.244277876041117, -10.836968259676759 19.140403561325773 M-9.602979652847871 19.3399052695533 C-9.915072261095473 19.28944855696615, -10.227164869343072 19.238991844379, -10.836968259676759 19.140403561325773 M-10.836968259676759 19.140403561325773 C-11.308924921700541 19.032682533023888, -11.780881583724323 18.924961504722003, -12.055639386235388 18.862249829261074 M-10.836968259676759 19.140403561325773 C-11.277522148665925 19.039850011046795, -11.718076037655091 18.939296460767814, -12.055639386235388 18.862249829261074 M-12.055639386235388 18.862249829261074 C-12.353607454755894 18.773814470590498, -12.6515755232764 18.68537911191992, -13.253985251460593 18.506587066708043 M-12.055639386235388 18.862249829261074 C-12.300366743336559 18.789616034273557, -12.545094100437732 18.716982239286043, -13.253985251460593 18.506587066708043 M-13.253985251460593 18.506587066708043 C-13.675266638213609 18.351551622100484, -14.096548024966623 18.196516177492924, -14.427081595147797 18.074876768247425 M-13.253985251460593 18.506587066708043 C-13.659578829086335 18.35732488087584, -14.065172406712078 18.208062695043633, -14.427081595147797 18.074876768247425 M-14.427081595147797 18.074876768247425 C-14.757930712135277 17.92841967844742, -15.088779829122757 17.781962588647417, -15.57010791279238 17.568892924097174 M-14.427081595147797 18.074876768247425 C-14.697125583712927 17.955336305079946, -14.967169572278058 17.835795841912468, -15.57010791279238 17.568892924097174 M-15.57010791279238 17.568892924097174 C-15.828517018805139 17.43408105900925, -16.086926124817897 17.299269193921326, -16.67836726407678 16.990714730406097 M-15.57010791279238 17.568892924097174 C-15.85963952773226 17.41784446603689, -16.149171142672138 17.266796007976605, -16.67836726407678 16.990714730406097 M-16.67836726407678 16.990714730406097 C-16.940612452453877 16.831740156088113, -17.202857640830974 16.672765581770125, -17.747305573605686 16.3427180453909 M-16.67836726407678 16.990714730406097 C-16.98153576830344 16.806932201528006, -17.284704272530103 16.62314967264992, -17.747305573605686 16.3427180453909 M-17.747305573605686 16.3427180453909 C-18.155414909096493 16.05803863972091, -18.5635242445873 15.77335923405092, -18.772530344578712 15.627565626425156 M-17.747305573605686 16.3427180453909 C-18.0585657317939 16.125596433273884, -18.369825889982117 15.908474821156869, -18.772530344578712 15.627565626425156 M-18.772530344578712 15.627565626425156 C-19.083743636332485 15.379381307985026, -19.394956928086255 15.131196989544897, -19.74982870850187 14.848196188198125 M-18.772530344578712 15.627565626425156 C-19.051038289194278 15.405462952001907, -19.329546233809847 15.183360277578657, -19.74982870850187 14.848196188198125 M-19.74982870850187 14.848196188198125 C-20.11640693331914 14.515279543547411, -20.48298515813641 14.182362898896697, -20.675184736767974 14.007812326905697 M-19.74982870850187 14.848196188198125 C-20.03566932631298 14.588603302030384, -20.321509944124095 14.329010415862644, -20.675184736767974 14.007812326905697 M-20.675184736767974 14.007812326905697 C-20.96681316370887 13.70668203295009, -21.258441590649763 13.405551738994484, -21.544795942968655 13.109867360095677 M-20.675184736767974 14.007812326905697 C-20.901979805940258 13.773627797763847, -21.12877487511254 13.539443268621998, -21.544795942968655 13.109867360095677 M-21.544795942968655 13.109867360095677 C-21.73552850428888 12.88582204057875, -21.926261065609104 12.661776721061822, -22.35508890812658 12.158051136245307 M-21.544795942968655 13.109867360095677 C-21.838904630589486 12.764390560357835, -22.133013318210313 12.418913760619994, -22.35508890812658 12.158051136245307 M-22.35508890812658 12.158051136245307 C-22.615608119185882 11.808979127214217, -22.876127330245186 11.459907118183128, -23.102733964640635 11.156274872382316 M-22.35508890812658 12.158051136245307 C-22.63227271799453 11.78665008298681, -22.909456527862485 11.415249029728315, -23.102733964640635 11.156274872382316 M-23.102733964640635 11.156274872382316 C-23.296150951567558 10.859134440729324, -23.48956793849448 10.561994009076333, -23.784658878604244 10.108655082055249 M-23.102733964640635 11.156274872382316 C-23.336681213124386 10.796869075078918, -23.570628461608138 10.437463277775521, -23.784658878604244 10.108655082055249 M-23.784658878604244 10.108655082055249 C-24.013706470987962 9.701957888194203, -24.24275406337168 9.295260694333157, -24.3980614742735 9.019496659696289 M-23.784658878604244 10.108655082055249 C-23.94189800343951 9.829461093722307, -24.09913712827477 9.550267105389366, -24.3980614742735 9.019496659696289 M-24.3980614742735 9.019496659696289 C-24.58832907534332 8.624401915000316, -24.778596676413144 8.229307170304342, -24.94042114880834 7.893275190886686 M-24.3980614742735 9.019496659696289 C-24.594367002805818 8.611864029433493, -24.790672531338135 8.204231399170695, -24.94042114880834 7.893275190886686 M-24.94042114880834 7.893275190886686 C-25.080108741928562 7.548244135203848, -25.219796335048787 7.203213079521009, -25.409509229970325 6.73461856121551 M-24.94042114880834 7.893275190886686 C-25.08377633347766 7.5391851131695296, -25.227131518146972 7.185095035452374, -25.409509229970325 6.73461856121551 M-25.409509229970325 6.73461856121551 C-25.488845436474524 6.495670547732757, -25.56818164297872 6.256722534250006, -25.80339813421488 5.5482879393051325 M-25.409509229970325 6.73461856121551 C-25.536438463791196 6.352327932374058, -25.663367697612067 5.970037303532605, -25.80339813421488 5.5482879393051325 M-25.80339813421488 5.5482879393051325 C-25.884162949398117 5.240296695319123, -25.964927764581358 4.932305451333114, -26.120469287545557 4.339158212148136 M-25.80339813421488 5.5482879393051325 C-25.887467355113152 5.227695564189206, -25.971536576011424 4.90710318907328, -26.120469287545557 4.339158212148136 M-26.120469287545557 4.339158212148136 C-26.193592979508704 3.963683508615151, -26.26671667147185 3.5882088050821657, -26.359419776581777 3.112197953150904 M-26.120469287545557 4.339158212148136 C-26.206627159209344 3.8967557506272166, -26.292785030873134 3.454353289106298, -26.359419776581777 3.112197953150904 M-26.359419776581777 3.112197953150904 C-26.414833811897303 2.6824176379826548, -26.470247847212832 2.252637322814406, -26.519267702509364 1.872449005199809 M-26.359419776581777 3.112197953150904 C-26.422770108616056 2.620865287831051, -26.48612044065034 2.1295326225111983, -26.519267702509364 1.872449005199809 M-26.519267702509364 1.872449005199809 C-26.55066317199247 1.3834392260335955, -26.582058641475577 0.8944294468673817, -26.599356215913414 0.6250057626472781 M-26.519267702509364 1.872449005199809 C-26.547944754940232 1.4257807658889465, -26.5766218073711 0.979112526578084, -26.599356215913414 0.6250057626472781 M-26.599356215913414 0.6250057626472781 C-26.599356215913414 0.32977550995260446, -26.599356215913414 0.034545257257930784, -26.599356215913414 -0.6250057626472687 M-26.599356215913414 0.6250057626472781 C-26.599356215913414 0.19576495357554186, -26.599356215913414 -0.23347585549619443, -26.599356215913414 -0.6250057626472687 M-26.599356215913414 -0.6250057626472687 C-26.567690635851335 -1.1182227321103109, -26.53602505578926 -1.6114397015733533, -26.519267702509367 -1.8724490051997822 M-26.599356215913414 -0.6250057626472687 C-26.57696636016859 -0.9737458386391786, -26.554576504423764 -1.3224859146310886, -26.519267702509367 -1.8724490051997822 M-26.519267702509367 -1.8724490051997822 C-26.48268041605573 -2.1562127739572974, -26.44609312960209 -2.4399765427148123, -26.359419776581777 -3.112197953150895 M-26.519267702509367 -1.8724490051997822 C-26.482259850707795 -2.1594745957458352, -26.445251998906226 -2.446500186291888, -26.359419776581777 -3.112197953150895 M-26.359419776581777 -3.112197953150895 C-26.291788393521518 -3.45947081126746, -26.22415701046126 -3.806743669384024, -26.12046928754556 -4.339158212148126 M-26.359419776581777 -3.112197953150895 C-26.281343980052018 -3.5131006670057663, -26.20326818352226 -3.9140033808606374, -26.12046928754556 -4.339158212148126 M-26.12046928754556 -4.339158212148126 C-26.03668247573839 -4.6586736390028065, -25.952895663931223 -4.978189065857488, -25.803398134214884 -5.548287939305123 M-26.12046928754556 -4.339158212148126 C-26.027337684073117 -4.694309379680829, -25.93420608060067 -5.049460547213531, -25.803398134214884 -5.548287939305123 M-25.803398134214884 -5.548287939305123 C-25.66581893036836 -5.9626545810215505, -25.528239726521836 -6.377021222737978, -25.409509229970332 -6.734618561215485 M-25.803398134214884 -5.548287939305123 C-25.672965116488474 -5.941131407017907, -25.542532098762063 -6.333974874730691, -25.409509229970332 -6.734618561215485 M-25.409509229970332 -6.734618561215485 C-25.307461288390034 -6.986678949881559, -25.20541334680973 -7.238739338547632, -24.940421148808344 -7.893275190886676 M-25.409509229970332 -6.734618561215485 C-25.265681528211115 -7.089875765280196, -25.121853826451897 -7.445132969344907, -24.940421148808344 -7.893275190886676 M-24.940421148808344 -7.893275190886676 C-24.77620136478995 -8.234281086141358, -24.61198158077156 -8.575286981396038, -24.398061474273504 -9.019496659696282 M-24.940421148808344 -7.893275190886676 C-24.76669781900331 -8.254015402310626, -24.592974489198273 -8.614755613734575, -24.398061474273504 -9.019496659696282 M-24.398061474273504 -9.019496659696282 C-24.226635101807396 -9.32388154281239, -24.055208729341288 -9.628266425928501, -23.784658878604247 -10.108655082055243 M-24.398061474273504 -9.019496659696282 C-24.22645590410609 -9.324199726476799, -24.054850333938674 -9.628902793257316, -23.784658878604247 -10.108655082055243 M-23.784658878604247 -10.108655082055243 C-23.600090191826446 -10.392202148577908, -23.415521505048645 -10.675749215100575, -23.10273396464064 -11.156274872382308 M-23.784658878604247 -10.108655082055243 C-23.53733306952508 -10.488613941079738, -23.290007260445915 -10.868572800104232, -23.10273396464064 -11.156274872382308 M-23.10273396464064 -11.156274872382308 C-22.90242116268981 -11.424675778124755, -22.702108360738972 -11.6930766838672, -22.355088908126586 -12.158051136245302 M-23.10273396464064 -11.156274872382308 C-22.819978288524574 -11.53514171880582, -22.537222612408506 -11.91400856522933, -22.355088908126586 -12.158051136245302 M-22.355088908126586 -12.158051136245302 C-22.058984041807225 -12.505872761068224, -21.762879175487864 -12.853694385891146, -21.544795942968662 -13.10986736009567 M-22.355088908126586 -12.158051136245302 C-22.051259061591715 -12.514946962393186, -21.747429215056847 -12.871842788541072, -21.544795942968662 -13.10986736009567 M-21.544795942968662 -13.10986736009567 C-21.249758214886214 -13.41451803738876, -20.954720486803765 -13.71916871468185, -20.675184736767996 -14.007812326905677 M-21.544795942968662 -13.10986736009567 C-21.236376425730942 -13.428335833356899, -20.927956908493226 -13.746804306618127, -20.675184736767996 -14.007812326905677 M-20.675184736767996 -14.007812326905677 C-20.474106090034038 -14.190426633620005, -20.273027443300084 -14.37304094033433, -19.749828708501887 -14.848196188198107 M-20.675184736767996 -14.007812326905677 C-20.490031305710414 -14.175963774100838, -20.304877874652835 -14.344115221295997, -19.749828708501887 -14.848196188198107 M-19.749828708501887 -14.848196188198107 C-19.548581369172876 -15.008685585896384, -19.34733402984386 -15.16917498359466, -18.77253034457872 -15.627565626425149 M-19.749828708501887 -14.848196188198107 C-19.423763806892822 -15.1082242702799, -19.097698905283753 -15.36825235236169, -18.77253034457872 -15.627565626425149 M-18.77253034457872 -15.627565626425149 C-18.46762122448989 -15.840257029296042, -18.162712104401063 -16.052948432166936, -17.74730557360571 -16.342718045390885 M-18.77253034457872 -15.627565626425149 C-18.435219462600365 -15.86285909574051, -18.09790858062201 -16.09815256505587, -17.74730557360571 -16.342718045390885 M-17.74730557360571 -16.342718045390885 C-17.375286921761735 -16.56823793836297, -17.003268269917754 -16.793757831335054, -16.67836726407679 -16.99071473040609 M-17.74730557360571 -16.342718045390885 C-17.32042045331923 -16.601498313963972, -16.893535333032748 -16.860278582537063, -16.67836726407679 -16.99071473040609 M-16.67836726407679 -16.99071473040609 C-16.340513582957694 -17.166972779440314, -16.002659901838594 -17.343230828474535, -15.57010791279239 -17.56889292409717 M-16.67836726407679 -16.99071473040609 C-16.236398195238134 -17.22128971052452, -15.794429126399477 -17.451864690642946, -15.57010791279239 -17.56889292409717 M-15.57010791279239 -17.56889292409717 C-15.179244133801973 -17.74191672449418, -14.788380354811556 -17.91494052489119, -14.427081595147806 -18.07487676824742 M-15.57010791279239 -17.56889292409717 C-15.262393602801456 -17.70510892110947, -14.954679292810523 -17.84132491812177, -14.427081595147806 -18.07487676824742 M-14.427081595147806 -18.07487676824742 C-14.191834801283465 -18.161449762987022, -13.956588007419125 -18.248022757726623, -13.253985251460618 -18.506587066708033 M-14.427081595147806 -18.07487676824742 C-14.03717139837791 -18.21836732494909, -13.647261201608014 -18.36185788165076, -13.253985251460618 -18.506587066708033 M-13.253985251460618 -18.506587066708033 C-12.89130575774568 -18.614228436699115, -12.528626264030741 -18.721869806690197, -12.055639386235413 -18.862249829261067 M-13.253985251460618 -18.506587066708033 C-12.834968511996845 -18.630949035517133, -12.415951772533074 -18.75531100432623, -12.055639386235413 -18.862249829261067 M-12.055639386235413 -18.862249829261067 C-11.786020415236413 -18.923788599963377, -11.516401444237411 -18.985327370665686, -10.836968259676768 -19.140403561325773 M-12.055639386235413 -18.862249829261067 C-11.7794154777369 -18.925296133846395, -11.503191569238384 -18.988342438431722, -10.836968259676768 -19.140403561325773 M-10.836968259676768 -19.140403561325773 C-10.515626129063586 -19.19235566495787, -10.194283998450404 -19.24430776858997, -9.60297965284788 -19.3399052695533 M-10.836968259676768 -19.140403561325773 C-10.484454494491379 -19.19739525309587, -10.131940729305988 -19.254386944865963, -9.60297965284788 -19.3399052695533 M-9.60297965284788 -19.3399052695533 C-9.32743024183331 -19.366487189837223, -9.051880830818742 -19.393069110121147, -8.358744289623903 -19.45993515863156 M-9.60297965284788 -19.3399052695533 C-9.318384790078008 -19.36735979368931, -9.033789927308138 -19.39481431782532, -8.358744289623903 -19.45993515863156 M-8.358744289623903 -19.45993515863156 C-7.864679390069066 -19.475778858321295, -7.370614490514228 -19.49162255801103, -7.109375000000006 -19.5 M-8.358744289623903 -19.45993515863156 C-7.904827363030281 -19.474491390971718, -7.450910436436659 -19.489047623311876, -7.109375000000006 -19.5 M-7.109375000000006 -19.5 C-7.109375000000004 -19.5, -7.109375000000003 -19.5, -7.109375 -19.5 M-7.109375000000006 -19.5 C-7.109375000000004 -19.5, -7.109375000000003 -19.5, -7.109375 -19.5\" stroke=\"#9370DB\" stroke-width=\"1.3\" fill=\"none\" stroke-dasharray=\"0 0\" style=\"\"/></g><g class=\"label\" style=\"\" transform=\"translate(-14.234375, -12)\"><rect/><foreignObject width=\"28.46875\" height=\"24\"><div xmlns=\"http://www.w3.org/1999/xhtml\" style=\"display: table-cell; white-space: nowrap; line-height: 1.5; max-width: 200px; text-align: center;\"><span class=\"nodeLabel \"><p>End</p></span></div></foreignObject></g></g></g></g></g></svg>"
          },
          "metadata": {}
        }
      ]
    },
    {
      "cell_type": "markdown",
      "source": [
        "# Simple Flowchart: Should We Have a Town Meeting? 🏛️\n",
        "## (if-else Decision)\n",
        "\n",
        "### The Scenario\n",
        "Leslie needs to decide if a town meeting is required based on the number of citizen complaints. If there are 10 or more complaints, she must schedule a meeting.\n",
        "\n",
        "### The Algorithm in Java:\n",
        "```java\n",
        "public static void main(String[] args) {\n",
        "    int complaints = 12;\n",
        "    \n",
        "    if (complaints >= 10) {\n",
        "        System.out.println(\"Schedule town meeting\");\n",
        "        System.out.println(\"Book the community center\");\n",
        "        System.out.println(\"Send notifications\");\n",
        "    } else {\n",
        "        System.out.println(\"Handle individually\");\n",
        "        System.out.println(\"Send email responses\");\n",
        "    }\n",
        "}\n",
        "```\n",
        "\n",
        "### The Flowchart (Mermaid):\n"
      ],
      "metadata": {
        "id": "IPz4WL6SAnBj"
      }
    },
    {
      "cell_type": "code",
      "source": [
        "mm(\"\"\"\n",
        "flowchart TD\n",
        "    A([Start]) --> B[Count citizen complaints]\n",
        "    B --> C{Complaints >= 10?}\n",
        "    C -->|Yes| D[Schedule town meeting]\n",
        "    D --> E[Book community center]\n",
        "    E --> F[Send notifications]\n",
        "    C -->|No| G[Handle individually]\n",
        "    G --> H[Send email responses]\n",
        "    F --> I([End])\n",
        "    H --> I\n",
        "\"\"\")"
      ],
      "metadata": {
        "colab": {
          "base_uri": "https://localhost:8080/",
          "height": 843
        },
        "id": "VOiDxbqqA6na",
        "outputId": "2f965f0a-fbf6-481c-a78f-9cc27beced61"
      },
      "execution_count": null,
      "outputs": [
        {
          "output_type": "display_data",
          "data": {
            "text/plain": [
              "<IPython.core.display.SVG object>"
            ],
            "image/svg+xml": "<svg xmlns=\"http://www.w3.org/2000/svg\" xmlns:xlink=\"http://www.w3.org/1999/xlink\" id=\"mermaid-svg\" width=\"100%\" class=\"flowchart\" style=\"max-width: 499.0546875px;\" viewBox=\"0 0 499.0546875 822.3125\" role=\"graphics-document document\" aria-roledescription=\"flowchart-v2\"><style xmlns=\"http://www.w3.org/1999/xhtml\">@import url(&quot;https://cdnjs.cloudflare.com/ajax/libs/font-awesome/6.7.2/css/all.min.css&quot;);</style><style>#mermaid-svg{font-family:&quot;trebuchet ms&quot;,verdana,arial,sans-serif;font-size:16px;fill:#333;}@keyframes edge-animation-frame{from{stroke-dashoffset:0;}}@keyframes dash{to{stroke-dashoffset:0;}}#mermaid-svg .edge-animation-slow{stroke-dasharray:9,5!important;stroke-dashoffset:900;animation:dash 50s linear infinite;stroke-linecap:round;}#mermaid-svg .edge-animation-fast{stroke-dasharray:9,5!important;stroke-dashoffset:900;animation:dash 20s linear infinite;stroke-linecap:round;}#mermaid-svg .error-icon{fill:#552222;}#mermaid-svg .error-text{fill:#552222;stroke:#552222;}#mermaid-svg .edge-thickness-normal{stroke-width:1px;}#mermaid-svg .edge-thickness-thick{stroke-width:3.5px;}#mermaid-svg .edge-pattern-solid{stroke-dasharray:0;}#mermaid-svg .edge-thickness-invisible{stroke-width:0;fill:none;}#mermaid-svg .edge-pattern-dashed{stroke-dasharray:3;}#mermaid-svg .edge-pattern-dotted{stroke-dasharray:2;}#mermaid-svg .marker{fill:#333333;stroke:#333333;}#mermaid-svg .marker.cross{stroke:#333333;}#mermaid-svg svg{font-family:&quot;trebuchet ms&quot;,verdana,arial,sans-serif;font-size:16px;}#mermaid-svg p{margin:0;}#mermaid-svg .label{font-family:&quot;trebuchet ms&quot;,verdana,arial,sans-serif;color:#333;}#mermaid-svg .cluster-label text{fill:#333;}#mermaid-svg .cluster-label span{color:#333;}#mermaid-svg .cluster-label span p{background-color:transparent;}#mermaid-svg .label text,#mermaid-svg span{fill:#333;color:#333;}#mermaid-svg .node rect,#mermaid-svg .node circle,#mermaid-svg .node ellipse,#mermaid-svg .node polygon,#mermaid-svg .node path{fill:#ECECFF;stroke:#9370DB;stroke-width:1px;}#mermaid-svg .rough-node .label text,#mermaid-svg .node .label text,#mermaid-svg .image-shape .label,#mermaid-svg .icon-shape .label{text-anchor:middle;}#mermaid-svg .node .katex path{fill:#000;stroke:#000;stroke-width:1px;}#mermaid-svg .rough-node .label,#mermaid-svg .node .label,#mermaid-svg .image-shape .label,#mermaid-svg .icon-shape .label{text-align:center;}#mermaid-svg .node.clickable{cursor:pointer;}#mermaid-svg .root .anchor path{fill:#333333!important;stroke-width:0;stroke:#333333;}#mermaid-svg .arrowheadPath{fill:#333333;}#mermaid-svg .edgePath .path{stroke:#333333;stroke-width:2.0px;}#mermaid-svg .flowchart-link{stroke:#333333;fill:none;}#mermaid-svg .edgeLabel{background-color:rgba(232,232,232, 0.8);text-align:center;}#mermaid-svg .edgeLabel p{background-color:rgba(232,232,232, 0.8);}#mermaid-svg .edgeLabel rect{opacity:0.5;background-color:rgba(232,232,232, 0.8);fill:rgba(232,232,232, 0.8);}#mermaid-svg .labelBkg{background-color:rgba(232, 232, 232, 0.5);}#mermaid-svg .cluster rect{fill:#ffffde;stroke:#aaaa33;stroke-width:1px;}#mermaid-svg .cluster text{fill:#333;}#mermaid-svg .cluster span{color:#333;}#mermaid-svg div.mermaidTooltip{position:absolute;text-align:center;max-width:200px;padding:2px;font-family:&quot;trebuchet ms&quot;,verdana,arial,sans-serif;font-size:12px;background:hsl(80, 100%, 96.2745098039%);border:1px solid #aaaa33;border-radius:2px;pointer-events:none;z-index:100;}#mermaid-svg .flowchartTitleText{text-anchor:middle;font-size:18px;fill:#333;}#mermaid-svg rect.text{fill:none;stroke-width:0;}#mermaid-svg .icon-shape,#mermaid-svg .image-shape{background-color:rgba(232,232,232, 0.8);text-align:center;}#mermaid-svg .icon-shape p,#mermaid-svg .image-shape p{background-color:rgba(232,232,232, 0.8);padding:2px;}#mermaid-svg .icon-shape rect,#mermaid-svg .image-shape rect{opacity:0.5;background-color:rgba(232,232,232, 0.8);fill:rgba(232,232,232, 0.8);}#mermaid-svg :root{--mermaid-font-family:&quot;trebuchet ms&quot;,verdana,arial,sans-serif;}</style><g><marker id=\"mermaid-svg_flowchart-v2-pointEnd\" class=\"marker flowchart-v2\" viewBox=\"0 0 10 10\" refX=\"5\" refY=\"5\" markerUnits=\"userSpaceOnUse\" markerWidth=\"8\" markerHeight=\"8\" orient=\"auto\"><path d=\"M 0 0 L 10 5 L 0 10 z\" class=\"arrowMarkerPath\" style=\"stroke-width: 1; stroke-dasharray: 1, 0;\"/></marker><marker id=\"mermaid-svg_flowchart-v2-pointStart\" class=\"marker flowchart-v2\" viewBox=\"0 0 10 10\" refX=\"4.5\" refY=\"5\" markerUnits=\"userSpaceOnUse\" markerWidth=\"8\" markerHeight=\"8\" orient=\"auto\"><path d=\"M 0 5 L 10 10 L 10 0 z\" class=\"arrowMarkerPath\" style=\"stroke-width: 1; stroke-dasharray: 1, 0;\"/></marker><marker id=\"mermaid-svg_flowchart-v2-circleEnd\" class=\"marker flowchart-v2\" viewBox=\"0 0 10 10\" refX=\"11\" refY=\"5\" markerUnits=\"userSpaceOnUse\" markerWidth=\"11\" markerHeight=\"11\" orient=\"auto\"><circle cx=\"5\" cy=\"5\" r=\"5\" class=\"arrowMarkerPath\" style=\"stroke-width: 1; stroke-dasharray: 1, 0;\"/></marker><marker id=\"mermaid-svg_flowchart-v2-circleStart\" class=\"marker flowchart-v2\" viewBox=\"0 0 10 10\" refX=\"-1\" refY=\"5\" markerUnits=\"userSpaceOnUse\" markerWidth=\"11\" markerHeight=\"11\" orient=\"auto\"><circle cx=\"5\" cy=\"5\" r=\"5\" class=\"arrowMarkerPath\" style=\"stroke-width: 1; stroke-dasharray: 1, 0;\"/></marker><marker id=\"mermaid-svg_flowchart-v2-crossEnd\" class=\"marker cross flowchart-v2\" viewBox=\"0 0 11 11\" refX=\"12\" refY=\"5.2\" markerUnits=\"userSpaceOnUse\" markerWidth=\"11\" markerHeight=\"11\" orient=\"auto\"><path d=\"M 1,1 l 9,9 M 10,1 l -9,9\" class=\"arrowMarkerPath\" style=\"stroke-width: 2; stroke-dasharray: 1, 0;\"/></marker><marker id=\"mermaid-svg_flowchart-v2-crossStart\" class=\"marker cross flowchart-v2\" viewBox=\"0 0 11 11\" refX=\"-1\" refY=\"5.2\" markerUnits=\"userSpaceOnUse\" markerWidth=\"11\" markerHeight=\"11\" orient=\"auto\"><path d=\"M 1,1 l 9,9 M 10,1 l -9,9\" class=\"arrowMarkerPath\" style=\"stroke-width: 2; stroke-dasharray: 1, 0;\"/></marker><g class=\"root\"><g class=\"clusters\"/><g class=\"edgePaths\"><path d=\"M251.746,47L251.746,51.167C251.746,55.333,251.746,63.667,251.746,71.333C251.746,79,251.746,86,251.746,89.5L251.746,93\" id=\"L_A_B_0\" class=\" edge-thickness-normal edge-pattern-solid edge-thickness-normal edge-pattern-solid flowchart-link\" style=\"\" marker-end=\"url(#mermaid-svg_flowchart-v2-pointEnd)\"/><path d=\"M251.746,151L251.746,155.167C251.746,159.333,251.746,167.667,251.816,175.417C251.887,183.167,252.027,190.334,252.097,193.917L252.168,197.501\" id=\"L_B_C_0\" class=\" edge-thickness-normal edge-pattern-solid edge-thickness-normal edge-pattern-solid flowchart-link\" style=\"\" marker-end=\"url(#mermaid-svg_flowchart-v2-pointEnd)\"/><path d=\"M205.349,342.915L191.39,356.815C177.43,370.714,149.512,398.513,135.553,417.913C121.594,437.313,121.594,448.313,121.594,453.813L121.594,459.313\" id=\"L_C_D_0\" class=\" edge-thickness-normal edge-pattern-solid edge-thickness-normal edge-pattern-solid flowchart-link\" style=\"\" marker-end=\"url(#mermaid-svg_flowchart-v2-pointEnd)\"/><path d=\"M121.594,517.313L121.594,521.479C121.594,525.646,121.594,533.979,121.594,541.646C121.594,549.313,121.594,556.313,121.594,559.813L121.594,563.313\" id=\"L_D_E_0\" class=\" edge-thickness-normal edge-pattern-solid edge-thickness-normal edge-pattern-solid flowchart-link\" style=\"\" marker-end=\"url(#mermaid-svg_flowchart-v2-pointEnd)\"/><path d=\"M121.594,621.313L121.594,625.479C121.594,629.646,121.594,637.979,121.594,645.646C121.594,653.313,121.594,660.313,121.594,663.813L121.594,667.313\" id=\"L_E_F_0\" class=\" edge-thickness-normal edge-pattern-solid edge-thickness-normal edge-pattern-solid flowchart-link\" style=\"\" marker-end=\"url(#mermaid-svg_flowchart-v2-pointEnd)\"/><path d=\"M299.143,342.915L312.936,356.815C326.728,370.714,354.313,398.513,368.106,423.08C381.898,447.646,381.898,468.979,381.898,488.313C381.898,507.646,381.898,524.979,381.898,537.146C381.898,549.313,381.898,556.313,381.898,559.813L381.898,563.313\" id=\"L_C_G_0\" class=\" edge-thickness-normal edge-pattern-solid edge-thickness-normal edge-pattern-solid flowchart-link\" style=\"\" marker-end=\"url(#mermaid-svg_flowchart-v2-pointEnd)\"/><path d=\"M381.898,621.313L381.898,625.479C381.898,629.646,381.898,637.979,381.898,645.646C381.898,653.313,381.898,660.313,381.898,663.813L381.898,667.313\" id=\"L_G_H_0\" class=\" edge-thickness-normal edge-pattern-solid edge-thickness-normal edge-pattern-solid flowchart-link\" style=\"\" marker-end=\"url(#mermaid-svg_flowchart-v2-pointEnd)\"/><path d=\"M121.594,725.313L121.594,729.479C121.594,733.646,121.594,741.979,138.22,751.83C154.846,761.682,188.099,773.051,204.725,778.736L221.352,784.42\" id=\"L_F_I_0\" class=\" edge-thickness-normal edge-pattern-solid edge-thickness-normal edge-pattern-solid flowchart-link\" style=\"\" marker-end=\"url(#mermaid-svg_flowchart-v2-pointEnd)\"/><path d=\"M381.898,725.313L381.898,729.479C381.898,733.646,381.898,741.979,365.272,751.83C348.646,761.682,315.393,773.051,298.767,778.736L282.14,784.42\" id=\"L_H_I_0\" class=\" edge-thickness-normal edge-pattern-solid edge-thickness-normal edge-pattern-solid flowchart-link\" style=\"\" marker-end=\"url(#mermaid-svg_flowchart-v2-pointEnd)\"/></g><g class=\"edgeLabels\"><g class=\"edgeLabel\"><g class=\"label\" transform=\"translate(0, 0)\"><foreignObject width=\"0\" height=\"0\"><div xmlns=\"http://www.w3.org/1999/xhtml\" class=\"labelBkg\" style=\"display: table-cell; white-space: nowrap; line-height: 1.5; max-width: 200px; text-align: center;\"><span class=\"edgeLabel \"/></div></foreignObject></g></g><g class=\"edgeLabel\"><g class=\"label\" transform=\"translate(0, 0)\"><foreignObject width=\"0\" height=\"0\"><div xmlns=\"http://www.w3.org/1999/xhtml\" class=\"labelBkg\" style=\"display: table-cell; white-space: nowrap; line-height: 1.5; max-width: 200px; text-align: center;\"><span class=\"edgeLabel \"/></div></foreignObject></g></g><g class=\"edgeLabel\" transform=\"translate(121.59375, 426.3125)\"><g class=\"label\" transform=\"translate(-13.0546875, -12)\"><foreignObject width=\"26.109375\" height=\"24\"><div xmlns=\"http://www.w3.org/1999/xhtml\" class=\"labelBkg\" style=\"display: table-cell; white-space: nowrap; line-height: 1.5; max-width: 200px; text-align: center;\"><span class=\"edgeLabel \"><p>Yes</p></span></div></foreignObject></g></g><g class=\"edgeLabel\"><g class=\"label\" transform=\"translate(0, 0)\"><foreignObject width=\"0\" height=\"0\"><div xmlns=\"http://www.w3.org/1999/xhtml\" class=\"labelBkg\" style=\"display: table-cell; white-space: nowrap; line-height: 1.5; max-width: 200px; text-align: center;\"><span class=\"edgeLabel \"/></div></foreignObject></g></g><g class=\"edgeLabel\"><g class=\"label\" transform=\"translate(0, 0)\"><foreignObject width=\"0\" height=\"0\"><div xmlns=\"http://www.w3.org/1999/xhtml\" class=\"labelBkg\" style=\"display: table-cell; white-space: nowrap; line-height: 1.5; max-width: 200px; text-align: center;\"><span class=\"edgeLabel \"/></div></foreignObject></g></g><g class=\"edgeLabel\" transform=\"translate(381.8984375, 490.3125)\"><g class=\"label\" transform=\"translate(-10.2265625, -12)\"><foreignObject width=\"20.453125\" height=\"24\"><div xmlns=\"http://www.w3.org/1999/xhtml\" class=\"labelBkg\" style=\"display: table-cell; white-space: nowrap; line-height: 1.5; max-width: 200px; text-align: center;\"><span class=\"edgeLabel \"><p>No</p></span></div></foreignObject></g></g><g class=\"edgeLabel\"><g class=\"label\" transform=\"translate(0, 0)\"><foreignObject width=\"0\" height=\"0\"><div xmlns=\"http://www.w3.org/1999/xhtml\" class=\"labelBkg\" style=\"display: table-cell; white-space: nowrap; line-height: 1.5; max-width: 200px; text-align: center;\"><span class=\"edgeLabel \"/></div></foreignObject></g></g><g class=\"edgeLabel\"><g class=\"label\" transform=\"translate(0, 0)\"><foreignObject width=\"0\" height=\"0\"><div xmlns=\"http://www.w3.org/1999/xhtml\" class=\"labelBkg\" style=\"display: table-cell; white-space: nowrap; line-height: 1.5; max-width: 200px; text-align: center;\"><span class=\"edgeLabel \"/></div></foreignObject></g></g><g class=\"edgeLabel\"><g class=\"label\" transform=\"translate(0, 0)\"><foreignObject width=\"0\" height=\"0\"><div xmlns=\"http://www.w3.org/1999/xhtml\" class=\"labelBkg\" style=\"display: table-cell; white-space: nowrap; line-height: 1.5; max-width: 200px; text-align: center;\"><span class=\"edgeLabel \"/></div></foreignObject></g></g></g><g class=\"nodes\"><g class=\"node default  \" id=\"flowchart-A-0\" transform=\"translate(251.74609375, 27.5)\"><rect class=\"basic label-container\" style=\"\" rx=\"19.5\" ry=\"19.5\" x=\"-29.2734375\" y=\"-19.5\" width=\"58.546875\" height=\"39\"/><g class=\"label\" style=\"\" transform=\"translate(-16.8984375, -12)\"><rect/><foreignObject width=\"33.796875\" height=\"24\"><div xmlns=\"http://www.w3.org/1999/xhtml\" style=\"display: table-cell; white-space: nowrap; line-height: 1.5; max-width: 200px; text-align: center;\"><span class=\"nodeLabel \"><p>Start</p></span></div></foreignObject></g></g><g class=\"node default  \" id=\"flowchart-B-1\" transform=\"translate(251.74609375, 124)\"><rect class=\"basic label-container\" style=\"\" x=\"-116.7109375\" y=\"-27\" width=\"233.421875\" height=\"54\"/><g class=\"label\" style=\"\" transform=\"translate(-86.7109375, -12)\"><rect/><foreignObject width=\"173.421875\" height=\"24\"><div xmlns=\"http://www.w3.org/1999/xhtml\" style=\"display: table-cell; white-space: nowrap; line-height: 1.5; max-width: 200px; text-align: center;\"><span class=\"nodeLabel \"><p>Count citizen complaints</p></span></div></foreignObject></g></g><g class=\"node default  \" id=\"flowchart-C-3\" transform=\"translate(251.74609375, 295.15625)\"><polygon points=\"94.15625,0 188.3125,-94.15625 94.15625,-188.3125 0,-94.15625\" class=\"label-container\" transform=\"translate(-94.15625,94.15625)\"/><g class=\"label\" style=\"\" transform=\"translate(-67.15625, -12)\"><rect/><foreignObject width=\"134.3125\" height=\"24\"><div xmlns=\"http://www.w3.org/1999/xhtml\" style=\"display: table-cell; white-space: nowrap; line-height: 1.5; max-width: 200px; text-align: center;\"><span class=\"nodeLabel \"><p>Complaints &gt;= 10?</p></span></div></foreignObject></g></g><g class=\"node default  \" id=\"flowchart-D-5\" transform=\"translate(121.59375, 490.3125)\"><rect class=\"basic label-container\" style=\"\" x=\"-113.1640625\" y=\"-27\" width=\"226.328125\" height=\"54\"/><g class=\"label\" style=\"\" transform=\"translate(-83.1640625, -12)\"><rect/><foreignObject width=\"166.328125\" height=\"24\"><div xmlns=\"http://www.w3.org/1999/xhtml\" style=\"display: table-cell; white-space: nowrap; line-height: 1.5; max-width: 200px; text-align: center;\"><span class=\"nodeLabel \"><p>Schedule town meeting</p></span></div></foreignObject></g></g><g class=\"node default  \" id=\"flowchart-E-7\" transform=\"translate(121.59375, 594.3125)\"><rect class=\"basic label-container\" style=\"\" x=\"-113.59375\" y=\"-27\" width=\"227.1875\" height=\"54\"/><g class=\"label\" style=\"\" transform=\"translate(-83.59375, -12)\"><rect/><foreignObject width=\"167.1875\" height=\"24\"><div xmlns=\"http://www.w3.org/1999/xhtml\" style=\"display: table-cell; white-space: nowrap; line-height: 1.5; max-width: 200px; text-align: center;\"><span class=\"nodeLabel \"><p>Book community center</p></span></div></foreignObject></g></g><g class=\"node default  \" id=\"flowchart-F-9\" transform=\"translate(121.59375, 698.3125)\"><rect class=\"basic label-container\" style=\"\" x=\"-93.15625\" y=\"-27\" width=\"186.3125\" height=\"54\"/><g class=\"label\" style=\"\" transform=\"translate(-63.15625, -12)\"><rect/><foreignObject width=\"126.3125\" height=\"24\"><div xmlns=\"http://www.w3.org/1999/xhtml\" style=\"display: table-cell; white-space: nowrap; line-height: 1.5; max-width: 200px; text-align: center;\"><span class=\"nodeLabel \"><p>Send notifications</p></span></div></foreignObject></g></g><g class=\"node default  \" id=\"flowchart-G-11\" transform=\"translate(381.8984375, 594.3125)\"><rect class=\"basic label-container\" style=\"\" x=\"-96.7109375\" y=\"-27\" width=\"193.421875\" height=\"54\"/><g class=\"label\" style=\"\" transform=\"translate(-66.7109375, -12)\"><rect/><foreignObject width=\"133.421875\" height=\"24\"><div xmlns=\"http://www.w3.org/1999/xhtml\" style=\"display: table-cell; white-space: nowrap; line-height: 1.5; max-width: 200px; text-align: center;\"><span class=\"nodeLabel \"><p>Handle individually</p></span></div></foreignObject></g></g><g class=\"node default  \" id=\"flowchart-H-13\" transform=\"translate(381.8984375, 698.3125)\"><rect class=\"basic label-container\" style=\"\" x=\"-109.15625\" y=\"-27\" width=\"218.3125\" height=\"54\"/><g class=\"label\" style=\"\" transform=\"translate(-79.15625, -12)\"><rect/><foreignObject width=\"158.3125\" height=\"24\"><div xmlns=\"http://www.w3.org/1999/xhtml\" style=\"display: table-cell; white-space: nowrap; line-height: 1.5; max-width: 200px; text-align: center;\"><span class=\"nodeLabel \"><p>Send email responses</p></span></div></foreignObject></g></g><g class=\"node default  \" id=\"flowchart-I-15\" transform=\"translate(251.74609375, 794.8125)\"><rect class=\"basic label-container\" style=\"\" rx=\"19.5\" ry=\"19.5\" x=\"-26.609375\" y=\"-19.5\" width=\"53.21875\" height=\"39\"/><g class=\"label\" style=\"\" transform=\"translate(-14.234375, -12)\"><rect/><foreignObject width=\"28.46875\" height=\"24\"><div xmlns=\"http://www.w3.org/1999/xhtml\" style=\"display: table-cell; white-space: nowrap; line-height: 1.5; max-width: 200px; text-align: center;\"><span class=\"nodeLabel \"><p>End</p></span></div></foreignObject></g></g></g></g></g></svg>"
          },
          "metadata": {}
        }
      ]
    },
    {
      "cell_type": "markdown",
      "source": [
        "\n",
        "### How to Read This Flowchart:\n",
        "1. **Start** at the oval\n",
        "2. **Count complaints** (process box)\n",
        "3. **Decision**: Are there 10 or more complaints?\n",
        "   - **Yes path**: Schedule meeting → Book venue → Notify citizens\n",
        "   - **No path**: Handle individually → Send emails\n",
        "4. Both paths lead to **End**\n",
        "\n",
        "### Key Pattern:\n",
        "This is the visual representation of an if-else statement:\n",
        "- Diamond = if condition\n",
        "- Left branch = true (Yes)\n",
        "- Right branch = false (No)\n",
        "- Both branches eventually merge\n"
      ],
      "metadata": {
        "id": "P8mot7_8A1be"
      }
    },
    {
      "cell_type": "markdown",
      "source": [
        "## Problem \\#2: Complete the Flowchart for Park Permit Approval 📝\n",
        "\n",
        "The Parks Department needs a flowchart for their permit approval process. The Java code is complete, but the flowchart is missing some pieces!\n",
        "\n",
        "**The Code:**"
      ],
      "metadata": {
        "id": "fW3gkHo1CFZd"
      }
    },
    {
      "cell_type": "code",
      "source": [
        "%%writefile PermitApproval.java\n",
        "public class PermitApproval {\n",
        "  public static void main(String[] args) {\n",
        "      // Park permit application\n",
        "      String eventType = \"concert\";\n",
        "      int expectedAttendance = 150;\n",
        "      boolean hasInsurance = true;\n",
        "      double permitFee = 0;\n",
        "\n",
        "      System.out.println(\"Start permit application\");\n",
        "\n",
        "      // Check event size\n",
        "      if (expectedAttendance > 200) {\n",
        "          System.out.println(\"Large event - requires special review\");\n",
        "          permitFee = 500;\n",
        "      } else {\n",
        "          System.out.println(\"Standard event\");\n",
        "          permitFee = 100;\n",
        "      }\n",
        "\n",
        "      // Check insurance\n",
        "      if (!hasInsurance) {\n",
        "          System.out.println(\"DENIED - Insurance required\");\n",
        "      } else {\n",
        "          // Check event type\n",
        "          if (eventType.equals(\"concert\")) {\n",
        "              permitFee = permitFee + 50;  // Music fee\n",
        "          }\n",
        "          System.out.println(\"APPROVED - Fee: $\" + permitFee);\n",
        "      }\n",
        "\n",
        "      System.out.println(\"End application process\");\n",
        "  }\n",
        "}"
      ],
      "metadata": {
        "colab": {
          "base_uri": "https://localhost:8080/"
        },
        "id": "UTG-mu8gCUgz",
        "outputId": "72122093-890c-4b6c-bb09-c81bdd76aa5e"
      },
      "execution_count": null,
      "outputs": [
        {
          "output_type": "stream",
          "name": "stdout",
          "text": [
            "Writing PermitApproval.java\n"
          ]
        }
      ]
    },
    {
      "cell_type": "code",
      "source": [
        "!javac PermitApproval.java\n",
        "!java PermitApproval"
      ],
      "metadata": {
        "colab": {
          "base_uri": "https://localhost:8080/"
        },
        "id": "tEELDYIwCgWr",
        "outputId": "409e4a88-b785-4f9a-8bb3-c16fc4867cc0"
      },
      "execution_count": null,
      "outputs": [
        {
          "output_type": "stream",
          "name": "stdout",
          "text": [
            "Start permit application\n",
            "Standard event\n",
            "APPROVED - Fee: $150.0\n",
            "End application process\n"
          ]
        }
      ]
    },
    {
      "cell_type": "markdown",
      "source": [
        "### Incomplete Flowchart - FILL IN THE BLANKS:"
      ],
      "metadata": {
        "id": "sGR6iBWrCl-O"
      }
    },
    {
      "cell_type": "code",
      "source": [
        "mm(\"\"\"\n",
        "flowchart TD\n",
        "    A[Start permit application] --> B{Attendance > 200?}\n",
        "    B -->|Yes| C[Large event review]\n",
        "    C --> D[Fee = $500]\n",
        "    B -->|No| E[???]\n",
        "    E --> F[???]\n",
        "    D --> G{Has insurance?}\n",
        "    F --> G\n",
        "    G -->|No| H[???]\n",
        "    G -->|Yes| I{Event type = concert?}\n",
        "    I -->|Yes| J[???]\n",
        "    I -->|No| K[APPROVED - Show fee]\n",
        "    J --> L[???]\n",
        "    L --> M[End application process]\n",
        "    K --> M\n",
        "    H --> M\n",
        "\"\"\")"
      ],
      "metadata": {
        "id": "Y_f6AS-yCLqZ"
      },
      "execution_count": null,
      "outputs": []
    },
    {
      "cell_type": "markdown",
      "source": [
        "\n",
        "### Your Tasks:\n",
        "1. **Box E**: What process happens for non-large events?\n",
        "2. **Box F**: What's the fee for standard events?\n",
        "3. **Box H**: What happens when there's no insurance?\n",
        "4. **Box J**: What adjustment happens for concerts?\n",
        "5. **Box L**: What's the final step for concert approvals?\n",
        "\n",
        "### Hints:\n",
        "- Look at the Java code to see what should go in each box\n",
        "- Process boxes (rectangles) for actions\n",
        "- Make sure the flow matches the code logic\n",
        "- Remember: \"Standard event\" and \"Fee = $100\" are processes\n",
        "- \"DENIED - Insurance required\" is also a process"
      ],
      "metadata": {
        "id": "0mYcS5PUCHxK"
      }
    },
    {
      "cell_type": "markdown",
      "source": [
        "## Finding Things: Linear Search at the Parks Department 🔍\n",
        "\n",
        "**Linear search** is the simplest search algorithm - you check every item in a list one by one until you find what you're looking for (or reach the end). It's like looking through a filing cabinet drawer by drawer.\n",
        "\n",
        "### Real-World Example\n",
        "Imagine April (the intern) needs to find a specific permit application in a filing cabinet:\n",
        "1. Start at the first folder\n",
        "2. Check if it's the right one\n",
        "3. If yes → Found it! Stop searching\n",
        "4. If no → Move to the next folder\n",
        "5. Repeat until found or no more folders\n",
        "\n",
        "### Why \"Linear\"?\n",
        "It's called \"linear\" because you move in a straight line through the data - first item, second item, third item, etc.\n",
        "\n",
        "### Parks Department Uses:\n",
        "- Finding a specific park by name\n",
        "- Looking up an employee's phone number\n",
        "- Searching for a particular maintenance record\n",
        "- Checking if a date is already booked\n",
        "\n",
        "### The Basic Pattern:\n",
        "```java\n",
        "public static void main(String[] args) {\n",
        "    // Linear search example\n",
        "    String[] items = {\"item1\", \"item2\", \"item3\", \"item4\"};\n",
        "    String target = \"item3\";\n",
        "    boolean found = false;\n",
        "    \n",
        "    for (int i = 0; i < items.length; i++) {\n",
        "        if (items[i].equals(target)) {\n",
        "            found = true;\n",
        "            System.out.println(\"Found at position \" + i);\n",
        "            break;  // Stop searching\n",
        "        }\n",
        "    }\n",
        "    \n",
        "    if (!found) {\n",
        "        System.out.println(\"Not found\");\n",
        "    }\n",
        "}\n",
        "```\n",
        "\n",
        "### Key Characteristics:\n",
        "- ✅ **Simple**: Easy to understand and implement\n",
        "- ✅ **Works everywhere**: Doesn't require sorted data\n",
        "- ❌ **Can be slow**: Might check every single item\n",
        "- 📊 **Best case**: Find it immediately (first item)\n",
        "- 📊 **Worst case**: Check every item (last item or not there)"
      ],
      "metadata": {
        "id": "MAYAAYFFCwI-"
      }
    },
    {
      "cell_type": "markdown",
      "source": [
        "## Comparing Strings: Why We Use .equals() 🤝\n",
        "\n",
        "In our linear search example, you might have noticed we used `items[i].equals(target)` instead of `items[i] == target`. This is a crucial detail when working with `String`s in Java. Let's break down why.\n",
        "\n",
        "### A Quick Refresher: `=` vs `==`\n",
        "\n",
        "First, let's remember the basics.\n",
        "\n",
        "  * The single equals sign (`=`) is the **assignment operator**. It's used to put a value into a variable.\n",
        "      * `String employeeName = \"Ron Swanson\";`\n",
        "  * The double equals sign (`==`) is the **comparison operator**. For primitive types like `int` or `boolean`, it checks if two values are identical.\n",
        "      * `int num1 = 10;`\n",
        "      * `int num2 = 10;`\n",
        "      * `num1 == num2` would be `true`.\n",
        "\n",
        "-----\n",
        "\n",
        "### The `String` Exception: `==` vs `.equals()`\n",
        "\n",
        "So why can't we just use `==` for `String`s?\n",
        "\n",
        "When you use `==` with `String`s, you're asking, \"Are these two variables pointing to the **exact same object** in the computer's memory?\" This is like having two people point at the exact same filing cabinet.\n",
        "\n",
        "However, what we usually want to know is, \"Do these two `String`s contain the **exact same sequence of characters**?\" For this, we must use the `.equals()` method. This is like asking if two different filing cabinets contain identical files. They are separate objects, but their contents are the same.\n",
        "\n",
        "Because of how Java manages memory, using `==` to compare strings can sometimes work, but it can also fail unexpectedly, leading to tricky bugs.\n",
        "\n",
        "### The Golden Rule for Strings:\n",
        "\n",
        "  * ✅ **DO** use `.equals()` to check if the *content* of two strings is the same.\n",
        "    ```java\n",
        "    String park1 = \"Wamapoke Park\";\n",
        "    String park2 = \"Wamapoke Park\";\n",
        "    if (park1.equals(park2)) { // This is true and is the correct way.\n",
        "        System.out.println(\"The names match!\");\n",
        "    }\n",
        "    ```\n",
        "  * ❌ **DON'T** use `==` to compare string content. It might give you the wrong answer.\n",
        "    ```java\n",
        "    // This is unreliable and should be avoided!\n",
        "    if (park1 == park2) {\n",
        "        // ... this might be true or false depending on how Java stores the strings.\n",
        "    }\n",
        "    ```\n",
        "\n",
        "To keep your code reliable and bug-free, **always use `.equals()` when you need to compare two strings.**"
      ],
      "metadata": {
        "id": "6XlkAUaJnb44"
      }
    },
    {
      "cell_type": "markdown",
      "source": [
        "## Linear Search Basics: Checking Every Community Garden Plot 🌱\n",
        "\n",
        "Pawnee has 8 community garden plots, and Leslie needs to find which plot belongs to her best friend Ann Perkins. Let's see how linear search helps us check each plot systematically until we find the right one.\n",
        "\n",
        "### Visual Representation:\n",
        "```\n",
        "Plot #:     [0]    [1]    [2]    [3]    [4]    [5]    [6]    [7]\n",
        "Owner:    \"Jones\" \"Smith\" \"Patel\" \"Chen\" \"Perkins\" \"Lee\" \"Garcia\" \"Wilson\"\n",
        "Check:       ✓      ✓      ✓      ✓      ✓ Found!\n",
        "```\n",
        "### The Linear Search Algorithm:\n"
      ],
      "metadata": {
        "id": "C4pOBRkRC3vP"
      }
    },
    {
      "cell_type": "code",
      "source": [
        "%%writefile CommunityGarden.java\n",
        "public class CommunityGarden {\n",
        "  public static void main(String[] args) {\n",
        "      // Community garden plot owners\n",
        "      String[] plotOwners = {\"Jones\", \"Smith\", \"Patel\", \"Chen\",\n",
        "                            \"Perkins\", \"Lee\", \"Garcia\", \"Wilson\"};\n",
        "      String lookingFor = \"Perkins\";\n",
        "      int plotNumber = -1;  // -1 means \"not found yet\"\n",
        "\n",
        "      System.out.println(\"Searching for \" + lookingFor + \"'s garden plot...\");\n",
        "\n",
        "      // Linear search through all plots\n",
        "      for (int i = 0; i < plotOwners.length; i++) {\n",
        "          System.out.println(\"Checking plot \" + i + \": \" + plotOwners[i]);\n",
        "\n",
        "          if (plotOwners[i].equals(lookingFor)) {\n",
        "              plotNumber = i;\n",
        "              System.out.println(\"Found it!\");\n",
        "              break;  // Stop searching - we found it!\n",
        "          }\n",
        "      }\n",
        "\n",
        "      // Report results\n",
        "      if (plotNumber != -1) {\n",
        "          System.out.println(\"\\n\" + lookingFor + \" owns plot #\" + plotNumber);\n",
        "      } else {\n",
        "          System.out.println(\"\\n\" + lookingFor + \" doesn't have a plot\");\n",
        "      }\n",
        "  }\n",
        "}"
      ],
      "metadata": {
        "colab": {
          "base_uri": "https://localhost:8080/"
        },
        "id": "OqoKvHu1DANM",
        "outputId": "f2c356d2-6bfc-4985-d4ca-5841e95c25d9"
      },
      "execution_count": null,
      "outputs": [
        {
          "output_type": "stream",
          "name": "stdout",
          "text": [
            "Writing CommunityGarden.java\n"
          ]
        }
      ]
    },
    {
      "cell_type": "code",
      "source": [
        "!javac CommunityGarden.java\n",
        "!java CommunityGarden"
      ],
      "metadata": {
        "colab": {
          "base_uri": "https://localhost:8080/"
        },
        "id": "IV8LmqhDDM2G",
        "outputId": "50df8616-f3fb-4bd0-c35e-d2cc121d1004"
      },
      "execution_count": null,
      "outputs": [
        {
          "output_type": "stream",
          "name": "stdout",
          "text": [
            "Searching for Perkins's garden plot...\n",
            "Checking plot 0: Jones\n",
            "Checking plot 1: Smith\n",
            "Checking plot 2: Patel\n",
            "Checking plot 3: Chen\n",
            "Checking plot 4: Perkins\n",
            "Found it!\n",
            "\n",
            "Perkins owns plot #4\n"
          ]
        }
      ]
    },
    {
      "cell_type": "markdown",
      "source": [
        "### Key Points:\n",
        "1. **Start at index 0** (first element)\n",
        "2. **Check each element** against what we're looking for\n",
        "3. **Stop when found** (break statement)\n",
        "4. **Handle \"not found\"** case (check if still -1)\n",
        "\n",
        "### The Power of break:\n",
        "Without `break`, the search continues even after finding the target. The `break` statement makes it efficient by stopping as soon as we succeed!"
      ],
      "metadata": {
        "id": "JH-WwyjXC5q3"
      }
    },
    {
      "cell_type": "markdown",
      "source": [
        "# When Linear Search Works Best (and When It Doesn't) ⚖️\n",
        "\n",
        "Linear search is simple and reliable, but it's not always the best choice. Understanding when to use it (and when not to) is an important programming skill. Let's explore the trade-offs.\n",
        "\n",
        "### When Linear Search Shines ✅\n",
        "\n",
        "**1. Small Lists**\n",
        "- Searching through 10 park benches\n",
        "- Finding a name among 20 employees\n",
        "- The simplicity outweighs any speed concerns\n",
        "\n",
        "**2. Unsorted Data**\n",
        "- Random permit applications\n",
        "- Mixed equipment inventory\n",
        "- No way to use a \"smarter\" search\n",
        "\n",
        "**3. Finding First or All Matches**\n",
        "- \"Show me ALL parks with playgrounds\"\n",
        "- \"Find EVERY expired permit\"\n",
        "\n",
        "**4. One-Time Searches**\n",
        "- Not worth organizing data first\n",
        "- Quick checks and lookups\n",
        "\n",
        "### When Linear Search Struggles ❌\n",
        "\n",
        "**1. Large Data Sets**\n",
        "```java\n",
        "// Searching 10,000 items could be slow!\n",
        "String[] allCitizens = new String[10000];\n",
        "// Linear search might check all 10,000!\n",
        "```\n",
        "\n",
        "**2. Repeated Searches**\n",
        "- Looking up data many times\n",
        "- Better to organize it first\n",
        "\n",
        "**3. Sorted Data**\n",
        "- If data is alphabetical/numerical\n",
        "- More efficient methods exist\n",
        "\n",
        "### Performance Analysis\n",
        "\n",
        "**Best Case**: Find on first try! 🎯\n",
        "```java\n",
        "// Looking for \"Apple\" in [\"Apple\", \"Banana\", \"Cherry\"]\n",
        "// Found immediately at index 0!\n",
        "```\n",
        "\n",
        "**Average Case**: Find halfway through 📊\n",
        "```java\n",
        "// Looking for \"Banana\" in [\"Apple\", \"Banana\", \"Cherry\"]\n",
        "// Found after checking 2 items\n",
        "```\n",
        "\n",
        "**Worst Case**: Check everything 😮\n",
        "```java\n",
        "// Looking for \"Zebra\" in [\"Apple\", \"Banana\", \"Cherry\"]\n",
        "// Not found - had to check all 3!\n",
        "```\n",
        "\n",
        "### Rule of Thumb\n",
        "For Parks Department tasks, linear search is usually fine because:\n",
        "- Most lists are small (< 100 items)\n",
        "- Data isn't always sorted\n",
        "- Code simplicity matters\n",
        "\n",
        "### Real Example: Good Use Case\n",
        "```java\n",
        "// Finding today's scheduled events (usually < 20)\n",
        "String[] todaysEvents = {\"Yoga\", \"Concert\", \"Cleanup\", \"Meeting\"};\n",
        "// Linear search is perfect here!\n",
        "```"
      ],
      "metadata": {
        "id": "7zP1bKHsDq28"
      }
    },
    {
      "cell_type": "markdown",
      "source": [
        "## Problem #3: Find Leslie's Waffle Shop\n",
        "\n",
        "Leslie wants to find her favorite waffle shop in a list. Help her complete this linear search!\n",
        "\n",
        "**The Code**"
      ],
      "metadata": {
        "id": "bScHwjsXDvNA"
      }
    },
    {
      "cell_type": "code",
      "source": [
        "%%writefile WaffleSearch.java\n",
        "public class WaffleSearch {\n",
        "    public static void main(String[] args) {\n",
        "        String[] restaurants = {\"JJ's Diner\", \"Sweetums Factory\", \"Grain 'n Simple\", \"Paunch Burger\"};\n",
        "        String lookingFor = \"Grain 'n Simple\";\n",
        "        int position = -1;  // -1 means \"not found\"\n",
        "\n",
        "        System.out.println(\"Searching for \" + lookingFor + \"...\");\n",
        "\n",
        "        // TODO 1: Write a for loop to search through the restaurants array\n",
        "        // Check each restaurant name using .equals()\n",
        "        // If found, set position = i and use break to stop searching\n",
        "\n",
        "\n",
        "        // TODO 2: Display the result\n",
        "        // If position is still -1, print \"Restaurant not found\"\n",
        "        // Otherwise, print \"Found at position: \" + position\n",
        "\n",
        "    }\n",
        "}"
      ],
      "metadata": {
        "colab": {
          "base_uri": "https://localhost:8080/"
        },
        "id": "5XXKYozWECWZ",
        "outputId": "1efa44e4-846d-48ee-c67f-49d6a8ce4fb3"
      },
      "execution_count": null,
      "outputs": [
        {
          "output_type": "stream",
          "name": "stdout",
          "text": [
            "Writing WaffleSearch.java\n"
          ]
        }
      ]
    },
    {
      "cell_type": "code",
      "source": [
        "!javac WaffleSearch.java\n",
        "!java WaffleSearch"
      ],
      "metadata": {
        "id": "t2sRHLtsEI5A"
      },
      "execution_count": null,
      "outputs": []
    },
    {
      "cell_type": "markdown",
      "source": [
        "**Expected Output**\n",
        "```\n",
        "Searching for Grain 'n Simple...\n",
        "Checking: JJ's Diner\n",
        "Checking: Sweetums Factory\n",
        "Checking: Grain 'n Simple\n",
        "Found at position: 2\n",
        "```"
      ],
      "metadata": {
        "id": "Tuipa_p-D91W"
      }
    },
    {
      "cell_type": "markdown",
      "source": [
        "## Accumulators: Counting and Totaling Like Ben's Budget Spreadsheets 📊\n",
        "\n",
        "Ben Wyatt, the budget-minded analyst, loves tracking numbers. An **accumulator** is a variable that builds up a value over time - perfect for counting things, calculating totals, or finding extremes. Let's learn this essential pattern!\n",
        "\n",
        "### What is an Accumulator?\n",
        "A variable that:\n",
        "1. Starts at an initial value (often 0)\n",
        "2. Gets updated repeatedly in a loop\n",
        "3. Holds the final result after the loop\n",
        "\n",
        "### The Basic Pattern:\n",
        "```java\n",
        "// 1. Initialize accumulator\n",
        "int total = 0;\n",
        "\n",
        "// 2. Loop and update\n",
        "for (int i = 0; i < array.length; i++) {\n",
        "    total = total + array[i];  // Accumulate!\n",
        "}\n",
        "\n",
        "// 3. Use the result\n",
        "System.out.println(\"Total: \" + total);\n",
        "```\n",
        "\n",
        "### Common Accumulator Types:\n",
        "\n",
        "**1. Counter (How Many?)**\n",
        "```java\n",
        "int count = 0;  // Start at 0\n",
        "count = count + 1;  // Add 1 each time\n",
        "// or count++;\n",
        "```\n",
        "\n",
        "**2. Sum (Total Value?)**\n",
        "```java\n",
        "double sum = 0.0;  // Start at 0\n",
        "sum = sum + value;  // Add each value\n",
        "```\n",
        "\n",
        "**3. Maximum (Largest Value?)**\n",
        "```java\n",
        "int max = array[0];  // Start with first\n",
        "if (current > max) {\n",
        "    max = current;  // Update if bigger\n",
        "}\n",
        "```\n",
        "\n",
        "### Complete Working Example - Park Budget Calculator:\n"
      ],
      "metadata": {
        "id": "q9p4JXO9EUfT"
      }
    },
    {
      "cell_type": "code",
      "source": [
        "%%writefile BudgetCalculator.java\n",
        "public class BudgetCalculator {\n",
        "    public static void main(String[] args) {\n",
        "        // Monthly park maintenance costs\n",
        "        double[] monthlyCosts = {1200.50, 1350.00, 980.75, 1500.00,\n",
        "                                1675.25, 1450.50, 1225.00, 1380.00,\n",
        "                                1290.75, 1425.25, 1550.00, 1600.00};\n",
        "\n",
        "        // Accumulator variables\n",
        "        double totalCost = 0.0;\n",
        "        double highestMonth = monthlyCosts[0];\n",
        "        int expensiveMonths = 0;\n",
        "\n",
        "        System.out.println(\"=== BEN'S ANNUAL BUDGET ANALYSIS ===\\n\");\n",
        "\n",
        "        // Process each month\n",
        "        for (int i = 0; i < monthlyCosts.length; i++) {\n",
        "            // Accumulate total\n",
        "            totalCost = totalCost + monthlyCosts[i];\n",
        "\n",
        "            // Track maximum\n",
        "            if (monthlyCosts[i] > highestMonth) {\n",
        "                highestMonth = monthlyCosts[i];\n",
        "            }\n",
        "\n",
        "            // Count expensive months (over $1400)\n",
        "            if (monthlyCosts[i] > 1400) {\n",
        "                expensiveMonths++;\n",
        "            }\n",
        "\n",
        "            System.out.println(\"Month \" + (i+1) + \": $\" + monthlyCosts[i]);\n",
        "        }\n",
        "\n",
        "        // Calculate average (using our total)\n",
        "        double average = totalCost / monthlyCosts.length;\n",
        "\n",
        "        // Report results\n",
        "        System.out.println(\"\\n=== SUMMARY ===\");\n",
        "        System.out.println(\"Total Annual Cost: $\" + totalCost);\n",
        "        System.out.println(\"Average Monthly Cost: $\" + average);\n",
        "        System.out.println(\"Highest Monthly Cost: $\" + highestMonth);\n",
        "        System.out.println(\"Months over $1400: \" + expensiveMonths);\n",
        "\n",
        "        if (totalCost > 15000) {\n",
        "            System.out.println(\"\\nBen says: 'We need to find cost savings!'\");\n",
        "        } else {\n",
        "            System.out.println(\"\\nBen says: 'Budget is under control!'\");\n",
        "        }\n",
        "    }\n",
        "}\n"
      ],
      "metadata": {
        "colab": {
          "base_uri": "https://localhost:8080/"
        },
        "id": "8Pa-ovKGEcAH",
        "outputId": "2f1e5110-90c6-40ff-ee0c-f3ec383f6e8b"
      },
      "execution_count": null,
      "outputs": [
        {
          "output_type": "stream",
          "name": "stdout",
          "text": [
            "Writing BudgetCalculator.java\n"
          ]
        }
      ]
    },
    {
      "cell_type": "code",
      "source": [
        "!javac BudgetCalculator.java\n",
        "!java BudgetCalculator"
      ],
      "metadata": {
        "colab": {
          "base_uri": "https://localhost:8080/"
        },
        "id": "m3q-KcsPEg_n",
        "outputId": "5362ebe5-d50b-4bb4-fc11-945a98d9d8a2"
      },
      "execution_count": null,
      "outputs": [
        {
          "output_type": "stream",
          "name": "stdout",
          "text": [
            "=== BEN'S ANNUAL BUDGET ANALYSIS ===\n",
            "\n",
            "Month 1: $1200.5\n",
            "Month 2: $1350.0\n",
            "Month 3: $980.75\n",
            "Month 4: $1500.0\n",
            "Month 5: $1675.25\n",
            "Month 6: $1450.5\n",
            "Month 7: $1225.0\n",
            "Month 8: $1380.0\n",
            "Month 9: $1290.75\n",
            "Month 10: $1425.25\n",
            "Month 11: $1550.0\n",
            "Month 12: $1600.0\n",
            "\n",
            "=== SUMMARY ===\n",
            "Total Annual Cost: $16628.0\n",
            "Average Monthly Cost: $1385.6666666666667\n",
            "Highest Monthly Cost: $1675.25\n",
            "Months over $1400: 6\n",
            "\n",
            "Ben says: 'We need to find cost savings!'\n"
          ]
        }
      ]
    },
    {
      "cell_type": "markdown",
      "source": [
        "\n",
        "### Key Points:\n",
        "- Always initialize your accumulator before the loop\n",
        "- Update it inside the loop\n",
        "- Use it after the loop completes\n",
        "- Different problems need different accumulator types"
      ],
      "metadata": {
        "id": "G-3I4h4xEW1R"
      }
    },
    {
      "cell_type": "markdown",
      "source": [
        "## Pattern 1: Counting - How Many Waffles Did Leslie Eat? 🧇\n",
        "\n",
        "Leslie Knope LOVES waffles. She's been tracking her daily waffle consumption, and now wants to know some statistics. Let's use the counting pattern to analyze her waffle data!\n",
        "\n",
        "### The Counting Pattern:\n",
        "```java\n",
        "int counter = 0;  // Start at zero\n",
        "\n",
        "for (int i = 0; i < array.length; i++) {\n",
        "    if (/* some condition */) {\n",
        "        counter++;  // Increment by 1\n",
        "    }\n",
        "}\n",
        "```\n",
        "### Common Counting Patterns:\n",
        "\n",
        "**1. Count All:**\n",
        "```java\n",
        "int count = array.length;  // Just use length!\n",
        "```\n",
        "\n",
        "**2. Count Matching:**\n",
        "```java\n",
        "int count = 0;\n",
        "for (int i = 0; i < array.length; i++) {\n",
        "    if (array[i].equals(target)) {\n",
        "        count++;\n",
        "    }\n",
        "}\n",
        "```\n",
        "\n",
        "**3. Count in Range:**\n",
        "```java\n",
        "int count = 0;\n",
        "for (int i = 0; i < array.length; i++) {\n",
        "    if (array[i] >= min && array[i] <= max) {\n",
        "        count++;\n",
        "    }\n",
        "}\n",
        "```\n",
        "\n",
        "### Remember:\n",
        "- Start at 0\n",
        "- Add 1 for each item you want to count\n",
        "- Use conditions to count only specific items\n",
        "- The final value is your count!"
      ],
      "metadata": {
        "id": "ntqwwdCzE5cx"
      }
    },
    {
      "cell_type": "markdown",
      "source": [
        "## Pattern 2: Summing - Total Cost of Park Improvements 💰\n",
        "\n",
        "The Parks Department needs to calculate the total cost of various improvement projects. The summing pattern helps us add up all values in an array to get a total.\n",
        "\n",
        "### The Summing Pattern:\n",
        "```java\n",
        "double sum = 0.0;  // Start at zero\n",
        "\n",
        "for (int i = 0; i < array.length; i++) {\n",
        "    sum = sum + array[i];  // Add each value\n",
        "}\n",
        "```\n",
        "\n",
        "### Variations of Summing:\n",
        "\n",
        "**1. Simple Sum:**\n",
        "```java\n",
        "int sum = 0;\n",
        "for (int i = 0; i < numbers.length; i++) {\n",
        "    sum = sum + numbers[i];\n",
        "}\n",
        "```\n",
        "\n",
        "**2. Conditional Sum:**\n",
        "```java\n",
        "double sum = 0.0;\n",
        "for (int i = 0; i < values.length; i++) {\n",
        "    if (values[i] > 0) {  // Only positive\n",
        "        sum = sum + values[i];\n",
        "    }\n",
        "}\n",
        "```\n",
        "\n",
        "**3. Running Total (Show progress):**\n",
        "```java\n",
        "double runningTotal = 0.0;\n",
        "for (int i = 0; i < costs.length; i++) {\n",
        "    runningTotal = runningTotal + costs[i];\n",
        "    System.out.println(\"Total so far: $\" + runningTotal);\n",
        "}\n",
        "```\n",
        "\n",
        "### Key Points:\n",
        "- Initialize sum to 0 (or 0.0 for doubles)\n",
        "- Add each element to the sum\n",
        "- Can sum all or just items meeting a condition\n",
        "- Useful for totals, averages, and budget calculations"
      ],
      "metadata": {
        "id": "kIPjNm_2FEth"
      }
    },
    {
      "cell_type": "markdown",
      "source": [
        "## Pattern 3: Finding Maximum - Biggest Park in Pawnee 🏞️\n",
        "\n",
        "The Parks Department manages multiple parks of different sizes. Let's use the maximum-finding pattern to identify the largest park and gather related statistics.\n",
        "\n",
        "### The Maximum Pattern:\n",
        "```java\n",
        "double max = array[0];  // Start with first element\n",
        "\n",
        "for (int i = 1; i < array.length; i++) {  // Start at 1!\n",
        "    if (array[i] > max) {\n",
        "        max = array[i];  // Update if bigger\n",
        "    }\n",
        "}\n",
        "```\n",
        "\n",
        "### Common Maximum/Minimum Patterns:\n",
        "\n",
        "**1. Just the Value:**\n",
        "```java\n",
        "int max = numbers[0];\n",
        "for (int i = 1; i < numbers.length; i++) {\n",
        "    if (numbers[i] > max) {\n",
        "        max = numbers[i];\n",
        "    }\n",
        "}\n",
        "```\n",
        "\n",
        "**2. Value and Position:**\n",
        "```java\n",
        "int max = numbers[0];\n",
        "int maxIndex = 0;\n",
        "for (int i = 1; i < numbers.length; i++) {\n",
        "    if (numbers[i] > max) {\n",
        "        max = numbers[i];\n",
        "        maxIndex = i;\n",
        "    }\n",
        "}\n",
        "```\n",
        "\n",
        "**3. Multiple Criteria:**\n",
        "```java\n",
        "// Find park with best size-to-maintenance ratio\n",
        "double bestRatio = sizes[0] / costs[0];\n",
        "int bestIndex = 0;\n",
        "for (int i = 1; i < sizes.length; i++) {\n",
        "    double ratio = sizes[i] / costs[i];\n",
        "    if (ratio > bestRatio) {\n",
        "        bestRatio = ratio;\n",
        "        bestIndex = i;\n",
        "    }\n",
        "}\n",
        "```\n",
        "\n",
        "### Remember:\n",
        "- Start with the first element\n",
        "- Compare each element to current max/min\n",
        "- Update when you find a bigger/smaller value\n",
        "- Can track both value and index"
      ],
      "metadata": {
        "id": "SiVj-5qPFQLB"
      }
    },
    {
      "cell_type": "markdown",
      "source": [
        "## Problem #4: Count Park Visitors\n",
        "\n",
        "Help the Parks Department count visitors and calculate totals using accumulators!\n",
        "\n",
        "**The Code**"
      ],
      "metadata": {
        "id": "nN_cP1D4GQ8B"
      }
    },
    {
      "cell_type": "code",
      "source": [
        "%%writefile ParkVisitors.java\n",
        "public class ParkVisitors {\n",
        "    public static void main(String[] args) {\n",
        "        int[] dailyVisitors = {45, 60, 38, 72, 55, 80, 67};\n",
        "        String[] dayNames = {\"Mon\", \"Tue\", \"Wed\", \"Thu\", \"Fri\", \"Sat\", \"Sun\"};\n",
        "\n",
        "        // TODO 1: Initialize accumulator variables\n",
        "        // totalVisitors (sum of all visitors)\n",
        "        // busyDays (count of days with 60+ visitors)\n",
        "\n",
        "\n",
        "        System.out.println(\"=== DAILY VISITOR REPORT ===\");\n",
        "\n",
        "        // TODO 2: Loop through the arrays and:\n",
        "        // - Print each day and its visitor count\n",
        "        // - Add to totalVisitors\n",
        "        // - Count busy days (60+ visitors)\n",
        "\n",
        "\n",
        "        // TODO 3: Display results\n",
        "        // Print total visitors for the week\n",
        "        // Print number of busy days\n",
        "        // Calculate and print average visitors per day\n",
        "\n",
        "    }\n",
        "}"
      ],
      "metadata": {
        "colab": {
          "base_uri": "https://localhost:8080/"
        },
        "id": "hLcXuPPtGnul",
        "outputId": "4a97565c-b5eb-41a1-d440-9b80441a98d1"
      },
      "execution_count": null,
      "outputs": [
        {
          "output_type": "stream",
          "name": "stdout",
          "text": [
            "Writing ParkVisitors.java\n"
          ]
        }
      ]
    },
    {
      "cell_type": "code",
      "source": [
        "!javac ParkVisitors.java\n",
        "!java ParkVisitors"
      ],
      "metadata": {
        "id": "Dvgo9WdvGtJl"
      },
      "execution_count": null,
      "outputs": []
    },
    {
      "cell_type": "markdown",
      "source": [
        "**Expected Output**\n",
        "```\n",
        "=== DAILY VISITOR REPORT ===\n",
        "Mon: 45\n",
        "Tue: 60\n",
        "Wed: 38\n",
        "Thu: 72\n",
        "Fri: 55\n",
        "Sat: 80\n",
        "Sun: 67\n",
        "============================\n",
        "Total visitors this week: 417\n",
        "Number of busy days (60+ visitors): 4\n",
        "Average daily visitors: 59.57\n",
        "```"
      ],
      "metadata": {
        "id": "woehIuBnGik6"
      }
    },
    {
      "cell_type": "markdown",
      "source": [
        "## Introduction to Simple Functions: Code Reuse 🔄\n",
        "\n",
        "Imagine if Ron had to write out his burger recipe from scratch every single time. That would be inefficient! **Functions** (also called **methods**) let us write code once and use it many times. Let's start with the simplest possible functions.\n",
        "\n",
        "### The Problem: Repetitive Calculations\n",
        "```java\n",
        "public static void main(String[] args) {\n",
        "    // Calculating park fees repeatedly\n",
        "    double adult1 = 25.00;\n",
        "    double adult1Fee = adult1 * 0.10;  // 10% fee\n",
        "    System.out.println(\"Fee: $\" + adult1Fee);\n",
        "    \n",
        "    double adult2 = 30.00;\n",
        "    double adult2Fee = adult2 * 0.10;  // Same calculation!\n",
        "    System.out.println(\"Fee: $\" + adult2Fee);\n",
        "    \n",
        "    double adult3 = 45.00;\n",
        "    double adult3Fee = adult3 * 0.10;  // Again!\n",
        "    System.out.println(\"Fee: $\" + adult3Fee);\n",
        "}\n",
        "```\n",
        "\n",
        "### The Solution: A Simple Function!\n",
        "```java\n",
        "public class ParkFeeCalculator {\n",
        "    // Our first function! Takes one parameter, returns a value\n",
        "    public static double calculateParkFee(double amount) {\n",
        "        return amount * 0.10;\n",
        "    }\n",
        "    \n",
        "    public static void main(String[] args) {\n",
        "        // Now we can reuse our function!\n",
        "        double adult1 = 25.00;\n",
        "        double fee1 = calculateParkFee(adult1);\n",
        "        System.out.println(\"Fee: $\" + fee1);\n",
        "        \n",
        "        double adult2 = 30.00;\n",
        "        double fee2 = calculateParkFee(adult2);\n",
        "        System.out.println(\"Fee: $\" + fee2);\n",
        "        \n",
        "        double adult3 = 45.00;\n",
        "        double fee3 = calculateParkFee(adult3);\n",
        "        System.out.println(\"Fee: $\" + fee3);\n",
        "    }\n",
        "}\n",
        "```\n",
        "\n",
        "### Understanding Function Parts:\n",
        "```java\n",
        "public static double calculateParkFee(double amount) {\n",
        "    return amount * 0.10;\n",
        "}\n",
        "```\n",
        "\n",
        "1. **public static** - Required keywords for now (just copy them)\n",
        "2. **double** - What type of value the function returns\n",
        "3. **calculateParkFee** - The function name (you choose this)\n",
        "4. **(double amount)** - Parameter: what information goes IN\n",
        "5. **return** - Sends the result back\n",
        "\n",
        "### Complete Working Example:\n",
        "\n"
      ],
      "metadata": {
        "id": "-8HPKTp0ICGe"
      }
    },
    {
      "cell_type": "code",
      "source": [
        "%%writefile ParkGreeting.java\n",
        "public class ParkGreeting {\n",
        "    // Function that creates a greeting\n",
        "    public static String makeGreeting(String name) {\n",
        "        return \"Welcome to Pawnee Parks, \" + name + \"!\";\n",
        "    }\n",
        "\n",
        "    // Function that calculates age discount\n",
        "    public static double getDiscount(int age) {\n",
        "        if (age >= 65) {\n",
        "            return 0.50;  // 50% off for seniors\n",
        "        } else if (age <= 12) {\n",
        "            return 0.25;  // 25% off for kids\n",
        "        } else {\n",
        "            return 0.00;  // No discount\n",
        "        }\n",
        "    }\n",
        "\n",
        "    public static void main(String[] args) {\n",
        "        // Using our functions\n",
        "        String greeting1 = makeGreeting(\"Leslie\");\n",
        "        String greeting2 = makeGreeting(\"Ron\");\n",
        "        System.out.println(greeting1);\n",
        "        System.out.println(greeting2);\n",
        "\n",
        "        // Calculate discounts\n",
        "        double seniorDiscount = getDiscount(70);\n",
        "        double adultDiscount = getDiscount(35);\n",
        "        double childDiscount = getDiscount(8);\n",
        "\n",
        "        System.out.println(\"\\nDiscount rates:\");\n",
        "        System.out.println(\"Senior (70): \" + (seniorDiscount * 100) + \"%\");\n",
        "        System.out.println(\"Adult (35): \" + (adultDiscount * 100) + \"%\");\n",
        "        System.out.println(\"Child (8): \" + (childDiscount * 100) + \"%\");\n",
        "    }\n",
        "}\n"
      ],
      "metadata": {
        "colab": {
          "base_uri": "https://localhost:8080/"
        },
        "id": "gYF1K1RTIQdA",
        "outputId": "5862aae4-d26f-4117-9810-66246c1bdb3c"
      },
      "execution_count": null,
      "outputs": [
        {
          "output_type": "stream",
          "name": "stdout",
          "text": [
            "Writing ParkGreeting.java\n"
          ]
        }
      ]
    },
    {
      "cell_type": "code",
      "source": [
        "!javac ParkGreeting.java\n",
        "!java ParkGreeting"
      ],
      "metadata": {
        "colab": {
          "base_uri": "https://localhost:8080/"
        },
        "id": "oIfZIafZIWVn",
        "outputId": "5ec89ed4-6ba1-4c9d-a695-c3baba512dd4"
      },
      "execution_count": null,
      "outputs": [
        {
          "output_type": "stream",
          "name": "stdout",
          "text": [
            "Welcome to Pawnee Parks, Leslie!\n",
            "Welcome to Pawnee Parks, Ron!\n",
            "\n",
            "Discount rates:\n",
            "Senior (70): 50.0%\n",
            "Adult (35): 0.0%\n",
            "Child (8): 25.0%\n"
          ]
        }
      ]
    },
    {
      "cell_type": "markdown",
      "source": [
        "\n",
        "### Key Points:\n",
        "- Functions go OUTSIDE main but INSIDE the class\n",
        "- They can take one or more inputs (parameter)\n",
        "- They can return one output (which might be void)\n",
        "- Use them by calling: functionName(value)\n",
        "- The returned value can be stored in a variable"
      ],
      "metadata": {
        "id": "jqrgQgsVIIf-"
      }
    },
    {
      "cell_type": "markdown",
      "source": [
        "## Problem #5: Create Simple Functions\n",
        "\n",
        "The Parks Department needs reusable functions for common calculations. Help them write simple functions!\n",
        "\n",
        "**The Code:**"
      ],
      "metadata": {
        "id": "uUBu_Sy4Wij8"
      }
    },
    {
      "cell_type": "code",
      "source": [
        "\n",
        "%%writefile ParkFunctions.java\n",
        "public class ParkFunctions {\n",
        "\n",
        "    // TODO 1: Write a function called calculateEntryFee\n",
        "    // It should take an int age as a parameter\n",
        "    // Return 5.0 for adults (18+), 3.0 for kids, 0.0 for seniors (65+)\n",
        "\n",
        "\n",
        "    // TODO 2: Write a function called makeWelcomeMessage\n",
        "    // It should take a String name as a parameter\n",
        "    // Return \"Welcome to Pawnee Parks, \" + name + \"!\"\n",
        "\n",
        "\n",
        "    public static void main(String[] args) {\n",
        "        // TODO 3: Test your functions\n",
        "        // Calculate fees for ages 10, 25, and 70\n",
        "        // Create welcome messages for \"Leslie\" and \"Ron\"\n",
        "        // Print all the results\n",
        "\n",
        "    }\n",
        "}"
      ],
      "metadata": {
        "id": "srYkxhNPWgoO",
        "outputId": "e353225c-6cd0-4871-b75e-f6b3dae0a459",
        "colab": {
          "base_uri": "https://localhost:8080/"
        }
      },
      "execution_count": null,
      "outputs": [
        {
          "output_type": "stream",
          "name": "stdout",
          "text": [
            "Writing ParkFunctions.java\n"
          ]
        }
      ]
    },
    {
      "cell_type": "code",
      "source": [
        "!javac ParkFunctions.java\n",
        "!java ParkFunctions"
      ],
      "metadata": {
        "id": "sm1THJHAWptK"
      },
      "execution_count": null,
      "outputs": []
    },
    {
      "cell_type": "markdown",
      "source": [
        "**Expected Output**\n",
        "```\n",
        "Entry fee for age 10: $3.0\n",
        "Entry fee for age 25: $5.0\n",
        "Entry fee for age 70: $0.0\n",
        "\n",
        "Welcome to Pawnee Parks, Leslie!\n",
        "Welcome to Pawnee Parks, Ron!\n",
        "```"
      ],
      "metadata": {
        "id": "ZrmDH6HbWvNU"
      }
    },
    {
      "cell_type": "markdown",
      "source": [
        "## Review Game: Loop of the Recursive Dragon\n",
        "https://brendanpshea.github.io/LotRD/?set=java_03_algorithms.json\n"
      ],
      "metadata": {
        "id": "xLswh7TfBl0J"
      }
    },
    {
      "cell_type": "markdown",
      "source": [
        "## Code Jumbler: Chapter 3\n",
        "https://brendanpshea.github.io/code_jumbler/?problemSet=jumble_03.json"
      ],
      "metadata": {
        "id": "cwOHlieU5iT_"
      }
    },
    {
      "cell_type": "markdown",
      "source": [
        "## Glossary\n",
        "\n",
        "| Term | Definition |\n",
        "|------|------------|\n",
        "| algorithm | A step-by-step procedure for solving a problem or completing a task |\n",
        "| accumulator | A variable that builds up a value over time through repeated updates in a loop |\n",
        "| best case | The most favorable scenario for an algorithm's performance |\n",
        "| break | A control statement that immediately exits a loop or switch statement |\n",
        "| counter | A type of accumulator that counts occurrences by incrementing |\n",
        "| decision diamond | A flowchart symbol that represents a yes/no question or conditional branch |\n",
        "| effective | A property of algorithms meaning that they solve the intended problem correctly |\n",
        "| .equals() | A method used to compare the content of two strings for equality |\n",
        "| finite | A characteristic of algorithms guaranteeing that they end after a limited number of steps |\n",
        "| flow lines | Arrows in a flowchart that connect symbols and show the direction of program execution |\n",
        "| flowchart | A visual representation of an algorithm using shapes and arrows to show the flow of logic |\n",
        "| function | A reusable block of code that performs a specific task and can return a value |\n",
        "| linear search | A search algorithm that examines each element in a list sequentially until finding the target. |\n",
        "| mermaid | A tool for creating flowcharts and diagrams using text-based syntax |\n",
        "| method | Another term for a function in Java - a named block of code that can be called to perform a task |\n",
        "| parameter | A variable that receives input values when a function is called |\n",
        "| process box | A rectangular flowchart symbol that represents an action, calculation, or assignment |\n",
        "| public static | Required keywords for methods that can be called from the main method without creating objects |\n",
        "| return | A statement that sends a value back from a function to the calling code |\n",
        "| running total | A type of accumulator that maintains the sum of values processed so far |\n",
        "| search algorithm | A systematic method for finding specific items in a collection of data |\n",
        "| oval | The flowchart symbol that marks the beginning and ending points of an algorithm |\n",
        "| target | The specific value or item being searched for in a search algorithm |\n",
        "| unambiguous | A property meaning clear, precise steps that leave no room for interpretation |\n",
        "| worst case | The least favorable scenario for an algorithm's performance |"
      ],
      "metadata": {
        "id": "2Uo7Twt1oxjF"
      }
    },
    {
      "cell_type": "code",
      "source": [],
      "metadata": {
        "id": "nOh7qkkopphV"
      },
      "execution_count": null,
      "outputs": []
    }
  ]
}