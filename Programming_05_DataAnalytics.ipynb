{
  "nbformat": 4,
  "nbformat_minor": 0,
  "metadata": {
    "colab": {
      "provenance": [],
      "authorship_tag": "ABX9TyMcSDHdcjuwAc1OKBoNYKxF",
      "include_colab_link": true
    },
    "kernelspec": {
      "name": "python3",
      "display_name": "Python 3"
    },
    "language_info": {
      "name": "python"
    }
  },
  "cells": [
    {
      "cell_type": "markdown",
      "metadata": {
        "id": "view-in-github",
        "colab_type": "text"
      },
      "source": [
        "<a href=\"https://colab.research.google.com/github/brendanpshea/programming_problem_solving/blob/main/Programming_05_DataAnalytics.ipynb\" target=\"_parent\"><img src=\"https://colab.research.google.com/assets/colab-badge.svg\" alt=\"Open In Colab\"/></a>"
      ]
    },
    {
      "cell_type": "markdown",
      "source": [
        "# Pandas and Pokemon: Basic Data Analytics With Python\n",
        "### Brendan Shea, PhD\n",
        "\n",
        "**Data Analytics** refers to the process of examining, cleaning, transforming, and modeling data with the aim of discovering useful information, informing conclusions, and supporting decision-making. It involves using statistical, computational, and machine learning techniques to analyze and interpret complex data sets, enabling individuals and organizations to make more informed decisions.\n",
        "\n",
        "Data Analytics is a broad field that spans many domains, encompassing everything from business intelligence and big data analytics to specialized fields like web analytics and social media analytics. At its core, data analytics is about uncovering patterns and extracting meaningful insights from raw data. This process can range from simple descriptive statistics, which describe and summarize data, to more complex predictive and prescriptive analytics, which forecast future trends and prescribe actions.\n",
        "\n",
        "To put this into perspective, imagine you're playing a video game where you need to build a team of characters, each with their own set of skills and attributes. Data analytics in this context would involve examining the data on each character -- like their health points, attack strength, defense abilities, etc. -- to determine the most balanced and effective team composition. You would analyze past performance data, predict future outcomes in different scenarios, and make decisions on which characters to choose to maximize your chances of success.\n",
        "\n",
        "In the real world, data analytics is used in a myriad of ways, from businesses analyzing customer data to improve their products and services, to healthcare providers using patient data to make better diagnostic and treatment decisions. In the educational sector, data analytics can help in understanding student performance and improving teaching methods."
      ],
      "metadata": {
        "id": "4B5o_YUUV9Dk"
      }
    }
  ]
}