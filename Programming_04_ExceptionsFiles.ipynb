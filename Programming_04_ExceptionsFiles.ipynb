{
  "nbformat": 4,
  "nbformat_minor": 0,
  "metadata": {
    "colab": {
      "provenance": [],
      "authorship_tag": "ABX9TyPUAj78FmG+Z1jT1WI4pQ0T",
      "include_colab_link": true
    },
    "kernelspec": {
      "name": "python3",
      "display_name": "Python 3"
    },
    "language_info": {
      "name": "python"
    }
  },
  "cells": [
    {
      "cell_type": "markdown",
      "metadata": {
        "id": "view-in-github",
        "colab_type": "text"
      },
      "source": [
        "<a href=\"https://colab.research.google.com/github/brendanpshea/programming_problem_solving/blob/main/Programming_04_ExceptionsFiles.ipynb\" target=\"_parent\"><img src=\"https://colab.research.google.com/assets/colab-badge.svg\" alt=\"Open In Colab\"/></a>"
      ]
    },
    {
      "cell_type": "markdown",
      "source": [
        "## What are Exceptions?\n",
        "**Exceptions** are events that occur during the execution of a program, which disrupt the normal flow of the program's instructions. In most programming languages, exceptions are handled by a specific construct, often known as try-catch blocks, that allows the program to respond to these events without crashing.\n",
        "\n",
        "When a program is running, it follows a set of instructions to perform its tasks. However, during execution, various unexpected situations can arise—such as a file not being found, a network resource being unavailable, or invalid user input being provided. These situations are referred to as exceptions because they are exceptions to the expected behavior of the program.\n",
        "\n",
        "To ensure that a program can handle these situations gracefully, programming languages provide a mechanism to 'catch' these exceptions. This involves writing a segment of code that specifies what the program should do if a particular type of exception occurs. For instance, if a program tries to open a file that does not exist, instead of crashing, it can catch this exception and inform the user about the issue or attempt to open a different file.\n",
        "\n",
        "For example, imagine a game where players can load custom levels from files. If a player tries to load a level from a file that has been corrupted or is in an incorrect format, an exception might occur. Instead of the game crashing, the exception handling mechanism can catch this error and display a message to the player saying, \"The level file is corrupted or in an incorrect format. Please choose a different file.\" This approach enhances the user experience by providing clear feedback and preventing the game from abruptly stopping due to an error."
      ],
      "metadata": {
        "id": "rnxz9ajRSJqk"
      }
    },
    {
      "cell_type": "markdown",
      "source": [
        "## What are Some Examples of Exceptions?\n",
        "\n",
        "Some common types of exceptions include the following:\n",
        "\n",
        "- **Null Pointer Exception.** This is a common exception that occurs when you try to use a reference that points to no location in memory (null) as though it were referencing an object. For example, in a scientific calculator program, if there's a function designed to calculate the square root of a number, and it mistakenly receives a null reference instead of an actual number, a Null Pointer Exception would occur. The proper handling of this exception could involve displaying a user-friendly error message, like \"Input error: please enter a valid number,\" instead of allowing the program to crash.\n",
        "\n",
        " In Python, this typically referred to as `TypeError` or `AttributeError`, depending on the context:"
      ],
      "metadata": {
        "id": "S8TtitHgn8GD"
      }
    },
    {
      "cell_type": "code",
      "source": [
        "# Trying to call a method on a None object\n",
        "my_object = None\n",
        "length = len(my_object)  # This will raise a TypeError"
      ],
      "metadata": {
        "colab": {
          "base_uri": "https://localhost:8080/",
          "height": 210
        },
        "id": "jV_k6WpYSQpH",
        "outputId": "d755585c-ce7f-41b6-a373-9b88f9d981bb"
      },
      "execution_count": 1,
      "outputs": [
        {
          "output_type": "error",
          "ename": "TypeError",
          "evalue": "object of type 'NoneType' has no len()",
          "traceback": [
            "\u001b[0;31m---------------------------------------------------------------------------\u001b[0m",
            "\u001b[0;31mTypeError\u001b[0m                                 Traceback (most recent call last)",
            "\u001b[0;32m<ipython-input-1-b054af29a125>\u001b[0m in \u001b[0;36m<cell line: 3>\u001b[0;34m()\u001b[0m\n\u001b[1;32m      1\u001b[0m \u001b[0;31m# Trying to call a method on a None object\u001b[0m\u001b[0;34m\u001b[0m\u001b[0;34m\u001b[0m\u001b[0m\n\u001b[1;32m      2\u001b[0m \u001b[0mmy_object\u001b[0m \u001b[0;34m=\u001b[0m \u001b[0;32mNone\u001b[0m\u001b[0;34m\u001b[0m\u001b[0;34m\u001b[0m\u001b[0m\n\u001b[0;32m----> 3\u001b[0;31m \u001b[0mlength\u001b[0m \u001b[0;34m=\u001b[0m \u001b[0mlen\u001b[0m\u001b[0;34m(\u001b[0m\u001b[0mmy_object\u001b[0m\u001b[0;34m)\u001b[0m  \u001b[0;31m# This will raise a TypeError\u001b[0m\u001b[0;34m\u001b[0m\u001b[0;34m\u001b[0m\u001b[0m\n\u001b[0m",
            "\u001b[0;31mTypeError\u001b[0m: object of type 'NoneType' has no len()"
          ]
        }
      ]
    },
    {
      "cell_type": "markdown",
      "source": [
        "\n",
        "- **Index Out of Bounds Exception.** This exception happens when trying to access an element of an array, or a list, with an index that is outside the range of permissible values. Imagine a video game inventory system where players have a list of items they can use. If the game's code mistakenly tries to access an item at a position that doesn't exist in the inventory array (like the 11th item in a 10-item inventory), an Index Out of Bounds Exception would be thrown. Handling this exception could mean preventing the access and showing a message like \"Item not found in inventory,\" thereby avoiding a game crash and providing feedback to the player.\n",
        "\n",
        "In Python, these are called `IndexError`."
      ],
      "metadata": {
        "id": "xO6d-M6mpLFc"
      }
    },
    {
      "cell_type": "code",
      "source": [
        "# Accessing an out-of-range index in a list\n",
        "inventory = ['sword', 'shield', 'potion']\n",
        "item = inventory[3]  # IndexError, as the index 3 does not exist in a 3-item list\n"
      ],
      "metadata": {
        "colab": {
          "base_uri": "https://localhost:8080/",
          "height": 210
        },
        "id": "aV4vqLvApgT9",
        "outputId": "dee8f0d8-ea22-41c4-de5d-3295c1d01fd0"
      },
      "execution_count": 2,
      "outputs": [
        {
          "output_type": "error",
          "ename": "IndexError",
          "evalue": "list index out of range",
          "traceback": [
            "\u001b[0;31m---------------------------------------------------------------------------\u001b[0m",
            "\u001b[0;31mIndexError\u001b[0m                                Traceback (most recent call last)",
            "\u001b[0;32m<ipython-input-2-2a2c7f2f342c>\u001b[0m in \u001b[0;36m<cell line: 3>\u001b[0;34m()\u001b[0m\n\u001b[1;32m      1\u001b[0m \u001b[0;31m# Accessing an out-of-range index in a list\u001b[0m\u001b[0;34m\u001b[0m\u001b[0;34m\u001b[0m\u001b[0m\n\u001b[1;32m      2\u001b[0m \u001b[0minventory\u001b[0m \u001b[0;34m=\u001b[0m \u001b[0;34m[\u001b[0m\u001b[0;34m'sword'\u001b[0m\u001b[0;34m,\u001b[0m \u001b[0;34m'shield'\u001b[0m\u001b[0;34m,\u001b[0m \u001b[0;34m'potion'\u001b[0m\u001b[0;34m]\u001b[0m\u001b[0;34m\u001b[0m\u001b[0;34m\u001b[0m\u001b[0m\n\u001b[0;32m----> 3\u001b[0;31m \u001b[0mitem\u001b[0m \u001b[0;34m=\u001b[0m \u001b[0minventory\u001b[0m\u001b[0;34m[\u001b[0m\u001b[0;36m3\u001b[0m\u001b[0;34m]\u001b[0m  \u001b[0;31m# IndexError, as the index 3 does not exist in a 3-item list\u001b[0m\u001b[0;34m\u001b[0m\u001b[0;34m\u001b[0m\u001b[0m\n\u001b[0m",
            "\u001b[0;31mIndexError\u001b[0m: list index out of range"
          ]
        }
      ]
    },
    {
      "cell_type": "markdown",
      "source": [
        "\n",
        "- **Division by Zero Exception.** This exception occurs when a program attempts to divide a number by zero. In a financial application, for instance, if there's a function to calculate the average value of a stock over a certain number of days, and the number of days inputted is zero, attempting this division would result in a Division by Zero Exception. A good exception handling strategy here would be to check for a zero divisor before performing the division and then alerting the user with a message like \"Cannot calculate average: number of days cannot be zero,\" which would prevent the application from failing and guide the user to correct their input."
      ],
      "metadata": {
        "id": "86u063n8pNtP"
      }
    },
    {
      "cell_type": "code",
      "source": [
        "# Dividing a number by zero\n",
        "numerator = 52179\n",
        "denominator = 0\n",
        "result = numerator / denominator  # This will raise a ZeroDivisionError"
      ],
      "metadata": {
        "colab": {
          "base_uri": "https://localhost:8080/",
          "height": 210
        },
        "id": "mIUYE9kcp5WC",
        "outputId": "aef82ffb-fb02-44c3-e45c-e39d77d67e29"
      },
      "execution_count": 5,
      "outputs": [
        {
          "output_type": "error",
          "ename": "ZeroDivisionError",
          "evalue": "division by zero",
          "traceback": [
            "\u001b[0;31m---------------------------------------------------------------------------\u001b[0m",
            "\u001b[0;31mZeroDivisionError\u001b[0m                         Traceback (most recent call last)",
            "\u001b[0;32m<ipython-input-5-f9cd19ade82a>\u001b[0m in \u001b[0;36m<cell line: 4>\u001b[0;34m()\u001b[0m\n\u001b[1;32m      2\u001b[0m \u001b[0mnumerator\u001b[0m \u001b[0;34m=\u001b[0m \u001b[0;36m52179\u001b[0m\u001b[0;34m\u001b[0m\u001b[0;34m\u001b[0m\u001b[0m\n\u001b[1;32m      3\u001b[0m \u001b[0mdenominator\u001b[0m \u001b[0;34m=\u001b[0m \u001b[0;36m0\u001b[0m\u001b[0;34m\u001b[0m\u001b[0;34m\u001b[0m\u001b[0m\n\u001b[0;32m----> 4\u001b[0;31m \u001b[0mresult\u001b[0m \u001b[0;34m=\u001b[0m \u001b[0mnumerator\u001b[0m \u001b[0;34m/\u001b[0m \u001b[0mdenominator\u001b[0m  \u001b[0;31m# This will raise a ZeroDivisionError\u001b[0m\u001b[0;34m\u001b[0m\u001b[0;34m\u001b[0m\u001b[0m\n\u001b[0m",
            "\u001b[0;31mZeroDivisionError\u001b[0m: division by zero"
          ]
        }
      ]
    },
    {
      "cell_type": "markdown",
      "source": [
        "## Table: Some Exceptions in Python\n",
        "While there are many types of exceptions in Python, here are a few of the most important:\n",
        "\n",
        "| Exception | Definition & Example |\n",
        "| --- | --- |\n",
        "| Exception | The base class for all built-in exceptions. For example, custom exceptions should inherit from this class. |\n",
        "| RuntimeError | Raised when an error is detected that doesn't fall in any of the other categories. For example, this might occur in a recursive function with no exit condition. |\n",
        "| ValueError | Raised when a built-in operation or function receives an argument that has the right type but an inappropriate value. For example, calling `int('a')` where 'a' cannot be converted to an integer. |\n",
        "| ImportError | Raised when the import statement has troubles trying to load a module. For example, attempting to `import nonExistentModule` would raise this error. |\n",
        "| NameError | Raised when a local or global name is not found. For example, referencing a variable that has not been defined. |\n",
        "| IOError | Raised when an I/O operation (such as a print statement, the built-in `open()` function or a method of a file object) fails for an I/O-related reason. For example, trying to open a file that does not exist. |\n",
        "| SyntaxError | Raised when the parser encounters a syntax error. For example, missing a colon at the end of an `if` statement. |\n",
        "| TypeError | Raised when an operation or function is applied to an object of inappropriate type. For example, adding a string and an integer together. |\n",
        "| KeyError | Raised when a dictionary key is not found. For example, accessing `dict['nonExistentKey']` in a dictionary where 'nonExistentKey' does not exist. |"
      ],
      "metadata": {
        "id": "GJKV8XmErrgj"
      }
    },
    {
      "cell_type": "markdown",
      "source": [
        "## Why is Exception Handling Important?\n",
        "**Exception Handling** is crucial in programming as it helps in managing errors that occur during the execution of a program, thus preventing program crashes and ensuring the software's integrity and reliability. By properly handling exceptions, programmers can define alternative ways to deal with errors, keeping the program running smoothly and providing a better user experience.\n",
        "\n",
        "Imagine Tom from \"Tom and Jerry\" is learning to program. He writes a mouse-catching game, but he forgets to handle exceptions. In his game, Jerry must collect cheese pieces distributed randomly. Tom writes a function to calculate the distance between Jerry and the nearest cheese piece. However, when Jerry eats all the cheese, Tom's function tries to find the nearest cheese piece that no longer exists, leading to an exception. Without exception handling, the game crashes, and all that Tom sees is a bewildering error message instead of his game. If Tom had used exception handling, he could have displayed a witty message like \"Jerry has eaten all the cheese! Game Over!\" and gracefully ended the game or reset the cheese pieces.\n",
        "\n",
        "Now, consider SpongeBob writing a program for managing Krabby Patty orders at the Krusty Krab. He writes a feature to divide the total day's earnings by the number of patties sold to find out the average earning per patty. However, on a day when no patties are sold (perhaps because Plankton was up to some mischief), the program tries to divide by zero, causing an exception. Instead of crashing, with proper exception handling, SpongeBob's program could display a humorous message like \"No patties sold today! Even Squidward couldn't mess this up!\" and avoid performing the division, thus maintaining the integrity of the Krusty Krab's financial software.\n",
        "\n",
        "In both these cases, exception handling plays a pivotal role. It not only prevents the program from crashing but also offers a way to inform the user about what went wrong in a more friendly and less technical manner. This approach improves the reliability and user experience of the software, making it robust against unforeseen scenarios. Without exception handling, any unexpected input or scenario could easily crash a program, leading to data loss, security issues, or just a poor user experience. By anticipating and planning for possible exceptions, developers like Tom and SpongeBob can make their software more resilient and user-friendly."
      ],
      "metadata": {
        "id": "bi9Rjmc4qqic"
      }
    },
    {
      "cell_type": "markdown",
      "source": [
        "## What are Try and Catch Blocks?\n",
        "**Try blocks** and **catch blocks** are fundamental components in many programming languages for handling exceptions, which are unusual or unexpected events that disrupt the normal flow of a program. These blocks allow a program to attempt to execute a section of code (the \"try\" block) and specify a response if an exception occurs (the \"catch\" block).\n",
        "\n",
        "So, for example, imagine Scooby Doo and the gang are in a haunted mansion, trying to uncover clues. Scooby, on the hunt for a snack, ventures into a dark room to search for clues (this is like the \"try\" block where potentially risky actions are attempted). There's always a chance something could go wrong – maybe a hidden trapdoor opens beneath him.\n",
        "\n",
        "The \"catch\" block is like Velma  waiting with a safety net. If Scooby falls through a trapdoor (an exception occurs), Velma catches him (the catch block handles the exception). This prevents Scooby from getting hurt (the program crashing). But if Scooby doesn’t fall and successfully finds a clue, he carries on without needing the safety net (the program runs smoothly without triggering the catch block).\n",
        "\n",
        "In a program, the try block is where you put code that might cause an error, like reading a file or querying a database. The catch block is where you define what to do if an error occurs in the try block. It's a way of saying, \"I think this part might cause a problem, so here’s how I’ll handle it if it does.\" This mechanism ensures that even when things go wrong, the program can respond appropriately – like displaying an error message or attempting a different approach – instead of abruptly stopping or behaving unpredictably."
      ],
      "metadata": {
        "id": "pDSRxUthpLtA"
      }
    },
    {
      "cell_type": "markdown",
      "source": [
        "## Example: Scooby's Secret Message\n",
        " Let's create a Scooby-Doo themed Python script to illustrate the use of try and catch blocks. In this script, Scooby-Doo and the gang are trying to solve a mystery by decoding a secret message. However, there's a chance that the decoding process might go wrong, so we'll use try and catch blocks to handle any potential errors."
      ],
      "metadata": {
        "id": "5WfUuiTmuROY"
      }
    },
    {
      "cell_type": "code",
      "source": [
        "def decode_secret_message(message):\n",
        "    # A simple (fictional) function to decode a message\n",
        "    if message == \"Ruh-roh!\":\n",
        "        raise ValueError(\"Scooby got scared and ran away!\")\n",
        "    return message[::-1]  # Reverses the message for fun\n",
        "\n",
        "# Main program\n",
        "try:\n",
        "    secret_message = input(\"Enter the secret message: \")\n",
        "    decoded_message = decode_secret_message(secret_message)\n",
        "    print(f\"Decoded message: {decoded_message}\")\n",
        "\n",
        "except ValueError as e:\n",
        "    # Catch block for handling specific errors\n",
        "    print(f\"Oops! {e}\")\n",
        "\n",
        "finally:\n",
        "    # This block will always execute, regardless of whether an exception occurred\n",
        "    print(\"Scooby and the gang are on to the next clue!\")\n",
        "\n",
        "print(\"Mystery solving continues...\")\n"
      ],
      "metadata": {
        "colab": {
          "base_uri": "https://localhost:8080/"
        },
        "id": "6S-5BPb1uYRH",
        "outputId": "9298d823-a3cc-4611-8442-3d41d854e3f8"
      },
      "execution_count": 9,
      "outputs": [
        {
          "output_type": "stream",
          "name": "stdout",
          "text": [
            "Enter the secret message: Ruh-roh!\n",
            "Oops! Scooby got scared and ran away!\n",
            "Scooby and the gang are on to the next clue!\n",
            "Mystery solving continues...\n"
          ]
        }
      ]
    },
    {
      "cell_type": "markdown",
      "source": [
        "In this script:\n",
        "\n",
        "-   The `decode_secret_message` function attempts to decode a message. If the message is \"Ruh-roh!\", it simulates an error by raising a `ValueError` (representing Scooby getting scared and running away).\n",
        "-   The `try` block calls this function with the user's input. If the function runs without issues, it prints the decoded message.\n",
        "-   The `except ValueError as e` block catches and handles the specific error where Scooby gets scared, printing a custom error message.\n",
        "-   The `finally` block is a special block that runs no matter what, representing Scooby and the gang moving on to their next adventure, regardless of whether they encountered an error.\n",
        "-   After handling any potential errors, the program continues, as indicated by the final print statement."
      ],
      "metadata": {
        "id": "yu7G6PKBusal"
      }
    },
    {
      "cell_type": "markdown",
      "source": [
        "## Tutorial: When, Why, and How to Write Try-Catch-Finally Blocks\n",
        "\n",
        "### When to Use Try-Catch-Finally Blocks\n",
        "\n",
        "-   Try-Catch-Finally blocks are used when you have code that might throw an exception, and you want to handle that exception in a specific way.\n",
        "-   Common scenarios include dealing with I/O operations (like file reading/writing), network communication, parsing data from various sources, or working with APIs.\n",
        "\n",
        "### Why Use Them\n",
        "\n",
        "1. To prevent your program from crashing when an exception occurs. Unhandled exceptions can abruptly stop your program, leading to a poor user experience.\n",
        "2.  To provide a more controlled and user-friendly response to errors.\n",
        "3.   To ensure proper resource handling (like closing file streams or network connections), regardless of whether an exception occurs.\n",
        "\n",
        "### How to Write Them\n",
        "\n",
        "1.  The Try Block:\n",
        "\n",
        "    -   Begin with a `try` block where you write the code that might cause an exception.\n",
        "```python\n",
        "try { // Code that might throw an exception }\n",
        "```\n",
        "2.  The Catch Block(s):\n",
        "\n",
        "    -   Follow the `try` block with one or more `catch` blocks. Each `catch` block can handle a specific type of exception.\n",
        "```python\n",
        "        except TypeError:\n",
        "            // Handle a TypeError\n",
        "        except ValueError:\n",
        "            // Handle a ValueError\n",
        "```\n",
        "\n",
        "3.  The Finally Block:\n",
        "\n",
        "    -   Optionally, use a `finally` block after the catch blocks. Code in the `finally` block always executes, regardless of whether an exception was thrown or caught.\n",
        "    -   It's typically used for cleaning up resources like closing file streams, releasing locks, or other cleanup activities.\n",
        "```python\n",
        "        finally:\n",
        "            // Code that always executes, e.g., closing a file\n",
        "```\n",
        "\n",
        "### Practical Example\n",
        "\n",
        "Let's create a practical example where we read a number from a file and calculate its square root. We'll handle scenarios where the file might not exist, or the content might not be a valid number.\n",
        "\n",
        "```python\n",
        "def calculate_square_root(filename):\n",
        "    try:\n",
        "        with open(filename, 'r') as file:\n",
        "            number = int(file.read())\n",
        "            return number ** 0.5\n",
        "\n",
        "    except FileNotFoundError:\n",
        "        print(\"The file was not found.\")\n",
        "        return None\n",
        "\n",
        "    except ValueError:\n",
        "        print(\"The file does not contain a valid number.\")\n",
        "        return None\n",
        "\n",
        "    finally:\n",
        "        print(\"Operation attempted on file:\", filename)\n",
        "\n",
        "result = calculate_square_root(\"data.txt\")\n",
        "if result is not None:\n",
        "    print(\"The square root is:\", result)\n",
        "```\n",
        "\n",
        "In this block:\n",
        "\n",
        "-   In the `try` block, we attempt to open a file and calculate the square root of its contents.\n",
        "-   If the file does not exist, a `FileNotFoundError` is caught, and a message is printed.\n",
        "-   If the file content is not a valid number, a `ValueError` is caught.\n",
        "-   The `finally` block prints a message regardless of whether an exception occurred, indicating that the operation was attempted.\n",
        "-   This structure ensures that the program can handle errors gracefully and perform necessary cleanup actions.\n",
        "\n",
        "This guide should give you a solid understanding of when, why, and how to use try-catch-finally blocks in your programs, leading to more reliable and maintainable code."
      ],
      "metadata": {
        "id": "GKWlVNwiv985"
      }
    },
    {
      "cell_type": "markdown",
      "source": [
        "## Exercise: Handling Exceptions\n",
        "Consider the following program, which might raise MANY types of exceptions:"
      ],
      "metadata": {
        "id": "GdqlWfsTv-F3"
      }
    },
    {
      "cell_type": "code",
      "source": [
        "def calculate_scooby_snacks(danger_level):\n",
        "  import math\n",
        "  # Convert input to float. Might cause exceptions!\n",
        "  danger_level_float = float(danger_level)\n",
        "\n",
        "  # Operations that might cause exceptions\n",
        "  reciprocal = 1 / danger_level_float\n",
        "  square_root = danger_level_float ** 0.5\n",
        "  logarithm = math.log(danger_level_float)\n",
        "  exponential = math.exp(danger_level_float)\n",
        "\n",
        "  # Final calculation (arbitrary for demonstration)\n",
        "  return int(reciprocal + square_root + logarithm + exponential)\n",
        "\n",
        "# Main program begins here\n",
        "print(\"Welcome to the Scooby Snack Calculator!\")\n",
        "\n",
        "try:\n",
        "    danger_level = input(\"What is the danger level between 1 and 10? \")\n",
        "    scooby_snacks = calculate_scooby_snacks(danger_level)\n",
        "    print(f\"Scooby-Doo needs {scooby_snacks} Scooby Snacks!\")\n",
        "\n",
        "# A very generic exception\n",
        "except:\n",
        "    print(\"An error occurred.\")\n"
      ],
      "metadata": {
        "id": "EnxsBUeFuCas"
      },
      "execution_count": null,
      "outputs": []
    },
    {
      "cell_type": "markdown",
      "source": [
        "### Exercises\n",
        "Try modifying the code block in the following ways.\n",
        "1.  Modify the script to catch a `ValueError` when non-numeric input is entered.  Hint: Wrap the `float()` conversion in a try-except block.\n",
        "2.  Add an exception handler for `ZeroDivisionError` when the user enters `0`. Hint: This occurs during the reciprocal calculation.\n",
        "3.  Catch a `ValueError` that arises when calculating the square root of a negative number. Hint: Use `math.sqrt()` instead of `** 0.5` and handle the exception.\n",
        "4.  Catch the `OverflowError` that can occur during the exponential calculation. Hint: Large exponents on `math.exp()` can cause this error.\n",
        "6.  Raise and catch a custom exception if the input is not within the 1-10 range. Hint: Use an `if` statement to check the range and `raise` a custom exception.\n",
        "7.  Raise an exception if the input is a float, not an integer. Hint: Check if `danger_level_float` is equal to `int(danger_level_float)`.\n"
      ],
      "metadata": {
        "id": "vxaffz8pCik7"
      }
    },
    {
      "cell_type": "markdown",
      "source": [
        "## Case Study: Famous Bugs\n",
        "\n",
        "Bugs in computer systems can have a wide range of impacts, from humorous or trivial issues to serious problems that can have significant consequences. Let's explore seven famous computer bugs, including both humorous examples and more serious ones:\n",
        "\n",
        "1. **The Moth in the Relay (1947).** The term \"bug\" became popular after a real moth was found trapped in a relay of the Harvard Mark II computer. This incident, involving Grace Hopper, is often cited humorously as the first instance of a literal bug causing a computer issue. Although the term was used before this incident, it helped popularize the usage.\n",
        "\n",
        "2. **The Minus World in Super Mario Bros (1984).** A famous glitch in the original \"Super Mario Bros.\" for the NES, the Minus World is an endless, glitched level caused by a bug. Players accessed it through a specific series of actions in the game's second level. This unintentional feature has become one of the most well-known video game glitches.\n",
        "\n",
        "3. **Y2K Bug (1999-2000).** As the year 2000 approached, there was widespread concern over the Y2K bug, where computer systems that abbreviated four-digit years as two digits were expected to malfunction. It led to a global effort in updating computer systems, costing billions. Although major disasters were avoided, it serves as a cautionary tale about the importance of foresight in programming.\n",
        "\n",
        "4. **The Mars Climate Orbiter Mistake (1999).** This serious bug involved a mix-up between metric and imperial units in the navigation system, causing the Mars Climate Orbiter spacecraft to disintegrate in the Martian atmosphere. This error, costing $327.6 million, highlights the critical nature of precision and communication in software development, especially in space exploration.\n",
        "\n",
        "5. **The Leap Year Bug (Various Incidents).** Leap years have caused various bugs, with systems failing to recognize February 29th as a valid date. These incidents, often funny in hindsight, demonstrate the challenges in coding for every possible scenario, even those that occur only once every four years.\n",
        "\n",
        "6. **The Gandhi Nuclear Aggression Bug (Civilization series): In** the popular strategy game series \"Civilization,\" there was a humorous bug involving the AI character representing Mahatma Gandhi. Due to an integer underflow error, Gandhi, known for his peaceful philosophy, would become highly aggressive and frequently use nuclear weapons. This bug became a beloved quirk among players and was intentionally retained as an easter egg in future versions.\n",
        "\n",
        "7. **The Creepers in Minecraft:** Originally a coding error, the iconic Creeper in Minecraft was the result of a bug. The game's creator, Markus Persson, intended to create a pig, but accidentally mixed up the dimensions for height and length. This resulted in the creation of the Creeper, a now-famous character in Minecraft.\n",
        "\n",
        "Each of these bugs offers lessons in various aspects of computer science, from the need for precise communication and thorough testing to the importance of considering all possible scenarios and maintaining robust security practices. They serve as reminders of the complexity and potential pitfalls in the world of software and hardware development."
      ],
      "metadata": {
        "id": "5UIbDgFJI-kM"
      }
    }
  ]
}