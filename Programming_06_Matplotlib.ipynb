{
  "nbformat": 4,
  "nbformat_minor": 0,
  "metadata": {
    "colab": {
      "provenance": [],
      "authorship_tag": "ABX9TyMdfeyEPEm6Dm6wA5iHVaPr",
      "include_colab_link": true
    },
    "kernelspec": {
      "name": "python3",
      "display_name": "Python 3"
    },
    "language_info": {
      "name": "python"
    }
  },
  "cells": [
    {
      "cell_type": "markdown",
      "metadata": {
        "id": "view-in-github",
        "colab_type": "text"
      },
      "source": [
        "<a href=\"https://colab.research.google.com/github/brendanpshea/programming_problem_solving/blob/main/Programming_06_Matplotlib.ipynb\" target=\"_parent\"><img src=\"https://colab.research.google.com/assets/colab-badge.svg\" alt=\"Open In Colab\"/></a>"
      ]
    },
    {
      "cell_type": "markdown",
      "source": [
        "# It's Time to Play Ball (with `matplotlib`)!\n",
        "### Brendan Shea, PhD\n",
        "\n",
        "Matplotlib is a powerful and versatile plotting library in Python, widely used for data visualization. It's an essential tool in the toolbox of any data scientist, engineer, or analyst. Matplotlib provides a wide range of plotting functions that make it easy to create static, animated, and interactive visualizations. It excels in making complex tasks simple and straightforward, turning raw data into clear, comprehensible visuals.\n",
        "\n",
        "One of the strengths of Matplotlib is its ability to integrate with other Python libraries like NumPy and Pandas, allowing for efficient data manipulation and visualization. Whether you're working on a detailed scientific plot, a histogram for statistical data, or a simple line chart, Matplotlib has the functionality you need.\n",
        "\n",
        "Some main types of graphics supported by matplotlib include the following.\n",
        "\n",
        "| Type of Graph | Description |\n",
        "| --- | --- |\n",
        "| Line Graph | Useful for showing trends over time. |\n",
        "| Bar Chart | Ideal for comparing quantities among different groups. |\n",
        "| Histogram | Best for showing the distribution of a dataset. |\n",
        "| Scatter Plot | Excellent for observing the relationship between two variables. |\n",
        "| Pie Chart | Suitable for displaying data proportions in a whole. |\n",
        "| Box Plot | Efficient for depicting groups of numerical data through their quartiles. |\n",
        "| Heatmap | Great for representing data density or intensity of variables, revealing patterns in complex datasets. |\n",
        "\n",
        "Imagine a sport popular among Munchkins in the land of Oz, called \"Emerald Ball.\" In this game, players score points by tossing a magical ball into various enchanted hoops. Let's visualize the average scores of top Munchkin players using Matplotlib."
      ],
      "metadata": {
        "id": "XWhyhAZCt5JM"
      }
    },
    {
      "cell_type": "code",
      "source": [
        "import matplotlib.pyplot as plt\n",
        "\n",
        "# Sample data for Munchkin players\n",
        "players = ['Toto', 'Glinda', 'Ozma', 'Scarecrow']\n",
        "average_scores = [10, 45, 25, 15]\n",
        "\n",
        "plt.bar(players, average_scores, color='green')\n",
        "plt.xlabel('Players')\n",
        "plt.ylabel('Average Scores')\n",
        "plt.title('Top Munchkin Players in Emerald Ball League')\n",
        "plt.show()\n"
      ],
      "metadata": {
        "colab": {
          "base_uri": "https://localhost:8080/",
          "height": 472
        },
        "id": "WI-lCu--uYcg",
        "outputId": "878eea11-f094-4be2-9f60-76503e5dd7dd"
      },
      "execution_count": 1,
      "outputs": [
        {
          "output_type": "display_data",
          "data": {
            "text/plain": [
              "<Figure size 640x480 with 1 Axes>"
            ],
            "image/png": "[encoded data removed]"
          },
          "metadata": {}
        }
      ]
    },
    {
      "cell_type": "markdown",
      "source": [
        "In this example:\n",
        "\n",
        "-   We import the `matplotlib.pyplot` module, a primary module in Matplotlib used for plotting graphs.\n",
        "-   The `players` list contains the names of the players, and `average_scores` represents their corresponding scores.\n",
        "-   `plt.bar()` creates a bar chart, with `players` on the x-axis and `average_scores` on the y-axis.\n",
        "-   The `color` parameter in `plt.bar()` is set to 'green', aligning with the emerald theme of Oz.\n",
        "-   `plt.xlabel()` and `plt.ylabel()` add labels to the x-axis and y-axis, respectively.\n",
        "-   `plt.title()` provides a title to the bar chart.\n",
        "-   Finally, `plt.show()` displays the plot.\n",
        "\n",
        "\n",
        "In this chapter, we'll be exploring how to create a variety of visualizations."
      ],
      "metadata": {
        "id": "qg2yFRtDvbUf"
      }
    },
    {
      "cell_type": "markdown",
      "source": [
        "## Intro the Baseball Data Set\n",
        "In order to demonstrate the functionality of `matplotlib`, we'll explore the widely used  `baseball` dataset. This data set encapsulates the yearly batting records of major league baseball players, serves as an ideal resource for exploring rich, numeric data in the context of data science education. This dataset, sourced from <http://www.baseball-databank.org/> (now defunct), encompasses 21,699 records and covers 1,228 players spanning the years 1871 to 2007. Its inclusion criteria emphasize players with more than 15 seasons of play, ensuring a wealth of longitudinal data.\n",
        "\n",
        "### Why Use This Dataset?\n",
        "I realize many of you may not know much about baseball, and that's OK! Here's the idea behing using this data.\n",
        "\n",
        "1.  The dataset's extensive range of variables and historical depth provides a fertile ground for applying various data science techniques for anaylsis and visualization.\n",
        "\n",
        "2. The dataset is predominantly numeric, a trait that simplifies certain types of analysis and visualization, especially for beginners.\n",
        "\n",
        "3. Baseball, as a sport, is quantitatively driven, making this dataset an exemplary case for understanding how data analysis can offer insights into real-world scenarios.\n",
        "\n",
        "### Dataset Format\n",
        "\n",
        "The dataset is structured as a data frame with dimensions 21,699 x 22, meaning it contains 21,699 records across 22 variables.\n",
        "### Key Variables\n",
        "\n",
        "-   id: A unique identifier for each player.\n",
        "-   year: The specific year of the record.\n",
        "-   team, lg: Information about the team and league.\n",
        "-   g, ab, r: Game statistics including the number of games, times at bat, and runs.\n",
        "-   h, X2b, X3b, hr: Hit details, including total hits and hits resulting in reaching different bases.\n",
        "-   rbi, sb, cs: Runs batted in and base-stealing statistics.\n",
        "-   bb, so, ibb: Walks and strikeouts, both intentional and overall.\n",
        "-   hbp, sh, sf, gidp: Other batting statistics like hits by pitch and sacrifice hits.\n",
        "\n",
        "This dataset is included in the `pydataset` package, which include hundreds of pre-formatted datasets intended for educational purposes. Here's how we do this."
      ],
      "metadata": {
        "id": "3Q_IW-2Y3S_R"
      }
    },
    {
      "cell_type": "code",
      "execution_count": 2,
      "metadata": {
        "id": "mFkcPsZHvlkU",
        "colab": {
          "base_uri": "https://localhost:8080/"
        },
        "outputId": "f6b83299-3420-466f-a26f-b8acbc9c3bdb"
      },
      "outputs": [
        {
          "output_type": "stream",
          "name": "stdout",
          "text": [
            "\u001b[2K     \u001b[90m━━━━━━━━━━━━━━━━━━━━━━━━━━━━━━━━━━━━━━━━\u001b[0m \u001b[32m15.9/15.9 MB\u001b[0m \u001b[31m4.0 MB/s\u001b[0m eta \u001b[36m0:00:00\u001b[0m\n",
            "\u001b[?25h  Preparing metadata (setup.py) ... \u001b[?25l\u001b[?25hdone\n",
            "  Building wheel for pydataset (setup.py) ... \u001b[?25l\u001b[?25hdone\n",
            "initiated datasets repo at: /root/.pydataset/\n"
          ]
        }
      ],
      "source": [
        "# Load the \"baseball\" dataset\n",
        "!pip install pydataset -q # Install required packages\n",
        "from pydataset import data\n",
        "import pandas as pd\n",
        "\n",
        "baseball_df = data('baseball')"
      ]
    },
    {
      "cell_type": "markdown",
      "source": [
        "Now, we are going to **\"clean\"** the data to prepare it for further analysis. Here, we are focusing on players after 1900, and dropping columns that have significant numbers of **null** (missing) values."
      ],
      "metadata": {
        "id": "gqj5JTEhw_xU"
      }
    },
    {
      "cell_type": "code",
      "source": [
        "# drop players before 1914 (when Babe Ruth started)\n",
        "baseball_df = baseball_df[baseball_df.year >= 1914]\n",
        "# drop ibb, sf, cs, gidp\n",
        "baseball_df = baseball_df.drop(columns=['ibb', 'sf', 'cs', 'gidp'])"
      ],
      "metadata": {
        "id": "iIWvXYLM5sAl"
      },
      "execution_count": 3,
      "outputs": []
    },
    {
      "cell_type": "markdown",
      "source": [
        "## Basic Data Exploration\n",
        "Let's take a brief look our cleaned data before moving on to visualizations."
      ],
      "metadata": {
        "id": "QXBPeM593-kp"
      }
    },
    {
      "cell_type": "code",
      "source": [
        "# Display the first few records\n",
        "baseball_df.head()"
      ],
      "metadata": {
        "colab": {
          "base_uri": "https://localhost:8080/",
          "height": 206
        },
        "id": "bmpzfAY34_Zy",
        "outputId": "7086d961-ecf5-4c3d-9338-945e49a7e34c"
      },
      "execution_count": 4,
      "outputs": [
        {
          "output_type": "execute_result",
          "data": {
            "text/plain": [
              "              id  year  stint team  lg    g   ab   r    h  X2b  X3b  hr   rbi    sb  bb    so  \\\n",
              "14423  ainsmed01  1914      1  WS1  AL   62  151  11   34    7    0   0  13.0   8.0   9  28.0   \n",
              "14425  altroni01  1914      1  WS1  AL    1    0   0    0    0    0   0   0.0   0.0   0   0.0   \n",
              "14427  austiji01  1914      1  SLA  AL  130  466  55  111   16    4   0  30.0  20.0  40  59.0   \n",
              "14441  bendech01  1914      1  PHA  AL   28   62   4    9    1    0   1   8.0   0.0   4  13.0   \n",
              "14460  bressru01  1914      1  PHA  AL   29   51   6   11    1    1   0   4.0   0.0   6   7.0   \n",
              "\n",
              "       hbp    sh  \n",
              "14423  1.0   1.0  \n",
              "14425  0.0   0.0  \n",
              "14427  1.0  16.0  \n",
              "14441  0.0   4.0  \n",
              "14460  1.0   2.0  "
            ],
            "text/html": [
              "\n",
              "  <div id=\"df-3fc3312c-63b9-4989-91a3-955272ee7666\" class=\"colab-df-container\">\n",
              "    <div>\n",
              "<style scoped>\n",
              "    .dataframe tbody tr th:only-of-type {\n",
              "        vertical-align: middle;\n",
              "    }\n",
              "\n",
              "    .dataframe tbody tr th {\n",
              "        vertical-align: top;\n",
              "    }\n",
              "\n",
              "    .dataframe thead th {\n",
              "        text-align: right;\n",
              "    }\n",
              "</style>\n",
              "<table border=\"1\" class=\"dataframe\">\n",
              "  <thead>\n",
              "    <tr style=\"text-align: right;\">\n",
              "      <th></th>\n",
              "      <th>id</th>\n",
              "      <th>year</th>\n",
              "      <th>stint</th>\n",
              "      <th>team</th>\n",
              "      <th>lg</th>\n",
              "      <th>g</th>\n",
              "      <th>ab</th>\n",
              "      <th>r</th>\n",
              "      <th>h</th>\n",
              "      <th>X2b</th>\n",
              "      <th>X3b</th>\n",
              "      <th>hr</th>\n",
              "      <th>rbi</th>\n",
              "      <th>sb</th>\n",
              "      <th>bb</th>\n",
              "      <th>so</th>\n",
              "      <th>hbp</th>\n",
              "      <th>sh</th>\n",
              "    </tr>\n",
              "  </thead>\n",
              "  <tbody>\n",
              "    <tr>\n",
              "      <th>14423</th>\n",
              "      <td>ainsmed01</td>\n",
              "      <td>1914</td>\n",
              "      <td>1</td>\n",
              "      <td>WS1</td>\n",
              "      <td>AL</td>\n",
              "      <td>62</td>\n",
              "      <td>151</td>\n",
              "      <td>11</td>\n",
              "      <td>34</td>\n",
              "      <td>7</td>\n",
              "      <td>0</td>\n",
              "      <td>0</td>\n",
              "      <td>13.0</td>\n",
              "      <td>8.0</td>\n",
              "      <td>9</td>\n",
              "      <td>28.0</td>\n",
              "      <td>1.0</td>\n",
              "      <td>1.0</td>\n",
              "    </tr>\n",
              "    <tr>\n",
              "      <th>14425</th>\n",
              "      <td>altroni01</td>\n",
              "      <td>1914</td>\n",
              "      <td>1</td>\n",
              "      <td>WS1</td>\n",
              "      <td>AL</td>\n",
              "      <td>1</td>\n",
              "      <td>0</td>\n",
              "      <td>0</td>\n",
              "      <td>0</td>\n",
              "      <td>0</td>\n",
              "      <td>0</td>\n",
              "      <td>0</td>\n",
              "      <td>0.0</td>\n",
              "      <td>0.0</td>\n",
              "      <td>0</td>\n",
              "      <td>0.0</td>\n",
              "      <td>0.0</td>\n",
              "      <td>0.0</td>\n",
              "    </tr>\n",
              "    <tr>\n",
              "      <th>14427</th>\n",
              "      <td>austiji01</td>\n",
              "      <td>1914</td>\n",
              "      <td>1</td>\n",
              "      <td>SLA</td>\n",
              "      <td>AL</td>\n",
              "      <td>130</td>\n",
              "      <td>466</td>\n",
              "      <td>55</td>\n",
              "      <td>111</td>\n",
              "      <td>16</td>\n",
              "      <td>4</td>\n",
              "      <td>0</td>\n",
              "      <td>30.0</td>\n",
              "      <td>20.0</td>\n",
              "      <td>40</td>\n",
              "      <td>59.0</td>\n",
              "      <td>1.0</td>\n",
              "      <td>16.0</td>\n",
              "    </tr>\n",
              "    <tr>\n",
              "      <th>14441</th>\n",
              "      <td>bendech01</td>\n",
              "      <td>1914</td>\n",
              "      <td>1</td>\n",
              "      <td>PHA</td>\n",
              "      <td>AL</td>\n",
              "      <td>28</td>\n",
              "      <td>62</td>\n",
              "      <td>4</td>\n",
              "      <td>9</td>\n",
              "      <td>1</td>\n",
              "      <td>0</td>\n",
              "      <td>1</td>\n",
              "      <td>8.0</td>\n",
              "      <td>0.0</td>\n",
              "      <td>4</td>\n",
              "      <td>13.0</td>\n",
              "      <td>0.0</td>\n",
              "      <td>4.0</td>\n",
              "    </tr>\n",
              "    <tr>\n",
              "      <th>14460</th>\n",
              "      <td>bressru01</td>\n",
              "      <td>1914</td>\n",
              "      <td>1</td>\n",
              "      <td>PHA</td>\n",
              "      <td>AL</td>\n",
              "      <td>29</td>\n",
              "      <td>51</td>\n",
              "      <td>6</td>\n",
              "      <td>11</td>\n",
              "      <td>1</td>\n",
              "      <td>1</td>\n",
              "      <td>0</td>\n",
              "      <td>4.0</td>\n",
              "      <td>0.0</td>\n",
              "      <td>6</td>\n",
              "      <td>7.0</td>\n",
              "      <td>1.0</td>\n",
              "      <td>2.0</td>\n",
              "    </tr>\n",
              "  </tbody>\n",
              "</table>\n",
              "</div>\n",
              "    <div class=\"colab-df-buttons\">\n",
              "\n",
              "  <div class=\"colab-df-container\">\n",
              "    <button class=\"colab-df-convert\" onclick=\"convertToInteractive('df-3fc3312c-63b9-4989-91a3-955272ee7666')\"\n",
              "            title=\"Convert this dataframe to an interactive table.\"\n",
              "            style=\"display:none;\">\n",
              "\n",
              "  <svg xmlns=\"http://www.w3.org/2000/svg\" height=\"24px\" viewBox=\"0 -960 960 960\">\n",
              "    <path d=\"M120-120v-720h720v720H120Zm60-500h600v-160H180v160Zm220 220h160v-160H400v160Zm0 220h160v-160H400v160ZM180-400h160v-160H180v160Zm440 0h160v-160H620v160ZM180-180h160v-160H180v160Zm440 0h160v-160H620v160Z\"/>\n",
              "  </svg>\n",
              "    </button>\n",
              "\n",
              "  <style>\n",
              "    .colab-df-container {\n",
              "      display:flex;\n",
              "      gap: 12px;\n",
              "    }\n",
              "\n",
              "    .colab-df-convert {\n",
              "      background-color: #E8F0FE;\n",
              "      border: none;\n",
              "      border-radius: 50%;\n",
              "      cursor: pointer;\n",
              "      display: none;\n",
              "      fill: #1967D2;\n",
              "      height: 32px;\n",
              "      padding: 0 0 0 0;\n",
              "      width: 32px;\n",
              "    }\n",
              "\n",
              "    .colab-df-convert:hover {\n",
              "      background-color: #E2EBFA;\n",
              "      box-shadow: 0px 1px 2px rgba(60, 64, 67, 0.3), 0px 1px 3px 1px rgba(60, 64, 67, 0.15);\n",
              "      fill: #174EA6;\n",
              "    }\n",
              "\n",
              "    .colab-df-buttons div {\n",
              "      margin-bottom: 4px;\n",
              "    }\n",
              "\n",
              "    [theme=dark] .colab-df-convert {\n",
              "      background-color: #3B4455;\n",
              "      fill: #D2E3FC;\n",
              "    }\n",
              "\n",
              "    [theme=dark] .colab-df-convert:hover {\n",
              "      background-color: #434B5C;\n",
              "      box-shadow: 0px 1px 3px 1px rgba(0, 0, 0, 0.15);\n",
              "      filter: drop-shadow(0px 1px 2px rgba(0, 0, 0, 0.3));\n",
              "      fill: #FFFFFF;\n",
              "    }\n",
              "  </style>\n",
              "\n",
              "    <script>\n",
              "      const buttonEl =\n",
              "        document.querySelector('#df-3fc3312c-63b9-4989-91a3-955272ee7666 button.colab-df-convert');\n",
              "      buttonEl.style.display =\n",
              "        google.colab.kernel.accessAllowed ? 'block' : 'none';\n",
              "\n",
              "      async function convertToInteractive(key) {\n",
              "        const element = document.querySelector('#df-3fc3312c-63b9-4989-91a3-955272ee7666');\n",
              "        const dataTable =\n",
              "          await google.colab.kernel.invokeFunction('convertToInteractive',\n",
              "                                                    [key], {});\n",
              "        if (!dataTable) return;\n",
              "\n",
              "        const docLinkHtml = 'Like what you see? Visit the ' +\n",
              "          '<a target=\"_blank\" href=https://colab.research.google.com/notebooks/data_table.ipynb>data table notebook</a>'\n",
              "          + ' to learn more about interactive tables.';\n",
              "        element.innerHTML = '';\n",
              "        dataTable['output_type'] = 'display_data';\n",
              "        await google.colab.output.renderOutput(dataTable, element);\n",
              "        const docLink = document.createElement('div');\n",
              "        docLink.innerHTML = docLinkHtml;\n",
              "        element.appendChild(docLink);\n",
              "      }\n",
              "    </script>\n",
              "  </div>\n",
              "\n",
              "\n",
              "<div id=\"df-803cacc4-c81d-44cb-bd8b-1f1552916aa5\">\n",
              "  <button class=\"colab-df-quickchart\" onclick=\"quickchart('df-803cacc4-c81d-44cb-bd8b-1f1552916aa5')\"\n",
              "            title=\"Suggest charts\"\n",
              "            style=\"display:none;\">\n",
              "\n",
              "<svg xmlns=\"http://www.w3.org/2000/svg\" height=\"24px\"viewBox=\"0 0 24 24\"\n",
              "     width=\"24px\">\n",
              "    <g>\n",
              "        <path d=\"M19 3H5c-1.1 0-2 .9-2 2v14c0 1.1.9 2 2 2h14c1.1 0 2-.9 2-2V5c0-1.1-.9-2-2-2zM9 17H7v-7h2v7zm4 0h-2V7h2v10zm4 0h-2v-4h2v4z\"/>\n",
              "    </g>\n",
              "</svg>\n",
              "  </button>\n",
              "\n",
              "<style>\n",
              "  .colab-df-quickchart {\n",
              "      --bg-color: #E8F0FE;\n",
              "      --fill-color: #1967D2;\n",
              "      --hover-bg-color: #E2EBFA;\n",
              "      --hover-fill-color: #174EA6;\n",
              "      --disabled-fill-color: #AAA;\n",
              "      --disabled-bg-color: #DDD;\n",
              "  }\n",
              "\n",
              "  [theme=dark] .colab-df-quickchart {\n",
              "      --bg-color: #3B4455;\n",
              "      --fill-color: #D2E3FC;\n",
              "      --hover-bg-color: #434B5C;\n",
              "      --hover-fill-color: #FFFFFF;\n",
              "      --disabled-bg-color: #3B4455;\n",
              "      --disabled-fill-color: #666;\n",
              "  }\n",
              "\n",
              "  .colab-df-quickchart {\n",
              "    background-color: var(--bg-color);\n",
              "    border: none;\n",
              "    border-radius: 50%;\n",
              "    cursor: pointer;\n",
              "    display: none;\n",
              "    fill: var(--fill-color);\n",
              "    height: 32px;\n",
              "    padding: 0;\n",
              "    width: 32px;\n",
              "  }\n",
              "\n",
              "  .colab-df-quickchart:hover {\n",
              "    background-color: var(--hover-bg-color);\n",
              "    box-shadow: 0 1px 2px rgba(60, 64, 67, 0.3), 0 1px 3px 1px rgba(60, 64, 67, 0.15);\n",
              "    fill: var(--button-hover-fill-color);\n",
              "  }\n",
              "\n",
              "  .colab-df-quickchart-complete:disabled,\n",
              "  .colab-df-quickchart-complete:disabled:hover {\n",
              "    background-color: var(--disabled-bg-color);\n",
              "    fill: var(--disabled-fill-color);\n",
              "    box-shadow: none;\n",
              "  }\n",
              "\n",
              "  .colab-df-spinner {\n",
              "    border: 2px solid var(--fill-color);\n",
              "    border-color: transparent;\n",
              "    border-bottom-color: var(--fill-color);\n",
              "    animation:\n",
              "      spin 1s steps(1) infinite;\n",
              "  }\n",
              "\n",
              "  @keyframes spin {\n",
              "    0% {\n",
              "      border-color: transparent;\n",
              "      border-bottom-color: var(--fill-color);\n",
              "      border-left-color: var(--fill-color);\n",
              "    }\n",
              "    20% {\n",
              "      border-color: transparent;\n",
              "      border-left-color: var(--fill-color);\n",
              "      border-top-color: var(--fill-color);\n",
              "    }\n",
              "    30% {\n",
              "      border-color: transparent;\n",
              "      border-left-color: var(--fill-color);\n",
              "      border-top-color: var(--fill-color);\n",
              "      border-right-color: var(--fill-color);\n",
              "    }\n",
              "    40% {\n",
              "      border-color: transparent;\n",
              "      border-right-color: var(--fill-color);\n",
              "      border-top-color: var(--fill-color);\n",
              "    }\n",
              "    60% {\n",
              "      border-color: transparent;\n",
              "      border-right-color: var(--fill-color);\n",
              "    }\n",
              "    80% {\n",
              "      border-color: transparent;\n",
              "      border-right-color: var(--fill-color);\n",
              "      border-bottom-color: var(--fill-color);\n",
              "    }\n",
              "    90% {\n",
              "      border-color: transparent;\n",
              "      border-bottom-color: var(--fill-color);\n",
              "    }\n",
              "  }\n",
              "</style>\n",
              "\n",
              "  <script>\n",
              "    async function quickchart(key) {\n",
              "      const quickchartButtonEl =\n",
              "        document.querySelector('#' + key + ' button');\n",
              "      quickchartButtonEl.disabled = true;  // To prevent multiple clicks.\n",
              "      quickchartButtonEl.classList.add('colab-df-spinner');\n",
              "      try {\n",
              "        const charts = await google.colab.kernel.invokeFunction(\n",
              "            'suggestCharts', [key], {});\n",
              "      } catch (error) {\n",
              "        console.error('Error during call to suggestCharts:', error);\n",
              "      }\n",
              "      quickchartButtonEl.classList.remove('colab-df-spinner');\n",
              "      quickchartButtonEl.classList.add('colab-df-quickchart-complete');\n",
              "    }\n",
              "    (() => {\n",
              "      let quickchartButtonEl =\n",
              "        document.querySelector('#df-803cacc4-c81d-44cb-bd8b-1f1552916aa5 button');\n",
              "      quickchartButtonEl.style.display =\n",
              "        google.colab.kernel.accessAllowed ? 'block' : 'none';\n",
              "    })();\n",
              "  </script>\n",
              "</div>\n",
              "\n",
              "    </div>\n",
              "  </div>\n"
            ]
          },
          "metadata": {},
          "execution_count": 4
        }
      ]
    },
    {
      "cell_type": "code",
      "source": [
        "# Information about data types and missing values\n",
        "baseball_df.info()"
      ],
      "metadata": {
        "colab": {
          "base_uri": "https://localhost:8080/"
        },
        "id": "Vh8rWL_E5UMX",
        "outputId": "c6b6c679-649a-4cd5-8bfd-4ed5cb0fd657"
      },
      "execution_count": 5,
      "outputs": [
        {
          "output_type": "stream",
          "name": "stdout",
          "text": [
            "<class 'pandas.core.frame.DataFrame'>\n",
            "Int64Index: 19194 entries, 14423 to 89534\n",
            "Data columns (total 18 columns):\n",
            " #   Column  Non-Null Count  Dtype  \n",
            "---  ------  --------------  -----  \n",
            " 0   id      19194 non-null  object \n",
            " 1   year    19194 non-null  int64  \n",
            " 2   stint   19194 non-null  int64  \n",
            " 3   team    19194 non-null  object \n",
            " 4   lg      19194 non-null  object \n",
            " 5   g       19194 non-null  int64  \n",
            " 6   ab      19194 non-null  int64  \n",
            " 7   r       19194 non-null  int64  \n",
            " 8   h       19194 non-null  int64  \n",
            " 9   X2b     19194 non-null  int64  \n",
            " 10  X3b     19194 non-null  int64  \n",
            " 11  hr      19194 non-null  int64  \n",
            " 12  rbi     19194 non-null  float64\n",
            " 13  sb      19194 non-null  float64\n",
            " 14  bb      19194 non-null  int64  \n",
            " 15  so      19194 non-null  float64\n",
            " 16  hbp     19192 non-null  float64\n",
            " 17  sh      19194 non-null  float64\n",
            "dtypes: float64(5), int64(10), object(3)\n",
            "memory usage: 2.8+ MB\n"
          ]
        }
      ]
    },
    {
      "cell_type": "markdown",
      "source": [
        "Our cleaned data contains information about baseball players, including their id, year, stint, team, league, games played, at bats, runs, hits, doubles, triples, home runs, runs batted in, stolen bases, walks, strikeouts, hit by pitch, and sacrifice hits. There are 19194 rows and 18 columns. There are no missing values in the data except for hbp, which has 2 missing values."
      ],
      "metadata": {
        "id": "cUU1jrMx4j3E"
      }
    },
    {
      "cell_type": "markdown",
      "source": [
        "## Line Graphs Display Change Over Time\n",
        "**Line graphs** are essential tools for displaying trends and changes over time. They connect individual data points in a sequence, typically along two axes, creating a 'line' that represents the data's trajectory. Line graphs are most effective when tracking changes across evenly spaced intervals, like time. They are commonly used in various fields such as finance, science, and economics to track stock prices, temperature changes, or market trends over time.\n",
        "\n",
        "The reason to use a line graph is its clarity in showcasing the direction and rate of change. It helps in identifying trends, patterns, and potential anomalies. For example, in environmental studies, a line graph could illustrate the change in average global temperatures over the decades.\n",
        "\n",
        "### Creating Line Graphs with Pandas\n",
        "\n",
        "Pandas integrates seamlessly with Matplotlib for plotting purposes. The beauty of Pandas is its simplicity in converting DataFrame columns into graphical representations. The general syntax to create a line graph directly from a Pandas DataFrame is:\n",
        "\n",
        "```python\n",
        "DataFrame.plot.line(\n",
        "  x='x_column', # required\n",
        "  y='y_column', # required\n",
        "  figsize=(width, height), # optional\n",
        "  grid=True,  # optional\n",
        "  title='Your Title',  # optional\n",
        "  xlabel='X-axis Label', # optional\n",
        "  ylabel='Y-axis Label') # optional\n",
        "```\n",
        "\n",
        "Where:\n",
        "\n",
        "-   `x='x_column'` specifies the column for the x-axis.\n",
        "-   `y='y_column'` is the column for the y-axis.\n",
        "-   `figsize` determines the size of the plot.\n",
        "-   `grid` adds a grid for easier reading.\n",
        "-   `title`, `xlabel`, and `ylabel` provide context through labels and titles.\n",
        "\n",
        "For example, `baseball_df`  includes data on home runs ('hr') per year. To visualize the trend of home runs over the years, you can use the following code:"
      ],
      "metadata": {
        "id": "SpMT7fSNPpQ4"
      }
    },
    {
      "cell_type": "code",
      "source": [
        "# Group the data by 'year' and calculate the max home runs ('hr') for each year\n",
        "yearly_max_home_runs = baseball_df.groupby('year')['hr'].max().reset_index()\n",
        "\n",
        "# Create a line plot for the maximum home runs per year\n",
        "yearly_max_home_runs.plot.line(\n",
        "                          x='year',\n",
        "                          y='hr',\n",
        "                          color='green',\n",
        "                          marker='o',\n",
        "                          title='Maximum Home Runs per Year')\n",
        "\n",
        "plt.xlabel('Year')\n",
        "plt.ylabel('Max Home Runs')\n",
        "plt.grid(True)\n",
        "plt.show()"
      ],
      "metadata": {
        "colab": {
          "base_uri": "https://localhost:8080/",
          "height": 472
        },
        "id": "o8qs2ZmBx4r-",
        "outputId": "67f3e2b6-643a-403a-c59c-e919c2e3816c"
      },
      "execution_count": 18,
      "outputs": [
        {
          "output_type": "display_data",
          "data": {
            "text/plain": [
              "<Figure size 640x480 with 1 Axes>"
            ],
            "image/png": "[encoded data removed]"
          },
          "metadata": {}
        }
      ]
    },
    {
      "cell_type": "markdown",
      "source": [
        "This line graph represents the maximum number of home runs hit by a single player in each year. The x-axis shows the years, and the y-axis shows the maximum number of home runs. Each point on the graph corresponds to the highest home run total achieved by an individual player in that particular year.  From the graph, we can observe several interesting patterns:\n",
        "\n",
        "1.  There is considerable fluctuation in the maximum number of home runs hit from year to year. This could be due to a variety of factors, including changes in player abilities, pitching quality, baseball park dimensions, ball composition, or even the prevalent hitting strategies of the times.\n",
        "\n",
        "2.  There are distinct peaks where the maximum home runs spike significantly. These peaks could correspond to standout seasons by some of baseball's most prolific home run hitters.\n",
        "\n",
        "3.  Despite the variability, there does not appear to be a clear upward or downward trend over the decades, suggesting that while the game of baseball may have evolved, the capacity for individual players to hit a high number of home runs in a season has remained relatively consistent.\n",
        "\n",
        "4.  The peak in the late 1990s into the early 2000s could potentially be linked to the so-called \"steroid era\" in baseball, where the use of performance-enhancing drugs was reportedly widespread."
      ],
      "metadata": {
        "id": "jbrkQc8CzEkl"
      }
    },
    {
      "cell_type": "markdown",
      "source": [
        "## Scatterplots Show Relationships Between Numeric Variables\n",
        "A scatter plot is a type of data visualization that uses dots to represent the values obtained for two different variables - one plotted along the x-axis and the other plotted along the y-axis. Scatter plots are particularly useful for identifying the type and strength of the relationship between two variables. If the data points make a line or curve when plotted, it indicates that a relationship exists. For instance, a scatter plot can help determine if an increase in one variable correlates with an increase (or decrease) in another, indicating a positive or negative correlation.\n",
        "\n",
        "Scatter plots are widely used in statistics, economics, and the natural sciences. For example, in healthcare, scatter plots can illustrate the relationship between exercise frequency and blood pressure levels. They allow researchers to visually assess correlations and can serve as a preliminary indicator of potential causal relationships.\n",
        "\n",
        "### Creating Scatter Plots with Pandas\n",
        "\n",
        "Pandas provides a convenient method to create scatter plots directly from a DataFrame, utilizing the `plot()` function, which is highly customizable with various parameters. The general syntax to create a scatter plot is:\n",
        "\n",
        "```python\n",
        "DataFrame.plot.scatter(\n",
        "  x='x_column', # required\n",
        "  y='y_column', # required\n",
        "  c='color', # optional\n",
        "  s='size', # optional\n",
        "  title='Your Title' # optional)\n",
        "\n",
        "```\n",
        "\n",
        "Where:\n",
        "\n",
        "-   `x='x_column'` denotes the column to be used for the x-axis.\n",
        "-   `y='y_column'` denotes the column to be used for the y-axis.\n",
        "-   `c='color'` allows you to specify the color of the markers.\n",
        "-   `s='size'` sets the size of the markers.\n",
        "-   `title='Your Title'` adds a title to the scatter plot.\n",
        "\n",
        "\n",
        "Let's say we want to analyze the relationship between at-bats ('ab') and hits ('h') for players in the baseball dataset. The following code block demonstrates how you might create a scatter plot for this purpose:"
      ],
      "metadata": {
        "id": "gcKHWFetmc5y"
      }
    },
    {
      "cell_type": "code",
      "source": [
        "# Plotting the scatter plot\n",
        "baseball_df.plot.scatter(\n",
        "    x='ab',\n",
        "    y='h',\n",
        "    c='blue',\n",
        "    s=10,\n",
        "    title='Relationship Between At-Bats and Hits',\n",
        "    xlabel = 'At-Bats',\n",
        "    ylabel = 'Hits')\n",
        "\n",
        "plt.show()\n"
      ],
      "metadata": {
        "colab": {
          "base_uri": "https://localhost:8080/",
          "height": 472
        },
        "id": "eFu2gAqnSNL6",
        "outputId": "22bbb93c-0dc5-4a50-a022-f6b633cb692b"
      },
      "execution_count": 8,
      "outputs": [
        {
          "output_type": "display_data",
          "data": {
            "text/plain": [
              "<Figure size 640x480 with 1 Axes>"
            ],
            "image/png": "[encoded data removed]"
          },
          "metadata": {}
        }
      ]
    },
    {
      "cell_type": "markdown",
      "source": [
        "This shows a *very* strong relationship between the two variables, which isn't surprising -- more chances to hit (\"at bats\") generally lead to more hits."
      ],
      "metadata": {
        "id": "fW1xlraZnisN"
      }
    },
    {
      "cell_type": "markdown",
      "source": [
        "## Bar Charts for Comparing Numeric Variables By Category\n",
        " A bar chart is a graphical representation used to compare the size of different data points or categories using bars. Each bar's length (or height, in the case of horizontal bars) is proportional to the value it represents. Bar charts are particularly effective for comparing discrete categories or groups. In a bar chart, one axis represents the categories being compared, and the other axis represents a value scale. They are best used when you want to show differences between groups, rather than changes over time, which are better represented by a line graph.\n",
        "\n",
        "Bar charts are a staple in business, science, and education for their clarity and ease of interpretation. They can highlight differences between groups, such as the sales performance of different products or the population of various cities.\n",
        "\n",
        "### Creating Bar Charts with Pandas\n",
        "\n",
        "Pandas, coupled with Matplotlib, makes it straightforward to create bar charts from a DataFrame. The `plot()` function can be used with the `kind='bar'` parameter to create vertical bar charts or `kind='barh'` for horizontal bar charts. Here is the general syntax for creating a bar chart using Pandas:\n",
        "\n",
        "```python\n",
        "DataFrame.plot(\n",
        "  kind='bar', # required\n",
        "  x='category_column', # required\n",
        "  y='value_column', # required\n",
        "  color='color', # optional\n",
        "  title='Your Title', # optional\n",
        "  legend=True)\n",
        "```\n",
        "\n",
        "Where:\n",
        "\n",
        "-   `kind='bar'` specifies that you want to create a bar chart.\n",
        "-   `x='category_column'` is the column that contains the categories.\n",
        "-   `y='value_column'` is the column that contains the numerical data.\n",
        "-   `color='color'` sets the color of the bars.\n",
        "-   `title='Your Title'` adds a title to the bar chart.\n",
        "-   `legend=True` includes a legend to identify data series.\n",
        "\n"
      ],
      "metadata": {
        "id": "VbOe3Vu4o5NP"
      }
    },
    {
      "cell_type": "markdown",
      "source": [
        "Now, let's create a bar chart to display the top 10 overall run scorers in the `baseball_df` DataFrame. We'll need to aggregate the total runs scored by each player and then sort these totals to find the top scorers:"
      ],
      "metadata": {
        "id": "_9m6wWbw7exf"
      }
    },
    {
      "cell_type": "code",
      "source": [
        "# Group by playerID and sum the runs\n",
        "player_total_runs = baseball_df.groupby('id')['r'].sum().sort_values(ascending=False)\n",
        "\n",
        "# Select the top 10 run scorers\n",
        "top_scorers = player_total_runs.head(10)\n",
        "\n",
        "top_scorers"
      ],
      "metadata": {
        "colab": {
          "base_uri": "https://localhost:8080/"
        },
        "id": "7hw5ynlO7lt_",
        "outputId": "ad05d27b-8ac1-4b2a-cdea-f816d5c8cc86"
      },
      "execution_count": 9,
      "outputs": [
        {
          "output_type": "execute_result",
          "data": {
            "text/plain": [
              "id\n",
              "henderi01    2295\n",
              "bondsba01    2227\n",
              "aaronha01    2174\n",
              "ruthba01     2174\n",
              "rosepe01     2165\n",
              "mayswi01     2062\n",
              "musiast01    1949\n",
              "gehrilo01    1888\n",
              "ottme01      1859\n",
              "biggicr01    1844\n",
              "Name: r, dtype: int64"
            ]
          },
          "metadata": {},
          "execution_count": 9
        }
      ]
    },
    {
      "cell_type": "code",
      "source": [
        "# Plotting the bar chart\n",
        "top_scorers.plot.bar(\n",
        "    color='orange',\n",
        "    title='Top 10 Run Scorers',\n",
        "    xlabel='Player ID',\n",
        "    ylabel='Total Runs Scored')\n",
        "\n",
        "plt.xticks(rotation=45)  # Rotates the x-axis labels for better readability\n",
        "plt.show()"
      ],
      "metadata": {
        "colab": {
          "base_uri": "https://localhost:8080/",
          "height": 522
        },
        "id": "_ogcfk5G72CJ",
        "outputId": "f2581e4a-33d6-4a22-972b-6312b4040e8d"
      },
      "execution_count": 10,
      "outputs": [
        {
          "output_type": "display_data",
          "data": {
            "text/plain": [
              "<Figure size 640x480 with 1 Axes>"
            ],
            "image/png": "[encoded data removed]"
          },
          "metadata": {}
        }
      ]
    },
    {
      "cell_type": "markdown",
      "source": [
        "The bar chart depicting the top 10 run scorers in our baseball dataset reveals a list of legendary players, each with a remarkable number of runs scored throughout their careers. Leading the chart is Rickey Henderson (henderi01) with 2,295 runs, followed closely by Barry Bonds (bondsba01) with 2,227 runs. Not far behind are Hank Aaron (aaronha01) and Babe Ruth (ruthba01), both tied with 2,174 runs. Pete Rose (rosepe01) rounds out the top five with 2,165 runs. Further down the list, we have Willie Mays (mayswi01) with 2,062 runs, Stan Musial (musiast01) with 1,949 runs, Lou Gehrig (gehrilo01) with 1,888 runs, Mel Ott (ottme01) with 1,859 runs, and Craig Biggio (biggicr01) with 1,844 runs."
      ],
      "metadata": {
        "id": "o3AEy6408HPB"
      }
    },
    {
      "cell_type": "markdown",
      "source": [
        "## Exercises\n",
        "Exercise 1: Create a line chart that displays the evolution of a player's batting average over their career.\n",
        "Instructions:\n",
        "\n",
        "1.  Choose a player from the `baseball_df` DataFrame by filtering the data using the 'playerID' column.\n",
        "2.  Calculate the player's batting average for each year. The batting average is calculated by dividing the number of hits ('h') by the number of at-bats ('ab').\n",
        "3.  Plot a line chart with years on the x-axis and the calculated batting average on the y-axis.\n",
        "4.  Make sure to include a title for the chart, such as \"Career Batting Average of [Player Name]\".\n",
        "5.  Label the x-axis as \"Year\" and the y-axis as \"Batting Average\".\n",
        "6.  Choose a color for the line."
      ],
      "metadata": {
        "id": "3Wbgtgbv8HZ1"
      }
    },
    {
      "cell_type": "code",
      "source": [
        "# Your code here"
      ],
      "metadata": {
        "id": "TSAaBVEvGjXK"
      },
      "execution_count": 11,
      "outputs": []
    },
    {
      "cell_type": "markdown",
      "source": [
        "Exercise 2. Create a scatter plot tracking the number of strikeouts versus home runs hit by players in a single season. Instructions:\n",
        "\n",
        "1.  Use the `baseball_df` DataFrame to select the 'so' (strikeouts) and 'hr' (home runs) columns for a specific year.\n",
        "2.  Create a scatter plot with strikeouts on the x-axis and home runs on the y-axis.\n",
        "3.  Include a title for the chart, like \"Relationship Between Strikeouts and Home Runs in [Year]\".\n",
        "4.  Label the x-axis as \"Strikeouts\" and the y-axis as \"Home Runs\".\n",
        "5.  Assign a color to the data points."
      ],
      "metadata": {
        "id": "4QA3ZbQvGlGJ"
      }
    },
    {
      "cell_type": "code",
      "source": [
        "# Your code here."
      ],
      "metadata": {
        "id": "AFczoUGnGy0k"
      },
      "execution_count": 12,
      "outputs": []
    },
    {
      "cell_type": "markdown",
      "source": [
        "Exercise 3: Create a bar char identifying the 10 players with the most stolen bases in a single season. Instructions:\n",
        "\n",
        "1.  Filter the `baseball_df` DataFrame for a particular year using the 'year' column.\n",
        "2.  Group the data by 'playerID' and sum the 'sb' (stolen bases).\n",
        "3.  Sort the players by the total stolen bases in descending order and select the top 10.\n",
        "4.  Create a bar chart to display these top 10 players with their corresponding stolen base totals.\n",
        "5.  Title the chart \"Top 10 Players with Most Stolen Bases in [Year]\".\n",
        "6.  Label the x-axis with \"Player ID\" and the y-axis with \"Stolen Bases\".\n",
        "7.  Choose a distinct color for the bars."
      ],
      "metadata": {
        "id": "z31510QOHJo2"
      }
    },
    {
      "cell_type": "markdown",
      "source": [
        "## Histograms SHow the Distribution of One Numerical Variable\n",
        "A histogram is a graphical representation that organizes a group of data points into user-specified ranges. Similar to a bar chart, a histogram plots the frequency of data points within certain ranges. It is particularly useful for understanding the distribution of numerical data and identifying patterns such as skewness, peaks, and outliers. Histograms are invaluable in statistical analysis for assessing the probability distribution of a dataset.\n",
        "\n",
        "For example, in an educational setting, a histogram could be used to display the distribution of test scores to understand the overall performance of students. In environmental science, a histogram might show the frequency of temperature readings, helping to visualize climate data.\n",
        "\n",
        "### Creating Histograms with Pandas\n",
        "\n",
        "Pandas provides functionality to easily create histograms from a DataFrame using the `hist()` method, allowing for quick exploration of the data distribution. Here's how you can generate a histogram:\n",
        "\n",
        "```python\n",
        "DataFrame['numerical_column'].plot.hist(\n",
        "  bins=number_of_bins,\n",
        "  color='color',\n",
        "  edgecolor='edge_color',\n",
        "  figsize=(width, height))\n",
        "```\n",
        "\n",
        "In this syntax:\n",
        "\n",
        "-   `DataFrame['numerical_column']` specifies the column with numerical data to be distributed across bins.\n",
        "-   `bins` controls the number of bins (intervals) you want to divide your data into.\n",
        "-   `color` specifies the color of the bars in the histogram.\n",
        "-   `edgecolor` defines the color of the edge line of each bar.\n",
        "-   `figsize` determines the size of the figure.\n",
        "\n",
        "For example, we can create a histogram tracking strikeouts as follows:"
      ],
      "metadata": {
        "id": "Y0wXemvfJRKw"
      }
    },
    {
      "cell_type": "code",
      "source": [
        "# Filter for a specific year\n",
        "year = 1979  # Feel free to change this\n",
        "baseball_year = baseball_df[baseball_df.year == year]\n",
        "\n",
        "# Creating the histogram\n",
        "\n",
        "baseball_year['so'].plot.hist(\n",
        "    bins=12,\n",
        "    color='grey',\n",
        "    edgecolor='pink',\n",
        "    xlabel = 'Strikeouts',\n",
        "    ylabel = 'Frequency',\n",
        "    title = f'Distribution of Strikeouts in Baseball in {year}'\n",
        "    )\n",
        "\n",
        "# For whatever reason, we need to use \"native\" matplotlib\n",
        "# To get x-labels to show.\n",
        "\n",
        "plt.xlabel('Strikeouts')\n",
        "\n",
        "plt.show()\n"
      ],
      "metadata": {
        "colab": {
          "base_uri": "https://localhost:8080/",
          "height": 472
        },
        "id": "-PJ0jWbqHM3G",
        "outputId": "21cb82ee-2b4a-41c5-cf75-713df896f7b0"
      },
      "execution_count": 22,
      "outputs": [
        {
          "output_type": "display_data",
          "data": {
            "text/plain": [
              "<Figure size 640x480 with 1 Axes>"
            ],
            "image/png": "[encoded data removed]"
          },
          "metadata": {}
        }
      ]
    },
    {
      "cell_type": "markdown",
      "source": [
        "This histogram displays the distribution of strikeouts recorded by players in the 1979 baseball season. Each bar represents the number of players (frequency) that fall within a range of strikeouts.  Here are a few interpretations of the graph:\n",
        "\n",
        "1.  The histogram shows a **right-skewed distribution**. Most players have a relatively low number of strikeouts, and as the number of strikeouts increases, the number of players decreases.\n",
        "\n",
        "2. The tallest bar is the first one, indicating that the majority of players had between 0 to just under 25 strikeouts during the 1979 season.\n",
        "\n",
        "3.   As the number of strikeouts increases, the frequency of players with those strikeouts decreases. This is indicated by the decreasing height of the bars as you move right along the x-axis.\n",
        "\n",
        "4.  Players with a very high number of strikeouts (over 125) are quite rare, as shown by the very short bars on the far right of the histogram.\n",
        "\n",
        "5. The histogram suggests that relatively few players have an exceptionally high number of strikeouts, which could be considered outliers. These would be interesting cases for further analysis to understand what might contribute to such high strikeout counts.\n",
        "\n",
        "6. The horizontal axis shows the range of strikeouts grouped into bins (the exact range of each bin depends on the data and how the histogram was constructed). It appears that the bin size might be around 25 strikeouts.\n",
        "\n",
        "This histogram helps to understand the overall tendency for strikeouts among players in the 1979 baseball season, indicating that most players tended to have fewer strikeouts, with only a few reaching very high numbers."
      ],
      "metadata": {
        "id": "YqhQy3BNM6rZ"
      }
    },
    {
      "cell_type": "markdown",
      "source": [
        "## Subplots Show Many Figures\n",
        "Subplots are a feature in Matplotlib that allows you to place multiple plots in a single figure. Each subplot operates independently within the figure, with its own axes and title. This is particularly useful when you want to compare several distributions or trends side-by-side without creating separate figures for each. Subplots provide a cohesive view of the data, making it easier to analyze and draw comparisons between different variables or datasets.\n",
        "\n",
        "In the context of education, subplots could be used to compare the performance of students across several tests. In business, they could compare sales data across different quarters or regions simultaneously. Subplots are a versatile tool that can enhance the analytical depth of your data visualization.\n",
        "\n",
        "### Creating Subplots with Matplotlib\n",
        "\n",
        "To create subplots, you'll typically use the `subplots()` function from Matplotlib, which initializes a grid of subplots. Here's a basic approach:\n",
        "\n",
        "```python\n",
        "fig, ax = plt.subplots(\n",
        "  nrows=number_of_rows,\n",
        "  ncols=number_of_columns,\n",
        "  figsize=(width, height))\n",
        "```\n",
        "\n",
        "-   `nrows` and `ncols` specify the number of rows and columns in the subplot grid.\n",
        "-   `figsize` determines the size of the entire figure that houses all subplots.\n",
        "-   `fig` is the entire figure object.\n",
        "-   `ax` is an array of axes objects, which are the individual subplots within the figure.\n",
        "\n",
        "Each element in `ax` can be used to create a plot just like you would on a single figure. If you have a 2x2 grid of subplots, `ax` will be a 2x2 NumPy array with each element corresponding to a subplot."
      ],
      "metadata": {
        "id": "TegLJTJbOlrM"
      }
    },
    {
      "cell_type": "code",
      "source": [
        "# Filter for a specific year\n",
        "year = 1979  # Feel free to change this\n",
        "baseball_year = baseball_df[baseball_df.year == year]\n",
        "\n",
        "# Set up a 2x2 subplot layout\n",
        "fig, axes = plt.subplots(\n",
        "    nrows = 2,\n",
        "    ncols = 2,\n",
        "    figsize=(12, 10))\n",
        "\n",
        "# Plot a histogram of runs on the top left subplot using DataFrame.plot\n",
        "baseball_year['r'].plot.hist(\n",
        "                        bins=10,\n",
        "                        color='blue',\n",
        "                        edgecolor='black',\n",
        "                        ax=axes[0, 0],\n",
        "                        title=f'Distribution of Runs in {year}')\n",
        "axes[0, 0].set_xlabel('Runs')\n",
        "axes[0, 0].set_ylabel('Frequency')\n",
        "\n",
        "# Plot a histogram of hits on the top right subplot using DataFrame.plot\n",
        "baseball_year['h'].plot.hist(\n",
        "                        bins=10,\n",
        "                        color='green',\n",
        "                        edgecolor='black',\n",
        "                        ax=axes[0, 1],\n",
        "                        title= f'Distribution of Hits in {year}')\n",
        "axes[0, 1].set_xlabel('Hits')\n",
        "axes[0, 1].set_ylabel('Frequency')\n",
        "\n",
        "# Plot a histogram of home runs on the bottom left subplot using DataFrame.plot\n",
        "baseball_year['hr'].plot(\n",
        "                         bins=10,\n",
        "                         color='red',\n",
        "                         edgecolor='black',\n",
        "                         ax=axes[1, 0],\n",
        "                         title= f'Distribution of Home Runs in {year}')\n",
        "axes[1, 0].set_xlabel('Home Runs')\n",
        "axes[1, 0].set_ylabel('Frequency')\n",
        "\n",
        "# Plot a histogram of strikeouts on the bottom right subplot using DataFrame.plot\n",
        "baseball_year['so'].plot(\n",
        "                         bins=10,\n",
        "                         color='purple',\n",
        "                         edgecolor='black',\n",
        "                         ax=axes[1, 1],\n",
        "                         title=f'Distribution of Strikeouts in {year}')\n",
        "axes[1, 1].set_xlabel('Strikeouts')\n",
        "axes[1, 1].set_ylabel('Frequency')\n",
        "\n",
        "# Adjust the layout so that all subplots fit into the figure neatly\n",
        "plt.tight_layout()\n",
        "plt.show()"
      ],
      "metadata": {
        "colab": {
          "base_uri": "https://localhost:8080/",
          "height": 1000
        },
        "id": "yOLp6N1rM6-R",
        "outputId": "f91c28b8-ccbd-441a-fbae-1e53504a7dee"
      },
      "execution_count": 24,
      "outputs": [
        {
          "output_type": "display_data",
          "data": {
            "text/plain": [
              "<Figure size 1200x1000 with 4 Axes>"
            ],
            "image/png": "[encoded data removed]"
          },
          "metadata": {}
        }
      ]
    },
    {
      "cell_type": "markdown",
      "source": [
        "## Grouped Box Plots Show Numerical Variables by Category\n",
        "A grouped box plot is a graphical display that depicts several box plots of different categories side-by-side on the same chart. It is used to compare the distribution of a numerical variable across different groups. Each box plot shows the median, quartiles, and potential outliers for a set of data, making it easy to compare the central tendency and spread across different categories.  Grouped box plots are extremely useful in many fields. For instance, in market research, they can compare customer satisfaction scores across different products. In medicine, they could compare patient responses to different medications.\n",
        "\n",
        "### Creating Grouped Box Plots with Pandas\n",
        "\n",
        "Pandas and Matplotlib together make it straightforward to create grouped box plots. The process involves using the `boxplot` method and specifying the columns for grouping. Here's how to create a grouped box plot:\n",
        "\n",
        "```python\n",
        "DataFrame.boxplot(\n",
        "    column='numerical_column', # required\n",
        "    by='grouping_column', # required\n",
        "    grid=True, # optional\n",
        "    figsize=(width, height), # optional\n",
        "    layout=(rows, columns), # optional\n",
        "    title='Your Title' # optional\n",
        ")\n",
        "```\n",
        "\n",
        "In this syntax:\n",
        "\n",
        "-   `column` specifies the numerical data column for the y-axis.\n",
        "-   `by` specifies the grouping column(s) for the x-axis.\n",
        "-   `grid` adds a grid to the chart.\n",
        "-   `figsize` determines the overall size of the chart.\n",
        "-   `layout` specifies the layout of multiple box plots if there are several grouping columns.\n",
        "-   `title` adds a title to the chart."
      ],
      "metadata": {
        "id": "ocDJYxOG3hfO"
      }
    },
    {
      "cell_type": "code",
      "source": [
        "# Filter for a specific year\n",
        "year = 1979  # Feel free to change this\n",
        "baseball_year = baseball_df[baseball_df.year == year]\n",
        "\n",
        "# Grouping 'hr' by 'team' and creating a box plot\n",
        "baseball_year.boxplot(\n",
        "    column='hr',\n",
        "    by='lg',\n",
        "    grid=True,\n",
        "    figsize=(12, 6))\n",
        "\n",
        "plt.xlabel('League')\n",
        "plt.ylabel('Home Runs')\n",
        "plt.title(f'Grouped Box Plot of Home Runs by League in {year}')\n",
        "plt.suptitle('')  # Suppresses the automatic subtitle to avoid duplication\n",
        "plt.xticks(rotation=45)  # Rotates the x-axis labels for readability\n",
        "plt.show()\n"
      ],
      "metadata": {
        "colab": {
          "base_uri": "https://localhost:8080/",
          "height": 561
        },
        "id": "ObNOCES03tmX",
        "outputId": "2bf610f5-7c38-4c52-8d92-5c197aee52c6"
      },
      "execution_count": 31,
      "outputs": [
        {
          "output_type": "display_data",
          "data": {
            "text/plain": [
              "<Figure size 1200x600 with 1 Axes>"
            ],
            "image/png": "[encoded data removed]"
          },
          "metadata": {}
        }
      ]
    },
    {
      "cell_type": "markdown",
      "source": [
        "This grouped box plot displays the distribution of home runs by players in two different leagues, the American League (AL) and the National League (NL), during the 1979 baseball season. Here's how to interpret the components of the box plot:\n",
        "\n",
        "1.  The horizontal line within each box represents the **median** number of home runs in each league. It appears that the median is slightly higher in the AL than in the NL.\n",
        "\n",
        "2.  The box itself shows the **interquartile range**, which contains the middle 50% of the data. The IQR is from the first quartile (25th percentile) to the third quartile (75th percentile). Both leagues have a similar IQR, suggesting a similar spread of data in the middle 50%.\n",
        "\n",
        "3.  The lines (or **whiskers**) extending from the top and bottom of each box indicate the range of the data, excluding outliers. The AL shows a longer upper whisker, which suggests a wider distribution of the data towards the higher number of home runs.\n",
        "\n",
        "4.  The individual points above and below the whiskers are **outliers**. These are data points that fall significantly higher or lower than the rest of the distribution. There are several outliers in both leagues, but the NL has a higher frequency of outliers, indicating more players with exceptionally high home run totals.\n",
        "\n",
        "5. When comparing the two leagues, it can be observed that the AL has a slightly higher median, suggesting players in the AL might have been more likely to hit a greater number of home runs. The NL, while having a similar median, shows more variability in the upper range of home runs due to the greater number of outliers.\n",
        "\n",
        "From this plot, we can conclude that while the typical (median) number of home runs per player was similar in both leagues, the spread and outliers varied, with the NL showing a greater dispersion in the number of home runs among players with unusually high numbers. This could point to a few standout sluggers in the NL for that year."
      ],
      "metadata": {
        "id": "5DlN8Ory643G"
      }
    },
    {
      "cell_type": "markdown",
      "source": [
        "## Exercises\n",
        "Exercise 4: Construct a histogram of walks (BB) for players in a selected year.\n",
        "\n",
        "1.  Choose a year from the `baseball_df` DataFrame to focus on by filtering the data using the 'year' column.\n",
        "2.  Select the 'bb' (base on balls or walks) column for the chosen year.\n",
        "3.  Create a histogram to visualize the distribution of walks among players for that year.\n",
        "4.  Include a title for the chart, such as \"Distribution of Walks Among Players in [Year]\".\n",
        "5.  Label the x-axis as \"Number of Walks\" and the y-axis as \"Frequency of Players\".\n",
        "6.  Choose an appropriate number of bins to effectively display the distribution."
      ],
      "metadata": {
        "id": "E9pmzOKl74Vm"
      }
    },
    {
      "cell_type": "code",
      "source": [],
      "metadata": {
        "id": "sesZUrPj67Fe"
      },
      "execution_count": null,
      "outputs": []
    },
    {
      "cell_type": "markdown",
      "source": [
        "Exercise 5: Use subplots to compare stolen bases (SB) and runs (R) in a selected year.\n",
        "\n",
        "1.  Choose a year from the `baseball_df` DataFrame to analyze.\n",
        "2.  Use the `subplots()` function to create a 1x2 subplot layout (one row, two columns).\n",
        "3.  On the first subplot, create a histogram of stolen bases ('sb') for the chosen year.\n",
        "4.  On the second subplot, create a histogram of runs ('r') for the same year.\n",
        "5.  Make sure both subplots have titles reflecting the data they are displaying, like \"Stolen Bases in [Year]\" and \"Runs in [Year]\".\n",
        "6.  Label the axes appropriately for each subplot.\n",
        "7.  Choose different colors for each histogram for visual distinction."
      ],
      "metadata": {
        "id": "Op0AZA518DGc"
      }
    },
    {
      "cell_type": "code",
      "source": [],
      "metadata": {
        "id": "0Q6rA58z8XWH"
      },
      "execution_count": null,
      "outputs": []
    },
    {
      "cell_type": "markdown",
      "source": [
        "Exercise 6: Generate a grouped box plot of on-base percentage (OBP) by league in a selected Year.\n",
        "\n",
        "1.  Calculate the On-Base Percentage (OBP) for each player for the chosen year. OBP is calculated as (Hits + Walks + Hit by Pitch) / (At Bats + Walks + Hit by Pitch + Sacrifice Flies). You will need to add these columns if not already present in `baseball_df`.\n",
        "2.  Group the data by the 'lg' (league) column and the selected year.\n",
        "3.  Create a grouped box plot to compare the distribution of OBP between the two leagues.\n",
        "4.  Title the chart \"Comparison of On-Base Percentage by League in [Year]\".\n",
        "5.  Label the x-axis as \"League\" and the y-axis as \"On-Base Percentage\".\n",
        "6.  Identify any outliers with a different marker color or style."
      ],
      "metadata": {
        "id": "78hebwQv8WnL"
      }
    },
    {
      "cell_type": "code",
      "source": [],
      "metadata": {
        "id": "tcIhyATi8k0Y"
      },
      "execution_count": null,
      "outputs": []
    },
    {
      "cell_type": "markdown",
      "source": [
        "## Summary: `matplotlib` and `pandas`\n",
        "In this chapter, you've learned that Pandas offers a powerful set of tools for data visualization, which are built on top of Matplotlib. These tools allow you to quickly and easily generate a wide variety of plots from DataFrames and Series objects. With simple one-line commands, you can create line graphs, scatter plots, bar charts, histograms, and more. The plotting methods provided by Pandas are intuitive and convenient, as they allow you to leverage the data manipulation capabilities of Pandas together with the visualization power of Matplotlib. You've seen how to customize these plots with additional parameters to refine your visualizations, tailoring them to the specific needs of your analysis.\n",
        "\n",
        "### Pandas Plotting Methods: Code to Know\n",
        "The table below summarizes the Pandas plotting methods, providing a handy reference to the types of plots you can create directly from your data structures:\n",
        "\n",
        "| Pandas Method | Description |\n",
        "| --- | --- |\n",
        "| `df.plot.line(x, y)` | Plots a line graph of column `y` against column `x`. |\n",
        "| `df.plot.scatter(x, y, c, s)` | Creates a scatter plot with columns `x` and `y`, with color `c` and size `s`. |\n",
        "| `df.plot.bar(x, y)` | Generates a bar chart of `y` against `x`. |\n",
        "| `df.plot.barh(x, y)` | Creates a horizontal bar chart of `y` against `x`. |\n",
        "| `df.plot.hist(column, bins)` | Plots a histogram of the specified `column` with a number of `bins`. |\n",
        "| `df.plot.box(by)` | Creates a box plot grouped by the `by` column. |\n",
        "| `df.plot.kde()` | Plots a kernel density estimate (KDE). |\n",
        "| `df.plot.area(x, y)` | Generates an area plot of `y` against `x`. |\n",
        "| `df.plot.pie(y)` | Creates a pie chart of column `y`. |\n",
        "\n",
        "These methods are designed to work seamlessly with the data stored in your Pandas objects. They abstract away much of the complexity involved in generating Matplotlib plots, offering a more streamlined and user-friendly approach to data visualization.\n",
        "\n",
        "### Introduction to Matplotlib Operations\n",
        "\n",
        "Matplotlib is the foundation upon which Pandas' plotting capabilities are built. It is a comprehensive library for creating static, interactive, and animated visualizations in Python. You've explored various Matplotlib commands that control everything from creating a figure, adding a plot, labeling axes, to customizing the visual style of your plots. Understanding Matplotlib is crucial for when you need more control or want to create more complex visualizations that go beyond the convenience of Pandas' built-in plotting methods.\n",
        "\n",
        "### Matplotlib Operations: Code to Know\n",
        "\n",
        "Below is a summary of some common Matplotlib operations. These commands give you the ability to fine-tune your visualizations and are especially useful when you need to create figures with multiple plots, or when you need more customization than Pandas plotting provides:\n",
        "\n",
        "\n",
        "| Matplotlib Operation | Description |\n",
        "| --- | --- |\n",
        "| `plt.figure(figsize=(width, height))` | Creates a new figure with a specified size. |\n",
        "| `plt.show()` | Displays all open figures. |\n",
        "| `plt.subplots(nrows, ncols)` | Creates a figure and a grid of subplots with a specified number of rows and columns. |\n",
        "| `plt.xlabel('label')` | Sets the x-axis label of the current plot. |\n",
        "| `plt.ylabel('label')` | Sets the y-axis label of the current plot. |\n",
        "| `plt.title('title')` | Sets the title of the current plot. |\n",
        "| `plt.suptitle('title')` | Adds a title to the entire figure. |\n",
        "| `plt.tight_layout()` | Automatically adjusts subplot params so the subplot(s) fits in to the figure area. |\n",
        "| `plt.legend()` | Adds a legend to the current plot. |\n",
        "| `plt.grid(True)` | Adds a grid to the current plot. |\n",
        "| `plt.xticks(rotation=angle)` | Rotates the x-axis tick labels by the specified angle. |\n",
        "| `plt.yticks(rotation=angle)` | Rotates the y-axis tick labels by the specified angle. |\n",
        "| `plt.savefig('filename')` | Saves the current figure to a file. |\n",
        "| `plt.hist(data, bins)` | Plots a histogram for the given data with the specified number of bins. |\n",
        "| `plt.scatter(x, y)` | Creates a scatter plot with `x` and `y` data points. |\n",
        "| `plt.bar(x, height)` | Creates a bar chart with `x` data points and corresponding `height`. |\n",
        "| `plt.boxplot(data)` | Creates a box plot for the given data. |\n"
      ],
      "metadata": {
        "id": "NoVxrf10-Id4"
      }
    },
    {
      "cell_type": "markdown",
      "source": [
        "## Activity: Visualizing Data with PyDataset\n",
        "\n",
        "Data visualization is a critical skill in data science that allows you to explore data and communicate insights effectively. In this activity, you'll practice this skill by choosing a dataset from the `pydataset` library, a collection of datasets ready for use with Python.\n",
        "\n",
        "\n",
        "### Step 1: Choose a Data Set\n",
        "Explore the list of data sets, and choose one that interests you."
      ],
      "metadata": {
        "id": "yegf2xxPBExf"
      }
    },
    {
      "cell_type": "code",
      "source": [
        "data()"
      ],
      "metadata": {
        "colab": {
          "base_uri": "https://localhost:8080/",
          "height": 423
        },
        "id": "7oiAfXe5BUpE",
        "outputId": "1cbead20-96c2-4a3b-df0b-a8aa6a8c8cd4"
      },
      "execution_count": 32,
      "outputs": [
        {
          "output_type": "execute_result",
          "data": {
            "text/plain": [
              "        dataset_id                                             title\n",
              "0    AirPassengers       Monthly Airline Passenger Numbers 1949-1960\n",
              "1          BJsales                 Sales Data with Leading Indicator\n",
              "2              BOD                         Biochemical Oxygen Demand\n",
              "3     Formaldehyde                     Determination of Formaldehyde\n",
              "4     HairEyeColor         Hair and Eye Color of Statistics Students\n",
              "..             ...                                               ...\n",
              "752        VerbAgg                  Verbal Aggression item responses\n",
              "753           cake                 Breakage Angle of Chocolate Cakes\n",
              "754           cbpp                 Contagious bovine pleuropneumonia\n",
              "755    grouseticks  Data on red grouse ticks from Elston et al. 2001\n",
              "756     sleepstudy       Reaction times in a sleep deprivation study\n",
              "\n",
              "[757 rows x 2 columns]"
            ],
            "text/html": [
              "\n",
              "  <div id=\"df-7c2b3f45-585e-4a91-9735-dc5fc6c80fb1\" class=\"colab-df-container\">\n",
              "    <div>\n",
              "<style scoped>\n",
              "    .dataframe tbody tr th:only-of-type {\n",
              "        vertical-align: middle;\n",
              "    }\n",
              "\n",
              "    .dataframe tbody tr th {\n",
              "        vertical-align: top;\n",
              "    }\n",
              "\n",
              "    .dataframe thead th {\n",
              "        text-align: right;\n",
              "    }\n",
              "</style>\n",
              "<table border=\"1\" class=\"dataframe\">\n",
              "  <thead>\n",
              "    <tr style=\"text-align: right;\">\n",
              "      <th></th>\n",
              "      <th>dataset_id</th>\n",
              "      <th>title</th>\n",
              "    </tr>\n",
              "  </thead>\n",
              "  <tbody>\n",
              "    <tr>\n",
              "      <th>0</th>\n",
              "      <td>AirPassengers</td>\n",
              "      <td>Monthly Airline Passenger Numbers 1949-1960</td>\n",
              "    </tr>\n",
              "    <tr>\n",
              "      <th>1</th>\n",
              "      <td>BJsales</td>\n",
              "      <td>Sales Data with Leading Indicator</td>\n",
              "    </tr>\n",
              "    <tr>\n",
              "      <th>2</th>\n",
              "      <td>BOD</td>\n",
              "      <td>Biochemical Oxygen Demand</td>\n",
              "    </tr>\n",
              "    <tr>\n",
              "      <th>3</th>\n",
              "      <td>Formaldehyde</td>\n",
              "      <td>Determination of Formaldehyde</td>\n",
              "    </tr>\n",
              "    <tr>\n",
              "      <th>4</th>\n",
              "      <td>HairEyeColor</td>\n",
              "      <td>Hair and Eye Color of Statistics Students</td>\n",
              "    </tr>\n",
              "    <tr>\n",
              "      <th>...</th>\n",
              "      <td>...</td>\n",
              "      <td>...</td>\n",
              "    </tr>\n",
              "    <tr>\n",
              "      <th>752</th>\n",
              "      <td>VerbAgg</td>\n",
              "      <td>Verbal Aggression item responses</td>\n",
              "    </tr>\n",
              "    <tr>\n",
              "      <th>753</th>\n",
              "      <td>cake</td>\n",
              "      <td>Breakage Angle of Chocolate Cakes</td>\n",
              "    </tr>\n",
              "    <tr>\n",
              "      <th>754</th>\n",
              "      <td>cbpp</td>\n",
              "      <td>Contagious bovine pleuropneumonia</td>\n",
              "    </tr>\n",
              "    <tr>\n",
              "      <th>755</th>\n",
              "      <td>grouseticks</td>\n",
              "      <td>Data on red grouse ticks from Elston et al. 2001</td>\n",
              "    </tr>\n",
              "    <tr>\n",
              "      <th>756</th>\n",
              "      <td>sleepstudy</td>\n",
              "      <td>Reaction times in a sleep deprivation study</td>\n",
              "    </tr>\n",
              "  </tbody>\n",
              "</table>\n",
              "<p>757 rows × 2 columns</p>\n",
              "</div>\n",
              "    <div class=\"colab-df-buttons\">\n",
              "\n",
              "  <div class=\"colab-df-container\">\n",
              "    <button class=\"colab-df-convert\" onclick=\"convertToInteractive('df-7c2b3f45-585e-4a91-9735-dc5fc6c80fb1')\"\n",
              "            title=\"Convert this dataframe to an interactive table.\"\n",
              "            style=\"display:none;\">\n",
              "\n",
              "  <svg xmlns=\"http://www.w3.org/2000/svg\" height=\"24px\" viewBox=\"0 -960 960 960\">\n",
              "    <path d=\"M120-120v-720h720v720H120Zm60-500h600v-160H180v160Zm220 220h160v-160H400v160Zm0 220h160v-160H400v160ZM180-400h160v-160H180v160Zm440 0h160v-160H620v160ZM180-180h160v-160H180v160Zm440 0h160v-160H620v160Z\"/>\n",
              "  </svg>\n",
              "    </button>\n",
              "\n",
              "  <style>\n",
              "    .colab-df-container {\n",
              "      display:flex;\n",
              "      gap: 12px;\n",
              "    }\n",
              "\n",
              "    .colab-df-convert {\n",
              "      background-color: #E8F0FE;\n",
              "      border: none;\n",
              "      border-radius: 50%;\n",
              "      cursor: pointer;\n",
              "      display: none;\n",
              "      fill: #1967D2;\n",
              "      height: 32px;\n",
              "      padding: 0 0 0 0;\n",
              "      width: 32px;\n",
              "    }\n",
              "\n",
              "    .colab-df-convert:hover {\n",
              "      background-color: #E2EBFA;\n",
              "      box-shadow: 0px 1px 2px rgba(60, 64, 67, 0.3), 0px 1px 3px 1px rgba(60, 64, 67, 0.15);\n",
              "      fill: #174EA6;\n",
              "    }\n",
              "\n",
              "    .colab-df-buttons div {\n",
              "      margin-bottom: 4px;\n",
              "    }\n",
              "\n",
              "    [theme=dark] .colab-df-convert {\n",
              "      background-color: #3B4455;\n",
              "      fill: #D2E3FC;\n",
              "    }\n",
              "\n",
              "    [theme=dark] .colab-df-convert:hover {\n",
              "      background-color: #434B5C;\n",
              "      box-shadow: 0px 1px 3px 1px rgba(0, 0, 0, 0.15);\n",
              "      filter: drop-shadow(0px 1px 2px rgba(0, 0, 0, 0.3));\n",
              "      fill: #FFFFFF;\n",
              "    }\n",
              "  </style>\n",
              "\n",
              "    <script>\n",
              "      const buttonEl =\n",
              "        document.querySelector('#df-7c2b3f45-585e-4a91-9735-dc5fc6c80fb1 button.colab-df-convert');\n",
              "      buttonEl.style.display =\n",
              "        google.colab.kernel.accessAllowed ? 'block' : 'none';\n",
              "\n",
              "      async function convertToInteractive(key) {\n",
              "        const element = document.querySelector('#df-7c2b3f45-585e-4a91-9735-dc5fc6c80fb1');\n",
              "        const dataTable =\n",
              "          await google.colab.kernel.invokeFunction('convertToInteractive',\n",
              "                                                    [key], {});\n",
              "        if (!dataTable) return;\n",
              "\n",
              "        const docLinkHtml = 'Like what you see? Visit the ' +\n",
              "          '<a target=\"_blank\" href=https://colab.research.google.com/notebooks/data_table.ipynb>data table notebook</a>'\n",
              "          + ' to learn more about interactive tables.';\n",
              "        element.innerHTML = '';\n",
              "        dataTable['output_type'] = 'display_data';\n",
              "        await google.colab.output.renderOutput(dataTable, element);\n",
              "        const docLink = document.createElement('div');\n",
              "        docLink.innerHTML = docLinkHtml;\n",
              "        element.appendChild(docLink);\n",
              "      }\n",
              "    </script>\n",
              "  </div>\n",
              "\n",
              "\n",
              "<div id=\"df-b2c3fba4-b17b-4de4-9542-ad62d448987e\">\n",
              "  <button class=\"colab-df-quickchart\" onclick=\"quickchart('df-b2c3fba4-b17b-4de4-9542-ad62d448987e')\"\n",
              "            title=\"Suggest charts\"\n",
              "            style=\"display:none;\">\n",
              "\n",
              "<svg xmlns=\"http://www.w3.org/2000/svg\" height=\"24px\"viewBox=\"0 0 24 24\"\n",
              "     width=\"24px\">\n",
              "    <g>\n",
              "        <path d=\"M19 3H5c-1.1 0-2 .9-2 2v14c0 1.1.9 2 2 2h14c1.1 0 2-.9 2-2V5c0-1.1-.9-2-2-2zM9 17H7v-7h2v7zm4 0h-2V7h2v10zm4 0h-2v-4h2v4z\"/>\n",
              "    </g>\n",
              "</svg>\n",
              "  </button>\n",
              "\n",
              "<style>\n",
              "  .colab-df-quickchart {\n",
              "      --bg-color: #E8F0FE;\n",
              "      --fill-color: #1967D2;\n",
              "      --hover-bg-color: #E2EBFA;\n",
              "      --hover-fill-color: #174EA6;\n",
              "      --disabled-fill-color: #AAA;\n",
              "      --disabled-bg-color: #DDD;\n",
              "  }\n",
              "\n",
              "  [theme=dark] .colab-df-quickchart {\n",
              "      --bg-color: #3B4455;\n",
              "      --fill-color: #D2E3FC;\n",
              "      --hover-bg-color: #434B5C;\n",
              "      --hover-fill-color: #FFFFFF;\n",
              "      --disabled-bg-color: #3B4455;\n",
              "      --disabled-fill-color: #666;\n",
              "  }\n",
              "\n",
              "  .colab-df-quickchart {\n",
              "    background-color: var(--bg-color);\n",
              "    border: none;\n",
              "    border-radius: 50%;\n",
              "    cursor: pointer;\n",
              "    display: none;\n",
              "    fill: var(--fill-color);\n",
              "    height: 32px;\n",
              "    padding: 0;\n",
              "    width: 32px;\n",
              "  }\n",
              "\n",
              "  .colab-df-quickchart:hover {\n",
              "    background-color: var(--hover-bg-color);\n",
              "    box-shadow: 0 1px 2px rgba(60, 64, 67, 0.3), 0 1px 3px 1px rgba(60, 64, 67, 0.15);\n",
              "    fill: var(--button-hover-fill-color);\n",
              "  }\n",
              "\n",
              "  .colab-df-quickchart-complete:disabled,\n",
              "  .colab-df-quickchart-complete:disabled:hover {\n",
              "    background-color: var(--disabled-bg-color);\n",
              "    fill: var(--disabled-fill-color);\n",
              "    box-shadow: none;\n",
              "  }\n",
              "\n",
              "  .colab-df-spinner {\n",
              "    border: 2px solid var(--fill-color);\n",
              "    border-color: transparent;\n",
              "    border-bottom-color: var(--fill-color);\n",
              "    animation:\n",
              "      spin 1s steps(1) infinite;\n",
              "  }\n",
              "\n",
              "  @keyframes spin {\n",
              "    0% {\n",
              "      border-color: transparent;\n",
              "      border-bottom-color: var(--fill-color);\n",
              "      border-left-color: var(--fill-color);\n",
              "    }\n",
              "    20% {\n",
              "      border-color: transparent;\n",
              "      border-left-color: var(--fill-color);\n",
              "      border-top-color: var(--fill-color);\n",
              "    }\n",
              "    30% {\n",
              "      border-color: transparent;\n",
              "      border-left-color: var(--fill-color);\n",
              "      border-top-color: var(--fill-color);\n",
              "      border-right-color: var(--fill-color);\n",
              "    }\n",
              "    40% {\n",
              "      border-color: transparent;\n",
              "      border-right-color: var(--fill-color);\n",
              "      border-top-color: var(--fill-color);\n",
              "    }\n",
              "    60% {\n",
              "      border-color: transparent;\n",
              "      border-right-color: var(--fill-color);\n",
              "    }\n",
              "    80% {\n",
              "      border-color: transparent;\n",
              "      border-right-color: var(--fill-color);\n",
              "      border-bottom-color: var(--fill-color);\n",
              "    }\n",
              "    90% {\n",
              "      border-color: transparent;\n",
              "      border-bottom-color: var(--fill-color);\n",
              "    }\n",
              "  }\n",
              "</style>\n",
              "\n",
              "  <script>\n",
              "    async function quickchart(key) {\n",
              "      const quickchartButtonEl =\n",
              "        document.querySelector('#' + key + ' button');\n",
              "      quickchartButtonEl.disabled = true;  // To prevent multiple clicks.\n",
              "      quickchartButtonEl.classList.add('colab-df-spinner');\n",
              "      try {\n",
              "        const charts = await google.colab.kernel.invokeFunction(\n",
              "            'suggestCharts', [key], {});\n",
              "      } catch (error) {\n",
              "        console.error('Error during call to suggestCharts:', error);\n",
              "      }\n",
              "      quickchartButtonEl.classList.remove('colab-df-spinner');\n",
              "      quickchartButtonEl.classList.add('colab-df-quickchart-complete');\n",
              "    }\n",
              "    (() => {\n",
              "      let quickchartButtonEl =\n",
              "        document.querySelector('#df-b2c3fba4-b17b-4de4-9542-ad62d448987e button');\n",
              "      quickchartButtonEl.style.display =\n",
              "        google.colab.kernel.accessAllowed ? 'block' : 'none';\n",
              "    })();\n",
              "  </script>\n",
              "</div>\n",
              "\n",
              "    </div>\n",
              "  </div>\n"
            ]
          },
          "metadata": {},
          "execution_count": 32
        }
      ]
    },
    {
      "cell_type": "code",
      "source": [
        "# To choose a dataset, just replace `AirPassenger` with whatever you choose.\n",
        "my_df = data('AirPassengers')"
      ],
      "metadata": {
        "id": "XdtV2-Qp_BMw"
      },
      "execution_count": null,
      "outputs": []
    },
    {
      "cell_type": "markdown",
      "source": [
        "### Step 2: Summarize the Data\n",
        "Use methods like `df.head()`, `df.info()`, and `df.describe()` to explore your data. Tell me what you learned in a few sentences. (Note: If you're confused about the meaning of the \"variables\", you can Google for more info. All of these data sets should have publicly available \"data dictionaries\"."
      ],
      "metadata": {
        "id": "cRzdMsPuBg_G"
      }
    },
    {
      "cell_type": "code",
      "source": [],
      "metadata": {
        "id": "e-lJep_6B6xB"
      },
      "execution_count": null,
      "outputs": []
    },
    {
      "cell_type": "code",
      "source": [],
      "metadata": {
        "id": "tZvhhxleB6_n"
      },
      "execution_count": null,
      "outputs": []
    },
    {
      "cell_type": "code",
      "source": [],
      "metadata": {
        "id": "NdRs4lFCB7L6"
      },
      "execution_count": null,
      "outputs": []
    },
    {
      "cell_type": "markdown",
      "source": [
        "### Step 3: Create three visualizations\n",
        "Create three visualizations (your choice) of the data, and tell me a bit about what they show about your data."
      ],
      "metadata": {
        "id": "wKsFk-GCCB8N"
      }
    },
    {
      "cell_type": "code",
      "source": [],
      "metadata": {
        "id": "9z7v5AAbCJtj"
      },
      "execution_count": null,
      "outputs": []
    },
    {
      "cell_type": "code",
      "source": [],
      "metadata": {
        "id": "5KENxQpaCJ5s"
      },
      "execution_count": null,
      "outputs": []
    },
    {
      "cell_type": "code",
      "source": [],
      "metadata": {
        "id": "M_2KP6GfCKCh"
      },
      "execution_count": null,
      "outputs": []
    },
    {
      "cell_type": "markdown",
      "source": [
        "### My Answers (Text)"
      ],
      "metadata": {
        "id": "nLnGfIGaCYuh"
      }
    },
    {
      "cell_type": "code",
      "source": [],
      "metadata": {
        "id": "shAcY53GChBq"
      },
      "execution_count": null,
      "outputs": []
    }
  ]
}