{
  "nbformat": 4,
  "nbformat_minor": 0,
  "metadata": {
    "colab": {
      "provenance": [],
      "authorship_tag": "ABX9TyOx/mG5KC+14hGOtKkCRnNR",
      "include_colab_link": true
    },
    "kernelspec": {
      "name": "python3",
      "display_name": "Python 3"
    },
    "language_info": {
      "name": "python"
    }
  },
  "cells": [
    {
      "cell_type": "markdown",
      "metadata": {
        "id": "view-in-github",
        "colab_type": "text"
      },
      "source": [
        "<a href=\"https://colab.research.google.com/github/brendanpshea/programming_problem_solving/blob/main/Java_09_FilesExceptions.ipynb\" target=\"_parent\"><img src=\"https://colab.research.google.com/assets/colab-badge.svg\" alt=\"Open In Colab\"/></a>"
      ]
    },
    {
      "cell_type": "markdown",
      "source": [
        "## Working with Villainous Data: Simple File Handling\n",
        "\n",
        "At the *Bank of Evil*, nothing is more important than records. These are not just boring spreadsheets—they are the paper trail of world domination: deposits from stolen artwork, withdrawals for henchman payroll, and payments for custom shark tanks. If you can’t **store** this data somewhere permanent, you can’t run a proper evil empire.\n",
        "\n",
        "### **Files and Why We Use Them**\n",
        "\n",
        "A **file** is a place on your computer’s storage where data can live even after the program ends. You can think of it like the Bank of Evil’s vault: you can put things inside (writing) and take them out (reading).\n",
        "\n",
        "Two common file formats for simple data are:\n",
        "\n",
        "* **CSV (Comma-Separated Values)** – Each line represents one record, and values in that record are separated by commas.\n",
        "* **JSON (JavaScript Object Notation)** – Data is stored in a way that looks like Java objects, but as plain text.\n",
        "\n",
        "For now, we’ll start with **CSV** because it’s easier to work with as a beginner. A CSV file for villain bank transactions might look like this:\n",
        "\n",
        "```\n",
        "Villain,Amount\n",
        "Gru,5000000\n",
        "Scarlet Overkill,250000\n",
        "Vector,1250000\n",
        "```\n",
        "\n",
        "### **Writing to a File in Java**\n",
        "\n",
        "To put data into a file, Java has a class called **`FileWriter`**.\n",
        "\n",
        "* A **class** is a blueprint for creating objects (you learned this in the OOP chapters).\n",
        "* To use a class, we often need to create an **object** of that class.\n",
        "* An object is created with the `new` keyword:\n",
        "\n",
        "  ```java\n",
        "  FileWriter writer = new FileWriter(\"transactions.csv\");\n",
        "  ```\n",
        "\n",
        "  This line means: “Make a new FileWriter object, and connect it to a file called `transactions.csv`.”\n",
        "\n",
        "The `FileWriter` class has a **method** called `write()` that adds text to the file:\n",
        "\n",
        "```java\n",
        "writer.write(\"Villain,Amount\\n\");\n",
        "```\n",
        "\n",
        "The `\\n` means “start a new line” in the file.\n",
        "\n",
        "When we’re done writing, we call the **`close()`** method to shut the connection:\n",
        "\n",
        "```java\n",
        "writer.close();\n",
        "```\n",
        "\n",
        "If we don’t close it, the data might not be saved properly.\n",
        "\n",
        "One important note: **file writing can fail**. For example, you might not have permission to write to the folder. When that happens, Java will throw an **exception**—we’ll talk about those in detail later, but for now, we’ll use a small shortcut: adding\n",
        "\n",
        "```java\n",
        "throws IOException\n",
        "```\n",
        "\n",
        "to our method’s header tells Java, “I know this code might have a problem; if it does, pass it along to someone else to handle.”\n",
        "\n",
        "Here’s a complete, short example of writing our villain transactions file:"
      ],
      "metadata": {
        "id": "ZVuTktAYdlc6"
      }
    },
    {
      "cell_type": "code",
      "source": [
        "%%writefile BankFileWrite.java\n",
        "import java.io.FileWriter;\n",
        "import java.io.IOException;\n",
        "\n",
        "public class BankFileWrite {\n",
        "    public static void main(String[] args) throws IOException {\n",
        "        FileWriter writer = new FileWriter(\"transactions.csv\");\n",
        "        writer.write(\"Villain,Amount\\n\");\n",
        "        writer.write(\"Gru,5000000\\n\");\n",
        "        writer.write(\"Scarlet Overkill,250000\\n\");\n",
        "        writer.write(\"Vector,1250000\\n\");\n",
        "        writer.close();\n",
        "    }\n",
        "}"
      ],
      "metadata": {
        "colab": {
          "base_uri": "https://localhost:8080/"
        },
        "id": "xqhSoH7UeDMe",
        "outputId": "552d741a-8c1c-410b-d115-9683d6fb5e17"
      },
      "execution_count": 2,
      "outputs": [
        {
          "output_type": "stream",
          "name": "stdout",
          "text": [
            "Writing BankFileWrite.java\n"
          ]
        }
      ]
    },
    {
      "cell_type": "code",
      "source": [
        "!javac BankFileWrite.java\n",
        "!java BankFileWrite"
      ],
      "metadata": {
        "id": "U3jwY91ceG8J"
      },
      "execution_count": 3,
      "outputs": []
    },
    {
      "cell_type": "markdown",
      "source": [],
      "metadata": {
        "id": "JMCnIxhueBZb"
      }
    },
    {
      "cell_type": "markdown",
      "source": [
        "### **Reading a File in Java**\n",
        "\n",
        "To read a file, we can use the **`Scanner`** class (you’ve used it before for keyboard input) with a **`File`** object.\n",
        "\n",
        "1. A `File` object tells Java *where* the file is:\n",
        "\n",
        "   ```java\n",
        "   File file = new File(\"transactions.csv\");\n",
        "   ```\n",
        "2. A `Scanner` can read the file line by line:\n",
        "\n",
        "   ```java\n",
        "   Scanner scanner = new Scanner(file);\n",
        "   ```\n",
        "3. We use `hasNextLine()` to check if there’s another line, and `nextLine()` to read it:\n",
        "\n",
        "   ```java\n",
        "   while (scanner.hasNextLine()) {\n",
        "       String line = scanner.nextLine();\n",
        "       System.out.println(line);\n",
        "   }\n",
        "   ```\n",
        "\n",
        "Like with writing, reading a file can fail if the file isn’t there—so here we say:\n",
        "\n",
        "```java\n",
        "throws FileNotFoundException\n",
        "```\n",
        "\n",
        "to let Java know we’re aware.\n",
        "\n",
        "Here’s the full example:\n"
      ],
      "metadata": {
        "id": "AJe5w_EId6ou"
      }
    },
    {
      "cell_type": "code",
      "source": [
        "%%writefile BankFileRead.java\n",
        "import java.io.File;\n",
        "import java.io.FileNotFoundException;\n",
        "import java.util.Scanner;\n",
        "\n",
        "public class BankFileRead {\n",
        "    public static void main(String[] args) throws FileNotFoundException {\n",
        "        File file = new File(\"transactions.csv\");\n",
        "        Scanner scanner = new Scanner(file);\n",
        "\n",
        "        while (scanner.hasNextLine()) {\n",
        "            String line = scanner.nextLine();\n",
        "            System.out.println(line);\n",
        "        }\n",
        "        scanner.close();\n",
        "    }\n",
        "}\n"
      ],
      "metadata": {
        "colab": {
          "base_uri": "https://localhost:8080/"
        },
        "id": "PkQSMJNTdw8J",
        "outputId": "93dc1eab-c80c-4ab9-99ce-f336bd8b5825"
      },
      "execution_count": 1,
      "outputs": [
        {
          "output_type": "stream",
          "name": "stdout",
          "text": [
            "Writing BankFileRead.java\n"
          ]
        }
      ]
    },
    {
      "cell_type": "code",
      "source": [
        "!javac BankFileRead.java\n",
        "!java BankFileRead"
      ],
      "metadata": {
        "colab": {
          "base_uri": "https://localhost:8080/"
        },
        "id": "dLxzW6HbeN3c",
        "outputId": "c9edaa61-3a48-4495-877c-6c9e05ec45d1"
      },
      "execution_count": 4,
      "outputs": [
        {
          "output_type": "stream",
          "name": "stdout",
          "text": [
            "Villain,Amount\n",
            "Gru,5000000\n",
            "Scarlet Overkill,250000\n",
            "Vector,1250000\n"
          ]
        }
      ]
    },
    {
      "cell_type": "markdown",
      "source": [
        "\n",
        "### What We've Learned\n",
        "In this section you’ve learned:\n",
        "\n",
        "* What files are and why we use them.\n",
        "* How to write text to a CSV file with `FileWriter`.\n",
        "* How to read text from a CSV file with `Scanner` and `File`.\n",
        "* That file operations can fail, leading to **exceptions**, which we’ll dig into next.\n",
        "\n"
      ],
      "metadata": {
        "id": "YSmfZl5sdtE1"
      }
    },
    {
      "cell_type": "markdown",
      "source": [
        "## Expecting the Unexpected: What Are Exceptions?\n",
        "\n",
        "At the Bank of Evil, the unexpected is part of daily life. Henchmen may forget to lock the vault. Sharks in the lair’s moat may refuse to eat the intruder. And sometimes, the “Deposit All Loot” button mysteriously wires funds to the *Bank of Goodness* instead. In programming, unexpected things happen too, and when they do, Java uses something called an **exception** to let us know.\n",
        "\n",
        "### What an exception is\n",
        "\n",
        "An **exception** is a special object that represents a problem in your program. When something goes wrong—like trying to open a file that doesn’t exist—Java *throws* an exception. Throwing an exception means the program stops its normal flow and looks for someone who can handle the problem.\n",
        "\n",
        "If no one handles the exception, the program will crash. In the real world, that’s like a bank teller running away screaming instead of helping you fix a transaction.\n",
        "\n",
        "### Common examples\n",
        "\n",
        "Here are a few things that can cause exceptions:\n",
        "\n",
        "* Trying to read a file that isn’t there.\n",
        "* Dividing by zero.\n",
        "* Asking a program to convert `\"banana\"` into a number.\n",
        "* Accessing an array at an index that doesn’t exist.\n",
        "\n",
        "### Checked vs. unchecked exceptions\n",
        "\n",
        "In Java, there are two main kinds:\n",
        "\n",
        "* **Checked exceptions** – Problems Java makes you deal with at compile time. For example, reading a file can throw a `FileNotFoundException`. You either have to handle it with a `try…catch` block or declare it with `throws`.\n",
        "* **Unchecked exceptions** – Problems that can happen while running your program (runtime errors) and that Java doesn’t force you to handle, like dividing by zero.\n",
        "\n",
        "For beginners, the main thing to remember is: **checked exceptions require handling**.\n",
        "\n",
        "### Throwing and catching exceptions\n",
        "\n",
        "If something goes wrong, Java will “throw” an exception. If your code knows how to deal with it, you can “catch” it and respond, so the whole program doesn’t crash.\n",
        "\n",
        "We’ll see how to do that with `try…catch` in the next section. For now, here’s a very small example that will deliberately cause a `FileNotFoundException`:\n",
        "\n",
        "```java\n",
        "import java.io.File;\n",
        "import java.io.FileNotFoundException;\n",
        "import java.util.Scanner;\n",
        "\n",
        "public class MissingFileExample {\n",
        "    public static void main(String[] args) throws FileNotFoundException {\n",
        "        File file = new File(\"nonexistent.csv\");\n",
        "        Scanner scanner = new Scanner(file); // This will throw an exception\n",
        "    }\n",
        "}\n",
        "```\n",
        "\n",
        "In this code:\n",
        "\n",
        "1. We create a `File` object pointing to a file that doesn’t exist.\n",
        "2. When `new Scanner(file)` tries to read it, Java throws a `FileNotFoundException`.\n",
        "3. Since we wrote `throws FileNotFoundException` in `main`, we told Java to pass the problem upward (to the program’s top level), which will crash and print an error message.\n",
        "\n",
        "That error message might look something like this:\n",
        "\n",
        "```\n",
        "Exception in thread \"main\" java.io.FileNotFoundException: nonexistent.csv (No such file or directory)\n",
        "    at java.base/java.util.Scanner.<init>(Scanner.java:639)\n",
        "    ...\n",
        "```\n",
        "\n",
        "The message includes:\n",
        "\n",
        "* The type of exception (`FileNotFoundException`).\n",
        "* A description of what went wrong.\n",
        "* A “stack trace” showing where in the code it happened.\n",
        "\n",
        "### Why exceptions matter\n",
        "\n",
        "Ignoring exceptions is like ignoring alarms in the bank vault. You might get away with it once, but sooner or later, disaster strikes. Exceptions let your program notice problems and recover from them, or at least fail in a controlled way.\n",
        "\n",
        "In the next section, we’ll see how to actually **catch** exceptions with `try…catch` so that the Bank of Evil’s systems can keep running even when something goes wrong.\n"
      ],
      "metadata": {
        "id": "_st74-8ke5AR"
      }
    },
    {
      "cell_type": "markdown",
      "source": [
        "## Catching Trouble Before It Catches You: try–catch\n",
        "\n",
        "In the Bank of Evil, you never want a single small problem to bring the whole operation to a halt. If the vault door jams, you don’t shut down the entire bank—you call the maintenance goblins to fix it while everyone else keeps working. In Java, the way to do this is with a **try–catch** block.\n",
        "\n",
        "### What try–catch does\n",
        "\n",
        "A **try–catch** block lets you run code that *might* throw an exception, and then handle that exception if it happens.\n",
        "\n",
        "* **`try` block** – You put risky code here (like reading a file that might not exist).\n",
        "* **`catch` block** – If an exception is thrown in the try block, the catch block runs instead of letting the program crash.\n",
        "\n",
        "The general shape looks like this:\n",
        "\n",
        "```java\n",
        "try {\n",
        "    // Code that might throw an exception\n",
        "} catch (ExceptionType variableName) {\n",
        "    // Code to handle the problem\n",
        "}\n",
        "```\n",
        "\n",
        "* `ExceptionType` is the kind of exception you want to handle (e.g., `FileNotFoundException`).\n",
        "* `variableName` is a name you choose for the exception object (often `e`).\n",
        "\n",
        "### Why not just let the program crash?\n",
        "\n",
        "If the vault jams during a heist, the whole plan doesn’t stop—you switch to Plan B. Similarly, catching exceptions lets you:\n",
        "\n",
        "* Print a friendly error message.\n",
        "* Try a backup plan (like loading a default file).\n",
        "* Continue running the rest of the program.\n",
        "\n",
        "### Example: reading a file safely\n",
        "\n",
        "Let’s rewrite the `BankFileRead` program from earlier so it doesn’t crash if the file is missing:\n"
      ],
      "metadata": {
        "id": "_vbWtNMxrg09"
      }
    },
    {
      "cell_type": "code",
      "source": [
        "%%writefile BankFileReadSafe.java\n",
        "import java.io.File;\n",
        "import java.io.FileNotFoundException;\n",
        "import java.util.Scanner;\n",
        "\n",
        "public class BankFileReadSafe {\n",
        "    public static void main(String[] args) {\n",
        "        try {\n",
        "            File file = new File(\"transactions.csv\");\n",
        "            Scanner scanner = new Scanner(file);\n",
        "\n",
        "            while (scanner.hasNextLine()) {\n",
        "                String line = scanner.nextLine();\n",
        "                System.out.println(line);\n",
        "            }\n",
        "            scanner.close();\n",
        "\n",
        "        } catch (FileNotFoundException e) {\n",
        "            System.out.println(\"Error: Could not find transactions file.\");\n",
        "            System.out.println(\"Please make sure 'transactions.csv' exists.\");\n",
        "        }\n",
        "    }\n",
        "}\n"
      ],
      "metadata": {
        "colab": {
          "base_uri": "https://localhost:8080/"
        },
        "id": "vCGcBEiKrsSF",
        "outputId": "d7608f0e-6203-44df-b402-d9169c930393"
      },
      "execution_count": 1,
      "outputs": [
        {
          "output_type": "stream",
          "name": "stdout",
          "text": [
            "Writing BankFileReadSafe.java\n"
          ]
        }
      ]
    },
    {
      "cell_type": "code",
      "source": [
        "!javac BankFileReadSafe.java\n",
        "!java BankFileReadSafe"
      ],
      "metadata": {
        "colab": {
          "base_uri": "https://localhost:8080/"
        },
        "id": "c-otn8x_ryLD",
        "outputId": "bc11dc2d-3287-447e-e0d3-ceed2d186786"
      },
      "execution_count": 2,
      "outputs": [
        {
          "output_type": "stream",
          "name": "stdout",
          "text": [
            "Error: Could not find transactions file.\n",
            "Please make sure 'transactions.csv' exists.\n"
          ]
        }
      ]
    },
    {
      "cell_type": "markdown",
      "source": [
        "### How it works\n",
        "\n",
        "1. We put all the risky file-reading code inside the `try` block.\n",
        "2. If `new Scanner(file)` throws a `FileNotFoundException`, the program immediately jumps to the `catch` block.\n",
        "3. In the `catch` block, we print a helpful message instead of letting Java display its scary red error output.\n",
        "\n",
        "### Multiple catch blocks\n",
        "\n",
        "You can also have more than one `catch` block to handle different types of exceptions differently. For example:\n",
        "\n",
        "```java\n",
        "try {\n",
        "    // risky code\n",
        "} catch (FileNotFoundException e) {\n",
        "    // handle missing file\n",
        "} catch (Exception e) {\n",
        "    // handle anything else\n",
        "}\n",
        "```\n",
        "\n",
        "For now, though, one `catch` is enough for most beginner programs.\n",
        "\n",
        "---\n",
        "\n",
        "In the next section, we’ll look at **finally**, a way to guarantee that certain cleanup code—like closing the vault—runs whether or not there was a problem. This is especially important for file handling at the Bank of Evil.\n",
        "\n"
      ],
      "metadata": {
        "id": "znrMYUu2rmEp"
      }
    },
    {
      "cell_type": "markdown",
      "source": [
        "## The Clean-Up Crew: finally\n",
        "\n",
        "At the Bank of Evil, some jobs must always be done—no matter what happens. If a heist goes wrong, you still close the vault. If the shark tank floods, you still turn off the security lasers before you leave. In Java, we can make sure important cleanup work always happens by using a **`finally`** block.\n",
        "\n",
        "### What finally does\n",
        "\n",
        "A `finally` block contains code that **always runs**, whether or not an exception was thrown.\n",
        "\n",
        "* If the `try` block works with no problems, `finally` runs after it finishes.\n",
        "* If an exception happens and the `catch` block runs, `finally` still runs afterward.\n",
        "\n",
        "The general shape looks like this:\n",
        "\n",
        "```java\n",
        "try {\n",
        "    // risky code\n",
        "} catch (ExceptionType e) {\n",
        "    // handle the problem\n",
        "} finally {\n",
        "    // cleanup code that should run no matter what\n",
        "}\n",
        "```\n",
        "\n",
        "### Why it matters for files\n",
        "\n",
        "When working with files, we almost always need to close them to make sure changes are saved and system resources are freed. If we forget to close a file—or skip it because an error happened—our program might lose data or even lock the file so it can’t be opened later.\n",
        "\n",
        "`finally` is the perfect place to close files because it guarantees that closing happens even if something goes wrong.\n",
        "\n",
        "### Example: reading and closing a file safely\n",
        "\n",
        "Here’s an improved version of our safe file reader:\n"
      ],
      "metadata": {
        "id": "4a3My5FWsO5u"
      }
    },
    {
      "cell_type": "code",
      "source": [
        "%%writefile BankFileReadFinally.java\n",
        "import java.io.File;\n",
        "import java.io.FileNotFoundException;\n",
        "import java.util.Scanner;\n",
        "\n",
        "public class BankFileReadFinally {\n",
        "    public static void main(String[] args) {\n",
        "        Scanner scanner = null;\n",
        "        try {\n",
        "            File file = new File(\"transactions.csv\");\n",
        "            scanner = new Scanner(file);\n",
        "\n",
        "            while (scanner.hasNextLine()) {\n",
        "                String line = scanner.nextLine();\n",
        "                System.out.println(line);\n",
        "            }\n",
        "\n",
        "        } catch (FileNotFoundException e) {\n",
        "            System.out.println(\"Error: Could not find transactions file.\");\n",
        "        } finally {\n",
        "            if (scanner != null) {\n",
        "                scanner.close();\n",
        "                System.out.println(\"File closed.\");\n",
        "            }\n",
        "        }\n",
        "    }\n",
        "}\n"
      ],
      "metadata": {
        "colab": {
          "base_uri": "https://localhost:8080/"
        },
        "id": "6vJnSqCNsd2V",
        "outputId": "f4cfb8d2-706f-405b-9fd8-fa7aa178c3ed"
      },
      "execution_count": 3,
      "outputs": [
        {
          "output_type": "stream",
          "name": "stdout",
          "text": [
            "Writing BankFileReadFinally.java\n"
          ]
        }
      ]
    },
    {
      "cell_type": "code",
      "source": [
        "!javac BankFileReadFinally.java\n",
        "!java BankFileReadFinally"
      ],
      "metadata": {
        "colab": {
          "base_uri": "https://localhost:8080/"
        },
        "id": "SlcA93J6siVz",
        "outputId": "2fc42bca-75e1-483a-c63f-05b8424bd424"
      },
      "execution_count": 4,
      "outputs": [
        {
          "output_type": "stream",
          "name": "stdout",
          "text": [
            "Error: Could not find transactions file.\n"
          ]
        }
      ]
    },
    {
      "cell_type": "markdown",
      "source": [
        "### How it works\n",
        "\n",
        "1. We declare `scanner` outside the `try` block so it can be used in `finally`.\n",
        "2. Inside `try`, we open the file and read it.\n",
        "3. If a `FileNotFoundException` happens, the `catch` block prints a helpful message.\n",
        "4. The `finally` block checks if `scanner` is not `null` (meaning the file was opened) and then closes it, no matter what.\n",
        "\n",
        "### A note for the future\n",
        "\n",
        "Java has a special feature called **try-with-resources** that makes this cleaner and avoids needing `finally` for many cases, but that’s something we’ll cover later, once you’re more comfortable with exceptions.\n",
        "\n",
        "---\n",
        "\n",
        "In the next section, we’ll look at **declaring exceptions with `throws`**—a way for a method to say, “I might have a problem; you deal with it.” This is a key part of designing classes in OOP, especially when working on a big project like the Bank of Evil’s account management system.\n"
      ],
      "metadata": {
        "id": "rEVyhkDGsZqB"
      }
    },
    {
      "cell_type": "markdown",
      "source": [
        "## Declaring Exceptions: throws\n",
        "\n",
        "In the Bank of Evil, not every employee fixes problems themselves. If the vault door is stuck, the teller doesn’t grab a wrench—they call the maintenance goblins and let them deal with it. In Java, a method can take the same approach: instead of handling a problem directly, it can *declare* that the problem might happen and pass it along to whoever called the method.\n",
        "\n",
        "We do this with the **`throws`** keyword.\n",
        "\n",
        "### What throws means\n",
        "\n",
        "When you write a method, you can add `throws` followed by one or more **checked exception types**. This tells Java:\n",
        "\n",
        "> “This method might cause these exceptions. I’m not handling them here—if they happen, the caller must handle them.”\n",
        "\n",
        "For example:\n",
        "\n",
        "```java\n",
        "public void loadTransactions() throws FileNotFoundException {\n",
        "    // code that might throw FileNotFoundException\n",
        "}\n",
        "```\n",
        "\n",
        "If a method you write declares `throws FileNotFoundException`, then any code that calls it has two options:\n",
        "\n",
        "1. **Handle** the exception with `try…catch`.\n",
        "2. **Also declare** that it throws the same exception.\n",
        "\n",
        "### Why it matters in OOP\n",
        "\n",
        "In object-oriented programming, you’ll often write **helper methods** inside your classes. Sometimes those methods will do risky things—like opening a file or connecting to a database. Declaring exceptions lets you keep your helper methods focused and let higher-level code decide what to do if something goes wrong.\n",
        "\n",
        "It’s like the difference between:\n",
        "\n",
        "* A security guard deciding exactly how to respond to a bank robbery (handle it directly).\n",
        "* A security guard just calling the head of security and saying, “We have a problem” (declare it and pass it along).\n",
        "\n",
        "### Example: declaring an exception in a helper method\n",
        "\n",
        "Let’s make a `BankUtils` class with a method to load our CSV file. This method will declare that it throws `FileNotFoundException` so the caller can decide how to handle it.\n"
      ],
      "metadata": {
        "id": "LM56KBFls368"
      }
    },
    {
      "cell_type": "code",
      "source": [
        "%%writefile BankUtils.java\n",
        "import java.io.File;\n",
        "import java.io.FileNotFoundException;\n",
        "import java.util.Scanner;\n",
        "\n",
        "public class BankUtils {\n",
        "    public static void loadTransactions(String filename) throws FileNotFoundException {\n",
        "        File file = new File(filename);\n",
        "        Scanner scanner = new Scanner(file);\n",
        "\n",
        "        while (scanner.hasNextLine()) {\n",
        "            String line = scanner.nextLine();\n",
        "            System.out.println(line);\n",
        "        }\n",
        "        scanner.close();\n",
        "    }\n",
        "}\n"
      ],
      "metadata": {
        "colab": {
          "base_uri": "https://localhost:8080/"
        },
        "id": "n4WLfI1ltTw1",
        "outputId": "b8181a8f-5201-4866-86c7-b2b3b055a3ff"
      },
      "execution_count": 6,
      "outputs": [
        {
          "output_type": "stream",
          "name": "stdout",
          "text": [
            "Writing BankUtils.java\n"
          ]
        }
      ]
    },
    {
      "cell_type": "markdown",
      "source": [
        "Now here’s a program that calls it:\n"
      ],
      "metadata": {
        "id": "DinQv7xFtPVJ"
      }
    },
    {
      "cell_type": "code",
      "source": [
        "%%writefile BankApp.java\n",
        "\n",
        "import java.io.File;\n",
        "import java.io.FileNotFoundException;\n",
        "\n",
        "public class BankApp {\n",
        "    public static void main(String[] args) {\n",
        "        try {\n",
        "            BankUtils.loadTransactions(\"transactions.csv\");\n",
        "        } catch (FileNotFoundException e) {\n",
        "            System.out.println(\"Transactions file missing! Cannot proceed.\");\n",
        "        }\n",
        "    }\n",
        "}\n"
      ],
      "metadata": {
        "colab": {
          "base_uri": "https://localhost:8080/"
        },
        "id": "X6fAVSkUtG92",
        "outputId": "4fff1b79-6d6e-44f7-f913-cc3269e4dfcf"
      },
      "execution_count": 8,
      "outputs": [
        {
          "output_type": "stream",
          "name": "stdout",
          "text": [
            "Overwriting BankApp.java\n"
          ]
        }
      ]
    },
    {
      "cell_type": "code",
      "source": [
        "!javac BankApp.java\n",
        "!java BankApp"
      ],
      "metadata": {
        "colab": {
          "base_uri": "https://localhost:8080/"
        },
        "id": "YC7l_1_ZtKBM",
        "outputId": "87e744bf-ef0f-46bf-9378-b7146093b232"
      },
      "execution_count": 9,
      "outputs": [
        {
          "output_type": "stream",
          "name": "stdout",
          "text": [
            "Transactions file missing! Cannot proceed.\n"
          ]
        }
      ]
    },
    {
      "cell_type": "markdown",
      "source": [
        "### How this works\n",
        "\n",
        "1. `BankUtils.loadTransactions()` does not handle the possible `FileNotFoundException`.\n",
        "2. Instead, it declares `throws FileNotFoundException`.\n",
        "3. In `BankApp.main()`, we call it inside a `try…catch` to deal with the problem if it happens.\n",
        "\n",
        "This separation of responsibilities makes your code cleaner and easier to maintain—especially as programs grow beyond a single file.\n",
        "\n",
        "---\n",
        "\n",
        "In the next section, we’ll make our *own* exceptions—custom error types for special situations, like catching villains trying to withdraw more than their allowed “Evil Credit Limit.”\n"
      ],
      "metadata": {
        "id": "v9Ge1lNptEYr"
      }
    },
    {
      "cell_type": "code",
      "source": [],
      "metadata": {
        "id": "NfK6EE_be_Sh"
      },
      "execution_count": null,
      "outputs": []
    }
  ]
}