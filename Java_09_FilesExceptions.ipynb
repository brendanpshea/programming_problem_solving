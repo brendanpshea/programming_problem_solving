{
  "nbformat": 4,
  "nbformat_minor": 0,
  "metadata": {
    "colab": {
      "provenance": [],
      "authorship_tag": "ABX9TyOnSBdCwAMH9iIQgBfo9uYx",
      "include_colab_link": true
    },
    "kernelspec": {
      "name": "python3",
      "display_name": "Python 3"
    },
    "language_info": {
      "name": "python"
    }
  },
  "cells": [
    {
      "cell_type": "markdown",
      "metadata": {
        "id": "view-in-github",
        "colab_type": "text"
      },
      "source": [
        "<a href=\"https://colab.research.google.com/github/brendanpshea/programming_problem_solving/blob/main/Java_09_FilesExceptions.ipynb\" target=\"_parent\"><img src=\"https://colab.research.google.com/assets/colab-badge.svg\" alt=\"Open In Colab\"/></a>"
      ]
    },
    {
      "cell_type": "code",
      "execution_count": null,
      "metadata": {
        "id": "reWjwL9kdk3h"
      },
      "outputs": [],
      "source": []
    },
    {
      "cell_type": "markdown",
      "source": [
        "## Working with Villainous Data: Simple File Handling\n",
        "\n",
        "At the *Bank of Evil*, nothing is more important than records. These are not just boring spreadsheets—they are the paper trail of world domination: deposits from stolen artwork, withdrawals for henchman payroll, and payments for custom shark tanks. If you can’t **store** this data somewhere permanent, you can’t run a proper evil empire.\n",
        "\n",
        "### **Files and Why We Use Them**\n",
        "\n",
        "A **file** is a place on your computer’s storage where data can live even after the program ends. You can think of it like the Bank of Evil’s vault: you can put things inside (writing) and take them out (reading).\n",
        "\n",
        "Two common file formats for simple data are:\n",
        "\n",
        "* **CSV (Comma-Separated Values)** – Each line represents one record, and values in that record are separated by commas.\n",
        "* **JSON (JavaScript Object Notation)** – Data is stored in a way that looks like Java objects, but as plain text.\n",
        "\n",
        "For now, we’ll start with **CSV** because it’s easier to work with as a beginner. A CSV file for villain bank transactions might look like this:\n",
        "\n",
        "```\n",
        "Villain,Amount\n",
        "Gru,5000000\n",
        "Scarlet Overkill,250000\n",
        "Vector,1250000\n",
        "```\n",
        "\n",
        "### **Writing to a File in Java**\n",
        "\n",
        "To put data into a file, Java has a class called **`FileWriter`**.\n",
        "\n",
        "* A **class** is a blueprint for creating objects (you learned this in the OOP chapters).\n",
        "* To use a class, we often need to create an **object** of that class.\n",
        "* An object is created with the `new` keyword:\n",
        "\n",
        "  ```java\n",
        "  FileWriter writer = new FileWriter(\"transactions.csv\");\n",
        "  ```\n",
        "\n",
        "  This line means: “Make a new FileWriter object, and connect it to a file called `transactions.csv`.”\n",
        "\n",
        "The `FileWriter` class has a **method** called `write()` that adds text to the file:\n",
        "\n",
        "```java\n",
        "writer.write(\"Villain,Amount\\n\");\n",
        "```\n",
        "\n",
        "The `\\n` means “start a new line” in the file.\n",
        "\n",
        "When we’re done writing, we call the **`close()`** method to shut the connection:\n",
        "\n",
        "```java\n",
        "writer.close();\n",
        "```\n",
        "\n",
        "If we don’t close it, the data might not be saved properly.\n",
        "\n",
        "One important note: **file writing can fail**. For example, you might not have permission to write to the folder. When that happens, Java will throw an **exception**—we’ll talk about those in detail later, but for now, we’ll use a small shortcut: adding\n",
        "\n",
        "```java\n",
        "throws IOException\n",
        "```\n",
        "\n",
        "to our method’s header tells Java, “I know this code might have a problem; if it does, pass it along to someone else to handle.”\n",
        "\n",
        "Here’s a complete, short example of writing our villain transactions file:"
      ],
      "metadata": {
        "id": "ZVuTktAYdlc6"
      }
    },
    {
      "cell_type": "code",
      "source": [
        "%%writefile BankFileWrite.java\n",
        "import java.io.FileWriter;\n",
        "import java.io.IOException;\n",
        "\n",
        "public class BankFileWrite {\n",
        "    public static void main(String[] args) throws IOException {\n",
        "        FileWriter writer = new FileWriter(\"transactions.csv\");\n",
        "        writer.write(\"Villain,Amount\\n\");\n",
        "        writer.write(\"Gru,5000000\\n\");\n",
        "        writer.write(\"Scarlet Overkill,250000\\n\");\n",
        "        writer.write(\"Vector,1250000\\n\");\n",
        "        writer.close();\n",
        "    }\n",
        "}"
      ],
      "metadata": {
        "colab": {
          "base_uri": "https://localhost:8080/"
        },
        "id": "xqhSoH7UeDMe",
        "outputId": "552d741a-8c1c-410b-d115-9683d6fb5e17"
      },
      "execution_count": 2,
      "outputs": [
        {
          "output_type": "stream",
          "name": "stdout",
          "text": [
            "Writing BankFileWrite.java\n"
          ]
        }
      ]
    },
    {
      "cell_type": "code",
      "source": [
        "!javac BankFileWrite.java\n",
        "!java BankFileWrite"
      ],
      "metadata": {
        "id": "U3jwY91ceG8J"
      },
      "execution_count": 3,
      "outputs": []
    },
    {
      "cell_type": "markdown",
      "source": [],
      "metadata": {
        "id": "JMCnIxhueBZb"
      }
    },
    {
      "cell_type": "markdown",
      "source": [
        "### **Reading a File in Java**\n",
        "\n",
        "To read a file, we can use the **`Scanner`** class (you’ve used it before for keyboard input) with a **`File`** object.\n",
        "\n",
        "1. A `File` object tells Java *where* the file is:\n",
        "\n",
        "   ```java\n",
        "   File file = new File(\"transactions.csv\");\n",
        "   ```\n",
        "2. A `Scanner` can read the file line by line:\n",
        "\n",
        "   ```java\n",
        "   Scanner scanner = new Scanner(file);\n",
        "   ```\n",
        "3. We use `hasNextLine()` to check if there’s another line, and `nextLine()` to read it:\n",
        "\n",
        "   ```java\n",
        "   while (scanner.hasNextLine()) {\n",
        "       String line = scanner.nextLine();\n",
        "       System.out.println(line);\n",
        "   }\n",
        "   ```\n",
        "\n",
        "Like with writing, reading a file can fail if the file isn’t there—so here we say:\n",
        "\n",
        "```java\n",
        "throws FileNotFoundException\n",
        "```\n",
        "\n",
        "to let Java know we’re aware.\n",
        "\n",
        "Here’s the full example:\n"
      ],
      "metadata": {
        "id": "AJe5w_EId6ou"
      }
    },
    {
      "cell_type": "code",
      "source": [
        "%%writefile BankFileRead.java\n",
        "import java.io.File;\n",
        "import java.io.FileNotFoundException;\n",
        "import java.util.Scanner;\n",
        "\n",
        "public class BankFileRead {\n",
        "    public static void main(String[] args) throws FileNotFoundException {\n",
        "        File file = new File(\"transactions.csv\");\n",
        "        Scanner scanner = new Scanner(file);\n",
        "\n",
        "        while (scanner.hasNextLine()) {\n",
        "            String line = scanner.nextLine();\n",
        "            System.out.println(line);\n",
        "        }\n",
        "        scanner.close();\n",
        "    }\n",
        "}\n"
      ],
      "metadata": {
        "colab": {
          "base_uri": "https://localhost:8080/"
        },
        "id": "PkQSMJNTdw8J",
        "outputId": "93dc1eab-c80c-4ab9-99ce-f336bd8b5825"
      },
      "execution_count": 1,
      "outputs": [
        {
          "output_type": "stream",
          "name": "stdout",
          "text": [
            "Writing BankFileRead.java\n"
          ]
        }
      ]
    },
    {
      "cell_type": "code",
      "source": [
        "!javac BankFileRead.java\n",
        "!java BankFileRead"
      ],
      "metadata": {
        "colab": {
          "base_uri": "https://localhost:8080/"
        },
        "id": "dLxzW6HbeN3c",
        "outputId": "c9edaa61-3a48-4495-877c-6c9e05ec45d1"
      },
      "execution_count": 4,
      "outputs": [
        {
          "output_type": "stream",
          "name": "stdout",
          "text": [
            "Villain,Amount\n",
            "Gru,5000000\n",
            "Scarlet Overkill,250000\n",
            "Vector,1250000\n"
          ]
        }
      ]
    },
    {
      "cell_type": "markdown",
      "source": [
        "\n",
        "### What We've Learned\n",
        "In this section you’ve learned:\n",
        "\n",
        "* What files are and why we use them.\n",
        "* How to write text to a CSV file with `FileWriter`.\n",
        "* How to read text from a CSV file with `Scanner` and `File`.\n",
        "* That file operations can fail, leading to **exceptions**, which we’ll dig into next.\n",
        "\n"
      ],
      "metadata": {
        "id": "YSmfZl5sdtE1"
      }
    },
    {
      "cell_type": "markdown",
      "source": [
        "## Expecting the Unexpected: What Are Exceptions?\n",
        "\n",
        "At the Bank of Evil, the unexpected is part of daily life. Henchmen may forget to lock the vault. Sharks in the lair’s moat may refuse to eat the intruder. And sometimes, the “Deposit All Loot” button mysteriously wires funds to the *Bank of Goodness* instead. In programming, unexpected things happen too, and when they do, Java uses something called an **exception** to let us know.\n",
        "\n",
        "### What an exception is\n",
        "\n",
        "An **exception** is a special object that represents a problem in your program. When something goes wrong—like trying to open a file that doesn’t exist—Java *throws* an exception. Throwing an exception means the program stops its normal flow and looks for someone who can handle the problem.\n",
        "\n",
        "If no one handles the exception, the program will crash. In the real world, that’s like a bank teller running away screaming instead of helping you fix a transaction.\n",
        "\n",
        "### Common examples\n",
        "\n",
        "Here are a few things that can cause exceptions:\n",
        "\n",
        "* Trying to read a file that isn’t there.\n",
        "* Dividing by zero.\n",
        "* Asking a program to convert `\"banana\"` into a number.\n",
        "* Accessing an array at an index that doesn’t exist.\n",
        "\n",
        "### Checked vs. unchecked exceptions\n",
        "\n",
        "In Java, there are two main kinds:\n",
        "\n",
        "* **Checked exceptions** – Problems Java makes you deal with at compile time. For example, reading a file can throw a `FileNotFoundException`. You either have to handle it with a `try…catch` block or declare it with `throws`.\n",
        "* **Unchecked exceptions** – Problems that can happen while running your program (runtime errors) and that Java doesn’t force you to handle, like dividing by zero.\n",
        "\n",
        "For beginners, the main thing to remember is: **checked exceptions require handling**.\n",
        "\n",
        "### Throwing and catching exceptions\n",
        "\n",
        "If something goes wrong, Java will “throw” an exception. If your code knows how to deal with it, you can “catch” it and respond, so the whole program doesn’t crash.\n",
        "\n",
        "We’ll see how to do that with `try…catch` in the next section. For now, here’s a very small example that will deliberately cause a `FileNotFoundException`:\n",
        "\n",
        "```java\n",
        "import java.io.File;\n",
        "import java.io.FileNotFoundException;\n",
        "import java.util.Scanner;\n",
        "\n",
        "public class MissingFileExample {\n",
        "    public static void main(String[] args) throws FileNotFoundException {\n",
        "        File file = new File(\"nonexistent.csv\");\n",
        "        Scanner scanner = new Scanner(file); // This will throw an exception\n",
        "    }\n",
        "}\n",
        "```\n",
        "\n",
        "In this code:\n",
        "\n",
        "1. We create a `File` object pointing to a file that doesn’t exist.\n",
        "2. When `new Scanner(file)` tries to read it, Java throws a `FileNotFoundException`.\n",
        "3. Since we wrote `throws FileNotFoundException` in `main`, we told Java to pass the problem upward (to the program’s top level), which will crash and print an error message.\n",
        "\n",
        "That error message might look something like this:\n",
        "\n",
        "```\n",
        "Exception in thread \"main\" java.io.FileNotFoundException: nonexistent.csv (No such file or directory)\n",
        "    at java.base/java.util.Scanner.<init>(Scanner.java:639)\n",
        "    ...\n",
        "```\n",
        "\n",
        "The message includes:\n",
        "\n",
        "* The type of exception (`FileNotFoundException`).\n",
        "* A description of what went wrong.\n",
        "* A “stack trace” showing where in the code it happened.\n",
        "\n",
        "### Why exceptions matter\n",
        "\n",
        "Ignoring exceptions is like ignoring alarms in the bank vault. You might get away with it once, but sooner or later, disaster strikes. Exceptions let your program notice problems and recover from them, or at least fail in a controlled way.\n",
        "\n",
        "In the next section, we’ll see how to actually **catch** exceptions with `try…catch` so that the Bank of Evil’s systems can keep running even when something goes wrong.\n"
      ],
      "metadata": {
        "id": "_st74-8ke5AR"
      }
    },
    {
      "cell_type": "code",
      "source": [],
      "metadata": {
        "id": "NfK6EE_be_Sh"
      },
      "execution_count": null,
      "outputs": []
    }
  ]
}