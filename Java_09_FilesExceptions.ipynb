{
  "nbformat": 4,
  "nbformat_minor": 0,
  "metadata": {
    "colab": {
      "provenance": [],
      "authorship_tag": "ABX9TyNeM12dABvlyTKNrRkof1OT",
      "include_colab_link": true
    },
    "kernelspec": {
      "name": "python3",
      "display_name": "Python 3"
    },
    "language_info": {
      "name": "python"
    }
  },
  "cells": [
    {
      "cell_type": "markdown",
      "metadata": {
        "id": "view-in-github",
        "colab_type": "text"
      },
      "source": [
        "<a href=\"https://colab.research.google.com/github/brendanpshea/programming_problem_solving/blob/main/Java_09_FilesExceptions.ipynb\" target=\"_parent\"><img src=\"https://colab.research.google.com/assets/colab-badge.svg\" alt=\"Open In Colab\"/></a>"
      ]
    },
    {
      "cell_type": "markdown",
      "source": [
        "## Working with Villainous Data: Simple File Handling\n",
        "\n",
        "At the *Bank of Evil*, nothing is more important than records. These are not just boring spreadsheets—they are the paper trail of world domination: deposits from stolen artwork, withdrawals for henchman payroll, and payments for custom shark tanks. If you can’t **store** this data somewhere permanent, you can’t run a proper evil empire.\n",
        "\n",
        "### **Files and Why We Use Them**\n",
        "\n",
        "A **file** is a place on your computer’s storage where data can live even after the program ends. You can think of it like the Bank of Evil’s vault: you can put things inside (writing) and take them out (reading).\n",
        "\n",
        "Two common file formats for simple data are:\n",
        "\n",
        "* **CSV (Comma-Separated Values)** – Each line represents one record, and values in that record are separated by commas.\n",
        "* **JSON (JavaScript Object Notation)** – Data is stored in a way that looks like Java objects, but as plain text.\n",
        "\n",
        "For now, we’ll start with **CSV** because it’s easier to work with as a beginner. A CSV file for villain bank transactions might look like this:\n",
        "\n",
        "```\n",
        "Villain,Amount\n",
        "Gru,5000000\n",
        "Scarlet Overkill,250000\n",
        "Vector,1250000\n",
        "```\n",
        "\n",
        "### **Writing to a File in Java**\n",
        "\n",
        "To put data into a file, Java has a class called **`FileWriter`**.\n",
        "\n",
        "* A **class** is a blueprint for creating objects (you learned this in the OOP chapters).\n",
        "* To use a class, we often need to create an **object** of that class.\n",
        "* An object is created with the `new` keyword:\n",
        "\n",
        "  ```java\n",
        "  FileWriter writer = new FileWriter(\"transactions.csv\");\n",
        "  ```\n",
        "\n",
        "  This line means: “Make a new FileWriter object, and connect it to a file called `transactions.csv`.”\n",
        "\n",
        "The `FileWriter` class has a **method** called `write()` that adds text to the file:\n",
        "\n",
        "```java\n",
        "writer.write(\"Villain,Amount\\n\");\n",
        "```\n",
        "\n",
        "The `\\n` means “start a new line” in the file.\n",
        "\n",
        "When we’re done writing, we call the **`close()`** method to shut the connection:\n",
        "\n",
        "```java\n",
        "writer.close();\n",
        "```\n",
        "\n",
        "If we don’t close it, the data might not be saved properly.\n",
        "\n",
        "One important note: **file writing can fail**. For example, you might not have permission to write to the folder. When that happens, Java will throw an **exception**—we’ll talk about those in detail later, but for now, we’ll use a small shortcut: adding\n",
        "\n",
        "```java\n",
        "throws IOException\n",
        "```\n",
        "\n",
        "to our method’s header tells Java, “I know this code might have a problem; if it does, pass it along to someone else to handle.”\n",
        "\n",
        "Here’s a complete, short example of writing our villain transactions file:"
      ],
      "metadata": {
        "id": "ZVuTktAYdlc6"
      }
    },
    {
      "cell_type": "code",
      "source": [
        "%%writefile BankFileWrite.java\n",
        "import java.io.FileWriter;\n",
        "import java.io.IOException;\n",
        "\n",
        "public class BankFileWrite {\n",
        "    public static void main(String[] args) throws IOException {\n",
        "        FileWriter writer = new FileWriter(\"transactions.csv\");\n",
        "        writer.write(\"Villain,Amount\\n\");\n",
        "        writer.write(\"Gru,5000000\\n\");\n",
        "        writer.write(\"Scarlet Overkill,250000\\n\");\n",
        "        writer.write(\"Vector,1250000\\n\");\n",
        "        writer.close();\n",
        "    }\n",
        "}"
      ],
      "metadata": {
        "colab": {
          "base_uri": "https://localhost:8080/"
        },
        "id": "xqhSoH7UeDMe",
        "outputId": "552d741a-8c1c-410b-d115-9683d6fb5e17"
      },
      "execution_count": null,
      "outputs": [
        {
          "output_type": "stream",
          "name": "stdout",
          "text": [
            "Writing BankFileWrite.java\n"
          ]
        }
      ]
    },
    {
      "cell_type": "code",
      "source": [
        "!javac BankFileWrite.java\n",
        "!java BankFileWrite"
      ],
      "metadata": {
        "id": "U3jwY91ceG8J"
      },
      "execution_count": null,
      "outputs": []
    },
    {
      "cell_type": "markdown",
      "source": [],
      "metadata": {
        "id": "JMCnIxhueBZb"
      }
    },
    {
      "cell_type": "markdown",
      "source": [
        "### **Reading a File in Java**\n",
        "\n",
        "To read a file, we can use the **`Scanner`** class (you’ve used it before for keyboard input) with a **`File`** object.\n",
        "\n",
        "1. A `File` object tells Java *where* the file is:\n",
        "\n",
        "   ```java\n",
        "   File file = new File(\"transactions.csv\");\n",
        "   ```\n",
        "2. A `Scanner` can read the file line by line:\n",
        "\n",
        "   ```java\n",
        "   Scanner scanner = new Scanner(file);\n",
        "   ```\n",
        "3. We use `hasNextLine()` to check if there’s another line, and `nextLine()` to read it:\n",
        "\n",
        "   ```java\n",
        "   while (scanner.hasNextLine()) {\n",
        "       String line = scanner.nextLine();\n",
        "       System.out.println(line);\n",
        "   }\n",
        "   ```\n",
        "\n",
        "Like with writing, reading a file can fail if the file isn’t there—so here we say:\n",
        "\n",
        "```java\n",
        "throws FileNotFoundException\n",
        "```\n",
        "\n",
        "to let Java know we’re aware.\n",
        "\n",
        "Here’s the full example:\n"
      ],
      "metadata": {
        "id": "AJe5w_EId6ou"
      }
    },
    {
      "cell_type": "code",
      "source": [
        "%%writefile BankFileRead.java\n",
        "import java.io.File;\n",
        "import java.io.FileNotFoundException;\n",
        "import java.util.Scanner;\n",
        "\n",
        "public class BankFileRead {\n",
        "    public static void main(String[] args) throws FileNotFoundException {\n",
        "        File file = new File(\"transactions.csv\");\n",
        "        Scanner scanner = new Scanner(file);\n",
        "\n",
        "        while (scanner.hasNextLine()) {\n",
        "            String line = scanner.nextLine();\n",
        "            System.out.println(line);\n",
        "        }\n",
        "        scanner.close();\n",
        "    }\n",
        "}\n"
      ],
      "metadata": {
        "colab": {
          "base_uri": "https://localhost:8080/"
        },
        "id": "PkQSMJNTdw8J",
        "outputId": "93dc1eab-c80c-4ab9-99ce-f336bd8b5825"
      },
      "execution_count": null,
      "outputs": [
        {
          "output_type": "stream",
          "name": "stdout",
          "text": [
            "Writing BankFileRead.java\n"
          ]
        }
      ]
    },
    {
      "cell_type": "code",
      "source": [
        "!javac BankFileRead.java\n",
        "!java BankFileRead"
      ],
      "metadata": {
        "colab": {
          "base_uri": "https://localhost:8080/"
        },
        "id": "dLxzW6HbeN3c",
        "outputId": "c9edaa61-3a48-4495-877c-6c9e05ec45d1"
      },
      "execution_count": null,
      "outputs": [
        {
          "output_type": "stream",
          "name": "stdout",
          "text": [
            "Villain,Amount\n",
            "Gru,5000000\n",
            "Scarlet Overkill,250000\n",
            "Vector,1250000\n"
          ]
        }
      ]
    },
    {
      "cell_type": "markdown",
      "source": [
        "\n",
        "### What We've Learned\n",
        "In this section you’ve learned:\n",
        "\n",
        "* What files are and why we use them.\n",
        "* How to write text to a CSV file with `FileWriter`.\n",
        "* How to read text from a CSV file with `Scanner` and `File`.\n",
        "* That file operations can fail, leading to **exceptions**, which we’ll dig into next.\n",
        "\n"
      ],
      "metadata": {
        "id": "YSmfZl5sdtE1"
      }
    },
    {
      "cell_type": "markdown",
      "source": [
        "## Expecting the Unexpected: What Are Exceptions?\n",
        "\n",
        "At the Bank of Evil, the unexpected is part of daily life. Henchmen may forget to lock the vault. Sharks in the lair’s moat may refuse to eat the intruder. And sometimes, the “Deposit All Loot” button mysteriously wires funds to the *Bank of Goodness* instead. In programming, unexpected things happen too, and when they do, Java uses something called an **exception** to let us know.\n",
        "\n",
        "### What an exception is\n",
        "\n",
        "An **exception** is a special object that represents a problem in your program. When something goes wrong—like trying to open a file that doesn’t exist—Java *throws* an exception. Throwing an exception means the program stops its normal flow and looks for someone who can handle the problem.\n",
        "\n",
        "If no one handles the exception, the program will crash. In the real world, that’s like a bank teller running away screaming instead of helping you fix a transaction.\n",
        "\n",
        "### Common examples\n",
        "\n",
        "Here are a few things that can cause exceptions:\n",
        "\n",
        "* Trying to read a file that isn’t there.\n",
        "* Dividing by zero.\n",
        "* Asking a program to convert `\"banana\"` into a number.\n",
        "* Accessing an array at an index that doesn’t exist.\n",
        "\n",
        "### Checked vs. unchecked exceptions\n",
        "\n",
        "In Java, there are two main kinds:\n",
        "\n",
        "* **Checked exceptions** – Problems Java makes you deal with at compile time. For example, reading a file can throw a `FileNotFoundException`. You either have to handle it with a `try…catch` block or declare it with `throws`.\n",
        "* **Unchecked exceptions** – Problems that can happen while running your program (runtime errors) and that Java doesn’t force you to handle, like dividing by zero.\n",
        "\n",
        "For beginners, the main thing to remember is: **checked exceptions require handling**.\n",
        "\n",
        "### Throwing and catching exceptions\n",
        "\n",
        "If something goes wrong, Java will “throw” an exception. If your code knows how to deal with it, you can “catch” it and respond, so the whole program doesn’t crash.\n",
        "\n",
        "We’ll see how to do that with `try…catch` in the next section. For now, here’s a very small example that will deliberately cause a `FileNotFoundException`:\n",
        "\n",
        "```java\n",
        "import java.io.File;\n",
        "import java.io.FileNotFoundException;\n",
        "import java.util.Scanner;\n",
        "\n",
        "public class MissingFileExample {\n",
        "    public static void main(String[] args) throws FileNotFoundException {\n",
        "        File file = new File(\"nonexistent.csv\");\n",
        "        Scanner scanner = new Scanner(file); // This will throw an exception\n",
        "    }\n",
        "}\n",
        "```\n",
        "\n",
        "In this code:\n",
        "\n",
        "1. We create a `File` object pointing to a file that doesn’t exist.\n",
        "2. When `new Scanner(file)` tries to read it, Java throws a `FileNotFoundException`.\n",
        "3. Since we wrote `throws FileNotFoundException` in `main`, we told Java to pass the problem upward (to the program’s top level), which will crash and print an error message.\n",
        "\n",
        "That error message might look something like this:\n",
        "\n",
        "```\n",
        "Exception in thread \"main\" java.io.FileNotFoundException: nonexistent.csv (No such file or directory)\n",
        "    at java.base/java.util.Scanner.<init>(Scanner.java:639)\n",
        "    ...\n",
        "```\n",
        "\n",
        "The message includes:\n",
        "\n",
        "* The type of exception (`FileNotFoundException`).\n",
        "* A description of what went wrong.\n",
        "* A “stack trace” showing where in the code it happened.\n",
        "\n",
        "### Why exceptions matter\n",
        "\n",
        "Ignoring exceptions is like ignoring alarms in the bank vault. You might get away with it once, but sooner or later, disaster strikes. Exceptions let your program notice problems and recover from them, or at least fail in a controlled way.\n",
        "\n",
        "In the next section, we’ll see how to actually **catch** exceptions with `try…catch` so that the Bank of Evil’s systems can keep running even when something goes wrong.\n"
      ],
      "metadata": {
        "id": "_st74-8ke5AR"
      }
    },
    {
      "cell_type": "markdown",
      "source": [
        "## Catching Trouble Before It Catches You: try–catch\n",
        "\n",
        "In the Bank of Evil, you never want a single small problem to bring the whole operation to a halt. If the vault door jams, you don’t shut down the entire bank—you call the maintenance goblins to fix it while everyone else keeps working. In Java, the way to do this is with a **try–catch** block.\n",
        "\n",
        "### What try–catch does\n",
        "\n",
        "A **try–catch** block lets you run code that *might* throw an exception, and then handle that exception if it happens.\n",
        "\n",
        "* **`try` block** – You put risky code here (like reading a file that might not exist).\n",
        "* **`catch` block** – If an exception is thrown in the try block, the catch block runs instead of letting the program crash.\n",
        "\n",
        "The general shape looks like this:\n",
        "\n",
        "```java\n",
        "try {\n",
        "    // Code that might throw an exception\n",
        "} catch (ExceptionType variableName) {\n",
        "    // Code to handle the problem\n",
        "}\n",
        "```\n",
        "\n",
        "* `ExceptionType` is the kind of exception you want to handle (e.g., `FileNotFoundException`).\n",
        "* `variableName` is a name you choose for the exception object (often `e`).\n",
        "\n",
        "### Why not just let the program crash?\n",
        "\n",
        "If the vault jams during a heist, the whole plan doesn’t stop—you switch to Plan B. Similarly, catching exceptions lets you:\n",
        "\n",
        "* Print a friendly error message.\n",
        "* Try a backup plan (like loading a default file).\n",
        "* Continue running the rest of the program.\n",
        "\n",
        "### Example: reading a file safely\n",
        "\n",
        "Let’s rewrite the `BankFileRead` program from earlier so it doesn’t crash if the file is missing:\n"
      ],
      "metadata": {
        "id": "_vbWtNMxrg09"
      }
    },
    {
      "cell_type": "code",
      "source": [
        "%%writefile BankFileReadSafe.java\n",
        "import java.io.File;\n",
        "import java.io.FileNotFoundException;\n",
        "import java.util.Scanner;\n",
        "\n",
        "public class BankFileReadSafe {\n",
        "    public static void main(String[] args) {\n",
        "        try {\n",
        "            File file = new File(\"transactions.csv\");\n",
        "            Scanner scanner = new Scanner(file);\n",
        "\n",
        "            while (scanner.hasNextLine()) {\n",
        "                String line = scanner.nextLine();\n",
        "                System.out.println(line);\n",
        "            }\n",
        "            scanner.close();\n",
        "\n",
        "        } catch (FileNotFoundException e) {\n",
        "            System.out.println(\"Error: Could not find transactions file.\");\n",
        "            System.out.println(\"Please make sure 'transactions.csv' exists.\");\n",
        "        }\n",
        "    }\n",
        "}\n"
      ],
      "metadata": {
        "colab": {
          "base_uri": "https://localhost:8080/"
        },
        "id": "vCGcBEiKrsSF",
        "outputId": "d7608f0e-6203-44df-b402-d9169c930393"
      },
      "execution_count": null,
      "outputs": [
        {
          "output_type": "stream",
          "name": "stdout",
          "text": [
            "Writing BankFileReadSafe.java\n"
          ]
        }
      ]
    },
    {
      "cell_type": "code",
      "source": [
        "!javac BankFileReadSafe.java\n",
        "!java BankFileReadSafe"
      ],
      "metadata": {
        "colab": {
          "base_uri": "https://localhost:8080/"
        },
        "id": "c-otn8x_ryLD",
        "outputId": "bc11dc2d-3287-447e-e0d3-ceed2d186786"
      },
      "execution_count": null,
      "outputs": [
        {
          "output_type": "stream",
          "name": "stdout",
          "text": [
            "Error: Could not find transactions file.\n",
            "Please make sure 'transactions.csv' exists.\n"
          ]
        }
      ]
    },
    {
      "cell_type": "markdown",
      "source": [
        "### How it works\n",
        "\n",
        "1. We put all the risky file-reading code inside the `try` block.\n",
        "2. If `new Scanner(file)` throws a `FileNotFoundException`, the program immediately jumps to the `catch` block.\n",
        "3. In the `catch` block, we print a helpful message instead of letting Java display its scary red error output.\n",
        "\n",
        "### Multiple catch blocks\n",
        "\n",
        "You can also have more than one `catch` block to handle different types of exceptions differently. For example:\n",
        "\n",
        "```java\n",
        "try {\n",
        "    // risky code\n",
        "} catch (FileNotFoundException e) {\n",
        "    // handle missing file\n",
        "} catch (Exception e) {\n",
        "    // handle anything else\n",
        "}\n",
        "```\n",
        "\n",
        "For now, though, one `catch` is enough for most beginner programs.\n",
        "\n",
        "---\n",
        "\n",
        "In the next section, we’ll look at **finally**, a way to guarantee that certain cleanup code—like closing the vault—runs whether or not there was a problem. This is especially important for file handling at the Bank of Evil.\n",
        "\n"
      ],
      "metadata": {
        "id": "znrMYUu2rmEp"
      }
    },
    {
      "cell_type": "markdown",
      "source": [
        "## The Clean-Up Crew: finally\n",
        "\n",
        "At the Bank of Evil, some jobs must always be done—no matter what happens. If a heist goes wrong, you still close the vault. If the shark tank floods, you still turn off the security lasers before you leave. In Java, we can make sure important cleanup work always happens by using a **`finally`** block.\n",
        "\n",
        "### What finally does\n",
        "\n",
        "A `finally` block contains code that **always runs**, whether or not an exception was thrown.\n",
        "\n",
        "* If the `try` block works with no problems, `finally` runs after it finishes.\n",
        "* If an exception happens and the `catch` block runs, `finally` still runs afterward.\n",
        "\n",
        "The general shape looks like this:\n",
        "\n",
        "```java\n",
        "try {\n",
        "    // risky code\n",
        "} catch (ExceptionType e) {\n",
        "    // handle the problem\n",
        "} finally {\n",
        "    // cleanup code that should run no matter what\n",
        "}\n",
        "```\n",
        "\n",
        "### Why it matters for files\n",
        "\n",
        "When working with files, we almost always need to close them to make sure changes are saved and system resources are freed. If we forget to close a file—or skip it because an error happened—our program might lose data or even lock the file so it can’t be opened later.\n",
        "\n",
        "`finally` is the perfect place to close files because it guarantees that closing happens even if something goes wrong.\n",
        "\n",
        "### Example: reading and closing a file safely\n",
        "\n",
        "Here’s an improved version of our safe file reader:\n"
      ],
      "metadata": {
        "id": "4a3My5FWsO5u"
      }
    },
    {
      "cell_type": "code",
      "source": [
        "%%writefile BankFileReadFinally.java\n",
        "import java.io.File;\n",
        "import java.io.FileNotFoundException;\n",
        "import java.util.Scanner;\n",
        "\n",
        "public class BankFileReadFinally {\n",
        "    public static void main(String[] args) {\n",
        "        Scanner scanner = null;\n",
        "        try {\n",
        "            File file = new File(\"transactions.csv\");\n",
        "            scanner = new Scanner(file);\n",
        "\n",
        "            while (scanner.hasNextLine()) {\n",
        "                String line = scanner.nextLine();\n",
        "                System.out.println(line);\n",
        "            }\n",
        "\n",
        "        } catch (FileNotFoundException e) {\n",
        "            System.out.println(\"Error: Could not find transactions file.\");\n",
        "        } finally {\n",
        "            if (scanner != null) {\n",
        "                scanner.close();\n",
        "                System.out.println(\"File closed.\");\n",
        "            }\n",
        "        }\n",
        "    }\n",
        "}\n"
      ],
      "metadata": {
        "colab": {
          "base_uri": "https://localhost:8080/"
        },
        "id": "6vJnSqCNsd2V",
        "outputId": "f4cfb8d2-706f-405b-9fd8-fa7aa178c3ed"
      },
      "execution_count": null,
      "outputs": [
        {
          "output_type": "stream",
          "name": "stdout",
          "text": [
            "Writing BankFileReadFinally.java\n"
          ]
        }
      ]
    },
    {
      "cell_type": "code",
      "source": [
        "!javac BankFileReadFinally.java\n",
        "!java BankFileReadFinally"
      ],
      "metadata": {
        "colab": {
          "base_uri": "https://localhost:8080/"
        },
        "id": "SlcA93J6siVz",
        "outputId": "2fc42bca-75e1-483a-c63f-05b8424bd424"
      },
      "execution_count": null,
      "outputs": [
        {
          "output_type": "stream",
          "name": "stdout",
          "text": [
            "Error: Could not find transactions file.\n"
          ]
        }
      ]
    },
    {
      "cell_type": "markdown",
      "source": [
        "### How it works\n",
        "\n",
        "1. We declare `scanner` outside the `try` block so it can be used in `finally`.\n",
        "2. Inside `try`, we open the file and read it.\n",
        "3. If a `FileNotFoundException` happens, the `catch` block prints a helpful message.\n",
        "4. The `finally` block checks if `scanner` is not `null` (meaning the file was opened) and then closes it, no matter what.\n",
        "\n",
        "### A note for the future\n",
        "\n",
        "Java has a special feature called **try-with-resources** that makes this cleaner and avoids needing `finally` for many cases, but that’s something we’ll cover later, once you’re more comfortable with exceptions.\n",
        "\n",
        "---\n",
        "\n",
        "In the next section, we’ll look at **declaring exceptions with `throws`**—a way for a method to say, “I might have a problem; you deal with it.” This is a key part of designing classes in OOP, especially when working on a big project like the Bank of Evil’s account management system.\n"
      ],
      "metadata": {
        "id": "rEVyhkDGsZqB"
      }
    },
    {
      "cell_type": "markdown",
      "source": [
        "## Declaring Exceptions: throws\n",
        "\n",
        "In the Bank of Evil, not every employee fixes problems themselves. If the vault door is stuck, the teller doesn’t grab a wrench—they call the maintenance goblins and let them deal with it. In Java, a method can take the same approach: instead of handling a problem directly, it can *declare* that the problem might happen and pass it along to whoever called the method.\n",
        "\n",
        "We do this with the **`throws`** keyword.\n",
        "\n",
        "### What throws means\n",
        "\n",
        "When you write a method, you can add `throws` followed by one or more **checked exception types**. This tells Java:\n",
        "\n",
        "> “This method might cause these exceptions. I’m not handling them here—if they happen, the caller must handle them.”\n",
        "\n",
        "For example:\n",
        "\n",
        "```java\n",
        "public void loadTransactions() throws FileNotFoundException {\n",
        "    // code that might throw FileNotFoundException\n",
        "}\n",
        "```\n",
        "\n",
        "If a method you write declares `throws FileNotFoundException`, then any code that calls it has two options:\n",
        "\n",
        "1. **Handle** the exception with `try…catch`.\n",
        "2. **Also declare** that it throws the same exception.\n",
        "\n",
        "### Why it matters in OOP\n",
        "\n",
        "In object-oriented programming, you’ll often write **helper methods** inside your classes. Sometimes those methods will do risky things—like opening a file or connecting to a database. Declaring exceptions lets you keep your helper methods focused and let higher-level code decide what to do if something goes wrong.\n",
        "\n",
        "It’s like the difference between:\n",
        "\n",
        "* A security guard deciding exactly how to respond to a bank robbery (handle it directly).\n",
        "* A security guard just calling the head of security and saying, “We have a problem” (declare it and pass it along).\n",
        "\n",
        "### Example: declaring an exception in a helper method\n",
        "\n",
        "Let’s make a `BankUtils` class with a method to load our CSV file. This method will declare that it throws `FileNotFoundException` so the caller can decide how to handle it.\n"
      ],
      "metadata": {
        "id": "LM56KBFls368"
      }
    },
    {
      "cell_type": "code",
      "source": [
        "%%writefile BankUtils.java\n",
        "import java.io.File;\n",
        "import java.io.FileNotFoundException;\n",
        "import java.util.Scanner;\n",
        "\n",
        "public class BankUtils {\n",
        "    public static void loadTransactions(String filename) throws FileNotFoundException {\n",
        "        File file = new File(filename);\n",
        "        Scanner scanner = new Scanner(file);\n",
        "\n",
        "        while (scanner.hasNextLine()) {\n",
        "            String line = scanner.nextLine();\n",
        "            System.out.println(line);\n",
        "        }\n",
        "        scanner.close();\n",
        "    }\n",
        "}\n"
      ],
      "metadata": {
        "colab": {
          "base_uri": "https://localhost:8080/"
        },
        "id": "n4WLfI1ltTw1",
        "outputId": "b8181a8f-5201-4866-86c7-b2b3b055a3ff"
      },
      "execution_count": null,
      "outputs": [
        {
          "output_type": "stream",
          "name": "stdout",
          "text": [
            "Writing BankUtils.java\n"
          ]
        }
      ]
    },
    {
      "cell_type": "markdown",
      "source": [
        "Now here’s a program that calls it:\n"
      ],
      "metadata": {
        "id": "DinQv7xFtPVJ"
      }
    },
    {
      "cell_type": "code",
      "source": [
        "%%writefile BankApp.java\n",
        "\n",
        "import java.io.File;\n",
        "import java.io.FileNotFoundException;\n",
        "\n",
        "public class BankApp {\n",
        "    public static void main(String[] args) {\n",
        "        try {\n",
        "            BankUtils.loadTransactions(\"transactions.csv\");\n",
        "        } catch (FileNotFoundException e) {\n",
        "            System.out.println(\"Transactions file missing! Cannot proceed.\");\n",
        "        }\n",
        "    }\n",
        "}\n"
      ],
      "metadata": {
        "colab": {
          "base_uri": "https://localhost:8080/"
        },
        "id": "X6fAVSkUtG92",
        "outputId": "4fff1b79-6d6e-44f7-f913-cc3269e4dfcf"
      },
      "execution_count": null,
      "outputs": [
        {
          "output_type": "stream",
          "name": "stdout",
          "text": [
            "Overwriting BankApp.java\n"
          ]
        }
      ]
    },
    {
      "cell_type": "code",
      "source": [
        "!javac BankApp.java\n",
        "!java BankApp"
      ],
      "metadata": {
        "colab": {
          "base_uri": "https://localhost:8080/"
        },
        "id": "YC7l_1_ZtKBM",
        "outputId": "87e744bf-ef0f-46bf-9378-b7146093b232"
      },
      "execution_count": null,
      "outputs": [
        {
          "output_type": "stream",
          "name": "stdout",
          "text": [
            "Transactions file missing! Cannot proceed.\n"
          ]
        }
      ]
    },
    {
      "cell_type": "markdown",
      "source": [
        "### How this works\n",
        "\n",
        "1. `BankUtils.loadTransactions()` does not handle the possible `FileNotFoundException`.\n",
        "2. Instead, it declares `throws FileNotFoundException`.\n",
        "3. In `BankApp.main()`, we call it inside a `try…catch` to deal with the problem if it happens.\n",
        "\n",
        "This separation of responsibilities makes your code cleaner and easier to maintain—especially as programs grow beyond a single file.\n",
        "\n",
        "---\n",
        "\n",
        "In the next section, we’ll make our *own* exceptions—custom error types for special situations, like catching villains trying to withdraw more than their allowed “Evil Credit Limit.”\n"
      ],
      "metadata": {
        "id": "v9Ge1lNptEYr"
      }
    },
    {
      "cell_type": "markdown",
      "source": [
        "## Custom Exceptions: The Evil Way\n",
        "\n",
        "The Bank of Evil has rules, even for villains. One of the most important: no one may withdraw more than their **Evil Credit Limit** in a single transaction. If someone tries, it’s not just a mistake—it’s a *special kind* of problem that deserves its own name.\n",
        "\n",
        "In Java, we can create a **custom exception** for special situations like this. This builds directly on your OOP skills from the last chapter: remember, an **exception** is just an **object**, and like any object, it’s created from a **class**.\n",
        "\n",
        "### Why make your own exception?\n",
        "\n",
        "* **Clarity** – The name tells other programmers exactly what kind of problem happened.\n",
        "* **Precision** – You can handle this type of error differently from others.\n",
        "* **OOP practice** – You’re extending existing Java classes to make something new.\n",
        "\n",
        "### How exceptions fit into the class hierarchy\n",
        "\n",
        "In Java, all exceptions are classes that come from the built-in class **`Throwable`**. Most of the time, custom exceptions extend either:\n",
        "\n",
        "* **`Exception`** – for checked exceptions that must be handled or declared.\n",
        "* **`RuntimeException`** – for unchecked exceptions that don’t require handling.\n",
        "\n",
        "For now, we’ll extend `Exception` so our custom exception behaves like the checked ones you’ve been working with.\n",
        "\n",
        "### Creating a custom exception class\n",
        "\n",
        "Here’s one for villains who try to overdraw their account:\n",
        "\n",
        "```java\n",
        "public class OverdrawnByVillainException extends Exception {\n",
        "    public OverdrawnByVillainException(String message) {\n",
        "        super(message); // Call the constructor in Exception\n",
        "    }\n",
        "}\n",
        "```\n",
        "\n",
        "This is a normal class definition:\n",
        "\n",
        "* `public class OverdrawnByVillainException extends Exception` means our class *is-a* type of `Exception`.\n",
        "* The constructor takes a message and sends it to the parent `Exception` class using `super(message)`.\n",
        "\n",
        "### Using a custom exception in a method\n",
        "\n",
        "Let’s imagine a `SecureAccount` class that throws this exception if a villain tries to take too much:\n",
        "\n",
        "```java\n",
        "public class SecureAccount {\n",
        "    private double balance;\n",
        "\n",
        "    public SecureAccount(double startingBalance) {\n",
        "        balance = startingBalance;\n",
        "    }\n",
        "\n",
        "    public void withdraw(double amount) throws OverdrawnByVillainException {\n",
        "        if (amount > balance) {\n",
        "            throw new OverdrawnByVillainException(\"Attempted withdrawal of \" + amount +\n",
        "                \" exceeds available balance of \" + balance);\n",
        "        }\n",
        "        balance -= amount;\n",
        "    }\n",
        "}\n",
        "```\n",
        "\n",
        "Here’s a program that uses it:\n",
        "\n",
        "```java\n",
        "public class BankTest {\n",
        "    public static void main(String[] args) {\n",
        "        SecureAccount account = new SecureAccount(5000);\n",
        "\n",
        "        try {\n",
        "            account.withdraw(10000);\n",
        "        } catch (OverdrawnByVillainException e) {\n",
        "            System.out.println(\"Security alert: \" + e.getMessage());\n",
        "        }\n",
        "    }\n",
        "}\n",
        "```\n",
        "\n",
        "### How this works\n",
        "\n",
        "1. We define a new exception type with a clear name.\n",
        "2. In `withdraw`, if the villain asks for too much, we **throw** our new exception.\n",
        "3. In `BankTest`, we **catch** that exact exception and print a security alert.\n",
        "\n",
        "With custom exceptions, you can make your error messages meaningful and your code easier to read. The Bank of Evil’s programmers now instantly know *exactly* what kind of villainous mischief caused the problem.\n",
        "\n",
        "---\n",
        "\n",
        "In the next section, we’ll zoom out from specific exceptions and talk about **defensive programming**—writing code that assumes other people (and villains) will try to break it, and stopping problems before they start.\n"
      ],
      "metadata": {
        "id": "eqxJ9bfWG1su"
      }
    },
    {
      "cell_type": "markdown",
      "source": [
        "## Summary: Common Exceptions in Java\n",
        "\n",
        "Now that you’ve seen how exceptions work—and even created your own—it’s useful to know some of the exceptions you’ll run into most often. Java has many, but here are some of the most common for beginners.\n",
        "\n",
        "### Checked Exceptions\n",
        "\n",
        "Checked exceptions are problems Java forces you to deal with at compile time (either with `try…catch` or `throws`).\n",
        "\n",
        "| Exception Name           | When It Happens                                   | Example Scenario (Bank of Evil)                                       |\n",
        "| ------------------------ | ------------------------------------------------- | --------------------------------------------------------------------- |\n",
        "| `IOException`            | Input/output error when reading or writing files. | File server loses connection mid-transfer.                            |\n",
        "| `FileNotFoundException`  | File you try to open doesn’t exist.               | Villain tries to open `heist.csv` but it’s gone.                      |\n",
        "| `SQLException`           | Problem accessing a database.                     | Database of henchman payroll is offline.                              |\n",
        "| `ClassNotFoundException` | Program can’t find a required class.              | A missing “SecurityRobot” class when loading the lair defense system. |\n",
        "\n",
        "---\n",
        "\n",
        "### Unchecked Exceptions\n",
        "\n",
        "Unchecked exceptions (also called runtime exceptions) happen during program execution. Java doesn’t force you to handle them, but they can still crash your program.\n",
        "\n",
        "| Exception Name                   | When It Happens                                                  | Example Scenario (Bank of Evil)                                        |\n",
        "| -------------------------------- | ---------------------------------------------------------------- | ---------------------------------------------------------------------- |\n",
        "| `NullPointerException`           | You try to use an object reference that is `null`.               | Accessing a vault object that hasn’t been initialized.                 |\n",
        "| `ArithmeticException`            | Illegal math operation, like divide by zero.                     | Dividing total loot by number of henchmen when henchmen count is zero. |\n",
        "| `ArrayIndexOutOfBoundsException` | Index is outside the valid range for an array.                   | Accessing transaction\\[10] when only 5 transactions exist.             |\n",
        "| `NumberFormatException`          | Trying to convert text into a number but the text isn’t numeric. | Parsing “bananas” as an account balance.                               |\n",
        "\n",
        "---\n",
        "\n",
        "### Exception Hierarchy (Simplified)\n",
        "\n",
        "All exception classes in Java inherit from the base class `Throwable`.\n",
        "\n",
        "| Class              | Description                                   | Examples                                      |\n",
        "| ------------------ | --------------------------------------------- | --------------------------------------------- |\n",
        "| `Throwable`        | Base class for all errors and exceptions.     | —                                             |\n",
        "| `Error`            | Serious problems usually not handled in code. | `OutOfMemoryError`                            |\n",
        "| `Exception`        | Things that can be handled in code.           | `IOException`, `SQLException`                 |\n",
        "| `RuntimeException` | Unchecked exceptions.                         | `NullPointerException`, `ArithmeticException` |\n",
        "\n",
        "---\n",
        "\n",
        "**Key takeaway:**\n",
        "\n",
        "* **Checked exceptions** must be handled or declared.\n",
        "* **Unchecked exceptions** don’t require handling but can still crash your program.\n",
        "* **Custom exceptions** let you make error types that match your program’s specific rules.\n"
      ],
      "metadata": {
        "id": "ZhzVvwUjHaRq"
      }
    },
    {
      "cell_type": "markdown",
      "source": [
        "## Defensive Programming: Never Trust Another Villain\n",
        "\n",
        "At the Bank of Evil, it’s not enough to respond to problems—you want to **stop them before they happen**. If you know that some villains will try to enter “banana” as their account balance or withdraw more than they have, you can write code that blocks those actions early. This approach is called **defensive programming**.\n",
        "\n",
        "### What defensive programming is\n",
        "\n",
        "Defensive programming is the practice of writing code that:\n",
        "\n",
        "* Anticipates mistakes or malicious behavior.\n",
        "* Validates data before using it.\n",
        "* Protects important resources from misuse.\n",
        "\n",
        "Think of it like the lair’s security system:\n",
        "\n",
        "* Don’t just have guards (exceptions).\n",
        "* Also have locked doors, keycards, and tripwires (preventative checks).\n",
        "\n",
        "### Input validation\n",
        "\n",
        "The most common defensive technique is **validating input**—checking that data is reasonable before using it.\n",
        "\n",
        "Example: Preventing negative deposits or non-numeric amounts.\n",
        "\n",
        "```java\n",
        "public void deposit(double amount) {\n",
        "    if (amount <= 0) {\n",
        "        System.out.println(\"Error: Deposit amount must be positive.\");\n",
        "        return;\n",
        "    }\n",
        "    balance += amount;\n",
        "}\n",
        "```\n",
        "\n",
        "Here:\n",
        "\n",
        "1. We check `amount <= 0` before adding it to `balance`.\n",
        "2. If the data is bad, we print an error and stop.\n",
        "\n",
        "### Null checks\n",
        "\n",
        "Another source of trouble is using a variable that doesn’t point to any object (`null`). You can prevent this with **null checks**.\n",
        "\n",
        "```java\n",
        "if (account != null) {\n",
        "    account.withdraw(100);\n",
        "} else {\n",
        "    System.out.println(\"Error: No account found.\");\n",
        "}\n",
        "```\n",
        "\n",
        "This stops a `NullPointerException` before it happens.\n",
        "\n",
        "### Assertions\n",
        "\n",
        "An **assertion** is a statement you put in code to check that something you believe is true really is true at that point in the program.\n",
        "You write them using the `assert` keyword:\n",
        "\n",
        "```java\n",
        "assert balance >= 0 : \"Balance should never be negative!\";\n",
        "```\n",
        "\n",
        "If assertions are enabled and the condition is false, the program will stop and print the message. Assertions are mainly for testing and debugging, not for handling user mistakes.\n",
        "\n",
        "### Encapsulation as defense\n",
        "\n",
        "From your last chapter on OOP: **encapsulation** (keeping fields private and controlling access through methods) is also a defensive technique.\n",
        "If you make `balance` private and only allow changes through methods like `deposit` and `withdraw`, you can enforce rules in those methods and prevent direct, unsafe changes.\n",
        "\n",
        "### Defensive mindset\n",
        "\n",
        "When writing code for the Bank of Evil, ask yourself:\n",
        "\n",
        "* “What could go wrong here?”\n",
        "* “What would a careless or mischievous user do?”\n",
        "* “How can I stop that before it causes trouble?”\n",
        "\n",
        "This mindset not only reduces bugs but also makes your code more secure.\n",
        "\n",
        "---\n",
        "\n",
        "In the next section, we’ll look at **Guarding the Bank: Security Basics in Code**—simple practices you can use to keep your programs safer from both accidents and intentional attacks. This will take our defensive approach one step further, into the realm of basic secure coding.\n"
      ],
      "metadata": {
        "id": "N7K89_R8Hq3I"
      }
    },
    {
      "cell_type": "markdown",
      "source": [
        "Here’s a short, **compilable** Java example that shows how `assert` statements work and how beginners can use them to check their assumptions while programming.\n",
        "I’ll also show how to run it with assertions **enabled**, since by default Java ignores them.\n",
        "\n",
        "---\n",
        "\n",
        "### Example: Using Assertions in a Bank of Evil Program\n"
      ],
      "metadata": {
        "id": "YhzlVeC2IXdj"
      }
    },
    {
      "cell_type": "code",
      "source": [
        "%%writefile EvilBankAssertions.java\n",
        "public class EvilBankAssertions {\n",
        "    public static void main(String[] args) {\n",
        "        double balance = 5000;\n",
        "\n",
        "        // A normal withdrawal\n",
        "        balance = withdraw(balance, 1000);\n",
        "\n",
        "        // This will break our assumption that balance >= 0\n",
        "        balance = withdraw(balance, 6000);\n",
        "\n",
        "        System.out.println(\"Final balance: \" + balance);\n",
        "    }\n",
        "\n",
        "    public static double withdraw(double currentBalance, double amount) {\n",
        "        double newBalance = currentBalance - amount;\n",
        "\n",
        "        // Assertion: balance should never be negative\n",
        "        assert newBalance >= 0 : \"Balance went negative! Current: \" + newBalance;\n",
        "\n",
        "        return newBalance;\n",
        "    }\n",
        "}\n"
      ],
      "metadata": {
        "colab": {
          "base_uri": "https://localhost:8080/"
        },
        "id": "YVmtfxsUItgS",
        "outputId": "a124a8cf-8f27-43e3-8361-f26f7d31115d"
      },
      "execution_count": 1,
      "outputs": [
        {
          "output_type": "stream",
          "name": "stdout",
          "text": [
            "Writing EvilBankAssertions.java\n"
          ]
        }
      ]
    },
    {
      "cell_type": "markdown",
      "source": [
        "### How it works\n",
        "\n",
        "1. We start with a `balance` of 5000.\n",
        "2. We withdraw 1000—no problem.\n",
        "3. We try to withdraw 6000—this makes the balance negative.\n",
        "4. The **assert** checks that `newBalance >= 0`.\n",
        "\n",
        "   * If the condition is true, the program continues normally.\n",
        "   * If it’s false (like here), Java throws an `AssertionError` with our message.\n",
        "\n",
        "---\n",
        "\n",
        "### Running with assertions enabled\n",
        "\n",
        "By default, Java ignores `assert` statements.\n",
        "To see them in action, you must run the program with the `-ea` (**enable assertions**) flag:"
      ],
      "metadata": {
        "id": "_tiJnBWcIqEd"
      }
    },
    {
      "cell_type": "code",
      "source": [
        "!javac EvilBankAssertions.java\n",
        "!java -ea EvilBankAssertions"
      ],
      "metadata": {
        "colab": {
          "base_uri": "https://localhost:8080/"
        },
        "id": "VcW2l6f0Iehr",
        "outputId": "b00371af-52d0-4c90-fc4d-fbdb778ca6d3"
      },
      "execution_count": 2,
      "outputs": [
        {
          "output_type": "stream",
          "name": "stdout",
          "text": [
            "Exception in thread \"main\" java.lang.AssertionError: Balance went negative! Current: -2000.0\n",
            "\tat EvilBankAssertions.withdraw(EvilBankAssertions.java:18)\n",
            "\tat EvilBankAssertions.main(EvilBankAssertions.java:9)\n"
          ]
        }
      ]
    },
    {
      "cell_type": "markdown",
      "source": [
        "**Beginner tip:**\n",
        "\n",
        "* Use assertions to check *your own assumptions* during development (e.g., “balance should never be negative”).\n",
        "* Assertions are **not** for handling user input—they are for catching mistakes in your own logic.\n",
        "* Remove or leave them disabled in production programs, but they are a powerful learning and debugging tool.\n"
      ],
      "metadata": {
        "id": "MnOrc5rDIbcp"
      }
    },
    {
      "cell_type": "markdown",
      "source": [
        "## Guarding the Bank: Security Basics in Code\n",
        "\n",
        "At the Bank of Evil, money isn’t the only thing at risk—villains will also try to steal passwords, tamper with records, or even trick the system into deleting every account. A secure bank needs more than a big vault door; it needs **secure code**.\n",
        "\n",
        "Security in programming isn’t just about protecting against hackers. Even small programs can leak data or behave dangerously if they aren’t written carefully. As a beginner, you can already take steps to write safer code.\n",
        "\n",
        "### Never hardcode secrets\n",
        "\n",
        "**Hardcoding** means putting sensitive data—like passwords or secret keys—directly into your source code. That’s like engraving the vault combination on the outside of the vault door.\n",
        "\n",
        "Bad example:\n",
        "\n",
        "```java\n",
        "String adminPassword = \"1234\"; // Anyone who sees this code now knows the password\n",
        "```\n",
        "\n",
        "Better:\n",
        "\n",
        "* Store passwords in a separate configuration file **outside** your main code.\n",
        "* Ask the user to type it in at runtime.\n",
        "* Use environment variables for secret values.\n",
        "\n",
        "### Validate all user input\n",
        "\n",
        "We saw in defensive programming that villains might try to deposit `\"banana\"` as money. This isn’t just silly—it’s a security problem. If bad input is used without checking, it might crash the program or cause unexpected behavior.\n",
        "\n",
        "Example:\n",
        "\n",
        "```java\n",
        "Scanner scanner = new Scanner(System.in);\n",
        "System.out.print(\"Enter amount: \");\n",
        "if (scanner.hasNextDouble()) {\n",
        "    double amount = scanner.nextDouble();\n",
        "    System.out.println(\"Depositing \" + amount);\n",
        "} else {\n",
        "    System.out.println(\"Invalid amount!\");\n",
        "}\n",
        "```\n",
        "\n",
        "### Avoid trusting file paths\n",
        "\n",
        "If your program reads files based on user input, check that the file is safe to open.\n",
        "For example, a villain might try to access `\"../../secrets.txt\"` to escape the intended folder.\n",
        "\n",
        "You can:\n",
        "\n",
        "* Limit file access to a known “safe” directory.\n",
        "* Check the file’s name against a whitelist.\n",
        "\n",
        "### Keep error messages clean\n",
        "\n",
        "Detailed error messages can give away secrets about your system.\n",
        "For example, showing a full stack trace to a villain might reveal the exact folder structure of the bank’s server. In a real system, you’d log detailed errors for developers but show simple messages to users.\n",
        "\n",
        "```java\n",
        "try {\n",
        "    // risky code\n",
        "} catch (Exception e) {\n",
        "    System.out.println(\"An error occurred. Please contact support.\");\n",
        "    // Log e for internal review, but don't show it to the user\n",
        "}\n",
        "```\n",
        "\n",
        "### Why start security early?\n",
        "\n",
        "Security is much easier to add when you think about it from the start. Adding it later is like trying to install a vault door after the gold is already stolen.\n",
        "\n",
        "As a beginner, your goal isn’t to master all security topics. Instead, start forming good habits now:\n",
        "\n",
        "* Don’t store secrets in code.\n",
        "* Always check inputs.\n",
        "* Avoid exposing too much information in error messages.\n",
        "* Keep file access controlled.\n",
        "\n",
        "---\n",
        "\n",
        "In the next section, we’ll step back and look at **general principles of program design**—ideas that make code not just safe, but easy to read, reuse, and maintain for years to come.\n"
      ],
      "metadata": {
        "id": "dxJ1jlRuJXoR"
      }
    },
    {
      "cell_type": "markdown",
      "source": [
        "Got it — here’s an **expanded** version of **Section 10 – General Principles of Program Design (The Evil Architect’s Handbook)** with more explanations, examples, and links back to earlier OOP concepts.\n",
        "\n",
        "---\n",
        "\n",
        "## 10. General Principles of Program Design (The Evil Architect’s Handbook)\n",
        "\n",
        "When you build a program, you’re designing a kind of structure. Sometimes it’s a small storage shed; sometimes it’s the *Bank of Evil’s* main headquarters with shark tanks, laser grids, and underground lairs. Whatever you build, it’s easier to construct, protect, and improve if it’s well designed.\n",
        "\n",
        "Good program design isn’t just about making things work—it’s about making them **work well** for a long time. The goal is to write code that is:\n",
        "\n",
        "* Clear enough for someone else (or you, six months later) to understand.\n",
        "* Flexible enough to change without breaking everything.\n",
        "* Strong enough to handle unexpected problems.\n",
        "\n",
        "Let’s walk through some key principles.\n",
        "\n",
        "---\n",
        "\n",
        "### Modularity – Breaking the Bank into Rooms\n",
        "\n",
        "**Definition:** Modularity means dividing your program into small, self-contained parts (methods, classes, or packages) that each do one specific job.\n",
        "\n",
        "Why it matters:\n",
        "\n",
        "* Smaller parts are easier to understand and test.\n",
        "* You can fix or replace one part without changing the others.\n",
        "\n",
        "Analogy: In the Bank of Evil, the vault, the laser system, and the shark tank are separate systems. If the sharks go on strike, the vault still works.\n",
        "\n",
        "Example:\n",
        "\n",
        "```java\n",
        "public class SecureAccount {\n",
        "    private double balance;\n",
        "\n",
        "    public void deposit(double amount) {\n",
        "        if (amount > 0) balance += amount;\n",
        "    }\n",
        "\n",
        "    public void withdraw(double amount) {\n",
        "        if (amount > 0 && amount <= balance) balance -= amount;\n",
        "    }\n",
        "}\n",
        "```\n",
        "\n",
        "Here, the `SecureAccount` class only handles account operations—it doesn’t print menus, save files, or control lasers.\n",
        "\n",
        "---\n",
        "\n",
        "### Encapsulation – Keep the Vault Locked\n",
        "\n",
        "**Definition:** Encapsulation means hiding the internal details of a class and only exposing what’s necessary through controlled methods.\n",
        "\n",
        "Why it matters:\n",
        "\n",
        "* Protects the internal state of an object from accidental or malicious changes.\n",
        "* Makes it easier to enforce rules and validation.\n",
        "\n",
        "Analogy: The vault combination is kept inside the vault system—it’s not written on a sticky note for everyone to see.\n",
        "\n",
        "Example:\n",
        "\n",
        "```java\n",
        "public class EvilVault {\n",
        "    private String combination = \"1234\"; // Private field\n",
        "\n",
        "    public boolean unlock(String attempt) {\n",
        "        return combination.equals(attempt);\n",
        "    }\n",
        "}\n",
        "```\n",
        "\n",
        "Here, no one outside `EvilVault` can directly change `combination`. They have to use `unlock()`, which can enforce rules (like logging failed attempts).\n",
        "\n",
        "---\n",
        "\n",
        "### Reusability – The Laser Grid in Every Room\n",
        "\n",
        "**Definition:** Reusability means writing code so that it can be used in multiple places without rewriting it.\n",
        "\n",
        "Why it matters:\n",
        "\n",
        "* Saves time.\n",
        "* Reduces the number of bugs, since you maintain one copy instead of many.\n",
        "\n",
        "Analogy: If the Bank of Evil installs a laser defense system in the vault, they can reuse the same design in the trophy room and the lobby.\n",
        "\n",
        "Example:\n",
        "\n",
        "```java\n",
        "public class SecurityUtils {\n",
        "    public static boolean isValidAmount(double amount) {\n",
        "        return amount > 0;\n",
        "    }\n",
        "}\n",
        "```\n",
        "\n",
        "Now, any class that deals with money can call `SecurityUtils.isValidAmount()` instead of writing its own amount-checking code.\n",
        "\n",
        "---\n",
        "\n",
        "### Readability – Blueprints for Other Villains\n",
        "\n",
        "**Definition:** Code readability means that someone else can read your code and understand what it does without guessing.\n",
        "\n",
        "Why it matters:\n",
        "\n",
        "* Other programmers (or future you) can maintain the code more easily.\n",
        "* Reduces misunderstandings that cause bugs.\n",
        "\n",
        "Tips:\n",
        "\n",
        "* Use descriptive variable and method names (`withdraw` instead of `doThing`).\n",
        "* Keep methods short—ideally visible on one screen.\n",
        "* Write comments for non-obvious decisions, not for “this line adds 1 to x.”\n",
        "\n",
        "Readable example:\n",
        "\n",
        "```java\n",
        "public void withdraw(double amount) {\n",
        "    if (!SecurityUtils.isValidAmount(amount)) {\n",
        "        System.out.println(\"Invalid withdrawal amount.\");\n",
        "        return;\n",
        "    }\n",
        "    // Ensure balance never goes below zero\n",
        "    if (amount <= balance) {\n",
        "        balance -= amount;\n",
        "    } else {\n",
        "        System.out.println(\"Insufficient funds.\");\n",
        "    }\n",
        "}\n",
        "```\n",
        "\n",
        "---\n",
        "\n",
        "### Maintainability – Room for More Shark Tanks\n",
        "\n",
        "**Definition:** Maintainability is how easily your code can be updated or fixed over time.\n",
        "\n",
        "Why it matters:\n",
        "\n",
        "* Programs evolve—new features, new requirements, bug fixes.\n",
        "* Well-structured code can adapt without breaking existing functionality.\n",
        "\n",
        "Analogy: A well-designed lair has room to add more shark tanks without rebuilding the whole base.\n",
        "\n",
        "Example:\n",
        "\n",
        "* If you hardcode every fee amount in your code, changing the fee later means editing multiple places.\n",
        "* If you store it in one constant:\n",
        "\n",
        "```java\n",
        "public static final double WITHDRAWAL_FEE = 2.50;\n",
        "```\n",
        "\n",
        "you only need to update it once.\n",
        "\n",
        "---\n",
        "\n",
        "### DRY – Don’t Repeat Yourself\n",
        "\n",
        "**Definition:** Avoid duplicating code—put it in one place and reuse it.\n",
        "\n",
        "Why it matters:\n",
        "\n",
        "* Reduces mistakes.\n",
        "* Makes updates easier.\n",
        "\n",
        "Bad (repeated logic):\n",
        "\n",
        "```java\n",
        "if (amount > 0 && amount <= balance) balance -= amount;\n",
        "// This same check appears in multiple methods.\n",
        "```\n",
        "\n",
        "Better (single method):\n",
        "\n",
        "```java\n",
        "private boolean canWithdraw(double amount) {\n",
        "    return amount > 0 && amount <= balance;\n",
        "}\n",
        "```\n",
        "\n",
        "Now all withdrawal checks use `canWithdraw()`.\n",
        "\n",
        "---\n",
        "\n",
        "### Putting it together\n",
        "\n",
        "The best-designed programs follow several principles at once:\n",
        "\n",
        "* A `SecureAccount` class that’s **modular** (does one job),\n",
        "* **encapsulates** its data (private fields),\n",
        "* has **reusable** helper methods,\n",
        "* is **readable** with clear names and comments,\n",
        "* is **maintainable** (constants for easy updates),\n",
        "* and follows **DRY** to avoid repetition.\n",
        "\n",
        "If you keep these principles in mind, your code will be easier to write now and easier to improve later—just like a well-constructed Bank of Evil headquarters.\n",
        "\n",
        "---\n",
        "\n",
        "In the next section, we’ll **combine everything** from this chapter—file handling, exceptions, defensive programming, and design principles—into one `SecureAccount` program. This will be your chance to see how all the pieces fit together in a real, runnable example.\n"
      ],
      "metadata": {
        "id": "ZYnHNzdxKA8H"
      }
    },
    {
      "cell_type": "markdown",
      "source": [
        "Here’s **Section 11 – Bringing It All Together: The SecureAccount Class**, where we integrate file handling, exceptions, defensive programming, and the design principles from Section 10 into a short, runnable *Bank of Evil* program.\n",
        "\n",
        "---\n",
        "\n",
        "## 11. Bringing It All Together: The SecureAccount Class\n",
        "\n",
        "You’ve now learned how to:\n",
        "\n",
        "* Read and write files.\n",
        "* Handle exceptions.\n",
        "* Write defensive code.\n",
        "* Follow basic program design principles.\n",
        "\n",
        "In this section, we’ll combine those skills to create a **`SecureAccount`** class for the Bank of Evil.\n",
        "This class will:\n",
        "\n",
        "* Keep track of a villain’s account balance.\n",
        "* Prevent invalid deposits and withdrawals.\n",
        "* Throw a custom exception if a withdrawal exceeds the balance.\n",
        "* Save account data to a CSV file and load it again.\n",
        "* Use encapsulation and DRY principles.\n",
        "\n",
        "---\n",
        "\n",
        "### Step 1: Our custom exception\n",
        "\n",
        "We’ll reuse the `OverdrawnByVillainException` from earlier:\n"
      ],
      "metadata": {
        "id": "BhL2vTObKdy0"
      }
    },
    {
      "cell_type": "code",
      "source": [
        "%%writefile OverdrawnByVillainException.java\n",
        "public class OverdrawnByVillainException extends Exception {\n",
        "    public OverdrawnByVillainException(String message) {\n",
        "        super(message);\n",
        "    }\n",
        "}\n"
      ],
      "metadata": {
        "colab": {
          "base_uri": "https://localhost:8080/"
        },
        "id": "auUBSM55Lonp",
        "outputId": "def40a62-9e6a-4e87-8152-51292f234aa5"
      },
      "execution_count": 5,
      "outputs": [
        {
          "output_type": "stream",
          "name": "stdout",
          "text": [
            "Writing OverdrawnByVillainException.java\n"
          ]
        }
      ]
    },
    {
      "cell_type": "markdown",
      "source": [
        "\n",
        "### Step 2: The SecureAccount class\n",
        "\n",
        "This class demonstrates encapsulation, validation, and exception handling.\n"
      ],
      "metadata": {
        "id": "nfizwV5pLhhC"
      }
    },
    {
      "cell_type": "code",
      "source": [
        "%%writefile SecureAccount.java\n",
        "import java.io.FileWriter;\n",
        "import java.io.File;\n",
        "import java.io.FileNotFoundException;\n",
        "import java.io.IOException;\n",
        "import java.util.Scanner;\n",
        "\n",
        "public class SecureAccount {\n",
        "    private String villainName;\n",
        "    private double balance;\n",
        "\n",
        "    public SecureAccount(String villainName, double startingBalance) {\n",
        "        this.villainName = villainName;\n",
        "        this.balance = startingBalance;\n",
        "    }\n",
        "\n",
        "    public void deposit(double amount) {\n",
        "        if (amount <= 0) {\n",
        "            System.out.println(\"Deposit must be positive.\");\n",
        "            return;\n",
        "        }\n",
        "        balance += amount;\n",
        "    }\n",
        "\n",
        "    public void withdraw(double amount) throws OverdrawnByVillainException {\n",
        "        if (amount <= 0) {\n",
        "            System.out.println(\"Withdrawal must be positive.\");\n",
        "            return;\n",
        "        }\n",
        "        if (amount > balance) {\n",
        "            throw new OverdrawnByVillainException(villainName +\n",
        "                \" attempted to withdraw \" + amount + \" with only \" + balance + \" available!\");\n",
        "        }\n",
        "        balance -= amount;\n",
        "    }\n",
        "\n",
        "    public double getBalance() {\n",
        "        return balance;\n",
        "    }\n",
        "\n",
        "    public void saveToFile(String filename) throws IOException {\n",
        "        FileWriter writer = new FileWriter(filename);\n",
        "        writer.write(villainName + \",\" + balance + \"\\n\");\n",
        "        writer.close();\n",
        "    }\n",
        "\n",
        "    public static SecureAccount loadFromFile(String filename) throws FileNotFoundException {\n",
        "        File file = new File(filename);\n",
        "        Scanner scanner = new Scanner(file);\n",
        "        String line = scanner.nextLine();\n",
        "        scanner.close();\n",
        "\n",
        "        String[] parts = line.split(\",\");\n",
        "        String name = parts[0];\n",
        "        double bal = Double.parseDouble(parts[1]);\n",
        "        return new SecureAccount(name, bal);\n",
        "    }\n",
        "}\n"
      ],
      "metadata": {
        "colab": {
          "base_uri": "https://localhost:8080/"
        },
        "id": "7BVFabiPLOat",
        "outputId": "a589a147-cc5b-4936-eb77-8f41d864dc9d"
      },
      "execution_count": 4,
      "outputs": [
        {
          "output_type": "stream",
          "name": "stdout",
          "text": [
            "Writing SecureAccount.java\n"
          ]
        }
      ]
    },
    {
      "cell_type": "markdown",
      "source": [
        "\n",
        "### Step 3: A test harness (main program)\n",
        "\n",
        "Here’s a small program to test it:\n"
      ],
      "metadata": {
        "id": "_Tl8lLomLGCh"
      }
    },
    {
      "cell_type": "code",
      "source": [
        "%%writefile BankApp.java\n",
        "import java.io.FileWriter;\n",
        "import java.io.File;\n",
        "import java.io.FileNotFoundException;\n",
        "import java.io.IOException;\n",
        "import java.util.Scanner;\n",
        "\n",
        "public class BankApp {\n",
        "    public static void main(String[] args) {\n",
        "        SecureAccount account = new SecureAccount(\"Gru\", 5000);\n",
        "\n",
        "        account.deposit(2500);\n",
        "\n",
        "        try {\n",
        "            account.withdraw(8000); // This will throw our custom exception\n",
        "        } catch (OverdrawnByVillainException e) {\n",
        "            System.out.println(\"Security alert: \" + e.getMessage());\n",
        "        }\n",
        "\n",
        "        try {\n",
        "            account.saveToFile(\"account.csv\");\n",
        "            System.out.println(\"Account saved.\");\n",
        "        } catch (IOException e) {\n",
        "            System.out.println(\"Error saving account: \" + e.getMessage());\n",
        "        }\n",
        "\n",
        "        try {\n",
        "            SecureAccount loaded = SecureAccount.loadFromFile(\"account.csv\");\n",
        "            System.out.println(\"Loaded account for \" + loaded.getBalance() + \" gold coins.\");\n",
        "        } catch (FileNotFoundException e) {\n",
        "            System.out.println(\"Error loading account: file not found.\");\n",
        "        }\n",
        "    }\n",
        "}\n"
      ],
      "metadata": {
        "colab": {
          "base_uri": "https://localhost:8080/"
        },
        "id": "DMzgoSgrK8aC",
        "outputId": "abe10d05-66a9-46d3-9e07-cece4a3c3a2d"
      },
      "execution_count": 8,
      "outputs": [
        {
          "output_type": "stream",
          "name": "stdout",
          "text": [
            "Overwriting BankApp.java\n"
          ]
        }
      ]
    },
    {
      "cell_type": "code",
      "source": [
        "!javac BankApp.java\n",
        "!java BankApp"
      ],
      "metadata": {
        "colab": {
          "base_uri": "https://localhost:8080/"
        },
        "id": "YaUQrYuiLvMW",
        "outputId": "31bb4c4d-be49-4176-f1c1-888cb8dbd7c2"
      },
      "execution_count": 9,
      "outputs": [
        {
          "output_type": "stream",
          "name": "stdout",
          "text": [
            "Security alert: Gru attempted to withdraw 8000.0 with only 7500.0 available!\n",
            "Account saved.\n",
            "Loaded account for 7500.0 gold coins.\n"
          ]
        }
      ]
    },
    {
      "cell_type": "markdown",
      "source": [
        "### What this program demonstrates\n",
        "\n",
        "* **Encapsulation:** `balance` is private and only changed through methods.\n",
        "* **Defensive programming:** Methods validate input amounts.\n",
        "* **Custom exceptions:** Special error for overdrawing.\n",
        "* **Checked exceptions:** File I/O uses `throws` and `try–catch`.\n",
        "* **File handling:** Save and load account data in CSV format.\n",
        "* **Design principles:** DRY (validation in one place), maintainability (easy to change CSV format), readability.\n",
        "\n",
        "---\n",
        "\n",
        "In the final section, we’ll wrap up the chapter, reviewing what you’ve learned and how these skills fit into your journey as a Java programmer—and, of course, a junior developer at the Bank of Evil.\n"
      ],
      "metadata": {
        "id": "m65JauFoKvX-"
      }
    },
    {
      "cell_type": "markdown",
      "source": [],
      "metadata": {
        "id": "SEpFIXnkKlnk"
      }
    },
    {
      "cell_type": "code",
      "source": [],
      "metadata": {
        "id": "NfK6EE_be_Sh"
      },
      "execution_count": null,
      "outputs": []
    }
  ]
}