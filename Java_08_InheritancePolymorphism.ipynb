{
  "nbformat": 4,
  "nbformat_minor": 0,
  "metadata": {
    "colab": {
      "provenance": [],
      "authorship_tag": "ABX9TyN8pLGPZN+wfqv02Gz3oKTv",
      "include_colab_link": true
    },
    "kernelspec": {
      "name": "python3",
      "display_name": "Python 3"
    },
    "language_info": {
      "name": "python"
    }
  },
  "cells": [
    {
      "cell_type": "markdown",
      "metadata": {
        "id": "view-in-github",
        "colab_type": "text"
      },
      "source": [
        "<a href=\"https://colab.research.google.com/github/brendanpshea/programming_problem_solving/blob/main/Java_08_InheritancePolymorphism.ipynb\" target=\"_parent\"><img src=\"https://colab.research.google.com/assets/colab-badge.svg\" alt=\"Open In Colab\"/></a>"
      ]
    },
    {
      "cell_type": "markdown",
      "source": [
        "# Inheritance and Polymorphism: Superheroes Need Workouts Too\n",
        "## Brendan Shea, PhD\n",
        "\n",
        "Imagine you have been hired to design a fitness app for superheroes. Your clients include **He-Man**, **She-Ra**, and the **Incredible Hulk**. They want an app that gives them exercises, tracks calories, and adapts to their unique styles of training. At first, you might think about writing a separate program for each hero—but this would be messy and repetitive. Instead, we can design the program so that it shares common features but also allows each hero to have their own special behavior.\n",
        "\n",
        "This is where **inheritance** and related tools in Java come in. These features let us write code once in a general way and then extend or specialize it for particular cases. In this chapter, you will learn:\n",
        "\n",
        "* **Inheritance**: creating a new class from an existing class.\n",
        "* **Polymorphism**: writing code that can work with many different types in a unified way.\n",
        "* **Interfaces**: contracts that classes can agree to follow.\n",
        "* **Abstract classes**: blueprints for classes that are partially finished.\n",
        "* **Static and final**: special keywords for constants and class-level features.\n",
        "\n",
        "Think of this chapter as building the “superhero workout framework.” First we’ll design a general model for an **Exercise**, then we’ll customize it for different heroes. By the end, you’ll see how these ideas let you write code that is flexible, powerful, and (hopefully) fun.\n",
        "\n",
        "To get started, here’s a very simple **Java class definition** you should recall from earlier chapters:\n"
      ],
      "metadata": {
        "id": "0Jf1WDQ0Psnd"
      }
    },
    {
      "cell_type": "code",
      "source": [
        "%%writefile Exercise.java\n",
        "public class Exercise {\n",
        "    private String name;\n",
        "\n",
        "    public Exercise(String name) {\n",
        "        this.name = name;\n",
        "    }\n",
        "\n",
        "    public void perform() {\n",
        "        System.out.println(\"Performing \" + name);\n",
        "    }\n",
        "}"
      ],
      "metadata": {
        "colab": {
          "base_uri": "https://localhost:8080/"
        },
        "id": "nD4ZS0I1QDvP",
        "outputId": "121a9d6c-ed66-4029-f7e7-ee27c9c3d622"
      },
      "execution_count": 1,
      "outputs": [
        {
          "output_type": "stream",
          "name": "stdout",
          "text": [
            "Writing Exercise.java\n"
          ]
        }
      ]
    },
    {
      "cell_type": "markdown",
      "source": [
        "\n",
        "* The keyword **class** defines a new type.\n",
        "* The keyword **public** makes the class accessible to other parts of the program.\n",
        "* The **constructor** (`public Exercise(String name)`) sets up the object when created.\n",
        "* The **method** `perform()` carries out an action.\n",
        "\n",
        "This simple design will serve as the foundation. Next, we’ll see how to extend it so Hulk can smash burpees while She-Ra does squats—all without writing everything from scratch.\n"
      ],
      "metadata": {
        "id": "1Q3h8M-nQBMa"
      }
    },
    {
      "cell_type": "markdown",
      "source": [
        "## Brendan's Lecture"
      ],
      "metadata": {
        "id": "pq1zv-V2AISX"
      }
    },
    {
      "cell_type": "code",
      "source": [
        "from IPython.display import YouTubeVideo\n",
        "YouTubeVideo('e5lM9Z36HIA', width=800, height=500)"
      ],
      "metadata": {
        "id": "icIAaLD4ALCH"
      },
      "execution_count": null,
      "outputs": []
    },
    {
      "cell_type": "markdown",
      "source": [
        "## Inheritance: Extending a Parent Class\n",
        "\n",
        "One of the most powerful ideas in object-oriented programming is **inheritance**, which means creating a new class based on an existing one. The new class, called a **subclass**, automatically gains the variables and methods of the **parent class** (also called the **superclass**). You can then add new features or change existing ones.\n",
        "\n",
        "In Java, inheritance uses the keyword **extends**. This tells the compiler that one class is derived from another.\n",
        "\n",
        "Here’s an example. Suppose we want a specific kind of exercise—say, push-ups:\n"
      ],
      "metadata": {
        "id": "EbJr-eIvQNkd"
      }
    },
    {
      "cell_type": "code",
      "source": [
        "%%writefile PushUp.java\n",
        "public class PushUp extends Exercise {\n",
        "    public PushUp() {\n",
        "        super(\"Push-Up\");\n",
        "    }\n",
        "}"
      ],
      "metadata": {
        "colab": {
          "base_uri": "https://localhost:8080/"
        },
        "id": "F0Z2DZIWQOKF",
        "outputId": "7e3dbe7e-d59b-471b-fc48-b7380555e269"
      },
      "execution_count": 2,
      "outputs": [
        {
          "output_type": "stream",
          "name": "stdout",
          "text": [
            "Writing PushUp.java\n"
          ]
        }
      ]
    },
    {
      "cell_type": "markdown",
      "source": [
        "Let’s break this down:\n",
        "\n",
        "* The keyword **extends** means `PushUp` is a subclass of `Exercise`.\n",
        "* The **constructor** in `PushUp` calls the constructor of `Exercise` using **super**.\n",
        "* `super(\"Push-Up\")` passes the string `\"Push-Up\"` to the parent class so it can store the exercise name.\n",
        "\n",
        "This means that even though we only wrote a few lines, `PushUp` already knows how to use the `perform()` method from `Exercise`, because it **inherits** it.\n",
        "\n",
        "If we run this small test:"
      ],
      "metadata": {
        "id": "hKa_otQXQS42"
      }
    },
    {
      "cell_type": "code",
      "source": [
        "%%writefile TestWorkout.java\n",
        "public class TestWorkout {\n",
        "    public static void main(String[] args) {\n",
        "        PushUp p = new PushUp();\n",
        "        p.perform();\n",
        "    }\n",
        "}"
      ],
      "metadata": {
        "colab": {
          "base_uri": "https://localhost:8080/"
        },
        "id": "XDAoUrg3P0Wz",
        "outputId": "0471c4f8-90fc-4dae-ee78-7f9cee9e703a"
      },
      "execution_count": 3,
      "outputs": [
        {
          "output_type": "stream",
          "name": "stdout",
          "text": [
            "Writing TestWorkout.java\n"
          ]
        }
      ]
    },
    {
      "cell_type": "code",
      "source": [
        "!javac PushUp.java Exercise.java TestWorkout.java\n",
        "!java TestWorkout"
      ],
      "metadata": {
        "colab": {
          "base_uri": "https://localhost:8080/"
        },
        "id": "YXw4D5gpQeUT",
        "outputId": "26189784-b321-48fe-a1ea-94cb0421517d"
      },
      "execution_count": 4,
      "outputs": [
        {
          "output_type": "stream",
          "name": "stdout",
          "text": [
            "Performing Push-Up\n"
          ]
        }
      ]
    },
    {
      "cell_type": "markdown",
      "source": [
        "We can see that that client is \"Performing Pushup\"."
      ],
      "metadata": {
        "id": "p6XqysgVQy7s"
      }
    },
    {
      "cell_type": "markdown",
      "source": [
        "### A Visual Model of Inheritance\n",
        "\n",
        "You can imagine inheritance as an arrow pointing from child to parent:"
      ],
      "metadata": {
        "id": "uLKs10uGQ5Vl"
      }
    },
    {
      "cell_type": "code",
      "source": [
        "# @title\n",
        "import base64\n",
        "import requests\n",
        "from IPython.display import SVG, display\n",
        "\n",
        "def mm(graph: str) -> None:\n",
        "    \"\"\"\n",
        "    Fetch and display a Mermaid diagram as SVG.\n",
        "\n",
        "    Parameters:\n",
        "      graph (str): Mermaid graph definition.\n",
        "    \"\"\"\n",
        "    # 1. Encode the graph to Base64\n",
        "    b64 = base64.urlsafe_b64encode(graph.encode('utf-8')).decode('ascii')\n",
        "    # 2. Construct the SVG URL\n",
        "    url = f'https://mermaid.ink/svg/{b64}'\n",
        "    # 3. Fetch SVG content\n",
        "    svg_data = requests.get(url).text\n",
        "    # 4. Render inline in Jupyter\n",
        "    display(SVG(data=svg_data))\n",
        "\n",
        "# Change the code in the \"\"\"\n",
        "mm(\"\"\"\n",
        "classDiagram\n",
        "    Exercise <|-- PushUp\n",
        "    class Exercise {\n",
        "        - String name\n",
        "        + Exercise(String name)\n",
        "        + perform()\n",
        "    }\n",
        "    class PushUp {\n",
        "        + PushUp()\n",
        "    }\"\"\")"
      ],
      "metadata": {
        "colab": {
          "base_uri": "https://localhost:8080/",
          "height": 381
        },
        "cellView": "form",
        "id": "6b1QqHzVQ5zq",
        "outputId": "97346e37-dcf2-4e38-f81d-37a957dc7e21"
      },
      "execution_count": null,
      "outputs": [
        {
          "output_type": "display_data",
          "data": {
            "text/plain": [
              "<IPython.core.display.SVG object>"
            ],
            "image/svg+xml": "<svg xmlns=\"http://www.w3.org/2000/svg\" xmlns:xlink=\"http://www.w3.org/1999/xlink\" id=\"mermaid-svg\" width=\"100%\" class=\"classDiagram\" style=\"max-width: 244.984375px;\" viewBox=\"0 0 244.984375 360\" role=\"graphics-document document\" aria-roledescription=\"class\"><style xmlns=\"http://www.w3.org/1999/xhtml\">@import url(&quot;https://cdnjs.cloudflare.com/ajax/libs/font-awesome/6.7.2/css/all.min.css&quot;);</style><style>#mermaid-svg{font-family:&quot;trebuchet ms&quot;,verdana,arial,sans-serif;font-size:16px;fill:#333;}@keyframes edge-animation-frame{from{stroke-dashoffset:0;}}@keyframes dash{to{stroke-dashoffset:0;}}#mermaid-svg .edge-animation-slow{stroke-dasharray:9,5!important;stroke-dashoffset:900;animation:dash 50s linear infinite;stroke-linecap:round;}#mermaid-svg .edge-animation-fast{stroke-dasharray:9,5!important;stroke-dashoffset:900;animation:dash 20s linear infinite;stroke-linecap:round;}#mermaid-svg .error-icon{fill:#552222;}#mermaid-svg .error-text{fill:#552222;stroke:#552222;}#mermaid-svg .edge-thickness-normal{stroke-width:1px;}#mermaid-svg .edge-thickness-thick{stroke-width:3.5px;}#mermaid-svg .edge-pattern-solid{stroke-dasharray:0;}#mermaid-svg .edge-thickness-invisible{stroke-width:0;fill:none;}#mermaid-svg .edge-pattern-dashed{stroke-dasharray:3;}#mermaid-svg .edge-pattern-dotted{stroke-dasharray:2;}#mermaid-svg .marker{fill:#333333;stroke:#333333;}#mermaid-svg .marker.cross{stroke:#333333;}#mermaid-svg svg{font-family:&quot;trebuchet ms&quot;,verdana,arial,sans-serif;font-size:16px;}#mermaid-svg p{margin:0;}#mermaid-svg g.classGroup text{fill:#9370DB;stroke:none;font-family:&quot;trebuchet ms&quot;,verdana,arial,sans-serif;font-size:10px;}#mermaid-svg g.classGroup text .title{font-weight:bolder;}#mermaid-svg .nodeLabel,#mermaid-svg .edgeLabel{color:#131300;}#mermaid-svg .edgeLabel .label rect{fill:#ECECFF;}#mermaid-svg .label text{fill:#131300;}#mermaid-svg .labelBkg{background:#ECECFF;}#mermaid-svg .edgeLabel .label span{background:#ECECFF;}#mermaid-svg .classTitle{font-weight:bolder;}#mermaid-svg .node rect,#mermaid-svg .node circle,#mermaid-svg .node ellipse,#mermaid-svg .node polygon,#mermaid-svg .node path{fill:#ECECFF;stroke:#9370DB;stroke-width:1px;}#mermaid-svg .divider{stroke:#9370DB;stroke-width:1;}#mermaid-svg g.clickable{cursor:pointer;}#mermaid-svg g.classGroup rect{fill:#ECECFF;stroke:#9370DB;}#mermaid-svg g.classGroup line{stroke:#9370DB;stroke-width:1;}#mermaid-svg .classLabel .box{stroke:none;stroke-width:0;fill:#ECECFF;opacity:0.5;}#mermaid-svg .classLabel .label{fill:#9370DB;font-size:10px;}#mermaid-svg .relation{stroke:#333333;stroke-width:1;fill:none;}#mermaid-svg .dashed-line{stroke-dasharray:3;}#mermaid-svg .dotted-line{stroke-dasharray:1 2;}#mermaid-svg #compositionStart,#mermaid-svg .composition{fill:#333333!important;stroke:#333333!important;stroke-width:1;}#mermaid-svg #compositionEnd,#mermaid-svg .composition{fill:#333333!important;stroke:#333333!important;stroke-width:1;}#mermaid-svg #dependencyStart,#mermaid-svg .dependency{fill:#333333!important;stroke:#333333!important;stroke-width:1;}#mermaid-svg #dependencyStart,#mermaid-svg .dependency{fill:#333333!important;stroke:#333333!important;stroke-width:1;}#mermaid-svg #extensionStart,#mermaid-svg .extension{fill:transparent!important;stroke:#333333!important;stroke-width:1;}#mermaid-svg #extensionEnd,#mermaid-svg .extension{fill:transparent!important;stroke:#333333!important;stroke-width:1;}#mermaid-svg #aggregationStart,#mermaid-svg .aggregation{fill:transparent!important;stroke:#333333!important;stroke-width:1;}#mermaid-svg #aggregationEnd,#mermaid-svg .aggregation{fill:transparent!important;stroke:#333333!important;stroke-width:1;}#mermaid-svg #lollipopStart,#mermaid-svg .lollipop{fill:#ECECFF!important;stroke:#333333!important;stroke-width:1;}#mermaid-svg #lollipopEnd,#mermaid-svg .lollipop{fill:#ECECFF!important;stroke:#333333!important;stroke-width:1;}#mermaid-svg .edgeTerminals{font-size:11px;line-height:initial;}#mermaid-svg .classTitleText{text-anchor:middle;font-size:18px;fill:#333;}#mermaid-svg .label-icon{display:inline-block;height:1em;overflow:visible;vertical-align:-0.125em;}#mermaid-svg .node .label-icon path{fill:currentColor;stroke:revert;stroke-width:revert;}#mermaid-svg :root{--mermaid-font-family:&quot;trebuchet ms&quot;,verdana,arial,sans-serif;}</style><g><defs><marker id=\"mermaid-svg_class-aggregationStart\" class=\"marker aggregation class\" refX=\"18\" refY=\"7\" markerWidth=\"190\" markerHeight=\"240\" orient=\"auto\"><path d=\"M 18,7 L9,13 L1,7 L9,1 Z\"/></marker></defs><defs><marker id=\"mermaid-svg_class-aggregationEnd\" class=\"marker aggregation class\" refX=\"1\" refY=\"7\" markerWidth=\"20\" markerHeight=\"28\" orient=\"auto\"><path d=\"M 18,7 L9,13 L1,7 L9,1 Z\"/></marker></defs><defs><marker id=\"mermaid-svg_class-extensionStart\" class=\"marker extension class\" refX=\"18\" refY=\"7\" markerWidth=\"190\" markerHeight=\"240\" orient=\"auto\"><path d=\"M 1,7 L18,13 V 1 Z\"/></marker></defs><defs><marker id=\"mermaid-svg_class-extensionEnd\" class=\"marker extension class\" refX=\"1\" refY=\"7\" markerWidth=\"20\" markerHeight=\"28\" orient=\"auto\"><path d=\"M 1,1 V 13 L18,7 Z\"/></marker></defs><defs><marker id=\"mermaid-svg_class-compositionStart\" class=\"marker composition class\" refX=\"18\" refY=\"7\" markerWidth=\"190\" markerHeight=\"240\" orient=\"auto\"><path d=\"M 18,7 L9,13 L1,7 L9,1 Z\"/></marker></defs><defs><marker id=\"mermaid-svg_class-compositionEnd\" class=\"marker composition class\" refX=\"1\" refY=\"7\" markerWidth=\"20\" markerHeight=\"28\" orient=\"auto\"><path d=\"M 18,7 L9,13 L1,7 L9,1 Z\"/></marker></defs><defs><marker id=\"mermaid-svg_class-dependencyStart\" class=\"marker dependency class\" refX=\"6\" refY=\"7\" markerWidth=\"190\" markerHeight=\"240\" orient=\"auto\"><path d=\"M 5,7 L9,13 L1,7 L9,1 Z\"/></marker></defs><defs><marker id=\"mermaid-svg_class-dependencyEnd\" class=\"marker dependency class\" refX=\"13\" refY=\"7\" markerWidth=\"20\" markerHeight=\"28\" orient=\"auto\"><path d=\"M 18,7 L9,13 L14,7 L9,1 Z\"/></marker></defs><defs><marker id=\"mermaid-svg_class-lollipopStart\" class=\"marker lollipop class\" refX=\"13\" refY=\"7\" markerWidth=\"190\" markerHeight=\"240\" orient=\"auto\"><circle stroke=\"black\" fill=\"transparent\" cx=\"7\" cy=\"7\" r=\"6\"/></marker></defs><defs><marker id=\"mermaid-svg_class-lollipopEnd\" class=\"marker lollipop class\" refX=\"1\" refY=\"7\" markerWidth=\"190\" markerHeight=\"240\" orient=\"auto\"><circle stroke=\"black\" fill=\"transparent\" cx=\"7\" cy=\"7\" r=\"6\"/></marker></defs><g class=\"root\"><g class=\"clusters\"/><g class=\"edgePaths\"><path d=\"M122.492,194L122.492,195.167C122.492,196.333,122.492,198.667,122.492,204C122.492,209.333,122.492,217.667,122.492,221.833L122.492,226\" id=\"id_Exercise_PushUp_1\" class=\" edge-thickness-normal edge-pattern-solid relation\" style=\"\" marker-start=\"url(#mermaid-svg_class-extensionStart)\"/></g><g class=\"edgeLabels\"><g class=\"edgeLabel\"><g class=\"label\" transform=\"translate(0, -12)\"><foreignObject width=\"0\" height=\"24\"><div xmlns=\"http://www.w3.org/1999/xhtml\" style=\"display: table-cell; white-space: nowrap; line-height: 1.5; max-width: 200px; text-align: center;\" class=\"labelBkg\"><span style=\";display: inline-block\" class=\"edgeLabel \"/></div></foreignObject></g></g></g><g class=\"nodes\"><g class=\"node default \" id=\"classId-Exercise-0\" transform=\"translate(122.4921875, 92)\"><g class=\"basic label-container\"><path d=\"M-114.4921875 -84 L114.4921875 -84 L114.4921875 84 L-114.4921875 84\" stroke=\"none\" stroke-width=\"0\" fill=\"#ECECFF\" style=\"\"/><path d=\"M-114.4921875 -84 C-45.8377110782434 -84, 22.816765343513197 -84, 114.4921875 -84 M-114.4921875 -84 C-63.14717205585635 -84, -11.802156611712704 -84, 114.4921875 -84 M114.4921875 -84 C114.4921875 -38.032674531441785, 114.4921875 7.93465093711643, 114.4921875 84 M114.4921875 -84 C114.4921875 -46.938994120429626, 114.4921875 -9.877988240859253, 114.4921875 84 M114.4921875 84 C65.28542705344964 84, 16.078666606899276 84, -114.4921875 84 M114.4921875 84 C56.96178918192922 84, -0.5686091361415606 84, -114.4921875 84 M-114.4921875 84 C-114.4921875 20.00168182552678, -114.4921875 -43.99663634894644, -114.4921875 -84 M-114.4921875 84 C-114.4921875 23.712052161570305, -114.4921875 -36.57589567685939, -114.4921875 -84\" stroke=\"#9370DB\" stroke-width=\"1.3\" fill=\"none\" stroke-dasharray=\"0 0\" style=\"\"/></g><g class=\"annotation-group text\" transform=\"translate(0, -60)\"/><g class=\"label-group text\" transform=\"translate(-32.921875, -60)\"><g class=\"label\" style=\"font-weight: bolder\" transform=\"translate(0,-12)\"><foreignObject width=\"65.84375\" height=\"24\"><div xmlns=\"http://www.w3.org/1999/xhtml\" style=\"display: table-cell; white-space: nowrap; line-height: 1.5; max-width: 105px; text-align: center;\"><span class=\"nodeLabel markdown-node-label\" style=\"\"><p>Exercise</p></span></div></foreignObject></g></g><g class=\"members-group text\" transform=\"translate(-102.4921875, -12)\"><g class=\"label\" style=\"\" transform=\"translate(0,-12)\"><foreignObject width=\"96.046875\" height=\"24\"><div xmlns=\"http://www.w3.org/1999/xhtml\" style=\"display: table-cell; white-space: nowrap; line-height: 1.5; max-width: 142px; text-align: center;\"><span class=\"nodeLabel markdown-node-label\" style=\"\"><p>- String name</p></span></div></foreignObject></g></g><g class=\"methods-group text\" transform=\"translate(-102.4921875, 36)\"><g class=\"label\" style=\"\" transform=\"translate(0,-12)\"><foreignObject width=\"172.0625\" height=\"24\"><div xmlns=\"http://www.w3.org/1999/xhtml\" style=\"display: table-cell; white-space: nowrap; line-height: 1.5; max-width: 211px; text-align: center;\"><span class=\"nodeLabel markdown-node-label\" style=\"\"><p>+ Exercise(String name)</p></span></div></foreignObject></g><g class=\"label\" style=\"\" transform=\"translate(0,12)\"><foreignObject width=\"79.578125\" height=\"24\"><div xmlns=\"http://www.w3.org/1999/xhtml\" style=\"display: table-cell; white-space: nowrap; line-height: 1.5; max-width: 130px; text-align: center;\"><span class=\"nodeLabel markdown-node-label\" style=\"\"><p>+ perform()</p></span></div></foreignObject></g></g><g class=\"divider\" style=\"\"><path d=\"M-114.4921875 -36 C-33.95575595920296 -36, 46.58067558159408 -36, 114.4921875 -36 M-114.4921875 -36 C-66.1779630572002 -36, -17.86373861440039 -36, 114.4921875 -36\" stroke=\"#9370DB\" stroke-width=\"1.3\" fill=\"none\" stroke-dasharray=\"0 0\" style=\"\"/></g><g class=\"divider\" style=\"\"><path d=\"M-114.4921875 12 C-24.158145214853533 12, 66.17589707029293 12, 114.4921875 12 M-114.4921875 12 C-61.68907136584846 12, -8.885955231696926 12, 114.4921875 12\" stroke=\"#9370DB\" stroke-width=\"1.3\" fill=\"none\" stroke-dasharray=\"0 0\" style=\"\"/></g></g><g class=\"node default \" id=\"classId-PushUp-1\" transform=\"translate(122.4921875, 289)\"><g class=\"basic label-container\"><path d=\"M-67.80078125 -63 L67.80078125 -63 L67.80078125 63 L-67.80078125 63\" stroke=\"none\" stroke-width=\"0\" fill=\"#ECECFF\" style=\"\"/><path d=\"M-67.80078125 -63 C-16.121396511960874 -63, 35.55798822607825 -63, 67.80078125 -63 M-67.80078125 -63 C-37.095798447723155 -63, -6.39081564544631 -63, 67.80078125 -63 M67.80078125 -63 C67.80078125 -20.670543073776983, 67.80078125 21.658913852446034, 67.80078125 63 M67.80078125 -63 C67.80078125 -14.74865879247593, 67.80078125 33.50268241504814, 67.80078125 63 M67.80078125 63 C32.08795664673195 63, -3.624867956536093 63, -67.80078125 63 M67.80078125 63 C33.49424626461626 63, -0.8122887207674836 63, -67.80078125 63 M-67.80078125 63 C-67.80078125 24.118018398130758, -67.80078125 -14.763963203738484, -67.80078125 -63 M-67.80078125 63 C-67.80078125 35.77873788424922, -67.80078125 8.557475768498435, -67.80078125 -63\" stroke=\"#9370DB\" stroke-width=\"1.3\" fill=\"none\" stroke-dasharray=\"0 0\" style=\"\"/></g><g class=\"annotation-group text\" transform=\"translate(0, -39)\"/><g class=\"label-group text\" transform=\"translate(-30.2265625, -39)\"><g class=\"label\" style=\"font-weight: bolder\" transform=\"translate(0,-12)\"><foreignObject width=\"60.453125\" height=\"24\"><div xmlns=\"http://www.w3.org/1999/xhtml\" style=\"display: table-cell; white-space: nowrap; line-height: 1.5; max-width: 101px; text-align: center;\"><span class=\"nodeLabel markdown-node-label\" style=\"\"><p>PushUp</p></span></div></foreignObject></g></g><g class=\"members-group text\" transform=\"translate(-55.80078125, 9)\"/><g class=\"methods-group text\" transform=\"translate(-55.80078125, 39)\"><g class=\"label\" style=\"\" transform=\"translate(0,-12)\"><foreignObject width=\"81.375\" height=\"24\"><div xmlns=\"http://www.w3.org/1999/xhtml\" style=\"display: table-cell; white-space: nowrap; line-height: 1.5; max-width: 129px; text-align: center;\"><span class=\"nodeLabel markdown-node-label\" style=\"\"><p>+ PushUp()</p></span></div></foreignObject></g></g><g class=\"divider\" style=\"\"><path d=\"M-67.80078125 -15 C-21.374129603418467 -15, 25.052522043163066 -15, 67.80078125 -15 M-67.80078125 -15 C-28.32213324610474 -15, 11.156514757790518 -15, 67.80078125 -15\" stroke=\"#9370DB\" stroke-width=\"1.3\" fill=\"none\" stroke-dasharray=\"0 0\" style=\"\"/></g><g class=\"divider\" style=\"\"><path d=\"M-67.80078125 9 C-40.50303264433485 9, -13.20528403866971 9, 67.80078125 9 M-67.80078125 9 C-25.489614307570477 9, 16.821552634859046 9, 67.80078125 9\" stroke=\"#9370DB\" stroke-width=\"1.3\" fill=\"none\" stroke-dasharray=\"0 0\" style=\"\"/></g></g></g></g></g></svg>"
          },
          "metadata": {}
        }
      ]
    },
    {
      "cell_type": "markdown",
      "source": [
        "Here, `PushUp` **inherits** the variables and methods from `Exercise`. Later, we’ll see how it can also **override** them to provide new behavior."
      ],
      "metadata": {
        "id": "MridiqLORHr9"
      }
    },
    {
      "cell_type": "markdown",
      "source": [
        "## Constructors and super\n",
        "\n",
        "When we create a subclass, we often need to make sure that the **parent class constructor** runs first. This ensures that the parent part of the object is set up correctly before the child adds its own details. In Java, we do this with the keyword **super**.\n",
        "\n",
        "A **constructor** is a special method that runs when a new object is created. It usually sets up variables or prepares the object for use. In inheritance, the child class can call the parent’s constructor with `super(...)`.\n",
        "\n",
        "Let’s add another exercise type—squats—that also needs a name:"
      ],
      "metadata": {
        "id": "XTAvRduyRVmi"
      }
    },
    {
      "cell_type": "code",
      "source": [
        "%%writefile Squat.java\n",
        "public class Squat extends Exercise {\n",
        "    private int reps;\n",
        "\n",
        "    public Squat(int reps) {\n",
        "        super(\"Squat\");      // Call parent constructor\n",
        "        this.reps = reps;    // Child adds its own detail\n",
        "    }\n",
        "\n",
        "    public void perform() {\n",
        "        System.out.println(\"Doing \" + reps + \" squats!\");\n",
        "    }\n",
        "}"
      ],
      "metadata": {
        "colab": {
          "base_uri": "https://localhost:8080/"
        },
        "id": "7EHCjlR8RWDp",
        "outputId": "1a621ead-5553-4880-c686-2a5615381084"
      },
      "execution_count": 7,
      "outputs": [
        {
          "output_type": "stream",
          "name": "stdout",
          "text": [
            "Writing Squat.java\n"
          ]
        }
      ]
    },
    {
      "cell_type": "markdown",
      "source": [
        "### Explanation\n",
        "\n",
        "* `super(\"Squat\")` calls the `Exercise` constructor, setting the name field.\n",
        "* `this.reps = reps;` is new information that belongs only to squats.\n",
        "* The `perform()` method is rewritten (this is called **overriding**) to display the reps.\n",
        "\n",
        "Now we can test it:\n"
      ],
      "metadata": {
        "id": "huEL23ZKRdtC"
      }
    },
    {
      "cell_type": "code",
      "source": [
        "%%writefile TestWorkout.java\n",
        "public class TestWorkout {\n",
        "    public static void main(String[] args) {\n",
        "        Squat s = new Squat(15);\n",
        "        s.perform();\n",
        "    }\n",
        "}"
      ],
      "metadata": {
        "colab": {
          "base_uri": "https://localhost:8080/"
        },
        "id": "qLBgGdgjReLi",
        "outputId": "0f292a0f-835a-460a-bd65-f97c7896b4cf"
      },
      "execution_count": 9,
      "outputs": [
        {
          "output_type": "stream",
          "name": "stdout",
          "text": [
            "Overwriting TestWorkout.java\n"
          ]
        }
      ]
    },
    {
      "cell_type": "code",
      "source": [
        "!javac Exercise.java Squat.java TestWorkout.java\n",
        "!java TestWorkout"
      ],
      "metadata": {
        "colab": {
          "base_uri": "https://localhost:8080/"
        },
        "id": "mDwWmF4sRG9I",
        "outputId": "957c67be-7bf3-4c9e-e028-9d611260becc"
      },
      "execution_count": 13,
      "outputs": [
        {
          "output_type": "stream",
          "name": "stdout",
          "text": [
            "Doing 15 squats!\n"
          ]
        }
      ]
    },
    {
      "cell_type": "markdown",
      "source": [
        "### Why super Matters\n",
        "\n",
        "Without `super`, the parent class wouldn’t be initialized properly, and we’d risk errors or missing data. Think of it like superheroes inheriting powers from their parents: He-Man might start with “super strength” from his lineage, and then add his own sword skills on top. You need both the inherited powers and the new ones.\n",
        "\n"
      ],
      "metadata": {
        "id": "-ODWWRbCR0KE"
      }
    },
    {
      "cell_type": "markdown",
      "source": [
        "## Exercise 1: Extending the Workout\n",
        "\n",
        "It’s your turn to try inheritance. Below is some starter code for the base `Exercise` class and a simple subclass. Your job is to create your own exercise for our superhero clients."
      ],
      "metadata": {
        "id": "80kJxnQOSUqP"
      }
    },
    {
      "cell_type": "code",
      "source": [
        "%%writefile Exercise.java\n",
        "public class Exercise {\n",
        "    private String name;\n",
        "\n",
        "    public Exercise(String name) {\n",
        "        this.name = name;\n",
        "    }\n",
        "\n",
        "    public void perform() {\n",
        "        System.out.println(\"Performing \" + name);\n",
        "    }\n",
        "}"
      ],
      "metadata": {
        "colab": {
          "base_uri": "https://localhost:8080/"
        },
        "id": "GJxqD9GhSY5q",
        "outputId": "8daf6874-bb09-455f-cb22-49723d9ba370"
      },
      "execution_count": null,
      "outputs": [
        {
          "output_type": "stream",
          "name": "stdout",
          "text": [
            "Overwriting Exercise.java\n"
          ]
        }
      ]
    },
    {
      "cell_type": "markdown",
      "source": [
        "And here is a sample subclass:"
      ],
      "metadata": {
        "id": "uuaGA2kzSjCM"
      }
    },
    {
      "cell_type": "code",
      "source": [
        "%%writefile PushUp.java\n",
        "public class PushUp extends Exercise {\n",
        "    public PushUp() {\n",
        "        super(\"Push-Up\");\n",
        "    }\n",
        "}"
      ],
      "metadata": {
        "colab": {
          "base_uri": "https://localhost:8080/"
        },
        "id": "nfW3aPJ9Slep",
        "outputId": "f40ba4c6-e004-4805-b29d-134a1e1da53d"
      },
      "execution_count": null,
      "outputs": [
        {
          "output_type": "stream",
          "name": "stdout",
          "text": [
            "Overwriting PushUp.java\n"
          ]
        }
      ]
    },
    {
      "cell_type": "markdown",
      "source": [
        "### Your Task\n",
        "\n",
        "Create a new exercise class for the Hulk, called **Burpee**.\n",
        "\n",
        "**TODOs:**\n",
        "\n",
        "1. Write a class `Burpee` that **extends** `Exercise`.\n",
        "2. In the constructor, call the parent constructor with `super(\"Burpee\")`.\n",
        "3. Add a `perform()` method that prints something fun, such as:\n",
        "\n",
        "   ```\n",
        "   Hulk smashes through 10 burpees!\n",
        "   ```\n",
        "4. In a small test class (with `public static void main`), make a `Burpee` object and call `perform()`.\n",
        "\n",
        "### Hint\n",
        "\n",
        "Remember the pattern:\n",
        "\n",
        "```java\n",
        "public class SubClass extends ParentClass {\n",
        "    public SubClass() {\n",
        "        super(\"SomeName\");\n",
        "    }\n",
        "\n",
        "    // Optional: override methods here\n",
        "}\n",
        "```\n"
      ],
      "metadata": {
        "id": "jlRDs7paSr0l"
      }
    },
    {
      "cell_type": "code",
      "source": [
        "%%writefile Burpee.java"
      ],
      "metadata": {
        "colab": {
          "base_uri": "https://localhost:8080/"
        },
        "id": "d4HLgoioSsUq",
        "outputId": "6f52f0f2-bec9-445b-f851-bdb0e1a3da23"
      },
      "execution_count": null,
      "outputs": [
        {
          "output_type": "stream",
          "name": "stdout",
          "text": [
            "Writing Burpee.java\n"
          ]
        }
      ]
    },
    {
      "cell_type": "code",
      "source": [
        "# Compile and run below!"
      ],
      "metadata": {
        "id": "bDGe8UwHSuK6"
      },
      "execution_count": null,
      "outputs": []
    },
    {
      "cell_type": "markdown",
      "source": [
        "## Method Overriding\n",
        "\n",
        "So far, when a subclass like `PushUp` or `Squat` inherits the `perform()` method from `Exercise`, it can simply use it. But what if we want different exercises to *act differently*? That’s where **method overriding** comes in.\n",
        "\n",
        "**Method overriding** means writing a new version of a method in the child class that has the **same name, same parameters, and same return type** as in the parent class. When the method is called on the child object, Java will use the child’s version instead of the parent’s.\n",
        "\n",
        "Let’s look at an example. Our base `Exercise` class has this method:\n",
        "\n",
        "```java\n",
        "public void perform() {\n",
        "    System.out.println(\"Performing \" + name);\n",
        "}\n",
        "```\n",
        "\n",
        "Now let’s override it in `Squat`:"
      ],
      "metadata": {
        "id": "2Gk2dLbTOGEf"
      }
    },
    {
      "cell_type": "code",
      "source": [
        "%%writefile Squat.java\n",
        "public class Squat extends Exercise {\n",
        "    private int reps;\n",
        "\n",
        "    public Squat(int reps) {\n",
        "        super(\"Squat\");\n",
        "        this.reps = reps;\n",
        "    }\n",
        "\n",
        "    @Override\n",
        "    public void perform() {\n",
        "        System.out.println(\"Doing \" + reps + \" squats!\");\n",
        "    }\n",
        "}"
      ],
      "metadata": {
        "colab": {
          "base_uri": "https://localhost:8080/"
        },
        "id": "tMNi08X4OG7T",
        "outputId": "2ffc1fe1-c854-47e3-eb8f-0acbac767cea"
      },
      "execution_count": null,
      "outputs": [
        {
          "output_type": "stream",
          "name": "stdout",
          "text": [
            "Overwriting Squat.java\n"
          ]
        }
      ]
    },
    {
      "cell_type": "markdown",
      "source": [
        "### Explanation\n",
        "\n",
        "* The `@Override` annotation tells Java we are deliberately overriding a parent method. (It’s not required, but strongly recommended—it helps catch mistakes).\n",
        "* The method signature (`public void perform()`) matches the parent method exactly.\n",
        "* The behavior has changed: now it reports reps instead of the generic message.\n",
        "\n",
        "### Test It"
      ],
      "metadata": {
        "id": "g0FXg2D7OU-s"
      }
    },
    {
      "cell_type": "code",
      "source": [
        "%%writefile TestWorkout.java\n",
        "public class TestWorkout {\n",
        "    public static void main(String[] args) {\n",
        "        Exercise e1 = new Exercise(\"Generic\");\n",
        "        Exercise e2 = new Squat(12);\n",
        "\n",
        "        e1.perform();  // prints \"Performing Generic\"\n",
        "        e2.perform();  // prints \"Doing 12 squats!\"\n",
        "    }\n",
        "}"
      ],
      "metadata": {
        "colab": {
          "base_uri": "https://localhost:8080/"
        },
        "id": "DISq9X6hOVy_",
        "outputId": "dd6094a7-a878-41ba-fdb1-c3742dddbb27"
      },
      "execution_count": 14,
      "outputs": [
        {
          "output_type": "stream",
          "name": "stdout",
          "text": [
            "Overwriting TestWorkout.java\n"
          ]
        }
      ]
    },
    {
      "cell_type": "code",
      "source": [
        "!javac Exercise.java Squat.java TestWorkout.java\n",
        "!java TestWorkout"
      ],
      "metadata": {
        "colab": {
          "base_uri": "https://localhost:8080/"
        },
        "id": "xK8QPAAbOLrW",
        "outputId": "8db579e8-f386-4493-c284-7832c8cc9485"
      },
      "execution_count": 15,
      "outputs": [
        {
          "output_type": "stream",
          "name": "stdout",
          "text": [
            "Performing Generic\n",
            "Doing 12 squats!\n"
          ]
        }
      ]
    },
    {
      "cell_type": "markdown",
      "source": [
        "### Why It Matters\n",
        "\n",
        "Overriding makes our program flexible. All exercises share a common interface (`perform`), but each has its own unique output. This mirrors real life: He-Man and Hulk both “train,” but their workouts look very different."
      ],
      "metadata": {
        "id": "9bY4THasOgcR"
      }
    },
    {
      "cell_type": "code",
      "source": [
        "# @title\n",
        "mm(\"\"\"\n",
        "classDiagram\n",
        "    Exercise <|-- Squat\n",
        "    Exercise : +perform()\n",
        "    Squat : +perform()  // overridden\n",
        "\"\"\")"
      ],
      "metadata": {
        "colab": {
          "base_uri": "https://localhost:8080/",
          "height": 339
        },
        "cellView": "form",
        "id": "zSIRll0BOihd",
        "outputId": "c57deb35-dba9-4fa6-f3b6-519906be8b5e"
      },
      "execution_count": null,
      "outputs": [
        {
          "output_type": "display_data",
          "data": {
            "text/plain": [
              "<IPython.core.display.SVG object>"
            ],
            "image/svg+xml": "<svg xmlns=\"http://www.w3.org/2000/svg\" xmlns:xlink=\"http://www.w3.org/1999/xlink\" id=\"mermaid-svg\" width=\"100%\" class=\"classDiagram\" style=\"max-width: 239.6328125px;\" viewBox=\"0 0 239.6328125 318\" role=\"graphics-document document\" aria-roledescription=\"class\"><style xmlns=\"http://www.w3.org/1999/xhtml\">@import url(&quot;https://cdnjs.cloudflare.com/ajax/libs/font-awesome/6.7.2/css/all.min.css&quot;);</style><style>#mermaid-svg{font-family:&quot;trebuchet ms&quot;,verdana,arial,sans-serif;font-size:16px;fill:#333;}@keyframes edge-animation-frame{from{stroke-dashoffset:0;}}@keyframes dash{to{stroke-dashoffset:0;}}#mermaid-svg .edge-animation-slow{stroke-dasharray:9,5!important;stroke-dashoffset:900;animation:dash 50s linear infinite;stroke-linecap:round;}#mermaid-svg .edge-animation-fast{stroke-dasharray:9,5!important;stroke-dashoffset:900;animation:dash 20s linear infinite;stroke-linecap:round;}#mermaid-svg .error-icon{fill:#552222;}#mermaid-svg .error-text{fill:#552222;stroke:#552222;}#mermaid-svg .edge-thickness-normal{stroke-width:1px;}#mermaid-svg .edge-thickness-thick{stroke-width:3.5px;}#mermaid-svg .edge-pattern-solid{stroke-dasharray:0;}#mermaid-svg .edge-thickness-invisible{stroke-width:0;fill:none;}#mermaid-svg .edge-pattern-dashed{stroke-dasharray:3;}#mermaid-svg .edge-pattern-dotted{stroke-dasharray:2;}#mermaid-svg .marker{fill:#333333;stroke:#333333;}#mermaid-svg .marker.cross{stroke:#333333;}#mermaid-svg svg{font-family:&quot;trebuchet ms&quot;,verdana,arial,sans-serif;font-size:16px;}#mermaid-svg p{margin:0;}#mermaid-svg g.classGroup text{fill:#9370DB;stroke:none;font-family:&quot;trebuchet ms&quot;,verdana,arial,sans-serif;font-size:10px;}#mermaid-svg g.classGroup text .title{font-weight:bolder;}#mermaid-svg .nodeLabel,#mermaid-svg .edgeLabel{color:#131300;}#mermaid-svg .edgeLabel .label rect{fill:#ECECFF;}#mermaid-svg .label text{fill:#131300;}#mermaid-svg .labelBkg{background:#ECECFF;}#mermaid-svg .edgeLabel .label span{background:#ECECFF;}#mermaid-svg .classTitle{font-weight:bolder;}#mermaid-svg .node rect,#mermaid-svg .node circle,#mermaid-svg .node ellipse,#mermaid-svg .node polygon,#mermaid-svg .node path{fill:#ECECFF;stroke:#9370DB;stroke-width:1px;}#mermaid-svg .divider{stroke:#9370DB;stroke-width:1;}#mermaid-svg g.clickable{cursor:pointer;}#mermaid-svg g.classGroup rect{fill:#ECECFF;stroke:#9370DB;}#mermaid-svg g.classGroup line{stroke:#9370DB;stroke-width:1;}#mermaid-svg .classLabel .box{stroke:none;stroke-width:0;fill:#ECECFF;opacity:0.5;}#mermaid-svg .classLabel .label{fill:#9370DB;font-size:10px;}#mermaid-svg .relation{stroke:#333333;stroke-width:1;fill:none;}#mermaid-svg .dashed-line{stroke-dasharray:3;}#mermaid-svg .dotted-line{stroke-dasharray:1 2;}#mermaid-svg #compositionStart,#mermaid-svg .composition{fill:#333333!important;stroke:#333333!important;stroke-width:1;}#mermaid-svg #compositionEnd,#mermaid-svg .composition{fill:#333333!important;stroke:#333333!important;stroke-width:1;}#mermaid-svg #dependencyStart,#mermaid-svg .dependency{fill:#333333!important;stroke:#333333!important;stroke-width:1;}#mermaid-svg #dependencyStart,#mermaid-svg .dependency{fill:#333333!important;stroke:#333333!important;stroke-width:1;}#mermaid-svg #extensionStart,#mermaid-svg .extension{fill:transparent!important;stroke:#333333!important;stroke-width:1;}#mermaid-svg #extensionEnd,#mermaid-svg .extension{fill:transparent!important;stroke:#333333!important;stroke-width:1;}#mermaid-svg #aggregationStart,#mermaid-svg .aggregation{fill:transparent!important;stroke:#333333!important;stroke-width:1;}#mermaid-svg #aggregationEnd,#mermaid-svg .aggregation{fill:transparent!important;stroke:#333333!important;stroke-width:1;}#mermaid-svg #lollipopStart,#mermaid-svg .lollipop{fill:#ECECFF!important;stroke:#333333!important;stroke-width:1;}#mermaid-svg #lollipopEnd,#mermaid-svg .lollipop{fill:#ECECFF!important;stroke:#333333!important;stroke-width:1;}#mermaid-svg .edgeTerminals{font-size:11px;line-height:initial;}#mermaid-svg .classTitleText{text-anchor:middle;font-size:18px;fill:#333;}#mermaid-svg .label-icon{display:inline-block;height:1em;overflow:visible;vertical-align:-0.125em;}#mermaid-svg .node .label-icon path{fill:currentColor;stroke:revert;stroke-width:revert;}#mermaid-svg :root{--mermaid-font-family:&quot;trebuchet ms&quot;,verdana,arial,sans-serif;}</style><g><defs><marker id=\"mermaid-svg_class-aggregationStart\" class=\"marker aggregation class\" refX=\"18\" refY=\"7\" markerWidth=\"190\" markerHeight=\"240\" orient=\"auto\"><path d=\"M 18,7 L9,13 L1,7 L9,1 Z\"/></marker></defs><defs><marker id=\"mermaid-svg_class-aggregationEnd\" class=\"marker aggregation class\" refX=\"1\" refY=\"7\" markerWidth=\"20\" markerHeight=\"28\" orient=\"auto\"><path d=\"M 18,7 L9,13 L1,7 L9,1 Z\"/></marker></defs><defs><marker id=\"mermaid-svg_class-extensionStart\" class=\"marker extension class\" refX=\"18\" refY=\"7\" markerWidth=\"190\" markerHeight=\"240\" orient=\"auto\"><path d=\"M 1,7 L18,13 V 1 Z\"/></marker></defs><defs><marker id=\"mermaid-svg_class-extensionEnd\" class=\"marker extension class\" refX=\"1\" refY=\"7\" markerWidth=\"20\" markerHeight=\"28\" orient=\"auto\"><path d=\"M 1,1 V 13 L18,7 Z\"/></marker></defs><defs><marker id=\"mermaid-svg_class-compositionStart\" class=\"marker composition class\" refX=\"18\" refY=\"7\" markerWidth=\"190\" markerHeight=\"240\" orient=\"auto\"><path d=\"M 18,7 L9,13 L1,7 L9,1 Z\"/></marker></defs><defs><marker id=\"mermaid-svg_class-compositionEnd\" class=\"marker composition class\" refX=\"1\" refY=\"7\" markerWidth=\"20\" markerHeight=\"28\" orient=\"auto\"><path d=\"M 18,7 L9,13 L1,7 L9,1 Z\"/></marker></defs><defs><marker id=\"mermaid-svg_class-dependencyStart\" class=\"marker dependency class\" refX=\"6\" refY=\"7\" markerWidth=\"190\" markerHeight=\"240\" orient=\"auto\"><path d=\"M 5,7 L9,13 L1,7 L9,1 Z\"/></marker></defs><defs><marker id=\"mermaid-svg_class-dependencyEnd\" class=\"marker dependency class\" refX=\"13\" refY=\"7\" markerWidth=\"20\" markerHeight=\"28\" orient=\"auto\"><path d=\"M 18,7 L9,13 L14,7 L9,1 Z\"/></marker></defs><defs><marker id=\"mermaid-svg_class-lollipopStart\" class=\"marker lollipop class\" refX=\"13\" refY=\"7\" markerWidth=\"190\" markerHeight=\"240\" orient=\"auto\"><circle stroke=\"black\" fill=\"transparent\" cx=\"7\" cy=\"7\" r=\"6\"/></marker></defs><defs><marker id=\"mermaid-svg_class-lollipopEnd\" class=\"marker lollipop class\" refX=\"1\" refY=\"7\" markerWidth=\"190\" markerHeight=\"240\" orient=\"auto\"><circle stroke=\"black\" fill=\"transparent\" cx=\"7\" cy=\"7\" r=\"6\"/></marker></defs><g class=\"root\"><g class=\"clusters\"/><g class=\"edgePaths\"><path d=\"M119.816,152L119.816,153.167C119.816,154.333,119.816,156.667,119.816,162C119.816,167.333,119.816,175.667,119.816,179.833L119.816,184\" id=\"id_Exercise_Squat_1\" class=\" edge-thickness-normal edge-pattern-solid relation\" style=\"\" marker-start=\"url(#mermaid-svg_class-extensionStart)\"/></g><g class=\"edgeLabels\"><g class=\"edgeLabel\"><g class=\"label\" transform=\"translate(0, -12)\"><foreignObject width=\"0\" height=\"24\"><div xmlns=\"http://www.w3.org/1999/xhtml\" style=\"display: table-cell; white-space: nowrap; line-height: 1.5; max-width: 200px; text-align: center;\" class=\"labelBkg\"><span style=\";display: inline-block\" class=\"edgeLabel \"/></div></foreignObject></g></g></g><g class=\"nodes\"><g class=\"node default \" id=\"classId-Exercise-0\" transform=\"translate(119.81640625, 71)\"><g class=\"basic label-container\"><path d=\"M-66.0234375 -63 L66.0234375 -63 L66.0234375 63 L-66.0234375 63\" stroke=\"none\" stroke-width=\"0\" fill=\"#ECECFF\" style=\"\"/><path d=\"M-66.0234375 -63 C-31.45736231924095 -63, 3.1087128615181 -63, 66.0234375 -63 M-66.0234375 -63 C-35.25660731215911 -63, -4.489777124318223 -63, 66.0234375 -63 M66.0234375 -63 C66.0234375 -27.487837860106623, 66.0234375 8.024324279786754, 66.0234375 63 M66.0234375 -63 C66.0234375 -17.649092510799328, 66.0234375 27.701814978401345, 66.0234375 63 M66.0234375 63 C37.66402162311563 63, 9.304605746231253 63, -66.0234375 63 M66.0234375 63 C33.844300703485786 63, 1.6651639069715714 63, -66.0234375 63 M-66.0234375 63 C-66.0234375 13.751403579806528, -66.0234375 -35.497192840386944, -66.0234375 -63 M-66.0234375 63 C-66.0234375 25.001489806390538, -66.0234375 -12.997020387218924, -66.0234375 -63\" stroke=\"#9370DB\" stroke-width=\"1.3\" fill=\"none\" stroke-dasharray=\"0 0\" style=\"\"/></g><g class=\"annotation-group text\" transform=\"translate(0, -39)\"/><g class=\"label-group text\" transform=\"translate(-32.921875, -39)\"><g class=\"label\" style=\"font-weight: bolder\" transform=\"translate(0,-12)\"><foreignObject width=\"65.84375\" height=\"24\"><div xmlns=\"http://www.w3.org/1999/xhtml\" style=\"display: table-cell; white-space: nowrap; line-height: 1.5; max-width: 105px; text-align: center;\"><span class=\"nodeLabel markdown-node-label\" style=\"\"><p>Exercise</p></span></div></foreignObject></g></g><g class=\"members-group text\" transform=\"translate(-54.0234375, 9)\"/><g class=\"methods-group text\" transform=\"translate(-54.0234375, 39)\"><g class=\"label\" style=\"\" transform=\"translate(0,-12)\"><foreignObject width=\"75.125\" height=\"24\"><div xmlns=\"http://www.w3.org/1999/xhtml\" style=\"display: table-cell; white-space: nowrap; line-height: 1.5; max-width: 126px; text-align: center;\"><span class=\"nodeLabel markdown-node-label\" style=\"\"><p>+perform()</p></span></div></foreignObject></g></g><g class=\"divider\" style=\"\"><path d=\"M-66.0234375 -15 C-17.976273628797337 -15, 30.070890242405326 -15, 66.0234375 -15 M-66.0234375 -15 C-14.353173181825362 -15, 37.317091136349276 -15, 66.0234375 -15\" stroke=\"#9370DB\" stroke-width=\"1.3\" fill=\"none\" stroke-dasharray=\"0 0\" style=\"\"/></g><g class=\"divider\" style=\"\"><path d=\"M-66.0234375 9 C-31.00777148189367 9, 4.00789453621266 9, 66.0234375 9 M-66.0234375 9 C-34.36889803177518 9, -2.7143585635503626 9, 66.0234375 9\" stroke=\"#9370DB\" stroke-width=\"1.3\" fill=\"none\" stroke-dasharray=\"0 0\" style=\"\"/></g></g><g class=\"node default \" id=\"classId-Squat-1\" transform=\"translate(119.81640625, 247)\"><g class=\"basic label-container\"><path d=\"M-111.81640625 -63 L111.81640625 -63 L111.81640625 63 L-111.81640625 63\" stroke=\"none\" stroke-width=\"0\" fill=\"#ECECFF\" style=\"\"/><path d=\"M-111.81640625 -63 C-55.26373767078881 -63, 1.2889309084223868 -63, 111.81640625 -63 M-111.81640625 -63 C-43.78012140551276 -63, 24.256163438974482 -63, 111.81640625 -63 M111.81640625 -63 C111.81640625 -17.248651861159296, 111.81640625 28.50269627768141, 111.81640625 63 M111.81640625 -63 C111.81640625 -28.636956014521267, 111.81640625 5.726087970957465, 111.81640625 63 M111.81640625 63 C32.735904628859075 63, -46.34459699228185 63, -111.81640625 63 M111.81640625 63 C65.31635665564967 63, 18.81630706129934 63, -111.81640625 63 M-111.81640625 63 C-111.81640625 16.87573495470525, -111.81640625 -29.248530090589497, -111.81640625 -63 M-111.81640625 63 C-111.81640625 13.708077081338928, -111.81640625 -35.583845837322144, -111.81640625 -63\" stroke=\"#9370DB\" stroke-width=\"1.3\" fill=\"none\" stroke-dasharray=\"0 0\" style=\"\"/></g><g class=\"annotation-group text\" transform=\"translate(0, -39)\"/><g class=\"label-group text\" transform=\"translate(-22.2265625, -39)\"><g class=\"label\" style=\"font-weight: bolder\" transform=\"translate(0,-12)\"><foreignObject width=\"44.453125\" height=\"24\"><div xmlns=\"http://www.w3.org/1999/xhtml\" style=\"display: table-cell; white-space: nowrap; line-height: 1.5; max-width: 87px; text-align: center;\"><span class=\"nodeLabel markdown-node-label\" style=\"\"><p>Squat</p></span></div></foreignObject></g></g><g class=\"members-group text\" transform=\"translate(-99.81640625, 9)\"/><g class=\"methods-group text\" transform=\"translate(-99.81640625, 39)\"><g class=\"label\" style=\"\" transform=\"translate(0,-12)\"><foreignObject width=\"177.40625\" height=\"24\"><div xmlns=\"http://www.w3.org/1999/xhtml\" style=\"display: table-cell; white-space: nowrap; line-height: 1.5; max-width: 220px; text-align: center;\"><span class=\"nodeLabel markdown-node-label\" style=\"\"><p>+perform() : // overridden</p></span></div></foreignObject></g></g><g class=\"divider\" style=\"\"><path d=\"M-111.81640625 -15 C-33.6532484248841 -15, 44.509909400231805 -15, 111.81640625 -15 M-111.81640625 -15 C-48.45931511062533 -15, 14.897776028749334 -15, 111.81640625 -15\" stroke=\"#9370DB\" stroke-width=\"1.3\" fill=\"none\" stroke-dasharray=\"0 0\" style=\"\"/></g><g class=\"divider\" style=\"\"><path d=\"M-111.81640625 9 C-36.3288351270198 9, 39.1587359959604 9, 111.81640625 9 M-111.81640625 9 C-30.064046483487118 9, 51.688313283025764 9, 111.81640625 9\" stroke=\"#9370DB\" stroke-width=\"1.3\" fill=\"none\" stroke-dasharray=\"0 0\" style=\"\"/></g></g></g></g></g></svg>"
          },
          "metadata": {}
        }
      ]
    },
    {
      "cell_type": "markdown",
      "source": [
        "The diagram shows how `Squat` inherits from `Exercise` but **redefines** `perform`.\n"
      ],
      "metadata": {
        "id": "564gB_lxOomx"
      }
    },
    {
      "cell_type": "markdown",
      "source": [
        "## Polymorphism: Many Forms, One Interface\n",
        "\n",
        "Now that we can **override** methods, we can explore a bigger idea: **polymorphism**. The word comes from Greek: *poly* = many, *morph* = form. In programming, **polymorphism** means one variable type can point to many different kinds of objects, and the correct method will run depending on the object’s actual type.\n",
        "\n",
        "In Java, polymorphism works when we use a **parent class reference** to point to different **child class objects**.\n",
        "\n",
        "Here’s an example using our `Exercise` framework:\n"
      ],
      "metadata": {
        "id": "MpC74YwLO-Y4"
      }
    },
    {
      "cell_type": "code",
      "source": [
        "%%writefile TestWorkout.java\n",
        "public class TestWorkout {\n",
        "    public static void main(String[] args) {\n",
        "        Exercise e1 = new PushUp();    // parent reference, child object\n",
        "        Exercise e2 = new Squat(15);   // parent reference, child object\n",
        "\n",
        "        e1.perform();  // calls PushUp's version\n",
        "        e2.perform();  // calls Squat's version\n",
        "    }\n",
        "}"
      ],
      "metadata": {
        "colab": {
          "base_uri": "https://localhost:8080/"
        },
        "id": "yFej_zDEO-4l",
        "outputId": "c1162f7e-99ee-47bb-8902-ad2e1204194d"
      },
      "execution_count": null,
      "outputs": [
        {
          "output_type": "stream",
          "name": "stdout",
          "text": [
            "Overwriting TestWorkout.java\n"
          ]
        }
      ]
    },
    {
      "cell_type": "code",
      "source": [
        "!javac TestWorkout.java\n",
        "!java TestWorkout"
      ],
      "metadata": {
        "colab": {
          "base_uri": "https://localhost:8080/"
        },
        "id": "kqr0yWrNPDvu",
        "outputId": "1e3a7e00-7253-45c7-9420-3144f5c118d2"
      },
      "execution_count": null,
      "outputs": [
        {
          "output_type": "stream",
          "name": "stdout",
          "text": [
            "Performing Push-Up\n",
            "Doing 15 squats!\n"
          ]
        }
      ]
    },
    {
      "cell_type": "markdown",
      "source": [
        "### What Happens Here\n",
        "\n",
        "* Both `e1` and `e2` are declared as type **Exercise**.\n",
        "* But at runtime, Java looks at the **actual object type** (PushUp or Squat) and runs the correct `perform()` method.\n",
        "* This is called **dynamic method dispatch**—a fancy way of saying “Java picks the right method at runtime.”\n",
        "\n",
        "### A Real-World Analogy\n",
        "\n",
        "Imagine our workout app has a “Start Exercise” button. The app doesn’t need to know whether the user chose push-ups, squats, or burpees. It just calls `perform()`—and the right thing happens for the hero.\n",
        "\n",
        "### Visual Model"
      ],
      "metadata": {
        "id": "ZRyrs59yPJYw"
      }
    },
    {
      "cell_type": "code",
      "source": [
        "mm(\"\"\"\n",
        "classDiagram\n",
        "    Exercise <|-- PushUp\n",
        "    Exercise <|-- Squat\n",
        "    Exercise : +perform()\n",
        "    PushUp : +perform()\n",
        "    Squat : +perform()\"\"\")"
      ],
      "metadata": {
        "colab": {
          "base_uri": "https://localhost:8080/",
          "height": 339
        },
        "id": "6Ax1G8ncPL0w",
        "outputId": "449dfa39-2263-416e-e1a1-8364b72396fe"
      },
      "execution_count": null,
      "outputs": [
        {
          "output_type": "display_data",
          "data": {
            "text/plain": [
              "<IPython.core.display.SVG object>"
            ],
            "image/svg+xml": "<svg xmlns=\"http://www.w3.org/2000/svg\" xmlns:xlink=\"http://www.w3.org/1999/xlink\" id=\"mermaid-svg\" width=\"100%\" class=\"classDiagram\" style=\"max-width: 316.703125px;\" viewBox=\"0 0 316.703125 318\" role=\"graphics-document document\" aria-roledescription=\"class\"><style xmlns=\"http://www.w3.org/1999/xhtml\">@import url(&quot;https://cdnjs.cloudflare.com/ajax/libs/font-awesome/6.7.2/css/all.min.css&quot;);</style><style>#mermaid-svg{font-family:&quot;trebuchet ms&quot;,verdana,arial,sans-serif;font-size:16px;fill:#333;}@keyframes edge-animation-frame{from{stroke-dashoffset:0;}}@keyframes dash{to{stroke-dashoffset:0;}}#mermaid-svg .edge-animation-slow{stroke-dasharray:9,5!important;stroke-dashoffset:900;animation:dash 50s linear infinite;stroke-linecap:round;}#mermaid-svg .edge-animation-fast{stroke-dasharray:9,5!important;stroke-dashoffset:900;animation:dash 20s linear infinite;stroke-linecap:round;}#mermaid-svg .error-icon{fill:#552222;}#mermaid-svg .error-text{fill:#552222;stroke:#552222;}#mermaid-svg .edge-thickness-normal{stroke-width:1px;}#mermaid-svg .edge-thickness-thick{stroke-width:3.5px;}#mermaid-svg .edge-pattern-solid{stroke-dasharray:0;}#mermaid-svg .edge-thickness-invisible{stroke-width:0;fill:none;}#mermaid-svg .edge-pattern-dashed{stroke-dasharray:3;}#mermaid-svg .edge-pattern-dotted{stroke-dasharray:2;}#mermaid-svg .marker{fill:#333333;stroke:#333333;}#mermaid-svg .marker.cross{stroke:#333333;}#mermaid-svg svg{font-family:&quot;trebuchet ms&quot;,verdana,arial,sans-serif;font-size:16px;}#mermaid-svg p{margin:0;}#mermaid-svg g.classGroup text{fill:#9370DB;stroke:none;font-family:&quot;trebuchet ms&quot;,verdana,arial,sans-serif;font-size:10px;}#mermaid-svg g.classGroup text .title{font-weight:bolder;}#mermaid-svg .nodeLabel,#mermaid-svg .edgeLabel{color:#131300;}#mermaid-svg .edgeLabel .label rect{fill:#ECECFF;}#mermaid-svg .label text{fill:#131300;}#mermaid-svg .labelBkg{background:#ECECFF;}#mermaid-svg .edgeLabel .label span{background:#ECECFF;}#mermaid-svg .classTitle{font-weight:bolder;}#mermaid-svg .node rect,#mermaid-svg .node circle,#mermaid-svg .node ellipse,#mermaid-svg .node polygon,#mermaid-svg .node path{fill:#ECECFF;stroke:#9370DB;stroke-width:1px;}#mermaid-svg .divider{stroke:#9370DB;stroke-width:1;}#mermaid-svg g.clickable{cursor:pointer;}#mermaid-svg g.classGroup rect{fill:#ECECFF;stroke:#9370DB;}#mermaid-svg g.classGroup line{stroke:#9370DB;stroke-width:1;}#mermaid-svg .classLabel .box{stroke:none;stroke-width:0;fill:#ECECFF;opacity:0.5;}#mermaid-svg .classLabel .label{fill:#9370DB;font-size:10px;}#mermaid-svg .relation{stroke:#333333;stroke-width:1;fill:none;}#mermaid-svg .dashed-line{stroke-dasharray:3;}#mermaid-svg .dotted-line{stroke-dasharray:1 2;}#mermaid-svg #compositionStart,#mermaid-svg .composition{fill:#333333!important;stroke:#333333!important;stroke-width:1;}#mermaid-svg #compositionEnd,#mermaid-svg .composition{fill:#333333!important;stroke:#333333!important;stroke-width:1;}#mermaid-svg #dependencyStart,#mermaid-svg .dependency{fill:#333333!important;stroke:#333333!important;stroke-width:1;}#mermaid-svg #dependencyStart,#mermaid-svg .dependency{fill:#333333!important;stroke:#333333!important;stroke-width:1;}#mermaid-svg #extensionStart,#mermaid-svg .extension{fill:transparent!important;stroke:#333333!important;stroke-width:1;}#mermaid-svg #extensionEnd,#mermaid-svg .extension{fill:transparent!important;stroke:#333333!important;stroke-width:1;}#mermaid-svg #aggregationStart,#mermaid-svg .aggregation{fill:transparent!important;stroke:#333333!important;stroke-width:1;}#mermaid-svg #aggregationEnd,#mermaid-svg .aggregation{fill:transparent!important;stroke:#333333!important;stroke-width:1;}#mermaid-svg #lollipopStart,#mermaid-svg .lollipop{fill:#ECECFF!important;stroke:#333333!important;stroke-width:1;}#mermaid-svg #lollipopEnd,#mermaid-svg .lollipop{fill:#ECECFF!important;stroke:#333333!important;stroke-width:1;}#mermaid-svg .edgeTerminals{font-size:11px;line-height:initial;}#mermaid-svg .classTitleText{text-anchor:middle;font-size:18px;fill:#333;}#mermaid-svg .label-icon{display:inline-block;height:1em;overflow:visible;vertical-align:-0.125em;}#mermaid-svg .node .label-icon path{fill:currentColor;stroke:revert;stroke-width:revert;}#mermaid-svg :root{--mermaid-font-family:&quot;trebuchet ms&quot;,verdana,arial,sans-serif;}</style><g><defs><marker id=\"mermaid-svg_class-aggregationStart\" class=\"marker aggregation class\" refX=\"18\" refY=\"7\" markerWidth=\"190\" markerHeight=\"240\" orient=\"auto\"><path d=\"M 18,7 L9,13 L1,7 L9,1 Z\"/></marker></defs><defs><marker id=\"mermaid-svg_class-aggregationEnd\" class=\"marker aggregation class\" refX=\"1\" refY=\"7\" markerWidth=\"20\" markerHeight=\"28\" orient=\"auto\"><path d=\"M 18,7 L9,13 L1,7 L9,1 Z\"/></marker></defs><defs><marker id=\"mermaid-svg_class-extensionStart\" class=\"marker extension class\" refX=\"18\" refY=\"7\" markerWidth=\"190\" markerHeight=\"240\" orient=\"auto\"><path d=\"M 1,7 L18,13 V 1 Z\"/></marker></defs><defs><marker id=\"mermaid-svg_class-extensionEnd\" class=\"marker extension class\" refX=\"1\" refY=\"7\" markerWidth=\"20\" markerHeight=\"28\" orient=\"auto\"><path d=\"M 1,1 V 13 L18,7 Z\"/></marker></defs><defs><marker id=\"mermaid-svg_class-compositionStart\" class=\"marker composition class\" refX=\"18\" refY=\"7\" markerWidth=\"190\" markerHeight=\"240\" orient=\"auto\"><path d=\"M 18,7 L9,13 L1,7 L9,1 Z\"/></marker></defs><defs><marker id=\"mermaid-svg_class-compositionEnd\" class=\"marker composition class\" refX=\"1\" refY=\"7\" markerWidth=\"20\" markerHeight=\"28\" orient=\"auto\"><path d=\"M 18,7 L9,13 L1,7 L9,1 Z\"/></marker></defs><defs><marker id=\"mermaid-svg_class-dependencyStart\" class=\"marker dependency class\" refX=\"6\" refY=\"7\" markerWidth=\"190\" markerHeight=\"240\" orient=\"auto\"><path d=\"M 5,7 L9,13 L1,7 L9,1 Z\"/></marker></defs><defs><marker id=\"mermaid-svg_class-dependencyEnd\" class=\"marker dependency class\" refX=\"13\" refY=\"7\" markerWidth=\"20\" markerHeight=\"28\" orient=\"auto\"><path d=\"M 18,7 L9,13 L14,7 L9,1 Z\"/></marker></defs><defs><marker id=\"mermaid-svg_class-lollipopStart\" class=\"marker lollipop class\" refX=\"13\" refY=\"7\" markerWidth=\"190\" markerHeight=\"240\" orient=\"auto\"><circle stroke=\"black\" fill=\"transparent\" cx=\"7\" cy=\"7\" r=\"6\"/></marker></defs><defs><marker id=\"mermaid-svg_class-lollipopEnd\" class=\"marker lollipop class\" refX=\"1\" refY=\"7\" markerWidth=\"190\" markerHeight=\"240\" orient=\"auto\"><circle stroke=\"black\" fill=\"transparent\" cx=\"7\" cy=\"7\" r=\"6\"/></marker></defs><g class=\"root\"><g class=\"clusters\"/><g class=\"edgePaths\"><path d=\"M84.879,146.751L82.845,148.793C80.811,150.834,76.744,154.917,74.71,161.125C72.676,167.333,72.676,175.667,72.676,179.833L72.676,184\" id=\"id_Exercise_PushUp_1\" class=\" edge-thickness-normal edge-pattern-solid relation\" style=\"\" marker-start=\"url(#mermaid-svg_class-extensionStart)\"/><path d=\"M235.824,146.751L237.858,148.793C239.892,150.834,243.96,154.917,245.993,161.125C248.027,167.333,248.027,175.667,248.027,179.833L248.027,184\" id=\"id_Exercise_Squat_2\" class=\" edge-thickness-normal edge-pattern-solid relation\" style=\"\" marker-start=\"url(#mermaid-svg_class-extensionStart)\"/></g><g class=\"edgeLabels\"><g class=\"edgeLabel\"><g class=\"label\" transform=\"translate(0, -12)\"><foreignObject width=\"0\" height=\"24\"><div xmlns=\"http://www.w3.org/1999/xhtml\" style=\"display: table-cell; white-space: nowrap; line-height: 1.5; max-width: 200px; text-align: center;\" class=\"labelBkg\"><span style=\";display: inline-block\" class=\"edgeLabel \"/></div></foreignObject></g></g><g class=\"edgeLabel\"><g class=\"label\" transform=\"translate(0, -12)\"><foreignObject width=\"0\" height=\"24\"><div xmlns=\"http://www.w3.org/1999/xhtml\" style=\"display: table-cell; white-space: nowrap; line-height: 1.5; max-width: 200px; text-align: center;\" class=\"labelBkg\"><span style=\";display: inline-block\" class=\"edgeLabel \"/></div></foreignObject></g></g></g><g class=\"nodes\"><g class=\"node default \" id=\"classId-Exercise-0\" transform=\"translate(160.3515625, 71)\"><g class=\"basic label-container\"><path d=\"M-66.0234375 -63 L66.0234375 -63 L66.0234375 63 L-66.0234375 63\" stroke=\"none\" stroke-width=\"0\" fill=\"#ECECFF\" style=\"\"/><path d=\"M-66.0234375 -63 C-17.16045575615776 -63, 31.70252598768448 -63, 66.0234375 -63 M-66.0234375 -63 C-25.72024447655987 -63, 14.58294854688026 -63, 66.0234375 -63 M66.0234375 -63 C66.0234375 -32.03345151602302, 66.0234375 -1.066903032046035, 66.0234375 63 M66.0234375 -63 C66.0234375 -18.514264491118013, 66.0234375 25.971471017763974, 66.0234375 63 M66.0234375 63 C24.005880115320835 63, -18.01167726935833 63, -66.0234375 63 M66.0234375 63 C26.537221699541924 63, -12.948994100916153 63, -66.0234375 63 M-66.0234375 63 C-66.0234375 13.14172184537783, -66.0234375 -36.71655630924434, -66.0234375 -63 M-66.0234375 63 C-66.0234375 24.80511201286837, -66.0234375 -13.389775974263259, -66.0234375 -63\" stroke=\"#9370DB\" stroke-width=\"1.3\" fill=\"none\" stroke-dasharray=\"0 0\" style=\"\"/></g><g class=\"annotation-group text\" transform=\"translate(0, -39)\"/><g class=\"label-group text\" transform=\"translate(-32.921875, -39)\"><g class=\"label\" style=\"font-weight: bolder\" transform=\"translate(0,-12)\"><foreignObject width=\"65.84375\" height=\"24\"><div xmlns=\"http://www.w3.org/1999/xhtml\" style=\"display: table-cell; white-space: nowrap; line-height: 1.5; max-width: 105px; text-align: center;\"><span class=\"nodeLabel markdown-node-label\" style=\"\"><p>Exercise</p></span></div></foreignObject></g></g><g class=\"members-group text\" transform=\"translate(-54.0234375, 9)\"/><g class=\"methods-group text\" transform=\"translate(-54.0234375, 39)\"><g class=\"label\" style=\"\" transform=\"translate(0,-12)\"><foreignObject width=\"75.125\" height=\"24\"><div xmlns=\"http://www.w3.org/1999/xhtml\" style=\"display: table-cell; white-space: nowrap; line-height: 1.5; max-width: 126px; text-align: center;\"><span class=\"nodeLabel markdown-node-label\" style=\"\"><p>+perform()</p></span></div></foreignObject></g></g><g class=\"divider\" style=\"\"><path d=\"M-66.0234375 -15 C-39.47985753418422 -15, -12.936277568368432 -15, 66.0234375 -15 M-66.0234375 -15 C-23.20479923092727 -15, 19.613839038145457 -15, 66.0234375 -15\" stroke=\"#9370DB\" stroke-width=\"1.3\" fill=\"none\" stroke-dasharray=\"0 0\" style=\"\"/></g><g class=\"divider\" style=\"\"><path d=\"M-66.0234375 9 C-16.9322643300831 9, 32.1589088398338 9, 66.0234375 9 M-66.0234375 9 C-24.105431294333336 9, 17.81257491133333 9, 66.0234375 9\" stroke=\"#9370DB\" stroke-width=\"1.3\" fill=\"none\" stroke-dasharray=\"0 0\" style=\"\"/></g></g><g class=\"node default \" id=\"classId-PushUp-1\" transform=\"translate(72.67578125, 247)\"><g class=\"basic label-container\"><path d=\"M-64.67578125 -63 L64.67578125 -63 L64.67578125 63 L-64.67578125 63\" stroke=\"none\" stroke-width=\"0\" fill=\"#ECECFF\" style=\"\"/><path d=\"M-64.67578125 -63 C-24.736723974892854 -63, 15.202333300214292 -63, 64.67578125 -63 M-64.67578125 -63 C-23.48386988111777 -63, 17.70804148776446 -63, 64.67578125 -63 M64.67578125 -63 C64.67578125 -35.87200882523523, 64.67578125 -8.744017650470454, 64.67578125 63 M64.67578125 -63 C64.67578125 -22.60744540190025, 64.67578125 17.7851091961995, 64.67578125 63 M64.67578125 63 C26.39435659172745 63, -11.887068066545098 63, -64.67578125 63 M64.67578125 63 C32.388523204146765 63, 0.10126515829352911 63, -64.67578125 63 M-64.67578125 63 C-64.67578125 21.922331599834934, -64.67578125 -19.155336800330133, -64.67578125 -63 M-64.67578125 63 C-64.67578125 18.33738063454082, -64.67578125 -26.325238730918358, -64.67578125 -63\" stroke=\"#9370DB\" stroke-width=\"1.3\" fill=\"none\" stroke-dasharray=\"0 0\" style=\"\"/></g><g class=\"annotation-group text\" transform=\"translate(0, -39)\"/><g class=\"label-group text\" transform=\"translate(-30.2265625, -39)\"><g class=\"label\" style=\"font-weight: bolder\" transform=\"translate(0,-12)\"><foreignObject width=\"60.453125\" height=\"24\"><div xmlns=\"http://www.w3.org/1999/xhtml\" style=\"display: table-cell; white-space: nowrap; line-height: 1.5; max-width: 101px; text-align: center;\"><span class=\"nodeLabel markdown-node-label\" style=\"\"><p>PushUp</p></span></div></foreignObject></g></g><g class=\"members-group text\" transform=\"translate(-52.67578125, 9)\"/><g class=\"methods-group text\" transform=\"translate(-52.67578125, 39)\"><g class=\"label\" style=\"\" transform=\"translate(0,-12)\"><foreignObject width=\"75.125\" height=\"24\"><div xmlns=\"http://www.w3.org/1999/xhtml\" style=\"display: table-cell; white-space: nowrap; line-height: 1.5; max-width: 126px; text-align: center;\"><span class=\"nodeLabel markdown-node-label\" style=\"\"><p>+perform()</p></span></div></foreignObject></g></g><g class=\"divider\" style=\"\"><path d=\"M-64.67578125 -15 C-33.157482107201005 -15, -1.6391829644020035 -15, 64.67578125 -15 M-64.67578125 -15 C-24.30564095616362 -15, 16.064499337672757 -15, 64.67578125 -15\" stroke=\"#9370DB\" stroke-width=\"1.3\" fill=\"none\" stroke-dasharray=\"0 0\" style=\"\"/></g><g class=\"divider\" style=\"\"><path d=\"M-64.67578125 9 C-35.6539560184104 9, -6.632130786820788 9, 64.67578125 9 M-64.67578125 9 C-31.227779217606063 9, 2.220222814787874 9, 64.67578125 9\" stroke=\"#9370DB\" stroke-width=\"1.3\" fill=\"none\" stroke-dasharray=\"0 0\" style=\"\"/></g></g><g class=\"node default \" id=\"classId-Squat-2\" transform=\"translate(248.02734375, 247)\"><g class=\"basic label-container\"><path d=\"M-60.67578125 -63 L60.67578125 -63 L60.67578125 63 L-60.67578125 63\" stroke=\"none\" stroke-width=\"0\" fill=\"#ECECFF\" style=\"\"/><path d=\"M-60.67578125 -63 C-14.413825098384258 -63, 31.848131053231484 -63, 60.67578125 -63 M-60.67578125 -63 C-16.438104916058272 -63, 27.799571417883456 -63, 60.67578125 -63 M60.67578125 -63 C60.67578125 -26.679329488782813, 60.67578125 9.641341022434375, 60.67578125 63 M60.67578125 -63 C60.67578125 -25.291510222831597, 60.67578125 12.416979554336805, 60.67578125 63 M60.67578125 63 C29.99308157028735 63, -0.6896181094252967 63, -60.67578125 63 M60.67578125 63 C26.760873873773512 63, -7.154033502452975 63, -60.67578125 63 M-60.67578125 63 C-60.67578125 33.72613280609394, -60.67578125 4.452265612187894, -60.67578125 -63 M-60.67578125 63 C-60.67578125 32.69397232017931, -60.67578125 2.3879446403586186, -60.67578125 -63\" stroke=\"#9370DB\" stroke-width=\"1.3\" fill=\"none\" stroke-dasharray=\"0 0\" style=\"\"/></g><g class=\"annotation-group text\" transform=\"translate(0, -39)\"/><g class=\"label-group text\" transform=\"translate(-22.2265625, -39)\"><g class=\"label\" style=\"font-weight: bolder\" transform=\"translate(0,-12)\"><foreignObject width=\"44.453125\" height=\"24\"><div xmlns=\"http://www.w3.org/1999/xhtml\" style=\"display: table-cell; white-space: nowrap; line-height: 1.5; max-width: 87px; text-align: center;\"><span class=\"nodeLabel markdown-node-label\" style=\"\"><p>Squat</p></span></div></foreignObject></g></g><g class=\"members-group text\" transform=\"translate(-48.67578125, 9)\"/><g class=\"methods-group text\" transform=\"translate(-48.67578125, 39)\"><g class=\"label\" style=\"\" transform=\"translate(0,-12)\"><foreignObject width=\"75.125\" height=\"24\"><div xmlns=\"http://www.w3.org/1999/xhtml\" style=\"display: table-cell; white-space: nowrap; line-height: 1.5; max-width: 126px; text-align: center;\"><span class=\"nodeLabel markdown-node-label\" style=\"\"><p>+perform()</p></span></div></foreignObject></g></g><g class=\"divider\" style=\"\"><path d=\"M-60.67578125 -15 C-24.20590613642073 -15, 12.263968977158541 -15, 60.67578125 -15 M-60.67578125 -15 C-35.95872284099734 -15, -11.241664431994685 -15, 60.67578125 -15\" stroke=\"#9370DB\" stroke-width=\"1.3\" fill=\"none\" stroke-dasharray=\"0 0\" style=\"\"/></g><g class=\"divider\" style=\"\"><path d=\"M-60.67578125 9 C-24.585219234674256 9, 11.505342780651489 9, 60.67578125 9 M-60.67578125 9 C-22.529783740202824 9, 15.616213769594353 9, 60.67578125 9\" stroke=\"#9370DB\" stroke-width=\"1.3\" fill=\"none\" stroke-dasharray=\"0 0\" style=\"\"/></g></g></g></g></g></svg>"
          },
          "metadata": {}
        }
      ]
    },
    {
      "cell_type": "markdown",
      "source": [
        "When we store different exercises in an `Exercise` variable, we get polymorphic behavior: **one interface, many forms.**\n",
        "\n",
        "### Example with a List"
      ],
      "metadata": {
        "id": "AkVFAUY0QXqu"
      }
    },
    {
      "cell_type": "code",
      "source": [
        "%%writefile WorkoutPlan.java\n",
        "import java.util.ArrayList;\n",
        "\n",
        "public class WorkoutPlan {\n",
        "    public static void main(String[] args) {\n",
        "        ArrayList<Exercise> plan = new ArrayList<>();\n",
        "        plan.add(new PushUp());\n",
        "        plan.add(new Squat(10));\n",
        "\n",
        "        for (Exercise e : plan) {\n",
        "            e.perform();\n",
        "        }\n",
        "    }\n",
        "}"
      ],
      "metadata": {
        "colab": {
          "base_uri": "https://localhost:8080/"
        },
        "id": "p8rXdVGDQj50",
        "outputId": "3a5942e8-9b06-4830-f0c3-54be19bcbba8"
      },
      "execution_count": null,
      "outputs": [
        {
          "output_type": "stream",
          "name": "stdout",
          "text": [
            "Writing WorkoutPlan.java\n"
          ]
        }
      ]
    },
    {
      "cell_type": "code",
      "source": [
        "!javac WorkoutPlan.java\n",
        "!java WorkoutPlan"
      ],
      "metadata": {
        "colab": {
          "base_uri": "https://localhost:8080/"
        },
        "id": "gbyAoo6rQqkI",
        "outputId": "cfa333e7-7549-44a2-96bd-e911f7f2eba3"
      },
      "execution_count": null,
      "outputs": [
        {
          "output_type": "stream",
          "name": "stdout",
          "text": [
            "Performing Push-Up\n",
            "Doing 10 squats!\n"
          ]
        }
      ]
    },
    {
      "cell_type": "markdown",
      "source": [
        "The same loop can handle any future exercises—whether She-Ra’s magic lunges or Hulk’s burpees—without changing the code. That’s the true power of polymorphism."
      ],
      "metadata": {
        "id": "HtgNvDxFQ0Cu"
      }
    },
    {
      "cell_type": "markdown",
      "source": [
        "## Exercise: Build Gym Clients with Inheritance\n",
        "\n",
        "You will model **clients of a gym** as Java objects. Start from a small base class named `Client`, then create two subclasses that customize behavior for different kinds of customers (our test names will be He-Man, She-Ra, and the Hulk). This exercise is **independent** of earlier code.\n",
        "\n",
        "A **class** is a blueprint for objects. A **constructor** initializes a new object. The keyword **extends** declares that one class is a subclass of another. To **override** is to replace a parent method in a child class using the *same* method signature. The **main method** (`public static void main(String[] args)`) is a program’s entry point. To **instantiate** is to create an object with `new`.\n",
        "\n",
        "### Base class you may use as-is\n",
        "\n",
        "`Client` represents any gym client with a name and an experience level from 1–10. It provides a default plan and a simple check-in line."
      ],
      "metadata": {
        "id": "tEkmXvQzW6X6"
      }
    },
    {
      "cell_type": "code",
      "source": [
        "%%writefile Client.java\n",
        "public class Client {\n",
        "    private String name;\n",
        "    private int experience; // 1 (new) ... 10 (expert)\n",
        "\n",
        "    public Client(String name, int experience) {\n",
        "        this.name = name;\n",
        "        this.experience = experience;\n",
        "    }\n",
        "\n",
        "    public String getName() { return name; }\n",
        "    public int getExperience() { return experience; }\n",
        "\n",
        "    public String planForToday() {\n",
        "        return \"Walk 10 minutes and stretch.\";\n",
        "    }\n",
        "\n",
        "    public void checkIn() {\n",
        "        System.out.println(\"Welcome, \" + name + \"!\");\n",
        "    }\n",
        "}"
      ],
      "metadata": {
        "colab": {
          "base_uri": "https://localhost:8080/"
        },
        "id": "ufww82blW7jR",
        "outputId": "197fe73b-0249-4208-fedc-07a492f9c781"
      },
      "execution_count": null,
      "outputs": [
        {
          "output_type": "stream",
          "name": "stdout",
          "text": [
            "Writing Client.java\n"
          ]
        }
      ]
    },
    {
      "cell_type": "markdown",
      "source": [
        "This design invites inheritance: subclasses will **override** `planForToday()` to give better guidance.\n",
        "\n",
        "### What your two subclasses must do (you write them)\n",
        "\n",
        "| Subclass name    | New fields you add    | Required constructor behavior                                                                                                         | Required method overrides / behavior                                                                                                                                                                                                             |\n",
        "| ---------------- | --------------------- | ------------------------------------------------------------------------------------------------------------------------------------- | ------------------------------------------------------------------------------------------------------------------------------------------------------------------------------------------------------------------------------------------------ |\n",
        "| `StrengthClient` | `String favoriteLift` | Takes `name`, `experience`, and `favoriteLift`; calls the parent constructor via `super(name, experience)` and stores `favoriteLift`. | **Override** `planForToday()` to return a short string that mentions the favorite lift and varies with experience (e.g., beginners get fewer sets). Optionally **override** `checkIn()` to add “Time to lift!” after calling `super.checkIn()`.  |\n",
        "| `CardioClient`   | `int targetMinutes`   | Takes `name`, `experience`, and `targetMinutes`; calls `super(name, experience)` and stores `targetMinutes`.                          | **Override** `planForToday()` to return a short string that mentions the target minutes and varies with experience (e.g., faster pace for higher experience). Optionally **override** `checkIn()` to add “Bring water!” after `super.checkIn()`. |\n",
        "\n",
        "The annotation `@Override` helps the compiler confirm you matched the parent method’s signature.\n",
        "\n",
        "Short stubs to guide you:\n"
      ],
      "metadata": {
        "id": "57aZOU_jXAHE"
      }
    },
    {
      "cell_type": "code",
      "source": [
        "%%writefile StrengthClient.java\n",
        "public class StrengthClient extends Client {\n",
        "    // TODO: private String favoriteLift;\n",
        "\n",
        "    // TODO: public StrengthClient(String name, int experience, String favoriteLift) {\n",
        "    //   super(name, experience); // initialize parent part\n",
        "    //   // store favoriteLift\n",
        "    // }\n",
        "\n",
        "    @Override\n",
        "    public String planForToday() {\n",
        "        // TODO: return a plan string that mentions favoriteLift\n",
        "        // and scales sets/reps by getExperience()\n",
        "        return \"TODO\";\n",
        "    }\n",
        "\n",
        "    // Optional:\n",
        "    // @Override\n",
        "    // public void checkIn() {\n",
        "    //   super.checkIn();\n",
        "    //   System.out.println(\"Time to lift!\");\n",
        "    // }\n",
        "}\n"
      ],
      "metadata": {
        "colab": {
          "base_uri": "https://localhost:8080/"
        },
        "id": "2ezwthWqXHv_",
        "outputId": "9d4ce34e-f483-4168-cdc0-78c779c26f79"
      },
      "execution_count": null,
      "outputs": [
        {
          "output_type": "stream",
          "name": "stdout",
          "text": [
            "Writing StrengthClient.java\n"
          ]
        }
      ]
    },
    {
      "cell_type": "code",
      "source": [
        "%%writefile CardioClient.java\n",
        "public class CardioClient extends Client {\n",
        "    // TODO: private int targetMinutes;\n",
        "\n",
        "    // TODO: public CardioClient(String name, int experience, int targetMinutes) {\n",
        "    //   super(name, experience);\n",
        "    //   // store targetMinutes\n",
        "    // }\n",
        "\n",
        "    @Override\n",
        "    public String planForToday() {\n",
        "        // TODO: return a plan string that mentions targetMinutes\n",
        "        // and adjusts pace by getExperience()\n",
        "        return \"TODO\";\n",
        "    }\n",
        "\n",
        "    // Optional:\n",
        "    // @Override\n",
        "    // public void checkIn() {\n",
        "    //   super.checkIn();\n",
        "    //   System.out.println(\"Bring water!\");\n",
        "    // }\n",
        "}"
      ],
      "metadata": {
        "colab": {
          "base_uri": "https://localhost:8080/"
        },
        "id": "XuuLPG2_XTOp",
        "outputId": "5a7a9eba-dd3e-4223-eb8f-43b274996977"
      },
      "execution_count": null,
      "outputs": [
        {
          "output_type": "stream",
          "name": "stdout",
          "text": [
            "Writing CardioClient.java\n"
          ]
        }
      ]
    },
    {
      "cell_type": "markdown",
      "source": [
        "A quick picture of the relationships:\n"
      ],
      "metadata": {
        "id": "7QO0dcOAXdnx"
      }
    },
    {
      "cell_type": "code",
      "source": [
        "# @title\n",
        "mm(\"\"\"\n",
        "classDiagram\n",
        "    Client <|-- StrengthClient\n",
        "    Client <|-- CardioClient\n",
        "    class Client {\n",
        "      - String name\n",
        "      - int experience\n",
        "      + Client(String,int)\n",
        "      + getName() String\n",
        "      + getExperience() int\n",
        "      + planForToday() String\n",
        "      + checkIn() void\n",
        "    }\n",
        "    class StrengthClient {\n",
        "      - String favoriteLift\n",
        "      + planForToday() String\n",
        "    }\n",
        "    class CardioClient {\n",
        "      - int targetMinutes\n",
        "      + planForToday() String\n",
        "    }\n",
        "\"\"\")"
      ],
      "metadata": {
        "colab": {
          "base_uri": "https://localhost:8080/",
          "height": 495
        },
        "cellView": "form",
        "id": "yC_xrStiXgiM",
        "outputId": "2157dd1b-7f9d-4c7a-b658-1c2f262dae2a"
      },
      "execution_count": null,
      "outputs": [
        {
          "output_type": "display_data",
          "data": {
            "text/plain": [
              "<IPython.core.display.SVG object>"
            ],
            "image/svg+xml": "<svg xmlns=\"http://www.w3.org/2000/svg\" xmlns:xlink=\"http://www.w3.org/1999/xlink\" id=\"mermaid-svg\" width=\"100%\" class=\"classDiagram\" style=\"max-width: 569.734375px;\" viewBox=\"0 0 569.734375 474\" role=\"graphics-document document\" aria-roledescription=\"class\"><style xmlns=\"http://www.w3.org/1999/xhtml\">@import url(&quot;https://cdnjs.cloudflare.com/ajax/libs/font-awesome/6.7.2/css/all.min.css&quot;);</style><style>#mermaid-svg{font-family:&quot;trebuchet ms&quot;,verdana,arial,sans-serif;font-size:16px;fill:#333;}@keyframes edge-animation-frame{from{stroke-dashoffset:0;}}@keyframes dash{to{stroke-dashoffset:0;}}#mermaid-svg .edge-animation-slow{stroke-dasharray:9,5!important;stroke-dashoffset:900;animation:dash 50s linear infinite;stroke-linecap:round;}#mermaid-svg .edge-animation-fast{stroke-dasharray:9,5!important;stroke-dashoffset:900;animation:dash 20s linear infinite;stroke-linecap:round;}#mermaid-svg .error-icon{fill:#552222;}#mermaid-svg .error-text{fill:#552222;stroke:#552222;}#mermaid-svg .edge-thickness-normal{stroke-width:1px;}#mermaid-svg .edge-thickness-thick{stroke-width:3.5px;}#mermaid-svg .edge-pattern-solid{stroke-dasharray:0;}#mermaid-svg .edge-thickness-invisible{stroke-width:0;fill:none;}#mermaid-svg .edge-pattern-dashed{stroke-dasharray:3;}#mermaid-svg .edge-pattern-dotted{stroke-dasharray:2;}#mermaid-svg .marker{fill:#333333;stroke:#333333;}#mermaid-svg .marker.cross{stroke:#333333;}#mermaid-svg svg{font-family:&quot;trebuchet ms&quot;,verdana,arial,sans-serif;font-size:16px;}#mermaid-svg p{margin:0;}#mermaid-svg g.classGroup text{fill:#9370DB;stroke:none;font-family:&quot;trebuchet ms&quot;,verdana,arial,sans-serif;font-size:10px;}#mermaid-svg g.classGroup text .title{font-weight:bolder;}#mermaid-svg .nodeLabel,#mermaid-svg .edgeLabel{color:#131300;}#mermaid-svg .edgeLabel .label rect{fill:#ECECFF;}#mermaid-svg .label text{fill:#131300;}#mermaid-svg .labelBkg{background:#ECECFF;}#mermaid-svg .edgeLabel .label span{background:#ECECFF;}#mermaid-svg .classTitle{font-weight:bolder;}#mermaid-svg .node rect,#mermaid-svg .node circle,#mermaid-svg .node ellipse,#mermaid-svg .node polygon,#mermaid-svg .node path{fill:#ECECFF;stroke:#9370DB;stroke-width:1px;}#mermaid-svg .divider{stroke:#9370DB;stroke-width:1;}#mermaid-svg g.clickable{cursor:pointer;}#mermaid-svg g.classGroup rect{fill:#ECECFF;stroke:#9370DB;}#mermaid-svg g.classGroup line{stroke:#9370DB;stroke-width:1;}#mermaid-svg .classLabel .box{stroke:none;stroke-width:0;fill:#ECECFF;opacity:0.5;}#mermaid-svg .classLabel .label{fill:#9370DB;font-size:10px;}#mermaid-svg .relation{stroke:#333333;stroke-width:1;fill:none;}#mermaid-svg .dashed-line{stroke-dasharray:3;}#mermaid-svg .dotted-line{stroke-dasharray:1 2;}#mermaid-svg #compositionStart,#mermaid-svg .composition{fill:#333333!important;stroke:#333333!important;stroke-width:1;}#mermaid-svg #compositionEnd,#mermaid-svg .composition{fill:#333333!important;stroke:#333333!important;stroke-width:1;}#mermaid-svg #dependencyStart,#mermaid-svg .dependency{fill:#333333!important;stroke:#333333!important;stroke-width:1;}#mermaid-svg #dependencyStart,#mermaid-svg .dependency{fill:#333333!important;stroke:#333333!important;stroke-width:1;}#mermaid-svg #extensionStart,#mermaid-svg .extension{fill:transparent!important;stroke:#333333!important;stroke-width:1;}#mermaid-svg #extensionEnd,#mermaid-svg .extension{fill:transparent!important;stroke:#333333!important;stroke-width:1;}#mermaid-svg #aggregationStart,#mermaid-svg .aggregation{fill:transparent!important;stroke:#333333!important;stroke-width:1;}#mermaid-svg #aggregationEnd,#mermaid-svg .aggregation{fill:transparent!important;stroke:#333333!important;stroke-width:1;}#mermaid-svg #lollipopStart,#mermaid-svg .lollipop{fill:#ECECFF!important;stroke:#333333!important;stroke-width:1;}#mermaid-svg #lollipopEnd,#mermaid-svg .lollipop{fill:#ECECFF!important;stroke:#333333!important;stroke-width:1;}#mermaid-svg .edgeTerminals{font-size:11px;line-height:initial;}#mermaid-svg .classTitleText{text-anchor:middle;font-size:18px;fill:#333;}#mermaid-svg .label-icon{display:inline-block;height:1em;overflow:visible;vertical-align:-0.125em;}#mermaid-svg .node .label-icon path{fill:currentColor;stroke:revert;stroke-width:revert;}#mermaid-svg :root{--mermaid-font-family:&quot;trebuchet ms&quot;,verdana,arial,sans-serif;}</style><g><defs><marker id=\"mermaid-svg_class-aggregationStart\" class=\"marker aggregation class\" refX=\"18\" refY=\"7\" markerWidth=\"190\" markerHeight=\"240\" orient=\"auto\"><path d=\"M 18,7 L9,13 L1,7 L9,1 Z\"/></marker></defs><defs><marker id=\"mermaid-svg_class-aggregationEnd\" class=\"marker aggregation class\" refX=\"1\" refY=\"7\" markerWidth=\"20\" markerHeight=\"28\" orient=\"auto\"><path d=\"M 18,7 L9,13 L1,7 L9,1 Z\"/></marker></defs><defs><marker id=\"mermaid-svg_class-extensionStart\" class=\"marker extension class\" refX=\"18\" refY=\"7\" markerWidth=\"190\" markerHeight=\"240\" orient=\"auto\"><path d=\"M 1,7 L18,13 V 1 Z\"/></marker></defs><defs><marker id=\"mermaid-svg_class-extensionEnd\" class=\"marker extension class\" refX=\"1\" refY=\"7\" markerWidth=\"20\" markerHeight=\"28\" orient=\"auto\"><path d=\"M 1,1 V 13 L18,7 Z\"/></marker></defs><defs><marker id=\"mermaid-svg_class-compositionStart\" class=\"marker composition class\" refX=\"18\" refY=\"7\" markerWidth=\"190\" markerHeight=\"240\" orient=\"auto\"><path d=\"M 18,7 L9,13 L1,7 L9,1 Z\"/></marker></defs><defs><marker id=\"mermaid-svg_class-compositionEnd\" class=\"marker composition class\" refX=\"1\" refY=\"7\" markerWidth=\"20\" markerHeight=\"28\" orient=\"auto\"><path d=\"M 18,7 L9,13 L1,7 L9,1 Z\"/></marker></defs><defs><marker id=\"mermaid-svg_class-dependencyStart\" class=\"marker dependency class\" refX=\"6\" refY=\"7\" markerWidth=\"190\" markerHeight=\"240\" orient=\"auto\"><path d=\"M 5,7 L9,13 L1,7 L9,1 Z\"/></marker></defs><defs><marker id=\"mermaid-svg_class-dependencyEnd\" class=\"marker dependency class\" refX=\"13\" refY=\"7\" markerWidth=\"20\" markerHeight=\"28\" orient=\"auto\"><path d=\"M 18,7 L9,13 L14,7 L9,1 Z\"/></marker></defs><defs><marker id=\"mermaid-svg_class-lollipopStart\" class=\"marker lollipop class\" refX=\"13\" refY=\"7\" markerWidth=\"190\" markerHeight=\"240\" orient=\"auto\"><circle stroke=\"black\" fill=\"transparent\" cx=\"7\" cy=\"7\" r=\"6\"/></marker></defs><defs><marker id=\"mermaid-svg_class-lollipopEnd\" class=\"marker lollipop class\" refX=\"1\" refY=\"7\" markerWidth=\"190\" markerHeight=\"240\" orient=\"auto\"><circle stroke=\"black\" fill=\"transparent\" cx=\"7\" cy=\"7\" r=\"6\"/></marker></defs><g class=\"root\"><g class=\"clusters\"/><g class=\"edgePaths\"><path d=\"M162.9,268.832L158.387,273.526C153.874,278.221,144.847,287.611,140.334,296.472C135.82,305.333,135.82,313.667,135.82,317.833L135.82,322\" id=\"id_Client_StrengthClient_1\" class=\" edge-thickness-normal edge-pattern-solid relation\" style=\"\" marker-start=\"url(#mermaid-svg_class-extensionStart)\"/><path d=\"M410.608,268.832L415.121,273.526C419.634,278.221,428.661,287.611,433.174,296.472C437.688,305.333,437.688,313.667,437.688,317.833L437.688,322\" id=\"id_Client_CardioClient_2\" class=\" edge-thickness-normal edge-pattern-solid relation\" style=\"\" marker-start=\"url(#mermaid-svg_class-extensionStart)\"/></g><g class=\"edgeLabels\"><g class=\"edgeLabel\"><g class=\"label\" transform=\"translate(0, -12)\"><foreignObject width=\"0\" height=\"24\"><div xmlns=\"http://www.w3.org/1999/xhtml\" style=\"display: table-cell; white-space: nowrap; line-height: 1.5; max-width: 200px; text-align: center;\" class=\"labelBkg\"><span style=\";display: inline-block\" class=\"edgeLabel \"/></div></foreignObject></g></g><g class=\"edgeLabel\"><g class=\"label\" transform=\"translate(0, -12)\"><foreignObject width=\"0\" height=\"24\"><div xmlns=\"http://www.w3.org/1999/xhtml\" style=\"display: table-cell; white-space: nowrap; line-height: 1.5; max-width: 200px; text-align: center;\" class=\"labelBkg\"><span style=\";display: inline-block\" class=\"edgeLabel \"/></div></foreignObject></g></g></g><g class=\"nodes\"><g class=\"node default \" id=\"classId-Client-0\" transform=\"translate(286.75390625, 140)\"><g class=\"basic label-container\"><path d=\"M-111.37890625 -132 L111.37890625 -132 L111.37890625 132 L-111.37890625 132\" stroke=\"none\" stroke-width=\"0\" fill=\"#ECECFF\" style=\"\"/><path d=\"M-111.37890625 -132 C-38.325484414159675 -132, 34.72793742168065 -132, 111.37890625 -132 M-111.37890625 -132 C-30.72311498689723 -132, 49.93267627620554 -132, 111.37890625 -132 M111.37890625 -132 C111.37890625 -33.61340429614545, 111.37890625 64.7731914077091, 111.37890625 132 M111.37890625 -132 C111.37890625 -57.167089904490496, 111.37890625 17.66582019101901, 111.37890625 132 M111.37890625 132 C65.9723361173904 132, 20.565765984780796 132, -111.37890625 132 M111.37890625 132 C42.07190860365694 132, -27.235089042686127 132, -111.37890625 132 M-111.37890625 132 C-111.37890625 30.296576197227466, -111.37890625 -71.40684760554507, -111.37890625 -132 M-111.37890625 132 C-111.37890625 50.228037879705965, -111.37890625 -31.54392424058807, -111.37890625 -132\" stroke=\"#9370DB\" stroke-width=\"1.3\" fill=\"none\" stroke-dasharray=\"0 0\" style=\"\"/></g><g class=\"annotation-group text\" transform=\"translate(0, -108)\"/><g class=\"label-group text\" transform=\"translate(-22.2265625, -108)\"><g class=\"label\" style=\"font-weight: bolder\" transform=\"translate(0,-12)\"><foreignObject width=\"44.453125\" height=\"24\"><div xmlns=\"http://www.w3.org/1999/xhtml\" style=\"display: table-cell; white-space: nowrap; line-height: 1.5; max-width: 90px; text-align: center;\"><span class=\"nodeLabel markdown-node-label\" style=\"\"><p>Client</p></span></div></foreignObject></g></g><g class=\"members-group text\" transform=\"translate(-99.37890625, -60)\"><g class=\"label\" style=\"\" transform=\"translate(0,-12)\"><foreignObject width=\"96.046875\" height=\"24\"><div xmlns=\"http://www.w3.org/1999/xhtml\" style=\"display: table-cell; white-space: nowrap; line-height: 1.5; max-width: 142px; text-align: center;\"><span class=\"nodeLabel markdown-node-label\" style=\"\"><p>- String name</p></span></div></foreignObject></g><g class=\"label\" style=\"\" transform=\"translate(0,12)\"><foreignObject width=\"109.390625\" height=\"24\"><div xmlns=\"http://www.w3.org/1999/xhtml\" style=\"display: table-cell; white-space: nowrap; line-height: 1.5; max-width: 154px; text-align: center;\"><span class=\"nodeLabel markdown-node-label\" style=\"\"><p>- int experience</p></span></div></foreignObject></g></g><g class=\"methods-group text\" transform=\"translate(-99.37890625, 12)\"><g class=\"label\" style=\"\" transform=\"translate(0,-12)\"><foreignObject width=\"128.5\" height=\"24\"><div xmlns=\"http://www.w3.org/1999/xhtml\" style=\"display: table-cell; white-space: nowrap; line-height: 1.5; max-width: 177px; text-align: center;\"><span class=\"nodeLabel markdown-node-label\" style=\"\"><p>+ Client(String,int)</p></span></div></foreignObject></g><g class=\"label\" style=\"\" transform=\"translate(0,12)\"><foreignObject width=\"144.5\" height=\"24\"><div xmlns=\"http://www.w3.org/1999/xhtml\" style=\"display: table-cell; white-space: nowrap; line-height: 1.5; max-width: 187px; text-align: center;\"><span class=\"nodeLabel markdown-node-label\" style=\"\"><p>+ getName() : String</p></span></div></foreignObject></g><g class=\"label\" style=\"\" transform=\"translate(0,36)\"><foreignObject width=\"156.96875\" height=\"24\"><div xmlns=\"http://www.w3.org/1999/xhtml\" style=\"display: table-cell; white-space: nowrap; line-height: 1.5; max-width: 200px; text-align: center;\"><span class=\"nodeLabel markdown-node-label\" style=\"\"><p>+ getExperience() : int</p></span></div></foreignObject></g><g class=\"label\" style=\"\" transform=\"translate(0,60)\"><foreignObject width=\"176.53125\" height=\"24\"><div xmlns=\"http://www.w3.org/1999/xhtml\" style=\"display: table-cell; white-space: nowrap; line-height: 1.5; max-width: 219px; text-align: center;\"><span class=\"nodeLabel markdown-node-label\" style=\"\"><p>+ planForToday() : String</p></span></div></foreignObject></g><g class=\"label\" style=\"\" transform=\"translate(0,84)\"><foreignObject width=\"122.28125\" height=\"24\"><div xmlns=\"http://www.w3.org/1999/xhtml\" style=\"display: table-cell; white-space: nowrap; line-height: 1.5; max-width: 170px; text-align: center;\"><span class=\"nodeLabel markdown-node-label\" style=\"\"><p>+ checkIn() : void</p></span></div></foreignObject></g></g><g class=\"divider\" style=\"\"><path d=\"M-111.37890625 -84 C-63.764025267019264 -84, -16.149144284038528 -84, 111.37890625 -84 M-111.37890625 -84 C-37.728891022150606 -84, 35.92112420569879 -84, 111.37890625 -84\" stroke=\"#9370DB\" stroke-width=\"1.3\" fill=\"none\" stroke-dasharray=\"0 0\" style=\"\"/></g><g class=\"divider\" style=\"\"><path d=\"M-111.37890625 -12 C-30.164103390982817 -12, 51.05069946803437 -12, 111.37890625 -12 M-111.37890625 -12 C-37.05724456358385 -12, 37.2644171228323 -12, 111.37890625 -12\" stroke=\"#9370DB\" stroke-width=\"1.3\" fill=\"none\" stroke-dasharray=\"0 0\" style=\"\"/></g></g><g class=\"node default \" id=\"classId-StrengthClient-1\" transform=\"translate(135.8203125, 394)\"><g class=\"basic label-container\"><path d=\"M-127.8203125 -72 L127.8203125 -72 L127.8203125 72 L-127.8203125 72\" stroke=\"none\" stroke-width=\"0\" fill=\"#ECECFF\" style=\"\"/><path d=\"M-127.8203125 -72 C-65.33902911752573 -72, -2.857745735051452 -72, 127.8203125 -72 M-127.8203125 -72 C-28.657300182390358 -72, 70.50571213521928 -72, 127.8203125 -72 M127.8203125 -72 C127.8203125 -40.78299054533641, 127.8203125 -9.565981090672821, 127.8203125 72 M127.8203125 -72 C127.8203125 -26.344527690181344, 127.8203125 19.31094461963731, 127.8203125 72 M127.8203125 72 C60.9752980294526 72, -5.869716441094795 72, -127.8203125 72 M127.8203125 72 C31.261393014800262 72, -65.29752647039948 72, -127.8203125 72 M-127.8203125 72 C-127.8203125 19.90638665943537, -127.8203125 -32.18722668112926, -127.8203125 -72 M-127.8203125 72 C-127.8203125 18.004865669759255, -127.8203125 -35.99026866048149, -127.8203125 -72\" stroke=\"#9370DB\" stroke-width=\"1.3\" fill=\"none\" stroke-dasharray=\"0 0\" style=\"\"/></g><g class=\"annotation-group text\" transform=\"translate(0, -48)\"/><g class=\"label-group text\" transform=\"translate(-55.109375, -48)\"><g class=\"label\" style=\"font-weight: bolder\" transform=\"translate(0,-12)\"><foreignObject width=\"110.21875\" height=\"24\"><div xmlns=\"http://www.w3.org/1999/xhtml\" style=\"display: table-cell; white-space: nowrap; line-height: 1.5; max-width: 144px; text-align: center;\"><span class=\"nodeLabel markdown-node-label\" style=\"\"><p>StrengthClient</p></span></div></foreignObject></g></g><g class=\"members-group text\" transform=\"translate(-115.8203125, 0)\"><g class=\"label\" style=\"\" transform=\"translate(0,-12)\"><foreignObject width=\"129.828125\" height=\"24\"><div xmlns=\"http://www.w3.org/1999/xhtml\" style=\"display: table-cell; white-space: nowrap; line-height: 1.5; max-width: 181px; text-align: center;\"><span class=\"nodeLabel markdown-node-label\" style=\"\"><p>- String favoriteLift</p></span></div></foreignObject></g></g><g class=\"methods-group text\" transform=\"translate(-115.8203125, 48)\"><g class=\"label\" style=\"\" transform=\"translate(0,-12)\"><foreignObject width=\"176.53125\" height=\"24\"><div xmlns=\"http://www.w3.org/1999/xhtml\" style=\"display: table-cell; white-space: nowrap; line-height: 1.5; max-width: 219px; text-align: center;\"><span class=\"nodeLabel markdown-node-label\" style=\"\"><p>+ planForToday() : String</p></span></div></foreignObject></g></g><g class=\"divider\" style=\"\"><path d=\"M-127.8203125 -24 C-51.34988105673996 -24, 25.12055038652008 -24, 127.8203125 -24 M-127.8203125 -24 C-71.13611972530468 -24, -14.451926950609362 -24, 127.8203125 -24\" stroke=\"#9370DB\" stroke-width=\"1.3\" fill=\"none\" stroke-dasharray=\"0 0\" style=\"\"/></g><g class=\"divider\" style=\"\"><path d=\"M-127.8203125 24 C-50.89984773102181 24, 26.020617037956384 24, 127.8203125 24 M-127.8203125 24 C-63.000700763824454 24, 1.818910972351091 24, 127.8203125 24\" stroke=\"#9370DB\" stroke-width=\"1.3\" fill=\"none\" stroke-dasharray=\"0 0\" style=\"\"/></g></g><g class=\"node default \" id=\"classId-CardioClient-2\" transform=\"translate(437.6875, 394)\"><g class=\"basic label-container\"><path d=\"M-124.046875 -72 L124.046875 -72 L124.046875 72 L-124.046875 72\" stroke=\"none\" stroke-width=\"0\" fill=\"#ECECFF\" style=\"\"/><path d=\"M-124.046875 -72 C-68.43218277357185 -72, -12.817490547143706 -72, 124.046875 -72 M-124.046875 -72 C-51.297108033832714 -72, 21.45265893233457 -72, 124.046875 -72 M124.046875 -72 C124.046875 -30.42817090759391, 124.046875 11.143658184812182, 124.046875 72 M124.046875 -72 C124.046875 -25.21919943471258, 124.046875 21.561601130574843, 124.046875 72 M124.046875 72 C30.242557211022785 72, -63.56176057795443 72, -124.046875 72 M124.046875 72 C70.50177665690597 72, 16.956678313811935 72, -124.046875 72 M-124.046875 72 C-124.046875 23.76866890362931, -124.046875 -24.462662192741377, -124.046875 -72 M-124.046875 72 C-124.046875 33.89162707852625, -124.046875 -4.216745842947503, -124.046875 -72\" stroke=\"#9370DB\" stroke-width=\"1.3\" fill=\"none\" stroke-dasharray=\"0 0\" style=\"\"/></g><g class=\"annotation-group text\" transform=\"translate(0, -48)\"/><g class=\"label-group text\" transform=\"translate(-47.5625, -48)\"><g class=\"label\" style=\"font-weight: bolder\" transform=\"translate(0,-12)\"><foreignObject width=\"95.125\" height=\"24\"><div xmlns=\"http://www.w3.org/1999/xhtml\" style=\"display: table-cell; white-space: nowrap; line-height: 1.5; max-width: 133px; text-align: center;\"><span class=\"nodeLabel markdown-node-label\" style=\"\"><p>CardioClient</p></span></div></foreignObject></g></g><g class=\"members-group text\" transform=\"translate(-112.046875, 0)\"><g class=\"label\" style=\"\" transform=\"translate(0,-12)\"><foreignObject width=\"128.0625\" height=\"24\"><div xmlns=\"http://www.w3.org/1999/xhtml\" style=\"display: table-cell; white-space: nowrap; line-height: 1.5; max-width: 173px; text-align: center;\"><span class=\"nodeLabel markdown-node-label\" style=\"\"><p>- int targetMinutes</p></span></div></foreignObject></g></g><g class=\"methods-group text\" transform=\"translate(-112.046875, 48)\"><g class=\"label\" style=\"\" transform=\"translate(0,-12)\"><foreignObject width=\"176.53125\" height=\"24\"><div xmlns=\"http://www.w3.org/1999/xhtml\" style=\"display: table-cell; white-space: nowrap; line-height: 1.5; max-width: 219px; text-align: center;\"><span class=\"nodeLabel markdown-node-label\" style=\"\"><p>+ planForToday() : String</p></span></div></foreignObject></g></g><g class=\"divider\" style=\"\"><path d=\"M-124.046875 -24 C-32.474285836815696 -24, 59.09830332636861 -24, 124.046875 -24 M-124.046875 -24 C-72.18933888742552 -24, -20.33180277485104 -24, 124.046875 -24\" stroke=\"#9370DB\" stroke-width=\"1.3\" fill=\"none\" stroke-dasharray=\"0 0\" style=\"\"/></g><g class=\"divider\" style=\"\"><path d=\"M-124.046875 24 C-45.439161918515566 24, 33.16855116296887 24, 124.046875 24 M-124.046875 24 C-73.81522935268052 24, -23.583583705361022 24, 124.046875 24\" stroke=\"#9370DB\" stroke-width=\"1.3\" fill=\"none\" stroke-dasharray=\"0 0\" style=\"\"/></g></g></g></g></g></svg>"
          },
          "metadata": {}
        }
      ]
    },
    {
      "cell_type": "markdown",
      "source": [
        "### Test class skeleton (you complete it)\n",
        "\n",
        "Write a client program that **instantiates** your subclasses and calls their methods. Save as `ClientTest.java`."
      ],
      "metadata": {
        "id": "5rPk-sA8XD2_"
      }
    },
    {
      "cell_type": "code",
      "source": [
        "%%writefile ClientTest.java\n",
        "public class ClientTest {\n",
        "    public static void main(String[] args) {\n",
        "        Client a = new Client(\"Alex\", 2);\n",
        "        a.checkIn();\n",
        "        System.out.println(a.planForToday());\n",
        "\n",
        "        // TODO: instantiate your subclasses (choose heroic names!)\n",
        "        // Client b = new StrengthClient(\"He-Man\", 8, \"bench press\");\n",
        "        // Client c = new CardioClient(\"She-Ra\", 6, 30);\n",
        "        // Client d = new StrengthClient(\"Hulk\", 9, \"deadlift\");\n",
        "\n",
        "        // TODO: call checkIn() and print planForToday() for b, c, d\n",
        "\n",
        "        // TODO: put them in a Client[] or java.util.ArrayList<Client>\n",
        "        // and loop, printing each getName() + planForToday()\n",
        "    }\n",
        "}"
      ],
      "metadata": {
        "colab": {
          "base_uri": "https://localhost:8080/"
        },
        "id": "SDRpkN4TWkod",
        "outputId": "70de5858-31ce-4309-9c50-8e18a73d1a63"
      },
      "execution_count": null,
      "outputs": [
        {
          "output_type": "stream",
          "name": "stdout",
          "text": [
            "Writing ClientTest.java\n"
          ]
        }
      ]
    },
    {
      "cell_type": "code",
      "source": [
        "!javac Client.java StrengthClient.java CardioClient.java ClientTest.java\n",
        "!java ClientTest"
      ],
      "metadata": {
        "id": "B_C-3bwilwst"
      },
      "execution_count": null,
      "outputs": []
    },
    {
      "cell_type": "markdown",
      "source": [
        "**TODO checklist**\n",
        "\n",
        "1. Implement `StrengthClient` and `CardioClient` per the table.\n",
        "2. Use `super(...)` in each constructor and `@Override` on each overridden method.\n",
        "3. In `ClientTest`, create at least **three** clients (mix of base and subclasses) and print both `checkIn()` and `planForToday()` for each.\n",
        "4. Stretch: compute an “effort score” for each client using `getExperience()` and print the highest scorer’s name.\n"
      ],
      "metadata": {
        "id": "AfDMzVkol-Ms"
      }
    },
    {
      "cell_type": "markdown",
      "source": [
        "## Interfaces: Tiny Contracts, Big Flexibility\n",
        "\n",
        "Sometimes we only care that an object can answer a question, not how it computes the answer. An **interface** is a **contract**: a named set of **method signatures** (name + parameters + return type) with **no bodies**. A class that **implements** an interface promises to provide concrete methods with exactly those signatures. In Java, we write interfaces with the keyword `interface`, attach them with `implements`, and the declared methods are **abstract** (no code) by default.\n",
        "\n",
        "A minimal contract for our fitness world is that any activity can report its **name** and an integer **calories** estimate:"
      ],
      "metadata": {
        "id": "y5jcT0Pzoq63"
      }
    },
    {
      "cell_type": "code",
      "source": [
        "%%writefile Trackable.java\n",
        "interface Trackable {\n",
        "    String name();     // abstract method: no body here\n",
        "    int calories();    // abstract method: no body here\n",
        "}\n"
      ],
      "metadata": {
        "colab": {
          "base_uri": "https://localhost:8080/"
        },
        "id": "y_V2kZcPorgK",
        "outputId": "d8c8b4e5-8f45-4a9c-8431-7b6f8877be18"
      },
      "execution_count": 16,
      "outputs": [
        {
          "output_type": "stream",
          "name": "stdout",
          "text": [
            "Writing Trackable.java\n"
          ]
        }
      ]
    },
    {
      "cell_type": "markdown",
      "source": [
        "Two different classes can implement this contract in different ways. That is the point: shared questions, diverse answers."
      ],
      "metadata": {
        "id": "IzHlSsdDowFw"
      }
    },
    {
      "cell_type": "code",
      "source": [
        "%%writefile JumpingJacks.java\n",
        "class JumpingJacks implements Trackable {\n",
        "    private final int reps;\n",
        "    public JumpingJacks(int reps) { this.reps = reps; }\n",
        "\n",
        "    @Override public String name() { return \"Jumping Jacks\"; }\n",
        "    @Override public int calories() { return reps; } // 1 cal per rep (toy model)\n",
        "}"
      ],
      "metadata": {
        "colab": {
          "base_uri": "https://localhost:8080/"
        },
        "id": "PHUZsocIoyP_",
        "outputId": "25c02bb1-a2a2-4d87-d0e9-824425c2a05d"
      },
      "execution_count": 17,
      "outputs": [
        {
          "output_type": "stream",
          "name": "stdout",
          "text": [
            "Writing JumpingJacks.java\n"
          ]
        }
      ]
    },
    {
      "cell_type": "code",
      "source": [
        "%%writefile SledPull.java\n",
        "class SledPull implements Trackable {\n",
        "    private final int meters, kg;\n",
        "    public SledPull(int meters, int kg) { this.meters = meters; this.kg = kg; }\n",
        "\n",
        "    @Override public String name() { return \"Sled Pull\"; }\n",
        "    @Override public int calories() { return meters * kg / 20; } // simple estimate\n",
        "}"
      ],
      "metadata": {
        "colab": {
          "base_uri": "https://localhost:8080/"
        },
        "id": "mcQKheldo8lS",
        "outputId": "f4110e01-fd7a-4bd4-bad7-53b5cc835ece"
      },
      "execution_count": 18,
      "outputs": [
        {
          "output_type": "stream",
          "name": "stdout",
          "text": [
            "Writing SledPull.java\n"
          ]
        }
      ]
    },
    {
      "cell_type": "markdown",
      "source": [
        "Now we can write code that talks to the **interface type** `Trackable` and let **polymorphism** do the work at runtime—each object computes calories its own way, but our loop is the same."
      ],
      "metadata": {
        "id": "7v_d_vVIpMa9"
      }
    },
    {
      "cell_type": "markdown",
      "source": [],
      "metadata": {
        "id": "Uq_QgUpJpPoE"
      }
    },
    {
      "cell_type": "code",
      "source": [
        "%%writefile InterfaceDemo.java\n",
        "// Save as InterfaceDemo.java; only this class is public.\n",
        "// The interface and the two classes above could live in this same file (no 'public' on them).\n",
        "// We've put them in separate files for clarity\n",
        "public class InterfaceDemo {\n",
        "    public static void main(String[] args) {\n",
        "        Trackable[] plan = {\n",
        "            new JumpingJacks(50),\n",
        "            new SledPull(60, 80),\n",
        "            new JumpingJacks(30)\n",
        "        };\n",
        "\n",
        "        int total = 0;\n",
        "        for (Trackable t : plan) {\n",
        "            System.out.println(t.name() + \" → \" + t.calories() + \" cal\");\n",
        "            total += t.calories();\n",
        "        }\n",
        "        System.out.println(\"Total: \" + total + \" cal\");\n",
        "    }\n",
        "}"
      ],
      "metadata": {
        "colab": {
          "base_uri": "https://localhost:8080/"
        },
        "id": "RtbzxIThpSmr",
        "outputId": "0a472cf9-96fb-439c-c674-6ec2ac38de0e"
      },
      "execution_count": 19,
      "outputs": [
        {
          "output_type": "stream",
          "name": "stdout",
          "text": [
            "Writing InterfaceDemo.java\n"
          ]
        }
      ]
    },
    {
      "cell_type": "code",
      "source": [
        "!javac InterfaceDemo.java\n",
        "!java InterfaceDemo"
      ],
      "metadata": {
        "colab": {
          "base_uri": "https://localhost:8080/"
        },
        "id": "Cr8d-J5rpgSC",
        "outputId": "804be45e-dcc6-426d-c3fb-097f861f4400"
      },
      "execution_count": 20,
      "outputs": [
        {
          "output_type": "stream",
          "name": "stdout",
          "text": [
            "Jumping Jacks → 50 cal\n",
            "Sled Pull → 240 cal\n",
            "Jumping Jacks → 30 cal\n",
            "Total: 320 cal\n"
          ]
        }
      ]
    },
    {
      "cell_type": "markdown",
      "source": [
        "\n",
        "When you run `InterfaceDemo`, the loop calls the same two methods—`name()` and `calories()`—on each item. Because both classes **implement** `Trackable`, the compiler accepts the code; because each class provides its own bodies, the results differ.\n",
        "\n",
        "The language around interfaces can be a bit complex. Here's a quick reference:\n",
        "\n",
        "| **Term**            | **Definition**                                                                                                          |\n",
        "| ------------------- | ----------------------------------------------------------------------------------------------------------------------- |\n",
        "| **interface**       | A contract listing method signatures (no bodies) that classes agree to implement.                                       |\n",
        "| **implements**      | Java keyword used by a class to attach an interface and promise matching methods.                                       |\n",
        "| **abstract method** | A method declaration without a body; in interfaces, methods are abstract by default.                                    |\n",
        "| **polymorphism**    | Using a parent/interface type (`Trackable`) to refer to many concrete objects and dispatch the right method at runtime. |\n",
        "\n",
        "\n",
        "### Representing Interfaces Graphically\n",
        "Here's how you can represent interface using **UML** diagrams:"
      ],
      "metadata": {
        "id": "N2T5esAppqZS"
      }
    },
    {
      "cell_type": "code",
      "source": [
        "mm(\"\"\"\n",
        "classDiagram\n",
        "    class Trackable {\n",
        "      <<interface>>\n",
        "      + name() String\n",
        "      + calories() int\n",
        "    }\n",
        "    Trackable <|.. JumpingJacks\n",
        "    Trackable <|.. SledPull\n",
        "\n",
        "\"\"\")"
      ],
      "metadata": {
        "colab": {
          "base_uri": "https://localhost:8080/",
          "height": 345
        },
        "id": "FOdDnFc6qGZ_",
        "outputId": "5392b61a-c5a4-4865-b689-3e628f41a18c"
      },
      "execution_count": null,
      "outputs": [
        {
          "output_type": "display_data",
          "data": {
            "text/plain": [
              "<IPython.core.display.SVG object>"
            ],
            "image/svg+xml": "<svg xmlns=\"http://www.w3.org/2000/svg\" xmlns:xlink=\"http://www.w3.org/1999/xlink\" id=\"mermaid-svg\" width=\"100%\" class=\"classDiagram\" style=\"max-width: 288.28125px;\" viewBox=\"0 0 288.28125 324\" role=\"graphics-document document\" aria-roledescription=\"class\"><style xmlns=\"http://www.w3.org/1999/xhtml\">@import url(&quot;https://cdnjs.cloudflare.com/ajax/libs/font-awesome/6.7.2/css/all.min.css&quot;);</style><style>#mermaid-svg{font-family:&quot;trebuchet ms&quot;,verdana,arial,sans-serif;font-size:16px;fill:#333;}@keyframes edge-animation-frame{from{stroke-dashoffset:0;}}@keyframes dash{to{stroke-dashoffset:0;}}#mermaid-svg .edge-animation-slow{stroke-dasharray:9,5!important;stroke-dashoffset:900;animation:dash 50s linear infinite;stroke-linecap:round;}#mermaid-svg .edge-animation-fast{stroke-dasharray:9,5!important;stroke-dashoffset:900;animation:dash 20s linear infinite;stroke-linecap:round;}#mermaid-svg .error-icon{fill:#552222;}#mermaid-svg .error-text{fill:#552222;stroke:#552222;}#mermaid-svg .edge-thickness-normal{stroke-width:1px;}#mermaid-svg .edge-thickness-thick{stroke-width:3.5px;}#mermaid-svg .edge-pattern-solid{stroke-dasharray:0;}#mermaid-svg .edge-thickness-invisible{stroke-width:0;fill:none;}#mermaid-svg .edge-pattern-dashed{stroke-dasharray:3;}#mermaid-svg .edge-pattern-dotted{stroke-dasharray:2;}#mermaid-svg .marker{fill:#333333;stroke:#333333;}#mermaid-svg .marker.cross{stroke:#333333;}#mermaid-svg svg{font-family:&quot;trebuchet ms&quot;,verdana,arial,sans-serif;font-size:16px;}#mermaid-svg p{margin:0;}#mermaid-svg g.classGroup text{fill:#9370DB;stroke:none;font-family:&quot;trebuchet ms&quot;,verdana,arial,sans-serif;font-size:10px;}#mermaid-svg g.classGroup text .title{font-weight:bolder;}#mermaid-svg .nodeLabel,#mermaid-svg .edgeLabel{color:#131300;}#mermaid-svg .edgeLabel .label rect{fill:#ECECFF;}#mermaid-svg .label text{fill:#131300;}#mermaid-svg .labelBkg{background:#ECECFF;}#mermaid-svg .edgeLabel .label span{background:#ECECFF;}#mermaid-svg .classTitle{font-weight:bolder;}#mermaid-svg .node rect,#mermaid-svg .node circle,#mermaid-svg .node ellipse,#mermaid-svg .node polygon,#mermaid-svg .node path{fill:#ECECFF;stroke:#9370DB;stroke-width:1px;}#mermaid-svg .divider{stroke:#9370DB;stroke-width:1;}#mermaid-svg g.clickable{cursor:pointer;}#mermaid-svg g.classGroup rect{fill:#ECECFF;stroke:#9370DB;}#mermaid-svg g.classGroup line{stroke:#9370DB;stroke-width:1;}#mermaid-svg .classLabel .box{stroke:none;stroke-width:0;fill:#ECECFF;opacity:0.5;}#mermaid-svg .classLabel .label{fill:#9370DB;font-size:10px;}#mermaid-svg .relation{stroke:#333333;stroke-width:1;fill:none;}#mermaid-svg .dashed-line{stroke-dasharray:3;}#mermaid-svg .dotted-line{stroke-dasharray:1 2;}#mermaid-svg #compositionStart,#mermaid-svg .composition{fill:#333333!important;stroke:#333333!important;stroke-width:1;}#mermaid-svg #compositionEnd,#mermaid-svg .composition{fill:#333333!important;stroke:#333333!important;stroke-width:1;}#mermaid-svg #dependencyStart,#mermaid-svg .dependency{fill:#333333!important;stroke:#333333!important;stroke-width:1;}#mermaid-svg #dependencyStart,#mermaid-svg .dependency{fill:#333333!important;stroke:#333333!important;stroke-width:1;}#mermaid-svg #extensionStart,#mermaid-svg .extension{fill:transparent!important;stroke:#333333!important;stroke-width:1;}#mermaid-svg #extensionEnd,#mermaid-svg .extension{fill:transparent!important;stroke:#333333!important;stroke-width:1;}#mermaid-svg #aggregationStart,#mermaid-svg .aggregation{fill:transparent!important;stroke:#333333!important;stroke-width:1;}#mermaid-svg #aggregationEnd,#mermaid-svg .aggregation{fill:transparent!important;stroke:#333333!important;stroke-width:1;}#mermaid-svg #lollipopStart,#mermaid-svg .lollipop{fill:#ECECFF!important;stroke:#333333!important;stroke-width:1;}#mermaid-svg #lollipopEnd,#mermaid-svg .lollipop{fill:#ECECFF!important;stroke:#333333!important;stroke-width:1;}#mermaid-svg .edgeTerminals{font-size:11px;line-height:initial;}#mermaid-svg .classTitleText{text-anchor:middle;font-size:18px;fill:#333;}#mermaid-svg .label-icon{display:inline-block;height:1em;overflow:visible;vertical-align:-0.125em;}#mermaid-svg .node .label-icon path{fill:currentColor;stroke:revert;stroke-width:revert;}#mermaid-svg :root{--mermaid-font-family:&quot;trebuchet ms&quot;,verdana,arial,sans-serif;}</style><g><defs><marker id=\"mermaid-svg_class-aggregationStart\" class=\"marker aggregation class\" refX=\"18\" refY=\"7\" markerWidth=\"190\" markerHeight=\"240\" orient=\"auto\"><path d=\"M 18,7 L9,13 L1,7 L9,1 Z\"/></marker></defs><defs><marker id=\"mermaid-svg_class-aggregationEnd\" class=\"marker aggregation class\" refX=\"1\" refY=\"7\" markerWidth=\"20\" markerHeight=\"28\" orient=\"auto\"><path d=\"M 18,7 L9,13 L1,7 L9,1 Z\"/></marker></defs><defs><marker id=\"mermaid-svg_class-extensionStart\" class=\"marker extension class\" refX=\"18\" refY=\"7\" markerWidth=\"190\" markerHeight=\"240\" orient=\"auto\"><path d=\"M 1,7 L18,13 V 1 Z\"/></marker></defs><defs><marker id=\"mermaid-svg_class-extensionEnd\" class=\"marker extension class\" refX=\"1\" refY=\"7\" markerWidth=\"20\" markerHeight=\"28\" orient=\"auto\"><path d=\"M 1,1 V 13 L18,7 Z\"/></marker></defs><defs><marker id=\"mermaid-svg_class-compositionStart\" class=\"marker composition class\" refX=\"18\" refY=\"7\" markerWidth=\"190\" markerHeight=\"240\" orient=\"auto\"><path d=\"M 18,7 L9,13 L1,7 L9,1 Z\"/></marker></defs><defs><marker id=\"mermaid-svg_class-compositionEnd\" class=\"marker composition class\" refX=\"1\" refY=\"7\" markerWidth=\"20\" markerHeight=\"28\" orient=\"auto\"><path d=\"M 18,7 L9,13 L1,7 L9,1 Z\"/></marker></defs><defs><marker id=\"mermaid-svg_class-dependencyStart\" class=\"marker dependency class\" refX=\"6\" refY=\"7\" markerWidth=\"190\" markerHeight=\"240\" orient=\"auto\"><path d=\"M 5,7 L9,13 L1,7 L9,1 Z\"/></marker></defs><defs><marker id=\"mermaid-svg_class-dependencyEnd\" class=\"marker dependency class\" refX=\"13\" refY=\"7\" markerWidth=\"20\" markerHeight=\"28\" orient=\"auto\"><path d=\"M 18,7 L9,13 L14,7 L9,1 Z\"/></marker></defs><defs><marker id=\"mermaid-svg_class-lollipopStart\" class=\"marker lollipop class\" refX=\"13\" refY=\"7\" markerWidth=\"190\" markerHeight=\"240\" orient=\"auto\"><circle stroke=\"black\" fill=\"transparent\" cx=\"7\" cy=\"7\" r=\"6\"/></marker></defs><defs><marker id=\"mermaid-svg_class-lollipopEnd\" class=\"marker lollipop class\" refX=\"1\" refY=\"7\" markerWidth=\"190\" markerHeight=\"240\" orient=\"auto\"><circle stroke=\"black\" fill=\"transparent\" cx=\"7\" cy=\"7\" r=\"6\"/></marker></defs><g class=\"root\"><g class=\"clusters\"/><g class=\"edgePaths\"><path d=\"M83.051,196.612L81.806,198.343C80.56,200.075,78.069,203.537,76.824,209.435C75.578,215.333,75.578,223.667,75.578,227.833L75.578,232\" id=\"id_Trackable_JumpingJacks_1\" class=\" edge-thickness-normal edge-pattern-dashed relation\" style=\"\" marker-start=\"url(#mermaid-svg_class-extensionStart)\"/><path d=\"M229.246,196.612L230.491,198.343C231.737,200.075,234.228,203.537,235.473,209.435C236.719,215.333,236.719,223.667,236.719,227.833L236.719,232\" id=\"id_Trackable_SledPull_2\" class=\" edge-thickness-normal edge-pattern-dashed relation\" style=\"\" marker-start=\"url(#mermaid-svg_class-extensionStart)\"/></g><g class=\"edgeLabels\"><g class=\"edgeLabel\"><g class=\"label\" transform=\"translate(0, -12)\"><foreignObject width=\"0\" height=\"24\"><div xmlns=\"http://www.w3.org/1999/xhtml\" style=\"display: table-cell; white-space: nowrap; line-height: 1.5; max-width: 200px; text-align: center;\" class=\"labelBkg\"><span style=\";display: inline-block\" class=\"edgeLabel \"/></div></foreignObject></g></g><g class=\"edgeLabel\"><g class=\"label\" transform=\"translate(0, -12)\"><foreignObject width=\"0\" height=\"24\"><div xmlns=\"http://www.w3.org/1999/xhtml\" style=\"display: table-cell; white-space: nowrap; line-height: 1.5; max-width: 200px; text-align: center;\" class=\"labelBkg\"><span style=\";display: inline-block\" class=\"edgeLabel \"/></div></foreignObject></g></g></g><g class=\"nodes\"><g class=\"node default \" id=\"classId-Trackable-0\" transform=\"translate(156.1484375, 95)\"><g class=\"basic label-container\"><path d=\"M-91.59765625 -87 L91.59765625 -87 L91.59765625 87 L-91.59765625 87\" stroke=\"none\" stroke-width=\"0\" fill=\"#ECECFF\" style=\"\"/><path d=\"M-91.59765625 -87 C-34.00941929039565 -87, 23.578817669208703 -87, 91.59765625 -87 M-91.59765625 -87 C-32.80362473047539 -87, 25.990406789049217 -87, 91.59765625 -87 M91.59765625 -87 C91.59765625 -34.165677413374155, 91.59765625 18.66864517325169, 91.59765625 87 M91.59765625 -87 C91.59765625 -21.280267392698576, 91.59765625 44.43946521460285, 91.59765625 87 M91.59765625 87 C41.463461256378565 87, -8.67073373724287 87, -91.59765625 87 M91.59765625 87 C40.123549824100515 87, -11.35055660179897 87, -91.59765625 87 M-91.59765625 87 C-91.59765625 50.73497532802959, -91.59765625 14.469950656059183, -91.59765625 -87 M-91.59765625 87 C-91.59765625 31.752450921653022, -91.59765625 -23.495098156693956, -91.59765625 -87\" stroke=\"#9370DB\" stroke-width=\"1.3\" fill=\"none\" stroke-dasharray=\"0 0\" style=\"\"/></g><g class=\"annotation-group text\" transform=\"translate(-39.5859375, -63)\"><g class=\"label\" style=\"\" transform=\"translate(0,-12)\"><foreignObject width=\"79.171875\" height=\"24\"><div xmlns=\"http://www.w3.org/1999/xhtml\" style=\"display: table-cell; white-space: nowrap; line-height: 1.5; max-width: 122px; text-align: center;\"><span class=\"nodeLabel markdown-node-label\" style=\"\"><p>«interface»</p></span></div></foreignObject></g></g><g class=\"label-group text\" transform=\"translate(-36.9140625, -39)\"><g class=\"label\" style=\"font-weight: bolder\" transform=\"translate(0,-12)\"><foreignObject width=\"73.828125\" height=\"24\"><div xmlns=\"http://www.w3.org/1999/xhtml\" style=\"display: table-cell; white-space: nowrap; line-height: 1.5; max-width: 113px; text-align: center;\"><span class=\"nodeLabel markdown-node-label\" style=\"\"><p>Trackable</p></span></div></foreignObject></g></g><g class=\"members-group text\" transform=\"translate(-79.59765625, 9)\"/><g class=\"methods-group text\" transform=\"translate(-79.59765625, 39)\"><g class=\"label\" style=\"\" transform=\"translate(0,-12)\"><foreignObject width=\"119.609375\" height=\"24\"><div xmlns=\"http://www.w3.org/1999/xhtml\" style=\"display: table-cell; white-space: nowrap; line-height: 1.5; max-width: 164px; text-align: center;\"><span class=\"nodeLabel markdown-node-label\" style=\"\"><p>+ name() : String</p></span></div></foreignObject></g><g class=\"label\" style=\"\" transform=\"translate(0,12)\"><foreignObject width=\"109.8125\" height=\"24\"><div xmlns=\"http://www.w3.org/1999/xhtml\" style=\"display: table-cell; white-space: nowrap; line-height: 1.5; max-width: 158px; text-align: center;\"><span class=\"nodeLabel markdown-node-label\" style=\"\"><p>+ calories() : int</p></span></div></foreignObject></g></g><g class=\"divider\" style=\"\"><path d=\"M-91.59765625 -15 C-31.200180233317383 -15, 29.197295783365234 -15, 91.59765625 -15 M-91.59765625 -15 C-30.044060258744985 -15, 31.50953573251003 -15, 91.59765625 -15\" stroke=\"#9370DB\" stroke-width=\"1.3\" fill=\"none\" stroke-dasharray=\"0 0\" style=\"\"/></g><g class=\"divider\" style=\"\"><path d=\"M-91.59765625 9 C-19.748118907692287 9, 52.101418434615425 9, 91.59765625 9 M-91.59765625 9 C-35.53338359958984 9, 20.53088905082032 9, 91.59765625 9\" stroke=\"#9370DB\" stroke-width=\"1.3\" fill=\"none\" stroke-dasharray=\"0 0\" style=\"\"/></g></g><g class=\"node default \" id=\"classId-JumpingJacks-1\" transform=\"translate(75.578125, 274)\"><g class=\"basic label-container\"><path d=\"M-67.578125 -42 L67.578125 -42 L67.578125 42 L-67.578125 42\" stroke=\"none\" stroke-width=\"0\" fill=\"#ECECFF\" style=\"\"/><path d=\"M-67.578125 -42 C-25.336889950900073 -42, 16.904345098199855 -42, 67.578125 -42 M-67.578125 -42 C-16.02507945907113 -42, 35.52796608185774 -42, 67.578125 -42 M67.578125 -42 C67.578125 -17.31554708926038, 67.578125 7.368905821479238, 67.578125 42 M67.578125 -42 C67.578125 -12.203450304866276, 67.578125 17.593099390267447, 67.578125 42 M67.578125 42 C27.19474258925036 42, -13.18863982149928 42, -67.578125 42 M67.578125 42 C25.04343115130424 42, -17.49126269739152 42, -67.578125 42 M-67.578125 42 C-67.578125 18.95314589513352, -67.578125 -4.093708209732959, -67.578125 -42 M-67.578125 42 C-67.578125 8.773378262503329, -67.578125 -24.453243474993343, -67.578125 -42\" stroke=\"#9370DB\" stroke-width=\"1.3\" fill=\"none\" stroke-dasharray=\"0 0\" style=\"\"/></g><g class=\"annotation-group text\" transform=\"translate(0, -18)\"/><g class=\"label-group text\" transform=\"translate(-55.578125, -18)\"><g class=\"label\" style=\"font-weight: bolder\" transform=\"translate(0,-12)\"><foreignObject width=\"111.15625\" height=\"24\"><div xmlns=\"http://www.w3.org/1999/xhtml\" style=\"display: table-cell; white-space: nowrap; line-height: 1.5; max-width: 140px; text-align: center;\"><span class=\"nodeLabel markdown-node-label\" style=\"\"><p>JumpingJacks</p></span></div></foreignObject></g></g><g class=\"members-group text\" transform=\"translate(-55.578125, 30)\"/><g class=\"methods-group text\" transform=\"translate(-55.578125, 60)\"/><g class=\"divider\" style=\"\"><path d=\"M-67.578125 6 C-22.40740271248258 6, 22.763319575034842 6, 67.578125 6 M-67.578125 6 C-21.147863580081314 6, 25.282397839837373 6, 67.578125 6\" stroke=\"#9370DB\" stroke-width=\"1.3\" fill=\"none\" stroke-dasharray=\"0 0\" style=\"\"/></g><g class=\"divider\" style=\"\"><path d=\"M-67.578125 24 C-22.355935568395125 24, 22.86625386320975 24, 67.578125 24 M-67.578125 24 C-21.173598327721557 24, 25.230928344556887 24, 67.578125 24\" stroke=\"#9370DB\" stroke-width=\"1.3\" fill=\"none\" stroke-dasharray=\"0 0\" style=\"\"/></g></g><g class=\"node default \" id=\"classId-SledPull-2\" transform=\"translate(236.71875, 274)\"><g class=\"basic label-container\"><path d=\"M-43.5625 -42 L43.5625 -42 L43.5625 42 L-43.5625 42\" stroke=\"none\" stroke-width=\"0\" fill=\"#ECECFF\" style=\"\"/><path d=\"M-43.5625 -42 C-9.785824658363865 -42, 23.99085068327227 -42, 43.5625 -42 M-43.5625 -42 C-25.209425263442935 -42, -6.856350526885869 -42, 43.5625 -42 M43.5625 -42 C43.5625 -20.258396280355782, 43.5625 1.4832074392884351, 43.5625 42 M43.5625 -42 C43.5625 -19.835302023251696, 43.5625 2.3293959534966078, 43.5625 42 M43.5625 42 C20.392622892372504 42, -2.7772542152549917 42, -43.5625 42 M43.5625 42 C25.615872464202308 42, 7.669244928404616 42, -43.5625 42 M-43.5625 42 C-43.5625 19.00183497753538, -43.5625 -3.9963300449292376, -43.5625 -42 M-43.5625 42 C-43.5625 10.783451940854171, -43.5625 -20.433096118291658, -43.5625 -42\" stroke=\"#9370DB\" stroke-width=\"1.3\" fill=\"none\" stroke-dasharray=\"0 0\" style=\"\"/></g><g class=\"annotation-group text\" transform=\"translate(0, -18)\"/><g class=\"label-group text\" transform=\"translate(-31.5625, -18)\"><g class=\"label\" style=\"font-weight: bolder\" transform=\"translate(0,-12)\"><foreignObject width=\"63.125\" height=\"24\"><div xmlns=\"http://www.w3.org/1999/xhtml\" style=\"display: table-cell; white-space: nowrap; line-height: 1.5; max-width: 105px; text-align: center;\"><span class=\"nodeLabel markdown-node-label\" style=\"\"><p>SledPull</p></span></div></foreignObject></g></g><g class=\"members-group text\" transform=\"translate(-31.5625, 30)\"/><g class=\"methods-group text\" transform=\"translate(-31.5625, 60)\"/><g class=\"divider\" style=\"\"><path d=\"M-43.5625 6 C-19.05601668858035 6, 5.450466622839301 6, 43.5625 6 M-43.5625 6 C-21.306662548454227 6, 0.9491749030915457 6, 43.5625 6\" stroke=\"#9370DB\" stroke-width=\"1.3\" fill=\"none\" stroke-dasharray=\"0 0\" style=\"\"/></g><g class=\"divider\" style=\"\"><path d=\"M-43.5625 24 C-17.059861079342717 24, 9.442777841314566 24, 43.5625 24 M-43.5625 24 C-11.684123968219595 24, 20.19425206356081 24, 43.5625 24\" stroke=\"#9370DB\" stroke-width=\"1.3\" fill=\"none\" stroke-dasharray=\"0 0\" style=\"\"/></g></g></g></g></g></svg>"
          },
          "metadata": {}
        }
      ]
    },
    {
      "cell_type": "markdown",
      "source": [
        "## Multiple interfaces: mixing abilities\n",
        "\n",
        "Java allows a class to **implement** more than one **interface**. An **interface** is a **contract**: a named set of **method signatures** (name, parameters, return type) with no bodies. To **implement** is to promise concrete methods that match those signatures. This gives us “mix-and-match” abilities without forcing deep inheritance trees. Java keeps **single inheritance** for classes (one parent via `extends`) but permits **multiple interface** contracts (comma-separated after `implements`). The result is flexible design: we talk to objects through capability-types rather than concrete classes.\n",
        "\n",
        "Consider two small abilities. **Trackable** means an activity can state its name and an integer calorie estimate. **Timed** means an activity can state its duration in minutes. These are orthogonal: some activities are trackable but not timed, others timed but not trackable, and many are both.\n",
        "\n",
        "```java\n",
        "interface Trackable { String name(); int calories(); }\n",
        "interface Timed { int minutes(); }\n",
        "```\n",
        "\n",
        "A single class can mix both abilities. The syntax places both contracts after `implements`. Each method is short and explicit so the promise is clear.\n",
        "\n",
        "```java\n",
        "class BattleRope implements Trackable, Timed {\n",
        "    private final int slams, mins;\n",
        "    BattleRope(int slams, int mins) { this.slams = slams; this.mins = mins; }\n",
        "    public String name() { return \"Battle Rope\"; }\n",
        "    public int calories() { return slams / 2 + mins * 3; }\n",
        "    public int minutes() { return mins; }\n",
        "}\n",
        "```\n",
        "\n",
        "Another class can fulfill the same contracts differently. The interface type stays the same; the implementation varies. This is **polymorphism**: a single interface reference can point to many concrete classes, and the right method bodies run at runtime.\n",
        "\n",
        "```java\n",
        "class HillSprints implements Trackable, Timed {\n",
        "    private final int repeats, mins;\n",
        "    HillSprints(int repeats, int mins) { this.repeats = repeats; this.mins = mins; }\n",
        "    public String name() { return \"Hill Sprints\"; }\n",
        "    public int calories() { return repeats * 8; }\n",
        "    public int minutes() { return mins; }\n",
        "}\n",
        "```\n",
        "\n",
        "Once abilities are formalized as interfaces, client code can program “to the contract.” We can store mixed activities as `Timed` when we care about duration, or as `Trackable` when we care about calories. The compiler enforces correct use without knowing concrete classes.\n",
        "\n",
        "```java\n",
        "// Idea sketch (not a full program):\n",
        "Timed t = new BattleRope(120, 10);\n",
        "Trackable x = new HillSprints(6, 12);\n",
        "// t.minutes();                       // OK: Timed ability\n",
        "// x.calories(); x.name();            // OK: Trackable ability\n",
        "```\n"
      ],
      "metadata": {
        "id": "fLlsxD3DsLZ7"
      }
    },
    {
      "cell_type": "code",
      "source": [
        "# @title\n",
        "mm(\"\"\"\n",
        "classDiagram\n",
        "    class Trackable {\n",
        "      <<interface>>\n",
        "      + name() String\n",
        "      + calories() int\n",
        "    }\n",
        "    class Timed {\n",
        "      <<interface>>\n",
        "      + minutes() int\n",
        "    }\n",
        "    Trackable <|.. BattleRope\n",
        "    Timed <|.. BattleRope\n",
        "    Trackable <|.. HillSprints\n",
        "    Timed <|.. HillSprints\n",
        "\"\"\")"
      ],
      "metadata": {
        "cellView": "form",
        "colab": {
          "base_uri": "https://localhost:8080/",
          "height": 345
        },
        "id": "k9cLOGuzsMKB",
        "outputId": "c3f99b0d-152c-46ad-bbb2-10b636118baa"
      },
      "execution_count": null,
      "outputs": [
        {
          "output_type": "display_data",
          "data": {
            "text/plain": [
              "<IPython.core.display.SVG object>"
            ],
            "image/svg+xml": "<svg xmlns=\"http://www.w3.org/2000/svg\" xmlns:xlink=\"http://www.w3.org/1999/xlink\" id=\"mermaid-svg\" width=\"100%\" class=\"classDiagram\" style=\"max-width: 423.484375px;\" viewBox=\"0 0 423.484375 324\" role=\"graphics-document document\" aria-roledescription=\"class\"><style xmlns=\"http://www.w3.org/1999/xhtml\">@import url(&quot;https://cdnjs.cloudflare.com/ajax/libs/font-awesome/6.7.2/css/all.min.css&quot;);</style><style>#mermaid-svg{font-family:&quot;trebuchet ms&quot;,verdana,arial,sans-serif;font-size:16px;fill:#333;}@keyframes edge-animation-frame{from{stroke-dashoffset:0;}}@keyframes dash{to{stroke-dashoffset:0;}}#mermaid-svg .edge-animation-slow{stroke-dasharray:9,5!important;stroke-dashoffset:900;animation:dash 50s linear infinite;stroke-linecap:round;}#mermaid-svg .edge-animation-fast{stroke-dasharray:9,5!important;stroke-dashoffset:900;animation:dash 20s linear infinite;stroke-linecap:round;}#mermaid-svg .error-icon{fill:#552222;}#mermaid-svg .error-text{fill:#552222;stroke:#552222;}#mermaid-svg .edge-thickness-normal{stroke-width:1px;}#mermaid-svg .edge-thickness-thick{stroke-width:3.5px;}#mermaid-svg .edge-pattern-solid{stroke-dasharray:0;}#mermaid-svg .edge-thickness-invisible{stroke-width:0;fill:none;}#mermaid-svg .edge-pattern-dashed{stroke-dasharray:3;}#mermaid-svg .edge-pattern-dotted{stroke-dasharray:2;}#mermaid-svg .marker{fill:#333333;stroke:#333333;}#mermaid-svg .marker.cross{stroke:#333333;}#mermaid-svg svg{font-family:&quot;trebuchet ms&quot;,verdana,arial,sans-serif;font-size:16px;}#mermaid-svg p{margin:0;}#mermaid-svg g.classGroup text{fill:#9370DB;stroke:none;font-family:&quot;trebuchet ms&quot;,verdana,arial,sans-serif;font-size:10px;}#mermaid-svg g.classGroup text .title{font-weight:bolder;}#mermaid-svg .nodeLabel,#mermaid-svg .edgeLabel{color:#131300;}#mermaid-svg .edgeLabel .label rect{fill:#ECECFF;}#mermaid-svg .label text{fill:#131300;}#mermaid-svg .labelBkg{background:#ECECFF;}#mermaid-svg .edgeLabel .label span{background:#ECECFF;}#mermaid-svg .classTitle{font-weight:bolder;}#mermaid-svg .node rect,#mermaid-svg .node circle,#mermaid-svg .node ellipse,#mermaid-svg .node polygon,#mermaid-svg .node path{fill:#ECECFF;stroke:#9370DB;stroke-width:1px;}#mermaid-svg .divider{stroke:#9370DB;stroke-width:1;}#mermaid-svg g.clickable{cursor:pointer;}#mermaid-svg g.classGroup rect{fill:#ECECFF;stroke:#9370DB;}#mermaid-svg g.classGroup line{stroke:#9370DB;stroke-width:1;}#mermaid-svg .classLabel .box{stroke:none;stroke-width:0;fill:#ECECFF;opacity:0.5;}#mermaid-svg .classLabel .label{fill:#9370DB;font-size:10px;}#mermaid-svg .relation{stroke:#333333;stroke-width:1;fill:none;}#mermaid-svg .dashed-line{stroke-dasharray:3;}#mermaid-svg .dotted-line{stroke-dasharray:1 2;}#mermaid-svg #compositionStart,#mermaid-svg .composition{fill:#333333!important;stroke:#333333!important;stroke-width:1;}#mermaid-svg #compositionEnd,#mermaid-svg .composition{fill:#333333!important;stroke:#333333!important;stroke-width:1;}#mermaid-svg #dependencyStart,#mermaid-svg .dependency{fill:#333333!important;stroke:#333333!important;stroke-width:1;}#mermaid-svg #dependencyStart,#mermaid-svg .dependency{fill:#333333!important;stroke:#333333!important;stroke-width:1;}#mermaid-svg #extensionStart,#mermaid-svg .extension{fill:transparent!important;stroke:#333333!important;stroke-width:1;}#mermaid-svg #extensionEnd,#mermaid-svg .extension{fill:transparent!important;stroke:#333333!important;stroke-width:1;}#mermaid-svg #aggregationStart,#mermaid-svg .aggregation{fill:transparent!important;stroke:#333333!important;stroke-width:1;}#mermaid-svg #aggregationEnd,#mermaid-svg .aggregation{fill:transparent!important;stroke:#333333!important;stroke-width:1;}#mermaid-svg #lollipopStart,#mermaid-svg .lollipop{fill:#ECECFF!important;stroke:#333333!important;stroke-width:1;}#mermaid-svg #lollipopEnd,#mermaid-svg .lollipop{fill:#ECECFF!important;stroke:#333333!important;stroke-width:1;}#mermaid-svg .edgeTerminals{font-size:11px;line-height:initial;}#mermaid-svg .classTitleText{text-anchor:middle;font-size:18px;fill:#333;}#mermaid-svg .label-icon{display:inline-block;height:1em;overflow:visible;vertical-align:-0.125em;}#mermaid-svg .node .label-icon path{fill:currentColor;stroke:revert;stroke-width:revert;}#mermaid-svg :root{--mermaid-font-family:&quot;trebuchet ms&quot;,verdana,arial,sans-serif;}</style><g><defs><marker id=\"mermaid-svg_class-aggregationStart\" class=\"marker aggregation class\" refX=\"18\" refY=\"7\" markerWidth=\"190\" markerHeight=\"240\" orient=\"auto\"><path d=\"M 18,7 L9,13 L1,7 L9,1 Z\"/></marker></defs><defs><marker id=\"mermaid-svg_class-aggregationEnd\" class=\"marker aggregation class\" refX=\"1\" refY=\"7\" markerWidth=\"20\" markerHeight=\"28\" orient=\"auto\"><path d=\"M 18,7 L9,13 L1,7 L9,1 Z\"/></marker></defs><defs><marker id=\"mermaid-svg_class-extensionStart\" class=\"marker extension class\" refX=\"18\" refY=\"7\" markerWidth=\"190\" markerHeight=\"240\" orient=\"auto\"><path d=\"M 1,7 L18,13 V 1 Z\"/></marker></defs><defs><marker id=\"mermaid-svg_class-extensionEnd\" class=\"marker extension class\" refX=\"1\" refY=\"7\" markerWidth=\"20\" markerHeight=\"28\" orient=\"auto\"><path d=\"M 1,1 V 13 L18,7 Z\"/></marker></defs><defs><marker id=\"mermaid-svg_class-compositionStart\" class=\"marker composition class\" refX=\"18\" refY=\"7\" markerWidth=\"190\" markerHeight=\"240\" orient=\"auto\"><path d=\"M 18,7 L9,13 L1,7 L9,1 Z\"/></marker></defs><defs><marker id=\"mermaid-svg_class-compositionEnd\" class=\"marker composition class\" refX=\"1\" refY=\"7\" markerWidth=\"20\" markerHeight=\"28\" orient=\"auto\"><path d=\"M 18,7 L9,13 L1,7 L9,1 Z\"/></marker></defs><defs><marker id=\"mermaid-svg_class-dependencyStart\" class=\"marker dependency class\" refX=\"6\" refY=\"7\" markerWidth=\"190\" markerHeight=\"240\" orient=\"auto\"><path d=\"M 5,7 L9,13 L1,7 L9,1 Z\"/></marker></defs><defs><marker id=\"mermaid-svg_class-dependencyEnd\" class=\"marker dependency class\" refX=\"13\" refY=\"7\" markerWidth=\"20\" markerHeight=\"28\" orient=\"auto\"><path d=\"M 18,7 L9,13 L14,7 L9,1 Z\"/></marker></defs><defs><marker id=\"mermaid-svg_class-lollipopStart\" class=\"marker lollipop class\" refX=\"13\" refY=\"7\" markerWidth=\"190\" markerHeight=\"240\" orient=\"auto\"><circle stroke=\"black\" fill=\"transparent\" cx=\"7\" cy=\"7\" r=\"6\"/></marker></defs><defs><marker id=\"mermaid-svg_class-lollipopEnd\" class=\"marker lollipop class\" refX=\"1\" refY=\"7\" markerWidth=\"190\" markerHeight=\"240\" orient=\"auto\"><circle stroke=\"black\" fill=\"transparent\" cx=\"7\" cy=\"7\" r=\"6\"/></marker></defs><g class=\"root\"><g class=\"clusters\"/><g class=\"edgePaths\"><path d=\"M80.898,199.72L80.681,200.933C80.464,202.146,80.031,204.573,80.436,209.953C80.841,215.333,82.085,223.667,82.707,227.833L83.329,232\" id=\"id_Trackable_BattleRope_1\" class=\" edge-thickness-normal edge-pattern-dashed relation\" style=\"\" marker-start=\"url(#mermaid-svg_class-extensionStart)\"/><path d=\"M231.68,182.045L227.061,186.204C222.443,190.364,213.206,198.682,198.563,208.713C183.921,218.744,163.872,230.489,153.848,236.361L143.824,242.233\" id=\"id_Timed_BattleRope_2\" class=\" edge-thickness-normal edge-pattern-dashed relation\" style=\"\" marker-start=\"url(#mermaid-svg_class-extensionStart)\"/><path d=\"M204.571,189.532L207.804,192.443C211.037,195.355,217.503,201.177,231.13,210.177C244.757,219.178,265.544,231.355,275.938,237.444L286.332,243.533\" id=\"id_Trackable_HillSprints_3\" class=\" edge-thickness-normal edge-pattern-dashed relation\" style=\"\" marker-start=\"url(#mermaid-svg_class-extensionStart)\"/><path d=\"M344.897,187.72L345.471,190.933C346.045,194.146,347.192,200.573,347.144,207.953C347.096,215.333,345.852,223.667,345.23,227.833L344.609,232\" id=\"id_Timed_HillSprints_4\" class=\" edge-thickness-normal edge-pattern-dashed relation\" style=\"\" marker-start=\"url(#mermaid-svg_class-extensionStart)\"/></g><g class=\"edgeLabels\"><g class=\"edgeLabel\"><g class=\"label\" transform=\"translate(0, -12)\"><foreignObject width=\"0\" height=\"24\"><div xmlns=\"http://www.w3.org/1999/xhtml\" style=\"display: table-cell; white-space: nowrap; line-height: 1.5; max-width: 200px; text-align: center;\" class=\"labelBkg\"><span style=\";display: inline-block\" class=\"edgeLabel \"/></div></foreignObject></g></g><g class=\"edgeLabel\"><g class=\"label\" transform=\"translate(0, -12)\"><foreignObject width=\"0\" height=\"24\"><div xmlns=\"http://www.w3.org/1999/xhtml\" style=\"display: table-cell; white-space: nowrap; line-height: 1.5; max-width: 200px; text-align: center;\" class=\"labelBkg\"><span style=\";display: inline-block\" class=\"edgeLabel \"/></div></foreignObject></g></g><g class=\"edgeLabel\"><g class=\"label\" transform=\"translate(0, -12)\"><foreignObject width=\"0\" height=\"24\"><div xmlns=\"http://www.w3.org/1999/xhtml\" style=\"display: table-cell; white-space: nowrap; line-height: 1.5; max-width: 200px; text-align: center;\" class=\"labelBkg\"><span style=\";display: inline-block\" class=\"edgeLabel \"/></div></foreignObject></g></g><g class=\"edgeLabel\"><g class=\"label\" transform=\"translate(0, -12)\"><foreignObject width=\"0\" height=\"24\"><div xmlns=\"http://www.w3.org/1999/xhtml\" style=\"display: table-cell; white-space: nowrap; line-height: 1.5; max-width: 200px; text-align: center;\" class=\"labelBkg\"><span style=\";display: inline-block\" class=\"edgeLabel \"/></div></foreignObject></g></g></g><g class=\"nodes\"><g class=\"node default \" id=\"classId-Trackable-0\" transform=\"translate(99.59765625, 95)\"><g class=\"basic label-container\"><path d=\"M-91.59765625 -87 L91.59765625 -87 L91.59765625 87 L-91.59765625 87\" stroke=\"none\" stroke-width=\"0\" fill=\"#ECECFF\" style=\"\"/><path d=\"M-91.59765625 -87 C-24.371869069662765 -87, 42.85391811067447 -87, 91.59765625 -87 M-91.59765625 -87 C-20.192964286829124 -87, 51.21172767634175 -87, 91.59765625 -87 M91.59765625 -87 C91.59765625 -50.99204322863529, 91.59765625 -14.984086457270578, 91.59765625 87 M91.59765625 -87 C91.59765625 -26.937320956208026, 91.59765625 33.12535808758395, 91.59765625 87 M91.59765625 87 C47.53050516298448 87, 3.463354075968965 87, -91.59765625 87 M91.59765625 87 C36.12771190930748 87, -19.342232431385042 87, -91.59765625 87 M-91.59765625 87 C-91.59765625 21.9739243659682, -91.59765625 -43.0521512680636, -91.59765625 -87 M-91.59765625 87 C-91.59765625 44.70346648638561, -91.59765625 2.406932972771216, -91.59765625 -87\" stroke=\"#9370DB\" stroke-width=\"1.3\" fill=\"none\" stroke-dasharray=\"0 0\" style=\"\"/></g><g class=\"annotation-group text\" transform=\"translate(-39.5859375, -63)\"><g class=\"label\" style=\"\" transform=\"translate(0,-12)\"><foreignObject width=\"79.171875\" height=\"24\"><div xmlns=\"http://www.w3.org/1999/xhtml\" style=\"display: table-cell; white-space: nowrap; line-height: 1.5; max-width: 122px; text-align: center;\"><span class=\"nodeLabel markdown-node-label\" style=\"\"><p>«interface»</p></span></div></foreignObject></g></g><g class=\"label-group text\" transform=\"translate(-36.9140625, -39)\"><g class=\"label\" style=\"font-weight: bolder\" transform=\"translate(0,-12)\"><foreignObject width=\"73.828125\" height=\"24\"><div xmlns=\"http://www.w3.org/1999/xhtml\" style=\"display: table-cell; white-space: nowrap; line-height: 1.5; max-width: 113px; text-align: center;\"><span class=\"nodeLabel markdown-node-label\" style=\"\"><p>Trackable</p></span></div></foreignObject></g></g><g class=\"members-group text\" transform=\"translate(-79.59765625, 9)\"/><g class=\"methods-group text\" transform=\"translate(-79.59765625, 39)\"><g class=\"label\" style=\"\" transform=\"translate(0,-12)\"><foreignObject width=\"119.609375\" height=\"24\"><div xmlns=\"http://www.w3.org/1999/xhtml\" style=\"display: table-cell; white-space: nowrap; line-height: 1.5; max-width: 164px; text-align: center;\"><span class=\"nodeLabel markdown-node-label\" style=\"\"><p>+ name() : String</p></span></div></foreignObject></g><g class=\"label\" style=\"\" transform=\"translate(0,12)\"><foreignObject width=\"109.8125\" height=\"24\"><div xmlns=\"http://www.w3.org/1999/xhtml\" style=\"display: table-cell; white-space: nowrap; line-height: 1.5; max-width: 158px; text-align: center;\"><span class=\"nodeLabel markdown-node-label\" style=\"\"><p>+ calories() : int</p></span></div></foreignObject></g></g><g class=\"divider\" style=\"\"><path d=\"M-91.59765625 -15 C-38.68919421944607 -15, 14.219267811107855 -15, 91.59765625 -15 M-91.59765625 -15 C-20.200846499296077 -15, 51.195963251407846 -15, 91.59765625 -15\" stroke=\"#9370DB\" stroke-width=\"1.3\" fill=\"none\" stroke-dasharray=\"0 0\" style=\"\"/></g><g class=\"divider\" style=\"\"><path d=\"M-91.59765625 9 C-21.066786618887818 9, 49.464083012224364 9, 91.59765625 9 M-91.59765625 9 C-46.440640206566336 9, -1.2836241631326715 9, 91.59765625 9\" stroke=\"#9370DB\" stroke-width=\"1.3\" fill=\"none\" stroke-dasharray=\"0 0\" style=\"\"/></g></g><g class=\"node default \" id=\"classId-Timed-1\" transform=\"translate(328.33984375, 95)\"><g class=\"basic label-container\"><path d=\"M-87.14453125 -75 L87.14453125 -75 L87.14453125 75 L-87.14453125 75\" stroke=\"none\" stroke-width=\"0\" fill=\"#ECECFF\" style=\"\"/><path d=\"M-87.14453125 -75 C-48.502870988272115 -75, -9.861210726544229 -75, 87.14453125 -75 M-87.14453125 -75 C-31.93202585310243 -75, 23.28047954379514 -75, 87.14453125 -75 M87.14453125 -75 C87.14453125 -25.232599369471153, 87.14453125 24.534801261057694, 87.14453125 75 M87.14453125 -75 C87.14453125 -43.528397274395225, 87.14453125 -12.05679454879045, 87.14453125 75 M87.14453125 75 C31.135351033939386 75, -24.873829182121227 75, -87.14453125 75 M87.14453125 75 C49.793664045607684 75, 12.442796841215369 75, -87.14453125 75 M-87.14453125 75 C-87.14453125 32.77549758795005, -87.14453125 -9.449004824099902, -87.14453125 -75 M-87.14453125 75 C-87.14453125 20.422140775138608, -87.14453125 -34.155718449722784, -87.14453125 -75\" stroke=\"#9370DB\" stroke-width=\"1.3\" fill=\"none\" stroke-dasharray=\"0 0\" style=\"\"/></g><g class=\"annotation-group text\" transform=\"translate(-39.5859375, -51)\"><g class=\"label\" style=\"\" transform=\"translate(0,-12)\"><foreignObject width=\"79.171875\" height=\"24\"><div xmlns=\"http://www.w3.org/1999/xhtml\" style=\"display: table-cell; white-space: nowrap; line-height: 1.5; max-width: 122px; text-align: center;\"><span class=\"nodeLabel markdown-node-label\" style=\"\"><p>«interface»</p></span></div></foreignObject></g></g><g class=\"label-group text\" transform=\"translate(-23.4140625, -27)\"><g class=\"label\" style=\"font-weight: bolder\" transform=\"translate(0,-12)\"><foreignObject width=\"46.828125\" height=\"24\"><div xmlns=\"http://www.w3.org/1999/xhtml\" style=\"display: table-cell; white-space: nowrap; line-height: 1.5; max-width: 91px; text-align: center;\"><span class=\"nodeLabel markdown-node-label\" style=\"\"><p>Timed</p></span></div></foreignObject></g></g><g class=\"members-group text\" transform=\"translate(-75.14453125, 21)\"/><g class=\"methods-group text\" transform=\"translate(-75.14453125, 51)\"><g class=\"label\" style=\"\" transform=\"translate(0,-12)\"><foreignObject width=\"110.703125\" height=\"24\"><div xmlns=\"http://www.w3.org/1999/xhtml\" style=\"display: table-cell; white-space: nowrap; line-height: 1.5; max-width: 159px; text-align: center;\"><span class=\"nodeLabel markdown-node-label\" style=\"\"><p>+ minutes() : int</p></span></div></foreignObject></g></g><g class=\"divider\" style=\"\"><path d=\"M-87.14453125 -3 C-31.85495554257897 -3, 23.43462016484206 -3, 87.14453125 -3 M-87.14453125 -3 C-29.52550498302149 -3, 28.093521283957017 -3, 87.14453125 -3\" stroke=\"#9370DB\" stroke-width=\"1.3\" fill=\"none\" stroke-dasharray=\"0 0\" style=\"\"/></g><g class=\"divider\" style=\"\"><path d=\"M-87.14453125 21 C-20.084750564753776 21, 46.97503012049245 21, 87.14453125 21 M-87.14453125 21 C-26.971717504664923 21, 33.201096240670154 21, 87.14453125 21\" stroke=\"#9370DB\" stroke-width=\"1.3\" fill=\"none\" stroke-dasharray=\"0 0\" style=\"\"/></g></g><g class=\"node default \" id=\"classId-BattleRope-2\" transform=\"translate(89.59765625, 274)\"><g class=\"basic label-container\"><path d=\"M-54.2265625 -42 L54.2265625 -42 L54.2265625 42 L-54.2265625 42\" stroke=\"none\" stroke-width=\"0\" fill=\"#ECECFF\" style=\"\"/><path d=\"M-54.2265625 -42 C-18.40162514095416 -42, 17.42331221809168 -42, 54.2265625 -42 M-54.2265625 -42 C-16.228428917509852 -42, 21.769704664980296 -42, 54.2265625 -42 M54.2265625 -42 C54.2265625 -8.92775109466627, 54.2265625 24.14449781066746, 54.2265625 42 M54.2265625 -42 C54.2265625 -25.003707831987697, 54.2265625 -8.007415663975394, 54.2265625 42 M54.2265625 42 C14.122228913307929 42, -25.982104673384143 42, -54.2265625 42 M54.2265625 42 C17.38285767959856 42, -19.460847140802883 42, -54.2265625 42 M-54.2265625 42 C-54.2265625 22.059735010921408, -54.2265625 2.1194700218428153, -54.2265625 -42 M-54.2265625 42 C-54.2265625 14.25271259294652, -54.2265625 -13.494574814106961, -54.2265625 -42\" stroke=\"#9370DB\" stroke-width=\"1.3\" fill=\"none\" stroke-dasharray=\"0 0\" style=\"\"/></g><g class=\"annotation-group text\" transform=\"translate(0, -18)\"/><g class=\"label-group text\" transform=\"translate(-42.2265625, -18)\"><g class=\"label\" style=\"font-weight: bolder\" transform=\"translate(0,-12)\"><foreignObject width=\"84.453125\" height=\"24\"><div xmlns=\"http://www.w3.org/1999/xhtml\" style=\"display: table-cell; white-space: nowrap; line-height: 1.5; max-width: 122px; text-align: center;\"><span class=\"nodeLabel markdown-node-label\" style=\"\"><p>BattleRope</p></span></div></foreignObject></g></g><g class=\"members-group text\" transform=\"translate(-42.2265625, 30)\"/><g class=\"methods-group text\" transform=\"translate(-42.2265625, 60)\"/><g class=\"divider\" style=\"\"><path d=\"M-54.2265625 6 C-22.72351235905894 6, 8.77953778188212 6, 54.2265625 6 M-54.2265625 6 C-13.612175474669868 6, 27.002211550660263 6, 54.2265625 6\" stroke=\"#9370DB\" stroke-width=\"1.3\" fill=\"none\" stroke-dasharray=\"0 0\" style=\"\"/></g><g class=\"divider\" style=\"\"><path d=\"M-54.2265625 24 C-24.64565156972371 24, 4.935259360552578 24, 54.2265625 24 M-54.2265625 24 C-20.049423010430374 24, 14.127716479139252 24, 54.2265625 24\" stroke=\"#9370DB\" stroke-width=\"1.3\" fill=\"none\" stroke-dasharray=\"0 0\" style=\"\"/></g></g><g class=\"node default \" id=\"classId-HillSprints-3\" transform=\"translate(338.33984375, 274)\"><g class=\"basic label-container\"><path d=\"M-52.0078125 -42 L52.0078125 -42 L52.0078125 42 L-52.0078125 42\" stroke=\"none\" stroke-width=\"0\" fill=\"#ECECFF\" style=\"\"/><path d=\"M-52.0078125 -42 C-26.45729701481037 -42, -0.9067815296207371 -42, 52.0078125 -42 M-52.0078125 -42 C-25.912056724845105 -42, 0.18369905030979083 -42, 52.0078125 -42 M52.0078125 -42 C52.0078125 -12.940088309789708, 52.0078125 16.119823380420584, 52.0078125 42 M52.0078125 -42 C52.0078125 -8.707543660860452, 52.0078125 24.584912678279096, 52.0078125 42 M52.0078125 42 C22.742444623663925 42, -6.52292325267215 42, -52.0078125 42 M52.0078125 42 C26.574633315377184 42, 1.1414541307543686 42, -52.0078125 42 M-52.0078125 42 C-52.0078125 23.300917214715152, -52.0078125 4.601834429430305, -52.0078125 -42 M-52.0078125 42 C-52.0078125 22.03788357055145, -52.0078125 2.075767141102901, -52.0078125 -42\" stroke=\"#9370DB\" stroke-width=\"1.3\" fill=\"none\" stroke-dasharray=\"0 0\" style=\"\"/></g><g class=\"annotation-group text\" transform=\"translate(0, -18)\"/><g class=\"label-group text\" transform=\"translate(-40.0078125, -18)\"><g class=\"label\" style=\"font-weight: bolder\" transform=\"translate(0,-12)\"><foreignObject width=\"80.015625\" height=\"24\"><div xmlns=\"http://www.w3.org/1999/xhtml\" style=\"display: table-cell; white-space: nowrap; line-height: 1.5; max-width: 120px; text-align: center;\"><span class=\"nodeLabel markdown-node-label\" style=\"\"><p>HillSprints</p></span></div></foreignObject></g></g><g class=\"members-group text\" transform=\"translate(-40.0078125, 30)\"/><g class=\"methods-group text\" transform=\"translate(-40.0078125, 60)\"/><g class=\"divider\" style=\"\"><path d=\"M-52.0078125 6 C-20.05753381896098 6, 11.89274486207804 6, 52.0078125 6 M-52.0078125 6 C-30.46845401266124 6, -8.92909552532248 6, 52.0078125 6\" stroke=\"#9370DB\" stroke-width=\"1.3\" fill=\"none\" stroke-dasharray=\"0 0\" style=\"\"/></g><g class=\"divider\" style=\"\"><path d=\"M-52.0078125 24 C-11.966989954877526 24, 28.073832590244947 24, 52.0078125 24 M-52.0078125 24 C-12.579109173557896 24, 26.849594152884208 24, 52.0078125 24\" stroke=\"#9370DB\" stroke-width=\"1.3\" fill=\"none\" stroke-dasharray=\"0 0\" style=\"\"/></g></g></g></g></g></svg>"
          },
          "metadata": {}
        }
      ]
    },
    {
      "cell_type": "markdown",
      "source": [
        "## Exercise: Implement a Tiny Interface (with new classes)\n",
        "\n",
        "Interfaces are one of Java’s quiet superpowers. An **interface** is a **contract**—a named set of **method signatures** (method name + parameter types + return type) with no bodies. When a class **implements** an interface, it promises to provide concrete methods that match those signatures exactly. The reward is **polymorphism**: code that talks to the contract can work with many different classes, each answering in its own way.\n",
        "\n",
        "Think of this like event rules at a school competition. The rulebook says, “Every team must have a team name and a score.” That’s the interface. Chess teams and robotics teams can both enter, but they compute scores differently. The judge’s clipboard doesn’t care how each team scored; it just calls `name()` and `score()` on everyone and tallies the results.\n",
        "\n",
        "### The contract (define first, then use)\n",
        "\n",
        "We’ll define a minimal interface called `Scorable`. Put it in its own file. The names are intentionally plain so your focus stays on the shape of the API."
      ],
      "metadata": {
        "id": "0x0AttxvuNkO"
      }
    },
    {
      "cell_type": "code",
      "source": [
        "%%writefile Scorable.java\n",
        "public interface Scorable {\n",
        "    String name();   // short label for display\n",
        "    int score();     // simple integer score\n",
        "}"
      ],
      "metadata": {
        "colab": {
          "base_uri": "https://localhost:8080/"
        },
        "id": "BUxOVeUguOV_",
        "outputId": "46b1a555-188c-47f9-843a-b931af233ed5"
      },
      "execution_count": null,
      "outputs": [
        {
          "output_type": "stream",
          "name": "stdout",
          "text": [
            "Writing Scorable.java\n"
          ]
        }
      ]
    },
    {
      "cell_type": "markdown",
      "source": [
        "This `interface` introduces the contract. Each line inside declares an **abstract method**—a method with a signature but no body. Classes will provide the bodies.\n",
        "\n",
        "### Two brand-new classes that implement the contract\n",
        "\n",
        "You will write two new classes. Keep fields `private`, initialize them in a constructor, and use `@Override` so the compiler confirms you matched the method signatures exactly.\n"
      ],
      "metadata": {
        "id": "RrgH4gD5uTTj"
      }
    },
    {
      "cell_type": "code",
      "source": [
        "%%writefile BearCrawl.java\n",
        "public class BearCrawl implements Scorable {\n",
        "    // TODO: private int meters, slope;\n",
        "\n",
        "    // TODO: public BearCrawl(int meters, int slope) { ... }\n",
        "\n",
        "    @Override\n",
        "    public String name() {\n",
        "        // TODO: return the exercise name;\n",
        "        return null;\n",
        "    }\n",
        "\n",
        "    @Override\n",
        "    public int score() {\n",
        "        // Transparent rule (easy to sanity-check):\n",
        "        // e.g., meters + 2 * slope\n",
        "        return 0;\n",
        "    }\n",
        "}"
      ],
      "metadata": {
        "id": "OJTV14upugBs"
      },
      "execution_count": null,
      "outputs": []
    },
    {
      "cell_type": "code",
      "source": [
        "%%writefile KettlebellSwing.java\n",
        "public class KettlebellSwing implements Scorable {\n",
        "    // TODO: private int sets, kg;\n",
        "\n",
        "    // TODO: public KettlebellSwing(int sets, int kg) { ... }\n",
        "\n",
        "    @Override\n",
        "    public String name() {\n",
        "        // TODO: return exercise name;\n",
        "        return null;\n",
        "    }\n",
        "\n",
        "    @Override\n",
        "    public int score() {\n",
        "        // Simple, explainable rule (choose one):\n",
        "        // e.g., sets * kg / 5\n",
        "        return 0;\n",
        "    }\n",
        "}"
      ],
      "metadata": {
        "colab": {
          "base_uri": "https://localhost:8080/"
        },
        "id": "6pqgPl-jubX7",
        "outputId": "a4dc9ca3-8032-4b15-b3a5-fbeb44ddefeb"
      },
      "execution_count": null,
      "outputs": [
        {
          "output_type": "stream",
          "name": "stdout",
          "text": [
            "Writing KettlebellSwing.java\n"
          ]
        }
      ]
    },
    {
      "cell_type": "markdown",
      "source": [
        "Notice the rhythm: declare fields, write a constructor that stores them, then implement the two required methods. The formulas should be simple enough that you can explain them to a friend without a calculator.\n",
        "\n",
        "### A small tester that treats everything through the interface\n",
        "\n",
        "Your tester should know only the **interface type** `Scorable`. It will create a few different objects, ask each for its name and score, and total the results. Add a third, custom class of your own design (different from the two above) to prove the pattern is general."
      ],
      "metadata": {
        "id": "evywGEa3vE1U"
      }
    },
    {
      "cell_type": "code",
      "source": [
        "%%writefile ScorableDemo.java\n",
        "public class ScorableDemo {\n",
        "    public static void main(String[] args) {\n",
        "        Scorable[] items = {\n",
        "            // TODO: new KettlebellSwing(...),\n",
        "            // TODO: new BearCrawl(...),\n",
        "            // TODO: new YourCustomClass(...)\n",
        "        };\n",
        "\n",
        "        int total = 0;\n",
        "        for (Scorable s : items) {\n",
        "            System.out.println(s.name() + \" -> \" + s.score());\n",
        "            total += s.score();\n",
        "        }\n",
        "        System.out.println(\"Total score: \" + total);\n",
        "    }\n",
        "}\n"
      ],
      "metadata": {
        "colab": {
          "base_uri": "https://localhost:8080/"
        },
        "id": "zXjVz5DuvKTU",
        "outputId": "66117d9e-20c1-4d84-d2b8-00e91d1a4871"
      },
      "execution_count": null,
      "outputs": [
        {
          "output_type": "stream",
          "name": "stdout",
          "text": [
            "Writing ScorableDemo.java\n"
          ]
        }
      ]
    },
    {
      "cell_type": "code",
      "source": [
        "!javac Scorable.java\n",
        "!java ScorableDemo"
      ],
      "metadata": {
        "id": "l-jUchwEviHU"
      },
      "execution_count": null,
      "outputs": []
    },
    {
      "cell_type": "markdown",
      "source": [
        "If you’ve matched the method signatures properly, the compiler is happy. At runtime, **dynamic dispatch** ensures the correct `score()` runs for each object.\n",
        "\n",
        "### What each term means (so you can check yourself)\n",
        "\n",
        "| **Term**             | **Precise definition**                                         | **How to verify in your code**                                                 |\n",
        "| -------------------- | -------------------------------------------------------------- | ------------------------------------------------------------------------------ |\n",
        "| **interface**        | A contract listing method signatures with no bodies.           | File has `public interface Scorable` and only method declarations.             |\n",
        "| **implements**       | A class attaches a contract and promises those methods.        | Class header is `class X implements Scorable`.                                 |\n",
        "| **method signature** | Method name + parameter types + return type.                   | `String name()` and `int score()` appear exactly, no extra params.             |\n",
        "| **abstract method**  | Declared without a body; must be implemented by classes.       | Methods in `Scorable` end with `;` not `{ }`.                                  |\n",
        "| **polymorphism**     | Use a parent/interface type to refer to many concrete objects. | `Scorable[] items` holds different classes; the loop still works.              |\n",
        "| **dynamic dispatch** | Runtime chooses which overridden body to execute.              | Each object’s own `score()` runs, even though the variable type is `Scorable`. |\n",
        "\n",
        "### A small map of what you’re building\n"
      ],
      "metadata": {
        "id": "njNQI09evQKS"
      }
    },
    {
      "cell_type": "code",
      "source": [
        "# @title\n",
        "mm(\"\"\"\n",
        "classDiagram\n",
        "    class Scorable {\n",
        "      <<interface>>\n",
        "      + name() String\n",
        "      + score() int\n",
        "    }\n",
        "    Scorable <|.. KettlebellSwing\n",
        "    Scorable <|.. BearCrawl\n",
        "    Scorable <|.. YourCustomClass\"\"\"\n",
        ")"
      ],
      "metadata": {
        "colab": {
          "base_uri": "https://localhost:8080/",
          "height": 345
        },
        "cellView": "form",
        "id": "543ZxQTkvVKE",
        "outputId": "58006c57-d34d-42e9-84ce-8c901969ee7d"
      },
      "execution_count": null,
      "outputs": [
        {
          "output_type": "display_data",
          "data": {
            "text/plain": [
              "<IPython.core.display.SVG object>"
            ],
            "image/svg+xml": "<svg xmlns=\"http://www.w3.org/2000/svg\" xmlns:xlink=\"http://www.w3.org/1999/xlink\" id=\"mermaid-svg\" width=\"100%\" class=\"classDiagram\" style=\"max-width: 523.796875px;\" viewBox=\"0 0 523.796875 324\" role=\"graphics-document document\" aria-roledescription=\"class\"><style xmlns=\"http://www.w3.org/1999/xhtml\">@import url(&quot;https://cdnjs.cloudflare.com/ajax/libs/font-awesome/6.7.2/css/all.min.css&quot;);</style><style>#mermaid-svg{font-family:&quot;trebuchet ms&quot;,verdana,arial,sans-serif;font-size:16px;fill:#333;}@keyframes edge-animation-frame{from{stroke-dashoffset:0;}}@keyframes dash{to{stroke-dashoffset:0;}}#mermaid-svg .edge-animation-slow{stroke-dasharray:9,5!important;stroke-dashoffset:900;animation:dash 50s linear infinite;stroke-linecap:round;}#mermaid-svg .edge-animation-fast{stroke-dasharray:9,5!important;stroke-dashoffset:900;animation:dash 20s linear infinite;stroke-linecap:round;}#mermaid-svg .error-icon{fill:#552222;}#mermaid-svg .error-text{fill:#552222;stroke:#552222;}#mermaid-svg .edge-thickness-normal{stroke-width:1px;}#mermaid-svg .edge-thickness-thick{stroke-width:3.5px;}#mermaid-svg .edge-pattern-solid{stroke-dasharray:0;}#mermaid-svg .edge-thickness-invisible{stroke-width:0;fill:none;}#mermaid-svg .edge-pattern-dashed{stroke-dasharray:3;}#mermaid-svg .edge-pattern-dotted{stroke-dasharray:2;}#mermaid-svg .marker{fill:#333333;stroke:#333333;}#mermaid-svg .marker.cross{stroke:#333333;}#mermaid-svg svg{font-family:&quot;trebuchet ms&quot;,verdana,arial,sans-serif;font-size:16px;}#mermaid-svg p{margin:0;}#mermaid-svg g.classGroup text{fill:#9370DB;stroke:none;font-family:&quot;trebuchet ms&quot;,verdana,arial,sans-serif;font-size:10px;}#mermaid-svg g.classGroup text .title{font-weight:bolder;}#mermaid-svg .nodeLabel,#mermaid-svg .edgeLabel{color:#131300;}#mermaid-svg .edgeLabel .label rect{fill:#ECECFF;}#mermaid-svg .label text{fill:#131300;}#mermaid-svg .labelBkg{background:#ECECFF;}#mermaid-svg .edgeLabel .label span{background:#ECECFF;}#mermaid-svg .classTitle{font-weight:bolder;}#mermaid-svg .node rect,#mermaid-svg .node circle,#mermaid-svg .node ellipse,#mermaid-svg .node polygon,#mermaid-svg .node path{fill:#ECECFF;stroke:#9370DB;stroke-width:1px;}#mermaid-svg .divider{stroke:#9370DB;stroke-width:1;}#mermaid-svg g.clickable{cursor:pointer;}#mermaid-svg g.classGroup rect{fill:#ECECFF;stroke:#9370DB;}#mermaid-svg g.classGroup line{stroke:#9370DB;stroke-width:1;}#mermaid-svg .classLabel .box{stroke:none;stroke-width:0;fill:#ECECFF;opacity:0.5;}#mermaid-svg .classLabel .label{fill:#9370DB;font-size:10px;}#mermaid-svg .relation{stroke:#333333;stroke-width:1;fill:none;}#mermaid-svg .dashed-line{stroke-dasharray:3;}#mermaid-svg .dotted-line{stroke-dasharray:1 2;}#mermaid-svg #compositionStart,#mermaid-svg .composition{fill:#333333!important;stroke:#333333!important;stroke-width:1;}#mermaid-svg #compositionEnd,#mermaid-svg .composition{fill:#333333!important;stroke:#333333!important;stroke-width:1;}#mermaid-svg #dependencyStart,#mermaid-svg .dependency{fill:#333333!important;stroke:#333333!important;stroke-width:1;}#mermaid-svg #dependencyStart,#mermaid-svg .dependency{fill:#333333!important;stroke:#333333!important;stroke-width:1;}#mermaid-svg #extensionStart,#mermaid-svg .extension{fill:transparent!important;stroke:#333333!important;stroke-width:1;}#mermaid-svg #extensionEnd,#mermaid-svg .extension{fill:transparent!important;stroke:#333333!important;stroke-width:1;}#mermaid-svg #aggregationStart,#mermaid-svg .aggregation{fill:transparent!important;stroke:#333333!important;stroke-width:1;}#mermaid-svg #aggregationEnd,#mermaid-svg .aggregation{fill:transparent!important;stroke:#333333!important;stroke-width:1;}#mermaid-svg #lollipopStart,#mermaid-svg .lollipop{fill:#ECECFF!important;stroke:#333333!important;stroke-width:1;}#mermaid-svg #lollipopEnd,#mermaid-svg .lollipop{fill:#ECECFF!important;stroke:#333333!important;stroke-width:1;}#mermaid-svg .edgeTerminals{font-size:11px;line-height:initial;}#mermaid-svg .classTitleText{text-anchor:middle;font-size:18px;fill:#333;}#mermaid-svg .label-icon{display:inline-block;height:1em;overflow:visible;vertical-align:-0.125em;}#mermaid-svg .node .label-icon path{fill:currentColor;stroke:revert;stroke-width:revert;}#mermaid-svg :root{--mermaid-font-family:&quot;trebuchet ms&quot;,verdana,arial,sans-serif;}</style><g><defs><marker id=\"mermaid-svg_class-aggregationStart\" class=\"marker aggregation class\" refX=\"18\" refY=\"7\" markerWidth=\"190\" markerHeight=\"240\" orient=\"auto\"><path d=\"M 18,7 L9,13 L1,7 L9,1 Z\"/></marker></defs><defs><marker id=\"mermaid-svg_class-aggregationEnd\" class=\"marker aggregation class\" refX=\"1\" refY=\"7\" markerWidth=\"20\" markerHeight=\"28\" orient=\"auto\"><path d=\"M 18,7 L9,13 L1,7 L9,1 Z\"/></marker></defs><defs><marker id=\"mermaid-svg_class-extensionStart\" class=\"marker extension class\" refX=\"18\" refY=\"7\" markerWidth=\"190\" markerHeight=\"240\" orient=\"auto\"><path d=\"M 1,7 L18,13 V 1 Z\"/></marker></defs><defs><marker id=\"mermaid-svg_class-extensionEnd\" class=\"marker extension class\" refX=\"1\" refY=\"7\" markerWidth=\"20\" markerHeight=\"28\" orient=\"auto\"><path d=\"M 1,1 V 13 L18,7 Z\"/></marker></defs><defs><marker id=\"mermaid-svg_class-compositionStart\" class=\"marker composition class\" refX=\"18\" refY=\"7\" markerWidth=\"190\" markerHeight=\"240\" orient=\"auto\"><path d=\"M 18,7 L9,13 L1,7 L9,1 Z\"/></marker></defs><defs><marker id=\"mermaid-svg_class-compositionEnd\" class=\"marker composition class\" refX=\"1\" refY=\"7\" markerWidth=\"20\" markerHeight=\"28\" orient=\"auto\"><path d=\"M 18,7 L9,13 L1,7 L9,1 Z\"/></marker></defs><defs><marker id=\"mermaid-svg_class-dependencyStart\" class=\"marker dependency class\" refX=\"6\" refY=\"7\" markerWidth=\"190\" markerHeight=\"240\" orient=\"auto\"><path d=\"M 5,7 L9,13 L1,7 L9,1 Z\"/></marker></defs><defs><marker id=\"mermaid-svg_class-dependencyEnd\" class=\"marker dependency class\" refX=\"13\" refY=\"7\" markerWidth=\"20\" markerHeight=\"28\" orient=\"auto\"><path d=\"M 18,7 L9,13 L14,7 L9,1 Z\"/></marker></defs><defs><marker id=\"mermaid-svg_class-lollipopStart\" class=\"marker lollipop class\" refX=\"13\" refY=\"7\" markerWidth=\"190\" markerHeight=\"240\" orient=\"auto\"><circle stroke=\"black\" fill=\"transparent\" cx=\"7\" cy=\"7\" r=\"6\"/></marker></defs><defs><marker id=\"mermaid-svg_class-lollipopEnd\" class=\"marker lollipop class\" refX=\"1\" refY=\"7\" markerWidth=\"190\" markerHeight=\"240\" orient=\"auto\"><circle stroke=\"black\" fill=\"transparent\" cx=\"7\" cy=\"7\" r=\"6\"/></marker></defs><g class=\"root\"><g class=\"clusters\"/><g class=\"edgePaths\"><path d=\"M145.992,164.029L134.92,171.19C123.849,178.352,101.706,192.676,90.634,204.005C79.563,215.333,79.563,223.667,79.563,227.833L79.563,232\" id=\"id_Scorable_KettlebellSwing_1\" class=\" edge-thickness-normal edge-pattern-dashed relation\" style=\"\" marker-start=\"url(#mermaid-svg_class-extensionStart)\"/><path d=\"M252.703,200L252.703,201.167C252.703,202.333,252.703,204.667,252.703,210C252.703,215.333,252.703,223.667,252.703,227.833L252.703,232\" id=\"id_Scorable_BearCrawl_2\" class=\" edge-thickness-normal edge-pattern-dashed relation\" style=\"\" marker-start=\"url(#mermaid-svg_class-extensionStart)\"/><path d=\"M359.638,160.685L372.205,168.404C384.772,176.123,409.906,191.562,422.472,203.448C435.039,215.333,435.039,223.667,435.039,227.833L435.039,232\" id=\"id_Scorable_YourCustomClass_3\" class=\" edge-thickness-normal edge-pattern-dashed relation\" style=\"\" marker-start=\"url(#mermaid-svg_class-extensionStart)\"/></g><g class=\"edgeLabels\"><g class=\"edgeLabel\"><g class=\"label\" transform=\"translate(0, -12)\"><foreignObject width=\"0\" height=\"24\"><div xmlns=\"http://www.w3.org/1999/xhtml\" style=\"display: table-cell; white-space: nowrap; line-height: 1.5; max-width: 200px; text-align: center;\" class=\"labelBkg\"><span style=\";display: inline-block\" class=\"edgeLabel \"/></div></foreignObject></g></g><g class=\"edgeLabel\"><g class=\"label\" transform=\"translate(0, -12)\"><foreignObject width=\"0\" height=\"24\"><div xmlns=\"http://www.w3.org/1999/xhtml\" style=\"display: table-cell; white-space: nowrap; line-height: 1.5; max-width: 200px; text-align: center;\" class=\"labelBkg\"><span style=\";display: inline-block\" class=\"edgeLabel \"/></div></foreignObject></g></g><g class=\"edgeLabel\"><g class=\"label\" transform=\"translate(0, -12)\"><foreignObject width=\"0\" height=\"24\"><div xmlns=\"http://www.w3.org/1999/xhtml\" style=\"display: table-cell; white-space: nowrap; line-height: 1.5; max-width: 200px; text-align: center;\" class=\"labelBkg\"><span style=\";display: inline-block\" class=\"edgeLabel \"/></div></foreignObject></g></g></g><g class=\"nodes\"><g class=\"node default \" id=\"classId-Scorable-0\" transform=\"translate(252.703125, 95)\"><g class=\"basic label-container\"><path d=\"M-91.59765625 -87 L91.59765625 -87 L91.59765625 87 L-91.59765625 87\" stroke=\"none\" stroke-width=\"0\" fill=\"#ECECFF\" style=\"\"/><path d=\"M-91.59765625 -87 C-31.373666457352698 -87, 28.850323335294604 -87, 91.59765625 -87 M-91.59765625 -87 C-32.509774036904616 -87, 26.578108176190767 -87, 91.59765625 -87 M91.59765625 -87 C91.59765625 -45.8491636297939, 91.59765625 -4.698327259587799, 91.59765625 87 M91.59765625 -87 C91.59765625 -21.285531497500756, 91.59765625 44.42893700499849, 91.59765625 87 M91.59765625 87 C25.162014725433778 87, -41.273626799132444 87, -91.59765625 87 M91.59765625 87 C26.242710825765798 87, -39.112234598468405 87, -91.59765625 87 M-91.59765625 87 C-91.59765625 24.30075280144326, -91.59765625 -38.39849439711348, -91.59765625 -87 M-91.59765625 87 C-91.59765625 31.694188615633706, -91.59765625 -23.611622768732587, -91.59765625 -87\" stroke=\"#9370DB\" stroke-width=\"1.3\" fill=\"none\" stroke-dasharray=\"0 0\" style=\"\"/></g><g class=\"annotation-group text\" transform=\"translate(-39.5859375, -63)\"><g class=\"label\" style=\"\" transform=\"translate(0,-12)\"><foreignObject width=\"79.171875\" height=\"24\"><div xmlns=\"http://www.w3.org/1999/xhtml\" style=\"display: table-cell; white-space: nowrap; line-height: 1.5; max-width: 122px; text-align: center;\"><span class=\"nodeLabel markdown-node-label\" style=\"\"><p>«interface»</p></span></div></foreignObject></g></g><g class=\"label-group text\" transform=\"translate(-33.796875, -39)\"><g class=\"label\" style=\"font-weight: bolder\" transform=\"translate(0,-12)\"><foreignObject width=\"67.59375\" height=\"24\"><div xmlns=\"http://www.w3.org/1999/xhtml\" style=\"display: table-cell; white-space: nowrap; line-height: 1.5; max-width: 106px; text-align: center;\"><span class=\"nodeLabel markdown-node-label\" style=\"\"><p>Scorable</p></span></div></foreignObject></g></g><g class=\"members-group text\" transform=\"translate(-79.59765625, 9)\"/><g class=\"methods-group text\" transform=\"translate(-79.59765625, 39)\"><g class=\"label\" style=\"\" transform=\"translate(0,-12)\"><foreignObject width=\"119.609375\" height=\"24\"><div xmlns=\"http://www.w3.org/1999/xhtml\" style=\"display: table-cell; white-space: nowrap; line-height: 1.5; max-width: 164px; text-align: center;\"><span class=\"nodeLabel markdown-node-label\" style=\"\"><p>+ name() : String</p></span></div></foreignObject></g><g class=\"label\" style=\"\" transform=\"translate(0,12)\"><foreignObject width=\"93.8125\" height=\"24\"><div xmlns=\"http://www.w3.org/1999/xhtml\" style=\"display: table-cell; white-space: nowrap; line-height: 1.5; max-width: 142px; text-align: center;\"><span class=\"nodeLabel markdown-node-label\" style=\"\"><p>+ score() : int</p></span></div></foreignObject></g></g><g class=\"divider\" style=\"\"><path d=\"M-91.59765625 -15 C-22.464641310724772 -15, 46.668373628550455 -15, 91.59765625 -15 M-91.59765625 -15 C-51.98571546679527 -15, -12.37377468359054 -15, 91.59765625 -15\" stroke=\"#9370DB\" stroke-width=\"1.3\" fill=\"none\" stroke-dasharray=\"0 0\" style=\"\"/></g><g class=\"divider\" style=\"\"><path d=\"M-91.59765625 9 C-35.150335258177 9, 21.296985733645997 9, 91.59765625 9 M-91.59765625 9 C-29.32261025640623 9, 32.95243573718754 9, 91.59765625 9\" stroke=\"#9370DB\" stroke-width=\"1.3\" fill=\"none\" stroke-dasharray=\"0 0\" style=\"\"/></g></g><g class=\"node default \" id=\"classId-KettlebellSwing-1\" transform=\"translate(79.5625, 274)\"><g class=\"basic label-container\"><path d=\"M-71.5625 -42 L71.5625 -42 L71.5625 42 L-71.5625 42\" stroke=\"none\" stroke-width=\"0\" fill=\"#ECECFF\" style=\"\"/><path d=\"M-71.5625 -42 C-37.961407318999875 -42, -4.36031463799975 -42, 71.5625 -42 M-71.5625 -42 C-42.832764619192105 -42, -14.103029238384202 -42, 71.5625 -42 M71.5625 -42 C71.5625 -18.493962904071374, 71.5625 5.012074191857252, 71.5625 42 M71.5625 -42 C71.5625 -10.545892762231741, 71.5625 20.908214475536518, 71.5625 42 M71.5625 42 C40.59076884945655 42, 9.619037698913097 42, -71.5625 42 M71.5625 42 C17.528670460710998 42, -36.505159078578004 42, -71.5625 42 M-71.5625 42 C-71.5625 9.274236289429005, -71.5625 -23.45152742114199, -71.5625 -42 M-71.5625 42 C-71.5625 15.457671935550511, -71.5625 -11.084656128898978, -71.5625 -42\" stroke=\"#9370DB\" stroke-width=\"1.3\" fill=\"none\" stroke-dasharray=\"0 0\" style=\"\"/></g><g class=\"annotation-group text\" transform=\"translate(0, -18)\"/><g class=\"label-group text\" transform=\"translate(-59.5625, -18)\"><g class=\"label\" style=\"font-weight: bolder\" transform=\"translate(0,-12)\"><foreignObject width=\"119.125\" height=\"24\"><div xmlns=\"http://www.w3.org/1999/xhtml\" style=\"display: table-cell; white-space: nowrap; line-height: 1.5; max-width: 154px; text-align: center;\"><span class=\"nodeLabel markdown-node-label\" style=\"\"><p>KettlebellSwing</p></span></div></foreignObject></g></g><g class=\"members-group text\" transform=\"translate(-59.5625, 30)\"/><g class=\"methods-group text\" transform=\"translate(-59.5625, 60)\"/><g class=\"divider\" style=\"\"><path d=\"M-71.5625 6 C-19.42527264441646 6, 32.71195471116708 6, 71.5625 6 M-71.5625 6 C-33.127822473097794 6, 5.306855053804412 6, 71.5625 6\" stroke=\"#9370DB\" stroke-width=\"1.3\" fill=\"none\" stroke-dasharray=\"0 0\" style=\"\"/></g><g class=\"divider\" style=\"\"><path d=\"M-71.5625 24 C-26.953065580509033 24, 17.656368838981933 24, 71.5625 24 M-71.5625 24 C-19.446287954904093 24, 32.66992409019181 24, 71.5625 24\" stroke=\"#9370DB\" stroke-width=\"1.3\" fill=\"none\" stroke-dasharray=\"0 0\" style=\"\"/></g></g><g class=\"node default \" id=\"classId-BearCrawl-2\" transform=\"translate(252.703125, 274)\"><g class=\"basic label-container\"><path d=\"M-51.578125 -42 L51.578125 -42 L51.578125 42 L-51.578125 42\" stroke=\"none\" stroke-width=\"0\" fill=\"#ECECFF\" style=\"\"/><path d=\"M-51.578125 -42 C-28.73844467613305 -42, -5.898764352266099 -42, 51.578125 -42 M-51.578125 -42 C-21.757195441092364 -42, 8.063734117815272 -42, 51.578125 -42 M51.578125 -42 C51.578125 -25.04188374821876, 51.578125 -8.083767496437517, 51.578125 42 M51.578125 -42 C51.578125 -9.543493819383492, 51.578125 22.913012361233015, 51.578125 42 M51.578125 42 C13.208657786359325 42, -25.16080942728135 42, -51.578125 42 M51.578125 42 C25.531176024037606 42, -0.515772951924788 42, -51.578125 42 M-51.578125 42 C-51.578125 16.58772477338667, -51.578125 -8.824550453226657, -51.578125 -42 M-51.578125 42 C-51.578125 15.511147696465333, -51.578125 -10.977704607069334, -51.578125 -42\" stroke=\"#9370DB\" stroke-width=\"1.3\" fill=\"none\" stroke-dasharray=\"0 0\" style=\"\"/></g><g class=\"annotation-group text\" transform=\"translate(0, -18)\"/><g class=\"label-group text\" transform=\"translate(-39.578125, -18)\"><g class=\"label\" style=\"font-weight: bolder\" transform=\"translate(0,-12)\"><foreignObject width=\"79.15625\" height=\"24\"><div xmlns=\"http://www.w3.org/1999/xhtml\" style=\"display: table-cell; white-space: nowrap; line-height: 1.5; max-width: 120px; text-align: center;\"><span class=\"nodeLabel markdown-node-label\" style=\"\"><p>BearCrawl</p></span></div></foreignObject></g></g><g class=\"members-group text\" transform=\"translate(-39.578125, 30)\"/><g class=\"methods-group text\" transform=\"translate(-39.578125, 60)\"/><g class=\"divider\" style=\"\"><path d=\"M-51.578125 6 C-27.383629424705106 6, -3.1891338494102115 6, 51.578125 6 M-51.578125 6 C-27.696041618766834 6, -3.8139582375336687 6, 51.578125 6\" stroke=\"#9370DB\" stroke-width=\"1.3\" fill=\"none\" stroke-dasharray=\"0 0\" style=\"\"/></g><g class=\"divider\" style=\"\"><path d=\"M-51.578125 24 C-21.704198169001916 24, 8.169728661996167 24, 51.578125 24 M-51.578125 24 C-18.3572558303509 24, 14.863613339298198 24, 51.578125 24\" stroke=\"#9370DB\" stroke-width=\"1.3\" fill=\"none\" stroke-dasharray=\"0 0\" style=\"\"/></g></g><g class=\"node default \" id=\"classId-YourCustomClass-3\" transform=\"translate(435.0390625, 274)\"><g class=\"basic label-container\"><path d=\"M-80.7578125 -42 L80.7578125 -42 L80.7578125 42 L-80.7578125 42\" stroke=\"none\" stroke-width=\"0\" fill=\"#ECECFF\" style=\"\"/><path d=\"M-80.7578125 -42 C-41.07636556300115 -42, -1.394918626002294 -42, 80.7578125 -42 M-80.7578125 -42 C-17.705464886761753 -42, 45.346882726476494 -42, 80.7578125 -42 M80.7578125 -42 C80.7578125 -12.08202759254798, 80.7578125 17.83594481490404, 80.7578125 42 M80.7578125 -42 C80.7578125 -16.32585660129365, 80.7578125 9.348286797412698, 80.7578125 42 M80.7578125 42 C44.17509996177614 42, 7.592387423552282 42, -80.7578125 42 M80.7578125 42 C39.52710928632282 42, -1.7035939273543619 42, -80.7578125 42 M-80.7578125 42 C-80.7578125 23.165769430338536, -80.7578125 4.331538860677071, -80.7578125 -42 M-80.7578125 42 C-80.7578125 11.615656719135291, -80.7578125 -18.768686561729417, -80.7578125 -42\" stroke=\"#9370DB\" stroke-width=\"1.3\" fill=\"none\" stroke-dasharray=\"0 0\" style=\"\"/></g><g class=\"annotation-group text\" transform=\"translate(0, -18)\"/><g class=\"label-group text\" transform=\"translate(-68.7578125, -18)\"><g class=\"label\" style=\"font-weight: bolder\" transform=\"translate(0,-12)\"><foreignObject width=\"137.515625\" height=\"24\"><div xmlns=\"http://www.w3.org/1999/xhtml\" style=\"display: table-cell; white-space: nowrap; line-height: 1.5; max-width: 166px; text-align: center;\"><span class=\"nodeLabel markdown-node-label\" style=\"\"><p>YourCustomClass</p></span></div></foreignObject></g></g><g class=\"members-group text\" transform=\"translate(-68.7578125, 30)\"/><g class=\"methods-group text\" transform=\"translate(-68.7578125, 60)\"/><g class=\"divider\" style=\"\"><path d=\"M-80.7578125 6 C-38.9824170948415 6, 2.7929783103169967 6, 80.7578125 6 M-80.7578125 6 C-41.609976052860915 6, -2.4621396057218305 6, 80.7578125 6\" stroke=\"#9370DB\" stroke-width=\"1.3\" fill=\"none\" stroke-dasharray=\"0 0\" style=\"\"/></g><g class=\"divider\" style=\"\"><path d=\"M-80.7578125 24 C-22.66992435437571 24, 35.41796379124858 24, 80.7578125 24 M-80.7578125 24 C-30.776908257411286 24, 19.20399598517743 24, 80.7578125 24\" stroke=\"#9370DB\" stroke-width=\"1.3\" fill=\"none\" stroke-dasharray=\"0 0\" style=\"\"/></g></g></g></g></g></svg>"
          },
          "metadata": {}
        }
      ]
    },
    {
      "cell_type": "markdown",
      "source": [
        "Common compile errors and quick fixes:\n",
        "\n",
        "| **Symptom**                                       | **Likely cause**                                                 | **Fix**                                                               |\n",
        "| ------------------------------------------------- | ---------------------------------------------------------------- | --------------------------------------------------------------------- |\n",
        "| “method does not override or implement a method”  | Misspelled method (`scores()` vs `score()`) or wrong return type | Match the **signature** exactly; keep `@Override` to catch this early |\n",
        "| “class X is not abstract and does not override …” | You declared `implements Scorable` but didn’t write both methods | Implement **both** `name()` and `score()`                             |\n",
        "| “cannot find symbol: constructor …”               | Constructor parameters don’t match your `new` call               | Check the tester’s arguments against your class constructor signature |\n",
        "\n",
        "Write clean, small methods; pick formulas you can defend; and let the interface keep your tester blissfully unaware of class details.\n"
      ],
      "metadata": {
        "id": "KLats0sYvctZ"
      }
    },
    {
      "cell_type": "markdown",
      "source": [
        "## Abstract classes: blueprints with shared code\n",
        "\n",
        "When several classes share structure and behavior, but each must still supply its own key action, an **abstract class** is useful. An **abstract class** is a class declared with the keyword **abstract**; it can contain **fields**, **constructors**, and **concrete methods** (with bodies), as well as **abstract methods** (no bodies). An **abstract method** must be implemented by any **concrete subclass**. Abstract classes **cannot be instantiated**.\n",
        "\n",
        "**Syntax**:\n",
        "\n",
        "* `abstract class Name { ... }` declares a class that may include abstract methods.\n",
        "* `abstract returnType methodName(params);` declares an abstract method (no `{ }` body).\n",
        "* `class Child extends Parent { ... }` uses **extends** to inherit from a parent class.\n",
        "\n",
        "We’ll switch contexts to keep your mental model flexible. Imagine a training app that schedules **movements**. Each movement warms up the athlete the same way, but the actual performance differs.\n",
        "\n",
        "```java\n",
        "// A general blueprint\n",
        "public abstract class Movement {\n",
        "    private final String name;\n",
        "\n",
        "    public Movement(String name) { this.name = name; }\n",
        "\n",
        "    public void warmup() {                    // concrete method (shared code)\n",
        "        System.out.println(\"Warmup: light mobility for \" + name);\n",
        "    }\n",
        "\n",
        "    public String getName() { return name; }  // concrete helper\n",
        "\n",
        "    public abstract void perform();           // abstract method (no body)\n",
        "}\n",
        "```\n",
        "\n",
        "Two different concrete movements implement the missing action:\n",
        "\n",
        "```java\n",
        "public class PlyoJump extends Movement {\n",
        "    public PlyoJump() { super(\"Plyometric Jumps\"); }\n",
        "\n",
        "    @Override\n",
        "    public void perform() {\n",
        "        System.out.println(\"Explosive sets of box jumps.\");\n",
        "    }\n",
        "}\n",
        "```\n",
        "\n",
        "```java\n",
        "public class IsometricHold extends Movement {\n",
        "    public IsometricHold() { super(\"Isometric Hold\"); }\n",
        "\n",
        "    @Override\n",
        "    public void perform() {\n",
        "        System.out.println(\"Hold a stable position for controlled time.\");\n",
        "    }\n",
        "}\n",
        "```\n",
        "\n",
        "Here are the key points:\n",
        "\n",
        "* You **cannot** write `new Movement(...)` because `Movement` is abstract.\n",
        "* You **can** call shared code (`warmup()`, `getName()`) on any subclass.\n",
        "* Each subclass **must** supply `perform()`—that is the contract.\n",
        "\n",
        "**How do interfaces and abstract classes compare?** It's easy to confuse abstract classes with interfaces, and to use one where you should be using the other. Here's a quick cheat sheet:\n",
        "\n",
        "| Concept            | Precise definition                                                                  | Can have fields/constructors?                  | Can have method bodies?                                                                           | Inheritance relationship                                       |\n",
        "| ------------------ | ----------------------------------------------------------------------------------- | ---------------------------------------------- | ------------------------------------------------------------------------------------------------- | -------------------------------------------------------------- |\n",
        "| **interface**      | A contract of method **signatures** only (no state by default).                     | No fields for instance state; no constructors. | No bodies for abstract methods (default), though `default`/`static` methods exist in modern Java. | A class **implements** one or more interfaces.                 |\n",
        "| **abstract class** | A class that may include **abstract methods** and **concrete methods**, plus state. | Yes, fields and constructors allowed.          | Yes, regular method bodies and abstract methods.                                                  | A class **extends** at most one abstract (or concrete) parent. |\n",
        "\n",
        "And, finally, here's how we depict abstract classes in our UML:\n"
      ],
      "metadata": {
        "id": "N7WuePcvwjBf"
      }
    },
    {
      "cell_type": "code",
      "source": [
        "# @title\n",
        "mm(\"\"\"\n",
        "classDiagram\n",
        "    class Movement {\n",
        "      <<abstract>>\n",
        "      - String name\n",
        "      + Movement(String)\n",
        "      + warmup() void\n",
        "      + getName() String\n",
        "      + perform() void*\n",
        "    }\n",
        "    Movement <|-- PlyoJump\n",
        "    Movement <|-- IsometricHold\n",
        "\"\"\")"
      ],
      "metadata": {
        "cellView": "form",
        "colab": {
          "base_uri": "https://localhost:8080/",
          "height": 411
        },
        "id": "4pPT_Gf_wk4L",
        "outputId": "857cda8d-4edf-445c-841a-02210234115b"
      },
      "execution_count": null,
      "outputs": [
        {
          "output_type": "display_data",
          "data": {
            "text/plain": [
              "<IPython.core.display.SVG object>"
            ],
            "image/svg+xml": "<svg xmlns=\"http://www.w3.org/2000/svg\" xmlns:xlink=\"http://www.w3.org/1999/xlink\" id=\"mermaid-svg\" width=\"100%\" class=\"classDiagram\" style=\"max-width: 297.15625px;\" viewBox=\"0 0 297.15625 390\" role=\"graphics-document document\" aria-roledescription=\"class\"><style xmlns=\"http://www.w3.org/1999/xhtml\">@import url(&quot;https://cdnjs.cloudflare.com/ajax/libs/font-awesome/6.7.2/css/all.min.css&quot;);</style><style>#mermaid-svg{font-family:&quot;trebuchet ms&quot;,verdana,arial,sans-serif;font-size:16px;fill:#333;}@keyframes edge-animation-frame{from{stroke-dashoffset:0;}}@keyframes dash{to{stroke-dashoffset:0;}}#mermaid-svg .edge-animation-slow{stroke-dasharray:9,5!important;stroke-dashoffset:900;animation:dash 50s linear infinite;stroke-linecap:round;}#mermaid-svg .edge-animation-fast{stroke-dasharray:9,5!important;stroke-dashoffset:900;animation:dash 20s linear infinite;stroke-linecap:round;}#mermaid-svg .error-icon{fill:#552222;}#mermaid-svg .error-text{fill:#552222;stroke:#552222;}#mermaid-svg .edge-thickness-normal{stroke-width:1px;}#mermaid-svg .edge-thickness-thick{stroke-width:3.5px;}#mermaid-svg .edge-pattern-solid{stroke-dasharray:0;}#mermaid-svg .edge-thickness-invisible{stroke-width:0;fill:none;}#mermaid-svg .edge-pattern-dashed{stroke-dasharray:3;}#mermaid-svg .edge-pattern-dotted{stroke-dasharray:2;}#mermaid-svg .marker{fill:#333333;stroke:#333333;}#mermaid-svg .marker.cross{stroke:#333333;}#mermaid-svg svg{font-family:&quot;trebuchet ms&quot;,verdana,arial,sans-serif;font-size:16px;}#mermaid-svg p{margin:0;}#mermaid-svg g.classGroup text{fill:#9370DB;stroke:none;font-family:&quot;trebuchet ms&quot;,verdana,arial,sans-serif;font-size:10px;}#mermaid-svg g.classGroup text .title{font-weight:bolder;}#mermaid-svg .nodeLabel,#mermaid-svg .edgeLabel{color:#131300;}#mermaid-svg .edgeLabel .label rect{fill:#ECECFF;}#mermaid-svg .label text{fill:#131300;}#mermaid-svg .labelBkg{background:#ECECFF;}#mermaid-svg .edgeLabel .label span{background:#ECECFF;}#mermaid-svg .classTitle{font-weight:bolder;}#mermaid-svg .node rect,#mermaid-svg .node circle,#mermaid-svg .node ellipse,#mermaid-svg .node polygon,#mermaid-svg .node path{fill:#ECECFF;stroke:#9370DB;stroke-width:1px;}#mermaid-svg .divider{stroke:#9370DB;stroke-width:1;}#mermaid-svg g.clickable{cursor:pointer;}#mermaid-svg g.classGroup rect{fill:#ECECFF;stroke:#9370DB;}#mermaid-svg g.classGroup line{stroke:#9370DB;stroke-width:1;}#mermaid-svg .classLabel .box{stroke:none;stroke-width:0;fill:#ECECFF;opacity:0.5;}#mermaid-svg .classLabel .label{fill:#9370DB;font-size:10px;}#mermaid-svg .relation{stroke:#333333;stroke-width:1;fill:none;}#mermaid-svg .dashed-line{stroke-dasharray:3;}#mermaid-svg .dotted-line{stroke-dasharray:1 2;}#mermaid-svg #compositionStart,#mermaid-svg .composition{fill:#333333!important;stroke:#333333!important;stroke-width:1;}#mermaid-svg #compositionEnd,#mermaid-svg .composition{fill:#333333!important;stroke:#333333!important;stroke-width:1;}#mermaid-svg #dependencyStart,#mermaid-svg .dependency{fill:#333333!important;stroke:#333333!important;stroke-width:1;}#mermaid-svg #dependencyStart,#mermaid-svg .dependency{fill:#333333!important;stroke:#333333!important;stroke-width:1;}#mermaid-svg #extensionStart,#mermaid-svg .extension{fill:transparent!important;stroke:#333333!important;stroke-width:1;}#mermaid-svg #extensionEnd,#mermaid-svg .extension{fill:transparent!important;stroke:#333333!important;stroke-width:1;}#mermaid-svg #aggregationStart,#mermaid-svg .aggregation{fill:transparent!important;stroke:#333333!important;stroke-width:1;}#mermaid-svg #aggregationEnd,#mermaid-svg .aggregation{fill:transparent!important;stroke:#333333!important;stroke-width:1;}#mermaid-svg #lollipopStart,#mermaid-svg .lollipop{fill:#ECECFF!important;stroke:#333333!important;stroke-width:1;}#mermaid-svg #lollipopEnd,#mermaid-svg .lollipop{fill:#ECECFF!important;stroke:#333333!important;stroke-width:1;}#mermaid-svg .edgeTerminals{font-size:11px;line-height:initial;}#mermaid-svg .classTitleText{text-anchor:middle;font-size:18px;fill:#333;}#mermaid-svg .label-icon{display:inline-block;height:1em;overflow:visible;vertical-align:-0.125em;}#mermaid-svg .node .label-icon path{fill:currentColor;stroke:revert;stroke-width:revert;}#mermaid-svg :root{--mermaid-font-family:&quot;trebuchet ms&quot;,verdana,arial,sans-serif;}</style><g><defs><marker id=\"mermaid-svg_class-aggregationStart\" class=\"marker aggregation class\" refX=\"18\" refY=\"7\" markerWidth=\"190\" markerHeight=\"240\" orient=\"auto\"><path d=\"M 18,7 L9,13 L1,7 L9,1 Z\"/></marker></defs><defs><marker id=\"mermaid-svg_class-aggregationEnd\" class=\"marker aggregation class\" refX=\"1\" refY=\"7\" markerWidth=\"20\" markerHeight=\"28\" orient=\"auto\"><path d=\"M 18,7 L9,13 L1,7 L9,1 Z\"/></marker></defs><defs><marker id=\"mermaid-svg_class-extensionStart\" class=\"marker extension class\" refX=\"18\" refY=\"7\" markerWidth=\"190\" markerHeight=\"240\" orient=\"auto\"><path d=\"M 1,7 L18,13 V 1 Z\"/></marker></defs><defs><marker id=\"mermaid-svg_class-extensionEnd\" class=\"marker extension class\" refX=\"1\" refY=\"7\" markerWidth=\"20\" markerHeight=\"28\" orient=\"auto\"><path d=\"M 1,1 V 13 L18,7 Z\"/></marker></defs><defs><marker id=\"mermaid-svg_class-compositionStart\" class=\"marker composition class\" refX=\"18\" refY=\"7\" markerWidth=\"190\" markerHeight=\"240\" orient=\"auto\"><path d=\"M 18,7 L9,13 L1,7 L9,1 Z\"/></marker></defs><defs><marker id=\"mermaid-svg_class-compositionEnd\" class=\"marker composition class\" refX=\"1\" refY=\"7\" markerWidth=\"20\" markerHeight=\"28\" orient=\"auto\"><path d=\"M 18,7 L9,13 L1,7 L9,1 Z\"/></marker></defs><defs><marker id=\"mermaid-svg_class-dependencyStart\" class=\"marker dependency class\" refX=\"6\" refY=\"7\" markerWidth=\"190\" markerHeight=\"240\" orient=\"auto\"><path d=\"M 5,7 L9,13 L1,7 L9,1 Z\"/></marker></defs><defs><marker id=\"mermaid-svg_class-dependencyEnd\" class=\"marker dependency class\" refX=\"13\" refY=\"7\" markerWidth=\"20\" markerHeight=\"28\" orient=\"auto\"><path d=\"M 18,7 L9,13 L14,7 L9,1 Z\"/></marker></defs><defs><marker id=\"mermaid-svg_class-lollipopStart\" class=\"marker lollipop class\" refX=\"13\" refY=\"7\" markerWidth=\"190\" markerHeight=\"240\" orient=\"auto\"><circle stroke=\"black\" fill=\"transparent\" cx=\"7\" cy=\"7\" r=\"6\"/></marker></defs><defs><marker id=\"mermaid-svg_class-lollipopEnd\" class=\"marker lollipop class\" refX=\"1\" refY=\"7\" markerWidth=\"190\" markerHeight=\"240\" orient=\"auto\"><circle stroke=\"black\" fill=\"transparent\" cx=\"7\" cy=\"7\" r=\"6\"/></marker></defs><g class=\"root\"><g class=\"clusters\"/><g class=\"edgePaths\"><path d=\"M63.583,263.632L62.692,265.193C61.8,266.754,60.017,269.877,59.126,275.605C58.234,281.333,58.234,289.667,58.234,293.833L58.234,298\" id=\"id_Movement_PlyoJump_1\" class=\" edge-thickness-normal edge-pattern-solid relation\" style=\"\" marker-start=\"url(#mermaid-svg_class-extensionStart)\"/><path d=\"M218.463,263.632L219.355,265.193C220.246,266.754,222.029,269.877,222.921,275.605C223.813,281.333,223.813,289.667,223.813,293.833L223.813,298\" id=\"id_Movement_IsometricHold_2\" class=\" edge-thickness-normal edge-pattern-solid relation\" style=\"\" marker-start=\"url(#mermaid-svg_class-extensionStart)\"/></g><g class=\"edgeLabels\"><g class=\"edgeLabel\"><g class=\"label\" transform=\"translate(0, -12)\"><foreignObject width=\"0\" height=\"24\"><div xmlns=\"http://www.w3.org/1999/xhtml\" style=\"display: table-cell; white-space: nowrap; line-height: 1.5; max-width: 200px; text-align: center;\" class=\"labelBkg\"><span style=\";display: inline-block\" class=\"edgeLabel \"/></div></foreignObject></g></g><g class=\"edgeLabel\"><g class=\"label\" transform=\"translate(0, -12)\"><foreignObject width=\"0\" height=\"24\"><div xmlns=\"http://www.w3.org/1999/xhtml\" style=\"display: table-cell; white-space: nowrap; line-height: 1.5; max-width: 200px; text-align: center;\" class=\"labelBkg\"><span style=\";display: inline-block\" class=\"edgeLabel \"/></div></foreignObject></g></g></g><g class=\"nodes\"><g class=\"node default \" id=\"classId-Movement-0\" transform=\"translate(141.0234375, 128)\"><g class=\"basic label-container\"><path d=\"M-104.03125 -120 L104.03125 -120 L104.03125 120 L-104.03125 120\" stroke=\"none\" stroke-width=\"0\" fill=\"#ECECFF\" style=\"\"/><path d=\"M-104.03125 -120 C-54.71973183982131 -120, -5.408213679642614 -120, 104.03125 -120 M-104.03125 -120 C-49.849966066577764 -120, 4.331317866844472 -120, 104.03125 -120 M104.03125 -120 C104.03125 -31.7606954418508, 104.03125 56.4786091162984, 104.03125 120 M104.03125 -120 C104.03125 -62.560280903025756, 104.03125 -5.120561806051512, 104.03125 120 M104.03125 120 C25.9564988334089 120, -52.1182523331822 120, -104.03125 120 M104.03125 120 C37.40002116131649 120, -29.231207677367024 120, -104.03125 120 M-104.03125 120 C-104.03125 40.877485656200065, -104.03125 -38.24502868759987, -104.03125 -120 M-104.03125 120 C-104.03125 63.36562299938889, -104.03125 6.73124599877778, -104.03125 -120\" stroke=\"#9370DB\" stroke-width=\"1.3\" fill=\"none\" stroke-dasharray=\"0 0\" style=\"\"/></g><g class=\"annotation-group text\" transform=\"translate(-37.359375, -96)\"><g class=\"label\" style=\"\" transform=\"translate(0,-12)\"><foreignObject width=\"74.71875\" height=\"24\"><div xmlns=\"http://www.w3.org/1999/xhtml\" style=\"display: table-cell; white-space: nowrap; line-height: 1.5; max-width: 116px; text-align: center;\"><span class=\"nodeLabel markdown-node-label\" style=\"\"><p>«abstract»</p></span></div></foreignObject></g></g><g class=\"label-group text\" transform=\"translate(-39.5625, -72)\"><g class=\"label\" style=\"font-weight: bolder\" transform=\"translate(0,-12)\"><foreignObject width=\"79.125\" height=\"24\"><div xmlns=\"http://www.w3.org/1999/xhtml\" style=\"display: table-cell; white-space: nowrap; line-height: 1.5; max-width: 120px; text-align: center;\"><span class=\"nodeLabel markdown-node-label\" style=\"\"><p>Movement</p></span></div></foreignObject></g></g><g class=\"members-group text\" transform=\"translate(-92.03125, -24)\"><g class=\"label\" style=\"\" transform=\"translate(0,-12)\"><foreignObject width=\"96.046875\" height=\"24\"><div xmlns=\"http://www.w3.org/1999/xhtml\" style=\"display: table-cell; white-space: nowrap; line-height: 1.5; max-width: 142px; text-align: center;\"><span class=\"nodeLabel markdown-node-label\" style=\"\"><p>- String name</p></span></div></foreignObject></g></g><g class=\"methods-group text\" transform=\"translate(-92.03125, 24)\"><g class=\"label\" style=\"\" transform=\"translate(0,-12)\"><foreignObject width=\"140.9375\" height=\"24\"><div xmlns=\"http://www.w3.org/1999/xhtml\" style=\"display: table-cell; white-space: nowrap; line-height: 1.5; max-width: 187px; text-align: center;\"><span class=\"nodeLabel markdown-node-label\" style=\"\"><p>+ Movement(String)</p></span></div></foreignObject></g><g class=\"label\" style=\"\" transform=\"translate(0,12)\"><foreignObject width=\"124.046875\" height=\"24\"><div xmlns=\"http://www.w3.org/1999/xhtml\" style=\"display: table-cell; white-space: nowrap; line-height: 1.5; max-width: 171px; text-align: center;\"><span class=\"nodeLabel markdown-node-label\" style=\"\"><p>+ warmup() : void</p></span></div></foreignObject></g><g class=\"label\" style=\"\" transform=\"translate(0,36)\"><foreignObject width=\"144.5\" height=\"24\"><div xmlns=\"http://www.w3.org/1999/xhtml\" style=\"display: table-cell; white-space: nowrap; line-height: 1.5; max-width: 187px; text-align: center;\"><span class=\"nodeLabel markdown-node-label\" style=\"\"><p>+ getName() : String</p></span></div></foreignObject></g><g class=\"label\" style=\"font-style:italic;\" transform=\"translate(0,60)\"><foreignObject width=\"122.265625\" height=\"24\"><div xmlns=\"http://www.w3.org/1999/xhtml\" style=\"display: table-cell; white-space: nowrap; line-height: 1.5; max-width: 171px; text-align: center;\"><span class=\"nodeLabel markdown-node-label\" style=\"\"><p>+ perform() : void</p></span></div></foreignObject></g></g><g class=\"divider\" style=\"\"><path d=\"M-104.03125 -48 C-41.635612330415036 -48, 20.76002533916993 -48, 104.03125 -48 M-104.03125 -48 C-52.471835743653635 -48, -0.9124214873072702 -48, 104.03125 -48\" stroke=\"#9370DB\" stroke-width=\"1.3\" fill=\"none\" stroke-dasharray=\"0 0\" style=\"\"/></g><g class=\"divider\" style=\"\"><path d=\"M-104.03125 0 C-25.429974474975026 0, 53.17130105004995 0, 104.03125 0 M-104.03125 0 C-29.951252097144263 0, 44.128745805711475 0, 104.03125 0\" stroke=\"#9370DB\" stroke-width=\"1.3\" fill=\"none\" stroke-dasharray=\"0 0\" style=\"\"/></g></g><g class=\"node default \" id=\"classId-PlyoJump-1\" transform=\"translate(58.234375, 340)\"><g class=\"basic label-container\"><path d=\"M-50.234375 -42 L50.234375 -42 L50.234375 42 L-50.234375 42\" stroke=\"none\" stroke-width=\"0\" fill=\"#ECECFF\" style=\"\"/><path d=\"M-50.234375 -42 C-13.347110520067908 -42, 23.540153959864185 -42, 50.234375 -42 M-50.234375 -42 C-22.40155716085065 -42, 5.431260678298699 -42, 50.234375 -42 M50.234375 -42 C50.234375 -11.46435998425192, 50.234375 19.07128003149616, 50.234375 42 M50.234375 -42 C50.234375 -21.44600367418588, 50.234375 -0.892007348371763, 50.234375 42 M50.234375 42 C29.360898501441266 42, 8.487422002882532 42, -50.234375 42 M50.234375 42 C10.282280032861571 42, -29.669814934276857 42, -50.234375 42 M-50.234375 42 C-50.234375 8.654957445109694, -50.234375 -24.69008510978061, -50.234375 -42 M-50.234375 42 C-50.234375 22.582905529662035, -50.234375 3.1658110593240707, -50.234375 -42\" stroke=\"#9370DB\" stroke-width=\"1.3\" fill=\"none\" stroke-dasharray=\"0 0\" style=\"\"/></g><g class=\"annotation-group text\" transform=\"translate(0, -18)\"/><g class=\"label-group text\" transform=\"translate(-38.234375, -18)\"><g class=\"label\" style=\"font-weight: bolder\" transform=\"translate(0,-12)\"><foreignObject width=\"76.46875\" height=\"24\"><div xmlns=\"http://www.w3.org/1999/xhtml\" style=\"display: table-cell; white-space: nowrap; line-height: 1.5; max-width: 114px; text-align: center;\"><span class=\"nodeLabel markdown-node-label\" style=\"\"><p>PlyoJump</p></span></div></foreignObject></g></g><g class=\"members-group text\" transform=\"translate(-38.234375, 30)\"/><g class=\"methods-group text\" transform=\"translate(-38.234375, 60)\"/><g class=\"divider\" style=\"\"><path d=\"M-50.234375 6 C-14.368987968103163 6, 21.496399063793675 6, 50.234375 6 M-50.234375 6 C-10.550562369234186 6, 29.13325026153163 6, 50.234375 6\" stroke=\"#9370DB\" stroke-width=\"1.3\" fill=\"none\" stroke-dasharray=\"0 0\" style=\"\"/></g><g class=\"divider\" style=\"\"><path d=\"M-50.234375 24 C-12.193365733503292 24, 25.847643532993416 24, 50.234375 24 M-50.234375 24 C-18.535244363618823 24, 13.163886272762355 24, 50.234375 24\" stroke=\"#9370DB\" stroke-width=\"1.3\" fill=\"none\" stroke-dasharray=\"0 0\" style=\"\"/></g></g><g class=\"node default \" id=\"classId-IsometricHold-2\" transform=\"translate(223.8125, 340)\"><g class=\"basic label-container\"><path d=\"M-65.34375 -42 L65.34375 -42 L65.34375 42 L-65.34375 42\" stroke=\"none\" stroke-width=\"0\" fill=\"#ECECFF\" style=\"\"/><path d=\"M-65.34375 -42 C-33.52373298601311 -42, -1.7037159720262167 -42, 65.34375 -42 M-65.34375 -42 C-29.51900326219409 -42, 6.30574347561182 -42, 65.34375 -42 M65.34375 -42 C65.34375 -19.893991705667535, 65.34375 2.2120165886649303, 65.34375 42 M65.34375 -42 C65.34375 -14.44711052895494, 65.34375 13.105778942090119, 65.34375 42 M65.34375 42 C36.76818322002342 42, 8.19261644004684 42, -65.34375 42 M65.34375 42 C33.22205238678256 42, 1.1003547735651154 42, -65.34375 42 M-65.34375 42 C-65.34375 10.348663146039382, -65.34375 -21.302673707921237, -65.34375 -42 M-65.34375 42 C-65.34375 8.887366728711847, -65.34375 -24.225266542576307, -65.34375 -42\" stroke=\"#9370DB\" stroke-width=\"1.3\" fill=\"none\" stroke-dasharray=\"0 0\" style=\"\"/></g><g class=\"annotation-group text\" transform=\"translate(0, -18)\"/><g class=\"label-group text\" transform=\"translate(-53.34375, -18)\"><g class=\"label\" style=\"font-weight: bolder\" transform=\"translate(0,-12)\"><foreignObject width=\"106.6875\" height=\"24\"><div xmlns=\"http://www.w3.org/1999/xhtml\" style=\"display: table-cell; white-space: nowrap; line-height: 1.5; max-width: 142px; text-align: center;\"><span class=\"nodeLabel markdown-node-label\" style=\"\"><p>IsometricHold</p></span></div></foreignObject></g></g><g class=\"members-group text\" transform=\"translate(-53.34375, 30)\"/><g class=\"methods-group text\" transform=\"translate(-53.34375, 60)\"/><g class=\"divider\" style=\"\"><path d=\"M-65.34375 6 C-32.21442760272683 6, 0.9148947945463419 6, 65.34375 6 M-65.34375 6 C-16.07882796088299 6, 33.18609407823402 6, 65.34375 6\" stroke=\"#9370DB\" stroke-width=\"1.3\" fill=\"none\" stroke-dasharray=\"0 0\" style=\"\"/></g><g class=\"divider\" style=\"\"><path d=\"M-65.34375 24 C-18.285857868062045 24, 28.77203426387591 24, 65.34375 24 M-65.34375 24 C-23.629755402739548 24, 18.084239194520904 24, 65.34375 24\" stroke=\"#9370DB\" stroke-width=\"1.3\" fill=\"none\" stroke-dasharray=\"0 0\" style=\"\"/></g></g></g></g></g></svg>"
          },
          "metadata": {}
        }
      ]
    },
    {
      "cell_type": "markdown",
      "source": [
        "You'll notice that some methods (the abstract ones) are in italics, while other (the concrete ones) are in normal text."
      ],
      "metadata": {
        "id": "S39f3WcGwtjH"
      }
    },
    {
      "cell_type": "markdown",
      "source": [
        "## Object references and types: compile-time vs runtime\n",
        "\n",
        "In Java, a variable does not “contain” an object; it holds a **reference**—a pointer—to an object stored elsewhere in memory. A **type** tells the compiler what operations are allowed on that reference. In polymorphic code these come apart: the **static type** (the type written in your code for the variable) may differ from the **runtime type** (the actual class of the object the reference points to). Methods you may *call* are checked against the static type; which *implementation* runs is chosen using the runtime type.\n",
        "\n",
        "- **reference**: a value that points to an object in memory (not the object itself).\n",
        "- **static type**: the declared type of a reference at compile time (what the variable is typed as).\n",
        "- **runtime type**: the actual class of the object the reference currently points to.\n",
        "- **upcasting**: treating a child object as a parent type; implicit and always safe.\n",
        "- **downcasting**: treating a parent-typed reference as a child type; explicit and potentially unsafe.\n",
        "- **polymorphic call**: a method call where the compiler sees the parent/interface method, and at runtime the child’s overridden version runs (dynamic dispatch).\n",
        "\n",
        "### A tiny example that separates the ideas\n",
        "\n",
        "```java\n",
        "Exercise x = new Squat(12);\n",
        "// static type of x: Exercise\n",
        "// runtime type of x: Squat\n",
        "\n",
        "x.perform();        // OK: perform() is in Exercise; Squat’s override runs\n",
        "// x.getReps();     // ❌ compile error: getReps() not in Exercise\n",
        "\n",
        "if (x instanceof Squat) {\n",
        "    Squat s = (Squat) x;   // downcast after checking\n",
        "    System.out.println(s.getReps()); // now OK\n",
        "}\n",
        "```\n",
        "In Java code, you'll end up doing these sorts of checks fairly frequently (checking whether a given object is an **instance of** a class, and then **casting** the variable to that class.\n",
        "\n",
        "The compiler allows `perform()` because **Exercise** declares it. At runtime, **Squat**’s override executes. The compiler *rejects* `getReps()` through `x` because `getReps()` is not part of the static type `Exercise`. After a checked downcast, the call is legal.\n",
        "\n",
        "### What the compiler checks vs what the JVM does\n",
        "\n",
        "| Question                                    | Answer (rule)                                                        | Example                                              |\n",
        "| ------------------------------------------- | -------------------------------------------------------------------- | ---------------------------------------------------- |\n",
        "| What methods may I call?                    | Only those in the **static type** (or its ancestors).                | `x.perform()` allowed if `perform` is in `Exercise`. |\n",
        "| Which method body runs?                     | The override from the **runtime type**.                              | `Squat.perform()` runs, not `Exercise.perform()`.    |\n",
        "| Can I assign child → parent? (**upcast**)   | Yes, implicit and safe.                                              | `Exercise x = new Squat(12);`                        |\n",
        "| Can I assign parent → child? (**downcast**) | Only with an explicit cast; may fail at runtime.                     | `(Squat) x` after `instanceof` check.                |\n",
        "| Fields (not methods)?                       | Field access is based on the **static type**; fields don’t override. | Avoid relying on “hiding” fields; prefer methods.    |\n",
        "\n",
        "### A simple memory picture"
      ],
      "metadata": {
        "id": "S6cKWGNYw5i_"
      }
    },
    {
      "cell_type": "code",
      "source": [
        "# @title\n",
        "mm(\"\"\"\n",
        "flowchart LR\n",
        "    A[\"Exercise x (reference)\"] -->|points to| B[\"new Squat(12) (object)\"]\n",
        "    subgraph Static view\n",
        "    A:::static\n",
        "    end\n",
        "    subgraph Runtime view\n",
        "    B:::runtime\n",
        "    end\n",
        "classDef static fill:#eef,stroke:#99f;\n",
        "classDef runtime fill:#efe,stroke:#9c9;\"\"\")"
      ],
      "metadata": {
        "colab": {
          "base_uri": "https://localhost:8080/",
          "height": 161
        },
        "cellView": "form",
        "id": "5e0RYHdzyUx1",
        "outputId": "e95136b3-9b20-45c3-86c4-e2285fd30771"
      },
      "execution_count": null,
      "outputs": [
        {
          "output_type": "display_data",
          "data": {
            "text/plain": [
              "<IPython.core.display.SVG object>"
            ],
            "image/svg+xml": "<svg xmlns=\"http://www.w3.org/2000/svg\" xmlns:xlink=\"http://www.w3.org/1999/xlink\" id=\"mermaid-svg\" width=\"100%\" class=\"flowchart\" style=\"max-width: 664.84375px;\" viewBox=\"0 0 664.84375 140\" role=\"graphics-document document\" aria-roledescription=\"flowchart-v2\"><style xmlns=\"http://www.w3.org/1999/xhtml\">@import url(&quot;https://cdnjs.cloudflare.com/ajax/libs/font-awesome/6.7.2/css/all.min.css&quot;);</style><style>#mermaid-svg{font-family:&quot;trebuchet ms&quot;,verdana,arial,sans-serif;font-size:16px;fill:#333;}@keyframes edge-animation-frame{from{stroke-dashoffset:0;}}@keyframes dash{to{stroke-dashoffset:0;}}#mermaid-svg .edge-animation-slow{stroke-dasharray:9,5!important;stroke-dashoffset:900;animation:dash 50s linear infinite;stroke-linecap:round;}#mermaid-svg .edge-animation-fast{stroke-dasharray:9,5!important;stroke-dashoffset:900;animation:dash 20s linear infinite;stroke-linecap:round;}#mermaid-svg .error-icon{fill:#552222;}#mermaid-svg .error-text{fill:#552222;stroke:#552222;}#mermaid-svg .edge-thickness-normal{stroke-width:1px;}#mermaid-svg .edge-thickness-thick{stroke-width:3.5px;}#mermaid-svg .edge-pattern-solid{stroke-dasharray:0;}#mermaid-svg .edge-thickness-invisible{stroke-width:0;fill:none;}#mermaid-svg .edge-pattern-dashed{stroke-dasharray:3;}#mermaid-svg .edge-pattern-dotted{stroke-dasharray:2;}#mermaid-svg .marker{fill:#333333;stroke:#333333;}#mermaid-svg .marker.cross{stroke:#333333;}#mermaid-svg svg{font-family:&quot;trebuchet ms&quot;,verdana,arial,sans-serif;font-size:16px;}#mermaid-svg p{margin:0;}#mermaid-svg .label{font-family:&quot;trebuchet ms&quot;,verdana,arial,sans-serif;color:#333;}#mermaid-svg .cluster-label text{fill:#333;}#mermaid-svg .cluster-label span{color:#333;}#mermaid-svg .cluster-label span p{background-color:transparent;}#mermaid-svg .label text,#mermaid-svg span{fill:#333;color:#333;}#mermaid-svg .node rect,#mermaid-svg .node circle,#mermaid-svg .node ellipse,#mermaid-svg .node polygon,#mermaid-svg .node path{fill:#ECECFF;stroke:#9370DB;stroke-width:1px;}#mermaid-svg .rough-node .label text,#mermaid-svg .node .label text,#mermaid-svg .image-shape .label,#mermaid-svg .icon-shape .label{text-anchor:middle;}#mermaid-svg .node .katex path{fill:#000;stroke:#000;stroke-width:1px;}#mermaid-svg .rough-node .label,#mermaid-svg .node .label,#mermaid-svg .image-shape .label,#mermaid-svg .icon-shape .label{text-align:center;}#mermaid-svg .node.clickable{cursor:pointer;}#mermaid-svg .root .anchor path{fill:#333333!important;stroke-width:0;stroke:#333333;}#mermaid-svg .arrowheadPath{fill:#333333;}#mermaid-svg .edgePath .path{stroke:#333333;stroke-width:2.0px;}#mermaid-svg .flowchart-link{stroke:#333333;fill:none;}#mermaid-svg .edgeLabel{background-color:rgba(232,232,232, 0.8);text-align:center;}#mermaid-svg .edgeLabel p{background-color:rgba(232,232,232, 0.8);}#mermaid-svg .edgeLabel rect{opacity:0.5;background-color:rgba(232,232,232, 0.8);fill:rgba(232,232,232, 0.8);}#mermaid-svg .labelBkg{background-color:rgba(232, 232, 232, 0.5);}#mermaid-svg .cluster rect{fill:#ffffde;stroke:#aaaa33;stroke-width:1px;}#mermaid-svg .cluster text{fill:#333;}#mermaid-svg .cluster span{color:#333;}#mermaid-svg div.mermaidTooltip{position:absolute;text-align:center;max-width:200px;padding:2px;font-family:&quot;trebuchet ms&quot;,verdana,arial,sans-serif;font-size:12px;background:hsl(80, 100%, 96.2745098039%);border:1px solid #aaaa33;border-radius:2px;pointer-events:none;z-index:100;}#mermaid-svg .flowchartTitleText{text-anchor:middle;font-size:18px;fill:#333;}#mermaid-svg rect.text{fill:none;stroke-width:0;}#mermaid-svg .icon-shape,#mermaid-svg .image-shape{background-color:rgba(232,232,232, 0.8);text-align:center;}#mermaid-svg .icon-shape p,#mermaid-svg .image-shape p{background-color:rgba(232,232,232, 0.8);padding:2px;}#mermaid-svg .icon-shape rect,#mermaid-svg .image-shape rect{opacity:0.5;background-color:rgba(232,232,232, 0.8);fill:rgba(232,232,232, 0.8);}#mermaid-svg .label-icon{display:inline-block;height:1em;overflow:visible;vertical-align:-0.125em;}#mermaid-svg .node .label-icon path{fill:currentColor;stroke:revert;stroke-width:revert;}#mermaid-svg :root{--mermaid-font-family:&quot;trebuchet ms&quot;,verdana,arial,sans-serif;}#mermaid-svg .static&gt;*{fill:#eef!important;stroke:#99f!important;}#mermaid-svg .static span{fill:#eef!important;stroke:#99f!important;}#mermaid-svg .runtime&gt;*{fill:#efe!important;stroke:#9c9!important;}#mermaid-svg .runtime span{fill:#efe!important;stroke:#9c9!important;}</style><g><marker id=\"mermaid-svg_flowchart-v2-pointEnd\" class=\"marker flowchart-v2\" viewBox=\"0 0 10 10\" refX=\"5\" refY=\"5\" markerUnits=\"userSpaceOnUse\" markerWidth=\"8\" markerHeight=\"8\" orient=\"auto\"><path d=\"M 0 0 L 10 5 L 0 10 z\" class=\"arrowMarkerPath\" style=\"stroke-width: 1; stroke-dasharray: 1, 0;\"/></marker><marker id=\"mermaid-svg_flowchart-v2-pointStart\" class=\"marker flowchart-v2\" viewBox=\"0 0 10 10\" refX=\"4.5\" refY=\"5\" markerUnits=\"userSpaceOnUse\" markerWidth=\"8\" markerHeight=\"8\" orient=\"auto\"><path d=\"M 0 5 L 10 10 L 10 0 z\" class=\"arrowMarkerPath\" style=\"stroke-width: 1; stroke-dasharray: 1, 0;\"/></marker><marker id=\"mermaid-svg_flowchart-v2-circleEnd\" class=\"marker flowchart-v2\" viewBox=\"0 0 10 10\" refX=\"11\" refY=\"5\" markerUnits=\"userSpaceOnUse\" markerWidth=\"11\" markerHeight=\"11\" orient=\"auto\"><circle cx=\"5\" cy=\"5\" r=\"5\" class=\"arrowMarkerPath\" style=\"stroke-width: 1; stroke-dasharray: 1, 0;\"/></marker><marker id=\"mermaid-svg_flowchart-v2-circleStart\" class=\"marker flowchart-v2\" viewBox=\"0 0 10 10\" refX=\"-1\" refY=\"5\" markerUnits=\"userSpaceOnUse\" markerWidth=\"11\" markerHeight=\"11\" orient=\"auto\"><circle cx=\"5\" cy=\"5\" r=\"5\" class=\"arrowMarkerPath\" style=\"stroke-width: 1; stroke-dasharray: 1, 0;\"/></marker><marker id=\"mermaid-svg_flowchart-v2-crossEnd\" class=\"marker cross flowchart-v2\" viewBox=\"0 0 11 11\" refX=\"12\" refY=\"5.2\" markerUnits=\"userSpaceOnUse\" markerWidth=\"11\" markerHeight=\"11\" orient=\"auto\"><path d=\"M 1,1 l 9,9 M 10,1 l -9,9\" class=\"arrowMarkerPath\" style=\"stroke-width: 2; stroke-dasharray: 1, 0;\"/></marker><marker id=\"mermaid-svg_flowchart-v2-crossStart\" class=\"marker cross flowchart-v2\" viewBox=\"0 0 11 11\" refX=\"-1\" refY=\"5.2\" markerUnits=\"userSpaceOnUse\" markerWidth=\"11\" markerHeight=\"11\" orient=\"auto\"><path d=\"M 1,1 l 9,9 M 10,1 l -9,9\" class=\"arrowMarkerPath\" style=\"stroke-width: 2; stroke-dasharray: 1, 0;\"/></marker><g class=\"root\"><g class=\"clusters\"><g class=\"cluster \" id=\"subGraph1\" data-look=\"classic\"><rect style=\"\" x=\"384.984375\" y=\"8\" width=\"271.859375\" height=\"124\"/><g class=\"cluster-label \" transform=\"translate(472.8984375, 8)\"><foreignObject width=\"96.03125\" height=\"24\"><div xmlns=\"http://www.w3.org/1999/xhtml\" style=\"display: table-cell; white-space: nowrap; line-height: 1.5; max-width: 200px; text-align: center;\"><span class=\"nodeLabel \"><p>Runtime view</p></span></div></foreignObject></g></g><g class=\"cluster \" id=\"subGraph0\" data-look=\"classic\"><rect style=\"\" x=\"8\" y=\"8\" width=\"266.5\" height=\"124\"/><g class=\"cluster-label \" transform=\"translate(103.015625, 8)\"><foreignObject width=\"76.46875\" height=\"24\"><div xmlns=\"http://www.w3.org/1999/xhtml\" style=\"display: table-cell; white-space: nowrap; line-height: 1.5; max-width: 200px; text-align: center;\"><span class=\"nodeLabel \"><p>Static view</p></span></div></foreignObject></g></g></g><g class=\"edgePaths\"><path d=\"M249.5,70L253.667,70C257.833,70,266.167,70,279.54,70C292.914,70,311.328,70,329.742,70C348.156,70,366.57,70,379.277,70C391.984,70,398.984,70,402.484,70L405.984,70\" id=\"L_A_B_0\" class=\" edge-thickness-normal edge-pattern-solid edge-thickness-normal edge-pattern-solid flowchart-link\" style=\"\" marker-end=\"url(#mermaid-svg_flowchart-v2-pointEnd)\"/></g><g class=\"edgeLabels\"><g class=\"edgeLabel\" transform=\"translate(329.7421875, 70)\"><g class=\"label\" transform=\"translate(-30.2421875, -12)\"><foreignObject width=\"60.484375\" height=\"24\"><div xmlns=\"http://www.w3.org/1999/xhtml\" class=\"labelBkg\" style=\"display: table-cell; white-space: nowrap; line-height: 1.5; max-width: 200px; text-align: center;\"><span class=\"edgeLabel \"><p>points to</p></span></div></foreignObject></g></g></g><g class=\"nodes\"><g class=\"node default static \" id=\"flowchart-A-0\" transform=\"translate(141.25, 70)\"><rect class=\"basic label-container\" style=\"fill:#eef !important;stroke:#99f !important\" x=\"-108.25\" y=\"-27\" width=\"216.5\" height=\"54\"/><g class=\"label\" style=\"\" transform=\"translate(-78.25, -12)\"><rect/><foreignObject width=\"156.5\" height=\"24\"><div xmlns=\"http://www.w3.org/1999/xhtml\" style=\"display: table-cell; white-space: nowrap; line-height: 1.5; max-width: 200px; text-align: center;\"><span class=\"nodeLabel \"><p>Exercise x (reference)</p></span></div></foreignObject></g></g><g class=\"node default runtime \" id=\"flowchart-B-1\" transform=\"translate(520.9140625, 70)\"><rect class=\"basic label-container\" style=\"fill:#efe !important;stroke:#9c9 !important\" x=\"-110.9296875\" y=\"-27\" width=\"221.859375\" height=\"54\"/><g class=\"label\" style=\"\" transform=\"translate(-80.9296875, -12)\"><rect/><foreignObject width=\"161.859375\" height=\"24\"><div xmlns=\"http://www.w3.org/1999/xhtml\" style=\"display: table-cell; white-space: nowrap; line-height: 1.5; max-width: 200px; text-align: center;\"><span class=\"nodeLabel \"><p>new Squat(12) (object)</p></span></div></foreignObject></g></g></g></g></g></svg>"
          },
          "metadata": {}
        }
      ]
    },
    {
      "cell_type": "markdown",
      "source": [
        "points to a **Squat** object (runtime view).\n",
        "\n",
        "### Safe patterns for beginners\n",
        "\n",
        "1. Program to a **parent or interface** type so your code stays general.\n",
        "\n",
        "   ```java\n",
        "   Trackable t = new HillSprints(6, 12);  // upcast: fine\n",
        "   System.out.println(t.calories());      // allowed by the interface\n",
        "   ```\n",
        "2. Avoid downcasts; when necessary, **check first**.\n",
        "\n",
        "   ```java\n",
        "   if (t instanceof HillSprints) {\n",
        "       HillSprints hs = (HillSprints) t;  // explicit, after check\n",
        "       // use hs-specific methods here\n",
        "   }\n",
        "   ```\n",
        "3. If you need a method on every object in a collection, **put it in the interface/parent** rather than casting everywhere. This keeps polymorphic loops clean and safe.\n",
        "\n",
        "### Frequent mistakes and fixes\n",
        "\n",
        "| Mistake                                                     | Why it happens                                           | Fix                                                                    |\n",
        "| ----------------------------------------------------------- | -------------------------------------------------------- | ---------------------------------------------------------------------- |\n",
        "| Calling a subclass-only method on a parent-typed variable   | Method not in the static type, so the compiler blocks it | Add the method to the interface/parent, or downcast after `instanceof` |\n",
        "| Casting without checking                                    | May throw `ClassCastException` at runtime                | Use `instanceof` (or redesign to avoid casts)                          |\n",
        "| Expecting fields to “override”                              | Fields don’t participate in dynamic dispatch             | Access via methods that can be overridden                              |\n",
        "| Mixing types in arrays/lists then assuming a single subtype | The static type is general; objects vary                 | Keep code polymorphic, or check/cast per element carefully             |"
      ],
      "metadata": {
        "id": "Sd4yt0kTyeRE"
      }
    },
    {
      "cell_type": "code",
      "source": [],
      "metadata": {
        "id": "EbIZ36EDyjkT"
      },
      "execution_count": null,
      "outputs": []
    },
    {
      "cell_type": "markdown",
      "source": [
        "## Exercise: Abstract Person hierarchy\n",
        "\n",
        "You will practice **abstract classes** and **polymorphism** in a single Java file. An **abstract class** (declared with `abstract`) can hold fields, constructors, and normal methods, but it may also declare **abstract methods** (no bodies) that **concrete subclasses** must implement. Use `extends` for inheritance, `super(...)` to call a parent constructor, and `@Override` to replace behavior.\n",
        "\n",
        "**Goal:** write an abstract **`Person`** with a shared greeting, then two concrete subclasses—**`Coach`** and **`Rookie`**—that supply their own daily plans. Finish with a tiny tester that treats them as `Person` objects and calls the same methods."
      ],
      "metadata": {
        "id": "2mvMRqaN0E5Z"
      }
    },
    {
      "cell_type": "code",
      "source": [
        "%%writefile PersonExercise.java\n",
        "// Starter with TODOs — fill them in. Keep methods short and readable.\n",
        "\n",
        "// ===== Abstract parent =====\n",
        "abstract class Person {\n",
        "    // TODO: private field for the person's name\n",
        "    // TODO: constructor Person(String name) that stores the name\n",
        "    // TODO: public String getName()\n",
        "\n",
        "    // Shared behavior (concrete method)\n",
        "    public String greet() {\n",
        "        // TODO: return a short friendly greeting that uses the person's name\n",
        "        return null; // replace\n",
        "    }\n",
        "\n",
        "    // Required behavior (abstract method — no body here)\n",
        "    public abstract String dailyPlan(); // each subclass must provide its own plan\n",
        "}\n",
        "\n",
        "// ===== Concrete subclass 1 =====\n",
        "class Coach extends Person {\n",
        "    // TODO: private String specialty;  // e.g., \"strength\", \"mobility\"\n",
        "\n",
        "    // TODO: constructor Coach(String name, String specialty)\n",
        "    //   - call the parent constructor with super(name)\n",
        "    //   - store specialty\n",
        "\n",
        "    @Override\n",
        "    public String dailyPlan() {\n",
        "        // TODO: return a one-line plan that mentions the specialty\n",
        "        // e.g., \"Coach plan: technique drills for strength.\"\n",
        "        return null; // replace\n",
        "    }\n",
        "\n",
        "    // (Optional) @Override greet() to add a coachy flourish; call super.greet() first.\n",
        "}\n",
        "\n",
        "// ===== Concrete subclass 2 =====\n",
        "class Rookie extends Person {\n",
        "    // TODO: private int level; // 1 (beginner) ... 10 (advanced)\n",
        "\n",
        "    // TODO: constructor Rookie(String name, int level)\n",
        "    //   - call super(name)\n",
        "    //   - store level\n",
        "\n",
        "    @Override\n",
        "    public String dailyPlan() {\n",
        "        // TODO: return a one-line plan that adapts to level\n",
        "        // e.g., \"Rookie plan: easy circuit (level 2).\"\n",
        "        return null; // replace\n",
        "    }\n",
        "}\n",
        "\n",
        "// ===== Tiny tester (treat everything as Person) =====\n",
        "public class PersonExercise {\n",
        "    public static void main(String[] args) {\n",
        "        // TODO: instantiate at least one Coach and one Rookie with sensible values\n",
        "        // Person a = new Coach(...);\n",
        "        // Person b = new Rookie(...);\n",
        "\n",
        "        // TODO: put them into a Person[] or java.util.ArrayList<Person>\n",
        "        // Person[] people = { a, b };\n",
        "\n",
        "        // TODO: loop over the collection:\n",
        "        //   - print p.greet()\n",
        "        //   - print p.dailyPlan()\n",
        "        //   - observe: same calls, different outputs (polymorphism)\n",
        "    }\n",
        "}\n"
      ],
      "metadata": {
        "id": "5BTGpUOy0Hov"
      },
      "execution_count": null,
      "outputs": []
    },
    {
      "cell_type": "code",
      "source": [
        "!javac PersonExercise.java\n",
        "!java PersonExercise"
      ],
      "metadata": {
        "id": "gY6wQMA00aZk"
      },
      "execution_count": null,
      "outputs": []
    },
    {
      "cell_type": "markdown",
      "source": [
        "**Checklist**\n",
        "\n",
        "| Item                    | What to do                                                              | Why it matters                                   |\n",
        "| ----------------------- | ----------------------------------------------------------------------- | ------------------------------------------------ |\n",
        "| **abstract class**      | Declare `abstract class Person` and one `abstract` method `dailyPlan()` | Forces subclasses to supply the missing behavior |\n",
        "| **constructor + super** | In each subclass constructor, call `super(name)`                        | Initializes the parent part correctly            |\n",
        "| **override**            | Mark subclass methods with `@Override`                                  | The compiler verifies the **method signature**   |\n",
        "| **encapsulation**       | Keep fields `private`; use constructor + getters                        | Clear, safe object design                        |\n",
        "| **polymorphism**        | Store mixed objects as `Person` and call the same methods               | One loop, many behaviors without casts   "
      ],
      "metadata": {
        "id": "nBulNffd0dwF"
      }
    },
    {
      "cell_type": "markdown",
      "source": [
        "## Static and final: class-wide tools and unchangeable things\n",
        "\n",
        "When many objects need the *same* fact or helper, putting that data on each object is wasteful and error-prone. If one copy drifts out of sync, bugs creep in. **static** solves this by creating **one class-level member** shared by every instance. When some values must never change after they are set—IDs, constants, configuration knobs—**final** guards them. The real payoff is **clarity**: readers immediately see what is shared and what is locked down, so the codebase has fewer moving parts.\n",
        "\n",
        "- **static**: a **class-level** member shared by all instances, accessed as `ClassName.member`. A **static method** has no `this` and does not read instance fields.\n",
        "- **final**: **unchangeable** after initialization. A **final variable** cannot be reassigned; a **final method** cannot be overridden; a **final class** cannot be extended.\n",
        "\n",
        "A small, concrete use: a shared conversion constant and a stateless helper.\n",
        "\n",
        "```java\n",
        "class GymMath {\n",
        "    public static final double KG_TO_LB = 2.20462;\n",
        "    public static double toPounds(double kg) { return kg * KG_TO_LB; }\n",
        "}\n",
        "```\n",
        "\n",
        "Why this design helps: there is a **single source of truth** for the conversion rate; every caller sees the same value; tests do not need to fabricate objects just to call `toPounds`.\n",
        "\n",
        "You also use **final** to make identities stable. An ID that can change mid-program is a recipe for subtle bugs.\n",
        "\n",
        "```java\n",
        "class Membership {\n",
        "    private final String id;              // set once, then fixed\n",
        "    public Membership(String id) { this.id = id; }\n",
        "    public String id() { return id; }\n",
        "}\n",
        "```\n",
        "\n",
        "This makes it safe to pass `Membership` around; downstream code can rely on `id()` always returning the same string. Note an important nuance: **final reference vs. mutable object**. If `id` were an object with internal state, `final` would freeze the *reference*, not the object’s internals.\n",
        "\n",
        "```java\n",
        "final StringBuilder sb = new StringBuilder(\"hi\");\n",
        "// sb = new StringBuilder(\"bye\");     // ❌ cannot reassign (final reference)\n",
        "// sb.append(\" there\");                // ✅ contents can change (object is mutable)\n",
        "```\n",
        "\n",
        "Short example of a **final method** that asserts a non-negotiable rule in a hierarchy:\n",
        "\n",
        "```java\n",
        "class Person {\n",
        "    public final String role() { return \"member\"; }  // guaranteed, not overridable\n",
        "}\n",
        "```\n",
        "\n",
        "This guarantees a baseline contract across subclasses; useful for invariants and security checks.\n",
        "\n",
        "### Why these keywords matter in practice\n",
        "\n",
        "Students often reach for instance fields and ad-hoc numbers (“magic numbers”). Centralizing constants as `public static final` eliminates duplication, improves readability (“where did 2.20462 come from?”), and prevents accidental edits. Similarly, `static` utility methods make intent explicit: “this calculation has no per-object state.” **final** communicates design intent: “this won’t change.” That intent helps the compiler catch mistakes and helps human readers reason about the code—especially in larger projects or concurrent programs where shared mutable state is dangerous.\n",
        "\n",
        "A compact reference:\n",
        "\n",
        "| Feature                 | Exact effect                                    | Typical use                              |\n",
        "| ----------------------- | ----------------------------------------------- | ---------------------------------------- |\n",
        "| **static field**        | One shared variable per class                   | Caches, counters, universal flags        |\n",
        "| **static method**       | Callable via `ClassName.m(...)`; no `this`      | Utilities, factories, pure calculations  |\n",
        "| **final local/field**   | Assigned once; no reassignment                  | IDs, knobs, constants                    |\n",
        "| **final method**        | Cannot be overridden                            | Enforce invariants across subclasses     |\n",
        "| **final class**         | Cannot be subclassed                            | Immutable value types, utility holders   |\n",
        "| **public static final** | Compile-time **constant** (primitives/`String`) | `Math.PI`, version strings, unit factors |\n",
        "\n",
        "### Instance vs. static (design choice, not just syntax)\n",
        "\n",
        "Prefer **instance members** when behavior depends on an object’s state; prefer **static** when behavior is the same for everyone and uses no instance data. Overusing static can hurt testability (shared state leaks between tests), while underusing it spreads the same value across many objects.\n",
        "\n",
        "| Question                       | Instance member                         | Static member                                                   |\n",
        "| ------------------------------ | --------------------------------------- | --------------------------------------------------------------- |\n",
        "| How do you access it?          | `obj.method()`                          | `ClassName.method()`                                            |\n",
        "| Shares state across objects?   | No                                      | Yes (one copy)                                                  |\n",
        "| Uses `this` / instance fields? | Yes                                     | No                                                              |\n",
        "| Interacts with overriding?     | Methods can be overridden (polymorphic) | Methods are **hidden**, not overridden—treat as non-polymorphic |\n",
        "\n",
        "**Smells to avoid.** A `static` field that changes often behaves like a global variable—hard to reason about and hard to test. A `final` field that holds a mutable object may still allow hidden changes; prefer immutable types (e.g., `String`, records) for true constants. Use `public static final` only for values known at compile time; otherwise keep fields `private` and expose read-only accessors.\n",
        "\n",
        "In short, use **static** to say “one shared fact,” and **final** to say “this cannot change.” Those two signals make programs easier to read, test, and trust.\n"
      ],
      "metadata": {
        "id": "5YgdRhCz1i9e"
      }
    },
    {
      "cell_type": "markdown",
      "source": [
        "## How this connects to what you already know (main, System.out.println, toString)\n",
        "\n",
        "You’ve been using `public static void main`, `System.out.println`, and object printing since the first week. With **inheritance**, **interfaces**, and **static/final** under your belt, we can now *explain* why they look the way they do. Think of this section as putting names to habits you already have.\n",
        "\n",
        "### The key ideas, stated carefully\n",
        "\n",
        "| **Term**             | **Precise definition**                                                                                    | **Why beginners care**                                                       |\n",
        "| -------------------- | --------------------------------------------------------------------------------------------------------- | ---------------------------------------------------------------------------- |\n",
        "| **static**           | Belongs to the **class** itself, not to any one object. Access with `ClassName.member`.                   | Lets the program *start* and share tools without creating objects.           |\n",
        "| **entry point**      | The exact method the JVM calls to begin running your code.                                                | Explains why `main` has a fixed shape.                                       |\n",
        "| **instance method**  | A method that uses an object’s state via `this`.                                                          | Explains why `println` depends on the *stream object* it prints to.          |\n",
        "| **override**         | A subclass provides a new body with the **same method signature** as the parent.                          | Powers “print my object nicely” via `toString()`.                            |\n",
        "| **dynamic dispatch** | At runtime, Java picks the most specific overridden method to run based on the object’s **actual class**. | `System.out.println(x)` calls *your* `toString()` if you wrote one.          |\n",
        "| **interface**        | A **contract** listing method signatures (no bodies) that many classes can implement.                     | Shows why code talks to “capabilities” like `List`, not to specific classes. |\n",
        "\n",
        "### Why `main` is `public static void main(String[] args)`\n",
        "\n",
        "Before any objects exist, the JVM must be able to *call something*. A **static** method belongs to the class, so it doesn’t need an object. That is why `main` is static and has a fixed **signature** (name + parameter types + return type) the JVM recognizes.\n",
        "\n",
        "```java\n",
        "// No object required: the JVM can call this directly.\n",
        "public class Launcher {\n",
        "    public static void main(String[] args) {\n",
        "        // start your program here\n",
        "    }\n",
        "}\n",
        "```\n",
        "\n",
        "* **public**: the JVM (outside your class) must be able to call it.\n",
        "* **static**: no object exists yet.\n",
        "* **void**: nothing is returned to the JVM.\n",
        "* **String\\[] args**: command-line arguments arrive as an array of strings.\n",
        "\n",
        "### Why `System.out.println` mixes static and instance\n",
        "\n",
        "`System` is a class that exposes one shared print stream, `out`. That field is **public static final** (a constant reference), so everyone can use the same stream. But `println` is an **instance method** of the stream object (`PrintStream`), because printing depends on the stream’s state (buffering, destination, etc.).\n"
      ],
      "metadata": {
        "id": "nvIuzChx3gjr"
      }
    },
    {
      "cell_type": "code",
      "source": [
        "mm(\"\"\"\n",
        "classDiagram\n",
        "    class System {\n",
        "      + out : PrintStream  // public static final\n",
        "    }\n",
        "    class PrintStream {\n",
        "      + println(String) void  // instance method\n",
        "    }\n",
        "    System o--> PrintStream : shares 'out'\"\"\")"
      ],
      "metadata": {
        "colab": {
          "base_uri": "https://localhost:8080/",
          "height": 357
        },
        "id": "pgzOxI3N3lYq",
        "outputId": "26742406-562a-4799-9703-bdf1b03f3814"
      },
      "execution_count": null,
      "outputs": [
        {
          "output_type": "display_data",
          "data": {
            "text/plain": [
              "<IPython.core.display.SVG object>"
            ],
            "image/svg+xml": "<svg xmlns=\"http://www.w3.org/2000/svg\" xmlns:xlink=\"http://www.w3.org/1999/xlink\" id=\"mermaid-svg\" width=\"100%\" class=\"classDiagram\" style=\"max-width: 373.0546875px;\" viewBox=\"0 0 373.0546875 336\" role=\"graphics-document document\" aria-roledescription=\"class\"><style xmlns=\"http://www.w3.org/1999/xhtml\">@import url(&quot;https://cdnjs.cloudflare.com/ajax/libs/font-awesome/6.7.2/css/all.min.css&quot;);</style><style>#mermaid-svg{font-family:&quot;trebuchet ms&quot;,verdana,arial,sans-serif;font-size:16px;fill:#333;}@keyframes edge-animation-frame{from{stroke-dashoffset:0;}}@keyframes dash{to{stroke-dashoffset:0;}}#mermaid-svg .edge-animation-slow{stroke-dasharray:9,5!important;stroke-dashoffset:900;animation:dash 50s linear infinite;stroke-linecap:round;}#mermaid-svg .edge-animation-fast{stroke-dasharray:9,5!important;stroke-dashoffset:900;animation:dash 20s linear infinite;stroke-linecap:round;}#mermaid-svg .error-icon{fill:#552222;}#mermaid-svg .error-text{fill:#552222;stroke:#552222;}#mermaid-svg .edge-thickness-normal{stroke-width:1px;}#mermaid-svg .edge-thickness-thick{stroke-width:3.5px;}#mermaid-svg .edge-pattern-solid{stroke-dasharray:0;}#mermaid-svg .edge-thickness-invisible{stroke-width:0;fill:none;}#mermaid-svg .edge-pattern-dashed{stroke-dasharray:3;}#mermaid-svg .edge-pattern-dotted{stroke-dasharray:2;}#mermaid-svg .marker{fill:#333333;stroke:#333333;}#mermaid-svg .marker.cross{stroke:#333333;}#mermaid-svg svg{font-family:&quot;trebuchet ms&quot;,verdana,arial,sans-serif;font-size:16px;}#mermaid-svg p{margin:0;}#mermaid-svg g.classGroup text{fill:#9370DB;stroke:none;font-family:&quot;trebuchet ms&quot;,verdana,arial,sans-serif;font-size:10px;}#mermaid-svg g.classGroup text .title{font-weight:bolder;}#mermaid-svg .nodeLabel,#mermaid-svg .edgeLabel{color:#131300;}#mermaid-svg .edgeLabel .label rect{fill:#ECECFF;}#mermaid-svg .label text{fill:#131300;}#mermaid-svg .labelBkg{background:#ECECFF;}#mermaid-svg .edgeLabel .label span{background:#ECECFF;}#mermaid-svg .classTitle{font-weight:bolder;}#mermaid-svg .node rect,#mermaid-svg .node circle,#mermaid-svg .node ellipse,#mermaid-svg .node polygon,#mermaid-svg .node path{fill:#ECECFF;stroke:#9370DB;stroke-width:1px;}#mermaid-svg .divider{stroke:#9370DB;stroke-width:1;}#mermaid-svg g.clickable{cursor:pointer;}#mermaid-svg g.classGroup rect{fill:#ECECFF;stroke:#9370DB;}#mermaid-svg g.classGroup line{stroke:#9370DB;stroke-width:1;}#mermaid-svg .classLabel .box{stroke:none;stroke-width:0;fill:#ECECFF;opacity:0.5;}#mermaid-svg .classLabel .label{fill:#9370DB;font-size:10px;}#mermaid-svg .relation{stroke:#333333;stroke-width:1;fill:none;}#mermaid-svg .dashed-line{stroke-dasharray:3;}#mermaid-svg .dotted-line{stroke-dasharray:1 2;}#mermaid-svg #compositionStart,#mermaid-svg .composition{fill:#333333!important;stroke:#333333!important;stroke-width:1;}#mermaid-svg #compositionEnd,#mermaid-svg .composition{fill:#333333!important;stroke:#333333!important;stroke-width:1;}#mermaid-svg #dependencyStart,#mermaid-svg .dependency{fill:#333333!important;stroke:#333333!important;stroke-width:1;}#mermaid-svg #dependencyStart,#mermaid-svg .dependency{fill:#333333!important;stroke:#333333!important;stroke-width:1;}#mermaid-svg #extensionStart,#mermaid-svg .extension{fill:transparent!important;stroke:#333333!important;stroke-width:1;}#mermaid-svg #extensionEnd,#mermaid-svg .extension{fill:transparent!important;stroke:#333333!important;stroke-width:1;}#mermaid-svg #aggregationStart,#mermaid-svg .aggregation{fill:transparent!important;stroke:#333333!important;stroke-width:1;}#mermaid-svg #aggregationEnd,#mermaid-svg .aggregation{fill:transparent!important;stroke:#333333!important;stroke-width:1;}#mermaid-svg #lollipopStart,#mermaid-svg .lollipop{fill:#ECECFF!important;stroke:#333333!important;stroke-width:1;}#mermaid-svg #lollipopEnd,#mermaid-svg .lollipop{fill:#ECECFF!important;stroke:#333333!important;stroke-width:1;}#mermaid-svg .edgeTerminals{font-size:11px;line-height:initial;}#mermaid-svg .classTitleText{text-anchor:middle;font-size:18px;fill:#333;}#mermaid-svg .label-icon{display:inline-block;height:1em;overflow:visible;vertical-align:-0.125em;}#mermaid-svg .node .label-icon path{fill:currentColor;stroke:revert;stroke-width:revert;}#mermaid-svg :root{--mermaid-font-family:&quot;trebuchet ms&quot;,verdana,arial,sans-serif;}</style><g><defs><marker id=\"mermaid-svg_class-aggregationStart\" class=\"marker aggregation class\" refX=\"18\" refY=\"7\" markerWidth=\"190\" markerHeight=\"240\" orient=\"auto\"><path d=\"M 18,7 L9,13 L1,7 L9,1 Z\"/></marker></defs><defs><marker id=\"mermaid-svg_class-aggregationEnd\" class=\"marker aggregation class\" refX=\"1\" refY=\"7\" markerWidth=\"20\" markerHeight=\"28\" orient=\"auto\"><path d=\"M 18,7 L9,13 L1,7 L9,1 Z\"/></marker></defs><defs><marker id=\"mermaid-svg_class-extensionStart\" class=\"marker extension class\" refX=\"18\" refY=\"7\" markerWidth=\"190\" markerHeight=\"240\" orient=\"auto\"><path d=\"M 1,7 L18,13 V 1 Z\"/></marker></defs><defs><marker id=\"mermaid-svg_class-extensionEnd\" class=\"marker extension class\" refX=\"1\" refY=\"7\" markerWidth=\"20\" markerHeight=\"28\" orient=\"auto\"><path d=\"M 1,1 V 13 L18,7 Z\"/></marker></defs><defs><marker id=\"mermaid-svg_class-compositionStart\" class=\"marker composition class\" refX=\"18\" refY=\"7\" markerWidth=\"190\" markerHeight=\"240\" orient=\"auto\"><path d=\"M 18,7 L9,13 L1,7 L9,1 Z\"/></marker></defs><defs><marker id=\"mermaid-svg_class-compositionEnd\" class=\"marker composition class\" refX=\"1\" refY=\"7\" markerWidth=\"20\" markerHeight=\"28\" orient=\"auto\"><path d=\"M 18,7 L9,13 L1,7 L9,1 Z\"/></marker></defs><defs><marker id=\"mermaid-svg_class-dependencyStart\" class=\"marker dependency class\" refX=\"6\" refY=\"7\" markerWidth=\"190\" markerHeight=\"240\" orient=\"auto\"><path d=\"M 5,7 L9,13 L1,7 L9,1 Z\"/></marker></defs><defs><marker id=\"mermaid-svg_class-dependencyEnd\" class=\"marker dependency class\" refX=\"13\" refY=\"7\" markerWidth=\"20\" markerHeight=\"28\" orient=\"auto\"><path d=\"M 18,7 L9,13 L14,7 L9,1 Z\"/></marker></defs><defs><marker id=\"mermaid-svg_class-lollipopStart\" class=\"marker lollipop class\" refX=\"13\" refY=\"7\" markerWidth=\"190\" markerHeight=\"240\" orient=\"auto\"><circle stroke=\"black\" fill=\"transparent\" cx=\"7\" cy=\"7\" r=\"6\"/></marker></defs><defs><marker id=\"mermaid-svg_class-lollipopEnd\" class=\"marker lollipop class\" refX=\"1\" refY=\"7\" markerWidth=\"190\" markerHeight=\"240\" orient=\"auto\"><circle stroke=\"black\" fill=\"transparent\" cx=\"7\" cy=\"7\" r=\"6\"/></marker></defs><g class=\"root\"><g class=\"clusters\"/><g class=\"edgePaths\"><path d=\"M186.527,146L186.527,149.167C186.527,152.333,186.527,158.667,186.527,167C186.527,175.333,186.527,185.667,186.527,190.833L186.527,196\" id=\"id_System_PrintStream_1\" class=\" edge-thickness-normal edge-pattern-solid relation\" style=\"\" marker-start=\"url(#mermaid-svg_class-aggregationStart)\" marker-end=\"url(#mermaid-svg_class-dependencyEnd)\"/></g><g class=\"edgeLabels\"><g class=\"edgeLabel\" transform=\"translate(186.52734375, 165)\"><g class=\"label\" transform=\"translate(-40.4140625, -12)\"><foreignObject width=\"80.828125\" height=\"24\"><div xmlns=\"http://www.w3.org/1999/xhtml\" style=\"display: table-cell; white-space: nowrap; line-height: 1.5; max-width: 200px; text-align: center;\" class=\"labelBkg\"><span style=\";display: inline-block\" class=\"edgeLabel \"><p>shares 'out'</p></span></div></foreignObject></g></g></g><g class=\"nodes\"><g class=\"node default \" id=\"classId-System-0\" transform=\"translate(186.52734375, 68)\"><g class=\"basic label-container\"><path d=\"M-160.73828125 -60 L160.73828125 -60 L160.73828125 60 L-160.73828125 60\" stroke=\"none\" stroke-width=\"0\" fill=\"#ECECFF\" style=\"\"/><path d=\"M-160.73828125 -60 C-61.94553951909893 -60, 36.84720221180214 -60, 160.73828125 -60 M-160.73828125 -60 C-80.34244387668919 -60, 0.053393496621623626 -60, 160.73828125 -60 M160.73828125 -60 C160.73828125 -28.64115656222584, 160.73828125 2.717686875548317, 160.73828125 60 M160.73828125 -60 C160.73828125 -17.30605629173001, 160.73828125 25.387887416539982, 160.73828125 60 M160.73828125 60 C93.57093709542096 60, 26.403592940841918 60, -160.73828125 60 M160.73828125 60 C87.08452159851083 60, 13.430761947021665 60, -160.73828125 60 M-160.73828125 60 C-160.73828125 35.71762426900042, -160.73828125 11.435248538000835, -160.73828125 -60 M-160.73828125 60 C-160.73828125 15.628168202355198, -160.73828125 -28.743663595289604, -160.73828125 -60\" stroke=\"#9370DB\" stroke-width=\"1.3\" fill=\"none\" stroke-dasharray=\"0 0\" style=\"\"/></g><g class=\"annotation-group text\" transform=\"translate(0, -36)\"/><g class=\"label-group text\" transform=\"translate(-28.4609375, -36)\"><g class=\"label\" style=\"font-weight: bolder\" transform=\"translate(0,-12)\"><foreignObject width=\"56.921875\" height=\"24\"><div xmlns=\"http://www.w3.org/1999/xhtml\" style=\"display: table-cell; white-space: nowrap; line-height: 1.5; max-width: 98px; text-align: center;\"><span class=\"nodeLabel markdown-node-label\" style=\"\"><p>System</p></span></div></foreignObject></g></g><g class=\"members-group text\" transform=\"translate(-148.73828125, 12)\"><g class=\"label\" style=\"\" transform=\"translate(0,-12)\"><foreignObject width=\"269.015625\" height=\"24\"><div xmlns=\"http://www.w3.org/1999/xhtml\" style=\"display: table-cell; white-space: nowrap; line-height: 1.5; max-width: 305px; text-align: center;\"><span class=\"nodeLabel markdown-node-label\" style=\"\"><p>+ out : PrintStream  // public static final</p></span></div></foreignObject></g></g><g class=\"methods-group text\" transform=\"translate(-148.73828125, 60)\"/><g class=\"divider\" style=\"\"><path d=\"M-160.73828125 -12 C-65.91045079807914 -12, 28.91737965384172 -12, 160.73828125 -12 M-160.73828125 -12 C-39.37777386884754 -12, 81.98273351230492 -12, 160.73828125 -12\" stroke=\"#9370DB\" stroke-width=\"1.3\" fill=\"none\" stroke-dasharray=\"0 0\" style=\"\"/></g><g class=\"divider\" style=\"\"><path d=\"M-160.73828125 36 C-65.3424339470987 36, 30.053413355802604 36, 160.73828125 36 M-160.73828125 36 C-91.57486927975116 36, -22.41145730950231 36, 160.73828125 36\" stroke=\"#9370DB\" stroke-width=\"1.3\" fill=\"none\" stroke-dasharray=\"0 0\" style=\"\"/></g></g><g class=\"node default \" id=\"classId-PrintStream-1\" transform=\"translate(186.52734375, 265)\"><g class=\"basic label-container\"><path d=\"M-178.52734375 -63 L178.52734375 -63 L178.52734375 63 L-178.52734375 63\" stroke=\"none\" stroke-width=\"0\" fill=\"#ECECFF\" style=\"\"/><path d=\"M-178.52734375 -63 C-81.48872560697194 -63, 15.54989253605612 -63, 178.52734375 -63 M-178.52734375 -63 C-52.78759890272735 -63, 72.9521459445453 -63, 178.52734375 -63 M178.52734375 -63 C178.52734375 -33.23790259091176, 178.52734375 -3.4758051818235245, 178.52734375 63 M178.52734375 -63 C178.52734375 -31.84522392692308, 178.52734375 -0.6904478538461589, 178.52734375 63 M178.52734375 63 C68.60698068963124 63, -41.313382370737514 63, -178.52734375 63 M178.52734375 63 C79.82978143667945 63, -18.867780876641092 63, -178.52734375 63 M-178.52734375 63 C-178.52734375 17.073712357153227, -178.52734375 -28.852575285693547, -178.52734375 -63 M-178.52734375 63 C-178.52734375 20.876871312087246, -178.52734375 -21.246257375825508, -178.52734375 -63\" stroke=\"#9370DB\" stroke-width=\"1.3\" fill=\"none\" stroke-dasharray=\"0 0\" style=\"\"/></g><g class=\"annotation-group text\" transform=\"translate(0, -39)\"/><g class=\"label-group text\" transform=\"translate(-45.3515625, -39)\"><g class=\"label\" style=\"font-weight: bolder\" transform=\"translate(0,-12)\"><foreignObject width=\"90.703125\" height=\"24\"><div xmlns=\"http://www.w3.org/1999/xhtml\" style=\"display: table-cell; white-space: nowrap; line-height: 1.5; max-width: 127px; text-align: center;\"><span class=\"nodeLabel markdown-node-label\" style=\"\"><p>PrintStream</p></span></div></foreignObject></g></g><g class=\"members-group text\" transform=\"translate(-166.52734375, 9)\"/><g class=\"methods-group text\" transform=\"translate(-166.52734375, 39)\"><g class=\"label\" style=\"\" transform=\"translate(0,-12)\"><foreignObject width=\"287.703125\" height=\"24\"><div xmlns=\"http://www.w3.org/1999/xhtml\" style=\"display: table-cell; white-space: nowrap; line-height: 1.5; max-width: 322px; text-align: center;\"><span class=\"nodeLabel markdown-node-label\" style=\"\"><p>+ println(String) : void  // instance method</p></span></div></foreignObject></g></g><g class=\"divider\" style=\"\"><path d=\"M-178.52734375 -15 C-106.21721891625043 -15, -33.90709408250086 -15, 178.52734375 -15 M-178.52734375 -15 C-60.908784130005955 -15, 56.70977548998809 -15, 178.52734375 -15\" stroke=\"#9370DB\" stroke-width=\"1.3\" fill=\"none\" stroke-dasharray=\"0 0\" style=\"\"/></g><g class=\"divider\" style=\"\"><path d=\"M-178.52734375 9 C-102.79020105463843 9, -27.05305835927686 9, 178.52734375 9 M-178.52734375 9 C-83.26705981287824 9, 11.993224124243511 9, 178.52734375 9\" stroke=\"#9370DB\" stroke-width=\"1.3\" fill=\"none\" stroke-dasharray=\"0 0\" style=\"\"/></g></g></g></g></g></svg>"
          },
          "metadata": {}
        }
      ]
    },
    {
      "cell_type": "markdown",
      "source": [
        "Short code to read with this picture in mind:\n",
        "\n",
        "```java\n",
        "System.out.println(\"Hello\"); // System (class) → out (shared object) → println (instance)\n",
        "```\n",
        "\n",
        "* **System**: class name (no object).\n",
        "* **out**: one shared stream object (a constant).\n",
        "* **println**: method *on that object*.\n",
        "\n",
        "### Why printing an object calls *your* `toString()`\n",
        "\n",
        "Every class ultimately extends `java.lang.Object`, which defines a default `toString()`. When you **override** `toString()` in your class, **dynamic dispatch** ensures your version runs—even if the variable is typed as a parent or an interface.\n",
        "\n",
        "```java\n",
        "class Badge {\n",
        "    private final String name;\n",
        "    public Badge(String n) { this.name = n; }\n",
        "\n",
        "    @Override\n",
        "    public String toString() {   // override: same signature, new body\n",
        "        return \"Badge(\" + name + \")\";\n",
        "    }\n",
        "}\n",
        "\n",
        "Object x = new Badge(\"Rookie\");  // static type: Object; runtime type: Badge\n",
        "System.out.println(x);           // prints: Badge(Rookie)  ← your toString()\n",
        "```\n",
        "\n",
        "* The **static type** (`Object`) limits which methods you may *call* at compile time.\n",
        "* The **runtime type** (`Badge`) decides *which body runs* at print time.\n",
        "\n",
        "### Why you write `List<String> xs = new ArrayList<>();`\n",
        "\n",
        "`List` is an **interface**—a contract for list behavior. `ArrayList` is one **implementation**. By programming to the contract, you let Java choose different concrete classes later (e.g., `LinkedList`) without changing your loop logic.\n",
        "\n",
        "```java\n",
        "import java.util.*;\n",
        "\n",
        "List<String> xs = new ArrayList<>(); // talk to the interface\n",
        "xs.add(\"A\"); xs.add(\"B\");\n",
        "Collections.sort(xs);                // works because elements are Comparable\n",
        "```\n",
        "\n",
        "This is the same idea you used in the chapter: write loops against a parent type (**inheritance**) or an **interface**, and let **polymorphism** pick the right method bodies.\n",
        "\n",
        "### Putting the pieces side by side\n",
        "\n",
        "| Familiar code                  | Chapter idea that explains it                         | What to notice now                                                  |\n",
        "| ------------------------------ | ----------------------------------------------------- | ------------------------------------------------------------------- |\n",
        "| `public static void main(...)` | **static** + fixed **signature** (entry point)        | The program starts *before* objects exist.                          |\n",
        "| `System.out.println(...)`      | **public static final** field + **instance** method   | Class gives one shared stream; the stream object does the printing. |\n",
        "| Printing objects nicely        | **override** + **dynamic dispatch**                   | Your `toString()` runs even through a parent-typed reference.       |\n",
        "| `List` / `ArrayList`           | **interfaces** + **polymorphism**                     | Code talks to the contract; many classes can satisfy it.            |\n",
        "| `Math.PI`, `Math.sqrt`         | **public static final** constant + **static** utility | One agreed value; stateless helpers don’t need objects.             |\n",
        "\n",
        "Short mental models help:\n",
        "\n",
        "* If many places need the *same* fact or tool, think **`public static final`** (for facts) and **static methods** (for stateless tools).\n",
        "* If a loop should work for *many kinds* of objects, put the method you need in a **parent class or interface**, then rely on **overriding**.\n",
        "* If something must run *before* any objects exist, it must be **static** (like `main`).\n"
      ],
      "metadata": {
        "id": "M0aRJ5II3wxh"
      }
    },
    {
      "cell_type": "markdown",
      "source": [
        "## Conclusion\n",
        "\n",
        "You now have a small design toolkit that explains a lot of Java’s shape. **Inheritance** lets you define a general type once and specialize it safely in **subclasses**. **Polymorphism** means a variable typed as a parent (or an **interface**) can trigger different method bodies at runtime—one loop, many behaviors. An **interface** is a **contract** (method names, parameters, return types, no bodies). An **abstract class** is a **blueprint** (shared fields and real methods plus at least one abstract method with no body). **static** marks class-level tools; **final** marks things that cannot change. With these, programs read like promises: what is shared, what varies, and who must provide what.\n",
        "\n",
        "## Program idea 1: Campus Café Cashier\n",
        "\n",
        "What it does. A tiny receipt printer for a school café. The program asks for a few menu choices (or uses a fixed sample order), prints each item with its price, adds **sales tax**, and shows a total. Different menu items compute price differently (e.g., size-based drinks vs. flat-price snacks), but the receipt loop doesn’t care—it just asks each item for a label and a price and totals them.\n",
        "\n",
        "Hints.\n",
        "\n",
        "1. Define an **interface** **Priced** with `label()` and `cents()` (prices in cents—no floating point).\n",
        "2. Make an **abstract class** **MenuItem** that stores a name once and implements `label()`.\n",
        "3. Create two **subclasses**: for example, **IcedDrink(sizeOz)** where `cents()` depends on size, and **Cookie(kind)** with a flat price.\n",
        "4. Add a **`public static final`** `TAX_BPS` (basis-points, e.g., 675 for 6.75%) in a tiny `Money` helper and compute tax once.\n",
        "5. In `main`, keep an `ArrayList<Priced>`, loop to print labels and prices, then print subtotal, tax, and total. That loop’s variable type is the contract (**Priced**), proving **polymorphism**.\n",
        "\n",
        "## Program idea 2: Study Timer Arcade\n",
        "\n",
        "What it does. A three-step study routine that runs and reports total minutes and a simple “focus score.” Steps like “Read,” “Practice,” and “Break” each know how long they take and how they score. The program prints the schedule, runs it (simulated with messages), then prints total minutes and total score. You can swap steps in and out without touching the loop.\n",
        "\n",
        "Hints.\n",
        "\n",
        "1. Define an **interface** **TimedStep** with `name()` and `minutes()`.\n",
        "2. Create an **abstract class** **BaseStep** that stores the step title and provides a friendly `toString()`; add an **abstract** `score()` so each step must explain its value.\n",
        "3. Make two **subclasses**: **PracticeStep(minutes)** with a higher `score()` per minute, and **BreakStep(minutes)** with a low `score()` (but still nonzero).\n",
        "4. Put a **`public static final`** `FOCUS_BONUS` in a `StudyMath` helper for a tiny multiplier so you avoid “magic numbers.”\n",
        "5. In `main`, build a `TimedStep[]` (or `ArrayList<TimedStep>`), loop once to print each step and accumulate minutes and `score()`. That is **polymorphism** doing the heavy lifting.\n",
        "\n",
        "## Program idea 3: Quest Log Lite\n",
        "\n",
        "What it does. A mini game-style log that lists today’s quests and sums rewards. Each quest prints a short title and returns a point reward. A different quest type can arrive tomorrow and the log still works. Optional: mark some quests as “daily” and show a tiny star next to them.\n",
        "\n",
        "Hints.\n",
        "\n",
        "1. Declare an **abstract class** **Quest** with a stored `title` and an **abstract** `reward()`; add a concrete `summary()` that prints `title + \" → \" + reward`.\n",
        "2. Implement two **subclasses**: **FetchQuest(items)** with `reward = items * 2`, and **BossQuest(level)** with `reward = level * 5`. Keep math transparent.\n",
        "3. (Optional) Add an **interface** **Daily** with `isDaily()`; let only one subclass implement it to show how **multiple interfaces** work.\n",
        "4. Put a **`public static final`** `BONUS` in `QuestMath` if you want a shared multiplier for weekend events.\n",
        "5. In `main`, store quests in a `Quest[]` and loop to print each `summary()` and a final total. The loop only knows the **parent type** (**Quest**), demonstrating **overriding** + **dynamic dispatch**.\n",
        "\n",
        "These are intentionally small. Each needs a parent (or interface) type, two tiny subclasses, one loop over the parent/interface type, and one or two **static final** constants. If your loop stays simple while the items behave differently, you’ve used the chapter’s ideas correctly.\n"
      ],
      "metadata": {
        "id": "nMbgPuwnmw1p"
      }
    },
    {
      "cell_type": "code",
      "source": [],
      "metadata": {
        "id": "KQo73xWM0gEO"
      },
      "execution_count": null,
      "outputs": []
    }
  ]
}