{
  "nbformat": 4,
  "nbformat_minor": 0,
  "metadata": {
    "colab": {
      "provenance": [],
      "authorship_tag": "ABX9TyPO+tgAx0NQU6AqeR7622Ek",
      "include_colab_link": true
    },
    "kernelspec": {
      "name": "python3",
      "display_name": "Python 3"
    },
    "language_info": {
      "name": "python"
    }
  },
  "cells": [
    {
      "cell_type": "markdown",
      "metadata": {
        "id": "view-in-github",
        "colab_type": "text"
      },
      "source": [
        "<a href=\"https://colab.research.google.com/github/brendanpshea/programming_problem_solving/blob/main/Java_09_Exceptions.ipynb\" target=\"_parent\"><img src=\"https://colab.research.google.com/assets/colab-badge.svg\" alt=\"Open In Colab\"/></a>"
      ]
    },
    {
      "cell_type": "markdown",
      "source": [
        "# Exception-al Programming at the Bank of Evil\n",
        "**Brendan Shea, PhD**\n",
        "\n",
        "Congratulations! You've been recruited to work in the IT department of the most notorious financial institution in the world - the Bank of Evil. As Gru's newest software developers, you'll be responsible for building rock-solid banking applications that can handle the unique challenges of villain banking.\n",
        "\n",
        "In this chapter, we'll explore two critical aspects of Java programming that every evil genius programmer must master.\n",
        "\n",
        "1. First, we'll dive deep into how Java programs are **compiled** and **executed**, understanding the journey your code takes from source files to running applications.\n",
        "2. Second, we'll learn about **exceptions** - Java's way of handling unexpected situations and errors that can occur during program execution.\n",
        "By the end of this chapter, you'll have the skills to build banking software worthy of the most sophisticated criminal masterminds - software that's both powerful and reliable enough to fund any dastardly plot!"
      ],
      "metadata": {
        "id": "WCibhtH-jaHj"
      }
    },
    {
      "cell_type": "markdown",
      "source": [
        "# Our Mission: Building Bulletproof Banking Software\n",
        "\n",
        "The Bank of Evil handles billions of dollars in villain assets, from Dr. Nefario's invention funds to Vector's pyramid scheme profits. When dealing with such vast sums of money belonging to the world's most dangerous criminals, there's absolutely no room for software bugs or system crashes.\n",
        "\n",
        "Understanding how Java compiles and runs your code is essential for several reasons. When you know what happens behind the scenes, you can write more efficient programs, debug problems faster, and avoid common pitfalls that could bring down the entire banking system. Imagine the chaos if Scarlet Overkill couldn't access her funds right before a major heist!\n",
        "\n",
        "Similarly, **exception handling** is your safety net when things go wrong. In the banking world, errors are inevitable - customers might try to withdraw more money than they have, network connections might fail during transfers, or suspicious activity might trigger security protocols. Professional-grade software must handle these situations gracefully rather than crashing spectacularly.\n",
        "\n",
        "Throughout this chapter, we'll build a complete banking system that demonstrates these concepts in action. You'll see how proper exception handling can mean the difference between a minor inconvenience and a catastrophic system failure that could topple an entire criminal empire."
      ],
      "metadata": {
        "id": "K2Q4diUfji2X"
      }
    },
    {
      "cell_type": "markdown",
      "source": [
        "# Setting Up Our Evil Empire's Codebase\n",
        "\n",
        "Before we dive into the technical details, let's establish the foundation of our banking system using the inheritance concepts you've already mastered. Our Bank of Evil serves different types of customers, each with their own unique needs and account features.\n",
        "\n",
        "Here's our basic class hierarchy that we'll build upon throughout this chapter:\n"
      ],
      "metadata": {
        "id": "pfOZJFiUjkif"
      }
    },
    {
      "cell_type": "code",
      "source": [
        "%%writefile BankAccount.java\n",
        "// Base class for all bank accounts\n",
        "public class BankAccount {\n",
        "    protected String accountNumber;\n",
        "    protected double balance;\n",
        "    protected String ownerName;\n",
        "\n",
        "    public BankAccount(String accountNumber, String ownerName) {\n",
        "        this.accountNumber = accountNumber;\n",
        "        this.ownerName = ownerName;\n",
        "        this.balance = 0.0;\n",
        "    }\n",
        "\n",
        "    public void deposit(double amount) {\n",
        "        balance += amount;\n",
        "    }\n",
        "\n",
        "    public void withdraw(double amount) {\n",
        "        balance -= amount;\n",
        "    }\n",
        "\n",
        "    public double getBalance() {\n",
        "        return balance;\n",
        "    }\n",
        "\n",
        "    public String getAccountNumber(){\n",
        "      return accountNumber;\n",
        "    }\n",
        "\n",
        "    public String getOwnerName(){\n",
        "      return ownerName;\n",
        "    }\n",
        "}"
      ],
      "metadata": {
        "colab": {
          "base_uri": "https://localhost:8080/"
        },
        "id": "wh-ShNzbmfm7",
        "outputId": "e15f80ce-6c0b-42ff-e075-8e8991b42673"
      },
      "execution_count": null,
      "outputs": [
        {
          "output_type": "stream",
          "name": "stdout",
          "text": [
            "Overwriting BankAccount.java\n"
          ]
        }
      ]
    },
    {
      "cell_type": "code",
      "source": [
        "%%writefile VillainAccount.java\n",
        "// Specialized account for master villains\n",
        "public class VillainAccount extends BankAccount {\n",
        "    private String evilPlan;\n",
        "    private double creditLimit;\n",
        "\n",
        "    public VillainAccount(String accountNumber, String villainName, String evilPlan) {\n",
        "        super(accountNumber, villainName);\n",
        "        this.evilPlan = evilPlan;\n",
        "        this.creditLimit = 1000000.0; // Villains get high credit limits\n",
        "    }\n",
        "}\n"
      ],
      "metadata": {
        "colab": {
          "base_uri": "https://localhost:8080/"
        },
        "id": "RH3RWONAmVyN",
        "outputId": "d421f0be-b6c5-4819-c6a4-562735bbcd32"
      },
      "execution_count": null,
      "outputs": [
        {
          "output_type": "stream",
          "name": "stdout",
          "text": [
            "Overwriting VillainAccount.java\n"
          ]
        }
      ]
    },
    {
      "cell_type": "code",
      "source": [
        "%%writefile MinionAccount.java\n",
        "// Account type for minion employees\n",
        "public class MinionAccount extends BankAccount {\n",
        "    private String supervisor;\n",
        "\n",
        "    public MinionAccount(String accountNumber, String minionName, String supervisor) {\n",
        "        super(accountNumber, minionName);\n",
        "        this.supervisor = supervisor;\n",
        "    }\n",
        "}\n"
      ],
      "metadata": {
        "colab": {
          "base_uri": "https://localhost:8080/"
        },
        "id": "Bsi46twlmOyt",
        "outputId": "04f1a717-fd64-4462-c46d-50b529b6d5ea"
      },
      "execution_count": null,
      "outputs": [
        {
          "output_type": "stream",
          "name": "stdout",
          "text": [
            "Overwriting MinionAccount.java\n"
          ]
        }
      ]
    },
    {
      "cell_type": "markdown",
      "source": [
        "\n",
        "This inheritance structure gives us a solid foundation to explore compilation and exception handling. Notice how we're using concepts like inheritance, method overriding, and access modifiers that you've already learned. As we progress through the chapter, we'll see how Java compiles these classes and how we can make them more robust with proper exception handling."
      ],
      "metadata": {
        "id": "ZPDcUjHhmJkh"
      }
    },
    {
      "cell_type": "markdown",
      "source": [
        "# From Source to Bytecode: The Java Compilation Journey\n",
        "\n",
        "When you write Java code for the Bank of Evil's systems, your human-readable source code doesn't run directly on the computer. Instead, it goes through a fascinating multi-step process that makes Java programs both powerful and portable across different operating systems.\n",
        "\n",
        "Here's exactly what happens when you build and run a Java banking application:\n",
        "\n",
        "1. **Write Source Code**: You create `.java` files containing classes like `BankAccount` and `VillainAccount` using human-readable Java syntax.\n",
        "\n",
        "2. **Compile to Bytecode**: The **Java compiler** (called `javac`) transforms your source code into **bytecode** - a special intermediate form that's stored in `.class` files. This bytecode isn't quite machine language yet, but it's much closer to what computers understand.\n",
        "\n",
        "3. **Load Classes**: When you run your program, the **Java Virtual Machine (JVM)** takes over, loading your `.class` files into memory as they're needed.\n",
        "\n",
        "4. **Execute Bytecode**: The JVM acts like a translator between your bytecode and the specific operating system your program is running on.\n",
        "\n",
        "This process is why the same Java banking software can run on Gru's Windows computers, Vector's Mac laptops, and the Linux servers in the Bank of Evil's data center. Understanding this compilation journey helps you become a better programmer because you'll know why certain errors happen at compile time versus runtime, and you'll understand how to write code that takes advantage of Java's unique architecture."
      ],
      "metadata": {
        "id": "YY_BWAN5jqaF"
      }
    },
    {
      "cell_type": "code",
      "source": [
        "# @title\n",
        "import base64\n",
        "import requests\n",
        "from IPython.display import SVG, display\n",
        "\n",
        "def mm(graph: str) -> None:\n",
        "    \"\"\"\n",
        "    Fetch and display a Mermaid diagram as SVG.\n",
        "\n",
        "    Parameters:\n",
        "      graph (str): Mermaid graph definition.\n",
        "    \"\"\"\n",
        "    # 1. Encode the graph to Base64\n",
        "    b64 = base64.urlsafe_b64encode(graph.encode('utf-8')).decode('ascii')\n",
        "    # 2. Construct the SVG URL\n",
        "    url = f'https://mermaid.ink/svg/{b64}'\n",
        "    # 3. Fetch SVG content\n",
        "    svg_data = requests.get(url).text\n",
        "    # 4. Render inline in Jupyter\n",
        "    display(SVG(data=svg_data))\n",
        "\n",
        "\n",
        "mm(\"\"\"\n",
        "graph LR\n",
        "    A[Java Source Code<br/>BankAccount.java<br/>VillainAccount.java<br/>MinionAccount.java] --> B[Java Compiler<br/>javac]\n",
        "    B --> C[Java Bytecode<br/>BankAccount.class<br/>VillainAccount.class<br/>MinionAccount.class]\n",
        "    C --> D[Java Virtual Machine<br/>JVM]\n",
        "    D --> E[Class Loader<br/>Loads .class files into memory]\n",
        "    E --> F[Bytecode Verifier<br/>Checks code safety]\n",
        "    F --> G[Just-In-Time Compiler<br/>Converts to machine code]\n",
        "    G --> H[Execution Engine<br/>Runs your program]\n",
        "\n",
        "    style A fill:#e1f5fe\n",
        "    style C fill:#f3e5f5\n",
        "    style H fill:#e8f5e8\"\"\")"
      ],
      "metadata": {
        "colab": {
          "base_uri": "https://localhost:8080/",
          "height": 95
        },
        "cellView": "form",
        "id": "Q2aOw0Dij0FP",
        "outputId": "a93e27e0-7fd4-499a-cff9-c36aac68eb71"
      },
      "execution_count": null,
      "outputs": [
        {
          "output_type": "display_data",
          "data": {
            "text/plain": [
              "<IPython.core.display.SVG object>"
            ],
            "image/svg+xml": "<svg xmlns=\"http://www.w3.org/2000/svg\" xmlns:xlink=\"http://www.w3.org/1999/xlink\" id=\"mermaid-svg\" width=\"100%\" class=\"flowchart\" style=\"max-width: 2043.546875px;\" viewBox=\"0 0 2043.546875 142\" role=\"graphics-document document\" aria-roledescription=\"flowchart-v2\"><style xmlns=\"http://www.w3.org/1999/xhtml\">@import url(&quot;https://cdnjs.cloudflare.com/ajax/libs/font-awesome/6.7.2/css/all.min.css&quot;);</style><style>#mermaid-svg{font-family:&quot;trebuchet ms&quot;,verdana,arial,sans-serif;font-size:16px;fill:#333;}@keyframes edge-animation-frame{from{stroke-dashoffset:0;}}@keyframes dash{to{stroke-dashoffset:0;}}#mermaid-svg .edge-animation-slow{stroke-dasharray:9,5!important;stroke-dashoffset:900;animation:dash 50s linear infinite;stroke-linecap:round;}#mermaid-svg .edge-animation-fast{stroke-dasharray:9,5!important;stroke-dashoffset:900;animation:dash 20s linear infinite;stroke-linecap:round;}#mermaid-svg .error-icon{fill:#552222;}#mermaid-svg .error-text{fill:#552222;stroke:#552222;}#mermaid-svg .edge-thickness-normal{stroke-width:1px;}#mermaid-svg .edge-thickness-thick{stroke-width:3.5px;}#mermaid-svg .edge-pattern-solid{stroke-dasharray:0;}#mermaid-svg .edge-thickness-invisible{stroke-width:0;fill:none;}#mermaid-svg .edge-pattern-dashed{stroke-dasharray:3;}#mermaid-svg .edge-pattern-dotted{stroke-dasharray:2;}#mermaid-svg .marker{fill:#333333;stroke:#333333;}#mermaid-svg .marker.cross{stroke:#333333;}#mermaid-svg svg{font-family:&quot;trebuchet ms&quot;,verdana,arial,sans-serif;font-size:16px;}#mermaid-svg p{margin:0;}#mermaid-svg .label{font-family:&quot;trebuchet ms&quot;,verdana,arial,sans-serif;color:#333;}#mermaid-svg .cluster-label text{fill:#333;}#mermaid-svg .cluster-label span{color:#333;}#mermaid-svg .cluster-label span p{background-color:transparent;}#mermaid-svg .label text,#mermaid-svg span{fill:#333;color:#333;}#mermaid-svg .node rect,#mermaid-svg .node circle,#mermaid-svg .node ellipse,#mermaid-svg .node polygon,#mermaid-svg .node path{fill:#ECECFF;stroke:#9370DB;stroke-width:1px;}#mermaid-svg .rough-node .label text,#mermaid-svg .node .label text,#mermaid-svg .image-shape .label,#mermaid-svg .icon-shape .label{text-anchor:middle;}#mermaid-svg .node .katex path{fill:#000;stroke:#000;stroke-width:1px;}#mermaid-svg .rough-node .label,#mermaid-svg .node .label,#mermaid-svg .image-shape .label,#mermaid-svg .icon-shape .label{text-align:center;}#mermaid-svg .node.clickable{cursor:pointer;}#mermaid-svg .root .anchor path{fill:#333333!important;stroke-width:0;stroke:#333333;}#mermaid-svg .arrowheadPath{fill:#333333;}#mermaid-svg .edgePath .path{stroke:#333333;stroke-width:2.0px;}#mermaid-svg .flowchart-link{stroke:#333333;fill:none;}#mermaid-svg .edgeLabel{background-color:rgba(232,232,232, 0.8);text-align:center;}#mermaid-svg .edgeLabel p{background-color:rgba(232,232,232, 0.8);}#mermaid-svg .edgeLabel rect{opacity:0.5;background-color:rgba(232,232,232, 0.8);fill:rgba(232,232,232, 0.8);}#mermaid-svg .labelBkg{background-color:rgba(232, 232, 232, 0.5);}#mermaid-svg .cluster rect{fill:#ffffde;stroke:#aaaa33;stroke-width:1px;}#mermaid-svg .cluster text{fill:#333;}#mermaid-svg .cluster span{color:#333;}#mermaid-svg div.mermaidTooltip{position:absolute;text-align:center;max-width:200px;padding:2px;font-family:&quot;trebuchet ms&quot;,verdana,arial,sans-serif;font-size:12px;background:hsl(80, 100%, 96.2745098039%);border:1px solid #aaaa33;border-radius:2px;pointer-events:none;z-index:100;}#mermaid-svg .flowchartTitleText{text-anchor:middle;font-size:18px;fill:#333;}#mermaid-svg rect.text{fill:none;stroke-width:0;}#mermaid-svg .icon-shape,#mermaid-svg .image-shape{background-color:rgba(232,232,232, 0.8);text-align:center;}#mermaid-svg .icon-shape p,#mermaid-svg .image-shape p{background-color:rgba(232,232,232, 0.8);padding:2px;}#mermaid-svg .icon-shape rect,#mermaid-svg .image-shape rect{opacity:0.5;background-color:rgba(232,232,232, 0.8);fill:rgba(232,232,232, 0.8);}#mermaid-svg .label-icon{display:inline-block;height:1em;overflow:visible;vertical-align:-0.125em;}#mermaid-svg .node .label-icon path{fill:currentColor;stroke:revert;stroke-width:revert;}#mermaid-svg :root{--mermaid-font-family:&quot;trebuchet ms&quot;,verdana,arial,sans-serif;}</style><g><marker id=\"mermaid-svg_flowchart-v2-pointEnd\" class=\"marker flowchart-v2\" viewBox=\"0 0 10 10\" refX=\"5\" refY=\"5\" markerUnits=\"userSpaceOnUse\" markerWidth=\"8\" markerHeight=\"8\" orient=\"auto\"><path d=\"M 0 0 L 10 5 L 0 10 z\" class=\"arrowMarkerPath\" style=\"stroke-width: 1; stroke-dasharray: 1, 0;\"/></marker><marker id=\"mermaid-svg_flowchart-v2-pointStart\" class=\"marker flowchart-v2\" viewBox=\"0 0 10 10\" refX=\"4.5\" refY=\"5\" markerUnits=\"userSpaceOnUse\" markerWidth=\"8\" markerHeight=\"8\" orient=\"auto\"><path d=\"M 0 5 L 10 10 L 10 0 z\" class=\"arrowMarkerPath\" style=\"stroke-width: 1; stroke-dasharray: 1, 0;\"/></marker><marker id=\"mermaid-svg_flowchart-v2-circleEnd\" class=\"marker flowchart-v2\" viewBox=\"0 0 10 10\" refX=\"11\" refY=\"5\" markerUnits=\"userSpaceOnUse\" markerWidth=\"11\" markerHeight=\"11\" orient=\"auto\"><circle cx=\"5\" cy=\"5\" r=\"5\" class=\"arrowMarkerPath\" style=\"stroke-width: 1; stroke-dasharray: 1, 0;\"/></marker><marker id=\"mermaid-svg_flowchart-v2-circleStart\" class=\"marker flowchart-v2\" viewBox=\"0 0 10 10\" refX=\"-1\" refY=\"5\" markerUnits=\"userSpaceOnUse\" markerWidth=\"11\" markerHeight=\"11\" orient=\"auto\"><circle cx=\"5\" cy=\"5\" r=\"5\" class=\"arrowMarkerPath\" style=\"stroke-width: 1; stroke-dasharray: 1, 0;\"/></marker><marker id=\"mermaid-svg_flowchart-v2-crossEnd\" class=\"marker cross flowchart-v2\" viewBox=\"0 0 11 11\" refX=\"12\" refY=\"5.2\" markerUnits=\"userSpaceOnUse\" markerWidth=\"11\" markerHeight=\"11\" orient=\"auto\"><path d=\"M 1,1 l 9,9 M 10,1 l -9,9\" class=\"arrowMarkerPath\" style=\"stroke-width: 2; stroke-dasharray: 1, 0;\"/></marker><marker id=\"mermaid-svg_flowchart-v2-crossStart\" class=\"marker cross flowchart-v2\" viewBox=\"0 0 11 11\" refX=\"-1\" refY=\"5.2\" markerUnits=\"userSpaceOnUse\" markerWidth=\"11\" markerHeight=\"11\" orient=\"auto\"><path d=\"M 1,1 l 9,9 M 10,1 l -9,9\" class=\"arrowMarkerPath\" style=\"stroke-width: 2; stroke-dasharray: 1, 0;\"/></marker><g class=\"root\"><g class=\"clusters\"/><g class=\"edgePaths\"><path d=\"M206.75,71L210.917,71C215.083,71,223.417,71,231.083,71C238.75,71,245.75,71,249.25,71L252.75,71\" id=\"L_A_B_0\" class=\" edge-thickness-normal edge-pattern-solid edge-thickness-normal edge-pattern-solid flowchart-link\" style=\"\" marker-end=\"url(#mermaid-svg_flowchart-v2-pointEnd)\"/><path d=\"M419.016,71L423.182,71C427.349,71,435.682,71,443.349,71C451.016,71,458.016,71,461.516,71L465.016,71\" id=\"L_B_C_0\" class=\" edge-thickness-normal edge-pattern-solid edge-thickness-normal edge-pattern-solid flowchart-link\" style=\"\" marker-end=\"url(#mermaid-svg_flowchart-v2-pointEnd)\"/><path d=\"M674.859,71L679.026,71C683.193,71,691.526,71,699.193,71C706.859,71,713.859,71,717.359,71L720.859,71\" id=\"L_C_D_0\" class=\" edge-thickness-normal edge-pattern-solid edge-thickness-normal edge-pattern-solid flowchart-link\" style=\"\" marker-end=\"url(#mermaid-svg_flowchart-v2-pointEnd)\"/><path d=\"M933.094,71L937.26,71C941.427,71,949.76,71,957.427,71C965.094,71,972.094,71,975.594,71L979.094,71\" id=\"L_D_E_0\" class=\" edge-thickness-normal edge-pattern-solid edge-thickness-normal edge-pattern-solid flowchart-link\" style=\"\" marker-end=\"url(#mermaid-svg_flowchart-v2-pointEnd)\"/><path d=\"M1243.094,71L1247.26,71C1251.427,71,1259.76,71,1267.427,71C1275.094,71,1282.094,71,1285.594,71L1289.094,71\" id=\"L_E_F_0\" class=\" edge-thickness-normal edge-pattern-solid edge-thickness-normal edge-pattern-solid flowchart-link\" style=\"\" marker-end=\"url(#mermaid-svg_flowchart-v2-pointEnd)\"/><path d=\"M1492.719,71L1496.885,71C1501.052,71,1509.385,71,1517.052,71C1524.719,71,1531.719,71,1535.219,71L1538.719,71\" id=\"L_F_G_0\" class=\" edge-thickness-normal edge-pattern-solid edge-thickness-normal edge-pattern-solid flowchart-link\" style=\"\" marker-end=\"url(#mermaid-svg_flowchart-v2-pointEnd)\"/><path d=\"M1788.594,71L1792.76,71C1796.927,71,1805.26,71,1812.927,71C1820.594,71,1827.594,71,1831.094,71L1834.594,71\" id=\"L_G_H_0\" class=\" edge-thickness-normal edge-pattern-solid edge-thickness-normal edge-pattern-solid flowchart-link\" style=\"\" marker-end=\"url(#mermaid-svg_flowchart-v2-pointEnd)\"/></g><g class=\"edgeLabels\"><g class=\"edgeLabel\"><g class=\"label\" transform=\"translate(0, 0)\"><foreignObject width=\"0\" height=\"0\"><div xmlns=\"http://www.w3.org/1999/xhtml\" class=\"labelBkg\" style=\"display: table-cell; white-space: nowrap; line-height: 1.5; max-width: 200px; text-align: center;\"><span class=\"edgeLabel \"/></div></foreignObject></g></g><g class=\"edgeLabel\"><g class=\"label\" transform=\"translate(0, 0)\"><foreignObject width=\"0\" height=\"0\"><div xmlns=\"http://www.w3.org/1999/xhtml\" class=\"labelBkg\" style=\"display: table-cell; white-space: nowrap; line-height: 1.5; max-width: 200px; text-align: center;\"><span class=\"edgeLabel \"/></div></foreignObject></g></g><g class=\"edgeLabel\"><g class=\"label\" transform=\"translate(0, 0)\"><foreignObject width=\"0\" height=\"0\"><div xmlns=\"http://www.w3.org/1999/xhtml\" class=\"labelBkg\" style=\"display: table-cell; white-space: nowrap; line-height: 1.5; max-width: 200px; text-align: center;\"><span class=\"edgeLabel \"/></div></foreignObject></g></g><g class=\"edgeLabel\"><g class=\"label\" transform=\"translate(0, 0)\"><foreignObject width=\"0\" height=\"0\"><div xmlns=\"http://www.w3.org/1999/xhtml\" class=\"labelBkg\" style=\"display: table-cell; white-space: nowrap; line-height: 1.5; max-width: 200px; text-align: center;\"><span class=\"edgeLabel \"/></div></foreignObject></g></g><g class=\"edgeLabel\"><g class=\"label\" transform=\"translate(0, 0)\"><foreignObject width=\"0\" height=\"0\"><div xmlns=\"http://www.w3.org/1999/xhtml\" class=\"labelBkg\" style=\"display: table-cell; white-space: nowrap; line-height: 1.5; max-width: 200px; text-align: center;\"><span class=\"edgeLabel \"/></div></foreignObject></g></g><g class=\"edgeLabel\"><g class=\"label\" transform=\"translate(0, 0)\"><foreignObject width=\"0\" height=\"0\"><div xmlns=\"http://www.w3.org/1999/xhtml\" class=\"labelBkg\" style=\"display: table-cell; white-space: nowrap; line-height: 1.5; max-width: 200px; text-align: center;\"><span class=\"edgeLabel \"/></div></foreignObject></g></g><g class=\"edgeLabel\"><g class=\"label\" transform=\"translate(0, 0)\"><foreignObject width=\"0\" height=\"0\"><div xmlns=\"http://www.w3.org/1999/xhtml\" class=\"labelBkg\" style=\"display: table-cell; white-space: nowrap; line-height: 1.5; max-width: 200px; text-align: center;\"><span class=\"edgeLabel \"/></div></foreignObject></g></g></g><g class=\"nodes\"><g class=\"node default  \" id=\"flowchart-A-0\" transform=\"translate(107.375, 71)\"><rect class=\"basic label-container\" style=\"fill:#e1f5fe !important\" x=\"-99.375\" y=\"-63\" width=\"198.75\" height=\"126\"/><g class=\"label\" style=\"\" transform=\"translate(-69.375, -48)\"><rect/><foreignObject width=\"138.75\" height=\"96\"><div xmlns=\"http://www.w3.org/1999/xhtml\" style=\"display: table-cell; white-space: nowrap; line-height: 1.5; max-width: 200px; text-align: center;\"><span class=\"nodeLabel \"><p>Java Source Code<br/>BankAccount.java<br/>VillainAccount.java<br/>MinionAccount.java</p></span></div></foreignObject></g></g><g class=\"node default  \" id=\"flowchart-B-1\" transform=\"translate(337.8828125, 71)\"><rect class=\"basic label-container\" style=\"\" x=\"-81.1328125\" y=\"-39\" width=\"162.265625\" height=\"78\"/><g class=\"label\" style=\"\" transform=\"translate(-51.1328125, -24)\"><rect/><foreignObject width=\"102.265625\" height=\"48\"><div xmlns=\"http://www.w3.org/1999/xhtml\" style=\"display: table-cell; white-space: nowrap; line-height: 1.5; max-width: 200px; text-align: center;\"><span class=\"nodeLabel \"><p>Java Compiler<br/>javac</p></span></div></foreignObject></g></g><g class=\"node default  \" id=\"flowchart-C-3\" transform=\"translate(571.9375, 71)\"><rect class=\"basic label-container\" style=\"fill:#f3e5f5 !important\" x=\"-102.921875\" y=\"-63\" width=\"205.84375\" height=\"126\"/><g class=\"label\" style=\"\" transform=\"translate(-72.921875, -48)\"><rect/><foreignObject width=\"145.84375\" height=\"96\"><div xmlns=\"http://www.w3.org/1999/xhtml\" style=\"display: table-cell; white-space: nowrap; line-height: 1.5; max-width: 200px; text-align: center;\"><span class=\"nodeLabel \"><p>Java Bytecode<br/>BankAccount.class<br/>VillainAccount.class<br/>MinionAccount.class</p></span></div></foreignObject></g></g><g class=\"node default  \" id=\"flowchart-D-5\" transform=\"translate(828.9765625, 71)\"><rect class=\"basic label-container\" style=\"\" x=\"-104.1171875\" y=\"-39\" width=\"208.234375\" height=\"78\"/><g class=\"label\" style=\"\" transform=\"translate(-74.1171875, -24)\"><rect/><foreignObject width=\"148.234375\" height=\"48\"><div xmlns=\"http://www.w3.org/1999/xhtml\" style=\"display: table-cell; white-space: nowrap; line-height: 1.5; max-width: 200px; text-align: center;\"><span class=\"nodeLabel \"><p>Java Virtual Machine<br/>JVM</p></span></div></foreignObject></g></g><g class=\"node default  \" id=\"flowchart-E-7\" transform=\"translate(1113.09375, 71)\"><rect class=\"basic label-container\" style=\"\" x=\"-130\" y=\"-51\" width=\"260\" height=\"102\"/><g class=\"label\" style=\"\" transform=\"translate(-100, -36)\"><rect/><foreignObject width=\"200\" height=\"72\"><div xmlns=\"http://www.w3.org/1999/xhtml\" style=\"display: table; white-space: break-spaces; line-height: 1.5; max-width: 200px; text-align: center; width: 200px;\"><span class=\"nodeLabel \"><p>Class Loader<br/>Loads .class files into memory</p></span></div></foreignObject></g></g><g class=\"node default  \" id=\"flowchart-F-9\" transform=\"translate(1392.90625, 71)\"><rect class=\"basic label-container\" style=\"\" x=\"-99.8125\" y=\"-39\" width=\"199.625\" height=\"78\"/><g class=\"label\" style=\"\" transform=\"translate(-69.8125, -24)\"><rect/><foreignObject width=\"139.625\" height=\"48\"><div xmlns=\"http://www.w3.org/1999/xhtml\" style=\"display: table-cell; white-space: nowrap; line-height: 1.5; max-width: 200px; text-align: center;\"><span class=\"nodeLabel \"><p>Bytecode Verifier<br/>Checks code safety</p></span></div></foreignObject></g></g><g class=\"node default  \" id=\"flowchart-G-11\" transform=\"translate(1665.65625, 71)\"><rect class=\"basic label-container\" style=\"\" x=\"-122.9375\" y=\"-39\" width=\"245.875\" height=\"78\"/><g class=\"label\" style=\"\" transform=\"translate(-92.9375, -24)\"><rect/><foreignObject width=\"185.875\" height=\"48\"><div xmlns=\"http://www.w3.org/1999/xhtml\" style=\"display: table-cell; white-space: nowrap; line-height: 1.5; max-width: 200px; text-align: center;\"><span class=\"nodeLabel \"><p>Just-In-Time Compiler<br/>Converts to machine code</p></span></div></foreignObject></g></g><g class=\"node default  \" id=\"flowchart-H-13\" transform=\"translate(1937.0703125, 71)\"><rect class=\"basic label-container\" style=\"fill:#e8f5e8 !important\" x=\"-98.4765625\" y=\"-39\" width=\"196.953125\" height=\"78\"/><g class=\"label\" style=\"\" transform=\"translate(-68.4765625, -24)\"><rect/><foreignObject width=\"136.953125\" height=\"48\"><div xmlns=\"http://www.w3.org/1999/xhtml\" style=\"display: table-cell; white-space: nowrap; line-height: 1.5; max-width: 200px; text-align: center;\"><span class=\"nodeLabel \"><p>Execution Engine<br/>Runs your program</p></span></div></foreignObject></g></g></g></g></g></svg>"
          },
          "metadata": {}
        }
      ]
    },
    {
      "cell_type": "markdown",
      "source": [
        "# Inside the Java Virtual Machine\n",
        "\n",
        "The **Java Virtual Machine (JVM)** is like the engine room of the Bank of Evil's IT infrastructure. It's a sophisticated piece of software that manages every aspect of running your Java programs. Understanding its key components will help you write better code and debug problems more effectively.\n",
        "\n",
        "When your banking application starts up, the JVM follows a specific sequence to get everything running:\n",
        "\n",
        "1. **Class Loading**: The **Class Loader** finds and loads your compiled `.class` files into memory when they're needed. When Gru's banking application needs to create a new `VillainAccount` object, the class loader locates the `VillainAccount.class` file and brings it into the JVM's memory space.\n",
        "\n",
        "2. **Memory Allocation**: The JVM sets up distinct **memory areas** for different purposes. The **heap** stores all object instances (every `BankAccount`, `VillainAccount`, and `MinionAccount` object lives here), while the **stack** holds method calls and local variables. There's also a **method area** where class-level information like static variables gets stored.\n",
        "\n",
        "3. **Bytecode Execution**: The **Execution Engine** runs your bytecode instructions. Modern JVMs use **Just-In-Time (JIT) compilation** to convert frequently-used bytecode into optimized machine code for better performance.\n",
        "\n",
        "This sophisticated process means that banking applications processing thousands of transactions actually get faster the longer they run, as the JVM learns which code paths are used most often and optimizes them accordingly."
      ],
      "metadata": {
        "id": "qRbe860UlA4B"
      }
    },
    {
      "cell_type": "markdown",
      "source": [
        "# Bytecode Basics: What the JVM Actually Runs\n",
        "\n",
        "While you write Java code in a human-friendly syntax, the JVM doesn't actually execute your original source code. Instead, it runs **bytecode** - a low-level representation of your program that's stored in `.class` files. Understanding what bytecode looks like can help you write more efficient code and debug performance issues.\n",
        "\n",
        "Let's see what happens when we compile a simple method from our `BankAccount` class:\n",
        "\n",
        "```java\n",
        "// Original Java source code\n",
        "public void deposit(double amount) {\n",
        "    balance += amount;\n",
        "}\n",
        "```\n",
        "\n",
        "After compilation, this becomes bytecode that looks something like this:\n",
        "\n",
        "```\n",
        "// Simplified bytecode representation\n",
        "0: aload_0          // Load 'this' onto the stack\n",
        "1: dup             // Duplicate 'this' reference\n",
        "2: getfield #2     // Get the 'balance' field\n",
        "5: dload_1         // Load 'amount' parameter\n",
        "6: dadd            // Add amount to balance\n",
        "7: putfield #2     // Store result back to 'balance' field\n",
        "10: return         // Return from method\n",
        "```\n",
        "\n",
        "This bytecode is much more verbose than the original Java code, but it's also much more explicit about what operations the computer needs to perform. Each instruction tells the JVM exactly what to do with the data on the **operand stack** - a temporary workspace where the JVM manipulates values during execution.\n",
        "\n",
        "Don't worry about memorizing bytecode instructions! The key insight is that understanding this process helps explain why certain Java operations are faster than others and why the JVM can optimize your code so effectively."
      ],
      "metadata": {
        "id": "gFhbg-uyllMD"
      }
    },
    {
      "cell_type": "markdown",
      "source": [
        "# The Class Loading Process\n",
        "\n",
        "One of the most powerful features of Java is **dynamic class loading** - the ability to load classes into memory only when they're actually needed. This is crucial for large banking systems where you might have hundreds of different account types and transaction processors, but only use a few of them in any given session.\n",
        "\n",
        "Here's a demonstration of class loading in action with our villain banking system:"
      ],
      "metadata": {
        "id": "i8meqRR_lneB"
      }
    },
    {
      "cell_type": "code",
      "source": [
        "%%writefile BankingSystem.java\n",
        "public class BankingSystem {\n",
        "    public static void main(String[] args) {\n",
        "        System.out.println(\"Banking system starting...\");\n",
        "\n",
        "        // At this point, only BankingSystem class is loaded\n",
        "\n",
        "        System.out.println(\"Creating Gru's account...\");\n",
        "        VillainAccount gru = new VillainAccount(\"V001\", \"Gru\", \"Moon Theft\");\n",
        "        // Now VillainAccount and BankAccount classes are loaded\n",
        "\n",
        "        System.out.println(\"Hiring some minions...\");\n",
        "        MinionAccount bob = new MinionAccount(\"M001\", \"Bob\", \"Gru\");\n",
        "        // Now MinionAccount class is also loaded\n",
        "\n",
        "        System.out.println(\"All systems operational!\");\n",
        "    }\n",
        "}"
      ],
      "metadata": {
        "colab": {
          "base_uri": "https://localhost:8080/"
        },
        "id": "Fs9H2DvHms7X",
        "outputId": "8ecc7cc1-e175-467b-caed-b4440e110d69"
      },
      "execution_count": null,
      "outputs": [
        {
          "output_type": "stream",
          "name": "stdout",
          "text": [
            "Overwriting BankingSystem.java\n"
          ]
        }
      ]
    },
    {
      "cell_type": "code",
      "source": [
        "!javac BankingSystem.java\n",
        "!java BankingSystem"
      ],
      "metadata": {
        "colab": {
          "base_uri": "https://localhost:8080/"
        },
        "id": "pGyXhkvVmtGY",
        "outputId": "734359c3-9c35-4cd4-ba0a-a795cda352e1"
      },
      "execution_count": null,
      "outputs": [
        {
          "output_type": "stream",
          "name": "stdout",
          "text": [
            "Banking system starting...\n",
            "Creating Gru's account...\n",
            "Hiring some minions...\n",
            "All systems operational!\n"
          ]
        }
      ]
    },
    {
      "cell_type": "markdown",
      "source": [
        "\n",
        "The **class loader** follows a specific process when it encounters a new class for the first time:\n",
        "\n",
        "1. **Loading**: Find the `.class` file and read its bytecode into memory\n",
        "2. **Linking**: Verify that the bytecode is valid and resolve references to other classes\n",
        "3. **Initialization**: Execute any static initialization code in the class\n",
        "\n",
        "This lazy loading approach means that Bank of Evil's software starts up quickly, even though it might have thousands of different class files available. Classes are only loaded when they're actually used, keeping memory usage efficient and startup times fast."
      ],
      "metadata": {
        "id": "BCPJrV1ymouA"
      }
    },
    {
      "cell_type": "markdown",
      "source": [
        "# Memory Management in Our Bank\n",
        "\n",
        "Understanding how the JVM organizes memory is crucial for writing efficient banking software that can handle millions of transactions without running out of memory or slowing down. The JVM divides memory into distinct areas, each serving a specific purpose in your program's execution.\n",
        "\n",
        "- The **stack memory** is where method calls and local variables live. Each time a banking method is called (like `deposit()` or `withdraw()`), the JVM creates a new **stack frame** containing the method's parameters and local variables. When the method finishes, its stack frame is immediately removed. This makes stack memory very fast and automatically managed - you never have to worry about cleaning it up.\n",
        "- The **heap memory** is where all object instances are stored. Every `BankAccount`, `VillainAccount`, and `String` object lives in the heap. Unlike stack memory, heap objects don't get cleaned up automatically when a method ends. Instead, Java's **garbage collector** periodically scans the heap and removes objects that are no longer referenced by any part of your program.\n",
        "- Finally, the **method area** (sometimes called the **metaspace**) stores class-level information that's shared across all instances. This includes the actual bytecode for your methods, static variables like `Bank.totalCustomers`, and constant values. This area is loaded once per class and shared by all objects of that type.\n",
        "\n",
        "This memory organization allows the Bank of Evil's software to efficiently manage thousands of account objects while keeping method calls fast and memory usage under control."
      ],
      "metadata": {
        "id": "pPvd80xyl356"
      }
    },
    {
      "cell_type": "code",
      "source": [
        "# @title\n",
        "mm(\"\"\"\n",
        "graph TB\n",
        "    subgraph JVM[\"JVM Memory Areas\"]\n",
        "        subgraph Stack[\"Stack Memory\"]\n",
        "            S1[Method Call: main]\n",
        "            S2[Method Call: deposit]\n",
        "            S3[Local Variables: amount, temp]\n",
        "        end\n",
        "\n",
        "        subgraph Heap[\"Heap Memory\"]\n",
        "            H1[\"BankAccount Object<br/>accountNumber: V001<br/>balance: 1000000.0<br/>ownerName: Gru\"]\n",
        "            H2[\"VillainAccount Object<br/>evilPlan: Moon Theft<br/>creditLimit: 1000000.0\"]\n",
        "            H3[\"String Objects<br/>V001, Gru, etc.\"]\n",
        "        end\n",
        "\n",
        "        subgraph Method[\"Method Area\"]\n",
        "            M1[\"Class Information<br/>BankAccount.class<br/>VillainAccount.class\"]\n",
        "            M2[\"Static Variables<br/>Bank.totalCustomers<br/>Bank.interestRate\"]\n",
        "        end\n",
        "    end\n",
        "\n",
        "    S2 --> H1\n",
        "    S2 --> H2\n",
        "    H2 --> H1\n",
        "\n",
        "    style S1 fill:#e3f2fd\n",
        "    style S2 fill:#e3f2fd\n",
        "    style S3 fill:#e3f2fd\n",
        "    style H1 fill:#f3e5f5\n",
        "    style H2 fill:#f3e5f5\n",
        "    style H3 fill:#f3e5f5\n",
        "    style M1 fill:#e8f5e8\n",
        "    style M2 fill:#e8f5e8\"\"\")"
      ],
      "metadata": {
        "colab": {
          "base_uri": "https://localhost:8080/",
          "height": 568
        },
        "cellView": "form",
        "id": "xmkLirvolvYx",
        "outputId": "e3a6fa37-32b1-4a27-accd-83e57befed7e"
      },
      "execution_count": null,
      "outputs": [
        {
          "output_type": "display_data",
          "data": {
            "text/plain": [
              "<IPython.core.display.SVG object>"
            ],
            "image/svg+xml": "<svg xmlns=\"http://www.w3.org/2000/svg\" xmlns:xlink=\"http://www.w3.org/1999/xlink\" id=\"mermaid-svg\" width=\"100%\" class=\"flowchart\" style=\"max-width: 1398.0625px;\" viewBox=\"0 0 1398.0625 714\" role=\"graphics-document document\" aria-roledescription=\"flowchart-v2\"><style xmlns=\"http://www.w3.org/1999/xhtml\">@import url(&quot;https://cdnjs.cloudflare.com/ajax/libs/font-awesome/6.7.2/css/all.min.css&quot;);</style><style>#mermaid-svg{font-family:&quot;trebuchet ms&quot;,verdana,arial,sans-serif;font-size:16px;fill:#333;}@keyframes edge-animation-frame{from{stroke-dashoffset:0;}}@keyframes dash{to{stroke-dashoffset:0;}}#mermaid-svg .edge-animation-slow{stroke-dasharray:9,5!important;stroke-dashoffset:900;animation:dash 50s linear infinite;stroke-linecap:round;}#mermaid-svg .edge-animation-fast{stroke-dasharray:9,5!important;stroke-dashoffset:900;animation:dash 20s linear infinite;stroke-linecap:round;}#mermaid-svg .error-icon{fill:#552222;}#mermaid-svg .error-text{fill:#552222;stroke:#552222;}#mermaid-svg .edge-thickness-normal{stroke-width:1px;}#mermaid-svg .edge-thickness-thick{stroke-width:3.5px;}#mermaid-svg .edge-pattern-solid{stroke-dasharray:0;}#mermaid-svg .edge-thickness-invisible{stroke-width:0;fill:none;}#mermaid-svg .edge-pattern-dashed{stroke-dasharray:3;}#mermaid-svg .edge-pattern-dotted{stroke-dasharray:2;}#mermaid-svg .marker{fill:#333333;stroke:#333333;}#mermaid-svg .marker.cross{stroke:#333333;}#mermaid-svg svg{font-family:&quot;trebuchet ms&quot;,verdana,arial,sans-serif;font-size:16px;}#mermaid-svg p{margin:0;}#mermaid-svg .label{font-family:&quot;trebuchet ms&quot;,verdana,arial,sans-serif;color:#333;}#mermaid-svg .cluster-label text{fill:#333;}#mermaid-svg .cluster-label span{color:#333;}#mermaid-svg .cluster-label span p{background-color:transparent;}#mermaid-svg .label text,#mermaid-svg span{fill:#333;color:#333;}#mermaid-svg .node rect,#mermaid-svg .node circle,#mermaid-svg .node ellipse,#mermaid-svg .node polygon,#mermaid-svg .node path{fill:#ECECFF;stroke:#9370DB;stroke-width:1px;}#mermaid-svg .rough-node .label text,#mermaid-svg .node .label text,#mermaid-svg .image-shape .label,#mermaid-svg .icon-shape .label{text-anchor:middle;}#mermaid-svg .node .katex path{fill:#000;stroke:#000;stroke-width:1px;}#mermaid-svg .rough-node .label,#mermaid-svg .node .label,#mermaid-svg .image-shape .label,#mermaid-svg .icon-shape .label{text-align:center;}#mermaid-svg .node.clickable{cursor:pointer;}#mermaid-svg .root .anchor path{fill:#333333!important;stroke-width:0;stroke:#333333;}#mermaid-svg .arrowheadPath{fill:#333333;}#mermaid-svg .edgePath .path{stroke:#333333;stroke-width:2.0px;}#mermaid-svg .flowchart-link{stroke:#333333;fill:none;}#mermaid-svg .edgeLabel{background-color:rgba(232,232,232, 0.8);text-align:center;}#mermaid-svg .edgeLabel p{background-color:rgba(232,232,232, 0.8);}#mermaid-svg .edgeLabel rect{opacity:0.5;background-color:rgba(232,232,232, 0.8);fill:rgba(232,232,232, 0.8);}#mermaid-svg .labelBkg{background-color:rgba(232, 232, 232, 0.5);}#mermaid-svg .cluster rect{fill:#ffffde;stroke:#aaaa33;stroke-width:1px;}#mermaid-svg .cluster text{fill:#333;}#mermaid-svg .cluster span{color:#333;}#mermaid-svg div.mermaidTooltip{position:absolute;text-align:center;max-width:200px;padding:2px;font-family:&quot;trebuchet ms&quot;,verdana,arial,sans-serif;font-size:12px;background:hsl(80, 100%, 96.2745098039%);border:1px solid #aaaa33;border-radius:2px;pointer-events:none;z-index:100;}#mermaid-svg .flowchartTitleText{text-anchor:middle;font-size:18px;fill:#333;}#mermaid-svg rect.text{fill:none;stroke-width:0;}#mermaid-svg .icon-shape,#mermaid-svg .image-shape{background-color:rgba(232,232,232, 0.8);text-align:center;}#mermaid-svg .icon-shape p,#mermaid-svg .image-shape p{background-color:rgba(232,232,232, 0.8);padding:2px;}#mermaid-svg .icon-shape rect,#mermaid-svg .image-shape rect{opacity:0.5;background-color:rgba(232,232,232, 0.8);fill:rgba(232,232,232, 0.8);}#mermaid-svg .label-icon{display:inline-block;height:1em;overflow:visible;vertical-align:-0.125em;}#mermaid-svg .node .label-icon path{fill:currentColor;stroke:revert;stroke-width:revert;}#mermaid-svg :root{--mermaid-font-family:&quot;trebuchet ms&quot;,verdana,arial,sans-serif;}</style><g><marker id=\"mermaid-svg_flowchart-v2-pointEnd\" class=\"marker flowchart-v2\" viewBox=\"0 0 10 10\" refX=\"5\" refY=\"5\" markerUnits=\"userSpaceOnUse\" markerWidth=\"8\" markerHeight=\"8\" orient=\"auto\"><path d=\"M 0 0 L 10 5 L 0 10 z\" class=\"arrowMarkerPath\" style=\"stroke-width: 1; stroke-dasharray: 1, 0;\"/></marker><marker id=\"mermaid-svg_flowchart-v2-pointStart\" class=\"marker flowchart-v2\" viewBox=\"0 0 10 10\" refX=\"4.5\" refY=\"5\" markerUnits=\"userSpaceOnUse\" markerWidth=\"8\" markerHeight=\"8\" orient=\"auto\"><path d=\"M 0 5 L 10 10 L 10 0 z\" class=\"arrowMarkerPath\" style=\"stroke-width: 1; stroke-dasharray: 1, 0;\"/></marker><marker id=\"mermaid-svg_flowchart-v2-circleEnd\" class=\"marker flowchart-v2\" viewBox=\"0 0 10 10\" refX=\"11\" refY=\"5\" markerUnits=\"userSpaceOnUse\" markerWidth=\"11\" markerHeight=\"11\" orient=\"auto\"><circle cx=\"5\" cy=\"5\" r=\"5\" class=\"arrowMarkerPath\" style=\"stroke-width: 1; stroke-dasharray: 1, 0;\"/></marker><marker id=\"mermaid-svg_flowchart-v2-circleStart\" class=\"marker flowchart-v2\" viewBox=\"0 0 10 10\" refX=\"-1\" refY=\"5\" markerUnits=\"userSpaceOnUse\" markerWidth=\"11\" markerHeight=\"11\" orient=\"auto\"><circle cx=\"5\" cy=\"5\" r=\"5\" class=\"arrowMarkerPath\" style=\"stroke-width: 1; stroke-dasharray: 1, 0;\"/></marker><marker id=\"mermaid-svg_flowchart-v2-crossEnd\" class=\"marker cross flowchart-v2\" viewBox=\"0 0 11 11\" refX=\"12\" refY=\"5.2\" markerUnits=\"userSpaceOnUse\" markerWidth=\"11\" markerHeight=\"11\" orient=\"auto\"><path d=\"M 1,1 l 9,9 M 10,1 l -9,9\" class=\"arrowMarkerPath\" style=\"stroke-width: 2; stroke-dasharray: 1, 0;\"/></marker><marker id=\"mermaid-svg_flowchart-v2-crossStart\" class=\"marker cross flowchart-v2\" viewBox=\"0 0 11 11\" refX=\"-1\" refY=\"5.2\" markerUnits=\"userSpaceOnUse\" markerWidth=\"11\" markerHeight=\"11\" orient=\"auto\"><path d=\"M 1,1 l 9,9 M 10,1 l -9,9\" class=\"arrowMarkerPath\" style=\"stroke-width: 2; stroke-dasharray: 1, 0;\"/></marker><g class=\"root\"><g class=\"clusters\"/><g class=\"edgePaths\"/><g class=\"edgeLabels\"/><g class=\"nodes\"><g class=\"root\" transform=\"translate(0, 0)\"><g class=\"clusters\"><g class=\"cluster \" id=\"JVM\" data-look=\"classic\"><rect style=\"\" x=\"8\" y=\"8\" width=\"1382.0625\" height=\"698\"/><g class=\"cluster-label \" transform=\"translate(629.234375, 8)\"><foreignObject width=\"139.59375\" height=\"24\"><div xmlns=\"http://www.w3.org/1999/xhtml\" style=\"display: table-cell; white-space: nowrap; line-height: 1.5; max-width: 200px; text-align: center;\"><span class=\"nodeLabel \"><p>JVM Memory Areas</p></span></div></foreignObject></g></g><g class=\"cluster \" id=\"Heap\" data-look=\"classic\"><rect style=\"\" x=\"455.5\" y=\"280\" width=\"897.0625\" height=\"338\"/><g class=\"cluster-label \" transform=\"translate(853.7890625, 280)\"><foreignObject width=\"100.484375\" height=\"24\"><div xmlns=\"http://www.w3.org/1999/xhtml\" style=\"display: table-cell; white-space: nowrap; line-height: 1.5; max-width: 200px; text-align: center;\"><span class=\"nodeLabel \"><p>Heap Memory</p></span></div></foreignObject></g></g><g class=\"cluster \" id=\"Stack\" data-look=\"classic\"><rect style=\"\" x=\"45.5\" y=\"298\" width=\"335\" height=\"388\"/><g class=\"cluster-label \" transform=\"translate(161.875, 298)\"><foreignObject width=\"102.25\" height=\"24\"><div xmlns=\"http://www.w3.org/1999/xhtml\" style=\"display: table-cell; white-space: nowrap; line-height: 1.5; max-width: 200px; text-align: center;\"><span class=\"nodeLabel \"><p>Stack Memory</p></span></div></foreignObject></g></g></g><g class=\"edgePaths\"><path d=\"M315.93,365.576L326.691,362.814C337.453,360.051,358.977,354.525,375.988,351.763C393,349,405.5,349,418,349C430.5,349,443,349,473.62,349C504.24,349,552.979,349,601.719,349C650.458,349,699.198,349,755.026,353.475C810.854,357.949,873.771,366.898,905.23,371.373L936.688,375.847\" id=\"L_S2_H1_0\" class=\" edge-thickness-normal edge-pattern-solid edge-thickness-normal edge-pattern-solid flowchart-link\" style=\"\" marker-end=\"url(#mermaid-svg_flowchart-v2-pointEnd)\"/><path d=\"M277.607,419L294.756,426.167C311.905,433.333,346.202,447.667,369.601,454.833C393,462,405.5,462,418,462C430.5,462,443,462,454.833,462C466.667,462,477.833,462,483.417,462L489,462\" id=\"L_S2_H2_0\" class=\" edge-thickness-normal edge-pattern-solid edge-thickness-normal edge-pattern-solid flowchart-link\" style=\"\" marker-end=\"url(#mermaid-svg_flowchart-v2-pointEnd)\"/><path d=\"M710.438,462L716.688,462C722.938,462,735.438,462,773.157,454.713C810.876,447.427,873.814,432.854,905.283,425.567L936.752,418.28\" id=\"L_H2_H1_0\" class=\" edge-thickness-normal edge-pattern-solid edge-thickness-normal edge-pattern-solid flowchart-link\" style=\"\" marker-end=\"url(#mermaid-svg_flowchart-v2-pointEnd)\"/></g><g class=\"edgeLabels\"><g class=\"edgeLabel\"><g class=\"label\" transform=\"translate(0, 0)\"><foreignObject width=\"0\" height=\"0\"><div xmlns=\"http://www.w3.org/1999/xhtml\" class=\"labelBkg\" style=\"display: table-cell; white-space: nowrap; line-height: 1.5; max-width: 200px; text-align: center;\"><span class=\"edgeLabel \"/></div></foreignObject></g></g><g class=\"edgeLabel\"><g class=\"label\" transform=\"translate(0, 0)\"><foreignObject width=\"0\" height=\"0\"><div xmlns=\"http://www.w3.org/1999/xhtml\" class=\"labelBkg\" style=\"display: table-cell; white-space: nowrap; line-height: 1.5; max-width: 200px; text-align: center;\"><span class=\"edgeLabel \"/></div></foreignObject></g></g><g class=\"edgeLabel\"><g class=\"label\" transform=\"translate(0, 0)\"><foreignObject width=\"0\" height=\"0\"><div xmlns=\"http://www.w3.org/1999/xhtml\" class=\"labelBkg\" style=\"display: table-cell; white-space: nowrap; line-height: 1.5; max-width: 200px; text-align: center;\"><span class=\"edgeLabel \"/></div></foreignObject></g></g></g><g class=\"nodes\"><g class=\"root\" transform=\"translate(777.4375, 35)\"><g class=\"clusters\"><g class=\"cluster \" id=\"Method\" data-look=\"classic\"><rect style=\"\" x=\"8\" y=\"8\" width=\"529.625\" height=\"202\"/><g class=\"cluster-label \" transform=\"translate(227.4453125, 8)\"><foreignObject width=\"90.734375\" height=\"24\"><div xmlns=\"http://www.w3.org/1999/xhtml\" style=\"display: table-cell; white-space: nowrap; line-height: 1.5; max-width: 200px; text-align: center;\"><span class=\"nodeLabel \"><p>Method Area</p></span></div></foreignObject></g></g></g><g class=\"edgePaths\"/><g class=\"edgeLabels\"/><g class=\"nodes\"><g class=\"node default  \" id=\"flowchart-M1-6\" transform=\"translate(143.5546875, 109)\"><rect class=\"basic label-container\" style=\"fill:#e8f5e8 !important\" x=\"-100.5546875\" y=\"-51\" width=\"201.109375\" height=\"102\"/><g class=\"label\" style=\"\" transform=\"translate(-70.5546875, -36)\"><rect/><foreignObject width=\"141.109375\" height=\"72\"><div xmlns=\"http://www.w3.org/1999/xhtml\" style=\"display: table-cell; white-space: nowrap; line-height: 1.5; max-width: 200px; text-align: center;\"><span class=\"nodeLabel \"><p>Class Information<br/>BankAccount.class<br/>VillainAccount.class</p></span></div></foreignObject></g></g><g class=\"node default  \" id=\"flowchart-M2-7\" transform=\"translate(398.3671875, 109)\"><rect class=\"basic label-container\" style=\"fill:#e8f5e8 !important\" x=\"-104.2578125\" y=\"-51\" width=\"208.515625\" height=\"102\"/><g class=\"label\" style=\"\" transform=\"translate(-74.2578125, -36)\"><rect/><foreignObject width=\"148.515625\" height=\"72\"><div xmlns=\"http://www.w3.org/1999/xhtml\" style=\"display: table-cell; white-space: nowrap; line-height: 1.5; max-width: 200px; text-align: center;\"><span class=\"nodeLabel \"><p>Static Variables<br/>Bank.totalCustomers<br/>Bank.interestRate</p></span></div></foreignObject></g></g></g></g><g class=\"node default  \" id=\"flowchart-S2-1\" transform=\"translate(213, 392)\"><rect class=\"basic label-container\" style=\"fill:#e3f2fd !important\" x=\"-102.9296875\" y=\"-27\" width=\"205.859375\" height=\"54\"/><g class=\"label\" style=\"\" transform=\"translate(-72.9296875, -12)\"><rect/><foreignObject width=\"145.859375\" height=\"24\"><div xmlns=\"http://www.w3.org/1999/xhtml\" style=\"display: table-cell; white-space: nowrap; line-height: 1.5; max-width: 200px; text-align: center;\"><span class=\"nodeLabel \"><p>Method Call: deposit</p></span></div></foreignObject></g></g><g class=\"node default  \" id=\"flowchart-H1-3\" transform=\"translate(1050.25, 392)\"><rect class=\"basic label-container\" style=\"fill:#f3e5f5 !important\" x=\"-109.6015625\" y=\"-63\" width=\"219.203125\" height=\"126\"/><g class=\"label\" style=\"\" transform=\"translate(-79.6015625, -48)\"><rect/><foreignObject width=\"159.203125\" height=\"96\"><div xmlns=\"http://www.w3.org/1999/xhtml\" style=\"display: table-cell; white-space: nowrap; line-height: 1.5; max-width: 200px; text-align: center;\"><span class=\"nodeLabel \"><p>BankAccount Object<br/>accountNumber: V001<br/>balance: 1000000.0<br/>ownerName: Gru</p></span></div></foreignObject></g></g><g class=\"node default  \" id=\"flowchart-H2-4\" transform=\"translate(601.71875, 462)\"><rect class=\"basic label-container\" style=\"fill:#f3e5f5 !important\" x=\"-108.71875\" y=\"-51\" width=\"217.4375\" height=\"102\"/><g class=\"label\" style=\"\" transform=\"translate(-78.71875, -36)\"><rect/><foreignObject width=\"157.4375\" height=\"72\"><div xmlns=\"http://www.w3.org/1999/xhtml\" style=\"display: table-cell; white-space: nowrap; line-height: 1.5; max-width: 200px; text-align: center;\"><span class=\"nodeLabel \"><p>VillainAccount Object<br/>evilPlan: Moon Theft<br/>creditLimit: 1000000.0</p></span></div></foreignObject></g></g><g class=\"node default  \" id=\"flowchart-H3-5\" transform=\"translate(1050.25, 544)\"><rect class=\"basic label-container\" style=\"fill:#f3e5f5 !important\" x=\"-83.8046875\" y=\"-39\" width=\"167.609375\" height=\"78\"/><g class=\"label\" style=\"\" transform=\"translate(-53.8046875, -24)\"><rect/><foreignObject width=\"107.609375\" height=\"48\"><div xmlns=\"http://www.w3.org/1999/xhtml\" style=\"display: table-cell; white-space: nowrap; line-height: 1.5; max-width: 200px; text-align: center;\"><span class=\"nodeLabel \"><p>String Objects<br/>V001, Gru, etc.</p></span></div></foreignObject></g></g><g class=\"node default  \" id=\"flowchart-S1-0\" transform=\"translate(213, 496)\"><rect class=\"basic label-container\" style=\"fill:#e3f2fd !important\" x=\"-94.4765625\" y=\"-27\" width=\"188.953125\" height=\"54\"/><g class=\"label\" style=\"\" transform=\"translate(-64.4765625, -12)\"><rect/><foreignObject width=\"128.953125\" height=\"24\"><div xmlns=\"http://www.w3.org/1999/xhtml\" style=\"display: table-cell; white-space: nowrap; line-height: 1.5; max-width: 200px; text-align: center;\"><span class=\"nodeLabel \"><p>Method Call: main</p></span></div></foreignObject></g></g><g class=\"node default  \" id=\"flowchart-S3-2\" transform=\"translate(213, 612)\"><rect class=\"basic label-container\" style=\"fill:#e3f2fd !important\" x=\"-130\" y=\"-39\" width=\"260\" height=\"78\"/><g class=\"label\" style=\"\" transform=\"translate(-100, -24)\"><rect/><foreignObject width=\"200\" height=\"48\"><div xmlns=\"http://www.w3.org/1999/xhtml\" style=\"display: table; white-space: break-spaces; line-height: 1.5; max-width: 200px; text-align: center; width: 200px;\"><span class=\"nodeLabel \"><p>Local Variables: amount, temp</p></span></div></foreignObject></g></g></g></g></g></g></g></svg>"
          },
          "metadata": {}
        }
      ]
    },
    {
      "cell_type": "markdown",
      "source": [
        "# Static vs Instance: Where Things Live in Memory\n",
        "\n",
        "Understanding the difference between **static** and **instance** members is essential for banking software architecture. This distinction affects not only how your code behaves, but also where data is stored in memory and how efficiently your programs run.\n",
        "\n",
        "Let's enhance our `Bank` class to demonstrate both types of members:\n"
      ],
      "metadata": {
        "id": "SG_-yt4MlrUd"
      }
    },
    {
      "cell_type": "code",
      "source": [
        "%%writefile Bank.java\n",
        "public class Bank {\n",
        "    // Static variables - shared by ALL instances\n",
        "    private static int totalAccounts = 0;\n",
        "    private static double totalAssets = 0.0;\n",
        "    private static final String BANK_NAME = \"Bank of Evil\";\n",
        "\n",
        "    // Instance variables - unique to each Bank branch\n",
        "    private String branchLocation;\n",
        "    private String branchManager;\n",
        "    private int localAccountCount;\n",
        "\n",
        "    public Bank(String location, String manager) {\n",
        "        this.branchLocation = location;\n",
        "        this.branchManager = manager;\n",
        "        this.localAccountCount = 0;\n",
        "        totalAccounts++; // Increment the shared counter\n",
        "    }\n",
        "\n",
        "    // Static method - can be called without creating an instance\n",
        "    public static String getBankName() {\n",
        "        return BANK_NAME;\n",
        "    }\n",
        "\n",
        "    // Instance method - needs a specific Bank object\n",
        "    public String getBranchInfo() {\n",
        "        return branchLocation + \" managed by \" + branchManager;\n",
        "    }\n",
        "}\n"
      ],
      "metadata": {
        "colab": {
          "base_uri": "https://localhost:8080/"
        },
        "id": "_uuhy5QHn6C3",
        "outputId": "2d7f047a-e3b4-4f0d-d285-269520fe4d97"
      },
      "execution_count": null,
      "outputs": [
        {
          "output_type": "stream",
          "name": "stdout",
          "text": [
            "Overwriting Bank.java\n"
          ]
        }
      ]
    },
    {
      "cell_type": "code",
      "source": [
        "!javac Bank.java"
      ],
      "metadata": {
        "id": "QftymcaVn_4S"
      },
      "execution_count": null,
      "outputs": []
    },
    {
      "cell_type": "markdown",
      "source": [
        "\n",
        "Here's how these different types of members are stored in memory:\n",
        "\n",
        "- **Static variables** like `totalAccounts` exist once in the method area, shared by all Bank objects\n",
        "- **Instance variables** like `branchLocation` are stored in heap memory, with each Bank object having its own copy\n",
        "- **Static methods** like `getBankName()` can be called using just the class name: `Bank.getBankName()`\n",
        "- **Instance methods** like `getBranchInfo()` require a specific object: `grusBank.getBranchInfo()`\n",
        "\n",
        "This design allows the Bank of Evil to track global statistics (like total assets across all branches) while still maintaining branch-specific information for each location."
      ],
      "metadata": {
        "id": "Sni_Yar2n1ME"
      }
    },
    {
      "cell_type": "markdown",
      "source": [
        "# Compilation Errors vs Runtime Errors\n",
        "\n",
        "As a programmer for the Bank of Evil, you'll encounter two fundamentally different types of errors, and understanding when each occurs can save you hours of debugging time. The timing of when errors are caught makes a huge difference in how quickly you can fix them and how they affect your users.\n",
        "\n",
        "**Compilation errors** occur when the Java compiler (`javac`) can't convert your source code into bytecode. These are caught before your program ever runs, which makes them relatively easy to fix since you get immediate feedback. **Runtime errors** happen while your program is executing, often in response to unexpected conditions or user input.\n",
        "\n",
        "Here's a comparison of common error types in banking software:\n",
        "\n",
        "| Error Type | When Detected | Example | Impact |\n",
        "|------------|---------------|---------|---------|\n",
        "| **Syntax Error** | Compile time | Missing semicolon, mismatched braces | Program won't compile |\n",
        "| **Type Error** | Compile time | Assigning String to int variable | Program won't compile |\n",
        "| **Logic Error** | Runtime | Withdrawing negative amounts | Program runs but behaves incorrectly |\n",
        "| **Exception** | Runtime | Dividing by zero, null pointer access | Program may crash unless handled |\n",
        "\n",
        "The key insight is that compilation errors prevent your banking software from running at all, while runtime errors can cause crashes or incorrect behavior after the software has been deployed to production. This is why understanding both the compilation process and exception handling is so critical for building reliable financial systems.\n",
        "\n",
        "Catching errors early in the development process is always preferable to discovering them when Gru is trying to fund his latest scheme and the banking system crashes!"
      ],
      "metadata": {
        "id": "pWQPsd_ojaTO"
      }
    },
    {
      "cell_type": "markdown",
      "source": [
        "# The Power of Early Error Detection\n",
        "\n",
        "The Java compiler is like having a vigilant security guard at the Bank of Evil who catches problems before they can cause real damage. Understanding how the compilation process helps prevent errors will make you a more effective programmer and help you build more reliable banking systems.\n",
        "\n",
        "1. **Strong Type Checking** is one of Java's greatest strengths. The compiler verifies that you're not trying to store a villain's name (a String) in a field meant for their account balance (a double).\n",
        "    - This prevents a whole class of bugs that could corrupt financial data. When you write `balance = \"Gru\"` instead of `balance = 1000000.0`, the compiler immediately flags this as an error rather than letting it cause problems later.\n",
        "2. **Method Signature Verification** ensures that when you call a method, you're providing the right number and types of parameters.\n",
        "    - If you try to call `deposit(\"fifty dollars\")` instead of `deposit(50.0)`, the compiler catches this mistake before the banking software ever runs. This prevents runtime crashes when customers are trying to access their accounts.\n",
        "3. **Access Control Enforcement** happens at compile time as well. If you try to access a private field from outside its class, or call a protected method from an unauthorized location, the compiler stops you.\n",
        "    - This enforces the security boundaries that are crucial for banking software - you can't accidentally expose sensitive account information or bypass security checks.\n",
        "\n",
        "The key insight is that every error caught at compile time is an error that won't surprise you (or crash on your users) at runtime. This front-loaded error detection is what makes Java particularly well-suited for building large, reliable financial systems where bugs can have serious consequences. It's much better to spend a few extra minutes fixing compilation errors than to have the Bank of Evil's systems crash during Gru's next big heist!"
      ],
      "metadata": {
        "id": "OEkNpQ6_ofjq"
      }
    },
    {
      "cell_type": "markdown",
      "source": [
        "## Exercise 1: Evil Scheme Investment Tracker\n",
        "\n",
        "Imagine you work for the Bank of Evil's investment department. Villains come to you with their evil schemes, and you need to track how much money is being invested in each scheme.\n",
        "\n",
        "Your program will:\n",
        "- Store information about each evil scheme (who's behind it, what it's called, and how much it costs)\n",
        "- Keep a list of all schemes in the bank's portfolio\n",
        "- Calculate the total amount invested across all schemes\n",
        "- Find which scheme costs the most money\n",
        "- Display a report of all schemes\n",
        "\n",
        "For example, if Gru wants to invest \\$1,000,000 in \"Moon Theft\" and Vector wants \\$2,000,000 for his \"Pyramid Scheme\", your program should be able to store both, tell you that the total investment is \\$3,000,000, and identify Vector's scheme as the most expensive.\n",
        "\n",
        "## Starter Code"
      ],
      "metadata": {
        "id": "VZKFWvs3cevB"
      }
    },
    {
      "cell_type": "code",
      "source": [
        "%%writefile InvestmentTracker.java\n",
        "import java.util.ArrayList;\n",
        "\n",
        "class EvilScheme {\n",
        "    // TODO: Add three private fields:\n",
        "    // - schemeName (String)\n",
        "    // - villainName (String)\n",
        "    // - cost (double)\n",
        "\n",
        "    // TODO: Create a constructor that takes all three values as parameters\n",
        "    // and assigns them to the fields\n",
        "\n",
        "    // TODO: Create getter methods: getSchemeName(), getVillainName(), getCost()\n",
        "\n",
        "    // TODO: Create a displayInfo() method that prints:\n",
        "    // \"Scheme: [name] by [villain] - Cost: $[cost]\"\n",
        "}\n",
        "\n",
        "public class InvestmentTracker {\n",
        "    private ArrayList<EvilScheme> schemes;\n",
        "    private static int totalSchemesTracked = 0;\n",
        "\n",
        "    public InvestmentTracker() {\n",
        "        schemes = new ArrayList<>();\n",
        "    }\n",
        "\n",
        "    // TODO: Complete this method\n",
        "    // Add the scheme to the ArrayList\n",
        "    // Increment totalSchemesTracked by 1\n",
        "    public void addScheme(EvilScheme scheme) {\n",
        "\n",
        "    }\n",
        "\n",
        "    // TODO: Complete this method\n",
        "    // Use a loop to go through all schemes in the ArrayList\n",
        "    // Add up all their costs and return the total\n",
        "    public double calculateTotalInvestment() {\n",
        "        return 0.0;\n",
        "    }\n",
        "\n",
        "    // TODO: Complete this method\n",
        "    // Loop through all schemes to find the one with the highest cost\n",
        "    // Return that scheme (or null if the list is empty)\n",
        "    // Hint: Keep track of the most expensive scheme as you loop\n",
        "    public EvilScheme findMostExpensiveScheme() {\n",
        "        return null;\n",
        "    }\n",
        "\n",
        "    // TODO: Complete this method\n",
        "    // Loop through all schemes and call displayInfo() on each one\n",
        "    public void displayAllSchemes() {\n",
        "\n",
        "    }\n",
        "\n",
        "    public static void main(String[] args) {\n",
        "        System.out.println(\"=== Bank of Evil Investment Tracker ===\\n\");\n",
        "\n",
        "        // TODO: Create an InvestmentTracker object\n",
        "\n",
        "        // TODO: Create 4-5 EvilScheme objects with different villains and amounts\n",
        "        // Example: new EvilScheme(\"Moon Theft\", \"Gru\", 1000000.0)\n",
        "\n",
        "        // TODO: Add each scheme to your tracker\n",
        "\n",
        "        // TODO: Call displayAllSchemes() to show all schemes\n",
        "\n",
        "        // TODO: Calculate and print the total investment\n",
        "\n",
        "        // TODO: Find and display the most expensive scheme\n",
        "\n",
        "        System.out.println(\"\\nTotal schemes tracked: \" + totalSchemesTracked);\n",
        "    }\n",
        "}\n"
      ],
      "metadata": {
        "id": "T1wL0369c0Y0"
      },
      "execution_count": null,
      "outputs": []
    },
    {
      "cell_type": "code",
      "source": [
        "!javac InvestmentTracker.java\n",
        "!java InvestmentTracker"
      ],
      "metadata": {
        "id": "lvw9epJTc6GY"
      },
      "execution_count": null,
      "outputs": []
    },
    {
      "cell_type": "markdown",
      "source": [
        "# When Things Go Wrong: Welcome to Exceptions\n",
        "\n",
        "Even the most carefully planned villain schemes can go awry, and the same is true for software programs. You've probably already encountered situations where your Java programs crashed with cryptic error messages like \"NullPointerException\" or \"ArrayIndexOutOfBoundsException.\" These crashes are actually Java's **exception system** in action.\n",
        "\n",
        "An **exception** is Java's way of signaling that something has gone wrong during program execution that prevents normal operation from continuing. When an exception occurs, Java stops executing the current method and looks for code that knows how to handle that specific problem. If no handling code is found, the program terminates and prints an error message.\n",
        "\n",
        "Let's look at a simple example that demonstrates how exceptions work. Consider this basic banking code:\n",
        "\n",
        "```java\n",
        "\n"
      ],
      "metadata": {
        "id": "vft7QKf9qf_T"
      }
    },
    {
      "cell_type": "code",
      "source": [
        "%%writefile SimpleAccount.java\n",
        "public class SimpleAccount {\n",
        "    private double balance = 1000.0;\n",
        "\n",
        "    public void printAccountInfo() {\n",
        "        String accountName = null; // Whoops! This should be initialized\n",
        "        System.out.println(\"Account holder: \" + accountName.toUpperCase());\n",
        "        System.out.println(\"Balance: $\" + balance);\n",
        "    }\n",
        "\n",
        "    public static void main (String[] args){\n",
        "        SimpleAccount account = new SimpleAccount();\n",
        "        account.printAccountInfo();\n",
        "    }\n",
        "\n",
        "}\n"
      ],
      "metadata": {
        "colab": {
          "base_uri": "https://localhost:8080/"
        },
        "id": "_1AA64zyqt9D",
        "outputId": "c47cbe16-b2a7-4752-e018-3ec0d6e8269f"
      },
      "execution_count": null,
      "outputs": [
        {
          "output_type": "stream",
          "name": "stdout",
          "text": [
            "Overwriting SimpleAccount.java\n"
          ]
        }
      ]
    },
    {
      "cell_type": "code",
      "source": [
        "!javac SimpleAccount.java\n",
        "!java SimpleAccount"
      ],
      "metadata": {
        "colab": {
          "base_uri": "https://localhost:8080/"
        },
        "id": "fqyxPpx0q3j3",
        "outputId": "01c824cf-65c5-4008-c132-c65947b3ea0f"
      },
      "execution_count": null,
      "outputs": [
        {
          "output_type": "stream",
          "name": "stdout",
          "text": [
            "Exception in thread \"main\" java.lang.NullPointerException\n",
            "\tat SimpleAccount.printAccountInfo(SimpleAccount.java:6)\n",
            "\tat SimpleAccount.main(SimpleAccount.java:12)\n"
          ]
        }
      ]
    },
    {
      "cell_type": "markdown",
      "source": [
        "When you run this code, Java throws a **NullPointerException** because we're trying to call the `toUpperCase()` method on a `null` reference. The program crashes with an error message, but at least it tells us exactly what went wrong and where.\n",
        "\n",
        "Understanding exceptions helps you write more reliable banking software because you can anticipate these problems and handle them gracefully instead of letting the entire Bank of Evil system crash when something unexpected happens."
      ],
      "metadata": {
        "id": "fz1PIJKmqq3A"
      }
    },
    {
      "cell_type": "markdown",
      "source": [
        "# The Exception Hierarchy\n",
        "\n",
        "Java organizes all exceptions into a well-structured hierarchy that helps you understand how different types of errors should be handled. Before we create our own banking exceptions, let's understand the built-in exceptions that Java provides and how they're organized.\n",
        "\n",
        "At the top of the hierarchy is **Throwable**, the parent class for all objects that can be \"thrown\" as exceptions. You don't need to work with Throwable directly - it's mainly important to know that it exists and provides common functionality like error messages and stack traces.\n",
        "\n",
        "The two main branches under Throwable are **Error** and **Exception**.\n",
        "\n",
        "**Error** represents serious system problems like running out of memory - these are usually beyond your program's control, and you typically don't try to handle them in banking software.\n",
        "\n",
        "**Exception** is where things get interesting for application programmers. This branch contains two important subcategories:\n",
        "\n",
        "- **RuntimeException** and its subclasses are **unchecked exceptions** that Java doesn't force you to handle explicitly. Common examples include `NullPointerException` (trying to use a null reference), `ArrayIndexOutOfBoundsException` (accessing an invalid array position), and `NumberFormatException` (trying to convert invalid text to a number).\n",
        "\n",
        "- All other Exception subclasses are **checked exceptions** that must be explicitly handled or declared in method signatures. Examples include `IOException` for file problems and `SQLException` for database errors.\n",
        "\n",
        "For now, we'll focus on understanding and handling the common RuntimeExceptions that occur frequently in everyday programming. Once you're comfortable with exception handling basics, we'll explore checked exceptions and creating custom banking exceptions like `InsufficientFundsException`."
      ],
      "metadata": {
        "id": "h0o7wXQerUX5"
      }
    },
    {
      "cell_type": "code",
      "source": [
        "# @title\n",
        "mm(\"\"\"\n",
        "graph TD\n",
        "    A[Throwable] --> B[Error]\n",
        "    A --> C[Exception]\n",
        "\n",
        "    B --> B1[OutOfMemoryError]\n",
        "    B --> B2[StackOverflowError]\n",
        "    B --> B3[VirtualMachineError]\n",
        "\n",
        "    C --> D[RuntimeException<br/>Unchecked Exceptions]\n",
        "    C --> E[Checked Exceptions]\n",
        "\n",
        "    D --> D1[NullPointerException]\n",
        "    D --> D2[IllegalArgumentException]\n",
        "    D --> D3[ArrayIndexOutOfBoundsException]\n",
        "    D --> D4[NumberFormatException]\n",
        "\n",
        "    E --> E1[IOException]\n",
        "    E --> E2[SQLException]\n",
        "    E --> E3[FileNotFoundException]\n",
        "    E --> E4[Custom Banking Exceptions<br/>InsufficientFundsException<br/>AccountFrozenException]\n",
        "\n",
        "    style A fill:#ffeb3b\n",
        "    style B fill:#f44336\n",
        "    style C fill:#4caf50\n",
        "    style D fill:#ff9800\n",
        "    style E fill:#2196f3\n",
        "    style E4 fill:#9c27b0\"\"\")"
      ],
      "metadata": {
        "colab": {
          "base_uri": "https://localhost:8080/",
          "height": 235
        },
        "cellView": "form",
        "id": "M6nMnP4jonWU",
        "outputId": "bf1a12a3-baf0-4393-817a-9dfa76984a05"
      },
      "execution_count": null,
      "outputs": [
        {
          "output_type": "display_data",
          "data": {
            "text/plain": [
              "<IPython.core.display.SVG object>"
            ],
            "image/svg+xml": "<svg xmlns=\"http://www.w3.org/2000/svg\" xmlns:xlink=\"http://www.w3.org/1999/xlink\" id=\"mermaid-svg\" width=\"100%\" class=\"flowchart\" style=\"max-width: 2389.984375px;\" viewBox=\"0 0 2389.984375 478\" role=\"graphics-document document\" aria-roledescription=\"flowchart-v2\"><style xmlns=\"http://www.w3.org/1999/xhtml\">@import url(&quot;https://cdnjs.cloudflare.com/ajax/libs/font-awesome/6.7.2/css/all.min.css&quot;);</style><style>#mermaid-svg{font-family:&quot;trebuchet ms&quot;,verdana,arial,sans-serif;font-size:16px;fill:#333;}@keyframes edge-animation-frame{from{stroke-dashoffset:0;}}@keyframes dash{to{stroke-dashoffset:0;}}#mermaid-svg .edge-animation-slow{stroke-dasharray:9,5!important;stroke-dashoffset:900;animation:dash 50s linear infinite;stroke-linecap:round;}#mermaid-svg .edge-animation-fast{stroke-dasharray:9,5!important;stroke-dashoffset:900;animation:dash 20s linear infinite;stroke-linecap:round;}#mermaid-svg .error-icon{fill:#552222;}#mermaid-svg .error-text{fill:#552222;stroke:#552222;}#mermaid-svg .edge-thickness-normal{stroke-width:1px;}#mermaid-svg .edge-thickness-thick{stroke-width:3.5px;}#mermaid-svg .edge-pattern-solid{stroke-dasharray:0;}#mermaid-svg .edge-thickness-invisible{stroke-width:0;fill:none;}#mermaid-svg .edge-pattern-dashed{stroke-dasharray:3;}#mermaid-svg .edge-pattern-dotted{stroke-dasharray:2;}#mermaid-svg .marker{fill:#333333;stroke:#333333;}#mermaid-svg .marker.cross{stroke:#333333;}#mermaid-svg svg{font-family:&quot;trebuchet ms&quot;,verdana,arial,sans-serif;font-size:16px;}#mermaid-svg p{margin:0;}#mermaid-svg .label{font-family:&quot;trebuchet ms&quot;,verdana,arial,sans-serif;color:#333;}#mermaid-svg .cluster-label text{fill:#333;}#mermaid-svg .cluster-label span{color:#333;}#mermaid-svg .cluster-label span p{background-color:transparent;}#mermaid-svg .label text,#mermaid-svg span{fill:#333;color:#333;}#mermaid-svg .node rect,#mermaid-svg .node circle,#mermaid-svg .node ellipse,#mermaid-svg .node polygon,#mermaid-svg .node path{fill:#ECECFF;stroke:#9370DB;stroke-width:1px;}#mermaid-svg .rough-node .label text,#mermaid-svg .node .label text,#mermaid-svg .image-shape .label,#mermaid-svg .icon-shape .label{text-anchor:middle;}#mermaid-svg .node .katex path{fill:#000;stroke:#000;stroke-width:1px;}#mermaid-svg .rough-node .label,#mermaid-svg .node .label,#mermaid-svg .image-shape .label,#mermaid-svg .icon-shape .label{text-align:center;}#mermaid-svg .node.clickable{cursor:pointer;}#mermaid-svg .root .anchor path{fill:#333333!important;stroke-width:0;stroke:#333333;}#mermaid-svg .arrowheadPath{fill:#333333;}#mermaid-svg .edgePath .path{stroke:#333333;stroke-width:2.0px;}#mermaid-svg .flowchart-link{stroke:#333333;fill:none;}#mermaid-svg .edgeLabel{background-color:rgba(232,232,232, 0.8);text-align:center;}#mermaid-svg .edgeLabel p{background-color:rgba(232,232,232, 0.8);}#mermaid-svg .edgeLabel rect{opacity:0.5;background-color:rgba(232,232,232, 0.8);fill:rgba(232,232,232, 0.8);}#mermaid-svg .labelBkg{background-color:rgba(232, 232, 232, 0.5);}#mermaid-svg .cluster rect{fill:#ffffde;stroke:#aaaa33;stroke-width:1px;}#mermaid-svg .cluster text{fill:#333;}#mermaid-svg .cluster span{color:#333;}#mermaid-svg div.mermaidTooltip{position:absolute;text-align:center;max-width:200px;padding:2px;font-family:&quot;trebuchet ms&quot;,verdana,arial,sans-serif;font-size:12px;background:hsl(80, 100%, 96.2745098039%);border:1px solid #aaaa33;border-radius:2px;pointer-events:none;z-index:100;}#mermaid-svg .flowchartTitleText{text-anchor:middle;font-size:18px;fill:#333;}#mermaid-svg rect.text{fill:none;stroke-width:0;}#mermaid-svg .icon-shape,#mermaid-svg .image-shape{background-color:rgba(232,232,232, 0.8);text-align:center;}#mermaid-svg .icon-shape p,#mermaid-svg .image-shape p{background-color:rgba(232,232,232, 0.8);padding:2px;}#mermaid-svg .icon-shape rect,#mermaid-svg .image-shape rect{opacity:0.5;background-color:rgba(232,232,232, 0.8);fill:rgba(232,232,232, 0.8);}#mermaid-svg .label-icon{display:inline-block;height:1em;overflow:visible;vertical-align:-0.125em;}#mermaid-svg .node .label-icon path{fill:currentColor;stroke:revert;stroke-width:revert;}#mermaid-svg :root{--mermaid-font-family:&quot;trebuchet ms&quot;,verdana,arial,sans-serif;}</style><g><marker id=\"mermaid-svg_flowchart-v2-pointEnd\" class=\"marker flowchart-v2\" viewBox=\"0 0 10 10\" refX=\"5\" refY=\"5\" markerUnits=\"userSpaceOnUse\" markerWidth=\"8\" markerHeight=\"8\" orient=\"auto\"><path d=\"M 0 0 L 10 5 L 0 10 z\" class=\"arrowMarkerPath\" style=\"stroke-width: 1; stroke-dasharray: 1, 0;\"/></marker><marker id=\"mermaid-svg_flowchart-v2-pointStart\" class=\"marker flowchart-v2\" viewBox=\"0 0 10 10\" refX=\"4.5\" refY=\"5\" markerUnits=\"userSpaceOnUse\" markerWidth=\"8\" markerHeight=\"8\" orient=\"auto\"><path d=\"M 0 5 L 10 10 L 10 0 z\" class=\"arrowMarkerPath\" style=\"stroke-width: 1; stroke-dasharray: 1, 0;\"/></marker><marker id=\"mermaid-svg_flowchart-v2-circleEnd\" class=\"marker flowchart-v2\" viewBox=\"0 0 10 10\" refX=\"11\" refY=\"5\" markerUnits=\"userSpaceOnUse\" markerWidth=\"11\" markerHeight=\"11\" orient=\"auto\"><circle cx=\"5\" cy=\"5\" r=\"5\" class=\"arrowMarkerPath\" style=\"stroke-width: 1; stroke-dasharray: 1, 0;\"/></marker><marker id=\"mermaid-svg_flowchart-v2-circleStart\" class=\"marker flowchart-v2\" viewBox=\"0 0 10 10\" refX=\"-1\" refY=\"5\" markerUnits=\"userSpaceOnUse\" markerWidth=\"11\" markerHeight=\"11\" orient=\"auto\"><circle cx=\"5\" cy=\"5\" r=\"5\" class=\"arrowMarkerPath\" style=\"stroke-width: 1; stroke-dasharray: 1, 0;\"/></marker><marker id=\"mermaid-svg_flowchart-v2-crossEnd\" class=\"marker cross flowchart-v2\" viewBox=\"0 0 11 11\" refX=\"12\" refY=\"5.2\" markerUnits=\"userSpaceOnUse\" markerWidth=\"11\" markerHeight=\"11\" orient=\"auto\"><path d=\"M 1,1 l 9,9 M 10,1 l -9,9\" class=\"arrowMarkerPath\" style=\"stroke-width: 2; stroke-dasharray: 1, 0;\"/></marker><marker id=\"mermaid-svg_flowchart-v2-crossStart\" class=\"marker cross flowchart-v2\" viewBox=\"0 0 11 11\" refX=\"-1\" refY=\"5.2\" markerUnits=\"userSpaceOnUse\" markerWidth=\"11\" markerHeight=\"11\" orient=\"auto\"><path d=\"M 1,1 l 9,9 M 10,1 l -9,9\" class=\"arrowMarkerPath\" style=\"stroke-width: 2; stroke-dasharray: 1, 0;\"/></marker><g class=\"root\"><g class=\"clusters\"/><g class=\"edgePaths\"><path d=\"M967.695,39.594L851.874,47.495C736.053,55.396,504.411,71.198,388.59,82.599C272.77,94,272.77,101,272.77,104.5L272.77,108\" id=\"L_A_B_0\" class=\" edge-thickness-normal edge-pattern-solid edge-thickness-normal edge-pattern-solid flowchart-link\" style=\"\" marker-end=\"url(#mermaid-svg_flowchart-v2-pointEnd)\"/><path d=\"M1102.398,48.685L1133.826,55.071C1165.253,61.457,1228.107,74.228,1259.534,84.114C1290.961,94,1290.961,101,1290.961,104.5L1290.961,108\" id=\"L_A_C_0\" class=\" edge-thickness-normal edge-pattern-solid edge-thickness-normal edge-pattern-solid flowchart-link\" style=\"\" marker-end=\"url(#mermaid-svg_flowchart-v2-pointEnd)\"/><path d=\"M224.988,153.899L205.158,160.083C185.328,166.266,145.668,178.633,125.838,190.317C106.008,202,106.008,213,106.008,218.5L106.008,224\" id=\"L_B_B1_0\" class=\" edge-thickness-normal edge-pattern-solid edge-thickness-normal edge-pattern-solid flowchart-link\" style=\"\" marker-end=\"url(#mermaid-svg_flowchart-v2-pointEnd)\"/><path d=\"M314.618,166L321.076,170.167C327.535,174.333,340.451,182.667,346.909,192.333C353.367,202,353.367,213,353.367,218.5L353.367,224\" id=\"L_B_B2_0\" class=\" edge-thickness-normal edge-pattern-solid edge-thickness-normal edge-pattern-solid flowchart-link\" style=\"\" marker-end=\"url(#mermaid-svg_flowchart-v2-pointEnd)\"/><path d=\"M320.551,146.518L367.67,153.932C414.789,161.345,509.027,176.173,556.146,189.086C603.266,202,603.266,213,603.266,218.5L603.266,224\" id=\"L_B_B3_0\" class=\" edge-thickness-normal edge-pattern-solid edge-thickness-normal edge-pattern-solid flowchart-link\" style=\"\" marker-end=\"url(#mermaid-svg_flowchart-v2-pointEnd)\"/><path d=\"M1225.828,146.955L1165.723,154.296C1105.617,161.637,985.406,176.318,925.301,187.159C865.195,198,865.195,205,865.195,208.5L865.195,212\" id=\"L_C_D_0\" class=\" edge-thickness-normal edge-pattern-solid edge-thickness-normal edge-pattern-solid flowchart-link\" style=\"\" marker-end=\"url(#mermaid-svg_flowchart-v2-pointEnd)\"/><path d=\"M1356.094,143.892L1460.621,151.744C1565.148,159.595,1774.203,175.297,1878.73,188.649C1983.258,202,1983.258,213,1983.258,218.5L1983.258,224\" id=\"L_C_E_0\" class=\" edge-thickness-normal edge-pattern-solid edge-thickness-normal edge-pattern-solid flowchart-link\" style=\"\" marker-end=\"url(#mermaid-svg_flowchart-v2-pointEnd)\"/><path d=\"M753.813,268.786L686.195,277.155C618.578,285.524,483.344,302.262,415.727,320.131C348.109,338,348.109,357,348.109,366.5L348.109,376\" id=\"L_D_D1_0\" class=\" edge-thickness-normal edge-pattern-solid edge-thickness-normal edge-pattern-solid flowchart-link\" style=\"\" marker-end=\"url(#mermaid-svg_flowchart-v2-pointEnd)\"/><path d=\"M753.813,284.444L732.026,290.204C710.24,295.963,666.667,307.481,644.88,322.741C623.094,338,623.094,357,623.094,366.5L623.094,376\" id=\"L_D_D2_0\" class=\" edge-thickness-normal edge-pattern-solid edge-thickness-normal edge-pattern-solid flowchart-link\" style=\"\" marker-end=\"url(#mermaid-svg_flowchart-v2-pointEnd)\"/><path d=\"M914.498,294L919.765,298.167C925.032,302.333,935.567,310.667,940.834,324.333C946.102,338,946.102,357,946.102,366.5L946.102,376\" id=\"L_D_D3_0\" class=\" edge-thickness-normal edge-pattern-solid edge-thickness-normal edge-pattern-solid flowchart-link\" style=\"\" marker-end=\"url(#mermaid-svg_flowchart-v2-pointEnd)\"/><path d=\"M976.578,272.727L1025.034,280.44C1073.49,288.152,1170.401,303.576,1218.857,320.788C1267.313,338,1267.313,357,1267.313,366.5L1267.313,376\" id=\"L_D_D4_0\" class=\" edge-thickness-normal edge-pattern-solid edge-thickness-normal edge-pattern-solid flowchart-link\" style=\"\" marker-end=\"url(#mermaid-svg_flowchart-v2-pointEnd)\"/><path d=\"M1880.328,268.914L1818.576,277.262C1756.823,285.609,1633.318,302.305,1571.565,320.152C1509.813,338,1509.813,357,1509.813,366.5L1509.813,376\" id=\"L_E_E1_0\" class=\" edge-thickness-normal edge-pattern-solid edge-thickness-normal edge-pattern-solid flowchart-link\" style=\"\" marker-end=\"url(#mermaid-svg_flowchart-v2-pointEnd)\"/><path d=\"M1880.328,279.514L1852.695,286.095C1825.063,292.676,1769.797,305.838,1742.164,321.919C1714.531,338,1714.531,357,1714.531,366.5L1714.531,376\" id=\"L_E_E2_0\" class=\" edge-thickness-normal edge-pattern-solid edge-thickness-normal edge-pattern-solid flowchart-link\" style=\"\" marker-end=\"url(#mermaid-svg_flowchart-v2-pointEnd)\"/><path d=\"M1972.952,282L1970.598,288.167C1968.244,294.333,1963.536,306.667,1961.182,322.333C1958.828,338,1958.828,357,1958.828,366.5L1958.828,376\" id=\"L_E_E3_0\" class=\" edge-thickness-normal edge-pattern-solid edge-thickness-normal edge-pattern-solid flowchart-link\" style=\"\" marker-end=\"url(#mermaid-svg_flowchart-v2-pointEnd)\"/><path d=\"M2086.188,279.514L2113.82,286.095C2141.453,292.676,2196.719,305.838,2224.352,315.919C2251.984,326,2251.984,333,2251.984,336.5L2251.984,340\" id=\"L_E_E4_0\" class=\" edge-thickness-normal edge-pattern-solid edge-thickness-normal edge-pattern-solid flowchart-link\" style=\"\" marker-end=\"url(#mermaid-svg_flowchart-v2-pointEnd)\"/></g><g class=\"edgeLabels\"><g class=\"edgeLabel\"><g class=\"label\" transform=\"translate(0, 0)\"><foreignObject width=\"0\" height=\"0\"><div xmlns=\"http://www.w3.org/1999/xhtml\" class=\"labelBkg\" style=\"display: table-cell; white-space: nowrap; line-height: 1.5; max-width: 200px; text-align: center;\"><span class=\"edgeLabel \"/></div></foreignObject></g></g><g class=\"edgeLabel\"><g class=\"label\" transform=\"translate(0, 0)\"><foreignObject width=\"0\" height=\"0\"><div xmlns=\"http://www.w3.org/1999/xhtml\" class=\"labelBkg\" style=\"display: table-cell; white-space: nowrap; line-height: 1.5; max-width: 200px; text-align: center;\"><span class=\"edgeLabel \"/></div></foreignObject></g></g><g class=\"edgeLabel\"><g class=\"label\" transform=\"translate(0, 0)\"><foreignObject width=\"0\" height=\"0\"><div xmlns=\"http://www.w3.org/1999/xhtml\" class=\"labelBkg\" style=\"display: table-cell; white-space: nowrap; line-height: 1.5; max-width: 200px; text-align: center;\"><span class=\"edgeLabel \"/></div></foreignObject></g></g><g class=\"edgeLabel\"><g class=\"label\" transform=\"translate(0, 0)\"><foreignObject width=\"0\" height=\"0\"><div xmlns=\"http://www.w3.org/1999/xhtml\" class=\"labelBkg\" style=\"display: table-cell; white-space: nowrap; line-height: 1.5; max-width: 200px; text-align: center;\"><span class=\"edgeLabel \"/></div></foreignObject></g></g><g class=\"edgeLabel\"><g class=\"label\" transform=\"translate(0, 0)\"><foreignObject width=\"0\" height=\"0\"><div xmlns=\"http://www.w3.org/1999/xhtml\" class=\"labelBkg\" style=\"display: table-cell; white-space: nowrap; line-height: 1.5; max-width: 200px; text-align: center;\"><span class=\"edgeLabel \"/></div></foreignObject></g></g><g class=\"edgeLabel\"><g class=\"label\" transform=\"translate(0, 0)\"><foreignObject width=\"0\" height=\"0\"><div xmlns=\"http://www.w3.org/1999/xhtml\" class=\"labelBkg\" style=\"display: table-cell; white-space: nowrap; line-height: 1.5; max-width: 200px; text-align: center;\"><span class=\"edgeLabel \"/></div></foreignObject></g></g><g class=\"edgeLabel\"><g class=\"label\" transform=\"translate(0, 0)\"><foreignObject width=\"0\" height=\"0\"><div xmlns=\"http://www.w3.org/1999/xhtml\" class=\"labelBkg\" style=\"display: table-cell; white-space: nowrap; line-height: 1.5; max-width: 200px; text-align: center;\"><span class=\"edgeLabel \"/></div></foreignObject></g></g><g class=\"edgeLabel\"><g class=\"label\" transform=\"translate(0, 0)\"><foreignObject width=\"0\" height=\"0\"><div xmlns=\"http://www.w3.org/1999/xhtml\" class=\"labelBkg\" style=\"display: table-cell; white-space: nowrap; line-height: 1.5; max-width: 200px; text-align: center;\"><span class=\"edgeLabel \"/></div></foreignObject></g></g><g class=\"edgeLabel\"><g class=\"label\" transform=\"translate(0, 0)\"><foreignObject width=\"0\" height=\"0\"><div xmlns=\"http://www.w3.org/1999/xhtml\" class=\"labelBkg\" style=\"display: table-cell; white-space: nowrap; line-height: 1.5; max-width: 200px; text-align: center;\"><span class=\"edgeLabel \"/></div></foreignObject></g></g><g class=\"edgeLabel\"><g class=\"label\" transform=\"translate(0, 0)\"><foreignObject width=\"0\" height=\"0\"><div xmlns=\"http://www.w3.org/1999/xhtml\" class=\"labelBkg\" style=\"display: table-cell; white-space: nowrap; line-height: 1.5; max-width: 200px; text-align: center;\"><span class=\"edgeLabel \"/></div></foreignObject></g></g><g class=\"edgeLabel\"><g class=\"label\" transform=\"translate(0, 0)\"><foreignObject width=\"0\" height=\"0\"><div xmlns=\"http://www.w3.org/1999/xhtml\" class=\"labelBkg\" style=\"display: table-cell; white-space: nowrap; line-height: 1.5; max-width: 200px; text-align: center;\"><span class=\"edgeLabel \"/></div></foreignObject></g></g><g class=\"edgeLabel\"><g class=\"label\" transform=\"translate(0, 0)\"><foreignObject width=\"0\" height=\"0\"><div xmlns=\"http://www.w3.org/1999/xhtml\" class=\"labelBkg\" style=\"display: table-cell; white-space: nowrap; line-height: 1.5; max-width: 200px; text-align: center;\"><span class=\"edgeLabel \"/></div></foreignObject></g></g><g class=\"edgeLabel\"><g class=\"label\" transform=\"translate(0, 0)\"><foreignObject width=\"0\" height=\"0\"><div xmlns=\"http://www.w3.org/1999/xhtml\" class=\"labelBkg\" style=\"display: table-cell; white-space: nowrap; line-height: 1.5; max-width: 200px; text-align: center;\"><span class=\"edgeLabel \"/></div></foreignObject></g></g><g class=\"edgeLabel\"><g class=\"label\" transform=\"translate(0, 0)\"><foreignObject width=\"0\" height=\"0\"><div xmlns=\"http://www.w3.org/1999/xhtml\" class=\"labelBkg\" style=\"display: table-cell; white-space: nowrap; line-height: 1.5; max-width: 200px; text-align: center;\"><span class=\"edgeLabel \"/></div></foreignObject></g></g><g class=\"edgeLabel\"><g class=\"label\" transform=\"translate(0, 0)\"><foreignObject width=\"0\" height=\"0\"><div xmlns=\"http://www.w3.org/1999/xhtml\" class=\"labelBkg\" style=\"display: table-cell; white-space: nowrap; line-height: 1.5; max-width: 200px; text-align: center;\"><span class=\"edgeLabel \"/></div></foreignObject></g></g></g><g class=\"nodes\"><g class=\"node default  \" id=\"flowchart-A-0\" transform=\"translate(1035.046875, 35)\"><rect class=\"basic label-container\" style=\"fill:#ffeb3b !important\" x=\"-67.3515625\" y=\"-27\" width=\"134.703125\" height=\"54\"/><g class=\"label\" style=\"\" transform=\"translate(-37.3515625, -12)\"><rect/><foreignObject width=\"74.703125\" height=\"24\"><div xmlns=\"http://www.w3.org/1999/xhtml\" style=\"display: table-cell; white-space: nowrap; line-height: 1.5; max-width: 200px; text-align: center;\"><span class=\"nodeLabel \"><p>Throwable</p></span></div></foreignObject></g></g><g class=\"node default  \" id=\"flowchart-B-1\" transform=\"translate(272.76953125, 139)\"><rect class=\"basic label-container\" style=\"fill:#f44336 !important\" x=\"-47.78125\" y=\"-27\" width=\"95.5625\" height=\"54\"/><g class=\"label\" style=\"\" transform=\"translate(-17.78125, -12)\"><rect/><foreignObject width=\"35.5625\" height=\"24\"><div xmlns=\"http://www.w3.org/1999/xhtml\" style=\"display: table-cell; white-space: nowrap; line-height: 1.5; max-width: 200px; text-align: center;\"><span class=\"nodeLabel \"><p>Error</p></span></div></foreignObject></g></g><g class=\"node default  \" id=\"flowchart-C-3\" transform=\"translate(1290.9609375, 139)\"><rect class=\"basic label-container\" style=\"fill:#4caf50 !important\" x=\"-65.1328125\" y=\"-27\" width=\"130.265625\" height=\"54\"/><g class=\"label\" style=\"\" transform=\"translate(-35.1328125, -12)\"><rect/><foreignObject width=\"70.265625\" height=\"24\"><div xmlns=\"http://www.w3.org/1999/xhtml\" style=\"display: table-cell; white-space: nowrap; line-height: 1.5; max-width: 200px; text-align: center;\"><span class=\"nodeLabel \"><p>Exception</p></span></div></foreignObject></g></g><g class=\"node default  \" id=\"flowchart-B1-5\" transform=\"translate(106.0078125, 255)\"><rect class=\"basic label-container\" style=\"\" x=\"-98.0078125\" y=\"-27\" width=\"196.015625\" height=\"54\"/><g class=\"label\" style=\"\" transform=\"translate(-68.0078125, -12)\"><rect/><foreignObject width=\"136.015625\" height=\"24\"><div xmlns=\"http://www.w3.org/1999/xhtml\" style=\"display: table-cell; white-space: nowrap; line-height: 1.5; max-width: 200px; text-align: center;\"><span class=\"nodeLabel \"><p>OutOfMemoryError</p></span></div></foreignObject></g></g><g class=\"node default  \" id=\"flowchart-B2-7\" transform=\"translate(353.3671875, 255)\"><rect class=\"basic label-container\" style=\"\" x=\"-99.3515625\" y=\"-27\" width=\"198.703125\" height=\"54\"/><g class=\"label\" style=\"\" transform=\"translate(-69.3515625, -12)\"><rect/><foreignObject width=\"138.703125\" height=\"24\"><div xmlns=\"http://www.w3.org/1999/xhtml\" style=\"display: table-cell; white-space: nowrap; line-height: 1.5; max-width: 200px; text-align: center;\"><span class=\"nodeLabel \"><p>StackOverflowError</p></span></div></foreignObject></g></g><g class=\"node default  \" id=\"flowchart-B3-9\" transform=\"translate(603.265625, 255)\"><rect class=\"basic label-container\" style=\"\" x=\"-100.546875\" y=\"-27\" width=\"201.09375\" height=\"54\"/><g class=\"label\" style=\"\" transform=\"translate(-70.546875, -12)\"><rect/><foreignObject width=\"141.09375\" height=\"24\"><div xmlns=\"http://www.w3.org/1999/xhtml\" style=\"display: table-cell; white-space: nowrap; line-height: 1.5; max-width: 200px; text-align: center;\"><span class=\"nodeLabel \"><p>VirtualMachineError</p></span></div></foreignObject></g></g><g class=\"node default  \" id=\"flowchart-D-11\" transform=\"translate(865.1953125, 255)\"><rect class=\"basic label-container\" style=\"fill:#ff9800 !important\" x=\"-111.3828125\" y=\"-39\" width=\"222.765625\" height=\"78\"/><g class=\"label\" style=\"\" transform=\"translate(-81.3828125, -24)\"><rect/><foreignObject width=\"162.765625\" height=\"48\"><div xmlns=\"http://www.w3.org/1999/xhtml\" style=\"display: table-cell; white-space: nowrap; line-height: 1.5; max-width: 200px; text-align: center;\"><span class=\"nodeLabel \"><p>RuntimeException<br/>Unchecked Exceptions</p></span></div></foreignObject></g></g><g class=\"node default  \" id=\"flowchart-E-13\" transform=\"translate(1983.2578125, 255)\"><rect class=\"basic label-container\" style=\"fill:#2196f3 !important\" x=\"-102.9296875\" y=\"-27\" width=\"205.859375\" height=\"54\"/><g class=\"label\" style=\"\" transform=\"translate(-72.9296875, -12)\"><rect/><foreignObject width=\"145.859375\" height=\"24\"><div xmlns=\"http://www.w3.org/1999/xhtml\" style=\"display: table-cell; white-space: nowrap; line-height: 1.5; max-width: 200px; text-align: center;\"><span class=\"nodeLabel \"><p>Checked Exceptions</p></span></div></foreignObject></g></g><g class=\"node default  \" id=\"flowchart-D1-15\" transform=\"translate(348.109375, 407)\"><rect class=\"basic label-container\" style=\"\" x=\"-104.265625\" y=\"-27\" width=\"208.53125\" height=\"54\"/><g class=\"label\" style=\"\" transform=\"translate(-74.265625, -12)\"><rect/><foreignObject width=\"148.53125\" height=\"24\"><div xmlns=\"http://www.w3.org/1999/xhtml\" style=\"display: table-cell; white-space: nowrap; line-height: 1.5; max-width: 200px; text-align: center;\"><span class=\"nodeLabel \"><p>NullPointerException</p></span></div></foreignObject></g></g><g class=\"node default  \" id=\"flowchart-D2-17\" transform=\"translate(623.09375, 407)\"><rect class=\"basic label-container\" style=\"\" x=\"-120.71875\" y=\"-27\" width=\"241.4375\" height=\"54\"/><g class=\"label\" style=\"\" transform=\"translate(-90.71875, -12)\"><rect/><foreignObject width=\"181.4375\" height=\"24\"><div xmlns=\"http://www.w3.org/1999/xhtml\" style=\"display: table-cell; white-space: nowrap; line-height: 1.5; max-width: 200px; text-align: center;\"><span class=\"nodeLabel \"><p>IllegalArgumentException</p></span></div></foreignObject></g></g><g class=\"node default  \" id=\"flowchart-D3-19\" transform=\"translate(946.1015625, 407)\"><rect class=\"basic label-container\" style=\"\" x=\"-152.2890625\" y=\"-27\" width=\"304.578125\" height=\"54\"/><g class=\"label\" style=\"\" transform=\"translate(-122.2890625, -12)\"><rect/><foreignObject width=\"244.578125\" height=\"24\"><div xmlns=\"http://www.w3.org/1999/xhtml\" style=\"display: table; white-space: break-spaces; line-height: 1.5; max-width: 200px; text-align: center; width: 200px;\"><span class=\"nodeLabel \"><p>ArrayIndexOutOfBoundsException</p></span></div></foreignObject></g></g><g class=\"node default  \" id=\"flowchart-D4-21\" transform=\"translate(1267.3125, 407)\"><rect class=\"basic label-container\" style=\"\" x=\"-118.921875\" y=\"-27\" width=\"237.84375\" height=\"54\"/><g class=\"label\" style=\"\" transform=\"translate(-88.921875, -12)\"><rect/><foreignObject width=\"177.84375\" height=\"24\"><div xmlns=\"http://www.w3.org/1999/xhtml\" style=\"display: table-cell; white-space: nowrap; line-height: 1.5; max-width: 200px; text-align: center;\"><span class=\"nodeLabel \"><p>NumberFormatException</p></span></div></foreignObject></g></g><g class=\"node default  \" id=\"flowchart-E1-23\" transform=\"translate(1509.8125, 407)\"><rect class=\"basic label-container\" style=\"\" x=\"-73.578125\" y=\"-27\" width=\"147.15625\" height=\"54\"/><g class=\"label\" style=\"\" transform=\"translate(-43.578125, -12)\"><rect/><foreignObject width=\"87.15625\" height=\"24\"><div xmlns=\"http://www.w3.org/1999/xhtml\" style=\"display: table-cell; white-space: nowrap; line-height: 1.5; max-width: 200px; text-align: center;\"><span class=\"nodeLabel \"><p>IOException</p></span></div></foreignObject></g></g><g class=\"node default  \" id=\"flowchart-E2-25\" transform=\"translate(1714.53125, 407)\"><rect class=\"basic label-container\" style=\"\" x=\"-81.140625\" y=\"-27\" width=\"162.28125\" height=\"54\"/><g class=\"label\" style=\"\" transform=\"translate(-51.140625, -12)\"><rect/><foreignObject width=\"102.28125\" height=\"24\"><div xmlns=\"http://www.w3.org/1999/xhtml\" style=\"display: table-cell; white-space: nowrap; line-height: 1.5; max-width: 200px; text-align: center;\"><span class=\"nodeLabel \"><p>SQLException</p></span></div></foreignObject></g></g><g class=\"node default  \" id=\"flowchart-E3-27\" transform=\"translate(1958.828125, 407)\"><rect class=\"basic label-container\" style=\"\" x=\"-113.15625\" y=\"-27\" width=\"226.3125\" height=\"54\"/><g class=\"label\" style=\"\" transform=\"translate(-83.15625, -12)\"><rect/><foreignObject width=\"166.3125\" height=\"24\"><div xmlns=\"http://www.w3.org/1999/xhtml\" style=\"display: table-cell; white-space: nowrap; line-height: 1.5; max-width: 200px; text-align: center;\"><span class=\"nodeLabel \"><p>FileNotFoundException</p></span></div></foreignObject></g></g><g class=\"node default  \" id=\"flowchart-E4-29\" transform=\"translate(2251.984375, 407)\"><rect class=\"basic label-container\" style=\"fill:#9c27b0 !important\" x=\"-130\" y=\"-63\" width=\"260\" height=\"126\"/><g class=\"label\" style=\"\" transform=\"translate(-100, -48)\"><rect/><foreignObject width=\"200\" height=\"96\"><div xmlns=\"http://www.w3.org/1999/xhtml\" style=\"display: table; white-space: break-spaces; line-height: 1.5; max-width: 200px; text-align: center; width: 200px;\"><span class=\"nodeLabel \"><p>Custom Banking Exceptions<br/>InsufficientFundsException<br/>AccountFrozenException</p></span></div></foreignObject></g></g></g></g></g></svg>"
          },
          "metadata": {}
        }
      ]
    },
    {
      "cell_type": "markdown",
      "source": [
        "# Common Exceptions You'll Encounter\n",
        "\n",
        "Before we learn how to handle exceptions, let's see the most common built-in exceptions that occur in everyday programming. Understanding these will help you recognize what's happening when your banking programs crash and give you the foundation for writing better error handling.\n",
        "\n",
        "Here's a table of common Java exceptions:\n",
        "\n",
        "| Exception | Description | Sample Code |\n",
        "|-----------|-------------|-------------|\n",
        "| **NullPointerException** | Trying to use a null object reference | `String s = null;`<br>`s.length();` |\n",
        "| **ArrayIndexOutOfBoundsException** | Accessing array with invalid index | `int[] arr = {1, 2};`<br>`arr[5];` |\n",
        "| **NumberFormatException** | Invalid string-to-number conversion | `Integer.parseInt(\"abc\");` |\n",
        "| **IllegalArgumentException** | Method receives inappropriate argument | `Thread.sleep(-1);` |\n",
        "| **ClassCastException** | Invalid type casting | `Object o = \"text\";`<br>`Integer i = (Integer) o;` |\n",
        "| **FileNotFoundException** | File doesn't exist at specified path | `new FileReader(\"missing.txt\");` |\n",
        "| **IOException** | General I/O operation failure | `reader.read();` // on closed stream |\n",
        "| **ArithmeticException** | Illegal arithmetic operation | `int x = 5 / 0;` |\n",
        "| **IllegalStateException** | Object in wrong state for operation | `iterator.next();` // after last element |\n",
        "| **IndexOutOfBoundsException** | Index out of range (List, String, etc.) | `list.get(999);` // on small list |\n",
        "| **NoSuchElementException** | Accessing element that doesn't exist | `Scanner s = new Scanner(\"\");`<br>`s.next();` |\n",
        "| **ConcurrentModificationException** | Modifying collection during iteration | `for(String s : list)`<br>`list.remove(s);` |\n",
        "\n"
      ],
      "metadata": {
        "id": "hSafBqfrrcAG"
      }
    },
    {
      "cell_type": "markdown",
      "source": [
        "\n",
        "Each of these exceptions provides useful information about what went wrong. When a `NullPointerException` occurs, Java tells you exactly which line tried to use a null reference. When you get an `ArrayIndexOutOfBoundsException`, the error message shows you which index was invalid.\n",
        "\n",
        "The key insight is that these exceptions aren't just random crashes - they're Java's way of providing detailed diagnostic information about specific problems in your code. Once you understand what each exception means, you can start writing code that anticipates and handles these situations gracefully instead of crashing.\n",
        "\n",
        "In the next slides, we'll learn how to catch these exceptions and respond to them appropriately in banking software."
      ],
      "metadata": {
        "id": "Q6nj5alcrew9"
      }
    },
    {
      "cell_type": "markdown",
      "source": [
        "# Try-Catch: Protecting Our Evil Plans\n",
        "\n",
        "Now that you understand what exceptions are and why they occur, let's learn how to handle them gracefully instead of letting them crash your banking programs. The **try-catch** statement is Java's primary mechanism for exception handling, allowing your code to attempt risky operations while providing backup plans when things go wrong.\n",
        "\n",
        "The basic syntax of try-catch follows a simple pattern:\n",
        "\n",
        "```java\n",
        "try {\n",
        "    // Code that might throw an exception\n",
        "} catch (ExceptionType e) {\n",
        "    // Code to handle the exception\n",
        "}\n",
        "```\n",
        "\n",
        "Let's see this in action with a practical banking example. Suppose we're reading account numbers from user input, which might not always be valid numbers:\n"
      ],
      "metadata": {
        "id": "OkRweNuGsln5"
      }
    },
    {
      "cell_type": "code",
      "source": [
        "%%writefile AccountNumberValidator.java\n",
        "public class AccountNumberValidator {\n",
        "    public static void validateAccountNumber(String input) {\n",
        "        try {\n",
        "            // Attempt to convert the input to a number\n",
        "            long accountNumber = Long.parseLong(input);\n",
        "            System.out.println(\"Valid account number: \" + accountNumber);\n",
        "\n",
        "        } catch (NumberFormatException e) {\n",
        "            // Handle the case where input isn't a valid number\n",
        "            System.out.println(\"Error: '\" + input + \"' is not a valid account number\");\n",
        "            System.out.println(\"Please enter numbers only (e.g., 1234567890)\");\n",
        "        }\n",
        "\n",
        "        System.out.println(\"Account validation complete.\\n\");\n",
        "    }\n",
        "\n",
        "    public static void main(String[] args) {\n",
        "        // Test cases to demonstrate exception handling\n",
        "        validateAccountNumber(\"1234567890\");  // Valid - should work\n",
        "        validateAccountNumber(\"abc123\");      // Invalid - will throw exception\n",
        "        validateAccountNumber(\"Gru's account\"); // Invalid - will throw exception\n",
        "        validateAccountNumber(\"9876543210\");  // Valid - should work\n",
        "    }\n",
        "}\n"
      ],
      "metadata": {
        "colab": {
          "base_uri": "https://localhost:8080/"
        },
        "id": "6S0jBgUZstab",
        "outputId": "82825ef3-93e8-4b46-f406-9efcc2e3114f"
      },
      "execution_count": null,
      "outputs": [
        {
          "output_type": "stream",
          "name": "stdout",
          "text": [
            "Overwriting AccountNumberValidator.java\n"
          ]
        }
      ]
    },
    {
      "cell_type": "code",
      "source": [
        "!javac AccountNumberValidator.java\n",
        "!java AccountNumberValidator"
      ],
      "metadata": {
        "colab": {
          "base_uri": "https://localhost:8080/"
        },
        "id": "zxSOusfxsw01",
        "outputId": "e14ad0ea-d75b-4e87-cfa1-1558d83147c1"
      },
      "execution_count": null,
      "outputs": [
        {
          "output_type": "stream",
          "name": "stdout",
          "text": [
            "Valid account number: 1234567890\n",
            "Account validation complete.\n",
            "\n",
            "Error: 'abc123' is not a valid account number\n",
            "Please enter numbers only (e.g., 1234567890)\n",
            "Account validation complete.\n",
            "\n",
            "Error: 'Gru's account' is not a valid account number\n",
            "Please enter numbers only (e.g., 1234567890)\n",
            "Account validation complete.\n",
            "\n",
            "Valid account number: 9876543210\n",
            "Account validation complete.\n",
            "\n"
          ]
        }
      ]
    },
    {
      "cell_type": "markdown",
      "source": [
        "\n",
        "The beauty of this approach is that your program doesn't crash when Gru accidentally types \"my account\" instead of \"1234567890\" for his account number. Instead, the `catch` block executes, provides a helpful error message, and allows the program to continue running.\n",
        "\n",
        "Notice that the code after the try-catch block always executes, regardless of whether an exception occurred. This makes try-catch perfect for maintaining the flow of your banking applications even when individual operations fail."
      ],
      "metadata": {
        "id": "2FhNEcC6snO2"
      }
    },
    {
      "cell_type": "markdown",
      "source": [
        "# Multiple Catch Blocks: Handling Different Disasters\n",
        "\n",
        "Banking software often needs to handle several different types of exceptions in a single operation. For example, when processing a withdrawal request, you might encounter invalid input, null references, or mathematical errors. Java allows you to handle each type of exception differently using **multiple catch blocks**.\n",
        "\n",
        "Here's how you can catch and handle different exceptions with specific responses for each:\n"
      ],
      "metadata": {
        "id": "7yLR49Uxs8yk"
      }
    },
    {
      "cell_type": "code",
      "source": [
        "%%writefile WithdrawalProcessor.java\n",
        "public class WithdrawalProcessor {\n",
        "    public static void processWithdrawal(String amountText, BankAccount account) {\n",
        "        try {\n",
        "            // Multiple things could go wrong here...\n",
        "            double amount = Double.parseDouble(amountText); // NumberFormatException\n",
        "\n",
        "            String accountInfo = account.getAccountNumber(); // NullPointerException if account is null\n",
        "\n",
        "            if (amount > account.getBalance()) {\n",
        "                throw new IllegalArgumentException(\"Insufficient funds\");\n",
        "            }\n",
        "\n",
        "            // Simulate withdrawal\n",
        "            System.out.println(\"Withdrawal of $\" + amount + \" successful!\");\n",
        "\n",
        "        } catch (NumberFormatException e) {\n",
        "            System.out.println(\"Invalid amount: Please enter a valid number\");\n",
        "            System.out.println(\"You entered: \" + amountText);\n",
        "\n",
        "        } catch (NullPointerException e) {\n",
        "            System.out.println(\"Error: No account provided for withdrawal\");\n",
        "            System.out.println(\"Please select an account first\");\n",
        "\n",
        "        } catch (IllegalArgumentException e) {\n",
        "            System.out.println(\"Transaction denied: \" + e.getMessage());\n",
        "        }\n",
        "\n",
        "        System.out.println(\"Processing complete.\\n\");\n",
        "    }\n",
        "\n",
        "    public static void main(String[] args) {\n",
        "        BankAccount gru = new BankAccount(\"V001\", \"Gru\");\n",
        "\n",
        "        // Test different exception scenarios\n",
        "        processWithdrawal(\"100.50\", gru);     // Should work\n",
        "        processWithdrawal(\"bad amount\", gru); // NumberFormatException\n",
        "        processWithdrawal(\"50.00\", null);     // NullPointerException\n",
        "        processWithdrawal(\"999999\", gru);     // IllegalArgumentException\n",
        "    }\n",
        "}\n"
      ],
      "metadata": {
        "colab": {
          "base_uri": "https://localhost:8080/"
        },
        "id": "dEohOYY9tCkE",
        "outputId": "261d8542-e6f4-4d43-f65b-289ff2d28dcd"
      },
      "execution_count": null,
      "outputs": [
        {
          "output_type": "stream",
          "name": "stdout",
          "text": [
            "Overwriting WithdrawalProcessor.java\n"
          ]
        }
      ]
    },
    {
      "cell_type": "code",
      "source": [
        "!javac WithdrawalProcessor.java\n",
        "!java WithdrawalProcessor"
      ],
      "metadata": {
        "colab": {
          "base_uri": "https://localhost:8080/"
        },
        "id": "c68hb8d9tHFG",
        "outputId": "6874d201-85a6-4bda-bd18-2af2001866e2"
      },
      "execution_count": null,
      "outputs": [
        {
          "output_type": "stream",
          "name": "stdout",
          "text": [
            "Transaction denied: Insufficient funds\n",
            "Processing complete.\n",
            "\n",
            "Invalid amount: Please enter a valid number\n",
            "You entered: bad amount\n",
            "Processing complete.\n",
            "\n",
            "Error: No account provided for withdrawal\n",
            "Please select an account first\n",
            "Processing complete.\n",
            "\n",
            "Transaction denied: Insufficient funds\n",
            "Processing complete.\n",
            "\n"
          ]
        }
      ]
    },
    {
      "cell_type": "markdown",
      "source": [
        "\n",
        "The key points about multiple catch blocks:\n",
        "\n",
        "1. **Order matters**: Java checks catch blocks from top to bottom and executes the first one that matches the exception type\n",
        "2. **Specific handling**: Each catch block can provide different error messages and recovery actions appropriate for that specific problem\n",
        "3. **Only one executes**: If an exception occurs, only the matching catch block runs - the others are skipped\n",
        "\n",
        "This approach allows the Bank of Evil's software to provide helpful, specific error messages rather than generic \"something went wrong\" responses that frustrate both villains and minions alike."
      ],
      "metadata": {
        "id": "KcQb81YRs-D-"
      }
    },
    {
      "cell_type": "markdown",
      "source": [
        "# The Finally Block: Cleanup After Chaos\n",
        "\n",
        "Sometimes your banking code needs to perform cleanup operations regardless of whether an exception occurred or not. For example, you might need to close database connections, unlock security systems, or log transaction attempts. The **finally block** ensures that critical cleanup code always executes, making it perfect for these scenarios.\n",
        "\n",
        "The finally block has a simple but powerful guarantee: **it always executes**, whether the try block succeeds, fails with an exception, or even if a catch block handles an exception.\n",
        "\n",
        "Here's the complete try-catch-finally syntax:\n",
        "\n",
        "```java\n",
        "try {\n",
        "    // Risky code that might throw exceptions\n",
        "} catch (ExceptionType e) {\n",
        "    // Handle specific exceptions\n",
        "} finally {\n",
        "    // Cleanup code that ALWAYS runs\n",
        "}\n",
        "```\n",
        "\n",
        "Let's see this in action with a Bank of Evil vault access system:\n"
      ],
      "metadata": {
        "id": "_LKn9dBvt37v"
      }
    },
    {
      "cell_type": "code",
      "source": [
        "%%writefile VaultAccessSystem.java\n",
        "public class VaultAccessSystem {\n",
        "    private static boolean vaultLocked = true;\n",
        "\n",
        "    public static void accessVault(String securityCode) {\n",
        "        try {\n",
        "            // Unlock the vault for access\n",
        "            System.out.println(\"Attempting to unlock vault...\");\n",
        "            vaultLocked = false;\n",
        "\n",
        "            // Verify the security code (might throw NumberFormatException)\n",
        "            int code = Integer.parseInt(securityCode);\n",
        "\n",
        "            if (code != 12345) {\n",
        "                throw new IllegalArgumentException(\"Invalid security code\");\n",
        "            }\n",
        "\n",
        "            System.out.println(\"Vault access granted! Evil schemes await!\");\n",
        "\n",
        "        } catch (NumberFormatException e) {\n",
        "            System.out.println(\"Security code must be numeric\");\n",
        "\n",
        "        } catch (IllegalArgumentException e) {\n",
        "            System.out.println(\"Access denied: \" + e.getMessage());\n",
        "\n",
        "        } finally {\n",
        "            // Always lock the vault again, no matter what happened\n",
        "            vaultLocked = true;\n",
        "            System.out.println(\"Vault secured and locked.\\n\");\n",
        "        }\n",
        "    }\n",
        "\n",
        "    public static void main(String[] args) {\n",
        "        // Test different access scenarios\n",
        "        accessVault(\"12345\");    // Correct code - should succeed\n",
        "        accessVault(\"54321\");    // Wrong code - IllegalArgumentException\n",
        "        accessVault(\"abc\");      // Invalid format - NumberFormatException\n",
        "        accessVault(\"12345\");    // Correct again - should succeed\n",
        "\n",
        "        System.out.println(\"Notice how the vault is always locked after each attempt!\");\n",
        "    }\n",
        "}\n"
      ],
      "metadata": {
        "colab": {
          "base_uri": "https://localhost:8080/"
        },
        "id": "HzKV06Kit9XB",
        "outputId": "7fe32143-e16b-4266-a60b-e5c835109fd5"
      },
      "execution_count": null,
      "outputs": [
        {
          "output_type": "stream",
          "name": "stdout",
          "text": [
            "Overwriting VaultAccessSystem.java\n"
          ]
        }
      ]
    },
    {
      "cell_type": "code",
      "source": [
        "!javac VaultAccessSystem.java\n",
        "!java VaultAccessSystem"
      ],
      "metadata": {
        "colab": {
          "base_uri": "https://localhost:8080/"
        },
        "id": "dm27EPw0uEYk",
        "outputId": "a756bc1a-b21a-4575-890b-c9d933334bc4"
      },
      "execution_count": null,
      "outputs": [
        {
          "output_type": "stream",
          "name": "stdout",
          "text": [
            "Attempting to unlock vault...\n",
            "Vault access granted! Evil schemes await!\n",
            "Vault secured and locked.\n",
            "\n",
            "Attempting to unlock vault...\n",
            "Access denied: Invalid security code\n",
            "Vault secured and locked.\n",
            "\n",
            "Attempting to unlock vault...\n",
            "Security code must be numeric\n",
            "Vault secured and locked.\n",
            "\n",
            "Attempting to unlock vault...\n",
            "Vault access granted! Evil schemes await!\n",
            "Vault secured and locked.\n",
            "\n",
            "Notice how the vault is always locked after each attempt!\n"
          ]
        }
      ]
    },
    {
      "cell_type": "markdown",
      "source": [
        "\n",
        "In this example, the vault gets locked again whether the access succeeds, the security code is invalid, or any other error occurs. This ensures that the Bank of Evil's assets remain secure even if something goes wrong during the access attempt.\n",
        "\n",
        "The finally block is essential for resource management and security in banking applications - it guarantees that cleanup operations happen even in exceptional circumstances."
      ],
      "metadata": {
        "id": "IzL1GV5vt5Ve"
      }
    },
    {
      "cell_type": "markdown",
      "source": [
        "# Exercise: Practice Exception Handling\n",
        "\n",
        "Now that you've learned the basics of try-catch blocks, let's practice with a more comprehensive banking scenario. The Bank of Evil's ATM system has several operations that can fail in different ways, and your job is to add proper exception handling to make it robust.\n",
        "\n",
        "Here's the problematic ATM code that needs exception handling:\n"
      ],
      "metadata": {
        "id": "iMDKt_MJumsO"
      }
    },
    {
      "cell_type": "code",
      "source": [
        "%%writefile EvilATM.java\n",
        "public class EvilATM {\n",
        "\n",
        "    public static void processTransaction(String operation, String accountId, String amountStr) {\n",
        "        // TODO: Add try-catch blocks to handle potential exceptions\n",
        "\n",
        "        System.out.println(\"Processing \" + operation + \" for account \" + accountId);\n",
        "\n",
        "        // This might throw NumberFormatException\n",
        "        double amount = Double.parseDouble(amountStr);\n",
        "\n",
        "        // This might throw NullPointerException if accountId is null\n",
        "        String upperAccountId = accountId.toUpperCase();\n",
        "\n",
        "        // This might throw IllegalArgumentException for negative amounts\n",
        "        if (amount < 0) {\n",
        "            throw new IllegalArgumentException(\"Amount cannot be negative: $\" + amount);\n",
        "        }\n",
        "\n",
        "        // Simulate different operations\n",
        "        if (operation.equals(\"WITHDRAW\")) {\n",
        "            System.out.println(\"Withdrew $\" + amount + \" from account \" + upperAccountId);\n",
        "        } else if (operation.equals(\"DEPOSIT\")) {\n",
        "            System.out.println(\"Deposited $\" + amount + \" to account \" + upperAccountId);\n",
        "        }\n",
        "\n",
        "        // TODO: Add finally block that prints \"Transaction attempt completed\"\n",
        "    }\n",
        "\n",
        "    public static void main(String[] args) {\n",
        "        // Test cases - some will cause exceptions!\n",
        "        processTransaction(\"WITHDRAW\", \"V001\", \"100.50\");  // Should work\n",
        "        processTransaction(\"DEPOSIT\", \"M002\", \"fifty\");    // NumberFormatException\n",
        "        processTransaction(\"WITHDRAW\", null, \"75.00\");     // NullPointerException\n",
        "        processTransaction(\"DEPOSIT\", \"V003\", \"-25.00\");   // IllegalArgumentException\n",
        "        processTransaction(\"WITHDRAW\", \"M001\", \"200.00\");  // Should work\n",
        "    }\n",
        "}\n"
      ],
      "metadata": {
        "colab": {
          "base_uri": "https://localhost:8080/"
        },
        "id": "BNaJ0U16utOP",
        "outputId": "e028ff12-77aa-4dba-b18a-f5b4e4e57cab"
      },
      "execution_count": null,
      "outputs": [
        {
          "output_type": "stream",
          "name": "stdout",
          "text": [
            "Overwriting EvilATM.java\n"
          ]
        }
      ]
    },
    {
      "cell_type": "code",
      "source": [
        "!javac EvilATM.java\n",
        "!java EvilATM"
      ],
      "metadata": {
        "colab": {
          "base_uri": "https://localhost:8080/"
        },
        "id": "gaDZTKKKuw5f",
        "outputId": "da83d751-86b1-4d2f-d595-88e0d9338fb5"
      },
      "execution_count": null,
      "outputs": [
        {
          "output_type": "stream",
          "name": "stdout",
          "text": [
            "Processing WITHDRAW for account V001\n",
            "Withdrew $100.5 from account V001\n",
            "Processing DEPOSIT for account M002\n",
            "Exception in thread \"main\" java.lang.NumberFormatException: For input string: \"fifty\"\n",
            "\tat java.base/jdk.internal.math.FloatingDecimal.readJavaFormatString(FloatingDecimal.java:2054)\n",
            "\tat java.base/jdk.internal.math.FloatingDecimal.parseDouble(FloatingDecimal.java:110)\n",
            "\tat java.base/java.lang.Double.parseDouble(Double.java:543)\n",
            "\tat EvilATM.processTransaction(EvilATM.java:9)\n",
            "\tat EvilATM.main(EvilATM.java:32)\n"
          ]
        }
      ]
    },
    {
      "cell_type": "markdown",
      "source": [
        "\n",
        "**Your Tasks:**\n",
        "\n",
        "1. **Add a try-catch structure** around the risky code in `processTransaction`\n",
        "2. **Handle NumberFormatException** with a message like \"Invalid amount format\"  \n",
        "3. **Handle NullPointerException** with a message like \"Account ID cannot be null\"\n",
        "4. **Handle IllegalArgumentException** with a message showing what went wrong\n",
        "5. **Add a finally block** that always prints \"Transaction attempt completed\"\n",
        "6. **Run the program** and verify that all test cases are handled gracefully\n",
        "\n",
        "The goal is to make the ATM continue processing other transactions even when individual transactions fail due to bad input or other problems."
      ],
      "metadata": {
        "id": "YQ2eYTW3uosS"
      }
    },
    {
      "cell_type": "markdown",
      "source": [
        "# Checked vs Unchecked Exceptions\n",
        "\n",
        "Now that you're comfortable with basic exception handling, it's important to understand that Java treats different types of exceptions differently. This distinction affects how you write your code and what the compiler requires you to do when handling various error conditions.\n",
        "\n",
        "- **Unchecked exceptions** are the ones you've been working with so far - `NullPointerException`, `IllegalArgumentException`, `NumberFormatException`, and others that extend `RuntimeException`. These are called \"unchecked\" because the Java compiler doesn't force you to handle them.\n",
        "    - You can choose to catch them with try-catch blocks, but you're not required to. If you don't catch them and they occur, your program will crash with a stack trace.\n",
        "- **Checked exceptions** are different - the compiler requires you to either catch them or declare that your method might throw them. If you call a method that might throw a checked exception, your code won't compile unless you handle it.\n",
        "    - Common checked exceptions include `IOException` (for file operations), `SQLException` (for database operations), and `ClassNotFoundException` (when the JVM can't find a class file).\n",
        "\n",
        "For example, the following code block will NOT compile because it doesn't catch a checked exception:\n",
        "\n",
        "```java\n",
        "public class BankAccount {\n",
        "    public void transferFunds(String accountFile, double amount) {\n",
        "        FileReader reader = new FileReader(accountFile);  // ❌ COMPILE ERROR!\n",
        "        // Process transfer from file...\n",
        "    }\n",
        "}\n",
        "```\n",
        "This will give something like:\n",
        "\n",
        "`Compiler error: Unhandled exception: java.io.FileNotFoundException`\n",
        "\n",
        "This won't compile because `FileNotFoundException` is checked - you MUST either:\n",
        "\n",
        "1. Wrap it in try-catch, OR\n",
        "2. Add `throws FileNotFoundException` to the method signature\n",
        "\n",
        "Option 1:\n",
        "```java\n",
        "public class BankAccount {\n",
        "    public void transferFunds(String accountFile, double amount)  {\n",
        "      try{\n",
        "        FileReader reader = new FileReader(accountFile);\n",
        "        // Process transfer from file...\n",
        "      }\n",
        "      catch(FileNotFoundException){\n",
        "      }\n",
        "    }\n",
        "}\n",
        "```\n",
        "\n",
        "Option 2:\n",
        "\n",
        "```java\n",
        "public class BankAccount {\n",
        "    public void transferFunds(String accountFile, double amount) throws FileNotFoundException {\n",
        "        FileReader reader = new FileReader(accountFile);\n",
        "        // Process transfer from file...\n",
        "    }\n",
        "}\n",
        "```\n",
        "\n",
        "## Checked Exceptions\n",
        "*Must be caught or declared - represent expected external failures*\n",
        "\n",
        "| Exception | Why It's Checked | Description |\n",
        "|-----------|------------------|-------------|\n",
        "| `IOException` | External I/O can fail unpredictably | General input/output operation failure |\n",
        "| `FileNotFoundException` | Files may not exist at runtime | Specific file cannot be found or opened |\n",
        "| `SQLException` | Database connections/queries can fail | Error communicating with database |\n",
        "| `ClassNotFoundException` | Classes may be missing at runtime | Named class cannot be loaded dynamically |\n",
        "| `InterruptedException` | Thread interruption is external event | Thread was interrupted while waiting/sleeping |\n",
        "| `ParseException` | Input data format may be invalid | String doesn't match expected date/number format |\n",
        "\n",
        "## Unchecked Exceptions  \n",
        "*Optional to handle - represent programming bugs or runtime conditions*\n",
        "\n",
        "| Exception | Why It's Unchecked | Description |\n",
        "|-----------|-------------------|-------------|\n",
        "| `NullPointerException` | Programming error - should validate nulls | Attempting to use null object reference |\n",
        "| `ArrayIndexOutOfBoundsException` | Programming error - should check bounds | Array accessed with invalid index |\n",
        "| `IllegalArgumentException` | Programming error - caller passed bad data | Method received invalid argument value |\n",
        "| `ArithmeticException` | Preventable logic error | Illegal arithmetic like division by zero |\n",
        "| `ClassCastException` | Programming error - wrong type assumption | Invalid object type cast attempted |\n",
        "| `IllegalStateException` | Programming error - wrong method call timing | Object not in appropriate state for operation |\n",
        "\n",
        "**Key difference**: Checked = things outside your control that well-written code must anticipate. Unchecked = bugs that shouldn't happen if code is correct."
      ],
      "metadata": {
        "id": "HoAZDUrIvUKM"
      }
    },
    {
      "cell_type": "markdown",
      "source": [
        "# Exception Propagation: When Minions Pass Problems Up\n",
        "\n",
        "In the Bank of Evil's organizational hierarchy, when a minion encounters a problem they can't handle, they report it to their supervisor, who might pass it up to Gru if necessary. Java's exception system works similarly through a process called **exception propagation** - when a method can't handle an exception, it automatically passes the problem up to whoever called it.\n",
        "\n",
        "Understanding exception propagation helps you design better banking software because you can handle errors at the most appropriate level. Sometimes a low-level method should handle its own problems, and sometimes it makes more sense to let a higher-level method deal with the issue.\n",
        "\n",
        "Here's how propagation works in practice:\n",
        "\n",
        "1. **Method A calls Method B**, which calls **Method C**\n",
        "2. **Method C encounters an exception** but doesn't have a try-catch block to handle it\n",
        "3. **The exception automatically propagates back to Method B**\n",
        "4. If **Method B doesn't handle it**, the exception propagates to **Method A**\n",
        "5. This continues until **someone handles the exception** or the program crashes\n",
        "\n",
        "This propagation mechanism is powerful because it means you don't have to handle every possible exception in every method. For example, a low-level account validation method might detect an invalid account number, but the user interface code that called it is in a better position to display an appropriate error message to the user.\n",
        "\n",
        "The key insight is that exceptions will keep traveling up the call stack until they find a method with appropriate try-catch handling. This allows you to centralize error handling logic where it makes the most sense, rather than cluttering every method with exception handling code.\n",
        "\n",
        "When designing the Bank of Evil's software architecture, you can use this propagation behavior to separate error detection (in low-level methods) from error handling and user communication (in higher-level methods)."
      ],
      "metadata": {
        "id": "P2iI1KPpvUs8"
      }
    },
    {
      "cell_type": "markdown",
      "source": [
        "# Method Signatures and the 'throws' Clause\n",
        "\n",
        "When you write methods that might encounter checked exceptions but don't want to handle them immediately, you need to tell the compiler (and other programmers) about this possibility. The **throws clause** is Java's way of documenting which exceptions a method might pass along to its callers.\n",
        "\n",
        "The throws clause appears in the method signature after the parameter list and before the opening brace. It serves as both a compiler requirement and documentation for anyone using your method:\n",
        "\n",
        "```java\n",
        "public void transferFunds(String fromAccount, String toAccount, double amount)\n",
        "        throws InsufficientFundsException, AccountNotFoundException {\n",
        "    // Method implementation that might throw these exceptions\n",
        "}\n",
        "```\n",
        "\n",
        "This signature tells us several important things:\n",
        "\n",
        "- The method might throw `InsufficientFundsException` if there isn't enough money to transfer\n",
        "- It might throw `AccountNotFoundException` if either account doesn't exist  \n",
        "- Any code that calls this method must either catch these exceptions or declare that it also throws them\n",
        "\n",
        "Here's a practical example from the Bank of Evil's fund transfer system:\n",
        "\n",
        "```java\n",
        "public class FundTransferService {\n",
        "    \n",
        "    // This method declares what exceptions it might throw\n",
        "    public void processTransfer(String from, String to, double amount)\n",
        "            throws InsufficientFundsException {\n",
        "        \n",
        "        // Implementation details...\n",
        "        if (getBalance(from) < amount) {\n",
        "            throw new InsufficientFundsException(\"Not enough funds for transfer\");\n",
        "        }\n",
        "        \n",
        "        // Continue with transfer...\n",
        "    }\n",
        "    \n",
        "    // Calling code must handle the declared exception\n",
        "    public void handleTransferRequest(String from, String to, double amount) {\n",
        "        try {\n",
        "            processTransfer(from, to, amount);\n",
        "            System.out.println(\"Transfer completed successfully!\");\n",
        "        } catch (InsufficientFundsException e) {\n",
        "            System.out.println(\"Transfer failed: \" + e.getMessage());\n",
        "        }\n",
        "    }\n",
        "}\n",
        "```\n",
        "\n",
        "The throws clause creates a clear contract between methods, making it explicit which error conditions callers need to be prepared for. This helps prevent surprise exceptions and makes the Bank of Evil's code more maintainable and reliable."
      ],
      "metadata": {
        "id": "UdRr96rrvXfq"
      }
    },
    {
      "cell_type": "markdown",
      "source": [
        "# Best Practices for Evil... I Mean, Exceptional Code\n",
        "\n",
        "After working with exceptions in various banking scenarios, you've learned the mechanics of try-catch blocks and exception handling. Now let's discuss the best practices that will help you write professional-quality exception handling code worthy of the Bank of Evil's high standards.\n",
        "\n",
        "1. **Write specific catch blocks rather than catching everything.** Instead of catching `Exception` (which catches almost everything), catch the specific exceptions you're expecting. This makes your code more precise and helps you provide better error messages. For example, catch `NumberFormatException` when parsing user input rather than catching all exceptions.\n",
        "2. **Use meaningful error messages that help users understand what went wrong.** When Gru sees an error message, he shouldn't have to guess what happened. Messages like \"Invalid account number format - please use digits only\" are much more helpful than \"Error occurred\" or cryptic technical details.\n",
        "3.  **Don't ignore exceptions by leaving catch blocks empty.** If an exception occurs, something needs to happen - even if it's just logging the error for later investigation. Empty catch blocks hide problems and make debugging nearly impossible when things go wrong in production.\n",
        "4. **Handle exceptions at the appropriate level.** Low-level utility methods might detect problems, but user interface code is often better positioned to decide how to respond. Use exception propagation to your advantage by letting exceptions bubble up to where they can be handled most effectively.\n",
        "5. **Use finally blocks for cleanup operations that must always happen.** Resource cleanup like closing files, database connections, or unlocking security systems should go in finally blocks to ensure they execute regardless of success or failure.\n",
        "6. **Be consistent in your exception handling approach across the youe application.** If you handle invalid input one way in the deposit system, handle it the same way in the withdrawal system. Consistency makes your code easier to maintain and debug.\n",
        "\n",
        "Following these practices will help you build software that handles errors gracefully and provides a professional experience even when things don't go according to plan."
      ],
      "metadata": {
        "id": "Z9G6H0oJvZ7S"
      }
    },
    {
      "cell_type": "markdown",
      "source": [
        "## Exercise 3: Evil Loan Approval System\n",
        "\n",
        "You're building a loan approval system for the Bank of Evil. Villains apply for loans by providing their name, the amount they want, and their \"evilness score\" (1-10, with 10 being maximally evil).\n",
        "\n",
        "Your program needs to:\n",
        "\n",
        "**Step 1: Validate the application**\n",
        "- Check that the villain's name isn't empty\n",
        "- Check that the amount is reasonable (between \\$1,000 and \\$5,000,000)\n",
        "- Check that the evilness score is between 1 and 10\n",
        "- Handle cases where the numbers aren't actually numbers (like \"two million\" instead of \"2000000\")\n",
        "- If anything is invalid, throw a custom exception explaining what's wrong\n",
        "\n",
        "**Step 2: Decide whether to approve**\n",
        "- Approve the loan if the villain has an evilness score of 7 or higher AND the bank has enough money\n",
        "- If not evil enough or insufficient funds, throw an exception explaining why\n",
        "\n",
        "**Step 3: Process applications with proper error handling**\n",
        "- Try to validate and approve each application\n",
        "- Catch any validation errors and print helpful messages\n",
        "- Use a finally block to always print \"Loan processing complete for [villain name]\"\n",
        "\n",
        "Example scenarios:\n",
        "- Gru applies for $2,000,000 with evilness 9 → Should validate and approve\n",
        "- \"Random Guy\" applies with evilness 3 → Should validate but reject (not evil enough)\n",
        "- Someone applies for \"two million\" → Should fail validation (not a number)\n",
        "\n",
        "### Starter Code"
      ],
      "metadata": {
        "id": "642icZvFdqzh"
      }
    },
    {
      "cell_type": "code",
      "source": [
        "%%writefile LoanApprovalSystem.java\n",
        "import java.util.ArrayList;\n",
        "\n",
        "// TODO: Create a custom exception class called LoanValidationException\n",
        "// - It should extend Exception (NOT RuntimeException - this is a checked exception)\n",
        "// - Give it a constructor: public LoanValidationException(String message)\n",
        "// - The constructor should call super(message) to pass the message up\n",
        "\n",
        "\n",
        "class LoanRequest {\n",
        "    String villainName;\n",
        "    double amount;\n",
        "    int evilnessScore;\n",
        "\n",
        "    public LoanRequest(String villainName, double amount, int evilnessScore) {\n",
        "        this.villainName = villainName;\n",
        "        this.amount = amount;\n",
        "        this.evilnessScore = evilnessScore;\n",
        "    }\n",
        "}\n",
        "\n",
        "public class LoanApprovalSystem {\n",
        "    private ArrayList<LoanRequest> approvedLoans;\n",
        "    private double availableFunds;\n",
        "\n",
        "    public LoanApprovalSystem(double funds) {\n",
        "        this.approvedLoans = new ArrayList<>();\n",
        "        this.availableFunds = funds;\n",
        "    }\n",
        "\n",
        "    // TODO: Add \"throws LoanValidationException\" to this method signature\n",
        "    public LoanRequest validateLoanRequest(String villainName, String amountStr, String scoreStr) {\n",
        "\n",
        "        // TODO: Implement this method:\n",
        "\n",
        "        // 1. Try to parse amountStr to double and scoreStr to int\n",
        "        //    Wrap this in try-catch for NumberFormatException\n",
        "        //    If parsing fails, throw new LoanValidationException(\"Invalid number format\")\n",
        "\n",
        "        // 2. Check if villainName is null or empty\n",
        "        //    If so: throw new LoanValidationException(\"Villain name is required\")\n",
        "\n",
        "        // 3. Check if amount is between 1000 and 5000000\n",
        "        //    If not: throw new LoanValidationException(\"Amount must be between $1,000 and $5,000,000\")\n",
        "\n",
        "        // 4. Check if evilnessScore is between 1 and 10\n",
        "        //    If not: throw new LoanValidationException(\"Evilness score must be 1-10\")\n",
        "\n",
        "        // 5. If everything is valid, return a new LoanRequest object\n",
        "\n",
        "        return null;\n",
        "    }\n",
        "\n",
        "    // TODO: Add \"throws LoanValidationException\" to this method signature\n",
        "    public void approveLoan(LoanRequest request) {\n",
        "\n",
        "        // TODO: Implement this method:\n",
        "\n",
        "        // 1. Check if request.evilnessScore >= 7\n",
        "        //    If not: throw new LoanValidationException(\"Insufficient evilness (minimum score: 7)\")\n",
        "\n",
        "        // 2. Check if availableFunds >= request.amount\n",
        "        //    If not: throw new LoanValidationException(\"Insufficient funds available\")\n",
        "\n",
        "        // 3. If both checks pass:\n",
        "        //    - Add request to approvedLoans ArrayList\n",
        "        //    - Subtract request.amount from availableFunds\n",
        "        //    - Print: \"✓ Approved: [villainName] - $[amount]\"\n",
        "\n",
        "    }\n",
        "\n",
        "    public void processLoanApplication(String villainName, String amountStr, String scoreStr) {\n",
        "\n",
        "        // TODO: Implement this method with try-catch-finally:\n",
        "\n",
        "        // 1. In the try block:\n",
        "        //    - Call validateLoanRequest() and store the returned LoanRequest\n",
        "        //    - Call approveLoan() with that LoanRequest\n",
        "\n",
        "        // 2. Add a catch block for LoanValidationException:\n",
        "        //    - Print: \"✗ Loan denied for [villainName]: \" + e.getMessage()\n",
        "\n",
        "        // 3. Add a finally block:\n",
        "        //    - Print: \"Loan processing complete for: [villainName]\"\n",
        "        //    (This should print whether the loan was approved or denied)\n",
        "\n",
        "    }\n",
        "\n",
        "    public void displayApprovedLoans() {\n",
        "        System.out.println(\"\\n=== Approved Loans ===\");\n",
        "        for (LoanRequest loan : approvedLoans) {\n",
        "            System.out.println(loan.villainName + \": $\" + loan.amount + \" (Evil: \" + loan.evilnessScore + \"/10)\");\n",
        "        }\n",
        "        System.out.println(\"Remaining funds: $\" + availableFunds);\n",
        "    }\n",
        "\n",
        "    public static void main(String[] args) {\n",
        "        LoanApprovalSystem system = new LoanApprovalSystem(10000000.0);\n",
        "\n",
        "        System.out.println(\"=== Bank of Evil Loan Processing ===\\n\");\n",
        "\n",
        "        // TODO: Test with these applications (call processLoanApplication for each):\n",
        "\n",
        "        // 1. \"Gru\", \"2000000\", \"9\" → Should approve\n",
        "        // 2. \"Vector\", \"1500000\", \"8\" → Should approve\n",
        "        // 3. \"Scarlet Overkill\", \"3000000\", \"10\" → Should approve\n",
        "        // 4. \"Random Guy\", \"500000\", \"3\" → Should reject (not evil enough)\n",
        "        // 5. \"El Macho\", \"not-a-number\", \"9\" → Should fail validation\n",
        "        // 6. \"Balthazar Bratt\", \"10000000\", \"2\" → Should fail (amount out of range)\n",
        "        // 7. \"Dr. Nefario\", \"1000000\", \"8\" → Should reject (insufficient funds after previous approvals)\n",
        "\n",
        "        system.displayApprovedLoans();\n",
        "    }\n",
        "}\n"
      ],
      "metadata": {
        "id": "tTLt-2ayd1vw"
      },
      "execution_count": null,
      "outputs": []
    },
    {
      "cell_type": "code",
      "source": [
        "!javac LoanApprovalSystem.java\n",
        "!java LoanApprovalSystem"
      ],
      "metadata": {
        "id": "C5ERAXhMeGNo"
      },
      "execution_count": null,
      "outputs": []
    },
    {
      "cell_type": "markdown",
      "source": [
        "# How This Knowledge Makes You a Better Programmer\n",
        "\n",
        "Understanding Java compilation and exception handling transforms you from someone who writes code that sometimes works into a programmer who builds reliable, professional software. Let's reflect on how these concepts apply beyond our villain banking theme to real-world software development.\n",
        "\n",
        "**Compilation knowledge helps you write more efficient code.** When you understand how Java converts your source code to bytecode and how the JVM executes it, you make better decisions about data structures, memory usage, and performance. You'll know why certain operations are expensive and how to write code that takes advantage of Java's optimization features like JIT compilation.\n",
        "\n",
        "**Exception handling makes your software resilient.** Real-world applications face countless unexpected situations - network failures, invalid user input, hardware problems, and external system outages. Programs that handle these gracefully continue operating and provide good user experiences, while programs that crash lose data and frustrate users. The exception handling skills you've learned apply to any type of software, from mobile apps to web services to desktop applications.\n",
        "\n",
        "**Understanding the development lifecycle improves your debugging skills.** When you know the difference between compile-time and runtime errors, you can fix problems faster and write code that catches issues early. You'll spend less time hunting mysterious bugs and more time building new features.\n",
        "\n",
        "**Professional software development requires both knowledge areas.** In industry settings, reliable software isn't optional - it's essential. Companies building banking systems, medical software, e-commerce platforms, or any mission-critical applications need programmers who understand how to build robust, efficient systems. The concepts you've learned in this chapter are fundamental skills that every professional Java developer must master.\n",
        "\n",
        "Whether you're building the next great mobile app, contributing to open-source projects, or working on enterprise software, the principles of understanding your platform and handling errors gracefully will serve you throughout your programming career. These aren't just academic concepts - they're practical skills that separate professional developers from casual programmers."
      ],
      "metadata": {
        "id": "Kj53ErNVxgLd"
      }
    },
    {
      "cell_type": "markdown",
      "source": [
        "# Glossary\n",
        "\n",
        "| Term | Definition |\n",
        "|------|------------|\n",
        "| **Bytecode** | Intermediate code produced by the Java compiler that the JVM executes; stored in .class files |\n",
        "| **Java Virtual Machine (JVM)** | Software platform that executes Java bytecode and provides runtime environment for Java programs |\n",
        "| **Class Loader** | JVM component responsible for finding and loading .class files into memory when needed |\n",
        "| **Heap Memory** | Memory area where all object instances are stored during program execution |\n",
        "| **Stack Memory** | Memory area that holds method calls, parameters, and local variables for each thread |\n",
        "| **Method Area** | Memory region where class-level information like static variables and method definitions are stored |\n",
        "| **Just-In-Time (JIT) Compilation** | Process where the JVM converts frequently-used bytecode into optimized machine code for better performance |\n",
        "| **Exception** | Object that signals an abnormal condition or error that occurred during program execution |\n",
        "| **Runtime Exception** | Type of unchecked exception that doesn't require explicit handling; indicates programming errors |\n",
        "| **Checked Exception** | Type of exception that must be explicitly caught or declared in method signatures |\n",
        "| **Unchecked Exception** | Exception type that doesn't require explicit handling by the compiler |\n",
        "| **Exception Propagation** | Process where unhandled exceptions automatically travel up the call stack to calling methods |\n",
        "| **Stack Trace** | Detailed report showing the sequence of method calls that led to an exception |\n",
        "| **try** | Keyword that begins a block of code that might throw exceptions |\n",
        "| **catch** | Keyword that begins a block of code designed to handle specific exception types |\n",
        "| **finally** | Keyword that begins a block of code that always executes, regardless of exceptions |\n",
        "| **throw** | Keyword used to explicitly create and throw an exception object |\n",
        "| **throws** | Keyword used in method signatures to declare which checked exceptions the method might throw |\n",
        "| **NullPointerException** | Common runtime exception thrown when trying to use a null reference |\n",
        "| **IllegalArgumentException** | Runtime exception thrown when a method receives invalid parameter values |\n",
        "| **NumberFormatException** | Runtime exception thrown when trying to convert invalid text into a numeric value |\n",
        "| **ArrayIndexOutOfBoundsException** | Runtime exception thrown when accessing an invalid array index |\n",
        "| **Compilation Error** | Error detected by the compiler that prevents source code from being converted to bytecode |\n",
        "| **Static Variable** | Class-level variable shared by all instances of a class; stored in method area |\n",
        "| **Instance Variable** | Object-level variable unique to each object instance; stored in heap memory |"
      ],
      "metadata": {
        "id": "4o5zSbcNxhYe"
      }
    },
    {
      "cell_type": "code",
      "source": [],
      "metadata": {
        "id": "Psv4VEmV32Zt"
      },
      "execution_count": null,
      "outputs": []
    }
  ]
}