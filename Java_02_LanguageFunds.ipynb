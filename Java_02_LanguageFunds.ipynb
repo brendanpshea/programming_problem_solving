{
  "nbformat": 4,
  "nbformat_minor": 0,
  "metadata": {
    "colab": {
      "provenance": [],
      "authorship_tag": "ABX9TyNKoRkJpV+b8x7eihjmrHfV",
      "include_colab_link": true
    },
    "kernelspec": {
      "name": "python3",
      "display_name": "Python 3"
    },
    "language_info": {
      "name": "python"
    }
  },
  "cells": [
    {
      "cell_type": "markdown",
      "metadata": {
        "id": "view-in-github",
        "colab_type": "text"
      },
      "source": [
        "<a href=\"https://colab.research.google.com/github/brendanpshea/programming_problem_solving/blob/main/Java_02_LanguageFunds.ipynb\" target=\"_parent\"><img src=\"https://colab.research.google.com/assets/colab-badge.svg\" alt=\"Open In Colab\"/></a>"
      ]
    },
    {
      "cell_type": "markdown",
      "source": [
        "# Introduction to Java Language Fundamentals\n",
        "\n",
        "Java is a powerful, versatile programming language that provides a solid foundation for beginners. In this chapter, we'll explore the fundamental building blocks that make up Java programs.\n",
        "\n",
        "Key concepts we'll cover include:\n",
        "\n",
        "* **Variables** - Containers that store data in your program (like `int age = 21;`)\n",
        "* **Data types** - Categories that define what kind of information can be stored (such as numbers, text, or true/false values)\n",
        "* **Operators** - Symbols that perform operations on variables and values (like `+`, `-`, `*`, `/`)\n",
        "* **Control flow** - How to make decisions in your code (using statements like `if` and `else`)\n",
        "* **Functions** - Reusable blocks of code that perform specific tasks (such as calculating a bill total)\n",
        "\n",
        "Understanding these fundamentals will give you the tools you need to write your first meaningful Java programs. Think of O'Shea's Irish Pub - they might use Java to track inventory, calculate bills, or manage reservations. These concepts are universal across many programming languages, making them valuable even beyond Java."
      ],
      "metadata": {
        "id": "KJh-ZnasGZIm"
      }
    },
    {
      "cell_type": "markdown",
      "source": [
        "# Understanding Variables: Storing Data in Java\n",
        "\n",
        "Variables are foundational to programming - they allow us to store, manipulate, and track data in our programs. Think of variables like labeled containers that hold specific pieces of information.\n",
        "\n",
        "In Java, all variables have three important characteristics:\n",
        "\n",
        "* **Name** - What we call the variable when we want to use it (like `pintsServed` or `customerName`)\n",
        "* **Type** - What kind of data the variable can store (like `int` for whole numbers or `String` for text)\n",
        "* **Value** - The actual data currently stored in the variable (like `42` or `\"Siobhan\"`)\n",
        "\n",
        "For example, if O'Shea's Pub wants to track the number of pints sold today, we could create a variable called `pintsServed` with a type of `int` (integer) and a value that starts at 0 and increases with each sale:\n",
        "\n",
        "```java\n",
        "int pintsServed = 0;  // Start the day with zero pints served\n",
        "pintsServed = pintsServed + 1;  // Add one when a pint is served\n",
        "```\n",
        "\n",
        "Variables make programs dynamic by allowing values to change as the program runs. Without variables, our programs would be limited to performing the same calculations with the same values every time."
      ],
      "metadata": {
        "id": "sq5wKADpGf5E"
      }
    },
    {
      "cell_type": "markdown",
      "source": [
        "# Naming Variables: Rules and Best Practices\n",
        "\n",
        "Choosing good variable names is an important part of writing clean, readable code. Java has specific rules that you must follow, along with conventions that you should follow for best practice.\n",
        "\n",
        "**Java's variable naming rules:**\n",
        "\n",
        "* Must start with a letter, dollar sign ($), or underscore (_)\n",
        "* Cannot start with a number\n",
        "* Can only contain letters, numbers, \\$ and _\n",
        "* Cannot use Java reserved keywords (like `int`, `class`, `public`)\n",
        "* Are case-sensitive (`pintsServed` and `PintsServed` are different variables)\n",
        "\n",
        "In practice, most Java developers follow the **camelCase** convention, where variable names start with a lowercase letter and each new word starts with an uppercase letter.\n",
        "\n",
        "| Valid Names | Invalid Names | Why Invalid |\n",
        "|-------------|---------------|-------------|\n",
        "| `totalSales` | `total-sales` | Hyphens not allowed |\n",
        "| `_tempValue` | `1stCustomer` | Cannot start with number |\n",
        "| `customerAge` | `class` | Reserved keyword |\n",
        "| `price` | `customer name` | Spaces not allowed |\n",
        "\n",
        "Good variable names should clearly indicate what the variable contains. For example, in O'Shea's ordering system, `guinnessPints` is more meaningful than `gp` or `var1`. Taking time to name variables well makes your code easier to understand and maintain, even months after you wrote it."
      ],
      "metadata": {
        "id": "-R60peLwGnCs"
      }
    },
    {
      "cell_type": "markdown",
      "source": [
        "# Java's Data Types: An Overview\n",
        "\n",
        "Java is a **strongly-typed language**, which means every variable must have a declared data type. This helps catch errors early and makes programs more reliable.\n",
        "\n",
        "Java has two main categories of data types:\n",
        "\n",
        "* **Primitive types** - Basic built-in types that store simple values\n",
        "* **Reference types** - More complex types that store references to objects\n",
        "\n",
        "This distinction is fundamental to understanding how data is handled in Java programs.\n",
        "\n",
        "| Category | Examples | What They Store | Example in Code |\n",
        "|----------|----------|----------------|----------------|\n",
        "| Primitive | int, double, boolean | The actual value itself | `int beers = 5;` |\n",
        "| Reference | String, Array, custom classes | A reference (address) pointing to the data | `String pubName = \"O'Shea's\";` |\n",
        "\n",
        "Consider O'Shea's Pub management system:\n",
        "```java\n",
        "// Primitive types\n",
        "int guinnessPints = 42;      // Number of Guinness pints in stock\n",
        "double pintPrice = 5.50;     // Price of a pint in dollars\n",
        "boolean kitchenOpen = true;  // Is the kitchen open?\n",
        "\n",
        "// Reference types\n",
        "String pubOwner = \"Seamus O'Shea\";  // Owner's name\n",
        "String[] irishWhiskeys = {\"Jameson\", \"Bushmills\", \"Redbreast\"};  // List of whiskeys\n",
        "```\n",
        "\n",
        "Understanding data types helps ensure you're using the right tool for the job and prevents many common programming errors."
      ],
      "metadata": {
        "id": "4sQ6UAx0GwPk"
      }
    },
    {
      "cell_type": "markdown",
      "source": [
        "# Primitive Data Types: The Building Blocks\n",
        "\n",
        "Primitive data types are the fundamental building blocks in Java. They represent simple values and are built directly into the language.\n",
        "\n",
        "Java has eight primitive data types:\n",
        "\n",
        "* **byte, short, int, long** - For storing whole numbers\n",
        "* **float, double** - For storing decimal numbers\n",
        "* **char** - For storing a single character\n",
        "* **boolean** - For storing true/false values\n",
        "\n",
        "Each primitive type uses a specific amount of memory and has a range of possible values. For most beginners, you'll primarily use `int` for whole numbers, `double` for decimals, and `boolean` for true/false values.\n",
        "\n",
        "```java\n",
        "// Examples of primitive types at O'Shea's Pub\n",
        "int customersServed = 137;       // Whole number\n",
        "double averageTab = 27.50;       // Decimal number\n",
        "char pubRating = 'A';            // Single character\n",
        "boolean isOpenLateTonight = true; // True/false value\n",
        "```\n",
        "\n",
        "The advantage of primitive types is their simplicity and efficiency. When we declare a primitive variable like `int pints = 3;`, the actual value '3' is stored directly in that variable, making operations on primitives very fast.\n",
        "\n",
        "Think about it like this: writing `int age = 21;` is like writing \"21\" on a sticky note and labeling it \"age.\" The actual value is stored right there, not somewhere else that you need to look up."
      ],
      "metadata": {
        "id": "8E2ZkbBHG0dD"
      }
    },
    {
      "cell_type": "markdown",
      "source": [
        "# Working with Integers in Java\n",
        "\n",
        "Integers are whole numbers without any decimal points. In Java, we have four primitive types for storing integers, each with different memory sizes and value ranges.\n",
        "\n",
        "The most commonly used integer types are:\n",
        "\n",
        "* **int** - The standard choice for most whole numbers (4 bytes, ranges from about -2 billion to +2 billion)\n",
        "* **long** - For very large whole numbers (8 bytes, for numbers beyond the int range)\n",
        "* **short** - For small ranges of whole numbers (2 bytes, ranges from -32,768 to 32,767)\n",
        "* **byte** - For tiny ranges of whole numbers (1 byte, ranges from -128 to 127)\n",
        "\n",
        "For O'Shea's Pub operations, which type would work best?\n",
        "\n",
        "```java\n",
        "// Good choices\n",
        "int dailyCustomers = 143;        // int works well for reasonable counts\n",
        "byte dartBoardCount = 3;         // byte works for small numbers (0-127)\n",
        "long yearlyProfitCents = 8675309; // long for very large numbers\n",
        "\n",
        "// Poor choice\n",
        "short pintsSold = 40000;  // Error! This exceeds short's max value of 32,767\n",
        "```\n",
        "\n",
        "For most applications, `int` is the best choice unless you have a specific reason to use another integer type. Using a larger type than needed (like `long` when `int` would work) wastes memory, while using a smaller type (like `byte` when values might exceed 127) can cause overflow errors."
      ],
      "metadata": {
        "id": "EBM8iUEfG9VE"
      }
    },
    {
      "cell_type": "markdown",
      "source": [
        "# Floating-Point Numbers: Decimal Values in Java\n",
        "\n",
        "When we need to work with numbers that have decimal points, Java provides two primitive types: **float** and **double**.\n",
        "\n",
        "**Key characteristics of floating-point types:**\n",
        "\n",
        "* **double** - The standard choice for decimal values (8 bytes, higher precision)\n",
        "* **float** - Uses less memory but has less precision (4 bytes)\n",
        "* Both can represent positive and negative numbers\n",
        "\n",
        "For most situations, especially when working with money, measurements, or calculations, `double` is recommended:\n",
        "\n",
        "```java\n",
        "// Using floating-point numbers at O'Shea's Pub\n",
        "double pintPrice = 5.50;          // Price of a pint\n",
        "double taxRate = 0.08;            // 8% sales tax\n",
        "double customerBill = 27.85;      // A customer's total bill\n",
        "\n",
        "// Calculate the tip at 18%\n",
        "double tipAmount = customerBill * 0.18;  // 5.013\n",
        "```\n",
        "\n",
        "Be aware that floating-point types can have small rounding errors due to how they're stored in memory. For precise financial calculations where every penny matters, specialized classes like `BigDecimal` should be used instead."
      ],
      "metadata": {
        "id": "F9NJ58KRG_V7"
      }
    },
    {
      "cell_type": "markdown",
      "source": [
        "# Boolean and Character Types: True/False and Single Characters\n",
        "\n",
        "Java provides two additional primitive types that are extremely useful for different programming tasks: **boolean** and **char**.\n",
        "\n",
        "**The boolean type:**\n",
        "\n",
        "* Stores only two possible values: `true` or `false`\n",
        "* Used for logical conditions and decisions\n",
        "* Extremely important for control flow (if statements, loops)\n",
        "\n",
        "**The char type:**\n",
        "\n",
        "* Stores a single character (letter, digit, symbol)\n",
        "* Values are placed in single quotes like `'A'` or `'7'`\n",
        "* Can represent any Unicode character\n",
        "\n",
        "Here's how O'Shea's Pub might use these types:\n",
        "\n",
        "```java\n",
        "// Boolean examples\n",
        "boolean isPubOpen = true;\n",
        "boolean isHappyHour = false;\n",
        "boolean hasLiveMusic = true;\n",
        "\n",
        "// Character examples\n",
        "char pubGrade = 'A';           // Health inspection grade\n",
        "char sectionCode = 'B';        // Seating section\n",
        "char paymentType = 'C';        // Payment type (C for credit)\n",
        "```\n",
        "\n",
        "These simple types may seem basic, but they're incredibly powerful, especially when making decisions in your code. The boolean type in particular is fundamental to understanding program flow control in the next sections."
      ],
      "metadata": {
        "id": "Lof5BmzjHCwp"
      }
    },
    {
      "cell_type": "markdown",
      "source": [
        "# Example: Declaring and Initializing Variables\n",
        "\n",
        "In Java, we need to both declare a variable (specify its type and name) and initialize it (give it a starting value) before using it. Let's see the syntax and some examples for O'Shea's Pub.\n",
        "\n",
        "**Variable Declaration and Initialization Syntax:**\n",
        "\n",
        "```java\n",
        "// Declaring and initializing in one statement\n",
        "dataType variableName = initialValue;\n",
        "```\n",
        "\n",
        "Let's see how this works in longer program:"
      ],
      "metadata": {
        "id": "cfyJ1-mzHKCS"
      }
    },
    {
      "cell_type": "code",
      "source": [
        "%%writefile PubInventory.java\n",
        "// Examples for O'Shea's Pub inventory system\n",
        "public class PubInventory {\n",
        "    public static void main(String[] args) {\n",
        "        // Declare and initialize variables\n",
        "        int guinnessPints = 42;\n",
        "        double pintPrice = 5.50;\n",
        "        String pubName = \"O'Shea's Irish Pub\";\n",
        "        boolean isOpen = true;\n",
        "\n",
        "        // Declare first, initialize later\n",
        "        int jameson;\n",
        "        jameson = 12;  // Number of Jameson bottles\n",
        "\n",
        "        // You can declare multiple variables of the same type\n",
        "        int smithwicks = 30, murphys = 15, kilkenny = 8;\n",
        "\n",
        "        // Print some values\n",
        "        System.out.println(\"Welcome to \" + pubName);\n",
        "        System.out.println(\"Guinness pints available: \" + guinnessPints);\n",
        "    }\n",
        "}"
      ],
      "metadata": {
        "colab": {
          "base_uri": "https://localhost:8080/"
        },
        "id": "UYeWkwrkGfO8",
        "outputId": "0b3f4ff4-bfbc-4512-e94f-2563f1acf15c"
      },
      "execution_count": 1,
      "outputs": [
        {
          "output_type": "stream",
          "name": "stdout",
          "text": [
            "Writing PubInventory.java\n"
          ]
        }
      ]
    },
    {
      "cell_type": "code",
      "source": [
        "!javac PubInventory.java\n",
        "!java PubInventory"
      ],
      "metadata": {
        "colab": {
          "base_uri": "https://localhost:8080/"
        },
        "id": "5TKxMOaZHbzw",
        "outputId": "d1f89b7b-c420-4fe1-feb6-951661e4d21d"
      },
      "execution_count": 3,
      "outputs": [
        {
          "output_type": "stream",
          "name": "stdout",
          "text": [
            "Welcome to O'Shea's Irish Pub\n",
            "Guinness pints available: 42\n"
          ]
        }
      ]
    },
    {
      "cell_type": "markdown",
      "source": [
        "# Reference Types: Beyond the Primitives\n",
        "\n",
        "While primitive types handle simple values, **reference types** allow us to work with more complex data. Reference types are based on classes and store the memory address (reference) where the actual data is located.\n",
        "\n",
        "The most common reference type you'll use as a beginner is **String**, which stores text.\n",
        "\n",
        "Key differences between primitive and reference types:\n",
        "\n",
        "* **Memory usage** - Reference types store a memory address pointing to the data\n",
        "* **Default values** - Reference types default to `null` (no object)\n",
        "* **Method access** - Reference types have methods you can call with dot notation\n",
        "\n",
        "Examples from O'Shea's Pub management system:\n",
        "\n",
        "```java\n",
        "// String reference type examples\n",
        "String pubName = \"O'Shea's Irish Pub\";\n",
        "String ownerName = \"Seamus O'Shea\";\n",
        "String address = \"123 Dublin Street\";\n",
        "\n",
        "// Using String methods (notice the dot notation)\n",
        "String tagline = \"The finest pint in town!\";\n",
        "int taglineLength = tagline.length();        // 24\n",
        "String upperTagline = tagline.toUpperCase(); // \"THE FINEST PINT IN TOWN!\"\n",
        "```\n",
        "\n",
        "Reference types allow us to model more complex entities like customers, menu items, or employees. Later, we'll learn how to create our own custom reference types using classes, but for now, focus on understanding the basic distinction and how to use the built-in String type.\n",
        "\n",
        "Let's explore practical examples of Java's printing capabilities and string formatting techniques with O'Shea's Pub examples:"
      ],
      "metadata": {
        "id": "rAoj9dHBH06u"
      }
    },
    {
      "cell_type": "markdown",
      "source": [
        "# Outputting Data with System.out\n",
        "\n",
        "Java provides several ways to output data to the console, with the most common being the `System.out` methods. These are essential for displaying information to users and debugging your code.\n",
        "\n",
        "**Common output methods:**\n",
        "\n",
        "* **println()** - Prints data followed by a line break\n",
        "* **print()** - Prints data without a line break\n",
        "* **printf()** - Prints formatted data (we'll cover this in later chapters)\n",
        "\n",
        "The key differences between `println()` and `print()`:\n",
        "\n",
        "```java\n",
        "// Using println() - each output on a new line\n",
        "System.out.println(\"Welcome to O'Shea's!\");\n",
        "System.out.println(\"Serving since 1999\");\n",
        "// Output:\n",
        "// Welcome to O'Shea's!\n",
        "// Serving since 1999\n",
        "\n",
        "// Using print() - output continues on the same line\n",
        "System.out.print(\"Welcome to \");\n",
        "System.out.print(\"O'Shea's!\");\n",
        "// Output: Welcome to O'Shea's!\n",
        "```\n",
        "\n",
        "### String Basics and Escape Characters\n",
        "\n",
        "Strings in Java are enclosed in double quotes (`\"like this\"`). To include special characters, use **escape sequences**:\n",
        "\n",
        "* **\\\"** - Double quote: `\"O'Shea\\\"s Pub\"` → O'Shea\"s Pub\n",
        "* **\\\\\\\\** - Backslash: `\"C:\\\\Menu\\\\Drinks.txt\"` → C:\\Menu\\Drinks.txt\n",
        "* **\\n** - New line: `\"Menu:\\nDrinks\\nFood\"` → Creates a list on separate lines\n",
        "* **\\t** - Tab: `\"Item:\\tPrice\"` → Creates tabbed spacing\n",
        "\n",
        "```java\n",
        "// O'Shea's Pub menu display using escape characters\n",
        "System.out.println(\"O'Shea's Irish Pub Menu\");\n",
        "System.out.println(\"-------------------------\");\n",
        "System.out.println(\"Drinks:\\t\\tPrice:\");\n",
        "System.out.println(\"Guinness\\t$5.50\");\n",
        "System.out.println(\"Jameson\\t\\t$7.00\");\n",
        "System.out.println(\"\\nSpecial message: \\\"Best Pub in Town!\\\"\");\n",
        "```\n",
        "\n",
        "For more complex output formatting, including alignment and decimal places for numbers, we'll explore the `printf()` method and string formatting in later chapters."
      ],
      "metadata": {
        "id": "s1N1NISsJYTv"
      }
    },
    {
      "cell_type": "code",
      "source": [
        "%%writefile PubPrinting.java\n",
        "// Examples for O'Shea's Pub printing system\n",
        "public class PubPrinting {\n",
        "    public static void main(String[] args) {\n",
        "        // Basic information\n",
        "        String pubName = \"O'Shea's Irish Pub\";\n",
        "        int yearEstablished = 1979;\n",
        "        double pintPrice = 5.50;\n",
        "\n",
        "        // 1. Using println() vs print()\n",
        "        System.out.println(\"Welcome to \" + pubName);\n",
        "        System.out.print(\"Established in \");\n",
        "        System.out.println(yearEstablished);\n",
        "\n",
        "        // 2. Building complex output across multiple lines\n",
        "        System.out.print(\"Today's special: \");\n",
        "        System.out.print(\"Fish & Chips \");\n",
        "        System.out.println(\"$14.99\");\n",
        "\n",
        "        // 3. Working with escape sequences\n",
        "        System.out.println(\"Our motto: \\\"The finest pint in town!\\\"\");\n",
        "        System.out.println(\"Menu path: C:\\\\PubFiles\\\\Menu.txt\");\n",
        "\n",
        "        // 4. Creating formatted lists with tabs and newlines\n",
        "        System.out.println(\"\\nDRINK MENU:\");\n",
        "        System.out.println(\"Item\\t\\tPrice\");\n",
        "        System.out.println(\"------------------------\");\n",
        "        System.out.println(\"Guinness\\t$\" + pintPrice);\n",
        "        System.out.println(\"Jameson\\t\\t$7.00\");\n",
        "        System.out.println(\"Irish Coffee\\t$8.50\");\n",
        "\n",
        "        // 5. Multi-line text with a single println\n",
        "        System.out.println(\"Hours:\\nMon-Thu: 11am-11pm\\nFri-Sat: 11am-2am\\nSun: 12pm-10pm\");\n",
        "    }\n",
        "}"
      ],
      "metadata": {
        "colab": {
          "base_uri": "https://localhost:8080/"
        },
        "id": "-HQqcQ1mJncs",
        "outputId": "a7c3ebf6-d067-4702-bca7-97665c1c3acb"
      },
      "execution_count": 4,
      "outputs": [
        {
          "output_type": "stream",
          "name": "stdout",
          "text": [
            "Writing PubPrinting.java\n"
          ]
        }
      ]
    },
    {
      "cell_type": "code",
      "source": [
        "!javac PubPrinting.java\n",
        "!java PubPrinting"
      ],
      "metadata": {
        "colab": {
          "base_uri": "https://localhost:8080/"
        },
        "id": "VHHawD-CJ0jR",
        "outputId": "583ae8a6-d8a3-4788-980f-5146980dc510"
      },
      "execution_count": 5,
      "outputs": [
        {
          "output_type": "stream",
          "name": "stdout",
          "text": [
            "Welcome to O'Shea's Irish Pub\n",
            "Established in 1979\n",
            "Today's special: Fish & Chips $14.99\n",
            "Our motto: \"The finest pint in town!\"\n",
            "Menu path: C:\\PubFiles\\Menu.txt\n",
            "\n",
            "DRINK MENU:\n",
            "Item\t\tPrice\n",
            "------------------------\n",
            "Guinness\t$5.5\n",
            "Jameson\t\t$7.00\n",
            "Irish Coffee\t$8.50\n",
            "Hours:\n",
            "Mon-Thu: 11am-11pm\n",
            "Fri-Sat: 11am-2am\n",
            "Sun: 12pm-10pm\n"
          ]
        }
      ]
    },
    {
      "cell_type": "markdown",
      "source": [
        "# String Basics: Working with Text in Java\n",
        "\n",
        "The **String** class is one of the most important reference types in Java, used to store and manipulate text. Unlike primitive types, String is a class with many useful methods.\n",
        "\n",
        "**Key characteristics of Strings:**\n",
        "\n",
        "* Created using double quotes: `\"O'Shea's Irish Pub\"`\n",
        "* Immutable - once created, a String's content cannot be changed\n",
        "* Has many built-in methods for text manipulation\n",
        "\n",
        "Common String operations used at O'Shea's Pub:\n",
        "\n",
        "* **length()** - returns the number of characters: `\"Guinness\".length()` returns `8`\n",
        "* **concat()** or `+` - joins strings: `\"Irish\" + \" \" + \"Coffee\"` gives `\"Irish Coffee\"`\n",
        "* **toUpperCase()** and **toLowerCase()** - change letter case: `\"Draft\".toUpperCase()` gives `\"DRAFT\"`\n",
        "* **charAt()** - gets a character at a position: `\"Stout\".charAt(0)` returns `'S'`\n",
        "* **substring()** - extracts part of the string: `\"Jameson\".substring(0,4)` gives `\"Jame\"`\n",
        "* **equals()** - compares strings: `drink.equals(\"Guinness\")`\n",
        "\n",
        "```java\n",
        "// Menu item check\n",
        "String menuItem = \"Irish Stew\";\n",
        "int nameLength = menuItem.length();  // 10 characters\n",
        "boolean isSpecial = menuItem.equals(\"Fish & Chips\");  // false\n",
        "\n",
        "// Creating a menu description\n",
        "String name = \"Dublin Coddle\";\n",
        "String description = \"Traditional Irish comfort food\";\n",
        "String price = \"€12.95\";\n",
        "String menuEntry = name + \" - \" + description + \" - \" + price;\n",
        "```\n",
        "\n",
        "Always use the `equals()` method (not `==`) to compare String contents. This is because Strings are reference types, and `==` checks if two variables point to the same memory location, not if they contain the same text."
      ],
      "metadata": {
        "id": "Xuo8Xn0QKKgC"
      }
    },
    {
      "cell_type": "markdown",
      "source": [
        "# Understanding Operators in Java\n",
        "\n",
        "**Operators** are symbols that perform operations on variables and values. They're the verbs of programming, allowing us to manipulate data in various ways.\n",
        "\n",
        "Java operators fall into several categories:\n",
        "\n",
        "* **Arithmetic operators** - Perform mathematical calculations\n",
        "* **Comparison operators** - Compare values and return boolean results\n",
        "* **Logical operators** - Combine boolean values\n",
        "* **Assignment operators** - Assign values to variables\n",
        "\n",
        "Operators make your code dynamic. Consider how O'Shea's Pub might use operators:\n",
        "\n",
        "```java\n",
        "// Arithmetic operators for bill calculation\n",
        "int pintCount = 3;\n",
        "double pintPrice = 5.50;\n",
        "double subtotal = pintCount * pintPrice;    // 16.5\n",
        "double taxRate = 0.08;\n",
        "double tax = subtotal * taxRate;            // 1.32\n",
        "double total = subtotal + tax;              // 17.82\n",
        "```\n",
        "\n",
        "Understanding operators is crucial because they're the building blocks of all computations in your programs. In the next few slides, we'll explore the most important operators in more detail."
      ],
      "metadata": {
        "id": "_c4YSQtnKcwx"
      }
    },
    {
      "cell_type": "markdown",
      "source": [
        "# Arithmetic Operators: Math in Java\n",
        "\n",
        "Arithmetic operators perform mathematical calculations on numeric values. These operators are similar to what you'd use in basic math.\n",
        "\n",
        "**Basic arithmetic operators:**\n",
        "\n",
        "* **+** - Addition\n",
        "* **-** - Subtraction\n",
        "* **\\*** - Multiplication\n",
        "* **/** - Division\n",
        "* **%** - Modulus (remainder after division)\n",
        "\n",
        "Let's see these operators in action at O'Shea's Pub:\n",
        "\n",
        "```java\n",
        "// Basic arithmetic at the pub\n",
        "int pintsSold = 27;\n",
        "int shotsSold = 13;\n",
        "int totalDrinks = pintsSold + shotsSold;  // 40\n",
        "\n",
        "double revenue = 6.50 * pintsSold;  // $175.50\n",
        "\n",
        "// Division behavior depends on operand types\n",
        "int fullPints = 750 / 473;  // Integer division: 1 (truncates decimal)\n",
        "double pints = 750.0 / 473.0;  // Double division: ~1.585\n",
        "\n",
        "// Modulus (remainder) operator\n",
        "int potatoSacks = 47;\n",
        "int potatoesPerStew = 8;\n",
        "int leftoverPotatoes = potatoSacks % potatoesPerStew;  // 7\n",
        "```\n",
        "\n",
        "| Operator | Example | Result | Explanation |\n",
        "|----------|---------|--------|-------------|\n",
        "| + | 5 + 3 | 8 | Addition |\n",
        "| - | 5 - 3 | 2 | Subtraction |\n",
        "| * | 5 * 3 | 15 | Multiplication |\n",
        "| / | 5 / 2 | 2 | Integer division (truncates) |\n",
        "| / | 5.0 / 2.0 | 2.5 | Floating-point division |\n",
        "| % | 5 % 2 | 1 | Remainder (5 ÷ 2 = 2 with 1 left over) |\n",
        "\n",
        "Watch out for division with integers! In Java, dividing two integers produces an integer result, truncating any decimal portion."
      ],
      "metadata": {
        "id": "7njRVdCnKmFH"
      }
    },
    {
      "cell_type": "markdown",
      "source": [
        "# Comparison Operators: Making Comparisons\n",
        "\n",
        "**Comparison operators** compare two values and return a boolean result (`true` or `false`). These operators are essential for creating conditional logic in your programs.\n",
        "\n",
        "Java's comparison operators:\n",
        "\n",
        "* **==** - Equal to (careful: for objects, tests reference equality)\n",
        "* **!=** - Not equal to\n",
        "* **>** - Greater than\n",
        "* **<** - Less than\n",
        "* **>=** - Greater than or equal to\n",
        "* **<=** - Less than or equal to\n",
        "\n",
        "Let's see how O'Shea's Pub might use these in their code:\n",
        "\n",
        "```java\n",
        "// Age verification for alcohol service\n",
        "int customerAge = 19;\n",
        "boolean canOrderAlcohol = customerAge >= 21;  // false\n",
        "\n",
        "// Inventory management\n",
        "int guinnessPints = 12;\n",
        "boolean needToRestock = guinnessPints < 20;  // true\n",
        "\n",
        "// Price comparison\n",
        "double ourPrice = 5.50;\n",
        "double competitorPrice = 6.00;\n",
        "boolean betterValue = ourPrice < competitorPrice;  // true\n",
        "\n",
        "// Customer loyalty check\n",
        "int visitsThisMonth = 3;\n",
        "boolean isFrequentCustomer = visitsThisMonth >= 5;  // false\n",
        "```\n",
        "\n",
        "**Important:** For comparing String contents, never use `==`. Instead, use the `.equals()` method:\n",
        "```java\n",
        "String ordered = \"Guinness\";\n",
        "boolean isGuinness = ordered.equals(\"Guinness\");  // true\n",
        "```\n",
        "\n",
        "Comparison operators form the foundation of decision-making in your programs, which we'll explore further when we discuss control flow statements.\n",
        "\n",
        "### Using Operators in Expressions\n",
        "In Java, an expression is a combination of variables, values, and operators that evaluates to a single value. Let's see how we can use various operators together in expressions for O'Shea's Pub business logic:"
      ],
      "metadata": {
        "id": "NvbDDVyPKqee"
      }
    },
    {
      "cell_type": "code",
      "source": [
        "%%writefile PubCalculations.java\n",
        "public class PubCalculations {\n",
        "    public static void main(String[] args) {\n",
        "        // Initial values\n",
        "        int pintsSold = 27;\n",
        "        int mealsSold = 15;\n",
        "        double pintPrice = 5.50;\n",
        "        double mealPrice = 12.95;\n",
        "\n",
        "        // Revenue calculations\n",
        "        double drinkRevenue = pintsSold * pintPrice;\n",
        "        double foodRevenue = mealsSold * mealPrice;\n",
        "        double totalRevenue = drinkRevenue + foodRevenue;\n",
        "\n",
        "        // Tax and final amounts\n",
        "        double taxRate = 0.08;\n",
        "        double tax = totalRevenue * taxRate;\n",
        "        double finalAmount = totalRevenue + tax;\n",
        "\n",
        "        // Display results\n",
        "        System.out.println(\"O'Shea's Daily Sales\");\n",
        "        System.out.println(\"-------------------\");\n",
        "        System.out.println(\"Drink revenue: $\" + drinkRevenue);\n",
        "        System.out.println(\"Food revenue: $\" + foodRevenue);\n",
        "        System.out.println(\"Total revenue: $\" + totalRevenue);\n",
        "        System.out.println(\"Tax amount: $\" + tax);\n",
        "        System.out.println(\"Final amount: $\" + finalAmount);\n",
        "\n",
        "        // Inventory status check\n",
        "        int currentGuinness = 32;\n",
        "        int reorderLevel = 20;\n",
        "        boolean needsReorder = currentGuinness <= reorderLevel;\n",
        "        System.out.println(\"Guinness needs reorder: \" + needsReorder);\n",
        "    }\n",
        "}"
      ],
      "metadata": {
        "colab": {
          "base_uri": "https://localhost:8080/"
        },
        "id": "E7MjaflKLBco",
        "outputId": "062dc201-c0fb-43df-b69b-39a20a8cdf88"
      },
      "execution_count": 7,
      "outputs": [
        {
          "output_type": "stream",
          "name": "stdout",
          "text": [
            "Overwriting PubCalculations.java\n"
          ]
        }
      ]
    },
    {
      "cell_type": "code",
      "source": [
        "!javac PubCalculations.java\n",
        "!java PubCalculations"
      ],
      "metadata": {
        "colab": {
          "base_uri": "https://localhost:8080/"
        },
        "id": "JpHQEQDhLJ6j",
        "outputId": "37f6c3af-c538-4635-b39e-17cbd7cf0302"
      },
      "execution_count": 8,
      "outputs": [
        {
          "output_type": "stream",
          "name": "stdout",
          "text": [
            "O'Shea's Daily Sales\n",
            "-------------------\n",
            "Drink revenue: $148.5\n",
            "Food revenue: $194.25\n",
            "Total revenue: $342.75\n",
            "Tax amount: $27.42\n",
            "Final amount: $370.17\n",
            "Guinness needs reorder: false\n"
          ]
        }
      ]
    },
    {
      "cell_type": "markdown",
      "source": [
        "# Assignment and Compound Operators: Shortcuts\n",
        "\n",
        "In addition to the basic assignment operator (`=`), Java provides **compound assignment operators** that combine an operation with assignment. These shortcuts make your code more concise.\n",
        "\n",
        "**Basic assignment:**\n",
        "```java\n",
        "int guinnessPints = 50;  // Assign 50 to guinnessPints\n",
        "```\n",
        "\n",
        "**Compound assignment operators:**\n",
        "\n",
        "* **+=** - Add and assign\n",
        "* **-=** - Subtract and assign\n",
        "* **\\*=** - Multiply and assign\n",
        "* **/=** - Divide and assign\n",
        "* **%=** - Modulus and assign\n",
        "\n",
        "Here's how O'Shea's Pub might use them:\n",
        "\n",
        "```java\n",
        "// Track inventory changes during the day\n",
        "int guinnessPints = 50;  // Start with 50 pints\n",
        "\n",
        "// Customer orders\n",
        "guinnessPints -= 3;  // Same as: guinnessPints = guinnessPints - 3\n",
        "\n",
        "// Delivery arrives\n",
        "guinnessPints += 24;  // Same as: guinnessPints = guinnessPints + 24\n",
        "\n",
        "// Calculate tax on a bill\n",
        "double bill = 42.50;\n",
        "double taxRate = 0.08;\n",
        "bill *= 1.08;  // Same as: bill = bill * 1.08\n",
        "```\n",
        "\n",
        "| Compound Operator | Example | Equivalent To |\n",
        "|-------------------|---------|---------------|\n",
        "| += | x += 5 | x = x + 5 |\n",
        "| -= | x -= 3 | x = x - 3 |\n",
        "| *= | x *= 2 | x = x * 2 |\n",
        "| /= | x /= 4 | x = x / 4 |\n",
        "| %= | x %= 3 | x = x % 3 |\n",
        "\n",
        "Java also has **increment** (`++`) and **decrement** (`--`) operators, which add or subtract 1:\n",
        "\n",
        "```java\n",
        "int customers = 0;\n",
        "customers++;  // Increase by 1 (now 1)\n",
        "customers++;  // Increase by 1 (now 2)\n",
        "customers--;  // Decrease by 1 (back to 1)\n",
        "```\n",
        "\n",
        "These shorthand operators make your code more readable and efficient when working with counters or making simple adjustments to values."
      ],
      "metadata": {
        "id": "GfMjfXYXKw2k"
      }
    },
    {
      "cell_type": "markdown",
      "source": [
        "# Understanding Expressions and Statements\n",
        "\n",
        "Java programs are built from **expressions** and **statements**, two fundamental building blocks of the language. Understanding the difference is essential for learning Java.\n",
        "\n",
        "**Expressions:**\n",
        "* Combinations of variables, operators, and values that evaluate to a single value\n",
        "* Can be used wherever a value is expected\n",
        "* Do not end with semicolons when part of other statements\n",
        "\n",
        "**Statements:**\n",
        "* Complete units of execution that perform actions\n",
        "* End with semicolons (;)\n",
        "* Form the basic executable units in a Java program\n",
        "\n",
        "Examples from O'Shea's Pub operations:\n",
        "\n",
        "```java\n",
        "// Expressions (produce values)\n",
        "pintsSold * pintPrice           // Evaluates to the revenue from pints\n",
        "customerAge >= 21               // Evaluates to a boolean (true/false)\n",
        "\"Welcome to \" + pubName         // Evaluates to a combined string\n",
        "\n",
        "// Statements (perform actions, end with semicolons)\n",
        "int pintsSold = 27;                            // Declaration statement\n",
        "double total = pintsSold * pintPrice;          // Assignment statement\n",
        "System.out.println(\"Revenue: \" + total);       // Method call statement\n",
        "pintsSold++;                                   // Increment statement\n",
        "```\n",
        "\n",
        "Think of expressions as phrases and statements as complete sentences in the Java language. Just as sentences in English end with periods, statements in Java end with semicolons.\n",
        "\n",
        "Every valid Java program is a collection of statements that are executed in sequence unless control flow statements (like if/else) alter the flow."
      ],
      "metadata": {
        "id": "1IWaItB-LUN_"
      }
    },
    {
      "cell_type": "markdown",
      "source": [
        "# Making Decisions: Introduction to Control Flow\n",
        "\n",
        "So far, our programs have executed statements one after another in sequence. **Control flow** statements allow our programs to make decisions and execute different code based on conditions.\n",
        "\n",
        "Control flow is what makes programs \"smart\" - able to respond differently to different inputs or situations. It's like giving your program the ability to think and make choices.\n",
        "\n",
        "The basic control flow constructs in Java:\n",
        "\n",
        "* **if statements** - Execute code only if a condition is true\n",
        "* **if-else statements** - Choose between two blocks of code\n",
        "* **if-else-if chains** - Choose among multiple blocks of code\n",
        "* **switch statements** - Select among multiple options (covered in later chapters)\n",
        "* **loops** - Repeat code multiple times (covered in later chapters)\n",
        "\n",
        "Think of O'Shea's Pub operations: different actions need to be taken based on various conditions:\n",
        "- Is the customer old enough to order alcohol?\n",
        "- Is the kitchen still open for food orders?\n",
        "- Does an item need to be reordered based on inventory levels?\n",
        "\n",
        "Control flow allows us to write programs that respond to real-world conditions rather than just following the same fixed steps every time. The simplest and most fundamental control flow statement is the `if` statement, which we'll cover next."
      ],
      "metadata": {
        "id": "nOU63HWJLaT_"
      }
    },
    {
      "cell_type": "markdown",
      "source": [
        "# The if Statement: Conditional Logic\n",
        "\n",
        "The **if statement** is the most basic control flow structure in Java. It allows a program to execute a block of code only when a specified condition is true.\n",
        "\n",
        "**Basic syntax of an if statement:**\n",
        "\n",
        "```java\n",
        "if (condition) {\n",
        "    // Code to execute if condition is true\n",
        "}\n",
        "```\n",
        "\n",
        "The condition must be a boolean expression that evaluates to either `true` or `false`. If it's `true`, the code inside the braces executes; otherwise, it's skipped.\n",
        "\n",
        "**Extended if-else syntax:**\n",
        "\n",
        "```java\n",
        "if (condition) {\n",
        "    // Code to execute if condition is true\n",
        "} else {\n",
        "    // Code to execute if condition is false\n",
        "}\n",
        "```\n",
        "\n",
        "**Multiple conditions with if-else-if:**\n",
        "\n",
        "```java\n",
        "if (condition1) {\n",
        "    // Code to execute if condition1 is true\n",
        "} else if (condition2) {\n",
        "    // Code to execute if condition1 is false and condition2 is true\n",
        "} else {\n",
        "    // Code to execute if all conditions are false\n",
        "}\n",
        "```\n",
        "\n",
        "Real-world decisions at O'Shea's Pub might look like:\n",
        "\n",
        "```java\n",
        "// Age verification\n",
        "int customerAge = 19;\n",
        "if (customerAge >= 21) {\n",
        "    System.out.println(\"Can serve alcohol to customer.\");\n",
        "} else {\n",
        "    System.out.println(\"Cannot serve alcohol to customer.\");\n",
        "}\n",
        "\n",
        "// Happy hour pricing\n",
        "int currentHour = 17; // 5 PM\n",
        "double pintPrice = 6.00;\n",
        "if (currentHour >= 16 && currentHour <= 18) {\n",
        "    // Happy hour: 4 PM to 6 PM\n",
        "    pintPrice = 4.50;\n",
        "    System.out.println(\"Happy hour price: $\" + pintPrice);\n",
        "} else {\n",
        "    System.out.println(\"Regular price: $\" + pintPrice);\n",
        "}\n",
        "```\n",
        "\n",
        "The if statement is the foundation of decision-making in your programs, allowing them to respond intelligently to different conditions.\n",
        "\n",
        "### Simple if Statement Examples\n",
        "Let's explore practical examples of if statements in a program for O'Shea's Irish Pub:"
      ],
      "metadata": {
        "id": "_n-IxieKLhDj"
      }
    },
    {
      "cell_type": "code",
      "source": [
        "%%writefile PubOperations.java\n",
        "public class PubOperations {\n",
        "    public static void main(String[] args) {\n",
        "        // Customer variables\n",
        "        int customerAge = 19;\n",
        "        double customerBill = 42.75;\n",
        "        int visitCount = 12;\n",
        "        boolean isWeekend = true;\n",
        "\n",
        "        // Age verification\n",
        "        System.out.println(\"--- Age Verification ---\");\n",
        "        if (customerAge >= 21) {\n",
        "            System.out.println(\"Customer can purchase alcohol.\");\n",
        "        } else {\n",
        "            System.out.println(\"Customer cannot purchase alcohol.\");\n",
        "        }\n",
        "\n",
        "        // Loyalty discount\n",
        "        System.out.println(\"\\n--- Loyalty Program ---\");\n",
        "        if (visitCount > 10) {\n",
        "            double discount = customerBill * 0.10;\n",
        "            customerBill = customerBill - discount;\n",
        "            System.out.println(\"Loyal customer! 10% discount applied.\");\n",
        "            System.out.println(\"Discounted bill: $\" + customerBill);\n",
        "        }\n",
        "\n",
        "        // Weekend surcharge\n",
        "        System.out.println(\"\\n--- Weekend Pricing ---\");\n",
        "        if (isWeekend) {\n",
        "            // Live music on weekends adds 5% surcharge\n",
        "            double surcharge = customerBill * 0.05;\n",
        "            customerBill = customerBill + surcharge;\n",
        "            System.out.println(\"Weekend surcharge (live music): $\" + surcharge);\n",
        "        }\n",
        "\n",
        "        // Final bill classification\n",
        "        System.out.println(\"\\n--- Bill Classification ---\");\n",
        "        if (customerBill < 20.00) {\n",
        "            System.out.println(\"Small bill\");\n",
        "        } else if (customerBill < 50.00) {\n",
        "            System.out.println(\"Medium bill\");\n",
        "        } else {\n",
        "            System.out.println(\"Large bill\");\n",
        "        }\n",
        "\n",
        "        System.out.println(\"Final amount due: $\" + customerBill);\n",
        "    }\n",
        "}"
      ],
      "metadata": {
        "colab": {
          "base_uri": "https://localhost:8080/"
        },
        "id": "VSeyylajLoVL",
        "outputId": "62cf83aa-cdcd-4640-899b-58d8e993eceb"
      },
      "execution_count": 9,
      "outputs": [
        {
          "output_type": "stream",
          "name": "stdout",
          "text": [
            "Writing PubOperations.java\n"
          ]
        }
      ]
    },
    {
      "cell_type": "code",
      "source": [
        "!javac PubOperations.java\n",
        "!java PubOperations"
      ],
      "metadata": {
        "colab": {
          "base_uri": "https://localhost:8080/"
        },
        "id": "dlcv6cqbLzvH",
        "outputId": "135d3e5b-83f4-4137-9cf3-db6b37b20755"
      },
      "execution_count": 10,
      "outputs": [
        {
          "output_type": "stream",
          "name": "stdout",
          "text": [
            "--- Age Verification ---\n",
            "Customer cannot purchase alcohol.\n",
            "\n",
            "--- Loyalty Program ---\n",
            "Loyal customer! 10% discount applied.\n",
            "Discounted bill: $38.475\n",
            "\n",
            "--- Weekend Pricing ---\n",
            "Weekend surcharge (live music): $1.92375\n",
            "\n",
            "--- Bill Classification ---\n",
            "Medium bill\n",
            "Final amount due: $40.39875\n"
          ]
        }
      ]
    },
    {
      "cell_type": "markdown",
      "source": [
        "# Functions Basics: Methods in Java\n",
        "\n",
        "In programming, a **function** is a named block of code that performs a specific task. In Java, functions are called **methods**.\n",
        "\n",
        "**What is a method?**\n",
        "A method is a self-contained block of code that performs a specific task and can be called (executed) whenever you need it. Think of a method like a recipe - you define the steps once, then follow them whenever needed.\n",
        "\n",
        "**Why use methods?**\n",
        "\n",
        "* **Reduces repetition** - Write code once, use it many times\n",
        "* **Improves organization** - Break complex programs into smaller, manageable pieces\n",
        "* **Enhances readability** - Gives meaningful names to blocks of code\n",
        "* **Simplifies maintenance** - Fix or update code in just one place\n",
        "\n",
        "**How to define a method in Java:**\n",
        "\n",
        "```java\n",
        "accessModifier returnType methodName(parameterType paramName, ...) {\n",
        "    // Method body - code to be executed\n",
        "    \n",
        "    // Optional: return a value (if return type is not void)\n",
        "    return value;\n",
        "}\n",
        "```\n",
        "\n",
        "Let's break down each part:\n",
        "\n",
        "1. **Access modifier** - Determines who can access the method (often `public`)\n",
        "2. **Return type** - What kind of data the method sends back, or `void` if nothing\n",
        "3. **Method name** - A descriptive name, usually starting with a verb\n",
        "4. **Parameters** - Input data the method needs (in parentheses)\n",
        "5. **Method body** - The actual code between curly braces `{}`\n",
        "6. **Return statement** - Sends a value back (if the return type isn't `void`)\n",
        "\n",
        "**For beginners:** All methods in our examples so far have been inside the `main` method. To create your own methods, place them inside the class but outside the `main` method:\n",
        "\n"
      ],
      "metadata": {
        "id": "bK9w9_r2Mc9C"
      }
    },
    {
      "cell_type": "code",
      "source": [
        "%%writefile PubOperations.java\n",
        "public class PubOperations {\n",
        "    // The main method (program starts here)\n",
        "    public static void main(String[] args) {\n",
        "        // Call our custom methods\n",
        "        displayWelcome();\n",
        "\n",
        "        double price = calculateTotal(3, 5.50);\n",
        "        System.out.println(\"Total: $\" + price);\n",
        "    }\n",
        "\n",
        "    // Our custom method #1 (returns nothing)\n",
        "    public static void displayWelcome() {\n",
        "        System.out.println(\"Welcome to O'Shea's Irish Pub!\");\n",
        "        System.out.println(\"Home of the finest pint in town.\");\n",
        "    }\n",
        "\n",
        "    // Our custom method #2 (returns a double value)\n",
        "    public static double calculateTotal(int quantity, double price) {\n",
        "        double subtotal = quantity * price;\n",
        "        double tax = subtotal * 0.08;  // 8% tax\n",
        "        double total = subtotal + tax;\n",
        "\n",
        "        return total;  // Send this value back to wherever the method was called\n",
        "    }\n",
        "}"
      ],
      "metadata": {
        "colab": {
          "base_uri": "https://localhost:8080/"
        },
        "id": "kK7i8bh5MrpX",
        "outputId": "528dce86-0290-4877-89b4-47fb3cfa3f4b"
      },
      "execution_count": 11,
      "outputs": [
        {
          "output_type": "stream",
          "name": "stdout",
          "text": [
            "Overwriting PubOperations.java\n"
          ]
        }
      ]
    },
    {
      "cell_type": "code",
      "source": [
        "!javac PubOperations.java\n",
        "!java PubOperations"
      ],
      "metadata": {
        "colab": {
          "base_uri": "https://localhost:8080/"
        },
        "id": "pzjoIu9fMsH4",
        "outputId": "814e187f-777e-43c3-a86d-f44147e5eeda"
      },
      "execution_count": 12,
      "outputs": [
        {
          "output_type": "stream",
          "name": "stdout",
          "text": [
            "Welcome to O'Shea's Irish Pub!\n",
            "Home of the finest pint in town.\n",
            "Total: $17.82\n"
          ]
        }
      ]
    },
    {
      "cell_type": "markdown",
      "source": [
        "### How to call (use) a method:\n",
        "To execute a method, write its name followed by parentheses containing any required arguments:\n",
        "\n",
        "```java\n",
        "// Calling a method with no parameters\n",
        "displayWelcome();\n",
        "\n",
        "// Calling a method with parameters\n",
        "double bill = calculateTotal(3, 5.50);\n",
        "```\n",
        "\n",
        "For now, add `static` to any methods you create. We'll learn what this means in later chapters when we cover object-oriented programming."
      ],
      "metadata": {
        "id": "_SZ66GcWMnO_"
      }
    },
    {
      "cell_type": "markdown",
      "source": [
        "# Parameters and Arguments: Passing Data to Methods\n",
        "\n",
        "Methods become truly powerful when they can work with different inputs. This is where parameters and arguments come in.\n",
        "\n",
        "**Parameters vs. Arguments: What's the difference?**\n",
        "\n",
        "* **Parameters** are variables listed in the method declaration - they're like placeholders\n",
        "* **Arguments** are the actual values you provide when calling the method\n",
        "\n",
        "Think of it like this: when O'Shea's has a recipe for Irish Stew, the recipe calls for \"2 pounds of lamb\" (parameter). When the chef makes the stew, they use actual lamb from the refrigerator (argument).\n",
        "\n",
        "**Defining Parameters:**\n",
        "When you create a method, you list any parameters it needs inside the parentheses:\n",
        "\n",
        "```java\n",
        "public static void displayOrder(String itemName, int quantity, double price) {\n",
        "    System.out.println(\"Order: \" + quantity + \" × \" + itemName);\n",
        "    System.out.println(\"Price: $\" + (quantity * price));\n",
        "}\n",
        "```\n",
        "\n",
        "This method has three parameters:\n",
        "1. `String itemName` - The name of the ordered item\n",
        "2. `int quantity` - How many were ordered\n",
        "3. `double price` - The unit price\n",
        "\n",
        "**Calling Methods with Arguments:**\n",
        "When you call a method, you provide arguments that match the parameter types:\n",
        "\n",
        "```java\n",
        "// Call the method with three arguments\n",
        "displayOrder(\"Guinness\", 3, 5.50);\n",
        "\n",
        "// Call it again with different arguments\n",
        "displayOrder(\"Irish Coffee\", 2, 8.75);\n",
        "```\n",
        "\n",
        "**Method Execution Flow:**\n",
        "\n",
        "1. When you call a method with arguments, Java passes those values to the method\n",
        "2. Inside the method, the parameters receive these values\n",
        "3. The method executes using these values\n",
        "4. When complete, control returns to where the method was called\n",
        "\n",
        "**Complete Example:**"
      ],
      "metadata": {
        "id": "Xib4sy0TM8FR"
      }
    },
    {
      "cell_type": "code",
      "source": [
        "%%writefile PubOrderSystem.java\n",
        "\n",
        "public class PubOrderSystem {\n",
        "    public static void main(String[] args) {\n",
        "        System.out.println(\"===== O'SHEA'S ORDER SYSTEM =====\");\n",
        "\n",
        "        // Call methods with different arguments\n",
        "        greetCustomer(\"Connor\");\n",
        "        calculateBill(2, 5.50, 0.08);\n",
        "        greetCustomer(\"Siobhan\");\n",
        "        calculateBill(1, 8.75, 0.08);\n",
        "    }\n",
        "\n",
        "    // Method with one parameter\n",
        "    public static void greetCustomer(String name) {\n",
        "        System.out.println(\"\\nWelcome to O'Shea's, \" + name + \"!\");\n",
        "        System.out.println(\"What can I get for you today?\");\n",
        "    }\n",
        "\n",
        "    // Method with multiple parameters\n",
        "    public static void calculateBill(int pintCount, double pintPrice, double taxRate) {\n",
        "        // Calculate amounts\n",
        "        double subtotal = pintCount * pintPrice;\n",
        "        double tax = subtotal * taxRate;\n",
        "        double total = subtotal + tax;\n",
        "\n",
        "        // Display receipt\n",
        "        System.out.println(\"\\n----- Receipt -----\");\n",
        "        System.out.println(pintCount + \" pints: $\" + subtotal);\n",
        "        System.out.println(\"Tax: $\" + tax);\n",
        "        System.out.println(\"Total: $\" + total);\n",
        "        System.out.println(\"------------------\");\n",
        "    }\n",
        "}"
      ],
      "metadata": {
        "colab": {
          "base_uri": "https://localhost:8080/"
        },
        "id": "59DgZA50NDhD",
        "outputId": "be3f80e1-c3c3-45d7-e113-b276023705ee"
      },
      "execution_count": 13,
      "outputs": [
        {
          "output_type": "stream",
          "name": "stdout",
          "text": [
            "Writing PubOrderSystem.java\n"
          ]
        }
      ]
    },
    {
      "cell_type": "code",
      "source": [
        "!javac PubOrderSystem.java\n",
        "!java PubOrderSystem"
      ],
      "metadata": {
        "colab": {
          "base_uri": "https://localhost:8080/"
        },
        "id": "rBrMYVchNa88",
        "outputId": "1ce932bd-8cc0-496f-c382-6adc8ab2348a"
      },
      "execution_count": 14,
      "outputs": [
        {
          "output_type": "stream",
          "name": "stdout",
          "text": [
            "===== O'SHEA'S ORDER SYSTEM =====\n",
            "\n",
            "Welcome to O'Shea's, Connor!\n",
            "What can I get for you today?\n",
            "\n",
            "----- Receipt -----\n",
            "2 pints: $11.0\n",
            "Tax: $0.88\n",
            "Total: $11.88\n",
            "------------------\n",
            "\n",
            "Welcome to O'Shea's, Siobhan!\n",
            "What can I get for you today?\n",
            "\n",
            "----- Receipt -----\n",
            "1 pints: $8.75\n",
            "Tax: $0.7000000000000001\n",
            "Total: $9.45\n",
            "------------------\n"
          ]
        }
      ]
    },
    {
      "cell_type": "markdown",
      "source": [
        "# Chapter 2 Summary: Key Takeaways\n",
        "\n",
        "In this chapter, we've covered the fundamental building blocks of Java programming. Let's review what we've learned:\n",
        "\n",
        "**Core Java fundamentals:**\n",
        "\n",
        "* **Variables** are containers for storing data, with names, types, and values\n",
        "* **Data types** come in two categories: primitives (like `int`, `double`, `boolean`) and references (like `String`)\n",
        "* **Operators** allow us to manipulate data through arithmetic, comparison, and assignment\n",
        "* **Expressions** combine variables, values, and operators to produce a single value\n",
        "* **Control flow** with `if` statements lets our programs make decisions\n",
        "* **Methods** (functions) help organize code into reusable, logical blocks\n",
        "\n",
        "These fundamentals form the vocabulary and grammar of Java programming. Just as you combine words into sentences and paragraphs when writing, you'll combine variables, operators, and control structures to build complete Java programs.\n",
        "\n",
        "As you continue your Java journey, these basics will appear in more complex constructs, but the principles remain the same. Focus on understanding these fundamentals well, as they're the foundation for everything that follows.\n",
        "\n",
        "In the next chapter, we'll explore Java primitives and wrappers in more depth, giving you a stronger understanding of Java's type system and how to leverage it effectively in your programs."
      ],
      "metadata": {
        "id": "16NAf8gNOEXB"
      }
    },
    {
      "cell_type": "markdown",
      "source": [
        "# Practice Exercise: Build a Simple Pub Cash Register\n",
        "\n",
        "Let's apply what you've learned by creating a simple cash register program for O'Shea's Irish Pub!\n",
        "\n",
        "**Exercise Requirements:**\n",
        "\n",
        "1. Create a Java program named `PubRegister.java`\n",
        "2. Define variables to represent:\n",
        "   * The prices of different items (pints, burgers, salads)\n",
        "   * The quantities ordered of each item\n",
        "   * Tax rate (8%)\n",
        "3. Calculate:\n",
        "   * The subtotal before tax\n",
        "   * The tax amount\n",
        "   * The total bill after tax\n",
        "4. Use an `if` statement to apply a 10% discount if the total is over $50\n",
        "5. Display the full order details, including any discount applied\n",
        "\n",
        "**Starter Code:**"
      ],
      "metadata": {
        "id": "u_lswCLYNo23"
      }
    },
    {
      "cell_type": "code",
      "source": [
        "%%writefile PubRegister.java\n",
        "public class PubRegister {\n",
        "    public static void main(String[] args) {\n",
        "        // 1. Define prices\n",
        "        double pintPrice = 5.50;\n",
        "        double burgerPrice = 12.99;\n",
        "        double saladPrice = 8.99;\n",
        "\n",
        "        // 2. Define quantities (update these values to test)\n",
        "        int pintCount = 3;\n",
        "        int burgerCount = 2;\n",
        "        int saladCount = 1;\n",
        "\n",
        "        // 3. Calculate subtotal\n",
        "        // YOUR CODE HERE\n",
        "\n",
        "        // 4. Calculate tax amount (8%)\n",
        "        // YOUR CODE HERE\n",
        "\n",
        "        // 5. Calculate total\n",
        "        // YOUR CODE HERE\n",
        "\n",
        "        // 6. Apply discount if total > $50\n",
        "        // YOUR CODE HERE\n",
        "\n",
        "        // 7. Display order details\n",
        "        System.out.println(\"O'SHEA'S IRISH PUB\");\n",
        "        System.out.println(\"----------------\");\n",
        "        // YOUR CODE HERE - Display item quantities and prices\n",
        "        // YOUR CODE HERE - Display subtotal\n",
        "        // YOUR CODE HERE - Display tax\n",
        "        // YOUR CODE HERE - Display discount (if any)\n",
        "        // YOUR CODE HERE - Display final total\n",
        "    }\n",
        "}"
      ],
      "metadata": {
        "colab": {
          "base_uri": "https://localhost:8080/"
        },
        "id": "5Uj157DZNxNw",
        "outputId": "0b65e184-48f9-4244-f263-6e05413dbcc6"
      },
      "execution_count": 15,
      "outputs": [
        {
          "output_type": "stream",
          "name": "stdout",
          "text": [
            "Writing PubRegister.java\n"
          ]
        }
      ]
    },
    {
      "cell_type": "code",
      "source": [
        "!javac PubRegister.java\n",
        "!java PubRegister"
      ],
      "metadata": {
        "id": "-9SaYhCtN6hn"
      },
      "execution_count": null,
      "outputs": []
    },
    {
      "cell_type": "markdown",
      "source": [
        "\n",
        "**Challenge:** After completing the basic exercise, try adding methods to:\n",
        "1. Calculate the total for each type of item (e.g., `calculatePintTotal(int count, double price)`)\n",
        "2. Determine if the customer is eligible for a free dessert (if they've ordered at least 2 burgers)\n",
        "\n",
        "This exercise will help you practice variables, operators, calculations, conditional logic, and output - all the key concepts from this chapter!"
      ],
      "metadata": {
        "id": "khZH6kcBNt-v"
      }
    }
  ]
}