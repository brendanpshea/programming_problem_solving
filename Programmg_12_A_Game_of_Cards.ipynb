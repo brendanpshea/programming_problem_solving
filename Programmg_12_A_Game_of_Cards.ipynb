{
  "nbformat": 4,
  "nbformat_minor": 0,
  "metadata": {
    "colab": {
      "provenance": [],
      "authorship_tag": "ABX9TyMZiCn/x7QfIhdVezuzNc/P",
      "include_colab_link": true
    },
    "kernelspec": {
      "name": "python3",
      "display_name": "Python 3"
    },
    "language_info": {
      "name": "python"
    }
  },
  "cells": [
    {
      "cell_type": "markdown",
      "metadata": {
        "id": "view-in-github",
        "colab_type": "text"
      },
      "source": [
        "<a href=\"https://colab.research.google.com/github/brendanpshea/programming_problem_solving/blob/main/Programmg_12_A_Game_of_Cards.ipynb\" target=\"_parent\"><img src=\"https://colab.research.google.com/assets/colab-badge.svg\" alt=\"Open In Colab\"/></a>"
      ]
    },
    {
      "cell_type": "code",
      "execution_count": null,
      "metadata": {
        "id": "wbgB88I0UW63"
      },
      "outputs": [],
      "source": []
    },
    {
      "cell_type": "markdown",
      "source": [
        "## Stage 1: CardSimple Class\n",
        "\n",
        "In this stage, we'll create a simple class called CardSimple to represent a playing card.\n",
        "\n",
        "To represent rank and suit, we'll use integers. This choice keeps our code simple and avoids the need for more complex data types at this stage. Ranks will be represented by integers 1-13, where 1 is Ace, 11 is Jack, 12 is Queen, and 13 is King. This mapping is intuitive and easy to remember. Similarly, suits will be represented by integers 1-4, where 1 is Clubs, 2 is Diamonds, 3 is Hearts, and 4 is Spades. Again, this mapping is straightforward and easy to work with.\n",
        "\n",
        "The CardSimple class will have two instance variables: rank and suit, both of type int. Instance variables are declared within the class but outside any method. They represent the state of an object and can be accessed by any method within the class. By declaring rank and suit as instance variables, each CardSimple object will have its own copy of these variables, allowing us to create multiple unique cards.\n",
        "\n",
        "To initialize the rank and suit of a card, we'll create a constructor that takes rank and suit as parameters. A constructor is a special method that is called when a new object is created. It has the same name as the class and is used to initialize the object's state. The constructor parameters (rank and suit) allow us to assign initial values to the instance variables when creating a new CardSimple object. The this keyword is used to refer to the current object instance. It helps distinguish between the instance variables (this.rank and this.suit) and the constructor parameters (rank and suit).\n",
        "\n",
        "We will also include two basic getter methods, to retrieve the cards rnand and suit respectively. We will NOT provide setter methods, as we want our cards to be **immutable** (that is, a given card cannot change its suit).\n",
        "\n",
        "For testing purposes, we'll include a main method within the CardSimple class. The main method is the entry point of a Java program. It's where the execution of the program begins. In the main method, we'll create a few CardSimple objects with different rank and suit values to test our class. We'll use System.out.println to print the rank and suit of each card, allowing us to verify that the objects are created correctly.\n",
        "\n",
        "Here's the code for the CardSimple class:"
      ],
      "metadata": {
        "id": "pMFQMxq1ZEYo"
      }
    },
    {
      "cell_type": "code",
      "source": [
        "%%writefile CardSimple.java\n",
        "public class CardSimple {\n",
        "    // Instance variables to store the rank and suit of the card\n",
        "    int rank;\n",
        "    int suit;\n",
        "\n",
        "    // Constructor to initialize the rank and suit of the card\n",
        "    public CardSimple(int rank, int suit) {\n",
        "        this.rank = rank;\n",
        "        this.suit = suit;\n",
        "    }\n",
        "\n",
        "    public int getRank(){\n",
        "      return rank;\n",
        "    }\n",
        "\n",
        "    public int getSuit(){\n",
        "      return suit;\n",
        "    }\n",
        "\n",
        "        // Main method for testing the CardSimple class\n",
        "    public static void main(String[] args) {\n",
        "        // Create three CardSimple objects with different rank and suit values\n",
        "        CardSimple card1 = new CardSimple(1, 1);\n",
        "        CardSimple card2 = new CardSimple(12, 3);\n",
        "        CardSimple card3 = new CardSimple(7, 2);\n",
        "\n",
        "        // Print the rank and suit of each card\n",
        "        System.out.println(\"Card 1: Rank = \" + card1.getRank() + \", Suit = \" + card1.getSuit());\n",
        "        System.out.println(\"Card 2: Rank = \" + card2.getRank() + \", Suit = \" + card2.getSuit());\n",
        "        System.out.println(\"Card 3: Rank = \" + card3.getRank() + \", Suit = \" + card3.getSuit());\n",
        "    }\n",
        "}"
      ],
      "metadata": {
        "colab": {
          "base_uri": "https://localhost:8080/"
        },
        "id": "t-LUh6DZZSV7",
        "outputId": "8071bd22-3ef6-45ef-d08c-b847471c18fe"
      },
      "execution_count": 4,
      "outputs": [
        {
          "output_type": "stream",
          "name": "stdout",
          "text": [
            "Overwriting CardSimple.java\n"
          ]
        }
      ]
    },
    {
      "cell_type": "code",
      "source": [
        "!javac CardSimple.java"
      ],
      "metadata": {
        "id": "nbVdxQ56ZZh5"
      },
      "execution_count": 5,
      "outputs": []
    },
    {
      "cell_type": "code",
      "source": [
        "!java CardSimple"
      ],
      "metadata": {
        "colab": {
          "base_uri": "https://localhost:8080/"
        },
        "id": "ro9WWxZZZcrV",
        "outputId": "3895f6fc-6e91-4f49-a68d-bb35d4208b37"
      },
      "execution_count": 6,
      "outputs": [
        {
          "output_type": "stream",
          "name": "stdout",
          "text": [
            "Card 1: Rank = 1, Suit = 1\n",
            "Card 2: Rank = 12, Suit = 3\n",
            "Card 3: Rank = 7, Suit = 2\n"
          ]
        }
      ]
    },
    {
      "cell_type": "markdown",
      "source": [
        "### Stage 2: Cards with Ranks, Suits, and toString\n",
        "\n",
        "n our previous exploration, we created a simple CardSimple class to represent a playing card using integers for rank and suit. While the CardSimple class provided a basic foundation, we can enhance it further to create a more robust and flexible Card class. In this introduction, we'll delve into the key concepts and techniques used in expanding the CardSimple class, which will help new Java developers understand the reasoning behind our design decisions.\n",
        "\n",
        "#### Static Array Variables for Ranks and Suits\n",
        "In the CardSimple class, we used integers to represent ranks and suits. However, in the Card class, we can leverage arrays to store the string representations of ranks and suits. The RANKS array contains the names of the ranks (e.g., \"Ace\", \"2\", \"3\", ..., \"King\"), and the SUITS array contains the names of the suits (e.g., \"Clubs\", \"Diamonds\", \"Hearts\", \"Spades\"). By using arrays, we establish a direct mapping between the integer values of rank and suit and their corresponding string representations. This allows us to easily retrieve the name of a rank or suit based on its integer value, making our code more readable and maintainable.\n",
        "\n",
        "We can further enhance the Card class by storing these as **static variables**. Instead of using integer constants for suits and ranks, we define two static String arrays: `RANKS` and `SUITS`. Static variables belong to the class itself, rather than instances of the class. They are shared among all instances of the class and can be accessed using the class name. By declaring `RANKS` and `SUITS` as static, we ensure that there is only one copy of these arrays, which is shared by all Card objects. This is an efficient way to store the string representations of ranks and suits, as it avoids duplicating the data for each card.\n",
        "\n",
        "```java\n",
        "// Static attributes belong to class, not the objects\n",
        "private static final String[] RANKS = {\n",
        "    null, \"Ace\", \"2\", \"3\", \"4\", \"5\", \"6\", \"7\", \"8\", \"9\", \"10\", \"Jack\", \"Queen\", \"King\"\n",
        "};\n",
        "\n",
        "private static final String[] SUITS = {\n",
        "    null, \"Clubs\", \"Diamonds\", \"Hearts\", \"Spades\"\n",
        "};\n",
        "```"
      ],
      "metadata": {
        "id": "eyx9Y2xLaz7S"
      }
    },
    {
      "cell_type": "markdown",
      "source": [
        "#### How Cards Print: Overiding toString Method\n",
        "\n",
        "Another enhancement we can make to CardSimple in the Card class is the overriding of the `toString` method. In Java, the `toString` method is a special method that returns a string representation of an object. By default, it returns a string containing the object's class name and hash code. However, we can override this method to provide a more meaningful string representation for our Card objects. In our implementation, we override `toString` to return a string in the format \"Rank of Suit\" (e.g., \"Ace of Spades\"). This makes it easier to display and understand the value of a card when printing it or using it in string concatenation.\n",
        "\n",
        "```java\n",
        "// Let's change how cards print\n",
        "@Override\n",
        "public String toString() {\n",
        "    return RANKS[rank] + \" of \" + SUITS[suit];\n",
        "}\n",
        "```"
      ],
      "metadata": {
        "id": "kCC94Xj6cNl9"
      }
    },
    {
      "cell_type": "markdown",
      "source": [
        "#### Testing Cards for Equality\n",
        "One of the enhancements we can make to the Card class is the overriding of the `equals` method. In Java, the `equals` method is used to determine whether two objects are considered equal based on their state. By default, the `equals` method compares the memory addresses of objects, which is not suitable for comparing the contents of objects. By overriding `equals`, we can provide a custom equality comparison specific to our Card class. In our implementation, we consider two cards equal if they have the same rank and suit. We first check if the objects being compared are the same object (this == obj), which is an optimization for self-comparison. Then, we check if the other object is null or if it's not an instance of the Card class. If either of these conditions is true, we return false since the objects cannot be equal. Finally, we cast the other object to a Card and compare the rank and suit values.\n",
        "\n",
        "```java\n",
        "@Override\n",
        "public boolean equals(Object obj) {\n",
        "    if (this == obj) {\n",
        "        return true;\n",
        "    }\n",
        "    if (obj == null || getClass() != obj.getClass()) {\n",
        "        return false;\n",
        "    }\n",
        "    Card other = (Card) obj;\n",
        "    return this.rank == other.rank && this.suit == other.suit;\n",
        "}\n",
        "```"
      ],
      "metadata": {
        "id": "ddZ65pV3cpEN"
      }
    },
    {
      "cell_type": "markdown",
      "source": [
        "#### Making Cards Comparable\n",
        "Another enhancement in the Card class is the implementation of the `Comparable` interface and the overriding of the `compareTo` method. The `Comparable` interface is a built-in interface in Java that allows objects to be compared to each other. By implementing this interface, we define a natural ordering for cards based on their rank. In our implementation, we compare cards based on their rank only. The `compareTo` method takes another Card object as a parameter and returns an integer indicating whether the current card is less than, equal to, or greater than the other card. If the current card's rank is less than the other card's rank, we return a negative integer. If the ranks are equal, we return 0. If the current card's rank is greater than the other card's rank, we return a positive integer.\n",
        "\n",
        "This defines a **partial ordering** for cards, since it is possible to have \"ties\" between different cards of the same rank but different suits (for example, the five of hearts and five of diamonds.\n",
        "\n",
        "```java\n",
        " @Override\n",
        "    public int compareTo(Card other) {\n",
        "        return this.rank - other.rank;\n",
        "    }\n",
        "```"
      ],
      "metadata": {
        "id": "UuvM5BZXh1xr"
      }
    },
    {
      "cell_type": "markdown",
      "source": [
        "### THe Card Class\n",
        "Now, we're ready to take a look at our new and improved Card class."
      ],
      "metadata": {
        "id": "-Ms6SOYxi990"
      }
    },
    {
      "cell_type": "code",
      "source": [
        "%%writefile Card.java\n",
        "public class Card implements Comparable<Card> {\n",
        "    // Static arrays to store the string representations of ranks and suits\n",
        "    // These arrays are shared among all Card objects\n",
        "    private static final String[] RANKS = {\n",
        "        null, \"Ace\", \"2\", \"3\", \"4\", \"5\", \"6\", \"7\", \"8\", \"9\", \"10\", \"Jack\", \"Queen\", \"King\"\n",
        "    };\n",
        "\n",
        "    private static final String[] SUITS = {\n",
        "        null, \"Clubs\", \"Diamonds\", \"Hearts\", \"Spades\"\n",
        "    };\n",
        "\n",
        "    // Instance variables to store the rank and suit of the card\n",
        "    // These variables are private to encapsulate the internal state\n",
        "    private int rank;\n",
        "    private int suit;\n",
        "\n",
        "    // Constructor to initialize the rank and suit of the card\n",
        "    public Card(int rank, int suit) {\n",
        "        this.rank = rank;\n",
        "        this.suit = suit;\n",
        "    }\n",
        "\n",
        "    // Getter methods to access the rank and suit of the card\n",
        "    public int getRank() {\n",
        "        return rank;\n",
        "    }\n",
        "\n",
        "    public int getSuit() {\n",
        "        return suit;\n",
        "    }\n",
        "\n",
        "    // Override the equals method to compare two cards for equality\n",
        "    // Two cards are considered equal if they have the same rank and suit\n",
        "    @Override\n",
        "    public boolean equals(Object obj) {\n",
        "      if (this == obj) {\n",
        "          return true;\n",
        "      }\n",
        "      if (obj == null || getClass() != obj.getClass()) {\n",
        "          return false;\n",
        "      }\n",
        "      Card other = (Card) obj;\n",
        "      return this.rank == other.rank && this.suit == other.suit;\n",
        "    }\n",
        "\n",
        "    // Implement the compareTo method to define the natural ordering of cards\n",
        "    // Cards are compared based on their rank only\n",
        "    @Override\n",
        "    public int compareTo(Card other) {\n",
        "        return this.rank - other.rank;\n",
        "    }\n",
        "\n",
        "    // Override the toString method to provide a string representation of the card\n",
        "    // The string representation is in the format \"Rank of Suit\"\n",
        "    @Override\n",
        "    public String toString() {\n",
        "        return RANKS[rank] + \" of \" + SUITS[suit];\n",
        "    }\n",
        "\n",
        "    // Main method for testing the Card class\n",
        "    public static void main(String[] args) {\n",
        "        Card card1 = new Card(1, 1);\n",
        "        Card card2 = new Card(1, 2);\n",
        "        Card card3 = new Card(13, 4);\n",
        "\n",
        "        System.out.println(\"card1: \" + card1);\n",
        "        System.out.println(\"card2: \" + card2);\n",
        "        System.out.println(\"card3: \" + card3);\n",
        "\n",
        "        System.out.println(\"card1 equals card2: \" + card1.equals(card2));\n",
        "        System.out.println(\"card1 equals card3: \" + card1.equals(card3));\n",
        "\n",
        "        System.out.println(\"card1 compareTo card2: \" + card1.compareTo(card2));\n",
        "        System.out.println(\"card1 compareTo card3: \" + card1.compareTo(card3));\n",
        "    }\n",
        "}"
      ],
      "metadata": {
        "colab": {
          "base_uri": "https://localhost:8080/"
        },
        "id": "lCODX60MeCRA",
        "outputId": "69be165d-e7d7-4ab2-dec2-b76aac20ae2e"
      },
      "execution_count": 12,
      "outputs": [
        {
          "output_type": "stream",
          "name": "stdout",
          "text": [
            "Overwriting Card.java\n"
          ]
        }
      ]
    },
    {
      "cell_type": "code",
      "source": [
        "!javac Card.java"
      ],
      "metadata": {
        "id": "v5TBhGPGjQsa"
      },
      "execution_count": 13,
      "outputs": []
    },
    {
      "cell_type": "code",
      "source": [
        "!java Card"
      ],
      "metadata": {
        "colab": {
          "base_uri": "https://localhost:8080/"
        },
        "id": "mXUbBlpvkKB0",
        "outputId": "addce0d4-48e3-4ca8-f257-a9a0a947da20"
      },
      "execution_count": 14,
      "outputs": [
        {
          "output_type": "stream",
          "name": "stdout",
          "text": [
            "card1: Ace of Clubs\n",
            "card2: Ace of Diamonds\n",
            "card3: King of Spades\n",
            "card1 equals card2: false\n",
            "card1 equals card3: false\n",
            "card1 compareTo card2: 0\n",
            "card1 compareTo card3: -12\n"
          ]
        }
      ]
    },
    {
      "cell_type": "markdown",
      "source": [
        "### From the Card Class to the DeckSimple Class\n",
        "\n",
        "Now that we have a well-defined `Card` class that represents individual playing cards, let's move on to creating a `DeckSimple` class that represents a basic deck of 52 cards. The `DeckSimple` class will build upon the functionality provided by the `Card` class and encapsulate the behavior of a complete deck.\n",
        "\n",
        "When designing the `DeckSimple` class, we need to consider the attributes and methods that are necessary to represent and manipulate a deck of cards effectively. Let's go through the design process step by step.\n",
        "\n",
        "#### Choosing Attributes\n",
        "\n",
        "-   We need a way to store the collection of `Card` objects that make up the deck. We can use an array or an `ArrayList` to hold the cards. An `ArrayList` is a good choice because it provides dynamic resizing and convenient methods for adding, removing, and accessing elements.\n",
        "-   We should keep track of the number of cards remaining in the deck. This information can be useful for determining if the deck is empty or how many cards are left to be dealt.\n",
        "\n",
        "#### Defining Methods\n",
        "\n",
        "1. We need a constructor to initialize a new `DeckSimple` object. The constructor should create a standard deck of 52 cards by iterating over all possible combinations of ranks and suits and adding a `Card` object for each combination to the deck.\n",
        "2.  A method to shuffle the cards in the deck is essential. We can use the built-in `Collections.shuffle()` method to randomly shuffle the elements of the `ArrayList` that holds the cards.\n",
        "3. We need a method to draw the top card from the deck. This method should remove and return the card at the top of the deck. If the deck is empty, it should handle the situation gracefully.\n",
        "4.  A method to check if the deck is empty can be useful. It should return `true` if the deck has no cards remaining, and `false` otherwise.\n",
        "5. A method to get the number of cards remaining in the deck can provide additional information about the state of the deck.\n",
        "6. Overriding the `toString()` method allows us to provide a string representation of the deck, which can be helpful for debugging and displaying the contents of the deck.\n",
        "\n",
        "By carefully considering the attributes and methods needed for the `DeckSimple` class, we can create a class that encapsulates the behavior of a basic deck of cards. The `DeckSimple` class will be responsible for creating a standard deck, shuffling the cards, drawing cards from the deck, and providing information about the state of the deck.\n",
        "\n",
        "Using an `ArrayList` to store the `Card` objects allows us to leverage the built-in methods provided by the `ArrayList` class, such as `add()`, `remove()`, `isEmpty()`, and `size()`. This simplifies the implementation of the `DeckSimple` class and makes it more efficient.\n",
        "\n",
        "By encapsulating the deck-related functionality within the `DeckSimple` class, we achieve a clear separation of concerns. The `Card` class focuses on representing individual cards, while the `DeckSimple` class handles the operations and behavior related to a complete deck of cards."
      ],
      "metadata": {
        "id": "4OfjDLf7n3yt"
      }
    },
    {
      "cell_type": "markdown",
      "source": [
        "#### DeckSimple Implementation\n",
        "Here's what the code for this might look like:"
      ],
      "metadata": {
        "id": "JnqFjCOpn87v"
      }
    },
    {
      "cell_type": "code",
      "source": [
        "%%writefile DeckSimple.java\n",
        "import java.util.ArrayList;\n",
        "import java.util.Collections;\n",
        "import java.util.List;\n",
        "\n",
        "public class DeckSimple {\n",
        "    private static final int DECK_SIZE = 52;\n",
        "    private List<Card> cards;\n",
        "\n",
        "    // Constructor to initialize the deck with 52 cards\n",
        "    public DeckSimple() {\n",
        "        cards = new ArrayList<>();\n",
        "        for (int suit = 1; suit <= 4; suit++) {\n",
        "            for (int rank = 1; rank <= 13; rank++) {\n",
        "                cards.add(new Card(rank, suit));\n",
        "            }\n",
        "        }\n",
        "    }\n",
        "\n",
        "    // Shuffles the deck using the built-in Collections.shuffle() method\n",
        "    public void shuffle() {\n",
        "        Collections.shuffle(cards);\n",
        "    }\n",
        "\n",
        "    // Draws the top card from the deck\n",
        "    public Card drawCard() {\n",
        "        if (!isEmpty()) {\n",
        "            return cards.remove(cards.size() - 1);\n",
        "        }\n",
        "        return null;\n",
        "    }\n",
        "\n",
        "    // Checks if the deck is empty\n",
        "    public boolean isEmpty() {\n",
        "        return cards.isEmpty();\n",
        "    }\n",
        "\n",
        "    // Returns the number of cards remaining in the deck\n",
        "    public int remainingCards() {\n",
        "        return cards.size();\n",
        "    }\n",
        "\n",
        "    // Returns a string representation of the deck\n",
        "    @Override\n",
        "    public String toString() {\n",
        "        return cards.toString();\n",
        "    }\n",
        "}"
      ],
      "metadata": {
        "colab": {
          "base_uri": "https://localhost:8080/"
        },
        "id": "zCZMwQ-NoCpB",
        "outputId": "15170060-c30e-4d79-c36d-22d5f5be68f6"
      },
      "execution_count": 15,
      "outputs": [
        {
          "output_type": "stream",
          "name": "stdout",
          "text": [
            "Writing DeckSimple.java\n"
          ]
        }
      ]
    },
    {
      "cell_type": "code",
      "source": [
        "!javac DeckSimple.java"
      ],
      "metadata": {
        "id": "7vSZ-7H5oKTY"
      },
      "execution_count": 16,
      "outputs": []
    },
    {
      "cell_type": "markdown",
      "source": [
        "Some highlights:\n",
        "\n",
        "-   The `DeckSimple` class uses an `ArrayList` called `cards` to store the `Card` objects. This allows us to use the built-in `Collections.shuffle()` method for shuffling the deck.\n",
        "-   The constructor initializes the `cards` list by iterating over all possible combinations of ranks and suits and adding a `Card` object for each combination.\n",
        "-   The `shuffle()` method uses the `Collections.shuffle()` method to randomly shuffle the cards in the deck. This method internally uses a random permutation algorithm to shuffle the elements of the list efficiently.\n",
        "-   The `drawCard()` method removes and returns the top card from the deck. It first checks if the deck is empty using the `isEmpty()` method. If the deck is not empty, it removes and returns the last card from the `cards` list.\n",
        "-   The `isEmpty()` method checks if the deck is empty by calling the `isEmpty()` method on the `cards` list.\n",
        "-   The `remainingCards()` method returns the number of cards remaining in the deck by calling the `size()` method on the `cards` list.\n",
        "-   The `toString()` method is overridden to provide a string representation of the deck by calling the `toString()` method on the `cards` list."
      ],
      "metadata": {
        "id": "N6slgIz7olPm"
      }
    },
    {
      "cell_type": "code",
      "source": [],
      "metadata": {
        "id": "46-j53Ihom-0"
      },
      "execution_count": null,
      "outputs": []
    }
  ]
}