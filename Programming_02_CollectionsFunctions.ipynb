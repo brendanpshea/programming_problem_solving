{
  "nbformat": 4,
  "nbformat_minor": 0,
  "metadata": {
    "colab": {
      "provenance": [],
      "authorship_tag": "ABX9TyPO2gUxRKR+T6QN1qWHDCXy",
      "include_colab_link": true
    },
    "kernelspec": {
      "name": "python3",
      "display_name": "Python 3"
    },
    "language_info": {
      "name": "python"
    }
  },
  "cells": [
    {
      "cell_type": "markdown",
      "metadata": {
        "id": "view-in-github",
        "colab_type": "text"
      },
      "source": [
        "<a href=\"https://colab.research.google.com/github/brendanpshea/programming_problem_solving/blob/main/Programming_02_CollectionsFunctions.ipynb\" target=\"_parent\"><img src=\"https://colab.research.google.com/assets/colab-badge.svg\" alt=\"Open In Colab\"/></a>"
      ]
    },
    {
      "cell_type": "markdown",
      "source": [
        "# Python Collections and Functions with Pyth-o-mon\n",
        "### Brendan Shea, PhD\n",
        "\n",
        "This chapter delves into the essential concepts of Python programming using a fictional Pyth-o-mon card program as a practical case study. Our goal is to provide a clear and engaging exploration of Python's collection types and functions, showing how they can be applied in real-world scenarios.\n",
        "\n",
        "We'll start by unpacking Python's collection types:\n",
        "\n",
        "-   **Lists.** These are ordered and mutable collections, similar to dynamic arrays. They're great for storing and manipulating ordered data.\n",
        "-   **Sets.** Unordered collections of unique elements, sets bring set theory into programming with operations like unions and intersections.\n",
        "-   **Tuples.** As immutable, ordered collections, tuples are perfect for storing mixed data types in a fixed order.\n",
        "-   **Dictionaries.** With key-value pairs, dictionaries allow for efficient data storage and retrieval, much like a real-world dictionary.\n",
        "\n",
        "In addition to collections, we'll dive into Python **functions**. Functions are crucial for structuring your code effectively, allowing for code reuse and modularity. We'll learn how to define, call, and utilize functions in the context of our Pyth-o-mon card program.\n",
        "\n",
        "By integrating these concepts with the Pyth-o-mon card game, we aim to bridge the gap between abstract programming ideas and their practical applications. This approach will not only enhance your understanding of Python's core structures but also sharpen your algorithmic thinking and creative problem-solving skills.\n",
        "\n",
        "By the end of this chapter, you'll have a solid grasp of Python collections and functions, equipped to apply these concepts in various programming projects. This knowledge is beneficial for everyone, from beginners solidifying their basics to enthusiasts exploring the creative blend of programming and gaming."
      ],
      "metadata": {
        "id": "aWLZh-glTiTJ"
      }
    },
    {
      "cell_type": "markdown",
      "source": [
        "## Chapter Case Study: Building the Pyth-O-mon Card Collection App\n",
        "\n",
        "In this chapter, our goal is to build the Pyth-O-mon Card Collection App. As we learn about Python's collections and functions, we'll apply this knowledge to create an app where users can collect and manage their Pyth-O-mon cards. Each card in this app represents a different Python concept, making learning both fun and interactive.\n",
        "\n",
        "These cards are like mini-tutorials for Python concepts. For instance, \"Listolax\" might represent lists in Python, showing how they work and what you can do with them. For example, here are some \"cards.\"\n",
        "\n",
        "| Card Name | Type | Attack (Dice) | Hit Points | Ability |\n",
        "| --- | --- | --- | --- | --- |\n",
        "| Listolax | Data Structure | 2d6 | 50 | \"Dynamic Resize\" - Adjusts size dynamically based on elements. |\n",
        "| Dictodrake | Data Structure | 2d8 | 60 | \"Key Quest\" - Can instantly find any value with its key. |\n",
        "| Setserpent | Data Structure | 2d6 | 55 | \"Unique Strike\" - Automatically removes duplicates from any collection. |\n",
        "| Tuptortle | Data Structure | 2d4 | 40 | \"Immutable Defense\" - Once set, its values cannot be altered. |\n",
        "| Loopinix | Control Flow | 3d6 | 70 | \"Endless Loop\" - Can repeat actions until a condition is met. |\n",
        "| Ifelvish | Control Flow | 2d6 | 50 | \"Forked Path\" - Chooses different actions based on conditions. |\n",
        "| Exceprion | Error Handling | 3d8 | 75 | \"Catch and Shield\" - Catches errors and prevents damage. |\n",
        "| Genegoblin | Advanced | 3d10 | 80 | \"Lazy Evaluation\" - Executes actions only when necessary, saving energy. |\n",
        "| Decodjin | Advanced | 3d8 | 65 | \"Enhance Spell\" - Boosts the power of other cards' abilities. |\n",
        "| Compreconda | Advanced | 3d6 | 60 | \"Concise Coil\" - Performs complex actions in a simplified manner. |\n",
        "| Objectotter | OOP | 3d8 | 70 | \"Encapsulation Wave\" - Groups data and functions into a single unit. |\n",
        "| Clangaroo | Language | 3d6 | 65 | \"Speedy Compile\" - Quickly translates actions into effective results. |\n",
        "| Javajolt | Language | 3d6 | 65 | \"Cross-Platform Power\" - Can adapt and perform in multiple environments. |\n",
        "| Stringaroo | Data Type | 2d6 | 55 | \"Flexible Format\" - Changes its form to suit different needs. |\n",
        "| Floatfish | Data Type | 2d4 | 45 | \"Precision Dive\" - Handles numerical data with high precision. |"
      ],
      "metadata": {
        "id": "KavUiyMkUt0m"
      }
    },
    {
      "cell_type": "markdown",
      "source": [
        "\n",
        "### The Development Process\n",
        "\n",
        "Developing the app will involve a number of stages.\n",
        "\n",
        "1.  We'll begin by setting up ways to store and organize the cards using Python's collections like lists, sets, dictionaries, and tuples. Each collection type will help us manage different aspects of the cards, like their names, abilities, and types.\n",
        "\n",
        "2.  Next, we'll write functions to add new cards, remove cards, and display card details. These functions will help us interact with our collection, making the app functional.\n",
        "\n",
        "3.  As we create the app, you'll see how Python's collections and functions work in a real project. This practical approach will solidify your understanding of these concepts.\n",
        "\n",
        "By the end of this chapter, not only will you learn about Python collections and functions, but you'll also have built your own Pyth-O-mon Card Collection App. This hands-on experience is a great way to see how Python concepts come to life in a real application."
      ],
      "metadata": {
        "id": "4kzA5navW58q"
      }
    },
    {
      "cell_type": "markdown",
      "source": [
        "## What is a List?\n",
        "\n",
        "A list in Python is a versatile and fundamental data structure that functions as an ordered collection of items. Think of it as a sequence of elements, each placed at a specific position -- an arrangement somewhat similar to beads strung together in a line. One of the key characteristics of a Python list is its mutability, meaning you can modify it after creation, adding or removing elements as needed.\n",
        "\n",
        "Lists are incredibly flexible -- they can hold items of any data type, including numbers, strings, and even other lists. This makes them an ideal choice for various programming tasks, from simple data storage to complex data processing.\n",
        "\n",
        "To create a list, you use square brackets `[]`, enclosing your items within them. For example,\n",
        "\n",
        "```python\n",
        "my_list = [1, 2, 3]\n",
        "```\n",
        "\n",
        "creates a list of three integers. You can access the elements of a list by using an index. In Python, indices start at 0, so `my_list[0]` refers to the first element, which is `1` in this case.\n",
        "\n",
        "### Common Operations with Lists\n",
        "Some common operations with lists include:\n",
        "-   You can add items to the end of a list using the `append()` method. For instance, `my_list.append(4)` adds the number `4` to the end of `my_list`.\n",
        "-   To insert an item at a specific position, use the `insert()` method. For example, `my_list.insert(1, 'a')` will insert the string `'a'` at position 1.\n",
        "-   The `remove()` method can be used to remove a specific item. For example, `my_list.remove('a')` will remove the first occurrence of `'a'` from the list.\n",
        "\n",
        "#### List Indexing and Slicing\n",
        "\n",
        "**List Indexing** is the technique used to access individual items in a list. Python lists are zero-indexed, meaning the first element is at index 0, the second at index 1, and so on. This system allows you to quickly access any element based on its position in the list.\n",
        "\n",
        " - To access an element, you use square brackets `[]` after the list name, placing the index of the element inside the brackets. For example, in a list `my_list = [10, 20, 30, 40]`, `my_list[0]` returns `10`, the first element.\n",
        "- Python also supports **negative indexing.** Here, `-1` refers to the last item, `-2` to the second last, and so on. Therefore, `my_list[-1]` fetches `40` from `my_list`.\n",
        "\n",
        "**List Slicing**, on the other hand, is used to access a range of items in a list. It's like taking a \"slice\" or subset of the list. This is particularly useful for working with large lists where you only need to process or view a portion of the elements.\n",
        "\n",
        "- The syntax for slicing is `list[start:stop]`, where `start` is the index of the first item you want and `stop` is the index of the first item you do not want. The slice includes the elements from `start` to `stop - 1`.\n",
        "-For example, `my_list[1:3]` returns `[20, 30]`, extracting the second and third items.\n",
        "-  You can also define a step size using `list[start:stop:step]`. The `step` indicates the interval of elements to retrieve. For instance, `my_list[0:4:2]` fetches every second element between the first and the fourth items, resulting in `[10, 30]`.\n",
        "- If you omit the `start`, it defaults to the beginning of the list, and omitting `stop` defaults to the end of the list. For example, `my_list[:2]` returns `[10, 20]`, while `my_list[2:]` yields `[30, 40]`."
      ],
      "metadata": {
        "id": "mStgiXLtZXMZ"
      }
    },
    {
      "cell_type": "markdown",
      "source": [
        "### Python Examples: Managing a Pyth-o-mon Card List\n",
        "Let's take a gentle walk through a Python example where you manage a list of Pyth-o-mon cards:"
      ],
      "metadata": {
        "id": "YZHsIEy1Zpi-"
      }
    },
    {
      "cell_type": "code",
      "source": [
        "# Create an empty list to store card names\n",
        "pythomon_cards = []\n",
        "\n",
        "# Add some cards to the list\n",
        "pythomon_cards.append(\"Listolax\")\n",
        "pythomon_cards.append(\"Dictodrake\")\n",
        "\n",
        "# print the list\n",
        "print(pythomon_cards)"
      ],
      "metadata": {
        "colab": {
          "base_uri": "https://localhost:8080/"
        },
        "id": "6sSNZLCFZvhf",
        "outputId": "fc1cb7cb-be43-467a-e0c6-47068be51557"
      },
      "execution_count": null,
      "outputs": [
        {
          "output_type": "stream",
          "name": "stdout",
          "text": [
            "['Listolax', 'Dictodrake']\n"
          ]
        }
      ]
    },
    {
      "cell_type": "code",
      "source": [
        "# Access the first card\n",
        "first_card = pythomon_cards[0]\n",
        "print(first_card)"
      ],
      "metadata": {
        "colab": {
          "base_uri": "https://localhost:8080/"
        },
        "id": "ciKdFtmxZ4J4",
        "outputId": "16f2f364-88ca-4341-f6e2-12c69ea2a398"
      },
      "execution_count": null,
      "outputs": [
        {
          "output_type": "stream",
          "name": "stdout",
          "text": [
            "Listolax\n"
          ]
        }
      ]
    },
    {
      "cell_type": "code",
      "source": [
        "# Modifying the list\n",
        "\n",
        "# Add another twos cards\n",
        "pythomon_cards.append(\"Setserpent\")\n",
        "pythomon_cards.append(\"Setserpent\")\n",
        "# Remove a card\n",
        "pythomon_cards.remove(\"Dictodrake\")\n",
        "\n",
        "print(pythomon_cards)"
      ],
      "metadata": {
        "colab": {
          "base_uri": "https://localhost:8080/"
        },
        "id": "SoGr_i9paCwU",
        "outputId": "3de23de6-ce1b-43ed-f302-e8abb2b21598"
      },
      "execution_count": null,
      "outputs": [
        {
          "output_type": "stream",
          "name": "stdout",
          "text": [
            "['Listolax', 'Setserpent', 'Setserpent']\n"
          ]
        }
      ]
    },
    {
      "cell_type": "code",
      "source": [
        "# Lists can contain mixed data types, including other lits\n",
        "\n",
        "mixed_cards = [1, 2, \"Listolax\", \"Setserpent\", 3.14, [\"A\", \"B\", \"C\"]]\n",
        "print(mixed_cards)"
      ],
      "metadata": {
        "colab": {
          "base_uri": "https://localhost:8080/"
        },
        "id": "Ut9HPGLRjVqK",
        "outputId": "2f7288ef-33ce-429c-eb40-ac9d46996f9a"
      },
      "execution_count": null,
      "outputs": [
        {
          "output_type": "stream",
          "name": "stdout",
          "text": [
            "[1, 2, 'Listolax', 'Setserpent', 3.14, ['A', 'B', 'C']]\n"
          ]
        }
      ]
    },
    {
      "cell_type": "code",
      "source": [
        "# Display all cards in the list\n",
        "for card in pythomon_cards:\n",
        "    print(card)"
      ],
      "metadata": {
        "colab": {
          "base_uri": "https://localhost:8080/"
        },
        "id": "kdU7xJZcaLu6",
        "outputId": "869a98ea-ca25-466b-9b05-2af6e7e9c773"
      },
      "execution_count": null,
      "outputs": [
        {
          "output_type": "stream",
          "name": "stdout",
          "text": [
            "Listolax\n",
            "Setserpent\n"
          ]
        }
      ]
    },
    {
      "cell_type": "markdown",
      "source": [
        "### Extended Example: Adding, Sorting, and Printing Lists\n",
        "Now, let's take a look at a somewhat more involved example that uses a list."
      ],
      "metadata": {
        "id": "-hv9SdRrbBcz"
      }
    },
    {
      "cell_type": "code",
      "source": [
        "# Starter Pyth-o-mon cards\n",
        "pythomon_cards = [\"Listolax\", \"Dictodrake\", \"Setserpent\"]\n",
        "\n",
        "# Informing the user about the starter cards\n",
        "print(\"You have the following starter Pyth-o-mon cards: \")\n",
        "for card in pythomon_cards:\n",
        "    print(card)\n",
        "\n",
        "# Prompting the user to enter more Pyth-o-mon cards\n",
        "print(\"\\nEnter the names of other Pyth-o-mon cards you have (type 'done' when finished):\")\n",
        "\n",
        "while True:\n",
        "    new_card = input(\"Enter a Pyth-o-mon card name: \")\n",
        "    if new_card.lower() == 'done':\n",
        "        break # Leaves the while loop\n",
        "    pythomon_cards.append(new_card)\n",
        "\n",
        "# Sorting the Pyth-o-mon cards\n",
        "pythomon_cards.sort()\n",
        "\n",
        "# Printing the sorted list of Pyth-o-mon cards\n",
        "print(\"\\nYour sorted Pyth-o-mon cards:\")\n",
        "for card in pythomon_cards:\n",
        "    print(card)\n"
      ],
      "metadata": {
        "colab": {
          "base_uri": "https://localhost:8080/"
        },
        "id": "U_kV2ZgKbPe8",
        "outputId": "4b46e880-ca53-40c1-8431-ec2387053f47"
      },
      "execution_count": null,
      "outputs": [
        {
          "output_type": "stream",
          "name": "stdout",
          "text": [
            "You have the following starter Pyth-o-mon cards: \n",
            "Listolax\n",
            "Dictodrake\n",
            "Setserpent\n",
            "\n",
            "Enter the names of other Pyth-o-mon cards you have (type 'done' when finished):\n",
            "Enter a Pyth-o-mon card name: Cython\n",
            "Enter a Pyth-o-mon card name: done\n",
            "\n",
            "Your sorted Pyth-o-mon cards:\n",
            "Cython\n",
            "Dictodrake\n",
            "Listolax\n",
            "Setserpent\n"
          ]
        }
      ]
    },
    {
      "cell_type": "markdown",
      "source": [
        "In this script:\n",
        "\n",
        "-   The list `pythomon_cards` starts with three predefined Pyth-o-mon cards.\n",
        "-   The user is prompted to enter new card names, which are added to the list.\n",
        "-   When the user types 'done', the input loop ends.\n",
        "-   The script sorts the list alphabetically and prints all the card names.\n",
        "\n",
        "This script provides a simple, interactive way for users to compile and view their Pyth-o-mon card collection."
      ],
      "metadata": {
        "id": "G6P5orlkbcgU"
      }
    },
    {
      "cell_type": "markdown",
      "source": [
        "### A Beginner's Guide to List Comprehension\n",
        "**List comprehension** is a powerful and concise way to create lists in Python. It offers a more readable and expressive syntax than using traditional loops and conditionals for generating lists.\n",
        "\n",
        "At its core, list comprehension is a syntactic construct that enables lists to be created from other iterables, like lists, tuples, strings, and more. It involves a single line of code that loops through an iterable and potentially processes each item before adding it to a new list.  The basic syntax of list comprehension is:\n",
        "\n",
        "```python\n",
        "[expression for item in iterable]\n",
        "```\n",
        "\n",
        "Here, `expression` is the current item itself or some operation on it, and `iterable` is the collection you loop through.\n",
        "\n",
        "Consider a simple example where you want to create a list of squares for numbers from 1 to 5:"
      ],
      "metadata": {
        "id": "gzn1fFqId07D"
      }
    },
    {
      "cell_type": "code",
      "source": [
        "# Basic example of list comprehension\n",
        "squares = [x**2 for x in range(1, 6)]\n",
        "print(squares)"
      ],
      "metadata": {
        "colab": {
          "base_uri": "https://localhost:8080/"
        },
        "id": "2ojFEr16d5CN",
        "outputId": "a834bc8d-91f6-434f-cb74-dece1f2614e5"
      },
      "execution_count": null,
      "outputs": [
        {
          "output_type": "stream",
          "name": "stdout",
          "text": [
            "[1, 4, 9, 16, 25]\n"
          ]
        }
      ]
    },
    {
      "cell_type": "markdown",
      "source": [
        "### Adding a Conditional\n",
        "List comprehension can also include a condition. The syntax for this is:\n",
        "\n",
        "```python\n",
        "[expression for item in iterable if condition]\n",
        "```"
      ],
      "metadata": {
        "id": "9RcL8BTYd9MR"
      }
    },
    {
      "cell_type": "code",
      "source": [
        "# Example: List Comprehnsion with a conditional\n",
        "# Prints out squares of odd numbers\n",
        "odd_squares = [x**2 for x in range(1, 11) if x % 2 != 0]\n",
        "print(odd_squares)\n"
      ],
      "metadata": {
        "colab": {
          "base_uri": "https://localhost:8080/"
        },
        "id": "9BuUnmhleLZX",
        "outputId": "06b89479-0411-4779-fe19-904f5d2f6dab"
      },
      "execution_count": null,
      "outputs": [
        {
          "output_type": "stream",
          "name": "stdout",
          "text": [
            "[1, 9, 25, 49, 81]\n"
          ]
        }
      ]
    },
    {
      "cell_type": "markdown",
      "source": [
        "#### Pyth-o-mon Example: List Comprehension\n",
        "\n",
        "Imagine you have a list of Pyth-o-mon cards, and you want to create a list of their names in uppercase. Here's how you can do it with list comprehension:"
      ],
      "metadata": {
        "id": "gQOxN3BVe1FC"
      }
    },
    {
      "cell_type": "code",
      "source": [
        "pythomon_cards = [\"Listolax\", \"Dictodrake\", \"Setserpent\"]\n",
        "uppercase_cards = [card.upper() for card in pythomon_cards]\n",
        "print(uppercase_cards)"
      ],
      "metadata": {
        "colab": {
          "base_uri": "https://localhost:8080/"
        },
        "id": "NNatmkyge5h1",
        "outputId": "d6b42ff9-db64-4ec2-9a5b-dc46177f03a4"
      },
      "execution_count": null,
      "outputs": [
        {
          "output_type": "stream",
          "name": "stdout",
          "text": [
            "['LISTOLAX', 'DICTODRAKE', 'SETSERPENT']\n"
          ]
        }
      ]
    },
    {
      "cell_type": "markdown",
      "source": [
        "### Table: List Methods\n",
        "\n",
        "\n",
        "\n",
        "Some common list methods include:\n",
        "\n",
        "\n",
        "| Operation | Description |\n",
        "| --- | --- |\n",
        "| `my_list = []` | Creates a new, empty list. |\n",
        "| `my_list [a, b, c]` | Creates a list with elements `a`, `b`, `c`. |\n",
        "| `my_list[i]` | Accesses the element at index `i`. The first elements is 0.|\n",
        "| `my_list[-i]` | Accesses the element from the end with index `i`. The last item is -1.|\n",
        "| `my_list[i:j]` | Slices the list from index `i` to `j-1`. |\n",
        "| `my_list.append(x)` | Adds `x` to the end of the list. |\n",
        "| `my_list.insert(i, x)` | Inserts `x` at index `i`. |\n",
        "| `my_list.pop(i)` | Removes and returns the element at index `i`. |\n",
        "| `my_list.remove(x)` | Removes the first occurrence of `x` from the list. |\n",
        "| `my_list.sort()` | Sorts the items of the list in place. |\n",
        "| `my_list.reverse()` | Reverses the order of the list's elements. |\n",
        "| `my_len(list)` | Returns the number of items in the list. |"
      ],
      "metadata": {
        "id": "aPqJ9ojvi7Do"
      }
    },
    {
      "cell_type": "markdown",
      "source": [
        "## Exercises: Lists\n",
        "1.  Create a list named `pythomon_cards` containing three Pyth-o-mon cards: \"Bytebug\", \"Codemonkey\", and \"Scriptosaur\". (Hint: Use square brackets `[]` to define the list).\n",
        "2.  Print out the third card in the `pythomon_cards` list. (Hint: Use list indexing, remembering that it starts at 0).\n",
        "3.  Append a new card, \"Javasnake\", to the `pythomon_cards` list. (Hint: Use the `append()` method to add the card at the end).\n",
        "4. Insert a card named \"Functurtle\" at the beginning of the `pythomon_cards` list. (Hint: The `insert()` method can be used with index 0 for the first position).\n",
        "5.  Remove \"Codemonkey\" from the `pythomon_cards` list. (Hint: The `remove()` method will delete the first occurrence of the specified item)."
      ],
      "metadata": {
        "id": "445XOu41e1Un"
      }
    },
    {
      "cell_type": "code",
      "source": [
        "# 1"
      ],
      "metadata": {
        "id": "3umF-oeygaE_"
      },
      "execution_count": null,
      "outputs": []
    },
    {
      "cell_type": "code",
      "source": [
        "# 2"
      ],
      "metadata": {
        "id": "9NPgTE2XgaP1"
      },
      "execution_count": null,
      "outputs": []
    },
    {
      "cell_type": "code",
      "source": [
        "# 3"
      ],
      "metadata": {
        "id": "ekE-cM8VgaXq"
      },
      "execution_count": null,
      "outputs": []
    },
    {
      "cell_type": "code",
      "source": [
        "# 4"
      ],
      "metadata": {
        "id": "VXfd4CrGgafk"
      },
      "execution_count": null,
      "outputs": []
    },
    {
      "cell_type": "code",
      "source": [
        "# 5"
      ],
      "metadata": {
        "id": "pKQDEOXtgaqb"
      },
      "execution_count": null,
      "outputs": []
    },
    {
      "cell_type": "markdown",
      "source": [
        "6. Create a new list `selected_cards` containing only the last two cards from `pythomon_cards`. (Hint: Use slicing with negative indices).\n",
        "7.  Use a loop to print the name of each card in the `pythomon_cards` list. (Hint: A simple `for` loop can be used to iterate over the list).\n",
        "8.   Make a list `lowercased_cards` containing the names of cards in `pythomon_cards`, converted to lowercase. (Hint: Apply `lower()` in a list comprehension).\n",
        "9.  Sort the `pythomon_cards` list alphabetically and then print the sorted cards. (Hint: The `sort()` method will rearrange the list in place).\n",
        "10. Determine and print the position of \"Scriptosaur\" in the `pythomon_cards` list. (Hint: Use the `index()` method to find the index)."
      ],
      "metadata": {
        "id": "ZGHLp6ZsgYhc"
      }
    },
    {
      "cell_type": "code",
      "source": [
        "# 6"
      ],
      "metadata": {
        "id": "gait5iAwf_0h"
      },
      "execution_count": null,
      "outputs": []
    },
    {
      "cell_type": "code",
      "source": [
        "# 7"
      ],
      "metadata": {
        "id": "EiRsZUfDggEP"
      },
      "execution_count": null,
      "outputs": []
    },
    {
      "cell_type": "code",
      "source": [
        "# 8"
      ],
      "metadata": {
        "id": "wfeLDsDJgg6_"
      },
      "execution_count": null,
      "outputs": []
    },
    {
      "cell_type": "code",
      "source": [
        "# 9"
      ],
      "metadata": {
        "id": "-O-7xAjcghtR"
      },
      "execution_count": null,
      "outputs": []
    },
    {
      "cell_type": "code",
      "source": [
        "# 10"
      ],
      "metadata": {
        "id": "g1d7Ag3kgiVb"
      },
      "execution_count": null,
      "outputs": []
    },
    {
      "cell_type": "markdown",
      "source": [
        "## Sets and Tuples in Python\n",
        "\n",
        "In Python, alongside lists, two other important data structures are sets and tuples. While they share some similarities with lists, such as being collections of items, sets and tuples have unique characteristics that distinguish them and make them suitable for specific use cases.\n",
        "\n",
        "### Sets\n",
        "A **set** in Python is an unordered collection of unique items. Sets are defined with curly braces `{}` or using the `set()` function. The most significant features of sets are:\n",
        "\n",
        "1.  **Uniqueness.** Sets automatically remove duplicates. If you add the same item more than once, it will only appear once in the set.\n",
        "2.  **Unordered.** Sets do not maintain the order of items. Therefore, you cannot access or manipulate items based on their position.\n",
        "3.  **Mutability.** While sets themselves are mutable, meaning you can add or remove items, they can only contain immutable (unchangeable) items.\n",
        "4.  Useful for **Mathematical Operations.** Sets support mathematical operations like unions, intersections, and differences, making them ideal for data analysis involving sets of elements.\n",
        "\n",
        "For example:"
      ],
      "metadata": {
        "id": "o5siquwiku-9"
      }
    },
    {
      "cell_type": "code",
      "source": [
        "# demonstration of key set ideas, using Pyth-o-mon cards.\n",
        "\n",
        "pythomon_cards = {\"Listolax\", \"Dictodrake\", \"Setserpent\", \"Listolax\"}\n",
        "print(\"Original cards:\", pythomon_cards)\n",
        "\n",
        "# Add a new card\n",
        "pythomon_cards.add(\"Bytebug\")\n",
        "pythomon_cards.add(\"Bytebug\") # Duplicates don't count!\n",
        "print(\"\\nAdded cards. \", pythomon_cards)\n",
        "\n",
        "# Remove a card\n",
        "pythomon_cards.remove(\"Setserpent\")\n",
        "print(\"\\nRemoved cards. \", pythomon_cards)\n",
        "\n",
        "# Check if a card is in the set\n",
        "print(\"\\nIs Listolax present? \", \"Listolax\" in pythomon_cards)\n",
        "\n",
        "# Get the number of cards in the set\n",
        "print(\"\\nNumber of cards: \", len(pythomon_cards))\n",
        "\n",
        "# Union of two sets\n",
        "other_cards = {\"Javasnake\", \"Functurtle\", \"Bytebug\"}\n",
        "print(\"\\nUnion: \", pythomon_cards.union(other_cards))\n",
        "\n",
        "# Intersection of two sets\n",
        "print(\"\\nIntersection: \", pythomon_cards.intersection(other_cards))\n",
        "\n",
        "# Difference of two sets\n",
        "print(\"\\nDifference: \", pythomon_cards.difference(other_cards))\n"
      ],
      "metadata": {
        "colab": {
          "base_uri": "https://localhost:8080/"
        },
        "id": "zq4K76b2kwLj",
        "outputId": "49b931f1-aec6-40ef-d512-8808ab1b95d2"
      },
      "execution_count": null,
      "outputs": [
        {
          "output_type": "stream",
          "name": "stdout",
          "text": [
            "Original cards: {'Setserpent', 'Dictodrake', 'Listolax'}\n",
            "\n",
            "Added cards.  {'Setserpent', 'Bytebug', 'Dictodrake', 'Listolax'}\n",
            "\n",
            "Removed cards.  {'Bytebug', 'Dictodrake', 'Listolax'}\n",
            "\n",
            "Is Listolax present?  True\n",
            "\n",
            "Number of cards:  3\n",
            "\n",
            "Union:  {'Functurtle', 'Dictodrake', 'Bytebug', 'Javasnake', 'Listolax'}\n",
            "\n",
            "Intersection:  {'Bytebug'}\n",
            "\n",
            "Difference:  {'Dictodrake', 'Listolax'}\n"
          ]
        }
      ]
    }
  ]
}