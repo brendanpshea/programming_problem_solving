{
  "nbformat": 4,
  "nbformat_minor": 0,
  "metadata": {
    "colab": {
      "provenance": [],
      "authorship_tag": "ABX9TyOAu4OOQ0/ZIHh+HBzauCPq",
      "include_colab_link": true
    },
    "kernelspec": {
      "name": "python3",
      "display_name": "Python 3"
    },
    "language_info": {
      "name": "python"
    }
  },
  "cells": [
    {
      "cell_type": "markdown",
      "metadata": {
        "id": "view-in-github",
        "colab_type": "text"
      },
      "source": [
        "<a href=\"https://colab.research.google.com/github/brendanpshea/programming_problem_solving/blob/main/Programming_01_Intro.ipynb\" target=\"_parent\"><img src=\"https://colab.research.google.com/assets/colab-badge.svg\" alt=\"Open In Colab\"/></a>"
      ]
    },
    {
      "cell_type": "markdown",
      "source": [
        "# What is Programming?\n",
        "\n",
        "**Programming** involves creating an executable computer program to achieve a specific computational task.\n",
        "\n",
        "At the foundation of programming lies the concept of a **computer**, an electronic device designed to process data based on a set of instructions. These instructions, known as a **program**, enable computers to perform a diverse array of tasks, ranging from simple arithmetic operations to complex simulations. The essence of these instructions is encapsulated in **algorithms**, which are systematic sequences of steps or rules formulated to solve specific problems. In programming, algorithms are akin to recipes in a cookbook; they provide a methodical approach for a computer program to process inputs and generate the desired outputs.\n",
        "\n",
        "The medium through which these algorithms are communicated to computers is through formal languages, or programming languages. Unlike **natural languages** (like English, Spanish, Chinese, etc.) that are rich, ambiguous, and constantly evolving, **formal languages** are characterized by a fixed set of symbols and strict syntactic and semantic rules. This precision and lack of ambiguity are crucial, as they ensure that instructions are conveyed to computers without misinterpretation. In contrast, natural languages, which we use for everyday communication, exhibit a flexibility and nuance that formal languages intentionally avoid. The skill in programming, therefore, lies in effectively translating the fluidity of human thoughts and problems, typically articulated in natural language, into the rigid and precise structure of a formal language that a computer can interpret and execute.\n",
        "\n",
        "This translation process is deeply rooted in **computational thinking**, a problem-solving approach that draws on concepts from computer science. Computational thinking involves breaking down complex problems into more manageable parts (decomposition), identifying patterns and trends (pattern recognition), focusing on the essential elements of the problem (abstraction), and devising step-by-step solutions (algorithmic thinking). The significance of programming in problem-solving is profound. It enables us to convert intricate and often abstract problems into a form that can be systematically and efficiently processed by a computer. This capability not only makes solving elaborate problems feasible but also enhances the efficiency and accuracy of the solutions.\n",
        "\n",
        "In the contemporary world, the impact of programming is ubiquitous, cutting across various fields. It ranges from developing business software for data management to simulating intricate scientific phenomena, and even to crafting algorithms in the realm of artificial intelligence. The discipline of programming promotes a logical, systematic, and often innovative approach to problem-solving, rendering it an indispensable skill in both academic research and practical applications. This blend of logical structure and creative problem-solving is what makes programming a fascinating and essential field in the modern era of technology."
      ],
      "metadata": {
        "id": "0mfMBuOhL6lc"
      }
    },
    {
      "cell_type": "markdown",
      "source": [
        "## Why Python?\n",
        "In this book, we'll begin with the Python language, which is well-known for its readability and ease of use. It's also a widely used \"modern\" programming language used in many, many different types of setting. First, though, its worth saying a bit about where Python \"came from\" in the first place.\n",
        "\n",
        "The journey of programming languages began with low-level languages, like **machine code** and **assembly language**. These languages are closely tied to the hardware architecture, making them efficient but extremely difficult for humans to use and understand. To bridge this gap, **high-level languages** were developed. These languages, which include FORTRAN and COBOL, allowed programmers to write code using more natural language elements. However, they still had complexities that made them less accessible to beginners.\n",
        "\n",
        "The advent of structured programming in the 1970s, with languages like C, marked a significant step forward. **C** introduced a syntax and control structures that influenced many languages that followed. Despite its power, C's complexity and potential for errors (like memory management issues) posed challenges for beginners.\n",
        "\n",
        "The 1980s and 1990s saw the emergence of **object-oriented programming (OOP)**, a paradigm that represents concepts as \"objects\" with data fields and associated procedures known as methods. Java, developed in the mid-90s, became one of the most prominent OOP languages, known for its \"write once, run anywhere\" philosophy. Java's design was a response to the complexities and platform dependencies prevalent in programming at the time. It offered a balance of readability, structure, and versatility, making it ideal for large-scale applications. However, its verbose syntax can be daunting for beginners.\n",
        "\n",
        "In this evolutionary landscape, **Python** emerged in the late 1980s, developed by Guido van Rossum. Python was designed with a focus on code readability and simplicity, making it an excellent choice for beginners. Its syntax is clean and intuitive, often described as almost \"English-like\". This readability makes Python an ideal teaching tool, allowing students to grasp programming concepts without getting bogged down in complex syntax.\n",
        "\n",
        "Python is also a multi-paradigm language, supporting procedural, object-oriented, and to some extent, functional programming styles. This flexibility allows beginners to explore different programming paradigms without switching languages. Additionally, Python has a vast and active community, which provides an abundance of resources and libraries, making it easier for beginners to find help and extend the language's capabilities.\n",
        "\n",
        "For these reasons, Python serves as an optimal entry point for those new to programming, laying a foundation of concepts and practices that are transferable to more complex languages like Java. Its design philosophy encapsulates the evolution of programming languages towards making technology more approachable and adaptable, fitting well within the modern landscape of software development."
      ],
      "metadata": {
        "id": "r3OHe-eBNJVK"
      }
    },
    {
      "cell_type": "markdown",
      "source": [
        "## Hello World: Five Different Versions\n",
        "While we'll be focusing on Python for the next few chapters, it's important to remember that Python is just one of hundreds of different programming languages. For example, here is how a \"Hello, World!\" program looks in some of the most historically important programming languages.\n",
        "\n",
        "### Assembly Language (x86 Assembly)\n",
        "\n",
        "```asm\n",
        "    section .data\n",
        "        msg db 'Hello, World!',0xA  ; Define a string followed by a new line character\n",
        "\n",
        "    section .text\n",
        "        global _start\n",
        "\n",
        "    _start:\n",
        "        mov edx,13             ; Number of bytes to write\n",
        "        mov ecx,msg            ; Pointer to the message\n",
        "        mov ebx,1              ; File descriptor (stdout)\n",
        "        mov eax,4              ; System call number (sys_write)\n",
        "        int 0x80               ; Call kernel\n",
        "\n",
        "        mov eax,1              ; System call number for exit\n",
        "        int 0x80               ; Call kernel\n",
        "  \n",
        "```\n",
        "Assembly language is close to the hardware level and requires explicit handling of memory and system calls.\n",
        "\n",
        "### FORTRAN\n",
        "\n",
        "```fortran\n",
        "    program hello\n",
        "        print *, 'Hello, World!'\n",
        "    end program hello\n",
        "```\n",
        "FORTRAN, one of the earliest high-level languages, was designed for numerical and scientific computing.\n",
        "\n",
        "\n",
        "###  C\n",
        "\n",
        "```c\n",
        "    #include <stdio.h>\n",
        "\n",
        "    int main() {\n",
        "        printf(\"Hello, World!\\n\"); // Print the message to stdout\n",
        "        return 0;\n",
        "    }\n",
        "```\n",
        "C is a foundational language that introduced many concepts used in later languages, balancing low-level access with high-level abstractions.\n",
        "\n",
        "### Java\n",
        "\n",
        "```java\n",
        "    public class HelloWorld {\n",
        "        public static void main(String[] args) {\n",
        "            System.out.println(\"Hello, World!\"); // Print the message to the console\n",
        "        }\n",
        "    }\n",
        "```\n",
        "Java, an object-oriented language, introduced the concept of writing once and running anywhere, abstracting away hardware details.\n",
        "\n",
        "### Python\n",
        "\n",
        "```python\n",
        "    print(\"Hello, World!\")  # Simple command to print the message to stdout\n",
        "```\n",
        "Python exemplifies high-level abstraction with its straightforward syntax and ease of use, making it ideal for beginners.\n",
        "\n",
        "### Generative AI\n",
        "Finallly, in recent years, generative AI tools (most notably Microsoft's *CoPilot* and Google's *Codey*) have allowed users to write \"natural language\" queries that will produce computer code. So, for example, you might write:\n",
        "\n",
        "```\n",
        "Write me a \"Hello, World\" program in Python.\n",
        "```\n",
        "While these sorts of (relatively simple queries) work very well, more complext queries (of the sort involved in buidling real software applications) require human expertise about the programming language in question.\n",
        "\n",
        "### The Importance of Abstraction\n",
        "The concept of **abstraction** in programming languages refers to the way languages hide the complexity of the underlying systems, allowing programmers to focus on higher-level problems rather than low-level operations like memory management or hardware interactions. Lower-level languages like Assembly require the programmer to manage nearly every aspect of the computer's operation, offering fine-grained control but at the cost of complexity. As languages evolved, they abstracted away these details, allowing programmers to write code more intuitively and efficiently.\n",
        "\n",
        "High-level languages like Python and Java offer significant abstraction, handling many of the complex aspects of computing internally and allowing programmers to write code that is more focused on the problem they are trying to solve rather than the minutiae of the computer's operation. This evolution reflects a shift in programming, focusing more on solving complex problems and building sophisticated systems without needing to manage every low-level detail.\n"
      ],
      "metadata": {
        "id": "g1w4sNT3PU2d"
      }
    },
    {
      "cell_type": "markdown",
      "source": [
        "## What is a Variable?\n",
        "A **variable** is like a labeled box where you can store various types of items, each with a unique label for easy reference. This analogy helps us understand how variables work in a more tangible way.\n",
        "\n",
        "When you declare a variable in Python, you're essentially creating a labeled box to store specific data. The beauty of Python is that you don't need to specify what type of data (like numbers, text, or others) you'll store in it beforehand -- Python figures that out for you. This characteristic of Python is known as being dynamically typed.\n",
        "\n",
        "Let's create a few Python variables with different types of data, with a \"Monty Python\" theme (a British Comedy show that gave the programming language its name):"
      ],
      "metadata": {
        "id": "sg_WUZ8FR8m8"
      }
    },
    {
      "cell_type": "code",
      "source": [
        "# String variable\n",
        "holy_hand_grenade = \"Three shall be the number thou shalt count.\"\n",
        "\n",
        "# Integer variable\n",
        "number_of_knights = 4\n",
        "\n",
        "# Floating point variable\n",
        "ni_shrubbery_height = 1.5\n",
        "\n",
        "# Boolean variable\n",
        "is_king_arthur = True\n"
      ],
      "metadata": {
        "id": "N8BoEr-WMWdk"
      },
      "execution_count": null,
      "outputs": []
    },
    {
      "cell_type": "markdown",
      "source": [
        "In this code:\n",
        "\n",
        "-   `holy_hand_grenade` is a **string** variable holding a line of text.\n",
        "-   `number_of_knights` is an **integer** variable, suitable for whole numbers.\n",
        "-   `ni_shrubbery_height` is a **floating point** variable, used for numbers with decimals.\n",
        "-   `is_king_arthur` is a **boolean variable**, which can only be `True` or `False`.\n",
        "These variables are like different boxes, each labeled with its name and containing different types of data.\n",
        "\n",
        "Python also allows you to add **comments** in your code, which are lines that Python ignores. They start with a hash symbol (`#`) and are useful for explaining what the code does. This feature is particularly helpful for making your code readable and maintainable, both for others and for your future self."
      ],
      "metadata": {
        "id": "6Fr1TlKWSI_4"
      }
    },
    {
      "cell_type": "markdown",
      "source": [
        "## Discussion Questions: Intro to Programming\n",
        "1. Why is it important for programming languages to be formal and have strict rules, unlike natural languages like English?\n",
        "\n",
        "2. How does computational thinking help us solve problems outside of programming? Can you think of examples where you've used these skills in everyday life?\n",
        "\n",
        "3. Discuss the \"Hello, World!\" examples from different languages. How do their syntax and complexity differ? What does this tell us about the evolution of programming languages?\n",
        "\n",
        "4. How do you think generative AI tools like CoPilot and Codey will impact the future of programming? Do you see them as a replacement for human programmers or as a complementary tool?"
      ],
      "metadata": {
        "id": "BEr5AzZ-uHds"
      }
    },
    {
      "cell_type": "markdown",
      "source": [
        "## My Answers: Intro to Programming\n",
        "1.\n",
        "\n",
        "2.\n",
        "\n",
        "3.\n",
        "\n",
        "4."
      ],
      "metadata": {
        "id": "afLpaNuyuWo0"
      }
    },
    {
      "cell_type": "markdown",
      "source": [
        "## The `print()` Function\n",
        "\n",
        "In Python, the `print()` function is your primary tool for displaying text and other information on the screen. It's akin to telling Python, \"Please show this on the screen.\" The `print()` function is straightforward to use: you simply place what you want to be printed inside the parentheses.\n",
        "\n",
        "For example:"
      ],
      "metadata": {
        "id": "iRDA65nzTryM"
      }
    },
    {
      "cell_type": "code",
      "source": [
        "print(\"Brave Sir Robin ran away!\")"
      ],
      "metadata": {
        "colab": {
          "base_uri": "https://localhost:8080/"
        },
        "id": "-2OtoVSMSK4s",
        "outputId": "450dd17c-c78d-46f2-86a5-0834faa48f71"
      },
      "execution_count": null,
      "outputs": [
        {
          "output_type": "stream",
          "name": "stdout",
          "text": [
            "Brave Sir Robin ran away!\n"
          ]
        }
      ]
    },
    {
      "cell_type": "markdown",
      "source": [
        "This line will display \"Brave Sir Robin ran away!\" on the screen.\n",
        "\n",
        "### String Concatenation\n",
        "\n",
        "**String concatenation** is essentially putting strings together, end-to-end. It's like taking separate words or sentences and joining them to form a longer sentence. In Python, you can concatenate strings using the `+` operator.\n",
        "\n",
        "For example, let's concatenate two strings:"
      ],
      "metadata": {
        "id": "b_CZq6-qTwhz"
      }
    },
    {
      "cell_type": "code",
      "source": [
        "first_part = \"Bravely bold Sir Robin\"\n",
        "second_part = \", rode forth from Camelot.\"\n",
        "\n",
        "full_sentence = first_part + second_part\n",
        "print(full_sentence)"
      ],
      "metadata": {
        "colab": {
          "base_uri": "https://localhost:8080/"
        },
        "id": "FUv-9R9kT4hy",
        "outputId": "66b13f7a-1bb5-40a0-c2c4-e6883cb483e4"
      },
      "execution_count": null,
      "outputs": [
        {
          "output_type": "stream",
          "name": "stdout",
          "text": [
            "Bravely bold Sir Robin, rode forth from Camelot.\n"
          ]
        }
      ]
    },
    {
      "cell_type": "markdown",
      "source": [
        "This code will output: \"Bravely bold Sir Robin, rode forth from Camelot.\" Here, `first_part` and `second_part` are two separate strings that we join together using the `+` operator to form `full_sentence`.\n",
        "\n",
        "### F-Strings\n",
        "\n",
        "**F-strings**, short for \"formatted string literals,\" provide a more readable and concise way to create formatted strings. They were introduced in Python 3.6. You use f-strings by putting an `f` before the opening quotation mark of a string. Inside this string, you can place variables or expressions in curly braces `{}`, and Python will replace them with their values.\n",
        "\n",
        "For example:"
      ],
      "metadata": {
        "id": "45ZJ2LisUEjz"
      }
    },
    {
      "cell_type": "code",
      "source": [
        "knight = \"Lancelot\"\n",
        "quest = \"Holy Grail\"\n",
        "\n",
        "sentence = f\"Sir {knight} seeks the {quest}.\"\n",
        "print(sentence)"
      ],
      "metadata": {
        "colab": {
          "base_uri": "https://localhost:8080/"
        },
        "id": "tXCcP1HtUNfK",
        "outputId": "d680be60-cc05-4d95-dd11-7110285cb880"
      },
      "execution_count": null,
      "outputs": [
        {
          "output_type": "stream",
          "name": "stdout",
          "text": [
            "Sir Lancelot seeks the Holy Grail.\n"
          ]
        }
      ]
    },
    {
      "cell_type": "markdown",
      "source": [
        "This will output: \"Sir Lancelot seeks the Holy Grail.\" The f-string `f\"Sir {knight} seeks the {quest}.\"` takes the values of the variables `knight` and `quest` and inserts them into the string.\n",
        "\n",
        "F-strings are very useful because they make it easy to include variables and expressions within a string. They help keep your code concise and improve readability, especially when you're dealing with multiple variables or more complex expressions.\n",
        "\n",
        "For further illustration, let's combine a string and a number using an f-string:"
      ],
      "metadata": {
        "id": "pf-SxFpBUUqA"
      }
    },
    {
      "cell_type": "code",
      "source": [
        "number_of_knights = 4\n",
        "message = f\"There are {number_of_knights} knights at the round table.\"\n",
        "print(message)"
      ],
      "metadata": {
        "colab": {
          "base_uri": "https://localhost:8080/"
        },
        "id": "prwneJdGUYWd",
        "outputId": "e94bc278-3632-4b6d-94c1-624efebb3356"
      },
      "execution_count": null,
      "outputs": [
        {
          "output_type": "stream",
          "name": "stdout",
          "text": [
            "There are 4 knights at the round table.\n"
          ]
        }
      ]
    },
    {
      "cell_type": "markdown",
      "source": [
        "This will output: \"There are 4 knights at the round table.\" It demonstrates how f-strings can seamlessly integrate different types of data (like integers and strings) in a single readable sentence."
      ],
      "metadata": {
        "id": "v4xs6llsUd6K"
      }
    },
    {
      "cell_type": "markdown",
      "source": [
        "## Escape Characters in Python\n",
        "\n",
        "An **escape character** in Python is a backslash (`\\`) followed by the character you want to insert. The escape character allows you to use characters that are either impossible or hard to include in a string directly. For instance, it's used to insert new lines, tabs, or even a backslash itself into a string.\n",
        "\n",
        "Escape characters are essential because they extend the range of what can be represented within strings. They are particularly useful in dealing with strings that contain special characters or formatting.\n",
        "\n",
        "Here's a list of some commonly used escape characters:\n",
        "\n",
        "| Escape Character | Description |\n",
        "| --- | --- |\n",
        "| `\\n` | New line |\n",
        "| `\\t` | Horizontal tab |\n",
        "| `\\\\` | Backslash |\n",
        "| `\\'` | Single quote |\n",
        "| `\\\"` | Double quote |\n",
        "\n",
        "Let's see how these escape characters are used in Python strings:"
      ],
      "metadata": {
        "id": "pWPLYh-trVtU"
      }
    },
    {
      "cell_type": "code",
      "source": [
        "# Escape characters in strings\n",
        "\n",
        "# New line\n",
        "print(\"First Line\\nSecond Line\")\n",
        "\n",
        "# Horizontal tab\n",
        "print(\"Name:\\tArthur\")\n",
        "\n",
        "# Backslash\n",
        "print(\"Path to the file: C:\\\\Users\\\\Arthur\")\n",
        "\n",
        "# Single quote\n",
        "print('It\\'s just a flesh wound!')\n",
        "\n",
        "# Double quote\n",
        "print(\"The knight said, \\\"Ni!\\\"\")"
      ],
      "metadata": {
        "colab": {
          "base_uri": "https://localhost:8080/"
        },
        "id": "mPPWl-J7rZSV",
        "outputId": "43d07726-68e6-4171-953f-eb3405fba019"
      },
      "execution_count": null,
      "outputs": [
        {
          "output_type": "stream",
          "name": "stdout",
          "text": [
            "First Line\n",
            "Second Line\n",
            "Name:\tArthur\n",
            "Path to the file: C:\\Users\\Arthur\n",
            "It's just a flesh wound!\n",
            "The knight said, \"Ni!\"\n"
          ]
        }
      ]
    },
    {
      "cell_type": "markdown",
      "source": [
        "## Basic Arithmetic Operations in Python\n",
        "\n",
        "Python simplifies arithmetic operations, making them intuitive and accessible, especially for beginners. These operations are fundamental to any programming language and are particularly crucial in Python for handling numerical data and performing calculations. Whether you're doing simple addition or more complex mathematical computations, understanding these basic operations is essential. Python supports a range of arithmetic operations, each represented by a specific symbol, commonly known as an operator.\n",
        "\n",
        "| Operation | Symbol | Description |\n",
        "| --- | --- | --- |\n",
        "| Addition | `+` | Adds two numbers |\n",
        "| Subtraction | `-` | Subtracts the second number from the first |\n",
        "| Multiplication | `*` | Multiplies two numbers |\n",
        "| Division | `/` | Divides the first number by the second |\n",
        "| Integer Division | `//` | Divides and rounds down to the nearest whole number |\n",
        "| Modulus | `%` | Returns the remainder of the division |\n",
        "| Exponentiation | `**` | Raises the first number to the power of the second |\n",
        "\n",
        "### Arithmetic in Action\n",
        "\n",
        "Now, let's see these operations in action with a Python code block:"
      ],
      "metadata": {
        "id": "YHb2MSf3VolS"
      }
    },
    {
      "cell_type": "code",
      "source": [
        "# Demonstrating basic arithmetic operations using f-strings in Python\n",
        "\n",
        "# Addition\n",
        "print(f\"Sum (10 + 5): {10 + 5}\")\n",
        "\n",
        "# Subtraction\n",
        "print(f\"Difference (10 - 5): {10 - 5}\")\n",
        "\n",
        "# Multiplication\n",
        "print(f\"Product (10 * 5): {10 * 5}\")\n",
        "\n",
        "# Division\n",
        "print(f\"Quotient (10 / 5): {10 / 5}\")\n",
        "\n",
        "# Integer Division\n",
        "print(f\"Integer Division (10 // 3): {10 // 3}\")\n",
        "\n",
        "# Modulus\n",
        "print(f\"Remainder (10 % 3): {10 % 3}\")\n",
        "\n",
        "# Exponentiation\n",
        "print(f\"Exponentiation (10 ** 3): {10 ** 3}\")\n"
      ],
      "metadata": {
        "colab": {
          "base_uri": "https://localhost:8080/"
        },
        "id": "wNj9-4AVVsbW",
        "outputId": "7ed505d9-341c-44b9-ac34-db16244d97e3"
      },
      "execution_count": null,
      "outputs": [
        {
          "output_type": "stream",
          "name": "stdout",
          "text": [
            "Sum (10 + 5): 15\n",
            "Difference (10 - 5): 5\n",
            "Product (10 * 5): 50\n",
            "Quotient (10 / 5): 2.0\n",
            "Integer Division (10 // 3): 3\n",
            "Remainder (10 % 3): 1\n",
            "Exponentiation (10 ** 3): 1000\n"
          ]
        }
      ]
    },
    {
      "cell_type": "markdown",
      "source": [
        "## Basic String Operations in Python\n",
        "Strings in Python are sequences of characters enclosed in quotes (either single, double, or triple quotes for multi-line strings). They are immutable, meaning once a string is created, its characters cannot be changed. However, Python provides a rich set of operations and methods to work with strings, enabling programmers to perform a variety of tasks like combining strings, extracting parts of strings, and modifying their case.\n",
        "\n",
        "| Operation | Description |\n",
        "| --- | --- |\n",
        "| `s1 + s2` (Concatenation) | Combining two or more strings into one |\n",
        "| `s[n]` (Slicing) | Extracting a part of the string s starting at position n. Python starts counting at 0 |\n",
        "| `len(s)` (Length) | Determining the number of characters in a string |\n",
        "| `s.upper()`, `s.lower()` | Changing the case of the string |\n",
        "| `s.strip()` | Removing whitespaces from the start and end of a string |\n",
        "| `s.replace(old, new)` | Replacing parts of the string with another string |\n",
        "| `s.split(separator)` | Dividing the string into a list based on a separator |\n",
        "\n"
      ],
      "metadata": {
        "id": "d_3m1bhjWbFu"
      }
    },
    {
      "cell_type": "code",
      "source": [
        "# Basic string operations in Python\n",
        "\n",
        "# Concatenation\n",
        "greeting = \"Hello\"\n",
        "name = \"Arthur\"\n",
        "full_greeting = greeting + \", \" + name + \"!\"\n",
        "print(f\"Concatenated String: {full_greeting}\")"
      ],
      "metadata": {
        "colab": {
          "base_uri": "https://localhost:8080/"
        },
        "id": "87AEzqjjWaNA",
        "outputId": "6f8edded-cbf3-4c43-b4df-d099217b9100"
      },
      "execution_count": null,
      "outputs": [
        {
          "output_type": "stream",
          "name": "stdout",
          "text": [
            "Concatenated String: Hello, Arthur!\n"
          ]
        }
      ]
    },
    {
      "cell_type": "code",
      "source": [
        "# Slicing\n",
        "quote = \"Ni! We are the knights who say Ni!\"\n",
        "slice = quote[4:23]\n",
        "print(f\"Sliced String: {slice}\")\n"
      ],
      "metadata": {
        "colab": {
          "base_uri": "https://localhost:8080/"
        },
        "id": "JsSKETtSXKZC",
        "outputId": "b5737c9c-3889-41cf-ef10-02d27f461607"
      },
      "execution_count": null,
      "outputs": [
        {
          "output_type": "stream",
          "name": "stdout",
          "text": [
            "Sliced String: We are the knights \n"
          ]
        }
      ]
    },
    {
      "cell_type": "code",
      "source": [
        "# Length\n",
        "length = len(quote)\n",
        "print(f\"Length of String: {length}\")"
      ],
      "metadata": {
        "colab": {
          "base_uri": "https://localhost:8080/"
        },
        "id": "XFFb57A1XKjs",
        "outputId": "5883fdee-45dc-4696-ac96-46664349b365"
      },
      "execution_count": null,
      "outputs": [
        {
          "output_type": "stream",
          "name": "stdout",
          "text": [
            "Length of String: 34\n"
          ]
        }
      ]
    },
    {
      "cell_type": "code",
      "source": [
        "# Upper/Lower Case\n",
        "upper_case = quote.upper()\n",
        "lower_case = quote.lower()\n",
        "print(f\"Upper Case: {upper_case}\")\n",
        "print(f\"Lower Case: {lower_case}\")"
      ],
      "metadata": {
        "colab": {
          "base_uri": "https://localhost:8080/"
        },
        "id": "6prohZTFXRIy",
        "outputId": "f427816d-470a-4786-f1e7-432f50669fe7"
      },
      "execution_count": null,
      "outputs": [
        {
          "output_type": "stream",
          "name": "stdout",
          "text": [
            "Upper Case: NI! WE ARE THE KNIGHTS WHO SAY NI!\n",
            "Lower Case: ni! we are the knights who say ni!\n"
          ]
        }
      ]
    },
    {
      "cell_type": "code",
      "source": [
        "# Stripping\n",
        "whitespace_str = \"   Ni!   \"\n",
        "stripped_str = whitespace_str.strip()\n",
        "print(f\"Stripped String: '{stripped_str}'\")"
      ],
      "metadata": {
        "colab": {
          "base_uri": "https://localhost:8080/"
        },
        "id": "BI_pI3SoXThh",
        "outputId": "b18feaf7-2070-4594-934a-c2cff9c7aa0c"
      },
      "execution_count": null,
      "outputs": [
        {
          "output_type": "stream",
          "name": "stdout",
          "text": [
            "Stripped String: 'Ni!'\n"
          ]
        }
      ]
    },
    {
      "cell_type": "code",
      "source": [
        "# Replace\n",
        "replaced_str = quote.replace(\"Ni\", \"Ekki-Ekki-Ekki\")\n",
        "print(f\"Replaced String: {replaced_str}\")"
      ],
      "metadata": {
        "colab": {
          "base_uri": "https://localhost:8080/"
        },
        "id": "BHXFz9LXXVJD",
        "outputId": "a4174dac-f083-489a-8d4b-425219a95b14"
      },
      "execution_count": null,
      "outputs": [
        {
          "output_type": "stream",
          "name": "stdout",
          "text": [
            "Replaced String: Ekki-Ekki-Ekki! We are the knights who say Ekki-Ekki-Ekki!\n"
          ]
        }
      ]
    },
    {
      "cell_type": "code",
      "source": [
        "# Split\n",
        "split_str = quote.split(\" \")\n",
        "print(f\"Split String: {split_str}\")"
      ],
      "metadata": {
        "colab": {
          "base_uri": "https://localhost:8080/"
        },
        "id": "mORvqBdNXVQk",
        "outputId": "9d7daecc-e700-41aa-d724-704714dc506c"
      },
      "execution_count": null,
      "outputs": [
        {
          "output_type": "stream",
          "name": "stdout",
          "text": [
            "Split String: ['Ni!', 'We', 'are', 'the', 'knights', 'who', 'say', 'Ni!']\n"
          ]
        }
      ]
    },
    {
      "cell_type": "markdown",
      "source": [
        "## Exercises: Printing\n",
        "\n",
        "1. Create a variable containing your name as a string and print a greeting message using this variable.\n",
        "\n",
        "2. Create a variable containing a famous quote that you like. Use an f-string to insert this quote into a longer sentence and print it.\n",
        "\n",
        "3. Create a string containing a quotation from a book or movie (it can be the same quote from above). Use string methods to change it to uppercase, then to lowercase, and finally replace a specific word in the string. Print each variation.\n",
        "\n",
        "4. Declare three different numerical variables that are related to something that interest you. Now, show how you can print the results of doing arithmetic operations using these variables."
      ],
      "metadata": {
        "id": "EPtMvgvNwBpp"
      }
    },
    {
      "cell_type": "code",
      "source": [
        "# Exercise 1"
      ],
      "metadata": {
        "id": "_fgzXM_xw6wM"
      },
      "execution_count": null,
      "outputs": []
    },
    {
      "cell_type": "code",
      "source": [
        "# Exercise 2"
      ],
      "metadata": {
        "id": "XLjTA6RSw8S5"
      },
      "execution_count": null,
      "outputs": []
    },
    {
      "cell_type": "code",
      "source": [
        "# Exercise 3"
      ],
      "metadata": {
        "id": "0Fqppb8ow9dv"
      },
      "execution_count": null,
      "outputs": []
    },
    {
      "cell_type": "code",
      "source": [
        "# Exercise 4"
      ],
      "metadata": {
        "id": "vgisExYjw-kM"
      },
      "execution_count": null,
      "outputs": []
    },
    {
      "cell_type": "code",
      "source": [],
      "metadata": {
        "id": "12qcA2b5UeNz"
      },
      "execution_count": null,
      "outputs": []
    },
    {
      "cell_type": "markdown",
      "source": [
        "## What is an Algorithm?\n",
        "\n",
        "An **algorithm** is a step-by-step procedure or formula for solving a problem. In the context of computer science, it's a series of instructions that the computer follows to achieve a particular goal or perform a specific task. An algorithm can be as simple as a recipe for baking a cake or as complex as the calculations for predicting weather patterns.\n",
        "\n",
        "Key characteristics of algorithm in include the following:\n",
        "1.  **Definiteness.** Each step of an algorithm must be clear and unambiguous.\n",
        "2.  **Finiteness.** An algorithm must terminate after a finite number of steps.\n",
        "3.  **Input.** An algorithm can have zero or more inputs, which are the values or data it processes.\n",
        "4.  **Output.** It should produce at least one output, which is the solution to the problem.\n",
        "5.  **Effectiveness.** Each step of the algorithm must be feasible and possible to execute."
      ],
      "metadata": {
        "id": "0xNfp84O0Gc1"
      }
    },
    {
      "cell_type": "markdown",
      "source": [
        "### Expressing Algorithms in Pseudocode\n",
        "\n",
        "**Pseudocode** is a method used to describe algorithms using plain English and logical structuring, resembling programming languages. It is not bound by the syntax rules of any specific programming language and is used for planning and conceptualizing algorithms.\n",
        "\n",
        "Pseudocode often includes:\n",
        "\n",
        "-   **Variables** to store data.\n",
        "-   **Operations** like arithmetic or text manipulation.\n",
        "-   **Control Structures** such as loops and decision points.\n",
        "\n",
        "Here's an example of how this might work:\n",
        "\n",
        "### Example: The Knight's Quest Algorithm\n",
        "START The Knight's Quest Algorithm\n",
        "\n",
        "1. SET the quest completion status to false.\n",
        "\n",
        "2. ASK \"Enter the knight's name:\" and STORE the knight's name.\n",
        "3. ASK \"Enter the knight's quest:\" and STORE the knight's quest.\n",
        "\n",
        "5. REPEAT the following UNTIL the quest is complete:\n",
        "   \n",
        "   a. ASK \"What does the knight encounter (Dragon/Enchanter/Nothing):\" and STORE the encounter.\n",
        "   \n",
        "   b. IF the encounter IS \"Dragon\" THEN\n",
        "      - IF the knight IS \"Galahad\" THEN\n",
        "          SAY \"Galahad defeats the dragon.\"\n",
        "      - ELSE\n",
        "          SAY \"The knight avoids the dragon.\"\n",
        "\n",
        "   c. IF the encounter IS \"Enchanter\" THEN\n",
        "      - IF the enchanter IS \"Tim\" THEN\n",
        "          SAY \"Tim the Enchanter presents a riddle.\"\n",
        "      - ELSE\n",
        "          SAY \"The knight is confused and continues.\"\n",
        "\n",
        "   d. IF the encounter IS \"Nothing\" THEN\n",
        "      SAY \"The journey continues uneventfully.\"\n",
        "\n",
        "   e. ASK \"Has the knight found whay they are looking for? (Yes/No):\" and STORE the response.\n",
        "      - IF the response IS \"Yes\" THEN\n",
        "          SET the quest completion status to true.\n",
        "\n",
        "4. SAY \"The knight's quest for the\" + quest + \"is complete.\"\n",
        "\n",
        "END The Knight's Quest Algorithm\n"
      ],
      "metadata": {
        "id": "KR1PkfxJ0jPA"
      }
    },
    {
      "cell_type": "markdown",
      "source": [
        "This pseudocode example demonstrates several fundamental components of algorithms:\n",
        "\n",
        "1.  The algorithm uses variables to store things like the nature of the knight's quest and the status (complete or not). This sets up the essential data needed for the algorithm to function.\n",
        "\n",
        "2.  INPUT and OUTPUT are simulated with ASK and SAY commands, engaging with the user for data (knight's name and quest, encounters) and providing feedback (status of encounters and quest).\n",
        "\n",
        "3.   The use of IF...THEN...ELSE statements allows for decision-making based on the current situation, like the knight's response to different encounters. This introduces branching paths in the algorithm, leading to varied outcomes.\n",
        "\n",
        "4.  The REPEAT...UNTIL loop ensures that the quest continues until a specified condition is met (finding the Holy Grail), exemplifying how algorithms handle repetitive processes or conditions.\n",
        "\n",
        "5.  The algorithm concludes with a clear statement once the quest is completed, signifying the end of the process and preventing infinite loops.\n",
        "\n",
        "By incorporating these elements, the pseudocode effectively mirrors the logical structure of an algorithm, demonstrating how a problem (the knight's quest) can be broken down into a series of computational steps.\n",
        "\n",
        "As it turns out, though, we'll need to know a bit more Python in order to translate this algorithm into working code. So, let's get started!"
      ],
      "metadata": {
        "id": "lJkLtDCR13mg"
      }
    },
    {
      "cell_type": "markdown",
      "source": [
        "### The `input()` Function\n",
        "\n",
        "The `input()` function in Python pauses your program and waits for the user to enter some text. Once the user presses the \"Enter\" key, the function returns the text as a string. This allows your program to interact dynamically with the user.\n",
        "\n",
        "Here's the basic syntax:\n",
        "\n",
        "```python\n",
        "user_input = input(\"Prompt message: \")\n",
        "```\n",
        "-   `\"Prompt message:\"` is what is displayed on the screen. It's a way of telling the user what kind of input you're expecting.\n",
        "-   The user's response is then stored in the variable `user_input`.\n",
        "\n",
        "In the context of our Knight's Quest algorithm, we can use `input()` to gather information from the user, such as the knight's name, quest, and encounters."
      ],
      "metadata": {
        "id": "wNK73CCAopRo"
      }
    },
    {
      "cell_type": "code",
      "source": [
        "# Getting input from a user\n",
        "knight_name = input(\"Enter the knight's name: \")\n",
        "knight_quest = input(\"Enter the knight's quest: \")\n",
        "\n",
        "print(f\"Name: {knight_name}.\\nQuest: {knight_quest}\")"
      ],
      "metadata": {
        "colab": {
          "base_uri": "https://localhost:8080/"
        },
        "id": "duZz1HpFrQdE",
        "outputId": "1a0108a8-c990-4585-dff5-25b36e31ebe3"
      },
      "execution_count": null,
      "outputs": [
        {
          "output_type": "stream",
          "name": "stdout",
          "text": [
            "Enter the knight's name: Art\n",
            "Enter the knight's quest: Tacos\n",
            "Name: Art.\n",
            " Quest: Tacos\n"
          ]
        }
      ]
    },
    {
      "cell_type": "markdown",
      "source": [
        "In these lines:\n",
        "\n",
        "- The program asks for the knight's name, and the user's input is stored in the variable knight_name.\n",
        "- It then asks for the knight's quest, and this input is stored in knight_quest."
      ],
      "metadata": {
        "id": "4C-hGFVzrMvg"
      }
    },
    {
      "cell_type": "markdown",
      "source": [
        "### Casting Input From String to Number\n",
        "Sometimes, the input you receive from the user needs to be a specific data type, like an integer or a float. Since `input()` always returns a string, you may need to convert, or cast, this string to another type.\n",
        "\n",
        "Imagine a scenario in the quest where you need to ask how many dragons the knight has seen:"
      ],
      "metadata": {
        "id": "aJvVkk1Jr0Cr"
      }
    },
    {
      "cell_type": "code",
      "source": [
        "# Casting input\n",
        "dragon_count_input = input(\"How many dragons has the knight seen? \")\n",
        "dragon_count = int(dragon_count_input)\n",
        "\n",
        "print(f\"The knight has seen {dragon_count} dragons.\")\n"
      ],
      "metadata": {
        "id": "3SekcXQTr81N"
      },
      "execution_count": null,
      "outputs": []
    },
    {
      "cell_type": "markdown",
      "source": [
        "In this example:\n",
        "\n",
        "-   The user is asked to input the number of dragons seen, which is initially received as a string and stored in `dragon_count_input`.\n",
        "-   The `int()` function is then used to convert `dragon_count_input` from a string to an integer. This converted value is stored in `dragon_count`.\n",
        "-   The program then prints out the number of dragons using the converted integer value.\n",
        "\n",
        "Casting is essential when the input needs to be a number for arithmetic operations or other numerical comparisons. It ensures that the data is in the correct format for the program to process it accurately."
      ],
      "metadata": {
        "id": "DbYiq8Dsr8B1"
      }
    },
    {
      "cell_type": "markdown",
      "source": [
        "## Doing Things Repeatedly With Loops\n",
        "**Loops** are fundamental constructs in programming that allow you to execute a block of code repeatedly. Python provides two primary types of loops: `for` loops and `while` loops. Each serves a different purpose and is used in different scenarios.\n",
        "\n",
        "### For Loops in Python\n",
        "\n",
        "A `for` loop in Python is used for iterating over a sequence (like a list, tuple, string) or other iterable objects. It's commonly used when you want to perform an action a specific number of times, which can be determined upfront.\n",
        "\n",
        "The general syntax is:\n",
        "\n",
        "```python\n",
        "for variable in sequence:\n",
        "    # do something\n",
        "```\n",
        "\n",
        "-   `variable` takes the value of the next element in the sequence with each iteration.\n",
        "-   The loop continues until it has gone through all items in the sequence.\n",
        "\n",
        "#### Using `range()` to count\n",
        "\n",
        "`range()` is often used with `for` loops to specify the number of iterations. The `range(n)` function generates a sequence of numbers from `0` to `n-1`.\n"
      ],
      "metadata": {
        "id": "MHfSJBpftPIw"
      }
    },
    {
      "cell_type": "code",
      "source": [
        "for i in range(5):\n",
        "    print(i)"
      ],
      "metadata": {
        "colab": {
          "base_uri": "https://localhost:8080/"
        },
        "id": "_UIJH5nWtg2g",
        "outputId": "5baee6da-702f-44ed-91c3-31a8ee0e5d87"
      },
      "execution_count": null,
      "outputs": [
        {
          "output_type": "stream",
          "name": "stdout",
          "text": [
            "0\n",
            "1\n",
            "2\n",
            "3\n",
            "4\n"
          ]
        }
      ]
    },
    {
      "cell_type": "markdown",
      "source": [
        "### While Loops in Python\n",
        "\n",
        "A `while` loop is used to repeatedly execute a block of code as long as a condition is true. It's ideal when the number of iterations is not known in advance. The syntax is:\n",
        "```python\n",
        "while condition:\n",
        "    # do something`\n",
        "```\n",
        "The loop continues as long as the `condition` remains true.\n",
        "\n",
        "For example, in the King's Quest Algorithm, the `while` loop is perfect for the scenario where the knight continues their quest until they find what they are looking for.\n"
      ],
      "metadata": {
        "id": "S13kEawAtPNO"
      }
    },
    {
      "cell_type": "code",
      "source": [
        "quest_completion_status = False\n",
        "\n",
        "while quest_completion_status == False:\n",
        "    encounter = input(\"What does the knight encounter? \")\n",
        "    # Process the encounter\n",
        "\n",
        "    if encounter == \"Holy Grail\":\n",
        "        quest_completion_status = True\n",
        "\n",
        "print(\"The quest is complete!\")"
      ],
      "metadata": {
        "colab": {
          "base_uri": "https://localhost:8080/"
        },
        "id": "mW1jzc0SrL27",
        "outputId": "13d9cefe-c442-4978-82c8-eb62f2e8c4f5"
      },
      "execution_count": null,
      "outputs": [
        {
          "output_type": "stream",
          "name": "stdout",
          "text": [
            "What does the knight encounter? A truck\n",
            "What does the knight encounter? A car\n",
            "What does the knight encounter? A monster\n",
            "What does the knight encounter? The Holy Grail\n",
            "What does the knight encounter? Holy Grail\n",
            "The quest is complete!\n"
          ]
        }
      ]
    },
    {
      "cell_type": "markdown",
      "source": [
        "In this example, the knight keeps encountering challenges until they find the \"Holy Grail\". The loop continues until `quest_completion_status` becomes `True`.\n",
        "\n",
        "Loops, whether `for` or `while`, are powerful tools in Python, enabling programmers to reduce code repetition and handle iterative tasks efficiently. The choice of loop type depends on the specific requirements of the task at hand.\n",
        "\n",
        "#### `=` vs `==`\n",
        "In Python (and in many programming languages), the symbol `=` is used for variable assignment and NOT to test for equality. For example, `a = 5` assigns the value 5 to the variable `a`. If you want to check for equality (in the way you've done in your math classes), you'll need to use `==`. For example, `a == 5` checks whether `a` currently has the value 5 or not. It returns either `True` or `False`."
      ],
      "metadata": {
        "id": "4oVtLnYeui2T"
      }
    },
    {
      "cell_type": "code",
      "source": [
        "a = 6 # Assignment\n",
        "\n",
        "print(a == 5) # Test for equality\n",
        "print(a == 6) # Test for equality"
      ],
      "metadata": {
        "colab": {
          "base_uri": "https://localhost:8080/"
        },
        "id": "fIDuC4K27U8U",
        "outputId": "b38e4407-7314-4484-aa9a-ce068a70bfa3"
      },
      "execution_count": null,
      "outputs": [
        {
          "output_type": "stream",
          "name": "stdout",
          "text": [
            "False\n",
            "True\n"
          ]
        }
      ]
    },
    {
      "cell_type": "markdown",
      "source": [
        "### Making Decisions with If, Elif, and Else\n",
        "\n",
        "The `if` statement in Python allows you to execute a block of code based on the truth value of a condition. It's the fundamental decision-making construct.  For example, in a famous Monty Python sketch, a customer insists that his newly purchased parrot is dead. This scenario can be used to demonstrate a simple `if` statement."
      ],
      "metadata": {
        "id": "neaCnJMjwsAQ"
      }
    },
    {
      "cell_type": "code",
      "source": [
        "parrot_state = \"dead\"\n",
        "if parrot_state == \"dead\":\n",
        "    print(\"This is an ex-parrot!\")"
      ],
      "metadata": {
        "colab": {
          "base_uri": "https://localhost:8080/"
        },
        "id": "eeMKj3Y10Mm-",
        "outputId": "6e1d75f9-a1d0-48d5-86ee-fa12bde91bbb"
      },
      "execution_count": null,
      "outputs": [
        {
          "output_type": "stream",
          "name": "stdout",
          "text": [
            "This is an ex-parrot!\n"
          ]
        }
      ]
    },
    {
      "cell_type": "markdown",
      "source": [
        "Here, if the `parrot_state` is equal to `\"dead\"`, the program prints \"This is an ex-parrot!\"."
      ],
      "metadata": {
        "id": "PZL8FFp1wyrJ"
      }
    },
    {
      "cell_type": "markdown",
      "source": [
        "#### The `else` Statement\n",
        "\n",
        "The `else` statement is used to execute a block of code when the condition in the `if` statement is false.  Consider a scenario where the price of a dish is based on whether it includes spam."
      ],
      "metadata": {
        "id": "ohPInW6Vxdf6"
      }
    },
    {
      "cell_type": "code",
      "source": [
        "# Using if and else\n",
        "price = 9.99\n",
        "contains_spam = False\n",
        "\n",
        "if contains_spam:\n",
        "    price += 5.00\n",
        "else:\n",
        "    price += 2.00\n",
        "\n",
        "print(f\"Total price: {price}\")"
      ],
      "metadata": {
        "colab": {
          "base_uri": "https://localhost:8080/"
        },
        "id": "6YmJaGQSxmsH",
        "outputId": "1c23c434-c3cd-4f74-eb84-d451e70df061"
      },
      "execution_count": null,
      "outputs": [
        {
          "output_type": "stream",
          "name": "stdout",
          "text": [
            "Total price: 11.99\n"
          ]
        }
      ]
    },
    {
      "cell_type": "markdown",
      "source": [
        "In this example, if `contains_spam` is true, 5.00 is added to the price. Otherwise, the `else` block adds 2.00."
      ],
      "metadata": {
        "id": "IPWwf63Mx0YT"
      }
    },
    {
      "cell_type": "markdown",
      "source": [
        "## The `elif` Statement\n",
        "\n",
        "The elif (short for \"else if\") statement is used for multiple conditions, to be checked in sequence after the initial if. For example, we might have a code block like the following:"
      ],
      "metadata": {
        "id": "UbDNKO7UytN_"
      }
    },
    {
      "cell_type": "code",
      "source": [
        "# If, Elif, and Else\n",
        "budget = 1000\n",
        "if budget < 750:\n",
        "  print(\"No money for silly walk development\")\n",
        "elif budget < 1500:\n",
        "  print(\"Sufficient budget for developing one new silly walk.\")\n",
        "else:\n",
        "  print(\"Plenty of money for research and development\")\n",
        "\n"
      ],
      "metadata": {
        "colab": {
          "base_uri": "https://localhost:8080/"
        },
        "id": "N-U8_13dy0aA",
        "outputId": "ab8add2a-6c01-4d24-a62a-430345adde17"
      },
      "execution_count": null,
      "outputs": [
        {
          "output_type": "stream",
          "name": "stdout",
          "text": [
            "Sufficient budget for developing one new silly walk.\n"
          ]
        }
      ]
    },
    {
      "cell_type": "markdown",
      "source": [
        "In this example, the `elif` clause is triggered, since our budget of 1000 is greater than 750 but less than 1500."
      ],
      "metadata": {
        "id": "azedmEqHzjXh"
      }
    },
    {
      "cell_type": "markdown",
      "source": [
        "## The Knight's Quest in Python\n",
        "Now, that we've learned about input, loops, and if statements, we are finally ready to implement the Knight's Quest Algorithm in Python."
      ],
      "metadata": {
        "id": "0S_SERYz3MaY"
      }
    },
    {
      "cell_type": "code",
      "source": [
        "# Initial setup\n",
        "quest_completion_status = False\n",
        "knight_name = input(\"Enter the knight's name: \")\n",
        "knight_quest = input(\"Enter the knight's quest: \")\n",
        "\n",
        "# Loop to process encounters until the quest is complete\n",
        "while quest_completion_status == False:\n",
        "    encounter = input(\"What does the knight encounter (Dragon/Enchanter/Nothing): \")\n",
        "\n",
        "    if encounter == \"Dragon\":\n",
        "        if knight_name == \"Galahad\":\n",
        "            print(\"Galahad defeats the dragon.\")\n",
        "        else:\n",
        "            print(\"The knight avoids the dragon.\")\n",
        "\n",
        "    elif encounter == \"Enchanter\":\n",
        "        enchanter = input(\"Who is the enchanter? \")\n",
        "        if enchanter == \"Tim\":\n",
        "            print(\"Tim the Enchanter presents a riddle.\")\n",
        "        else:\n",
        "            print(\"The knight is confused and continues.\")\n",
        "\n",
        "    elif encounter == \"Nothing\":\n",
        "        print(\"The journey continues uneventfully.\")\n",
        "\n",
        "    else:\n",
        "      print(\"Sorry, I don't understand that encounter.\")\n",
        "\n",
        "    response = input(\"Has the knight found what they are looking for? (Yes/No): \")\n",
        "    if response == \"Yes\":\n",
        "        quest_completion_status = True\n",
        "\n",
        "print(f\"The quest of {knight_name} for the {knight_quest} is complete.\")\n"
      ],
      "metadata": {
        "id": "7n6Nv3cp3l-2"
      },
      "execution_count": null,
      "outputs": []
    },
    {
      "cell_type": "markdown",
      "source": [
        "### Exercises: Modifying the Knight's Quest\n",
        "Alter the above code block to try out the following. Each time, run the program to see happens.\n",
        "\n",
        "1.  Change `quest_completion_status` to `quest_finished` and update all its occurrences. Hint: Ensure all references to the variable are updated to avoid a NameError.\n",
        "\n",
        "2.  Alter the `if` statement for the \"Dragon\" encounter to check if the knight's name is \"Arthur\" instead of \"Galahad\". Hint: This change will affect which branch of the `if` statement executes when the knight's name is entered.\n",
        "\n",
        "3.  Include an additional `elif` condition that checks for an encounter type of \"Troll\". Hint: Remember the syntax for `elif` and ensure it comes before the `else` statement.\n",
        "\n",
        "4.  Remove a colon (`:`) at the end of one of the `if` statements. Hint: Python will raise a SyntaxError indicating where the issue is. Once you've done this, fix the error.\n",
        "\n",
        "5. Change the `else` block's print statement to \"Unknown encounter.\" Hint: This message will display for any input not matching \"Dragon\", \"Enchanter\", or \"Nothing\".\n",
        "\n",
        "6.  Remove or comment out the line that sets `quest_completion_status` to `True`. Hint: Be prepared to terminate the program manually, as this will create an infinite loop. Now, fix this.\n",
        "\n",
        "7.   Inside the \"Dragon\" encounter block, ask the user for the dragon's color and print it. Hint: Add an `input()` function and a `print()` statement inside the `if` block for the \"Dragon\" encounter.\n",
        "\n",
        "8.  Modify the response check for finding what they're looking for to be case-insensitive. Hint: Use the `.lower()` or `.upper()` string method on `response`."
      ],
      "metadata": {
        "id": "wvabGcNL4_y1"
      }
    },
    {
      "cell_type": "code",
      "source": [
        "# You can copy the above program into this cell to conduct your experiments."
      ],
      "metadata": {
        "id": "e4WzwJJdBE8A"
      },
      "execution_count": null,
      "outputs": []
    },
    {
      "cell_type": "markdown",
      "source": [
        "## The Importance of Visualizations in Understanding Systems\n",
        "Visualizations play a crucial role in the fields of computer science and philosophy, especially when dealing with complex systems. Text alone can be insufficient for fully grasping the intricacies of these systems. **Unified Modeling Language (UML)** offers a solution to this challenge. UML is a standardized language used in software development for visualizing the design of a system. It encompasses various diagrams, each serving a specific purpose. Among these, the **Activity Diagram** is particularly useful for illustrating the flow of processes and decisions in a system. By converting complex textual descriptions into clear, visual formats, these diagrams enhance understanding, simplify communication, and aid in problem-solving."
      ],
      "metadata": {
        "id": "-C88pD8q83I3"
      }
    },
    {
      "cell_type": "markdown",
      "source": [
        "![image.png](data:image/png;base64,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)"
      ],
      "metadata": {
        "id": "iSGhFiXk_iXr"
      }
    },
    {
      "cell_type": "markdown",
      "source": [
        "### Understanding the Activity Diagram\n",
        "In an Activity Diagram, the **start point**, marked by a solid circle, signifies the beginning of the process. This is where the workflow is initiated. Following this, the diagram unfolds through a series of **activities**, represented by rectangular boxes. Each box details a specific action within the process, such as \"Enter the knight's name.\" These actions are the building blocks of the workflow.\n",
        "\n",
        "As the process progresses, certain points require decision-making, depicted as diamond shapes known as **decision points**. These points are crucial as they determine the subsequent path of the process based on certain conditions. For instance, the decision \"Encounter type\" in the diagram leads to different actions depending on whether the encounter is with a Dragon, an Enchanter, or something else.\n",
        "\n",
        "The flow of the process is directed by arrows, guiding from one activity or decision to the next. In some cases, the process might involve **loops**, where a set of actions is repeated until a certain condition is met, such as the quest's completion status in the given example.\n",
        "\n",
        "Finally, every Activity Diagram culminates at an **end point**, indicated by a solid circle surrounded by a ring, marking the conclusion of the process. This point is reached once all the necessary actions have been performed and decisions made, as per the workflow defined in the diagram.\n",
        "\n",
        "(Note: The above diagram was created using **PlantUML**, a popular language for creating these diagrams. There are many free websites (such as https://www.planttext.com/) for rendering these diagrams. While a complete introduction to this language is beyond the scope of this chapter, I encourage you to try this out.)."
      ],
      "metadata": {
        "id": "WYumKoxw_Hep"
      }
    },
    {
      "cell_type": "markdown",
      "source": [
        "## Debugging\n",
        "In programming, a **bug** is an error or flaw in a computer program that causes it to produce incorrect or unexpected results, or to behave in unintended ways. The term \"bug\" is said to have originated from a real-life incident involving Admiral Grace Hopper in the 1940s, where an actual moth was found causing trouble in a computer. While today's bugs are not literal insects, they can be just as pesky in the world of code. There a number of different types of bugs, including syntax errors, semantic errors,  "
      ],
      "metadata": {
        "id": "jRwm07_TEDmB"
      }
    },
    {
      "cell_type": "markdown",
      "source": [
        "### Syntax Errors\n",
        "**Syntax errors** are mistakes in the use of the programming language. They occur when the code violates the syntax rules of the language, making it impossible for the program to be parsed and executed. These errors are typically detected by the language interpreter or compiler and must be corrected for the program to run. Syntax errors are akin to spelling or grammar mistakes in natural language."
      ],
      "metadata": {
        "id": "8XfReHH9He9T"
      }
    },
    {
      "cell_type": "code",
      "source": [
        "# Syntax Error Example\n",
        "print(\"Syntax errors are like forgetting a parenthesis\""
      ],
      "metadata": {
        "id": "IkQxLGzT58-e",
        "outputId": "d2dbaf08-6b43-45a6-c593-97956405614b",
        "colab": {
          "base_uri": "https://localhost:8080/",
          "height": 141
        }
      },
      "execution_count": 1,
      "outputs": [
        {
          "output_type": "error",
          "ename": "SyntaxError",
          "evalue": "ignored",
          "traceback": [
            "\u001b[0;36m  File \u001b[0;32m\"<ipython-input-1-8f7ee4848400>\"\u001b[0;36m, line \u001b[0;32m2\u001b[0m\n\u001b[0;31m    print(\"Syntax errors are like forgetting a parenthesis\"\u001b[0m\n\u001b[0m                                                           ^\u001b[0m\n\u001b[0;31mSyntaxError\u001b[0m\u001b[0;31m:\u001b[0m incomplete input\n"
          ]
        }
      ]
    },
    {
      "cell_type": "markdown",
      "source": [
        "### Semantic Errors\n",
        "**Semantic (or logical) errors** occur when the syntax of the code is correct, but the program doesn't behave as expected. The code runs without crashing, but it does something different from what the programmer intended. These errors are often more challenging to debug because the program still operates and provides output, which might not be immediately recognized as incorrect."
      ],
      "metadata": {
        "id": "cDRUV_C1Hzz4"
      }
    },
    {
      "cell_type": "code",
      "source": [
        "# Semantic Error Example\n",
        "def subtract_numbers(a, b):\n",
        "    return a + b  # Intended to subtract, but incorrectly adds\n",
        "\n",
        "result = subtract_numbers(7, 5)\n",
        "print(f\"The result is {result}\")  # Expecting 2, but will print 12\n"
      ],
      "metadata": {
        "id": "X6UNGNwbH3Nb",
        "outputId": "0bfc3c9e-e290-4c84-a0da-f4763d593cf5",
        "colab": {
          "base_uri": "https://localhost:8080/"
        }
      },
      "execution_count": 2,
      "outputs": [
        {
          "output_type": "stream",
          "name": "stdout",
          "text": [
            "The result is 12\n"
          ]
        }
      ]
    },
    {
      "cell_type": "markdown",
      "source": [
        "### Runtime Errors\n",
        "**Runtime errors** are problems that occur while the program is running after successfully passing the syntax check. These errors are typically caused by exceptional or unexpected conditions that the program encounters during execution, like dividing by zero or trying to access a non-existent file. Runtime errors can cause the program to crash or behave unpredictably."
      ],
      "metadata": {
        "id": "GL1lKw8hIDi5"
      }
    },
    {
      "cell_type": "code",
      "source": [
        "# Runtime Error Example\n",
        "number = 0\n",
        "print(f\"The reciprocal of your number is: {1 / number}\")\n"
      ],
      "metadata": {
        "id": "lpUhj8P5IJoM",
        "outputId": "d73ea502-5dec-484a-8a9c-2d5165a37023",
        "colab": {
          "base_uri": "https://localhost:8080/",
          "height": 210
        }
      },
      "execution_count": 5,
      "outputs": [
        {
          "output_type": "error",
          "ename": "ZeroDivisionError",
          "evalue": "ignored",
          "traceback": [
            "\u001b[0;31m---------------------------------------------------------------------------\u001b[0m",
            "\u001b[0;31mZeroDivisionError\u001b[0m                         Traceback (most recent call last)",
            "\u001b[0;32m<ipython-input-5-fd7b7e57d706>\u001b[0m in \u001b[0;36m<cell line: 3>\u001b[0;34m()\u001b[0m\n\u001b[1;32m      1\u001b[0m \u001b[0;31m# Runtime Error Example\u001b[0m\u001b[0;34m\u001b[0m\u001b[0;34m\u001b[0m\u001b[0m\n\u001b[1;32m      2\u001b[0m \u001b[0mnumber\u001b[0m \u001b[0;34m=\u001b[0m \u001b[0;36m0\u001b[0m\u001b[0;34m\u001b[0m\u001b[0;34m\u001b[0m\u001b[0m\n\u001b[0;32m----> 3\u001b[0;31m \u001b[0mprint\u001b[0m\u001b[0;34m(\u001b[0m\u001b[0;34mf\"The reciprocal of your number is: {1 / number}\"\u001b[0m\u001b[0;34m)\u001b[0m\u001b[0;34m\u001b[0m\u001b[0;34m\u001b[0m\u001b[0m\n\u001b[0m",
            "\u001b[0;31mZeroDivisionError\u001b[0m: division by zero"
          ]
        }
      ]
    },
    {
      "cell_type": "markdown",
      "source": [
        "### How Do I Debug Programs?\n",
        "\n",
        "Debugging is a critical skill in programming, involving identifying and fixing errors or \"bugs\" in your code. For beginners, effective debugging often starts with simple techniques like using print statements and adopting a methodical approach to writing and testing code.\n",
        "\n",
        "One of the most straightforward debugging tools is the **print statement**. It allows you to output the values of variables and the flow of execution at different points in your program. By observing these outputs, you can understand how your program is running and where it might be going wrong. For example, consider the following program:"
      ],
      "metadata": {
        "id": "XqKrGAQpKicE"
      }
    },
    {
      "cell_type": "code",
      "source": [
        "def add_numbers(a, b):\n",
        "    print(f\"Adding {a} and {b}\")  # Print to check values\n",
        "    print(f\"a is of type {type(a)}\")\n",
        "    print(f\"b is of type {type(b)}\")\n",
        "    return a + b\n",
        "\n",
        "result = add_numbers(5, '3')\n",
        "print(f\"Result: {result}\")  # Helps to identify type mismatch errors\n"
      ],
      "metadata": {
        "id": "msXP3ebJKj0o",
        "outputId": "ff7f7e70-4b79-40db-a179-57dc87209fd5",
        "colab": {
          "base_uri": "https://localhost:8080/",
          "height": 401
        }
      },
      "execution_count": 7,
      "outputs": [
        {
          "output_type": "stream",
          "name": "stdout",
          "text": [
            "Adding 5 and 3\n",
            "a is of type <class 'int'>\n",
            "b is of type <class 'str'>\n"
          ]
        },
        {
          "output_type": "error",
          "ename": "TypeError",
          "evalue": "ignored",
          "traceback": [
            "\u001b[0;31m---------------------------------------------------------------------------\u001b[0m",
            "\u001b[0;31mTypeError\u001b[0m                                 Traceback (most recent call last)",
            "\u001b[0;32m<ipython-input-7-e9bf81e11e11>\u001b[0m in \u001b[0;36m<cell line: 7>\u001b[0;34m()\u001b[0m\n\u001b[1;32m      5\u001b[0m     \u001b[0;32mreturn\u001b[0m \u001b[0ma\u001b[0m \u001b[0;34m+\u001b[0m \u001b[0mb\u001b[0m\u001b[0;34m\u001b[0m\u001b[0;34m\u001b[0m\u001b[0m\n\u001b[1;32m      6\u001b[0m \u001b[0;34m\u001b[0m\u001b[0m\n\u001b[0;32m----> 7\u001b[0;31m \u001b[0mresult\u001b[0m \u001b[0;34m=\u001b[0m \u001b[0madd_numbers\u001b[0m\u001b[0;34m(\u001b[0m\u001b[0;36m5\u001b[0m\u001b[0;34m,\u001b[0m \u001b[0;34m'3'\u001b[0m\u001b[0;34m)\u001b[0m\u001b[0;34m\u001b[0m\u001b[0;34m\u001b[0m\u001b[0m\n\u001b[0m\u001b[1;32m      8\u001b[0m \u001b[0mprint\u001b[0m\u001b[0;34m(\u001b[0m\u001b[0;34mf\"Result: {result}\"\u001b[0m\u001b[0;34m)\u001b[0m  \u001b[0;31m# Helps to identify type mismatch errors\u001b[0m\u001b[0;34m\u001b[0m\u001b[0;34m\u001b[0m\u001b[0m\n",
            "\u001b[0;32m<ipython-input-7-e9bf81e11e11>\u001b[0m in \u001b[0;36madd_numbers\u001b[0;34m(a, b)\u001b[0m\n\u001b[1;32m      3\u001b[0m     \u001b[0mprint\u001b[0m\u001b[0;34m(\u001b[0m\u001b[0;34mf\"a is of type {type(a)}\"\u001b[0m\u001b[0;34m)\u001b[0m\u001b[0;34m\u001b[0m\u001b[0;34m\u001b[0m\u001b[0m\n\u001b[1;32m      4\u001b[0m     \u001b[0mprint\u001b[0m\u001b[0;34m(\u001b[0m\u001b[0;34mf\"b is of type {type(b)}\"\u001b[0m\u001b[0;34m)\u001b[0m\u001b[0;34m\u001b[0m\u001b[0;34m\u001b[0m\u001b[0m\n\u001b[0;32m----> 5\u001b[0;31m     \u001b[0;32mreturn\u001b[0m \u001b[0ma\u001b[0m \u001b[0;34m+\u001b[0m \u001b[0mb\u001b[0m\u001b[0;34m\u001b[0m\u001b[0;34m\u001b[0m\u001b[0m\n\u001b[0m\u001b[1;32m      6\u001b[0m \u001b[0;34m\u001b[0m\u001b[0m\n\u001b[1;32m      7\u001b[0m \u001b[0mresult\u001b[0m \u001b[0;34m=\u001b[0m \u001b[0madd_numbers\u001b[0m\u001b[0;34m(\u001b[0m\u001b[0;36m5\u001b[0m\u001b[0;34m,\u001b[0m \u001b[0;34m'3'\u001b[0m\u001b[0;34m)\u001b[0m\u001b[0;34m\u001b[0m\u001b[0;34m\u001b[0m\u001b[0m\n",
            "\u001b[0;31mTypeError\u001b[0m: unsupported operand type(s) for +: 'int' and 'str'"
          ]
        }
      ]
    },
    {
      "cell_type": "markdown",
      "source": [
        "Developing and testing your program **incrementally** can significantly reduce debugging time. This approach involves writing a small part of your program, testing it to ensure it works correctly, and then gradually adding more functionality. The basic idea is as follows:\n",
        "\n",
        "1. Begin with a small, manageable piece of functionality. Test it thoroughly.\n",
        "2. Once the small part works, add more code bit by bit, testing each addition thoroughly before moving on.\n",
        "3. Regularly test your program after each change. This makes it easier to locate where a new bug was introduced."
      ],
      "metadata": {
        "id": "NT3l0rJQLCIb"
      }
    },
    {
      "cell_type": "markdown",
      "source": [],
      "metadata": {
        "id": "7OUozLoyInfM"
      }
    }
  ]
}