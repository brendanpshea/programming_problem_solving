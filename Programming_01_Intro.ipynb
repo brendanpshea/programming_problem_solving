{
  "nbformat": 4,
  "nbformat_minor": 0,
  "metadata": {
    "colab": {
      "provenance": [],
      "authorship_tag": "ABX9TyNvTOmiFw3cd3+4UBNMXXwy",
      "include_colab_link": true
    },
    "kernelspec": {
      "name": "python3",
      "display_name": "Python 3"
    },
    "language_info": {
      "name": "python"
    }
  },
  "cells": [
    {
      "cell_type": "markdown",
      "metadata": {
        "id": "view-in-github",
        "colab_type": "text"
      },
      "source": [
        "<a href=\"https://colab.research.google.com/github/brendanpshea/programming_problem_solving/blob/main/Programming_01_Intro.ipynb\" target=\"_parent\"><img src=\"https://colab.research.google.com/assets/colab-badge.svg\" alt=\"Open In Colab\"/></a>"
      ]
    },
    {
      "cell_type": "markdown",
      "source": [
        "# What is Programming?\n",
        "\n",
        "**Programming** involves creating an executable computer program to achieve a specific computational task.\n",
        "\n",
        "At the foundation of programming lies the concept of a **computer**, an electronic device designed to process data based on a set of instructions. These instructions, known as a **program**, enable computers to perform a diverse array of tasks, ranging from simple arithmetic operations to complex simulations. The essence of these instructions is encapsulated in **algorithms**, which are systematic sequences of steps or rules formulated to solve specific problems. In programming, algorithms are akin to recipes in a cookbook; they provide a methodical approach for a computer program to process inputs and generate the desired outputs.\n",
        "\n",
        "The medium through which these algorithms are communicated to computers is through formal languages, or programming languages. Unlike **natural languages** (like English, Spanish, Chinese, etc.) that are rich, ambiguous, and constantly evolving, **formal languages** are characterized by a fixed set of symbols and strict syntactic and semantic rules. This precision and lack of ambiguity are crucial, as they ensure that instructions are conveyed to computers without misinterpretation. In contrast, natural languages, which we use for everyday communication, exhibit a flexibility and nuance that formal languages intentionally avoid. The skill in programming, therefore, lies in effectively translating the fluidity of human thoughts and problems, typically articulated in natural language, into the rigid and precise structure of a formal language that a computer can interpret and execute.\n",
        "\n",
        "This translation process is deeply rooted in **computational thinking**, a problem-solving approach that draws on concepts from computer science. Computational thinking involves breaking down complex problems into more manageable parts (decomposition), identifying patterns and trends (pattern recognition), focusing on the essential elements of the problem (abstraction), and devising step-by-step solutions (algorithmic thinking). The significance of programming in problem-solving is profound. It enables us to convert intricate and often abstract problems into a form that can be systematically and efficiently processed by a computer. This capability not only makes solving elaborate problems feasible but also enhances the efficiency and accuracy of the solutions.\n",
        "\n",
        "In the contemporary world, the impact of programming is ubiquitous, cutting across various fields. It ranges from developing business software for data management to simulating intricate scientific phenomena, and even to crafting algorithms in the realm of artificial intelligence. The discipline of programming promotes a logical, systematic, and often innovative approach to problem-solving, rendering it an indispensable skill in both academic research and practical applications. This blend of logical structure and creative problem-solving is what makes programming a fascinating and essential field in the modern era of technology."
      ],
      "metadata": {
        "id": "0mfMBuOhL6lc"
      }
    },
    {
      "cell_type": "markdown",
      "source": [
        "## Why Python?\n",
        "In this book, we'll begin with the Python language, which is well-known for its readability and ease of use. It's also a widely used \"modern\" programming language used in many, many different types of setting. First, though, its worth saying a bit about where Python \"came from\" in the first place.\n",
        "\n",
        "The journey of programming languages began with low-level languages, like **machine code** and **assembly language**. These languages are closely tied to the hardware architecture, making them efficient but extremely difficult for humans to use and understand. To bridge this gap, **high-level languages** were developed. These languages, which include FORTRAN and COBOL, allowed programmers to write code using more natural language elements. However, they still had complexities that made them less accessible to beginners.\n",
        "\n",
        "The advent of structured programming in the 1970s, with languages like C, marked a significant step forward. **C** introduced a syntax and control structures that influenced many languages that followed. Despite its power, C's complexity and potential for errors (like memory management issues) posed challenges for beginners.\n",
        "\n",
        "The 1980s and 1990s saw the emergence of **object-oriented programming (OOP)**, a paradigm that represents concepts as \"objects\" with data fields and associated procedures known as methods. Java, developed in the mid-90s, became one of the most prominent OOP languages, known for its \"write once, run anywhere\" philosophy. Java's design was a response to the complexities and platform dependencies prevalent in programming at the time. It offered a balance of readability, structure, and versatility, making it ideal for large-scale applications. However, its verbose syntax can be daunting for beginners.\n",
        "\n",
        "In this evolutionary landscape, **Python** emerged in the late 1980s, developed by Guido van Rossum. Python was designed with a focus on code readability and simplicity, making it an excellent choice for beginners. Its syntax is clean and intuitive, often described as almost \"English-like\". This readability makes Python an ideal teaching tool, allowing students to grasp programming concepts without getting bogged down in complex syntax.\n",
        "\n",
        "Python is also a multi-paradigm language, supporting procedural, object-oriented, and to some extent, functional programming styles. This flexibility allows beginners to explore different programming paradigms without switching languages. Additionally, Python has a vast and active community, which provides an abundance of resources and libraries, making it easier for beginners to find help and extend the language's capabilities.\n",
        "\n",
        "For these reasons, Python serves as an optimal entry point for those new to programming, laying a foundation of concepts and practices that are transferable to more complex languages like Java. Its design philosophy encapsulates the evolution of programming languages towards making technology more approachable and adaptable, fitting well within the modern landscape of software development."
      ],
      "metadata": {
        "id": "r3OHe-eBNJVK"
      }
    },
    {
      "cell_type": "markdown",
      "source": [
        "## Hello World: Five Different Versions\n",
        "While we'll be focusing on Python for the next few chapters, it's important to remember that Python is just one of hundreds of different programming languages. For example, here is how a \"Hello, World!\" program looks in some of the most historically important programming languages.\n",
        "\n",
        "### Assembly Language (x86 Assembly)\n",
        "\n",
        "```asm\n",
        "    section .data\n",
        "        msg db 'Hello, World!',0xA  ; Define a string followed by a new line character\n",
        "\n",
        "    section .text\n",
        "        global _start\n",
        "\n",
        "    _start:\n",
        "        mov edx,13             ; Number of bytes to write\n",
        "        mov ecx,msg            ; Pointer to the message\n",
        "        mov ebx,1              ; File descriptor (stdout)\n",
        "        mov eax,4              ; System call number (sys_write)\n",
        "        int 0x80               ; Call kernel\n",
        "\n",
        "        mov eax,1              ; System call number for exit\n",
        "        int 0x80               ; Call kernel\n",
        "  \n",
        "```\n",
        "Assembly language is close to the hardware level and requires explicit handling of memory and system calls.\n",
        "\n",
        "### FORTRAN\n",
        "\n",
        "```fortran\n",
        "    program hello\n",
        "        print *, 'Hello, World!'\n",
        "    end program hello\n",
        "```\n",
        "FORTRAN, one of the earliest high-level languages, was designed for numerical and scientific computing.\n",
        "\n",
        "\n",
        "###  C\n",
        "\n",
        "```c\n",
        "    #include <stdio.h>\n",
        "\n",
        "    int main() {\n",
        "        printf(\"Hello, World!\\n\"); // Print the message to stdout\n",
        "        return 0;\n",
        "    }\n",
        "```\n",
        "C is a foundational language that introduced many concepts used in later languages, balancing low-level access with high-level abstractions.\n",
        "\n",
        "### Java\n",
        "\n",
        "```java\n",
        "    public class HelloWorld {\n",
        "        public static void main(String[] args) {\n",
        "            System.out.println(\"Hello, World!\"); // Print the message to the console\n",
        "        }\n",
        "    }\n",
        "```\n",
        "Java, an object-oriented language, introduced the concept of writing once and running anywhere, abstracting away hardware details.\n",
        "\n",
        "### Python\n",
        "\n",
        "```python\n",
        "    print(\"Hello, World!\")  # Simple command to print the message to stdout\n",
        "```\n",
        "Python exemplifies high-level abstraction with its straightforward syntax and ease of use, making it ideal for beginners.\n",
        "\n",
        "### Generative AI\n",
        "Finallly, in recent years, generative AI tools (most notably Microsoft's *CoPilot* and Google's *Codey*) have allowed users to write \"natural language\" queries that will produce computer code. So, for example, you might write:\n",
        "\n",
        "```\n",
        "Write me a \"Hello, World\" program in Python.\n",
        "```\n",
        "While these sorts of (relatively simple queries) work very well, more complext queries (of the sort involved in buidling real software applications) require human expertise about the programming language in question.\n",
        "\n",
        "### The Importance of Abstraction\n",
        "The concept of **abstraction** in programming languages refers to the way languages hide the complexity of the underlying systems, allowing programmers to focus on higher-level problems rather than low-level operations like memory management or hardware interactions. Lower-level languages like Assembly require the programmer to manage nearly every aspect of the computer's operation, offering fine-grained control but at the cost of complexity. As languages evolved, they abstracted away these details, allowing programmers to write code more intuitively and efficiently.\n",
        "\n",
        "High-level languages like Python and Java offer significant abstraction, handling many of the complex aspects of computing internally and allowing programmers to write code that is more focused on the problem they are trying to solve rather than the minutiae of the computer's operation. This evolution reflects a shift in programming, focusing more on solving complex problems and building sophisticated systems without needing to manage every low-level detail.\n"
      ],
      "metadata": {
        "id": "g1w4sNT3PU2d"
      }
    },
    {
      "cell_type": "markdown",
      "source": [
        "## What is a Variable?\n",
        "A **variable** is like a labeled box where you can store various types of items, each with a unique label for easy reference. This analogy helps us understand how variables work in a more tangible way.\n",
        "\n",
        "When you declare a variable in Python, you're essentially creating a labeled box to store specific data. The beauty of Python is that you don't need to specify what type of data (like numbers, text, or others) you'll store in it beforehand -- Python figures that out for you. This characteristic of Python is known as being dynamically typed.\n",
        "\n",
        "Let's create a few Python variables with different types of data, with a \"Monty Python\" theme (a British Comedy show that gave the programming language its name):"
      ],
      "metadata": {
        "id": "sg_WUZ8FR8m8"
      }
    },
    {
      "cell_type": "code",
      "source": [
        "# String variable\n",
        "holy_hand_grenade = \"Three shall be the number thou shalt count.\"\n",
        "\n",
        "# Integer variable\n",
        "number_of_knights = 4\n",
        "\n",
        "# Floating point variable\n",
        "ni_shrubbery_height = 1.5\n",
        "\n",
        "# Boolean variable\n",
        "is_king_arthur = True\n"
      ],
      "metadata": {
        "id": "N8BoEr-WMWdk"
      },
      "execution_count": null,
      "outputs": []
    },
    {
      "cell_type": "markdown",
      "source": [
        "In this code:\n",
        "\n",
        "-   `holy_hand_grenade` is a **string** variable holding a line of text.\n",
        "-   `number_of_knights` is an **integer** variable, suitable for whole numbers.\n",
        "-   `ni_shrubbery_height` is a **floating point** variable, used for numbers with decimals.\n",
        "-   `is_king_arthur` is a **boolean variable**, which can only be `True` or `False`.\n",
        "These variables are like different boxes, each labeled with its name and containing different types of data.\n",
        "\n",
        "Python also allows you to add **comments** in your code, which are lines that Python ignores. They start with a hash symbol (`#`) and are useful for explaining what the code does. This feature is particularly helpful for making your code readable and maintainable, both for others and for your future self."
      ],
      "metadata": {
        "id": "6Fr1TlKWSI_4"
      }
    },
    {
      "cell_type": "markdown",
      "source": [
        "## Discussion Questions: Intro to Programming\n",
        "1. Why is it important for programming languages to be formal and have strict rules, unlike natural languages like English?\n",
        "\n",
        "2. How does computational thinking help us solve problems outside of programming? Can you think of examples where you've used these skills in everyday life?\n",
        "\n",
        "3. Discuss the \"Hello, World!\" examples from different languages. How do their syntax and complexity differ? What does this tell us about the evolution of programming languages?\n",
        "\n",
        "4. How do you think generative AI tools like CoPilot and Codey will impact the future of programming? Do you see them as a replacement for human programmers or as a complementary tool?"
      ],
      "metadata": {
        "id": "BEr5AzZ-uHds"
      }
    },
    {
      "cell_type": "markdown",
      "source": [
        "## My Answers: Intro to Programming\n",
        "1.\n",
        "\n",
        "2.\n",
        "\n",
        "3.\n",
        "\n",
        "4."
      ],
      "metadata": {
        "id": "afLpaNuyuWo0"
      }
    },
    {
      "cell_type": "markdown",
      "source": [
        "## The `print()` Function\n",
        "\n",
        "In Python, the `print()` function is your primary tool for displaying text and other information on the screen. It's akin to telling Python, \"Please show this on the screen.\" The `print()` function is straightforward to use: you simply place what you want to be printed inside the parentheses.\n",
        "\n",
        "For example:"
      ],
      "metadata": {
        "id": "iRDA65nzTryM"
      }
    },
    {
      "cell_type": "code",
      "source": [
        "print(\"Brave Sir Robin ran away!\")"
      ],
      "metadata": {
        "colab": {
          "base_uri": "https://localhost:8080/"
        },
        "id": "-2OtoVSMSK4s",
        "outputId": "450dd17c-c78d-46f2-86a5-0834faa48f71"
      },
      "execution_count": 1,
      "outputs": [
        {
          "output_type": "stream",
          "name": "stdout",
          "text": [
            "Brave Sir Robin ran away!\n"
          ]
        }
      ]
    },
    {
      "cell_type": "markdown",
      "source": [
        "This line will display \"Brave Sir Robin ran away!\" on the screen.\n",
        "\n",
        "### String Concatenation\n",
        "\n",
        "**String concatenation** is essentially putting strings together, end-to-end. It's like taking separate words or sentences and joining them to form a longer sentence. In Python, you can concatenate strings using the `+` operator.\n",
        "\n",
        "For example, let's concatenate two strings:"
      ],
      "metadata": {
        "id": "b_CZq6-qTwhz"
      }
    },
    {
      "cell_type": "code",
      "source": [
        "first_part = \"Bravely bold Sir Robin\"\n",
        "second_part = \", rode forth from Camelot.\"\n",
        "\n",
        "full_sentence = first_part + second_part\n",
        "print(full_sentence)"
      ],
      "metadata": {
        "colab": {
          "base_uri": "https://localhost:8080/"
        },
        "id": "FUv-9R9kT4hy",
        "outputId": "66b13f7a-1bb5-40a0-c2c4-e6883cb483e4"
      },
      "execution_count": 2,
      "outputs": [
        {
          "output_type": "stream",
          "name": "stdout",
          "text": [
            "Bravely bold Sir Robin, rode forth from Camelot.\n"
          ]
        }
      ]
    },
    {
      "cell_type": "markdown",
      "source": [
        "This code will output: \"Bravely bold Sir Robin, rode forth from Camelot.\" Here, `first_part` and `second_part` are two separate strings that we join together using the `+` operator to form `full_sentence`.\n",
        "\n",
        "### F-Strings\n",
        "\n",
        "**F-strings**, short for \"formatted string literals,\" provide a more readable and concise way to create formatted strings. They were introduced in Python 3.6. You use f-strings by putting an `f` before the opening quotation mark of a string. Inside this string, you can place variables or expressions in curly braces `{}`, and Python will replace them with their values.\n",
        "\n",
        "For example:"
      ],
      "metadata": {
        "id": "45ZJ2LisUEjz"
      }
    },
    {
      "cell_type": "code",
      "source": [
        "knight = \"Lancelot\"\n",
        "quest = \"Holy Grail\"\n",
        "\n",
        "sentence = f\"Sir {knight} seeks the {quest}.\"\n",
        "print(sentence)"
      ],
      "metadata": {
        "colab": {
          "base_uri": "https://localhost:8080/"
        },
        "id": "tXCcP1HtUNfK",
        "outputId": "d680be60-cc05-4d95-dd11-7110285cb880"
      },
      "execution_count": 3,
      "outputs": [
        {
          "output_type": "stream",
          "name": "stdout",
          "text": [
            "Sir Lancelot seeks the Holy Grail.\n"
          ]
        }
      ]
    },
    {
      "cell_type": "markdown",
      "source": [
        "This will output: \"Sir Lancelot seeks the Holy Grail.\" The f-string `f\"Sir {knight} seeks the {quest}.\"` takes the values of the variables `knight` and `quest` and inserts them into the string.\n",
        "\n",
        "F-strings are very useful because they make it easy to include variables and expressions within a string. They help keep your code concise and improve readability, especially when you're dealing with multiple variables or more complex expressions.\n",
        "\n",
        "For further illustration, let's combine a string and a number using an f-string:"
      ],
      "metadata": {
        "id": "pf-SxFpBUUqA"
      }
    },
    {
      "cell_type": "code",
      "source": [
        "number_of_knights = 4\n",
        "message = f\"There are {number_of_knights} knights at the round table.\"\n",
        "print(message)"
      ],
      "metadata": {
        "colab": {
          "base_uri": "https://localhost:8080/"
        },
        "id": "prwneJdGUYWd",
        "outputId": "e94bc278-3632-4b6d-94c1-624efebb3356"
      },
      "execution_count": 4,
      "outputs": [
        {
          "output_type": "stream",
          "name": "stdout",
          "text": [
            "There are 4 knights at the round table.\n"
          ]
        }
      ]
    },
    {
      "cell_type": "markdown",
      "source": [
        "This will output: \"There are 4 knights at the round table.\" It demonstrates how f-strings can seamlessly integrate different types of data (like integers and strings) in a single readable sentence."
      ],
      "metadata": {
        "id": "v4xs6llsUd6K"
      }
    },
    {
      "cell_type": "markdown",
      "source": [
        "## Escape Characters in Python\n",
        "\n",
        "An **escape character** in Python is a backslash (`\\`) followed by the character you want to insert. The escape character allows you to use characters that are either impossible or hard to include in a string directly. For instance, it's used to insert new lines, tabs, or even a backslash itself into a string.\n",
        "\n",
        "Escape characters are essential because they extend the range of what can be represented within strings. They are particularly useful in dealing with strings that contain special characters or formatting.\n",
        "\n",
        "Here's a list of some commonly used escape characters:\n",
        "\n",
        "| Escape Character | Description |\n",
        "| --- | --- |\n",
        "| `\\n` | New line |\n",
        "| `\\t` | Horizontal tab |\n",
        "| `\\\\` | Backslash |\n",
        "| `\\'` | Single quote |\n",
        "| `\\\"` | Double quote |\n",
        "\n",
        "Let's see how these escape characters are used in Python strings:"
      ],
      "metadata": {
        "id": "pWPLYh-trVtU"
      }
    },
    {
      "cell_type": "code",
      "source": [
        "# Escape characters in strings\n",
        "\n",
        "# New line\n",
        "print(\"First Line\\nSecond Line\")\n",
        "\n",
        "# Horizontal tab\n",
        "print(\"Name:\\tArthur\")\n",
        "\n",
        "# Backslash\n",
        "print(\"Path to the file: C:\\\\Users\\\\Arthur\")\n",
        "\n",
        "# Single quote\n",
        "print('It\\'s just a flesh wound!')\n",
        "\n",
        "# Double quote\n",
        "print(\"The knight said, \\\"Ni!\\\"\")"
      ],
      "metadata": {
        "colab": {
          "base_uri": "https://localhost:8080/"
        },
        "id": "mPPWl-J7rZSV",
        "outputId": "43d07726-68e6-4171-953f-eb3405fba019"
      },
      "execution_count": 1,
      "outputs": [
        {
          "output_type": "stream",
          "name": "stdout",
          "text": [
            "First Line\n",
            "Second Line\n",
            "Name:\tArthur\n",
            "Path to the file: C:\\Users\\Arthur\n",
            "It's just a flesh wound!\n",
            "The knight said, \"Ni!\"\n"
          ]
        }
      ]
    },
    {
      "cell_type": "markdown",
      "source": [
        "## Basic Arithmetic Operations in Python\n",
        "\n",
        "Python simplifies arithmetic operations, making them intuitive and accessible, especially for beginners. These operations are fundamental to any programming language and are particularly crucial in Python for handling numerical data and performing calculations. Whether you're doing simple addition or more complex mathematical computations, understanding these basic operations is essential. Python supports a range of arithmetic operations, each represented by a specific symbol, commonly known as an operator.\n",
        "\n",
        "| Operation | Symbol | Description |\n",
        "| --- | --- | --- |\n",
        "| Addition | `+` | Adds two numbers |\n",
        "| Subtraction | `-` | Subtracts the second number from the first |\n",
        "| Multiplication | `*` | Multiplies two numbers |\n",
        "| Division | `/` | Divides the first number by the second |\n",
        "| Integer Division | `//` | Divides and rounds down to the nearest whole number |\n",
        "| Modulus | `%` | Returns the remainder of the division |\n",
        "| Exponentiation | `**` | Raises the first number to the power of the second |\n",
        "\n",
        "### Arithmetic in Action\n",
        "\n",
        "Now, let's see these operations in action with a Python code block:"
      ],
      "metadata": {
        "id": "YHb2MSf3VolS"
      }
    },
    {
      "cell_type": "code",
      "source": [
        "# Demonstrating basic arithmetic operations using f-strings in Python\n",
        "\n",
        "# Addition\n",
        "print(f\"Sum (10 + 5): {10 + 5}\")\n",
        "\n",
        "# Subtraction\n",
        "print(f\"Difference (10 - 5): {10 - 5}\")\n",
        "\n",
        "# Multiplication\n",
        "print(f\"Product (10 * 5): {10 * 5}\")\n",
        "\n",
        "# Division\n",
        "print(f\"Quotient (10 / 5): {10 / 5}\")\n",
        "\n",
        "# Integer Division\n",
        "print(f\"Integer Division (10 // 3): {10 // 3}\")\n",
        "\n",
        "# Modulus\n",
        "print(f\"Remainder (10 % 3): {10 % 3}\")\n",
        "\n",
        "# Exponentiation\n",
        "print(f\"Exponentiation (10 ** 3): {10 ** 3}\")\n"
      ],
      "metadata": {
        "colab": {
          "base_uri": "https://localhost:8080/"
        },
        "id": "wNj9-4AVVsbW",
        "outputId": "7ed505d9-341c-44b9-ac34-db16244d97e3"
      },
      "execution_count": 5,
      "outputs": [
        {
          "output_type": "stream",
          "name": "stdout",
          "text": [
            "Sum (10 + 5): 15\n",
            "Difference (10 - 5): 5\n",
            "Product (10 * 5): 50\n",
            "Quotient (10 / 5): 2.0\n",
            "Integer Division (10 // 3): 3\n",
            "Remainder (10 % 3): 1\n",
            "Exponentiation (10 ** 3): 1000\n"
          ]
        }
      ]
    },
    {
      "cell_type": "markdown",
      "source": [
        "## Basic String Operations in Python\n",
        "Strings in Python are sequences of characters enclosed in quotes (either single, double, or triple quotes for multi-line strings). They are immutable, meaning once a string is created, its characters cannot be changed. However, Python provides a rich set of operations and methods to work with strings, enabling programmers to perform a variety of tasks like combining strings, extracting parts of strings, and modifying their case.\n",
        "\n",
        "| Operation | Description |\n",
        "| --- | --- |\n",
        "| `s1 + s2` (Concatenation) | Combining two or more strings into one |\n",
        "| `s[n]` (Slicing) | Extracting a part of the string s starting at position n. Python starts counting at 0 |\n",
        "| `len(s)` (Length) | Determining the number of characters in a string |\n",
        "| `s.upper()`, `s.lower()` | Changing the case of the string |\n",
        "| `s.strip()` | Removing whitespaces from the start and end of a string |\n",
        "| `s.replace(old, new)` | Replacing parts of the string with another string |\n",
        "| `s.split(separator)` | Dividing the string into a list based on a separator |\n",
        "\n"
      ],
      "metadata": {
        "id": "d_3m1bhjWbFu"
      }
    },
    {
      "cell_type": "code",
      "source": [
        "# Basic string operations in Python\n",
        "\n",
        "# Concatenation\n",
        "greeting = \"Hello\"\n",
        "name = \"Arthur\"\n",
        "full_greeting = greeting + \", \" + name + \"!\"\n",
        "print(f\"Concatenated String: {full_greeting}\")"
      ],
      "metadata": {
        "colab": {
          "base_uri": "https://localhost:8080/"
        },
        "id": "87AEzqjjWaNA",
        "outputId": "6f8edded-cbf3-4c43-b4df-d099217b9100"
      },
      "execution_count": 6,
      "outputs": [
        {
          "output_type": "stream",
          "name": "stdout",
          "text": [
            "Concatenated String: Hello, Arthur!\n"
          ]
        }
      ]
    },
    {
      "cell_type": "code",
      "source": [
        "# Slicing\n",
        "quote = \"Ni! We are the knights who say Ni!\"\n",
        "slice = quote[4:23]\n",
        "print(f\"Sliced String: {slice}\")\n"
      ],
      "metadata": {
        "colab": {
          "base_uri": "https://localhost:8080/"
        },
        "id": "JsSKETtSXKZC",
        "outputId": "b5737c9c-3889-41cf-ef10-02d27f461607"
      },
      "execution_count": 7,
      "outputs": [
        {
          "output_type": "stream",
          "name": "stdout",
          "text": [
            "Sliced String: We are the knights \n"
          ]
        }
      ]
    },
    {
      "cell_type": "code",
      "source": [
        "# Length\n",
        "length = len(quote)\n",
        "print(f\"Length of String: {length}\")"
      ],
      "metadata": {
        "colab": {
          "base_uri": "https://localhost:8080/"
        },
        "id": "XFFb57A1XKjs",
        "outputId": "5883fdee-45dc-4696-ac96-46664349b365"
      },
      "execution_count": 8,
      "outputs": [
        {
          "output_type": "stream",
          "name": "stdout",
          "text": [
            "Length of String: 34\n"
          ]
        }
      ]
    },
    {
      "cell_type": "code",
      "source": [
        "# Upper/Lower Case\n",
        "upper_case = quote.upper()\n",
        "lower_case = quote.lower()\n",
        "print(f\"Upper Case: {upper_case}\")\n",
        "print(f\"Lower Case: {lower_case}\")"
      ],
      "metadata": {
        "colab": {
          "base_uri": "https://localhost:8080/"
        },
        "id": "6prohZTFXRIy",
        "outputId": "f427816d-470a-4786-f1e7-432f50669fe7"
      },
      "execution_count": 9,
      "outputs": [
        {
          "output_type": "stream",
          "name": "stdout",
          "text": [
            "Upper Case: NI! WE ARE THE KNIGHTS WHO SAY NI!\n",
            "Lower Case: ni! we are the knights who say ni!\n"
          ]
        }
      ]
    },
    {
      "cell_type": "code",
      "source": [
        "# Stripping\n",
        "whitespace_str = \"   Ni!   \"\n",
        "stripped_str = whitespace_str.strip()\n",
        "print(f\"Stripped String: '{stripped_str}'\")"
      ],
      "metadata": {
        "colab": {
          "base_uri": "https://localhost:8080/"
        },
        "id": "BI_pI3SoXThh",
        "outputId": "b18feaf7-2070-4594-934a-c2cff9c7aa0c"
      },
      "execution_count": 10,
      "outputs": [
        {
          "output_type": "stream",
          "name": "stdout",
          "text": [
            "Stripped String: 'Ni!'\n"
          ]
        }
      ]
    },
    {
      "cell_type": "code",
      "source": [
        "# Replace\n",
        "replaced_str = quote.replace(\"Ni\", \"Ekki-Ekki-Ekki\")\n",
        "print(f\"Replaced String: {replaced_str}\")"
      ],
      "metadata": {
        "colab": {
          "base_uri": "https://localhost:8080/"
        },
        "id": "BHXFz9LXXVJD",
        "outputId": "a4174dac-f083-489a-8d4b-425219a95b14"
      },
      "execution_count": 11,
      "outputs": [
        {
          "output_type": "stream",
          "name": "stdout",
          "text": [
            "Replaced String: Ekki-Ekki-Ekki! We are the knights who say Ekki-Ekki-Ekki!\n"
          ]
        }
      ]
    },
    {
      "cell_type": "code",
      "source": [
        "# Split\n",
        "split_str = quote.split(\" \")\n",
        "print(f\"Split String: {split_str}\")"
      ],
      "metadata": {
        "colab": {
          "base_uri": "https://localhost:8080/"
        },
        "id": "mORvqBdNXVQk",
        "outputId": "9d7daecc-e700-41aa-d724-704714dc506c"
      },
      "execution_count": 12,
      "outputs": [
        {
          "output_type": "stream",
          "name": "stdout",
          "text": [
            "Split String: ['Ni!', 'We', 'are', 'the', 'knights', 'who', 'say', 'Ni!']\n"
          ]
        }
      ]
    },
    {
      "cell_type": "markdown",
      "source": [
        "## Exercises: Printing\n",
        "\n",
        "1. Create a variable containing your name as a string and print a greeting message using this variable.\n",
        "\n",
        "2. Create a variable containing a famous quote that you like. Use an f-string to insert this quote into a longer sentence and print it.\n",
        "\n",
        "3. Create a string containing a quotation from a book or movie (it can be the same quote from above). Use string methods to change it to uppercase, then to lowercase, and finally replace a specific word in the string. Print each variation.\n",
        "\n",
        "4. Declare three different numerical variables that are related to something that interest you. Now, show how you can print the results of doing arithmetic operations using these variables."
      ],
      "metadata": {
        "id": "EPtMvgvNwBpp"
      }
    },
    {
      "cell_type": "code",
      "source": [],
      "metadata": {
        "id": "12qcA2b5UeNz"
      },
      "execution_count": null,
      "outputs": []
    }
  ]
}