{
  "nbformat": 4,
  "nbformat_minor": 0,
  "metadata": {
    "colab": {
      "provenance": [],
      "authorship_tag": "ABX9TyM2SIw/qPlyra+MHQ0l9I2g",
      "include_colab_link": true
    },
    "kernelspec": {
      "name": "python3",
      "display_name": "Python 3"
    },
    "language_info": {
      "name": "python"
    }
  },
  "cells": [
    {
      "cell_type": "markdown",
      "metadata": {
        "id": "view-in-github",
        "colab_type": "text"
      },
      "source": [
        "<a href=\"https://colab.research.google.com/github/brendanpshea/programming_problem_solving/blob/main/Programming_01_Intro.ipynb\" target=\"_parent\"><img src=\"https://colab.research.google.com/assets/colab-badge.svg\" alt=\"Open In Colab\"/></a>"
      ]
    },
    {
      "cell_type": "markdown",
      "source": [
        "# What is Programming?\n",
        "\n",
        "**Programming** involves creating an executable computer program to achieve a specific computational task.\n",
        "\n",
        "At the foundation of programming lies the concept of a **computer**, an electronic device designed to process data based on a set of instructions. These instructions, known as a **program**, enable computers to perform a diverse array of tasks, ranging from simple arithmetic operations to complex simulations. The essence of these instructions is encapsulated in **algorithms**, which are systematic sequences of steps or rules formulated to solve specific problems. In programming, algorithms are akin to recipes in a cookbook; they provide a methodical approach for a computer program to process inputs and generate the desired outputs.\n",
        "\n",
        "The medium through which these algorithms are communicated to computers is through formal languages, or programming languages. Unlike **natural languages** (like English, Spanish, Chinese, etc.) that are rich, ambiguous, and constantly evolving, **formal languages** are characterized by a fixed set of symbols and strict syntactic and semantic rules. This precision and lack of ambiguity are crucial, as they ensure that instructions are conveyed to computers without misinterpretation. In contrast, natural languages, which we use for everyday communication, exhibit a flexibility and nuance that formal languages intentionally avoid. The skill in programming, therefore, lies in effectively translating the fluidity of human thoughts and problems, typically articulated in natural language, into the rigid and precise structure of a formal language that a computer can interpret and execute.\n",
        "\n",
        "This translation process is deeply rooted in **computational thinking**, a problem-solving approach that draws on concepts from computer science. Computational thinking involves breaking down complex problems into more manageable parts (decomposition), identifying patterns and trends (pattern recognition), focusing on the essential elements of the problem (abstraction), and devising step-by-step solutions (algorithmic thinking). The significance of programming in problem-solving is profound. It enables us to convert intricate and often abstract problems into a form that can be systematically and efficiently processed by a computer. This capability not only makes solving elaborate problems feasible but also enhances the efficiency and accuracy of the solutions.\n",
        "\n",
        "In the contemporary world, the impact of programming is ubiquitous, cutting across various fields. It ranges from developing business software for data management to simulating intricate scientific phenomena, and even to crafting algorithms in the realm of artificial intelligence. The discipline of programming promotes a logical, systematic, and often innovative approach to problem-solving, rendering it an indispensable skill in both academic research and practical applications. This blend of logical structure and creative problem-solving is what makes programming a fascinating and essential field in the modern era of technology."
      ],
      "metadata": {
        "id": "0mfMBuOhL6lc"
      }
    },
    {
      "cell_type": "markdown",
      "source": [
        "## Why Python?\n",
        "In this book, we'll begin with the Python language, which is well-known for its readability and ease of use. It's also a widely used \"modern\" programming language used in many, many different types of setting. First, though, its worth saying a bit about where Python \"came from\" in the first place.\n",
        "\n",
        "The journey of programming languages began with low-level languages, like **machine code** and **assembly language**. These languages are closely tied to the hardware architecture, making them efficient but extremely difficult for humans to use and understand. To bridge this gap, **high-level languages** were developed. These languages, which include FORTRAN and COBOL, allowed programmers to write code using more natural language elements. However, they still had complexities that made them less accessible to beginners.\n",
        "\n",
        "The advent of structured programming in the 1970s, with languages like C, marked a significant step forward. **C** introduced a syntax and control structures that influenced many languages that followed. Despite its power, C's complexity and potential for errors (like memory management issues) posed challenges for beginners.\n",
        "\n",
        "The 1980s and 1990s saw the emergence of **object-oriented programming (OOP)**, a paradigm that represents concepts as \"objects\" with data fields and associated procedures known as methods. Java, developed in the mid-90s, became one of the most prominent OOP languages, known for its \"write once, run anywhere\" philosophy. Java's design was a response to the complexities and platform dependencies prevalent in programming at the time. It offered a balance of readability, structure, and versatility, making it ideal for large-scale applications. However, its verbose syntax can be daunting for beginners.\n",
        "\n",
        "In this evolutionary landscape, **Python** emerged in the late 1980s, developed by Guido van Rossum. Python was designed with a focus on code readability and simplicity, making it an excellent choice for beginners. Its syntax is clean and intuitive, often described as almost \"English-like\". This readability makes Python an ideal teaching tool, allowing students to grasp programming concepts without getting bogged down in complex syntax.\n",
        "\n",
        "Python is also a multi-paradigm language, supporting procedural, object-oriented, and to some extent, functional programming styles. This flexibility allows beginners to explore different programming paradigms without switching languages. Additionally, Python has a vast and active community, which provides an abundance of resources and libraries, making it easier for beginners to find help and extend the language's capabilities.\n",
        "\n",
        "For these reasons, Python serves as an optimal entry point for those new to programming, laying a foundation of concepts and practices that are transferable to more complex languages like Java. Its design philosophy encapsulates the evolution of programming languages towards making technology more approachable and adaptable, fitting well within the modern landscape of software development."
      ],
      "metadata": {
        "id": "r3OHe-eBNJVK"
      }
    },
    {
      "cell_type": "markdown",
      "source": [
        "## Hello World: Five Different Versions\n",
        "While we'll be focusing on Python for the next few chapters, it's important to remember that Python is just one of hundreds of different programming languages. For example, here is how a \"Hello, World!\" program looks in some of the most historically important programming languages.\n",
        "\n",
        "### Assembly Language (x86 Assembly)\n",
        "\n",
        "```asm\n",
        "    section .data\n",
        "        msg db 'Hello, World!',0xA  ; Define a string followed by a new line character\n",
        "\n",
        "    section .text\n",
        "        global _start\n",
        "\n",
        "    _start:\n",
        "        mov edx,13             ; Number of bytes to write\n",
        "        mov ecx,msg            ; Pointer to the message\n",
        "        mov ebx,1              ; File descriptor (stdout)\n",
        "        mov eax,4              ; System call number (sys_write)\n",
        "        int 0x80               ; Call kernel\n",
        "\n",
        "        mov eax,1              ; System call number for exit\n",
        "        int 0x80               ; Call kernel\n",
        "  \n",
        "```\n",
        "Assembly language is close to the hardware level and requires explicit handling of memory and system calls.\n",
        "\n",
        "### FORTRAN\n",
        "\n",
        "```fortran\n",
        "    program hello\n",
        "        print *, 'Hello, World!'\n",
        "    end program hello\n",
        "```\n",
        "FORTRAN, one of the earliest high-level languages, was designed for numerical and scientific computing.\n",
        "\n",
        "\n",
        "###  C\n",
        "\n",
        "```c\n",
        "    #include <stdio.h>\n",
        "\n",
        "    int main() {\n",
        "        printf(\"Hello, World!\\n\"); // Print the message to stdout\n",
        "        return 0;\n",
        "    }\n",
        "```\n",
        "C is a foundational language that introduced many concepts used in later languages, balancing low-level access with high-level abstractions.\n",
        "\n",
        "### Java\n",
        "\n",
        "```java\n",
        "    public class HelloWorld {\n",
        "        public static void main(String[] args) {\n",
        "            System.out.println(\"Hello, World!\"); // Print the message to the console\n",
        "        }\n",
        "    }\n",
        "```\n",
        "Java, an object-oriented language, introduced the concept of writing once and running anywhere, abstracting away hardware details.\n",
        "\n",
        "### Python\n",
        "\n",
        "```python\n",
        "    print(\"Hello, World!\")  # Simple command to print the message to stdout\n",
        "```\n",
        "Python exemplifies high-level abstraction with its straightforward syntax and ease of use, making it ideal for beginners.\n",
        "\n",
        "The concept of **abstraction** in programming languages refers to the way languages hide the complexity of the underlying systems, allowing programmers to focus on higher-level problems rather than low-level operations like memory management or hardware interactions. Lower-level languages like Assembly require the programmer to manage nearly every aspect of the computer's operation, offering fine-grained control but at the cost of complexity. As languages evolved, they abstracted away these details, allowing programmers to write code more intuitively and efficiently.\n",
        "\n",
        "High-level languages like Python and Java offer significant abstraction, handling many of the complex aspects of computing internally and allowing programmers to write code that is more focused on the problem they are trying to solve rather than the minutiae of the computer's operation. This evolution reflects a shift in programming, focusing more on solving complex problems and building sophisticated systems without needing to manage every low-level detail."
      ],
      "metadata": {
        "id": "g1w4sNT3PU2d"
      }
    },
    {
      "cell_type": "markdown",
      "source": [
        "## What is a Variable?\n",
        "A **variable** is like a labeled box where you can store various types of items, each with a unique label for easy reference. This analogy helps us understand how variables work in a more tangible way.\n",
        "\n",
        "When you declare a variable in Python, you're essentially creating a labeled box to store specific data. The beauty of Python is that you don't need to specify what type of data (like numbers, text, or others) you'll store in it beforehand -- Python figures that out for you. This characteristic of Python is known as being dynamically typed.\n",
        "\n",
        "Let's create a few Python variables with different types of data, with a \"Monty Python\" theme (a British Comedy show that gave the programming language its name):"
      ],
      "metadata": {
        "id": "sg_WUZ8FR8m8"
      }
    },
    {
      "cell_type": "code",
      "source": [
        "# String variable\n",
        "holy_hand_grenade = \"Three shall be the number thou shalt count.\"\n",
        "\n",
        "# Integer variable\n",
        "number_of_knights = 4\n",
        "\n",
        "# Floating point variable\n",
        "ni_shrubbery_height = 1.5\n",
        "\n",
        "# Boolean variable\n",
        "is_king_arthur = True\n"
      ],
      "metadata": {
        "id": "N8BoEr-WMWdk"
      },
      "execution_count": null,
      "outputs": []
    },
    {
      "cell_type": "markdown",
      "source": [
        "In this code:\n",
        "\n",
        "-   `holy_hand_grenade` is a **string** variable holding a line of text.\n",
        "-   `number_of_knights` is an **integer** variable, suitable for whole numbers.\n",
        "-   `ni_shrubbery_height` is a **floating point** variable, used for numbers with decimals.\n",
        "-   `is_king_arthur` is a **boolean variable**, which can only be `True` or `False`.\n",
        "These variables are like different boxes, each labeled with its name and containing different types of data.\n",
        "\n",
        "Python also allows you to add **comments** in your code, which are lines that Python ignores. They start with a hash symbol (`#`) and are useful for explaining what the code does. This feature is particularly helpful for making your code readable and maintainable, both for others and for your future self."
      ],
      "metadata": {
        "id": "6Fr1TlKWSI_4"
      }
    },
    {
      "cell_type": "code",
      "source": [],
      "metadata": {
        "id": "-2OtoVSMSK4s"
      },
      "execution_count": null,
      "outputs": []
    }
  ]
}