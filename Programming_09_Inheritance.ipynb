{
  "nbformat": 4,
  "nbformat_minor": 0,
  "metadata": {
    "colab": {
      "provenance": [],
      "authorship_tag": "ABX9TyO0eyb+VIAU6ZDEAGbEspA8",
      "include_colab_link": true
    },
    "kernelspec": {
      "name": "python3",
      "display_name": "Python 3"
    },
    "language_info": {
      "name": "python"
    },
    "widgets": {
      "application/vnd.jupyter.widget-state+json": {
        "6f197b1195a94ea7a5fc64e02a2c62e4": {
          "model_module": "@jupyter-widgets/controls",
          "model_name": "HBoxModel",
          "model_module_version": "1.5.0",
          "state": {
            "_dom_classes": [],
            "_model_module": "@jupyter-widgets/controls",
            "_model_module_version": "1.5.0",
            "_model_name": "HBoxModel",
            "_view_count": null,
            "_view_module": "@jupyter-widgets/controls",
            "_view_module_version": "1.5.0",
            "_view_name": "HBoxView",
            "box_style": "",
            "children": [
              "IPY_MODEL_d6576cbaec3745cf8a7d20b1814d025d",
              "IPY_MODEL_0125e03e0f4d48748774f01715ac64e5",
              "IPY_MODEL_aee26d7a25724760a6d8f7f5d20aad4f"
            ],
            "layout": "IPY_MODEL_4ed24f8071034624be353b69124688e5"
          }
        },
        "d6576cbaec3745cf8a7d20b1814d025d": {
          "model_module": "@jupyter-widgets/controls",
          "model_name": "ButtonModel",
          "model_module_version": "1.5.0",
          "state": {
            "_dom_classes": [],
            "_model_module": "@jupyter-widgets/controls",
            "_model_module_version": "1.5.0",
            "_model_name": "ButtonModel",
            "_view_count": null,
            "_view_module": "@jupyter-widgets/controls",
            "_view_module_version": "1.5.0",
            "_view_name": "ButtonView",
            "button_style": "",
            "description": "True",
            "disabled": false,
            "icon": "",
            "layout": "IPY_MODEL_2ee45b32edb8409d8328128f3d1f5d25",
            "style": "IPY_MODEL_aea95b68a9d54f4bab58b8ecea4d3ba8",
            "tooltip": ""
          }
        },
        "0125e03e0f4d48748774f01715ac64e5": {
          "model_module": "@jupyter-widgets/controls",
          "model_name": "ButtonModel",
          "model_module_version": "1.5.0",
          "state": {
            "_dom_classes": [],
            "_model_module": "@jupyter-widgets/controls",
            "_model_module_version": "1.5.0",
            "_model_name": "ButtonModel",
            "_view_count": null,
            "_view_module": "@jupyter-widgets/controls",
            "_view_module_version": "1.5.0",
            "_view_name": "ButtonView",
            "button_style": "",
            "description": "False",
            "disabled": false,
            "icon": "",
            "layout": "IPY_MODEL_f34a824f32ea4783a95189bdc10187c2",
            "style": "IPY_MODEL_a3c482038ba94166acf9c46b74eaf8f7",
            "tooltip": ""
          }
        },
        "aee26d7a25724760a6d8f7f5d20aad4f": {
          "model_module": "@jupyter-widgets/controls",
          "model_name": "ButtonModel",
          "model_module_version": "1.5.0",
          "state": {
            "_dom_classes": [],
            "_model_module": "@jupyter-widgets/controls",
            "_model_module_version": "1.5.0",
            "_model_name": "ButtonModel",
            "_view_count": null,
            "_view_module": "@jupyter-widgets/controls",
            "_view_module_version": "1.5.0",
            "_view_name": "ButtonView",
            "button_style": "",
            "description": "Quit",
            "disabled": false,
            "icon": "",
            "layout": "IPY_MODEL_79ab3e958fec41d7935d6999347d542d",
            "style": "IPY_MODEL_6288d2a4276b4570828498983408c55a",
            "tooltip": ""
          }
        },
        "4ed24f8071034624be353b69124688e5": {
          "model_module": "@jupyter-widgets/base",
          "model_name": "LayoutModel",
          "model_module_version": "1.2.0",
          "state": {
            "_model_module": "@jupyter-widgets/base",
            "_model_module_version": "1.2.0",
            "_model_name": "LayoutModel",
            "_view_count": null,
            "_view_module": "@jupyter-widgets/base",
            "_view_module_version": "1.2.0",
            "_view_name": "LayoutView",
            "align_content": null,
            "align_items": null,
            "align_self": null,
            "border": null,
            "bottom": null,
            "display": null,
            "flex": null,
            "flex_flow": null,
            "grid_area": null,
            "grid_auto_columns": null,
            "grid_auto_flow": null,
            "grid_auto_rows": null,
            "grid_column": null,
            "grid_gap": null,
            "grid_row": null,
            "grid_template_areas": null,
            "grid_template_columns": null,
            "grid_template_rows": null,
            "height": null,
            "justify_content": null,
            "justify_items": null,
            "left": null,
            "margin": null,
            "max_height": null,
            "max_width": null,
            "min_height": null,
            "min_width": null,
            "object_fit": null,
            "object_position": null,
            "order": null,
            "overflow": null,
            "overflow_x": null,
            "overflow_y": null,
            "padding": null,
            "right": null,
            "top": null,
            "visibility": null,
            "width": null
          }
        },
        "2ee45b32edb8409d8328128f3d1f5d25": {
          "model_module": "@jupyter-widgets/base",
          "model_name": "LayoutModel",
          "model_module_version": "1.2.0",
          "state": {
            "_model_module": "@jupyter-widgets/base",
            "_model_module_version": "1.2.0",
            "_model_name": "LayoutModel",
            "_view_count": null,
            "_view_module": "@jupyter-widgets/base",
            "_view_module_version": "1.2.0",
            "_view_name": "LayoutView",
            "align_content": null,
            "align_items": null,
            "align_self": null,
            "border": null,
            "bottom": null,
            "display": null,
            "flex": null,
            "flex_flow": null,
            "grid_area": null,
            "grid_auto_columns": null,
            "grid_auto_flow": null,
            "grid_auto_rows": null,
            "grid_column": null,
            "grid_gap": null,
            "grid_row": null,
            "grid_template_areas": null,
            "grid_template_columns": null,
            "grid_template_rows": null,
            "height": null,
            "justify_content": null,
            "justify_items": null,
            "left": null,
            "margin": null,
            "max_height": null,
            "max_width": null,
            "min_height": null,
            "min_width": null,
            "object_fit": null,
            "object_position": null,
            "order": null,
            "overflow": null,
            "overflow_x": null,
            "overflow_y": null,
            "padding": null,
            "right": null,
            "top": null,
            "visibility": null,
            "width": null
          }
        },
        "aea95b68a9d54f4bab58b8ecea4d3ba8": {
          "model_module": "@jupyter-widgets/controls",
          "model_name": "ButtonStyleModel",
          "model_module_version": "1.5.0",
          "state": {
            "_model_module": "@jupyter-widgets/controls",
            "_model_module_version": "1.5.0",
            "_model_name": "ButtonStyleModel",
            "_view_count": null,
            "_view_module": "@jupyter-widgets/base",
            "_view_module_version": "1.2.0",
            "_view_name": "StyleView",
            "button_color": null,
            "font_weight": ""
          }
        },
        "f34a824f32ea4783a95189bdc10187c2": {
          "model_module": "@jupyter-widgets/base",
          "model_name": "LayoutModel",
          "model_module_version": "1.2.0",
          "state": {
            "_model_module": "@jupyter-widgets/base",
            "_model_module_version": "1.2.0",
            "_model_name": "LayoutModel",
            "_view_count": null,
            "_view_module": "@jupyter-widgets/base",
            "_view_module_version": "1.2.0",
            "_view_name": "LayoutView",
            "align_content": null,
            "align_items": null,
            "align_self": null,
            "border": null,
            "bottom": null,
            "display": null,
            "flex": null,
            "flex_flow": null,
            "grid_area": null,
            "grid_auto_columns": null,
            "grid_auto_flow": null,
            "grid_auto_rows": null,
            "grid_column": null,
            "grid_gap": null,
            "grid_row": null,
            "grid_template_areas": null,
            "grid_template_columns": null,
            "grid_template_rows": null,
            "height": null,
            "justify_content": null,
            "justify_items": null,
            "left": null,
            "margin": null,
            "max_height": null,
            "max_width": null,
            "min_height": null,
            "min_width": null,
            "object_fit": null,
            "object_position": null,
            "order": null,
            "overflow": null,
            "overflow_x": null,
            "overflow_y": null,
            "padding": null,
            "right": null,
            "top": null,
            "visibility": null,
            "width": null
          }
        },
        "a3c482038ba94166acf9c46b74eaf8f7": {
          "model_module": "@jupyter-widgets/controls",
          "model_name": "ButtonStyleModel",
          "model_module_version": "1.5.0",
          "state": {
            "_model_module": "@jupyter-widgets/controls",
            "_model_module_version": "1.5.0",
            "_model_name": "ButtonStyleModel",
            "_view_count": null,
            "_view_module": "@jupyter-widgets/base",
            "_view_module_version": "1.2.0",
            "_view_name": "StyleView",
            "button_color": null,
            "font_weight": ""
          }
        },
        "79ab3e958fec41d7935d6999347d542d": {
          "model_module": "@jupyter-widgets/base",
          "model_name": "LayoutModel",
          "model_module_version": "1.2.0",
          "state": {
            "_model_module": "@jupyter-widgets/base",
            "_model_module_version": "1.2.0",
            "_model_name": "LayoutModel",
            "_view_count": null,
            "_view_module": "@jupyter-widgets/base",
            "_view_module_version": "1.2.0",
            "_view_name": "LayoutView",
            "align_content": null,
            "align_items": null,
            "align_self": null,
            "border": null,
            "bottom": null,
            "display": null,
            "flex": null,
            "flex_flow": null,
            "grid_area": null,
            "grid_auto_columns": null,
            "grid_auto_flow": null,
            "grid_auto_rows": null,
            "grid_column": null,
            "grid_gap": null,
            "grid_row": null,
            "grid_template_areas": null,
            "grid_template_columns": null,
            "grid_template_rows": null,
            "height": null,
            "justify_content": null,
            "justify_items": null,
            "left": null,
            "margin": null,
            "max_height": null,
            "max_width": null,
            "min_height": null,
            "min_width": null,
            "object_fit": null,
            "object_position": null,
            "order": null,
            "overflow": null,
            "overflow_x": null,
            "overflow_y": null,
            "padding": null,
            "right": null,
            "top": null,
            "visibility": null,
            "width": null
          }
        },
        "6288d2a4276b4570828498983408c55a": {
          "model_module": "@jupyter-widgets/controls",
          "model_name": "ButtonStyleModel",
          "model_module_version": "1.5.0",
          "state": {
            "_model_module": "@jupyter-widgets/controls",
            "_model_module_version": "1.5.0",
            "_model_name": "ButtonStyleModel",
            "_view_count": null,
            "_view_module": "@jupyter-widgets/base",
            "_view_module_version": "1.2.0",
            "_view_name": "StyleView",
            "button_color": null,
            "font_weight": ""
          }
        }
      }
    }
  },
  "cells": [
    {
      "cell_type": "markdown",
      "metadata": {
        "id": "view-in-github",
        "colab_type": "text"
      },
      "source": [
        "<a href=\"https://colab.research.google.com/github/brendanpshea/programming_problem_solving/blob/main/Programming_09_Inheritance.ipynb\" target=\"_parent\"><img src=\"https://colab.research.google.com/assets/colab-badge.svg\" alt=\"Open In Colab\"/></a>"
      ]
    },
    {
      "cell_type": "markdown",
      "source": [
        "# Inheritance and Polymorphism\n",
        "In this chapter, we will learn about **inheritance** and **polymorphism**, two important concepts in object-oriented programming (OOP) in Java. Inheritance allows us to create new classes that are based on existing classes, inheriting their properties and methods. Polymorphism allows us to use objects of different classes interchangeably, as if they were objects of a common superclass. These concepts help us to create more modular, flexible, and reusable code.\n",
        "\n",
        "Throughout this chapter, we will be using a case study to illustrate the concepts of inheritance and polymorphism. We will be building software to manage a humane society, an organization that cares for animals and helps them find homes. The software will need to keep track of information about the animals, such as their breed, age, and medical history, as well as information about the people who adopt them. We will design classes to represent animals, people, and other entities involved in the humane society, and we will use inheritance and polymorphism to organize these classes and enable code reuse.\n",
        "\n",
        "For example, we might have a class called Animal that represents all animals at the humane society. This class could have attributes such as name, breed, and age, and shared methods such as `getWeight()` and `setAage()`. We could then create subclasses of Animal to represent specific types of animals, such as Dog and Cat. These subclasses could inherit the properties and methods of the Animal class, but they could also have additional properties and methods that are specific to their type.\n",
        "\n",
        "By using inheritance and polymorphism, we can create a hierarchy of classes that represents the relationships between different entities in the humane society, and we can write code that is more modular, flexible, and reusable."
      ],
      "metadata": {
        "id": "wrmKDhBCoKVl"
      }
    },
    {
      "cell_type": "markdown",
      "source": [
        "![super_pets.jpg](data:image/jpeg;base64,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)"
      ],
      "metadata": {
        "id": "i-bWs0XoY3V5"
      }
    },
    {
      "cell_type": "markdown",
      "source": [
        "## Object-Oriented Programmign at the Humane Society\n",
        "As we previously learned, in object-oriented programming (OOP), we use classes to define the properties and behavior of objects. A class is like a blueprint for creating objects, and it defines a set of attributes (data) and methods (functions) that the objects of that class will have.\n",
        "\n",
        "For example, at the humane society we might have clases such as the follows:\n",
        "\n",
        "-   `Animal` - Represents all animals at the humane society. This class might have attributes such as name, breed, age, and medical history, and methods such as eat() and sleep().\n",
        "-   `Dog` - Represents dogs at the humane society. This class could inherit from the Animal class, and it might have additional attributes such as leash trained and good with kids, and methods such as bark() and playFetch().\n",
        "-   `Cat` - Represents cats at the humane society. This class could also inherit from the Animal class, and it might have additional attributes such as declawed and litter trained, and methods such as meow() and purr().\n",
        "-   `Person` - Represents people involved with the humane society, such as staff, volunteers, and adopters. This class might have attributes such as name, address, and phone number, and methods such as adoptAnimal() and volunteer().\n",
        "-   `Adoption` - Represents an adoption of an animal by a person. This class might have attributes such as adoption date and adoption fee, and methods such as processAdoption() and completeAdoption()."
      ],
      "metadata": {
        "id": "LkvSlFC_pT7b"
      }
    },
    {
      "cell_type": "markdown",
      "source": [
        "## Creating and Instanitating Classes (Review)\n",
        "In Java, the general expectation is that everything belongs to some \"class\" or other. Here's the basic idea:\n",
        "\n",
        "-   A class is a blueprint or template that defines the properties (attributes) and behaviors (methods) that an object of that class will have.\n",
        "-   To create a class in Java, you use the `class` keyword followed by the name of the class.\n",
        "-   The class definition includes the attributes (also known as fields or instance variables) and methods.\n",
        "-   Attributes represent the state of an object and are defined within the class.\n",
        "-   Methods define the actions or behaviors that an object can perform.\n",
        "\n",
        "To create a class in Java, you use the `class` keyword followed by the name of the class. The class definition should include the attributes and methods that the class will have. Here is an example of an Animal class that has attributes for name, species, breed, and age, and a method for getting the animal's name:"
      ],
      "metadata": {
        "id": "C8rCKhbXqJ8R"
      }
    },
    {
      "cell_type": "code",
      "source": [
        "%%writefile Animal.java\n",
        "public class Animal {\n",
        "  private String name, species, breed;\n",
        "  private int age;\n",
        "\n",
        "  public Animal(String name, String species, String breed, int age) {\n",
        "    this.name = name;\n",
        "    this.species = species;\n",
        "    this.breed = breed;\n",
        "    this.age = age;\n",
        "  }\n",
        "\n",
        "  public String getName() { return this.name; }\n",
        "  public void setName(String name) { this.name = name; }\n",
        "\n",
        "  public String getSpecies() { return this.species; }\n",
        "  public void setSpecies(String species) { this.species = species; }\n",
        "\n",
        "  public String getBreed() { return this.breed; }\n",
        "  public void setBreed(String breed) { this.breed = breed; }\n",
        "\n",
        "  public int getAge() { return this.age; }\n",
        "  public void setAge(int age) { this.age = age; }\n",
        "}\n"
      ],
      "metadata": {
        "colab": {
          "base_uri": "https://localhost:8080/"
        },
        "id": "LuHbJpSdovHR",
        "outputId": "75bf706c-63f4-4cc7-f5b4-5ac16689ef00"
      },
      "execution_count": null,
      "outputs": [
        {
          "output_type": "stream",
          "name": "stdout",
          "text": [
            "Overwriting Animal.java\n"
          ]
        }
      ]
    },
    {
      "cell_type": "code",
      "source": [
        "!javac Animal.java"
      ],
      "metadata": {
        "id": "srQNJRCBqXOp"
      },
      "execution_count": null,
      "outputs": []
    },
    {
      "cell_type": "markdown",
      "source": [
        "### Creating Objects\n",
        "An **object** is an instance of a class. It represents a specific entity with its own unique state and behavior.\n",
        "1. To create an object from a class in Java, you use the new keyword followed by the class name and its constructor.\n",
        "2. The constructor is a special method that is called when an object is created, and it is used to initialize the object's attributes.\n",
        "3. To create an object from a class in Java, you use the `new` keyword followed by the name of the class and its constructor. The constructor is a special method that is called when an object is created, and it is used to initialize the object's attributes.\n",
        "\n",
        "Here is an example of an AnimalTest class that creates an object of the Animal class and calls its getName() method:"
      ],
      "metadata": {
        "id": "m46LBx0MqkQY"
      }
    },
    {
      "cell_type": "code",
      "source": [
        "%%writefile AnimalTest.java\n",
        "public class AnimalTest {\n",
        "  public static void main(String[] args) {\n",
        "    // create an object of the Animal class\n",
        "    Animal myAnimal = new Animal(\"Fluffy\", \"cat\", \"Persian\", 3);\n",
        "\n",
        "    // call the getName() method on the object\n",
        "    String name = myAnimal.getName();\n",
        "    System.out.println(\"The animal's name is: \" + name);\n",
        "  }\n",
        "}\n"
      ],
      "metadata": {
        "colab": {
          "base_uri": "https://localhost:8080/"
        },
        "id": "plu1H2-lqfJA",
        "outputId": "aefe7e6a-e2c0-4104-8f7c-060c08f0525e"
      },
      "execution_count": null,
      "outputs": [
        {
          "output_type": "stream",
          "name": "stdout",
          "text": [
            "Overwriting AnimalTest.java\n"
          ]
        }
      ]
    },
    {
      "cell_type": "code",
      "source": [
        "!javac Animal.java\n",
        "!javac AnimalTest.java"
      ],
      "metadata": {
        "id": "IV0o2EScqnIo"
      },
      "execution_count": null,
      "outputs": []
    },
    {
      "cell_type": "code",
      "source": [
        "!java AnimalTest"
      ],
      "metadata": {
        "colab": {
          "base_uri": "https://localhost:8080/"
        },
        "id": "kNWgnFqiqqYH",
        "outputId": "40f9b953-7bc7-4162-9cda-f4e6ea53733a"
      },
      "execution_count": null,
      "outputs": [
        {
          "output_type": "stream",
          "name": "stdout",
          "text": [
            "The animal's name is: Fluffy\n"
          ]
        }
      ]
    },
    {
      "cell_type": "markdown",
      "source": [
        "In this example, we create an object of the Animal class by calling its constructor and passing it the values for the name, species, breed, and age attributes. We then call the `getName()` method on the object to get its name, and we print the name to the console.\n",
        "\n",
        "Note that in the Animal class, we used the `private` access modifier for the attributes. This means that the attributes can only be accessed from within the class, and they cannot be accessed directly from outside the class. To allow other classes to access the attributes, we provided a public method (`getName()`) that can be called to get the value of the attribute. This is known as **encapsulation**, and it is a way to protect the data of an object from being modified or accessed inappropriately.\n",
        "\n",
        "This program shows **encapsulation**, a fundemantal goal of OOP. We bundle data (attributes) and methods that operate on that data within a class. This helps in achieving data hiding and protects the internal state of an object from direct access by other parts of the program.  In Java, you can use access modifiers (private, public, protected) to control the visibility and accessibility of class members."
      ],
      "metadata": {
        "id": "0ys7Y205q-Uf"
      }
    },
    {
      "cell_type": "markdown",
      "source": [
        "## Introducing Inheritance\n",
        "In object-oriented programming (OOP), inheritance is a mechanism that allows you to create new classes that are based on existing classes. The new class inherits the properties and methods of the existing class, and it can also add its own properties and methods or override the ones it inherits. Inheritance allows you to reuse code and create a hierarchy of classes that represent the relationships between different entities in your program.\n",
        "\n",
        "For example, in our humane society case study, we might have an Animal class that represents all animals at the humane society, and we might want to create subclasses of this class to represent specific types of animals, such as dogs and cats. The Dog and Cat classes could inherit the properties and methods of the Animal class, and they could also have additional properties and methods that are specific to their type.\n",
        "\n",
        "Here is an example of how you might define the the Dog and Cat classes using inheritance in Java:"
      ],
      "metadata": {
        "id": "7p3moyPvsZHu"
      }
    },
    {
      "cell_type": "code",
      "source": [
        "%%writefile Dog.java\n",
        "public class Dog extends Animal {\n",
        "  // attributes\n",
        "  private boolean leashTrained;\n",
        "\n",
        "  // constructor\n",
        "  public Dog(String name, String breed, int age, boolean leashTrained) {\n",
        "    super(name, \"dog\", breed, age);\n",
        "    this.leashTrained = leashTrained;\n",
        "  }\n",
        "\n",
        "  // methods\n",
        "  public boolean isLeashTrained() {\n",
        "    return this.leashTrained;\n",
        "  }\n",
        "\n",
        "  public void setLeashTrained(boolean leashTrained) {\n",
        "    this.leashTrained = leashTrained;\n",
        "  }\n",
        "}"
      ],
      "metadata": {
        "colab": {
          "base_uri": "https://localhost:8080/"
        },
        "id": "6c2zAJpirCXg",
        "outputId": "fa74fc0d-9a92-4431-b295-46da327a09c8"
      },
      "execution_count": null,
      "outputs": [
        {
          "output_type": "stream",
          "name": "stdout",
          "text": [
            "Writing Dog.java\n"
          ]
        }
      ]
    },
    {
      "cell_type": "code",
      "source": [
        "!javac Animal.java\n",
        "!javac Dog.java"
      ],
      "metadata": {
        "id": "VCejOmjBsraV"
      },
      "execution_count": null,
      "outputs": []
    },
    {
      "cell_type": "code",
      "source": [
        "%%writefile Cat.java\n",
        "public class Cat extends Animal {\n",
        "  // attributes\n",
        "  private boolean declawed;\n",
        "\n",
        "  // constructor\n",
        "  public Cat(String name, String breed, int age, boolean declawed) {\n",
        "    super(name, \"cat\", breed, age);\n",
        "    this.declawed = declawed;\n",
        "  }\n",
        "\n",
        "  // methods\n",
        "  public boolean isDeclawed() {\n",
        "    return this.declawed;\n",
        "  }\n",
        "\n",
        "  public void setDeclawed(boolean declawed) {\n",
        "    this.declawed = declawed;\n",
        "  }\n",
        "}"
      ],
      "metadata": {
        "colab": {
          "base_uri": "https://localhost:8080/"
        },
        "id": "Cre9gx-7snrV",
        "outputId": "9425ee01-83fa-459d-9d74-2307ccecc769"
      },
      "execution_count": null,
      "outputs": [
        {
          "output_type": "stream",
          "name": "stdout",
          "text": [
            "Overwriting Cat.java\n"
          ]
        }
      ]
    },
    {
      "cell_type": "code",
      "source": [
        "!javac Animal.java\n",
        "!javac Cat.java"
      ],
      "metadata": {
        "id": "OF8sgskHszL8"
      },
      "execution_count": null,
      "outputs": []
    },
    {
      "cell_type": "markdown",
      "source": [
        "In this example, the Dog and Cat classes inherit from the Animal class using the `extends` keyword. This means that the Dog and Cat classes have all the attributes and methods of the Animal class, and they can also add their own attributes and methods.\n",
        "\n",
        "The Dog class has an additional attribute called leashTrained, which indicates whether the dog is trained to walk on a leash. The Cat class has an additional attribute called declawed, which indicates whether the cat has been declawed. Both classes have constructors that call the superclass constructor using the `super` keyword, and they have methods for getting and setting their additional attributes.\n",
        "\n",
        "By using inheritance, we can reuse the code from the Animal class in the Dog and Cat classes, and we can create a hierarchy of classes that represents the relationships between different entities in our humane society case study. This allows us to write more modular, flexible, and reusable code.\n",
        "\n",
        "To use inheritance in your own Java classes, here's the basic process:\n",
        "\n",
        "1.  Define a base class (also called a **superclass** or **parent class**) that contains the common properties and methods that you want to share among multiple classes.\n",
        "2.  Define one or more **subclasses** (also called **derived classes** or **child classes**) that inherit from the base class using the `extends` keyword. The subclasses can add their own properties and methods, or they can override the ones inherited from the base class.\n",
        "3.  Use the `super` keyword in the subclass constructors to call the constructor of the base class and initialize the inherited attributes."
      ],
      "metadata": {
        "id": "dXmEjkNqs9h0"
      }
    },
    {
      "cell_type": "markdown",
      "source": [
        "## Testing Dog and Cat\n",
        "Let's write a program to see how Dog and Cat work:"
      ],
      "metadata": {
        "id": "13wPJ2Rqvty6"
      }
    },
    {
      "cell_type": "code",
      "source": [
        "%%writefile DogCatTest.java\n",
        "public class DogCatTest {\n",
        "    public static void main(String[] args) {\n",
        "        // Creating instances of Dog, Cat, and Animal\n",
        "        Dog krypto = new Dog(\"Krypto\", \"Kryptonian Canine\", 3, true);\n",
        "        Cat streaky = new Cat(\"Streaky\", \"Domestic Short Hair\", 2, false);\n",
        "        Animal hoppy = new Animal(\"Hoppy\", \"Bunny\", \"Super Leap Bunny\", 1);\n",
        "\n",
        "        // Demonstrating shared methods (getName and getAge)\n",
        "        System.out.println(krypto.getName() + \" is \" + krypto.getAge() + \" years old and leash trained: \" + krypto.isLeashTrained());\n",
        "        System.out.println(streaky.getName() + \" is \" + streaky.getAge() + \" years old and declawed: \" + streaky.isDeclawed());\n",
        "        System.out.println(hoppy.getName() + \" is a \" + hoppy.getSpecies() + \" and \" + hoppy.getAge() + \" years old.\");\n",
        "\n",
        "        // Demonstrating unique method calls\n",
        "        // For Dog: isLeashTrained()\n",
        "        System.out.println(krypto.getName() + \" leash trained status: \" + krypto.isLeashTrained());\n",
        "\n",
        "        // For Cat: isDeclawed()\n",
        "        System.out.println(streaky.getName() + \" declawed status: \" + streaky.isDeclawed());\n",
        "\n",
        "        // Changing attributes using setters\n",
        "        // Demonstrating shared method (setAge) and showing age update\n",
        "        krypto.setAge(4); // Krypto's birthday passed\n",
        "        System.out.println(\"After a birthday, \" + krypto.getName() + \" is now \" + krypto.getAge() + \" years old.\");\n",
        "    }\n",
        "}\n"
      ],
      "metadata": {
        "colab": {
          "base_uri": "https://localhost:8080/"
        },
        "id": "HBQ_uGuXtdHM",
        "outputId": "62b614c7-dd54-4fbd-e9a3-d17e1960bbf4"
      },
      "execution_count": null,
      "outputs": [
        {
          "output_type": "stream",
          "name": "stdout",
          "text": [
            "Writing DogCatTest.java\n"
          ]
        }
      ]
    },
    {
      "cell_type": "code",
      "source": [
        "!javac Animal.java\n",
        "!javac Dog.java\n",
        "!javac Cat.java\n",
        "!javac DogCatTest.java"
      ],
      "metadata": {
        "id": "BRUm8S2Xv7a7"
      },
      "execution_count": null,
      "outputs": []
    },
    {
      "cell_type": "code",
      "source": [
        "!java DogCatTest"
      ],
      "metadata": {
        "colab": {
          "base_uri": "https://localhost:8080/"
        },
        "id": "eL6tPaYwv94Z",
        "outputId": "ca806204-62a0-4b47-c1cc-e1acac5aaeca"
      },
      "execution_count": null,
      "outputs": [
        {
          "output_type": "stream",
          "name": "stdout",
          "text": [
            "Krypto is 3 years old and leash trained: true\n",
            "Streaky is 2 years old and declawed: false\n",
            "Hoppy is a Bunny and 1 years old.\n",
            "Krypto leash trained status: true\n",
            "Streaky declawed status: false\n",
            "After a birthday, Krypto is now 4 years old.\n"
          ]
        }
      ]
    },
    {
      "cell_type": "markdown",
      "source": [
        "## Class Diagrams: Dogs and Cats!\n",
        "![image.png](data:image/png;base64,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)"
      ],
      "metadata": {
        "id": "RkeUOU67q2aM"
      }
    },
    {
      "cell_type": "markdown",
      "source": [
        "## Exercise: Implementing Horse.java and HorseTest.java\n",
        "\n",
        "Building on the concepts of inheritance and polymorphism covered in our humane society case study, let's extend our application to include a new type of animal: horses. This exercise will involve creating two new Java classes, `Horse.java` and `HorseTest.java`, to practice implementing inheritance and testing our class.\n",
        "\n",
        "#### Horse.java\n",
        "\n",
        "Your task is to create a `Horse` class that inherits from the `Animal` class. Remember, the `Animal` class has attributes such as name, species, breed, and age, and methods like `getName()` and `setAge()`. Your `Horse` class should include:\n",
        "\n",
        "-   Additional attributes unique to horses, such as `isRaceHorse` (a boolean indicating if the horse is a racehorse) and `speed` (an integer representing the horse's top speed in miles per hour).\n",
        "-   A constructor that uses the `super` keyword to call the `Animal` class constructor, while also initializing the new attributes specific to the `Horse` class.\n",
        "-   Getters and setters for the new attributes."
      ],
      "metadata": {
        "id": "3EgkLZQ1lx-4"
      }
    },
    {
      "cell_type": "code",
      "source": [
        "%%writefile Horse.java\n",
        "public class Horse extends Animal {\n",
        "\n",
        "}"
      ],
      "metadata": {
        "id": "O5ghlcBMmWgZ"
      },
      "execution_count": null,
      "outputs": []
    },
    {
      "cell_type": "code",
      "source": [
        "!javac Horse.java"
      ],
      "metadata": {
        "id": "L5vaPcTJlwvW"
      },
      "execution_count": null,
      "outputs": []
    },
    {
      "cell_type": "markdown",
      "source": [
        "#### HorseTest.java\n",
        "\n",
        "Next, create a `HorseTest.java` class to test the functionality of your `Horse` class. This should:\n",
        "\n",
        "-   Instantiate an object of the `Horse` class.\n",
        "-   Demonstrate the use of both inherited methods (e.g., `getName()`, `getAge()`) and methods specific to the `Horse` class (e.g., `isRaceHorse()`, `getSpeed()`).\n",
        "-   Print out the attributes of the `Horse` object to verify that your class works correctly."
      ],
      "metadata": {
        "id": "mNggQil8mwZ6"
      }
    },
    {
      "cell_type": "code",
      "source": [
        "%%writefile HorseTest.java\n",
        "public class HorseTest{\n",
        "\n",
        "}"
      ],
      "metadata": {
        "id": "AdSUjbIlm0S7"
      },
      "execution_count": null,
      "outputs": []
    },
    {
      "cell_type": "code",
      "source": [
        "!javac HorseTest.java"
      ],
      "metadata": {
        "id": "T8lfEhghm5ue"
      },
      "execution_count": null,
      "outputs": []
    },
    {
      "cell_type": "code",
      "source": [
        "!java HorseTest"
      ],
      "metadata": {
        "id": "NN-0NedZm7ZB"
      },
      "execution_count": null,
      "outputs": []
    },
    {
      "cell_type": "markdown",
      "source": [
        "## Class Hierarchies in Object-Oriented Programming\n",
        "\n",
        "Class hierarchies are a fundamental concept in object-oriented programming (OOP), allowing developers to structure their code in a way that represents real-world relationships between objects. A class hierarchy is created using inheritance, where a class can inherit properties and methods from another class. This structure forms a \"parent-child\" relationship, where the parent class (also known as the superclass) provides common attributes and behaviors to its child classes (subclasses), which can then extend or modify these characteristics.\n",
        "\n",
        "In our previous examples, we discussed the implementation of an animal management system for a humane society, including classes like `Animal`, `Dog`, and `Cat`. These classes form a simple hierarchy where `Dog` and `Cat` are subclasses that inherit from the `Animal` superclass. This structure allows both `Dog` and `Cat` to share common properties of `Animal` while also defining their own specific attributes and methods.\n",
        "\n",
        "Expanding on this concept, consider a veterinary clinic software system, which requires a more complex class hierarchy to manage its operations efficiently. Beyond animal care, the system must handle appointments, staff details, billing, and more. For instance:\n",
        "\n",
        "-   *Personnel Hierarchy.* The personnel involved in a vet clinic can be categorized into several classes, such as `Veterinarian`, `Nurse`, and `Receptionist`. All these can inherit from a base class called `Staff`, which contains shared attributes like name, ID, and contact details. Each subclass can then add its own specific properties and methods, such as `performSurgery()` for `Veterinarian` or `scheduleAppointment()` for `Receptionist`.\n",
        "\n",
        "-   *Appointment System.* An appointment system might include classes such as `Appointment`, `WalkIn`, and `Emergency`. These classes could inherit from a base class `ClinicVisit`, which includes common attributes like date, time, and patient details. The subclasses could define additional details relevant to the type of visit, for example, `priorityLevel` for `Emergency` visits.\n",
        "\n",
        "Through class hierarchies, the vet clinic software system can represent complex relationships and interactions in a structured and intuitive way. This not only makes the code more reusable and easier to maintain but also mirrors the real-world relationships between the various entities involved in the clinic's operations.\n",
        "\n",
        "For example, implementing a hierarchy for clinic personnel might look something like this:"
      ],
      "metadata": {
        "id": "ET3qMUcHm-Dx"
      }
    },
    {
      "cell_type": "markdown",
      "source": [
        "```java\n",
        "public class Staff {\n",
        "  private String name;\n",
        "  private String id;\n",
        "  // common attributes and methods\n",
        "}\n",
        "\n",
        "public class Veterinarian extends Staff {\n",
        "  private String specialty;\n",
        "  // methods specific to Veterinarian\n",
        "}\n",
        "\n",
        "public class Receptionist extends Staff {\n",
        "  private String shift;\n",
        "  // methods specific to Receptionist\n",
        "}\n",
        "```\n",
        "\n",
        "This approach enables the software to treat all personnel as instances of Staff when general information is needed but also allows access to specific methods and properties relevant to their particular roles within the clinic."
      ],
      "metadata": {
        "id": "3VXNM8WNnnGI"
      }
    },
    {
      "cell_type": "markdown",
      "source": [
        "## Introduction to Abstract Classes in Java\n",
        "\n",
        "**Abstract Classes** in Java are a fundamental concept in object-oriented programming that allow you to create classes which are not meant to instantiate objects directly. Instead, abstract classes are designed to be inherited by other classes. They can include **abstract methods**, which are methods declared without an implementation. The purpose of an abstract class is to provide a base or template for other classes to extend and implement the abstract methods, ensuring that certain methods are implemented in all subclasses.\n",
        "\n",
        "Abstract classes are used when you want to define a common protocol for a group of related classes. This means you can define methods that must be implemented by any subclass, but you can also provide concrete implementations of some methods that can be reused by the subclasses.\n",
        "\n",
        "### SuperPet: An Abstract Class Example\n",
        "\n",
        "Imagine we are creating a software model for a series of superhero pets, inspired by the famous DC superpets. To represent these, we'll define an abstract class called `SuperPet`. Each `SuperPet` has a unique power that can be used, but the way each pet uses its power varies. Therefore, we'll declare an abstract method `usePower()` that each specific type of `SuperPet` will implement in its own way."
      ],
      "metadata": {
        "id": "lEefBCGpGyrF"
      }
    },
    {
      "cell_type": "code",
      "source": [
        "%%writefile SuperPet.java\n",
        "public abstract class SuperPet {\n",
        "    protected String name;\n",
        "    protected String superPower;\n",
        "\n",
        "    public SuperPet(String name, String superPower) {\n",
        "        this.name = name;\n",
        "        this.superPower = superPower;\n",
        "    }\n",
        "\n",
        "    public String getName() {\n",
        "        return name;\n",
        "    }\n",
        "\n",
        "    public String getSuperPower() {\n",
        "        return superPower;\n",
        "    }\n",
        "\n",
        "    // Abstract method that subclasses must implement\n",
        "    public abstract void usePower();\n",
        "}\n"
      ],
      "metadata": {
        "colab": {
          "base_uri": "https://localhost:8080/"
        },
        "id": "a27Dv75rG90V",
        "outputId": "9590f859-1e27-4c9d-9782-24ffd7400272"
      },
      "execution_count": null,
      "outputs": [
        {
          "output_type": "stream",
          "name": "stdout",
          "text": [
            "Writing SuperPet.java\n"
          ]
        }
      ]
    },
    {
      "cell_type": "code",
      "source": [
        "!javac SuperPet.java"
      ],
      "metadata": {
        "id": "EDDYnvsOH7Qk"
      },
      "execution_count": null,
      "outputs": []
    },
    {
      "cell_type": "markdown",
      "source": [
        "This code defines an abstract class named `SuperPet`. An abstract class is a class that cannot be instantiated (meaning you can't create objects directly from it), and it's used as a base class for other classes to inherit from. It often contains a mix of both concrete (regular) methods and abstract methods (methods without a body).\n",
        "\n",
        "Here are some of the new things you might notice here:\n",
        "\n",
        "1. We begin by declaring that this an `abstract class`. This means we CANNOT make new instances of this class directly.\n",
        "\n",
        "2.  `protected String name` and `protected String superPower` are **protected** instance variables. The `protected` keyword means that these variables can be accessed within the class, its subclasses, and other classes in the same package. The `name` variable will hold the name of the pet, and the `superPower` variable will hold the pet's superpower.\n",
        "\n",
        "3.  `public SuperPet(String name, String superPower) {...}` is a constructor method that is called when an object of a subclass of `SuperPet` is created. It takes two parameters (`name` and `superPower`) and assigns them to the instance variables.\n",
        "\n",
        "4.  `public String getName() {...}` and `public String getSuperPower() {...}` are (concrete) getter methods that return the values of the `name` and `superPower` instance variables, respectively. They allow other classes to access these variables in a controlled way.\n",
        "\n",
        "4.  `public abstract void usePower();` is an abstract method. Abstract methods have no implementation in the abstract class and must be implemented (i.e., given a method body) in any non-abstract subclass. In this case, any class that extends `SuperPet` must implement the `usePower` method to define how the pet uses its superpower.\n",
        "\n",
        "`SuperPet` class is a blueprint for creating subclasses of pets with superpowers. Each subclass must define how the pet uses its superpower by implementing the `usePower` method.\n",
        "\n",
        "We CANNOT create new instances of abstract classes directly."
      ],
      "metadata": {
        "id": "RYIUu0fNIALN"
      }
    },
    {
      "cell_type": "code",
      "source": [
        "%%writefile BadIdea.java\n",
        "public class BadIdea{\n",
        "  public static void main(String[] args){\n",
        "    SuperPet garfield = new SuperPet(\"Garfield\", \"Eats Lasagna\");\n",
        "\n",
        "    System.out.println(garfield.getName());\n",
        "  }\n",
        "\n",
        "}"
      ],
      "metadata": {
        "colab": {
          "base_uri": "https://localhost:8080/"
        },
        "id": "QEMS3La5IGUD",
        "outputId": "b8df4228-c32d-4e2b-f0b3-eacc66f32189"
      },
      "execution_count": null,
      "outputs": [
        {
          "output_type": "stream",
          "name": "stdout",
          "text": [
            "Overwriting BadIdea.java\n"
          ]
        }
      ]
    },
    {
      "cell_type": "markdown",
      "source": [
        "This should lead to an error:"
      ],
      "metadata": {
        "id": "lFbgmLoSJAMB"
      }
    },
    {
      "cell_type": "code",
      "source": [
        "!javac SuperPet.java\n",
        "!javac BadIdea.java"
      ],
      "metadata": {
        "colab": {
          "base_uri": "https://localhost:8080/"
        },
        "id": "Te3n-vp4njSa",
        "outputId": "3ff15cd6-d439-47e9-ce1e-748f117a9ab6"
      },
      "execution_count": null,
      "outputs": [
        {
          "output_type": "stream",
          "name": "stdout",
          "text": [
            "BadIdea.java:3: error: SuperPet is abstract; cannot be instantiated\n",
            "    SuperPet garfield = new SuperPet(\"Garfield\", \"Eats Lasagna\");\n",
            "                        ^\n",
            "1 error\n"
          ]
        }
      ]
    },
    {
      "cell_type": "markdown",
      "source": [
        "### Concrete Subclasses: SuperDog and SuperCat\n",
        "Building on the `SuperPet` abstract class, we can define two subclasses: `SuperDog` and `SuperCat`. Each of these subclasses will represent superhero pets with their unique powers, implementing the `usePower()` method to showcase how they use their special abilities.\n",
        "\n",
        "The `SuperDog` subclass represents super dogs with unique powers. For example, let's create a `SuperDog` class with super strength."
      ],
      "metadata": {
        "id": "nckzz1pBJWOq"
      }
    },
    {
      "cell_type": "code",
      "source": [
        "%%writefile SuperDog.java\n",
        "public class SuperDog extends SuperPet {\n",
        "\n",
        "    public SuperDog(String name) {\n",
        "        super(name, \"Super Strength\");\n",
        "    }\n",
        "\n",
        "    @Override\n",
        "    public void usePower() {\n",
        "        System.out.println(getName() + \" lifts heavy objects with ease using his \" + getSuperPower() + \".\");\n",
        "    }\n",
        "}\n"
      ],
      "metadata": {
        "colab": {
          "base_uri": "https://localhost:8080/"
        },
        "id": "QCSeI8Qym87M",
        "outputId": "da6d5c67-72b4-4e8f-ae9a-17827034a8bc"
      },
      "execution_count": null,
      "outputs": [
        {
          "output_type": "stream",
          "name": "stdout",
          "text": [
            "Writing SuperDog.java\n"
          ]
        }
      ]
    },
    {
      "cell_type": "code",
      "source": [
        "!javac SuperPet.java\n",
        "!javac SuperDog.java"
      ],
      "metadata": {
        "id": "wTXMzsoYKJCq"
      },
      "execution_count": null,
      "outputs": []
    },
    {
      "cell_type": "markdown",
      "source": [
        "This code defines a class named `SuperDog` that extends (or inherits from) the `SuperPet` abstract class. Let's break it down:\n",
        "\n",
        "1.  `public class SuperDog extends SuperPet {...}` declares the `SuperDog` class as a subclass of `SuperPet`. This means that `SuperDog` inherits all the properties and methods of `SuperPet`, including the abstract `usePower` method that it must implement.\n",
        "\n",
        "2.  `public SuperDog(String name) {...}` is a constructor method for the `SuperDog` class. It takes one parameter, `name`, which is the name of the dog. It calls the constructor of the superclass `SuperPet` using the `super` keyword. The `super` keyword is used to call the constructor of the parent class. Here, it passes the `name` parameter and a default superpower \"Super Strength\" to the `SuperPet` constructor.\n",
        "\n",
        "3.  `@Override public void usePower() {...}`is the implementation of the abstract `usePower` method from the `SuperPet` class. The `@Override` annotation indicates that this method is being overridden from a superclass. In this implementation, a message is printed to the console stating that the dog lifts heavy objects with ease using its super strength. The `getName()` and `getSuperPower()` methods are used to get the name and superpower of the dog, respectively.\n",
        "\n",
        "Now, let's do the same thing for SuperCat:"
      ],
      "metadata": {
        "id": "9rGNxwjZKHYc"
      }
    },
    {
      "cell_type": "code",
      "source": [
        "%%writefile SuperCat.java\n",
        "public class SuperCat extends SuperPet {\n",
        "\n",
        "    public SuperCat(String name) {\n",
        "        super(name, \"Super Speed\");\n",
        "    }\n",
        "\n",
        "    @Override\n",
        "    public void usePower() {\n",
        "        System.out.println(getName() + \" runs faster than the speed of sound using his \" + getSuperPower() + \".\");\n",
        "    }\n",
        "}\n"
      ],
      "metadata": {
        "colab": {
          "base_uri": "https://localhost:8080/"
        },
        "id": "ckfCmN9DLSXV",
        "outputId": "8b5b6c62-a6ef-48c5-a0be-fdcb7a2c02b1"
      },
      "execution_count": null,
      "outputs": [
        {
          "output_type": "stream",
          "name": "stdout",
          "text": [
            "Writing SuperCat.java\n"
          ]
        }
      ]
    },
    {
      "cell_type": "code",
      "source": [
        "!javac SuperPet.java\n",
        "!javac SuperCat.java"
      ],
      "metadata": {
        "id": "ZE7jhY-9LXrd"
      },
      "execution_count": null,
      "outputs": []
    },
    {
      "cell_type": "markdown",
      "source": [
        "Finally, let's write a client program to test out the functionality of SuperDog and SuperCat."
      ],
      "metadata": {
        "id": "0rysWTbpLfeH"
      }
    },
    {
      "cell_type": "code",
      "source": [
        "%%writefile SuperPetTest.java\n",
        "public class SuperPetTest {\n",
        "\n",
        "    public static void main(String[] args) {\n",
        "        SuperDog krypto = new SuperDog(\"Krypto\");\n",
        "        SuperCat streaky = new SuperCat(\"Streaky\");\n",
        "\n",
        "        // Demonstrating how each super pet uses their power\n",
        "        krypto.usePower();\n",
        "        streaky.usePower();\n",
        "    }\n",
        "}\n"
      ],
      "metadata": {
        "colab": {
          "base_uri": "https://localhost:8080/"
        },
        "id": "-S4rZlz3LDPW",
        "outputId": "5dabad77-6ca4-45ff-e392-c0761e6e99e4"
      },
      "execution_count": null,
      "outputs": [
        {
          "output_type": "stream",
          "name": "stdout",
          "text": [
            "Writing SuperPetTest.java\n"
          ]
        }
      ]
    },
    {
      "cell_type": "markdown",
      "source": [
        "Now, let's compile it and run it."
      ],
      "metadata": {
        "id": "pS70K4qQMBvY"
      }
    },
    {
      "cell_type": "code",
      "source": [
        "!javac SuperPet.java\n",
        "!javac SuperDog.java\n",
        "!javac SuperCat.java\n",
        "!javac SuperPetTest.java"
      ],
      "metadata": {
        "id": "fodQU0awL2k2"
      },
      "execution_count": null,
      "outputs": []
    },
    {
      "cell_type": "code",
      "source": [
        "!java SuperPetTest"
      ],
      "metadata": {
        "colab": {
          "base_uri": "https://localhost:8080/"
        },
        "id": "4rdkLLrAMJOR",
        "outputId": "088ce703-1423-4a9a-f835-a8170822869f"
      },
      "execution_count": null,
      "outputs": [
        {
          "output_type": "stream",
          "name": "stdout",
          "text": [
            "Krypto lifts heavy objects with ease using his Super Strength.\n",
            "Streaky runs faster than the speed of sound using his Super Speed.\n"
          ]
        }
      ]
    },
    {
      "cell_type": "markdown",
      "source": [
        "## Class Diagram: SuperPets\n",
        "![image.png](data:image/png;base64,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)"
      ],
      "metadata": {
        "id": "ZCNrM9B1RpIu"
      }
    },
    {
      "cell_type": "markdown",
      "source": [
        "## Poly wants Polymorphism\n",
        "In the `SuperPetTest`, pay special attention to two lines:\n",
        "- `krypto.usePower();` and\n",
        "- `streaky.usePower();`\n",
        "\n",
        "These lines call the `usePower` method for the `krypto` and `streaky` objects, respectively. This demonstrates how each super pet uses their power. While each method uses the same name, they actually different underlying methods (defined in SuperCat and SuperDog). This is an example of polymorphism.\n",
        "\n",
        "**Polymorphism** is a fundamental concept in object-oriented programming that allows objects to take on multiple forms. It comes from the Greek words \"poly\" meaning many, and \"morph\" meaning forms. In Java, polymorphism is achieved through inheritance and interface implementation.\n",
        "\n",
        "There are two types of polymorphism in Java: compile-time polymorphism (also known as static polymorphism or method overloading) and runtime polymorphism (also known as dynamic polymorphism or method overriding). In the context of `SuperPetTest`, we're dealing with runtime polymorphism.\n",
        "\n",
        "Runtime polymorphism allows a subclass to override a method implemented by its superclass. When we call the overridden method on an object of the subclass, the subclass's implementation of the method is executed, even if the object is being referred to by a reference variable of the superclass type. This decision of which method to call is made at runtime, hence the name \"runtime polymorphism\".\n",
        "\n",
        "Polymorphism is important and useful for several reasons:\n",
        "\n",
        "1.  *Code reusability.* Polymorphism allows us to write code that can work with objects of different classes, as long as they are related by inheritance or interface implementation. This means we can write more generalized code that can be reused in different contexts.\n",
        "2.  *Abstraction and encapsulation.* Polymorphism allows us to hide the implementation details of a method and expose only the interface. This means we can change the implementation of a method without affecting the code that calls it, as long as the method signature remains the same.\n",
        "3.  *Flexibility and extensibility.& Polymorphism allows us to add new subclasses to a program without modifying the existing code. This makes our code more flexible and easier to extend.\n",
        "\n",
        "In the context of `SuperPetTest`, polymorphism is useful because it allows us to write code that can work with any `SuperPet` object, regardless of whether it's a `SuperDog`, `SuperCat`, or any other subclass of `SuperPet`. This means we can add new subclasses of `SuperPet` without modifying the existing code, as long as they implement the `usePower` method.\n",
        "\n",
        "For example, we could add a new subclass `SuperBird` that implements the `usePower` method to fly at super speed. We could then create a `SuperBird` object (we might call her \"Polly\"!) and call its `usePower` method, and the code would work without any modifications. This demonstrates the power of polymorphism in making our code more flexible, extensible, and reusable."
      ],
      "metadata": {
        "id": "XS37zVtmM2gr"
      }
    },
    {
      "cell_type": "markdown",
      "source": [
        "### Polymorphism Example: Pet Hideouts\n",
        "In this example, the `SuperPetHideout` is an abstract class with an abstract `activate()` method. The `DogHouse` and `CatCondo` classes extend `SuperPetHideout` and provide their own implementations of `activate()`. Polymorphism allows us to refer to both `DogHouse` and `CatCondo` objects as `SuperPetHideout` and call the `activate()` method, which invokes the appropriate implementation based on the actual object type."
      ],
      "metadata": {
        "id": "rxg2X3e0lac5"
      }
    },
    {
      "cell_type": "code",
      "source": [
        "%%writefile SuperPetHideoutDemo.java\n",
        "abstract class SuperPetHideout {\n",
        "    public abstract void activate();\n",
        "}\n",
        "\n",
        "class DogHouse extends SuperPetHideout {\n",
        "    @Override\n",
        "    public void activate() {\n",
        "        System.out.println(\"The dog house transforms into a high-tech command center!\");\n",
        "    }\n",
        "}\n",
        "\n",
        "class CatCondo extends SuperPetHideout {\n",
        "    @Override\n",
        "    public void activate() {\n",
        "        System.out.println(\"The cat condo reveals hidden surveillance equipment!\");\n",
        "    }\n",
        "}\n",
        "\n",
        "public class SuperPetHideoutDemo {\n",
        "    public static void main(String[] args) {\n",
        "        SuperPetHideout dogHouse = new DogHouse();\n",
        "        SuperPetHideout catCondo = new CatCondo();\n",
        "\n",
        "        dogHouse.activate(); // Output: The dog house transforms into a high-tech command center!\n",
        "        catCondo.activate(); // Output: The cat condo reveals hidden surveillance equipment!\n",
        "    }\n",
        "}"
      ],
      "metadata": {
        "colab": {
          "base_uri": "https://localhost:8080/"
        },
        "id": "TKqvjSfvldc1",
        "outputId": "080336db-516f-4176-cbb8-76f9599d0021"
      },
      "execution_count": null,
      "outputs": [
        {
          "output_type": "stream",
          "name": "stdout",
          "text": [
            "Writing SuperPetHideoutDemo.java\n"
          ]
        }
      ]
    },
    {
      "cell_type": "code",
      "source": [
        "!javac SuperPetHideoutDemo.java"
      ],
      "metadata": {
        "id": "GQ11AionlpN-"
      },
      "execution_count": null,
      "outputs": []
    },
    {
      "cell_type": "code",
      "source": [
        "!java SuperPetHideoutDemo"
      ],
      "metadata": {
        "colab": {
          "base_uri": "https://localhost:8080/"
        },
        "id": "NuUOWaMymBEE",
        "outputId": "d9b07cb6-86a8-43da-e4a1-19dfaf8fc193"
      },
      "execution_count": null,
      "outputs": [
        {
          "output_type": "stream",
          "name": "stdout",
          "text": [
            "The dog house transforms into a high-tech command center!\n",
            "The cat condo reveals hidden surveillance equipment!\n"
          ]
        }
      ]
    },
    {
      "cell_type": "markdown",
      "source": [
        "\n",
        "### Tutorial: Creating and Applying Abstract Classes in Java\n",
        "\n",
        "As we've been discussing abstract classes in Java are a powerful feature for achieving polymorphism and code reuse. This tutorial will guide you through creating and applying abstract classes, focusing on keywords like `abstract`, `extends`, and `super`.\n",
        "\n",
        "#### Step 1: Understand Abstract Classes\n",
        "\n",
        "An abstract class is a class that cannot be instantiated on its own and is meant to be extended by other classes. It can contain both abstract methods (without an implementation) and concrete methods (with an implementation).\n",
        "\n",
        "#### Step 2: Define an Abstract Class\n",
        "\n",
        "To define an abstract class, use the `abstract` keyword before the `class` keyword. Inside, declare abstract methods using the `abstract` keyword, which acts as a contract for the subclasses. These methods must be implemented by the subclasses. (For an an example, see SuperPet).\n",
        "\n",
        "```java\n",
        "public abstract class SuperPet {\n",
        "    // See code above\n",
        "}\n",
        "```\n",
        "\n",
        "#### Step 3: Extend the Abstract Class\n",
        "\n",
        "Create a subclass that extends the abstract class using the `extends` keyword. This establishes an inheritance relationship, where the subclass inherits properties and methods from the abstract class.\n",
        "\n",
        "```java\n",
        "public class SuperDog extends SuperPet {\n",
        "  // see code above\n",
        "    \n",
        "}\n",
        "```\n",
        "\n",
        "#### Step 4: Implement Abstract Methods\n",
        "\n",
        "In the subclass, provide implementations for all abstract methods inherited from the abstract class. Use the `@Override` annotation to indicate you're overriding a method from the superclass.\n",
        "\n",
        "#### Step 5: Use the `super` Keyword\n",
        "\n",
        "In your subclass, use the `super` keyword to call the constructor of the superclass. This is how you pass arguments to the superclass constructor and initialize inherited fields.\n",
        "\n",
        "```java\n",
        "public SuperDog(String name) {\n",
        "    super(name, \"Super Strength\"); // Calls the SuperPet constructor\n",
        "}\n",
        "```\n",
        "\n",
        "#### Step 6: Instantiate Subclasses\n",
        "\n",
        "While you cannot instantiate an abstract class directly, you can instantiate its subclasses. This allows you to use polymorphism to treat objects of the subclasses as instances of the abstract class.\n",
        "\n",
        "```java\n",
        "SuperPet myPet = new SuperDog(\"Krypto\");\n",
        "myPet.usePower(); // Calls the implemented method in SuperDog\n",
        "```\n",
        "\n",
        "#### Step 7: Polymorphism\n",
        "\n",
        "Abstract classes allow for polymorphism, where a reference variable of the abstract class can hold objects of any subclasses, enabling the program to choose the right method implementation at runtime.\n",
        "\n",
        "#### Key Takeaways\n",
        "\n",
        "-   Use the `abstract` keyword to define an abstract class and abstract methods.\n",
        "-   Subclasses `extend` the abstract class and `implement` all its abstract methods.\n",
        "-   Use the `super` keyword in subclasses to call the superclass's constructor.\n",
        "-   Abstract classes cannot be instantiated; only their subclasses can.\n",
        "-   Polymorphism allows abstract class reference variables to hold objects of any subclass, facilitating dynamic method invocation.\n",
        "\n",
        "By following these steps, you can effectively use abstract classes in Java to create flexible, reusable, and maintainable code that adheres to the principles of object-oriented programming."
      ],
      "metadata": {
        "id": "fVjfbBipLfmz"
      }
    },
    {
      "cell_type": "markdown",
      "source": [
        "## Exercise: Implementing an Abstract Book System with Subclasses\n",
        "\n",
        "This exercise is aimed at practicing the concepts of using abstract classes, implementing method overloading, and understanding inheritance in Java. You'll design an abstract `Book` class, create specific subclasses for different types of books, and develop a test program to demonstrate the use of these classes.\n",
        "\n",
        "#### Step 1: Design the Abstract Book Class\n",
        "\n",
        "1.  Create an abstract class named `Book` that includes common properties for books, such as `title`, `author`, and `isbn`.\n",
        "2.  Define an abstract method `displayDescription()`. This method will be overridden by subclasses to provide a specific description of the book.\n",
        "3.  Implement a constructor in the `Book` class that initializes the common properties. This constructor will be called from the constructors of the subclasses using the `super()` keyword.\n",
        "\n",
        "Hints:\n",
        "\n",
        "-   Use the `abstract` keyword to define the class and the method.\n",
        "-   The constructor should take parameters for each of the common properties."
      ],
      "metadata": {
        "id": "AFufBP-4S-mT"
      }
    },
    {
      "cell_type": "code",
      "source": [
        "%%writefile Book.java\n",
        "public abstract class Book{\n",
        "\n",
        "}"
      ],
      "metadata": {
        "id": "GQtlOv0IRyTE"
      },
      "execution_count": null,
      "outputs": []
    },
    {
      "cell_type": "code",
      "source": [
        "!javac Book.java"
      ],
      "metadata": {
        "id": "CCOo3KMDO8o5"
      },
      "execution_count": null,
      "outputs": []
    },
    {
      "cell_type": "markdown",
      "source": [
        "#### Step 2: Create Concrete Subclasses\n",
        "\n",
        "1.  Create two concrete classes (FictionBook and NonFictionBook) that extend the `Book` class. They should contain at least one unique attribute. For, instance, a `FictionBook` might have a `genre`, and a `NonFictionBook` could have a `subject`.\n",
        "\n",
        "2.  Each subclass should have a constructor that calls the superclass's constructor with `super()` and also initializes the subclass's unique properties. For example, we might have something like this:\n",
        "\n",
        "```java\n",
        "public class ComicBook extends Book {\n",
        "    public Comic(String title, String author, String isbn, boolean colored) {\n",
        "        super(title, author, isbn); // Inherited attributes\n",
        "        this.colored = colored; // ComicBook-specific attribute\n",
        "    }\n",
        "}\n",
        "```\n",
        "Hints:\n",
        "\n",
        "-   Use `super(title, author, isbn);` to call the superclass constructor from the subclass constructor.\n",
        "-   After calling `super()`, initialize the subclass-specific attributes with the additional parameters provided to the subclass constructor."
      ],
      "metadata": {
        "id": "x_HtjommTMEa"
      }
    },
    {
      "cell_type": "code",
      "source": [
        "%%writefile FictionBook.java\n",
        "public class FictionBook extends Book{\n",
        "\n",
        "}"
      ],
      "metadata": {
        "id": "MIJOtCAYT_LB"
      },
      "execution_count": null,
      "outputs": []
    },
    {
      "cell_type": "code",
      "source": [
        "!javac FictionBook.java"
      ],
      "metadata": {
        "id": "dXNjj2S2UGUw"
      },
      "execution_count": null,
      "outputs": []
    },
    {
      "cell_type": "code",
      "source": [
        "%%writefile NonFictionBook.java\n",
        "public class NonFictionBook extends Book{\n",
        "\n",
        "}"
      ],
      "metadata": {
        "id": "SoyaVMybUCJH"
      },
      "execution_count": null,
      "outputs": []
    },
    {
      "cell_type": "code",
      "source": [
        "!javac NonFictionBook.java"
      ],
      "metadata": {
        "id": "_7GD-4iFUJFM"
      },
      "execution_count": null,
      "outputs": []
    },
    {
      "cell_type": "markdown",
      "source": [
        "### Creating and Using Overloaded Constructors in Java\n",
        "\n",
        "Constructor overloading in Java is a powerful feature that allows a class to have more than one constructor, each with a different set or number of parameters. This enables objects of that class to be instantiated in different ways, depending on the information available at the time of creation. Overloading constructors enhances class flexibility and readability, making your code more adaptable and easier to use. It's a form of polymorphism that allows multiple constructors to coexist, each with a unique parameter list. The basic idea is as follows:\n",
        "\n",
        "-   Each constructor in a class must have a unique signature, which means the number and/or type of parameters must differ.\n",
        "-   The `this()` call can be used within constructors to call another overloaded constructor in the same class, often used for initializing common data among multiple constructors to avoid code duplication.\n",
        "\n",
        "Here's the syntax:\n",
        "```java\n",
        "public class ClassName {\n",
        "    // Constructor with one parameter\n",
        "    public ClassName(Type param1) {\n",
        "        // Initialization code\n",
        "    }\n",
        "\n",
        "    // Constructor with two parameters\n",
        "    public ClassName(Type param1, Type param2) {\n",
        "        // Initialization code\n",
        "    }\n",
        "\n",
        "    // Constructor calling another constructor\n",
        "    public ClassName(Type param1, Type param2, Type param3) {\n",
        "        this(param1, param2); // Calls the second constructor\n",
        "        // Additional initialization code\n",
        "    }\n",
        "}\n",
        "```\n",
        "\n",
        "Let's look at an example related to Volunteers at the humane society."
      ],
      "metadata": {
        "id": "jWZBsTcj9mlb"
      }
    },
    {
      "cell_type": "code",
      "source": [
        "%%writefile Volunteer.java\n",
        "public class Volunteer {\n",
        "    private String name;\n",
        "    private int age;\n",
        "    private String role;\n",
        "\n",
        "    // Constructor for name only\n",
        "    public Volunteer(String name) {\n",
        "        this.name = name;\n",
        "    }\n",
        "\n",
        "    // Constructor for name and age\n",
        "    public Volunteer(String name, int age) {\n",
        "        this.name = name;\n",
        "        this.age = age;\n",
        "    }\n",
        "\n",
        "    // Constructor for name, age, and role\n",
        "    public Volunteer(String name, int age, String role) {\n",
        "        this(name, age); // Calls the constructor for name and age\n",
        "        this.role = role;\n",
        "    }\n",
        "\n",
        "    // Method to display volunteer information\n",
        "    public void displayInfo() {\n",
        "        System.out.println(\"Name: \" + name + \", Age: \" + age + \", Role: \" + role);\n",
        "    }\n",
        "}\n"
      ],
      "metadata": {
        "colab": {
          "base_uri": "https://localhost:8080/"
        },
        "id": "AC3zM_gZ9tlK",
        "outputId": "4d01ff56-fa7f-40cc-d544-e1801d31429c"
      },
      "execution_count": null,
      "outputs": [
        {
          "output_type": "stream",
          "name": "stdout",
          "text": [
            "Writing Volunteer.java\n"
          ]
        }
      ]
    },
    {
      "cell_type": "code",
      "source": [
        "!javac Volunteer.java"
      ],
      "metadata": {
        "id": "xrAD0K2x91WR"
      },
      "execution_count": null,
      "outputs": []
    },
    {
      "cell_type": "markdown",
      "source": [
        "In this `Volunteer` class, we have three constructors:\n",
        "\n",
        "-   The first constructor allows for creating a `Volunteer` with just their name.\n",
        "-   The second adds the option to include the volunteer's age.\n",
        "-   The third constructor allows for specifying a role in addition to the name and age, using `this(name, age)` to leverage the existing constructor for initializing `name` and `age`.\n",
        "\n",
        "This design allows for flexibility when creating `Volunteer` objects. For example, if a volunteer's role is not yet determined or if their age is irrelevant for a particular task, the corresponding constructor can be used to instantiate the object with only the relevant information.\n",
        "\n",
        "And here's a client program to test this out:"
      ],
      "metadata": {
        "id": "9mhfj2Vb93ld"
      }
    },
    {
      "cell_type": "code",
      "source": [
        "%%writefile VolunteerTest.java\n",
        "public class VolunteerTest {\n",
        "    public static void main(String[] args) {\n",
        "        Volunteer volunteer1 = new Volunteer(\"Anaxagoras\");\n",
        "        Volunteer volunteer2 = new Volunteer(\"Boethius\", 25);\n",
        "        Volunteer volunteer3 = new Volunteer(\"Chiron\", 30, \"Dog Walker\");\n",
        "\n",
        "        volunteer1.displayInfo();\n",
        "        volunteer2.displayInfo();\n",
        "        volunteer3.displayInfo();\n",
        "    }\n",
        "}"
      ],
      "metadata": {
        "colab": {
          "base_uri": "https://localhost:8080/"
        },
        "id": "q2KupQqa-OH6",
        "outputId": "1dbdff25-9f40-48aa-ec3b-7ec72500b10d"
      },
      "execution_count": null,
      "outputs": [
        {
          "output_type": "stream",
          "name": "stdout",
          "text": [
            "Writing VolunteerTest.java\n"
          ]
        }
      ]
    },
    {
      "cell_type": "code",
      "source": [
        "!javac VolunteerTest.java"
      ],
      "metadata": {
        "id": "8cyoMFHu-o6u"
      },
      "execution_count": null,
      "outputs": []
    },
    {
      "cell_type": "code",
      "source": [
        "!java VolunteerTest"
      ],
      "metadata": {
        "colab": {
          "base_uri": "https://localhost:8080/"
        },
        "id": "-NMhg25i-rdu",
        "outputId": "b5bb6ff2-68d1-422f-e7bc-8b145e763c79"
      },
      "execution_count": null,
      "outputs": [
        {
          "output_type": "stream",
          "name": "stdout",
          "text": [
            "Name: Anaxagoras, Age: 0, Role: null\n",
            "Name: Boethius, Age: 25, Role: null\n",
            "Name: Chiron, Age: 30, Role: Dog Walker\n"
          ]
        }
      ]
    },
    {
      "cell_type": "markdown",
      "source": [
        "## Making Strings out of Objects\n",
        "\n",
        "In Java, the `toString()` method is a special method that returns a string representation of an object. It is a feature of the abstract `Object` class, which is the (grand) parent of EVERY Java class. When you print an object, Java implicitly calls the object's `toString()` method. By default, this method returns a string that consists of the class name followed by the \"@\" symbol and the object's hashcode, which is not very informative. Fortunately, you can override this method to return a more meaningful description of the object.\n",
        "\n",
        "To override the `toString()` method, you simply define a new version of the method in your class that returns the string you want to use to represent your object.\n",
        "\n",
        "```java\n",
        "@Override\n",
        "public String toString() {\n",
        "    // Return a string representation of the object\n",
        "    return \"Descriptive string of the object\";\n",
        "}\n",
        "```\n",
        "\n",
        "Let's consider a `PetFood` class as an example. This class represents different kinds of pet food, and we want to override the `toString()` method to return a descriptive string of the pet food's properties."
      ],
      "metadata": {
        "id": "x_2515Gt_2ja"
      }
    },
    {
      "cell_type": "code",
      "source": [
        "%%writefile PetFood.java\n",
        "public class PetFood {\n",
        "    private String brand;\n",
        "    private String type; // e.g., Dry, Wet, Treats\n",
        "    private double weight; // Weight in pounds\n",
        "\n",
        "    // Constructor\n",
        "    public PetFood(String brand, String type, double weight) {\n",
        "        this.brand = brand;\n",
        "        this.type = type;\n",
        "        this.weight = weight;\n",
        "    }\n",
        "\n",
        "    // Overriding the toString() method\n",
        "    @Override\n",
        "    public String toString() {\n",
        "        return \"PetFood{\" +\n",
        "               \"brand='\" + brand + '\\'' +\n",
        "               \", type='\" + type + '\\'' +\n",
        "               \", weight=\" + weight +\n",
        "               '}';\n",
        "    }\n",
        "}\n"
      ],
      "metadata": {
        "colab": {
          "base_uri": "https://localhost:8080/"
        },
        "id": "AENHLsesAcWp",
        "outputId": "2cd75158-4fa4-4126-e4af-3507afc4ce30"
      },
      "execution_count": null,
      "outputs": [
        {
          "output_type": "stream",
          "name": "stdout",
          "text": [
            "Writing PetFood.java\n"
          ]
        }
      ]
    },
    {
      "cell_type": "code",
      "source": [
        "!javac PetFood.java"
      ],
      "metadata": {
        "id": "4-M2NhpGAjNa"
      },
      "execution_count": null,
      "outputs": []
    },
    {
      "cell_type": "markdown",
      "source": [
        "And we can use it in a client program like so:"
      ],
      "metadata": {
        "id": "zGGId7zXAoyN"
      }
    },
    {
      "cell_type": "code",
      "source": [
        "%%writefile PetFoodTest.java\n",
        "public class PetFoodTest {\n",
        "    public static void main(String[] args) {\n",
        "        PetFood food = new PetFood(\"HappyPet\", \"Dry\", 15.5);\n",
        "        System.out.println(food);\n",
        "    }\n",
        "}"
      ],
      "metadata": {
        "colab": {
          "base_uri": "https://localhost:8080/"
        },
        "id": "yvIp-0eTArkD",
        "outputId": "c573a0d0-9d1d-41e3-b644-169f61f686af"
      },
      "execution_count": null,
      "outputs": [
        {
          "output_type": "stream",
          "name": "stdout",
          "text": [
            "Writing PetFoodTest.java\n"
          ]
        }
      ]
    },
    {
      "cell_type": "code",
      "source": [
        "!javac PetFoodTest.java"
      ],
      "metadata": {
        "id": "n7VMTYSPAxFt"
      },
      "execution_count": null,
      "outputs": []
    },
    {
      "cell_type": "code",
      "source": [
        "!java PetFoodTest"
      ],
      "metadata": {
        "colab": {
          "base_uri": "https://localhost:8080/"
        },
        "id": "k7YUOKt0A2jX",
        "outputId": "27597f8b-fa3c-462d-ad51-b604186dc524"
      },
      "execution_count": null,
      "outputs": [
        {
          "output_type": "stream",
          "name": "stdout",
          "text": [
            "PetFood{brand='HappyPet', type='Dry', weight=15.5}\n"
          ]
        }
      ]
    },
    {
      "cell_type": "markdown",
      "source": [
        "### Quiz"
      ],
      "metadata": {
        "id": "fQDUtDzLGIgu"
      }
    },
    {
      "cell_type": "code",
      "source": [
        "!wget \"https://github.com/brendanpshea/colab-utilities/raw/main/quiz_tf.py\" -q\n",
        "from quiz_tf import run_quiz_url\n",
        "run_quiz_url(\"https://github.com/brendanpshea/programming_problem_solving/raw/main/quiz/quiz_9.csv\")"
      ],
      "metadata": {
        "colab": {
          "base_uri": "https://localhost:8080/",
          "height": 256,
          "referenced_widgets": [
            "6f197b1195a94ea7a5fc64e02a2c62e4",
            "d6576cbaec3745cf8a7d20b1814d025d",
            "0125e03e0f4d48748774f01715ac64e5",
            "aee26d7a25724760a6d8f7f5d20aad4f",
            "4ed24f8071034624be353b69124688e5",
            "2ee45b32edb8409d8328128f3d1f5d25",
            "aea95b68a9d54f4bab58b8ecea4d3ba8",
            "f34a824f32ea4783a95189bdc10187c2",
            "a3c482038ba94166acf9c46b74eaf8f7",
            "79ab3e958fec41d7935d6999347d542d",
            "6288d2a4276b4570828498983408c55a"
          ]
        },
        "id": "6G1L7iGSDDx-",
        "outputId": "65360783-6f04-4457-95d4-4c3135995c54"
      },
      "execution_count": null,
      "outputs": [
        {
          "output_type": "display_data",
          "data": {
            "text/plain": [
              "<IPython.core.display.HTML object>"
            ],
            "text/html": [
              "<h3>Question 1 of 43:</h3>"
            ]
          },
          "metadata": {}
        },
        {
          "output_type": "display_data",
          "data": {
            "text/plain": [
              "<IPython.core.display.HTML object>"
            ],
            "text/html": [
              "<p>In a class hierarchy, a subclass can only inherit from one superclass.</p>"
            ]
          },
          "metadata": {}
        },
        {
          "output_type": "display_data",
          "data": {
            "text/plain": [
              "HBox(children=(Button(description='True', style=ButtonStyle()), Button(description='False', style=ButtonStyle(…"
            ],
            "application/vnd.jupyter.widget-view+json": {
              "version_major": 2,
              "version_minor": 0,
              "model_id": "6f197b1195a94ea7a5fc64e02a2c62e4"
            }
          },
          "metadata": {}
        },
        {
          "output_type": "display_data",
          "data": {
            "text/plain": [
              "<IPython.core.display.HTML object>"
            ],
            "text/html": [
              "<p>Quiz aborted.</p>"
            ]
          },
          "metadata": {}
        },
        {
          "output_type": "display_data",
          "data": {
            "text/plain": [
              "<IPython.core.display.HTML object>"
            ],
            "text/html": [
              "\n",
              "    <h3>Quiz Summary:</h3>\n",
              "    <ul>\n",
              "        <li>Questions Answered: 0/43</li>\n",
              "        <li>Correct Answers: 0</li>\n",
              "        <li>Incorrect Answers: 0</li>\n",
              "        <li>Percentage: 0.00%</li>\n",
              "    </ul>\n",
              "    "
            ]
          },
          "metadata": {}
        }
      ]
    },
    {
      "cell_type": "markdown",
      "source": [
        "## Exercise: Implementing PetToy and PetToyTest Classes\n",
        "\n",
        "Create two classes, `PetToy` and `PetToyTest`, to practice writing overloaded constructors and overriding the `toString` method. You'll create a `PetToy` class representing various toys for pets, then test your implementation with a `PetToyTest` class.\n",
        "\n",
        "#### Step 1: Design the PetToy Class\n",
        "\n",
        "1.  Define Attributes: Decide on a few attributes for the `PetToy` class. For example, `name`, `type` (e.g., chew toy, puzzle), and `inStock`.\n",
        "\n",
        "2.  Write Overloaded Constructors:\n",
        "\n",
        "    -   Create one constructor that initializes all attributes.\n",
        "    -   Create a second constructor that initializes only `name` and `type`, assuming a default value of true for `inStock`.\n",
        "3.  Override the `toString` Method: Override the `toString` method to return a string representation of the `PetToy` object that includes all its attributes."
      ],
      "metadata": {
        "id": "Ais7zj8ECAwV"
      }
    },
    {
      "cell_type": "code",
      "source": [
        "%%writefile PetToy.java\n",
        "public class PetToy{\n",
        "\n",
        "}"
      ],
      "metadata": {
        "id": "dCzP_MPiCCBU"
      },
      "execution_count": null,
      "outputs": []
    },
    {
      "cell_type": "code",
      "source": [
        "!javac PetToy.java"
      ],
      "metadata": {
        "id": "39FBqJnACI2D"
      },
      "execution_count": null,
      "outputs": []
    },
    {
      "cell_type": "markdown",
      "source": [
        "#### Step 2: Create the PetToyTest Class\n",
        "\n",
        "1.  Use both constructors to create several `PetToy` objects with various combinations of attributes.\n",
        "\n",
        "2.  Use the `System.out.println` method to print the objects. This will implicitly call the overridden `toString` method of each object"
      ],
      "metadata": {
        "id": "-UKVZDeKCVTJ"
      }
    },
    {
      "cell_type": "code",
      "source": [
        "%%writefile PetToyTest.java\n",
        "public class PetToyTest{\n",
        "\n",
        "}"
      ],
      "metadata": {
        "id": "nI4EFlbICWdb"
      },
      "execution_count": null,
      "outputs": []
    },
    {
      "cell_type": "code",
      "source": [
        "!javac PetToyTest"
      ],
      "metadata": {
        "id": "QLelx3a5Ccxz"
      },
      "execution_count": null,
      "outputs": []
    },
    {
      "cell_type": "code",
      "source": [
        "!java PetToyTest"
      ],
      "metadata": {
        "id": "6BsE0R1jCgZl"
      },
      "execution_count": null,
      "outputs": []
    },
    {
      "cell_type": "markdown",
      "source": [
        "## Conclusion: Inheritance and Polymorphism in Complex Software Systems\n",
        "\n",
        "As we've seen in this chapter, inheritance and polymorphism are foundational concepts in object-oriented programming (OOP) that significantly contribute to the development and maintenance of complex software systems. Understanding these concepts is crucial for leveraging the full potential of OOP languages like Java to build scalable, robust, and maintainable software solutions.\n",
        "\n",
        "**Inheritance** allows classes to inherit properties and methods from other classes, promoting code reuse and reducing redundancy. This capability enables developers to build new functionalities on existing codebases efficiently, ensuring that software systems can evolve and expand over time without unnecessary duplication of effort.\n",
        "\n",
        "1. By inheriting from base classes, new classes can use existing code without rewriting it, speeding up the development process.\n",
        "2. Inheritance creates a clear hierarchy, making it easier to understand relationships between different parts of a system.\n",
        "\n",
        "**Polymorphism** enables objects of different classes to be treated as objects of a common superclass, allowing the same method to perform differently based on the object it is acting upon. This feature is vital for designing flexible systems where components can be easily interchanged or extended.\n",
        "\n",
        "1. Software can be written to work with objects of superclass types, enabling it to work with any subclass instance. This makes it easier to add new functionalities without altering the existing system.\n",
        "2. Changes to superclass methods can propagate to subclasses, allowing for centralized updates and minimizing the risk of inconsistencies.\n",
        "\n",
        "The power of object-oriented programming comes, in large part, from these sorts of features. (This is *part* of the reason that many large scale software systems--such as the applications that might be used to manage a veterinary clinic--will be written using object-oriented Java code, rather than procedural C code or Python scripts).\n",
        "\n"
      ],
      "metadata": {
        "id": "fC-SPwQbEYhk"
      }
    },
    {
      "cell_type": "markdown",
      "source": [
        "## Review With Quizlet"
      ],
      "metadata": {
        "id": "wbrUATx3Eb9y"
      }
    },
    {
      "cell_type": "code",
      "source": [
        "%%html\n",
        "<iframe src=\"https://quizlet.com/893878240/learn/embed?i=psvlh&x=1jj1\" height=\"500\" width=\"100%\" style=\"border:0\"></iframe>"
      ],
      "metadata": {
        "id": "B9vH_9TWEdxy"
      },
      "execution_count": null,
      "outputs": []
    },
    {
      "cell_type": "markdown",
      "source": [
        "## Glossary\n",
        "\n",
        "| Term | Definition |\n",
        "| --- | --- |\n",
        "| Inheritance | A mechanism in which one class acquires the properties (methods and fields) of another. With this feature, information is made manageable in a hierarchical order. |\n",
        "| Subclass | A class that extends another class, inheriting its features and behaviors, allowing for method overriding and additional properties. |\n",
        "| Superclass | The class from which a subclass inherits features and behaviors. Acts as a base or parent class. |\n",
        "| Abstract Class | A class that cannot be instantiated and is designed to be extended by other classes. May contain abstract methods as well as concrete methods. |\n",
        "| Abstract Method | A method without an implementation, intended to be implemented by subclasses derived from an abstract class. |\n",
        "| Concrete Class | A class that can be instantiated and may contain a mix of methods with and without implementation. Unlike abstract classes, concrete classes do not contain abstract methods. |\n",
        "| Concrete Method | A method in a class that has an implementation. It provides specific behavior and can be overridden by subclasses. |\n",
        "| Method Overloading | The ability to define multiple methods with the same name but different parameter lists within the same class. It allows methods to perform similar functions but with different types or numbers of inputs. |\n",
        "| Polymorphism | The ability of an object to take on many forms. It allows for one interface to be used for a general class of actions. The specific action is determined by the exact nature of the situation. |\n",
        "| super() | A reference used to call superclass methods, and to access the superclass constructor. |\n",
        "| Encapsulation | The bundling of data with the methods that operate on that data, or the restriction of direct access to some of an object's components. This concept is used to hide the internal representation, or state, of an object from the outside. |\n",
        "| Protected | An access modifier which ensures that the member is accessible within its own package and by subclasses. |"
      ],
      "metadata": {
        "id": "-Yfd_XtUHxB0"
      }
    },
    {
      "cell_type": "markdown",
      "source": [
        "## Code to Know: Inheritance and Abstract Classes\n",
        "\n",
        "| Java Code | Concept |\n",
        "| --- | --- |\n",
        "| `public abstract class SuperPet {...}` | Declaring an abstract class named `SuperPet`. |\n",
        "| `public abstract void usePower();` | Declaring an abstract method `usePower()` in the `SuperPet` class. |\n",
        "| `public class SuperDog extends SuperPet {...}` | Creating a subclass `SuperDog` that inherits from the `SuperPet` class. |\n",
        "| `super(name, \"Super Strength\");` | Using the `super` keyword to call the constructor of the superclass `SuperPet`. |\n",
        "| `@Override public void usePower() {...}` | Overriding the abstract method `usePower()` in the `SuperDog` subclass. |\n",
        "| `SuperPet myPet = new SuperDog(\"Krypto\");` | Polymorphism: using a `SuperPet` reference to hold an object of the `SuperDog` subclass. |\n",
        "| `public Volunteer(String name) {...}` | Defining a constructor for the `Volunteer` class that takes a `name` parameter. |\n",
        "| `this(name, age);` | Using the `this` keyword to call another constructor in the same class. |\n",
        "| `@Override public String toString() {...}` | Overriding the `toString()` method to provide a custom string representation of an object. |\n",
        "| `public abstract class Book {...}` | Declaring an abstract `Book` class as a base for different types of books. |\n",
        "| `public class FictionBook extends Book {...}` | Creating a concrete subclass `FictionBook` that extends the abstract `Book` class. |\n",
        "| `super(title, author, isbn);` | Using the `super` keyword to call the constructor of the superclass `Book` from a subclass. |"
      ],
      "metadata": {
        "id": "s4rcxFwGDtJA"
      }
    },
    {
      "cell_type": "code",
      "source": [],
      "metadata": {
        "id": "VtdbXvOxVWnX"
      },
      "execution_count": null,
      "outputs": []
    }
  ]
}