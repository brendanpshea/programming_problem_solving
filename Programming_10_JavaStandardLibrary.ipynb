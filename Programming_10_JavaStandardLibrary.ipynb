{
  "nbformat": 4,
  "nbformat_minor": 0,
  "metadata": {
    "colab": {
      "provenance": [],
      "authorship_tag": "ABX9TyOOkAACqfSvD6oK+t2YoRxa",
      "include_colab_link": true
    },
    "kernelspec": {
      "name": "python3",
      "display_name": "Python 3"
    },
    "language_info": {
      "name": "python"
    }
  },
  "cells": [
    {
      "cell_type": "markdown",
      "metadata": {
        "id": "view-in-github",
        "colab_type": "text"
      },
      "source": [
        "<a href=\"https://colab.research.google.com/github/brendanpshea/programming_problem_solving/blob/main/Programming_10_JavaStandardLibrary.ipynb\" target=\"_parent\"><img src=\"https://colab.research.google.com/assets/colab-badge.svg\" alt=\"Open In Colab\"/></a>"
      ]
    },
    {
      "cell_type": "markdown",
      "source": [
        "# The Java Ecosystem and Standard Library\n",
        "### Brendan Shea, PhD\n",
        "Welcome to the fascinating world of the Java Ecosystem and Standard Library! Just like Dr. Frankenstein, who stitched together various body parts to create his legendary creature, as Java developers, you have the power to build incredible programs by leveraging the vast collection of packages and libraries available in the Java Ecosystem.\n",
        "\n",
        "Imagine your Java program as the creature, waiting to be brought to life. The Java Ecosystem is like your laboratory, filled with shelves upon shelves of powerful tools and components. These packages and libraries are the body parts you can use to enhance your creation and make it more functional and efficient.\n",
        "\n",
        "At the heart of your laboratory lies the **Java Standard Library (JSL)**, a collection of essential packages that come pre-installed with every Java Development Kit (JDK). It's like the brain and vital organs of your creature, providing the core functionality needed to bring your program to life.\n",
        "\n",
        "In this chapter, we will embark on a thrilling journey through the Java Ecosystem and Standard Library. We'll explore the concept of **packages** and **projects** and how they help organize your code, just like how Dr. Frankenstein kept his laboratory organized with labeled jars and containers.\n",
        "\n",
        "Next, we'll delve into the key packages of the Java Standard Library, such as `java.lang` for fundamental classes, `java.util` for powerful data structures, `java.io` for input/output operations, and many more. These packages will serve as the building blocks for your Java creature, enabling it to perform various tasks and interact with the world around it.\n",
        "\n",
        "So, put on your lab coat, fire up your IDE, and let's embark on this exciting adventure together! By the end of this chapter, you'll have the knowledge and skills to create your own Java creatures, harnessing the power of the Java Ecosystem and Standard Library. Let's bring your programs to life and make Dr. Frankenstein proud!"
      ],
      "metadata": {
        "id": "o1xDxfOh3zNr"
      }
    },
    {
      "cell_type": "markdown",
      "source": [
        "## What are packages?\n",
        "\n",
        "Imagine Dr. Frankenstein's laboratory, filled with various body parts, chemicals, and equipment. To keep everything organized, he decides to store related items in separate rooms and labeled shelves. In Java, packages serve a similar purpose by grouping related classes, interfaces, and other types together, making your code more organized and easier to navigate.\n",
        "\n",
        "But packages aren't just a conceptual organization; they directly relate to the directory structure of your Java project. Just like how Dr. Frankenstein might store his collections of brains in the \"Brain Box\" and his collection of hearts in the \"Jar of Hearts,\" packages in Java correspond to directories in your project's file system.\n",
        "\n",
        "Here's how packages and directory structure are related:\n",
        "\n",
        "1.  **Package Declaration.** When you declare a package at the top of your Java file using the `package` keyword, it indicates the directory structure where the file should be located. For example, if you declare `package com.example.monster;`, it means that the Java file should be stored in the directory `com/example/monster/` relative to your project's source directory.\n",
        "2.  **Directory Structure.** The package name directly maps to the directory structure. Each part of the package name represents a directory. In the example `com.example.monster`, `com` is a directory, `example` is a subdirectory inside `com`, and `monster` is a subdirectory inside `example`. This creates a hierarchy of directories that mimics the package structure.\n",
        "3.  **Compilation and Class Files.** When you compile your Java files, the compiler generates `.class` files in the corresponding package directories. For example, if you have a class named `Creature` in the `com.example.monster` package, the compiled `Creature.class` file will be placed in the `com/example/monster/` directory.\n",
        "4.  **Importing Packages.** To use classes from other packages in your code, you need to import them using the `import` keyword followed by the package name and the class name. This tells Java where to find the required classes based on their package and directory structure.\n",
        "\n",
        "Here's an example of how the package declaration relates to the directory structure:\n",
        "\n",
        "```java\n",
        "// File: com/example/monster/Creature.java  \n",
        "package  com.example.monster;\n",
        "public  class  Creature  {   \n",
        "   // Class code goes here  \n",
        "   }\n",
        "```\n",
        "\n",
        "In this example, the `Creature` class is declared in the `com.example.monster` package, and the corresponding Java file `Creature.java` is stored in the `com/example/monster/` directory.\n",
        "\n",
        "By organizing your code into packages and following the corresponding directory structure, you ensure that your project remains well-structured and maintainable. It's like having a well-organized laboratory where Dr. Frankenstein can easily navigate to the \"Brain Box\" or the \"Jar of Hearts\" to find the parts he needs."
      ],
      "metadata": {
        "id": "-jwSnrDeC3IE"
      }
    },
    {
      "cell_type": "markdown",
      "source": [
        "## Java Project: Dr. Frankenstein's Creature Factory\n",
        "\n",
        "Dr. Frankenstein has a grand vision: to create not just one, but many different creatures, each with its own unique set of organs and characteristics. To accomplish this, he needs a well-organized and structured approach. In the world of Java, this is where the concept of a Java Project comes into play.\n",
        "\n",
        "A **Java Project** is like Dr. Frankenstein's Creature Factory. It's a centralized workspace that contains all the necessary components, such as source code files, libraries, resources, and configuration files, needed to build and manage his creature creations.\n",
        "\n",
        "Here's how a Java Project helps Dr. Frankenstein achieve his goals:\n",
        "\n",
        "1. Just like how Dr. Frankenstein needs to keep track of the different body parts and organs for each creature, a Java Project organizes the source code files into packages and directories. He can have separate packages for different aspects of his creatures, such as `com.frankenstein.organs`, `com.frankenstein.creatures`, and `com.frankenstein.data`. This structure allows him to easily navigate and manage the code for each creature and its components.\n",
        "2.   Dr. Frankenstein can define separate Java classes for each type of creature he wants to create. For example, he can have a `Humanoid` class, a `Chimera` class, and a `Cyborg` class, each with its own unique attributes and methods. These classes can be stored in their respective package directories within the Java Project.\n",
        "3.  To create the different organs and body parts for his creatures, Dr. Frankenstein can define separate classes for each component. For instance, he can have a `Brain` class, a `Heart` class, and a `Limb` class. These classes can be organized into the `com.frankenstein.organs` package, making it easy to reuse and integrate them into different creature classes.\n",
        "4.  Data Management: Dr. Frankenstein needs to keep track of various data points about his creatures, such as their creation date, unique identification numbers, and experimental notes. He can create separate classes or utilities within the Java Project to handle data management. For example, he can have a `CreatureDatabase` class in the `com.frankenstein.data` package that manages the storage and retrieval of creature data.\n",
        "5.  Creating creatures is a complex task, and Dr. Frankenstein may need to rely on external libraries or resources to enhance their functionality. A Java Project allows him to easily integrate these external dependencies into his project. He can add libraries for advanced artificial intelligence, bio-engineering simulations, or even a library for playing dramatic lightning sound effects whenever a creature comes to life!\n",
        "6.  Once Dr. Frankenstein has developed his creature classes and integrated all the necessary components, a Java Project provides the tools and configuration files needed to build and deploy his creations. He can use build automation tools like Apache Maven or Gradle to manage the project's dependencies, compile the source code, and package his creatures into executable jars or distribution files.\n",
        "\n",
        "By organizing his work within a Java Project, Dr. Frankenstein can efficiently manage the complexity of creating multiple creatures with different organs and maintain data about them. The project structure provides a clear separation of concerns, allowing him to focus on the individual components while still having a holistic view of his entire creature factory.\n"
      ],
      "metadata": {
        "id": "MOUn3IuUPGtJ"
      }
    },
    {
      "cell_type": "markdown",
      "source": [
        "### Example: Structure of a Java Project\n",
        "\n",
        "```\n",
        "CreatureFactory/\n",
        "│\n",
        "├── src/\n",
        "│   ├── main/\n",
        "│   │   ├── java/\n",
        "│   │   │   ├── com/\n",
        "│   │   │   │   ├── frankenstein/\n",
        "│   │   │   │   │   ├── creatures/\n",
        "│   │   │   │   │   │   ├── Creature.java         // Base class for all creatures\n",
        "│   │   │   │   │   │   ├── Humanoid.java         // Humanoid creature class\n",
        "│   │   │   │   │   │   └── Chimera.java          // Chimera creature class\n",
        "│   │   │   │   │   ├── organs/\n",
        "│   │   │   │   │   │   ├── Organ.java            // Base class for all organs\n",
        "│   │   │   │   │   │   ├── Brain.java            // Brain organ class\n",
        "│   │   │   │   │   │   └── Heart.java            // Heart organ class\n",
        "│   │   │   │   │   ├── data/\n",
        "│   │   │   │   │   │   └── CreatureDatabase.java // Class for managing creature data\n",
        "│   │   │   │   │   └── Main.java                 // Main class to run the application\n",
        "│   │   │   │   └── resources/\n",
        "│   │   │   │       └── creature_data.json       // JSON file for storing creature data\n",
        "│   │   │   └── lib/\n",
        "│   │   │       ├── ai_library.jar               // External AI library\n",
        "│   │   │       └── bio_simulation.jar           // External bio-simulation library\n",
        "│   │   └── test/\n",
        "│   │       └── java/\n",
        "│   │           └── com/\n",
        "│   │               └── frankenstein/\n",
        "│   │                   ├── creatures/\n",
        "│   │                   │   ├── HumanoidTest.java  // Unit tests for Humanoid class\n",
        "│   │                   │   └── ChimeraTest.java   // Unit tests for Chimera class\n",
        "│   │                   └── organs/\n",
        "│   │                       ├── BrainTest.java     // Unit tests for Brain class\n",
        "│   │                       └── HeartTest.java     // Unit tests for Heart class\n",
        "│   └── pom.xml                                   // Maven configuration file\n",
        "│\n",
        "└── README.md                                     // Project documentation and instructions\n",
        "```\n"
      ],
      "metadata": {
        "id": "ndnTvFGePO0s"
      }
    },
    {
      "cell_type": "markdown",
      "source": [
        " ### Managing Java Projects Using IDEs\n",
        " Nearly all popular Java Integrated Development Environments (IDEs) allow for the automatic creation and managament of Java Projects. (And, in fact, the default assumption is that *every* Java class must belong to some particular project and package). For example, see the follows:\n",
        "\n",
        "- **Eclipse:** https://www.tutorialspoint.com/eclipse/eclipse_create_java_project.htm\n",
        "- **IntelliJ:** https://www.jetbrains.com/help/idea/creating-and-running-your-first-java-application.htm\n",
        "- **Netbeans:** https://docs.oracle.com/javase/tutorial/getStarted/cupojava/netbeans.html\n",
        "- **VSCode:** https://code.visualstudio.com/docs/java/java-tutorial\n"
      ],
      "metadata": {
        "id": "hhP6JWGxVa3z"
      }
    },
    {
      "cell_type": "markdown",
      "source": [
        "## Exercise: Getting Java Set up Locally\n",
        "For this exercise, I'd like you to install Java and an IDE of your choice (either Eclipse, IntelliJ, Netbeans, or VSCode) on your local machine. The end goal is to successfully create, compile, and run a \"Hello, World\" type application using one of the above options. (Note: If you are using a campus computer, one of these is most likely already configured for you!). Some links that might prove helpful:\n",
        "\n",
        "- https://www.eclipse.org/downloads/packages/installer\n",
        "- https://jetbrains.com/help/idea/installation-guide.html#standalone\n",
        "- https://netbeans.apache.org/front/main/index.html\n",
        "  - Note: Netbeans requries that you first install a Java Development Kit (JDK).\n",
        "- https://code.visualstudio.com/docs/java/java-tutorial\n",
        "  - Note: First install VSCode. Then, if you follow these instructions, Microsoft's JDK will be installed alongside VSCode).\n",
        "\n",
        "Once you've installed one of these, you can follow the instructions in the previous section to create and run a Java project."
      ],
      "metadata": {
        "id": "9QjmeAS9W58J"
      }
    },
    {
      "cell_type": "markdown",
      "source": [
        "## Answer\n",
        "Describe here how the process went for you."
      ],
      "metadata": {
        "id": "aBmvBadAYE3X"
      }
    },
    {
      "cell_type": "code",
      "source": [],
      "metadata": {
        "id": "u-vSqHlLC2QW"
      },
      "execution_count": null,
      "outputs": []
    },
    {
      "cell_type": "code",
      "source": [],
      "metadata": {
        "id": "zN_1La2N35E9"
      },
      "execution_count": null,
      "outputs": []
    }
  ]
}