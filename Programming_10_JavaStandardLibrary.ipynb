{
  "nbformat": 4,
  "nbformat_minor": 0,
  "metadata": {
    "colab": {
      "provenance": [],
      "authorship_tag": "ABX9TyNHCMTJGZKy7WfaFceFjDO+",
      "include_colab_link": true
    },
    "kernelspec": {
      "name": "python3",
      "display_name": "Python 3"
    },
    "language_info": {
      "name": "python"
    }
  },
  "cells": [
    {
      "cell_type": "markdown",
      "metadata": {
        "id": "view-in-github",
        "colab_type": "text"
      },
      "source": [
        "<a href=\"https://colab.research.google.com/github/brendanpshea/programming_problem_solving/blob/main/Programming_10_JavaStandardLibrary.ipynb\" target=\"_parent\"><img src=\"https://colab.research.google.com/assets/colab-badge.svg\" alt=\"Open In Colab\"/></a>"
      ]
    },
    {
      "cell_type": "markdown",
      "source": [
        "# The Java Ecosystem and Standard Library\n",
        "### Brendan Shea, PhD\n",
        "Welcome to the fascinating world of the Java Ecosystem and Standard Library! Just like Dr. Frankenstein, who stitched together various body parts to create his legendary creature, as Java developers, you have the power to build incredible programs by leveraging the vast collection of packages and libraries available in the Java Ecosystem.\n",
        "\n",
        "Imagine your Java program as the creature, waiting to be brought to life. The Java Ecosystem is like your laboratory, filled with shelves upon shelves of powerful tools and components. These packages and libraries are the body parts you can use to enhance your creation and make it more functional and efficient.\n",
        "\n",
        "At the heart of your laboratory lies the **Java Standard Library (JSL)**, a collection of essential packages that come pre-installed with every Java Development Kit (JDK). It's like the brain and vital organs of your creature, providing the core functionality needed to bring your program to life.\n",
        "\n",
        "In this chapter, we will embark on a thrilling journey through the Java Ecosystem and Standard Library. We'll explore the concept of **packages** and **projects** and how they help organize your code, just like how Dr. Frankenstein kept his laboratory organized with labeled jars and containers.\n",
        "\n",
        "Next, we'll delve into the key packages of the Java Standard Library, such as `java.lang` for fundamental classes, `java.util` for powerful data structures, `java.io` for input/output operations, and many more. These packages will serve as the building blocks for your Java creature, enabling it to perform various tasks and interact with the world around it.\n",
        "\n",
        "So, put on your lab coat, fire up your IDE, and let's embark on this exciting adventure together! By the end of this chapter, you'll have the knowledge and skills to create your own Java creatures, harnessing the power of the Java Ecosystem and Standard Library. Let's bring your programs to life and make Dr. Frankenstein proud!"
      ],
      "metadata": {
        "id": "o1xDxfOh3zNr"
      }
    },
    {
      "cell_type": "markdown",
      "source": [
        "## What are packages?\n",
        "\n",
        "Imagine Dr. Frankenstein's laboratory, filled with various body parts, chemicals, and equipment. To keep everything organized, he decides to store related items in separate rooms and labeled shelves. In Java, packages serve a similar purpose by grouping related classes, interfaces, and other types together, making your code more organized and easier to navigate.\n",
        "\n",
        "But packages aren't just a conceptual organization; they directly relate to the directory structure of your Java project. Just like how Dr. Frankenstein might store his collections of brains in the \"Brain Box\" and his collection of hearts in the \"Jar of Hearts,\" packages in Java correspond to directories in your project's file system.\n",
        "\n",
        "Here's how packages and directory structure are related:\n",
        "\n",
        "1.  **Package Declaration.** When you declare a package at the top of your Java file using the `package` keyword, it indicates the directory structure where the file should be located. For example, if you declare `package com.example.monster;`, it means that the Java file should be stored in the directory `com/example/monster/` relative to your project's source directory.\n",
        "2.  **Directory Structure.** The package name directly maps to the directory structure. Each part of the package name represents a directory. In the example `com.example.monster`, `com` is a directory, `example` is a subdirectory inside `com`, and `monster` is a subdirectory inside `example`. This creates a hierarchy of directories that mimics the package structure.\n",
        "3.  **Compilation and Class Files.** When you compile your Java files, the compiler generates `.class` files in the corresponding package directories. For example, if you have a class named `Creature` in the `com.example.monster` package, the compiled `Creature.class` file will be placed in the `com/example/monster/` directory.\n",
        "4.  **Importing Packages.** To use classes from other packages in your code, you need to import them using the `import` keyword followed by the package name and the class name. This tells Java where to find the required classes based on their package and directory structure.\n",
        "\n",
        "Here's an example of how the package declaration relates to the directory structure:\n",
        "\n",
        "```java\n",
        "// File: com/example/monster/Creature.java  \n",
        "package  com.example.monster;\n",
        "public  class  Creature  {   \n",
        "   // Class code goes here  \n",
        "   }\n",
        "```\n",
        "\n",
        "In this example, the `Creature` class is declared in the `com.example.monster` package, and the corresponding Java file `Creature.java` is stored in the `com/example/monster/` directory.\n",
        "\n",
        "By organizing your code into packages and following the corresponding directory structure, you ensure that your project remains well-structured and maintainable. It's like having a well-organized laboratory where Dr. Frankenstein can easily navigate to the \"Brain Box\" or the \"Jar of Hearts\" to find the parts he needs."
      ],
      "metadata": {
        "id": "-jwSnrDeC3IE"
      }
    },
    {
      "cell_type": "markdown",
      "source": [
        "## Importing and Using Packages\n",
        "To use classes from other packages in your Java program, you need to import them at the beginning of your Java file. Imagine Dr. Frankenstein rummaging through his laboratory's shelves, seeking the necessary components for his creation. Similarly, you use the `import` keyword to bring in the required packages and classes.\n",
        "\n",
        "Here's the general syntax for importing packages:\n",
        "\n",
        "```java\n",
        "import  package.name.ClassName;\n",
        "```\n",
        "\n",
        "For example, let's say Dr. Frankenstein needs to use the `Brain` class from the `com.frankenstein.organs` package in his `Creature` class. He would import it like this:\n",
        "\n",
        "```java\n",
        "import  com.frankenstein.organs.Brain;\n",
        "```\n",
        "\n",
        "You can also import all the classes from a package using the wildcard `*` symbol:\n",
        "\n",
        "```java\n",
        "import  com.frankenstein.organs.*;\n",
        "```\n",
        "\n",
        "Once you have imported the necessary packages and classes, you can use them in your Java code. It's like Dr. Frankenstein incorporating the imported components into his creation.\n",
        "\n",
        "Here's an example of how Dr. Frankenstein can use the imported `Brain` class in his `Creature` class:\n",
        "\n",
        "```java\n",
        "package  com.frankenstein.creatures;\n",
        "import  com.frankenstein.organs.Brain;\n",
        "public  class  Creature  {   \n",
        "  private  Brain brain;\n",
        "  public  Creature()  {  \n",
        "    brain =  new  Brain();   \n",
        "    }\n",
        "  // Other methods and code...  \n",
        "  }\n",
        "```\n",
        "\n",
        "In this example, the `Creature` class is able to create an instance of the `Brain` class and use it as a member variable because it has been imported at the beginning of the file.\n",
        "\n",
        "### Handling Naming Conflicts\n",
        "In case you have naming conflicts between classes from different packages, you can use the fully qualified class name to distinguish between them.\n",
        "\n",
        "For example, if Dr. Frankenstein has a `Brain` class in both the `com.frankenstein.organs` package and the `com.frankenstein.ai` package, he can use the fully qualified class name to specify which one to use:\n",
        "\n",
        "```java\n",
        "com.frankenstein.organs.Brain organicBrain =  new  com.frankenstein.organs.Brain();\n",
        "com.frankenstein.ai.Brain artificialBrain =  new  com.frankenstein.ai.Brain();\n",
        "```\n",
        "\n",
        "By using the fully qualified class names, Dr. Frankenstein can avoid ambiguity and ensure he is using the correct `Brain` class for his creation.\n",
        "\n",
        "That's it! You now know how to import and use packages in your Java programs. Remember, just like Dr. Frankenstein carefully selects and incorporates the right components into his creations, you should choose and import the necessary packages and classes to build your Java masterpiece!"
      ],
      "metadata": {
        "id": "6ZBTP1bI4oUX"
      }
    },
    {
      "cell_type": "markdown",
      "source": [
        "## Java Project: Dr. Frankenstein's Creature Factory\n",
        "\n",
        "Dr. Frankenstein has a grand vision: to create not just one, but many different creatures, each with its own unique set of organs and characteristics. To accomplish this, he needs a well-organized and structured approach. In the world of Java, this is where the concept of a Java Project comes into play.\n",
        "\n",
        "A **Java Project** is like Dr. Frankenstein's Creature Factory. It's a centralized workspace that contains all the necessary components, such as source code files, libraries, resources, and configuration files, needed to build and manage his creature creations.\n",
        "\n",
        "Here's how a Java Project helps Dr. Frankenstein achieve his goals:\n",
        "\n",
        "1. Just like how Dr. Frankenstein needs to keep track of the different body parts and organs for each creature, a Java Project organizes the source code files into packages and directories. He can have separate packages for different aspects of his creatures, such as `com.frankenstein.organs`, `com.frankenstein.creatures`, and `com.frankenstein.data`. This structure allows him to easily navigate and manage the code for each creature and its components.\n",
        "2.   Dr. Frankenstein can define separate Java classes for each type of creature he wants to create. For example, he can have a `Humanoid` class, a `Chimera` class, and a `Cyborg` class, each with its own unique attributes and methods. These classes can be stored in their respective package directories within the Java Project.\n",
        "3.  To create the different organs and body parts for his creatures, Dr. Frankenstein can define separate classes for each component. For instance, he can have a `Brain` class, a `Heart` class, and a `Limb` class. These classes can be organized into the `com.frankenstein.organs` package, making it easy to reuse and integrate them into different creature classes.\n",
        "4.  Data Management: Dr. Frankenstein needs to keep track of various data points about his creatures, such as their creation date, unique identification numbers, and experimental notes. He can create separate classes or utilities within the Java Project to handle data management. For example, he can have a `CreatureDatabase` class in the `com.frankenstein.data` package that manages the storage and retrieval of creature data.\n",
        "5.  Creating creatures is a complex task, and Dr. Frankenstein may need to rely on external libraries or resources to enhance their functionality. A Java Project allows him to easily integrate these external dependencies into his project. He can add libraries for advanced artificial intelligence, bio-engineering simulations, or even a library for playing dramatic lightning sound effects whenever a creature comes to life!\n",
        "6.  Once Dr. Frankenstein has developed his creature classes and integrated all the necessary components, a Java Project provides the tools and configuration files needed to build and deploy his creations. He can use build automation tools like Apache Maven or Gradle to manage the project's dependencies, compile the source code, and package his creatures into executable jars or distribution files.\n",
        "\n",
        "By organizing his work within a Java Project, Dr. Frankenstein can efficiently manage the complexity of creating multiple creatures with different organs and maintain data about them. The project structure provides a clear separation of concerns, allowing him to focus on the individual components while still having a holistic view of his entire creature factory.\n"
      ],
      "metadata": {
        "id": "MOUn3IuUPGtJ"
      }
    },
    {
      "cell_type": "markdown",
      "source": [
        "### Example: Structure of a Java Project\n",
        "\n",
        "```\n",
        "CreatureFactory/\n",
        "│\n",
        "├── src/\n",
        "│   ├── main/\n",
        "│   │   ├── java/\n",
        "│   │   │   ├── com/\n",
        "│   │   │   │   ├── frankenstein/\n",
        "│   │   │   │   │   ├── creatures/\n",
        "│   │   │   │   │   │   ├── Creature.java         // Base class for all creatures\n",
        "│   │   │   │   │   │   ├── Humanoid.java         // Humanoid creature class\n",
        "│   │   │   │   │   │   └── Chimera.java          // Chimera creature class\n",
        "│   │   │   │   │   ├── organs/\n",
        "│   │   │   │   │   │   ├── Organ.java            // Base class for all organs\n",
        "│   │   │   │   │   │   ├── Brain.java            // Brain organ class\n",
        "│   │   │   │   │   │   └── Heart.java            // Heart organ class\n",
        "│   │   │   │   │   ├── data/\n",
        "│   │   │   │   │   │   └── CreatureDatabase.java // Class for managing creature data\n",
        "│   │   │   │   │   └── Main.java                 // Main class to run the application\n",
        "│   │   │   │   └── resources/\n",
        "│   │   │   │       └── creature_data.json       // JSON file for storing creature data\n",
        "│   │   │   └── lib/\n",
        "│   │   │       ├── ai_library.jar               // External AI library\n",
        "│   │   │       └── bio_simulation.jar           // External bio-simulation library\n",
        "│   │   └── test/\n",
        "│   │       └── java/\n",
        "│   │           └── com/\n",
        "│   │               └── frankenstein/\n",
        "│   │                   ├── creatures/\n",
        "│   │                   │   ├── HumanoidTest.java  // Unit tests for Humanoid class\n",
        "│   │                   │   └── ChimeraTest.java   // Unit tests for Chimera class\n",
        "│   │                   └── organs/\n",
        "│   │                       ├── BrainTest.java     // Unit tests for Brain class\n",
        "│   │                       └── HeartTest.java     // Unit tests for Heart class\n",
        "│   └── pom.xml                                   // Maven configuration file\n",
        "│\n",
        "└── README.md                                     // Project documentation and instructions\n",
        "```\n"
      ],
      "metadata": {
        "id": "ndnTvFGePO0s"
      }
    },
    {
      "cell_type": "markdown",
      "source": [
        " ### Managing Java Projects Using IDEs\n",
        " Nearly all popular Java Integrated Development Environments (IDEs) allow for the automatic creation and managament of Java Projects. (And, in fact, the default assumption is that *every* Java class must belong to some particular project and package). For example, see the follows:\n",
        "\n",
        "- **Eclipse:** https://www.tutorialspoint.com/eclipse/eclipse_create_java_project.htm\n",
        "- **IntelliJ:** https://www.jetbrains.com/help/idea/creating-and-running-your-first-java-application.htm\n",
        "- **Netbeans:** https://docs.oracle.com/javase/tutorial/getStarted/cupojava/netbeans.html\n",
        "- **VSCode:** https://code.visualstudio.com/docs/java/java-tutorial\n"
      ],
      "metadata": {
        "id": "hhP6JWGxVa3z"
      }
    },
    {
      "cell_type": "markdown",
      "source": [
        "## Discussion Questions\n",
        "1. Dr. Frankenstein organizes his creature components into different packages like com.frankenstein.organs and com.frankenstein.creatures. How does organizing classes into packages help in managing a large Java project? What benefits does it provide in terms of code organization and maintainability?\n",
        "2. In the example project structure, there are separate directories for main and test. Why might it be important to write \"main\" code and the tests for this code seperately?\n",
        "3. The project structure includes a resources directory to store files like creature_data.json. Discuss the role of resource (or \"data\") files in a Java project."
      ],
      "metadata": {
        "id": "5B3HGaET6G10"
      }
    },
    {
      "cell_type": "markdown",
      "source": [
        "## Exercise: Getting Java Set up Locally\n",
        "For this exercise, I'd like you to install Java and an IDE of your choice (either Eclipse, IntelliJ, Netbeans, or VSCode) on your local machine. The end goal is to successfully create, compile, and run a \"Hello, World\" type application using one of the above options. (Note: If you are using a campus computer, one of these is most likely already configured for you!). Some links that might prove helpful:\n",
        "\n",
        "- https://www.eclipse.org/downloads/packages/installer\n",
        "- https://jetbrains.com/help/idea/installation-guide.html#standalone\n",
        "- https://netbeans.apache.org/front/main/index.html\n",
        "  - Note: Netbeans requries that you first install a Java Development Kit (JDK).\n",
        "- https://code.visualstudio.com/docs/java/java-tutorial\n",
        "  - Note: First install VSCode. Then, if you follow these instructions, Microsoft's JDK will be installed alongside VSCode).\n",
        "\n",
        "Once you've installed one of these, you can follow the instructions in the previous section to create and run a Java project."
      ],
      "metadata": {
        "id": "9QjmeAS9W58J"
      }
    },
    {
      "cell_type": "markdown",
      "source": [
        "## Answer\n",
        "Describe here how the process went for you."
      ],
      "metadata": {
        "id": "aBmvBadAYE3X"
      }
    },
    {
      "cell_type": "markdown",
      "source": [
        "## The Java Standard Library\n",
        "Imagine the JSL as Dr. Frankenstein's trusted toolkit, containing all the essential instruments and components he needs to bring his creatures to life. Just like how Dr. Frankenstein relies on his toolkit, Java developers rely on the JSL to build powerful and functional programs.\n",
        "\n",
        "The **Java Standard Library**, also known as the Java Class Library or the Java API, is a comprehensive collection of pre-written software packages and classes that come bundled with the Java Development Kit (JDK). It provides a wide range of functionality and utilities that developers can use to build Java applications more efficiently.\n",
        "\n",
        "The JSL includes packages and classes for various purposes, such as:\n",
        "\n",
        "| Package Name | Description |\n",
        "| --- | --- |\n",
        "| `java.lang` | Contains fundamental classes that are essential for Java programming, such as `String`, `Math`, `Object`, and `System`. |\n",
        "| `java.util` | Provides classes and interfaces for managing collections of objects, including `List`, `Set`, `Map`, and `ArrayList`. |\n",
        "| `java.io` | Offers classes for performing input and output operations, such as reading from and writing to files, handling streams, and working with file systems. |\n",
        "| `java.net` | Contains classes for network programming, allowing Java programs to communicate over networks using protocols like TCP/IP and UDP. |\n",
        "| `java.util.concurrent` | Provides classes and interfaces for concurrent programming, enabling developers to write multi-threaded applications and handle synchronization. |\n",
        "| `java.time` | Introduced in Java 8, offers a set of classes for handling dates, times, and durations in a more intuitive and efficient manner. |\n",
        "| `java.security` | Includes classes and interfaces for implementing security features, such as cryptography, authentication, and access control. |\n",
        "| `java.awt` and `javax.swing` | Contain classes and interfaces for developing graphical user interfaces (GUIs) in Java. |\n",
        "| `java.sql` | Provides classes and interfaces for interacting with databases using the JDBC API. |\n",
        "| `javax.xml` | Offers classes and interfaces for processing XML documents and working with XML-related technologies. |\n",
        "\n",
        "\n",
        "These are just a few examples of the packages included in the JSL. The library covers a wide range of areas, including GUI development (`java.awt` and `javax.swing`), database connectivity (`java.sql`), XML processing (`javax.xml`), and more.\n",
        "\n",
        "The JSL acts as a solid foundation for Java development, providing well-tested and optimized code that developers can leverage to build robust and efficient applications. It saves developers time and effort by offering ready-to-use solutions for common programming tasks.\n",
        "\n",
        "So, just like how Dr. Frankenstein's toolkit empowers him to create incredible creatures, the Java Standard Library empowers Java developers to build powerful and sophisticated software applications with ease."
      ],
      "metadata": {
        "id": "PsM7rSV271-h"
      }
    },
    {
      "cell_type": "markdown",
      "source": [
        "## Basic Java with `java.lang`\n",
        "Imagine you're Dr. Frederick Frankenstein, the grandson of the infamous Dr. Victor Frankenstein. You've inherited your grandfather's castle and laboratory, and you're determined to create your own comedic monster. To assist you in this endeavor, you have the trusty `java.lang` package by your side.\n",
        "\n",
        "The `java.lang` package is like the brain of your monster - it contains the most fundamental and essential classes that are necessary for any Java program to function properly. These classes are automatically imported into every Java program, so you don't need to explicitly import them.\n",
        "\n",
        "Now, let's take a look at some of the important classes in the `java.lang` package:\n",
        "\n",
        "1.  *`Object` class--*This is the granddaddy of all classes in Java. Just like how all creatures in the Frankenstein universe are descendants of the original monster, every class in Java is a descendant of the `Object` class. It provides basic methods like `toString()`, `equals()`, and `hashCode()` that can be used by any object.\n",
        "2.  *`String` class--*Imagine Dr. Frederick Frankenstein exclaiming, \"It's alive!\" when his monster comes to life. That iconic phrase is an example of a string. The `String` class represents a sequence of characters and provides methods for manipulating and processing text data. It's like the voice box of your Java monster.\n",
        "3.  *`Math` class--*Picture Igor, Dr. Frankenstein's loyal assistant, performing complex calculations to determine the perfect voltage for bringing the monster to life. The `Math` class is like Igor's mathematical prowess. It provides methods for performing mathematical operations, such as `Math.sqrt()` for square root, `Math.random()` for generating random numbers, and `Math.pow()` for exponentiation.\n",
        "4.  *`System` class--*Imagine the elaborate machinery and contraptions in Dr. Frankenstein's laboratory. The `System` class is like the central control system of your Java program. It provides methods for interacting with the system, such as `System.out.println()` for displaying output, `System.currentTimeMillis()` for getting the current time, and `System.exit()` for terminating the program.\n",
        "5.  *`Exception` class--* Even the most well-intentioned experiments can go awry, just like how Dr. Frankenstein's monster ended up being a comedic disaster. The `Exception` class represents exceptional conditions or errors that occur during program execution. It provides methods for handling and propagating exceptions, allowing you to gracefully handle unexpected situations.\n",
        "\n",
        "These are just a few examples of the important classes in the `java.lang` package. Other notable classes include `Thread` for concurrent programming, `Class` for runtime class information, and `Enum` for defining enumerated types. In the next few sections, we'll take a closer look at some of the classes in `java.lang`.\n",
        "\n",
        "So, as you embark on your journey to create your own Java monster, remember that the `java.lang` package is your trusty companion, providing you with the essential tools and classes needed to bring your creation to life. With the power of `java.lang`, you can make your monster dance, sing, and even tell jokes, just like in \"Young Frankenstein\"!"
      ],
      "metadata": {
        "id": "2d5qtZXj94Mv"
      }
    },
    {
      "cell_type": "markdown",
      "source": [
        "### The Object Class\n",
        "\n",
        "The `Object` class is the root of the class hierarchy in Java. Every class in Java is directly or indirectly derived from the `Object` class. It provides several important methods that are inherited by all objects. Here are a few key methods:\n",
        "\n",
        "-   `toString()` returns a string representation of the object. Subclasses commonly override this function to provide a meaningful string representation.\n",
        "-   `equals(Object obj)` compares the object with another object for equality. By default, it compares the object references, but it can be overridden to provide custom equality comparison.\n",
        "-   `hashCode()` returns a hash code value for the object. It is used in hash-based data structures like `HashMap` and `HashSet` for efficient object retrieval."
      ],
      "metadata": {
        "id": "-Q3OZIh--U_9"
      }
    },
    {
      "cell_type": "markdown",
      "source": [
        "### String Class\n",
        "\n",
        "The `String` class represents a sequence of characters. It is an immutable class, meaning that once a string is created, its value cannot be changed. Here are some important methods of the `String` class:\n",
        "\n",
        "| Method | Description |\n",
        "| --- | --- |\n",
        "| `length()` | Returns the length of the string. |\n",
        "| `charAt(int index)` | Returns the character at the specified index in the string. |\n",
        "| `substring(int beginIndex, int endIndex)` | Returns a new string that is a substring of the original string, starting from `beginIndex` (inclusive) and ending at `endIndex` (exclusive). |\n",
        "| `equals(Object obj)` | Compares the string with another object for equality. |\n",
        "| `compareTo(String anotherString)` | Compares two strings lexicographically. Returns a negative integer, zero, or a positive integer if the string is less than, equal to, or greater than the specified string. |\n",
        "| `toLowerCase()` | Returns a new string with all characters converted to lowercase. |\n",
        "| `toUpperCase()` | Returns a new string with all characters converted to uppercase. |\n",
        "| `trim()` | Returns a new string with leading and trailing whitespace removed. |\n",
        "| `replace(char oldChar, char newChar)` | Returns a new string with all occurrences of `oldChar` replaced by `newChar`. |\n",
        "| `contains(CharSequence s)` | Returns `true` if the string contains the specified character sequence, otherwise `false`. |\n",
        "| `split(String regex)` | Splits the string into an array of substrings based on the specified regular expression. |\n",
        "| `startsWith(String prefix)` | Returns `true` if the string starts with the specified prefix, otherwise `false`. |\n",
        "| `endsWith(String suffix)` | Returns `true` if the string ends with the specified suffix, otherwise `false`. |\n",
        "| `isEmpty()` | Returns `true` if the string is empty (length is zero), otherwise `false`. |\n",
        "| `concat(String str)` | Concatenates the specified string to the end of the current string and returns a new string. |\n",
        "\n",
        "Here's an example:"
      ],
      "metadata": {
        "id": "MBpOd3O_-pI-"
      }
    },
    {
      "cell_type": "code",
      "source": [
        "%%writefile CreatureString.java\n",
        "\n",
        "public class CreatureString {\n",
        "    public static void main(String[] args) {\n",
        "        String creatureName = \"Frankenstein's Monster\";\n",
        "        System.out.println(\"Length: \" + creatureName.length());\n",
        "        System.out.println(\"Character at index 5: \" + creatureName.charAt(5));\n",
        "        System.out.println(\"Substring: \" + creatureName.substring(0, 12));\n",
        "\n",
        "        String anotherName = \"Frankenstein's Monster\";\n",
        "        System.out.println(\"Equals: \" + creatureName.equals(anotherName));\n",
        "        System.out.println(\"Compare: \" + creatureName.compareTo(anotherName));\n",
        "\n",
        "        System.out.println(\"Uppercase: \" + creatureName.toUpperCase());\n",
        "        System.out.println(\"Lowercase: \" + creatureName.toLowerCase());\n",
        "    }\n",
        "}"
      ],
      "metadata": {
        "colab": {
          "base_uri": "https://localhost:8080/"
        },
        "id": "MZOH9I55-we_",
        "outputId": "9170ca5a-42c5-4670-a86c-26f57d1f039c"
      },
      "execution_count": 4,
      "outputs": [
        {
          "output_type": "stream",
          "name": "stdout",
          "text": [
            "Overwriting CreatureString.java\n"
          ]
        }
      ]
    },
    {
      "cell_type": "code",
      "source": [
        "!javac CreatureString.java"
      ],
      "metadata": {
        "id": "4JjdqgGS-1lE"
      },
      "execution_count": 5,
      "outputs": []
    },
    {
      "cell_type": "code",
      "source": [
        "!java CreatureString"
      ],
      "metadata": {
        "id": "u-vSqHlLC2QW",
        "colab": {
          "base_uri": "https://localhost:8080/"
        },
        "outputId": "82808070-478a-42dc-cd62-b4118f0b9aff"
      },
      "execution_count": 6,
      "outputs": [
        {
          "output_type": "stream",
          "name": "stdout",
          "text": [
            "Length: 22\n",
            "Character at index 5: e\n",
            "Substring: Frankenstein\n",
            "Equals: true\n",
            "Compare: 0\n",
            "Uppercase: FRANKENSTEIN'S MONSTER\n",
            "Lowercase: frankenstein's monster\n"
          ]
        }
      ]
    },
    {
      "cell_type": "markdown",
      "source": [
        "### System Class\n",
        "The System class provides a collection of useful methods and fields that allow interaction with the system and the runtime environment. It cannot be instantiated, and all its methods and fields are static.\n",
        "\n",
        "Here are a few key methods and fields of the System class:\n",
        "\n",
        "| Method/Field | Description |\n",
        "| --- | --- |\n",
        "| `System.out` | A static field that represents the standard output stream. It is commonly used for printing output to the console. |\n",
        "| `System.in` | A static field that represents the standard input stream. It is used for reading input from the console. |\n",
        "| `System.err` | A static field that represents the standard error stream. It is used for printing error messages to the console. |\n",
        "| `System.exit(int status)` | Terminates the currently running Java Virtual Machine with the specified exit status. |\n",
        "| `System.currentTimeMillis()` | Returns the current time in milliseconds since January 1, 1970. |\n",
        "| `System.getProperty(String key)` | Retrieves the system property indicated by the specified key. |\n",
        "\n",
        "Sample code:"
      ],
      "metadata": {
        "id": "etDWfVcgARNu"
      }
    },
    {
      "cell_type": "code",
      "source": [
        "%%writefile CreatureSystem.java\n",
        "import java.util.Scanner;\n",
        "\n",
        "public class CreatureSystem {\n",
        "    public static void main(String[] args) {\n",
        "        // Printing output to the console\n",
        "        System.out.println(\"Welcome to Dr. Frankenstein's Lab!\");\n",
        "\n",
        "        // Reading input from the console\n",
        "        Scanner scanner = new Scanner(System.in);\n",
        "        System.out.print(\"Enter the creature's name: \");\n",
        "        String creatureName = scanner.nextLine();\n",
        "\n",
        "        // Printing output to the console\n",
        "        System.out.println(\"Creature's name: \" + creatureName);\n",
        "\n",
        "        // Printing current time\n",
        "        long currentTime = System.currentTimeMillis();\n",
        "        System.out.println(\"Current time: \" + currentTime);\n",
        "\n",
        "        // Retrieving system properties\n",
        "        String javaVersion = System.getProperty(\"java.version\");\n",
        "        String osName = System.getProperty(\"os.name\");\n",
        "        System.out.println(\"Java version: \" + javaVersion);\n",
        "        System.out.println(\"Operating system: \" + osName);\n",
        "\n",
        "        // Checking if the creature is alive\n",
        "        boolean isAlive = true;\n",
        "        if (!isAlive) {\n",
        "            System.err.println(\"The creature is not alive!\");\n",
        "            System.exit(1); // Terminating the program with exit status 1\n",
        "        }\n",
        "    }\n",
        "}"
      ],
      "metadata": {
        "colab": {
          "base_uri": "https://localhost:8080/"
        },
        "id": "pz1BglK4AfVA",
        "outputId": "c5d221ee-7817-41c3-d729-b16a526b8c4c"
      },
      "execution_count": 7,
      "outputs": [
        {
          "output_type": "stream",
          "name": "stdout",
          "text": [
            "Writing CreatureSystem.java\n"
          ]
        }
      ]
    },
    {
      "cell_type": "code",
      "source": [
        "!javac CreatureSystem.java"
      ],
      "metadata": {
        "id": "9p1Tp3BOAaZB"
      },
      "execution_count": 8,
      "outputs": []
    },
    {
      "cell_type": "code",
      "source": [
        "!java CreatureSystem"
      ],
      "metadata": {
        "colab": {
          "base_uri": "https://localhost:8080/"
        },
        "id": "cKMrCtApAp6z",
        "outputId": "3308e86d-cc5a-4e6b-ee47-02e6ad5d342f"
      },
      "execution_count": 9,
      "outputs": [
        {
          "output_type": "stream",
          "name": "stdout",
          "text": [
            "Welcome to Dr. Frankenstein's Lab!\n",
            "Enter the creature's name: Tony\n",
            "Creature's name: Tony\n",
            "Current time: 1709665611397\n",
            "Java version: 11.0.22\n",
            "Operating system: Linux\n"
          ]
        }
      ]
    },
    {
      "cell_type": "markdown",
      "source": [
        "### Math Class\n",
        "The `Math` class provides a wide range of mathematical functions, including basic arithmetic operations, trigonometric functions, logarithms, and exponential functions. It also offers methods for rounding, absolute values, and generating random numbers.\n",
        "\n",
        "| Method | Description |\n",
        "| --- | --- |\n",
        "| `Math.abs(int/long/float/double a)` | Returns the absolute value of the specified integer, long, float, or double value. |\n",
        "| `Math.max(int/long/float/double a, int/long/float/double b)` | Returns the greater of two specified values. |\n",
        "| `Math.min(int/long/float/double a, int/long/float/double b)` | Returns the smaller of two specified values. |\n",
        "| `Math.pow(double base, double exponent)` | Returns the value of the first argument raised to the power of the second argument. |\n",
        "| `Math.sqrt(double a)` | Returns the correctly rounded positive square root of the specified double value. |\n",
        "| `Math.random()` | Returns a double value with a positive sign, greater than or equal to 0.0 and less than 1.0. |\n",
        "| `Math.ceil(double a)` | Returns the smallest (closest to negative infinity) double value that is greater than or equal to the argument and is equal to a mathematical integer. |\n",
        "| `Math.floor(double a)` | Returns the largest (closest to positive infinity) double value that is less than or equal to the argument and is equal to a mathematical integer. |\n",
        "| `Math.round(float/double a)` | Returns the closest integer to the argument, with ties rounding to positive infinity. |\n",
        "| `Math.sin(double a)` | Returns the trigonometric sine of an angle in radians. |\n",
        "| `Math.cos(double a)` | Returns the trigonometric cosine of an angle in radians. |\n",
        "| `Math.tan(double a)` | Returns the trigonometric tangent of an angle in radians. |\n",
        "| `Math.log(double a)` | Returns the natural logarithm (base e) of the specified double value. |\n",
        "| `Math.exp(double a)` | Returns Euler's number e raised to the power of the specified double value. |"
      ],
      "metadata": {
        "id": "BR97eka3C6Vh"
      }
    },
    {
      "cell_type": "markdown",
      "source": [
        "### Excpetion Class\n",
        "Imagine you're Dr. Frederick Frankenstein, and you're working on bringing your comedic monster to life. However, things don't always go as planned in your laboratory. Just like in the movie, unexpected events can occur, and you need to be prepared to handle them gracefully.\n",
        "\n",
        "In Java, **exceptions** are like the unexpected events that can happen during your monster creation process. These events disrupt the normal flow of your program, just like how the monster's unexpected reactions disrupted Dr. Frankenstein's plans.\n",
        "\n",
        "### Checked Exceptions: The Foreseeable Mishaps\n",
        "Checked exceptions are like the foreseeable mishaps that you know might happen during your experiment. For example, you might anticipate that the monster's brain could be missing, just like in the movie. In Java, checked exceptions are explicitly declared in the method signature using the `throws` keyword, reminding you to handle them.\n",
        "\n",
        "```java\n",
        "public  void  attachBrain()  throws  MissingBrainException  {   \n",
        "  // Code to attach the brain   \n",
        "  if  (brain ==  null)  {   \n",
        "    throw  new  MissingBrainException(\"The brain is missing!\");   \n",
        "    }  \n",
        "}\n",
        "```\n",
        "\n",
        "#### Common Checked Exceptions\n",
        "\n",
        "| Exception | Description |\n",
        "| --- | --- |\n",
        "| IOException | Occurs when an I/O operation fails or is interrupted, typically when a file does not exist. |\n",
        "| FileNotFoundException | A specific type of `IOException`, occurs when a file is not found or not accessible. |\n",
        "| ClassNotFoundException | Thrown when an application tries to load a class through its string name but no definition for the class with the specified name could be found. |\n",
        "| SQLException | Indicates a database access error, or other errors related to database operations. |\n",
        "| ParseException | Signals an error during parsing, commonly in the context of converting a String to a different type, like dates or numbers. |\n",
        "\n",
        "\n",
        "#### Unchecked Exceptions\n",
        "Unchecked exceptions are like the unexpected surprises that catch you off guard. These are typically runtime exceptions that you didn't anticipate. In the movie, the monster unexpectedly sits up and startles Dr. Frankenstein. Similarly, unchecked exceptions can occur suddenly during program execution.\n",
        "\n",
        "```java\n",
        "public  void  connectElectricity(int voltage)  {   \n",
        "  if  (voltage <  0)  {   \n",
        "    throw  new  IllegalArgumentException(\"Voltage cannot be negative!\");   \n",
        "    }   \n",
        "    // Code to connect electricity  \n",
        "  }\n",
        "```\n",
        "\n",
        "#### Common Unchecked Exceptions\n",
        "\n",
        "| Exception | Description |\n",
        "| --- | --- |\n",
        "| NullPointerException | Occurs when an application attempts to use `null` in a case where an object is required. |\n",
        "| ArrayIndexOutOfBoundsException | Thrown to indicate that an array has been accessed with an illegal index, either negative or beyond its size. |\n",
        "| ArithmeticException | Occurs when an exceptional arithmetic condition has occurred, such as dividing by zero. |\n",
        "| IllegalArgumentException | Thrown when a method receives an argument formatted differently than the method expects, indicating illegal or inappropriate argument. |\n",
        "| IllegalStateException | Indicates that a method has been invoked at an illegal or inappropriate time in the application's state. |\n",
        "\n",
        "#### Handling Exceptions: Being Prepared\n",
        "Just like how Dr. Frankenstein had to think on his feet and handle the monster's unexpected behavior, you need to handle exceptions in your Java code. This is where try/catch blocks come into play.\n",
        "\n",
        "```java\n",
        "try  {   \n",
        "  // Code that may throw an exception   \n",
        "  attachBrain();   \n",
        "  connectElectricity(1000);  \n",
        "  }  \n",
        "\n",
        "  catch  (MissingBrainException e)  {   \n",
        "    System.out.println(\"Oops! \"  + e.getMessage());   \n",
        "    // Code to handle the missing brain exception  \n",
        "    }  \n",
        "  catch  (IllegalArgumentException e)  {   \n",
        "    System.out.println(\"Invalid voltage: \"  + e.getMessage());   \n",
        "    // Code to handle the invalid voltage exception  \n",
        "    }\n",
        "}\n",
        "```\n",
        "\n",
        "In this example, the code inside the `try` block is executed. If an exception occurs, such as a `MissingBrainException` or an `IllegalArgumentException`, the corresponding `catch` block is executed to handle the exception gracefully.\n",
        "\n",
        "#### The Finally Block: Cleaning Up the Lab\n",
        "After the excitement of bringing the monster to life, Dr. Frankenstein had to clean up his laboratory. Similarly, in Java, you can use the `finally` block to execute code that should always run, regardless of whether an exception occurred or not. It's like tidying up your resources.\n",
        "\n",
        "```java\n",
        "try  {   \n",
        "  // Code that may throw an exception  \n",
        "  }\n",
        "catch  (Exception e)  {\n",
        "  // Code to handle the exception\n",
        "  }\n",
        "finally  {   \n",
        "// Code that always executes, like cleaning up resources   \n",
        "  disconnectElectricity();   \n",
        "  cleanLaboratory();  }\n",
        "```\n",
        "\n",
        "Exceptions and exception handling in Java help you deal with unexpected situations gracefully, just like how Dr. Frankenstein handled the comedic chaos in his laboratory. By using try/catch blocks and handling exceptions appropriately, you can keep your program running smoothly, even when things don't go exactly as planned."
      ],
      "metadata": {
        "id": "alWiB0euDeyL"
      }
    },
    {
      "cell_type": "markdown",
      "source": [
        "## Sample Program: The Lab Assistant\n",
        "Let's see an example of how we might incorporate `Math` and `Exceptions` into our code by building a program to aid lab assistants."
      ],
      "metadata": {
        "id": "WAx4NeC3E9kl"
      }
    },
    {
      "cell_type": "code",
      "source": [
        "%%writefile FrankensteinLab.java\n",
        "import java.util.InputMismatchException;\n",
        "import java.util.Scanner;\n",
        "\n",
        "public class FrankensteinLab {\n",
        "    public static void main(String[] args) {\n",
        "        Scanner scanner = new Scanner(System.in);\n",
        "\n",
        "        try {\n",
        "            System.out.println(\"Welcome to Dr. Frankenstein's Lab!\");\n",
        "            System.out.println(\"Let's calculate the electric voltage needed to bring the monster to life.\");\n",
        "\n",
        "            System.out.print(\"Enter the monster's body weight (in pounds): \");\n",
        "            double weight = scanner.nextDouble();\n",
        "\n",
        "            System.out.print(\"Enter the desired level of shock (1-10): \");\n",
        "            int shockLevel = scanner.nextInt();\n",
        "\n",
        "            double voltage = calculateVoltage(weight, shockLevel);\n",
        "            System.out.println(\"To bring the monster to life, you need \" + voltage + \" volts of electricity!\");\n",
        "\n",
        "            System.out.print(\"Enter the brain size (in ounces): \");\n",
        "            double brainSize = scanner.nextDouble();\n",
        "\n",
        "            if (brainSize < 60) {\n",
        "                throw new IllegalArgumentException(\"Brain size is too small. The monster might misbehave!\");\n",
        "            }\n",
        "\n",
        "            double intelligenceQuotient = calculateIntelligenceQuotient(brainSize);\n",
        "            System.out.println(\"The monster's estimated intelligence quotient is \" + intelligenceQuotient);\n",
        "\n",
        "        } catch (InputMismatchException e) {\n",
        "            System.out.println(\"Oops! Invalid input. Please enter a valid number.\");\n",
        "        } catch (IllegalArgumentException e) {\n",
        "            System.out.println(\"Error: \" + e.getMessage());\n",
        "        } finally {\n",
        "            System.out.println(\"Lab experiment completed. Time to clean up!\");\n",
        "        }\n",
        "    }\n",
        "\n",
        "    public static double calculateVoltage(double weight, int shockLevel) {\n",
        "        return Math.pow(weight, 0.75) * shockLevel;\n",
        "    }\n",
        "\n",
        "    public static double calculateIntelligenceQuotient(double brainSize) {\n",
        "        return Math.log(brainSize) * 10;\n",
        "    }\n",
        "}"
      ],
      "metadata": {
        "colab": {
          "base_uri": "https://localhost:8080/"
        },
        "id": "j1A3nNewFKVA",
        "outputId": "298c6afd-463f-4ef7-85d4-5409cba9d652"
      },
      "execution_count": 13,
      "outputs": [
        {
          "output_type": "stream",
          "name": "stdout",
          "text": [
            "Writing FrankensteinLab.java\n"
          ]
        }
      ]
    },
    {
      "cell_type": "code",
      "source": [
        "!javac FrankensteinLab.java"
      ],
      "metadata": {
        "id": "zN_1La2N35E9"
      },
      "execution_count": 14,
      "outputs": []
    },
    {
      "cell_type": "code",
      "source": [
        "!java FrankensteinLab"
      ],
      "metadata": {
        "colab": {
          "base_uri": "https://localhost:8080/"
        },
        "id": "32_WxXbsFfqz",
        "outputId": "1b1972d4-1212-4ac4-91fb-d4f679e30e85"
      },
      "execution_count": 15,
      "outputs": [
        {
          "output_type": "stream",
          "name": "stdout",
          "text": [
            "Welcome to Dr. Frankenstein's Lab!\n",
            "Let's calculate the electric voltage needed to bring the monster to life.\n",
            "Enter the monster's body weight (in pounds): 70\n",
            "Enter the desired level of shock (1-10): 7\n",
            "To bring the monster to life, you need 169.4031844745511 volts of electricity!\n",
            "Enter the brain size (in ounces): 89\n",
            "The monster's estimated intelligence quotient is 44.8863636973214\n",
            "Lab experiment completed. Time to clean up!\n"
          ]
        }
      ]
    },
    {
      "cell_type": "markdown",
      "source": [
        "In this code block, we have the `FrankensteinLab` class with the `main` method. Let's break it down:\n",
        "\n",
        "1.  We create a `Scanner` object to read user input from the console.\n",
        "2.  Inside a `try` block, we prompt the user (lab assistant) to enter the monster's body weight and desired level of shock.\n",
        "3.  We call the `calculateVoltage` method, which uses the `Math.pow` method to calculate the required voltage based on the weight and shock level.\n",
        "4.  We then prompt the user to enter the brain size in ounces.\n",
        "5.  If the brain size is less than 60 ounces, we throw an `IllegalArgumentException` with a  message.\n",
        "6.  We call the `calculateIntelligenceQuotient` method, which uses the `Math.log` method to estimate the monster's intelligence quotient based on the brain size.\n",
        "7.  In the `catch` block for `InputMismatchException`, we handle the case where the user enters an invalid input, such as a non-numeric value.\n",
        "8.  In the `catch` block for `IllegalArgumentException`, we handle the exception thrown when the brain size is too small and display the error message.\n",
        "9.  Finally, in the `finally` block, we print a message indicating that the lab experiment is completed and it's time to clean up.\n",
        "\n",
        "The code also includes two helper methods:\n",
        "\n",
        "-   `calculateVoltage`: Calculates the required voltage using the `Math.pow` method.\n",
        "-   `calculateIntelligenceQuotient`: Estimates the monster's intelligence quotient using the `Math.log` method.\n",
        "\n",
        "Our lab assistants can run this code and interact with it by entering the requested values. They'll see the calculated voltage and estimated intelligence quotient, along with any error messages if exceptions occur."
      ],
      "metadata": {
        "id": "fuy59Z9nGXUQ"
      }
    },
    {
      "cell_type": "markdown",
      "source": [
        "## Exercise: Improved Lab Asssistant\n",
        "Using the above program as a starting point, create an ImprovedLabAssistant that implements at least THREE of the following potential improvements.\n",
        "\n",
        "1.  Use `System.out.printf()` instead of `System.out.println()` to format the output messages with appropriate spacing and alignment.\n",
        "2.  Modify the `calculateVoltage` method to accept the weight as a `String` parameter. Parse the weight using `Double.parseDouble()` and handle any potential `NumberFormatException`.\n",
        "3.  Add a method called `checkBrainCondition` that takes the brain size as a parameter and returns a `String` indicating the condition of the brain (e.g., \"fresh\", \"preserved\", \"decayed\") based on the size.\n",
        "4.  Implement a method called `generateMonsterName` that randomly generates a name for the monster using a combination of adjectives and nouns stored in `String` arrays.\n",
        "5.  Use `String.format()` to create a formatted summary message at the end of the program, including the monster's name, voltage, intelligence quotient, and brain condition.\n",
        "6.  Add a method called `calculateMonsterHeight` that prompts the user to enter the monster's height in feet and inches. Convert the input to centimeters using appropriate mathematical calculations.\n",
        "7.  Modify the `calculateIntelligenceQuotient` method to throw a custom exception called `InvalidBrainSizeException` if the brain size is negative or exceeds a certain threshold.\n",
        "8.  Implement a method called `playMonsterSound` that uses `Math.random()` to randomly select and print a sound effect (e.g., \"Roar!\", \"Groan!\", \"Mumble!\") for the monster.\n",
        "9.  Add a method called `validateInput` that takes a `String` parameter and checks if it contains only numeric characters using `String.matches()`. Use this method to validate user input before parsing it as a number.\n",
        "10. Modify the program to handle any potential `ArithmeticException` that may occur during mathematical calculations (e.g., division by zero) and display an appropriate error message."
      ],
      "metadata": {
        "id": "u3AttFO_Ggz0"
      }
    },
    {
      "cell_type": "code",
      "source": [
        "%%writefile ImprovedLabAssistant.java\n",
        "public class ImprovedLabAssistant{\n",
        "\n",
        "}"
      ],
      "metadata": {
        "id": "cUfdMq7QGfBg"
      },
      "execution_count": null,
      "outputs": []
    },
    {
      "cell_type": "code",
      "source": [
        "!javac ImprovedLabAssistant.java"
      ],
      "metadata": {
        "id": "dsY8MLzdHdS3"
      },
      "execution_count": null,
      "outputs": []
    },
    {
      "cell_type": "code",
      "source": [
        "!java ImprovedLabAssistant"
      ],
      "metadata": {
        "id": "lFzds1-SHgdI"
      },
      "execution_count": null,
      "outputs": []
    }
  ]
}