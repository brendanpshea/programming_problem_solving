{
  "nbformat": 4,
  "nbformat_minor": 0,
  "metadata": {
    "colab": {
      "provenance": [],
      "authorship_tag": "ABX9TyNk88Tft8TlQtwDpHd8jJFS",
      "include_colab_link": true
    },
    "kernelspec": {
      "name": "python3",
      "display_name": "Python 3"
    },
    "language_info": {
      "name": "python"
    }
  },
  "cells": [
    {
      "cell_type": "markdown",
      "metadata": {
        "id": "view-in-github",
        "colab_type": "text"
      },
      "source": [
        "<a href=\"https://colab.research.google.com/github/brendanpshea/programming_problem_solving/blob/main/Java_09_Interfaces_Exceptions.ipynb\" target=\"_parent\"><img src=\"https://colab.research.google.com/assets/colab-badge.svg\" alt=\"Open In Colab\"/></a>"
      ]
    },
    {
      "cell_type": "markdown",
      "source": [
        "# From Corner Stores to Criminal Enterprises: Introduction to Interfaces\n",
        "\n",
        "**Brendan Shea, PhD**\n",
        "\n",
        "In Chapter 8, you built Kim's Corner Store using inheritance - creating a family tree of products where Beverages and Snacks extended StoreItem. This worked perfectly because each product had exactly one parent. A Soda IS-A Beverage, which IS-A StoreItem. Simple and clean. But now you've been hired by a more... ethically flexible institution: The Bank of Evil (formerly Lehman Brothers). Yes, the same bank that provides loans for aspiring supervillains to build moon-stealing shrink rays, funds underground lairs with shark tanks, and manages the retirement accounts of retired henchmen. This international criminal enterprise needs a banking system to manage its various nefarious accounts, and they have a problem that inheritance alone can't solve.\n"
      ],
      "metadata": {
        "id": "tlKb7oi2Sc1z"
      }
    },
    {
      "cell_type": "markdown",
      "source": [
        "\n",
        "## The Bank of Evil's Dilemma\n",
        "\n",
        "The Bank of Evil serves a colorful clientele. There's Gru, who needs loans for his ambitious moon-heist scheme. Dr. Doofenshmirtz maintains several accounts for his various \"inator\" projects. Megamind has offshore accounts hidden from Metro City authorities. And countless minions have their banana-funded pension plans. The bank manages many types of accounts: villain venture capital funds, secret Swiss accounts for stolen artifacts, cryptocurrency wallets for anonymous schemes, and regular checking accounts for everyday evil expenses like utility bills for volcano lairs. Each account type IS-A BankAccount, so inheritance makes sense. But here's where things get complicated. Various external organizations need to interact with these accounts in specific ways. The Anti-Villain League needs to be able to freeze any account when they detect supervillain activity. The IRS needs to audit accounts (even villains pay taxes... sometimes). International banks need to transfer money between accounts. Some accounts need all three capabilities, some need just one or two.\n",
        "\n",
        "If we tried to solve this with inheritance alone, we'd face an impossible choice. Should BankAccount extend Freezable? But not all accounts can be frozen (some are hidden too well). Should it extend Auditable? But cryptocurrency accounts can't be audited the same way as traditional accounts. Java only allows single inheritance - a class can only extend one parent. We can't make an account that extends both Freezable AND Auditable. We're stuck.\n",
        "\n",
        "## Enter Interfaces: Contracts for Capabilities\n",
        "\n",
        "This is where **interfaces** come to the rescue. An **interface** is like a contract that promises certain capabilities. While a class can only extend one parent (what it IS), it can implement multiple interfaces (what it CAN DO). Think of interfaces as a list of abilities or behaviors that a class promises to provide.\n",
        "\n",
        "Here's the key distinction between inheritance and interfaces:\n",
        "\n",
        "| Inheritance (extends) | Interfaces (implements) |\n",
        "|----------------------|------------------------|\n",
        "| IS-A relationship | CAN-DO relationship |\n",
        "| \"A Soda IS-A Beverage\" | \"An Account CAN BE frozen\" |\n",
        "| Single inheritance only | Multiple interfaces allowed |\n",
        "| Inherits actual code | Must provide own code |\n",
        "| Represents identity | Represents capability |\n",
        "\n",
        "An account IS-A BankAccount (inheritance), but it CAN BE frozen, CAN BE audited, and CAN BE transferred (interfaces). This subtle shift in thinking opens up powerful design possibilities.\n",
        "\n",
        "## Real-World Analogy: Job Qualifications\n",
        "\n",
        "Think about the minions and villains who work at the Bank of Evil. A minion might BE an employee of the bank (inheritance - they have one primary identity). But that same minion might also be certified in rocket launcher operation, licensed to drive the shrink ray, and qualified to perform evil laughs. These are interfaces - additional capabilities they possess. Vector doesn't inherit from both Villain and Pilot. Instead, he IS-A Villain who implements the Pilot interface by having those skills.\n",
        "\n",
        "```java\n",
        "// Inheritance: what you ARE\n",
        "public class Minion extends Employee {\n",
        "    // A Minion IS-A Employee\n",
        "}\n",
        "\n",
        "// Interfaces: what you CAN DO\n",
        "public class EliteMinion extends Minion\n",
        "    implements RocketOperator, ShrinkRayTech, EvilLaugh {\n",
        "    // An EliteMinion IS-A Minion who CAN operate rockets,\n",
        "    // use the shrink ray, and perform evil laughs\n",
        "}\n",
        "```\n",
        "\n",
        "Notice the new keyword **implements**. This tells Java that a class promises to provide certain capabilities defined by interfaces. We'll explore the exact syntax shortly.\n",
        "\n",
        "## Why Interfaces Solve Our Banking Problem\n",
        "\n",
        "With interfaces, the Bank of Evil can design accounts like this. Gru's MoonHeistAccount IS-A BankAccount (through inheritance) but also implements Transferable and Freezable interfaces (can be transferred and frozen by the Anti-Villain League). A VillainCryptocurrencyWallet IS-A BankAccount but only implements Transferable (can't be frozen - too anonymous). Dr. Doofenshmirtz's EvilIncorporatedAccount IS-A BankAccount and implements all three: Transferable, Freezable, and Auditable (the IRS is very interested in his \"Evil Incorporated\" tax filings).\n",
        "\n",
        "Each interface defines what methods an account must have to fulfill that capability. The Freezable interface might require methods like freeze() and unfreeze(). The Auditable interface might require getTransactionHistory() and reportToIRS(). Any class that implements these interfaces must provide actual code for these methods.\n",
        "\n",
        "## The Contract Metaphor\n",
        "\n",
        "An interface is literally a contract. When a class implements an interface, it's signing a contract that says \"I promise to provide all the methods this interface requires.\" If you don't fulfill the contract by implementing all required methods, Java refuses to compile your code. It's like trying to get a villain loan without providing your evil plan documentation - it simply won't work.\n",
        "\n",
        "This contract system provides tremendous flexibility. The Anti-Villain League doesn't need to know if they're freezing Gru's moon-heist funds or Megamind's death-ray research account. They just need to know it implements the Freezable interface. They can freeze any account that signed the Freezable contract. Similarly, the IRS can audit anything that implements Auditable without caring whether it's a legitimate-front-business account or a secret-lair-construction fund.\n",
        "\n",
        "## Interfaces vs Abstract Classes\n",
        "\n",
        "You might wonder: \"Couldn't we use abstract classes for this?\" After all, we learned in Chapter 8 that abstract classes can declare methods that children must implement. The crucial difference is that a class can only extend one parent (abstract or not), but it can implement many interfaces. You can't extend both AbstractFreezable and AbstractAuditable, but you can implement both Freezable and Auditable interfaces.\n",
        "\n",
        "Here's when to use each:\n",
        "\n",
        "| Use Abstract Classes When: | Use Interfaces When: |\n",
        "|---------------------------|---------------------|\n",
        "| Classes share IS-A relationship | Classes share CAN-DO ability |\n",
        "| You want to provide some code | You only want to require methods |\n",
        "| Classes are closely related | Classes are unrelated but share behavior |\n",
        "| You need instance variables | You only need method signatures |\n",
        "\n",
        "Abstract classes are about shared identity and code reuse. Interfaces are about shared capabilities and contracts. The Bank of Evil needs both: abstract classes for the account hierarchy (what accounts ARE) and interfaces for capabilities (what accounts CAN DO).\n",
        "\n",
        "## Looking Ahead\n",
        "\n",
        "In the next section, we'll write our first interface and see the exact syntax Java uses. We'll create the Freezable interface that allows the Anti-Villain League to freeze any suspicious account, regardless of whether it belongs to an aspiring moon-thief or a would-be city conqueror. You'll learn that interfaces are surprisingly simple to write - they're mostly just a list of method signatures. But this simplicity belies their power in creating flexible, maintainable systems.\n",
        "\n",
        "The Bank of Evil's account system will demonstrate how interfaces enable **polymorphism** in new ways - treating different objects uniformly based on their capabilities rather than their inheritance. By the end of this chapter, you'll be able to design systems that are both organized (through inheritance) and flexible (through interfaces), creating code that's ready for whatever villainous scheme... er, programming challenge... comes your way. After all, as the Bank of Evil's motto says: \"You can't put a price on evil... but we do offer competitive interest rates!\""
      ],
      "metadata": {
        "id": "XOErtu7FSi8u"
      }
    },
    {
      "cell_type": "markdown",
      "source": [
        "# Interface Basics: Writing Your First Contract\n",
        "\n",
        "Now that we understand why the Bank of Evil needs interfaces, let's write our first one. The Anti-Villain League has been breathing down the bank's neck, demanding the ability to freeze accounts whenever they detect suspicious activity (like bulk purchases of laser parts or sudden transfers to \"Moon Acquisition Fund\"). We'll create the Freezable interface that any freezable account must implement. You'll discover that interfaces are surprisingly simple to write - they're essentially just a list of method signatures without the actual code.\n",
        "\n",
        "## The interface Keyword\n",
        "\n",
        "Creating an interface uses the **interface** keyword instead of class. Here's the complete Freezable interface that the Anti-Villain League requires:\n",
        "\n",
        "```java\n",
        "public interface Freezable {\n",
        "    void freeze();\n",
        "    void unfreeze();\n",
        "    boolean isFrozen();\n",
        "}\n",
        "```\n",
        "\n",
        "That's it! Notice what's missing: no curly braces with code inside the methods, no instance variables, no constructors. An interface is pure abstraction - it says what methods must exist but not how they work. It's like a villain's contract that says \"you must provide a doomsday device\" without specifying whether it's a shrink ray, freeze ray, or moon-stealing apparatus.\n",
        "\n",
        "## Interface Naming Conventions\n",
        "\n",
        "Java developers follow a strong naming convention for interfaces: they typically use adjectives ending in \"-able\" or \"-ible\" that describe a capability. This makes code read naturally: \"This account is Freezable\" or \"This transaction is Auditable.\" Here are interfaces you might find in the Bank of Evil:\n",
        "\n",
        "* **Freezable** - can be frozen by authorities\n",
        "* **Auditable** - can be audited by the IRS  \n",
        "* **Transferable** - can transfer funds\n",
        "* **Trackable** - can be tracked by the Anti-Villain League\n",
        "* **Reversible** - transactions can be reversed\n",
        "\n",
        "Some interfaces use noun forms when they represent a role or type rather than a capability, like Comparator or Iterator. But for beginners, the \"-able\" convention helps distinguish interfaces from classes and makes their purpose clear.\n",
        "\n",
        "## Methods in Interfaces Are Implicitly Public and Abstract\n",
        "\n",
        "Here's something that confuses many beginners: interface methods are automatically **public** and **abstract**, even if you don't write those keywords. These three versions of Freezable are identical:\n",
        "\n",
        "```java\n",
        "// Version 1: Explicit (unnecessary but legal)\n",
        "public interface Freezable {\n",
        "    public abstract void freeze();\n",
        "    public abstract void unfreeze();\n",
        "    public abstract boolean isFrozen();\n",
        "}\n",
        "\n",
        "// Version 2: Mixed (confusing - don't do this)\n",
        "public interface Freezable {\n",
        "    public void freeze();\n",
        "    void unfreeze();  // Still public!\n",
        "    abstract boolean isFrozen();  // Still public!\n",
        "}\n",
        "\n",
        "// Version 3: Clean (recommended)\n",
        "public interface Freezable {\n",
        "    void freeze();\n",
        "    void unfreeze();\n",
        "    boolean isFrozen();\n",
        "}\n",
        "```\n",
        "\n",
        "Always use Version 3 - the clean version. Since interface methods must be public and abstract, Java makes them so automatically. Writing these keywords explicitly is like labeling a banana as \"yellow\" - true but unnecessary.\n",
        "\n",
        "## The implements Keyword\n",
        "\n",
        "To use an interface, a class must **implement** it using the **implements** keyword. This is the class's way of signing the contract and promising to provide all the required methods. Let's create Gru's villain account that can be frozen:\n",
        "\n",
        "```java\n",
        "public class VillainAccount implements Freezable {\n",
        "    private String villainName;\n",
        "    private double balance;\n",
        "    private boolean frozen = false;\n",
        "    \n",
        "    // MUST provide ALL methods from Freezable\n",
        "    public void freeze() {\n",
        "        frozen = true;\n",
        "        System.out.println(\"Account frozen by Anti-Villain League!\");\n",
        "    }\n",
        "    \n",
        "    public void unfreeze() {\n",
        "        frozen = false;\n",
        "        System.out.println(\"Account unfrozen - villainy may resume\");\n",
        "    }\n",
        "    \n",
        "    public boolean isFrozen() {\n",
        "        return frozen;\n",
        "    }\n",
        "}\n",
        "```\n",
        "\n",
        "The class must provide actual implementations (code) for every method declared in the interface. If you forget even one method, Java refuses to compile your code. It's like trying to graduate from villain school without completing the \"Evil Laugh 101\" requirement - not going to happen.\n",
        "\n",
        "## Compilation Enforcement\n",
        "\n",
        "The Java compiler strictly enforces interface contracts. If VillainAccount forgets to implement any Freezable method, you'll get a compilation error:\n",
        "\n",
        "```java\n",
        "public class VillainAccount implements Freezable {\n",
        "    private boolean frozen = false;\n",
        "    \n",
        "    public void freeze() {\n",
        "        frozen = true;\n",
        "    }\n",
        "    // Forgot unfreeze() and isFrozen()!\n",
        "}\n",
        "// ERROR: VillainAccount must implement abstract method 'unfreeze()'\n",
        "// ERROR: VillainAccount must implement abstract method 'isFrozen()'\n",
        "```\n",
        "\n",
        "This compile-time checking is incredibly valuable. It catches mistakes before your code runs, preventing the embarrassing situation where the Anti-Villain League tries to freeze an account only to discover the freeze() method doesn't exist.\n",
        "\n",
        "## A Class Can Implement Multiple Interfaces\n",
        "\n",
        "Here's where interfaces really shine: a single class can implement multiple interfaces. Gru's main account needs to be freezable (by authorities), auditable (by the IRS), and transferable (to pay for moon-stealing equipment). With inheritance, this would be impossible - you can't extend three parents. With interfaces, it's easy:\n",
        "\n",
        "```java\n",
        "public interface Auditable {\n",
        "    String getTransactionHistory();\n",
        "    double reportTaxableIncome();\n",
        "}\n",
        "\n",
        "public interface Transferable {\n",
        "    void transferTo(String accountNumber, double amount);\n",
        "    boolean acceptTransfer(double amount);\n",
        "}\n",
        "\n",
        "public class SuperVillainAccount\n",
        "    implements Freezable, Auditable, Transferable {\n",
        "    // Must implement ALL methods from ALL interfaces\n",
        "    // That's 3 + 2 + 2 = 7 methods total!\n",
        "}\n",
        "```\n",
        "\n",
        "The syntax is simple: list all interfaces after implements, separated by commas. The class must then implement every method from every interface it claims to implement. It's like a villain claiming they can fly jets, operate lasers, AND perform evil laughs - they better be able to demonstrate all three skills!\n",
        "\n",
        "## Interface as a Type\n",
        "\n",
        "Once a class implements an interface, you can use the interface as a type for variables. This enables the polymorphism we discussed earlier:\n",
        "\n",
        "```java\n",
        "VillainAccount grusAccount = new VillainAccount();\n",
        "Freezable freezableAccount = grusAccount;  // Valid!\n",
        "\n",
        "freezableAccount.freeze();  // Can call interface methods\n",
        "```\n",
        "\n",
        "The variable freezableAccount is of type Freezable, not VillainAccount. It can only call methods defined in the Freezable interface, even though the actual object has more capabilities. The Anti-Villain League's freezing system doesn't need to know about VillainAccount specifically - it just needs objects that are Freezable.\n",
        "\n",
        "## Common Beginner Mistakes\n",
        "\n",
        "Let's address three mistakes that beginners often make with interfaces:\n",
        "\n",
        "**Mistake 1: Trying to add instance variables to interfaces**\n",
        "```java\n",
        "public interface Freezable {\n",
        "    boolean frozen = false;  // NO! Interfaces can't have instance variables\n",
        "    void freeze();\n",
        "}\n",
        "```\n",
        "\n",
        "**Mistake 2: Forgetting public on implementation**\n",
        "```java\n",
        "public class VillainAccount implements Freezable {\n",
        "    void freeze() {  // ERROR: Must be public!\n",
        "        // Interface methods are public, so implementation must be too\n",
        "    }\n",
        "}\n",
        "```\n",
        "\n",
        "**Mistake 3: Trying to instantiate an interface**\n",
        "```java\n",
        "Freezable account = new Freezable();  // ERROR! Can't instantiate interface\n",
        "Freezable account = new VillainAccount();  // Correct - instantiate implementing class\n",
        "```\n",
        "\n",
        "Remember: interfaces are contracts, not classes. You can't create an object from a contract - you create objects from classes that fulfill the contract.\n"
      ],
      "metadata": {
        "id": "3VjXK-LKpDd7"
      }
    },
    {
      "cell_type": "markdown",
      "source": [
        "# Implementing Interfaces: The Bank Account System\n",
        "\n",
        "Now let's build actual bank accounts for the Bank of Evil. We'll create different account types that implement our Freezable interface. Remember, when a class implements an interface, it must provide code for every method the interface declares. Let's start by creating all the files we'll need.\n",
        "\n",
        "## First, Our Freezable Interface\n",
        "\n",
        "Let's create the Freezable interface that the Anti-Villain League requires. Save this as **Freezable.java**:"
      ],
      "metadata": {
        "id": "cdnV-_1brDxr"
      }
    },
    {
      "cell_type": "code",
      "source": [
        "%%writefile Freezable.java\n",
        "public interface Freezable {\n",
        "    void freeze();\n",
        "    void unfreeze();\n",
        "    boolean isFrozen();\n",
        "}"
      ],
      "metadata": {
        "colab": {
          "base_uri": "https://localhost:8080/"
        },
        "id": "bbC3OMzWpIQb",
        "outputId": "32b3d661-a3ac-4919-ec8b-3119a8c488fe"
      },
      "execution_count": null,
      "outputs": [
        {
          "output_type": "stream",
          "name": "stdout",
          "text": [
            "Writing Freezable.java\n"
          ]
        }
      ]
    },
    {
      "cell_type": "markdown",
      "source": [
        "This interface is our contract - any class that implements Freezable must provide these three methods.\n",
        "\n",
        "## Our Base BankAccount Class\n",
        "\n",
        "Next, we need a basic BankAccount class that all accounts will extend. Save this as **BankAccount.java**:"
      ],
      "metadata": {
        "id": "9nC3oU4mrLhP"
      }
    },
    {
      "cell_type": "code",
      "source": [
        "%%writefile BankAccount.java\n",
        "public class BankAccount {\n",
        "    protected String accountNumber;\n",
        "    protected String owner;\n",
        "    protected double balance;\n",
        "\n",
        "    public BankAccount(String accountNumber, String owner) {\n",
        "        this.accountNumber = accountNumber;\n",
        "        this.owner = owner;\n",
        "        this.balance = 0.0;\n",
        "    }\n",
        "\n",
        "    public void deposit(double amount) {\n",
        "        balance += amount;\n",
        "    }\n",
        "\n",
        "    public double getBalance() {\n",
        "        return balance;\n",
        "    }\n",
        "}"
      ],
      "metadata": {
        "colab": {
          "base_uri": "https://localhost:8080/"
        },
        "id": "_bPSYKlOrMAb",
        "outputId": "b6f961c4-93b7-42a5-b66c-8250ff8fd3f4"
      },
      "execution_count": null,
      "outputs": [
        {
          "output_type": "stream",
          "name": "stdout",
          "text": [
            "Writing BankAccount.java\n"
          ]
        }
      ]
    },
    {
      "cell_type": "markdown",
      "source": [
        "This is a regular class with the basics every bank account needs: an account number, owner name, and balance. Notice we use **protected** so child classes can access these fields directly.\n",
        "\n",
        "## Creating EvilAccount: Our First Implementation\n",
        "\n",
        "Now let's create Gru's evil account that can be frozen by the Anti-Villain League. Save this as **EvilAccount.java**:\n"
      ],
      "metadata": {
        "id": "zDxV-WEcrP9w"
      }
    },
    {
      "cell_type": "code",
      "source": [
        "%%writefile EvilAccount.java\n",
        "public class EvilAccount extends BankAccount implements Freezable {\n",
        "    private boolean frozen;\n",
        "\n",
        "    public EvilAccount(String accountNumber, String owner) {\n",
        "        super(accountNumber, owner);\n",
        "        this.frozen = false;\n",
        "    }\n",
        "\n",
        "    // Must implement ALL three methods from Freezable\n",
        "    @Override\n",
        "    public void freeze() {\n",
        "        frozen = true;\n",
        "        System.out.println(owner + \"'s account is now frozen!\");\n",
        "    }\n",
        "\n",
        "    @Override\n",
        "    public void unfreeze() {\n",
        "        frozen = false;\n",
        "        System.out.println(owner + \"'s account is unfrozen\");\n",
        "    }\n",
        "\n",
        "    @Override\n",
        "    public boolean isFrozen() {\n",
        "        return frozen;\n",
        "    }\n",
        "}"
      ],
      "metadata": {
        "colab": {
          "base_uri": "https://localhost:8080/"
        },
        "id": "2BEGW1BLrTAV",
        "outputId": "9bf2618c-f3f3-46a7-c305-9d0a39081bb2"
      },
      "execution_count": null,
      "outputs": [
        {
          "output_type": "stream",
          "name": "stdout",
          "text": [
            "Writing EvilAccount.java\n"
          ]
        }
      ]
    },
    {
      "cell_type": "markdown",
      "source": [
        "Notice that EvilAccount does two things: it **extends** BankAccount (inheriting accountNumber, owner, and balance) and **implements** Freezable (providing freeze(), unfreeze(), and isFrozen()). This combination of inheritance and interfaces gives us the best of both worlds.\n",
        "\n",
        "## The @Override Annotation\n",
        "\n",
        "Always use **@Override** when implementing interface methods. This tells Java \"I'm trying to implement an interface method\" and helps catch mistakes:\n",
        "\n",
        "```java\n",
        "public class EvilAccount extends BankAccount implements Freezable {\n",
        "    // WITHOUT @Override - dangerous!\n",
        "    public void freese() {  // Typo! This creates a NEW method\n",
        "        // This compiles but doesn't implement the interface method\n",
        "    }\n",
        "    \n",
        "    // WITH @Override - safe!\n",
        "    @Override\n",
        "    public void freese() {  // Compiler error: no 'freese' method to override\n",
        "        // Catches the typo immediately\n",
        "    }\n",
        "}\n",
        "```\n",
        "\n",
        "The @Override annotation is like spell-check for method names. It ensures you're actually implementing the interface methods, not accidentally creating new ones.\n",
        "\n",
        "## What Happens If You Forget a Method?\n",
        "\n",
        "The Java compiler strictly enforces interface contracts. If you forget even one method, your code won't compile. Let's see what happens if we create an incomplete implementation:\n",
        "\n",
        "```java\n",
        "// File: BrokenAccount.java - THIS WON'T COMPILE!\n",
        "public class BrokenAccount extends BankAccount implements Freezable {\n",
        "    private boolean frozen = false;\n",
        "    \n",
        "    @Override\n",
        "    public void freeze() {\n",
        "        frozen = true;\n",
        "    }\n",
        "    \n",
        "    // Forgot unfreeze() and isFrozen()!\n",
        "}\n",
        "```\n",
        "\n",
        "When you try to compile this, Java gives clear error messages:\n",
        "\n",
        "```\n",
        "BrokenAccount.java: error: BrokenAccount is not abstract and does not\n",
        "override abstract method unfreeze() in Freezable\n",
        "BrokenAccount.java: error: BrokenAccount is not abstract and does not\n",
        "override abstract method isFrozen() in Freezable\n",
        "```\n",
        "\n",
        "The compiler acts like a strict teacher checking that you've done all your homework. You must implement every single method from the interface, or your code won't compile.\n",
        "\n",
        "## Creating a Second Implementation: MinionAccount\n",
        "\n",
        "Different classes can implement the same interface differently. Let's create an account for minions that reacts differently to freezing. Save this as **MinionAccount.java**"
      ],
      "metadata": {
        "id": "iSZJZqoQrddq"
      }
    },
    {
      "cell_type": "code",
      "source": [
        "%%writefile MinionAccount.java\n",
        "public class MinionAccount extends BankAccount implements Freezable {\n",
        "    private boolean frozen;\n",
        "    private int bananaBalance;  // Minions care about bananas!\n",
        "\n",
        "    public MinionAccount(String accountNumber, String owner) {\n",
        "        super(accountNumber, owner);\n",
        "        this.frozen = false;\n",
        "        this.bananaBalance = 100;\n",
        "    }\n",
        "\n",
        "    @Override\n",
        "    public void freeze() {\n",
        "        frozen = true;\n",
        "        bananaBalance = 0;  // No bananas when frozen!\n",
        "        System.out.println(\"Account frozen! Banana privileges revoked!\");\n",
        "        System.out.println(\"Minion response: 'WHAAAAT?!'\");\n",
        "    }\n",
        "\n",
        "    @Override\n",
        "    public void unfreeze() {\n",
        "        frozen = false;\n",
        "        bananaBalance = 100;\n",
        "        System.out.println(\"Account unfrozen! Bananas restored!\");\n",
        "        System.out.println(\"Minion response: 'BELLO! Banana!'\");\n",
        "    }\n",
        "\n",
        "    @Override\n",
        "    public boolean isFrozen() {\n",
        "        return frozen;\n",
        "    }\n",
        "}"
      ],
      "metadata": {
        "colab": {
          "base_uri": "https://localhost:8080/"
        },
        "id": "zzciw3zGrfJP",
        "outputId": "a662e304-5e3e-4a01-e714-584315be2fe2"
      },
      "execution_count": null,
      "outputs": [
        {
          "output_type": "stream",
          "name": "stdout",
          "text": [
            "Writing MinionAccount.java\n"
          ]
        }
      ]
    },
    {
      "cell_type": "markdown",
      "source": [
        "Both EvilAccount and MinionAccount implement Freezable, but each handles freezing in its own way. EvilAccount just sets a flag, while MinionAccount also manages banana privileges. This is the flexibility interfaces provide - same contract, different implementations.\n",
        "\n",
        "## Testing Our Implementations\n",
        "\n",
        "Let's create a simple test program to see our accounts in action. Save this as **BankTest.java**:\n"
      ],
      "metadata": {
        "id": "K6Xmuas2ri_c"
      }
    },
    {
      "cell_type": "code",
      "source": [
        "%%writefile BankTest.java\n",
        "public class BankTest {\n",
        "    public static void main(String[] args) {\n",
        "        // Create different account types\n",
        "        EvilAccount grusAccount = new EvilAccount(\"EVIL-001\", \"Gru\");\n",
        "        MinionAccount bobsAccount = new MinionAccount(\"MIN-042\", \"Bob\");\n",
        "\n",
        "        // Deposit some money\n",
        "        grusAccount.deposit(1000000);  // Million dollars for moon theft\n",
        "        bobsAccount.deposit(50);       // Minion salary\n",
        "\n",
        "        // Test freezing\n",
        "        System.out.println(\"=== Anti-Villain League Raid ===\");\n",
        "        grusAccount.freeze();\n",
        "        bobsAccount.freeze();\n",
        "\n",
        "        System.out.println(\"\\n=== Checking frozen status ===\");\n",
        "        System.out.println(\"Gru frozen? \" + grusAccount.isFrozen());\n",
        "        System.out.println(\"Bob frozen? \" + bobsAccount.isFrozen());\n",
        "\n",
        "        System.out.println(\"\\n=== Court order to unfreeze ===\");\n",
        "        grusAccount.unfreeze();\n",
        "        bobsAccount.unfreeze();\n",
        "    }\n",
        "}"
      ],
      "metadata": {
        "colab": {
          "base_uri": "https://localhost:8080/"
        },
        "id": "GD9QgVeYrjmR",
        "outputId": "8a66ed30-a612-4178-c273-4437f7d90726"
      },
      "execution_count": null,
      "outputs": [
        {
          "output_type": "stream",
          "name": "stdout",
          "text": [
            "Writing BankTest.java\n"
          ]
        }
      ]
    },
    {
      "cell_type": "markdown",
      "source": [
        "Now,let's compile and run it:"
      ],
      "metadata": {
        "id": "YMYv2jg5roqr"
      }
    },
    {
      "cell_type": "code",
      "source": [
        "!javac *.java\n",
        "!java BankTest"
      ],
      "metadata": {
        "colab": {
          "base_uri": "https://localhost:8080/"
        },
        "id": "u3oaX3Jbrsf0",
        "outputId": "c55f36f6-8710-456e-becf-853dd0c8b680"
      },
      "execution_count": null,
      "outputs": [
        {
          "output_type": "stream",
          "name": "stdout",
          "text": [
            "=== Anti-Villain League Raid ===\n",
            "Gru's account is now frozen!\n",
            "Account frozen! Banana privileges revoked!\n",
            "Minion response: 'WHAAAAT?!'\n",
            "\n",
            "=== Checking frozen status ===\n",
            "Gru frozen? true\n",
            "Bob frozen? true\n",
            "\n",
            "=== Court order to unfreeze ===\n",
            "Gru's account is unfrozen\n",
            "Account unfrozen! Bananas restored!\n",
            "Minion response: 'BELLO! Banana!'\n"
          ]
        }
      ]
    },
    {
      "cell_type": "markdown",
      "source": [
        "## Key Points to Remember\n",
        "\n",
        "When implementing interfaces, keep these essential rules in mind:\n",
        "\n",
        "* **Must implement every method** - If an interface has 3 methods, you must implement all 3\n",
        "* **Methods must be public** - Interface methods are always public, so your implementations must be too\n",
        "* **Can combine with inheritance** - A class can extend another class AND implement interfaces\n",
        "\n",
        "## Why This Design Works\n",
        "\n",
        "This design separates what an account IS (BankAccount) from what it CAN DO (Freezable). The Anti-Villain League doesn't care if they're freezing Gru's evil account or Bob's minion account - they just need to know it's Freezable. This separation makes our code flexible and maintainable.\n",
        "\n",
        "In the next section, we'll see how a single class can implement multiple interfaces, allowing Vector's account to be freezable, auditable, AND transferable all at once!"
      ],
      "metadata": {
        "id": "Y-9bt3LDrxp4"
      }
    },
    {
      "cell_type": "markdown",
      "source": [
        "# Multiple Interfaces: One Class, Many Contracts\n",
        "\n",
        "So far, our bank accounts can be frozen by the Anti-Villain League. But that's not enough for the Bank of Evil's needs. The IRS wants to audit villain accounts for tax evasion. International banks need to transfer funds between accounts. Some accounts need all these capabilities. The beauty of interfaces is that a single class can implement as many as it needs - like a villain with multiple skills.\n",
        "\n",
        "## Declaring Multiple Interfaces\n",
        "\n",
        "To implement multiple interfaces, list them after **implements**, separated by commas. Let's first create two more interfaces the Bank of Evil needs. Save this as **Auditable.java**:"
      ],
      "metadata": {
        "id": "irDW_QhbsvTW"
      }
    },
    {
      "cell_type": "code",
      "source": [
        "%%writefile Auditable.java\n",
        "public interface Auditable {\n",
        "    String getTransactionHistory();\n",
        "    double reportTaxableIncome();\n",
        "}"
      ],
      "metadata": {
        "colab": {
          "base_uri": "https://localhost:8080/"
        },
        "id": "p4BfsTpksBii",
        "outputId": "2f6b7bbc-0912-4b49-8e3b-1ca19caa5918"
      },
      "execution_count": null,
      "outputs": [
        {
          "output_type": "stream",
          "name": "stdout",
          "text": [
            "Writing Auditable.java\n"
          ]
        }
      ]
    },
    {
      "cell_type": "markdown",
      "source": [
        "And save this as **Transferable.java**:"
      ],
      "metadata": {
        "id": "7QwJiaumsy6V"
      }
    },
    {
      "cell_type": "code",
      "source": [
        "%%writefile Transferable.java\n",
        "public interface Transferable {\n",
        "    boolean transferTo(BankAccount destination, double amount);\n",
        "    boolean canAcceptTransfer();\n",
        "}"
      ],
      "metadata": {
        "colab": {
          "base_uri": "https://localhost:8080/"
        },
        "id": "ClYCqyD9s0K0",
        "outputId": "89167918-ffcb-4d7c-ec14-b6eee8793446"
      },
      "execution_count": null,
      "outputs": [
        {
          "output_type": "stream",
          "name": "stdout",
          "text": [
            "Writing Transferable.java\n"
          ]
        }
      ]
    },
    {
      "cell_type": "markdown",
      "source": [
        "## Implementing Multiple Interfaces\n",
        "\n",
        "Now let's create Vector's super villain account that implements all three interfaces. Save this as **SuperVillainAccount.java**:"
      ],
      "metadata": {
        "id": "z8NuNddzs367"
      }
    },
    {
      "cell_type": "code",
      "source": [
        "%%writefile SuperVillainAccount.java\n",
        "public class SuperVillainAccount extends BankAccount\n",
        "    implements Freezable, Auditable, Transferable {\n",
        "\n",
        "    private boolean frozen = false;\n",
        "    private String transactions = \"\";\n",
        "\n",
        "    public SuperVillainAccount(String accountNumber, String owner) {\n",
        "        super(accountNumber, owner);\n",
        "        transactions = \"Account opened for villainy\\n\";\n",
        "    }\n",
        "\n",
        "    // From Freezable interface (3 methods)\n",
        "    @Override\n",
        "    public void freeze() {\n",
        "        frozen = true;\n",
        "        transactions += \"FROZEN by Anti-Villain League\\n\";\n",
        "    }\n",
        "\n",
        "    @Override\n",
        "    public void unfreeze() {\n",
        "        frozen = false;\n",
        "        transactions += \"Unfrozen by court order\\n\";\n",
        "    }\n",
        "\n",
        "    @Override\n",
        "    public boolean isFrozen() {\n",
        "        return frozen;\n",
        "    }\n",
        "\n",
        "    // From Auditable interface (2 methods)\n",
        "    @Override\n",
        "    public String getTransactionHistory() {\n",
        "        return transactions;\n",
        "    }\n",
        "\n",
        "    @Override\n",
        "    public double reportTaxableIncome() {\n",
        "        // Villains always report zero income!\n",
        "        return 0.0;\n",
        "    }\n",
        "\n",
        "    // From Transferable interface (2 methods)\n",
        "    @Override\n",
        "    public boolean transferTo(BankAccount destination, double amount) {\n",
        "        if (frozen || amount > balance) {\n",
        "            return false;\n",
        "        }\n",
        "        balance -= amount;\n",
        "        destination.deposit(amount);\n",
        "        transactions += \"Transferred $\" + amount + \"\\n\";\n",
        "        return true;\n",
        "    }\n",
        "\n",
        "    @Override\n",
        "    public boolean canAcceptTransfer() {\n",
        "        return !frozen;\n",
        "    }\n",
        "}\n"
      ],
      "metadata": {
        "colab": {
          "base_uri": "https://localhost:8080/"
        },
        "id": "wsg2rWYls40x",
        "outputId": "a0837242-5d5f-4a79-d39f-088bb80d43a7"
      },
      "execution_count": null,
      "outputs": [
        {
          "output_type": "stream",
          "name": "stdout",
          "text": [
            "Writing SuperVillainAccount.java\n"
          ]
        }
      ]
    },
    {
      "cell_type": "markdown",
      "source": [
        "This single class implements 7 methods total: 3 from Freezable, 2 from Auditable, and 2 from Transferable. Vector's account can now be frozen by authorities, audited by the IRS, and used for transfers - all through these interfaces.\n",
        "\n",
        "## The Power of Multiple Implementation\n",
        "\n",
        "Why is this powerful? Different organizations can interact with the same account through different interfaces:\n",
        "\n",
        "```java\n",
        "SuperVillainAccount vectorAccount = new SuperVillainAccount(\"SV-001\", \"Vector\");\n",
        "\n",
        "// The Anti-Villain League only sees it as Freezable\n",
        "Freezable suspiciousAccount = vectorAccount;\n",
        "suspiciousAccount.freeze();  // Can only call Freezable methods\n",
        "\n",
        "// The IRS only sees it as Auditable\n",
        "Auditable taxableAccount = vectorAccount;\n",
        "String history = taxableAccount.getTransactionHistory();  // Only Auditable methods\n",
        "\n",
        "// Banks only see it as Transferable\n",
        "Transferable transferAccount = vectorAccount;\n",
        "transferAccount.canAcceptTransfer();  // Only Transferable methods\n",
        "```\n",
        "\n",
        "Each organization gets access to exactly the methods they need, nothing more. This is called **interface segregation** - keeping interfaces focused and separate.\n",
        "\n",
        "## Order Doesn't Matter\n",
        "\n",
        "When implementing multiple interfaces, the order doesn't matter. These are equivalent:\n",
        "\n",
        "```java\n",
        "// These all mean the same thing\n",
        "class Account1 implements Freezable, Auditable, Transferable { }\n",
        "class Account2 implements Auditable, Transferable, Freezable { }\n",
        "class Account3 implements Transferable, Freezable, Auditable { }\n",
        "```\n",
        "\n",
        "Java doesn't care about the order - you just need to implement all the methods from all the interfaces.\n",
        "\n",
        "## Selective Interface Implementation\n",
        "\n",
        "Not every account needs every interface. Different account types can choose which contracts to sign:\n",
        "\n",
        "```java\n",
        "// File: CashOnlyAccount.java\n",
        "public class CashOnlyAccount extends BankAccount implements Freezable {\n",
        "    // Only implements Freezable - can't be audited or transferred\n",
        "    // Perfect for villains who deal only in untraceable cash\n",
        "}\n",
        "\n",
        "// File: CryptoWallet.java\n",
        "public class CryptoWallet extends BankAccount implements Transferable {\n",
        "    // Only implements Transferable - can't be frozen or audited\n",
        "    // Decentralized and anonymous!\n",
        "}\n",
        "\n",
        "// File: TransparentAccount.java\n",
        "public class TransparentAccount extends BankAccount\n",
        "    implements Auditable, Transferable {\n",
        "    // Implements Auditable and Transferable, but NOT Freezable\n",
        "    // For reformed villains trying to go legitimate\n",
        "}\n",
        "```\n",
        "\n",
        "This flexibility lets you design accounts with exactly the capabilities they need - no more, no less.\n",
        "\n",
        "## Common Pitfall: Method Name Conflicts\n",
        "\n",
        "What happens if two interfaces require methods with the same name? Java handles this elegantly - you only implement the method once:\n",
        "\n",
        "```java\n",
        "public interface Trackable {\n",
        "    String getHistory();  // Method name\n",
        "}\n",
        "\n",
        "public interface Auditable {\n",
        "    String getHistory();  // Same method name!\n",
        "}\n",
        "\n",
        "public class MonitoredAccount implements Trackable, Auditable {\n",
        "    @Override\n",
        "    public String getHistory() {\n",
        "        // This single method satisfies BOTH interfaces\n",
        "        return \"Complete account history\";\n",
        "    }\n",
        "}\n",
        "```\n",
        "\n",
        "As long as the method signatures match exactly (same name, parameters, and return type), one implementation satisfies both interfaces. If the signatures differ (like different return types), you'll get a compilation error - the class can't implement both interfaces.\n",
        "\n",
        "## Why Not Just Put Everything in One Interface?\n",
        "\n",
        "You might wonder: why not create one giant interface with all possible methods? This violates good design principles:\n",
        "\n",
        "```java\n",
        "// BAD DESIGN - don't do this!\n",
        "public interface DoEverything {\n",
        "    void freeze();\n",
        "    void unfreeze();\n",
        "    boolean isFrozen();\n",
        "    String getTransactionHistory();\n",
        "    double reportTaxableIncome();\n",
        "    boolean transferTo(BankAccount dest, double amount);\n",
        "    boolean canAcceptTransfer();\n",
        "    // ... 20 more methods ...\n",
        "}\n",
        "```\n",
        "\n",
        "Problems with the mega-interface approach:\n",
        "\n",
        "* **Forces unnecessary implementation** - A cash-only account must implement transfer methods it'll never use\n",
        "* **Violates single responsibility** - The interface tries to do too many unrelated things\n",
        "* **Reduces flexibility** - Can't mix and match capabilities\n",
        "\n",
        "Instead, keep interfaces small and focused. Each interface should represent one capability or responsibility.\n",
        "\n",
        "## Best Practices for Multiple Interfaces\n",
        "\n",
        "When designing classes with multiple interfaces, follow these guidelines:\n",
        "\n",
        "1. **Keep interfaces small** - Each interface should have 2-5 related methods\n",
        "2. **Name interfaces clearly** - Use -able suffix for capabilities (Freezable, Auditable)\n",
        "3. **Don't force unnecessary interfaces** - Only implement what the class actually needs\n",
        "\n",
        "## Quick Example: The Ultimate Evil Account\n",
        "\n",
        "Here's a simple example showing how Gru's ultimate evil account handles all three interfaces:"
      ],
      "metadata": {
        "id": "pQaqy01Js80z"
      }
    },
    {
      "cell_type": "code",
      "source": [
        "%%writefile  TestMultiple.java\n",
        "public class TestMultiple {\n",
        "    public static void main(String[] args) {\n",
        "        SuperVillainAccount gru = new SuperVillainAccount(\"EVIL-001\", \"Gru\");\n",
        "\n",
        "        // Can use as any interface type\n",
        "        Freezable f = gru;\n",
        "        Auditable a = gru;\n",
        "        Transferable t = gru;\n",
        "\n",
        "        // Or use as itself with all capabilities\n",
        "        gru.deposit(1000000);\n",
        "        gru.freeze();\n",
        "        System.out.println(\"Frozen? \" + gru.isFrozen());\n",
        "        System.out.println(\"History: \" + gru.getTransactionHistory());\n",
        "        System.out.println(\"Can transfer? \" + gru.canAcceptTransfer());\n",
        "    }\n",
        "}"
      ],
      "metadata": {
        "colab": {
          "base_uri": "https://localhost:8080/"
        },
        "id": "vpOniGDItFmF",
        "outputId": "47c3c067-1398-4d71-b528-81de83af9473"
      },
      "execution_count": null,
      "outputs": [
        {
          "output_type": "stream",
          "name": "stdout",
          "text": [
            "Writing TestMultiple.java\n"
          ]
        }
      ]
    },
    {
      "cell_type": "code",
      "source": [
        "!javac TestMultiple.java\n",
        "!java TestMultiple"
      ],
      "metadata": {
        "colab": {
          "base_uri": "https://localhost:8080/"
        },
        "id": "2uB16oGKtJuf",
        "outputId": "4ef63666-0dc1-4542-901f-192ac62b2ed6"
      },
      "execution_count": null,
      "outputs": [
        {
          "output_type": "stream",
          "name": "stdout",
          "text": [
            "Frozen? true\n",
            "History: Account opened for villainy\n",
            "FROZEN by Anti-Villain League\n",
            "\n",
            "Can transfer? false\n"
          ]
        }
      ]
    },
    {
      "cell_type": "markdown",
      "source": [
        "Multiple interfaces give you incredible flexibility. A class declares exactly what it can do by choosing which interfaces to implement. This is how the Bank of Evil manages accounts that need different combinations of capabilities - some need all three, some need just one, and some need a specific pair. The choice is yours!"
      ],
      "metadata": {
        "id": "QgT00fgstQ_7"
      }
    },
    {
      "cell_type": "markdown",
      "source": [
        "# Interface Polymorphism: Many Forms of Evil\n",
        "\n",
        "In Chapter 8, you learned that polymorphism lets you treat child objects as their parent type. A Beverage variable could hold a Soda object. Interfaces provide another form of polymorphism - you can treat any object as one of the interfaces it implements. This lets the Anti-Villain League freeze accounts without knowing if they're freezing Gru's evil savings or Bob the Minion's banana fund. They just know it's Freezable.\n",
        "\n",
        "## Interface References\n",
        "\n",
        "Just like you can have a variable of a class type, you can have a variable of an interface type. This variable can hold any object that implements that interface:\n",
        "\n",
        "```java\n",
        "// Interface reference, concrete object\n",
        "Freezable account1 = new EvilAccount(\"EVIL-001\", \"Gru\");\n",
        "Freezable account2 = new MinionAccount(\"MIN-042\", \"Bob\");\n",
        "Freezable account3 = new SuperVillainAccount(\"SV-001\", \"Vector\");\n",
        "\n",
        "// All three different types, but all Freezable!\n",
        "account1.freeze();  // Calls EvilAccount's freeze()\n",
        "account2.freeze();  // Calls MinionAccount's freeze()\n",
        "account3.freeze();  // Calls SuperVillainAccount's freeze()\n",
        "```\n",
        "\n",
        "The **reference type** is Freezable, but the **object type** varies. Java automatically calls the correct version of freeze() based on the actual object - this is polymorphism in action.\n",
        "\n",
        "## What You Can and Can't Call\n",
        "\n",
        "When you use an interface reference, you can only call methods defined in that interface, even if the object has more methods:\n",
        "\n",
        "```java\n",
        "SuperVillainAccount vectorAccount = new SuperVillainAccount(\"SV-001\", \"Vector\");\n",
        "\n",
        "// As SuperVillainAccount, can call everything\n",
        "vectorAccount.freeze();                    // ✓ From Freezable\n",
        "vectorAccount.getTransactionHistory();     // ✓ From Auditable\n",
        "vectorAccount.transferTo(other, 1000);     // ✓ From Transferable\n",
        "vectorAccount.deposit(5000);               // ✓ From BankAccount\n",
        "\n",
        "// As Freezable reference, limited to Freezable methods\n",
        "Freezable freezableAccount = vectorAccount;\n",
        "freezableAccount.freeze();                 // ✓ OK\n",
        "freezableAccount.getTransactionHistory();  // ✗ ERROR! Not in Freezable\n",
        "freezableAccount.deposit(5000);            // ✗ ERROR! Not in Freezable\n",
        "```\n",
        "\n",
        "Think of it like looking through a filter - the Freezable reference only lets you see the Freezable methods, even though the object has many more capabilities.\n",
        "\n",
        "## Collections of Interface Types\n",
        "\n",
        "The real power of interface polymorphism shines with collections. The Anti-Villain League can maintain a list of all freezable accounts without caring about their specific types:\n",
        "\n",
        "```java\n",
        "import java.util.ArrayList;\n",
        "\n",
        "public class AntiVillainLeague {\n",
        "    private ArrayList<Freezable> watchList = new ArrayList<>();\n",
        "    \n",
        "    public void addToWatchList(Freezable account) {\n",
        "        watchList.add(account);\n",
        "        System.out.println(\"Account added to surveillance\");\n",
        "    }\n",
        "    \n",
        "    public void freezeAllAccounts() {\n",
        "        System.out.println(\"=== OPERATION FREEZE EVERYTHING ===\");\n",
        "        for (Freezable account : watchList) {\n",
        "            if (!account.isFrozen()) {\n",
        "                account.freeze();\n",
        "            }\n",
        "        }\n",
        "        System.out.println(\"All accounts frozen!\");\n",
        "    }\n",
        "    \n",
        "    public int countFrozenAccounts() {\n",
        "        int frozen = 0;\n",
        "        for (Freezable account : watchList) {\n",
        "            if (account.isFrozen()) {\n",
        "                frozen++;\n",
        "            }\n",
        "        }\n",
        "        return frozen;\n",
        "    }\n",
        "}\n",
        "```\n",
        "\n",
        "This class doesn't know or care whether it's freezing EvilAccounts, MinionAccounts, or SuperVillainAccounts. It just knows they're all Freezable. This is the power of programming to interfaces rather than concrete classes.\n",
        "\n"
      ],
      "metadata": {
        "id": "v2b623Putsvt"
      }
    },
    {
      "cell_type": "markdown",
      "source": [
        "## Mixed Type Collections\n",
        "\n",
        "You can mix different object types in the same collection as long as they share an interface:\n",
        "\n",
        "```java\n",
        "public class BankOfEvil {\n",
        "    public static void main(String[] args) {\n",
        "        AntiVillainLeague avl = new AntiVillainLeague();\n",
        "        \n",
        "        // Different account types\n",
        "        EvilAccount gru = new EvilAccount(\"EVIL-001\", \"Gru\");\n",
        "        MinionAccount bob = new MinionAccount(\"MIN-042\", \"Bob\");\n",
        "        SuperVillainAccount vector = new SuperVillainAccount(\"SV-001\", \"Vector\");\n",
        "        \n",
        "        // All go in the same watch list!\n",
        "        avl.addToWatchList(gru);     // EvilAccount\n",
        "        avl.addToWatchList(bob);     // MinionAccount  \n",
        "        avl.addToWatchList(vector);  // SuperVillainAccount\n",
        "        \n",
        "        // Freeze them all with one method\n",
        "        avl.freezeAllAccounts();\n",
        "    }\n",
        "}\n",
        "```\n",
        "\n",
        "Without interfaces, you'd need separate lists for each account type, separate freeze methods for each type, and lots of duplicate code. Interfaces eliminate this duplication.\n",
        "\n",
        "## The instanceof Operator with Interfaces\n",
        "\n",
        "Sometimes you need to check if an object implements a specific interface. The **instanceof** operator works with interfaces just like it does with classes:\n",
        "\n",
        "```java\n",
        "public void processAccount(BankAccount account) {\n",
        "    System.out.println(\"Processing: \" + account.getAccountNumber());\n",
        "    \n",
        "    if (account instanceof Freezable) {\n",
        "        System.out.println(\"  This account can be frozen\");\n",
        "    }\n",
        "    \n",
        "    if (account instanceof Auditable) {\n",
        "        System.out.println(\"  This account can be audited\");\n",
        "    }\n",
        "    \n",
        "    if (account instanceof Transferable) {\n",
        "        System.out.println(\"  This account can transfer funds\");\n",
        "    }\n",
        "}\n",
        "```\n",
        "\n",
        "This lets you discover an object's capabilities at runtime. The IRS could use this to find all auditable accounts, while ignoring non-auditable ones like secret crypto wallets.\n",
        "\n",
        "## Casting with Interfaces\n",
        "\n",
        "If you have an interface reference but need to call a method from a different interface, you must cast (after checking with instanceof):\n",
        "\n",
        "```java\n",
        "public void auditIfPossible(Freezable account) {\n",
        "    // account is Freezable reference\n",
        "    // But it might also be Auditable!\n",
        "    \n",
        "    if (account instanceof Auditable) {\n",
        "        Auditable auditableAccount = (Auditable) account;\n",
        "        String history = auditableAccount.getTransactionHistory();\n",
        "        System.out.println(\"Audit report: \" + history);\n",
        "    } else {\n",
        "        System.out.println(\"This account cannot be audited\");\n",
        "    }\n",
        "}\n",
        "```\n",
        "\n",
        "Always check with instanceof before casting to avoid ClassCastException errors at runtime. It's like checking if someone speaks a language before trying to talk to them in that language.\n",
        "\n",
        "## Interface Polymorphism in Method Parameters\n",
        "\n",
        "Methods can accept interface types as parameters, making them incredibly flexible:\n",
        "\n",
        "```java\n",
        "public class TaxCollector {\n",
        "    public double collectTaxes(Auditable account) {\n",
        "        // Works with ANY Auditable account\n",
        "        double income = account.reportTaxableIncome();\n",
        "        double tax = income * 0.3;  // 30% villain tax rate\n",
        "        System.out.println(\"Taxes owed: $\" + tax);\n",
        "        return tax;\n",
        "    }\n",
        "}\n",
        "\n",
        "// Usage:\n",
        "TaxCollector irs = new TaxCollector();\n",
        "SuperVillainAccount vector = new SuperVillainAccount(\"SV-001\", \"Vector\");\n",
        "TransparentAccount reformed = new TransparentAccount(\"REF-001\", \"Ex-Villain\");\n",
        "\n",
        "irs.collectTaxes(vector);    // Works!\n",
        "irs.collectTaxes(reformed);  // Also works!\n",
        "// Both implement Auditable, so both can be taxed\n",
        "```\n",
        "\n",
        "The collectTaxes method works with any Auditable account, present or future. When the Bank of Evil creates new account types next year, as long as they implement Auditable, this method will work with them too.\n",
        "\n",
        "## Why Interface Polymorphism Matters\n",
        "\n",
        "Interface polymorphism provides three huge benefits:\n",
        "\n",
        "* **Flexibility** - Write code that works with any object implementing an interface\n",
        "* **Extensibility** - Add new classes that implement existing interfaces without changing existing code  \n",
        "* **Decoupling** - Code depends on interfaces, not specific classes\n",
        "\n",
        "The Anti-Villain League's systems don't need updating when the Bank of Evil adds new account types. As long as new accounts implement Freezable, the existing freeze systems work automatically. This is how large programs stay maintainable as they grow.\n",
        "\n",
        "## Common Pitfall: Losing the Original Type\n",
        "\n",
        "Once you store an object as an interface reference, you lose access to its specific type unless you cast back:\n",
        "\n",
        "```java\n",
        "ArrayList<Freezable> accounts = new ArrayList<>();\n",
        "SuperVillainAccount vector = new SuperVillainAccount(\"SV-001\", \"Vector\");\n",
        "accounts.add(vector);\n",
        "\n",
        "// Later, getting it back out:\n",
        "Freezable frozen = accounts.get(0);\n",
        "frozen.freeze();  // OK\n",
        "\n",
        "// But to access SuperVillainAccount methods:\n",
        "SuperVillainAccount original = (SuperVillainAccount) frozen;  // Must cast\n",
        "original.makeEvilPurchase(\"Death Ray\", 50000);  // Now OK\n",
        "```\n",
        "\n",
        "This is why you should program to interfaces when possible - it encourages you to think about what capabilities you need, not specific implementations.\n",
        "\n",
        "Interface polymorphism is the secret to flexible, maintainable code. By treating objects based on what they can do (their interfaces) rather than what they are (their classes), you create systems that adapt easily to change. The Bank of Evil can add new account types, and the Anti-Villain League's systems continue working without modification. That's the power of programming to interfaces!"
      ],
      "metadata": {
        "id": "9LaC4Gzdt16k"
      }
    },
    {
      "cell_type": "markdown",
      "source": [
        "## Coding Activity : Minion Management System\n",
        "\n",
        "\n",
        "## Background\n",
        "The Bank of Evil needs to manage its minion workforce. Different types of minions have different capabilities - some can operate heavy machinery, some can perform administrative tasks, and the elite minions can do both. Your task is to create interfaces and classes to manage these minions.\n",
        "\n",
        "## Starter Code\n"
      ],
      "metadata": {
        "id": "N9EoLyFxY41J"
      }
    },
    {
      "cell_type": "code",
      "source": [
        "%%writefile Trainable.java\n",
        "public interface Trainable {\n",
        "    void train(String skill);\n",
        "    String listSkills();\n",
        "}"
      ],
      "metadata": {
        "id": "rWdyq6KIY_oY",
        "outputId": "6705de1f-4f6a-426b-98f3-cc53ea0a5895",
        "colab": {
          "base_uri": "https://localhost:8080/"
        }
      },
      "execution_count": null,
      "outputs": [
        {
          "output_type": "stream",
          "name": "stdout",
          "text": [
            "Writing Trainable.java\n"
          ]
        }
      ]
    },
    {
      "cell_type": "code",
      "source": [
        "%%writefile Workable.java\n",
        "public interface Workable {\n",
        "    void doWork();\n",
        "    double getProductivity();  // Returns 0.0 to 1.0\n",
        "}"
      ],
      "metadata": {
        "id": "DAWHC6GSZJEp",
        "outputId": "de87b5a6-1200-40d8-9561-666c4d42091c",
        "colab": {
          "base_uri": "https://localhost:8080/"
        }
      },
      "execution_count": null,
      "outputs": [
        {
          "output_type": "stream",
          "name": "stdout",
          "text": [
            "Writing Workable.java\n"
          ]
        }
      ]
    },
    {
      "cell_type": "code",
      "source": [
        "%%writefile Minion.java\n",
        "public abstract class Minion {\n",
        "    protected String name;\n",
        "    protected String id;\n",
        "\n",
        "    public Minion(String name, String id) {\n",
        "        this.name = name;\n",
        "        this.id = id;\n",
        "    }\n",
        "\n",
        "    public abstract String getType();\n",
        "}"
      ],
      "metadata": {
        "id": "372oq0dDZNqN",
        "outputId": "acdd3de8-b377-48ea-fd01-7aa192b51940",
        "colab": {
          "base_uri": "https://localhost:8080/"
        }
      },
      "execution_count": null,
      "outputs": [
        {
          "output_type": "stream",
          "name": "stdout",
          "text": [
            "Writing Minion.java\n"
          ]
        }
      ]
    },
    {
      "cell_type": "code",
      "source": [
        "%%writefile BasicMinion.java\n",
        "// TODO"
      ],
      "metadata": {
        "id": "drE5-eLXZdrT"
      },
      "execution_count": null,
      "outputs": []
    },
    {
      "cell_type": "code",
      "source": [
        "%%writefile SmartMinion.java\n",
        "// TODO"
      ],
      "metadata": {
        "id": "8ptMf9AOZkwM"
      },
      "execution_count": null,
      "outputs": []
    },
    {
      "cell_type": "code",
      "source": [
        "%%writefile EliteMinion.java\n",
        "// TODO"
      ],
      "metadata": {
        "id": "vyOiTgkhZhct"
      },
      "execution_count": null,
      "outputs": []
    },
    {
      "cell_type": "code",
      "source": [
        "%%writefile MinionManager.java\n",
        "import java.util.ArrayList;\n",
        "\n",
        "public class MinionManager {\n",
        "    private ArrayList<Minion> allMinions = new ArrayList<>();\n",
        "    // TODO: Add an ArrayList for Trainable minions\n",
        "    // TODO: Add an ArrayList for Workable minions\n",
        "\n",
        "    public void addMinion(Minion minion) {\n",
        "        allMinions.add(minion);\n",
        "        // TODO: If minion is Trainable, add to trainable list\n",
        "        // TODO: If minion is Workable, add to workable list\n",
        "    }\n",
        "\n",
        "    // TODO: Write method trainAll(String skill) that trains all trainable minions\n",
        "\n",
        "    // TODO: Write method getTotalProductivity() that sums productivity of all workable minions\n",
        "}"
      ],
      "metadata": {
        "id": "EYjGVsTUZS8k"
      },
      "execution_count": null,
      "outputs": []
    },
    {
      "cell_type": "markdown",
      "source": [
        "## Your Tasks\n",
        "\n",
        "1. **Create BasicMinion class** (extends Minion, implements Workable)\n",
        "   - Productivity is always 0.5\n",
        "   - doWork() prints \"Basic minion [name] is working\"\n",
        "   - getType() returns \"Basic\"\n",
        "\n",
        "2. **Create SmartMinion class** (extends Minion, implements Trainable)\n",
        "   - Store skills in an ArrayList<String>\n",
        "   - train() adds skill to list\n",
        "   - listSkills() returns comma-separated string of skills\n",
        "   - getType() returns \"Smart\"\n",
        "\n",
        "3. **Create EliteMinion class** (extends Minion, implements both Trainable and Workable)\n",
        "   - Combines features of both\n",
        "   - Productivity starts at 0.6 and increases by 0.1 for each skill (max 1.0)\n",
        "   - getType() returns \"Elite\"\n",
        "\n",
        "4. **Complete MinionManager class**\n",
        "   - Add the two ArrayLists for interface types\n",
        "   - Complete addMinion() to check instanceof and add to appropriate lists\n",
        "   - Write trainAll() method\n",
        "   - Write getTotalProductivity() method\n",
        "\n",
        "## Test Your Code"
      ],
      "metadata": {
        "id": "YIZSfB1cZaPt"
      }
    },
    {
      "cell_type": "code",
      "source": [
        "%%writefile MinionTest.java\n",
        "public class MinionTest {\n",
        "    public static void main(String[] args) {\n",
        "        MinionManager manager = new MinionManager();\n",
        "\n",
        "        // Add different minion types\n",
        "        manager.addMinion(new BasicMinion(\"Bob\", \"M001\"));\n",
        "        manager.addMinion(new SmartMinion(\"Kevin\", \"M002\"));\n",
        "        manager.addMinion(new EliteMinion(\"Stuart\", \"M003\"));\n",
        "\n",
        "        // Train all trainable minions\n",
        "        manager.trainAll(\"Evil Laugh\");\n",
        "        manager.trainAll(\"Banana Preparation\");\n",
        "\n",
        "        // Check productivity\n",
        "        System.out.println(\"Total productivity: \" + manager.getTotalProductivity());\n",
        "    }\n",
        "}"
      ],
      "metadata": {
        "id": "kHCBBEm3Z7Pf"
      },
      "execution_count": null,
      "outputs": []
    },
    {
      "cell_type": "code",
      "source": [
        "!javac MinionTest.java\n",
        "!java MinionTest"
      ],
      "metadata": {
        "id": "LQYSXoWsZ_jJ"
      },
      "execution_count": null,
      "outputs": []
    },
    {
      "cell_type": "code",
      "source": [],
      "metadata": {
        "id": "iSXqTIWcZ2Eo"
      },
      "execution_count": null,
      "outputs": []
    },
    {
      "cell_type": "markdown",
      "source": [
        "# When Things Go Wrong: Introduction to Exceptions\n",
        "\n",
        "So far, our Bank of Evil accounts work perfectly - as long as nothing goes wrong. But what happens when Gru tries to withdraw more money than he has? Or when Vector attempts to transfer funds from a frozen account? Or when a minion enters \"BANANA\" as a withdrawal amount? These problems cause programs to crash unless we handle them properly. Enter **exceptions** - Java's way of dealing with things that go wrong.\n",
        "\n",
        "## The Bank of Evil's Problems\n",
        "\n",
        "Let's see what happens when something goes wrong without exception handling. Try this code:"
      ],
      "metadata": {
        "id": "N6poFrbWuTG4"
      }
    },
    {
      "cell_type": "code",
      "source": [
        "%%writefile BadBankDemo.java\n",
        "public class BadBankDemo {\n",
        "    public static void main(String[] args) {\n",
        "        // This will crash!\n",
        "        int balance = 1000;\n",
        "        int withdrawal = 2000;\n",
        "        int remaining = balance - withdrawal;\n",
        "\n",
        "        // Negative balance... but program continues\n",
        "        System.out.println(\"Balance: $\" + remaining);  // Prints -1000\n",
        "\n",
        "        // Later, this causes real problems\n",
        "        int[] transactions = new int[remaining];  // CRASH!\n",
        "        // NegativeArraySizeException - program terminates\n",
        "    }\n",
        "}"
      ],
      "metadata": {
        "colab": {
          "base_uri": "https://localhost:8080/"
        },
        "id": "Y04HfGUduUgq",
        "outputId": "57f18863-8f04-486c-e72a-ef185aa38fce"
      },
      "execution_count": null,
      "outputs": [
        {
          "output_type": "stream",
          "name": "stdout",
          "text": [
            "Writing BadBankDemo.java\n"
          ]
        }
      ]
    },
    {
      "cell_type": "code",
      "source": [
        "!javac BadBankDemo.java\n",
        "!java BadBankDemo"
      ],
      "metadata": {
        "colab": {
          "base_uri": "https://localhost:8080/"
        },
        "id": "uzNxumuGuYh3",
        "outputId": "4d46efc5-83a4-4e8a-8538-3c7fb3140d90"
      },
      "execution_count": null,
      "outputs": [
        {
          "output_type": "stream",
          "name": "stdout",
          "text": [
            "Balance: $-1000\n",
            "Exception in thread \"main\" java.lang.NegativeArraySizeException: -1000\n",
            "\tat BadBankDemo.main(BadBankDemo.java:12)\n"
          ]
        }
      ]
    },
    {
      "cell_type": "markdown",
      "source": [
        "When Java encounters an impossible operation (like creating an array with negative size), it creates an **exception** - an object that represents the error. If nobody handles this exception, the program crashes with an error message.\n",
        "\n",
        "## What Is an Exception?\n",
        "\n",
        "An **exception** is an object that represents something going wrong. Think of it like an alarm in the Bank of Evil - when someone tries to break into the vault, alarms sound. Similarly, when code tries to do something impossible, Java \"throws\" an exception. The exception contains information about what went wrong and where it happened.\n",
        "\n",
        "Here are common exceptions you'll encounter:\n",
        "\n",
        "```java\n",
        "// NullPointerException - using something that doesn't exist\n",
        "String villain = null;\n",
        "int length = villain.length();  // CRASH! Can't get length of null\n",
        "\n",
        "// ArrayIndexOutOfBoundsException - accessing outside array bounds\n",
        "int[] minions = new int[10];\n",
        "int minion = minions[15];  // CRASH! No index 15 in size-10 array\n",
        "\n",
        "// ArithmeticException - impossible math\n",
        "int bananas = 100;\n",
        "int groups = 0;\n",
        "int perGroup = bananas / groups;  // CRASH! Can't divide by zero\n",
        "```\n",
        "\n",
        "## Real-World Analogy: Bank Security Protocols\n",
        "\n",
        "Imagine the Bank of Evil's security system. When something suspicious happens, different alarms trigger:\n",
        "\n",
        "* **Insufficient funds alarm** - Someone tries to withdraw too much\n",
        "* **Frozen account alarm** - Someone tries to use a frozen account\n",
        "* **Invalid amount alarm** - Someone enters nonsense like \"BANANA\" for amount\n",
        "\n",
        "Without proper protocols (exception handling), any alarm would evacuate the entire bank (crash the program). With protocols, each alarm triggers specific responses - some problems just display an error message, others lock the account, and only the worst shut down operations.\n"
      ],
      "metadata": {
        "id": "SqfhXy17ufSG"
      }
    },
    {
      "cell_type": "markdown",
      "source": [
        "## Types of Problems\n",
        "\n",
        "Not all problems are the same. Java distinguishes between different severity levels:\n",
        "\n",
        "**Compile-time errors** - Caught before the program runs\n",
        "```java\n",
        "int balance = \"EVIL\";  // Compiler error - can't assign String to int\n",
        "```\n",
        "\n",
        "**Runtime exceptions** - Problems that occur while running\n",
        "```java\n",
        "int[] accounts = new int[10];\n",
        "int account = accounts[20];  // Runtime error - only fails when this line runs\n",
        "```\n",
        "\n",
        "**Logical errors** - Program runs but gives wrong results\n",
        "```java\n",
        "int balance = 1000;\n",
        "int withdrawal = 100;\n",
        "balance = balance + withdrawal;  // Oops! Should be minus, not plus\n",
        "```\n",
        "\n",
        "Exceptions deal with runtime problems - things that go wrong while your program is running.\n",
        "\n",
        "## The Exception Hierarchy\n",
        "\n",
        "Java organizes exceptions into a family tree (hierarchy). At the top is **Throwable**, which has two main children:\n",
        "\n",
        "```\n",
        "Throwable\n",
        "├── Error (serious problems you usually can't handle)\n",
        "│   └── OutOfMemoryError, StackOverflowError\n",
        "└── Exception (problems you can handle)\n",
        "    ├── RuntimeException (unchecked - don't have to handle)\n",
        "    │   └── NullPointerException, ArrayIndexOutOfBoundsException\n",
        "    └── IOException, SQLException (checked - must handle)\n",
        "```\n",
        "\n",
        "For now, focus on **Exception** and its children. These are problems your code can recover from.\n",
        "\n",
        "## How Exceptions \"Bubble Up\"\n",
        "\n",
        "When an exception occurs, Java looks for someone to handle it. If the current method doesn't handle it, Java checks the method that called it, then the method that called that one, and so on. This is called **bubbling up**:\n"
      ],
      "metadata": {
        "id": "tuHA_TS4upLK"
      }
    },
    {
      "cell_type": "code",
      "source": [
        "%%writefile BubbleDemo.java\n",
        "public class BubbleDemo {\n",
        "    public static void main(String[] args) {\n",
        "        System.out.println(\"Main: Starting\");\n",
        "        doTransaction();  // Calls method\n",
        "        System.out.println(\"Main: Ending\");  // Never reaches here!\n",
        "    }\n",
        "\n",
        "    public static void doTransaction() {\n",
        "        System.out.println(\"Transaction: Starting\");\n",
        "        doWithdrawal();  // Calls another method\n",
        "        System.out.println(\"Transaction: Ending\");  // Never reaches here!\n",
        "    }\n",
        "\n",
        "    public static void doWithdrawal() {\n",
        "        System.out.println(\"Withdrawal: Starting\");\n",
        "        int[] accounts = new int[10];\n",
        "        int account = accounts[20];  // EXCEPTION HERE!\n",
        "        System.out.println(\"Withdrawal: Ending\");  // Never reaches here!\n",
        "    }\n",
        "}"
      ],
      "metadata": {
        "colab": {
          "base_uri": "https://localhost:8080/"
        },
        "id": "pRd1jnvGupzo",
        "outputId": "c364346c-0004-4b36-d157-c2814fc4542e"
      },
      "execution_count": null,
      "outputs": [
        {
          "output_type": "stream",
          "name": "stdout",
          "text": [
            "Writing BubbleDemo.java\n"
          ]
        }
      ]
    },
    {
      "cell_type": "code",
      "source": [
        "!javac BubbleDemo.java\n",
        "!java BubbleDemo"
      ],
      "metadata": {
        "colab": {
          "base_uri": "https://localhost:8080/"
        },
        "id": "2UzS1jsYuu8O",
        "outputId": "689870c5-c5b7-4853-b759-270cc623d707"
      },
      "execution_count": null,
      "outputs": [
        {
          "output_type": "stream",
          "name": "stdout",
          "text": [
            "Main: Starting\n",
            "Transaction: Starting\n",
            "Withdrawal: Starting\n",
            "Exception in thread \"main\" java.lang.ArrayIndexOutOfBoundsException: Index 20 out of bounds for length 10\n",
            "\tat BubbleDemo.doWithdrawal(BubbleDemo.java:17)\n",
            "\tat BubbleDemo.doTransaction(BubbleDemo.java:10)\n",
            "\tat BubbleDemo.main(BubbleDemo.java:4)\n"
          ]
        }
      ]
    },
    {
      "cell_type": "markdown",
      "source": [
        "The exception starts in doWithdrawal, bubbles up to doTransaction, then to main, and finally crashes the program. The error message shows this path - it's called a **stack trace**.\n",
        "\n",
        "## Reading Stack Traces\n",
        "\n",
        "A **stack trace** is like a crime scene report - it tells you exactly what went wrong and where. Let's decode one:\n",
        "\n",
        "```\n",
        "Exception in thread \"main\" java.lang.ArrayIndexOutOfBoundsException: 20\n",
        "    at BubbleDemo.doWithdrawal(BubbleDemo.java:16)\n",
        "    at BubbleDemo.doTransaction(BubbleDemo.java:9)\n",
        "    at BubbleDemo.main(BubbleDemo.java:4)\n",
        "```\n",
        "\n",
        "Reading this stack trace:\n",
        "1. **Exception type**: ArrayIndexOutOfBoundsException\n",
        "2. **Details**: Tried to access index 20\n",
        "3. **Where it happened**: Line 16 of BubbleDemo.java in doWithdrawal method\n",
        "4. **Call chain**: main (line 4) → doTransaction (line 9) → doWithdrawal (line 16)\n",
        "\n",
        "The stack trace is your friend! It tells you exactly where to look for the problem."
      ],
      "metadata": {
        "id": "LmuTv-Azu5qI"
      }
    },
    {
      "cell_type": "markdown",
      "source": [
        "## Why Handle Exceptions?\n",
        "\n",
        "Without exception handling, any problem crashes your entire program. Imagine if the Bank of Evil's ATM system crashed every time someone entered an invalid PIN. Instead, you want to:\n",
        "\n",
        "* **Recover gracefully** - Display an error message and continue\n",
        "* **Provide alternatives** - If the main vault is locked, try the backup\n",
        "* **Clean up resources** - If a transfer fails, restore the original balance\n",
        "* **Log problems** - Record what went wrong for debugging\n",
        "\n",
        "## Looking Ahead\n",
        "\n",
        "Right now, exceptions crash our programs. In the next section, we'll learn how to catch these exceptions using try-catch blocks, allowing our programs to handle problems gracefully. Instead of the entire Bank of Evil system crashing when Gru enters \"MOON\" as a withdrawal amount, we'll display a helpful error message and let him try again. Exception handling transforms fragile programs into robust systems that can handle whatever villains (or minions) throw at them!"
      ],
      "metadata": {
        "id": "eKelmWdXvEEy"
      }
    },
    {
      "cell_type": "markdown",
      "source": [
        "# Try-Catch: Handling Criminal Activities\n",
        "\n",
        "Now that we've seen how exceptions can crash the Bank of Evil's systems, let's learn how to catch and handle them. The **try-catch** structure is like a safety net - you try to do something risky, and if it fails, you catch the problem and handle it gracefully. Instead of the entire bank shutting down when a minion types \"BANANA\" as a withdrawal amount, we can display an error message and continue operating.\n",
        "\n",
        "## The Try-Catch Structure\n",
        "\n",
        "The basic structure of exception handling uses two keywords: **try** and **catch**. Here's the syntax:\n",
        "\n",
        "```java\n",
        "try {\n",
        "    // Risky code that might throw an exception\n",
        "} catch (ExceptionType e) {\n",
        "    // Code to handle the problem\n",
        "}\n",
        "```\n",
        "\n",
        "The code in the try block runs normally. If an exception occurs, Java immediately jumps to the catch block. If no exception occurs, the catch block is skipped entirely. Let's see it in action:"
      ],
      "metadata": {
        "id": "DRYlnLmuvI_I"
      }
    },
    {
      "cell_type": "code",
      "source": [
        "%%writefile SafeWithdrawal.java\n",
        "public class SafeWithdrawal {\n",
        "    public static void main(String[] args) {\n",
        "        String input = \"BANANA\";\n",
        "\n",
        "        try {\n",
        "            int amount = Integer.parseInt(input);\n",
        "            System.out.println(\"Withdrawing $\" + amount);\n",
        "        } catch (NumberFormatException e) {\n",
        "            System.out.println(\"ERROR: '\" + input + \"' is not a valid amount!\");\n",
        "            System.out.println(\"Please enter numbers only.\");\n",
        "        }\n",
        "\n",
        "        System.out.println(\"Bank continues operating...\");\n",
        "    }\n",
        "}"
      ],
      "metadata": {
        "colab": {
          "base_uri": "https://localhost:8080/"
        },
        "id": "VIJ4HHPwvoAA",
        "outputId": "78706a15-ad46-4717-8c55-d98f048d89bc"
      },
      "execution_count": null,
      "outputs": [
        {
          "output_type": "stream",
          "name": "stdout",
          "text": [
            "Writing SafeWithdrawal.java\n"
          ]
        }
      ]
    },
    {
      "cell_type": "markdown",
      "source": [
        "Without try-catch, this program would crash. With it, we handle the error and continue running!\n",
        "\n",
        "## What Happens in the Try Block\n",
        "\n",
        "When Java executes a try block, it's constantly watching for exceptions. The moment an exception occurs, Java stops executing the try block and jumps to the catch:\n"
      ],
      "metadata": {
        "id": "E5vDqmY5vver"
      }
    },
    {
      "cell_type": "code",
      "source": [
        "%%writefile TryBlockFlow.java\n",
        "public class TryBlockFlow {\n",
        "    public static void main(String[] args) {\n",
        "        try {\n",
        "            System.out.println(\"1. Starting transaction\");\n",
        "            int[] accounts = new int[5];\n",
        "            System.out.println(\"2. Created accounts array\");\n",
        "            int balance = accounts[10];  // EXCEPTION HERE!\n",
        "            System.out.println(\"3. Got balance\");  // NEVER RUNS\n",
        "            System.out.println(\"4. Transaction complete\");  // NEVER RUNS\n",
        "        } catch (ArrayIndexOutOfBoundsException e) {\n",
        "            System.out.println(\"CAUGHT: Invalid account number!\");\n",
        "        }\n",
        "        System.out.println(\"5. Bank still running\");\n",
        "    }\n",
        "}"
      ],
      "metadata": {
        "colab": {
          "base_uri": "https://localhost:8080/"
        },
        "id": "kWBR8xUQvw5N",
        "outputId": "b3cba915-c308-41c5-c806-68df5dfc59b1"
      },
      "execution_count": null,
      "outputs": [
        {
          "output_type": "stream",
          "name": "stdout",
          "text": [
            "Writing TryBlockFlow.java\n"
          ]
        }
      ]
    },
    {
      "cell_type": "code",
      "source": [
        "!javac TryBlockFlow.java\n",
        "!java TryBlockFlow"
      ],
      "metadata": {
        "colab": {
          "base_uri": "https://localhost:8080/"
        },
        "id": "DnRVy6v8v2TE",
        "outputId": "3bb42f75-f100-4a30-9778-95a06d5b7836"
      },
      "execution_count": null,
      "outputs": [
        {
          "output_type": "stream",
          "name": "stdout",
          "text": [
            "1. Starting transaction\n",
            "2. Created accounts array\n",
            "CAUGHT: Invalid account number!\n",
            "5. Bank still running\n"
          ]
        }
      ]
    },
    {
      "cell_type": "markdown",
      "source": [
        "## Multiple Catch Blocks\n",
        "\n",
        "Different exceptions might need different handling. You can have multiple catch blocks for different exception types:\n"
      ],
      "metadata": {
        "id": "cTdarkmKwD-C"
      }
    },
    {
      "cell_type": "code",
      "source": [
        "%%writefile MultipleCatches.java\n",
        "public class MultipleCatches {\n",
        "    public static void processTransaction(String amount, int accountIndex) {\n",
        "        int[] accounts = {1000, 2000, 3000};\n",
        "\n",
        "        try {\n",
        "            int withdrawAmount = Integer.parseInt(amount);\n",
        "            int balance = accounts[accountIndex];\n",
        "            int remaining = balance / withdrawAmount;  // Might divide by zero\n",
        "            System.out.println(\"Transaction successful\");\n",
        "\n",
        "        } catch (NumberFormatException e) {\n",
        "            System.out.println(\"Invalid amount format: \" + amount);\n",
        "\n",
        "        } catch (ArrayIndexOutOfBoundsException e) {\n",
        "            System.out.println(\"Account \" + accountIndex + \" doesn't exist\");\n",
        "\n",
        "        } catch (ArithmeticException e) {\n",
        "            System.out.println(\"Invalid calculation (divide by zero?)\");\n",
        "        }\n",
        "    }\n",
        "\n",
        "    public static void main(String[] args) {\n",
        "        processTransaction(\"EVIL\", 0);    // NumberFormatException\n",
        "        processTransaction(\"100\", 10);    // ArrayIndexOutOfBoundsException\n",
        "        processTransaction(\"0\", 0);       // ArithmeticException\n",
        "    }\n",
        "}\n"
      ],
      "metadata": {
        "colab": {
          "base_uri": "https://localhost:8080/"
        },
        "id": "97fsiUdgwGIn",
        "outputId": "fda3ced1-a627-456a-c668-c9c29b54b8ec"
      },
      "execution_count": null,
      "outputs": [
        {
          "output_type": "stream",
          "name": "stdout",
          "text": [
            "Writing MultipleCatches.java\n"
          ]
        }
      ]
    },
    {
      "cell_type": "code",
      "source": [
        "!javac MultipleCatches.java\n",
        "!java MultipleCatches"
      ],
      "metadata": {
        "colab": {
          "base_uri": "https://localhost:8080/"
        },
        "id": "tvh07jkLwJ44",
        "outputId": "22b12f20-4227-413b-d6d6-6d264756db86"
      },
      "execution_count": null,
      "outputs": [
        {
          "output_type": "stream",
          "name": "stdout",
          "text": [
            "Invalid amount format: EVIL\n",
            "Account 10 doesn't exist\n",
            "Invalid calculation (divide by zero?)\n"
          ]
        }
      ]
    },
    {
      "cell_type": "markdown",
      "source": [
        "Each catch block handles its specific exception type. Java checks them in order and runs the first matching catch block.\n",
        "\n",
        "## Catching Parent Exception Types\n",
        "\n",
        "Since exceptions form a hierarchy, catching a parent type catches all its children:\n",
        "\n",
        "```java\n",
        "try {\n",
        "    // Some risky code\n",
        "} catch (RuntimeException e) {\n",
        "    // Catches ALL RuntimeExceptions:\n",
        "    // - NullPointerException\n",
        "    // - ArrayIndexOutOfBoundsException\n",
        "    // - NumberFormatException\n",
        "    // - And many more...\n",
        "}\n",
        "```\n",
        "\n",
        "Be careful! Catching too broad an exception type might hide problems you didn't expect:\n",
        "\n",
        "```java\n",
        "try {\n",
        "    // Risky code\n",
        "} catch (Exception e) {\n",
        "    // Catches EVERYTHING - too broad!\n",
        "    // You might catch and hide exceptions you didn't mean to\n",
        "}\n",
        "```\n",
        "\n",
        "It's better to catch specific exceptions when possible.\n",
        "\n",
        "## The Finally Block\n",
        "\n",
        "Sometimes you need code that runs whether an exception occurs or not - like closing the vault door regardless of whether the transaction succeeded. The **finally** block provides this:"
      ],
      "metadata": {
        "id": "tOVC3iLhwS9W"
      }
    },
    {
      "cell_type": "code",
      "source": [
        "%%writefile VaultAccess.java\n",
        "public class VaultAccess {\n",
        "    public static void accessVault() {\n",
        "        System.out.println(\"Opening vault...\");\n",
        "\n",
        "        try {\n",
        "            System.out.println(\"Accessing villain funds\");\n",
        "            int[] funds = new int[5];\n",
        "            int money = funds[10];  // Exception!\n",
        "            System.out.println(\"Withdrawal complete\");\n",
        "\n",
        "        } catch (ArrayIndexOutOfBoundsException e) {\n",
        "            System.out.println(\"ERROR: Invalid account!\");\n",
        "\n",
        "        } finally {\n",
        "            System.out.println(\"Closing vault (always runs)\");\n",
        "        }\n",
        "    }\n",
        "\n",
        "    public static void main(String[] args) {\n",
        "        accessVault();\n",
        "        System.out.println(\"Bank operations continue\");\n",
        "    }\n",
        "}"
      ],
      "metadata": {
        "colab": {
          "base_uri": "https://localhost:8080/"
        },
        "id": "Ny06uPJmwMMp",
        "outputId": "dc07e2bb-f48c-4245-eda4-36d9345586ec"
      },
      "execution_count": null,
      "outputs": [
        {
          "output_type": "stream",
          "name": "stdout",
          "text": [
            "Writing VaultAccess.java\n"
          ]
        }
      ]
    },
    {
      "cell_type": "code",
      "source": [
        "!javac VaultAccess.java\n",
        "!java VaultAccess"
      ],
      "metadata": {
        "colab": {
          "base_uri": "https://localhost:8080/"
        },
        "id": "oayOIBXPwa4x",
        "outputId": "81c91ceb-f30f-4390-f7e6-5597982041b7"
      },
      "execution_count": null,
      "outputs": [
        {
          "output_type": "stream",
          "name": "stdout",
          "text": [
            "Opening vault...\n",
            "Accessing villain funds\n",
            "ERROR: Invalid account!\n",
            "Closing vault (always runs)\n",
            "Bank operations continue\n"
          ]
        }
      ]
    },
    {
      "cell_type": "markdown",
      "source": [
        "The finally block runs no matter what - after successful completion, after catching an exception, or even if the try block contains a return statement!\n",
        "\n",
        "## Flow of Control\n",
        "\n",
        "Understanding how control flows through try-catch-finally is crucial:"
      ],
      "metadata": {
        "id": "1OwCjvyMwpKV"
      }
    },
    {
      "cell_type": "code",
      "source": [
        "%%writefile FlowDemo.java\n",
        "public class FlowDemo {\n",
        "    public static void main(String[] args) {\n",
        "        System.out.println(\"1. Before try\");\n",
        "\n",
        "        try {\n",
        "            System.out.println(\"2. In try - before exception\");\n",
        "            String s = null;\n",
        "            s.length();  // NullPointerException here\n",
        "            System.out.println(\"3. In try - after exception\");  // SKIPPED\n",
        "\n",
        "        } catch (NullPointerException e) {\n",
        "            System.out.println(\"4. In catch\");\n",
        "\n",
        "        } finally {\n",
        "            System.out.println(\"5. In finally\");\n",
        "        }\n",
        "\n",
        "        System.out.println(\"6. After try-catch-finally\");\n",
        "    }\n",
        "}"
      ],
      "metadata": {
        "colab": {
          "base_uri": "https://localhost:8080/"
        },
        "id": "WUWCWXvJwqq9",
        "outputId": "967eaf06-987a-4f02-b88e-95deb1895b18"
      },
      "execution_count": null,
      "outputs": [
        {
          "output_type": "stream",
          "name": "stdout",
          "text": [
            "Writing FlowDemo.java\n"
          ]
        }
      ]
    },
    {
      "cell_type": "code",
      "source": [
        "!javac FlowDemo.java\n",
        "!java FlowDemo"
      ],
      "metadata": {
        "colab": {
          "base_uri": "https://localhost:8080/"
        },
        "id": "YoW3tK71wtvM",
        "outputId": "dfe82687-3670-4810-ea91-390ded7fb88b"
      },
      "execution_count": null,
      "outputs": [
        {
          "output_type": "stream",
          "name": "stdout",
          "text": [
            "1. Before try\n",
            "2. In try - before exception\n",
            "4. In catch\n",
            "5. In finally\n",
            "6. After try-catch-finally\n"
          ]
        }
      ]
    },
    {
      "cell_type": "markdown",
      "source": [
        "If no exception occurred, the output would be: 1, 2, 3, 5, 6 (skipping 4)."
      ],
      "metadata": {
        "id": "o_628yoNwz4E"
      }
    },
    {
      "cell_type": "markdown",
      "source": [
        "## Best Practices for Try-Catch\n",
        "\n",
        "When using try-catch blocks, follow these guidelines:\n",
        "\n",
        "* **Keep try blocks focused** - Only include code that might throw the exception you're catching\n",
        "* **Catch specific exceptions** - Don't catch Exception unless you really mean to catch everything\n",
        "* **Don't ignore exceptions** - An empty catch block hides problems without fixing them\n",
        "\n",
        "```java\n",
        "// BAD: Empty catch block\n",
        "try {\n",
        "    riskyOperation();\n",
        "} catch (Exception e) {\n",
        "    // Silent failure - dangerous!\n",
        "}\n",
        "\n",
        "// GOOD: At least log the error\n",
        "try {\n",
        "    riskyOperation();\n",
        "} catch (SpecificException e) {\n",
        "    System.err.println(\"Operation failed: \" + e.getMessage());\n",
        "}\n",
        "```\n",
        "\n",
        "Try-catch blocks transform fragile code into robust systems. The Bank of Evil can now handle whatever chaos villains and minions create - invalid inputs, impossible operations, and unexpected situations - all without crashing. In the next section, we'll learn how to throw our own exceptions when we detect problems, giving us even more control over error handling!"
      ],
      "metadata": {
        "id": "FaybU0ZSw3P-"
      }
    },
    {
      "cell_type": "markdown",
      "source": [
        "# Throwing Exceptions: Sounding the Alarm\n",
        "\n",
        "So far, we've been catching exceptions that Java throws automatically - like when parsing \"BANANA\" as a number. But what if you want to create your own exceptions? What if the Bank of Evil needs to reject a withdrawal because the account is frozen, not because of a Java error? You can **throw** your own exceptions to signal problems specific to your program's logic.\n",
        "\n",
        "## The throw Keyword\n",
        "\n",
        "To create and throw an exception, use the **throw** keyword followed by a new exception object:"
      ],
      "metadata": {
        "id": "vw3QObl2xvxS"
      }
    },
    {
      "cell_type": "code",
      "source": [
        "%%writefile AccountValidator.java\n",
        "public class AccountValidator {\n",
        "    public static void checkBalance(double balance) {\n",
        "        if (balance < 0) {\n",
        "            throw new IllegalArgumentException(\"Balance cannot be negative!\");\n",
        "        }\n",
        "        System.out.println(\"Balance is valid: $\" + balance);\n",
        "    }\n",
        "\n",
        "    public static void main(String[] args) {\n",
        "        checkBalance(100);   // OK\n",
        "        checkBalance(-50);   // Throws exception!\n",
        "        checkBalance(200);   // Never reaches here\n",
        "    }\n",
        "}"
      ],
      "metadata": {
        "colab": {
          "base_uri": "https://localhost:8080/"
        },
        "id": "VQOStnSyxyEw",
        "outputId": "13ec3d84-5e65-42ae-a7b5-efb6d0a3bb8c"
      },
      "execution_count": null,
      "outputs": [
        {
          "output_type": "stream",
          "name": "stdout",
          "text": [
            "Writing AccountValidator.java\n"
          ]
        }
      ]
    },
    {
      "cell_type": "code",
      "source": [
        "!javac AccountValidator.java\n",
        "!java AccountValidator"
      ],
      "metadata": {
        "colab": {
          "base_uri": "https://localhost:8080/"
        },
        "id": "5FiCOcAjx1nN",
        "outputId": "bb895b1a-e5b7-4a8a-c253-03cf93425610"
      },
      "execution_count": null,
      "outputs": [
        {
          "output_type": "stream",
          "name": "stdout",
          "text": [
            "Balance is valid: $100.0\n",
            "Exception in thread \"main\" java.lang.IllegalArgumentException: Balance cannot be negative!\n",
            "\tat AccountValidator.checkBalance(AccountValidator.java:4)\n",
            "\tat AccountValidator.main(AccountValidator.java:11)\n"
          ]
        }
      ]
    },
    {
      "cell_type": "markdown",
      "source": [
        "When you throw an exception, it behaves exactly like Java's automatic exceptions - it stops the current method and bubbles up until caught or crashes the program.\n",
        "\n",
        "## Choosing Which Exception to Throw\n",
        "\n",
        "Java provides many exception types you can throw. Choose one that matches your situation.  Common exceptions to throw:\n",
        "- **IllegalArgumentException** - Method received an invalid parameter\n",
        "- **IllegalStateException** - Object is in the wrong state for this operation\n",
        "- **NullPointerException** - Null value where non-null required\n",
        "- **UnsupportedOperationException** - Operation not supported\n",
        "\n",
        "## Creating Custom Exception Messages\n",
        "\n",
        "The message you provide with an exception should clearly explain what went wrong:\n"
      ],
      "metadata": {
        "id": "kojS0tbayI4K"
      }
    },
    {
      "cell_type": "code",
      "source": [
        "%%writefile FrozenAccountDemo.java\n",
        "public class FrozenAccountDemo {\n",
        "    private boolean frozen = false;\n",
        "    private double balance = 1000;\n",
        "\n",
        "    public void freeze() {\n",
        "        frozen = true;\n",
        "    }\n",
        "\n",
        "    public void withdraw(double amount) {\n",
        "        if (frozen) {\n",
        "            throw new IllegalStateException(\n",
        "                \"Cannot withdraw $\" + amount + \" - account is frozen by Anti-Villain League!\"\n",
        "            );\n",
        "        }\n",
        "        if (amount > balance) {\n",
        "            throw new IllegalArgumentException(\n",
        "                \"Cannot withdraw $\" + amount + \" - only $\" + balance + \" available\"\n",
        "            );\n",
        "        }\n",
        "        balance -= amount;\n",
        "        System.out.println(\"Withdrew $\" + amount);\n",
        "    }\n",
        "\n",
        "    public static void main(String[] args) {\n",
        "        FrozenAccountDemo account = new FrozenAccountDemo();\n",
        "\n",
        "        // This withdrawal should be successful\n",
        "        try {\n",
        "            System.out.println(\"Attempting to withdraw $200...\");\n",
        "            account.withdraw(200);\n",
        "        } catch (Exception e) {\n",
        "            System.out.println(\"Error: \" + e.getMessage());\n",
        "        }\n",
        "\n",
        "        System.out.println(\"\\nFreezing the account...\");\n",
        "        account.freeze();\n",
        "\n",
        "        // This withdrawal should fail with an IllegalStateException\n",
        "        try {\n",
        "            System.out.println(\"\\nAttempting to withdraw $500 from the frozen account...\");\n",
        "            account.withdraw(500);\n",
        "        } catch (IllegalStateException e) {\n",
        "            System.out.println(\"Error: \" + e.getMessage());\n",
        "        }\n",
        "\n",
        "        // This withdrawal should fail with an IllegalArgumentException\n",
        "        try {\n",
        "            System.out.println(\"\\nAttempting to withdraw $2000 from the account...\");\n",
        "            account.withdraw(2000);\n",
        "        } catch (IllegalArgumentException e) {\n",
        "            System.out.println(\"Error: \" + e.getMessage());\n",
        "        }\n",
        "    }\n",
        "}"
      ],
      "metadata": {
        "colab": {
          "base_uri": "https://localhost:8080/"
        },
        "id": "NTBqzLqLxJ9g",
        "outputId": "91d3cb17-c480-4211-beb1-d50013dd70b4"
      },
      "execution_count": null,
      "outputs": [
        {
          "output_type": "stream",
          "name": "stdout",
          "text": [
            "Overwriting FrozenAccountDemo.java\n"
          ]
        }
      ]
    },
    {
      "cell_type": "code",
      "source": [
        "!javac FrozenAccountDemo.java\n",
        "!java FrozenAccountDemo"
      ],
      "metadata": {
        "colab": {
          "base_uri": "https://localhost:8080/"
        },
        "id": "fFmQ2t_VyOU7",
        "outputId": "d63bca20-f1a0-4d8d-d280-534edace605e"
      },
      "execution_count": null,
      "outputs": [
        {
          "output_type": "stream",
          "name": "stdout",
          "text": [
            "Attempting to withdraw $200...\n",
            "Withdrew $200.0\n",
            "\n",
            "Freezing the account...\n",
            "\n",
            "Attempting to withdraw $500 from the frozen account...\n",
            "Error: Cannot withdraw $500.0 - account is frozen by Anti-Villain League!\n",
            "\n",
            "Attempting to withdraw $2000 from the account...\n",
            "Exception in thread \"main\" java.lang.IllegalStateException: Cannot withdraw $2000.0 - account is frozen by Anti-Villain League!\n",
            "\tat FrozenAccountDemo.withdraw(FrozenAccountDemo.java:11)\n",
            "\tat FrozenAccountDemo.main(FrozenAccountDemo.java:49)\n"
          ]
        }
      ]
    },
    {
      "cell_type": "markdown",
      "source": [
        "\n",
        "Good exception messages include:\n",
        "- What went wrong\n",
        "- The invalid values involved\n",
        "- Sometimes, how to fix it\n",
        "\n",
        "If you look closely, you'll notice that this code blocks also *throws* exceptions in one place, but *catches* them someplace else. This is a common pattern!\n",
        "\n",
        "## The throws Clause in Method Signatures\n",
        "\n",
        "When a method might throw a **checked exception** (we'll learn about these later), you must declare it in the method signature using the **throws** keyword (note: throws with an 's', not throw):\n",
        "\n",
        "```java\n",
        "public void riskyMethod() throws IOException {\n",
        "    // Method might throw IOException\n",
        "}\n",
        "```\n",
        "\n",
        "For now, we're using unchecked exceptions (like IllegalArgumentException), which don't require the throws clause. But you'll see this syntax in Java documentation.\n"
      ],
      "metadata": {
        "id": "GJhsa5ErywR_"
      }
    },
    {
      "cell_type": "markdown",
      "source": [
        "## When to Throw Exceptions\n",
        "\n",
        "Throw exceptions when you detect problems your method can't handle:\n",
        "\n",
        "```java\n",
        "public class MinionPayroll {\n",
        "    private double bananaBudget = 10000;\n",
        "    \n",
        "    public void payMinions(int minionCount, double bananasPerMinion) {\n",
        "        // Validation - throw if parameters are invalid\n",
        "        if (minionCount <= 0) {\n",
        "            throw new IllegalArgumentException(\"Must have at least one minion!\");\n",
        "        }\n",
        "        if (bananasPerMinion < 10) {\n",
        "            throw new IllegalArgumentException(\"Minions require minimum 10 bananas!\");\n",
        "        }\n",
        "        \n",
        "        double totalCost = minionCount * bananasPerMinion;\n",
        "        \n",
        "        // Business logic - throw if operation can't proceed\n",
        "        if (totalCost > bananaBudget) {\n",
        "            throw new IllegalStateException(\n",
        "                \"Insufficient banana budget! Need \" + totalCost +\n",
        "                \" but only have \" + bananaBudget\n",
        "            );\n",
        "        }\n",
        "        \n",
        "        bananaBudget -= totalCost;\n",
        "        System.out.println(\"Paid \" + minionCount + \" minions\");\n",
        "    }\n",
        "}\n",
        "```\n",
        "\n",
        "Throw exceptions for:\n",
        "- Invalid parameters (negative amounts, null values)\n",
        "- Violated preconditions (account frozen, insufficient funds)\n",
        "- Impossible operations (dividing by zero, accessing non-existent data)\n"
      ],
      "metadata": {
        "id": "I1vDR1h_zWtT"
      }
    },
    {
      "cell_type": "markdown",
      "source": [
        "## Best Practices for Throwing Exceptions\n",
        "\n",
        "When throwing exceptions:\n",
        "\n",
        "* **Be specific** - Choose the most appropriate exception type\n",
        "* **Include details** - Add helpful messages with relevant values\n",
        "* **Fail fast** - Validate inputs early, before doing any work\n",
        "\n",
        "Don't throw exceptions for normal flow control - they're for exceptional situations, not regular program logic."
      ],
      "metadata": {
        "id": "vws2wQ_XzbDm"
      }
    },
    {
      "cell_type": "markdown",
      "source": [
        "# Custom Exceptions: Bank-Specific Problems\n",
        "\n",
        "While Java's built-in exceptions work for general problems, the Bank of Evil has specific issues that deserve their own exception types. When the Anti-Villain League freezes an account, throwing a generic IllegalStateException doesn't capture the full story. Custom exceptions like FrozenAccountException make our code clearer and our error handling more precise.\n",
        "\n",
        "## Extending the Exception Class\n",
        "\n",
        "Creating a custom exception is surprisingly simple. You just extend either Exception or RuntimeException and provide a constructor:\n",
        "\n",
        "```java\n",
        "public class FrozenAccountException extends RuntimeException {\n",
        "    public FrozenAccountException(String message) {\n",
        "        super(message);  // Pass message to parent Exception class\n",
        "    }\n",
        "}\n",
        "```\n",
        "\n",
        "That's it! The **super(message)** call passes your error message to the parent Exception class, which handles all the complex exception machinery. Now you can throw and catch FrozenAccountException just like any built-in exception.\n",
        "\n",
        "## Why Create Custom Exceptions?\n",
        "\n",
        "Custom exceptions provide three major benefits:\n",
        "\n",
        "| Benefit | Built-in Exception | Custom Exception |\n",
        "|---------|-------------------|------------------|\n",
        "| **Clarity** | `throw new IllegalStateException(\"frozen\")` | `throw new FrozenAccountException(\"frozen\")` |\n",
        "| **Specific Catching** | Must catch all IllegalStateExceptions | Can catch only FrozenAccountException |\n",
        "| **Extra Information** | Only has message | Can add account number, freeze date, etc. |\n",
        "\n",
        "The exception name itself becomes documentation. When you see FrozenAccountException in your code, you immediately know what went wrong without reading the message.\n",
        "\n",
        "## Your First Custom Exception\n",
        "\n",
        "Let's create the Bank of Evil's most common exception - insufficient funds. Start simple with just a constructor:\n",
        "\n",
        "```java\n",
        "public class InsufficientFundsException extends RuntimeException {\n",
        "    public InsufficientFundsException(String message) {\n",
        "        super(message);\n",
        "    }\n",
        "}\n",
        "```\n",
        "\n",
        "Why extend **RuntimeException** instead of Exception? For beginners, RuntimeException is easier - it doesn't require try-catch blocks or throws declarations. These are called \"unchecked\" exceptions because the compiler doesn't check if you handle them."
      ],
      "metadata": {
        "id": "GUWlIycaJQz_"
      }
    },
    {
      "cell_type": "markdown",
      "source": [
        "## Adding Fields to Store Information\n",
        "\n",
        "Custom exceptions can store extra information about what went wrong. Let's enhance our InsufficientFundsException:\n",
        "\n",
        "```java\n",
        "public class InsufficientFundsException extends RuntimeException {\n",
        "    private double requested;\n",
        "    private double available;\n",
        "    \n",
        "    public InsufficientFundsException(double requested, double available) {\n",
        "        super(\"Requested $\" + requested + \" but only $\" + available + \" available\");\n",
        "        this.requested = requested;\n",
        "        this.available = available;\n",
        "    }\n",
        "    \n",
        "    public double getShortfall() {\n",
        "        return requested - available;\n",
        "    }\n",
        "}\n",
        "```\n",
        "\n",
        "Now when you catch this exception, you can access specific details about the problem. The exception becomes a container for error information, not just an error signal.\n",
        "\n",
        "## Using Your Custom Exception\n",
        "\n",
        "Here's how to throw and catch your custom exception:\n",
        "\n",
        "```java\n",
        "public class Account {\n",
        "    private double balance = 1000;\n",
        "    \n",
        "    public void withdraw(double amount) {\n",
        "        if (amount > balance) {\n",
        "            throw new InsufficientFundsException(amount, balance);\n",
        "        }\n",
        "        balance -= amount;\n",
        "    }\n",
        "}\n",
        "\n",
        "// In main or another method:\n",
        "try {\n",
        "    account.withdraw(2000);\n",
        "} catch (InsufficientFundsException e) {\n",
        "    System.out.println(e.getMessage());\n",
        "    System.out.println(\"You need $\" + e.getShortfall() + \" more\");\n",
        "}\n",
        "```\n",
        "\n",
        "The custom exception provides both a clear error type and specific information about the problem.\n",
        "\n",
        "## Multiple Constructors for Flexibility\n",
        "\n",
        "Good custom exceptions provide different ways to create them. Here are the three most common constructors:\n",
        "\n",
        "```java\n",
        "public class SuspiciousActivityException extends RuntimeException {\n",
        "    // Constructor 1: Just a message\n",
        "    public SuspiciousActivityException(String message) {\n",
        "        super(message);\n",
        "    }\n",
        "    \n",
        "    // Constructor 2: Message and cause\n",
        "    public SuspiciousActivityException(String message, Throwable cause) {\n",
        "        super(message, cause);\n",
        "    }\n",
        "    \n",
        "    // Constructor 3: No parameters\n",
        "    public SuspiciousActivityException() {\n",
        "        super(\"Suspicious activity detected\");\n",
        "    }\n",
        "}\n",
        "```\n",
        "\n",
        "Each constructor serves a different purpose:\n",
        "- **Message only** - When you want to provide details\n",
        "- **Message and cause** - When wrapping another exception\n",
        "- **No parameters** - When the exception type itself is enough information\n",
        "\n",
        "## Creating a Family of Exceptions\n",
        "\n",
        "Sometimes related exceptions should share a parent. This lets you catch them at different levels of specificity:\n",
        "\n",
        "```java\n",
        "// Parent exception for all account problems\n",
        "public class AccountException extends RuntimeException {\n",
        "    public AccountException(String message) {\n",
        "        super(message);\n",
        "    }\n",
        "}\n",
        "\n",
        "// Specific type of account problem\n",
        "public class FrozenAccountException extends AccountException {\n",
        "    public FrozenAccountException(String message) {\n",
        "        super(message);\n",
        "    }\n",
        "}\n",
        "```\n",
        "\n",
        "Now you can catch either specifically or generally:\n",
        "\n",
        "```java\n",
        "try {\n",
        "    account.performTransaction();\n",
        "} catch (FrozenAccountException e) {\n",
        "    // Handle frozen account specifically\n",
        "} catch (AccountException e) {\n",
        "    // Handle any other account problem\n",
        "}\n",
        "```\n",
        "\n",
        "## When to Create Custom Exceptions\n",
        "\n",
        "Create a custom exception when you need to:\n",
        "\n",
        "• **Distinguish error types** - Different catch blocks for different problems\n",
        "• **Add error details** - Store values like amounts, account numbers, or dates\n",
        "• **Name domain concepts** - FrozenAccountException is clearer than IllegalStateException\n",
        "\n",
        "Don't create custom exceptions when:\n",
        "- A built-in exception perfectly describes the problem\n",
        "- The exception will only be thrown in one place\n",
        "- You're just wrapping another exception without adding value\n",
        "\n",
        "## Example\n",
        "Here's an example:"
      ],
      "metadata": {
        "id": "ofgtgvzDJaYk"
      }
    },
    {
      "cell_type": "code",
      "source": [
        "%%writefile DailyLimitException.java\n",
        "// Custom exception\n",
        "public class DailyLimitException extends RuntimeException {\n",
        "    private double exceeded;\n",
        "\n",
        "    public DailyLimitException(double exceeded) {\n",
        "        super(\"Daily limit exceeded by $\" + exceeded);\n",
        "        this.exceeded = exceeded;\n",
        "    }\n",
        "}"
      ],
      "metadata": {
        "colab": {
          "base_uri": "https://localhost:8080/"
        },
        "id": "INgmSOR_J_N5",
        "outputId": "360ba290-f489-40fa-f398-404905825599"
      },
      "execution_count": null,
      "outputs": [
        {
          "output_type": "stream",
          "name": "stdout",
          "text": [
            "Writing DailyLimitException.java\n"
          ]
        }
      ]
    },
    {
      "cell_type": "code",
      "source": [
        "%%writefile VillainAccount.java\n",
        "// Using it\n",
        "public class VillainAccount {\n",
        "    private double dailyWithdrawn = 0;\n",
        "    private final double DAILY_LIMIT = 10000;\n",
        "\n",
        "    public void withdraw(double amount) {\n",
        "        if (dailyWithdrawn + amount > DAILY_LIMIT) {\n",
        "            double excess = (dailyWithdrawn + amount) - DAILY_LIMIT;\n",
        "            throw new DailyLimitException(excess);\n",
        "        }\n",
        "        dailyWithdrawn += amount;\n",
        "        System.out.println(\"Withdrew $\" + amount + \". Total withdrawn today: $\" + dailyWithdrawn);\n",
        "    }\n",
        "\n",
        "    public static void main(String[] args) {\n",
        "        VillainAccount account = new VillainAccount();\n",
        "\n",
        "        // This withdrawal should be successful\n",
        "        try {\n",
        "            System.out.println(\"Attempting to withdraw $5000...\");\n",
        "            account.withdraw(5000);\n",
        "        } catch (DailyLimitException e) {\n",
        "            System.out.println(\"Error: \" + e.getMessage());\n",
        "        }\n",
        "\n",
        "        // This withdrawal should fail and throw a DailyLimitException\n",
        "        try {\n",
        "            System.out.println(\"\\nAttempting to withdraw another $6000...\");\n",
        "            account.withdraw(6000);\n",
        "        } catch (DailyLimitException e) {\n",
        "            System.out.println(\"Error: \" + e.getMessage());\n",
        "        }\n",
        "    }\n",
        "}"
      ],
      "metadata": {
        "colab": {
          "base_uri": "https://localhost:8080/"
        },
        "id": "IlLvMkydJmEY",
        "outputId": "489d14fc-168f-46ec-9198-5963a5bc379e"
      },
      "execution_count": null,
      "outputs": [
        {
          "output_type": "stream",
          "name": "stdout",
          "text": [
            "Overwriting VillainAccount.java\n"
          ]
        }
      ]
    },
    {
      "cell_type": "code",
      "source": [
        "!javac VillainAccount.java\n",
        "!java VillainAccount"
      ],
      "metadata": {
        "colab": {
          "base_uri": "https://localhost:8080/"
        },
        "id": "xO2C4DY4JzdN",
        "outputId": "bf27a2ee-78bc-4f39-d3c5-a576e1837c70"
      },
      "execution_count": null,
      "outputs": [
        {
          "output_type": "stream",
          "name": "stdout",
          "text": [
            "Attempting to withdraw $5000...\n",
            "Withdrew $5000.0. Total withdrawn today: $5000.0\n",
            "\n",
            "Attempting to withdraw another $6000...\n",
            "Error: Daily limit exceeded by $1000.0\n"
          ]
        }
      ]
    },
    {
      "cell_type": "markdown",
      "source": [
        "## Best Practices\n",
        "\n",
        "When creating custom exceptions, remember these three essential rules:\n",
        "\n",
        "1. **Name clearly** - Always end with \"Exception\" and use descriptive names\n",
        "2. **Keep it simple** - Don't add complexity unless it provides real value\n",
        "3. **Document usage** - Add comments explaining when to throw the exception\n",
        "\n",
        "Custom exceptions transform generic error handling into specific, meaningful responses to problems. Instead of \"something went wrong,\" the Bank of Evil can report \"FrozenAccountException: Account frozen by Anti-Villain League on March 15.\" This specificity makes debugging easier and error messages clearer for everyone in the villainous banking empire!"
      ],
      "metadata": {
        "id": "2Lx13XdzJeVu"
      }
    },
    {
      "cell_type": "markdown",
      "source": [
        "# Default and Static Methods in Interfaces\n",
        "\n",
        "Until Java 8, interfaces could only contain abstract methods - method signatures without code. But the Bank of Evil's systems kept evolving, and every time they added a new method to an interface, hundreds of implementing classes broke. Java 8 introduced **default methods** and **static methods** in interfaces, allowing interfaces to provide actual code while maintaining backward compatibility.\n",
        "\n",
        "## The Problem: Evolving Interfaces\n",
        "\n",
        "Imagine the Bank of Evil has 50 different account types all implementing the Auditable interface. The IRS demands a new method for reporting cryptocurrency transactions. Without default methods, you'd have to:\n",
        "\n",
        "1. Add the new method to Auditable interface\n",
        "2. Update all 50 account classes to implement it\n",
        "3. Risk breaking any class you miss\n",
        "\n",
        "Default methods solve this by letting interfaces provide a standard implementation that classes can use or override.\n",
        "\n",
        "## Default Methods: Providing Optional Implementation\n",
        "\n",
        "A **default method** in an interface has actual code, not just a signature. Classes can use this default or override it with their own version:\n",
        "\n",
        "```java\n",
        "// File: Auditable.java\n",
        "public interface Auditable {\n",
        "    // Regular abstract method - must be implemented\n",
        "    String getTransactionHistory();\n",
        "    \n",
        "    // Default method - has implementation\n",
        "    default String formatForIRS() {\n",
        "        return \"=== IRS Report ===\\n\" + getTransactionHistory();\n",
        "    }\n",
        "}\n",
        "```\n",
        "\n",
        "The **default** keyword tells Java this method has a body. Any class implementing Auditable gets formatForIRS() for free - they don't have to implement it unless they want to customize it.\n",
        "\n",
        "## Using Default Methods\n",
        "\n",
        "Classes implementing the interface can choose to use, ignore, or override default methods:\n",
        "\n",
        "```java\n",
        "public class BasicAccount implements Auditable {\n",
        "    private String transactions = \"Transaction log...\";\n",
        "    \n",
        "    // Must implement abstract method\n",
        "    public String getTransactionHistory() {\n",
        "        return transactions;\n",
        "    }\n",
        "    \n",
        "    // formatForIRS() is automatically available - no code needed!\n",
        "}\n",
        "\n",
        "// Using it:\n",
        "BasicAccount account = new BasicAccount();\n",
        "System.out.println(account.formatForIRS());  // Works! Uses default\n",
        "```\n",
        "\n",
        "The BasicAccount class only implements the required abstract method. It automatically inherits the default formatForIRS() method from the interface.\n",
        "\n",
        "## Overriding Default Methods\n",
        "\n",
        "Classes can override default methods to provide custom behavior:\n",
        "\n",
        "```java\n",
        "public class SecretAccount implements Auditable {\n",
        "    private String transactions = \"CLASSIFIED\";\n",
        "    \n",
        "    public String getTransactionHistory() {\n",
        "        return transactions;\n",
        "    }\n",
        "    \n",
        "    @Override\n",
        "    public String formatForIRS() {\n",
        "        return \"This account is under villain protection program\";\n",
        "    }\n",
        "}\n",
        "```\n",
        "\n",
        "SecretAccount provides its own formatForIRS() that hides the real transactions from the IRS. The @Override annotation works with default methods just like with regular inheritance.\n",
        "\n",
        "## Static Methods in Interfaces\n",
        "\n",
        "Interfaces can also have **static methods** - utility methods that belong to the interface itself, not to implementing objects:\n",
        "\n",
        "```java\n",
        "public interface Freezable {\n",
        "    void freeze();\n",
        "    void unfreeze();\n",
        "    boolean isFrozen();\n",
        "    \n",
        "    // Static utility method\n",
        "    static String getFreezeWarning() {\n",
        "        return \"WARNING: Account may be frozen by Anti-Villain League\";\n",
        "    }\n",
        "}\n",
        "```\n",
        "\n",
        "Static interface methods are called on the interface itself, not on objects:\n",
        "\n",
        "```java\n",
        "// Call static method on interface\n",
        "String warning = Freezable.getFreezeWarning();\n",
        "\n",
        "// NOT on objects\n",
        "VillainAccount account = new VillainAccount();\n",
        "// account.getFreezeWarning();  // ERROR! Can't call this way\n",
        "```\n",
        "\n",
        "## When to Use Default Methods\n",
        "\n",
        "Default methods are perfect for three situations:\n",
        "\n",
        "| Situation | Example |\n",
        "|-----------|---------|\n",
        "| **Adding features to existing interfaces** | Adding formatForIRS() to Auditable without breaking existing classes |\n",
        "| **Providing common functionality** | Standard implementations that most classes will use as-is |\n",
        "| **Optional methods** | Methods that only some implementing classes need to customize |\n",
        "\n",
        "Here's a practical example for the Bank of Evil:\n",
        "\n",
        "```java\n",
        "public interface Trackable {\n",
        "    String getAccountNumber();\n",
        "    \n",
        "    // Most accounts use this standard format\n",
        "    default String getTrackingCode() {\n",
        "        return \"TRACK-\" + getAccountNumber() + \"-\" + System.currentTimeMillis();\n",
        "    }\n",
        "    \n",
        "    // Optional enhanced tracking\n",
        "    default boolean isHighPriority() {\n",
        "        return false;  // Most accounts aren't high priority\n",
        "    }\n",
        "}\n",
        "```\n",
        "\n",
        "Most accounts use the default tracking code and aren't high priority. Special accounts can override these as needed.\n",
        "\n",
        "## Best Practices\n",
        "\n",
        "When using default and static methods in interfaces:\n",
        "\n",
        "* **Keep defaults simple** - Complex logic belongs in classes, not interfaces\n",
        "* **Document behavior clearly** - Explain what the default does and when to override\n",
        "* **Use static for utilities** - Helper methods that don't need object state\n",
        "\n",
        "Don't use default methods to turn interfaces into abstract classes. Interfaces should still primarily define contracts, with defaults only for convenience and compatibility.\n",
        "\n",
        "Default and static methods make interfaces more powerful and flexible. The Bank of Evil can add new features to interfaces without breaking existing villain accounts, and provide helpful utilities that all accounts can use. This evolution of interfaces bridges the gap between pure contracts and implementation, making Java interfaces more practical for real-world systems!"
      ],
      "metadata": {
        "id": "QtepQYZLWVpA"
      }
    },
    {
      "cell_type": "markdown",
      "source": [
        "# Coding Activity : Villain Loan System\n",
        "\n",
        "**Place in chapter:** After Section 11 (End of chapter)\n",
        "\n",
        "## Background\n",
        "The Bank of Evil offers loans to aspiring villains for their evil schemes. Your task is to create a loan system that handles applications, approvals, and payments while properly handling exceptions that might occur.\n",
        "\n",
        "## Starter Code"
      ],
      "metadata": {
        "id": "HkGFddCZ_EkU"
      }
    },
    {
      "cell_type": "code",
      "source": [
        "%%writefile LoanException.java\n",
        "public class LoanException extends Exception {\n",
        "    public LoanException(String message) {\n",
        "        super(message);\n",
        "    }\n",
        "}"
      ],
      "metadata": {
        "id": "srQVatFA_dh6"
      },
      "execution_count": null,
      "outputs": []
    },
    {
      "cell_type": "code",
      "source": [
        "%%writefile Loan.java\n",
        "public interface Loan {\n",
        "    double calculateMonthlyPayment();\n",
        "    void makePayment(double amount) throws LoanException;\n",
        "    double getBalance();\n",
        "}\n"
      ],
      "metadata": {
        "id": "weK_k8Ok_gza"
      },
      "execution_count": null,
      "outputs": []
    },
    {
      "cell_type": "code",
      "source": [
        "%%writefile VillainLoan.java\n",
        "public class VillainLoan implements Loan {\n",
        "    private String villainName;\n",
        "    private String evilPlan;\n",
        "    private double principal;\n",
        "    private double balance;\n",
        "    private double interestRate;\n",
        "    private int monthsRemaining;\n",
        "\n",
        "    public VillainLoan(String villainName, String evilPlan, double principal, int months) {\n",
        "        this.villainName = villainName;\n",
        "        this.evilPlan = evilPlan;\n",
        "        this.principal = principal;\n",
        "        this.balance = principal;\n",
        "        this.monthsRemaining = months;\n",
        "        this.interestRate = 0.15;  // 15% villain rate\n",
        "    }\n",
        "\n",
        "    @Override\n",
        "    public double calculateMonthlyPayment() {\n",
        "        // TODO: Calculate monthly payment\n",
        "        // Formula: (balance * (1 + interestRate)) / monthsRemaining\n",
        "        return 0;  // Replace this\n",
        "    }\n",
        "\n",
        "    @Override\n",
        "    public void makePayment(double amount) throws LoanException {\n",
        "        // TODO: Implement payment logic\n",
        "        // - Throw LoanException if amount is negative\n",
        "        // - Throw LoanException if amount is less than monthly payment\n",
        "        // - Reduce balance by amount\n",
        "        // - Reduce monthsRemaining by 1\n",
        "    }\n",
        "\n",
        "    @Override\n",
        "    public double getBalance() {\n",
        "        return balance;\n",
        "    }\n",
        "}\n"
      ],
      "metadata": {
        "id": "AZvGm6wJ_n0Q"
      },
      "execution_count": null,
      "outputs": []
    },
    {
      "cell_type": "code",
      "source": [
        "%%writefile CreditLimitException.java\n",
        "// TODO"
      ],
      "metadata": {
        "id": "YvylQINx_2ro"
      },
      "execution_count": null,
      "outputs": []
    },
    {
      "cell_type": "code",
      "source": [
        "%%writefile MegaVillainLoan.java\n",
        "// TODO"
      ],
      "metadata": {
        "id": "d9-pshs6_7hS"
      },
      "execution_count": null,
      "outputs": []
    },
    {
      "cell_type": "code",
      "source": [
        "%%writefile LoanProcessor.java\n",
        "import java.util.ArrayList;\n",
        "\n",
        "public class LoanProcessor {\n",
        "    private ArrayList<Loan> activeLoans = new ArrayList<>();\n",
        "\n",
        "    public void addLoan(Loan loan) {\n",
        "        activeLoans.add(loan);\n",
        "    }\n",
        "\n",
        "    public void processPayment(int loanIndex, double amount) {\n",
        "        // TODO: Implement with try-catch\n",
        "        // - Get loan at index (catch ArrayIndexOutOfBoundsException)\n",
        "        // - Make payment (catch LoanException)\n",
        "        // - Print success or error message\n",
        "    }\n",
        "\n",
        "    public double getTotalOwed() {\n",
        "        // TODO: Sum all loan balances\n",
        "        return 0;  // Replace this\n",
        "    }\n",
        "}"
      ],
      "metadata": {
        "id": "GXLHqvhA_rt_"
      },
      "execution_count": null,
      "outputs": []
    },
    {
      "cell_type": "code",
      "source": [
        "%%writefile LoanApplication.class\n",
        "// TODO"
      ],
      "metadata": {
        "id": "M9Gm6x9QAHQF"
      },
      "execution_count": null,
      "outputs": []
    },
    {
      "cell_type": "markdown",
      "source": [
        "## Your Tasks\n",
        "\n",
        "1. **Complete VillainLoan class**\n",
        "   - Implement calculateMonthlyPayment() using the formula provided\n",
        "   - Implement makePayment() with proper exception throwing:\n",
        "     - Throw `LoanException(\"Payment cannot be negative\")` if amount < 0\n",
        "     - Throw `LoanException(\"Payment must be at least [monthly amount]\")` if too small\n",
        "     - Update balance and monthsRemaining on successful payment\n",
        "\n",
        "2. **Create CreditLimitException** (extends Exception)\n",
        "   - Constructor takes amount requested and credit limit\n",
        "   - Message should be: \"Requested $[amount] exceeds limit of $[limit]\"\n",
        "\n",
        "3. **Create MegaVillainLoan class** (extends VillainLoan)\n",
        "   - Constructor adds a credit limit parameter\n",
        "   - Override makePayment() to also check credit limit isn't exceeded\n",
        "   - Lower interest rate (0.10 for mega villains)\n",
        "\n",
        "4. **Complete LoanProcessor class**\n",
        "   - Implement processPayment() with proper exception handling\n",
        "   - Use try-catch for both array access and payment processing\n",
        "   - Implement getTotalOwed() to sum all balances\n",
        "\n",
        "5. **Create LoanApplication class**\n",
        "   - Static method `validateApplication(String name, double amount)`\n",
        "   - Throw IllegalArgumentException if name contains \"Hero\"\n",
        "   - Throw IllegalArgumentException if amount < 1000 (minimum loan)\n",
        "   - Return true if valid\n",
        "\n",
        "## Test Your Code"
      ],
      "metadata": {
        "id": "aPkVpdYeAM6G"
      }
    },
    {
      "cell_type": "code",
      "source": [
        "%%writefile LoanTest.java\n",
        "public class LoanTest {\n",
        "    public static void main(String[] args) {\n",
        "        LoanProcessor processor = new LoanProcessor();\n",
        "\n",
        "        // Test loan validation\n",
        "        try {\n",
        "            LoanApplication.validateApplication(\"Gru\", 50000);\n",
        "            System.out.println(\"Gru's loan approved!\");\n",
        "        } catch (IllegalArgumentException e) {\n",
        "            System.out.println(\"Loan rejected: \" + e.getMessage());\n",
        "        }\n",
        "\n",
        "        // Create loans\n",
        "        VillainLoan loan1 = new VillainLoan(\"Vector\", \"Steal moon\", 100000, 12);\n",
        "        processor.addLoan(loan1);\n",
        "\n",
        "        // Test payments\n",
        "        processor.processPayment(0, 10000);  // Should work\n",
        "        processor.processPayment(0, -100);   // Should catch negative\n",
        "        processor.processPayment(5, 1000);   // Should catch bad index\n",
        "\n",
        "        System.out.println(\"Total owed: $\" + processor.getTotalOwed());\n",
        "    }\n",
        "}"
      ],
      "metadata": {
        "id": "u9MHDP6GAPaM"
      },
      "execution_count": null,
      "outputs": []
    },
    {
      "cell_type": "code",
      "source": [
        "!javac LoanTest.java\n",
        "!java LoanTest"
      ],
      "metadata": {
        "id": "H8qvrp6WAZoy"
      },
      "execution_count": null,
      "outputs": []
    },
    {
      "cell_type": "code",
      "source": [],
      "metadata": {
        "id": "YTp7d7m9y2LZ"
      },
      "execution_count": null,
      "outputs": []
    }
  ]
}
