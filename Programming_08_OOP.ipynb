{
  "nbformat": 4,
  "nbformat_minor": 0,
  "metadata": {
    "colab": {
      "provenance": [],
      "authorship_tag": "ABX9TyPX0b81pOrTnfhM9lJwDrZT",
      "include_colab_link": true
    },
    "kernelspec": {
      "name": "python3",
      "display_name": "Python 3"
    },
    "language_info": {
      "name": "python"
    }
  },
  "cells": [
    {
      "cell_type": "markdown",
      "metadata": {
        "id": "view-in-github",
        "colab_type": "text"
      },
      "source": [
        "<a href=\"https://colab.research.google.com/github/brendanpshea/programming_problem_solving/blob/main/Programming_08_OOP.ipynb\" target=\"_parent\"><img src=\"https://colab.research.google.com/assets/colab-badge.svg\" alt=\"Open In Colab\"/></a>"
      ]
    },
    {
      "cell_type": "markdown",
      "source": [
        "# What is Object-Oriented Programming (OOP)?\n",
        "\n",
        "**Object-Oriented Programming (OOP)** is a programming **paradigm**---a model or philosophy for writing software programs. It's based on the idea of breaking down software into smaller pieces, known as **objects**, which represent real-world or conceptual entities. Each object can hold data **(attributes)** and **methods**. Data refers to the attributes or properties of an object, essentially what an object has. Methods are the actions or behaviors an object can perform, essentially what an object does.\n",
        "\n",
        "In OOP, programs are designed by making them out of objects that interact with one another. This approach is inspired by how things work in the real world, making it easier for programmers to think about and manage their code. There are several key concepts in OOP, including:\n",
        "\n",
        "-   A **class** is a blueprint for creating objects. A class defines the data and methods that its objects will contain.\n",
        "-   An **Object** is an instance of a class. If a class is like a blueprint, an object is like a house built from that blueprint. Each object has its own set of data and methods, according to the class definition.\n",
        "-   **Encapsulation** is about keeping the data (attributes) inside an object and exposing only the necessary parts to the outside world. It's like having a capsule that hides the complex details inside and shows only what is necessary.\n",
        "-   **Inheritance** allows a new class to inherit properties and methods from an existing class. It's a way to form a hierarchy or a family tree of classes.\n",
        "-   **Polymorphism** means \"many shapes\" and allows objects of different classes to be treated as objects of a common class. This is useful when you want to use a general type for different specific actions.\n",
        "\n",
        "Let's explore these concepts using examples related to the flora and fauna of the Mushroom Kingdom from the Mario Brothers universe.\n",
        "\n",
        "Imagine we have a class called `Creature`. This class is a blueprint for creating creatures in the Mushroom Kingdom. It defines common data all creatures have, like name, color, and size, and methods they perform, such as `move()` or `interact()`.\n",
        "\n",
        "From the Creature class, we can create specific objects.\n",
        " - Mario could be an object with the name \"Mario\", a specific color, and abilities defined in the `Creature` class but customized for Mario, like jumping high.\n",
        " - A Goomba, another object created from the `Creature` class, would have its own set of attributes like a brown color and different behaviors defined by its methods, like moving straight forward until it hits an obstacle.\n",
        "\n",
        "Designing in this way will (eventually) allow us to take advantge of the benefits of OOP:\n",
        "- Encapsulation in our Mushroom Kingdom example means that each creature's data, such as its health points or status effects, is hidden from other creatures. They interact with each other through methods, like `takeDamage()` or `collectItem()`, without directly accessing each other's internal data.\n",
        "\n",
        "- Inheritance allows us to create a class hierarchy. Imagine a superclass called `Character` and subclasses like `Hero` and `Villain`. Mario and Luigi would be instances of the `Hero` subclass, inheriting attributes and methods from the `Character` class but also having unique characteristics that define them as heroes.\n",
        "\n",
        "- Polymorphism in the Mushroom Kingdom allows us to treat all creatures, whether they're heroes like Mario and Luigi or enemies like Goombas and Koopa Troopas, as general Creatures. This means we can write code that interacts with any type of Creature without knowing exactly what kind of Creature it is. For example, a `powerUp()` method could affect any Creature, providing them with a temporary boost or ability, regardless of whether the Creature is a hero or villain.\n",
        "\n",
        "In the remainder of this chapter, we'll explore basic ideas about classes and objects using Java.  "
      ],
      "metadata": {
        "id": "mMfsA6WCcUDN"
      }
    },
    {
      "cell_type": "markdown",
      "source": [
        "## How do I Create Classes and Objects in Java?\n",
        "\n",
        "Creating classes and objects in Java involves two main steps. First, you define a class, which serves as a template or blueprint for your objects. This class includes declarations for the attributes (data) and methods (behaviors) that the objects created from this class will have. Second, you create objects from this class, which are instances embodying the defined attributes and methods.\n",
        "\n",
        "### Defining a Class\n",
        "\n",
        "A class in Java is defined using the `class` keyword, followed by the class name and a pair of curly braces `{}`. Inside these braces, you declare the class's attributes and methods.\n",
        "\n",
        "- **Attributes** are variables that hold data about the state of an object. They are defined by specifying a data type and a name for the variable.\n",
        "- **Methods** are blocks of code that define the behaviors of the objects. A method in Java is created by specifying a return type (the type of value the method sends back to its caller), the method's name, and a pair of parentheses `()`. If the method takes parameters, you list them inside these parentheses.\n",
        "- A **constructor** is a special method that has the same name as the class. It is called whenever new objects are created from the class.\n",
        "- Every Java program (though not necessarily every Java class) must have a **main** method. This is the method that gets called when the program is \"run.\"\n",
        "\n",
        "Let's take a look at how we might create our Creature class from before."
      ],
      "metadata": {
        "id": "vfk7CGOmdf9e"
      }
    },
    {
      "cell_type": "code",
      "source": [
        "%%writefile Creature.java\n",
        "public class Creature {\n",
        "    // Attributes\n",
        "    String name;\n",
        "    String color;\n",
        "    int health;\n",
        "\n",
        "    // Constructor\n",
        "    public Creature(String name, String color, int health) {\n",
        "        this.name = name;\n",
        "        this.color = color;\n",
        "        this.health = health;\n",
        "    }\n",
        "\n",
        "    // Method to display creature details\n",
        "    public void displayDetails() {\n",
        "        System.out.println(name + \" is \" + color + \" and has \" + health + \" health points.\");\n",
        "    }\n",
        "\n",
        "    // Method to simulate the creature taking damage\n",
        "    public void takeDamage(int damage) {\n",
        "        health -= damage;\n",
        "        System.out.println(name + \" takes \" + damage + \" points of damage.\");\n",
        "    }\n",
        "\n",
        "    // Main method\n",
        "    public static void main(String[] args) {\n",
        "        // Creating a Creature object\n",
        "        Creature mario = new Creature(\"Mario\", \"Red\", 100);\n",
        "        Creature goomba = new Creature(\"The Great Goomba\", \"Brown\", 80);\n",
        "\n",
        "        // Displaying Mario's details\n",
        "        mario.displayDetails(); //\n",
        "        // Displaying Goomba's details\n",
        "        goomba.displayDetails();\n",
        "\n",
        "        // Mario takes damage\n",
        "        mario.takeDamage(20); //\n",
        "\n",
        "        // Displaying Mario's details again to see the update\n",
        "        mario.displayDetails(); // Expected to reflect the reduced health\n",
        "    }\n",
        "}\n",
        "\n"
      ],
      "metadata": {
        "colab": {
          "base_uri": "https://localhost:8080/"
        },
        "id": "TJmbp9HZeszo",
        "outputId": "21db4e31-c788-4eac-d480-4f370f6a6688"
      },
      "execution_count": 13,
      "outputs": [
        {
          "output_type": "stream",
          "name": "stdout",
          "text": [
            "Overwriting Creature.java\n"
          ]
        }
      ]
    },
    {
      "cell_type": "code",
      "source": [
        "!javac Creature.java"
      ],
      "metadata": {
        "id": "JAeg4f9rexYx"
      },
      "execution_count": 14,
      "outputs": []
    },
    {
      "cell_type": "code",
      "source": [
        "!java Creature"
      ],
      "metadata": {
        "colab": {
          "base_uri": "https://localhost:8080/"
        },
        "id": "nkgS8O_tezaO",
        "outputId": "2a0b3c97-5f2c-4f38-df0e-483948adf815"
      },
      "execution_count": 15,
      "outputs": [
        {
          "output_type": "stream",
          "name": "stdout",
          "text": [
            "Mario is Red and has 100 health points.\n",
            "The Great Goomba is Brown and has 80 health points.\n",
            "Mario takes 20 points of damage.\n",
            "Mario is Red and has 80 health points.\n"
          ]
        }
      ]
    },
    {
      "cell_type": "markdown",
      "source": [
        "A lot of stuff happens in this short program! Let's walk through it step by step.\n",
        "#### Class Definition\n",
        "\n",
        "-   `public class Creature` declares a class named `Creature`. This is the blueprint for creating `Creature` objects. Each `Creature` object will have attributes and behaviors defined in this class.\n",
        "\n",
        "#### Attributes\n",
        "\n",
        "-   `String name; String color; int health;` These lines declare the attributes (or fields) of the `Creature` class. Each creature will have a name (a string), a color (also a string), and health (an integer). Attributes store the state of an object.\n",
        "\n",
        "#### Constructor\n",
        "\n",
        "-   The constructor `public Creature(String name, String color, int health)` initializes new objects of the `Creature` class with specific values for `name`, `color`, and `health`. The `this` keyword is used to refer to the current object -- it differentiates the class's fields from the constructor's parameters when they have the same name.\n",
        "\n",
        "#### Methods\n",
        "\n",
        "-   `public void displayDetails()` is a method that prints the creature's details to the console. It does not return any value (`void`).\n",
        "-   `public void takeDamage(int damage)` is a method that simulates the creature taking damage. It subtracts the given damage from the creature's health and prints a message about the damage taken.\n",
        "\n",
        "#### Main Method\n",
        "\n",
        "-   `public static void main(String[] args)` is the entry point of the program. Java programs start executing from the `main` method.\n",
        "    -   Inside the `main` method, two `Creature` objects are created: `mario` and `goomba`, with their respective attributes set upon creation.\n",
        "    -   It then displays the details of both creatures using the `displayDetails` method.\n",
        "    -   `mario` is made to take 20 points of damage through the `takeDamage` method, and its updated details are displayed again to reflect the reduced health.\n",
        "\n",
        "#### How It Works\n",
        "\n",
        "1.  When the program runs, it starts in the `main` method.\n",
        "2.  Two `Creature` objects (`mario` and `goomba`) are instantiated with their names, colors, and health points.\n",
        "3.  The program calls `displayDetails` on both `mario` and `goomba` to print their initial states.\n",
        "4.  The program calls `takeDamage` on `mario` with a damage value of 20, reducing `mario`'s health and printing a message about the damage.\n",
        "5.  Finally, `mario`'s updated details are displayed again, showing the reduced health."
      ],
      "metadata": {
        "id": "KIxrRLHdesKE"
      }
    },
    {
      "cell_type": "code",
      "source": [
        "%%writefile MarioKart.java\n",
        "import java.util.Scanner;\n",
        "import java.util.Random; // For random numbers\n",
        "\n",
        "// First, we define the class\n",
        "public class MarioKart {\n",
        "    int speed;\n",
        "    int weight;\n",
        "    int handling;\n",
        "\n",
        "    // Constructor to initialize the kart's attributes\n",
        "    public MarioKart(int speed, int weight, int handling) {\n",
        "        this.speed = speed;\n",
        "        this.weight = weight;\n",
        "        this.handling = handling;\n",
        "    }\n",
        "\n",
        "    // Method to calculate the total performance score of the kart\n",
        "    public int calculatePerformance() {\n",
        "        Random random = new Random();\n",
        "        // Add random noise to introduce unpredictability\n",
        "        return speed + weight + handling + random.nextInt(10);\n",
        "    }\n",
        "\n",
        "    public static void main(String[] args) {\n",
        "        Scanner scanner = new Scanner(System.in);\n",
        "\n",
        "        // User input for custom kart\n",
        "        System.out.println(\"Enter your kart's speed, weight, and handling (1-6):\");\n",
        "        int userSpeed = scanner.nextInt();\n",
        "        int userWeight = scanner.nextInt();\n",
        "        int userHandling = scanner.nextInt();\n",
        "        MarioKart userKart = new MarioKart(userSpeed, userWeight, userHandling);\n",
        "\n",
        "        // Predefined karts\n",
        "        MarioKart marioKart = new MarioKart(5, 3, 4);\n",
        "        MarioKart peachKart = new MarioKart(4, 2, 6);\n",
        "        MarioKart bowserKart = new MarioKart(6, 6, 2);\n",
        "\n",
        "        // Simulate the race\n",
        "        int userPerformance = userKart.calculatePerformance();\n",
        "        int marioPerformance = marioKart.calculatePerformance();\n",
        "        int peachPerformance = peachKart.calculatePerformance();\n",
        "        int bowserPerformance = bowserKart.calculatePerformance();\n",
        "\n",
        "        System.out.println(\"Race results:\");\n",
        "        System.out.println(\"Your kart's performance: \" + userPerformance);\n",
        "        System.out.println(\"Mario's kart's performance: \" + marioPerformance);\n",
        "        System.out.println(\"Peach's kart's performance: \" + peachPerformance);\n",
        "        System.out.println(\"Bowser's kart's performance: \" + bowserPerformance);\n",
        "\n",
        "        // Determine the winner\n",
        "        int maxPerformance = Math.max(Math.max(userPerformance, marioPerformance),\n",
        "                                      Math.max(peachPerformance, bowserPerformance));\n",
        "        System.out.print(\"The winner is: \");\n",
        "        if (maxPerformance == userPerformance) {\n",
        "            System.out.println(\"You!\");\n",
        "        } else if (maxPerformance == marioPerformance) {\n",
        "            System.out.println(\"Mario!\");\n",
        "        } else if (maxPerformance == peachPerformance) {\n",
        "            System.out.println(\"Peach!\");\n",
        "        } else {\n",
        "            System.out.println(\"Bowser!\");\n",
        "        }\n",
        "    }\n",
        "}\n"
      ],
      "metadata": {
        "colab": {
          "base_uri": "https://localhost:8080/"
        },
        "id": "stmUMSlFg35W",
        "outputId": "f041e5f0-7bde-49ae-b997-bcaf2f9edd24"
      },
      "execution_count": 16,
      "outputs": [
        {
          "output_type": "stream",
          "name": "stdout",
          "text": [
            "Writing MarioKart.java\n"
          ]
        }
      ]
    },
    {
      "cell_type": "code",
      "source": [
        "!javac MarioKart.java"
      ],
      "metadata": {
        "id": "exTrguDKjgDv"
      },
      "execution_count": 17,
      "outputs": []
    },
    {
      "cell_type": "code",
      "source": [
        "!java MarioKart"
      ],
      "metadata": {
        "colab": {
          "base_uri": "https://localhost:8080/"
        },
        "id": "hVXiFnpHjkOq",
        "outputId": "c234852a-42dc-4385-d16d-f1ac57c1a6c5"
      },
      "execution_count": 18,
      "outputs": [
        {
          "output_type": "stream",
          "name": "stdout",
          "text": [
            "Enter your kart's speed, weight, and handling (1-6):\n",
            "6\n",
            "3\n",
            "3\n",
            "Race results:\n",
            "Your kart's performance: 15\n",
            "Mario's kart's performance: 14\n",
            "Peach's kart's performance: 17\n",
            "Bowser's kart's performance: 21\n",
            "The winner is: Bowser!\n"
          ]
        }
      ]
    },
    {
      "cell_type": "markdown",
      "source": [
        "#### Imports\n",
        "\n",
        "-   `import java.util.Scanner;` allows the program to read user input from the console.\n",
        "-   `import java.util.Random;` is used to generate random numbers, introducing unpredictability in kart performance calculations.\n",
        "\n",
        "#### Class Definition\n",
        "\n",
        "-   `public class MarioKart` defines a class representing a kart with attributes like speed, weight, and handling.\n",
        "\n",
        "#### Attributes\n",
        "\n",
        "-   The class has three integer attributes: `speed`, `weight`, and `handling`. These attributes determine the performance of a kart.\n",
        "\n",
        "#### Constructor\n",
        "\n",
        "-   `public MarioKart(int speed, int weight, int handling)` initializes a new `MarioKart` object with specified values for speed, weight, and handling.\n",
        "\n",
        "#### Method: calculatePerformance\n",
        "\n",
        "-   `public int calculatePerformance()` calculates the total performance score of the kart by adding its speed, weight, handling, and a random value between 0 and 9 (inclusive). This method introduces an element of unpredictability, mimicking real-life racing conditions where many factors can affect the outcome.\n",
        "\n",
        "#### Main Method\n",
        "\n",
        "1.  `public static void main(String[] args)` serves as the entry point for the program.\n",
        "2.   The program first prompts the user to enter values for speed, weight, and handling of their kart. It uses a `Scanner` object to read these values from\n",
        "3.  Next, the program initializes three predefined karts with hardcoded attributes for Mario, Peach, and Bowser.\n",
        "4.   It calculates the performance of the user's kart and the predefined karts using the `calculatePerformance` method.\n",
        "5.   The program prints the performance scores of all karts, showing the race's outcome.\n",
        "6.   Finally, the program determines the winner by finding the kart with the highest performance score. It uses nested calls to `Math.max` to find the maximum of the four performance scores. The program then checks which kart has this maximum score and announces the winner accordingly.\n"
      ],
      "metadata": {
        "id": "PPFDERxlk6Nl"
      }
    },
    {
      "cell_type": "code",
      "source": [],
      "metadata": {
        "id": "wWhS6exdk62M"
      },
      "execution_count": null,
      "outputs": []
    }
  ]
}