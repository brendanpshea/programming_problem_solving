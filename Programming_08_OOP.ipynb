{
  "nbformat": 4,
  "nbformat_minor": 0,
  "metadata": {
    "colab": {
      "provenance": [],
      "authorship_tag": "ABX9TyMd0jdrX+nqwoEIhSBtnqZf",
      "include_colab_link": true
    },
    "kernelspec": {
      "name": "python3",
      "display_name": "Python 3"
    },
    "language_info": {
      "name": "python"
    }
  },
  "cells": [
    {
      "cell_type": "markdown",
      "metadata": {
        "id": "view-in-github",
        "colab_type": "text"
      },
      "source": [
        "<a href=\"https://colab.research.google.com/github/brendanpshea/programming_problem_solving/blob/main/Programming_08_OOP.ipynb\" target=\"_parent\"><img src=\"https://colab.research.google.com/assets/colab-badge.svg\" alt=\"Open In Colab\"/></a>"
      ]
    },
    {
      "cell_type": "markdown",
      "source": [
        "# What is Object-Oriented Programming (OOP)?\n",
        "\n",
        "**Object-Oriented Programming (OOP)** is a programming **paradigm**---a model or philosophy for writing software programs. It's based on the idea of breaking down software into smaller pieces, known as **objects**, which represent real-world or conceptual entities. Each object can hold data **(attributes)** and **methods**. Data refers to the attributes or properties of an object, essentially what an object has. Methods are the actions or behaviors an object can perform, essentially what an object does.\n",
        "\n",
        "In OOP, programs are designed by making them out of objects that interact with one another. This approach is inspired by how things work in the real world, making it easier for programmers to think about and manage their code. The two basic concepts of OOP--from which everything else follows--are these:\n",
        "-   A **class** is a blueprint for creating objects. A class defines the data and methods that its objects will contain.\n",
        "-   An **Object** is an instance of a class. If a class is like a blueprint, an object is like a house built from that blueprint. Each object has its own set of data and methods, according to the class definition."
      ],
      "metadata": {
        "id": "mMfsA6WCcUDN"
      }
    },
    {
      "cell_type": "markdown",
      "source": [
        "## Classes and Objects at Hotel Transylvania\n",
        "Let's return to an examples from an earlier chapter--that of the Hotel Transylvania. Suppose that we've been hired to build a system for handling hotel registration. In real life, this sort of large-scale software system would much more likely be written in a language like Java than in Python. To get started, though, let's think about a few of the classes and objects that make up the **ontology** (the \"things that exist\") in this problem domain.\n",
        "\n",
        "### class Guest\n",
        "This class represents an individual staying at the hotel, with various personal and species-specific needs.\n",
        "\n",
        "-   Attributes include the guest's name, age, species, room number, and special requirements, which provide detailed information about the guest for personalized service.\n",
        "-   Methods like checkIn(), requestService(), and checkOut() facilitate interactions between the guest and hotel services, ensuring their stay is comfortable and their needs are met.\n",
        "-   An example object could be Dracula, with name \"Dracula\", age 537, species \"Vampire\", room number 666, and special requirement \"Blackout curtains\", who checks in, requests nocturnal room service, and checks out.\n",
        "\n",
        "### class Room\n",
        "This class encapsulates the characteristics and functionalities of a hotel room, tailored to accommodate guests of all species.\n",
        "\n",
        "-   Attributes include the room's number, type, occupancy limit, and special features, detailing the room's capacity and amenities to ensure it meets the needs of its occupants.\n",
        "-   Methods like isAvailable(), bookRoom(), and vacateRoom() manage the room's booking status, assigning it to guests and preparing it for new arrivals.\n",
        "-   An example object could be a Suite with number 101, type \"Suite\", occupancy limit 4, and special features \"Moonlight windows\", available for booking by werewolf families.\n",
        "\n",
        "### class Bill\n",
        "THis class details the financial transactions associated with a guest's stay, including room charges and additional services.\n",
        "\n",
        "-   Attributes cover the bill number, guest name, room charge, additional services, and total amount, providing a comprehensive summary of the guest's expenses.\n",
        "-   Methods like addItem() and calculateTotal() add charges for extra services and compute the final bill, incorporating any species-specific discounts.\n",
        "-   An example object could be Bill#1234 for guest \"Dracula\", with room charge \\$300, additional services \\$50, leading to a total amount of \\$350 after special vampire discounts.\n",
        "\n",
        "### class Animal\n",
        "This class represents pets or companions of guests, catering to the diverse fauna that accompanies the hotel's clientele.\n",
        "\n",
        "-   Attributes include the animal's name, species, age, and owner name, identifying the animal and ensuring its needs are met in line with its species.\n",
        "-   Methods like play() and feed() provide for the animal's well-being, with activities and meals suited to its species.\n",
        "-   An example object could be a pet bat named \"Fluffy\", species \"Bat\", age 3, owned by \"Dracula\", who enjoys nocturnal play and is fed a diet of insect-based dishes.\n",
        "\n",
        "### class FoodItem\n",
        "This class details the various dishes available at the hotel, with considerations for the dietary restrictions of its diverse guests.\n",
        "\n",
        "-   Attributes include the food item's name, type, price, and dietary restrictions, ensuring it can be matched to guest preferences and health requirements.\n",
        "-   Methods like prepare() and serve() ensure the food item is made according to specific dietary needs and served to the guest's satisfaction.\n",
        "-   An example object could be a dish named \"Moonlit Mushroom Risotto\", type \"Entrée\", price $20, catering to \"Werewolf-friendly, vegetarian\", prepared with nightshade mushrooms and served under moonlight for enhanced flavor."
      ],
      "metadata": {
        "id": "GvV7_LvGzYIz"
      }
    },
    {
      "cell_type": "markdown",
      "source": [
        "## How do I Create Classes and Objects in Java?\n",
        "\n",
        "Creating classes and objects in Java involves two main steps. First, you define a class, which serves as a template or blueprint for your objects. This class includes declarations for the attributes (data) and methods (behaviors) that the objects created from this class will have. Second, you create objects from this class, which are instances embodying the defined attributes and methods.\n",
        "\n",
        "### Defining a Class\n",
        "\n",
        "A class in Java is defined using the `class` keyword, followed by the class name and a pair of curly braces `{}`. Inside these braces, you declare the class's attributes and methods.\n",
        "\n",
        "- **Attributes** are variables that hold data about the state of an object. They are defined by specifying a data type and a name for the variable.\n",
        "- **Methods** are blocks of code that define the behaviors of the objects. A method in Java is created by specifying a return type (the type of value the method sends back to its caller), the method's name, and a pair of parentheses `()`. If the method takes parameters, you list them inside these parentheses.\n",
        "- A **constructor** is a special method that has the same name as the class. It is called whenever new objects are created from the class.\n",
        "- Every Java program (though not necessarily every Java class) must have a **main** method. This is the method that gets called when the program is \"run.\"\n",
        "\n",
        "Let's take a look at how we might create our Guest class from before. Here, we're just going to focus on basic methods that you'll see in many Java classes."
      ],
      "metadata": {
        "id": "vfk7CGOmdf9e"
      }
    },
    {
      "cell_type": "code",
      "source": [
        "%%writefile Guest.java\n",
        "public class Guest {\n",
        "    // Attributes of the Guest class\n",
        "    private String name;\n",
        "    private int age;\n",
        "    private String species;\n",
        "    private String specialRequirements;\n",
        "\n",
        "    // Constructor to initialize the Guest object\n",
        "    public Guest(String name, int age, String species, String specialRequirements) {\n",
        "        this.name = name;\n",
        "        this.age = age;\n",
        "        this.species = species;\n",
        "        this.specialRequirements = specialRequirements;\n",
        "    }\n",
        "\n",
        "    // Method to return the guest's name\n",
        "    public String getName() {\n",
        "        return name;\n",
        "    }\n",
        "\n",
        "    // Method to set the guest's name\n",
        "    public void setName(String name) {\n",
        "        this.name = name;\n",
        "    }\n",
        "\n",
        "    // Method to return the guest's age\n",
        "    public int getAge() {\n",
        "        return age;\n",
        "    }\n",
        "\n",
        "    // Method to set the guest's age\n",
        "    public void setAge(int age) {\n",
        "        this.age = age;\n",
        "    }\n",
        "\n",
        "    // Method to return the guest's species\n",
        "    public String getSpecies() {\n",
        "        return species;\n",
        "    }\n",
        "\n",
        "    // Method to set the guest's species\n",
        "    public void setSpecies(String species) {\n",
        "        this.species = species;\n",
        "    }\n",
        "\n",
        "    // Method to return the guest's special requirements\n",
        "    public String getSpecialRequirements() {\n",
        "        return specialRequirements;\n",
        "    }\n",
        "\n",
        "    // Method to set the guest's special requirements\n",
        "    public void setSpecialRequirements(String specialRequirements) {\n",
        "        this.specialRequirements = specialRequirements;\n",
        "    }\n",
        "\n",
        "    // Method to display guest information\n",
        "    public void displayGuestInfo() {\n",
        "        System.out.println(\"Guest Name: \" + name);\n",
        "        System.out.println(\"Age: \" + age);\n",
        "        System.out.println(\"Species: \" + species);\n",
        "        System.out.println(\"Special Requirements: \" + specialRequirements);\n",
        "    }\n",
        "}\n"
      ],
      "metadata": {
        "colab": {
          "base_uri": "https://localhost:8080/"
        },
        "id": "ye-5gcvW1w3C",
        "outputId": "245ccb58-6965-496a-9ba0-2290e2e5bd8a"
      },
      "execution_count": 7,
      "outputs": [
        {
          "output_type": "stream",
          "name": "stdout",
          "text": [
            "Writing Guest.java\n"
          ]
        }
      ]
    },
    {
      "cell_type": "markdown",
      "source": [
        "Now, we can compile this class as before (using `javac`). However, because this class doesn't have a `main()` function, we can't run it yet."
      ],
      "metadata": {
        "id": "fgTShX1ME1Ym"
      }
    },
    {
      "cell_type": "code",
      "source": [
        "# Compiling works fine.\n",
        "!javac Guest.java"
      ],
      "metadata": {
        "id": "sdlRr0eJEzkW"
      },
      "execution_count": 8,
      "outputs": []
    },
    {
      "cell_type": "code",
      "source": [
        "# This will lead to an error!\n",
        "# There is no main() method, so no \"application\"\n",
        "!java Guest.java"
      ],
      "metadata": {
        "id": "wWhS6exdk62M",
        "colab": {
          "base_uri": "https://localhost:8080/"
        },
        "outputId": "aa37505a-10db-4d6c-f430-7442613be508"
      },
      "execution_count": null,
      "outputs": [
        {
          "output_type": "stream",
          "name": "stdout",
          "text": [
            "error: class found on application class path: Guest\n"
          ]
        }
      ]
    },
    {
      "cell_type": "markdown",
      "source": [
        "## Breaking Down Guest.java\n",
        "\n",
        "While `Guest.java` is pretty bare bones at this point, it illustrates the basic structure of how classes work. Let's walk through some of the main components.\n",
        "\n",
        "### Access Modifiers\n",
        "\n",
        "**Access modifiers** in Java determine the scope of access for classes, methods, and variables. They control where and how the members of a class can be accessed from other parts of your code. The Guest class utilizes two primary access modifiers: `private` and `public`.\n",
        "\n",
        "-   **private**. This modifier restricts the visibility to the class itself. For instance, the attributes `name`, `age`, `species`, and `specialRequirements` are marked as `private`, meaning they cannot be directly accessed from outside the Guest class. This encapsulation ensures that the internal state of an object is protected and can only be accessed through the class's public methods.\n",
        "\n",
        "-   **public.** This modifier allows members to be accessible from any other class. In the Guest class, methods such as `getName()`, `setName(String name)`, and `displayGuestInfo()` are declared `public`, making them accessible from other classes. This enables other parts of your program to interact with instances of Guest, while still keeping certain details private and controlled."
      ],
      "metadata": {
        "id": "trAYrFlRGcDf"
      }
    },
    {
      "cell_type": "markdown",
      "source": [
        "\n",
        "### Constructors\n",
        "\n",
        "A **constructor** is a special method in a class that is called when an object of that class is instantiated. Constructors have the same name as the class and do not have a return type. They are used to initialize the object's properties with specific values at the time of creation.\n",
        "\n",
        "In the Guest class, the constructor is defined as:\n",
        "\n",
        "```java\n",
        "public Guest(String name, int age, String species, String specialRequirements) {\n",
        "    this.name = name;\n",
        "    this.age = age;\n",
        "    this.species = species;\n",
        "    this.specialRequirements = specialRequirements;\n",
        "}\n",
        "```\n",
        "\n",
        "This constructor allows for the creation of Guest objects with initial values for `name`, `age`, `species`, and `specialRequirements`. The use of `this` keyword helps to distinguish between class attributes and constructor parameters when their names are the same.\n",
        "\n",
        "Later, when we create particular Guests (which are *objects*), we will implicitly rely on this instructor do this. For example:\n",
        "\n",
        "```java\n",
        "        // Creating an object for Dracula\n",
        "        Guest dracula = new Guest(\"Count Dracula\", 537, \"Vampire\", \"Blackout curtains for daytime sleep\");\n",
        "\n",
        "        // Creating an object for a Werewolf\n",
        "        Guest werewolf = new Guest(\"Larry Talbot\", 150, \"Werewolf\", \"Extra-large moonlit room\");\n",
        "\n",
        "        // Creating an object for a Frankenstein's Monster\n",
        "        Guest frankenstein = new Guest(\"Frankie Stein\", 200, \"Monster\", \"Electric recharge station\");\n",
        "```"
      ],
      "metadata": {
        "id": "h5VWrbx3JDv7"
      }
    },
    {
      "cell_type": "markdown",
      "source": [
        "\n",
        "### Getter Methods\n",
        "\n",
        "**Getter methods**, also known as **accessors**, are `public` methods that allow other classes to retrieve the value of private attributes. Each private attribute typically has a corresponding getter method.\n",
        "\n",
        "For example, the method to get the `name` of a guest is:\n",
        "\n",
        "```java\n",
        "public String getName() {\n",
        "    return name;\n",
        "}\n",
        "```\n",
        "\n",
        "This method provides read access to the `name` attribute. Since `name` is private, without this getter, external classes would not be able to obtain the `name` of a Guest object."
      ],
      "metadata": {
        "id": "5tY7VQySJGJa"
      }
    },
    {
      "cell_type": "markdown",
      "source": [
        "### Setter Methods\n",
        "\n",
        "**Setter methods**, also known as **mutators**, are `public` methods that allow other classes to set or modify the value of private attributes. They typically return void and take a parameter that is used to set the value of the attribute.\n",
        "\n",
        "For instance, the method to set the `name` of a guest is:\n",
        "\n",
        "```java\n",
        "public void setName(String name) {\n",
        "    this.name = name;\n",
        "}\n",
        "```\n",
        "\n",
        "This method provides write access to the `name` attribute. It allows external classes to change the name of a Guest object after it has been instantiated. The use of the `this` keyword is crucial here to refer to the instance variable `name`, distinguishing it from the parameter `name`.\n"
      ],
      "metadata": {
        "id": "h71nCIG-JKVX"
      }
    },
    {
      "cell_type": "markdown",
      "source": [
        "### Putting our Class to Work\n",
        "\n",
        "Java **applications** usually consist of multiple classes, each class defined in its own file. A class is a blueprint from which individual objects are created. It defines the state and behavior that the objects of the class all share. For instance, in a hotel management system, you might have classes like `Guest`, `Room`, `Bill`, etc.\n",
        "\n",
        "Each Java file should be named after the public class it contains, ensuring that the file name matches the class name, including capitalization, with the file extension being `.java`. For example, a class named `Guest` would be in a file named `Guest.java`.\n",
        "\n",
        "### The `main()` Method\n",
        "\n",
        "Every Java application must have a `main()` method, as this is the entry point of the application. The `main()` method is always static, meaning it can be called without creating an instance of the class. It must also be public, allowing it to be accessible from anywhere. The signature of the `main()` method looks like this:\n",
        "\n",
        "```java\n",
        "public static void main(String[] args) {\n",
        "    // code to be executed\n",
        "}\n",
        "```\n",
        "\n",
        "The `String[] args` parameter is used to pass command-line arguments to the application, although it may not always be used within the method.\n",
        "\n",
        "### Creating Objects with `new`\n",
        "\n",
        "Objects are instances of classes. To create an object, Java uses the `new` keyword, which allocates memory for the new object and returns a reference to that memory. This reference is usually stored in a variable for later use. Here's how you typically use `new` to create an object:\n",
        "\n",
        "```java\n",
        "ClassName objectName = new ClassName(arguments);\n",
        "```\n",
        "\n",
        "-   `ClassName` is the name of the class you wish to create an object of.\n",
        "-   `objectName` is the variable name you assign to the object.\n",
        "-   `new` is the keyword that creates the object.\n",
        "-   `ClassName(arguments)` is the constructor of the class, which initializes the new object.\n",
        "\n",
        "For example, to create a `Guest` object in a hotel management system, you might write:\n",
        "\n",
        "```java\n",
        "\n",
        "Guest guest1 = new Guest(\"Count Dracula\", 537, \"Vampire\", \"Blackout curtains\");\n",
        "```\n",
        "\n",
        "Here, `guest1` is an instance of the `Guest` class, created with specific attributes defined by the class's constructor."
      ],
      "metadata": {
        "id": "a6oUTYlhNba_"
      }
    },
    {
      "cell_type": "markdown",
      "source": [
        "### Example: A Java Application\n",
        "Ok, we now have all the components to put together our Java application."
      ],
      "metadata": {
        "id": "kFO7CF3WNkNB"
      }
    },
    {
      "cell_type": "code",
      "source": [
        "%%writefile GuestTest.java\n",
        "public class GuestTest {\n",
        "    public static void main(String[] args) {\n",
        "        // Creating an object for Dracula\n",
        "        Guest dracula = new Guest(\"Count Dracula\", 537, \"Vampire\", \"Blackout curtains for daytime sleep\");\n",
        "        // Suppose Dracula decides to update his special requirements\n",
        "        dracula.setSpecialRequirements(\"Blackout curtains and soundproof walls\");\n",
        "\n",
        "        // Creating an object for a Werewolf\n",
        "        Guest werewolf = new Guest(\"Larry Talbot\", 150, \"Werewolf\", \"Extra-large moonlit room\");\n",
        "        // Checking Larry's species\n",
        "        System.out.println(werewolf.getName() + \" is a \" + werewolf.getSpecies());\n",
        "\n",
        "        // Creating an object for a Frankenstein's Monster\n",
        "        Guest frankenstein = new Guest(\"Frankie Stein\", 200, \"Monster\", \"Electric recharge station\");\n",
        "        // Frankie decides to change his name to \"Frank\"\n",
        "        frankenstein.setName(\"Frank\");\n",
        "\n",
        "        // Display information for each guest\n",
        "        dracula.displayGuestInfo();\n",
        "        werewolf.displayGuestInfo();\n",
        "        frankenstein.displayGuestInfo();\n",
        "    }\n",
        "}\n",
        "\n"
      ],
      "metadata": {
        "colab": {
          "base_uri": "https://localhost:8080/"
        },
        "id": "u3i8JJykHlTu",
        "outputId": "2a8a19f5-3a44-4fb5-a6ea-41847b95f06f"
      },
      "execution_count": null,
      "outputs": [
        {
          "output_type": "stream",
          "name": "stdout",
          "text": [
            "Overwriting GuestTest.java\n"
          ]
        }
      ]
    },
    {
      "cell_type": "code",
      "source": [
        "!javac Guest.java\n",
        "!javac GuestTest.java"
      ],
      "metadata": {
        "id": "hKrc_SV2ONXc"
      },
      "execution_count": null,
      "outputs": []
    },
    {
      "cell_type": "code",
      "source": [
        "!java GuestTest"
      ],
      "metadata": {
        "colab": {
          "base_uri": "https://localhost:8080/"
        },
        "id": "rCtB7vqYORf3",
        "outputId": "491a3dfa-dbc3-4194-a992-7a2ce447cc5a"
      },
      "execution_count": null,
      "outputs": [
        {
          "output_type": "stream",
          "name": "stdout",
          "text": [
            "Larry Talbot is a Werewolf\n",
            "Guest Name: Count Dracula\n",
            "Age: 537\n",
            "Species: Vampire\n",
            "Special Requirements: Blackout curtains and soundproof walls\n",
            "Guest Name: Larry Talbot\n",
            "Age: 150\n",
            "Species: Werewolf\n",
            "Special Requirements: Extra-large moonlit room\n",
            "Guest Name: Frank\n",
            "Age: 200\n",
            "Species: Monster\n",
            "Special Requirements: Electric recharge station\n"
          ]
        }
      ]
    },
    {
      "cell_type": "markdown",
      "source": [
        "The GuestTest class is a simple Java application that shows how to create and manipulate objects. It's designed to simulate a basic system for managing guests in a hotel, specifically tailored to the whimsical and spooky guests of the fictional Hotel Transylvania. Some things of importance:\n",
        "\n",
        "1. The `main` method serves as the entry point for any standalone Java application. When you run a Java program, the execution starts from the `main` method.\n",
        " -   It's declared as `public static void main(String[] args)`. The `public` modifier means it can be called from any other class, `static` allows it to be invoked without creating an instance of its class, `void` means it doesn't return any value, and `String[] args` is an array of strings that stores command-line arguments.\n",
        "2. In the `main` method, we create instances (objects) of the `Guest` class using the `new` keyword. This process is known as object instantiation. Each object represents a different guest at the hotel with unique attributes like name, age, species, and special requirements.\n",
        " -   For example, `Guest dracula = new Guest(\"Count Dracula\", 537, \"Vampire\", \"Blackout curtains for daytime sleep\");` This line creates a new `Guest` object named `dracula` with the provided attributes.\n",
        "3. After creating objects, you can call methods on these objects to perform actions or access their data. In this class, we assume a `displayGuestInfo()` method exists within the `Guest` class, which prints out the guest's details.\n",
        " -   `dracula.displayGuestInfo();` This line calls the `displayGuestInfo()` method on the `dracula` object, which should display Dracula's information.\n",
        "4. Getter and setter methods are commonly used to access and modify the private attributes of a class.\n",
        " -   A method call like `werewolf.getName()` allows external access to a guest's name in a controlled manner.\n",
        " -   Similarly, a method like `frankenstein.setName(\"Frank\")` allows the name of a guest to be changed after the object has been created.\n",
        "\n",
        " And with this, we've created our first multi-class Java application! Of course, most \"real-world\" Java applications contain *many* classes. In the next section of this chapter, we'll start exploring how this works."
      ],
      "metadata": {
        "id": "3v112eCOkJAB"
      }
    },
    {
      "cell_type": "markdown",
      "source": [
        "## Review Questions\n",
        "1.  What is Object-Oriented Programming (OOP) and how does it differ from procedural programming?\n",
        "\n",
        "2.  Define a class in OOP. How does it differ from an object? Give three examples of classes related to something of interest to you. Describe their attributes and methods. Then, give examples of objects.\n",
        "\n",
        "3.  What are access modifiers in Java? Why are some methods and attributes `public`, while others are `private`?\n",
        "\n",
        "4.  Describe the purpose of constructor methods in Java classes. How do these relate to the creation of new objects?\n"
      ],
      "metadata": {
        "id": "QoyPqjb2mo0S"
      }
    },
    {
      "cell_type": "markdown",
      "source": [
        "## My Answers\n",
        "1.\n",
        "\n",
        "2.\n",
        "\n",
        "3.\n",
        "\n",
        "4."
      ],
      "metadata": {
        "id": "soZFXKtDsPyA"
      }
    },
    {
      "cell_type": "markdown",
      "source": [
        "## Exercise\n",
        "Complete the following `GuestTest2` class so that it does the following:\n",
        "\n",
        "1. Creates three new guests for the hotel. (Different from the ones I used earlier).\n",
        "2. Demonstrates the use of least one \"setter\" method and one \"getter\" method.\n",
        "3. Displays the information on the Guests.\n",
        "\n",
        "This can be closely based on `GuestTest`. Note that this program will NOT run unless you make sure to compile the `Guest` class first."
      ],
      "metadata": {
        "id": "iAsM2agOsSeY"
      }
    },
    {
      "cell_type": "code",
      "source": [
        "%%writefile GuestTest2.java\n",
        "public class GuestTest2 {\n",
        "    public static void main(String[] args) {\n",
        "        // TODO: Create three objects representing GuestTest\n",
        "\n",
        "        // TODO: Show how to use at least one getter method\n",
        "\n",
        "        // TODO: Show how to use at least one setter method\n",
        "\n",
        "        // TODO: Display guest info\n",
        "    }\n",
        "}\n"
      ],
      "metadata": {
        "id": "2kpNWIFOs4oz"
      },
      "execution_count": null,
      "outputs": []
    },
    {
      "cell_type": "code",
      "source": [
        "!javac Guest.java\n",
        "!javac GuestTest2.java"
      ],
      "metadata": {
        "id": "CHhMKVhttKfg"
      },
      "execution_count": null,
      "outputs": []
    },
    {
      "cell_type": "code",
      "source": [
        "!java GuestTest2"
      ],
      "metadata": {
        "id": "k8Zon4AgtNDB"
      },
      "execution_count": null,
      "outputs": []
    },
    {
      "cell_type": "markdown",
      "source": [
        "### Why Didn't My Java Program Run?\n",
        "\n",
        "When working with Java, especially for beginners, running into issues where your program won't run as expected is common. Let's explore some typical problems you might face when working with a `Guest` class and its corresponding test class, `GuestTest`.\n",
        "\n",
        "**1\\. Class Name and File Name Mismatch.** The name of the public class must exactly match the name of the file it is in, considering Java's case sensitivity. For example, If your public class is named `Guest`, the file name must be `Guest.java`. Similarly, for `GuestTest`, the file name should be `GuestTest.java`. Any deviation, including differences in capitalization, will prevent your Java program from compiling correctly.\n",
        "\n",
        "**2\\. Incorrect Directory Placement.**  Java doesn't require a specific directory structure if you're not using packages, but your source files (`Guest.java` and `GuestTest.java`) need to be in the directory where you compile and run them, or you need to specify their location if compiling from a different directory. For example, of you're compiling from the directory above your source code, you need to specify the path to the `.java` files, like `javac myproject/Guest.java myproject/GuestTest.java`.\n",
        "\n",
        "**3\\. Compilation Errors.** Java requires that you compile your source code into bytecode (`Guest.class` and `GuestTest.class`) before you can run it. Compilation issues can arise from syntax errors or missing dependencies. For example, if `GuestTest` depends on `Guest` (e.g., it creates a `Guest` object), you must compile `Guest.java` before `GuestTest.java`. Otherwise, you'll encounter compilation errors.\n",
        "\n",
        "**4\\. Incorrect Execution Command or Sequence.**  After compiling, you run your program with the `java` command followed by the class name without the `.class` extension. Ensure you've compiled all necessary classes first. For example, to run `GuestTest`, ensure both `Guest` and `GuestTest` are compiled. Then execute `java GuestTest` in the command line. Running the class without compiling it or using the wrong class name for execution will result in errors.\n",
        "\n",
        "**5\\. Dependencies and Typographical Errors.**  If your classes depend on each other or external libraries, ensure all dependencies are resolved and available at compile time. Additionally, Java's case sensitivity means typographical errors can prevent your program from running. For example, if `GuestTest` uses methods from `Guest`, any typo in method names or incorrect method calls (e.g., using `Getname` instead of `getName` if it's defined as such in `Guest`) will cause compile-time errors."
      ],
      "metadata": {
        "id": "1EpovzKpztaZ"
      }
    },
    {
      "cell_type": "markdown",
      "source": [
        "## The Room Class Design\n",
        "\n",
        "Now that we understand the basic idea of classes and objects, let's try our hand at creating another class. The Room class will represent a hotel room, encapsulating properties such as room number, type, occupancy status, and nightly rate. Here's how we conceptualize this class:\n",
        "\n",
        "1.  Attributes define the characteristics of a room.\n",
        "    -   `roomNumber` is an integer representing the room's unique identifier.\n",
        "    -   `type` is a String that could represent the type of room (e.g., \"Single\", \"Double\", \"Suite\").\n",
        "    -   `guest`is a `Guest` object indicating the current occupant of the room. This replaces the `isOccupied` boolean.\n",
        "    -   `nightlyRate` is a double-length floating point number representing the cost per night to stay in the room.\n",
        "2.  The constructor initializes a new instance of the Room class.\n",
        "     -   The constructor takes parameters for room number, type, and nightly rate.\n",
        "     - The `guest` attribute is initialized to `null` to indicate that the room is initially unoccupied. In Java, `null` means \"nothing.\" (This is the same a `NULL` in SQL or `None` in Python).\n",
        "3.  The methods define the behavior of a room.\n",
        "    -   `assignGuest(Guest guest)`assigns a guest to the room.\n",
        "    -   `vacateRoom()` removes the guest from the room, setting the `guest` attribute back to `null`.\n",
        "    -   `displayRoomDetails()` prints out the room's details, including room number, type, occupancy status (based on whether a guest is present), and nightly rate.\n",
        "    - We will also include some representative \"getter\" and \"setter\" methods."
      ],
      "metadata": {
        "id": "RYnmy8Ifoj02"
      }
    },
    {
      "cell_type": "markdown",
      "source": [
        "### Coding the Room Class\n",
        "OK, let's now see how this works in Java code."
      ],
      "metadata": {
        "id": "vwv-UPXyomNM"
      }
    },
    {
      "cell_type": "code",
      "source": [
        "%%writefile Room.java\n",
        "public class Room {\n",
        "    // Attributes\n",
        "    private int roomNumber;\n",
        "    private String type;\n",
        "    private Guest guest;\n",
        "    private double nightlyRate;\n",
        "\n",
        "    // Constructor\n",
        "    public Room(int roomNumber, String type, double nightlyRate) {\n",
        "        this.roomNumber = roomNumber;\n",
        "        this.type = type;\n",
        "        this.nightlyRate = nightlyRate;\n",
        "        this.guest = null; // Initially, no guest is occupying the room\n",
        "    }\n",
        "\n",
        "    // Methods\n",
        "    public void assignGuest(Guest guest) {\n",
        "        this.guest = guest;\n",
        "    }\n",
        "\n",
        "    public void vacateRoom() {\n",
        "        this.guest = null;\n",
        "    }\n",
        "\n",
        "    public boolean isOccupied() {\n",
        "        return this.guest != null;\n",
        "    }\n",
        "\n",
        "    // Getter and setter methods\n",
        "    // I've compressed these\n",
        "    public int getRoomNumber(){return roomNumber;}\n",
        "    public void setRoomNumber(int roomNumber){this.roomNumber = roomNumber;}\n",
        "    public String getType(){return type;}\n",
        "    public void setType(String type){this.type = type;}\n",
        "    public double getRate(){return nightlyRate;}\n",
        "    public void setRate(double rate){nightlyRate = rate;}\n",
        "\n",
        "     public void displayRoomDetails() {\n",
        "        System.out.println(\"Room Number: \" + roomNumber);\n",
        "        System.out.println(\"Type: \" + type);\n",
        "        if(isOccupied()){\n",
        "          System.out.println(\"Occupied by: \" + guest.getName());\n",
        "        } else{\n",
        "          System.out.println(\"Vacant.\");\n",
        "        }\n",
        "\n",
        "        System.out.println(\"Nightly Rate: $\" + nightlyRate);\n",
        "    }\n",
        "}\n"
      ],
      "metadata": {
        "colab": {
          "base_uri": "https://localhost:8080/"
        },
        "id": "D_CbYBwNkJa9",
        "outputId": "e72c94c9-beaf-44c8-898c-8278c9d47a5c"
      },
      "execution_count": 40,
      "outputs": [
        {
          "output_type": "stream",
          "name": "stdout",
          "text": [
            "Overwriting Room.java\n"
          ]
        }
      ]
    },
    {
      "cell_type": "markdown",
      "source": [
        "Now, we can compile this file. (However, make sure to compile `Guest.java` first, and this depends on that)."
      ],
      "metadata": {
        "id": "m_5IVvjwrEqu"
      }
    },
    {
      "cell_type": "code",
      "source": [
        "# This should work\n",
        "!javac Guest.java\n",
        "!javac Room.java"
      ],
      "metadata": {
        "id": "U97A9us9qPQ1"
      },
      "execution_count": 41,
      "outputs": []
    },
    {
      "cell_type": "code",
      "source": [
        "# This will NOT work\n",
        "!java Room"
      ],
      "metadata": {
        "colab": {
          "base_uri": "https://localhost:8080/"
        },
        "id": "LVnN509irNd_",
        "outputId": "41317e2f-67a2-41b3-84c6-fbc77f5f3226"
      },
      "execution_count": null,
      "outputs": [
        {
          "output_type": "stream",
          "name": "stdout",
          "text": [
            "Error: Main method not found in class Room, please define the main method as:\n",
            "   public static void main(String[] args)\n",
            "or a JavaFX application class must extend javafx.application.Application\n"
          ]
        }
      ]
    },
    {
      "cell_type": "markdown",
      "source": [
        "### Creating Some Rooms\n",
        "Now, we are ready to create some rooms. Just as we did with Guest, let's write a \"client\" class that will allow us to do this."
      ],
      "metadata": {
        "id": "kBwz69OnrX7C"
      }
    },
    {
      "cell_type": "code",
      "source": [
        "%%writefile RoomTest.java\n",
        "public class RoomTest {\n",
        "\n",
        "    public static void main(String[] args) {\n",
        "        // Define some guests\n",
        "        Guest dracula = new Guest(\"Count Dracula\", 537, \"Vampire\", \"Blackout curtains for daytime sleep\");\n",
        "        Guest werewolf = new Guest(\"Larry Talbot\", 150, \"Werewolf\", \"Extra-large moonlit room\");\n",
        "\n",
        "        // Creating Room objects\n",
        "        Room room101 = new Room(101, \"Single\", 50.0);\n",
        "        Room room102 = new Room(102, \"Double\", 75.0);\n",
        "\n",
        "        // Assigning guests to rooms\n",
        "        room101.assignGuest(dracula);\n",
        "        room102.assignGuest(werewolf);\n",
        "\n",
        "        // Displaying room details with guests\n",
        "        System.out.println(\"Room details with guests:\");\n",
        "        room101.displayRoomDetails();\n",
        "        room102.displayRoomDetails();\n",
        "\n",
        "        // Vacating a room\n",
        "        room101.vacateRoom();\n",
        "\n",
        "        // Displaying updated room details after vacating\n",
        "        System.out.println(\"\\nUpdated room details after vacating room 101:\");\n",
        "        room101.displayRoomDetails();\n",
        "    }\n",
        "}\n"
      ],
      "metadata": {
        "colab": {
          "base_uri": "https://localhost:8080/"
        },
        "id": "0Ng5FPkxrkgO",
        "outputId": "84a9bab0-7b90-4af8-8405-47feb9121066"
      },
      "execution_count": 42,
      "outputs": [
        {
          "output_type": "stream",
          "name": "stdout",
          "text": [
            "Overwriting RoomTest.java\n"
          ]
        }
      ]
    },
    {
      "cell_type": "code",
      "source": [
        "!javac RoomTest.java"
      ],
      "metadata": {
        "id": "QKeMM5uJuSqc"
      },
      "execution_count": 38,
      "outputs": []
    },
    {
      "cell_type": "code",
      "source": [
        "!java RoomTest"
      ],
      "metadata": {
        "colab": {
          "base_uri": "https://localhost:8080/"
        },
        "id": "S-7RZ1a3uWai",
        "outputId": "54bbe139-303f-45af-c63b-6396fa1d4a9e"
      },
      "execution_count": 39,
      "outputs": [
        {
          "output_type": "stream",
          "name": "stdout",
          "text": [
            "Room details with guests:\n",
            "Room Number: 101\n",
            "Type: Single\n",
            "Occupied by: Count Dracula\n",
            "Nightly Rate: $50.0\n",
            "Room Number: 102\n",
            "Type: Double\n",
            "Occupied by: Larry Talbot\n",
            "Nightly Rate: $75.0\n",
            "\n",
            "Updated room details after vacating room 101:\n",
            "Room Number: 101\n",
            "Type: Single\n",
            "Vacant.\n",
            "Nightly Rate: $50.0\n"
          ]
        }
      ]
    },
    {
      "cell_type": "markdown",
      "source": [
        "In `RoomTest`, we do the following:\n",
        "1. We start by creating three instances of the `Room` class, each representing a different type of room within the Hotel Transylvania. These objects are instantiated using the `Room` constructor, which requires the room number, type, and nightly rate as arguments.\n",
        "2.  We then call the `displayRoomDetails()` method on each object to print its initial state. This demonstrates how to call a method on an object to perform a specific action, in this case, displaying room details.\n",
        "3. Next, we use setter methods (`setRate` and `setType`) to modify the attributes of room101 and room102. These methods allow us to update the state of an object after it has been created. The `occupyRoom()` method is called on room201 to change its occupancy status, showcasing how to use action methods to alter an object's state based on interactions.\n",
        "4. Finally, we display the updated details of each room to show the effects of the changes made through setter methods and action calls. This reinforces the concept of object mutability and the role of methods in managing object state."
      ],
      "metadata": {
        "id": "-XgKsFtHuC6H"
      }
    },
    {
      "cell_type": "markdown",
      "source": [
        "## Creating Your Own Classes\n",
        "## Review: How to Create and Instantiate Java Classes/Objects\n",
        "\n",
        "Creating and using classes and objects are fundamental in Java programming. These steps will guide you through the process of class declaration, creating constructors, defining getter and setter methods, and finally, how to use these classes in a client program.\n",
        "\n",
        "#### Step 1: Declare Your Class\n",
        "A class in Java is a blueprint from which individual objects are created. It contains fields (variables) and methods to define the object's behavior.\n",
        "\n",
        "```java\n",
        "public class Book {\n",
        "    // Fields, Constructor, Methods will go here\n",
        "}\n",
        "```\n",
        "\n",
        "#### Step 2: Add Fields to Your Class\n",
        "Fields (or attributes) are variables that provide the state of an object. Each object created from the class can have its own values for these fields.\n",
        "\n",
        "```java\n",
        "public class Book {\n",
        "    private String title;\n",
        "    private String author;\n",
        "}\n",
        "```\n",
        "\n",
        "#### Step 3: Create a Constructor\n",
        "\n",
        "A constructor in Java is a special method used to initialize objects. The constructor is called when an object of a class is created. It can be used to set initial values for object attributes.\n",
        "\n",
        "```java\n",
        "public class Book {\n",
        "    // Fields\n",
        "    private String title;\n",
        "    private String author;\n",
        "\n",
        "    // Constructor\n",
        "    public Book(String title, String author) {\n",
        "        this.title = title;\n",
        "        this.author = author;\n",
        "    }\n",
        "}\n",
        "```\n",
        "\n",
        "#### Step 4: Define Getter and Setter Methods\n",
        "\n",
        "These methods allow you to get and set the value of a field. The getter method returns the variable value, and the setter method sets the value.\n",
        "\n",
        "```java\n",
        "public class Book {\n",
        "    // Fields, Constructor\n",
        "\n",
        "    // Getter\n",
        "    public String getTitle() {\n",
        "        return title;\n",
        "    }\n",
        "\n",
        "    // Setter\n",
        "    public void setTitle(String title) {\n",
        "        this.title = title;\n",
        "    }\n",
        "\n",
        "    // Repeat for 'author' field\n",
        "}\n",
        "```\n",
        "\n",
        "#### Step 5: Write a Client Program to Use Your Class\n",
        "This is a separate Java class that uses your `Book` class to create objects and access them using the getter and setter methods.\n",
        "\n",
        "```java\n",
        "public class BookTest {\n",
        "    public static void main(String[] args) {\n",
        "        // Creating an object of class Book\n",
        "        Book myBook = new Book(\"Dracula\", \"Bram Stoker\");\n",
        "\n",
        "        // Accessing object data through getter methods\n",
        "        System.out.println(\"Title: \" + myBook.getTitle());\n",
        "        System.out.println(\"Author: \" + myBook.getAuthor());\n",
        "\n",
        "        // Modifying object data through setter methods\n",
        "        myBook.setTitle(\"Dracula, Revised Edition\");\n",
        "        System.out.println(\"Updated Title: \" + myBook.getTitle());\n",
        "    }\n",
        "}\n",
        "```\n",
        "\n",
        "In this example, we first create a `Book` class with two fields (`title` and `author`), a constructor to initialize these fields, and getter and setter methods for both fields. Then, in the client program (the `Main` class), we create a `Book` object named `myBook` and use its constructor to set the title and author. We access the book's title and author using the getter methods and print them. Finally, we change the book's title using the setter method and print the updated title."
      ],
      "metadata": {
        "id": "RGicEWnXuq4F"
      }
    },
    {
      "cell_type": "markdown",
      "source": [
        "## Exercises\n",
        "1. Following the steps laid out above, please create the `Book` and `BookTest` class. Show that you can successfully compile and run this application."
      ],
      "metadata": {
        "id": "Ck2V0A8GwBXi"
      }
    },
    {
      "cell_type": "code",
      "source": [
        "%%writefile Book.java\n",
        "public class Book{\n",
        "  // Your code here\n",
        "}"
      ],
      "metadata": {
        "id": "Ufthi0NRuQWc"
      },
      "execution_count": null,
      "outputs": []
    },
    {
      "cell_type": "code",
      "source": [
        "!javac Book.java"
      ],
      "metadata": {
        "id": "nS85t344wXVN"
      },
      "execution_count": null,
      "outputs": []
    },
    {
      "cell_type": "code",
      "source": [
        "%%writefile BookTest.java\n",
        "public class BookTest{\n",
        "  //Your code here\n",
        "}"
      ],
      "metadata": {
        "id": "IsduRiZowZMs"
      },
      "execution_count": null,
      "outputs": []
    },
    {
      "cell_type": "code",
      "source": [
        "!javac BookTest.java"
      ],
      "metadata": {
        "id": "WJBa0ffMwvYA"
      },
      "execution_count": null,
      "outputs": []
    },
    {
      "cell_type": "code",
      "source": [
        "!java BookTest"
      ],
      "metadata": {
        "id": "h8Kp7xKswyGe"
      },
      "execution_count": null,
      "outputs": []
    },
    {
      "cell_type": "markdown",
      "source": [
        "2. Write a class for Animal (representing the possible pets at the Hotel Transylvania). Your class should include:\n",
        "\n",
        " - at least 3 private attributes\n",
        " - getter methods for each attribute\n",
        " - setter methods for each attribute\n",
        " - a method for displaying the animal's attributes"
      ],
      "metadata": {
        "id": "JYBN2Iu-whh0"
      }
    },
    {
      "cell_type": "code",
      "source": [
        "%%writefile Animal.java\n",
        "public class Animal{\n",
        "  // TODO your code here\n",
        "}"
      ],
      "metadata": {
        "id": "Rutk3JVww-XX"
      },
      "execution_count": null,
      "outputs": []
    },
    {
      "cell_type": "code",
      "source": [
        "%%javac Animal.java"
      ],
      "metadata": {
        "id": "qQxOWubwxFKA"
      },
      "execution_count": null,
      "outputs": []
    },
    {
      "cell_type": "markdown",
      "source": [
        "3. Write a class called AnimalTest that shows how to create at least three animals and display their info."
      ],
      "metadata": {
        "id": "-CqIYWDaxHGO"
      }
    },
    {
      "cell_type": "code",
      "source": [
        "%%writefile AnimalTest.Javascript\n",
        "public class AnimalTest{\n",
        "  // TODO Your code here\n",
        "}"
      ],
      "metadata": {
        "id": "cDvKbcMLxOms"
      },
      "execution_count": null,
      "outputs": []
    },
    {
      "cell_type": "code",
      "source": [
        "!javac AnimalTest.java"
      ],
      "metadata": {
        "id": "1Kulj7Rxxiz7"
      },
      "execution_count": null,
      "outputs": []
    },
    {
      "cell_type": "code",
      "source": [
        "!java AnimalTest"
      ],
      "metadata": {
        "id": "F23XsHdMxlXM"
      },
      "execution_count": null,
      "outputs": []
    },
    {
      "cell_type": "markdown",
      "source": [
        "## An Aside into Arrays and ArrayLists\n",
        "Java **arrays** encapsulate a fundamental concept within programming: a collection of elements of the same type, stored contiguously in memory. They are fixed in size; once an array is created, its capacity cannot be altered. This immutability in size necessitates careful planning and understanding of one's data structures at the outset of program development.\n",
        "\n",
        "Consider a scenario in an undead hotel, where each room is occupied by a guest of a specific undead species. We might represent the species of guests in a hotel with a fixed number of rooms using an array. Let's use String as our data type for the species names.\n",
        "\n",
        "```java\n",
        "String[] undeadGuests = new String[5]; // A hotel with 5 rooms for undead guests.\n",
        "```\n",
        "\n",
        "This array, `undeadGuests`, can now hold 5 String values, each representing the species of the undead guest in a room. To assign values to this array:\n",
        "\n",
        "```java\n",
        "undeadGuests[0] = \"Vampire\";\n",
        "undeadGuests[1] = \"Zombie\";\n",
        "undeadGuests[2] = \"Ghost\";\n",
        "undeadGuests[3] = \"Mummy\";\n",
        "undeadGuests[4] = \"Lich\";\n",
        "```\n",
        "\n",
        "Each undead species is placed in a room, indexed from 0 to 4. Accessing the guest in the third room (remembering that array indices start at 0) involves:\n",
        "\n",
        "```java\n",
        "System.out.println(\"The guest in room 3 is a \" + undeadGuests[2]);\n",
        "```\n",
        "\n",
        "This would output: `The guest in room 3 is a Ghost`.\n",
        "\n",
        "Arrays can also be initialized with values directly:\n",
        "\n",
        "```java\n",
        "String[] undeadGuestsDirect = {\"Vampire\", \"Zombie\", \"Ghost\", \"Mummy\", \"Lich\"};\n",
        "```\n",
        "\n",
        "This direct method serves the same purpose but is more concise.\n"
      ],
      "metadata": {
        "id": "AXUHBigMN0mX"
      }
    },
    {
      "cell_type": "markdown",
      "source": [
        "### ArrayLists\n",
        "Java ArrayLists, in contrast, offer a dynamic array that can grow and shrink as needed, providing greater flexibility. They are part of the Java Collections Framework, allowing for the manipulation of data sets beyond simple fixed arrays. Unlike arrays, ArrayLists can only hold objects; primitive types must be used in their wrapper class form (e.g., `int` becomes `Integer`).\n",
        "\n",
        "To continue with our undead hotel analogy, suppose the hotel can now expand or contract its number of rooms based on demand. This scenario is apt for an ArrayList:\n",
        "\n",
        "```java\n",
        "import java.util.ArrayList; // Necessary import for ArrayList usage\n",
        "\n",
        "ArrayList<String> dynamicUndeadGuests = new ArrayList<>();\n",
        "```\n",
        "\n",
        "Adding guests to this dynamic hotel now becomes a matter of invoking methods:\n",
        "\n",
        "```java\n",
        "dynamicUndeadGuests.add(\"Vampire\");\n",
        "dynamicUndeadGuests.add(\"Zombie\");\n",
        "dynamicUndeadGuests.add(\"Ghost\");\n",
        "dynamicUndeadGuests.add(\"Mummy\");\n",
        "dynamicUndeadGuests.add(\"Lich\");`\n",
        "```\n",
        "The beauty of an ArrayList lies in its ability to accommodate more guests without the need for a predetermined size:\n",
        "\n",
        "```java\n",
        "dynamicUndeadGuests.add(\"Skeleton\");\n",
        "```\n",
        "\n",
        "Removing a guest is similarly straightforward:\n",
        "\n",
        "```java\n",
        "dynamicUndeadGuests.remove(\"Zombie\"); // Removes the first occurrence of \"Zombie\"\n",
        "```\n",
        "\n",
        "To access an element, one uses the `get` method, which replaces the bracket notation used in arrays:\n",
        "\n",
        "```java\n",
        "System.out.println(\"The guest in room 3 is now a \" + dynamicUndeadGuests.get(2));\n",
        "```\n",
        "\n",
        "ArrayLists thus provide a powerful and flexible mechanism for managing collections of objects in Java, ideal for when the size of your collection might change over time. Both arrays and ArrayLists serve critical roles in data structure management within Java, each with its specific use cases dictated by the needs of the developer and the constraints of the problem domain."
      ],
      "metadata": {
        "id": "nu0LlOX0N7hd"
      }
    },
    {
      "cell_type": "code",
      "source": [
        "%%writefile UndeadArrayTest.java\n",
        "import java.util.ArrayList;\n",
        "\n",
        "public class UndeadArrayTest {\n",
        "\n",
        "    public static void main(String[] args) {\n",
        "        // Initializing and populating a fixed-size array of undead guests\n",
        "        String[] undeadGuests = {\"Vampire\", \"Zombie\", \"Ghost\", \"Mummy\", \"Lich\"};\n",
        "        System.out.println(\"Fixed-size Undead Guests Array:\");\n",
        "        for (String guest : undeadGuests) {\n",
        "            System.out.println(guest);\n",
        "        }\n",
        "\n",
        "        // Demonstrating a dynamic ArrayList of undead guests\n",
        "        ArrayList<String> dynamicUndeadGuests = new ArrayList<>();\n",
        "        dynamicUndeadGuests.add(\"Vampire\");\n",
        "        dynamicUndeadGuests.add(\"Zombie\");\n",
        "        dynamicUndeadGuests.add(\"Ghost\");\n",
        "        dynamicUndeadGuests.add(\"Mummy\");\n",
        "        dynamicUndeadGuests.add(\"Lich\");\n",
        "\n",
        "        // Adding a new guest to the ArrayList\n",
        "        dynamicUndeadGuests.add(\"Skeleton\");\n",
        "        System.out.println(\"\\nDynamic Undead Guests ArrayList after addition:\");\n",
        "        for (String guest : dynamicUndeadGuests) {\n",
        "            System.out.println(guest);\n",
        "        }\n",
        "\n",
        "        // Removing a guest from the ArrayList\n",
        "        dynamicUndeadGuests.remove(\"Zombie\");\n",
        "        System.out.println(\"\\nDynamic Undead Guests ArrayList after removal:\");\n",
        "        for (String guest : dynamicUndeadGuests) {\n",
        "            System.out.println(guest);\n",
        "        }\n",
        "\n",
        "        // Accessing a specific guest in the ArrayList\n",
        "        System.out.println(\"\\nThe guest in room 3 is now a \" + dynamicUndeadGuests.get(2));\n",
        "    }\n",
        "}\n"
      ],
      "metadata": {
        "colab": {
          "base_uri": "https://localhost:8080/"
        },
        "id": "aqazMnpxN2m0",
        "outputId": "ad9bd6dd-ba07-44ef-896d-96b2b2e8fe1c"
      },
      "execution_count": 1,
      "outputs": [
        {
          "output_type": "stream",
          "name": "stdout",
          "text": [
            "Writing UndeadArrayTest.java\n"
          ]
        }
      ]
    },
    {
      "cell_type": "code",
      "source": [
        "!javac UndeadArrayTest.java"
      ],
      "metadata": {
        "id": "x64jL0D3OL_q"
      },
      "execution_count": 3,
      "outputs": []
    },
    {
      "cell_type": "code",
      "source": [
        "!java UndeadArrayTest"
      ],
      "metadata": {
        "colab": {
          "base_uri": "https://localhost:8080/"
        },
        "id": "epsRcIS4OQBa",
        "outputId": "c27390ea-140a-4bbc-a50e-1dbec99327a0"
      },
      "execution_count": 4,
      "outputs": [
        {
          "output_type": "stream",
          "name": "stdout",
          "text": [
            "Fixed-size Undead Guests Array:\n",
            "Vampire\n",
            "Zombie\n",
            "Ghost\n",
            "Mummy\n",
            "Lich\n",
            "\n",
            "Dynamic Undead Guests ArrayList after addition:\n",
            "Vampire\n",
            "Zombie\n",
            "Ghost\n",
            "Mummy\n",
            "Lich\n",
            "Skeleton\n",
            "\n",
            "Dynamic Undead Guests ArrayList after removal:\n",
            "Vampire\n",
            "Ghost\n",
            "Mummy\n",
            "Lich\n",
            "Skeleton\n",
            "\n",
            "The guest in room 3 is now a Mummy\n"
          ]
        }
      ]
    },
    {
      "cell_type": "markdown",
      "source": [
        "This class, `UndeadArrayTest`, first defines a fixed-size array of `String` objects, each representing a different type of undead guest. It prints out the names of the undead guests stored in the array. Next, it shifts focus to a dynamic `ArrayList` of `String` objects, showcasing how to add and remove elements dynamically, and how to access a specific element.\n",
        "\n",
        "The `main` method starts by declaring and initializing a fixed-size array of undead species. It then iterates over this array, printing each species name. Following this, an `ArrayList` is instantiated and populated with similar undead species names. The flexibility of `ArrayLists` is demonstrated by adding a \"Skeleton\" to the end of the list, removing \"Zombie\" from the list, and finally, accessing and printing the species name of the undead guest currently in the third position (index 2, as indices are zero-based).\n"
      ],
      "metadata": {
        "id": "LWFzu8Q1Psnx"
      }
    },
    {
      "cell_type": "markdown",
      "source": [
        "Some things worth noting here include:\n",
        "\n",
        "-   `String[] undeadGuests` declares an array of Strings. As discussed above, arrays in Java have a fixed size that is set on initialization.\n",
        "-   `ArrayList<String> dynamicUndeadGuests` declares an ArrayList that can hold String objects. The <> syntax specifies the type parameter, meaning this list can only hold Strings. Again, see above for more details.\n",
        "-   `for (String guest : undeadGuests)` iterates through each element in the array or ArrayList. This is a common way to loop through collections (such as ArrayLists in Java).\n",
        "-   `String` a class, not a primitive type (this is shown by the fact it is Capitalized). So an array or ArrayList of Strings actually holds references to String objects.\n",
        "-   Methods like `add()`, `remove()`, and `get()` on the ArrayList dynamically modify the contents during runtime, unlike a static array.\n",
        "-   No need to specify the ArrayList size on initialization. It will grow and shrink automatically as elements are added/removed."
      ],
      "metadata": {
        "id": "9ScLGU0ERaOm"
      }
    },
    {
      "cell_type": "markdown",
      "source": [
        "## Putting it Altogether with HotelManagement\n",
        "Now, let's take everything we've learned so far to let *users* add information on Hotel Rooms and guests."
      ],
      "metadata": {
        "id": "nA8jxuSCuiDb"
      }
    },
    {
      "cell_type": "code",
      "source": [
        "%%writefile HotelManagement.java\n",
        "import java.util.ArrayList;\n",
        "import java.util.Scanner;\n",
        "\n",
        "public class HotelManagement {\n",
        "    private ArrayList<Guest> guests = new ArrayList<>();\n",
        "    private ArrayList<Room> rooms = new ArrayList<>();\n",
        "    private Scanner scanner = new Scanner(System.in);\n",
        "\n",
        "    public void addGuest() {\n",
        "        System.out.println(\"Enter guest name:\");\n",
        "        String name = scanner.nextLine();\n",
        "        System.out.println(\"Enter guest age:\");\n",
        "        int age = Integer.parseInt(scanner.nextLine());\n",
        "        System.out.println(\"Enter guest species:\");\n",
        "        String species = scanner.nextLine();\n",
        "        System.out.println(\"Enter any special requirements:\");\n",
        "        String specialRequirements = scanner.nextLine();\n",
        "\n",
        "        Guest guest = new Guest(name, age, species, specialRequirements);\n",
        "        guests.add(guest);\n",
        "        System.out.println(\"Guest added successfully.\");\n",
        "    }\n",
        "\n",
        "    public void addRoom() {\n",
        "        System.out.println(\"Enter room number:\");\n",
        "        int roomNumber = Integer.parseInt(scanner.nextLine());\n",
        "        System.out.println(\"Enter room type:\");\n",
        "        String type = scanner.nextLine();\n",
        "        System.out.println(\"Enter nightly rate:\");\n",
        "        double nightlyRate = Double.parseDouble(scanner.nextLine());\n",
        "\n",
        "        Room room = new Room(roomNumber, type, nightlyRate);\n",
        "        rooms.add(room);\n",
        "        System.out.println(\"Room added successfully.\");\n",
        "    }\n",
        "\n",
        "    public void displayGuests() {\n",
        "        if (guests.isEmpty()) {\n",
        "            System.out.println(\"No guests found.\");\n",
        "            return;\n",
        "        }\n",
        "        for (Guest guest : guests) {\n",
        "            guest.displayGuestInfo();\n",
        "        }\n",
        "    }\n",
        "\n",
        "    public void displayRooms() {\n",
        "        if (rooms.isEmpty()) {\n",
        "            System.out.println(\"No rooms found.\");\n",
        "            return;\n",
        "        }\n",
        "        for (Room room : rooms) {\n",
        "            room.displayRoomDetails();\n",
        "        }\n",
        "    }\n",
        "}"
      ],
      "metadata": {
        "id": "tY2qtkXhuydT",
        "outputId": "95258ecb-7e59-4a4a-871e-34bddb8e16c1",
        "colab": {
          "base_uri": "https://localhost:8080/"
        }
      },
      "execution_count": 43,
      "outputs": [
        {
          "output_type": "stream",
          "name": "stdout",
          "text": [
            "Writing HotelManagement.java\n"
          ]
        }
      ]
    },
    {
      "cell_type": "code",
      "source": [
        "!javac Guest.java\n",
        "!javac Room.java\n",
        "!javac HotelManagement.java"
      ],
      "metadata": {
        "id": "9yAJuN87vBoX"
      },
      "execution_count": 44,
      "outputs": []
    },
    {
      "cell_type": "markdown",
      "source": [
        "Now, let's write client program to test this out."
      ],
      "metadata": {
        "id": "Jf0bRivuvK7i"
      }
    },
    {
      "cell_type": "code",
      "source": [
        "%%writefile HotelManagementTest.java\n",
        "import java.util.Scanner;\n",
        "\n",
        "public class HotelManagementTest{\n",
        "  public static void main(String[] args) {\n",
        "        HotelManagement hotelManagement = new HotelManagement();\n",
        "        Scanner scanner = new Scanner(System.in);\n",
        "        while (true) {\n",
        "            System.out.println(\"Choose an action: \\n1. Add Guest\\n2. Add Room\\n3. Display Guests\\n4. Display Rooms\\n5. Exit\");\n",
        "            int choice = Integer.parseInt(scanner.nextLine());\n",
        "            switch (choice) {\n",
        "                case 1:\n",
        "                    hotelManagement.addGuest();\n",
        "                    break;\n",
        "                case 2:\n",
        "                    hotelManagement.addRoom();\n",
        "                    break;\n",
        "                case 3:\n",
        "                    hotelManagement.displayGuests();\n",
        "                    break;\n",
        "                case 4:\n",
        "                    hotelManagement.displayRooms();\n",
        "                    break;\n",
        "                case 5:\n",
        "                    System.out.println(\"Exiting...\");\n",
        "                    return;\n",
        "                default:\n",
        "                    System.out.println(\"Invalid choice. Please try again.\");\n",
        "            }\n",
        "        }\n",
        "    }\n",
        "}"
      ],
      "metadata": {
        "id": "q81h8NkQvPb-",
        "outputId": "ed6ed21f-3594-4a5f-fbd3-df6ce5f0ffc8",
        "colab": {
          "base_uri": "https://localhost:8080/"
        }
      },
      "execution_count": 47,
      "outputs": [
        {
          "output_type": "stream",
          "name": "stdout",
          "text": [
            "Overwriting HotelManagementTest.java\n"
          ]
        }
      ]
    },
    {
      "cell_type": "code",
      "source": [
        "!javac HotelManagementTest.java"
      ],
      "metadata": {
        "id": "Na_gPXkAvdYF"
      },
      "execution_count": 48,
      "outputs": []
    },
    {
      "cell_type": "code",
      "source": [
        "!java HotelManagementTest"
      ],
      "metadata": {
        "colab": {
          "base_uri": "https://localhost:8080/"
        },
        "id": "sAS1bBFgPwMq",
        "outputId": "f2c3042d-7ceb-461b-85f9-4bcd3ddb8111"
      },
      "execution_count": 49,
      "outputs": [
        {
          "output_type": "stream",
          "name": "stdout",
          "text": [
            "Choose an action: \n",
            "1. Add Guest\n",
            "2. Add Room\n",
            "3. Display Guests\n",
            "4. Display Rooms\n",
            "5. Exit\n",
            "1\n",
            "Enter guest name:\n",
            "Vlad\n",
            "Enter guest age:\n",
            "783\n",
            "Enter guest species:\n",
            "Vampire\n",
            "Enter any special requirements:\n",
            "none\n",
            "Guest added successfully.\n",
            "Choose an action: \n",
            "1. Add Guest\n",
            "2. Add Room\n",
            "3. Display Guests\n",
            "4. Display Rooms\n",
            "5. Exit\n",
            "3\n",
            "Guest Name: Vlad\n",
            "Age: 783\n",
            "Species: Vampire\n",
            "Special Requirements: none\n",
            "Choose an action: \n",
            "1. Add Guest\n",
            "2. Add Room\n",
            "3. Display Guests\n",
            "4. Display Rooms\n",
            "5. Exit\n",
            "5\n",
            "Exiting...\n"
          ]
        }
      ]
    }
  ]
}