{
  "nbformat": 4,
  "nbformat_minor": 0,
  "metadata": {
    "colab": {
      "provenance": [],
      "authorship_tag": "ABX9TyMUsoW3WiWq3NUkD+KFod4J",
      "include_colab_link": true
    },
    "kernelspec": {
      "name": "python3",
      "display_name": "Python 3"
    },
    "language_info": {
      "name": "python"
    }
  },
  "cells": [
    {
      "cell_type": "markdown",
      "metadata": {
        "id": "view-in-github",
        "colab_type": "text"
      },
      "source": [
        "<a href=\"https://colab.research.google.com/github/brendanpshea/programming_problem_solving/blob/main/Programming_08_OOP.ipynb\" target=\"_parent\"><img src=\"https://colab.research.google.com/assets/colab-badge.svg\" alt=\"Open In Colab\"/></a>"
      ]
    },
    {
      "cell_type": "markdown",
      "source": [
        "# What is Object-Oriented Programming (OOP)?\n",
        "\n",
        "**Object-Oriented Programming (OOP)** is a programming **paradigm**---a model or philosophy for writing software programs. It's based on the idea of breaking down software into smaller pieces, known as **objects**, which represent real-world or conceptual entities. Each object can hold data **(attributes)** and **methods**. Data refers to the attributes or properties of an object, essentially what an object has. Methods are the actions or behaviors an object can perform, essentially what an object does.\n",
        "\n",
        "In OOP, programs are designed by making them out of objects that interact with one another. This approach is inspired by how things work in the real world, making it easier for programmers to think about and manage their code. The two basic concepts of OOP--from which everything else follows--are these:\n",
        "-   A **class** is a blueprint for creating objects. A class defines the data and methods that its objects will contain.\n",
        "-   An **Object** is an instance of a class. If a class is like a blueprint, an object is like a house built from that blueprint. Each object has its own set of data and methods, according to the class definition."
      ],
      "metadata": {
        "id": "mMfsA6WCcUDN"
      }
    },
    {
      "cell_type": "markdown",
      "source": [
        "## Classes and Objects at Hotel Transylvania\n",
        "Let's return to an examples from an earlier chapter--that of the Hotel Transylvania. Suppose that we've been hired to build a system for handling hotel registration. In real life, this sort of large-scale software system would much more likely be written in a language like Java than in Python. To get started, though, let's think about a few of the classes and objects that make up the **ontology** (the \"things that exist\") in this problem domain.\n",
        "\n",
        "### class Guest\n",
        "This class represents an individual staying at the hotel, with various personal and species-specific needs.\n",
        "\n",
        "-   Attributes include the guest's name, age, species, room number, and special requirements, which provide detailed information about the guest for personalized service.\n",
        "-   Methods like checkIn(), requestService(), and checkOut() facilitate interactions between the guest and hotel services, ensuring their stay is comfortable and their needs are met.\n",
        "-   An example object could be Dracula, with name \"Dracula\", age 537, species \"Vampire\", room number 666, and special requirement \"Blackout curtains\", who checks in, requests nocturnal room service, and checks out.\n",
        "\n",
        "### class Room\n",
        "This class encapsulates the characteristics and functionalities of a hotel room, tailored to accommodate guests of all species.\n",
        "\n",
        "-   Attributes include the room's number, type, occupancy limit, and special features, detailing the room's capacity and amenities to ensure it meets the needs of its occupants.\n",
        "-   Methods like isAvailable(), bookRoom(), and vacateRoom() manage the room's booking status, assigning it to guests and preparing it for new arrivals.\n",
        "-   An example object could be a Suite with number 101, type \"Suite\", occupancy limit 4, and special features \"Moonlight windows\", available for booking by werewolf families.\n",
        "\n",
        "### class Bill\n",
        "THis class details the financial transactions associated with a guest's stay, including room charges and additional services.\n",
        "\n",
        "-   Attributes cover the bill number, guest name, room charge, additional services, and total amount, providing a comprehensive summary of the guest's expenses.\n",
        "-   Methods like addItem() and calculateTotal() add charges for extra services and compute the final bill, incorporating any species-specific discounts.\n",
        "-   An example object could be Bill#1234 for guest \"Dracula\", with room charge \\$300, additional services \\$50, leading to a total amount of \\$350 after special vampire discounts.\n",
        "\n",
        "### class Animal\n",
        "This class represents pets or companions of guests, catering to the diverse fauna that accompanies the hotel's clientele.\n",
        "\n",
        "-   Attributes include the animal's name, species, age, and owner name, identifying the animal and ensuring its needs are met in line with its species.\n",
        "-   Methods like play() and feed() provide for the animal's well-being, with activities and meals suited to its species.\n",
        "-   An example object could be a pet bat named \"Fluffy\", species \"Bat\", age 3, owned by \"Dracula\", who enjoys nocturnal play and is fed a diet of insect-based dishes.\n",
        "\n",
        "### class FoodItem\n",
        "This class details the various dishes available at the hotel, with considerations for the dietary restrictions of its diverse guests.\n",
        "\n",
        "-   Attributes include the food item's name, type, price, and dietary restrictions, ensuring it can be matched to guest preferences and health requirements.\n",
        "-   Methods like prepare() and serve() ensure the food item is made according to specific dietary needs and served to the guest's satisfaction.\n",
        "-   An example object could be a dish named \"Moonlit Mushroom Risotto\", type \"Entrée\", price $20, catering to \"Werewolf-friendly, vegetarian\", prepared with nightshade mushrooms and served under moonlight for enhanced flavor."
      ],
      "metadata": {
        "id": "GvV7_LvGzYIz"
      }
    },
    {
      "cell_type": "markdown",
      "source": [
        "## How do I Create Classes and Objects in Java?\n",
        "\n",
        "Creating classes and objects in Java involves two main steps. First, you define a class, which serves as a template or blueprint for your objects. This class includes declarations for the attributes (data) and methods (behaviors) that the objects created from this class will have. Second, you create objects from this class, which are instances embodying the defined attributes and methods.\n",
        "\n",
        "### Defining a Class\n",
        "\n",
        "A class in Java is defined using the `class` keyword, followed by the class name and a pair of curly braces `{}`. Inside these braces, you declare the class's attributes and methods.\n",
        "\n",
        "- **Attributes** are variables that hold data about the state of an object. They are defined by specifying a data type and a name for the variable.\n",
        "- **Methods** are blocks of code that define the behaviors of the objects. A method in Java is created by specifying a return type (the type of value the method sends back to its caller), the method's name, and a pair of parentheses `()`. If the method takes parameters, you list them inside these parentheses.\n",
        "- A **constructor** is a special method that has the same name as the class. It is called whenever new objects are created from the class.\n",
        "- Every Java program (though not necessarily every Java class) must have a **main** method. This is the method that gets called when the program is \"run.\"\n",
        "\n",
        "Let's take a look at how we might create our Guest class from before."
      ],
      "metadata": {
        "id": "vfk7CGOmdf9e"
      }
    },
    {
      "cell_type": "code",
      "source": [
        "public class Guest {\n",
        "    // Attributes of the Guest class\n",
        "    private String name;\n",
        "    private int age;\n",
        "    private String species;\n",
        "    private String specialRequirements;\n",
        "\n",
        "    // Constructor to initialize the Guest object\n",
        "    public Guest(String name, int age, String species, String specialRequirements) {\n",
        "        this.name = name;\n",
        "        this.age = age;\n",
        "        this.species = species;\n",
        "        this.specialRequirements = specialRequirements;\n",
        "    }\n",
        "\n",
        "    // Method to return the guest's name\n",
        "    public String getName() {\n",
        "        return name;\n",
        "    }\n",
        "\n",
        "    // Method to set the guest's name\n",
        "    public void setName(String name) {\n",
        "        this.name = name;\n",
        "    }\n",
        "\n",
        "    // Method to return the guest's age\n",
        "    public int getAge() {\n",
        "        return age;\n",
        "    }\n",
        "\n",
        "    // Method to set the guest's age\n",
        "    public void setAge(int age) {\n",
        "        this.age = age;\n",
        "    }\n",
        "\n",
        "    // Method to return the guest's species\n",
        "    public String getSpecies() {\n",
        "        return species;\n",
        "    }\n",
        "\n",
        "    // Method to set the guest's species\n",
        "    public void setSpecies(String species) {\n",
        "        this.species = species;\n",
        "    }\n",
        "\n",
        "    // Method to return the guest's special requirements\n",
        "    public String getSpecialRequirements() {\n",
        "        return specialRequirements;\n",
        "    }\n",
        "\n",
        "    // Method to set the guest's special requirements\n",
        "    public void setSpecialRequirements(String specialRequirements) {\n",
        "        this.specialRequirements = specialRequirements;\n",
        "    }\n",
        "\n",
        "    // Method to display guest information\n",
        "    public void displayGuestInfo() {\n",
        "        System.out.println(\"Guest Name: \" + name);\n",
        "        System.out.println(\"Age: \" + age);\n",
        "        System.out.println(\"Species: \" + species);\n",
        "        System.out.println(\"Special Requirements: \" + specialRequirements);\n",
        "    }\n",
        "}\n"
      ],
      "metadata": {
        "id": "ye-5gcvW1w3C"
      },
      "execution_count": null,
      "outputs": []
    },
    {
      "cell_type": "code",
      "source": [],
      "metadata": {
        "id": "wWhS6exdk62M"
      },
      "execution_count": null,
      "outputs": []
    }
  ]
}