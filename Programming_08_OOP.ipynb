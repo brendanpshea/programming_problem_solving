{
  "cells": [
    {
      "cell_type": "markdown",
      "metadata": {
        "colab_type": "text",
        "id": "view-in-github"
      },
      "source": [
        "<a href=\"https://colab.research.google.com/github/brendanpshea/programming_problem_solving/blob/main/Programming_08_OOP.ipynb\" target=\"_parent\"><img src=\"https://colab.research.google.com/assets/colab-badge.svg\" alt=\"Open In Colab\"/></a>"
      ]
    },
    {
      "cell_type": "markdown",
      "metadata": {
        "id": "mMfsA6WCcUDN"
      },
      "source": [
        "# What is Object-Oriented Programming (OOP)?\n",
        "\n",
        "**Object-Oriented Programming (OOP)** is a programming **paradigm**---a model or philosophy for writing software programs. It's based on the idea of breaking down software into smaller pieces, known as **objects**, which represent real-world or conceptual entities. Each object can hold data **(attributes)** and **methods**. Data refers to the attributes or properties of an object, essentially what an object has. Methods are the actions or behaviors an object can perform, essentially what an object does.\n",
        "\n",
        "In OOP, programs are designed by making them out of objects that interact with one another. This approach is inspired by how things work in the real world, making it easier for programmers to think about and manage their code. The two basic concepts of OOP--from which everything else follows--are these:\n",
        "-   A **class** is a blueprint for creating objects. A class defines the data and methods that its objects will contain.\n",
        "-   An **Object** is an instance of a class. If a class is like a blueprint, an object is like a house built from that blueprint. Each object has its own set of data and methods, according to the class definition.\n",
        "\n",
        "In this lesson, we'll see two key features of OOP: encapsulation and abstraction.\n",
        "\n",
        "- **Encapsulation** is the practice of hiding the internal details of an object and only exposing the necessary information to the outside world. This is achieved by bundling data and the methods that operate on that data within a single unit, such as a class. By keeping data private and only allowing access through public methods, encapsulation helps to protect the internal state of an object from unauthorized access and modification.\n",
        "- **Abstraction** is the process of representing complex systems in a simplified way by focusing on essential features and ignoring unnecessary details. In object-oriented programming, abstraction is achieved by creating classes that represent real-world objects or concepts, and defining only the necessary methods and properties to interact with those objects. This helps to make code more modular, readable, and maintainable.\n"
      ]
    },
    {
      "cell_type": "markdown",
      "metadata": {},
      "source": [
        "### Getting Chapter Code (if using cs50.dev)\n",
        "Once you are logged into cs50.dev, you can easily download the code from this chapter. In the terminal, just type the following:\n",
        "\n",
        "```\n",
        "wget https://github.com/brendanpshea/programming_problem_solving/raw/main/java/ch08.zip\n",
        "\n",
        "unzip ch08.zip\n",
        "\n",
        "rm ch08.zip\n",
        "\n",
        "cd ch08\n",
        "\n",
        "```\n",
        "This (1) downloads a zip file with the code, (2) unzips it, (3) deletes the zip file, and (4) puts you in the directory with the code."
      ]
    },
    {
      "cell_type": "markdown",
      "metadata": {
        "id": "GvV7_LvGzYIz"
      },
      "source": [
        "## Classes and Objects at Hotel Transylvania\n",
        "Let's return to an examples from an earlier chapter--that of the Hotel Transylvania. Suppose that we've been hired to build a system for handling hotel registration. In real life, this sort of large-scale software system would much more likely be written in a language like Java than in Python. To get started, though, let's think about a few of the classes and objects that make up the **ontology** (the \"things that exist\") in this problem domain.\n",
        "\n",
        "### class Guest\n",
        "This class represents an individual staying at the hotel, with various personal and species-specific needs.\n",
        "\n",
        "-   Attributes include the guest's name, age, species, room number, and special requirements, which provide detailed information about the guest for personalized service.\n",
        "-   Methods like checkIn(), requestService(), and checkOut() facilitate interactions between the guest and hotel services, ensuring their stay is comfortable and their needs are met.\n",
        "-   An example object could be Dracula, with name \"Dracula\", age 537, species \"Vampire\", room number 666, and special requirement \"Blackout curtains\", who checks in, requests nocturnal room service, and checks out.\n",
        "\n",
        "### class Room\n",
        "This class encapsulates the characteristics and functionalities of a hotel room, tailored to accommodate guests of all species.\n",
        "\n",
        "-   Attributes include the room's number, type, occupancy limit, and special features, detailing the room's capacity and amenities to ensure it meets the needs of its occupants.\n",
        "-   Methods like isAvailable(), bookRoom(), and vacateRoom() manage the room's booking status, assigning it to guests and preparing it for new arrivals.\n",
        "-   An example object could be a Suite with number 101, type \"Suite\", occupancy limit 4, and special features \"Moonlight windows\", available for booking by werewolf families.\n",
        "\n",
        "### class Bill\n",
        "THis class details the financial transactions associated with a guest's stay, including room charges and additional services.\n",
        "\n",
        "-   Attributes cover the bill number, guest name, room charge, additional services, and total amount, providing a comprehensive summary of the guest's expenses.\n",
        "-   Methods like addItem() and calculateTotal() add charges for extra services and compute the final bill, incorporating any species-specific discounts.\n",
        "-   An example object could be Bill#1234 for guest \"Dracula\", with room charge \\$300, additional services \\$50, leading to a total amount of \\$350 after special vampire discounts.\n",
        "\n",
        "### class Animal\n",
        "This class represents pets or companions of guests, catering to the diverse fauna that accompanies the hotel's clientele.\n",
        "\n",
        "-   Attributes include the animal's name, species, age, and owner name, identifying the animal and ensuring its needs are met in line with its species.\n",
        "-   Methods like play() and feed() provide for the animal's well-being, with activities and meals suited to its species.\n",
        "-   An example object could be a pet bat named \"Fluffy\", species \"Bat\", age 3, owned by \"Dracula\", who enjoys nocturnal play and is fed a diet of insect-based dishes.\n",
        "\n",
        "### class FoodItem\n",
        "This class details the various dishes available at the hotel, with considerations for the dietary restrictions of its diverse guests.\n",
        "\n",
        "-   Attributes include the food item's name, type, price, and dietary restrictions, ensuring it can be matched to guest preferences and health requirements.\n",
        "-   Methods like prepare() and serve() ensure the food item is made according to specific dietary needs and served to the guest's satisfaction.\n",
        "-   An example object could be a dish named \"Moonlit Mushroom Risotto\", type \"Entrée\", price $20, catering to \"Werewolf-friendly, vegetarian\", prepared with nightshade mushrooms and served under moonlight for enhanced flavor."
      ]
    },
    {
      "cell_type": "markdown",
      "metadata": {
        "id": "vfk7CGOmdf9e"
      },
      "source": [
        "## How do I Create Classes and Objects in Java?\n",
        "\n",
        "Creating classes and objects in Java involves two main steps. First, you define a class, which serves as a template or blueprint for your objects. This class includes declarations for the attributes (data) and methods (behaviors) that the objects created from this class will have. Second, you create objects from this class, which are instances embodying the defined attributes and methods.\n",
        "\n",
        "### Defining a Class\n",
        "\n",
        "A class in Java is defined using the `class` keyword, followed by the class name and a pair of curly braces `{}`. Inside these braces, you declare the class's attributes and methods.\n",
        "\n",
        "- **Attributes** are variables that hold data about the state of an object. They are defined by specifying a data type and a name for the variable.\n",
        "- **Methods** are blocks of code that define the behaviors of the objects. A method in Java is created by specifying a return type (the type of value the method sends back to its caller), the method's name, and a pair of parentheses `()`. If the method takes parameters, you list them inside these parentheses.\n",
        "- A **constructor** is a special method that has the same name as the class. It is called whenever new objects are created from the class.\n",
        "- Every Java program (though not necessarily every Java class) must have a **main** method. This is the method that gets called when the program is \"run.\"\n",
        "\n",
        "Let's take a look at how we might create our Guest class from before. Here, we're just going to focus on basic methods that you'll see in many Java classes."
      ]
    },
    {
      "cell_type": "code",
      "execution_count": null,
      "metadata": {
        "colab": {
          "base_uri": "https://localhost:8080/"
        },
        "id": "ye-5gcvW1w3C",
        "outputId": "dc3b8aa8-eea9-47c5-a92a-40633116cf67"
      },
      "outputs": [
        {
          "name": "stdout",
          "output_type": "stream",
          "text": [
            "Writing Guest.java\n"
          ]
        }
      ],
      "source": [
        "%%writefile Guest.java\n",
        "public class Guest {\n",
        "    // Attributes of the Guest class\n",
        "    private String name;\n",
        "    private int age;\n",
        "    private String species;\n",
        "    private String specialRequirements;\n",
        "\n",
        "    // Constructor to initialize the Guest object\n",
        "    public Guest(String name, int age, String species, String specialRequirements) {\n",
        "        this.name = name;\n",
        "        this.age = age;\n",
        "        this.species = species;\n",
        "        this.specialRequirements = specialRequirements;\n",
        "    }\n",
        "\n",
        "    // Method to return the guest's name\n",
        "    public String getName() {\n",
        "        return name;\n",
        "    }\n",
        "\n",
        "    // Method to set the guest's name\n",
        "    public void setName(String name) {\n",
        "        this.name = name;\n",
        "    }\n",
        "\n",
        "    // Method to return the guest's age\n",
        "    public int getAge() {\n",
        "        return age;\n",
        "    }\n",
        "\n",
        "    // Method to set the guest's age\n",
        "    public void setAge(int age) {\n",
        "        this.age = age;\n",
        "    }\n",
        "\n",
        "    // Method to return the guest's species\n",
        "    public String getSpecies() {\n",
        "        return species;\n",
        "    }\n",
        "\n",
        "    // Method to set the guest's species\n",
        "    public void setSpecies(String species) {\n",
        "        this.species = species;\n",
        "    }\n",
        "\n",
        "    // Method to return the guest's special requirements\n",
        "    public String getSpecialRequirements() {\n",
        "        return specialRequirements;\n",
        "    }\n",
        "\n",
        "    // Method to set the guest's special requirements\n",
        "    public void setSpecialRequirements(String specialRequirements) {\n",
        "        this.specialRequirements = specialRequirements;\n",
        "    }\n",
        "\n",
        "    // Method to display guest information\n",
        "    public void displayGuestInfo() {\n",
        "        System.out.println(\"Guest Name: \" + name);\n",
        "        System.out.println(\"Age: \" + age);\n",
        "        System.out.println(\"Species: \" + species);\n",
        "        System.out.println(\"Special Requirements: \" + specialRequirements);\n",
        "    }\n",
        "}\n"
      ]
    },
    {
      "cell_type": "markdown",
      "metadata": {
        "id": "fgTShX1ME1Ym"
      },
      "source": [
        "Now, we can compile this class as before (using `javac`). However, because this class doesn't have a `main()` function, we can't run it yet."
      ]
    },
    {
      "cell_type": "code",
      "execution_count": null,
      "metadata": {
        "id": "sdlRr0eJEzkW"
      },
      "outputs": [],
      "source": [
        "# Compiling works fine.\n",
        "!javac Guest.java"
      ]
    },
    {
      "cell_type": "code",
      "execution_count": null,
      "metadata": {
        "colab": {
          "base_uri": "https://localhost:8080/"
        },
        "id": "wWhS6exdk62M",
        "outputId": "aa37505a-10db-4d6c-f430-7442613be508"
      },
      "outputs": [
        {
          "name": "stdout",
          "output_type": "stream",
          "text": [
            "error: class found on application class path: Guest\n"
          ]
        }
      ],
      "source": [
        "# This will lead to an error!\n",
        "# There is no main() method, so no \"application\"\n",
        "!java Guest.java"
      ]
    },
    {
      "cell_type": "markdown",
      "metadata": {
        "id": "trAYrFlRGcDf"
      },
      "source": [
        "## Breaking Down Guest.java\n",
        "\n",
        "While `Guest.java` is pretty bare bones at this point, it illustrates the basic structure of how classes work. Let's walk through some of the main components.\n",
        "\n",
        "### Access Modifiers\n",
        "\n",
        "**Access modifiers** in Java determine the scope of access for classes, methods, and variables. They control where and how the members of a class can be accessed from other parts of your code. The Guest class utilizes two primary access modifiers: `private` and `public`.\n",
        "\n",
        "-   **private**. This modifier restricts the visibility to the class itself. For instance, the attributes `name`, `age`, `species`, and `specialRequirements` are marked as `private`, meaning they cannot be directly accessed from outside the Guest class. This encapsulation ensures that the internal state of an object is protected and can only be accessed through the class's public methods.\n",
        "\n",
        "-   **public.** This modifier allows members to be accessible from any other class. In the Guest class, methods such as `getName()`, `setName(String name)`, and `displayGuestInfo()` are declared `public`, making them accessible from other classes. This enables other parts of your program to interact with instances of Guest, while still keeping certain details private and controlled."
      ]
    },
    {
      "cell_type": "markdown",
      "metadata": {
        "id": "h5VWrbx3JDv7"
      },
      "source": [
        "\n",
        "### Constructors\n",
        "\n",
        "A **constructor** is a special method in a class that is called when an object of that class is instantiated. Constructors have the same name as the class and do not have a return type. They are used to initialize the object's properties with specific values at the time of creation.\n",
        "\n",
        "In the Guest class, the constructor is defined as:\n",
        "\n",
        "```java\n",
        "public Guest(String name, int age, String species, String specialRequirements) {\n",
        "    this.name = name;\n",
        "    this.age = age;\n",
        "    this.species = species;\n",
        "    this.specialRequirements = specialRequirements;\n",
        "}\n",
        "```\n",
        "\n",
        "This constructor allows for the creation of Guest objects with initial values for `name`, `age`, `species`, and `specialRequirements`. The use of `this` keyword helps to distinguish between class attributes and constructor parameters when their names are the same.\n",
        "\n",
        "Later, when we create particular Guests (which are *objects*), we will implicitly rely on this instructor do this. For example:\n",
        "\n",
        "```java\n",
        "        // Creating an object for Dracula\n",
        "        Guest dracula = new Guest(\"Count Dracula\", 537, \"Vampire\", \"Blackout curtains for daytime sleep\");\n",
        "\n",
        "        // Creating an object for a Werewolf\n",
        "        Guest werewolf = new Guest(\"Larry Talbot\", 150, \"Werewolf\", \"Extra-large moonlit room\");\n",
        "\n",
        "        // Creating an object for a Frankenstein's Monster\n",
        "        Guest frankenstein = new Guest(\"Frankie Stein\", 200, \"Monster\", \"Electric recharge station\");\n",
        "```"
      ]
    },
    {
      "cell_type": "markdown",
      "metadata": {
        "id": "5tY7VQySJGJa"
      },
      "source": [
        "\n",
        "### Getter Methods\n",
        "\n",
        "**Getter methods**, also known as **accessors**, are `public` methods that allow other classes to retrieve the value of private attributes. Each private attribute typically has a corresponding getter method.\n",
        "\n",
        "For example, the method to get the `name` of a guest is:\n",
        "\n",
        "```java\n",
        "public String getName() {\n",
        "    return name;\n",
        "}\n",
        "```\n",
        "\n",
        "This method provides read access to the `name` attribute. Since `name` is private, without this getter, external classes would not be able to obtain the `name` of a Guest object."
      ]
    },
    {
      "cell_type": "markdown",
      "metadata": {
        "id": "h71nCIG-JKVX"
      },
      "source": [
        "### Setter Methods\n",
        "\n",
        "**Setter methods**, also known as **mutators**, are `public` methods that allow other classes to set or modify the value of private attributes. They typically return void and take a parameter that is used to set the value of the attribute.\n",
        "\n",
        "For instance, the method to set the `name` of a guest is:\n",
        "\n",
        "```java\n",
        "public void setName(String name) {\n",
        "    this.name = name;\n",
        "}\n",
        "```\n",
        "\n",
        "This method provides write access to the `name` attribute. It allows external classes to change the name of a Guest object after it has been instantiated. The use of the `this` keyword is crucial here to refer to the instance variable `name`, distinguishing it from the parameter `name`.\n"
      ]
    },
    {
      "cell_type": "markdown",
      "metadata": {
        "id": "a6oUTYlhNba_"
      },
      "source": [
        "### Putting our Class to Work\n",
        "\n",
        "Java **applications** usually consist of multiple classes, each class defined in its own file. A class is a blueprint from which individual objects are created. It defines the state and behavior that the objects of the class all share. For instance, in a hotel management system, you might have classes like `Guest`, `Room`, `Bill`, etc.\n",
        "\n",
        "Each Java file should be named after the public class it contains, ensuring that the file name matches the class name, including capitalization, with the file extension being `.java`. For example, a class named `Guest` would be in a file named `Guest.java`.\n",
        "\n",
        "### The `main()` Method\n",
        "\n",
        "Every Java application must have a `main()` method, as this is the entry point of the application. The `main()` method is always static, meaning it can be called without creating an instance of the class. It must also be public, allowing it to be accessible from anywhere. The signature of the `main()` method looks like this:\n",
        "\n",
        "```java\n",
        "public static void main(String[] args) {\n",
        "    // code to be executed\n",
        "}\n",
        "```\n",
        "\n",
        "The `String[] args` parameter is used to pass command-line arguments to the application, although it may not always be used within the method.\n",
        "\n",
        "### Creating Objects with `new`\n",
        "\n",
        "Objects are instances of classes. To create an object, Java uses the `new` keyword, which allocates memory for the new object and returns a reference to that memory. This reference is usually stored in a variable for later use. Here's how you typically use `new` to create an object:\n",
        "\n",
        "```java\n",
        "ClassName objectName = new ClassName(arguments);\n",
        "```\n",
        "\n",
        "-   `ClassName` is the name of the class you wish to create an object of.\n",
        "-   `objectName` is the variable name you assign to the object.\n",
        "-   `new` is the keyword that creates the object.\n",
        "-   `ClassName(arguments)` is the constructor of the class, which initializes the new object.\n",
        "\n",
        "For example, to create a `Guest` object in a hotel management system, you might write:\n",
        "\n",
        "```java\n",
        "\n",
        "Guest guest1 = new Guest(\"Count Dracula\", 537, \"Vampire\", \"Blackout curtains\");\n",
        "```\n",
        "\n",
        "Here, `guest1` is an instance of the `Guest` class, created with specific attributes defined by the class's constructor."
      ]
    },
    {
      "cell_type": "markdown",
      "metadata": {
        "id": "kFO7CF3WNkNB"
      },
      "source": [
        "### Example: A Java Application\n",
        "Ok, we now have all the components to put together our Java application."
      ]
    },
    {
      "cell_type": "code",
      "execution_count": null,
      "metadata": {
        "colab": {
          "base_uri": "https://localhost:8080/"
        },
        "id": "u3i8JJykHlTu",
        "outputId": "2a8a19f5-3a44-4fb5-a6ea-41847b95f06f"
      },
      "outputs": [
        {
          "name": "stdout",
          "output_type": "stream",
          "text": [
            "Overwriting GuestTest.java\n"
          ]
        }
      ],
      "source": [
        "%%writefile GuestTest.java\n",
        "public class GuestTest {\n",
        "    public static void main(String[] args) {\n",
        "        // Creating an object for Dracula\n",
        "        Guest dracula = new Guest(\"Count Dracula\", 537, \"Vampire\", \"Blackout curtains for daytime sleep\");\n",
        "        // Suppose Dracula decides to update his special requirements\n",
        "        dracula.setSpecialRequirements(\"Blackout curtains and soundproof walls\");\n",
        "\n",
        "        // Creating an object for a Werewolf\n",
        "        Guest werewolf = new Guest(\"Larry Talbot\", 150, \"Werewolf\", \"Extra-large moonlit room\");\n",
        "        // Checking Larry's species\n",
        "        System.out.println(werewolf.getName() + \" is a \" + werewolf.getSpecies());\n",
        "\n",
        "        // Creating an object for a Frankenstein's Monster\n",
        "        Guest frankenstein = new Guest(\"Frankie Stein\", 200, \"Monster\", \"Electric recharge station\");\n",
        "        // Frankie decides to change his name to \"Frank\"\n",
        "        frankenstein.setName(\"Frank\");\n",
        "\n",
        "        // Display information for each guest\n",
        "        dracula.displayGuestInfo();\n",
        "        werewolf.displayGuestInfo();\n",
        "        frankenstein.displayGuestInfo();\n",
        "    }\n",
        "}\n",
        "\n"
      ]
    },
    {
      "cell_type": "code",
      "execution_count": null,
      "metadata": {
        "id": "hKrc_SV2ONXc"
      },
      "outputs": [],
      "source": [
        "!javac Guest.java\n",
        "!javac GuestTest.java"
      ]
    },
    {
      "cell_type": "code",
      "execution_count": null,
      "metadata": {
        "colab": {
          "base_uri": "https://localhost:8080/"
        },
        "id": "rCtB7vqYORf3",
        "outputId": "491a3dfa-dbc3-4194-a992-7a2ce447cc5a"
      },
      "outputs": [
        {
          "name": "stdout",
          "output_type": "stream",
          "text": [
            "Larry Talbot is a Werewolf\n",
            "Guest Name: Count Dracula\n",
            "Age: 537\n",
            "Species: Vampire\n",
            "Special Requirements: Blackout curtains and soundproof walls\n",
            "Guest Name: Larry Talbot\n",
            "Age: 150\n",
            "Species: Werewolf\n",
            "Special Requirements: Extra-large moonlit room\n",
            "Guest Name: Frank\n",
            "Age: 200\n",
            "Species: Monster\n",
            "Special Requirements: Electric recharge station\n"
          ]
        }
      ],
      "source": [
        "!java GuestTest"
      ]
    },
    {
      "cell_type": "markdown",
      "metadata": {
        "id": "3v112eCOkJAB"
      },
      "source": [
        "The GuestTest class is a simple Java application that shows how to create and manipulate objects. It's designed to simulate a basic system for managing guests in a hotel, specifically tailored to the whimsical and spooky guests of the fictional Hotel Transylvania. Some things of importance:\n",
        "\n",
        "1. The `main` method serves as the entry point for any standalone Java application. When you run a Java program, the execution starts from the `main` method.\n",
        " -   It's declared as `public static void main(String[] args)`. The `public` modifier means it can be called from any other class, `static` allows it to be invoked without creating an instance of its class, `void` means it doesn't return any value, and `String[] args` is an array of strings that stores command-line arguments.\n",
        "2. In the `main` method, we create instances (objects) of the `Guest` class using the `new` keyword. This process is known as object instantiation. Each object represents a different guest at the hotel with unique attributes like name, age, species, and special requirements.\n",
        " -   For example, `Guest dracula = new Guest(\"Count Dracula\", 537, \"Vampire\", \"Blackout curtains for daytime sleep\");` This line creates a new `Guest` object named `dracula` with the provided attributes.\n",
        "3. After creating objects, you can call methods on these objects to perform actions or access their data. In this class, we assume a `displayGuestInfo()` method exists within the `Guest` class, which prints out the guest's details.\n",
        " -   `dracula.displayGuestInfo();` This line calls the `displayGuestInfo()` method on the `dracula` object, which should display Dracula's information.\n",
        "4. Getter and setter methods are commonly used to access and modify the private attributes of a class.\n",
        " -   A method call like `werewolf.getName()` allows external access to a guest's name in a controlled manner.\n",
        " -   Similarly, a method like `frankenstein.setName(\"Frank\")` allows the name of a guest to be changed after the object has been created.\n",
        "\n",
        " And with this, we've created our first multi-class Java application! Of course, most \"real-world\" Java applications contain *many* classes. In the next section of this chapter, we'll start exploring how this works."
      ]
    },
    {
      "cell_type": "markdown",
      "metadata": {
        "id": "QoyPqjb2mo0S"
      },
      "source": [
        "## Review Questions\n",
        "1.  What is Object-Oriented Programming (OOP) and how does it differ from procedural programming?\n",
        "\n",
        "2.  Define a class in OOP. How does it differ from an object? Give three examples of classes related to something of interest to you. Describe their attributes and methods. Then, give examples of objects.\n",
        "\n",
        "3.  What are access modifiers in Java? Why are some methods and attributes `public`, while others are `private`?\n",
        "\n",
        "4.  Describe the purpose of constructor methods in Java classes. How do these relate to the creation of new objects?\n"
      ]
    },
    {
      "cell_type": "markdown",
      "metadata": {
        "id": "soZFXKtDsPyA"
      },
      "source": [
        "## My Answers\n",
        "1.\n",
        "\n",
        "2.\n",
        "\n",
        "3.\n",
        "\n",
        "4."
      ]
    },
    {
      "cell_type": "markdown",
      "metadata": {
        "id": "iAsM2agOsSeY"
      },
      "source": [
        "## Exercise\n",
        "Complete the following `GuestTest2` class so that it does the following:\n",
        "\n",
        "1. Creates three new guests for the hotel. (Different from the ones I used earlier).\n",
        "2. Demonstrates the use of least one \"setter\" method and one \"getter\" method.\n",
        "3. Displays the information on the Guests.\n",
        "\n",
        "This can be closely based on `GuestTest`. Note that this program will NOT run unless you make sure to compile the `Guest` class first."
      ]
    },
    {
      "cell_type": "code",
      "execution_count": null,
      "metadata": {
        "id": "2kpNWIFOs4oz"
      },
      "outputs": [],
      "source": [
        "%%writefile GuestTest2.java\n",
        "public class GuestTest2 {\n",
        "    public static void main(String[] args) {\n",
        "        // TODO: Create three objects representing GuestTest\n",
        "\n",
        "        // TODO: Show how to use at least one getter method\n",
        "\n",
        "        // TODO: Show how to use at least one setter method\n",
        "\n",
        "        // TODO: Display guest info\n",
        "    }\n",
        "}\n"
      ]
    },
    {
      "cell_type": "code",
      "execution_count": null,
      "metadata": {
        "id": "CHhMKVhttKfg"
      },
      "outputs": [],
      "source": [
        "!javac Guest.java\n",
        "!javac GuestTest2.java"
      ]
    },
    {
      "cell_type": "code",
      "execution_count": null,
      "metadata": {
        "id": "k8Zon4AgtNDB"
      },
      "outputs": [],
      "source": [
        "!java GuestTest2"
      ]
    },
    {
      "cell_type": "markdown",
      "metadata": {
        "id": "1EpovzKpztaZ"
      },
      "source": [
        "### Why Didn't My Java Program Run?\n",
        "\n",
        "When working with Java, especially for beginners, running into issues where your program won't run as expected is common. Let's explore some typical problems you might face when working with a `Guest` class and its corresponding test class, `GuestTest`.\n",
        "\n",
        "**1\\. Class Name and File Name Mismatch.** The name of the public class must exactly match the name of the file it is in, considering Java's case sensitivity. For example, If your public class is named `Guest`, the file name must be `Guest.java`. Similarly, for `GuestTest`, the file name should be `GuestTest.java`. Any deviation, including differences in capitalization, will prevent your Java program from compiling correctly.\n",
        "\n",
        "**2\\. Incorrect Directory Placement.**  Java doesn't require a specific directory structure if you're not using packages, but your source files (`Guest.java` and `GuestTest.java`) need to be in the directory where you compile and run them, or you need to specify their location if compiling from a different directory. For example, of you're compiling from the directory above your source code, you need to specify the path to the `.java` files, like `javac myproject/Guest.java myproject/GuestTest.java`.\n",
        "\n",
        "**3\\. Compilation Errors.** Java requires that you compile your source code into bytecode (`Guest.class` and `GuestTest.class`) before you can run it. Compilation issues can arise from syntax errors or missing dependencies. For example, if `GuestTest` depends on `Guest` (e.g., it creates a `Guest` object), you must compile `Guest.java` before `GuestTest.java`. Otherwise, you'll encounter compilation errors.\n",
        "\n",
        "**4\\. Incorrect Execution Command or Sequence.**  After compiling, you run your program with the `java` command followed by the class name without the `.class` extension. Ensure you've compiled all necessary classes first. For example, to run `GuestTest`, ensure both `Guest` and `GuestTest` are compiled. Then execute `java GuestTest` in the command line. Running the class without compiling it or using the wrong class name for execution will result in errors.\n",
        "\n",
        "**5\\. Dependencies and Typographical Errors.**  If your classes depend on each other or external libraries, ensure all dependencies are resolved and available at compile time. Additionally, Java's case sensitivity means typographical errors can prevent your program from running. For example, if `GuestTest` uses methods from `Guest`, any typo in method names or incorrect method calls (e.g., using `Getname` instead of `getName` if it's defined as such in `Guest`) will cause compile-time errors."
      ]
    },
    {
      "cell_type": "markdown",
      "metadata": {
        "id": "RYnmy8Ifoj02"
      },
      "source": [
        "## The Room Class Design\n",
        "\n",
        "Now that we understand the basic idea of classes and objects, let's try our hand at creating another class. The Room class will represent a hotel room, encapsulating properties such as room number, type, occupancy status, and nightly rate. Here's how we conceptualize this class:\n",
        "\n",
        "1.  Attributes define the characteristics of a room.\n",
        "    -   `roomNumber` is an integer representing the room's unique identifier.\n",
        "    -   `type` is a String that could represent the type of room (e.g., \"Single\", \"Double\", \"Suite\").\n",
        "    -   `guest`is a `Guest` object indicating the current occupant of the room. This replaces the `isOccupied` boolean.\n",
        "    -   `nightlyRate` is a double-length floating point number representing the cost per night to stay in the room.\n",
        "2.  The constructor initializes a new instance of the Room class.\n",
        "     -   The constructor takes parameters for room number, type, and nightly rate.\n",
        "     - The `guest` attribute is initialized to `null` to indicate that the room is initially unoccupied. In Java, `null` means \"nothing.\" (This is the same a `NULL` in SQL or `None` in Python).\n",
        "3.  The methods define the behavior of a room.\n",
        "    -   `assignGuest(Guest guest)`assigns a guest to the room.\n",
        "    -   `vacateRoom()` removes the guest from the room, setting the `guest` attribute back to `null`.\n",
        "    -   `displayRoomDetails()` prints out the room's details, including room number, type, occupancy status (based on whether a guest is present), and nightly rate.\n",
        "    - We will also include some representative \"getter\" and \"setter\" methods."
      ]
    },
    {
      "cell_type": "markdown",
      "metadata": {
        "id": "vwv-UPXyomNM"
      },
      "source": [
        "### Coding the Room Class\n",
        "OK, let's now see how this works in Java code."
      ]
    },
    {
      "cell_type": "code",
      "execution_count": null,
      "metadata": {
        "colab": {
          "base_uri": "https://localhost:8080/"
        },
        "id": "D_CbYBwNkJa9",
        "outputId": "4c7715e7-e1ca-4672-e193-fc33e116ef4f"
      },
      "outputs": [
        {
          "name": "stdout",
          "output_type": "stream",
          "text": [
            "Writing Room.java\n"
          ]
        }
      ],
      "source": [
        "%%writefile Room.java\n",
        "public class Room {\n",
        "    // Attributes\n",
        "    private int roomNumber;\n",
        "    private String type;\n",
        "    private Guest guest;\n",
        "    private double nightlyRate;\n",
        "\n",
        "    // Constructor\n",
        "    public Room(int roomNumber, String type, double nightlyRate) {\n",
        "        this.roomNumber = roomNumber;\n",
        "        this.type = type;\n",
        "        this.nightlyRate = nightlyRate;\n",
        "        this.guest = null; // Initially, no guest is occupying the room\n",
        "    }\n",
        "\n",
        "    // Methods\n",
        "    public void assignGuest(Guest guest) {\n",
        "        this.guest = guest;\n",
        "    }\n",
        "\n",
        "    public void vacateRoom() {\n",
        "        this.guest = null;\n",
        "    }\n",
        "\n",
        "    public boolean isOccupied() {\n",
        "        return this.guest != null;\n",
        "    }\n",
        "\n",
        "    // Getter and setter methods\n",
        "    // I've compressed these\n",
        "    public int getRoomNumber(){return roomNumber;}\n",
        "    public void setRoomNumber(int roomNumber){this.roomNumber = roomNumber;}\n",
        "    public String getType(){return type;}\n",
        "    public void setType(String type){this.type = type;}\n",
        "    public double getRate(){return nightlyRate;}\n",
        "    public void setRate(double rate){nightlyRate = rate;}\n",
        "\n",
        "     public void displayRoomDetails() {\n",
        "        System.out.println(\"Room Number: \" + roomNumber);\n",
        "        System.out.println(\"Type: \" + type);\n",
        "        if(isOccupied()){\n",
        "          System.out.println(\"Occupied by: \" + guest.getName());\n",
        "        } else{\n",
        "          System.out.println(\"Vacant.\");\n",
        "        }\n",
        "\n",
        "        System.out.println(\"Nightly Rate: $\" + nightlyRate);\n",
        "    }\n",
        "}\n"
      ]
    },
    {
      "cell_type": "markdown",
      "metadata": {
        "id": "m_5IVvjwrEqu"
      },
      "source": [
        "Now, we can compile this file. (However, make sure to compile `Guest.java` first, and this depends on that)."
      ]
    },
    {
      "cell_type": "code",
      "execution_count": null,
      "metadata": {
        "id": "U97A9us9qPQ1"
      },
      "outputs": [],
      "source": [
        "# This should work\n",
        "!javac Guest.java\n",
        "!javac Room.java"
      ]
    },
    {
      "cell_type": "code",
      "execution_count": null,
      "metadata": {
        "colab": {
          "base_uri": "https://localhost:8080/"
        },
        "id": "LVnN509irNd_",
        "outputId": "41317e2f-67a2-41b3-84c6-fbc77f5f3226"
      },
      "outputs": [
        {
          "name": "stdout",
          "output_type": "stream",
          "text": [
            "Error: Main method not found in class Room, please define the main method as:\n",
            "   public static void main(String[] args)\n",
            "or a JavaFX application class must extend javafx.application.Application\n"
          ]
        }
      ],
      "source": [
        "# This will NOT work\n",
        "!java Room"
      ]
    },
    {
      "cell_type": "markdown",
      "metadata": {
        "id": "kBwz69OnrX7C"
      },
      "source": [
        "### Creating Some Rooms\n",
        "Now, we are ready to create some rooms. Just as we did with Guest, let's write a \"client\" class that will allow us to do this."
      ]
    },
    {
      "cell_type": "code",
      "execution_count": null,
      "metadata": {
        "colab": {
          "base_uri": "https://localhost:8080/"
        },
        "id": "0Ng5FPkxrkgO",
        "outputId": "84a9bab0-7b90-4af8-8405-47feb9121066"
      },
      "outputs": [
        {
          "name": "stdout",
          "output_type": "stream",
          "text": [
            "Overwriting RoomTest.java\n"
          ]
        }
      ],
      "source": [
        "%%writefile RoomTest.java\n",
        "public class RoomTest {\n",
        "\n",
        "    public static void main(String[] args) {\n",
        "        // Define some guests\n",
        "        Guest dracula = new Guest(\"Count Dracula\", 537, \"Vampire\", \"Blackout curtains for daytime sleep\");\n",
        "        Guest werewolf = new Guest(\"Larry Talbot\", 150, \"Werewolf\", \"Extra-large moonlit room\");\n",
        "\n",
        "        // Creating Room objects\n",
        "        Room room101 = new Room(101, \"Single\", 50.0);\n",
        "        Room room102 = new Room(102, \"Double\", 75.0);\n",
        "\n",
        "        // Assigning guests to rooms\n",
        "        room101.assignGuest(dracula);\n",
        "        room102.assignGuest(werewolf);\n",
        "\n",
        "        // Displaying room details with guests\n",
        "        System.out.println(\"Room details with guests:\");\n",
        "        room101.displayRoomDetails();\n",
        "        room102.displayRoomDetails();\n",
        "\n",
        "        // Vacating a room\n",
        "        room101.vacateRoom();\n",
        "\n",
        "        // Displaying updated room details after vacating\n",
        "        System.out.println(\"\\nUpdated room details after vacating room 101:\");\n",
        "        room101.displayRoomDetails();\n",
        "    }\n",
        "}\n"
      ]
    },
    {
      "cell_type": "code",
      "execution_count": null,
      "metadata": {
        "id": "QKeMM5uJuSqc"
      },
      "outputs": [],
      "source": [
        "!javac RoomTest.java"
      ]
    },
    {
      "cell_type": "code",
      "execution_count": null,
      "metadata": {
        "colab": {
          "base_uri": "https://localhost:8080/"
        },
        "id": "S-7RZ1a3uWai",
        "outputId": "54bbe139-303f-45af-c63b-6396fa1d4a9e"
      },
      "outputs": [
        {
          "name": "stdout",
          "output_type": "stream",
          "text": [
            "Room details with guests:\n",
            "Room Number: 101\n",
            "Type: Single\n",
            "Occupied by: Count Dracula\n",
            "Nightly Rate: $50.0\n",
            "Room Number: 102\n",
            "Type: Double\n",
            "Occupied by: Larry Talbot\n",
            "Nightly Rate: $75.0\n",
            "\n",
            "Updated room details after vacating room 101:\n",
            "Room Number: 101\n",
            "Type: Single\n",
            "Vacant.\n",
            "Nightly Rate: $50.0\n"
          ]
        }
      ],
      "source": [
        "!java RoomTest"
      ]
    },
    {
      "cell_type": "markdown",
      "metadata": {
        "id": "-XgKsFtHuC6H"
      },
      "source": [
        "In `RoomTest`, we do the following:\n",
        "1. We start by creating three instances of the `Room` class, each representing a different type of room within the Hotel Transylvania. These objects are instantiated using the `Room` constructor, which requires the room number, type, and nightly rate as arguments.\n",
        "2.  We then call the `displayRoomDetails()` method on each object to print its initial state. This demonstrates how to call a method on an object to perform a specific action, in this case, displaying room details.\n",
        "3. Next, we use setter methods (`setRate` and `setType`) to modify the attributes of room101 and room102. These methods allow us to update the state of an object after it has been created. The `occupyRoom()` method is called on room201 to change its occupancy status, showcasing how to use action methods to alter an object's state based on interactions.\n",
        "4. Finally, we display the updated details of each room to show the effects of the changes made through setter methods and action calls. This reinforces the concept of object mutability and the role of methods in managing object state."
      ]
    },
    {
      "cell_type": "markdown",
      "metadata": {
        "id": "RGicEWnXuq4F"
      },
      "source": [
        "## Creating Your Own Classes\n",
        "\n",
        "Creating and using classes and objects are fundamental in Java programming. These steps will guide you through the process of class declaration, creating constructors, defining getter and setter methods, and finally, how to use these classes in a client program.\n",
        "\n",
        "#### Step 1: Declare Your Class\n",
        "A class in Java is a blueprint from which individual objects are created. It contains fields (variables) and methods to define the object's behavior.\n",
        "\n",
        "```java\n",
        "public class Book {\n",
        "    // Fields, Constructor, Methods will go here\n",
        "}\n",
        "```\n",
        "\n",
        "Create a new file called `Book.java` and begin creating this class. (The file name MUST match the class name.)\n",
        "\n",
        "#### Step 2: Add Fields to Your Class\n",
        "Fields (or attributes) are variables that provide the state of an object. Each object created from the class can have its own values for these fields.\n",
        "\n",
        "```java\n",
        "public class Book {\n",
        "    private String title;\n",
        "    private String author;\n",
        "}\n",
        "```\n",
        "\n",
        "#### Step 3: Create a Constructor\n",
        "\n",
        "A constructor in Java is a special method used to initialize objects. The constructor is called when an object of a class is created. It can be used to set initial values for object attributes.\n",
        "\n",
        "```java\n",
        "public class Book {\n",
        "    // Fields\n",
        "    private String title;\n",
        "    private String author;\n",
        "\n",
        "    // Constructor\n",
        "    public Book(String title, String author) {\n",
        "        this.title = title;\n",
        "        this.author = author;\n",
        "    }\n",
        "}\n",
        "```\n",
        "\n",
        "#### Step 4: Define Getter and Setter Methods\n",
        "\n",
        "These methods allow you to get and set the value of a field. The getter method returns the variable value, and the setter method sets the value.\n",
        "\n",
        "```java\n",
        "public class Book {\n",
        "    // Fields, Constructor\n",
        "\n",
        "    // Getter\n",
        "    public String getTitle() {\n",
        "        return title;\n",
        "    }\n",
        "\n",
        "    // Setter\n",
        "    public void setTitle(String title) {\n",
        "        this.title = title;\n",
        "    }\n",
        "\n",
        "    // Repeat for 'author' field\n",
        "}\n",
        "```\n",
        "\n",
        "#### Step 5: Write a Client Program to Use Your Class\n",
        "This is a separate Java class that uses your `Book` class to create objects and access them using the getter and setter methods.\n",
        "\n",
        "```java\n",
        "public class BookTest {\n",
        "    public static void main(String[] args) {\n",
        "        // Creating an object of class Book\n",
        "        Book myBook = new Book(\"Dracula\", \"Bram Stoker\");\n",
        "\n",
        "        // Accessing object data through getter methods\n",
        "        System.out.println(\"Title: \" + myBook.getTitle());\n",
        "        System.out.println(\"Author: \" + myBook.getAuthor());\n",
        "\n",
        "        // Modifying object data through setter methods\n",
        "        myBook.setTitle(\"Dracula, Revised Edition\");\n",
        "        System.out.println(\"Updated Title: \" + myBook.getTitle());\n",
        "    }\n",
        "}\n",
        "```\n",
        "\n",
        "In this example, we first create a `Book` class with two fields (`title` and `author`), a constructor to initialize these fields, and getter and setter methods for both fields. Then, in the client program (the `Main` class), we create a `Book` object named `myBook` and use its constructor to set the title and author. We access the book's title and author using the getter methods and print them. Finally, we change the book's title using the setter method and print the updated title."
      ]
    },
    {
      "cell_type": "markdown",
      "metadata": {
        "id": "Ck2V0A8GwBXi"
      },
      "source": [
        "## Exercises\n",
        "1. Following the steps laid out above, please create the `Book` and `BookTest` class. Show that you can successfully compile and run this application."
      ]
    },
    {
      "cell_type": "code",
      "execution_count": null,
      "metadata": {
        "id": "Ufthi0NRuQWc"
      },
      "outputs": [],
      "source": [
        "%%writefile Book.java\n",
        "public class Book{\n",
        "  // Your code here\n",
        "}"
      ]
    },
    {
      "cell_type": "code",
      "execution_count": null,
      "metadata": {
        "id": "nS85t344wXVN"
      },
      "outputs": [],
      "source": [
        "!javac Book.java"
      ]
    },
    {
      "cell_type": "code",
      "execution_count": null,
      "metadata": {
        "id": "IsduRiZowZMs"
      },
      "outputs": [],
      "source": [
        "%%writefile BookTest.java\n",
        "public class BookTest{\n",
        "  //Your code here\n",
        "}"
      ]
    },
    {
      "cell_type": "code",
      "execution_count": null,
      "metadata": {
        "id": "WJBa0ffMwvYA"
      },
      "outputs": [],
      "source": [
        "!javac BookTest.java"
      ]
    },
    {
      "cell_type": "code",
      "execution_count": null,
      "metadata": {
        "id": "h8Kp7xKswyGe"
      },
      "outputs": [],
      "source": [
        "!java BookTest"
      ]
    },
    {
      "cell_type": "markdown",
      "metadata": {
        "id": "JYBN2Iu-whh0"
      },
      "source": [
        "2. Write a class for Animal (representing the possible pets at the Hotel Transylvania). Your class should include:\n",
        "\n",
        " - at least 3 private attributes\n",
        " - getter methods for each attribute\n",
        " - setter methods for each attribute\n",
        " - a method for displaying the animal's attributes"
      ]
    },
    {
      "cell_type": "code",
      "execution_count": null,
      "metadata": {
        "id": "Rutk3JVww-XX"
      },
      "outputs": [],
      "source": [
        "%%writefile Animal.java\n",
        "public class Animal{\n",
        "  // TODO your code here\n",
        "}"
      ]
    },
    {
      "cell_type": "code",
      "execution_count": null,
      "metadata": {
        "id": "qQxOWubwxFKA"
      },
      "outputs": [],
      "source": [
        "%%javac Animal.java"
      ]
    },
    {
      "cell_type": "markdown",
      "metadata": {
        "id": "-CqIYWDaxHGO"
      },
      "source": [
        "3. Write a class called AnimalTest that shows how to create at least three animals and display their info."
      ]
    },
    {
      "cell_type": "code",
      "execution_count": null,
      "metadata": {
        "id": "cDvKbcMLxOms"
      },
      "outputs": [],
      "source": [
        "%%writefile AnimalTest.Javascript\n",
        "public class AnimalTest{\n",
        "  // TODO Your code here\n",
        "}"
      ]
    },
    {
      "cell_type": "code",
      "execution_count": null,
      "metadata": {
        "id": "1Kulj7Rxxiz7"
      },
      "outputs": [],
      "source": [
        "!javac AnimalTest.java"
      ]
    },
    {
      "cell_type": "code",
      "execution_count": null,
      "metadata": {
        "id": "F23XsHdMxlXM"
      },
      "outputs": [],
      "source": [
        "!java AnimalTest"
      ]
    },
    {
      "cell_type": "markdown",
      "metadata": {
        "id": "AXUHBigMN0mX"
      },
      "source": [
        "## An Aside into Arrays and ArrayLists\n",
        "Java **arrays** encapsulate a fundamental concept within programming: a collection of elements of the same type, stored contiguously in memory. They are fixed in size; once an array is created, its capacity cannot be altered. This immutability in size necessitates careful planning and understanding of one's data structures at the outset of program development.\n",
        "\n",
        "Consider a scenario in an undead hotel, where each room is occupied by a guest of a specific undead species. We might represent the species of guests in a hotel with a fixed number of rooms using an array. Let's use String as our data type for the species names.\n",
        "\n",
        "```java\n",
        "String[] undeadGuests = new String[5]; // A hotel with 5 rooms for undead guests.\n",
        "```\n",
        "\n",
        "This array, `undeadGuests`, can now hold 5 String values, each representing the species of the undead guest in a room. To assign values to this array:\n",
        "\n",
        "```java\n",
        "undeadGuests[0] = \"Vampire\";\n",
        "undeadGuests[1] = \"Zombie\";\n",
        "undeadGuests[2] = \"Ghost\";\n",
        "undeadGuests[3] = \"Mummy\";\n",
        "undeadGuests[4] = \"Lich\";\n",
        "```\n",
        "\n",
        "Each undead species is placed in a room, indexed from 0 to 4. Accessing the guest in the third room (remembering that array indices start at 0) involves:\n",
        "\n",
        "```java\n",
        "System.out.println(\"The guest in room 3 is a \" + undeadGuests[2]);\n",
        "```\n",
        "\n",
        "This would output: `The guest in room 3 is a Ghost`.\n",
        "\n",
        "Arrays can also be initialized with values directly:\n",
        "\n",
        "```java\n",
        "String[] undeadGuestsDirect = {\"Vampire\", \"Zombie\", \"Ghost\", \"Mummy\", \"Lich\"};\n",
        "```\n",
        "\n",
        "This direct method serves the same purpose but is more concise.\n"
      ]
    },
    {
      "cell_type": "markdown",
      "metadata": {
        "id": "nu0LlOX0N7hd"
      },
      "source": [
        "### ArrayLists\n",
        "Java ArrayLists, in contrast, offer a dynamic array that can grow and shrink as needed, providing greater flexibility. They are part of the Java Collections Framework, allowing for the manipulation of data sets beyond simple fixed arrays. Unlike arrays, ArrayLists can only hold objects; primitive types must be used in their wrapper class form (e.g., `int` becomes `Integer`).\n",
        "\n",
        "To continue with our undead hotel analogy, suppose the hotel can now expand or contract its number of rooms based on demand. This scenario is apt for an ArrayList:\n",
        "\n",
        "```java\n",
        "import java.util.ArrayList; // Necessary import for ArrayList usage\n",
        "\n",
        "ArrayList<String> dynamicUndeadGuests = new ArrayList<>();\n",
        "```\n",
        "\n",
        "Adding guests to this dynamic hotel now becomes a matter of invoking methods:\n",
        "\n",
        "```java\n",
        "dynamicUndeadGuests.add(\"Vampire\");\n",
        "dynamicUndeadGuests.add(\"Zombie\");\n",
        "dynamicUndeadGuests.add(\"Ghost\");\n",
        "dynamicUndeadGuests.add(\"Mummy\");\n",
        "dynamicUndeadGuests.add(\"Lich\");`\n",
        "```\n",
        "The beauty of an ArrayList lies in its ability to accommodate more guests without the need for a predetermined size:\n",
        "\n",
        "```java\n",
        "dynamicUndeadGuests.add(\"Skeleton\");\n",
        "```\n",
        "\n",
        "Removing a guest is similarly straightforward:\n",
        "\n",
        "```java\n",
        "dynamicUndeadGuests.remove(\"Zombie\"); // Removes the first occurrence of \"Zombie\"\n",
        "```\n",
        "\n",
        "To access an element, one uses the `get` method, which replaces the bracket notation used in arrays:\n",
        "\n",
        "```java\n",
        "System.out.println(\"The guest in room 3 is now a \" + dynamicUndeadGuests.get(2));\n",
        "```\n",
        "\n",
        "ArrayLists thus provide a powerful and flexible mechanism for managing collections of objects in Java, ideal for when the size of your collection might change over time. Both arrays and ArrayLists serve critical roles in data structure management within Java, each with its specific use cases dictated by the needs of the developer and the constraints of the problem domain."
      ]
    },
    {
      "cell_type": "code",
      "execution_count": null,
      "metadata": {
        "colab": {
          "base_uri": "https://localhost:8080/"
        },
        "id": "aqazMnpxN2m0",
        "outputId": "ad9bd6dd-ba07-44ef-896d-96b2b2e8fe1c"
      },
      "outputs": [
        {
          "name": "stdout",
          "output_type": "stream",
          "text": [
            "Writing UndeadArrayTest.java\n"
          ]
        }
      ],
      "source": [
        "%%writefile UndeadArrayTest.java\n",
        "import java.util.ArrayList;\n",
        "\n",
        "public class UndeadArrayTest {\n",
        "\n",
        "    public static void main(String[] args) {\n",
        "        // Initializing and populating a fixed-size array of undead guests\n",
        "        String[] undeadGuests = {\"Vampire\", \"Zombie\", \"Ghost\", \"Mummy\", \"Lich\"};\n",
        "        System.out.println(\"Fixed-size Undead Guests Array:\");\n",
        "        for (String guest : undeadGuests) {\n",
        "            System.out.println(guest);\n",
        "        }\n",
        "\n",
        "        // Demonstrating a dynamic ArrayList of undead guests\n",
        "        ArrayList<String> dynamicUndeadGuests = new ArrayList<>();\n",
        "        dynamicUndeadGuests.add(\"Vampire\");\n",
        "        dynamicUndeadGuests.add(\"Zombie\");\n",
        "        dynamicUndeadGuests.add(\"Ghost\");\n",
        "        dynamicUndeadGuests.add(\"Mummy\");\n",
        "        dynamicUndeadGuests.add(\"Lich\");\n",
        "\n",
        "        // Adding a new guest to the ArrayList\n",
        "        dynamicUndeadGuests.add(\"Skeleton\");\n",
        "        System.out.println(\"\\nDynamic Undead Guests ArrayList after addition:\");\n",
        "        for (String guest : dynamicUndeadGuests) {\n",
        "            System.out.println(guest);\n",
        "        }\n",
        "\n",
        "        // Removing a guest from the ArrayList\n",
        "        dynamicUndeadGuests.remove(\"Zombie\");\n",
        "        System.out.println(\"\\nDynamic Undead Guests ArrayList after removal:\");\n",
        "        for (String guest : dynamicUndeadGuests) {\n",
        "            System.out.println(guest);\n",
        "        }\n",
        "\n",
        "        // Accessing a specific guest in the ArrayList\n",
        "        System.out.println(\"\\nThe guest in room 3 is now a \" + dynamicUndeadGuests.get(2));\n",
        "    }\n",
        "}\n"
      ]
    },
    {
      "cell_type": "code",
      "execution_count": null,
      "metadata": {
        "id": "x64jL0D3OL_q"
      },
      "outputs": [],
      "source": [
        "!javac UndeadArrayTest.java"
      ]
    },
    {
      "cell_type": "code",
      "execution_count": null,
      "metadata": {
        "colab": {
          "base_uri": "https://localhost:8080/"
        },
        "id": "epsRcIS4OQBa",
        "outputId": "c27390ea-140a-4bbc-a50e-1dbec99327a0"
      },
      "outputs": [
        {
          "name": "stdout",
          "output_type": "stream",
          "text": [
            "Fixed-size Undead Guests Array:\n",
            "Vampire\n",
            "Zombie\n",
            "Ghost\n",
            "Mummy\n",
            "Lich\n",
            "\n",
            "Dynamic Undead Guests ArrayList after addition:\n",
            "Vampire\n",
            "Zombie\n",
            "Ghost\n",
            "Mummy\n",
            "Lich\n",
            "Skeleton\n",
            "\n",
            "Dynamic Undead Guests ArrayList after removal:\n",
            "Vampire\n",
            "Ghost\n",
            "Mummy\n",
            "Lich\n",
            "Skeleton\n",
            "\n",
            "The guest in room 3 is now a Mummy\n"
          ]
        }
      ],
      "source": [
        "!java UndeadArrayTest"
      ]
    },
    {
      "cell_type": "markdown",
      "metadata": {
        "id": "LWFzu8Q1Psnx"
      },
      "source": [
        "This class, `UndeadArrayTest`, first defines a fixed-size array of `String` objects, each representing a different type of undead guest. It prints out the names of the undead guests stored in the array. Next, it shifts focus to a dynamic `ArrayList` of `String` objects, showcasing how to add and remove elements dynamically, and how to access a specific element.\n",
        "\n",
        "The `main` method starts by declaring and initializing a fixed-size array of undead species. It then iterates over this array, printing each species name. Following this, an `ArrayList` is instantiated and populated with similar undead species names. The flexibility of `ArrayLists` is demonstrated by adding a \"Skeleton\" to the end of the list, removing \"Zombie\" from the list, and finally, accessing and printing the species name of the undead guest currently in the third position (index 2, as indices are zero-based).\n"
      ]
    },
    {
      "cell_type": "markdown",
      "metadata": {
        "id": "9ScLGU0ERaOm"
      },
      "source": [
        "Some things worth noting here include:\n",
        "\n",
        "-   `String[] undeadGuests` declares an array of Strings. As discussed above, arrays in Java have a fixed size that is set on initialization.\n",
        "-   `ArrayList<String> dynamicUndeadGuests` declares an ArrayList that can hold String objects. The <> syntax specifies the type parameter, meaning this list can only hold Strings. Again, see above for more details.\n",
        "-   `for (String guest : undeadGuests)` iterates through each element in the array or ArrayList. This is a common way to loop through collections (such as ArrayLists in Java).\n",
        "-   `String` a class, not a primitive type (this is shown by the fact it is Capitalized). So an array or ArrayList of Strings actually holds references to String objects.\n",
        "-   Methods like `add()`, `remove()`, and `get()` on the ArrayList dynamically modify the contents during runtime, unlike a static array.\n",
        "-   No need to specify the ArrayList size on initialization. It will grow and shrink automatically as elements are added/removed."
      ]
    },
    {
      "cell_type": "markdown",
      "metadata": {
        "id": "hR_b9UkE4ZVh"
      },
      "source": [
        "## Exercise: Practice With arrays and ArrayLists\n",
        "Now, it's your turn to practice using arrays and ArrayLists. See if you can complete the following class, which requires you to create three arrays and three arraylists."
      ]
    },
    {
      "cell_type": "code",
      "execution_count": null,
      "metadata": {
        "id": "dzgCWRQ45f4t"
      },
      "outputs": [],
      "source": [
        "%%writefile UndeadArrayPractice.java\n",
        "import java.util.ArrayList;\n",
        "\n",
        "public class UndeadArrayPractice {\n",
        "\n",
        "    public static void main(String[] args) {\n",
        "\n",
        "        // TODO: Construct an array of Strings containing 3 undead creatures\n",
        "        String[] undeadCreatures = ?\n",
        "\n",
        "        // TODO: Construct an array of integers containing the ages of the undead creatures\n",
        "        int[] undeadAges = ?\n",
        "\n",
        "        // TODO: Construct an ArrayList of Strings containing 3 different undead creatures\n",
        "        ArrayList<String> undeadCreaturesList = ?\n",
        "\n",
        "        // TODO: Construct an ArrayList of booleans indicating if the undead creatures are friendly or not\n",
        "        ArrayList<Boolean> undeadFriendlyList = ?\n",
        "\n",
        "        // Print the elements of the arrays and ArrayLists\n",
        "        System.out.println(\"Undead Creatures Array: \");\n",
        "        for (String creature : undeadCreatures) {\n",
        "            System.out.println(creature);\n",
        "        }\n",
        "        System.out.println(\"Undead Ages Array: \");\n",
        "        for (int age : undeadAges) {\n",
        "            System.out.println(age);\n",
        "        }\n",
        "        System.out.println(\"Undead Creatures ArrayList: \");\n",
        "        for (String creature : undeadCreaturesList) {\n",
        "            System.out.println(creature);\n",
        "        }\n",
        "\n",
        "        System.out.println(\"Undead Friendly ArrayList: \");\n",
        "        for (boolean friendly : undeadFriendlyList) {\n",
        "            System.out.println(friendly);\n",
        "        }\n",
        "    }\n",
        "}\n"
      ]
    },
    {
      "cell_type": "code",
      "execution_count": null,
      "metadata": {
        "id": "hXOQcPpF6l50"
      },
      "outputs": [],
      "source": [
        "!javac UndeadArrayPractice.java"
      ]
    },
    {
      "cell_type": "code",
      "execution_count": null,
      "metadata": {
        "id": "QoPOuz0i6oTM"
      },
      "outputs": [],
      "source": [
        "!java UndeadArrayPractice"
      ]
    },
    {
      "cell_type": "markdown",
      "metadata": {
        "id": "nA8jxuSCuiDb"
      },
      "source": [
        "## Putting it Altogether with HotelManagement\n",
        "Now, let's take everything we've learned so far to let *users* add information on Hotel Rooms and guests."
      ]
    },
    {
      "cell_type": "code",
      "execution_count": null,
      "metadata": {
        "colab": {
          "base_uri": "https://localhost:8080/"
        },
        "id": "tY2qtkXhuydT",
        "outputId": "d8c6f84d-4ca8-45cf-f920-df71d4105f2d"
      },
      "outputs": [
        {
          "name": "stdout",
          "output_type": "stream",
          "text": [
            "Writing HotelManagement.java\n"
          ]
        }
      ],
      "source": [
        "%%writefile HotelManagement.java\n",
        "import java.util.ArrayList;\n",
        "import java.util.Scanner;\n",
        "\n",
        "public class HotelManagement {\n",
        "    private ArrayList<Guest> guests = new ArrayList<>();\n",
        "    private ArrayList<Room> rooms = new ArrayList<>();\n",
        "    private Scanner scanner = new Scanner(System.in);\n",
        "\n",
        "    public void addGuest() {\n",
        "        System.out.println(\"Enter guest name:\");\n",
        "        String name = scanner.nextLine();\n",
        "        System.out.println(\"Enter guest age:\");\n",
        "        int age = Integer.parseInt(scanner.nextLine());\n",
        "        System.out.println(\"Enter guest species:\");\n",
        "        String species = scanner.nextLine();\n",
        "        System.out.println(\"Enter any special requirements:\");\n",
        "        String specialRequirements = scanner.nextLine();\n",
        "\n",
        "        Guest guest = new Guest(name, age, species, specialRequirements);\n",
        "        guests.add(guest);\n",
        "        System.out.println(\"Guest added successfully.\");\n",
        "    }\n",
        "\n",
        "    public void addRoom() {\n",
        "        System.out.println(\"Enter room number:\");\n",
        "        int roomNumber = Integer.parseInt(scanner.nextLine());\n",
        "        System.out.println(\"Enter room type:\");\n",
        "        String type = scanner.nextLine();\n",
        "        System.out.println(\"Enter nightly rate:\");\n",
        "        double nightlyRate = Double.parseDouble(scanner.nextLine());\n",
        "\n",
        "        Room room = new Room(roomNumber, type, nightlyRate);\n",
        "        rooms.add(room);\n",
        "        System.out.println(\"Room added successfully.\");\n",
        "    }\n",
        "\n",
        "    public void displayGuests() {\n",
        "        if (guests.isEmpty()) {\n",
        "            System.out.println(\"No guests found.\");\n",
        "            return;\n",
        "        }\n",
        "        for (Guest guest : guests) {\n",
        "            guest.displayGuestInfo();\n",
        "        }\n",
        "    }\n",
        "\n",
        "    public void displayRooms() {\n",
        "        if (rooms.isEmpty()) {\n",
        "            System.out.println(\"No rooms found.\");\n",
        "            return;\n",
        "        }\n",
        "        for (Room room : rooms) {\n",
        "            room.displayRoomDetails();\n",
        "        }\n",
        "    }\n",
        "}"
      ]
    },
    {
      "cell_type": "code",
      "execution_count": null,
      "metadata": {
        "id": "9yAJuN87vBoX"
      },
      "outputs": [],
      "source": [
        "!javac Guest.java\n",
        "!javac Room.java\n",
        "!javac HotelManagement.java"
      ]
    },
    {
      "cell_type": "markdown",
      "metadata": {
        "id": "tIb_nRmLhc9M"
      },
      "source": [
        "The `HotelManagement` class manages guests and rooms within a hotel. It is intedned to illustrate some fundamental object-oriented programming (OOP) concepts in Java. It employs ArrayLists to maintain dynamic collections of `Guest` and `Room` objects, and utilizes a `Scanner` instance to facilitate user interaction via the console. The class is designed to perform operations such as adding guests and rooms, and displaying information about them. Each method is crafted to serve a distinct operation, aligning with the principle of single responsibility.\n",
        "\n",
        "### Class Structure\n",
        "\n",
        "-   The class defines three private **fields** to store data and manage input:\n",
        "\n",
        "    1.  `guests` is an ArrayList of `Guest` objects, representing the guests of the hotel.\n",
        "    2.  `rooms` is an ArrayList of `Room` objects, indicating the rooms available in the hotel.\n",
        "    3.  `scanner` is a Scanner instance to parse user inputs from the console.\n",
        "\n",
        "-   The class also includes **methods** that facilitate its operation.\n",
        "\n",
        "    -   `addGuest()` prompts the user to input details for a new guest, including name, age, species, and any special requirements. It constructs a `Guest` object with these details and adds it to the `guests` ArrayList. The process is interactive, relying on the `Scanner` to read console inputs.\n",
        "\n",
        "    -   `addRoom()` is similar to `addGuest()`. It interacts with the user to gather details about a new room: room number, type, and nightly rate. A `Room` object is instantiated with these details and added to the `rooms` ArrayList.\n",
        "\n",
        "    -   `displayGuests()` and `displayRooms()`  iterate over the `guests` and `rooms` ArrayLists, respectively, and invoke a display method on each object to print its details to the console. If the lists are empty, a message indicating no guests or rooms found is displayed.\n",
        "\n",
        "- The class illustrates some important Object-Oriented ideas:\n",
        " - The class **encapsulates** the data (guests and rooms) and the methods to manipulate this data (adding and displaying), safeguarding against unauthorized access and modifications by keeping the fields private and manipulating them through public methods.\n",
        " - The `HotelManagement` class **abstracts** the complexity of managing guests and rooms into simple operations. The user of the class need not understand the internal workings of methods like `addGuest` or `addRoom` (or the underlying `Guest` and `Room` classes) to use the class.\n"
      ]
    },
    {
      "cell_type": "markdown",
      "metadata": {
        "id": "Jf0bRivuvK7i"
      },
      "source": [
        "Now, let's write client program to test this out."
      ]
    },
    {
      "cell_type": "code",
      "execution_count": null,
      "metadata": {
        "colab": {
          "base_uri": "https://localhost:8080/"
        },
        "id": "q81h8NkQvPb-",
        "outputId": "b0a96e8f-b06f-486d-b67e-5a5e5a7e4d5b"
      },
      "outputs": [
        {
          "name": "stdout",
          "output_type": "stream",
          "text": [
            "Writing HotelManagementTest.java\n"
          ]
        }
      ],
      "source": [
        "%%writefile HotelManagementTest.java\n",
        "import java.util.Scanner;\n",
        "\n",
        "public class HotelManagementTest{\n",
        "  public static void main(String[] args) {\n",
        "        HotelManagement hotelManagement = new HotelManagement();\n",
        "        Scanner scanner = new Scanner(System.in);\n",
        "        while (true) {\n",
        "            System.out.println(\"Choose an action: \\n1. Add Guest\\n2. Add Room\\n3. Display Guests\\n4. Display Rooms\\n5. Exit\");\n",
        "            int choice = Integer.parseInt(scanner.nextLine());\n",
        "            if (choice == 1){hotelManagement.addGuest();}\n",
        "            else if (choice == 2){hotelManagement.addRoom();}\n",
        "            else if (choice == 3){hotelManagement.displayGuests();}\n",
        "            else if (choice == 4){hotelManagement.displayRooms();}\n",
        "            else if (choice == 5){\n",
        "              System.out.println(\"Exiting...\");\n",
        "              return;\n",
        "            }\n",
        "            else{\n",
        "              System.out.println(\"Invalid choice. Please try again.\");\n",
        "            }\n",
        "\n",
        "        }\n",
        "    }\n",
        "}"
      ]
    },
    {
      "cell_type": "code",
      "execution_count": null,
      "metadata": {
        "id": "Na_gPXkAvdYF"
      },
      "outputs": [],
      "source": [
        "!javac HotelManagementTest.java"
      ]
    },
    {
      "cell_type": "code",
      "execution_count": null,
      "metadata": {
        "colab": {
          "base_uri": "https://localhost:8080/"
        },
        "id": "sAS1bBFgPwMq",
        "outputId": "3f408cf2-2db5-40a1-9c66-dacc17ed2070"
      },
      "outputs": [
        {
          "name": "stdout",
          "output_type": "stream",
          "text": [
            "Choose an action: \n",
            "1. Add Guest\n",
            "2. Add Room\n",
            "3. Display Guests\n",
            "4. Display Rooms\n",
            "5. Exit\n",
            "1\n",
            "Enter guest name:\n",
            "Vlad\n",
            "Enter guest age:\n",
            "732\n",
            "Enter guest species:\n",
            "Vampire\n",
            "Enter any special requirements:\n",
            "likes bagels\n",
            "Guest added successfully.\n",
            "Choose an action: \n",
            "1. Add Guest\n",
            "2. Add Room\n",
            "3. Display Guests\n",
            "4. Display Rooms\n",
            "5. Exit\n",
            "3\n",
            "Guest Name: Vlad\n",
            "Age: 732\n",
            "Species: Vampire\n",
            "Special Requirements: likes bagels\n",
            "Choose an action: \n",
            "1. Add Guest\n",
            "2. Add Room\n",
            "3. Display Guests\n",
            "4. Display Rooms\n",
            "5. Exit\n",
            "5\n",
            "Exiting...\n"
          ]
        }
      ],
      "source": [
        "!java HotelManagementTest"
      ]
    },
    {
      "cell_type": "markdown",
      "metadata": {
        "id": "xDwjcLX9kAvG"
      },
      "source": [
        "## UML Class diagrams\n",
        "Finally, let make a **UML class diagram** to illustrate the relationship between these classes. Here's the basic idea:\n",
        "\n",
        "-   Classes are depicted as rectangles divided into three parts: the class name at the top, attributes (or fields) in the middle, and methods (or operations) at the bottom. In this diagram,  `Guest`, `Room`, and `HotelManagement` are the classes.\n",
        "-   Attributes represent the data maintained within an object. They are listed in the second part of the class rectangle. For instance, the `Guest` class has attributes like `name`, `age`, `species`, and `specialRequirements`, all marked with a `-` sign indicating they are private.\n",
        "-   Methods are functions or operations the class can perform, shown in the third section of the class rectangle. They describe the behavior of an object. For example, the `Guest` class includes methods like `getName()`, `setName(String)`, `getAge()`, etc., with visibility indicated by `+` for public.\n",
        "-   Associations (Or relationships) are lines connecting classes, indicating a relationship between them. The type of relationship can vary:\n",
        "    -   A plain line indicates an association, suggesting a link between two classes, such as `HotelManagement` and `Guest`, or `HotelManagement` and `Room`.\n",
        "    -   The line ending with a diamond near the `Room` class connected to `Guest` suggests a composition relationship, indicating that `Room` contains a `Guest` object, but with a \"0..1\" multiplicity, meaning a room may or may not have a guest at any given time.\n",
        "-   Symbols before attributes and methods indicate their visibility:\n",
        "    -   `+` (public): Accessible from any other class.\n",
        "    -   `-` (private): Accessible only within the class itself.\n",
        "    -   `#` (protected): Accessible within the class and its subclasses."
      ]
    },
    {
      "cell_type": "markdown",
      "metadata": {
        "id": "OOK20MtskKBP"
      },
      "source": [
        "![image.png](data:image/png;base64,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)"
      ]
    },
    {
      "cell_type": "markdown",
      "metadata": {
        "id": "qzzD6DQk7BLu"
      },
      "source": [
        "## Questions: Hotel Management\n",
        "1.  In the `HotelManagement` class, why do you think the `guests` and `rooms` ArrayLists are declared as private fields, and how does this relate to the principle of encapsulation in object-oriented programming?\n",
        "2.  Consider the `addGuest()` and `addRoom()` methods in the `HotelManagement` class. How do these methods illustrate the concept of abstraction in object-oriented programming?\n",
        "3.  In the UML class diagram, what does the \"0..1\" multiplicity on the association between the `Room` and `Guest` classes indicate, and why is this an appropriate multiplicity for this relationship?"
      ]
    },
    {
      "cell_type": "markdown",
      "metadata": {
        "id": "7bwUfPOw7IV2"
      },
      "source": [
        "## Answers\n",
        "1.\n",
        "\n",
        "2.\n",
        "\n",
        "3."
      ]
    },
    {
      "cell_type": "markdown",
      "metadata": {
        "id": "aqO0RMG94LqY"
      },
      "source": [
        "## Glossary\n",
        "\n",
        "| Term | Definition |\n",
        "| --- | --- |\n",
        "| Object-Oriented Programming (OOP) | A programming paradigm that organizes software design around data, or objects, and a set of well-defined interfaces to that data. |\n",
        "| Class | A blueprint or template for creating objects in Java. It defines a set of properties and methods that are common to all objects of a certain kind. |\n",
        "| Object | An instance of a class. It has state (attributes) and behavior (methods). |\n",
        "| Attribute (Field) | A variable declared within a class. It represents the state of an object. |\n",
        "| Method | A function associated with an object, or a behavior that an object can exhibit. |\n",
        "| Constructor | A special method used to initialize the state of an object when it is created. |\n",
        "| new | A keyword in Java used to create new objects. It allocates memory for the object on the heap. |\n",
        "| Access Modifier | A keyword used to specify the accessibility or scope of a field, method, or class. Examples include public, private, and protected. |\n",
        "| Accessor (getter) | A method used to retrieve the value of an attribute from an object. |\n",
        "| Mutator (setter) | A method used to set or change the value of an attribute in an object. |\n",
        "| Encapsulation | The practice of keeping fields within a class private, then providing access to them via public methods. It's a protective barrier that keeps the data and code safe within the class itself. |\n",
        "| main() | The entry point for any Java application. The Java runtime looks for this method when it starts running a program. |\n",
        "| null | A special keyword in Java that indicates the absence of an object reference. |\n",
        "| void | A keyword in Java used to indicate that a method does not return a value. |\n",
        "| array | A data structure that contains a group of elements. Typically these elements are all of the same data type. |\n",
        "| ArrayList | A class in Java that implements a resizable array. It is part of the Java Collections Framework. |"
      ]
    },
    {
      "cell_type": "code",
      "execution_count": null,
      "metadata": {
        "id": "1wLcv2qtkLm5"
      },
      "outputs": [],
      "source": []
    }
  ],
  "metadata": {
    "colab": {
      "authorship_tag": "ABX9TyOHNrzVI+klmWz7JinhvZnH",
      "include_colab_link": true,
      "provenance": []
    },
    "kernelspec": {
      "display_name": "Python 3",
      "name": "python3"
    },
    "language_info": {
      "name": "python"
    }
  },
  "nbformat": 4,
  "nbformat_minor": 0
}
