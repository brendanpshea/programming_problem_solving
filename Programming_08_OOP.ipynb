{
  "nbformat": 4,
  "nbformat_minor": 0,
  "metadata": {
    "colab": {
      "provenance": [],
      "authorship_tag": "ABX9TyOjSOLwV1yH6mdjQtuUHiYU",
      "include_colab_link": true
    },
    "kernelspec": {
      "name": "python3",
      "display_name": "Python 3"
    },
    "language_info": {
      "name": "python"
    }
  },
  "cells": [
    {
      "cell_type": "markdown",
      "metadata": {
        "id": "view-in-github",
        "colab_type": "text"
      },
      "source": [
        "<a href=\"https://colab.research.google.com/github/brendanpshea/programming_problem_solving/blob/main/Programming_08_OOP.ipynb\" target=\"_parent\"><img src=\"https://colab.research.google.com/assets/colab-badge.svg\" alt=\"Open In Colab\"/></a>"
      ]
    },
    {
      "cell_type": "markdown",
      "source": [
        "# What is Object-Oriented Programming (OOP)?\n",
        "\n",
        "**Object-Oriented Programming (OOP)** is a programming **paradigm**---a model or philosophy for writing software programs. It's based on the idea of breaking down software into smaller pieces, known as **objects**, which represent real-world or conceptual entities. Each object can hold data **(attributes)** and **methods**. Data refers to the attributes or properties of an object, essentially what an object has. Methods are the actions or behaviors an object can perform, essentially what an object does.\n",
        "\n",
        "In OOP, programs are designed by making them out of objects that interact with one another. This approach is inspired by how things work in the real world, making it easier for programmers to think about and manage their code. The two basic concepts of OOP--from which everything else follows--are these:\n",
        "-   A **class** is a blueprint for creating objects. A class defines the data and methods that its objects will contain.\n",
        "-   An **Object** is an instance of a class. If a class is like a blueprint, an object is like a house built from that blueprint. Each object has its own set of data and methods, according to the class definition."
      ],
      "metadata": {
        "id": "mMfsA6WCcUDN"
      }
    },
    {
      "cell_type": "markdown",
      "source": [
        "## Classes and Objects at Hotel Transylvania\n",
        "Let's return to an examples from an earlier chapter--that of the Hotel Transylvania. Suppose that we've been hired to build a system for handling hotel registration. In real life, this sort of large-scale software system would much more likely be written in a language like Java than in Python. To get started, though, let's think about a few of the classes and objects that make up the **ontology** (the \"things that exist\") in this problem domain.\n",
        "\n",
        "### class Guest\n",
        "This class represents an individual staying at the hotel, with various personal and species-specific needs.\n",
        "\n",
        "-   Attributes include the guest's name, age, species, room number, and special requirements, which provide detailed information about the guest for personalized service.\n",
        "-   Methods like checkIn(), requestService(), and checkOut() facilitate interactions between the guest and hotel services, ensuring their stay is comfortable and their needs are met.\n",
        "-   An example object could be Dracula, with name \"Dracula\", age 537, species \"Vampire\", room number 666, and special requirement \"Blackout curtains\", who checks in, requests nocturnal room service, and checks out.\n",
        "\n",
        "### class Room\n",
        "This class encapsulates the characteristics and functionalities of a hotel room, tailored to accommodate guests of all species.\n",
        "\n",
        "-   Attributes include the room's number, type, occupancy limit, and special features, detailing the room's capacity and amenities to ensure it meets the needs of its occupants.\n",
        "-   Methods like isAvailable(), bookRoom(), and vacateRoom() manage the room's booking status, assigning it to guests and preparing it for new arrivals.\n",
        "-   An example object could be a Suite with number 101, type \"Suite\", occupancy limit 4, and special features \"Moonlight windows\", available for booking by werewolf families.\n",
        "\n",
        "### class Bill\n",
        "THis class details the financial transactions associated with a guest's stay, including room charges and additional services.\n",
        "\n",
        "-   Attributes cover the bill number, guest name, room charge, additional services, and total amount, providing a comprehensive summary of the guest's expenses.\n",
        "-   Methods like addItem() and calculateTotal() add charges for extra services and compute the final bill, incorporating any species-specific discounts.\n",
        "-   An example object could be Bill#1234 for guest \"Dracula\", with room charge \\$300, additional services \\$50, leading to a total amount of \\$350 after special vampire discounts.\n",
        "\n",
        "### class Animal\n",
        "This class represents pets or companions of guests, catering to the diverse fauna that accompanies the hotel's clientele.\n",
        "\n",
        "-   Attributes include the animal's name, species, age, and owner name, identifying the animal and ensuring its needs are met in line with its species.\n",
        "-   Methods like play() and feed() provide for the animal's well-being, with activities and meals suited to its species.\n",
        "-   An example object could be a pet bat named \"Fluffy\", species \"Bat\", age 3, owned by \"Dracula\", who enjoys nocturnal play and is fed a diet of insect-based dishes.\n",
        "\n",
        "### class FoodItem\n",
        "This class details the various dishes available at the hotel, with considerations for the dietary restrictions of its diverse guests.\n",
        "\n",
        "-   Attributes include the food item's name, type, price, and dietary restrictions, ensuring it can be matched to guest preferences and health requirements.\n",
        "-   Methods like prepare() and serve() ensure the food item is made according to specific dietary needs and served to the guest's satisfaction.\n",
        "-   An example object could be a dish named \"Moonlit Mushroom Risotto\", type \"Entrée\", price $20, catering to \"Werewolf-friendly, vegetarian\", prepared with nightshade mushrooms and served under moonlight for enhanced flavor."
      ],
      "metadata": {
        "id": "GvV7_LvGzYIz"
      }
    },
    {
      "cell_type": "markdown",
      "source": [
        "## How do I Create Classes and Objects in Java?\n",
        "\n",
        "Creating classes and objects in Java involves two main steps. First, you define a class, which serves as a template or blueprint for your objects. This class includes declarations for the attributes (data) and methods (behaviors) that the objects created from this class will have. Second, you create objects from this class, which are instances embodying the defined attributes and methods.\n",
        "\n",
        "### Defining a Class\n",
        "\n",
        "A class in Java is defined using the `class` keyword, followed by the class name and a pair of curly braces `{}`. Inside these braces, you declare the class's attributes and methods.\n",
        "\n",
        "- **Attributes** are variables that hold data about the state of an object. They are defined by specifying a data type and a name for the variable.\n",
        "- **Methods** are blocks of code that define the behaviors of the objects. A method in Java is created by specifying a return type (the type of value the method sends back to its caller), the method's name, and a pair of parentheses `()`. If the method takes parameters, you list them inside these parentheses.\n",
        "- A **constructor** is a special method that has the same name as the class. It is called whenever new objects are created from the class.\n",
        "- Every Java program (though not necessarily every Java class) must have a **main** method. This is the method that gets called when the program is \"run.\"\n",
        "\n",
        "Let's take a look at how we might create our Guest class from before. Here, we're just going to focus on basic methods that you'll see in many Java classes."
      ],
      "metadata": {
        "id": "vfk7CGOmdf9e"
      }
    },
    {
      "cell_type": "code",
      "source": [
        "%%writefile Guest.java\n",
        "public class Guest {\n",
        "    // Attributes of the Guest class\n",
        "    private String name;\n",
        "    private int age;\n",
        "    private String species;\n",
        "    private String specialRequirements;\n",
        "\n",
        "    // Constructor to initialize the Guest object\n",
        "    public Guest(String name, int age, String species, String specialRequirements) {\n",
        "        this.name = name;\n",
        "        this.age = age;\n",
        "        this.species = species;\n",
        "        this.specialRequirements = specialRequirements;\n",
        "    }\n",
        "\n",
        "    // Method to return the guest's name\n",
        "    public String getName() {\n",
        "        return name;\n",
        "    }\n",
        "\n",
        "    // Method to set the guest's name\n",
        "    public void setName(String name) {\n",
        "        this.name = name;\n",
        "    }\n",
        "\n",
        "    // Method to return the guest's age\n",
        "    public int getAge() {\n",
        "        return age;\n",
        "    }\n",
        "\n",
        "    // Method to set the guest's age\n",
        "    public void setAge(int age) {\n",
        "        this.age = age;\n",
        "    }\n",
        "\n",
        "    // Method to return the guest's species\n",
        "    public String getSpecies() {\n",
        "        return species;\n",
        "    }\n",
        "\n",
        "    // Method to set the guest's species\n",
        "    public void setSpecies(String species) {\n",
        "        this.species = species;\n",
        "    }\n",
        "\n",
        "    // Method to return the guest's special requirements\n",
        "    public String getSpecialRequirements() {\n",
        "        return specialRequirements;\n",
        "    }\n",
        "\n",
        "    // Method to set the guest's special requirements\n",
        "    public void setSpecialRequirements(String specialRequirements) {\n",
        "        this.specialRequirements = specialRequirements;\n",
        "    }\n",
        "\n",
        "    // Method to display guest information\n",
        "    public void displayGuestInfo() {\n",
        "        System.out.println(\"Guest Name: \" + name);\n",
        "        System.out.println(\"Age: \" + age);\n",
        "        System.out.println(\"Species: \" + species);\n",
        "        System.out.println(\"Special Requirements: \" + specialRequirements);\n",
        "    }\n",
        "}\n"
      ],
      "metadata": {
        "colab": {
          "base_uri": "https://localhost:8080/"
        },
        "id": "ye-5gcvW1w3C",
        "outputId": "dc67057d-c447-430a-dbf4-4f05f7fcce38"
      },
      "execution_count": 2,
      "outputs": [
        {
          "output_type": "stream",
          "name": "stdout",
          "text": [
            "Writing Guest.java\n"
          ]
        }
      ]
    },
    {
      "cell_type": "markdown",
      "source": [
        "Now, we can compile this class as before (using `javac`). However, because this class doesn't have a `main()` function, we can't run it yet."
      ],
      "metadata": {
        "id": "fgTShX1ME1Ym"
      }
    },
    {
      "cell_type": "code",
      "source": [
        "# Compiling works fine.\n",
        "!javac Guest.java"
      ],
      "metadata": {
        "id": "sdlRr0eJEzkW"
      },
      "execution_count": 3,
      "outputs": []
    },
    {
      "cell_type": "code",
      "source": [
        "# This will lead to an error!\n",
        "# There is no main() method, so no \"application\"\n",
        "!java Guest.java"
      ],
      "metadata": {
        "id": "wWhS6exdk62M",
        "colab": {
          "base_uri": "https://localhost:8080/"
        },
        "outputId": "aa37505a-10db-4d6c-f430-7442613be508"
      },
      "execution_count": 4,
      "outputs": [
        {
          "output_type": "stream",
          "name": "stdout",
          "text": [
            "error: class found on application class path: Guest\n"
          ]
        }
      ]
    },
    {
      "cell_type": "markdown",
      "source": [
        "## Breaking Down Guest.java\n",
        "\n",
        "While `Guest.java` is pretty bare bones at this point, it illustrates the basic structure of how classes work. Let's walk through some of the main components.\n",
        "\n",
        "### Access Modifiers\n",
        "\n",
        "**Access modifiers** in Java determine the scope of access for classes, methods, and variables. They control where and how the members of a class can be accessed from other parts of your code. The Guest class utilizes two primary access modifiers: `private` and `public`.\n",
        "\n",
        "-   **private**. This modifier restricts the visibility to the class itself. For instance, the attributes `name`, `age`, `species`, and `specialRequirements` are marked as `private`, meaning they cannot be directly accessed from outside the Guest class. This encapsulation ensures that the internal state of an object is protected and can only be accessed through the class's public methods.\n",
        "\n",
        "-   **public.** This modifier allows members to be accessible from any other class. In the Guest class, methods such as `getName()`, `setName(String name)`, and `displayGuestInfo()` are declared `public`, making them accessible from other classes. This enables other parts of your program to interact with instances of Guest, while still keeping certain details private and controlled."
      ],
      "metadata": {
        "id": "trAYrFlRGcDf"
      }
    },
    {
      "cell_type": "markdown",
      "source": [
        "\n",
        "### Constructors\n",
        "\n",
        "A **constructor** is a special method in a class that is called when an object of that class is instantiated. Constructors have the same name as the class and do not have a return type. They are used to initialize the object's properties with specific values at the time of creation.\n",
        "\n",
        "In the Guest class, the constructor is defined as:\n",
        "\n",
        "```java\n",
        "public Guest(String name, int age, String species, String specialRequirements) {\n",
        "    this.name = name;\n",
        "    this.age = age;\n",
        "    this.species = species;\n",
        "    this.specialRequirements = specialRequirements;\n",
        "}\n",
        "```\n",
        "\n",
        "This constructor allows for the creation of Guest objects with initial values for `name`, `age`, `species`, and `specialRequirements`. The use of `this` keyword helps to distinguish between class attributes and constructor parameters when their names are the same.\n",
        "\n",
        "Later, when we create particular Guests (which are *objects*), we will implicitly rely on this instructor do this. For example:\n",
        "\n",
        "```java\n",
        "        // Creating an object for Dracula\n",
        "        Guest dracula = new Guest(\"Count Dracula\", 537, \"Vampire\", \"Blackout curtains for daytime sleep\");\n",
        "\n",
        "        // Creating an object for a Werewolf\n",
        "        Guest werewolf = new Guest(\"Larry Talbot\", 150, \"Werewolf\", \"Extra-large moonlit room\");\n",
        "\n",
        "        // Creating an object for a Frankenstein's Monster\n",
        "        Guest frankenstein = new Guest(\"Frankie Stein\", 200, \"Monster\", \"Electric recharge station\");\n",
        "```"
      ],
      "metadata": {
        "id": "h5VWrbx3JDv7"
      }
    },
    {
      "cell_type": "markdown",
      "source": [
        "\n",
        "### Getter Methods\n",
        "\n",
        "**Getter methods**, also known as **accessors**, are `public` methods that allow other classes to retrieve the value of private attributes. Each private attribute typically has a corresponding getter method.\n",
        "\n",
        "For example, the method to get the `name` of a guest is:\n",
        "\n",
        "```java\n",
        "public String getName() {\n",
        "    return name;\n",
        "}\n",
        "```\n",
        "\n",
        "This method provides read access to the `name` attribute. Since `name` is private, without this getter, external classes would not be able to obtain the `name` of a Guest object."
      ],
      "metadata": {
        "id": "5tY7VQySJGJa"
      }
    },
    {
      "cell_type": "markdown",
      "source": [
        "### Setter Methods\n",
        "\n",
        "**Setter methods**, also known as **mutators**, are `public` methods that allow other classes to set or modify the value of private attributes. They typically return void and take a parameter that is used to set the value of the attribute.\n",
        "\n",
        "For instance, the method to set the `name` of a guest is:\n",
        "\n",
        "```java\n",
        "public void setName(String name) {\n",
        "    this.name = name;\n",
        "}\n",
        "```\n",
        "\n",
        "This method provides write access to the `name` attribute. It allows external classes to change the name of a Guest object after it has been instantiated. The use of the `this` keyword is crucial here to refer to the instance variable `name`, distinguishing it from the parameter `name`.\n"
      ],
      "metadata": {
        "id": "h71nCIG-JKVX"
      }
    },
    {
      "cell_type": "markdown",
      "source": [
        "### Putting our Class to Work\n",
        "\n",
        "Java **applications** usually consist of multiple classes, each class defined in its own file. A class is a blueprint from which individual objects are created. It defines the state and behavior that the objects of the class all share. For instance, in a hotel management system, you might have classes like `Guest`, `Room`, `Bill`, etc.\n",
        "\n",
        "Each Java file should be named after the public class it contains, ensuring that the file name matches the class name, including capitalization, with the file extension being `.java`. For example, a class named `Guest` would be in a file named `Guest.java`.\n",
        "\n",
        "### The `main()` Method\n",
        "\n",
        "Every Java application must have a `main()` method, as this is the entry point of the application. The `main()` method is always static, meaning it can be called without creating an instance of the class. It must also be public, allowing it to be accessible from anywhere. The signature of the `main()` method looks like this:\n",
        "\n",
        "```java\n",
        "public static void main(String[] args) {\n",
        "    // code to be executed\n",
        "}\n",
        "```\n",
        "\n",
        "The `String[] args` parameter is used to pass command-line arguments to the application, although it may not always be used within the method.\n",
        "\n",
        "### Creating Objects with `new`\n",
        "\n",
        "Objects are instances of classes. To create an object, Java uses the `new` keyword, which allocates memory for the new object and returns a reference to that memory. This reference is usually stored in a variable for later use. Here's how you typically use `new` to create an object:\n",
        "\n",
        "```java\n",
        "ClassName objectName = new ClassName(arguments);\n",
        "```\n",
        "\n",
        "-   `ClassName` is the name of the class you wish to create an object of.\n",
        "-   `objectName` is the variable name you assign to the object.\n",
        "-   `new` is the keyword that creates the object.\n",
        "-   `ClassName(arguments)` is the constructor of the class, which initializes the new object.\n",
        "\n",
        "For example, to create a `Guest` object in a hotel management system, you might write:\n",
        "\n",
        "```java\n",
        "\n",
        "Guest guest1 = new Guest(\"Count Dracula\", 537, \"Vampire\", \"Blackout curtains\");\n",
        "```\n",
        "\n",
        "Here, `guest1` is an instance of the `Guest` class, created with specific attributes defined by the class's constructor."
      ],
      "metadata": {
        "id": "a6oUTYlhNba_"
      }
    },
    {
      "cell_type": "markdown",
      "source": [
        "### Example: A Java Application\n",
        "Ok, we now have all the components to put together our Java application."
      ],
      "metadata": {
        "id": "kFO7CF3WNkNB"
      }
    },
    {
      "cell_type": "code",
      "source": [
        "%%writefile HotelTransylvania1.java\n",
        "public class HotelTransylvania1 {\n",
        "    public static void main(String[] args) {\n",
        "        // Creating an object for Dracula\n",
        "        Guest dracula = new Guest(\"Count Dracula\", 537, \"Vampire\", \"Blackout curtains for daytime sleep\");\n",
        "        // Suppose Dracula decides to update his special requirements\n",
        "        dracula.setSpecialRequirements(\"Blackout curtains and soundproof walls\");\n",
        "\n",
        "        // Creating an object for a Werewolf\n",
        "        Guest werewolf = new Guest(\"Larry Talbot\", 150, \"Werewolf\", \"Extra-large moonlit room\");\n",
        "        // Checking Larry's species\n",
        "        System.out.println(werewolf.getName() + \" is a \" + werewolf.getSpecies());\n",
        "\n",
        "        // Creating an object for a Frankenstein's Monster\n",
        "        Guest frankenstein = new Guest(\"Frankie Stein\", 200, \"Monster\", \"Electric recharge station\");\n",
        "        // Frankie decides to change his name to \"Frank\"\n",
        "        frankenstein.setName(\"Frank\");\n",
        "\n",
        "        // Display information for each guest (assuming a displayGuestInfo method exists in the Guest class)\n",
        "        dracula.displayGuestInfo();\n",
        "        werewolf.displayGuestInfo();\n",
        "        frankenstein.displayGuestInfo();\n",
        "    }\n",
        "}\n",
        "\n"
      ],
      "metadata": {
        "colab": {
          "base_uri": "https://localhost:8080/"
        },
        "id": "u3i8JJykHlTu",
        "outputId": "bec8e8b1-ce5a-449d-bbd2-cb361aff83da"
      },
      "execution_count": 11,
      "outputs": [
        {
          "output_type": "stream",
          "name": "stdout",
          "text": [
            "Overwriting HotelTransylvania1.java\n"
          ]
        }
      ]
    },
    {
      "cell_type": "code",
      "source": [
        "!javac HotelTransylvania1.java"
      ],
      "metadata": {
        "id": "hKrc_SV2ONXc"
      },
      "execution_count": 12,
      "outputs": []
    },
    {
      "cell_type": "code",
      "source": [
        "!java HotelTransylvania1"
      ],
      "metadata": {
        "id": "rCtB7vqYORf3",
        "outputId": "e765cd6c-a978-46ff-b4c7-6c20c841ebf5",
        "colab": {
          "base_uri": "https://localhost:8080/"
        }
      },
      "execution_count": 13,
      "outputs": [
        {
          "output_type": "stream",
          "name": "stdout",
          "text": [
            "Larry Talbot is a Werewolf\n",
            "Guest Name: Count Dracula\n",
            "Age: 537\n",
            "Species: Vampire\n",
            "Special Requirements: Blackout curtains and soundproof walls\n",
            "Guest Name: Larry Talbot\n",
            "Age: 150\n",
            "Species: Werewolf\n",
            "Special Requirements: Extra-large moonlit room\n",
            "Guest Name: Frank\n",
            "Age: 200\n",
            "Species: Monster\n",
            "Special Requirements: Electric recharge station\n"
          ]
        }
      ]
    },
    {
      "cell_type": "markdown",
      "source": [
        "The HotelTransylvania1 class is a simple Java application that shows how to create and manipulate objects. It's designed to simulate a basic system for managing guests in a hotel, specifically tailored to the whimsical and spooky guests of the fictional Hotel Transylvania. Some things of importance:\n",
        "\n",
        "1. The `main` method serves as the entry point for any standalone Java application. When you run a Java program, the execution starts from the `main` method.\n",
        " -   It's declared as `public static void main(String[] args)`. The `public` modifier means it can be called from any other class, `static` allows it to be invoked without creating an instance of its class, `void` means it doesn't return any value, and `String[] args` is an array of strings that stores command-line arguments.\n",
        "2. In the `main` method, we create instances (objects) of the `Guest` class using the `new` keyword. This process is known as object instantiation. Each object represents a different guest at the hotel with unique attributes like name, age, species, and special requirements.\n",
        " -   For example, `Guest dracula = new Guest(\"Count Dracula\", 537, \"Vampire\", \"Blackout curtains for daytime sleep\");` This line creates a new `Guest` object named `dracula` with the provided attributes.\n",
        "3. After creating objects, you can call methods on these objects to perform actions or access their data. In this class, we assume a `displayGuestInfo()` method exists within the `Guest` class, which prints out the guest's details.\n",
        " -   `dracula.displayGuestInfo();` This line calls the `displayGuestInfo()` method on the `dracula` object, which should display Dracula's information.\n",
        "4. Getter and setter methods are commonly used to access and modify the private attributes of a class.\n",
        " -   A method call like `werewolf.getName()` allows external access to a guest's name in a controlled manner.\n",
        " -   Similarly, a method like `frankenstein.setName(\"Frank\")` allows the name of a guest to be changed after the object has been created.\n",
        "\n",
        " And with this, we've created our first multi-class Java application! Of course, most \"real-world\" Java applications contain *many* classes."
      ],
      "metadata": {
        "id": "3v112eCOkJAB"
      }
    },
    {
      "cell_type": "code",
      "source": [],
      "metadata": {
        "id": "D_CbYBwNkJa9"
      },
      "execution_count": null,
      "outputs": []
    }
  ]
}