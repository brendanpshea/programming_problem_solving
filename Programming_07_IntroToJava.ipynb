{
  "nbformat": 4,
  "nbformat_minor": 0,
  "metadata": {
    "colab": {
      "provenance": [],
      "authorship_tag": "ABX9TyMKtBOf9jNNuAPLZSxixSzb",
      "include_colab_link": true
    },
    "kernelspec": {
      "name": "python3",
      "display_name": "Python 3"
    },
    "language_info": {
      "name": "python"
    }
  },
  "cells": [
    {
      "cell_type": "markdown",
      "metadata": {
        "id": "view-in-github",
        "colab_type": "text"
      },
      "source": [
        "<a href=\"https://colab.research.google.com/github/brendanpshea/programming_problem_solving/blob/main/Programming_07_IntroToJava.ipynb\" target=\"_parent\"><img src=\"https://colab.research.google.com/assets/colab-badge.svg\" alt=\"Open In Colab\"/></a>"
      ]
    },
    {
      "cell_type": "markdown",
      "source": [
        "# Java! Java! Java!\n",
        "\n",
        "**Java** is a programming language that's been around since 1995. You might think of it as an oldie, but it's definitely a goldie. Why? Because it's designed to work on just about any device---your laptop, your phone, even your car might be running some Java code. You write your code once, and it can run anywhere that has a thing called the Java Virtual Machine (JVM).\n",
        "\n",
        "Now, you've already learned Python, which is fantastic for quick scripts, data science, and web development. But here's why learning Java is a great move too: it's incredibly popular in larger software systems, like those used by big companies and organizations. Think banks, hospitals, and other places that need software to be secure, fast, and reliable. Java's architecture makes it a strong choice for these kinds of complex systems.\n",
        "\n",
        "## What is the Java Development Kit (JDK)?\n",
        "\n",
        "Imagine you're an artist. You've got your ideas, but you need paints, brushes, and a canvas to bring them to life. The Java Development Kit, or JDK for short, is like your artist's toolkit for Java programming. It's got all the tools you need to create, fine-tune, and run your Java masterpieces.\n",
        "\n",
        "The JDK includes a bunch of helpful items:\n",
        "\n",
        "-   A compiler that turns your code into something a computer can understand.\n",
        "-   A debugger to help you find mistakes in your code.\n",
        "-   A **Java Runtime Environment (JRE)** that has the **Java Virtual Machine (JVM)** needed to run your Java programs.\n",
        "\n",
        "So here's how it works: you write your Java code in a text editor or a specialized tool called an Integrated Development Environment (IDE).\n",
        " (Later, I'll have some instructions on using **VSCode**, popular IDE among profressional porgrammers). Once you're ready, you use the JDK's compiler to turn your written code into \"bytecode.\" This bytecode can be understood by the JVM, which means your program can run on any device that has a JVM. And that's a lot of devices!\n",
        "\n",
        "In the world of Python, you write your code, and it runs directly through an interpreter. Java adds an extra step---you compile your code first and then run it. It might sound like more work, but it gives you a lot of flexibility. Plus, it's a skill that many employers find valuable.\n",
        "\n",
        "So, why should you care about learning Java, especially when you already know Python? Well, being bilingual is a good thing, right? Each language has its strengths and weaknesses, and the more languages you know, the more versatile a programmer you become. Java will open doors to different kinds of projects and job opportunities. In computer science, being versatile isn't just a neat trick---it's a career builder."
      ],
      "metadata": {
        "id": "8M95IrdYVKor"
      }
    },
    {
      "cell_type": "markdown",
      "source": [
        "## Compiling and Running Java Programs\n",
        "Let's peel back the layers of how Java compilation works. If you've only been using Python, you're in for an interesting shift. Python is like having a conversation---you say something (write code), and you get an immediate reply (execution). Java, on the other hand, is more like writing a letter (code), sending it through a process to make it universally understandable (compilation), and then getting a response (execution). Here's how it all comes together, using the classic \"Hello, World!\" program as our example.\n",
        "\n",
        "### Step 1: Writing the Source Code\n",
        "\n",
        "First things first, you'll write your Java code in a text editor. For a \"Hello, World!\" program, the code will look something like this. (You can ignore the \"%%writefile\"--this is only required becuase I am writing these notes in Colab)."
      ],
      "metadata": {
        "id": "nO0MqpjpWPth"
      }
    },
    {
      "cell_type": "code",
      "source": [
        "%%writefile HelloWorld.java\n",
        "// My first Java Program\n",
        "\n",
        "public class HelloWorld {\n",
        "    public static void main(String[] args) {\n",
        "        System.out.println(\"Hello, World!\");\n",
        "    }\n",
        "}"
      ],
      "metadata": {
        "colab": {
          "base_uri": "https://localhost:8080/"
        },
        "id": "Zl0Z3H1oWQkN",
        "outputId": "56f4034b-bb4f-41ec-aa5b-72457195fc84"
      },
      "execution_count": null,
      "outputs": [
        {
          "output_type": "stream",
          "name": "stdout",
          "text": [
            "Overwriting HelloWorld.java\n"
          ]
        }
      ]
    },
    {
      "cell_type": "markdown",
      "source": [
        "Save this code in a file with a `.java` extension. Let's name it `HelloWorld.java`. The name of the file must match the name of the class---Java is picky about that.\n",
        "\n",
        "### Step 2: The Compilation Process\n",
        "\n",
        "Once your code is written, it's time to turn it into something a machine can understand. Open your command line or terminal and navigate to the folder where your `HelloWorld.java` file is saved. Now, you'll use the `javac` compiler that comes with the JDK. Type in\n",
        "\n",
        "`javac HelloWorld.java`.\n",
        "\n",
        "In this notebook, I need to add a `!` (you WON'T need this):"
      ],
      "metadata": {
        "id": "IQmdzJXkW8fp"
      }
    },
    {
      "cell_type": "code",
      "source": [
        "!javac HelloWorld.java # compile a Java file"
      ],
      "metadata": {
        "id": "pS2EdyCaVNws"
      },
      "execution_count": null,
      "outputs": []
    },
    {
      "cell_type": "markdown",
      "source": [
        "### Step 3: Running the Bytecode\n",
        "\n",
        "You've got your `HelloWorld.class` file, which is fantastic! But it's not doing much just sitting there. To make it come to life, you'll use the `java` command:\n",
        "\n",
        "` java HelloWorld`\n",
        "\n",
        "Notice that you don't include the `.class` extension. When you run this command, the JVM fires up and interprets the bytecode. It translates these universal instructions into something your specific machine can understand and execute. And voila, \"Hello, World!\" appears on your screen."
      ],
      "metadata": {
        "id": "Msx_mEJkX34O"
      }
    },
    {
      "cell_type": "code",
      "source": [
        "!java HelloWorld # run compiled bytecode"
      ],
      "metadata": {
        "colab": {
          "base_uri": "https://localhost:8080/"
        },
        "id": "DjUROZegYF4T",
        "outputId": "84cb72da-b93d-40d7-a6fd-79aa56c6ae5a"
      },
      "execution_count": null,
      "outputs": [
        {
          "output_type": "stream",
          "name": "stdout",
          "text": [
            "Hello, World!\n"
          ]
        }
      ]
    },
    {
      "cell_type": "markdown",
      "source": [
        "\n",
        "### How to Create, Compile, and Run \"HelloWorld.java\"\n",
        "\n",
        "Colab is not an ideal environment to develop Java (even though it works well for lecture notes). So, I would strongly encourage you to write and run your programs in an environment that is designed for it. Here's two tools you might use:\n",
        "\n",
        "\n",
        "#### VSCode / cs50.dev (Recommended)\n",
        "cs50.dev is a customized version of Visual Studio Code (VSCode) tailored for students, particularly those taking Harvard's CS50 courses. It offers a professional-grade development environment with access to a wide range of extensions and tools. To use cs50.dev, you'll need a GitHub account for authentication.\n",
        "\n",
        "1.  Sign Up for GitHub and Access cs50.dev\n",
        "\n",
        "    -   If you don't already have one, create a GitHub account at [github.com](https://github.com/).\n",
        "    -   Visit [cs50.dev](https://cs50.dev/) and log in with your GitHub account.\n",
        "2.  Create Your Program\n",
        "\n",
        "    -   Once logged in, you can create a new file by clicking on the \"New File\" icon and naming it \"HelloWorld.java\".\n",
        "    -   Enter your Java code into the editor.\n",
        "3.  Compile and Run:\n",
        "    -   Open the integrated terminal in cs50.dev (usually at the bottom of the screen).\n",
        "    -   Compile your program by typing `javac HelloWorld.java` and press Enter.\n",
        "    -   Run your compiled program by typing `java HelloWorld` and press Enter. Your program's output will appear in the terminal.\n",
        "\n",
        "cs50.dev provides an experience closest to professional development environments, and has significantly more ability to manage complex Java projects than either JDoodle (see below).\n",
        "\n",
        "#### JDoodle\n",
        "JDoodle is an online compiler and editor that allows you to write, compile, and run Java programs without needing to install Java on your computer. It's incredibly user-friendly and perfect for beginners who want to quickly test out small pieces of code. It doesn't work as well for larger programs (including some of those we will develop in later lessons).\n",
        "\n",
        "1.  Go to [JDoodle's website](https://www.jdoodle.com/) and select Java from the list of languages.\n",
        "2.  You'll see an editor window. Delete any pre-existing code and type in your \"HelloWorld.java\" program.\n",
        "3.  Compile and Run: Click the \"Execute\" button on the screen. JDoodle compiles and runs your program, displaying the output (\"Hello, World!\") below the code editor.\n",
        "\n",
        "JDoodle is probably the easiest and quickest way to start programming in Java, requiring no setup or installation.\n"
      ],
      "metadata": {
        "id": "NEE2W3YaWlQ4"
      }
    },
    {
      "cell_type": "markdown",
      "source": [
        "### Getting Chapter Code (if using cs50.dev)\n",
        "Once you are logged into cs50.dev, you can easily download the code from this chapter. In the terminal, just type the following:\n",
        "\n",
        "```\n",
        "wget https://github.com/brendanpshea/programming_problem_solving/raw/main/java/ch07.zip\n",
        "\n",
        "unzip ch07.zip\n",
        "\n",
        "rm ch07.zip\n",
        "\n",
        "cd ch07\n",
        "\n",
        "```\n",
        "This (1) downloads a zip file with the code, (2) unzips it, (3) deletes the zip file, and (4) puts you in the directory with the code."
      ],
      "metadata": {
        "id": "QalEDKlYEIa-"
      }
    },
    {
      "cell_type": "markdown",
      "source": [
        "## How Does Hello World Work? Java' Basic Structure\n",
        "So, what's happening in our HelloWorld program (see the source code above)? Here's a short explanation:\n",
        "\n",
        "#### Comments\n",
        "Any text following `//` is a **comment**. Comments are ignored by the compiler and are there to provide notes for the programmer. In our example, the line `// My first Java Program` is a comment.\n",
        "\n",
        "#### Class Declaration\n",
        "\n",
        "```java\n",
        "public class HelloWorld {\n",
        "  ...\n",
        "}\n",
        "```\n",
        "\n",
        "Here, `public` is an **access modifier** that means this class can be accessed from anywhere. `class` is a keyword that tells Java you're defining a **class**, or  type of object. `HelloWorld` is the name of the class, and it matches the filename `HelloWorld.java`.\n",
        "\n",
        "#### The Main Method\n",
        "\n",
        "```java\n",
        "public static void main(String[] args) {\n",
        "  ...\n",
        "}\n",
        "```\n",
        "\n",
        "Every Java application must have a **main method**. This is the entry point of the program, where execution starts. The `public` keyword means the method can be accessed from outside the class. `static` means the method belongs to the class itself, not to a specific object. `void` means this method doesn't return any value. Finally, `main` takes an array of strings as arguments, though we don't use it in this simple example.\n",
        "\n",
        "#### Statements\n",
        "\n",
        "```java\n",
        "System.out.println(\"Hello, World!\");\n",
        "```\n",
        "\n",
        "This is a statement, an instruction for the computer to perform a specific task. Here, `System.out.println()` is a method used to print text to the console. The text to be printed, \"Hello, World!\", is enclosed in quotes."
      ],
      "metadata": {
        "id": "0ZSgJbMucpQ3"
      }
    },
    {
      "cell_type": "markdown",
      "source": [
        "## Variables and Data Types in Java\n",
        "Imagine you have a series of small boxes, and you want to put different items in them---a marble in one, a rubber band in another, and a coin in yet another. In Java, these boxes are called variables, and the items you put in them are data. A variable is like a storage unit that holds data you can use and manipulate in your program. If you've programming in another langauge (such as Python), you're already familiar with variables.\n",
        "\n",
        "Now, in comparison to Python, Java is a bit particular about these boxe. Before you can store anything in them, you have to label them clearly. You can't just say, \"This is a box\"; you have to specify what kind of items the box will hold. This label is what we call a data type.\n",
        "\n",
        "Here are some basic data types in Java:\n",
        "\n",
        "-   `int:` This is for storing whole numbers, like 1, 100, or -33.\n",
        "-   `float` or `double` Use these data types when you've got numbers with decimals, like 3.14. `double` provides more space than `float`.\n",
        "-   `char:` This is for single characters, such as 'A' or '3'.\n",
        "-   `boolean:` This one's simple; it only holds true or false.\n",
        "-   `String:` Strings hold sequences of characters. In Java, strings are \"objects\" rather than primitives. (THis is why they must be Capitalized!).\n",
        "\n",
        "So when you declare a variable in Java, it goes like this:\n",
        "\n",
        "```java\n",
        "// Java variables must be explicitly typed\n",
        "int age = 44;\n",
        "float pi = 3.14f;\n",
        "char initial = 'J';\n",
        "boolean isTrue = true;\n",
        "String name = \"Java\";\n",
        "```\n",
        "\n",
        "### Java vs. Python: The Data Type Showdown\n",
        "\n",
        "You've learned Python, where life is easier in some ways. In Python, you don't have to declare a data type when you set up a variable. Python is like a laid-back friend who figures things out as they go. You can simply write:\n",
        "\n",
        "```python\n",
        "# In python, we don't need types\n",
        "age = 44\n",
        "pi = 3.14\n",
        "initial = 'P'\n",
        "isTrue = True\n",
        "name = \"Python\"\n",
        "```\n",
        "\n",
        "Python automatically figures out that 25 is an integer, 3.14 is a floating-point number, 'J' is a character, and True is a boolean value. It's as if Python looks into each box and says, \"Ah, I see what you're storing here!\"  But Java is more like that meticulous friend who wants everything labeled and sorted from the start. Knowing the data type in advance helps Java allocate just the right amount of memory for each variable, making it efficient, especially for large-scale applications."
      ],
      "metadata": {
        "id": "a_2TwAzFX4C3"
      }
    },
    {
      "cell_type": "markdown",
      "source": [
        "## Output in Java\n",
        "\n",
        "When your program needs to tell you something, it uses output statements. The most straightforward way to display output in Java is by using the `System.out.println()` method. This method prints text to the console and then moves the cursor to a new line. For example:\n",
        "\n",
        "```java\n",
        "System.out.println(\"Hello, World!\");\n",
        "```\n",
        "\n",
        "When this line is executed, \"Hello, World!\" will appear in your console. Simple, right?\n",
        "\n",
        "In Java, there are two primary options for printing text to the console: `System.out.print()` and `System.out.println()`.\n",
        "\n",
        "-   `System.out.print()`: This method prints text exactly as you provide it, without adding a newline at the end. The next thing you print will appear right next to it.\n",
        "\n",
        "-   `System.out.println()`: This method prints text and then moves the cursor to a new line, ready for the next output. It's like ending a sentence with a period and then hitting the 'Enter' key.\n",
        "\n",
        "You can use multiple `print` or `println` statements one after another to build up more complex output. For example, using `print` twice would concatenate the output on the same line:\n",
        "\n",
        "```java\n",
        "`System.out.print(\"Hello, \");\n",
        "System.out.print(\"World!\");\n",
        "```\n",
        "\n",
        "This will output: `Hello, World!`\n",
        "\n",
        "### Concatenating Strings in Output\n",
        "\n",
        "String concatenation in Java is straightforward---just use the `+` symbol. When you're outputting text and variables together, string concatenation becomes quite handy.\n",
        "\n",
        "```java\n",
        "String coffee = \"Espresso\";\n",
        "System.out.println(\"Your coffee choice is: \" + coffee);\n",
        "```\n",
        "\n",
        "### Formatting Variables\n",
        "\n",
        "Java provides a more advanced way to format your output using `System.out.printf()`. The `printf` method allows you to create a format string with placeholders, represented by `%` symbols, and then replace those placeholders with actual variable values.\n",
        "\n",
        "```java\n",
        "float price = 4.99f;\n",
        "System.out.printf(\"The price of your %s is $%.2f.\", coffee, price);\n",
        "```\n",
        "\n",
        "Here, `%s` is a placeholder for a string, and `%.2f` is a placeholder for a floating-point number with two decimal places.\n",
        "\n"
      ],
      "metadata": {
        "id": "goEgoppaabF3"
      }
    },
    {
      "cell_type": "markdown",
      "source": [
        "### Example Program: Back to 1995\n",
        "Java first came out in 1995. With that in mind, let's write a 1995-themed program demonstrating some of the ideas we've seen so far."
      ],
      "metadata": {
        "id": "8rv9X-Rql72U"
      }
    },
    {
      "cell_type": "code",
      "source": [
        "%%writefile NostalgiaShop1995.java\n",
        "public class NostalgiaShop1995 {\n",
        "    public static void main(String[] args) {\n",
        "        // Print a welcome message\n",
        "        System.out.println(\"Welcome to The Nostalgia Shop: Class of '95!\");\n",
        "\n",
        "        // Announce today's special item\n",
        "        System.out.print(\"Today's special is \");\n",
        "        System.out.print(\"'Jagged Little Pill' by Alanis Morissette.\\n\");\n",
        "\n",
        "        // Greet a specific customer\n",
        "        String customerName = \"Brendan\";\n",
        "        System.out.println(\"Hi, \" + customerName + \"! Your order is ready.\");\n",
        "\n",
        "        // Show the price of a chosen item\n",
        "        String itemChoice = \"Toy Story DVD\";\n",
        "        float price = 19.95f;\n",
        "        System.out.printf(\"The price of your %s is $%.2f.\\n\", itemChoice, price);\n",
        "\n",
        "        // Sum up the experience\n",
        "        System.out.print(\"Thanks for stopping by, \" + customerName + \". \");\n",
        "        System.out.printf(\"Your total is $%.2f. \", price);\n",
        "        System.out.println(\"Enjoy your trip down memory lane!\");\n",
        "    }\n",
        "}\n",
        "\n"
      ],
      "metadata": {
        "colab": {
          "base_uri": "https://localhost:8080/"
        },
        "id": "-a002fsR8U8e",
        "outputId": "9378441b-11b2-4ac1-fd2d-88d258b88c21"
      },
      "execution_count": null,
      "outputs": [
        {
          "output_type": "stream",
          "name": "stdout",
          "text": [
            "Writing NostalgiaShop1995.java\n"
          ]
        }
      ]
    },
    {
      "cell_type": "code",
      "source": [
        "!javac NostalgiaShop1995.java"
      ],
      "metadata": {
        "id": "ZRd-D6sK8hGk"
      },
      "execution_count": null,
      "outputs": []
    },
    {
      "cell_type": "code",
      "source": [
        "!java NostalgiaShop1995"
      ],
      "metadata": {
        "colab": {
          "base_uri": "https://localhost:8080/"
        },
        "id": "BHczxj8x8j7C",
        "outputId": "ab88cc2b-c4f3-428a-f62d-dc2dd8ea9702"
      },
      "execution_count": null,
      "outputs": [
        {
          "output_type": "stream",
          "name": "stdout",
          "text": [
            "Welcome to The Nostalgia Shop: Class of '95!\n",
            "Today's special is 'Jagged Little Pill' by Alanis Morissette.\n",
            "Hi, Brendan! Your order is ready.\n",
            "The price of your Toy Story DVD is $19.95.\n",
            "Thanks for stopping by, Brendan. Your total is $19.95. Enjoy your trip down memory lane!\n"
          ]
        }
      ]
    },
    {
      "cell_type": "markdown",
      "source": [
        "Some main techniques used in this program include:\n",
        "\n",
        "- `System.out.println()` method is used to print text messages to the console.\n",
        "- `System.out.print()` is similar to println but does not add a newline character after printing.\n",
        "- `String` variables are used to store text data like customer name, item name, and special item description.\n",
        "- A floating-point (`float`) variable named price is used to store the price of the item.\n",
        "- The `printf()` method is used to format the output of the price, including the dollar sign and two decimal places.\n",
        "- The `+` operator is used to concatenate strings, like in the welcome message where \"Hi, \" is combined with the customer name."
      ],
      "metadata": {
        "id": "ayI1IjPlWFVw"
      }
    },
    {
      "cell_type": "markdown",
      "source": [
        "## Input in Java\n",
        "\n",
        "Now, what if your program needs to listen, to get some data from you? That's where input comes in. Java's standard way to get user input is by using the `Scanner` class from the `java.util` package.\n",
        "\n",
        "First, you'll need to import the Scanner class at the beginning of your program:\n",
        "\n",
        "```java\n",
        "import java.util.Scanner;\n",
        "```\n",
        "\n",
        "Then, you can create a `Scanner` object and use its methods to get different types of input:\n",
        "\n",
        "```java\n",
        "Scanner scanner = new Scanner(System.in);\n",
        "```\n",
        "\n",
        "Here's how you can read different types of data:\n",
        "\n",
        "-   To read an integer: `int number = scanner.nextInt();`\n",
        "-   To read a floating-point number: `float decimal = scanner.nextFloat();`\n",
        "-   To read a single word: `String word = scanner.next();`\n",
        "-   To read a whole line: `String line = scanner.nextLine();`\n",
        "\n",
        "So, a simple program that asks for your age and then displays it might look like this:"
      ],
      "metadata": {
        "id": "oG1dtHTr8Rm9"
      }
    },
    {
      "cell_type": "code",
      "source": [
        "%%writefile AgeApp.java\n",
        "import java.util.Scanner;\n",
        "\n",
        "public class AgeApp {\n",
        "    public static void main(String[] args) {\n",
        "        Scanner scanner = new Scanner(System.in);\n",
        "        System.out.println(\"Please enter your age: \");\n",
        "        int age = scanner.nextInt();\n",
        "        System.out.println(\"You are \" + age + \" years old.\");\n",
        "    }\n",
        "}"
      ],
      "metadata": {
        "colab": {
          "base_uri": "https://localhost:8080/"
        },
        "id": "sNZxd3LjZZYB",
        "outputId": "9c6f39a0-1dac-4d47-b13f-c7a414f04482"
      },
      "execution_count": null,
      "outputs": [
        {
          "output_type": "stream",
          "name": "stdout",
          "text": [
            "Writing AgeApp.java\n"
          ]
        }
      ]
    },
    {
      "cell_type": "code",
      "source": [
        "!javac AgeApp.java # compile the program"
      ],
      "metadata": {
        "id": "_QyV26zka9uA"
      },
      "execution_count": null,
      "outputs": []
    },
    {
      "cell_type": "code",
      "source": [
        "!java AgeApp # run the byte code"
      ],
      "metadata": {
        "colab": {
          "base_uri": "https://localhost:8080/"
        },
        "id": "EE1iv2LxbDst",
        "outputId": "ae310a6e-f320-42db-cf3b-1289b1e24476"
      },
      "execution_count": null,
      "outputs": [
        {
          "output_type": "stream",
          "name": "stdout",
          "text": [
            "Please enter your age: \n",
            "42\n",
            "You are 42 years old.\n"
          ]
        }
      ]
    },
    {
      "cell_type": "markdown",
      "source": [
        "While this progam is a bit more complex than thsoe we've seen so far, here's the basic idea:\n",
        "\n",
        "1. `import java.util.Scanner;`. This line is an import statement that tells Java you'll be using a built-in tool called `Scanner`. Think of this as getting a tool out of the toolbox; the tool will help you read input from the user.\n",
        "\n",
        "2. `public class AgeApp {`. Here, `public` is an access modifier which means this class is accessible from any other class. The `class` keyword is used to declare a class, and `AgeApp` is the name we've chosen for this class. Classes in Java serve as blueprints for creating objects and can contain methods to perform actions.\n",
        "\n",
        "3. `public static void main(String[] args) {`.  This line declares the main method, which is the starting point for any Java program. The `public static void main(String[] args)` line might look intimidating, but it's mostly boilerplate code that you'll include in many Java programs. Here's a quick breakdown:\n",
        "\n",
        "  -   `public`: This method is accessible from everywhere.\n",
        "  -   `static`: This method belongs to the class itself, rather than an instance of the class.\n",
        "  -   `void`: This method doesn't return any value.\n",
        "  -   `main`: The name of the method. Java looks for this method when running your program.\n",
        "  -   `String[] args`: The method accepts an array of strings as an argument. This is often used for command-line arguments, although we're not using it here.\n",
        "\n",
        "4. `Scanner scanner = new Scanner(System.in);` This line creates a new `Scanner` object that will read input from the console (`System.in`). We're naming this object `scanner`. Think of the `Scanner` as a tiny robot that can fetch text that the user types into the console.\n",
        "\n",
        "5. `System.out.println(\"Please enter your age: \");`  Here, we're using `System.out.println()` to display a message to the console. This message acts as a prompt to tell the user what to do next---in this case, to enter their age.\n",
        "\n",
        "6. `int age = scanner.nextInt();` This line uses the `scanner` object to read the next integer that the user types into the console after the prompt. It then stores that integer in a variable named `age`.\n",
        "\n",
        "7. `System.out.println(\"You are \" + age + \" years old.\");` Finally, this line prints out a message telling the user how old they are, using string concatenation to combine a string with the `age` variable."
      ],
      "metadata": {
        "id": "rFAGLwVD-mmU"
      }
    },
    {
      "cell_type": "markdown",
      "source": [
        "## Java's Operators\n",
        "**Operators** in Java are like the verbs of the language---they're the action words that get things done. Just as you use verbs like \"run,\" \"jump,\" and \"eat\" to describe actions in English, you use operators like `+`, `-`, `*`, `/`, and `%` to perform mathematical operations in Java. Let's delve into how these operators work and why they're so crucial.\n",
        "\n",
        "### Basic Arithmetic Operators\n",
        "\n",
        "-   Addition (`+`). Adds two numbers together.\n",
        "-   Subtraction (`-`). Subtracts the right-hand operand from the left-hand operand.\n",
        "-   Multiplication (`*`). Multiplies two numbers.\n",
        "-   Division (`/`). Divides the left-hand operand by the right-hand operand.\n",
        "-   Modulus (`%`). Returns the remainder of the division of the left-hand operand by the right-hand operand.\n",
        "\n",
        "Here's a snippet of code demonstrating these:\n",
        "\n",
        "```java\n",
        "int a = 10;\n",
        "int b = 20;\n",
        "int sum = a + b;  // sum will be 30\n",
        "int difference = a - b;  // difference will be -10\n",
        "int product = a * b;  // product will be 200\n",
        "int quotient = b / a;  // quotient will be 2\n",
        "int remainder = b % a;  // remainder will be 0\n",
        "```\n",
        "\n",
        "In Java, not all operators are created equal---some get priority over others. This is known as **operator precedence**. For example, multiplication and division are performed before addition and subtraction. If you've ever puzzled over why `1 + 2 * 3` equals 7 and not 9, it's because of operator precedence.\n",
        "\n",
        "To make sure your calculations are done in the order you intend, you can use parentheses. Anything inside parentheses gets calculated first. For example, `(1 + 2) * 3` would indeed be 9.\n"
      ],
      "metadata": {
        "id": "TKNOAkU5d9X1"
      }
    },
    {
      "cell_type": "markdown",
      "source": [
        "### Toy Story Calculator\n",
        "Let's develop a Java program to further explore these concepts. In keeping with our 1995 theme, here's a simple calculator application based on the movie \"Toy Story\"."
      ],
      "metadata": {
        "id": "MeCTyVa4gONc"
      }
    },
    {
      "cell_type": "code",
      "source": [
        "%%writefile ToyStoryCalculator.java\n",
        "import java.util.Scanner;\n",
        "\n",
        "public class ToyStoryCalculator {\n",
        "    public static void main(String[] args) {\n",
        "        Scanner scanner = new Scanner(System.in);\n",
        "\n",
        "        // Woody discovers a calculator in Andy's room\n",
        "        System.out.println(\"Howdy, partner! Woody here. We found a calculator in Andy's drawer. What should we do?\");\n",
        "\n",
        "        // Woody prompts for the first number\n",
        "        System.out.println(\"Woody says: Gimme the first number, will ya?\");\n",
        "        float num1 = scanner.nextFloat();\n",
        "\n",
        "        // Woody prompts for the second number\n",
        "        System.out.println(\"Woody tips his hat: And what's the second number, partner?\");\n",
        "        float num2 = scanner.nextFloat();\n",
        "\n",
        "        // Woody performs calculations\n",
        "        float sum = num1 + num2;\n",
        "        float difference = num1 - num2;\n",
        "        float product = num1 * num2;\n",
        "        float quotient = num1 / num2;\n",
        "        float remainder = num1 % num2;\n",
        "\n",
        "        // Woody shares the results\n",
        "        System.out.println(\"Woody lassos the answers: Sum's \" + sum + \", yeehaw!\");\n",
        "        System.out.println(\"Woody twirls his lasso: Difference is \" + difference);\n",
        "        System.out.println(\"Woody does a cowboy dance: Product's \" + product);\n",
        "        System.out.println(\"Woody strums his guitar: Quotient is \" + quotient);\n",
        "        System.out.println(\"Woody tips his hat again: And the remainder's \" + remainder);\n",
        "\n",
        "        // Woody says goodbye\n",
        "        System.out.println(\"Woody waves: Thanks for calculatin' with us. See ya, partner!\");\n",
        "    }\n",
        "}\n",
        "\n"
      ],
      "metadata": {
        "colab": {
          "base_uri": "https://localhost:8080/"
        },
        "id": "UImrd_lKd9-9",
        "outputId": "5da5a15a-c24e-4b8e-d4ac-456699068b32"
      },
      "execution_count": null,
      "outputs": [
        {
          "output_type": "stream",
          "name": "stdout",
          "text": [
            "Writing ToyStoryCalculator.java\n"
          ]
        }
      ]
    },
    {
      "cell_type": "code",
      "source": [
        "!javac ToyStoryCalculator.java # compile the program"
      ],
      "metadata": {
        "id": "k-UCnp2AeVu9"
      },
      "execution_count": null,
      "outputs": []
    },
    {
      "cell_type": "code",
      "source": [
        "!java ToyStoryCalculator # run the bytecode"
      ],
      "metadata": {
        "colab": {
          "base_uri": "https://localhost:8080/"
        },
        "id": "KTHep4p7eZed",
        "outputId": "bd0580b0-d8ac-461d-e1b1-7071cf1b1644"
      },
      "execution_count": null,
      "outputs": [
        {
          "output_type": "stream",
          "name": "stdout",
          "text": [
            "Howdy, partner! Woody here. We found a calculator in Andy's drawer. What should we do?\n",
            "Woody says: Gimme the first number, will ya?\n",
            "4\n",
            "Woody tips his hat: And what's the second number, partner?\n",
            "6\n",
            "Woody lassos the answers: Sum's 10.0, yeehaw!\n",
            "Woody twirls his lasso: Difference is -2.0\n",
            "Woody does a cowboy dance: Product's 24.0\n",
            "Woody strums his guitar: Quotient is 0.6666667\n",
            "Woody tips his hat again: And the remainder's 4.0\n",
            "Woody waves: Thanks for calculatin' with us. See ya, partner!\n"
          ]
        }
      ]
    },
    {
      "cell_type": "markdown",
      "source": [
        "While this code block doesn't contain anything \"new,\" we can see a few things:\n",
        "1. `Scanner scanner = new Scanner(System.in);` is an example of **object instantiation** (again, more on this later). It creates a new `Scanner` object named `scanner`. The `Scanner` class is used for reading input from various sources, including user input from the console, which is indicated by `System.in`.\n",
        "\n",
        "2. The lines `float num1 = scanner.nextFloat();` and `float num2 = scanner.nextFloat();` declare variables `num1` and `num2` with the data type `float`, which can store decimal numbers. The values are assigned using the `nextFloat()` method of the `Scanner` object, which reads the next floating-point number entered by the user.\n",
        "\n",
        "3. The code performs basic arithmetic operations like addition (`+`), subtraction (`-`), multiplication (`*`), division (`/`), and finding the remainder (`%`). These operations are performed on the variables `num1` and `num2` and the results are stored in new variables (`sum`, `difference`, `product`, `quotient`, `remainder`). These are then \"printed.\""
      ],
      "metadata": {
        "id": "kH5eIf2cd4k4"
      }
    },
    {
      "cell_type": "markdown",
      "source": [
        "## Memory Management in Java\n",
        "\n",
        "When you declare a variable in Java, a specific amount of memory is allocated to store its value. The size of this memory chunk is determined by the variable's data type. For example, declaring an `int` variable allocates 4 bytes of memory, while a `float` variable takes up 4 bytes as well, but a `double` would occupy 8 bytes. This memory is reserved in a section of your computer's RAM as soon as the variable is declared.\n",
        "\n",
        "```java\n",
        "int age = 88;  // Allocates 4 bytes of memory for an integer\n",
        "```\n",
        "\n",
        "Because Java is a **statically-typed language**, you must declare the data type of a variable when you create it. This is like telling the computer, \"Hey, I'm going to need a box of this size, so please make sure it's ready for me.\" By specifying the size in advance, Java can manage memory much more efficiently, speeding up the execution of your program and reducing the chance of running out of memory.\n",
        "\n",
        "Now, let's contrast this with Python, a **dynamically-typed language**. In Python, you don't have to declare a variable's data type in advance. When you create a new variable, Python automatically decides the size of the memory allocation based on the value you're storing.\n",
        "\n",
        "```python\n",
        "age = 88  # Python automatically figures out it needs to allocate memory for an integer\n",
        "```\n",
        "\n",
        "While this makes Python easier to write and more flexible, it can also be less efficient. Imagine you're packing for a trip but don't know if you'll need a suitcase or just a backpack. You'd likely end up overpacking \"just in case,\" and that's what Python does---it often allocates more memory than necessary.\n",
        "\n",
        "In Java, the rigid requirement to specify data types may seem like a chore, but it's like having a well-organized toolbox. You know exactly where each tool goes, making it easier and faster to complete your projects. This level of efficiency is particularly important in large-scale applications where resources might be limited.\n",
        "\n",
        "So when it comes to memory management, Java is like a well-planned city with designated spaces for different types of buildings, while Python is more like a sprawling town where structures pop up as needed. Both have their charms and challenges, but understanding how each manages resources will make you a more effective programmer, capable of choosing the right tool---or language---for the job."
      ],
      "metadata": {
        "id": "6O2lobJ_fZYw"
      }
    },
    {
      "cell_type": "markdown",
      "source": [
        "### Exercise 1: Hello, World! in Java\n",
        "\n",
        "Write, compile, and run a Java program that prints \"Hello, World!\" to the console using command-line tools. Steps:\n",
        "\n",
        "1.  If terminal isn't already open (it probably is!), open a terminal window in VS Code (or your preferred environment) by going to `Terminal > New Terminal`.\n",
        "\n",
        "2.  Type the following command to create a new Java file:\n",
        "\n",
        "    `code HelloWorld.java`\n",
        "\n",
        "3. Type in the Hello World program (see notes above)\n",
        "\n",
        "4.  Compile the Code: In the terminal, compile your Java file by running:\n",
        "\n",
        "    `javac HelloWorld.java`\n",
        "\n",
        "5.  Run the Code: Once compiled, execute the program with:\n",
        "\n",
        "    `java HelloWorld`\n",
        "\n",
        "After filling in the blank and compiling, \"Hello, World!\" should be displayed in the terminal."
      ],
      "metadata": {
        "id": "YDaH9JeOiahD"
      }
    },
    {
      "cell_type": "code",
      "source": [
        "# You can paste your answer below the %%writefile line\n",
        "%%writefile HelloWorld.java\n",
        "\n"
      ],
      "metadata": {
        "id": "Pr8Bfg95W1qN"
      },
      "execution_count": null,
      "outputs": []
    },
    {
      "cell_type": "code",
      "source": [
        "!javac HelloWorld.java"
      ],
      "metadata": {
        "id": "2mbx6sRvXB-G"
      },
      "execution_count": null,
      "outputs": []
    },
    {
      "cell_type": "code",
      "source": [
        "!java HellWorld.java"
      ],
      "metadata": {
        "id": "hUZYiU4ZXDmN"
      },
      "execution_count": null,
      "outputs": []
    },
    {
      "cell_type": "markdown",
      "source": [
        "\n",
        "### Exercise 2: Getting User Input\n",
        "\n",
        "Modify your Java program to collect a user's name as input and greet them. The steps are as follows:\n",
        "\n",
        "1.  Edit `HelloWorld.java`: Open the existing `HelloWorld.java` file. Update the code so that it (a) asks the user for their name and (b) greets them by name.\n",
        "\n",
        "2.  Use the `javac` and `java` commands as before to compile and run the program.\n",
        "\n",
        "The program should prompt for a name. After entering it, you should see a greeting like \"Hello, Matilda!\"\n"
      ],
      "metadata": {
        "id": "nB0azqMqel6K"
      }
    },
    {
      "cell_type": "code",
      "source": [
        "# You can paste your answer below the %%writefile line\n",
        "%%writefile HelloWorld.java"
      ],
      "metadata": {
        "id": "-1FGK84kXKzO"
      },
      "execution_count": null,
      "outputs": []
    },
    {
      "cell_type": "code",
      "source": [
        "!javac HelloWorld.java"
      ],
      "metadata": {
        "id": "8-5rCpQJXLtu"
      },
      "execution_count": null,
      "outputs": []
    },
    {
      "cell_type": "markdown",
      "source": [
        "\n",
        "### Exercise 3: Make Mistakes\n",
        "(Adapted from *Think Java, 2e*). It is a good idea to commit as many errors as you can think of, so that you see what error messages the compiler produces. Sometimes the compiler tells you exactly what is wrong, and all you have to do is fix it. But sometimes the error messages are misleading. Over time you will develop a sense for when you can trust the compiler and when you have to figure things out yourself.\n",
        "\n",
        "Starting with the Hello World program, try out each of the following errors. After you make each change, compile the program, read the error message (if there is one), and then fix the error.\n",
        "\n",
        "1.  Remove one of the opening curly braces.\n",
        "2.  Remove one of the closing curly braces.\n",
        "3.  Instead of `main`, write `mian`.\n",
        "4.  Remove the word `static`.\n",
        "5.  Remove the word `public`.\n",
        "6.  Remove the word `System`.\n",
        "7.  Replace `println` with `Println`.\n",
        "8.  Replace `println` with `print`.\n",
        "9.  Delete one parenthesis.\n",
        "10. Add an extra parenthesis."
      ],
      "metadata": {
        "id": "pHogeMdNeooe"
      }
    },
    {
      "cell_type": "code",
      "source": [
        "# You can paste your answer below the %%writefile line\n",
        "%%writefile HelloWorld.java"
      ],
      "metadata": {
        "id": "8B_C71pLXS0L"
      },
      "execution_count": null,
      "outputs": []
    },
    {
      "cell_type": "code",
      "source": [
        "!javac HelloWorld.java"
      ],
      "metadata": {
        "id": "QgBDG6zOXUFL"
      },
      "execution_count": null,
      "outputs": []
    },
    {
      "cell_type": "code",
      "source": [
        "!java HelloWorld"
      ],
      "metadata": {
        "id": "9fQLHN78XWOd"
      },
      "execution_count": null,
      "outputs": []
    },
    {
      "cell_type": "markdown",
      "source": [],
      "metadata": {
        "id": "W2TGr4a6eoyf"
      }
    },
    {
      "cell_type": "markdown",
      "source": [
        "## Controlling Flow With `if` and `else`\n",
        "on a specific condition. The basic structure looks like this:\n",
        "\n",
        "```java\n",
        "if (condition) {\n",
        "    // Code that will run if the condition is true\n",
        "}\n",
        "```\n",
        "\n",
        "Here, the `condition` is usually a simple test that Java can evaluate as either true or false. If the condition is true, the code inside the curly braces `{}` will run. If the condition is false, Java will ignore this block and move on.\n",
        "\n",
        "### Wall-E's Battery Levels: An Example\n",
        "\n",
        "Let's imagine Wall-E (a cute cartoon robot with his own movie) operates based on his current battery level. He has three primary actions: explore, recharge, and idle. When his battery level is above 80%, he explores. Between 30% and 80%, he idles to conserve energy. Below 30%, he seeks out a recharge station.\n",
        "\n",
        "Here's how you might code that decision-making logic using if-statements:"
      ],
      "metadata": {
        "id": "_s2Csqy8tMFN"
      }
    },
    {
      "cell_type": "code",
      "source": [
        "%%writefile WallEActions.java\n",
        "import java.util.Scanner;\n",
        "\n",
        "public class WallEActions {\n",
        "    public static void main(String[] args) {\n",
        "        // Create a Scanner object to get user input\n",
        "        Scanner scanner = new Scanner(System.in);\n",
        "\n",
        "        // Ask the user to enter Wall-E's current battery level\n",
        "        System.out.println(\"Enter Wall-E's current battery level (0 to 100): \");\n",
        "\n",
        "        // Read the battery level entered by the user\n",
        "        int batteryLevel = scanner.nextInt();\n",
        "\n",
        "        // Check Wall-E's actions based on battery level\n",
        "        if (batteryLevel > 80) {\n",
        "            System.out.println(\"Explore the area.\");\n",
        "        } else if (batteryLevel >= 30) {\n",
        "            System.out.println(\"Conserve energy and idle.\");\n",
        "        } else {\n",
        "            System.out.println(\"Low battery! Find a recharge station.\");\n",
        "        }\n",
        "    }\n",
        "}\n"
      ],
      "metadata": {
        "id": "C2MiLX20fbX6",
        "colab": {
          "base_uri": "https://localhost:8080/"
        },
        "outputId": "bfec906d-faf4-4672-ac7b-bb0a0968d423"
      },
      "execution_count": null,
      "outputs": [
        {
          "output_type": "stream",
          "name": "stdout",
          "text": [
            "Writing WallEActions.java\n"
          ]
        }
      ]
    },
    {
      "cell_type": "code",
      "source": [
        "!javac WallEActions.java # compile"
      ],
      "metadata": {
        "id": "vEcR3ue2tf2p"
      },
      "execution_count": null,
      "outputs": []
    },
    {
      "cell_type": "code",
      "source": [
        "!java WallEActions # run"
      ],
      "metadata": {
        "colab": {
          "base_uri": "https://localhost:8080/"
        },
        "id": "z4G7ZXp_tj6T",
        "outputId": "1fa7a6c3-f9f8-41ae-bcb8-0040c60a83b6"
      },
      "execution_count": null,
      "outputs": [
        {
          "output_type": "stream",
          "name": "stdout",
          "text": [
            "Enter Wall-E's current battery level (0 to 100): \n",
            "50\n",
            "Conserve energy and idle.\n"
          ]
        }
      ]
    },
    {
      "cell_type": "markdown",
      "source": [
        "### String Manipulation in Java\n",
        "\n",
        "In Python, you might be accustomed to dealing with strings in a straightforward way. In Java, strings are **objects**, not primitive data types. This means you'll be using **methods** to manipulate them, rather than simple operators. (We'll learn more about objects and methods in a futre lesson). For example, to concatenate two strings, you can still use the `+` operator, just like in Python:\n",
        "\n",
        "```java\n",
        "String greeting = \"Hello\";\n",
        "String name = \"Wall-E\";\n",
        "String completeGreeting = greeting + \", \" + name + \"!\";\n",
        "```\n",
        "\n",
        "\n",
        "### String Comparison: Equals Method\n",
        "\n",
        "In Python, comparing two strings for equality is straightforward and uses the `==` operator. However, in Java, you should use the `.equals()` method for string comparison. Using `==` in Java compares object references, not the content of the strings.\n",
        "\n",
        "Here's how you might use `.equals()`:\n",
        "\n",
        "```java\n",
        "if (actionCommand.equals(\"explore\")) {\n",
        "    // Execute explore code\n",
        "}\n",
        "```\n",
        "\n",
        "### Adjusting Wall-E's Program for String Input\n",
        "\n",
        "Let's say you want to adjust the Wall-E program to accept string commands like \"explore,\" \"idle,\" and \"recharge\" instead of numeric battery levels.\n",
        "\n",
        "Here's how you could do it:"
      ],
      "metadata": {
        "id": "n45kwmnsuPrC"
      }
    },
    {
      "cell_type": "code",
      "source": [
        "%%writefile WallEActionsWithString.java\n",
        "import java.util.Scanner;\n",
        "\n",
        "public class WallEActionsWithString {\n",
        "    public static void main(String[] args) {\n",
        "        // Create a Scanner object to read user input\n",
        "        Scanner scanner = new Scanner(System.in);\n",
        "\n",
        "        // Ask the user to enter a command for Wall-E\n",
        "        System.out.println(\"Enter a command for Wall-E (explore, idle, recharge): \");\n",
        "\n",
        "        // Read the command entered by the user\n",
        "        String actionCommand = scanner.nextLine();\n",
        "\n",
        "        // Decide Wall-E's actions based on the command\n",
        "        if (actionCommand.equals(\"explore\")) {\n",
        "            System.out.println(\"Wall-E is exploring the area.\");\n",
        "        } else if (actionCommand.equals(\"idle\")) {\n",
        "            System.out.println(\"Wall-E is conserving energy and idling.\");\n",
        "        } else if (actionCommand.equals(\"recharge\")) {\n",
        "            System.out.println(\"Wall-E is finding a recharge station.\");\n",
        "        } else {\n",
        "            System.out.println(\"Invalid command. Wall-E is confused.\");\n",
        "        }\n",
        "    }\n",
        "}\n"
      ],
      "metadata": {
        "colab": {
          "base_uri": "https://localhost:8080/"
        },
        "id": "y2ozyy0ruSV0",
        "outputId": "a6abb912-44d8-49a7-f409-e6c99d67790c"
      },
      "execution_count": null,
      "outputs": [
        {
          "output_type": "stream",
          "name": "stdout",
          "text": [
            "Writing WallEActionsWithString.java\n"
          ]
        }
      ]
    },
    {
      "cell_type": "code",
      "source": [
        "!javac WallEActionsWithString.java # compile"
      ],
      "metadata": {
        "id": "0DpD39BUuZxm"
      },
      "execution_count": null,
      "outputs": []
    },
    {
      "cell_type": "code",
      "source": [
        "!java WallEActionsWithString # run"
      ],
      "metadata": {
        "colab": {
          "base_uri": "https://localhost:8080/"
        },
        "id": "A-rrA8MTueAt",
        "outputId": "f8060175-3982-448a-df2d-913ff5d00163"
      },
      "execution_count": null,
      "outputs": [
        {
          "output_type": "stream",
          "name": "stdout",
          "text": [
            "Enter a command for Wall-E (explore, idle, recharge): \n",
            "explore\n",
            "Wall-E is exploring the area.\n"
          ]
        }
      ]
    },
    {
      "cell_type": "markdown",
      "source": [
        "In the `WallEActionsWithString` program, we see the use of Strings and the `equals` method. As described above, a String in Java is a sequence of characters. In this code, the String variable `actionCommand` is used to store the command input by the user. The `equals` method is a String method used to compare two strings for equality. It checks whether the content of the strings is the same.\n",
        "\n",
        "For example, `actionCommand.equals(\"explore\")` checks if the user's input exactly matches the string \"explore\". This is different from using `==`, which in Java is used to compare object references, not the content of the objects.\n",
        "\n",
        "The program also demonstrates if-else conditional statements. These statements are used to execute different blocks of code based on certain conditions. Here, they are used to determine the action Wall-E should take based on the command entered. The program checks each condition in order: if `actionCommand` equals \"explore\", it executes one block of code; if it equals \"idle\", another block; if it equals \"recharge\", yet another block; and if none of these conditions are met, the else block is executed, indicating an invalid command."
      ],
      "metadata": {
        "id": "9eRJO_ncfSwv"
      }
    },
    {
      "cell_type": "markdown",
      "source": [
        "## Loops in Java\n",
        "Loops in Java function like a vinyl record on a turntable—spinning around and around until told to stop. They're instrumental in automating repetitive tasks, making your programs more efficient and your life easier. Let's delve into the essential types of loops in Java: the for loop, the while loop, and the do-while loop.\n",
        "\n",
        "### The For Loop\n",
        "\n",
        "The `for` loop has a very structured way of setting itself up. Its syntax consists of three parts, separated by semicolons:\n",
        "\n",
        "```java\n",
        "for (initialization; condition; update) {\n",
        "    // Code to be executed\n",
        "}\n",
        "```\n",
        "\n",
        "-  **Initialization** is where you set up your loop variable, often named `i`. This part runs only once at the beginning.\n",
        "-  **Condition** is an the expression is checked before each iteration. If it's `true`, the loop continues; if `false`, the loop exits.\n",
        "-  **Update** updates the loop variable, usually incrementing it.\n",
        "\n",
        "```java\n",
        "for (int i = 0; i < 10; i++) {\n",
        "    System.out.println(\"This is loop iteration \" + i);\n",
        "}\n",
        "```\n",
        "\n",
        "Here, `int i = 0` initializes `i` to 0. The condition `i < 10` means the loop will run as long as `i` is less than 10. Finally, `i++` increments `i` by 1 each time the loop runs.\n",
        "\n",
        "### The While Loop\n",
        "\n",
        "The `while` loop is simpler in syntax but more flexible in usage:\n",
        "\n",
        "```java\n",
        "while (condition) {\n",
        "    // Code to be executed\n",
        "}\n",
        "```\n",
        "\n",
        "The **condition** is the heart of the `while` loop. As long as this condition evaluates to `true`, the loop will keep running.\n",
        "\n",
        "```java\n",
        "int batteryLevel = 100;\n",
        "while (batteryLevel > 0) {\n",
        "    System.out.println(\"Battery level: \" + batteryLevel + \"%\");\n",
        "    batteryLevel -= 10;\n",
        "}\n",
        "```\n",
        "\n",
        "Here, `batteryLevel > 0` is the condition. Wall-E will keep operating as long as this condition is true. The statement `batteryLevel -= 10;` decreases the battery level by 10% each time the loop runs.\n",
        "\n",
        "### The Do-While Loop\n",
        "\n",
        "The `do-while` loop is similar to the `while` loop but with a twist:\n",
        "\n",
        "```java\n",
        "do {\n",
        "    // Code to be executed\n",
        "} while (condition);\n",
        "```\n",
        "\n",
        "In contrast to while, the **condition** is checked after the loop body executes, allowing the body to run at least once.\n",
        "\n",
        "```java\n",
        "int attempts = 0;\n",
        "do {\n",
        "    System.out.println(\"Trying to connect... Attempt \" + (attempts + 1));\n",
        "    attempts++;\n",
        "} while (attempts < 3);\n",
        "```\n",
        "\n",
        "Here, the loop body will execute once before checking the condition `attempts < 3`. If it's `true`, the loop will run again. The `attempts++` part increments the `attempts` variable, ensuring that the loop doesn't become an endless cycle."
      ],
      "metadata": {
        "id": "WfdVnm_zvhPm"
      }
    },
    {
      "cell_type": "markdown",
      "source": [
        "### Example: EVE loves Wally\n",
        "Here's a program illustrating the above concepts:"
      ],
      "metadata": {
        "id": "csPe9jhEw-8Y"
      }
    },
    {
      "cell_type": "code",
      "source": [
        "%%writefile EVEandNumber.java\n",
        "import java.util.Scanner;\n",
        "\n",
        "public class EVEandNumber {\n",
        "    public static void main(String[] args) {\n",
        "        Scanner scanner = new Scanner(System.in);\n",
        "        int userNumber;\n",
        "\n",
        "        // Using do-while loop for input validation\n",
        "        do {\n",
        "            System.out.println(\"EVE asks: Please enter a number between 1 and 10.\");\n",
        "            userNumber = scanner.nextInt();\n",
        "        } while (userNumber < 1 || userNumber > 10); // Validate the input\n",
        "\n",
        "        // Using for loop to do something funny\n",
        "        String message = \"EVE says: I love Wall-E\";\n",
        "        for (int i = 1; i <= userNumber; i++) {\n",
        "            message += \"!\";\n",
        "            System.out.println(message);\n",
        "        }\n",
        "    }\n",
        "}\n"
      ],
      "metadata": {
        "colab": {
          "base_uri": "https://localhost:8080/"
        },
        "id": "9x15u66awMMF",
        "outputId": "d83d98c7-d580-43fe-85b9-6b7cd171654d"
      },
      "execution_count": null,
      "outputs": [
        {
          "output_type": "stream",
          "name": "stdout",
          "text": [
            "Writing EVEandNumber.java\n"
          ]
        }
      ]
    },
    {
      "cell_type": "code",
      "source": [
        "!javac EVEandNumber.java"
      ],
      "metadata": {
        "id": "EV5kMcutxdxI"
      },
      "execution_count": null,
      "outputs": []
    },
    {
      "cell_type": "code",
      "source": [
        "!java EVEandNumber"
      ],
      "metadata": {
        "colab": {
          "base_uri": "https://localhost:8080/"
        },
        "id": "miwZsIhnxnYp",
        "outputId": "ade907ff-15a7-4de5-a39d-aed8dfe0da56"
      },
      "execution_count": null,
      "outputs": [
        {
          "output_type": "stream",
          "name": "stdout",
          "text": [
            "EVE asks: Please enter a number between 1 and 10.\n",
            "5\n",
            "EVE says: I love Wall-E!\n",
            "EVE says: I love Wall-E!!\n",
            "EVE says: I love Wall-E!!!\n",
            "EVE says: I love Wall-E!!!!\n",
            "EVE says: I love Wall-E!!!!!\n"
          ]
        }
      ]
    },
    {
      "cell_type": "markdown",
      "source": [
        "In this program:\n",
        "\n",
        "-   The `do-while` loop ensures the user enters a valid number between 1 and 10. If the number is outside this range, EVE will keep asking.\n",
        "-  Here `userNumber < 1 || userNumber > 10` means \"less than 1 or more than 10.\"\n",
        "-   The `for` loop takes this number and iterates that many times. Each iteration appends an additional exclamation mark to the message \"I love Wall-E,\" making the message increasingly enthusiastic."
      ],
      "metadata": {
        "id": "xWpbPjzxxNIh"
      }
    },
    {
      "cell_type": "markdown",
      "source": [
        "## How do Java and Python's Features Influence Their Uses?\n",
        "\n",
        "To understand the different uses of Java and Python, it's essential to delve into some key features of these languages: static vs. dynamic typing, compiled vs. interpreted nature, and their approach to object-oriented programming (OOP). These characteristics significantly influence where and how each language is used.\n",
        "\n",
        "### Static vs. Dynamic Typing\n",
        "\n",
        "-   Java is a statically typed language. This means that the type of each variable (like integer, string, or object) must be explicitly declared and is checked at compile-time, before the program runs. This results in fewer runtime errors and makes the code more robust, but it also makes the code more verbose and can slow down development.\n",
        "-   Python, on the other hand, is dynamically typed. Variable types are determined at runtime and don't need to be declared explicitly. This makes Python more flexible and faster to write, as developers don't need to worry about specifying data types. However, it can also lead to more runtime errors that are only caught when the specific piece of code is executed.\n",
        "\n",
        "### Compiled vs. Interpreted Nature\n",
        "\n",
        "-   Java code is compiled into bytecode, which runs on the Java Virtual Machine (JVM). This makes Java programs platform-independent as the JVM can be installed on various hardware and operating systems. The compilation process can make Java programs run faster than interpreted languages.\n",
        "-   Python is primarily an interpreted language, meaning the code is executed line by line. This makes Python easier to debug and ideal for rapid development, but it can be slower than compiled languages like Java.\n",
        "\n",
        "### Object-Oriented Programming (OOP) Paradigm\n",
        "\n",
        "-   Both Java and Python support OOP, a paradigm that uses \"objects\" and \"classes\" to structure software programs. However, Java uses OOP more strictly. Everything in Java is an object, and it uses classes extensively. This strict OOP model makes Java robust and scalable, which is why it's used in large systems like enterprise software and Android apps.\n",
        "-   Python uses a more flexible approach to OOP. It allows more freedom in using OOP principles, making it suitable for a wider range of tasks, including scripting, web development, and data analysis.\n",
        "\n",
        "To make these concepts more relatable, let's use the example of building a house (a software application).\n",
        "\n",
        "-   Using Java is like having a detailed blueprint (type declaration) from the start and building the house (writing the code) based on those strict guidelines. This approach ensures that the structure (the program) is robust and less prone to collapse (errors) but requires more upfront planning and effort. Large software projects, whether these be software for business applications, web servers, or Android apps, often use Java.\n",
        "\n",
        "-   Building with Python is more like starting with a general idea and adding details as you go along. You can adjust the plan (code) on the fly, which allows for more creativity and faster changes, but there's a higher risk that you'll encounter unexpected issues during construction (runtime). Python is used in cases where there is a high priority of rapid development and writing clear, explainable code. So, for example, Python is widely used in areas like machine learning, artificial intelligence, cybersecurity, and data analytics.\n"
      ],
      "metadata": {
        "id": "ap8lKGBug_c1"
      }
    },
    {
      "cell_type": "markdown",
      "source": [
        "## Summary: Java vs Python\n",
        "| In Python, I would... | In Java, I would... |\n",
        "| --- | --- |\n",
        "| Write code in a script or notebook | Write code inside a class and method |\n",
        "| Run the script directly | Compile the code with `javac` and run with `java` |\n",
        "| Use `print(\"Hello, World!\")` | Use `System.out.println(\"Hello, World!\");` |\n",
        "| Use `input(\"Enter a number: \")` | Use `Scanner scanner = new Scanner(System.in);` <br> `int num = scanner.nextInt();` |\n",
        "| Use `if x > 10:` | Use `if (x > 10) { }` |\n",
        "| Use `elif` and `else` | Use `else if` and `else` |\n",
        "| Use indentation to denote blocks | Use curly braces `{}` to denote blocks |\n",
        "| Use `for i in range(10):` | Use `for (int i = 0; i < 10; i++) { }` |\n",
        "| Use `while x > 0:` | Use `while (x > 0) { }` |\n",
        "| End statements without a symbol | End statements with a semicolon `;` |"
      ],
      "metadata": {
        "id": "hR9dBnUCyc9a"
      }
    },
    {
      "cell_type": "code",
      "source": [
        "# Review with Quizlet\n",
        "%%html\n",
        "<iframe src=\"https://quizlet.com/885347789/learn/embed?i=psvlh&x=1jj1\" height=\"500\" width=\"100%\" style=\"border:0\"></iframe>"
      ],
      "metadata": {
        "id": "2tPXMKabYpEb",
        "outputId": "f4cf1f3c-3c06-45c4-dc3d-b70fb06c5e57",
        "colab": {
          "base_uri": "https://localhost:8080/",
          "height": 521
        }
      },
      "execution_count": null,
      "outputs": [
        {
          "output_type": "display_data",
          "data": {
            "text/plain": [
              "<IPython.core.display.HTML object>"
            ],
            "text/html": [
              "<iframe src=\"https://quizlet.com/885347789/learn/embed?i=psvlh&x=1jj1\" height=\"500\" width=\"100%\" style=\"border:0\"></iframe>\n"
            ]
          },
          "metadata": {}
        }
      ]
    },
    {
      "cell_type": "markdown",
      "source": [
        "## Exercise 4\n",
        "\n",
        "(Adapted from *Think Java 2e*). The goal of this exercise is to program a Guess My Number game. It should be called **GuessStarter.java** When it's finished, it should work like this:\n",
        "\n",
        "```\n",
        "I'm thinking of a number between 1 and 100 (including both).\n",
        "Can you guess what it is?\n",
        "Type a number: 45\n",
        "Your guess is: 45\n",
        "The number I was thinking of is: 14\n",
        "You were off by: 31\n",
        "\n",
        "```\n",
        "\n",
        "To choose a random number, you can use the `Random` class in `java.util`. Here's how it works:\n",
        "\n",
        "```java\n",
        "// Starter Code for Guess Starter\n",
        "import java.util.Random;\n",
        "public class GuessStarter {\n",
        "  public static void main(String[] args) {\n",
        "    // pick a random number Random random = new Random();\n",
        "    int number = random.nextInt(100) + 1;\n",
        "    System.out.println(number);\n",
        "  }\n",
        "}\n",
        "```\n",
        "\n",
        "Like the `Scanner` class in this chapter, `Random` has to be imported before we can use it. And as with `Scanner`, we have to use the `new` operator to create a `Random` (number generator).\n",
        "\n",
        "Then we can use the method `nextInt` to generate a random number. In this example, the result of `nextInt(100)` will be between 0 and 99, including both. Adding 1 yields a number between 1 and 100, including both.\n",
        "\n",
        "1.  In the terminal `code GuessStarter.java` to create the GuessStarter program. Then, copy the starter code above.\n",
        "2.  Compile and run this program using `javac GuessStarter.java` and `java GuessStarter.`\n",
        "3.  Modify the program to prompt the user; then use a `Scanner` to read a line of user input. Compile and test the program.\n",
        "4.  Read the user input as an integer and display the result. Again, compile and test.\n",
        "5.  Compute and display the difference between the user's guess and the number that was generated."
      ],
      "metadata": {
        "id": "xNRB6NVFRpp6"
      }
    },
    {
      "cell_type": "code",
      "source": [
        "# paste your code below the writefile line\n",
        "%%writefile GuessStarter.java"
      ],
      "metadata": {
        "id": "McvxTyea1MIh"
      },
      "execution_count": null,
      "outputs": []
    },
    {
      "cell_type": "code",
      "source": [
        "!javac GuessStarter.java"
      ],
      "metadata": {
        "id": "I2_GU8flXzK_"
      },
      "execution_count": null,
      "outputs": []
    },
    {
      "cell_type": "code",
      "source": [
        "!java GuessStarter"
      ],
      "metadata": {
        "id": "d48Rpn_bX12T"
      },
      "execution_count": null,
      "outputs": []
    },
    {
      "cell_type": "markdown",
      "source": [
        "## Java Code to Know\n",
        "\n",
        "| Java Code to Know | Explanation in English |\n",
        "| --- | --- |\n",
        "| `// My first Java program` | Java code to include the comment \"My first Java program,\" indicating it's ignored by the compiler and used for notes. |\n",
        "| `public class HelloWorld {` | Java code to define a public class named HelloWorld, serving as the blueprint for objects and containing methods. |\n",
        "| `public static void main(String[] args) {` | Java code to declare the main method, the entry point for Java applications, necessary for execution. |\n",
        "| `System.out.println(\"Hello, World!\");` | Java code to print \"Hello, World!\" to the console, demonstrating basic output functionality. |\n",
        "| `javac HelloWorld.java` | Java code to compile HelloWorld.java into bytecode, preparing it for execution. |\n",
        "| `java HelloWorld` | Java code to run the compiled HelloWorld program, initiating its execution. |\n",
        "| `int age = 44;` | Java code to declare and initialize an integer variable age with the value 44, illustrating variable declaration. |\n",
        "| `float pi = 3.14f;` | Java code to declare and initialize a float variable pi with the value 3.14, using 'f' to indicate float type. |\n",
        "| `char initial = 'J';` | Java code to declare and initialize a char variable initial with the value 'J', representing a single character. |\n",
        "| `boolean isTrue = true;` | Java code to declare and initialize a boolean variable isTrue with the value true, indicating a true or false value. |\n",
        "| `import java.util.Scanner;` | Java code to import the Scanner class from Java's utility package, enabling user input functionality. |\n",
        "| `Scanner scanner = new Scanner(System.in);` | Java code to create a Scanner object for reading input from the console, facilitating user interaction. |\n",
        "| `int number = scanner.nextInt();` | Java code to read an integer from user input and store it in the variable number, demonstrating input capture. |\n",
        "| `String line = scanner.nextLine();` | Java code to read a line of text from user input and store it in the variable line, showcasing string input. |\n",
        "| `int quotient = b / a;` | Java code to divide the value of b by a and store the result in the variable quotient, illustrating basic arithmetic. |\n",
        "| `public static int add(int a, int b) { return a + b; }` | Java code to define a static method named add that sums two integers and returns the result, exemplifying method creation. |\n",
        "| `if (batteryLevel > 80) { //code }` | Java code to execute a block of code if batteryLevel is greater than 80, showing conditional logic. |\n",
        "| `if (actionCommand.equals(\"explore\")) { //code }` | Java code to execute a block of code if actionCommand equals \"explore\", demonstrating string comparison. |\n",
        "| `for (int i = 0; i < 10; i++) { //code }` | Java code to execute a block of code 10 times, illustrating loop functionality with a for loop. |\n",
        "| `while (batteryLevel > 0) { //code }` | Java code to execute a block of code as long as batteryLevel is greater than 0, showing loop functionality with a while loop. |"
      ],
      "metadata": {
        "id": "hwFDOHLgxNOE"
      }
    },
    {
      "cell_type": "markdown",
      "source": [
        "| Term | Definition |\n",
        "| --- | --- |\n",
        "| Java | A programming language that is high-level, class-based, and object-oriented with minimal implementation dependencies. |\n",
        "| Java Development Kit (JDK) | A software environment for developing Java applications and applets. It includes a compiler, Java Runtime Environment (JRE), and other tools. |\n",
        "| Java Runtime Environment (JRE) | A component of the JDK that includes libraries, the Java Virtual Machine (JVM), and components to run Java applications. |\n",
        "| Java Virtual Machine (JVM) | A computing machine that allows computers to run Java programs and programs in other languages compiled to Java bytecode. |\n",
        "| Object-oriented programming | A programming paradigm that uses \"objects\" containing data and code: fields and procedures respectively. |\n",
        "| Class | A blueprint for objects. It defines initial state (variables) and behavior (methods). |\n",
        "| Object | An instance of a class with state and behavior as defined by its class. |\n",
        "| Main method | The starting point for Java applications, a static method that accepts a string array as an argument. |\n",
        "| Static Typing | A language feature where the type of each variable is known at compile time. Variables must be declared before use. |\n",
        "| char | A data type for storing single characters, such as letters, digits, or symbols. |\n",
        "| int | A data type for storing integer values without fractional parts. |\n",
        "| float | A data type for storing numbers with fractional parts. |\n",
        "| boolean | A data type for true or false values used in logical operations. |\n",
        "| String | A Java class for text, storing sequences of characters as objects. |"
      ],
      "metadata": {
        "id": "4UWOxs8LYbZv"
      }
    },
    {
      "cell_type": "code",
      "source": [],
      "metadata": {
        "id": "H995tJoZYcH1"
      },
      "execution_count": null,
      "outputs": []
    }
  ]
}