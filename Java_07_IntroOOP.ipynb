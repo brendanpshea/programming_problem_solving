{
  "nbformat": 4,
  "nbformat_minor": 0,
  "metadata": {
    "colab": {
      "provenance": [],
      "authorship_tag": "ABX9TyOgRw8qtitVcFxQNR5z7VXR",
      "include_colab_link": true
    },
    "kernelspec": {
      "name": "python3",
      "display_name": "Python 3"
    },
    "language_info": {
      "name": "python"
    }
  },
  "cells": [
    {
      "cell_type": "markdown",
      "metadata": {
        "id": "view-in-github",
        "colab_type": "text"
      },
      "source": [
        "<a href=\"https://colab.research.google.com/github/brendanpshea/programming_problem_solving/blob/main/Java_07_IntroOOP.ipynb\" target=\"_parent\"><img src=\"https://colab.research.google.com/assets/colab-badge.svg\" alt=\"Open In Colab\"/></a>"
      ]
    },
    {
      "cell_type": "markdown",
      "source": [
        "# Objects Everywhere\n",
        "**Brendan Shea, PhD**\n",
        "\n",
        "So far, when we've been programming, we've focused on writing small programs with **functions**. Functions are useful because they let you break big problems into smaller steps. For example, you might have written one function to calculate damage in a battle, another to heal a character, and another to check if the game is over. But as your programs grow larger, functions alone can become difficult to manage. Imagine a role-playing game (RPG) with dozens of different characters, monsters, weapons, and magical items. Each one needs to keep track of its own information and actions. If we only use functions, we end up with long lists of variables and function calls that quickly become confusing.\n",
        "\n",
        "This is where **object-oriented programming (OOP)** comes in. The key idea is simple: instead of keeping data and behavior separate, we put them together. An **object** is a programming unit that bundles both information (**state**) and the things it can do (**behavior**) into one package.\n",
        "\n",
        "Think about a monster in an RPG:\n",
        "\n",
        "* A monster has **state**: its `name`, `health`, and `attackPower`.\n",
        "* A monster has **behavior**: it can `attack()` a character or `takeDamage()` when struck.\n",
        "\n",
        "In the function-only style, you might keep a list of monster names in one array, their health in another array, and then write functions that take an index number to figure out which monster to damage. This is clumsy. With objects, each monster keeps track of its own information, and you just tell the monster what to do.\n",
        "\n",
        "Here’s a quick illustration in plain language (not Java code yet):\n",
        "\n",
        "| Style          | Example                        |\n",
        "| -------------- | ------------------------------ |\n",
        "| Function-based | `damage(monsterHealth[3], 10)` |\n",
        "| Object-based   | `goblin.takeDamage(10)`        |\n",
        "\n",
        "The second line reads more naturally: we ask the **object** (the goblin) to perform its own action. This is why OOP is so popular in designing games and other large systems. It allows us to model the world in a way that matches how we already think about it.\n",
        "\n",
        "\n"
      ],
      "metadata": {
        "id": "lGlj1gi_A4Yp"
      }
    },
    {
      "cell_type": "code",
      "source": [
        "# @title\n",
        "%%html\n",
        "<svg width = \"60%\" viewBox=\"0 0 800 550\" xmlns=\"http://www.w3.org/2000/svg\">\n",
        "  <style>\n",
        "    .function-section { fill: #ffebee; stroke: #c62828; stroke-width: 3; }\n",
        "    .object-section { fill: #e8f5e9; stroke: #2e7d32; stroke-width: 3; }\n",
        "    .title-text { font-family: Arial, sans-serif; font-size: 20px; font-weight: bold; fill: #333; }\n",
        "    .section-title { font-family: Arial, sans-serif; font-size: 18px; font-weight: bold; }\n",
        "    .code-text { font-family: 'Courier New', monospace; font-size: 13px; fill: #333; }\n",
        "    .label-text { font-family: Arial, sans-serif; font-size: 13px; fill: #666; }\n",
        "    .pro { fill: #4caf50; }\n",
        "    .con { fill: #f44336; }\n",
        "  </style>\n",
        "\n",
        "  <!-- Title -->\n",
        "  <text x=\"400\" y=\"35\" text-anchor=\"middle\" class=\"title-text\">Two Approaches to Programming</text>\n",
        "\n",
        "  <!-- Function-Based Side -->\n",
        "  <rect x=\"30\" y=\"60\" width=\"360\" height=\"460\" class=\"function-section\" rx=\"10\"/>\n",
        "  <text x=\"210\" y=\"95\" text-anchor=\"middle\" class=\"section-title\" fill=\"#c62828\">Function-Based Approach</text>\n",
        "\n",
        "  <!-- Scattered data -->\n",
        "  <text x=\"50\" y=\"130\" class=\"label-text\" font-weight=\"bold\">Data stored separately:</text>\n",
        "  <text x=\"60\" y=\"155\" class=\"code-text\">String[] monsterNames = {\"Goblin\", \"Orc\"};</text>\n",
        "  <text x=\"60\" y=\"175\" class=\"code-text\">int[] monsterHealth = {30, 60};</text>\n",
        "  <text x=\"60\" y=\"195\" class=\"code-text\">int[] monsterPower = {5, 10};</text>\n",
        "\n",
        "  <!-- Functions -->\n",
        "  <text x=\"50\" y=\"235\" class=\"label-text\" font-weight=\"bold\">Functions operate on data:</text>\n",
        "  <text x=\"60\" y=\"260\" class=\"code-text\">void roar(int index) {</text>\n",
        "  <text x=\"70\" y=\"280\" class=\"code-text\">System.out.println(</text>\n",
        "  <text x=\"80\" y=\"300\" class=\"code-text\">monsterNames[index] +</text>\n",
        "  <text x=\"80\" y=\"320\" class=\"code-text\">\" roars!\");</text>\n",
        "  <text x=\"60\" y=\"340\" class=\"code-text\">}</text>\n",
        "\n",
        "  <text x=\"60\" y=\"375\" class=\"code-text\">void takeDamage(int index, int amt) {</text>\n",
        "  <text x=\"70\" y=\"395\" class=\"code-text\">monsterHealth[index] -= amt;</text>\n",
        "  <text x=\"60\" y=\"415\" class=\"code-text\">}</text>\n",
        "\n",
        "  <!-- Problems -->\n",
        "  <text x=\"50\" y=\"450\" class=\"label-text\" font-weight=\"bold\">Problems:</text>\n",
        "  <g transform=\"translate(60, 460)\">\n",
        "    <circle cx=\"0\" cy=\"5\" r=\"4\" class=\"con\"/>\n",
        "    <text x=\"10\" y=\"10\" class=\"label-text\">Data scattered across arrays</text>\n",
        "  </g>\n",
        "  <g transform=\"translate(60, 480)\">\n",
        "    <circle cx=\"0\" cy=\"5\" r=\"4\" class=\"con\"/>\n",
        "    <text x=\"10\" y=\"10\" class=\"label-text\">Must track indices carefully</text>\n",
        "  </g>\n",
        "  <g transform=\"translate(60, 500)\">\n",
        "    <circle cx=\"0\" cy=\"5\" r=\"4\" class=\"con\"/>\n",
        "    <text x=\"10\" y=\"10\" class=\"label-text\">Hard to keep data in sync</text>\n",
        "  </g>\n",
        "\n",
        "  <!-- Object-Based Side -->\n",
        "  <rect x=\"410\" y=\"60\" width=\"360\" height=\"460\" class=\"object-section\" rx=\"10\"/>\n",
        "  <text x=\"590\" y=\"95\" text-anchor=\"middle\" class=\"section-title\" fill=\"#2e7d32\">Object-Based Approach</text>\n",
        "\n",
        "  <!-- Class definition -->\n",
        "  <text x=\"430\" y=\"130\" class=\"label-text\" font-weight=\"bold\">Data and behavior bundled together:</text>\n",
        "  <text x=\"440\" y=\"155\" class=\"code-text\">class Monster {</text>\n",
        "  <text x=\"450\" y=\"175\" class=\"code-text\">String name;</text>\n",
        "  <text x=\"450\" y=\"195\" class=\"code-text\">int health;</text>\n",
        "  <text x=\"450\" y=\"215\" class=\"code-text\">int attackPower;</text>\n",
        "\n",
        "  <text x=\"450\" y=\"245\" class=\"code-text\">void roar() {</text>\n",
        "  <text x=\"460\" y=\"265\" class=\"code-text\">System.out.println(</text>\n",
        "  <text x=\"470\" y=\"285\" class=\"code-text\">name + \" roars!\");</text>\n",
        "  <text x=\"450\" y=\"305\" class=\"code-text\">}</text>\n",
        "\n",
        "  <text x=\"450\" y=\"335\" class=\"code-text\">void takeDamage(int amt) {</text>\n",
        "  <text x=\"460\" y=\"355\" class=\"code-text\">health -= amt;</text>\n",
        "  <text x=\"450\" y=\"375\" class=\"code-text\">}</text>\n",
        "  <text x=\"440\" y=\"395\" class=\"code-text\">}</text>\n",
        "\n",
        "  <!-- Benefits -->\n",
        "  <text x=\"430\" y=\"430\" class=\"label-text\" font-weight=\"bold\">Benefits:</text>\n",
        "  <g transform=\"translate(440, 440)\">\n",
        "    <circle cx=\"0\" cy=\"5\" r=\"4\" class=\"pro\"/>\n",
        "    <text x=\"10\" y=\"10\" class=\"label-text\">All data kept together</text>\n",
        "  </g>\n",
        "  <g transform=\"translate(440, 460)\">\n",
        "    <circle cx=\"0\" cy=\"5\" r=\"4\" class=\"pro\"/>\n",
        "    <text x=\"10\" y=\"10\" class=\"label-text\">Natural, readable code</text>\n",
        "  </g>\n",
        "  <g transform=\"translate(440, 480)\">\n",
        "    <circle cx=\"0\" cy=\"5\" r=\"4\" class=\"pro\"/>\n",
        "    <text x=\"10\" y=\"10\" class=\"label-text\">Objects manage themselves</text>\n",
        "  </g>\n",
        "  <g transform=\"translate(440, 500)\">\n",
        "    <circle cx=\"0\" cy=\"5\" r=\"4\" class=\"pro\"/>\n",
        "    <text x=\"10\" y=\"10\" class=\"label-text\">Easier to understand &amp; maintain</text>\n",
        "  </g>\n",
        "\n",
        "  <!-- Bottom comparison -->\n",
        "  <line x1=\"30\" y1=\"535\" x2=\"770\" y2=\"535\" stroke=\"#666\" stroke-width=\"2\"/>\n",
        "\n",
        "  <text x=\"150\" y=\"550\" text-anchor=\"middle\" class=\"code-text\" fill=\"#c62828\">roar(0);</text>\n",
        "  <text x=\"270\" y=\"550\" text-anchor=\"middle\" font-family=\"Arial\" font-size=\"14\" fill=\"#666\">vs</text>\n",
        "  <text x=\"590\" y=\"550\" text-anchor=\"middle\" class=\"code-text\" fill=\"#2e7d32\">goblin.roar();</text>\n",
        "  <text x=\"400\" y=\"543\" text-anchor=\"middle\" font-family=\"Arial\" font-size=\"11\" fill=\"#666\" font-style=\"italic\">\n",
        "    More natural!\n",
        "  </text>\n",
        "</svg>"
      ],
      "metadata": {
        "cellView": "form",
        "colab": {
          "base_uri": "https://localhost:8080/",
          "height": 595
        },
        "id": "qecwgNDm7E72",
        "outputId": "c84edda8-1200-45bc-bdae-fd092bca5f42"
      },
      "execution_count": 5,
      "outputs": [
        {
          "output_type": "display_data",
          "data": {
            "text/plain": [
              "<IPython.core.display.HTML object>"
            ],
            "text/html": [
              "<svg width = \"60%\" viewBox=\"0 0 800 550\" xmlns=\"http://www.w3.org/2000/svg\">\n",
              "  <style>\n",
              "    .function-section { fill: #ffebee; stroke: #c62828; stroke-width: 3; }\n",
              "    .object-section { fill: #e8f5e9; stroke: #2e7d32; stroke-width: 3; }\n",
              "    .title-text { font-family: Arial, sans-serif; font-size: 20px; font-weight: bold; fill: #333; }\n",
              "    .section-title { font-family: Arial, sans-serif; font-size: 18px; font-weight: bold; }\n",
              "    .code-text { font-family: 'Courier New', monospace; font-size: 13px; fill: #333; }\n",
              "    .label-text { font-family: Arial, sans-serif; font-size: 13px; fill: #666; }\n",
              "    .pro { fill: #4caf50; }\n",
              "    .con { fill: #f44336; }\n",
              "  </style>\n",
              "\n",
              "  <!-- Title -->\n",
              "  <text x=\"400\" y=\"35\" text-anchor=\"middle\" class=\"title-text\">Two Approaches to Programming</text>\n",
              "\n",
              "  <!-- Function-Based Side -->\n",
              "  <rect x=\"30\" y=\"60\" width=\"360\" height=\"460\" class=\"function-section\" rx=\"10\"/>\n",
              "  <text x=\"210\" y=\"95\" text-anchor=\"middle\" class=\"section-title\" fill=\"#c62828\">Function-Based Approach</text>\n",
              "\n",
              "  <!-- Scattered data -->\n",
              "  <text x=\"50\" y=\"130\" class=\"label-text\" font-weight=\"bold\">Data stored separately:</text>\n",
              "  <text x=\"60\" y=\"155\" class=\"code-text\">String[] monsterNames = {\"Goblin\", \"Orc\"};</text>\n",
              "  <text x=\"60\" y=\"175\" class=\"code-text\">int[] monsterHealth = {30, 60};</text>\n",
              "  <text x=\"60\" y=\"195\" class=\"code-text\">int[] monsterPower = {5, 10};</text>\n",
              "\n",
              "  <!-- Functions -->\n",
              "  <text x=\"50\" y=\"235\" class=\"label-text\" font-weight=\"bold\">Functions operate on data:</text>\n",
              "  <text x=\"60\" y=\"260\" class=\"code-text\">void roar(int index) {</text>\n",
              "  <text x=\"70\" y=\"280\" class=\"code-text\">System.out.println(</text>\n",
              "  <text x=\"80\" y=\"300\" class=\"code-text\">monsterNames[index] +</text>\n",
              "  <text x=\"80\" y=\"320\" class=\"code-text\">\" roars!\");</text>\n",
              "  <text x=\"60\" y=\"340\" class=\"code-text\">}</text>\n",
              "\n",
              "  <text x=\"60\" y=\"375\" class=\"code-text\">void takeDamage(int index, int amt) {</text>\n",
              "  <text x=\"70\" y=\"395\" class=\"code-text\">monsterHealth[index] -= amt;</text>\n",
              "  <text x=\"60\" y=\"415\" class=\"code-text\">}</text>\n",
              "\n",
              "  <!-- Problems -->\n",
              "  <text x=\"50\" y=\"450\" class=\"label-text\" font-weight=\"bold\">Problems:</text>\n",
              "  <g transform=\"translate(60, 460)\">\n",
              "    <circle cx=\"0\" cy=\"5\" r=\"4\" class=\"con\"/>\n",
              "    <text x=\"10\" y=\"10\" class=\"label-text\">Data scattered across arrays</text>\n",
              "  </g>\n",
              "  <g transform=\"translate(60, 480)\">\n",
              "    <circle cx=\"0\" cy=\"5\" r=\"4\" class=\"con\"/>\n",
              "    <text x=\"10\" y=\"10\" class=\"label-text\">Must track indices carefully</text>\n",
              "  </g>\n",
              "  <g transform=\"translate(60, 500)\">\n",
              "    <circle cx=\"0\" cy=\"5\" r=\"4\" class=\"con\"/>\n",
              "    <text x=\"10\" y=\"10\" class=\"label-text\">Hard to keep data in sync</text>\n",
              "  </g>\n",
              "\n",
              "  <!-- Object-Based Side -->\n",
              "  <rect x=\"410\" y=\"60\" width=\"360\" height=\"460\" class=\"object-section\" rx=\"10\"/>\n",
              "  <text x=\"590\" y=\"95\" text-anchor=\"middle\" class=\"section-title\" fill=\"#2e7d32\">Object-Based Approach</text>\n",
              "\n",
              "  <!-- Class definition -->\n",
              "  <text x=\"430\" y=\"130\" class=\"label-text\" font-weight=\"bold\">Data and behavior bundled together:</text>\n",
              "  <text x=\"440\" y=\"155\" class=\"code-text\">class Monster {</text>\n",
              "  <text x=\"450\" y=\"175\" class=\"code-text\">String name;</text>\n",
              "  <text x=\"450\" y=\"195\" class=\"code-text\">int health;</text>\n",
              "  <text x=\"450\" y=\"215\" class=\"code-text\">int attackPower;</text>\n",
              "  \n",
              "  <text x=\"450\" y=\"245\" class=\"code-text\">void roar() {</text>\n",
              "  <text x=\"460\" y=\"265\" class=\"code-text\">System.out.println(</text>\n",
              "  <text x=\"470\" y=\"285\" class=\"code-text\">name + \" roars!\");</text>\n",
              "  <text x=\"450\" y=\"305\" class=\"code-text\">}</text>\n",
              "  \n",
              "  <text x=\"450\" y=\"335\" class=\"code-text\">void takeDamage(int amt) {</text>\n",
              "  <text x=\"460\" y=\"355\" class=\"code-text\">health -= amt;</text>\n",
              "  <text x=\"450\" y=\"375\" class=\"code-text\">}</text>\n",
              "  <text x=\"440\" y=\"395\" class=\"code-text\">}</text>\n",
              "\n",
              "  <!-- Benefits -->\n",
              "  <text x=\"430\" y=\"430\" class=\"label-text\" font-weight=\"bold\">Benefits:</text>\n",
              "  <g transform=\"translate(440, 440)\">\n",
              "    <circle cx=\"0\" cy=\"5\" r=\"4\" class=\"pro\"/>\n",
              "    <text x=\"10\" y=\"10\" class=\"label-text\">All data kept together</text>\n",
              "  </g>\n",
              "  <g transform=\"translate(440, 460)\">\n",
              "    <circle cx=\"0\" cy=\"5\" r=\"4\" class=\"pro\"/>\n",
              "    <text x=\"10\" y=\"10\" class=\"label-text\">Natural, readable code</text>\n",
              "  </g>\n",
              "  <g transform=\"translate(440, 480)\">\n",
              "    <circle cx=\"0\" cy=\"5\" r=\"4\" class=\"pro\"/>\n",
              "    <text x=\"10\" y=\"10\" class=\"label-text\">Objects manage themselves</text>\n",
              "  </g>\n",
              "  <g transform=\"translate(440, 500)\">\n",
              "    <circle cx=\"0\" cy=\"5\" r=\"4\" class=\"pro\"/>\n",
              "    <text x=\"10\" y=\"10\" class=\"label-text\">Easier to understand &amp; maintain</text>\n",
              "  </g>\n",
              "\n",
              "  <!-- Bottom comparison -->\n",
              "  <line x1=\"30\" y1=\"535\" x2=\"770\" y2=\"535\" stroke=\"#666\" stroke-width=\"2\"/>\n",
              "  \n",
              "  <text x=\"150\" y=\"550\" text-anchor=\"middle\" class=\"code-text\" fill=\"#c62828\">roar(0);</text>\n",
              "  <text x=\"270\" y=\"550\" text-anchor=\"middle\" font-family=\"Arial\" font-size=\"14\" fill=\"#666\">vs</text>\n",
              "  <text x=\"590\" y=\"550\" text-anchor=\"middle\" class=\"code-text\" fill=\"#2e7d32\">goblin.roar();</text>\n",
              "  <text x=\"400\" y=\"543\" text-anchor=\"middle\" font-family=\"Arial\" font-size=\"11\" fill=\"#666\" font-style=\"italic\">\n",
              "    More natural!\n",
              "  </text>\n",
              "</svg>\n"
            ]
          },
          "metadata": {}
        }
      ]
    },
    {
      "cell_type": "markdown",
      "source": [
        "## Brendan's Lecture"
      ],
      "metadata": {
        "id": "z-w_f3rLzTpB"
      }
    },
    {
      "cell_type": "code",
      "source": [
        "from IPython.display import YouTubeVideo\n",
        "YouTubeVideo('YJIDIUzMRFE', width=800, height=500)"
      ],
      "metadata": {
        "id": "W-C__u5izW06"
      },
      "execution_count": null,
      "outputs": []
    },
    {
      "cell_type": "markdown",
      "source": [
        "## Objects in Everyday Life\n",
        "\n",
        "Before we dive into Java code, let’s slow down and make sure the concept of an **object** feels natural. In everyday life, almost everything you interact with can be described as an object. Objects combine two things:\n",
        "\n",
        "1. **State** — the information or properties the object has.\n",
        "2. **Behavior** — the actions or things the object can do.\n",
        "\n",
        "For example, consider a **backpack**:\n",
        "\n",
        "* State: its color, how many pockets it has, how much it currently weighs.\n",
        "* Behavior: you can open it, close it, or put items inside.\n",
        "\n",
        "Or think about a **cell phone**:\n",
        "\n",
        "* State: battery level, phone number, volume setting.\n",
        "* Behavior: it can ring, send a text, or play music.\n",
        "\n",
        "When we design programs, we use these same ideas. In an RPG, a **sword** has both state and behavior:\n",
        "\n",
        "* State: its name, price, and damage value.\n",
        "* Behavior: it can be used to attack.\n",
        "\n",
        "The key advantage of objects is that they keep the state and the behavior in one place. Instead of juggling a sword’s damage value in one list and its price in another, you can store all that information in a single object, and then ask the sword itself to describe or perform its actions.\n",
        "\n",
        "Here’s a simple table that captures this idea:\n",
        "\n",
        "| Real-World Example | State                 | Behavior                  |\n",
        "| ------------------ | --------------------- | ------------------------- |\n",
        "| Backpack           | color, size, weight   | open, close, put in items |\n",
        "| Cell phone         | battery level, number | call, text, ring          |\n",
        "| Sword (RPG)        | name, damage, price   | attack, display info      |\n",
        "\n",
        "When we begin writing Java programs using objects, we’ll build these bundles of state and behavior using something called a **class**. A class is like a blueprint: it describes what kind of state and behavior an object should have. From that blueprint, we can create many specific objects, each with its own data."
      ],
      "metadata": {
        "id": "Ci7wkUK4BBv0"
      }
    },
    {
      "cell_type": "code",
      "source": [
        "# @title\n",
        "%%html\n",
        "<svg width = \"60%\" viewBox=\"0 0 700 450\" xmlns=\"http://www.w3.org/2000/svg\">\n",
        "  <style>\n",
        "    .object-box { fill: #fff9c4; stroke: #f57f17; stroke-width: 3; }\n",
        "    .state-section { fill: #e1f5fe; stroke: #0277bd; stroke-width: 2; }\n",
        "    .behavior-section { fill: #f3e5f5; stroke: #7b1fa2; stroke-width: 2; }\n",
        "    .title-text { font-family: Arial, sans-serif; font-size: 20px; font-weight: bold; fill: #333; }\n",
        "    .section-title { font-family: Arial, sans-serif; font-size: 16px; font-weight: bold; }\n",
        "    .item-text { font-family: 'Courier New', monospace; font-size: 14px; fill: #333; }\n",
        "    .label-text { font-family: Arial, sans-serif; font-size: 14px; fill: #666; }\n",
        "  </style>\n",
        "\n",
        "  <!-- Title -->\n",
        "  <text x=\"350\" y=\"35\" text-anchor=\"middle\" class=\"title-text\">Objects Bundle State + Behavior</text>\n",
        "\n",
        "  <!-- Main Object Container -->\n",
        "  <rect x=\"50\" y=\"60\" width=\"600\" height=\"340\" class=\"object-box\" rx=\"10\"/>\n",
        "  <text x=\"350\" y=\"90\" text-anchor=\"middle\" class=\"title-text\" fill=\"#f57f17\">Monster Object: \"Goblin\"</text>\n",
        "\n",
        "  <!-- State Section -->\n",
        "  <rect x=\"80\" y=\"110\" width=\"250\" height=\"260\" class=\"state-section\" rx=\"8\"/>\n",
        "  <text x=\"205\" y=\"140\" text-anchor=\"middle\" class=\"section-title\" fill=\"#0277bd\">STATE (Fields)</text>\n",
        "  <text x=\"100\" y=\"165\" class=\"label-text\">What the object KNOWS:</text>\n",
        "\n",
        "  <g transform=\"translate(100, 180)\">\n",
        "    <circle cx=\"0\" cy=\"5\" r=\"4\" fill=\"#0277bd\"/>\n",
        "    <text x=\"15\" y=\"10\" class=\"item-text\">name = \"Goblin\"</text>\n",
        "  </g>\n",
        "\n",
        "  <g transform=\"translate(100, 210)\">\n",
        "    <circle cx=\"0\" cy=\"5\" r=\"4\" fill=\"#0277bd\"/>\n",
        "    <text x=\"15\" y=\"10\" class=\"item-text\">health = 30</text>\n",
        "  </g>\n",
        "\n",
        "  <g transform=\"translate(100, 240)\">\n",
        "    <circle cx=\"0\" cy=\"5\" r=\"4\" fill=\"#0277bd\"/>\n",
        "    <text x=\"15\" y=\"10\" class=\"item-text\">attackPower = 5</text>\n",
        "  </g>\n",
        "\n",
        "  <rect x=\"100\" y=\"270\" width=\"210\" height=\"80\" fill=\"#b3e5fc\" stroke=\"#0277bd\" stroke-width=\"1\" rx=\"4\"/>\n",
        "  <text x=\"205\" y=\"290\" text-anchor=\"middle\" font-family=\"Arial\" font-size=\"12\" fill=\"#01579b\">\n",
        "    <tspan x=\"205\" dy=\"0\">These are variables that</tspan>\n",
        "    <tspan x=\"205\" dy=\"16\">belong to THIS specific</tspan>\n",
        "    <tspan x=\"205\" dy=\"16\">object and persist as long</tspan>\n",
        "    <tspan x=\"205\" dy=\"16\">as the object exists.</tspan>\n",
        "  </text>\n",
        "\n",
        "  <!-- Behavior Section -->\n",
        "  <rect x=\"360\" y=\"110\" width=\"250\" height=\"260\" class=\"behavior-section\" rx=\"8\"/>\n",
        "  <text x=\"485\" y=\"140\" text-anchor=\"middle\" class=\"section-title\" fill=\"#7b1fa2\">BEHAVIOR (Methods)</text>\n",
        "  <text x=\"380\" y=\"165\" class=\"label-text\">What the object can DO:</text>\n",
        "\n",
        "  <g transform=\"translate(380, 180)\">\n",
        "    <circle cx=\"0\" cy=\"5\" r=\"4\" fill=\"#7b1fa2\"/>\n",
        "    <text x=\"15\" y=\"10\" class=\"item-text\">roar()</text>\n",
        "  </g>\n",
        "\n",
        "  <g transform=\"translate(380, 210)\">\n",
        "    <circle cx=\"0\" cy=\"5\" r=\"4\" fill=\"#7b1fa2\"/>\n",
        "    <text x=\"15\" y=\"10\" class=\"item-text\">attack()</text>\n",
        "  </g>\n",
        "\n",
        "  <g transform=\"translate(380, 240)\">\n",
        "    <circle cx=\"0\" cy=\"5\" r=\"4\" fill=\"#7b1fa2\"/>\n",
        "    <text x=\"15\" y=\"10\" class=\"item-text\">takeDamage(int)</text>\n",
        "  </g>\n",
        "\n",
        "  <rect x=\"380\" y=\"270\" width=\"210\" height=\"80\" fill=\"#f3e5f5\" stroke=\"#7b1fa2\" stroke-width=\"1\" rx=\"4\"/>\n",
        "  <text x=\"485\" y=\"290\" text-anchor=\"middle\" font-family=\"Arial\" font-size=\"12\" fill=\"#4a148c\">\n",
        "    <tspan x=\"485\" dy=\"0\">These are actions the</tspan>\n",
        "    <tspan x=\"485\" dy=\"16\">object can perform, using</tspan>\n",
        "    <tspan x=\"485\" dy=\"16\">its own state (fields) to</tspan>\n",
        "    <tspan x=\"485\" dy=\"16\">decide what to do.</tspan>\n",
        "  </text>\n",
        "\n",
        "  <!-- Bottom explanation -->\n",
        "  <text x=\"350\" y=\"425\" text-anchor=\"middle\" font-family=\"Arial\" font-size=\"14\" fill=\"#666\" font-style=\"italic\">\n",
        "    OOP bundles data and operations together in one unit!\n",
        "  </text>\n",
        "</svg>"
      ],
      "metadata": {
        "cellView": "form",
        "colab": {
          "base_uri": "https://localhost:8080/",
          "height": 557
        },
        "id": "2Hub7ADp9w0T",
        "outputId": "564936e8-41c0-43ff-b3d6-944f6137bf41"
      },
      "execution_count": 9,
      "outputs": [
        {
          "output_type": "display_data",
          "data": {
            "text/plain": [
              "<IPython.core.display.HTML object>"
            ],
            "text/html": [
              "<svg width = \"60%\" viewBox=\"0 0 700 450\" xmlns=\"http://www.w3.org/2000/svg\">\n",
              "  <style>\n",
              "    .object-box { fill: #fff9c4; stroke: #f57f17; stroke-width: 3; }\n",
              "    .state-section { fill: #e1f5fe; stroke: #0277bd; stroke-width: 2; }\n",
              "    .behavior-section { fill: #f3e5f5; stroke: #7b1fa2; stroke-width: 2; }\n",
              "    .title-text { font-family: Arial, sans-serif; font-size: 20px; font-weight: bold; fill: #333; }\n",
              "    .section-title { font-family: Arial, sans-serif; font-size: 16px; font-weight: bold; }\n",
              "    .item-text { font-family: 'Courier New', monospace; font-size: 14px; fill: #333; }\n",
              "    .label-text { font-family: Arial, sans-serif; font-size: 14px; fill: #666; }\n",
              "  </style>\n",
              "\n",
              "  <!-- Title -->\n",
              "  <text x=\"350\" y=\"35\" text-anchor=\"middle\" class=\"title-text\">Objects Bundle State + Behavior</text>\n",
              "\n",
              "  <!-- Main Object Container -->\n",
              "  <rect x=\"50\" y=\"60\" width=\"600\" height=\"340\" class=\"object-box\" rx=\"10\"/>\n",
              "  <text x=\"350\" y=\"90\" text-anchor=\"middle\" class=\"title-text\" fill=\"#f57f17\">Monster Object: \"Goblin\"</text>\n",
              "\n",
              "  <!-- State Section -->\n",
              "  <rect x=\"80\" y=\"110\" width=\"250\" height=\"260\" class=\"state-section\" rx=\"8\"/>\n",
              "  <text x=\"205\" y=\"140\" text-anchor=\"middle\" class=\"section-title\" fill=\"#0277bd\">STATE (Fields)</text>\n",
              "  <text x=\"100\" y=\"165\" class=\"label-text\">What the object KNOWS:</text>\n",
              "  \n",
              "  <g transform=\"translate(100, 180)\">\n",
              "    <circle cx=\"0\" cy=\"5\" r=\"4\" fill=\"#0277bd\"/>\n",
              "    <text x=\"15\" y=\"10\" class=\"item-text\">name = \"Goblin\"</text>\n",
              "  </g>\n",
              "  \n",
              "  <g transform=\"translate(100, 210)\">\n",
              "    <circle cx=\"0\" cy=\"5\" r=\"4\" fill=\"#0277bd\"/>\n",
              "    <text x=\"15\" y=\"10\" class=\"item-text\">health = 30</text>\n",
              "  </g>\n",
              "  \n",
              "  <g transform=\"translate(100, 240)\">\n",
              "    <circle cx=\"0\" cy=\"5\" r=\"4\" fill=\"#0277bd\"/>\n",
              "    <text x=\"15\" y=\"10\" class=\"item-text\">attackPower = 5</text>\n",
              "  </g>\n",
              "\n",
              "  <rect x=\"100\" y=\"270\" width=\"210\" height=\"80\" fill=\"#b3e5fc\" stroke=\"#0277bd\" stroke-width=\"1\" rx=\"4\"/>\n",
              "  <text x=\"205\" y=\"290\" text-anchor=\"middle\" font-family=\"Arial\" font-size=\"12\" fill=\"#01579b\">\n",
              "    <tspan x=\"205\" dy=\"0\">These are variables that</tspan>\n",
              "    <tspan x=\"205\" dy=\"16\">belong to THIS specific</tspan>\n",
              "    <tspan x=\"205\" dy=\"16\">object and persist as long</tspan>\n",
              "    <tspan x=\"205\" dy=\"16\">as the object exists.</tspan>\n",
              "  </text>\n",
              "\n",
              "  <!-- Behavior Section -->\n",
              "  <rect x=\"360\" y=\"110\" width=\"250\" height=\"260\" class=\"behavior-section\" rx=\"8\"/>\n",
              "  <text x=\"485\" y=\"140\" text-anchor=\"middle\" class=\"section-title\" fill=\"#7b1fa2\">BEHAVIOR (Methods)</text>\n",
              "  <text x=\"380\" y=\"165\" class=\"label-text\">What the object can DO:</text>\n",
              "  \n",
              "  <g transform=\"translate(380, 180)\">\n",
              "    <circle cx=\"0\" cy=\"5\" r=\"4\" fill=\"#7b1fa2\"/>\n",
              "    <text x=\"15\" y=\"10\" class=\"item-text\">roar()</text>\n",
              "  </g>\n",
              "  \n",
              "  <g transform=\"translate(380, 210)\">\n",
              "    <circle cx=\"0\" cy=\"5\" r=\"4\" fill=\"#7b1fa2\"/>\n",
              "    <text x=\"15\" y=\"10\" class=\"item-text\">attack()</text>\n",
              "  </g>\n",
              "  \n",
              "  <g transform=\"translate(380, 240)\">\n",
              "    <circle cx=\"0\" cy=\"5\" r=\"4\" fill=\"#7b1fa2\"/>\n",
              "    <text x=\"15\" y=\"10\" class=\"item-text\">takeDamage(int)</text>\n",
              "  </g>\n",
              "\n",
              "  <rect x=\"380\" y=\"270\" width=\"210\" height=\"80\" fill=\"#f3e5f5\" stroke=\"#7b1fa2\" stroke-width=\"1\" rx=\"4\"/>\n",
              "  <text x=\"485\" y=\"290\" text-anchor=\"middle\" font-family=\"Arial\" font-size=\"12\" fill=\"#4a148c\">\n",
              "    <tspan x=\"485\" dy=\"0\">These are actions the</tspan>\n",
              "    <tspan x=\"485\" dy=\"16\">object can perform, using</tspan>\n",
              "    <tspan x=\"485\" dy=\"16\">its own state (fields) to</tspan>\n",
              "    <tspan x=\"485\" dy=\"16\">decide what to do.</tspan>\n",
              "  </text>\n",
              "\n",
              "  <!-- Bottom explanation -->\n",
              "  <text x=\"350\" y=\"425\" text-anchor=\"middle\" font-family=\"Arial\" font-size=\"14\" fill=\"#666\" font-style=\"italic\">\n",
              "    OOP bundles data and operations together in one unit!\n",
              "  </text>\n",
              "</svg>\n"
            ]
          },
          "metadata": {}
        }
      ]
    },
    {
      "cell_type": "markdown",
      "source": [
        "## Classes as Blueprints\n",
        "\n",
        "Now that we understand what an **object** is, the next question is: how do we create one in Java? We do this by writing a **class**. A class is like a **blueprint** or a **recipe**. It tells the computer what kind of information (state) and what kinds of actions (behavior) belong to that kind of object. Once the blueprint is written, we can use it to create as many individual objects as we want.\n",
        "\n",
        "Think about an RPG monster. If you have a class called `Monster`, it acts like a template that describes what every monster should know and what it can do. For example:\n",
        "\n",
        "* Every monster has **state**: a name, a health value, and an attack power.\n",
        "* Every monster has **behavior**: it can attack, and it can take damage.\n",
        "\n",
        "But the blueprint is not the same thing as the finished product. If you write down a recipe for chocolate cake, you don’t yet have a cake—you just have instructions. To actually eat cake, you need to **create an instance** of the recipe. In the same way, when you write a class in Java, you don’t yet have an object—you just have the definition. To make an actual object, you’ll use the blueprint to create an instance, which we’ll see in the next section.\n",
        "\n",
        "Here’s what a very simple class definition looks like in Java:\n",
        "\n",
        "```java\n",
        "// This defines a Monster blueprint\n",
        "public class Monster {\n",
        "    // state: variables every monster has\n",
        "    String name;\n",
        "    int health;\n",
        "    int attackPower;\n",
        "\n",
        "    // behavior: a simple action\n",
        "    void roar() {\n",
        "        System.out.println(name + \" lets out a terrifying roar!\");\n",
        "    }\n",
        "}\n",
        "```\n",
        "\n",
        "Let’s break down the new Java syntax carefully:\n",
        "\n",
        "* `public class Monster { ... }`\n",
        "  Declares a new class named `Monster`. The word `public` means other code can use this class.\n",
        "* Inside the class, we list the **fields** (`String name; int health; int attackPower;`). These are the pieces of state every monster will have.\n",
        "* Then we define a **method** (`void roar()`). This is an action the monster can perform. The keyword `void` means the method does not return any value.\n",
        "\n",
        "At this point, we still don’t have an actual monster in our game—we just have the recipe. In the next section, we’ll see how to create real monsters from this blueprint.\n"
      ],
      "metadata": {
        "id": "kcxlR695CQFG"
      }
    },
    {
      "cell_type": "markdown",
      "source": [
        "## Creating Objects (Instances)\n",
        "\n",
        "Writing a class gives us a **blueprint**, but the blueprint does nothing until we use it to create something. In Java, each specific object we create from a class is called an **instance**. An instance is the actual “thing” in memory that stores the data and can perform the actions we defined in the class.\n",
        "\n",
        "To create an instance, Java uses the keyword **`new`**. The general form looks like this:\n",
        "\n",
        "```java\n",
        "ClassName variableName = new ClassName();\n",
        "```\n",
        "\n",
        "Let’s build a complete example. Here the `Monster` class includes a simple **`main` method** so we can test everything in one file:\n",
        "\n"
      ],
      "metadata": {
        "id": "yBwcPU5MCR1Z"
      }
    },
    {
      "cell_type": "code",
      "source": [
        "%%writefile Monster.java\n",
        "public class Monster {\n",
        "    // state: fields\n",
        "    String name;\n",
        "    int health;\n",
        "    int attackPower;\n",
        "\n",
        "    // behavior: a simple method\n",
        "    void roar() {\n",
        "        System.out.println(name + \" lets out a terrifying roar!\");\n",
        "    }\n",
        "\n",
        "    // main method for testing\n",
        "    public static void main(String[] args) {\n",
        "        // Create a Monster instance\n",
        "        Monster goblin = new Monster();\n",
        "\n",
        "        // Assign values to its state\n",
        "        goblin.name = \"Goblin\";\n",
        "        goblin.health = 30;\n",
        "        goblin.attackPower = 5;\n",
        "\n",
        "        // Call its behavior\n",
        "        goblin.roar();\n",
        "\n",
        "    }\n",
        "}"
      ],
      "metadata": {
        "colab": {
          "base_uri": "https://localhost:8080/"
        },
        "id": "Omks76LoCa10",
        "outputId": "093cb94a-f7a8-4c33-889e-d4af411d81dc"
      },
      "execution_count": null,
      "outputs": [
        {
          "output_type": "stream",
          "name": "stdout",
          "text": [
            "Writing Monster.java\n"
          ]
        }
      ]
    },
    {
      "cell_type": "code",
      "source": [
        "!javac Monster.java\n",
        "!java Monster"
      ],
      "metadata": {
        "colab": {
          "base_uri": "https://localhost:8080/"
        },
        "id": "OUVUZQZ6Cf0F",
        "outputId": "2d1df8d0-55d9-4dad-bf59-2ec656509482"
      },
      "execution_count": null,
      "outputs": [
        {
          "output_type": "stream",
          "name": "stdout",
          "text": [
            "Goblin lets out a terrifying roar!\n"
          ]
        }
      ]
    },
    {
      "cell_type": "markdown",
      "source": [
        "\n",
        "### Explaining the Syntax\n",
        "\n",
        "* `public static void main(String[] args)`\n",
        "  This is the **main method**. Every Java program starts running here. For now, think of it as the “entry point” where we test our code.\n",
        "\n",
        "* `Monster goblin = new Monster();`\n",
        "\n",
        "  * `Monster` is the class (the blueprint).\n",
        "  * `goblin` is a variable that refers to the new object.\n",
        "  * `new Monster()` creates a fresh monster in memory.\n",
        "\n",
        "* `goblin.name = \"Goblin\";`\n",
        "  This sets the **field** `name` of this specific monster. Each monster object will store its own copy of the fields.\n",
        "\n",
        "* `goblin.roar();`\n",
        "  This calls the `roar()` method. The dot (`.`) means “ask this specific object to do something.”\n",
        "\n",
        "Notice how natural the code reads: *tell the goblin to roar* or *tell the dragon to roar*. That’s the power of objects—they let us write code in a way that mirrors how we think about the problem.\n"
      ],
      "metadata": {
        "id": "J7-asAngCXbm"
      }
    },
    {
      "cell_type": "code",
      "source": [
        "# @title\n",
        "%%html\n",
        "<svg width = \"60%\" viewBox=\"0 0 800 500\" xmlns=\"http://www.w3.org/2000/svg\">\n",
        "  <style>\n",
        "    .blueprint { fill: #e3f2fd; stroke: #1976d2; stroke-width: 3; }\n",
        "    .instance { fill: #fff3e0; stroke: #f57c00; stroke-width: 2; }\n",
        "    .title-text { font-family: Arial, sans-serif; font-size: 18px; font-weight: bold; fill: #333; }\n",
        "    .field-text { font-family: 'Courier New', monospace; font-size: 14px; fill: #333; }\n",
        "    .label-text { font-family: Arial, sans-serif; font-size: 16px; font-weight: bold; fill: #666; }\n",
        "    .arrow { stroke: #666; stroke-width: 2; fill: none; marker-end: url(#arrowhead); }\n",
        "    .code-bg { fill: #f5f5f5; stroke: #999; stroke-width: 1; }\n",
        "  </style>\n",
        "\n",
        "  <defs>\n",
        "    <marker id=\"arrowhead\" markerWidth=\"10\" markerHeight=\"10\" refX=\"9\" refY=\"3\" orient=\"auto\">\n",
        "      <polygon points=\"0 0, 10 3, 0 6\" fill=\"#666\" />\n",
        "    </marker>\n",
        "  </defs>\n",
        "\n",
        "  <!-- Title -->\n",
        "  <text x=\"400\" y=\"30\" text-anchor=\"middle\" class=\"title-text\">Class Blueprint vs Object Instances</text>\n",
        "\n",
        "  <!-- Blueprint Section -->\n",
        "  <text x=\"150\" y=\"70\" text-anchor=\"middle\" class=\"label-text\">BLUEPRINT (Class)</text>\n",
        "  <rect x=\"40\" y=\"85\" width=\"220\" height=\"180\" class=\"blueprint\" rx=\"8\"/>\n",
        "  <text x=\"150\" y=\"110\" text-anchor=\"middle\" class=\"title-text\" fill=\"#1976d2\">Monster</text>\n",
        "\n",
        "  <text x=\"60\" y=\"140\" class=\"field-text\">Fields:</text>\n",
        "  <text x=\"70\" y=\"165\" class=\"field-text\">• String name</text>\n",
        "  <text x=\"70\" y=\"185\" class=\"field-text\">• int health</text>\n",
        "  <text x=\"70\" y=\"205\" class=\"field-text\">• int attackPower</text>\n",
        "\n",
        "  <text x=\"60\" y=\"235\" class=\"field-text\">Methods:</text>\n",
        "  <text x=\"70\" y=\"255\" class=\"field-text\">• roar()</text>\n",
        "\n",
        "  <!-- Arrow from blueprint to instances -->\n",
        "  <path d=\"M 260 175 L 320 175\" class=\"arrow\"/>\n",
        "  <text x=\"290\" y=\"165\" text-anchor=\"middle\" font-family=\"Arial\" font-size=\"12\" fill=\"#666\">creates →</text>\n",
        "\n",
        "  <!-- Instance 1 -->\n",
        "  <text x=\"550\" y=\"70\" text-anchor=\"middle\" class=\"label-text\">INSTANCES (Objects)</text>\n",
        "  <rect x=\"350\" y=\"85\" width=\"180\" height=\"120\" class=\"instance\" rx=\"8\"/>\n",
        "  <text x=\"440\" y=\"110\" text-anchor=\"middle\" class=\"title-text\" fill=\"#f57c00\">goblin</text>\n",
        "  <text x=\"365\" y=\"135\" class=\"field-text\">name: \"Goblin\"</text>\n",
        "  <text x=\"365\" y=\"155\" class=\"field-text\">health: 30</text>\n",
        "  <text x=\"365\" y=\"175\" class=\"field-text\">attackPower: 5</text>\n",
        "  <text x=\"365\" y=\"195\" class=\"field-text\">roar() ✓</text>\n",
        "\n",
        "  <!-- Instance 2 -->\n",
        "  <rect x=\"550\" y=\"85\" width=\"180\" height=\"120\" class=\"instance\" rx=\"8\"/>\n",
        "  <text x=\"640\" y=\"110\" text-anchor=\"middle\" class=\"title-text\" fill=\"#f57c00\">dragon</text>\n",
        "  <text x=\"565\" y=\"135\" class=\"field-text\">name: \"Dragon\"</text>\n",
        "  <text x=\"565\" y=\"155\" class=\"field-text\">health: 200</text>\n",
        "  <text x=\"565\" y=\"175\" class=\"field-text\">attackPower: 50</text>\n",
        "  <text x=\"565\" y=\"195\" class=\"field-text\">roar() ✓</text>\n",
        "\n",
        "  <!-- Code Example -->\n",
        "  <rect x=\"40\" y=\"310\" width=\"720\" height=\"160\" class=\"code-bg\" rx=\"5\"/>\n",
        "  <text x=\"50\" y=\"335\" class=\"field-text\" font-weight=\"bold\">Java Code:</text>\n",
        "\n",
        "  <text x=\"50\" y=\"360\" class=\"field-text\" fill=\"#1976d2\">// 1. Define the blueprint</text>\n",
        "  <text x=\"50\" y=\"380\" class=\"field-text\">public class Monster { ... }</text>\n",
        "\n",
        "  <text x=\"50\" y=\"410\" class=\"field-text\" fill=\"#f57c00\">// 2. Create instances using 'new'</text>\n",
        "  <text x=\"50\" y=\"430\" class=\"field-text\">Monster goblin = new Monster(\"Goblin\", 30, 5);</text>\n",
        "  <text x=\"50\" y=\"450\" class=\"field-text\">Monster dragon = new Monster(\"Dragon\", 200, 50);</text>\n",
        "\n",
        "  <!-- Note -->\n",
        "  <text x=\"400\" y=\"240\" text-anchor=\"middle\" font-family=\"Arial\" font-size=\"13\" fill=\"#666\" font-style=\"italic\">\n",
        "    Each object has its own copy of the fields!\n",
        "  </text>\n",
        "</svg>"
      ],
      "metadata": {
        "cellView": "form",
        "colab": {
          "base_uri": "https://localhost:8080/",
          "height": 543
        },
        "id": "qwqIy16t-VLP",
        "outputId": "e94be3c9-2429-49e3-e9be-12d8bfe0a5a4"
      },
      "execution_count": 10,
      "outputs": [
        {
          "output_type": "display_data",
          "data": {
            "text/plain": [
              "<IPython.core.display.HTML object>"
            ],
            "text/html": [
              "<svg width = \"60%\" viewBox=\"0 0 800 500\" xmlns=\"http://www.w3.org/2000/svg\">\n",
              "  <style>\n",
              "    .blueprint { fill: #e3f2fd; stroke: #1976d2; stroke-width: 3; }\n",
              "    .instance { fill: #fff3e0; stroke: #f57c00; stroke-width: 2; }\n",
              "    .title-text { font-family: Arial, sans-serif; font-size: 18px; font-weight: bold; fill: #333; }\n",
              "    .field-text { font-family: 'Courier New', monospace; font-size: 14px; fill: #333; }\n",
              "    .label-text { font-family: Arial, sans-serif; font-size: 16px; font-weight: bold; fill: #666; }\n",
              "    .arrow { stroke: #666; stroke-width: 2; fill: none; marker-end: url(#arrowhead); }\n",
              "    .code-bg { fill: #f5f5f5; stroke: #999; stroke-width: 1; }\n",
              "  </style>\n",
              "  \n",
              "  <defs>\n",
              "    <marker id=\"arrowhead\" markerWidth=\"10\" markerHeight=\"10\" refX=\"9\" refY=\"3\" orient=\"auto\">\n",
              "      <polygon points=\"0 0, 10 3, 0 6\" fill=\"#666\" />\n",
              "    </marker>\n",
              "  </defs>\n",
              "\n",
              "  <!-- Title -->\n",
              "  <text x=\"400\" y=\"30\" text-anchor=\"middle\" class=\"title-text\">Class Blueprint vs Object Instances</text>\n",
              "\n",
              "  <!-- Blueprint Section -->\n",
              "  <text x=\"150\" y=\"70\" text-anchor=\"middle\" class=\"label-text\">BLUEPRINT (Class)</text>\n",
              "  <rect x=\"40\" y=\"85\" width=\"220\" height=\"180\" class=\"blueprint\" rx=\"8\"/>\n",
              "  <text x=\"150\" y=\"110\" text-anchor=\"middle\" class=\"title-text\" fill=\"#1976d2\">Monster</text>\n",
              "  \n",
              "  <text x=\"60\" y=\"140\" class=\"field-text\">Fields:</text>\n",
              "  <text x=\"70\" y=\"165\" class=\"field-text\">• String name</text>\n",
              "  <text x=\"70\" y=\"185\" class=\"field-text\">• int health</text>\n",
              "  <text x=\"70\" y=\"205\" class=\"field-text\">• int attackPower</text>\n",
              "  \n",
              "  <text x=\"60\" y=\"235\" class=\"field-text\">Methods:</text>\n",
              "  <text x=\"70\" y=\"255\" class=\"field-text\">• roar()</text>\n",
              "\n",
              "  <!-- Arrow from blueprint to instances -->\n",
              "  <path d=\"M 260 175 L 320 175\" class=\"arrow\"/>\n",
              "  <text x=\"290\" y=\"165\" text-anchor=\"middle\" font-family=\"Arial\" font-size=\"12\" fill=\"#666\">creates →</text>\n",
              "\n",
              "  <!-- Instance 1 -->\n",
              "  <text x=\"550\" y=\"70\" text-anchor=\"middle\" class=\"label-text\">INSTANCES (Objects)</text>\n",
              "  <rect x=\"350\" y=\"85\" width=\"180\" height=\"120\" class=\"instance\" rx=\"8\"/>\n",
              "  <text x=\"440\" y=\"110\" text-anchor=\"middle\" class=\"title-text\" fill=\"#f57c00\">goblin</text>\n",
              "  <text x=\"365\" y=\"135\" class=\"field-text\">name: \"Goblin\"</text>\n",
              "  <text x=\"365\" y=\"155\" class=\"field-text\">health: 30</text>\n",
              "  <text x=\"365\" y=\"175\" class=\"field-text\">attackPower: 5</text>\n",
              "  <text x=\"365\" y=\"195\" class=\"field-text\">roar() ✓</text>\n",
              "\n",
              "  <!-- Instance 2 -->\n",
              "  <rect x=\"550\" y=\"85\" width=\"180\" height=\"120\" class=\"instance\" rx=\"8\"/>\n",
              "  <text x=\"640\" y=\"110\" text-anchor=\"middle\" class=\"title-text\" fill=\"#f57c00\">dragon</text>\n",
              "  <text x=\"565\" y=\"135\" class=\"field-text\">name: \"Dragon\"</text>\n",
              "  <text x=\"565\" y=\"155\" class=\"field-text\">health: 200</text>\n",
              "  <text x=\"565\" y=\"175\" class=\"field-text\">attackPower: 50</text>\n",
              "  <text x=\"565\" y=\"195\" class=\"field-text\">roar() ✓</text>\n",
              "\n",
              "  <!-- Code Example -->\n",
              "  <rect x=\"40\" y=\"310\" width=\"720\" height=\"160\" class=\"code-bg\" rx=\"5\"/>\n",
              "  <text x=\"50\" y=\"335\" class=\"field-text\" font-weight=\"bold\">Java Code:</text>\n",
              "  \n",
              "  <text x=\"50\" y=\"360\" class=\"field-text\" fill=\"#1976d2\">// 1. Define the blueprint</text>\n",
              "  <text x=\"50\" y=\"380\" class=\"field-text\">public class Monster { ... }</text>\n",
              "  \n",
              "  <text x=\"50\" y=\"410\" class=\"field-text\" fill=\"#f57c00\">// 2. Create instances using 'new'</text>\n",
              "  <text x=\"50\" y=\"430\" class=\"field-text\">Monster goblin = new Monster(\"Goblin\", 30, 5);</text>\n",
              "  <text x=\"50\" y=\"450\" class=\"field-text\">Monster dragon = new Monster(\"Dragon\", 200, 50);</text>\n",
              "\n",
              "  <!-- Note -->\n",
              "  <text x=\"400\" y=\"240\" text-anchor=\"middle\" font-family=\"Arial\" font-size=\"13\" fill=\"#666\" font-style=\"italic\">\n",
              "    Each object has its own copy of the fields!\n",
              "  </text>\n",
              "</svg>\n"
            ]
          },
          "metadata": {}
        }
      ]
    },
    {
      "cell_type": "markdown",
      "source": [
        "## Exercise 1: Your First Class\n",
        "\n",
        "You’ve seen how a `Monster` class can group together state and behavior. Now it’s your turn to build something similar, but with a different twist. Instead of a monster, you’ll create a **healing potion**.\n",
        "\n",
        "### Task\n",
        "\n",
        "1. Create a new class called `Potion`.\n",
        "2. Give it three fields:\n",
        "\n",
        "   * `String name` (the potion’s name, like “Health Potion”)\n",
        "   * `int healingAmount` (how much health it restores)\n",
        "   * `int price` (how much it costs in gold)\n",
        "3. Add a method called `describe()` that prints out a sentence about the potion, including its name, healing amount, and price.\n",
        "4. In the `main` method,  a potoin and call their `describe()` methods.\n",
        "\n",
        "### Starter Code\n"
      ],
      "metadata": {
        "id": "xRORUYIMC5Pr"
      }
    },
    {
      "cell_type": "code",
      "source": [
        "%%writefile Potion.java\n",
        "public class Potion {\n",
        "    // fields (state)\n",
        "    String name;\n",
        "    int healingAmount;\n",
        "    int price;\n",
        "\n",
        "    // method (behavior)\n",
        "    void describe() {\n",
        "        System.out.println(name + \" restores \" + healingAmount +\n",
        "                           \" health and costs \" + price + \" gold.\");\n",
        "    }\n",
        "\n",
        "    // main method for testing\n",
        "    public static void main(String[] args) {\n",
        "        // See the monster example above -- you'll something very similar!\n",
        "        // TODO: create a potion here and call describe()\n",
        "    }\n",
        "}"
      ],
      "metadata": {
        "colab": {
          "base_uri": "https://localhost:8080/"
        },
        "id": "U_6zXZpXDApd",
        "outputId": "e217db16-dc5a-42c9-80c7-9e2097efc2bd"
      },
      "execution_count": null,
      "outputs": [
        {
          "output_type": "stream",
          "name": "stdout",
          "text": [
            "Writing Potion.java\n"
          ]
        }
      ]
    },
    {
      "cell_type": "code",
      "source": [
        "!javac Potion.java\n",
        "!java Potion"
      ],
      "metadata": {
        "id": "FriBsgL6DFYO"
      },
      "execution_count": null,
      "outputs": []
    },
    {
      "cell_type": "markdown",
      "source": [
        "## What You Should See\n",
        "\n",
        "When you run your program, you should see something like:\n",
        "\n",
        "```\n",
        "Health Potion restores 50 health and costs 10 gold.\n",
        "```\n",
        "\n",
        "### Reflection Question\n",
        "\n",
        "Why is it helpful to keep all of a potion’s data (its name, healing power, and price) inside one object, rather than storing them in three different variables?\n",
        "\n"
      ],
      "metadata": {
        "id": "teuAdMnmC7-9"
      }
    },
    {
      "cell_type": "markdown",
      "source": [
        "## Fields: Storing Object Data\n",
        "\n",
        "So far, we’ve been giving our monsters names, health, and attack power by writing lines like:\n",
        "\n",
        "```java\n",
        "goblin.name = \"Goblin\";\n",
        "goblin.health = 30;\n",
        "goblin.attackPower = 5;\n",
        "```\n",
        "\n",
        "Where do these pieces of information actually live? They live inside the **fields** of the class. A **field** is a variable that belongs to an object. Unlike the variables you’ve seen before, which exist only inside a method, a field is tied to the object itself and stays around as long as the object exists.\n",
        "\n",
        "In our `Monster` class, we wrote:\n",
        "\n",
        "```java\n",
        "String name;\n",
        "int health;\n",
        "int attackPower;\n",
        "```\n",
        "\n",
        "These are fields. Every `Monster` object has its own copy of them. If you make two monsters, they don’t share health; each one keeps track of its own.\n",
        "\n",
        "Think of it like this:\n",
        "\n",
        "| Monster | name   | health | attackPower |\n",
        "| ------- | ------ | ------ | ----------- |\n",
        "| goblin  | Goblin | 30     | 5           |\n",
        "| dragon  | Dragon | 200    | 50          |\n",
        "\n",
        "Even though both goblin and dragon are instances of the same `Monster` class, they each have their own unique state.\n",
        "\n",
        "### How Fields Differ from Regular Variables\n",
        "\n",
        "* **Scope**: A local variable exists only inside the method where it was declared. A field belongs to the object and can be used in any method of the class.\n",
        "* **Lifetime**: Local variables disappear when a method ends. Fields stay as long as the object exists in memory.\n",
        "* **Ownership**: Fields are tied to the object. If you create multiple objects, each one gets its own fields.\n",
        "\n",
        "Here’s a complete example showing two monsters with different field values:\n"
      ],
      "metadata": {
        "id": "N2PvUuaPEN_w"
      }
    },
    {
      "cell_type": "code",
      "source": [
        "%%writefile Monster.java\n",
        "public class Monster {\n",
        "    // fields (state)\n",
        "    String name;\n",
        "    int health;\n",
        "    int attackPower;\n",
        "\n",
        "    public static void main(String[] args) {\n",
        "        Monster goblin = new Monster();\n",
        "        goblin.name = \"Goblin\";\n",
        "        goblin.health = 30;\n",
        "        goblin.attackPower = 5;\n",
        "\n",
        "        Monster dragon = new Monster();\n",
        "        dragon.name = \"Dragon\";\n",
        "        dragon.health = 200;\n",
        "        dragon.attackPower = 50;\n",
        "\n",
        "        System.out.println(goblin.name + \" has \" + goblin.health + \" health.\");\n",
        "        System.out.println(dragon.name + \" has \" + dragon.health + \" health.\");\n",
        "    }\n",
        "}\n"
      ],
      "metadata": {
        "colab": {
          "base_uri": "https://localhost:8080/"
        },
        "id": "9oYGQZzTEbLo",
        "outputId": "c9990bc1-0d19-44d8-93e7-df5fb7920a3e"
      },
      "execution_count": null,
      "outputs": [
        {
          "output_type": "stream",
          "name": "stdout",
          "text": [
            "Overwriting Monster.java\n"
          ]
        }
      ]
    },
    {
      "cell_type": "markdown",
      "source": [
        "When you run this program, you’ll see that each monster’s fields hold independent data."
      ],
      "metadata": {
        "id": "IIXSfy2_ESpx"
      }
    },
    {
      "cell_type": "code",
      "source": [
        "!javac Monster.java\n",
        "!java Monster"
      ],
      "metadata": {
        "colab": {
          "base_uri": "https://localhost:8080/"
        },
        "id": "XDr8thaaEgyt",
        "outputId": "39df17c5-b63e-42fe-b8fe-4d3a930429a5"
      },
      "execution_count": null,
      "outputs": [
        {
          "output_type": "stream",
          "name": "stdout",
          "text": [
            "Goblin has 30 health.\n",
            "Dragon has 200 health.\n"
          ]
        }
      ]
    },
    {
      "cell_type": "markdown",
      "source": [
        "## Exercise 2: Adding Fields\n",
        "\n",
        "In the last section, we saw how each object carries its own **fields**—the pieces of data that make up its state. Let’s give you some practice with this idea, but using something a little different from monsters.\n",
        "\n",
        "### Task\n",
        "\n",
        "1. Create a new class called `Weapon`.\n",
        "2. Add three fields to describe a weapon:\n",
        "\n",
        "   * `String name`\n",
        "   * `int damage`\n",
        "   * `int price`\n",
        "3. In the `main` method, create **two different weapons**.\n",
        "\n",
        "   * For example: a sword and a bow.\n",
        "   * Assign different values for their fields.\n",
        "4. Print out a description of each weapon using its fields.\n",
        "\n",
        "### Starter Code"
      ],
      "metadata": {
        "id": "LHM6NNJoEwRA"
      }
    },
    {
      "cell_type": "code",
      "source": [
        "%%writefile Weapon.java\n",
        "public class Weapon {\n",
        "    // fields\n",
        "    String name;\n",
        "    int damage;\n",
        "    int price;\n",
        "\n",
        "    public static void main(String[] args) {\n",
        "        // TODO: create two Weapon objects\n",
        "        // TODO: assign values to their fields\n",
        "        // TODO: print descriptions\n",
        "    }\n",
        "}\n"
      ],
      "metadata": {
        "id": "KRRYKG5pE4jC"
      },
      "execution_count": null,
      "outputs": []
    },
    {
      "cell_type": "code",
      "source": [
        "!javac Weapon.java\n",
        "!java Weapon"
      ],
      "metadata": {
        "id": "PJONGrTrE7uX"
      },
      "execution_count": null,
      "outputs": []
    },
    {
      "cell_type": "markdown",
      "source": [
        "### Example Output\n",
        "\n",
        "Your program might print something like this:\n",
        "\n",
        "```\n",
        "Sword deals 15 damage and costs 25 gold.\n",
        "Bow deals 10 damage and costs 15 gold.\n",
        "```\n",
        "\n",
        "### Reflection Question\n",
        "\n",
        "Why is it more convenient to keep a weapon’s `name`, `damage`, and `price` in one object rather than having three separate variables for each property?\n"
      ],
      "metadata": {
        "id": "vkh6Yh2qE1ST"
      }
    },
    {
      "cell_type": "markdown",
      "source": [
        "## Methods: Defining Object Behavior (in Detail)\n",
        "\n",
        "Earlier, we introduced **methods** when we let our monster roar. Now let’s slow down and look more closely at how methods work, and how a class can have **multiple methods** to represent different kinds of behavior.\n",
        "\n",
        "### Methods and Fields Together\n",
        "\n",
        "A method often uses the object’s **fields** to decide what to do. Because fields belong to the object, we don’t have to pass them around as arguments—any method inside the class can access them directly. This is what makes methods so powerful: they let an object act on its own data.\n",
        "\n",
        "### A Monster With Multiple Behaviors\n",
        "\n",
        "Here’s a more complete `Monster` example with three methods:\n",
        "\n"
      ],
      "metadata": {
        "id": "81CIoz0MFAEy"
      }
    },
    {
      "cell_type": "code",
      "source": [
        "%%writefile Monster.java\n",
        "public class Monster {\n",
        "    String name;\n",
        "    int health;\n",
        "    int attackPower;\n",
        "\n",
        "    // one behavior: roar\n",
        "    void roar() {\n",
        "        System.out.println(name + \" lets out a terrifying roar!\");\n",
        "    }\n",
        "\n",
        "    // another behavior: attack\n",
        "    void attack() {\n",
        "        System.out.println(name + \" attacks with \" + attackPower + \" power!\");\n",
        "    }\n",
        "\n",
        "    // another behavior: take damage\n",
        "    void takeDamage(int amount) {\n",
        "        health = health - amount;\n",
        "        System.out.println(name + \" takes \" + amount + \" damage and now has \" + health + \" health.\");\n",
        "    }\n",
        "\n",
        "    public static void main(String[] args) {\n",
        "        Monster goblin = new Monster();\n",
        "        goblin.name = \"Goblin\";\n",
        "        goblin.health = 30;\n",
        "        goblin.attackPower = 5;\n",
        "\n",
        "        goblin.roar();\n",
        "        goblin.attack();\n",
        "        goblin.takeDamage(10);\n",
        "    }\n",
        "}\n"
      ],
      "metadata": {
        "colab": {
          "base_uri": "https://localhost:8080/"
        },
        "id": "8QZF73KmFm79",
        "outputId": "418c2d85-dfa9-4898-a18b-8922877977f3"
      },
      "execution_count": null,
      "outputs": [
        {
          "output_type": "stream",
          "name": "stdout",
          "text": [
            "Overwriting Monster.java\n"
          ]
        }
      ]
    },
    {
      "cell_type": "code",
      "source": [
        "!javac Monster.java\n",
        "!java Monster"
      ],
      "metadata": {
        "colab": {
          "base_uri": "https://localhost:8080/"
        },
        "id": "OqpjfdGJFsK8",
        "outputId": "3d473614-6f30-4de5-af9e-fcff556a07b3"
      },
      "execution_count": null,
      "outputs": [
        {
          "output_type": "stream",
          "name": "stdout",
          "text": [
            "Goblin lets out a terrifying roar!\n",
            "Goblin attacks with 5 power!\n",
            "Goblin takes 10 damage and now has 20 health.\n"
          ]
        }
      ]
    },
    {
      "cell_type": "markdown",
      "source": [
        "### Breaking Down the New Parts\n",
        "\n",
        "* `void attack()`\n",
        "  A method with no parameters. It just uses the monster’s own `attackPower` field to print an action.\n",
        "\n",
        "* `void takeDamage(int amount)`\n",
        "  A method with a parameter. The `amount` variable is passed in when we call the method. Inside the method, the monster reduces its health and prints the result.\n",
        "\n",
        "\n",
        "### Why This Matters\n",
        "\n",
        "With multiple methods, our monster is starting to feel like a *real character in a game*. Instead of just holding numbers, it has behaviors we can call naturally: roar, attack, take damage. Each method knows how to update or display the monster’s state."
      ],
      "metadata": {
        "id": "Wl6lInjpFi56"
      }
    },
    {
      "cell_type": "markdown",
      "source": [
        "## Constructors: Building Objects with Data\n",
        "\n",
        "When we first created objects, we had to set their fields one by one:\n",
        "\n",
        "```java\n",
        "Monster goblin = new Monster();\n",
        "goblin.name = \"Goblin\";\n",
        "goblin.health = 30;\n",
        "goblin.attackPower = 5;\n",
        "```\n",
        "\n",
        "This works, but it’s both **repetitive** and **unsafe**. If you forget to set a field, your object may be left incomplete. To make object creation easier, Java provides **constructors**. A constructor is a special method that runs automatically when you create a new object, ensuring all its important fields are set from the start.\n",
        "\n",
        "---\n",
        "\n",
        "### Example 1: A Simple Constructor\n",
        "\n",
        "Here’s a `Monster` with a constructor. Notice that the constructor’s name matches the class name and has no return type:\n"
      ],
      "metadata": {
        "id": "JoE7GEiGHEW-"
      }
    },
    {
      "cell_type": "code",
      "source": [
        "%%writefile Monster.java\n",
        "public class Monster {\n",
        "    String name;\n",
        "    int health;\n",
        "    int attackPower;\n",
        "\n",
        "    // constructor\n",
        "    Monster(String n, int h, int a) {\n",
        "        name = n;\n",
        "        health = h;\n",
        "        attackPower = a;\n",
        "    }\n",
        "\n",
        "    void roar() {\n",
        "        System.out.println(name + \" roars with power \" + attackPower + \"!\");\n",
        "    }\n",
        "\n",
        "    public static void main(String[] args) {\n",
        "        Monster goblin = new Monster(\"Goblin\", 30, 5);\n",
        "        Monster dragon = new Monster(\"Dragon\", 200, 50);\n",
        "\n",
        "        goblin.roar();\n",
        "        dragon.roar();\n",
        "    }\n",
        "}\n"
      ],
      "metadata": {
        "id": "8FjY0nKGHwbC",
        "colab": {
          "base_uri": "https://localhost:8080/"
        },
        "outputId": "e559348c-d470-4684-d16d-30b8bf2797e3"
      },
      "execution_count": null,
      "outputs": [
        {
          "output_type": "stream",
          "name": "stdout",
          "text": [
            "Overwriting Monster.java\n"
          ]
        }
      ]
    },
    {
      "cell_type": "code",
      "source": [
        "!javac Monster.java\n",
        "!java Monster"
      ],
      "metadata": {
        "colab": {
          "base_uri": "https://localhost:8080/"
        },
        "id": "WCLMEekdH1Ad",
        "outputId": "3b06d7c9-e459-49f5-9401-daaaad9042ce"
      },
      "execution_count": null,
      "outputs": [
        {
          "output_type": "stream",
          "name": "stdout",
          "text": [
            "Goblin lets out a terrifying roar!\n",
            "Goblin attacks with 5 power!\n",
            "Goblin takes 10 damage and now has 20 health.\n"
          ]
        }
      ]
    },
    {
      "cell_type": "markdown",
      "source": [
        "Now, instead of manually assigning fields, we provide all the details up front when calling `new`. This makes monster creation both faster and safer.\n",
        "\n",
        "###  Using `this` for Clarity\n",
        "\n",
        "The first constructor used short names (`n`, `h`, `a`) for parameters. That works, but it isn’t very descriptive. We’d rather name the parameters `name`, `health`, and `attackPower`. The problem is that these names would clash with the fields.\n",
        "\n",
        "Here’s what happens if we try:\n",
        "\n",
        "```java\n",
        "Monster(String name, int health, int attackPower) {\n",
        "    name = name;  // confusing: does this set the field?\n",
        "}\n",
        "```\n",
        "\n",
        "This code doesn’t do what we want—it just copies the parameter onto itself. The field `name` never changes.\n",
        "\n",
        "To fix this, Java provides the keyword **`this`**, which refers to the current object. By writing `this.name`, we mean *the object’s field called `name`*.\n",
        "\n",
        "```java\n",
        "Monster(String name, int health, int attackPower) {\n",
        "    this.name = name;\n",
        "    this.health = health;\n",
        "    this.attackPower = attackPower;\n",
        "}\n",
        "```\n",
        "\n",
        "This way, we can use clear, descriptive parameter names without confusion.\n",
        "\n",
        "### Multiple Constructors (Overloading)\n",
        "\n",
        "Sometimes we want different ways to make an object. For example, maybe a weapon can be created with a price, but also has a default “free” option. Java allows us to define **multiple constructors**, as long as they take different parameter lists. This is called **constructor overloading**.\n"
      ],
      "metadata": {
        "id": "eQPfSYXOHszI"
      }
    },
    {
      "cell_type": "code",
      "source": [
        "%%writefile Weapon.java\n",
        "public class Weapon {\n",
        "    String name;\n",
        "    int damage;\n",
        "    int price;\n",
        "\n",
        "    // full constructor\n",
        "    Weapon(String name, int damage, int price) {\n",
        "        this.name = name;\n",
        "        this.damage = damage;\n",
        "        this.price = price;\n",
        "    }\n",
        "\n",
        "    // simpler constructor: defaults to price 0\n",
        "    Weapon(String name, int damage) {\n",
        "        this.name = name;\n",
        "        this.damage = damage;\n",
        "        this.price = 0;\n",
        "    }\n",
        "\n",
        "    void describe() {\n",
        "        System.out.println(name + \" deals \" + damage +\n",
        "                           \" damage and costs \" + price + \" gold.\");\n",
        "    }\n",
        "\n",
        "    public static void main(String[] args) {\n",
        "        Weapon sword = new Weapon(\"Sword\", 15, 25);\n",
        "        Weapon stick = new Weapon(\"Stick\", 2); // free weapon\n",
        "\n",
        "        sword.describe();\n",
        "        stick.describe();\n",
        "    }\n",
        "}\n"
      ],
      "metadata": {
        "colab": {
          "base_uri": "https://localhost:8080/"
        },
        "id": "vos3JgFOHLrI",
        "outputId": "cf24e2ef-08cb-4959-bd9f-67bff84c02cb"
      },
      "execution_count": null,
      "outputs": [
        {
          "output_type": "stream",
          "name": "stdout",
          "text": [
            "Writing Weapon.java\n"
          ]
        }
      ]
    },
    {
      "cell_type": "code",
      "source": [
        "!javac Weapon.java\n",
        "!java Weapon"
      ],
      "metadata": {
        "colab": {
          "base_uri": "https://localhost:8080/"
        },
        "id": "UqqEqitFHPI1",
        "outputId": "93979596-f1e8-4a3f-d07f-7cd1b8c6d2fd"
      },
      "execution_count": null,
      "outputs": [
        {
          "output_type": "stream",
          "name": "stdout",
          "text": [
            "Sword deals 15 damage and costs 25 gold.\n",
            "Stick deals 2 damage and costs 0 gold.\n"
          ]
        }
      ]
    },
    {
      "cell_type": "markdown",
      "source": [
        "### Why Constructors (and `this`) Matter\n",
        "\n",
        "* Constructors make sure objects are fully and safely set up at creation.\n",
        "* They reduce repetitive setup code.\n",
        "* The keyword **`this`** allows us to write descriptive parameter names without confusion.\n",
        "* Multiple constructors give us flexibility when creating objects.\n",
        "\n",
        "With constructors, we’re no longer just gluing data onto objects after the fact—we’re designing them to be properly built from the moment they’re created.\n",
        "\n"
      ],
      "metadata": {
        "id": "ddQKi24eHILO"
      }
    },
    {
      "cell_type": "code",
      "source": [
        "# @title\n",
        "%%html\n",
        "<svg width = \"60%\" viewBox=\"0 0 900 650\" xmlns=\"http://www.w3.org/2000/svg\">\n",
        "  <style>\n",
        "    .class-box { fill: #e3f2fd; stroke: #1976d2; stroke-width: 3; }\n",
        "    .constructor-box { fill: #fff3e0; stroke: #f57c00; stroke-width: 2; }\n",
        "    .object-result { fill: #c8e6c9; stroke: #388e3c; stroke-width: 2; }\n",
        "    .title-text { font-family: Arial, sans-serif; font-size: 20px; font-weight: bold; fill: #333; }\n",
        "    .section-title { font-family: Arial, sans-serif; font-size: 16px; font-weight: bold; }\n",
        "    .code-text { font-family: 'Courier New', monospace; font-size: 13px; fill: #333; }\n",
        "    .label-text { font-family: Arial, sans-serif; font-size: 13px; fill: #666; }\n",
        "    .arrow { stroke: #f57c00; stroke-width: 2; fill: none; marker-end: url(#arrow-orange); }\n",
        "    .note-box { fill: #fff9c4; stroke: #f57f17; stroke-width: 2; }\n",
        "  </style>\n",
        "\n",
        "  <defs>\n",
        "    <marker id=\"arrow-orange\" markerWidth=\"10\" markerHeight=\"10\" refX=\"9\" refY=\"3\" orient=\"auto\">\n",
        "      <polygon points=\"0 0, 10 3, 0 6\" fill=\"#f57c00\" />\n",
        "    </marker>\n",
        "  </defs>\n",
        "\n",
        "  <!-- Title -->\n",
        "  <text x=\"450\" y=\"30\" text-anchor=\"middle\" class=\"title-text\">Constructors: Building Objects with Data</text>\n",
        "\n",
        "  <!-- Left side: Class with constructors -->\n",
        "  <rect x=\"40\" y=\"60\" width=\"420\" height=\"360\" class=\"class-box\" rx=\"8\"/>\n",
        "  <text x=\"250\" y=\"90\" text-anchor=\"middle\" class=\"section-title\" fill=\"#1976d2\">Weapon Class with Overloaded Constructors</text>\n",
        "\n",
        "  <text x=\"60\" y=\"120\" class=\"code-text\">public class Weapon {</text>\n",
        "  <text x=\"80\" y=\"145\" class=\"code-text\">private String name;</text>\n",
        "  <text x=\"80\" y=\"165\" class=\"code-text\">private int damage;</text>\n",
        "  <text x=\"80\" y=\"185\" class=\"code-text\">private int price;</text>\n",
        "\n",
        "  <!-- Constructor 1 -->\n",
        "  <rect x=\"70\" y=\"200\" width=\"370\" height=\"95\" class=\"constructor-box\" rx=\"5\"/>\n",
        "  <text x=\"85\" y=\"225\" class=\"code-text\" font-weight=\"bold\" fill=\"#f57c00\">Constructor #1: Full (3 parameters)</text>\n",
        "  <text x=\"85\" y=\"250\" class=\"code-text\">Weapon(String name, int damage, int price) {</text>\n",
        "  <text x=\"105\" y=\"270\" class=\"code-text\">this.name = name;</text>\n",
        "  <text x=\"105\" y=\"285\" class=\"code-text\">this.damage = damage;</text>\n",
        "  <text x=\"105\" y=\"300\" class=\"code-text\">this.price = price;</text>\n",
        "  <text x=\"85\" y=\"315\" class=\"code-text\">}</text>\n",
        "\n",
        "  <!-- Constructor 2 -->\n",
        "  <rect x=\"70\" y=\"310\" width=\"370\" height=\"95\" class=\"constructor-box\" rx=\"5\"/>\n",
        "  <text x=\"85\" y=\"335\" class=\"code-text\" font-weight=\"bold\" fill=\"#f57c00\">Constructor #2: Short (2 parameters)</text>\n",
        "  <text x=\"85\" y=\"360\" class=\"code-text\">Weapon(String name, int damage) {</text>\n",
        "  <text x=\"105\" y=\"380\" class=\"code-text\">this.name = name;</text>\n",
        "  <text x=\"105\" y=\"395\" class=\"code-text\">this.damage = damage;</text>\n",
        "  <text x=\"105\" y=\"410\" class=\"code-text\">this.price = 0;  // default value</text>\n",
        "  <text x=\"85\" y=\"425\" class=\"code-text\">}</text>\n",
        "\n",
        "  <text x=\"60\" y=\"445\" class=\"code-text\">}</text>\n",
        "\n",
        "  <!-- Right side: Usage examples -->\n",
        "  <text x=\"680\" y=\"90\" text-anchor=\"middle\" class=\"section-title\">Using the Constructors:</text>\n",
        "\n",
        "  <!-- Example 1 -->\n",
        "  <rect x=\"500\" y=\"110\" width=\"360\" height=\"110\" fill=\"#f5f5f5\" stroke=\"#666\" stroke-width=\"2\" rx=\"5\"/>\n",
        "  <text x=\"520\" y=\"135\" class=\"code-text\" fill=\"#1565c0\">// Calls constructor #1:</text>\n",
        "  <text x=\"520\" y=\"160\" class=\"code-text\">Weapon sword =</text>\n",
        "  <text x=\"540\" y=\"180\" class=\"code-text\">new Weapon(\"Sword\", 15, 25);</text>\n",
        "  <text x=\"520\" y=\"205\" class=\"label-text\" font-style=\"italic\">Passes all 3 values</text>\n",
        "\n",
        "  <!-- Arrow -->\n",
        "  <path d=\"M 680 220 L 680 245\" class=\"arrow\"/>\n",
        "\n",
        "  <!-- Result 1 -->\n",
        "  <rect x=\"500\" y=\"250\" width=\"360\" height=\"80\" class=\"object-result\" rx=\"5\"/>\n",
        "  <text x=\"680\" y=\"280\" text-anchor=\"middle\" class=\"section-title\" fill=\"#388e3c\">sword object created</text>\n",
        "  <text x=\"520\" y=\"305\" class=\"code-text\" font-size=\"12\">name: \"Sword\"</text>\n",
        "  <text x=\"520\" y=\"320\" class=\"code-text\" font-size=\"12\">damage: 15   price: 25</text>\n",
        "\n",
        "  <!-- Example 2 -->\n",
        "  <rect x=\"500\" y=\"360\" width=\"360\" height=\"110\" fill=\"#f5f5f5\" stroke=\"#666\" stroke-width=\"2\" rx=\"5\"/>\n",
        "  <text x=\"520\" y=\"385\" class=\"code-text\" fill=\"#1565c0\">// Calls constructor #2:</text>\n",
        "  <text x=\"520\" y=\"410\" class=\"code-text\">Weapon stick =</text>\n",
        "  <text x=\"540\" y=\"430\" class=\"code-text\">new Weapon(\"Stick\", 2);</text>\n",
        "  <text x=\"520\" y=\"455\" class=\"label-text\" font-style=\"italic\">Passes only 2 values</text>\n",
        "\n",
        "  <!-- Arrow -->\n",
        "  <path d=\"M 680 470 L 680 495\" class=\"arrow\"/>\n",
        "\n",
        "  <!-- Result 2 -->\n",
        "  <rect x=\"500\" y=\"500\" width=\"360\" height=\"80\" class=\"object-result\" rx=\"5\"/>\n",
        "  <text x=\"680\" y=\"530\" text-anchor=\"middle\" class=\"section-title\" fill=\"#388e3c\">stick object created</text>\n",
        "  <text x=\"520\" y=\"555\" class=\"code-text\" font-size=\"12\">name: \"Stick\"</text>\n",
        "  <text x=\"520\" y=\"570\" class=\"code-text\" font-size=\"12\">damage: 2   price: 0 (default)</text>\n",
        "\n",
        "  <!-- Bottom explanation -->\n",
        "  <rect x=\"40\" y=\"470\" width=\"420\" height=\"160\" class=\"note-box\" rx=\"8\"/>\n",
        "  <text x=\"250\" y=\"500\" text-anchor=\"middle\" class=\"section-title\" fill=\"#f57f17\">Why Constructor Overloading?</text>\n",
        "\n",
        "  <text x=\"60\" y=\"530\" class=\"label-text\">• Flexibility: Different ways to create objects</text>\n",
        "  <text x=\"60\" y=\"550\" class=\"label-text\">• Convenience: Provide sensible defaults</text>\n",
        "  <text x=\"60\" y=\"570\" class=\"label-text\">• Java chooses based on argument count/types</text>\n",
        "  <text x=\"60\" y=\"590\" class=\"label-text\">• All constructors initialize the object properly</text>\n",
        "  <text x=\"60\" y=\"610\" class=\"label-text\">• Same name, different parameter lists</text>\n",
        "\n",
        "  <!-- Bottom note -->\n",
        "  <text x=\"450\" y=\"645\" text-anchor=\"middle\" font-family=\"Arial\" font-size=\"13\" fill=\"#666\" font-style=\"italic\">\n",
        "    Constructor overloading = multiple constructors with different signatures\n",
        "  </text>\n",
        "</svg>"
      ],
      "metadata": {
        "colab": {
          "base_uri": "https://localhost:8080/",
          "height": 624
        },
        "cellView": "form",
        "id": "bygtYLk0_if7",
        "outputId": "7f8c2bd0-1f1c-4c17-88eb-eaabfa8db901"
      },
      "execution_count": 13,
      "outputs": [
        {
          "output_type": "display_data",
          "data": {
            "text/plain": [
              "<IPython.core.display.HTML object>"
            ],
            "text/html": [
              "<svg width = \"60%\" viewBox=\"0 0 900 650\" xmlns=\"http://www.w3.org/2000/svg\">\n",
              "  <style>\n",
              "    .class-box { fill: #e3f2fd; stroke: #1976d2; stroke-width: 3; }\n",
              "    .constructor-box { fill: #fff3e0; stroke: #f57c00; stroke-width: 2; }\n",
              "    .object-result { fill: #c8e6c9; stroke: #388e3c; stroke-width: 2; }\n",
              "    .title-text { font-family: Arial, sans-serif; font-size: 20px; font-weight: bold; fill: #333; }\n",
              "    .section-title { font-family: Arial, sans-serif; font-size: 16px; font-weight: bold; }\n",
              "    .code-text { font-family: 'Courier New', monospace; font-size: 13px; fill: #333; }\n",
              "    .label-text { font-family: Arial, sans-serif; font-size: 13px; fill: #666; }\n",
              "    .arrow { stroke: #f57c00; stroke-width: 2; fill: none; marker-end: url(#arrow-orange); }\n",
              "    .note-box { fill: #fff9c4; stroke: #f57f17; stroke-width: 2; }\n",
              "  </style>\n",
              "\n",
              "  <defs>\n",
              "    <marker id=\"arrow-orange\" markerWidth=\"10\" markerHeight=\"10\" refX=\"9\" refY=\"3\" orient=\"auto\">\n",
              "      <polygon points=\"0 0, 10 3, 0 6\" fill=\"#f57c00\" />\n",
              "    </marker>\n",
              "  </defs>\n",
              "\n",
              "  <!-- Title -->\n",
              "  <text x=\"450\" y=\"30\" text-anchor=\"middle\" class=\"title-text\">Constructors: Building Objects with Data</text>\n",
              "\n",
              "  <!-- Left side: Class with constructors -->\n",
              "  <rect x=\"40\" y=\"60\" width=\"420\" height=\"360\" class=\"class-box\" rx=\"8\"/>\n",
              "  <text x=\"250\" y=\"90\" text-anchor=\"middle\" class=\"section-title\" fill=\"#1976d2\">Weapon Class with Overloaded Constructors</text>\n",
              "  \n",
              "  <text x=\"60\" y=\"120\" class=\"code-text\">public class Weapon {</text>\n",
              "  <text x=\"80\" y=\"145\" class=\"code-text\">private String name;</text>\n",
              "  <text x=\"80\" y=\"165\" class=\"code-text\">private int damage;</text>\n",
              "  <text x=\"80\" y=\"185\" class=\"code-text\">private int price;</text>\n",
              "  \n",
              "  <!-- Constructor 1 -->\n",
              "  <rect x=\"70\" y=\"200\" width=\"370\" height=\"95\" class=\"constructor-box\" rx=\"5\"/>\n",
              "  <text x=\"85\" y=\"225\" class=\"code-text\" font-weight=\"bold\" fill=\"#f57c00\">Constructor #1: Full (3 parameters)</text>\n",
              "  <text x=\"85\" y=\"250\" class=\"code-text\">Weapon(String name, int damage, int price) {</text>\n",
              "  <text x=\"105\" y=\"270\" class=\"code-text\">this.name = name;</text>\n",
              "  <text x=\"105\" y=\"285\" class=\"code-text\">this.damage = damage;</text>\n",
              "  <text x=\"105\" y=\"300\" class=\"code-text\">this.price = price;</text>\n",
              "  <text x=\"85\" y=\"315\" class=\"code-text\">}</text>\n",
              "  \n",
              "  <!-- Constructor 2 -->\n",
              "  <rect x=\"70\" y=\"310\" width=\"370\" height=\"95\" class=\"constructor-box\" rx=\"5\"/>\n",
              "  <text x=\"85\" y=\"335\" class=\"code-text\" font-weight=\"bold\" fill=\"#f57c00\">Constructor #2: Short (2 parameters)</text>\n",
              "  <text x=\"85\" y=\"360\" class=\"code-text\">Weapon(String name, int damage) {</text>\n",
              "  <text x=\"105\" y=\"380\" class=\"code-text\">this.name = name;</text>\n",
              "  <text x=\"105\" y=\"395\" class=\"code-text\">this.damage = damage;</text>\n",
              "  <text x=\"105\" y=\"410\" class=\"code-text\">this.price = 0;  // default value</text>\n",
              "  <text x=\"85\" y=\"425\" class=\"code-text\">}</text>\n",
              "  \n",
              "  <text x=\"60\" y=\"445\" class=\"code-text\">}</text>\n",
              "\n",
              "  <!-- Right side: Usage examples -->\n",
              "  <text x=\"680\" y=\"90\" text-anchor=\"middle\" class=\"section-title\">Using the Constructors:</text>\n",
              "\n",
              "  <!-- Example 1 -->\n",
              "  <rect x=\"500\" y=\"110\" width=\"360\" height=\"110\" fill=\"#f5f5f5\" stroke=\"#666\" stroke-width=\"2\" rx=\"5\"/>\n",
              "  <text x=\"520\" y=\"135\" class=\"code-text\" fill=\"#1565c0\">// Calls constructor #1:</text>\n",
              "  <text x=\"520\" y=\"160\" class=\"code-text\">Weapon sword =</text>\n",
              "  <text x=\"540\" y=\"180\" class=\"code-text\">new Weapon(\"Sword\", 15, 25);</text>\n",
              "  <text x=\"520\" y=\"205\" class=\"label-text\" font-style=\"italic\">Passes all 3 values</text>\n",
              "\n",
              "  <!-- Arrow -->\n",
              "  <path d=\"M 680 220 L 680 245\" class=\"arrow\"/>\n",
              "\n",
              "  <!-- Result 1 -->\n",
              "  <rect x=\"500\" y=\"250\" width=\"360\" height=\"80\" class=\"object-result\" rx=\"5\"/>\n",
              "  <text x=\"680\" y=\"280\" text-anchor=\"middle\" class=\"section-title\" fill=\"#388e3c\">sword object created</text>\n",
              "  <text x=\"520\" y=\"305\" class=\"code-text\" font-size=\"12\">name: \"Sword\"</text>\n",
              "  <text x=\"520\" y=\"320\" class=\"code-text\" font-size=\"12\">damage: 15   price: 25</text>\n",
              "\n",
              "  <!-- Example 2 -->\n",
              "  <rect x=\"500\" y=\"360\" width=\"360\" height=\"110\" fill=\"#f5f5f5\" stroke=\"#666\" stroke-width=\"2\" rx=\"5\"/>\n",
              "  <text x=\"520\" y=\"385\" class=\"code-text\" fill=\"#1565c0\">// Calls constructor #2:</text>\n",
              "  <text x=\"520\" y=\"410\" class=\"code-text\">Weapon stick =</text>\n",
              "  <text x=\"540\" y=\"430\" class=\"code-text\">new Weapon(\"Stick\", 2);</text>\n",
              "  <text x=\"520\" y=\"455\" class=\"label-text\" font-style=\"italic\">Passes only 2 values</text>\n",
              "\n",
              "  <!-- Arrow -->\n",
              "  <path d=\"M 680 470 L 680 495\" class=\"arrow\"/>\n",
              "\n",
              "  <!-- Result 2 -->\n",
              "  <rect x=\"500\" y=\"500\" width=\"360\" height=\"80\" class=\"object-result\" rx=\"5\"/>\n",
              "  <text x=\"680\" y=\"530\" text-anchor=\"middle\" class=\"section-title\" fill=\"#388e3c\">stick object created</text>\n",
              "  <text x=\"520\" y=\"555\" class=\"code-text\" font-size=\"12\">name: \"Stick\"</text>\n",
              "  <text x=\"520\" y=\"570\" class=\"code-text\" font-size=\"12\">damage: 2   price: 0 (default)</text>\n",
              "\n",
              "  <!-- Bottom explanation -->\n",
              "  <rect x=\"40\" y=\"470\" width=\"420\" height=\"160\" class=\"note-box\" rx=\"8\"/>\n",
              "  <text x=\"250\" y=\"500\" text-anchor=\"middle\" class=\"section-title\" fill=\"#f57f17\">Why Constructor Overloading?</text>\n",
              "  \n",
              "  <text x=\"60\" y=\"530\" class=\"label-text\">• Flexibility: Different ways to create objects</text>\n",
              "  <text x=\"60\" y=\"550\" class=\"label-text\">• Convenience: Provide sensible defaults</text>\n",
              "  <text x=\"60\" y=\"570\" class=\"label-text\">• Java chooses based on argument count/types</text>\n",
              "  <text x=\"60\" y=\"590\" class=\"label-text\">• All constructors initialize the object properly</text>\n",
              "  <text x=\"60\" y=\"610\" class=\"label-text\">• Same name, different parameter lists</text>\n",
              "\n",
              "  <!-- Bottom note -->\n",
              "  <text x=\"450\" y=\"645\" text-anchor=\"middle\" font-family=\"Arial\" font-size=\"13\" fill=\"#666\" font-style=\"italic\">\n",
              "    Constructor overloading = multiple constructors with different signatures\n",
              "  </text>\n",
              "</svg>\n"
            ]
          },
          "metadata": {}
        }
      ]
    },
    {
      "cell_type": "markdown",
      "source": [
        "## Exercise 3: Constructors in Action\n",
        "\n",
        "Constructors exist to guarantee that objects begin life in a valid state. You will practice writing a **constructor**, using **`this`** to disambiguate field names from parameter names, and overloading a second constructor to supply sensible defaults. Keep the class self-contained with a `main` method so you can run it immediately.\n",
        "\n",
        "A **constructor** has the same name as the class and no return type. Inside a constructor, `this.fieldName = parameterName;` assigns the incoming value to the object’s own field. If you provide a second constructor with a different parameter list, Java selects the right one based on how you call `new`.\n",
        "\n",
        "### Your task\n",
        "\n",
        "Write a `Character` class with three fields (`name`, `health`, `gold`), two constructors (one full, one with defaults), and a `describe()` method. In `main`, create two characters—one via each constructor—and print their descriptions.\n",
        "\n",
        "### Minimal starter (you must finish every TODO)\n",
        "\n"
      ],
      "metadata": {
        "id": "QzMK0ZlNIOai"
      }
    },
    {
      "cell_type": "code",
      "source": [
        "%%writefile Character.java\n",
        "public class Character {\n",
        "    // TODO: declare fields: String name; int health; int gold;\n",
        "\n",
        "    // TODO: full constructor with parameters (String name, int health, int gold)\n",
        "    // Inside, assign parameters to fields using this. e.g., this.name = name;\n",
        "\n",
        "    // TODO: short constructor with only (String name)\n",
        "    // Give default values: health = 100; gold = 0;\n",
        "\n",
        "    // TODO: method describe() that prints: \"<name> has <health> health and <gold> gold.\"\n",
        "\n",
        "    public static void main(String[] args) {\n",
        "        // TODO: create one Character using the full constructor\n",
        "        // TODO: create one Character using the short constructor\n",
        "        // TODO: call describe() on both\n",
        "    }\n",
        "}\n"
      ],
      "metadata": {
        "id": "juFff7LxIVfW"
      },
      "execution_count": null,
      "outputs": []
    },
    {
      "cell_type": "code",
      "source": [
        "!javac Character.java\n",
        "!java Character"
      ],
      "metadata": {
        "id": "6Xk6HCXpIa0F"
      },
      "execution_count": null,
      "outputs": []
    },
    {
      "cell_type": "markdown",
      "source": [
        "### Hints before you code\n",
        "\n",
        "| Goal                  | Syntax to remember                                           |\n",
        "| --------------------- | ------------------------------------------------------------ |\n",
        "| Define fields         | `String name; int health; int gold;`                         |\n",
        "| Constructor signature | `Character(String name, int health, int gold) { ... }`       |\n",
        "| Disambiguate names    | `this.name = name;`                                          |\n",
        "| Overload              | Provide a second constructor with a different parameter list |\n",
        "| Print                 | `System.out.println(...)`                                    |\n",
        "\n",
        "### What good work looks like\n",
        "\n",
        "* The full constructor uses `this` on all three assignments.\n",
        "* The short constructor sets defaults and does not duplicate code if you optionally choose to call the full one: `this(name, 100, 0);`\n",
        "* `describe()` reads cleanly and never hard-codes names or numbers.\n",
        "\n",
        "### Quick self-check\n",
        "\n",
        "Run your program. You should see two lines, one reflecting custom values, one reflecting defaults. If a line prints `null` or `0` where you expected real values, your constructor did not assign a field or you forgot `this"
      ],
      "metadata": {
        "id": "RymrkCsaIP1W"
      }
    },
    {
      "cell_type": "markdown",
      "source": [
        "## Encapsulation: Hiding the Details\n",
        "\n",
        "Up to this point, we’ve been freely setting object fields from outside the class:\n",
        "\n",
        "```java\n",
        "Monster goblin = new Monster(\"Goblin\", 30, 5);\n",
        "goblin.health = -999; // uh oh! goblin now has \"negative health\"\n",
        "```\n",
        "\n",
        "This might be fun for a player who wants invincible monsters or infinite gold, but it breaks the logic of our game. We need a way to **protect the inside of our objects**.\n",
        "\n",
        "That’s what **encapsulation** does. Encapsulation means keeping an object’s data safe by controlling how it can be accessed. In Java, we enforce this using **visibility modifiers**.\n",
        "\n",
        "\n",
        "### Visibility Modifiers in Java\n",
        "\n",
        "A **visibility modifier** tells the compiler (and other programmers) which parts of a class are available to use from the outside.\n",
        "\n",
        "| Modifier               | Where It Can Be Accessed                                                                   | Example Use                                             |\n",
        "| ---------------------- | ------------------------------------------------------------------------------------------ | ------------------------------------------------------- |\n",
        "| `public`               | Anywhere, in any class                                                                     | Methods you want other classes to call, like `attack()` |\n",
        "| `private`              | Only inside the same class                                                                 | Fields you want to protect, like `health`               |\n",
        "| *default* (no keyword) | Anywhere in the same package (not relevant yet since we’re keeping everything in one file) | Used in larger projects                                 |\n",
        "| `protected`            | In the same package or in subclasses (we’ll see this later when we do inheritance)         | Not needed yet                                          |\n",
        "\n",
        "For now, the most important distinction is between **`public`** and **`private`**:\n",
        "\n",
        "* **`public`**: anyone can use it.\n",
        "* **`private`**: only the class itself can use it.\n",
        "\n",
        "---\n",
        "\n",
        "### Example: Making Fields Private\n",
        "\n",
        "We can make our monster’s fields `private`, and provide methods to safely change them:\n",
        "\n"
      ],
      "metadata": {
        "id": "KZrQ25h8Qa9C"
      }
    },
    {
      "cell_type": "code",
      "source": [
        "%%writefile Monster.java\n",
        "public class Monster {\n",
        "    private String name;\n",
        "    private int health;\n",
        "    private int attackPower;\n",
        "\n",
        "    Monster(String name, int health, int attackPower) {\n",
        "        this.name = name;\n",
        "        this.health = health;\n",
        "        this.attackPower = attackPower;\n",
        "    }\n",
        "\n",
        "    // public method controls how health changes\n",
        "    public void takeDamage(int amount) {\n",
        "        health = health - amount;\n",
        "        if (health < 0) {\n",
        "            health = 0; // never allow negative health\n",
        "        }\n",
        "        System.out.println(name + \" takes \" + amount + \" damage and now has \" + health + \" health.\");\n",
        "    }\n",
        "\n",
        "    // public method lets the monster roar\n",
        "    public void roar() {\n",
        "        System.out.println(name + \" roars mightily!\");\n",
        "    }\n",
        "\n",
        "    public static void main(String[] args) {\n",
        "        Monster dragon = new Monster(\"Dragon\", 200, 50);\n",
        "\n",
        "        dragon.takeDamage(30);   // works\n",
        "        // dragon.health = -999; // error: health is private\n",
        "    }\n",
        "}"
      ],
      "metadata": {
        "colab": {
          "base_uri": "https://localhost:8080/"
        },
        "id": "2GpWcXRjQiGn",
        "outputId": "4fc3e294-bd73-4207-c92e-5a2bdd47b2b8"
      },
      "execution_count": null,
      "outputs": [
        {
          "output_type": "stream",
          "name": "stdout",
          "text": [
            "Overwriting Monster.java\n"
          ]
        }
      ]
    },
    {
      "cell_type": "code",
      "source": [
        "!javac Monster.java\n",
        "!java Monster"
      ],
      "metadata": {
        "colab": {
          "base_uri": "https://localhost:8080/"
        },
        "id": "rpE3Xkb0QnK4",
        "outputId": "0e944911-61a3-4839-ab07-c3d4e67d12b9"
      },
      "execution_count": null,
      "outputs": [
        {
          "output_type": "stream",
          "name": "stdout",
          "text": [
            "Dragon takes 30 damage and now has 170 health.\n"
          ]
        }
      ]
    },
    {
      "cell_type": "markdown",
      "source": [
        "\n",
        "Now, nobody outside the `Monster` class can change `health` directly—they must go through the `takeDamage()` method. This means all changes follow the rules we’ve set (like no negative health).\n",
        "\n",
        "\n",
        "### Why This Matters\n",
        "\n",
        "* **Stronger rules**: The object enforces its own limits.\n",
        "* **Cleaner design**: Other code doesn’t have to worry about the details of how health is stored.\n",
        "* **Better maintenance**: If we later change how health works, we only update the class itself—not every line of code that uses it.\n"
      ],
      "metadata": {
        "id": "ztGk4GIPQeXr"
      }
    },
    {
      "cell_type": "markdown",
      "source": [
        "## Getters and Setters\n",
        "\n",
        "We’ve seen that making fields `private` keeps them safe from accidental misuse. But if all fields are private, how do we actually *use* them? For example, if a monster’s `health` is private, how do we check how much it has left, or how do we heal it?\n",
        "\n",
        "This is where **getters** and **setters** come in.\n",
        "\n",
        "\n",
        "### The Idea in Plain English\n",
        "\n",
        "* A **getter** is a method that *returns* a private field’s value so that outside code can read it.\n",
        "\n",
        "  * Example: a `getHealth()` method might return a monster’s health.\n",
        "* A **setter** is a method that *changes* a private field’s value in a safe, controlled way.\n",
        "\n",
        "  * Example: a `setHealth(newHealth)` method could change the monster’s health, but only if the value makes sense (no negatives).\n",
        "\n",
        "Think of it like checking into a hotel:\n",
        "\n",
        "* You can’t just walk behind the front desk and grab a key (direct access to the field).\n",
        "* Instead, you *ask the receptionist* (the getter).\n",
        "* If you need to change your reservation, you don’t directly edit the hotel’s database—you ask the receptionist to do it for you (the setter).\n",
        "\n",
        "### Examples\n",
        "\n",
        "```java\n",
        "// A simple getter\n",
        "public int getHealth() {\n",
        "    return health; // gives back the monster's current health\n",
        "}\n",
        "\n",
        "// A simple setter\n",
        "public void setHealth(int newHealth) {\n",
        "    if (newHealth < 0) {\n",
        "        health = 0; // no negative values allowed\n",
        "    } else {\n",
        "        health = newHealth;\n",
        "    }\n",
        "}\n",
        "```\n",
        "\n",
        "Notice how the setter doesn’t blindly accept whatever value you pass in. It applies rules to protect the object’s state.\n",
        "\n"
      ],
      "metadata": {
        "id": "1w6KDF-oQsiP"
      }
    },
    {
      "cell_type": "code",
      "source": [
        "# @title\n",
        "%%html\n",
        "<svg width = \"60%\" viewBox=\"0 0 800 550\" xmlns=\"http://www.w3.org/2000/svg\">\n",
        "  <style>\n",
        "    .object-wall { fill: #fff9c4; stroke: #f57f17; stroke-width: 4; }\n",
        "    .private-zone { fill: #ffebee; stroke: #c62828; stroke-width: 2; }\n",
        "    .public-zone { fill: #e8f5e9; stroke: #2e7d32; stroke-width: 2; }\n",
        "    .title-text { font-family: Arial, sans-serif; font-size: 20px; font-weight: bold; fill: #333; }\n",
        "    .section-title { font-family: Arial, sans-serif; font-size: 16px; font-weight: bold; }\n",
        "    .code-text { font-family: 'Courier New', monospace; font-size: 13px; fill: #333; }\n",
        "    .label-text { font-family: Arial, sans-serif; font-size: 14px; fill: #666; }\n",
        "    .lock-icon { fill: #c62828; }\n",
        "    .key-icon { fill: #2e7d32; }\n",
        "    .blocked { stroke: #c62828; stroke-width: 3; fill: none; }\n",
        "    .allowed { stroke: #2e7d32; stroke-width: 2; fill: none; marker-end: url(#arrow-green); }\n",
        "  </style>\n",
        "\n",
        "  <defs>\n",
        "    <marker id=\"arrow-green\" markerWidth=\"10\" markerHeight=\"10\" refX=\"9\" refY=\"3\" orient=\"auto\">\n",
        "      <polygon points=\"0 0, 10 3, 0 6\" fill=\"#2e7d32\" />\n",
        "    </marker>\n",
        "    <marker id=\"arrow-red\" markerWidth=\"10\" markerHeight=\"10\" refX=\"9\" refY=\"3\" orient=\"auto\">\n",
        "      <polygon points=\"0 0, 10 3, 0 6\" fill=\"#c62828\" />\n",
        "    </marker>\n",
        "  </defs>\n",
        "\n",
        "  <!-- Title -->\n",
        "  <text x=\"400\" y=\"30\" text-anchor=\"middle\" class=\"title-text\">Encapsulation: Protecting Object Data</text>\n",
        "\n",
        "  <!-- Object Container -->\n",
        "  <rect x=\"50\" y=\"60\" width=\"380\" height=\"420\" class=\"object-wall\" rx=\"10\"/>\n",
        "  <text x=\"240\" y=\"90\" text-anchor=\"middle\" class=\"title-text\" fill=\"#f57f17\">Monster Object</text>\n",
        "\n",
        "  <!-- Private Section (Inside the wall) -->\n",
        "  <rect x=\"80\" y=\"110\" width=\"320\" height=\"150\" class=\"private-zone\" rx=\"8\"/>\n",
        "  <g transform=\"translate(90, 130)\">\n",
        "    <!-- Lock icon -->\n",
        "    <rect x=\"0\" y=\"5\" width=\"12\" height=\"15\" rx=\"2\" class=\"lock-icon\"/>\n",
        "    <rect x=\"3\" y=\"0\" width=\"6\" height=\"8\" fill=\"none\" stroke=\"#c62828\" stroke-width=\"2\" rx=\"3\"/>\n",
        "    <text x=\"25\" y=\"15\" class=\"section-title\" fill=\"#c62828\">PRIVATE (Hidden)</text>\n",
        "  </g>\n",
        "\n",
        "  <text x=\"100\" y=\"160\" class=\"code-text\">private String name;</text>\n",
        "  <text x=\"100\" y=\"180\" class=\"code-text\">private int health;</text>\n",
        "  <text x=\"100\" y=\"200\" class=\"code-text\">private int attackPower;</text>\n",
        "\n",
        "  <text x=\"240\" y=\"240\" text-anchor=\"middle\" font-family=\"Arial\" font-size=\"12\" fill=\"#c62828\" font-style=\"italic\">\n",
        "    Cannot be accessed directly from outside!\n",
        "  </text>\n",
        "\n",
        "  <!-- Public Section (Methods at the border) -->\n",
        "  <rect x=\"80\" y=\"280\" width=\"320\" height=\"170\" class=\"public-zone\" rx=\"8\"/>\n",
        "  <g transform=\"translate(90, 300)\">\n",
        "    <!-- Key icon -->\n",
        "    <circle cx=\"6\" cy=\"6\" r=\"5\" fill=\"none\" stroke=\"#2e7d32\" stroke-width=\"2\"/>\n",
        "    <line x1=\"6\" y1=\"11\" x2=\"6\" y2=\"18\" stroke=\"#2e7d32\" stroke-width=\"2\"/>\n",
        "    <line x1=\"4\" y1=\"14\" x2=\"2\" y2=\"14\" stroke=\"#2e7d32\" stroke-width=\"2\"/>\n",
        "    <line x1=\"4\" y1=\"16\" x2=\"2\" y2=\"16\" stroke=\"#2e7d32\" stroke-width=\"2\"/>\n",
        "    <text x=\"25\" y=\"15\" class=\"section-title\" fill=\"#2e7d32\">PUBLIC (Interface)</text>\n",
        "  </g>\n",
        "\n",
        "  <text x=\"100\" y=\"330\" class=\"code-text\">public void roar() { ... }</text>\n",
        "  <text x=\"100\" y=\"350\" class=\"code-text\">public void takeDamage(int amt) { ... }</text>\n",
        "  <text x=\"100\" y=\"370\" class=\"code-text\">public int getHealth() { ... }</text>\n",
        "  <text x=\"100\" y=\"390\" class=\"code-text\">public void setHealth(int h) { ... }</text>\n",
        "\n",
        "  <text x=\"240\" y=\"425\" text-anchor=\"middle\" font-family=\"Arial\" font-size=\"12\" fill=\"#2e7d32\" font-style=\"italic\">\n",
        "    These methods control access to private data\n",
        "  </text>\n",
        "\n",
        "  <!-- External Code trying to access -->\n",
        "  <rect x=\"480\" y=\"100\" width=\"280\" height=\"300\" fill=\"#f5f5f5\" stroke=\"#666\" stroke-width=\"2\" rx=\"8\"/>\n",
        "  <text x=\"620\" y=\"130\" text-anchor=\"middle\" class=\"section-title\">External Code</text>\n",
        "\n",
        "  <!-- Blocked access attempt -->\n",
        "  <text x=\"500\" y=\"165\" class=\"code-text\" fill=\"#c62828\">goblin.health = -999;</text>\n",
        "  <line x1=\"430\" y1=\"168\" x2=\"475\" y2=\"168\" class=\"blocked\" marker-end=\"url(#arrow-red)\"/>\n",
        "  <!-- Block symbol -->\n",
        "  <circle cx=\"475\" cy=\"168\" r=\"12\" fill=\"#c62828\"/>\n",
        "  <line x1=\"470\" y1=\"163\" x2=\"480\" y2=\"173\" stroke=\"white\" stroke-width=\"3\"/>\n",
        "  <line x1=\"480\" y1=\"163\" x2=\"470\" y2=\"173\" stroke=\"white\" stroke-width=\"3\"/>\n",
        "  <text x=\"620\" y=\"195\" text-anchor=\"middle\" font-family=\"Arial\" font-size=\"11\" fill=\"#c62828\">\n",
        "    ✗ Compiler Error: health is private!\n",
        "  </text>\n",
        "\n",
        "  <!-- Allowed access through method -->\n",
        "  <text x=\"500\" y=\"250\" class=\"code-text\" fill=\"#2e7d32\">goblin.takeDamage(10);</text>\n",
        "  <path d=\"M 430 350 L 480 280\" class=\"allowed\"/>\n",
        "  <text x=\"620\" y=\"270\" text-anchor=\"middle\" font-family=\"Arial\" font-size=\"11\" fill=\"#2e7d32\">\n",
        "    ✓ Allowed! Uses public method\n",
        "  </text>\n",
        "\n",
        "  <text x=\"500\" y=\"315\" class=\"code-text\" fill=\"#2e7d32\">int hp = goblin.getHealth();</text>\n",
        "  <path d=\"M 430 380 L 480 325\" class=\"allowed\"/>\n",
        "  <text x=\"620\" y=\"335\" text-anchor=\"middle\" font-family=\"Arial\" font-size=\"11\" fill=\"#2e7d32\">\n",
        "    ✓ Safe reading through getter\n",
        "  </text>\n",
        "\n",
        "  <!-- Benefits box -->\n",
        "  <rect x=\"480\" y=\"410\" width=\"280\" height=\"70\" fill=\"#e8f5e9\" stroke=\"#2e7d32\" stroke-width=\"2\" rx=\"5\"/>\n",
        "  <text x=\"620\" y=\"435\" text-anchor=\"middle\" font-family=\"Arial\" font-size=\"14\" font-weight=\"bold\" fill=\"#2e7d32\">\n",
        "    Benefits of Encapsulation:\n",
        "  </text>\n",
        "  <text x=\"490\" y=\"455\" font-family=\"Arial\" font-size=\"12\" fill=\"#1b5e20\">\n",
        "    • Protects data from invalid changes\n",
        "  </text>\n",
        "  <text x=\"490\" y=\"470\" font-family=\"Arial\" font-size=\"12\" fill=\"#1b5e20\">\n",
        "    • Objects enforce their own rules\n",
        "  </text>\n",
        "</svg>"
      ],
      "metadata": {
        "cellView": "form",
        "colab": {
          "base_uri": "https://localhost:8080/",
          "height": 595
        },
        "id": "PsfQPAXU9aqS",
        "outputId": "deaf7b74-260e-40d7-eca0-5ae03e193c51"
      },
      "execution_count": 8,
      "outputs": [
        {
          "output_type": "display_data",
          "data": {
            "text/plain": [
              "<IPython.core.display.HTML object>"
            ],
            "text/html": [
              "<svg width = \"60%\" viewBox=\"0 0 800 550\" xmlns=\"http://www.w3.org/2000/svg\">\n",
              "  <style>\n",
              "    .object-wall { fill: #fff9c4; stroke: #f57f17; stroke-width: 4; }\n",
              "    .private-zone { fill: #ffebee; stroke: #c62828; stroke-width: 2; }\n",
              "    .public-zone { fill: #e8f5e9; stroke: #2e7d32; stroke-width: 2; }\n",
              "    .title-text { font-family: Arial, sans-serif; font-size: 20px; font-weight: bold; fill: #333; }\n",
              "    .section-title { font-family: Arial, sans-serif; font-size: 16px; font-weight: bold; }\n",
              "    .code-text { font-family: 'Courier New', monospace; font-size: 13px; fill: #333; }\n",
              "    .label-text { font-family: Arial, sans-serif; font-size: 14px; fill: #666; }\n",
              "    .lock-icon { fill: #c62828; }\n",
              "    .key-icon { fill: #2e7d32; }\n",
              "    .blocked { stroke: #c62828; stroke-width: 3; fill: none; }\n",
              "    .allowed { stroke: #2e7d32; stroke-width: 2; fill: none; marker-end: url(#arrow-green); }\n",
              "  </style>\n",
              "\n",
              "  <defs>\n",
              "    <marker id=\"arrow-green\" markerWidth=\"10\" markerHeight=\"10\" refX=\"9\" refY=\"3\" orient=\"auto\">\n",
              "      <polygon points=\"0 0, 10 3, 0 6\" fill=\"#2e7d32\" />\n",
              "    </marker>\n",
              "    <marker id=\"arrow-red\" markerWidth=\"10\" markerHeight=\"10\" refX=\"9\" refY=\"3\" orient=\"auto\">\n",
              "      <polygon points=\"0 0, 10 3, 0 6\" fill=\"#c62828\" />\n",
              "    </marker>\n",
              "  </defs>\n",
              "\n",
              "  <!-- Title -->\n",
              "  <text x=\"400\" y=\"30\" text-anchor=\"middle\" class=\"title-text\">Encapsulation: Protecting Object Data</text>\n",
              "\n",
              "  <!-- Object Container -->\n",
              "  <rect x=\"50\" y=\"60\" width=\"380\" height=\"420\" class=\"object-wall\" rx=\"10\"/>\n",
              "  <text x=\"240\" y=\"90\" text-anchor=\"middle\" class=\"title-text\" fill=\"#f57f17\">Monster Object</text>\n",
              "\n",
              "  <!-- Private Section (Inside the wall) -->\n",
              "  <rect x=\"80\" y=\"110\" width=\"320\" height=\"150\" class=\"private-zone\" rx=\"8\"/>\n",
              "  <g transform=\"translate(90, 130)\">\n",
              "    <!-- Lock icon -->\n",
              "    <rect x=\"0\" y=\"5\" width=\"12\" height=\"15\" rx=\"2\" class=\"lock-icon\"/>\n",
              "    <rect x=\"3\" y=\"0\" width=\"6\" height=\"8\" fill=\"none\" stroke=\"#c62828\" stroke-width=\"2\" rx=\"3\"/>\n",
              "    <text x=\"25\" y=\"15\" class=\"section-title\" fill=\"#c62828\">PRIVATE (Hidden)</text>\n",
              "  </g>\n",
              "  \n",
              "  <text x=\"100\" y=\"160\" class=\"code-text\">private String name;</text>\n",
              "  <text x=\"100\" y=\"180\" class=\"code-text\">private int health;</text>\n",
              "  <text x=\"100\" y=\"200\" class=\"code-text\">private int attackPower;</text>\n",
              "  \n",
              "  <text x=\"240\" y=\"240\" text-anchor=\"middle\" font-family=\"Arial\" font-size=\"12\" fill=\"#c62828\" font-style=\"italic\">\n",
              "    Cannot be accessed directly from outside!\n",
              "  </text>\n",
              "\n",
              "  <!-- Public Section (Methods at the border) -->\n",
              "  <rect x=\"80\" y=\"280\" width=\"320\" height=\"170\" class=\"public-zone\" rx=\"8\"/>\n",
              "  <g transform=\"translate(90, 300)\">\n",
              "    <!-- Key icon -->\n",
              "    <circle cx=\"6\" cy=\"6\" r=\"5\" fill=\"none\" stroke=\"#2e7d32\" stroke-width=\"2\"/>\n",
              "    <line x1=\"6\" y1=\"11\" x2=\"6\" y2=\"18\" stroke=\"#2e7d32\" stroke-width=\"2\"/>\n",
              "    <line x1=\"4\" y1=\"14\" x2=\"2\" y2=\"14\" stroke=\"#2e7d32\" stroke-width=\"2\"/>\n",
              "    <line x1=\"4\" y1=\"16\" x2=\"2\" y2=\"16\" stroke=\"#2e7d32\" stroke-width=\"2\"/>\n",
              "    <text x=\"25\" y=\"15\" class=\"section-title\" fill=\"#2e7d32\">PUBLIC (Interface)</text>\n",
              "  </g>\n",
              "  \n",
              "  <text x=\"100\" y=\"330\" class=\"code-text\">public void roar() { ... }</text>\n",
              "  <text x=\"100\" y=\"350\" class=\"code-text\">public void takeDamage(int amt) { ... }</text>\n",
              "  <text x=\"100\" y=\"370\" class=\"code-text\">public int getHealth() { ... }</text>\n",
              "  <text x=\"100\" y=\"390\" class=\"code-text\">public void setHealth(int h) { ... }</text>\n",
              "  \n",
              "  <text x=\"240\" y=\"425\" text-anchor=\"middle\" font-family=\"Arial\" font-size=\"12\" fill=\"#2e7d32\" font-style=\"italic\">\n",
              "    These methods control access to private data\n",
              "  </text>\n",
              "\n",
              "  <!-- External Code trying to access -->\n",
              "  <rect x=\"480\" y=\"100\" width=\"280\" height=\"300\" fill=\"#f5f5f5\" stroke=\"#666\" stroke-width=\"2\" rx=\"8\"/>\n",
              "  <text x=\"620\" y=\"130\" text-anchor=\"middle\" class=\"section-title\">External Code</text>\n",
              "\n",
              "  <!-- Blocked access attempt -->\n",
              "  <text x=\"500\" y=\"165\" class=\"code-text\" fill=\"#c62828\">goblin.health = -999;</text>\n",
              "  <line x1=\"430\" y1=\"168\" x2=\"475\" y2=\"168\" class=\"blocked\" marker-end=\"url(#arrow-red)\"/>\n",
              "  <!-- Block symbol -->\n",
              "  <circle cx=\"475\" cy=\"168\" r=\"12\" fill=\"#c62828\"/>\n",
              "  <line x1=\"470\" y1=\"163\" x2=\"480\" y2=\"173\" stroke=\"white\" stroke-width=\"3\"/>\n",
              "  <line x1=\"480\" y1=\"163\" x2=\"470\" y2=\"173\" stroke=\"white\" stroke-width=\"3\"/>\n",
              "  <text x=\"620\" y=\"195\" text-anchor=\"middle\" font-family=\"Arial\" font-size=\"11\" fill=\"#c62828\">\n",
              "    ✗ Compiler Error: health is private!\n",
              "  </text>\n",
              "\n",
              "  <!-- Allowed access through method -->\n",
              "  <text x=\"500\" y=\"250\" class=\"code-text\" fill=\"#2e7d32\">goblin.takeDamage(10);</text>\n",
              "  <path d=\"M 430 350 L 480 280\" class=\"allowed\"/>\n",
              "  <text x=\"620\" y=\"270\" text-anchor=\"middle\" font-family=\"Arial\" font-size=\"11\" fill=\"#2e7d32\">\n",
              "    ✓ Allowed! Uses public method\n",
              "  </text>\n",
              "\n",
              "  <text x=\"500\" y=\"315\" class=\"code-text\" fill=\"#2e7d32\">int hp = goblin.getHealth();</text>\n",
              "  <path d=\"M 430 380 L 480 325\" class=\"allowed\"/>\n",
              "  <text x=\"620\" y=\"335\" text-anchor=\"middle\" font-family=\"Arial\" font-size=\"11\" fill=\"#2e7d32\">\n",
              "    ✓ Safe reading through getter\n",
              "  </text>\n",
              "\n",
              "  <!-- Benefits box -->\n",
              "  <rect x=\"480\" y=\"410\" width=\"280\" height=\"70\" fill=\"#e8f5e9\" stroke=\"#2e7d32\" stroke-width=\"2\" rx=\"5\"/>\n",
              "  <text x=\"620\" y=\"435\" text-anchor=\"middle\" font-family=\"Arial\" font-size=\"14\" font-weight=\"bold\" fill=\"#2e7d32\">\n",
              "    Benefits of Encapsulation:\n",
              "  </text>\n",
              "  <text x=\"490\" y=\"455\" font-family=\"Arial\" font-size=\"12\" fill=\"#1b5e20\">\n",
              "    • Protects data from invalid changes\n",
              "  </text>\n",
              "  <text x=\"490\" y=\"470\" font-family=\"Arial\" font-size=\"12\" fill=\"#1b5e20\">\n",
              "    • Objects enforce their own rules\n",
              "  </text>\n",
              "</svg>\n"
            ]
          },
          "metadata": {}
        }
      ]
    },
    {
      "cell_type": "markdown",
      "source": [
        "\n",
        "### Full Example: Monster with Getters and Setters\n"
      ],
      "metadata": {
        "id": "280FluXS9Y83"
      }
    },
    {
      "cell_type": "code",
      "source": [
        "%%writefile Monster.java\n",
        "public class Monster {\n",
        "    private String name;\n",
        "    private int health;\n",
        "\n",
        "    Monster(String name, int health) {\n",
        "        this.name = name;\n",
        "        this.health = health;\n",
        "    }\n",
        "\n",
        "    // getter: read the health\n",
        "    public int getHealth() {\n",
        "        return health;\n",
        "    }\n",
        "\n",
        "    // setter: update the health safely\n",
        "    public void setHealth(int newHealth) {\n",
        "        if (newHealth < 0) {\n",
        "            this.health = 0; // never allow negative health\n",
        "        } else {\n",
        "            this.health = newHealth;\n",
        "        }\n",
        "    }\n",
        "\n",
        "    public static void main(String[] args) {\n",
        "        Monster dragon = new Monster(\"Dragon\", 200);\n",
        "\n",
        "        System.out.println(\"Dragon health: \" + dragon.getHealth());\n",
        "\n",
        "        dragon.setHealth(150);   // safe update\n",
        "        System.out.println(\"Dragon health: \" + dragon.getHealth());\n",
        "\n",
        "        dragon.setHealth(-999);  // prevented by setter\n",
        "        System.out.println(\"Dragon health: \" + dragon.getHealth());\n",
        "    }\n",
        "}"
      ],
      "metadata": {
        "colab": {
          "base_uri": "https://localhost:8080/"
        },
        "id": "FhM1PSgFRGKS",
        "outputId": "d38c67a8-fc86-499b-b7aa-5abc0dcbcd5c"
      },
      "execution_count": null,
      "outputs": [
        {
          "output_type": "stream",
          "name": "stdout",
          "text": [
            "Overwriting Monster.java\n"
          ]
        }
      ]
    },
    {
      "cell_type": "code",
      "source": [
        "!javac Monster.java\n",
        "!java Monster"
      ],
      "metadata": {
        "colab": {
          "base_uri": "https://localhost:8080/"
        },
        "id": "Sz1kicaxRKnw",
        "outputId": "8413c939-059d-4e87-8ddf-e75081c0c9ed"
      },
      "execution_count": null,
      "outputs": [
        {
          "output_type": "stream",
          "name": "stdout",
          "text": [
            "Dragon health: 200\n",
            "Dragon health: 150\n",
            "Dragon health: 0\n"
          ]
        }
      ]
    },
    {
      "cell_type": "markdown",
      "source": [
        "\n",
        "### Why Getters and Setters Are Better Than Public Fields\n",
        "\n",
        "* **Protection**: Enforce rules (like no negative health).\n",
        "* **Flexibility**: Later, you could change how health is stored or displayed without breaking other code.\n",
        "* **Clarity**: Other programmers know they should always interact with the object through its methods, not by tampering with fields directly.\n"
      ],
      "metadata": {
        "id": "TH_WUZpmRB4c"
      }
    },
    {
      "cell_type": "markdown",
      "source": [
        "## Exercise 4: Encapsulation Practice\n",
        "\n",
        "You’ve learned how **private fields** protect an object’s state, and how **getters** and **setters** provide safe, controlled access. Now it’s your turn to put this into practice with a new example.\n",
        "\n",
        "---\n",
        "\n",
        "### Task\n",
        "\n",
        "1. Create a class called `Weapon`.\n",
        "2. Give it two private fields:\n",
        "\n",
        "   * `String name`\n",
        "   * `int damage`\n",
        "3. Write a constructor that sets both fields (using `this`).\n",
        "4. Write a **getter** for `damage`.\n",
        "5. Write a **setter** for `damage` that enforces a rule:\n",
        "\n",
        "   * The minimum value should be `0`.\n",
        "   * The maximum value should be `100`.\n",
        "   * If someone tries to set it outside that range, adjust it back into the valid range.\n",
        "6. Write a method called `describe()` that prints:\n",
        "\n",
        "   * `\"Sword deals 25 damage.\"` (using the object’s actual data).\n",
        "7. In the `main` method:\n",
        "\n",
        "   * Create one weapon with a valid damage value.\n",
        "   * Create another weapon and then try to set its damage to `-50` and `999` to test your validation.\n",
        "\n",
        "\n",
        "### Starter Skeleton (you must fill in the TODOs)\n"
      ],
      "metadata": {
        "id": "4kAQhjDGRgTc"
      }
    },
    {
      "cell_type": "code",
      "source": [
        "%%writefile Weapon.java\n",
        "public class Weapon {\n",
        "\n",
        "    // TODO: declare private fields for name and damage\n",
        "\n",
        "    // TODO: constructor that assigns parameters to fields using this\n",
        "\n",
        "    // TODO: getter for damage\n",
        "\n",
        "    // TODO: setter for damage that enforces the 0–100 rule\n",
        "\n",
        "    // TODO: describe() method that prints \"<name> deals <damage> damage.\"\n",
        "\n",
        "    public static void main(String[] args) {\n",
        "        // TODO: create one weapon with valid damage\n",
        "        // TODO: create another weapon and test invalid setter values\n",
        "    }\n",
        "}"
      ],
      "metadata": {
        "id": "9YNaAyuzRpK0"
      },
      "execution_count": null,
      "outputs": []
    },
    {
      "cell_type": "code",
      "source": [
        "!javac Weapon.java\n",
        "!java Weapon"
      ],
      "metadata": {
        "id": "EaoL3OFZRtP8"
      },
      "execution_count": null,
      "outputs": []
    },
    {
      "cell_type": "markdown",
      "source": [
        "\n",
        "### Hints\n",
        "\n",
        "* Use the **`this`** keyword in the constructor.\n",
        "* In the setter, you can use `if` statements to clamp the damage value:\n",
        "\n",
        "```java\n",
        "if (newDamage < 0) {\n",
        "    this.damage = 0;\n",
        "} else if (newDamage > 100) {\n",
        "    this.damage = 100;\n",
        "} else {\n",
        "    this.damage = newDamage;\n",
        "}\n",
        "```\n",
        "\n",
        "### Example Output\n",
        "\n",
        "If you do this correctly, your program might print:\n",
        "\n",
        "```\n",
        "Sword deals 25 damage.\n",
        "Broken Dagger deals 0 damage.\n",
        "Broken Dagger deals 100 damage.\n",
        "```\n"
      ],
      "metadata": {
        "id": "r8bJUVDaRkiN"
      }
    },
    {
      "cell_type": "markdown",
      "source": [
        "## Objects Working Together\n",
        "\n",
        "Up to now, we’ve built single classes. But in any real project, especially in a game, classes need to **interact**. A `Character` buys an `Item`, a `Monster` takes damage from a `Weapon`, or a `Potion` heals someone. This is where object-oriented design shows its strength: each class models its own small part of the world, and together they form a system.\n",
        "\n",
        "---\n",
        "\n",
        "### Example: A Character Buys an Item\n",
        "\n",
        "We’ll model two simple classes:\n",
        "\n",
        "* `Item` — has a name and a price.\n",
        "* `Character` — has a name, gold, and can buy items.\n"
      ],
      "metadata": {
        "id": "YbCC1cYvSPnB"
      }
    },
    {
      "cell_type": "code",
      "source": [
        "%%writefile Item.java\n",
        "public class Item {\n",
        "    private String name;\n",
        "    private int price;\n",
        "\n",
        "    Item(String name, int price) {\n",
        "        this.name = name;\n",
        "        this.price = price;\n",
        "    }\n",
        "\n",
        "    public int getPrice() {\n",
        "        return price;\n",
        "    }\n",
        "\n",
        "    public String getName() {\n",
        "        return name;\n",
        "    }\n",
        "}"
      ],
      "metadata": {
        "colab": {
          "base_uri": "https://localhost:8080/"
        },
        "id": "qpFGUkJ3SRrv",
        "outputId": "64cf519e-b31c-495e-a9fc-003e7e539242"
      },
      "execution_count": null,
      "outputs": [
        {
          "output_type": "stream",
          "name": "stdout",
          "text": [
            "Writing Item.java\n"
          ]
        }
      ]
    },
    {
      "cell_type": "code",
      "source": [
        "%%writefile Character.java\n",
        "public class Character {\n",
        "    private String name;\n",
        "    private int gold;\n",
        "\n",
        "    Character(String name, int gold) {\n",
        "        this.name = name;\n",
        "        this.gold = gold;\n",
        "    }\n",
        "\n",
        "    public void buyItem(Item item) {\n",
        "        if (gold >= item.getPrice()) {\n",
        "            gold -= item.getPrice();\n",
        "            System.out.println(name + \" buys a \" + item.getName() +\n",
        "                               \" for \" + item.getPrice() + \" gold.\");\n",
        "        } else {\n",
        "            System.out.println(name + \" cannot afford the \" + item.getName() + \".\");\n",
        "        }\n",
        "    }\n",
        "\n",
        "    public void showGold() {\n",
        "        System.out.println(name + \" now has \" + gold + \" gold.\");\n",
        "    }\n",
        "\n",
        "    public static void main(String[] args) {\n",
        "        Character hero = new Character(\"Aria\", 50);\n",
        "        Item potion = new Item(\"Health Potion\", 20);\n",
        "\n",
        "        hero.buyItem(potion);\n",
        "        hero.showGold();\n",
        "    }\n",
        "}"
      ],
      "metadata": {
        "colab": {
          "base_uri": "https://localhost:8080/"
        },
        "id": "NWz1T3sjA7U-",
        "outputId": "49e00737-3e2c-4f0c-92b7-f4ad4d979d2a"
      },
      "execution_count": null,
      "outputs": [
        {
          "output_type": "stream",
          "name": "stdout",
          "text": [
            "Writing Character.java\n"
          ]
        }
      ]
    },
    {
      "cell_type": "markdown",
      "source": [
        "### How It Works in Practice\n",
        "\n",
        "In Java, each **public class** is normally saved in its own file with the same name as the class:\n",
        "\n",
        "* `Item.java` → contains the `Item` class.\n",
        "* `Character.java` → contains the `Character` class.\n",
        "\n",
        "When you want to run the program, you compile both files at the same time:"
      ],
      "metadata": {
        "id": "tW-rGBnxSani"
      }
    },
    {
      "cell_type": "code",
      "source": [
        "!javac Item.java Character.java"
      ],
      "metadata": {
        "id": "meL9v7FxScCQ"
      },
      "execution_count": null,
      "outputs": []
    },
    {
      "cell_type": "markdown",
      "source": [
        "This creates `Item.class` and `Character.class` (the compiled versions). Then you can run the program starting from the class that has the `main` method:"
      ],
      "metadata": {
        "id": "Jrg9f4WuSdnR"
      }
    },
    {
      "cell_type": "code",
      "source": [
        "!java Character"
      ],
      "metadata": {
        "colab": {
          "base_uri": "https://localhost:8080/"
        },
        "id": "OF0yXTHoSfLo",
        "outputId": "b97ce6da-e19a-4317-e3b0-241696efe1b8"
      },
      "execution_count": null,
      "outputs": [
        {
          "output_type": "stream",
          "name": "stdout",
          "text": [
            "Aria buys a Health Potion for 20 gold.\n",
            "Aria now has 30 gold.\n"
          ]
        }
      ]
    },
    {
      "cell_type": "markdown",
      "source": [
        "Since `Character` has a `main` method, it serves as the entry point. From there, it creates an `Item` object and interacts with it.\n",
        "\n",
        "### Why This Matters\n",
        "\n",
        "* Each class is responsible for itself. `Item` only knows about its own name and price. `Character` doesn’t need to know *how* the `Item` works internally—it just asks for the name and price through public methods.\n",
        "* This separation keeps each class focused and makes your code easier to extend. You could later add `Weapon` or `Armor` classes, and the `Character` class could interact with them in much the same way."
      ],
      "metadata": {
        "id": "R3mADVHASiZd"
      }
    },
    {
      "cell_type": "code",
      "source": [
        "# @title\n",
        "%%html\n",
        "<svg width = \"60%\" viewBox=\"0 0 800 550\" xmlns=\"http://www.w3.org/2000/svg\">\n",
        "  <style>\n",
        "    .character-box { fill: #e8f5e9; stroke: #2e7d32; stroke-width: 3; }\n",
        "    .item-box { fill: #fff3e0; stroke: #ef6c00; stroke-width: 3; }\n",
        "    .store-box { fill: #f3e5f5; stroke: #6a1b9a; stroke-width: 3; }\n",
        "    .title-text { font-family: Arial, sans-serif; font-size: 20px; font-weight: bold; fill: #333; }\n",
        "    .object-title { font-family: Arial, sans-serif; font-size: 16px; font-weight: bold; }\n",
        "    .field-text { font-family: 'Courier New', monospace; font-size: 13px; fill: #333; }\n",
        "    .method-text { font-family: 'Courier New', monospace; font-size: 12px; fill: #1565c0; }\n",
        "    .interaction { stroke: #d32f2f; stroke-width: 3; fill: none; marker-end: url(#arrow-red); }\n",
        "    .code-bg { fill: #fffde7; stroke: #f57f17; stroke-width: 2; }\n",
        "  </style>\n",
        "\n",
        "  <defs>\n",
        "    <marker id=\"arrow-red\" markerWidth=\"10\" markerHeight=\"10\" refX=\"9\" refY=\"3\" orient=\"auto\">\n",
        "      <polygon points=\"0 0, 10 3, 0 6\" fill=\"#d32f2f\" />\n",
        "    </marker>\n",
        "  </defs>\n",
        "\n",
        "  <!-- Title -->\n",
        "  <text x=\"400\" y=\"30\" text-anchor=\"middle\" class=\"title-text\">Objects Interact Through Methods</text>\n",
        "\n",
        "  <!-- Character Object -->\n",
        "  <rect x=\"50\" y=\"80\" width=\"200\" height=\"160\" class=\"character-box\" rx=\"8\"/>\n",
        "  <text x=\"150\" y=\"105\" text-anchor=\"middle\" class=\"object-title\" fill=\"#2e7d32\">Character</text>\n",
        "  <text x=\"150\" y=\"125\" text-anchor=\"middle\" font-family=\"Arial\" font-size=\"13\" fill=\"#666\">hero</text>\n",
        "\n",
        "  <text x=\"65\" y=\"150\" class=\"field-text\">name: \"Aria\"</text>\n",
        "  <text x=\"65\" y=\"170\" class=\"field-text\">gold: 50</text>\n",
        "\n",
        "  <line x1=\"60\" y1=\"185\" x2=\"240\" y2=\"185\" stroke=\"#2e7d32\" stroke-width=\"1\"/>\n",
        "  <text x=\"65\" y=\"205\" class=\"method-text\">buyItem(Item i)</text>\n",
        "  <text x=\"65\" y=\"225\" class=\"method-text\">showGold()</text>\n",
        "\n",
        "  <!-- Item Object -->\n",
        "  <rect x=\"300\" y=\"80\" width=\"200\" height=\"160\" class=\"item-box\" rx=\"8\"/>\n",
        "  <text x=\"400\" y=\"105\" text-anchor=\"middle\" class=\"object-title\" fill=\"#ef6c00\">Item</text>\n",
        "  <text x=\"400\" y=\"125\" text-anchor=\"middle\" font-family=\"Arial\" font-size=\"13\" fill=\"#666\">potion</text>\n",
        "\n",
        "  <text x=\"315\" y=\"150\" class=\"field-text\">name: \"Potion\"</text>\n",
        "  <text x=\"315\" y=\"170\" class=\"field-text\">price: 20</text>\n",
        "\n",
        "  <line x1=\"310\" y1=\"185\" x2=\"490\" y2=\"185\" stroke=\"#ef6c00\" stroke-width=\"1\"/>\n",
        "  <text x=\"315\" y=\"205\" class=\"method-text\">getName()</text>\n",
        "  <text x=\"315\" y=\"225\" class=\"method-text\">getPrice()</text>\n",
        "\n",
        "  <!-- Store Object -->\n",
        "  <rect x=\"550\" y=\"80\" width=\"200\" height=\"160\" class=\"store-box\" rx=\"8\"/>\n",
        "  <text x=\"650\" y=\"105\" text-anchor=\"middle\" class=\"object-title\" fill=\"#6a1b9a\">Store</text>\n",
        "  <text x=\"650\" y=\"125\" text-anchor=\"middle\" font-family=\"Arial\" font-size=\"13\" fill=\"#666\">shop</text>\n",
        "\n",
        "  <text x=\"565\" y=\"150\" class=\"field-text\">name: \"Magic Shop\"</text>\n",
        "  <text x=\"565\" y=\"170\" class=\"field-text\">stock: [...]</text>\n",
        "\n",
        "  <line x1=\"560\" y1=\"185\" x2=\"740\" y2=\"185\" stroke=\"#6a1b9a\" stroke-width=\"1\"/>\n",
        "  <text x=\"565\" y=\"205\" class=\"method-text\">sellItem(...)</text>\n",
        "  <text x=\"565\" y=\"225\" class=\"method-text\">addItem(Item i)</text>\n",
        "\n",
        "  <!-- Interaction Arrows -->\n",
        "  <path d=\"M 250 150 L 300 150\" class=\"interaction\"/>\n",
        "  <text x=\"270\" y=\"145\" text-anchor=\"middle\" font-family=\"Arial\" font-size=\"11\" fill=\"#d32f2f\" font-weight=\"bold\">uses</text>\n",
        "\n",
        "  <path d=\"M 500 150 L 550 150\" class=\"interaction\"/>\n",
        "  <text x=\"520\" y=\"145\" text-anchor=\"middle\" font-family=\"Arial\" font-size=\"11\" fill=\"#d32f2f\" font-weight=\"bold\">uses</text>\n",
        "\n",
        "  <!-- Code Example -->\n",
        "  <rect x=\"50\" y=\"270\" width=\"700\" height=\"250\" class=\"code-bg\" rx=\"8\"/>\n",
        "  <text x=\"400\" y=\"300\" text-anchor=\"middle\" font-family=\"Arial\" font-size=\"16\" font-weight=\"bold\" fill=\"#f57f17\">\n",
        "    How Objects Communicate:\n",
        "  </text>\n",
        "\n",
        "  <!-- Step by step interaction -->\n",
        "  <text x=\"70\" y=\"335\" font-family=\"Arial\" font-size=\"14\" font-weight=\"bold\" fill=\"#1565c0\">1. Create the objects:</text>\n",
        "  <text x=\"85\" y=\"355\" class=\"field-text\">Character hero = new Character(\"Aria\", 50);</text>\n",
        "  <text x=\"85\" y=\"375\" class=\"field-text\">Item potion = new Item(\"Potion\", 20);</text>\n",
        "\n",
        "  <text x=\"70\" y=\"410\" font-family=\"Arial\" font-size=\"14\" font-weight=\"bold\" fill=\"#1565c0\">2. One object calls another's method:</text>\n",
        "  <text x=\"85\" y=\"430\" class=\"field-text\">hero.buyItem(potion);</text>\n",
        "\n",
        "  <text x=\"70\" y=\"465\" font-family=\"Arial\" font-size=\"14\" font-weight=\"bold\" fill=\"#1565c0\">3. Inside buyItem(), Character uses Item's methods:</text>\n",
        "  <text x=\"85\" y=\"485\" class=\"field-text\">if (gold >= item.getPrice()) {</text>\n",
        "  <text x=\"105\" y=\"505\" class=\"field-text\">gold -= item.getPrice();</text>\n",
        "\n",
        "  <!-- Bottom note -->\n",
        "  <text x=\"400\" y=\"540\" text-anchor=\"middle\" font-family=\"Arial\" font-size=\"13\" fill=\"#666\" font-style=\"italic\">\n",
        "    Objects collaborate by calling each other's public methods!\n",
        "  </text>\n",
        "</svg>"
      ],
      "metadata": {
        "cellView": "form",
        "colab": {
          "base_uri": "https://localhost:8080/",
          "height": 595
        },
        "id": "N97zLKOA8CML",
        "outputId": "49011f32-d49b-4f61-de91-93acd04fc211"
      },
      "execution_count": 7,
      "outputs": [
        {
          "output_type": "display_data",
          "data": {
            "text/plain": [
              "<IPython.core.display.HTML object>"
            ],
            "text/html": [
              "<svg width = \"60%\" viewBox=\"0 0 800 550\" xmlns=\"http://www.w3.org/2000/svg\">\n",
              "  <style>\n",
              "    .character-box { fill: #e8f5e9; stroke: #2e7d32; stroke-width: 3; }\n",
              "    .item-box { fill: #fff3e0; stroke: #ef6c00; stroke-width: 3; }\n",
              "    .store-box { fill: #f3e5f5; stroke: #6a1b9a; stroke-width: 3; }\n",
              "    .title-text { font-family: Arial, sans-serif; font-size: 20px; font-weight: bold; fill: #333; }\n",
              "    .object-title { font-family: Arial, sans-serif; font-size: 16px; font-weight: bold; }\n",
              "    .field-text { font-family: 'Courier New', monospace; font-size: 13px; fill: #333; }\n",
              "    .method-text { font-family: 'Courier New', monospace; font-size: 12px; fill: #1565c0; }\n",
              "    .interaction { stroke: #d32f2f; stroke-width: 3; fill: none; marker-end: url(#arrow-red); }\n",
              "    .code-bg { fill: #fffde7; stroke: #f57f17; stroke-width: 2; }\n",
              "  </style>\n",
              "\n",
              "  <defs>\n",
              "    <marker id=\"arrow-red\" markerWidth=\"10\" markerHeight=\"10\" refX=\"9\" refY=\"3\" orient=\"auto\">\n",
              "      <polygon points=\"0 0, 10 3, 0 6\" fill=\"#d32f2f\" />\n",
              "    </marker>\n",
              "  </defs>\n",
              "\n",
              "  <!-- Title -->\n",
              "  <text x=\"400\" y=\"30\" text-anchor=\"middle\" class=\"title-text\">Objects Interact Through Methods</text>\n",
              "\n",
              "  <!-- Character Object -->\n",
              "  <rect x=\"50\" y=\"80\" width=\"200\" height=\"160\" class=\"character-box\" rx=\"8\"/>\n",
              "  <text x=\"150\" y=\"105\" text-anchor=\"middle\" class=\"object-title\" fill=\"#2e7d32\">Character</text>\n",
              "  <text x=\"150\" y=\"125\" text-anchor=\"middle\" font-family=\"Arial\" font-size=\"13\" fill=\"#666\">hero</text>\n",
              "  \n",
              "  <text x=\"65\" y=\"150\" class=\"field-text\">name: \"Aria\"</text>\n",
              "  <text x=\"65\" y=\"170\" class=\"field-text\">gold: 50</text>\n",
              "  \n",
              "  <line x1=\"60\" y1=\"185\" x2=\"240\" y2=\"185\" stroke=\"#2e7d32\" stroke-width=\"1\"/>\n",
              "  <text x=\"65\" y=\"205\" class=\"method-text\">buyItem(Item i)</text>\n",
              "  <text x=\"65\" y=\"225\" class=\"method-text\">showGold()</text>\n",
              "\n",
              "  <!-- Item Object -->\n",
              "  <rect x=\"300\" y=\"80\" width=\"200\" height=\"160\" class=\"item-box\" rx=\"8\"/>\n",
              "  <text x=\"400\" y=\"105\" text-anchor=\"middle\" class=\"object-title\" fill=\"#ef6c00\">Item</text>\n",
              "  <text x=\"400\" y=\"125\" text-anchor=\"middle\" font-family=\"Arial\" font-size=\"13\" fill=\"#666\">potion</text>\n",
              "  \n",
              "  <text x=\"315\" y=\"150\" class=\"field-text\">name: \"Potion\"</text>\n",
              "  <text x=\"315\" y=\"170\" class=\"field-text\">price: 20</text>\n",
              "  \n",
              "  <line x1=\"310\" y1=\"185\" x2=\"490\" y2=\"185\" stroke=\"#ef6c00\" stroke-width=\"1\"/>\n",
              "  <text x=\"315\" y=\"205\" class=\"method-text\">getName()</text>\n",
              "  <text x=\"315\" y=\"225\" class=\"method-text\">getPrice()</text>\n",
              "\n",
              "  <!-- Store Object -->\n",
              "  <rect x=\"550\" y=\"80\" width=\"200\" height=\"160\" class=\"store-box\" rx=\"8\"/>\n",
              "  <text x=\"650\" y=\"105\" text-anchor=\"middle\" class=\"object-title\" fill=\"#6a1b9a\">Store</text>\n",
              "  <text x=\"650\" y=\"125\" text-anchor=\"middle\" font-family=\"Arial\" font-size=\"13\" fill=\"#666\">shop</text>\n",
              "  \n",
              "  <text x=\"565\" y=\"150\" class=\"field-text\">name: \"Magic Shop\"</text>\n",
              "  <text x=\"565\" y=\"170\" class=\"field-text\">stock: [...]</text>\n",
              "  \n",
              "  <line x1=\"560\" y1=\"185\" x2=\"740\" y2=\"185\" stroke=\"#6a1b9a\" stroke-width=\"1\"/>\n",
              "  <text x=\"565\" y=\"205\" class=\"method-text\">sellItem(...)</text>\n",
              "  <text x=\"565\" y=\"225\" class=\"method-text\">addItem(Item i)</text>\n",
              "\n",
              "  <!-- Interaction Arrows -->\n",
              "  <path d=\"M 250 150 L 300 150\" class=\"interaction\"/>\n",
              "  <text x=\"270\" y=\"145\" text-anchor=\"middle\" font-family=\"Arial\" font-size=\"11\" fill=\"#d32f2f\" font-weight=\"bold\">uses</text>\n",
              "  \n",
              "  <path d=\"M 500 150 L 550 150\" class=\"interaction\"/>\n",
              "  <text x=\"520\" y=\"145\" text-anchor=\"middle\" font-family=\"Arial\" font-size=\"11\" fill=\"#d32f2f\" font-weight=\"bold\">uses</text>\n",
              "\n",
              "  <!-- Code Example -->\n",
              "  <rect x=\"50\" y=\"270\" width=\"700\" height=\"250\" class=\"code-bg\" rx=\"8\"/>\n",
              "  <text x=\"400\" y=\"300\" text-anchor=\"middle\" font-family=\"Arial\" font-size=\"16\" font-weight=\"bold\" fill=\"#f57f17\">\n",
              "    How Objects Communicate:\n",
              "  </text>\n",
              "\n",
              "  <!-- Step by step interaction -->\n",
              "  <text x=\"70\" y=\"335\" font-family=\"Arial\" font-size=\"14\" font-weight=\"bold\" fill=\"#1565c0\">1. Create the objects:</text>\n",
              "  <text x=\"85\" y=\"355\" class=\"field-text\">Character hero = new Character(\"Aria\", 50);</text>\n",
              "  <text x=\"85\" y=\"375\" class=\"field-text\">Item potion = new Item(\"Potion\", 20);</text>\n",
              "\n",
              "  <text x=\"70\" y=\"410\" font-family=\"Arial\" font-size=\"14\" font-weight=\"bold\" fill=\"#1565c0\">2. One object calls another's method:</text>\n",
              "  <text x=\"85\" y=\"430\" class=\"field-text\">hero.buyItem(potion);</text>\n",
              "\n",
              "  <text x=\"70\" y=\"465\" font-family=\"Arial\" font-size=\"14\" font-weight=\"bold\" fill=\"#1565c0\">3. Inside buyItem(), Character uses Item's methods:</text>\n",
              "  <text x=\"85\" y=\"485\" class=\"field-text\">if (gold >= item.getPrice()) {</text>\n",
              "  <text x=\"105\" y=\"505\" class=\"field-text\">gold -= item.getPrice();</text>\n",
              "\n",
              "  <!-- Bottom note -->\n",
              "  <text x=\"400\" y=\"540\" text-anchor=\"middle\" font-family=\"Arial\" font-size=\"13\" fill=\"#666\" font-style=\"italic\">\n",
              "    Objects collaborate by calling each other's public methods!\n",
              "  </text>\n",
              "</svg>\n"
            ]
          },
          "metadata": {}
        }
      ]
    },
    {
      "cell_type": "markdown",
      "source": [
        "## Exercise 5: A Simple Interaction\n",
        "\n",
        "Now that you’ve seen how different classes can work together, it’s time for you to try creating two objects that interact. This will give you practice in designing **separate classes**, placing each in its own file, and compiling/running them together.\n",
        "\n",
        "\n",
        "### Task\n",
        "\n",
        "1. Create a class called `Store`.\n",
        "\n",
        "   * Give it one field: `String name`.\n",
        "   * Add a constructor to set the store’s name.\n",
        "   * Add a method `sellItem(String itemName, int price, Character buyer)` that:\n",
        "\n",
        "     * Checks if the buyer has enough gold.\n",
        "     * If yes, subtracts the gold and prints:\n",
        "\n",
        "       * `\"<buyer name> buys <itemName> from <store name> for <price> gold.\"`\n",
        "     * If not, prints:\n",
        "\n",
        "       * `\"<buyer name> cannot afford <itemName>.\"`\n",
        "\n",
        "2. Use the `Character` class from earlier (with fields for name and gold). If you don’t have it handy, re-create a simplified version with:\n",
        "\n",
        "   * A constructor to set name and gold.\n",
        "   * A method `getGold()` to return current gold.\n",
        "   * A method `spendGold(int amount)` that subtracts gold.\n",
        "\n",
        "3. Write a `main` method (in `Character.java`) that:\n",
        "\n",
        "   * Creates a `Character` with some starting gold.\n",
        "   * Creates a `Store`.\n",
        "   * Calls `store.sellItem(...)` a couple of times to test both success and failure cases.\n",
        "\n",
        "\n",
        "### Starter Skeletons\n",
        "\n"
      ],
      "metadata": {
        "id": "l-WRhP07SxuM"
      }
    },
    {
      "cell_type": "code",
      "source": [
        "%%writefile Character.java\n",
        "public class Character {\n",
        "    private String name;\n",
        "    private int gold;\n",
        "\n",
        "    // TODO: constructor (String name, int gold)\n",
        "    // TODO: getGold()\n",
        "    // TODO: spendGold(int amount)\n",
        "\n",
        "    public static void main(String[] args) {\n",
        "        // TODO: create a Character\n",
        "        // TODO: create a Store\n",
        "        // TODO: try buying items\n",
        "    }\n",
        "}"
      ],
      "metadata": {
        "colab": {
          "base_uri": "https://localhost:8080/"
        },
        "id": "fxFZAirHS02M",
        "outputId": "c115fd8d-b272-4df0-bb29-2ba2e3b54f33"
      },
      "execution_count": 1,
      "outputs": [
        {
          "output_type": "stream",
          "name": "stdout",
          "text": [
            "Writing Character.java\n"
          ]
        }
      ]
    },
    {
      "cell_type": "code",
      "source": [
        "%%writefile Store.java\n",
        "public class Store {\n",
        "    private String name;\n",
        "\n",
        "    // TODO: constructor (String name)\n",
        "\n",
        "    // TODO: sellItem(String itemName, int price, Character buyer)\n",
        "}"
      ],
      "metadata": {
        "id": "mhMb7rEXS3he",
        "colab": {
          "base_uri": "https://localhost:8080/"
        },
        "outputId": "9aa8dae4-63ba-4bce-ac89-c43aaa716998"
      },
      "execution_count": 2,
      "outputs": [
        {
          "output_type": "stream",
          "name": "stdout",
          "text": [
            "Writing Store.java\n"
          ]
        }
      ]
    },
    {
      "cell_type": "code",
      "source": [
        "!javac Store.java Character.java\n",
        "!java Character"
      ],
      "metadata": {
        "id": "nf826wAn5BOI"
      },
      "execution_count": 4,
      "outputs": []
    },
    {
      "cell_type": "markdown",
      "source": [
        "### Example Run\n",
        "\n",
        "If you set things up correctly, running `java Character` might print something like this:\n",
        "\n",
        "```\n",
        "Aria buys Potion from Magic Shop for 20 gold.\n",
        "Aria cannot afford Sword.\n",
        "```\n",
        "\n",
        "### Reflection Question\n",
        "\n",
        "Why is it good practice to separate `Store` and `Character` into their own files and classes, rather than putting everything in one big class? How does this separation aid in program development and debuggin?"
      ],
      "metadata": {
        "id": "vhw2TDbGS_sk"
      }
    },
    {
      "cell_type": "markdown",
      "source": [
        "## Collections of Objects\n",
        "\n",
        "So far, we’ve focused on single objects—one `Monster`, one `Character`, one `Item`. But games and programs rarely work with just one of something. A dungeon usually contains many monsters, a store usually stocks many items, and a character usually carries many things in their inventory.\n",
        "\n",
        "You already know how to use **`ArrayList`** in Java, so here we’ll just remind you of the basics and then show how it connects to objects.\n",
        "\n",
        "Remember that an `ArrayList` is like a **resizable box** that can hold many objects of the same type. You can add, remove, and loop through items without worrying about fixed size.\n",
        "\n",
        "```java\n",
        "ArrayList<Monster> monsters = new ArrayList<>();\n",
        "```\n",
        "\n",
        "This line means: *create a list that will hold Monster objects.*\n",
        "\n",
        "\n",
        "### Why Use Collections with Objects?\n",
        "\n",
        "* Instead of ten variables (`goblin1`, `goblin2`, …), you keep all your monsters in one list.\n",
        "* You can loop through the list to process every object.\n",
        "* Objects themselves can **contain collections** to represent groups:\n",
        "\n",
        "  * A `Character` can have an `ArrayList<Item>` as an **inventory**.\n",
        "  * A `Store` can keep its **stock** in an `ArrayList<Item>`.\n",
        "\n",
        "\n",
        "### Examples\n",
        "**A dungeon full of monsters:**\n",
        "\n",
        "```java\n",
        "ArrayList<Monster> monsters = new ArrayList<>();\n",
        "monsters.add(new Monster(\"Goblin\", 30, 5));\n",
        "monsters.add(new Monster(\"Orc\", 60, 10));\n",
        "```\n",
        "\n",
        "**Looping through them:**\n",
        "\n",
        "```java\n",
        "for (Monster m : monsters) {\n",
        "    System.out.println(\"A \" + m.getName() + \" appears!\");\n",
        "}\n",
        "```\n",
        "\n",
        "**A character’s inventory:**\n",
        "\n",
        "```java\n",
        "ArrayList<Item> inventory = new ArrayList<>();\n",
        "inventory.add(new Item(\"Health Potion\", 20));\n",
        "inventory.add(new Item(\"Sword\", 25));\n",
        "```\n"
      ],
      "metadata": {
        "id": "zlMRmpWHTz2H"
      }
    },
    {
      "cell_type": "code",
      "source": [
        "# @title\n",
        "%%html\n",
        "<svg width = \"60%\" viewBox=\"0 0 800 600\" xmlns=\"http://www.w3.org/2000/svg\">\n",
        "  <style>\n",
        "    .arraylist-box { fill: #e1f5fe; stroke: #0277bd; stroke-width: 3; }\n",
        "    .object-card { fill: #fff3e0; stroke: #ef6c00; stroke-width: 2; }\n",
        "    .inventory-box { fill: #f3e5f5; stroke: #7b1fa2; stroke-width: 3; }\n",
        "    .title-text { font-family: Arial, sans-serif; font-size: 20px; font-weight: bold; fill: #333; }\n",
        "    .section-title { font-family: Arial, sans-serif; font-size: 16px; font-weight: bold; }\n",
        "    .code-text { font-family: 'Courier New', monospace; font-size: 13px; fill: #333; }\n",
        "    .label-text { font-family: Arial, sans-serif; font-size: 12px; fill: #666; }\n",
        "    .index-label { font-family: Arial, sans-serif; font-size: 11px; fill: #0277bd; font-weight: bold; }\n",
        "  </style>\n",
        "\n",
        "  <!-- Title -->\n",
        "  <text x=\"400\" y=\"30\" text-anchor=\"middle\" class=\"title-text\">ArrayList: Collections of Objects</text>\n",
        "\n",
        "  <!-- ArrayList visualization -->\n",
        "  <text x=\"400\" y=\"70\" text-anchor=\"middle\" class=\"section-title\" fill=\"#0277bd\">ArrayList&lt;Monster&gt; monsters</text>\n",
        "\n",
        "  <rect x=\"50\" y=\"90\" width=\"700\" height=\"140\" class=\"arraylist-box\" rx=\"8\"/>\n",
        "\n",
        "  <!-- Index labels -->\n",
        "  <text x=\"100\" y=\"110\" class=\"index-label\" text-anchor=\"middle\">[0]</text>\n",
        "  <text x=\"260\" y=\"110\" class=\"index-label\" text-anchor=\"middle\">[1]</text>\n",
        "  <text x=\"420\" y=\"110\" class=\"index-label\" text-anchor=\"middle\">[2]</text>\n",
        "  <text x=\"580\" y=\"110\" class=\"index-label\" text-anchor=\"middle\">[3]</text>\n",
        "\n",
        "  <!-- Monster objects in the ArrayList -->\n",
        "  <rect x=\"65\" y=\"120\" width=\"130\" height=\"90\" class=\"object-card\" rx=\"5\"/>\n",
        "  <text x=\"130\" y=\"140\" text-anchor=\"middle\" font-family=\"Arial\" font-size=\"13\" font-weight=\"bold\" fill=\"#ef6c00\">Goblin</text>\n",
        "  <text x=\"75\" y=\"165\" class=\"code-text\" font-size=\"11\">health: 30</text>\n",
        "  <text x=\"75\" y=\"185\" class=\"code-text\" font-size=\"11\">power: 5</text>\n",
        "\n",
        "  <rect x=\"225\" y=\"120\" width=\"130\" height=\"90\" class=\"object-card\" rx=\"5\"/>\n",
        "  <text x=\"290\" y=\"140\" text-anchor=\"middle\" font-family=\"Arial\" font-size=\"13\" font-weight=\"bold\" fill=\"#ef6c00\">Orc</text>\n",
        "  <text x=\"235\" y=\"165\" class=\"code-text\" font-size=\"11\">health: 60</text>\n",
        "  <text x=\"235\" y=\"185\" class=\"code-text\" font-size=\"11\">power: 10</text>\n",
        "\n",
        "  <rect x=\"385\" y=\"120\" width=\"130\" height=\"90\" class=\"object-card\" rx=\"5\"/>\n",
        "  <text x=\"450\" y=\"140\" text-anchor=\"middle\" font-family=\"Arial\" font-size=\"13\" font-weight=\"bold\" fill=\"#ef6c00\">Dragon</text>\n",
        "  <text x=\"395\" y=\"165\" class=\"code-text\" font-size=\"11\">health: 200</text>\n",
        "  <text x=\"395\" y=\"185\" class=\"code-text\" font-size=\"11\">power: 50</text>\n",
        "\n",
        "  <rect x=\"545\" y=\"120\" width=\"130\" height=\"90\" class=\"object-card\" rx=\"5\"/>\n",
        "  <text x=\"610\" y=\"140\" text-anchor=\"middle\" font-family=\"Arial\" font-size=\"13\" font-weight=\"bold\" fill=\"#ef6c00\">Troll</text>\n",
        "  <text x=\"555\" y=\"165\" class=\"code-text\" font-size=\"11\">health: 80</text>\n",
        "  <text x=\"555\" y=\"185\" class=\"code-text\" font-size=\"11\">power: 15</text>\n",
        "\n",
        "  <!-- Code example -->\n",
        "  <rect x=\"50\" y=\"260\" width=\"340\" height=\"180\" fill=\"#f5f5f5\" stroke=\"#666\" stroke-width=\"2\" rx=\"8\"/>\n",
        "  <text x=\"220\" y=\"290\" text-anchor=\"middle\" class=\"section-title\">Creating the Collection:</text>\n",
        "\n",
        "  <text x=\"70\" y=\"320\" class=\"code-text\">ArrayList&lt;Monster&gt; monsters =</text>\n",
        "  <text x=\"90\" y=\"340\" class=\"code-text\">new ArrayList&lt;&gt;();</text>\n",
        "  <text x=\"70\" y=\"375\" class=\"code-text\">monsters.add(goblin);</text>\n",
        "  <text x=\"70\" y=\"395\" class=\"code-text\">monsters.add(orc);</text>\n",
        "  <text x=\"70\" y=\"415\" class=\"code-text\">monsters.add(dragon);</text>\n",
        "\n",
        "  <!-- Looping example -->\n",
        "  <rect x=\"410\" y=\"260\" width=\"340\" height=\"180\" fill=\"#f5f5f5\" stroke=\"#666\" stroke-width=\"2\" rx=\"8\"/>\n",
        "  <text x=\"580\" y=\"290\" text-anchor=\"middle\" class=\"section-title\">Processing Each Object:</text>\n",
        "\n",
        "  <text x=\"430\" y=\"320\" class=\"code-text\">for (Monster m : monsters) {</text>\n",
        "  <text x=\"450\" y=\"340\" class=\"code-text\">System.out.println(</text>\n",
        "  <text x=\"470\" y=\"360\" class=\"code-text\">m.getName());</text>\n",
        "  <text x=\"450\" y=\"380\" class=\"code-text\">m.roar();</text>\n",
        "  <text x=\"430\" y=\"400\" class=\"code-text\">}</text>\n",
        "\n",
        "  <!-- Character with inventory -->\n",
        "  <rect x=\"50\" y=\"470\" width=\"700\" height=\"100\" class=\"inventory-box\" rx=\"8\"/>\n",
        "  <text x=\"400\" y=\"500\" text-anchor=\"middle\" class=\"section-title\" fill=\"#7b1fa2\">Character with Inventory</text>\n",
        "\n",
        "  <text x=\"70\" y=\"530\" class=\"code-text\">class Character {</text>\n",
        "  <text x=\"90\" y=\"550\" class=\"code-text\">private ArrayList&lt;Item&gt; inventory = new ArrayList&lt;&gt;();</text>\n",
        "  <text x=\"70\" y=\"565\" class=\"code-text\">}</text>\n",
        "\n",
        "  <!-- Bottom note -->\n",
        "  <text x=\"400\" y=\"595\" text-anchor=\"middle\" font-family=\"Arial\" font-size=\"13\" fill=\"#666\" font-style=\"italic\">\n",
        "    Collections let you manage groups of objects as one unit!\n",
        "  </text>\n",
        "</svg>"
      ],
      "metadata": {
        "cellView": "form",
        "colab": {
          "base_uri": "https://localhost:8080/",
          "height": 647
        },
        "id": "gPgXrx597urA",
        "outputId": "9e81d44c-bcd3-4569-d78b-4076ef19f7ed"
      },
      "execution_count": 6,
      "outputs": [
        {
          "output_type": "display_data",
          "data": {
            "text/plain": [
              "<IPython.core.display.HTML object>"
            ],
            "text/html": [
              "<svg width = \"60%\" viewBox=\"0 0 800 600\" xmlns=\"http://www.w3.org/2000/svg\">\n",
              "  <style>\n",
              "    .arraylist-box { fill: #e1f5fe; stroke: #0277bd; stroke-width: 3; }\n",
              "    .object-card { fill: #fff3e0; stroke: #ef6c00; stroke-width: 2; }\n",
              "    .inventory-box { fill: #f3e5f5; stroke: #7b1fa2; stroke-width: 3; }\n",
              "    .title-text { font-family: Arial, sans-serif; font-size: 20px; font-weight: bold; fill: #333; }\n",
              "    .section-title { font-family: Arial, sans-serif; font-size: 16px; font-weight: bold; }\n",
              "    .code-text { font-family: 'Courier New', monospace; font-size: 13px; fill: #333; }\n",
              "    .label-text { font-family: Arial, sans-serif; font-size: 12px; fill: #666; }\n",
              "    .index-label { font-family: Arial, sans-serif; font-size: 11px; fill: #0277bd; font-weight: bold; }\n",
              "  </style>\n",
              "\n",
              "  <!-- Title -->\n",
              "  <text x=\"400\" y=\"30\" text-anchor=\"middle\" class=\"title-text\">ArrayList: Collections of Objects</text>\n",
              "\n",
              "  <!-- ArrayList visualization -->\n",
              "  <text x=\"400\" y=\"70\" text-anchor=\"middle\" class=\"section-title\" fill=\"#0277bd\">ArrayList&lt;Monster&gt; monsters</text>\n",
              "  \n",
              "  <rect x=\"50\" y=\"90\" width=\"700\" height=\"140\" class=\"arraylist-box\" rx=\"8\"/>\n",
              "  \n",
              "  <!-- Index labels -->\n",
              "  <text x=\"100\" y=\"110\" class=\"index-label\" text-anchor=\"middle\">[0]</text>\n",
              "  <text x=\"260\" y=\"110\" class=\"index-label\" text-anchor=\"middle\">[1]</text>\n",
              "  <text x=\"420\" y=\"110\" class=\"index-label\" text-anchor=\"middle\">[2]</text>\n",
              "  <text x=\"580\" y=\"110\" class=\"index-label\" text-anchor=\"middle\">[3]</text>\n",
              "\n",
              "  <!-- Monster objects in the ArrayList -->\n",
              "  <rect x=\"65\" y=\"120\" width=\"130\" height=\"90\" class=\"object-card\" rx=\"5\"/>\n",
              "  <text x=\"130\" y=\"140\" text-anchor=\"middle\" font-family=\"Arial\" font-size=\"13\" font-weight=\"bold\" fill=\"#ef6c00\">Goblin</text>\n",
              "  <text x=\"75\" y=\"165\" class=\"code-text\" font-size=\"11\">health: 30</text>\n",
              "  <text x=\"75\" y=\"185\" class=\"code-text\" font-size=\"11\">power: 5</text>\n",
              "\n",
              "  <rect x=\"225\" y=\"120\" width=\"130\" height=\"90\" class=\"object-card\" rx=\"5\"/>\n",
              "  <text x=\"290\" y=\"140\" text-anchor=\"middle\" font-family=\"Arial\" font-size=\"13\" font-weight=\"bold\" fill=\"#ef6c00\">Orc</text>\n",
              "  <text x=\"235\" y=\"165\" class=\"code-text\" font-size=\"11\">health: 60</text>\n",
              "  <text x=\"235\" y=\"185\" class=\"code-text\" font-size=\"11\">power: 10</text>\n",
              "\n",
              "  <rect x=\"385\" y=\"120\" width=\"130\" height=\"90\" class=\"object-card\" rx=\"5\"/>\n",
              "  <text x=\"450\" y=\"140\" text-anchor=\"middle\" font-family=\"Arial\" font-size=\"13\" font-weight=\"bold\" fill=\"#ef6c00\">Dragon</text>\n",
              "  <text x=\"395\" y=\"165\" class=\"code-text\" font-size=\"11\">health: 200</text>\n",
              "  <text x=\"395\" y=\"185\" class=\"code-text\" font-size=\"11\">power: 50</text>\n",
              "\n",
              "  <rect x=\"545\" y=\"120\" width=\"130\" height=\"90\" class=\"object-card\" rx=\"5\"/>\n",
              "  <text x=\"610\" y=\"140\" text-anchor=\"middle\" font-family=\"Arial\" font-size=\"13\" font-weight=\"bold\" fill=\"#ef6c00\">Troll</text>\n",
              "  <text x=\"555\" y=\"165\" class=\"code-text\" font-size=\"11\">health: 80</text>\n",
              "  <text x=\"555\" y=\"185\" class=\"code-text\" font-size=\"11\">power: 15</text>\n",
              "\n",
              "  <!-- Code example -->\n",
              "  <rect x=\"50\" y=\"260\" width=\"340\" height=\"180\" fill=\"#f5f5f5\" stroke=\"#666\" stroke-width=\"2\" rx=\"8\"/>\n",
              "  <text x=\"220\" y=\"290\" text-anchor=\"middle\" class=\"section-title\">Creating the Collection:</text>\n",
              "  \n",
              "  <text x=\"70\" y=\"320\" class=\"code-text\">ArrayList&lt;Monster&gt; monsters =</text>\n",
              "  <text x=\"90\" y=\"340\" class=\"code-text\">new ArrayList&lt;&gt;();</text>\n",
              "  <text x=\"70\" y=\"375\" class=\"code-text\">monsters.add(goblin);</text>\n",
              "  <text x=\"70\" y=\"395\" class=\"code-text\">monsters.add(orc);</text>\n",
              "  <text x=\"70\" y=\"415\" class=\"code-text\">monsters.add(dragon);</text>\n",
              "\n",
              "  <!-- Looping example -->\n",
              "  <rect x=\"410\" y=\"260\" width=\"340\" height=\"180\" fill=\"#f5f5f5\" stroke=\"#666\" stroke-width=\"2\" rx=\"8\"/>\n",
              "  <text x=\"580\" y=\"290\" text-anchor=\"middle\" class=\"section-title\">Processing Each Object:</text>\n",
              "  \n",
              "  <text x=\"430\" y=\"320\" class=\"code-text\">for (Monster m : monsters) {</text>\n",
              "  <text x=\"450\" y=\"340\" class=\"code-text\">System.out.println(</text>\n",
              "  <text x=\"470\" y=\"360\" class=\"code-text\">m.getName());</text>\n",
              "  <text x=\"450\" y=\"380\" class=\"code-text\">m.roar();</text>\n",
              "  <text x=\"430\" y=\"400\" class=\"code-text\">}</text>\n",
              "\n",
              "  <!-- Character with inventory -->\n",
              "  <rect x=\"50\" y=\"470\" width=\"700\" height=\"100\" class=\"inventory-box\" rx=\"8\"/>\n",
              "  <text x=\"400\" y=\"500\" text-anchor=\"middle\" class=\"section-title\" fill=\"#7b1fa2\">Character with Inventory</text>\n",
              "  \n",
              "  <text x=\"70\" y=\"530\" class=\"code-text\">class Character {</text>\n",
              "  <text x=\"90\" y=\"550\" class=\"code-text\">private ArrayList&lt;Item&gt; inventory = new ArrayList&lt;&gt;();</text>\n",
              "  <text x=\"70\" y=\"565\" class=\"code-text\">}</text>\n",
              "\n",
              "  <!-- Bottom note -->\n",
              "  <text x=\"400\" y=\"595\" text-anchor=\"middle\" font-family=\"Arial\" font-size=\"13\" fill=\"#666\" font-style=\"italic\">\n",
              "    Collections let you manage groups of objects as one unit!\n",
              "  </text>\n",
              "</svg>\n"
            ]
          },
          "metadata": {}
        }
      ]
    },
    {
      "cell_type": "markdown",
      "source": [
        "\n",
        "### A Complete Example\n",
        "\n",
        "Here’s how it looks when we put it together into one self-contained program:"
      ],
      "metadata": {
        "id": "N3sD-9857tgP"
      }
    },
    {
      "cell_type": "code",
      "source": [
        "%%writefile Item.java\n",
        "class Item {\n",
        "    private String name;\n",
        "    private int price;\n",
        "\n",
        "    Item(String name, int price) {\n",
        "        this.name = name;\n",
        "        this.price = price;\n",
        "    }\n",
        "\n",
        "    public String getName() {\n",
        "        return name;\n",
        "    }\n",
        "}"
      ],
      "metadata": {
        "colab": {
          "base_uri": "https://localhost:8080/"
        },
        "id": "1rSNXWn9UAdF",
        "outputId": "31422b21-2479-4840-a9a3-abfff6b3683b"
      },
      "execution_count": null,
      "outputs": [
        {
          "output_type": "stream",
          "name": "stdout",
          "text": [
            "Overwriting Item.java\n"
          ]
        }
      ]
    },
    {
      "cell_type": "code",
      "source": [
        "%%writefile Character.java\n",
        "import java.util.ArrayList;\n",
        "\n",
        "public class Character {\n",
        "    private String name;\n",
        "    private ArrayList<Item> inventory;\n",
        "\n",
        "    Character(String name) {\n",
        "        this.name = name;\n",
        "        this.inventory = new ArrayList<>();\n",
        "    }\n",
        "\n",
        "    public void addItem(Item i) {\n",
        "        inventory.add(i);\n",
        "        System.out.println(name + \" picks up \" + i.getName());\n",
        "    }\n",
        "\n",
        "    public void showInventory() {\n",
        "        System.out.println(name + \"'s inventory:\");\n",
        "        for (Item i : inventory) {\n",
        "            System.out.println(\" - \" + i.getName());\n",
        "        }\n",
        "    }\n",
        "\n",
        "    public static void main(String[] args) {\n",
        "        Character hero = new Character(\"Aria\");\n",
        "        hero.addItem(new Item(\"Health Potion\", 20));\n",
        "        hero.addItem(new Item(\"Sword\", 25));\n",
        "        hero.showInventory();\n",
        "    }\n",
        "}\n"
      ],
      "metadata": {
        "colab": {
          "base_uri": "https://localhost:8080/"
        },
        "id": "3KzOYUnUT7d-",
        "outputId": "16261652-be30-40f7-fdb5-13637370cfe2"
      },
      "execution_count": null,
      "outputs": [
        {
          "output_type": "stream",
          "name": "stdout",
          "text": [
            "Overwriting Character.java\n"
          ]
        }
      ]
    },
    {
      "cell_type": "code",
      "source": [
        "!javac Item.java Character.java\n",
        "!java Character"
      ],
      "metadata": {
        "colab": {
          "base_uri": "https://localhost:8080/"
        },
        "id": "H-R2X2SmUF_4",
        "outputId": "2ef6959f-091b-4eb1-c97e-06c0a0173c67"
      },
      "execution_count": null,
      "outputs": [
        {
          "output_type": "stream",
          "name": "stdout",
          "text": [
            "Aria picks up Health Potion\n",
            "Aria picks up Sword\n",
            "Aria's inventory:\n",
            " - Health Potion\n",
            " - Sword\n"
          ]
        }
      ]
    },
    {
      "cell_type": "markdown",
      "source": [
        "### The Big Idea\n",
        "\n",
        "Collections let us treat groups of objects as one unit. A game character doesn’t just have *a* potion—they have an **inventory**. A dungeon doesn’t just have *a* monster—it has a **list of monsters**. By combining collections with objects, we start to model the real complexity of games and programs."
      ],
      "metadata": {
        "id": "apD1XbGrUSvx"
      }
    },
    {
      "cell_type": "markdown",
      "source": [
        "## Printing Objects with `toString`\n",
        "\n",
        "When you ask Java to print an object directly, like this:\n",
        "\n",
        "```java\n",
        "Monster goblin = new Monster(\"Goblin\", 30, 5);\n",
        "System.out.println(goblin);\n",
        "```\n",
        "\n",
        "you don’t actually get the monster’s data. Instead, you’ll see something like:\n",
        "\n",
        "```\n",
        "Monster@15db9742\n",
        "```\n",
        "\n",
        "This is Java’s **default `toString()`** from the class `Object` (the root of all Java classes). Every class in Java inherits this method, but by default it just prints the class name and a memory code.\n",
        "\n",
        "To make objects print in a useful way, we must **override** `toString()`.\n",
        "\n",
        "\n",
        "### What Does “Override” Mean?\n",
        "\n",
        "* **Inheritance**: Every class automatically “inherits” methods from `Object`, including `toString()`.\n",
        "* **Overriding**: If you write your own `toString()` method in your class with the exact same name, return type, and parameter list, your version replaces the default one.\n",
        "* Java will automatically call your version whenever you try to print the object.\n",
        "\n",
        "\n",
        "### How to Override `toString`\n",
        "\n",
        "Follow these exact steps:\n",
        "\n",
        "1. **Write a public method inside your class.**\n",
        "2. The method must be called `toString`.\n",
        "3. It must return a `String`.\n",
        "4. It takes **no parameters**.\n",
        "5. Write a `return` statement that gives back a useful description of your object.\n",
        "6. (Optional but recommended) Use the annotation `@Override` above the method.\n",
        "\n",
        "**Template:**\n",
        "\n",
        "```java\n",
        "@Override\n",
        "public String toString() {\n",
        "    return \"Meaningful description here\";\n",
        "}\n",
        "```\n",
        "\n",
        "\n",
        "### Short Example\n"
      ],
      "metadata": {
        "id": "id4zQbewVQKF"
      }
    },
    {
      "cell_type": "code",
      "source": [
        "%%writefile Monster.java\n",
        "public class Monster {\n",
        "    private String name;\n",
        "    private int health;\n",
        "\n",
        "    Monster(String name, int health) {\n",
        "        this.name = name;\n",
        "        this.health = health;\n",
        "    }\n",
        "\n",
        "    @Override\n",
        "    public String toString() {\n",
        "        return name + \" [HP=\" + health + \"]\";\n",
        "    }\n",
        "\n",
        "    public static void main(String[] args) {\n",
        "        Monster goblin = new Monster(\"Goblin\", 30);\n",
        "        System.out.println(goblin); // calls toString automatically\n",
        "    }\n",
        "}"
      ],
      "metadata": {
        "colab": {
          "base_uri": "https://localhost:8080/"
        },
        "id": "SQew3qDtVVqW",
        "outputId": "4b92806f-40af-42e5-b32b-688f16d72cd2"
      },
      "execution_count": null,
      "outputs": [
        {
          "output_type": "stream",
          "name": "stdout",
          "text": [
            "Overwriting Monster.java\n"
          ]
        }
      ]
    },
    {
      "cell_type": "code",
      "source": [
        "!javac Monster.java\n",
        "!java Monster"
      ],
      "metadata": {
        "colab": {
          "base_uri": "https://localhost:8080/"
        },
        "id": "rbauh-d6VZl8",
        "outputId": "597353ad-3c52-4872-ba47-fb057e4ba0f8"
      },
      "execution_count": null,
      "outputs": [
        {
          "output_type": "stream",
          "name": "stdout",
          "text": [
            "Goblin [HP=30]\n"
          ]
        }
      ]
    },
    {
      "cell_type": "markdown",
      "source": [
        "### Using `toString` with Collections\n",
        "\n",
        "The real power of `toString()` shows up when you have a **collection** of objects. If you print an `ArrayList<Monster>` without overriding `toString`, you’ll get unreadable memory codes. But if each `Monster` has a custom `toString()`, the whole list prints clearly."
      ],
      "metadata": {
        "id": "T9CdNBolVzWG"
      }
    },
    {
      "cell_type": "code",
      "source": [
        "%%writefile Dungeon.java\n",
        "import java.util.ArrayList;\n",
        "\n",
        "public class Dungeon {\n",
        "    public static void main(String[] args) {\n",
        "        ArrayList<Monster> monsters = new ArrayList<>();\n",
        "        monsters.add(new Monster(\"Goblin\", 30));\n",
        "        monsters.add(new Monster(\"Orc\", 60));\n",
        "        monsters.add(new Monster(\"Dragon\", 200));\n",
        "\n",
        "        System.out.println(monsters); // uses each Monster's toString\n",
        "    }\n",
        "}"
      ],
      "metadata": {
        "colab": {
          "base_uri": "https://localhost:8080/"
        },
        "id": "4e1wJOOLV0-W",
        "outputId": "5b575338-7718-411f-deeb-95fc4e809c47"
      },
      "execution_count": null,
      "outputs": [
        {
          "output_type": "stream",
          "name": "stdout",
          "text": [
            "Writing Dungeon.java\n"
          ]
        }
      ]
    },
    {
      "cell_type": "code",
      "source": [
        "!javac Dungeon.java\n",
        "!java Dungeon"
      ],
      "metadata": {
        "colab": {
          "base_uri": "https://localhost:8080/"
        },
        "id": "dI7388vCV6jE",
        "outputId": "a1ea8c25-13cd-4831-a349-8c6db2e5f717"
      },
      "execution_count": null,
      "outputs": [
        {
          "output_type": "stream",
          "name": "stdout",
          "text": [
            "[Goblin [HP=30], Orc [HP=60], Dragon [HP=200]]\n"
          ]
        }
      ]
    },
    {
      "cell_type": "markdown",
      "source": [
        "\n",
        "### Why `toString` Matters\n",
        "\n",
        "* It makes objects self-describing.\n",
        "* It improves debugging—just `System.out.println(object)` shows meaningful information.\n",
        "* It makes collections readable, because Java calls `toString()` on each element automatically.\n"
      ],
      "metadata": {
        "id": "IOHQcm6ZWU1M"
      }
    },
    {
      "cell_type": "markdown",
      "source": [
        "## Conclusion: Thinking in Objects\n",
        "\n",
        "In this chapter, you’ve taken your first steps into **object-oriented programming (OOP)**, and you’ve seen how it changes the way we think about designing programs.\n",
        "\n",
        "### From Functions to Objects\n",
        "\n",
        "At the beginning, we saw that while functions are useful, they become clumsy when programs grow large. Objects solve this by bundling **state** (fields) and **behavior** (methods) into one unit. A monster doesn’t just have health points—it can also roar, attack, and take damage.\n",
        "\n",
        "### Classes and Instances\n",
        "\n",
        "A **class** is the blueprint. An **object** (or **instance**) is the thing we actually create. Writing a `Monster` class describes what every monster can know and do, but each specific `Monster` you create—like a goblin or a dragon—carries its own data.\n",
        "\n",
        "\n",
        "### Constructors and `this`\n",
        "\n",
        "Constructors ensure that new objects start life in a consistent state. Instead of setting fields one by one, we can pass values directly when creating the object. Using **`this`** inside a constructor makes it clear that we’re assigning parameter values to the object’s own fields.\n",
        "\n",
        "### Encapsulation and Access Control\n",
        "\n",
        "By marking fields **private**, we protect them from outside misuse. Objects enforce their own rules: a monster can’t be given negative health or impossible stats. With **getters and setters**, we provide controlled ways to read and update fields safely.\n",
        "\n",
        "### Objects Working Together\n",
        "\n",
        "Objects don’t live alone. A `Character` can buy an `Item` from a `Store`; a `Monster` can attack a `Character`. Each class has its own responsibility, and they cooperate through their **public methods**. This separation of concerns makes code easier to understand and extend.\n",
        "\n",
        "\n",
        "### Collections of Objects\n",
        "\n",
        "Real games and programs rarely have just one object of each type. We use **collections** like `ArrayList` to manage groups of objects. An inventory of items or a dungeon full of monsters can be stored in a list, and loops let us work with them all at once.\n",
        "\n",
        "### Overriding `toString`\n",
        "\n",
        "Finally, we saw how the **`toString()` method** controls how objects are printed. By overriding it, we make objects self-describing and collections much easier to read. This was your first taste of **inheritance** and **method overriding**: even if you don’t ask for it, every class inherits from `Object`, and you can replace its methods with better ones for your own classes.\n",
        "\n",
        "### The Big Picture\n",
        "\n",
        "By combining all these ideas—**objects, fields, methods, constructors, encapsulation, interaction, collections, and `toString`**—we’ve built the foundation of object-oriented programming. You can now model parts of a role-playing game (and many other problems) in a way that is organized, reusable, and closer to how we already think about the world.\n"
      ],
      "metadata": {
        "id": "AU2wtHaOWdLW"
      }
    },
    {
      "cell_type": "markdown",
      "source": [
        "# Final Exercise / Project: Mini Market & Arena (Starter Kit with TODOs)\n",
        "\n",
        "Build a tiny text-based RPG demo with **three classes** and a single **driver**. Keep everything minimal: **objects** with **fields**, **constructors** using **`this`**, **encapsulation** via `private` fields, a small **`ArrayList`** for inventory/stock, and readable prints via **`toString()`**. No inheritance, no packages.\n",
        "\n",
        "### Scope (trimmed)\n",
        "\n",
        "| Component            | Responsibility                     | Must Show                                                  |\n",
        "| -------------------- | ---------------------------------- | ---------------------------------------------------------- |\n",
        "| `Item`               | Name and price                     | Constructor, getters, `toString()`                         |\n",
        "| `Monster`            | Name and health                    | Constructor, health clamp, `takeDamage(int)`, `toString()` |\n",
        "| `Store`              | Name and stock (`ArrayList<Item>`) | Add stock, sell to a `Character`                           |\n",
        "| `Character` (driver) | Name, health, gold, inventory      | Buy from `Store`, attack `Monster`, `toString()`, `main`   |\n",
        "\n",
        "### How to use\n",
        "\n",
        "Save each class in its own file. Compile and run:\n",
        "\n",
        "```\n",
        "javac Item.java Monster.java Store.java Character.java\n",
        "java Character\n",
        "```"
      ],
      "metadata": {
        "id": "DQubZjxQXong"
      }
    },
    {
      "cell_type": "code",
      "source": [
        "%%writefile Item.java\n",
        "public class Item {\n",
        "    // TODO: make fields private: String name; int price;\n",
        "\n",
        "    // TODO: constructor: Item(String name, int price)\n",
        "    // Use 'this' to assign. Clamp price to be >= 0.\n",
        "\n",
        "    // TODO: public getters: getName(), getPrice()\n",
        "\n",
        "    @Override\n",
        "    public String toString() {\n",
        "        // TODO: return \"Name (X gold)\"\n",
        "        return \"TODO\";\n",
        "    }\n",
        "}"
      ],
      "metadata": {
        "id": "8PRvhP8XXrUI"
      },
      "execution_count": null,
      "outputs": []
    },
    {
      "cell_type": "code",
      "source": [
        "%%writefile Monster.java\n",
        "public class Monster {\n",
        "    // TODO: private fields: String name; int health;\n",
        "\n",
        "    // TODO: constructor: Monster(String name, int health)\n",
        "    // Use 'this'. Clamp health to be >= 0.\n",
        "\n",
        "    // TODO: public void takeDamage(int dmg)\n",
        "    // Ignore negative dmg. Decrease health; clamp at 0.\n",
        "\n",
        "    // (Optional) public boolean isDefeated()\n",
        "\n",
        "    @Override\n",
        "    public String toString() {\n",
        "        // TODO: return \"Name [HP=health]\"\n",
        "        return \"TODO\";\n",
        "    }\n",
        "}"
      ],
      "metadata": {
        "id": "WJDGUUd9XwfY"
      },
      "execution_count": null,
      "outputs": []
    },
    {
      "cell_type": "code",
      "source": [
        "%%writefile Store.java\n",
        "import java.util.ArrayList;\n",
        "\n",
        "public class Store {\n",
        "    // TODO: private fields: String name; ArrayList<Item> stock\n",
        "\n",
        "    // TODO: constructor: Store(String name)\n",
        "    // Initialize stock to an empty ArrayList.\n",
        "\n",
        "    // TODO: public void addItem(Item i)\n",
        "    // Add item to stock.\n",
        "\n",
        "    // TODO: public boolean sell(Item i, Character buyer)\n",
        "    // If stock contains i AND buyer has enough gold:\n",
        "    //   - remove i from stock\n",
        "    //   - ask buyer to spend gold\n",
        "    //   - ask buyer to add item to inventory\n",
        "    //   - return true\n",
        "    // Else, return false\n",
        "\n",
        "    @Override\n",
        "    public String toString() {\n",
        "        // TODO: return \"StoreName \" + stock\n",
        "        return \"TODO\";\n",
        "    }\n",
        "}"
      ],
      "metadata": {
        "id": "u3y9ZoMKX118"
      },
      "execution_count": null,
      "outputs": []
    },
    {
      "cell_type": "code",
      "source": [
        "%%writefile Character.java\n",
        "import java.util.ArrayList;\n",
        "\n",
        "public class Character {\n",
        "    // TODO: private fields: String name; int health; int gold; ArrayList<Item> inventory\n",
        "\n",
        "    // TODO: constructor: Character(String name, int health, int gold)\n",
        "    // Use 'this'. Clamp health and gold to be >= 0.\n",
        "    // Initialize inventory to empty ArrayList.\n",
        "\n",
        "    // TODO: public int getGold()\n",
        "    // TODO: public void spendGold(int amount)  // clamp so gold never negative\n",
        "    // TODO: public void addToInventory(Item i)\n",
        "\n",
        "    // TODO: public void attack(Monster m, int dmg)\n",
        "    // Ignore negative dmg. Call m.takeDamage(dmg).\n",
        "\n",
        "    @Override\n",
        "    public String toString() {\n",
        "        // TODO: return \"Name [HP=health, gold=gold, inventory=\" + inventory + \"]\"\n",
        "        return \"TODO\";\n",
        "    }\n",
        "\n",
        "    public static void main(String[] args) {\n",
        "        // --- demo script (adjust values freely) ---\n",
        "\n",
        "        // TODO: create Character (e.g., \"Aria\", 100 HP, 40 gold)\n",
        "        // TODO: create Store (\"Market\") and add 2–3 Items (e.g., Sword(25), Potion(10))\n",
        "\n",
        "        // TODO: print Character and Store\n",
        "\n",
        "        // TODO: attempt two purchases (one affordable, one not).\n",
        "        // Use Store.sell(item, character); print results.\n",
        "\n",
        "        // TODO: print Character after purchases\n",
        "\n",
        "        // TODO: create Monster (\"Goblin\", ~35 HP), print it\n",
        "        // TODO: attack monster for a small amount, print monster\n",
        "        // TODO: attack again until HP reaches 0, print final state\n",
        "    }\n",
        "}"
      ],
      "metadata": {
        "id": "wdjp733CX77A"
      },
      "execution_count": null,
      "outputs": []
    },
    {
      "cell_type": "markdown",
      "source": [
        "### Minimal target output (illustrative)\n",
        "\n",
        "```\n",
        "Aria [HP=100, gold=40, inventory=[]]\n",
        "Market [Sword (25 gold), Health Potion (10 gold)]\n",
        "Bought: Sword (25 gold)\n",
        "Bought: Health Potion (10 gold)\n",
        "Aria [HP=100, gold=5, inventory=[Sword (25 gold), Health Potion (10 gold)]]\n",
        "Goblin [HP=35]\n",
        "Aria hits Goblin for 12\n",
        "Goblin [HP=23]\n",
        "...\n",
        "Goblin [HP=0]\n",
        "```\n",
        "\n",
        "### Checklist\n",
        "\n",
        "* Each class uses a **constructor** with **`this`** and input validation.\n",
        "* All fields are **private**; interactions happen through methods.\n",
        "* `Store` and `Character` use **`ArrayList`** for stock/inventory.\n",
        "* Every class overrides **`toString()`** for readable prints."
      ],
      "metadata": {
        "id": "bRiUAy7YYCPl"
      }
    },
    {
      "cell_type": "markdown",
      "source": [
        "## Review: Loop of the Recursive Dragon\n",
        "\n",
        "https://brendanpshea.github.io/LotRD/?set=java_07_oop.json"
      ],
      "metadata": {
        "id": "AQMfSMYueyfF"
      }
    },
    {
      "cell_type": "markdown",
      "source": [
        "## Code Jumbler: Chapter 7\n",
        "https://brendanpshea.github.io/code_jumbler/?problemSet=jumble_07.json"
      ],
      "metadata": {
        "id": "Z0oEY_shigHd"
      }
    },
    {
      "cell_type": "markdown",
      "source": [
        "## Glossary\n",
        "\n",
        "| Term                | Definition                                                                                  |\n",
        "| ------------------- | ------------------------------------------------------------------------------------------- |\n",
        "| **class**           | Blueprint that declares fields and behaviors for a type.                                    |\n",
        "| **object**          | Individual entity created from a blueprint, holding its own data and actions.               |\n",
        "| **instance**        | A particular realization of a type, occupying memory with its own state.                    |\n",
        "| **field**           | Variable stored inside a type to represent state for each realization.                      |\n",
        "| **method**          | Routine attached to a type that performs work or returns a value.                           |\n",
        "| **main method**     | Program entry point with signature `public static void main(String[] args)`.                |\n",
        "| **constructor**     | Special routine that initializes a new realization when allocation occurs.                  |\n",
        "| **this**            | Reference to the current realization, used to access its members unambiguously.             |\n",
        "| **new**             | Operator that allocates memory and invokes the initializer for a fresh realization.         |\n",
        "| **public**          | Visibility setting allowing access from any other type.                                     |\n",
        "| **private**         | Visibility setting restricting access to within the same declaring type.                    |\n",
        "| **encapsulation**   | Practice of hiding internal state and exposing controlled operations to protect invariants. |\n",
        "| **getter**          | Accessor routine that safely reveals a private datum.                                       |\n",
        "| **setter**          | Mutator routine that safely updates a private datum, often enforcing rules.                 |\n",
        "| **access modifier** | Keyword controlling visibility (e.g., `public`, `private`) of members or types.             |\n",
        "| **parameter**       | Named variable in a routine’s header that receives input values.                            |\n",
        "| **argument**        | Actual value supplied at a call site to match a parameter.                                  |\n",
        "| **return type**     | Declared kind of value produced by a routine upon completion.                               |\n",
        "| **void**            | Return specification indicating no value is produced.                                       |\n",
        "| **toString()**      | Textual representation routine automatically used in printing and concatenation.            |\n",
        "| **@Override**       | Annotation indicating a routine replaces an inherited version; enables compiler checks.     |\n",
        "| **overriding**      | Providing a new implementation for an inherited routine with the same signature.            |\n",
        "| **overloading**     | Defining multiple routines of the same name with different parameter lists.                 |\n",
        "| **ArrayList**       | Resizable sequence container from `java.util` that stores elements of a chosen type.        |\n",
        "| **import**          | Directive that permits referencing external types without full package qualification.       |\n"
      ],
      "metadata": {
        "id": "EenSI7xxGrhJ"
      }
    },
    {
      "cell_type": "code",
      "source": [],
      "metadata": {
        "id": "Irk50YC5O6rU"
      },
      "execution_count": null,
      "outputs": []
    }
  ]
}