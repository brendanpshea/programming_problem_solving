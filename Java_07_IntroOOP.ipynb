{
  "nbformat": 4,
  "nbformat_minor": 0,
  "metadata": {
    "colab": {
      "provenance": [],
      "authorship_tag": "ABX9TyNP5GQhPc3RDjwF9Y4BwqWw",
      "include_colab_link": true
    },
    "kernelspec": {
      "name": "python3",
      "display_name": "Python 3"
    },
    "language_info": {
      "name": "python"
    }
  },
  "cells": [
    {
      "cell_type": "markdown",
      "metadata": {
        "id": "view-in-github",
        "colab_type": "text"
      },
      "source": [
        "<a href=\"https://colab.research.google.com/github/brendanpshea/programming_problem_solving/blob/main/Java_07_IntroOOP.ipynb\" target=\"_parent\"><img src=\"https://colab.research.google.com/assets/colab-badge.svg\" alt=\"Open In Colab\"/></a>"
      ]
    },
    {
      "cell_type": "markdown",
      "source": [
        "## Introduction: Why Objects?\n",
        "\n",
        "When you first learned programming, you probably wrote small programs with **functions**. Functions are useful because they let you break big problems into smaller steps. For example, you might have written one function to calculate damage in a battle, another to heal a character, and another to check if the game is over. But as your programs grow larger, functions alone can become difficult to manage. Imagine a role-playing game (RPG) with dozens of different characters, monsters, weapons, and magical items. Each one needs to keep track of its own information and actions. If we only use functions, we end up with long lists of variables and function calls that quickly become confusing.\n",
        "\n",
        "This is where **object-oriented programming (OOP)** comes in. The key idea is simple: instead of keeping data and behavior separate, we put them together. An **object** is a programming unit that bundles both information (**state**) and the things it can do (**behavior**) into one package.\n",
        "\n",
        "Think about a monster in an RPG:\n",
        "\n",
        "* A monster has **state**: its `name`, `health`, and `attackPower`.\n",
        "* A monster has **behavior**: it can `attack()` a character or `takeDamage()` when struck.\n",
        "\n",
        "In the function-only style, you might keep a list of monster names in one array, their health in another array, and then write functions that take an index number to figure out which monster to damage. This is clumsy. With objects, each monster keeps track of its own information, and you just tell the monster what to do.\n",
        "\n",
        "Here’s a quick illustration in plain language (not Java code yet):\n",
        "\n",
        "| Style          | Example                        |\n",
        "| -------------- | ------------------------------ |\n",
        "| Function-based | `damage(monsterHealth[3], 10)` |\n",
        "| Object-based   | `goblin.takeDamage(10)`        |\n",
        "\n",
        "The second line reads more naturally: we ask the **object** (the goblin) to perform its own action. This is why OOP is so popular in designing games and other large systems. It allows us to model the world in a way that matches how we already think about it.\n",
        "\n",
        "\n"
      ],
      "metadata": {
        "id": "lGlj1gi_A4Yp"
      }
    },
    {
      "cell_type": "markdown",
      "source": [
        "## Objects in Everyday Life\n",
        "\n",
        "Before we dive into Java code, let’s slow down and make sure the concept of an **object** feels natural. In everyday life, almost everything you interact with can be described as an object. Objects combine two things:\n",
        "\n",
        "1. **State** — the information or properties the object has.\n",
        "2. **Behavior** — the actions or things the object can do.\n",
        "\n",
        "For example, consider a **backpack**:\n",
        "\n",
        "* State: its color, how many pockets it has, how much it currently weighs.\n",
        "* Behavior: you can open it, close it, or put items inside.\n",
        "\n",
        "Or think about a **cell phone**:\n",
        "\n",
        "* State: battery level, phone number, volume setting.\n",
        "* Behavior: it can ring, send a text, or play music.\n",
        "\n",
        "When we design programs, we use these same ideas. In an RPG, a **sword** has both state and behavior:\n",
        "\n",
        "* State: its name, price, and damage value.\n",
        "* Behavior: it can be used to attack.\n",
        "\n",
        "The key advantage of objects is that they keep the state and the behavior in one place. Instead of juggling a sword’s damage value in one list and its price in another, you can store all that information in a single object, and then ask the sword itself to describe or perform its actions.\n",
        "\n",
        "Here’s a simple table that captures this idea:\n",
        "\n",
        "| Real-World Example | State                 | Behavior                  |\n",
        "| ------------------ | --------------------- | ------------------------- |\n",
        "| Backpack           | color, size, weight   | open, close, put in items |\n",
        "| Cell phone         | battery level, number | call, text, ring          |\n",
        "| Sword (RPG)        | name, damage, price   | attack, display info      |\n",
        "\n",
        "When we begin writing Java programs using objects, we’ll build these bundles of state and behavior using something called a **class**. A class is like a blueprint: it describes what kind of state and behavior an object should have. From that blueprint, we can create many specific objects, each with its own data."
      ],
      "metadata": {
        "id": "Ci7wkUK4BBv0"
      }
    },
    {
      "cell_type": "markdown",
      "source": [
        "## Classes as Blueprints\n",
        "\n",
        "Now that we understand what an **object** is, the next question is: how do we create one in Java? We do this by writing a **class**. A class is like a **blueprint** or a **recipe**. It tells the computer what kind of information (state) and what kinds of actions (behavior) belong to that kind of object. Once the blueprint is written, we can use it to create as many individual objects as we want.\n",
        "\n",
        "Think about an RPG monster. If you have a class called `Monster`, it acts like a template that describes what every monster should know and what it can do. For example:\n",
        "\n",
        "* Every monster has **state**: a name, a health value, and an attack power.\n",
        "* Every monster has **behavior**: it can attack, and it can take damage.\n",
        "\n",
        "But the blueprint is not the same thing as the finished product. If you write down a recipe for chocolate cake, you don’t yet have a cake—you just have instructions. To actually eat cake, you need to **create an instance** of the recipe. In the same way, when you write a class in Java, you don’t yet have an object—you just have the definition. To make an actual object, you’ll use the blueprint to create an instance, which we’ll see in the next section.\n",
        "\n",
        "Here’s what a very simple class definition looks like in Java:\n",
        "\n",
        "```java\n",
        "// This defines a Monster blueprint\n",
        "public class Monster {\n",
        "    // state: variables every monster has\n",
        "    String name;\n",
        "    int health;\n",
        "    int attackPower;\n",
        "\n",
        "    // behavior: a simple action\n",
        "    void roar() {\n",
        "        System.out.println(name + \" lets out a terrifying roar!\");\n",
        "    }\n",
        "}\n",
        "```\n",
        "\n",
        "Let’s break down the new Java syntax carefully:\n",
        "\n",
        "* `public class Monster { ... }`\n",
        "  Declares a new class named `Monster`. The word `public` means other code can use this class.\n",
        "* Inside the class, we list the **fields** (`String name; int health; int attackPower;`). These are the pieces of state every monster will have.\n",
        "* Then we define a **method** (`void roar()`). This is an action the monster can perform. The keyword `void` means the method does not return any value.\n",
        "\n",
        "At this point, we still don’t have an actual monster in our game—we just have the recipe. In the next section, we’ll see how to create real monsters from this blueprint.\n"
      ],
      "metadata": {
        "id": "kcxlR695CQFG"
      }
    },
    {
      "cell_type": "markdown",
      "source": [
        "Got it — we’ll keep everything self-contained inside **one class** with a `main` method. That way students see all the code in one place and don’t have to jump between files. I’ll adjust Section 4 accordingly.\n",
        "\n",
        "---\n",
        "\n",
        "## Creating Objects (Instances)\n",
        "\n",
        "Writing a class gives us a **blueprint**, but the blueprint does nothing until we use it to create something. In Java, each specific object we create from a class is called an **instance**. An instance is the actual “thing” in memory that stores the data and can perform the actions we defined in the class.\n",
        "\n",
        "To create an instance, Java uses the keyword **`new`**. The general form looks like this:\n",
        "\n",
        "```java\n",
        "ClassName variableName = new ClassName();\n",
        "```\n",
        "\n",
        "Let’s build a complete example. Here the `Monster` class includes a simple **`main` method** so we can test everything in one file:\n",
        "\n"
      ],
      "metadata": {
        "id": "yBwcPU5MCR1Z"
      }
    },
    {
      "cell_type": "code",
      "source": [
        "%%writefile Monster.java\n",
        "public class Monster {\n",
        "    // state: fields\n",
        "    String name;\n",
        "    int health;\n",
        "    int attackPower;\n",
        "\n",
        "    // behavior: a simple method\n",
        "    void roar() {\n",
        "        System.out.println(name + \" lets out a terrifying roar!\");\n",
        "    }\n",
        "\n",
        "    // main method for testing\n",
        "    public static void main(String[] args) {\n",
        "        // Create a Monster instance\n",
        "        Monster goblin = new Monster();\n",
        "\n",
        "        // Assign values to its state\n",
        "        goblin.name = \"Goblin\";\n",
        "        goblin.health = 30;\n",
        "        goblin.attackPower = 5;\n",
        "\n",
        "        // Call its behavior\n",
        "        goblin.roar();\n",
        "\n",
        "    }\n",
        "}"
      ],
      "metadata": {
        "colab": {
          "base_uri": "https://localhost:8080/"
        },
        "id": "Omks76LoCa10",
        "outputId": "41c7489c-fe7c-4991-a4a7-91cc07ae8bcb"
      },
      "execution_count": 6,
      "outputs": [
        {
          "output_type": "stream",
          "name": "stdout",
          "text": [
            "Overwriting Monster.java\n"
          ]
        }
      ]
    },
    {
      "cell_type": "code",
      "source": [
        "!javac Monster.java\n",
        "!java Monster"
      ],
      "metadata": {
        "colab": {
          "base_uri": "https://localhost:8080/"
        },
        "id": "OUVUZQZ6Cf0F",
        "outputId": "1c908160-2538-4acf-870d-6a84cfed8a91"
      },
      "execution_count": 7,
      "outputs": [
        {
          "output_type": "stream",
          "name": "stdout",
          "text": [
            "Goblin lets out a terrifying roar!\n"
          ]
        }
      ]
    },
    {
      "cell_type": "markdown",
      "source": [
        "\n",
        "### Explaining the Syntax\n",
        "\n",
        "* `public static void main(String[] args)`\n",
        "  This is the **main method**. Every Java program starts running here. For now, think of it as the “entry point” where we test our code.\n",
        "\n",
        "* `Monster goblin = new Monster();`\n",
        "\n",
        "  * `Monster` is the class (the blueprint).\n",
        "  * `goblin` is a variable that refers to the new object.\n",
        "  * `new Monster()` creates a fresh monster in memory.\n",
        "\n",
        "* `goblin.name = \"Goblin\";`\n",
        "  This sets the **field** `name` of this specific monster. Each monster object will store its own copy of the fields.\n",
        "\n",
        "* `goblin.roar();`\n",
        "  This calls the `roar()` method. The dot (`.`) means “ask this specific object to do something.”\n",
        "\n",
        "Notice how natural the code reads: *tell the goblin to roar* or *tell the dragon to roar*. That’s the power of objects—they let us write code in a way that mirrors how we think about the problem.\n"
      ],
      "metadata": {
        "id": "J7-asAngCXbm"
      }
    },
    {
      "cell_type": "markdown",
      "source": [
        "Got it — the exercises should feel **connected but fresh**, so students apply what they learned rather than just copying. I’ll revise Section 5 with a slightly different theme while still reinforcing the same concepts.\n",
        "\n",
        "---\n",
        "\n",
        "## Exercise 1: Your First Class\n",
        "\n",
        "You’ve seen how a `Monster` class can group together state and behavior. Now it’s your turn to build something similar, but with a different twist. Instead of a monster, you’ll create a **healing potion**.\n",
        "\n",
        "### Task\n",
        "\n",
        "1. Create a new class called `Potion`.\n",
        "2. Give it three fields:\n",
        "\n",
        "   * `String name` (the potion’s name, like “Health Potion”)\n",
        "   * `int healingAmount` (how much health it restores)\n",
        "   * `int price` (how much it costs in gold)\n",
        "3. Add a method called `describe()` that prints out a sentence about the potion, including its name, healing amount, and price.\n",
        "4. In the `main` method,  a potoin and call its `describe()` methods.\n",
        "\n",
        "### Starter Code\n"
      ],
      "metadata": {
        "id": "xRORUYIMC5Pr"
      }
    },
    {
      "cell_type": "code",
      "source": [
        "%%writefile Potion.java\n",
        "public class Potion {\n",
        "    // fields (state)\n",
        "    String name;\n",
        "    int healingAmount;\n",
        "    int price;\n",
        "\n",
        "    // method (behavior)\n",
        "    void describe() {\n",
        "        System.out.println(name + \" restores \" + healingAmount +\n",
        "                           \" health and costs \" + price + \" gold.\");\n",
        "    }\n",
        "\n",
        "    // main method for testing\n",
        "    public static void main(String[] args) {\n",
        "        // TODO: create a potion here and call describe()\n",
        "    }\n",
        "}"
      ],
      "metadata": {
        "colab": {
          "base_uri": "https://localhost:8080/"
        },
        "id": "U_6zXZpXDApd",
        "outputId": "e217db16-dc5a-42c9-80c7-9e2097efc2bd"
      },
      "execution_count": 5,
      "outputs": [
        {
          "output_type": "stream",
          "name": "stdout",
          "text": [
            "Writing Potion.java\n"
          ]
        }
      ]
    },
    {
      "cell_type": "code",
      "source": [
        "!javac Potion.java\n",
        "!java Potion"
      ],
      "metadata": {
        "id": "FriBsgL6DFYO"
      },
      "execution_count": null,
      "outputs": []
    },
    {
      "cell_type": "markdown",
      "source": [
        "## What You Should See\n",
        "\n",
        "When you run your program, you should see something like:\n",
        "\n",
        "```\n",
        "Health Potion restores 50 health and costs 10 gold.\n",
        "```\n",
        "\n",
        "### Reflection Question\n",
        "\n",
        "Why is it helpful to keep all of a potion’s data (its name, healing power, and price) inside one object, rather than storing them in three different variables?\n",
        "\n"
      ],
      "metadata": {
        "id": "teuAdMnmC7-9"
      }
    },
    {
      "cell_type": "markdown",
      "source": [
        "## Fields: Storing Object Data\n",
        "\n",
        "So far, we’ve been giving our monsters names, health, and attack power by writing lines like:\n",
        "\n",
        "```java\n",
        "goblin.name = \"Goblin\";\n",
        "goblin.health = 30;\n",
        "goblin.attackPower = 5;\n",
        "```\n",
        "\n",
        "Where do these pieces of information actually live? They live inside the **fields** of the class. A **field** is a variable that belongs to an object. Unlike the variables you’ve seen before, which exist only inside a method, a field is tied to the object itself and stays around as long as the object exists.\n",
        "\n",
        "In our `Monster` class, we wrote:\n",
        "\n",
        "```java\n",
        "String name;\n",
        "int health;\n",
        "int attackPower;\n",
        "```\n",
        "\n",
        "These are fields. Every `Monster` object has its own copy of them. If you make two monsters, they don’t share health; each one keeps track of its own.\n",
        "\n",
        "Think of it like this:\n",
        "\n",
        "| Monster | name   | health | attackPower |\n",
        "| ------- | ------ | ------ | ----------- |\n",
        "| goblin  | Goblin | 30     | 5           |\n",
        "| dragon  | Dragon | 200    | 50          |\n",
        "\n",
        "Even though both goblin and dragon are instances of the same `Monster` class, they each have their own unique state.\n",
        "\n",
        "### How Fields Differ from Regular Variables\n",
        "\n",
        "* **Scope**: A local variable exists only inside the method where it was declared. A field belongs to the object and can be used in any method of the class.\n",
        "* **Lifetime**: Local variables disappear when a method ends. Fields stay as long as the object exists in memory.\n",
        "* **Ownership**: Fields are tied to the object. If you create multiple objects, each one gets its own fields.\n",
        "\n",
        "Here’s a complete example showing two monsters with different field values:\n"
      ],
      "metadata": {
        "id": "N2PvUuaPEN_w"
      }
    },
    {
      "cell_type": "code",
      "source": [
        "%%writefile Monster.java\n",
        "public class Monster {\n",
        "    // fields (state)\n",
        "    String name;\n",
        "    int health;\n",
        "    int attackPower;\n",
        "\n",
        "    public static void main(String[] args) {\n",
        "        Monster goblin = new Monster();\n",
        "        goblin.name = \"Goblin\";\n",
        "        goblin.health = 30;\n",
        "        goblin.attackPower = 5;\n",
        "\n",
        "        Monster dragon = new Monster();\n",
        "        dragon.name = \"Dragon\";\n",
        "        dragon.health = 200;\n",
        "        dragon.attackPower = 50;\n",
        "\n",
        "        System.out.println(goblin.name + \" has \" + goblin.health + \" health.\");\n",
        "        System.out.println(dragon.name + \" has \" + dragon.health + \" health.\");\n",
        "    }\n",
        "}\n"
      ],
      "metadata": {
        "colab": {
          "base_uri": "https://localhost:8080/"
        },
        "id": "9oYGQZzTEbLo",
        "outputId": "403339f7-a72d-4356-b548-abe8f5ac2ff8"
      },
      "execution_count": 8,
      "outputs": [
        {
          "output_type": "stream",
          "name": "stdout",
          "text": [
            "Overwriting Monster.java\n"
          ]
        }
      ]
    },
    {
      "cell_type": "markdown",
      "source": [
        "When you run this program, you’ll see that each monster’s fields hold independent data."
      ],
      "metadata": {
        "id": "IIXSfy2_ESpx"
      }
    },
    {
      "cell_type": "code",
      "source": [
        "!javac Monster.java\n",
        "!java Monster"
      ],
      "metadata": {
        "colab": {
          "base_uri": "https://localhost:8080/"
        },
        "id": "XDr8thaaEgyt",
        "outputId": "ef6ef19a-5f5d-49aa-b1ef-451888f05e75"
      },
      "execution_count": 9,
      "outputs": [
        {
          "output_type": "stream",
          "name": "stdout",
          "text": [
            "Goblin has 30 health.\n",
            "Dragon has 200 health.\n"
          ]
        }
      ]
    },
    {
      "cell_type": "markdown",
      "source": [
        "## Exercise 2: Adding Fields\n",
        "\n",
        "In the last section, we saw how each object carries its own **fields**—the pieces of data that make up its state. Let’s give you some practice with this idea, but using something a little different from monsters.\n",
        "\n",
        "### Task\n",
        "\n",
        "1. Create a new class called `Weapon`.\n",
        "2. Add three fields to describe a weapon:\n",
        "\n",
        "   * `String name`\n",
        "   * `int damage`\n",
        "   * `int price`\n",
        "3. In the `main` method, create **two different weapons**.\n",
        "\n",
        "   * For example: a sword and a bow.\n",
        "   * Assign different values for their fields.\n",
        "4. Print out a description of each weapon using its fields.\n",
        "\n",
        "### Starter Code"
      ],
      "metadata": {
        "id": "LHM6NNJoEwRA"
      }
    },
    {
      "cell_type": "code",
      "source": [
        "%%writefile Weapon.java\n",
        "public class Weapon {\n",
        "    // fields\n",
        "    String name;\n",
        "    int damage;\n",
        "    int price;\n",
        "\n",
        "    public static void main(String[] args) {\n",
        "        // TODO: create two Weapon objects\n",
        "        // TODO: assign values to their fields\n",
        "        // TODO: print descriptions\n",
        "    }\n",
        "}\n"
      ],
      "metadata": {
        "id": "KRRYKG5pE4jC"
      },
      "execution_count": null,
      "outputs": []
    },
    {
      "cell_type": "code",
      "source": [
        "!javac Weapon.java\n",
        "!java Weapon"
      ],
      "metadata": {
        "id": "PJONGrTrE7uX"
      },
      "execution_count": null,
      "outputs": []
    },
    {
      "cell_type": "markdown",
      "source": [
        "### Example Output\n",
        "\n",
        "Your program might print something like this:\n",
        "\n",
        "```\n",
        "Sword deals 15 damage and costs 25 gold.\n",
        "Bow deals 10 damage and costs 15 gold.\n",
        "```\n",
        "\n",
        "### Reflection Question\n",
        "\n",
        "Why is it more convenient to keep a weapon’s `name`, `damage`, and `price` in one object rather than having three separate variables for each property?\n"
      ],
      "metadata": {
        "id": "vkh6Yh2qE1ST"
      }
    },
    {
      "cell_type": "markdown",
      "source": [
        "## Methods: Defining Object Behavior (in Detail)\n",
        "\n",
        "Earlier, we introduced **methods** when we let our monster roar. Now let’s slow down and look more closely at how methods work, and how a class can have **multiple methods** to represent different kinds of behavior.\n",
        "\n",
        "### Methods and Fields Together\n",
        "\n",
        "A method often uses the object’s **fields** to decide what to do. Because fields belong to the object, we don’t have to pass them around as arguments—any method inside the class can access them directly. This is what makes methods so powerful: they let an object act on its own data.\n",
        "\n",
        "### A Monster With Multiple Behaviors\n",
        "\n",
        "Here’s a more complete `Monster` example with three methods:\n",
        "\n"
      ],
      "metadata": {
        "id": "81CIoz0MFAEy"
      }
    },
    {
      "cell_type": "code",
      "source": [
        "%%writefile Monster.java\n",
        "public class Monster {\n",
        "    String name;\n",
        "    int health;\n",
        "    int attackPower;\n",
        "\n",
        "    // one behavior: roar\n",
        "    void roar() {\n",
        "        System.out.println(name + \" lets out a terrifying roar!\");\n",
        "    }\n",
        "\n",
        "    // another behavior: attack\n",
        "    void attack() {\n",
        "        System.out.println(name + \" attacks with \" + attackPower + \" power!\");\n",
        "    }\n",
        "\n",
        "    // another behavior: take damage\n",
        "    void takeDamage(int amount) {\n",
        "        health = health - amount;\n",
        "        System.out.println(name + \" takes \" + amount + \" damage and now has \" + health + \" health.\");\n",
        "    }\n",
        "\n",
        "    public static void main(String[] args) {\n",
        "        Monster goblin = new Monster();\n",
        "        goblin.name = \"Goblin\";\n",
        "        goblin.health = 30;\n",
        "        goblin.attackPower = 5;\n",
        "\n",
        "        goblin.roar();\n",
        "        goblin.attack();\n",
        "        goblin.takeDamage(10);\n",
        "    }\n",
        "}\n"
      ],
      "metadata": {
        "colab": {
          "base_uri": "https://localhost:8080/"
        },
        "id": "8QZF73KmFm79",
        "outputId": "52f85eb2-0f96-4f92-fa4a-bb03c649b847"
      },
      "execution_count": 10,
      "outputs": [
        {
          "output_type": "stream",
          "name": "stdout",
          "text": [
            "Overwriting Monster.java\n"
          ]
        }
      ]
    },
    {
      "cell_type": "code",
      "source": [
        "!javac Monster.java\n",
        "!java Monster"
      ],
      "metadata": {
        "colab": {
          "base_uri": "https://localhost:8080/"
        },
        "id": "OqpjfdGJFsK8",
        "outputId": "f0833b36-aebf-4159-d19e-ffe466ec9e43"
      },
      "execution_count": 11,
      "outputs": [
        {
          "output_type": "stream",
          "name": "stdout",
          "text": [
            "Goblin lets out a terrifying roar!\n",
            "Goblin attacks with 5 power!\n",
            "Goblin takes 10 damage and now has 20 health.\n"
          ]
        }
      ]
    },
    {
      "cell_type": "markdown",
      "source": [
        "### Breaking Down the New Parts\n",
        "\n",
        "* `void attack()`\n",
        "  A method with no parameters. It just uses the monster’s own `attackPower` field to print an action.\n",
        "\n",
        "* `void takeDamage(int amount)`\n",
        "  A method with a parameter. The `amount` variable is passed in when we call the method. Inside the method, the monster reduces its health and prints the result.\n",
        "\n",
        "\n",
        "### Why This Matters\n",
        "\n",
        "With multiple methods, our monster is starting to feel like a *real character in a game*. Instead of just holding numbers, it has behaviors we can call naturally: roar, attack, take damage. Each method knows how to update or display the monster’s state."
      ],
      "metadata": {
        "id": "Wl6lInjpFi56"
      }
    },
    {
      "cell_type": "markdown",
      "source": [
        "## Constructors: Building Objects with Data\n",
        "\n",
        "When we first created objects, we had to set their fields one by one:\n",
        "\n",
        "```java\n",
        "Monster goblin = new Monster();\n",
        "goblin.name = \"Goblin\";\n",
        "goblin.health = 30;\n",
        "goblin.attackPower = 5;\n",
        "```\n",
        "\n",
        "This works, but it’s both **repetitive** and **unsafe**. If you forget to set a field, your object may be left incomplete. To make object creation easier, Java provides **constructors**. A constructor is a special method that runs automatically when you create a new object, ensuring all its important fields are set from the start.\n",
        "\n",
        "---\n",
        "\n",
        "### Example 1: A Simple Constructor\n",
        "\n",
        "Here’s a `Monster` with a constructor. Notice that the constructor’s name matches the class name and has no return type:\n"
      ],
      "metadata": {
        "id": "JoE7GEiGHEW-"
      }
    },
    {
      "cell_type": "code",
      "source": [
        "%%writefile Monster.java\n",
        "public class Monster {\n",
        "    String name;\n",
        "    int health;\n",
        "    int attackPower;\n",
        "\n",
        "    // constructor\n",
        "    Monster(String n, int h, int a) {\n",
        "        name = n;\n",
        "        health = h;\n",
        "        attackPower = a;\n",
        "    }\n",
        "\n",
        "    void roar() {\n",
        "        System.out.println(name + \" roars with power \" + attackPower + \"!\");\n",
        "    }\n",
        "\n",
        "    public static void main(String[] args) {\n",
        "        Monster goblin = new Monster(\"Goblin\", 30, 5);\n",
        "        Monster dragon = new Monster(\"Dragon\", 200, 50);\n",
        "\n",
        "        goblin.roar();\n",
        "        dragon.roar();\n",
        "    }\n",
        "}\n"
      ],
      "metadata": {
        "id": "8FjY0nKGHwbC"
      },
      "execution_count": null,
      "outputs": []
    },
    {
      "cell_type": "code",
      "source": [
        "!javac Monster.java\n",
        "!java Monster"
      ],
      "metadata": {
        "colab": {
          "base_uri": "https://localhost:8080/"
        },
        "id": "WCLMEekdH1Ad",
        "outputId": "3b06d7c9-e459-49f5-9401-daaaad9042ce"
      },
      "execution_count": 15,
      "outputs": [
        {
          "output_type": "stream",
          "name": "stdout",
          "text": [
            "Goblin lets out a terrifying roar!\n",
            "Goblin attacks with 5 power!\n",
            "Goblin takes 10 damage and now has 20 health.\n"
          ]
        }
      ]
    },
    {
      "cell_type": "markdown",
      "source": [
        "Now, instead of manually assigning fields, we provide all the details up front when calling `new`. This makes monster creation both faster and safer.\n",
        "\n",
        "###  Using `this` for Clarity\n",
        "\n",
        "The first constructor used short names (`n`, `h`, `a`) for parameters. That works, but it isn’t very descriptive. We’d rather name the parameters `name`, `health`, and `attackPower`. The problem is that these names would clash with the fields.\n",
        "\n",
        "Here’s what happens if we try:\n",
        "\n",
        "```java\n",
        "Monster(String name, int health, int attackPower) {\n",
        "    name = name;  // confusing: does this set the field?\n",
        "}\n",
        "```\n",
        "\n",
        "This code doesn’t do what we want—it just copies the parameter onto itself. The field `name` never changes.\n",
        "\n",
        "To fix this, Java provides the keyword **`this`**, which refers to the current object. By writing `this.name`, we mean *the object’s field called `name`*.\n",
        "\n",
        "```java\n",
        "Monster(String name, int health, int attackPower) {\n",
        "    this.name = name;\n",
        "    this.health = health;\n",
        "    this.attackPower = attackPower;\n",
        "}\n",
        "```\n",
        "\n",
        "This way, we can use clear, descriptive parameter names without confusion.\n",
        "\n",
        "### Multiple Constructors (Overloading)\n",
        "\n",
        "Sometimes we want different ways to make an object. For example, maybe a weapon can be created with a price, but also has a default “free” option. Java allows us to define **multiple constructors**, as long as they take different parameter lists. This is called **constructor overloading**.\n"
      ],
      "metadata": {
        "id": "eQPfSYXOHszI"
      }
    },
    {
      "cell_type": "code",
      "source": [
        "%%writefile Weapon.java\n",
        "public class Weapon {\n",
        "    String name;\n",
        "    int damage;\n",
        "    int price;\n",
        "\n",
        "    // full constructor\n",
        "    Weapon(String name, int damage, int price) {\n",
        "        this.name = name;\n",
        "        this.damage = damage;\n",
        "        this.price = price;\n",
        "    }\n",
        "\n",
        "    // simpler constructor: defaults to price 0\n",
        "    Weapon(String name, int damage) {\n",
        "        this.name = name;\n",
        "        this.damage = damage;\n",
        "        this.price = 0;\n",
        "    }\n",
        "\n",
        "    void describe() {\n",
        "        System.out.println(name + \" deals \" + damage +\n",
        "                           \" damage and costs \" + price + \" gold.\");\n",
        "    }\n",
        "\n",
        "    public static void main(String[] args) {\n",
        "        Weapon sword = new Weapon(\"Sword\", 15, 25);\n",
        "        Weapon stick = new Weapon(\"Stick\", 2); // free weapon\n",
        "\n",
        "        sword.describe();\n",
        "        stick.describe();\n",
        "    }\n",
        "}\n"
      ],
      "metadata": {
        "colab": {
          "base_uri": "https://localhost:8080/"
        },
        "id": "vos3JgFOHLrI",
        "outputId": "f68ca486-ba19-4770-d69b-599f6e79fcfe"
      },
      "execution_count": 13,
      "outputs": [
        {
          "output_type": "stream",
          "name": "stdout",
          "text": [
            "Writing Weapon.java\n"
          ]
        }
      ]
    },
    {
      "cell_type": "code",
      "source": [
        "!javac Weapon.java\n",
        "!java Weapon"
      ],
      "metadata": {
        "colab": {
          "base_uri": "https://localhost:8080/"
        },
        "id": "UqqEqitFHPI1",
        "outputId": "e7c371a4-33aa-4d78-913a-105acb9a5d8f"
      },
      "execution_count": 14,
      "outputs": [
        {
          "output_type": "stream",
          "name": "stdout",
          "text": [
            "Sword deals 15 damage and costs 25 gold.\n",
            "Stick deals 2 damage and costs 0 gold.\n"
          ]
        }
      ]
    },
    {
      "cell_type": "markdown",
      "source": [
        "### Why Constructors (and `this`) Matter\n",
        "\n",
        "* Constructors make sure objects are fully and safely set up at creation.\n",
        "* They reduce repetitive setup code.\n",
        "* The keyword **`this`** allows us to write descriptive parameter names without confusion.\n",
        "* Multiple constructors give us flexibility when creating objects.\n",
        "\n",
        "With constructors, we’re no longer just gluing data onto objects after the fact—we’re designing them to be properly built from the moment they’re created.\n",
        "\n"
      ],
      "metadata": {
        "id": "ddQKi24eHILO"
      }
    },
    {
      "cell_type": "markdown",
      "source": [
        "## Exercise 3: Constructors in Action\n",
        "\n",
        "Constructors exist to guarantee that objects begin life in a valid state. You will practice writing a **constructor**, using **`this`** to disambiguate field names from parameter names, and overloading a second constructor to supply sensible defaults. Keep the class self-contained with a `main` method so you can run it immediately.\n",
        "\n",
        "A **constructor** has the same name as the class and no return type. Inside a constructor, `this.fieldName = parameterName;` assigns the incoming value to the object’s own field. If you provide a second constructor with a different parameter list, Java selects the right one based on how you call `new`.\n",
        "\n",
        "### Your task\n",
        "\n",
        "Write a `Character` class with three fields (`name`, `health`, `gold`), two constructors (one full, one with defaults), and a `describe()` method. In `main`, create two characters—one via each constructor—and print their descriptions.\n",
        "\n",
        "### Minimal starter (you must finish every TODO)\n",
        "\n"
      ],
      "metadata": {
        "id": "QzMK0ZlNIOai"
      }
    },
    {
      "cell_type": "code",
      "source": [
        "%%writefile Character.java\n",
        "public class Character {\n",
        "    // TODO: declare fields: String name; int health; int gold;\n",
        "\n",
        "    // TODO: full constructor with parameters (String name, int health, int gold)\n",
        "    // Inside, assign parameters to fields using this. e.g., this.name = name;\n",
        "\n",
        "    // TODO: short constructor with only (String name)\n",
        "    // Give default values: health = 100; gold = 0;\n",
        "\n",
        "    // TODO: method describe() that prints: \"<name> has <health> health and <gold> gold.\"\n",
        "\n",
        "    public static void main(String[] args) {\n",
        "        // TODO: create one Character using the full constructor\n",
        "        // TODO: create one Character using the short constructor\n",
        "        // TODO: call describe() on both\n",
        "    }\n",
        "}\n"
      ],
      "metadata": {
        "id": "juFff7LxIVfW"
      },
      "execution_count": null,
      "outputs": []
    },
    {
      "cell_type": "code",
      "source": [
        "!javac Character.java\n",
        "!java Character"
      ],
      "metadata": {
        "id": "6Xk6HCXpIa0F"
      },
      "execution_count": null,
      "outputs": []
    },
    {
      "cell_type": "markdown",
      "source": [
        "### Hints before you code\n",
        "\n",
        "| Goal                  | Syntax to remember                                           |\n",
        "| --------------------- | ------------------------------------------------------------ |\n",
        "| Define fields         | `String name; int health; int gold;`                         |\n",
        "| Constructor signature | `Character(String name, int health, int gold) { ... }`       |\n",
        "| Disambiguate names    | `this.name = name;`                                          |\n",
        "| Overload              | Provide a second constructor with a different parameter list |\n",
        "| Print                 | `System.out.println(...)`                                    |\n",
        "\n",
        "### What good work looks like\n",
        "\n",
        "* The full constructor uses `this` on all three assignments.\n",
        "* The short constructor sets defaults and does not duplicate code if you optionally choose to call the full one: `this(name, 100, 0);`\n",
        "* `describe()` reads cleanly and never hard-codes names or numbers.\n",
        "\n",
        "### Quick self-check\n",
        "\n",
        "Run your program. You should see two lines, one reflecting custom values, one reflecting defaults. If a line prints `null` or `0` where you expected real values, your constructor did not assign a field or you forgot `this"
      ],
      "metadata": {
        "id": "RymrkCsaIP1W"
      }
    },
    {
      "cell_type": "markdown",
      "source": [
        "## Encapsulation: Hiding the Details\n",
        "\n",
        "Up to this point, we’ve been freely setting object fields from outside the class:\n",
        "\n",
        "```java\n",
        "Monster goblin = new Monster(\"Goblin\", 30, 5);\n",
        "goblin.health = -999; // uh oh! goblin now has \"negative health\"\n",
        "```\n",
        "\n",
        "This might be fun for a player who wants invincible monsters or infinite gold, but it breaks the logic of our game. We need a way to **protect the inside of our objects**.\n",
        "\n",
        "That’s what **encapsulation** does. Encapsulation means keeping an object’s data safe by controlling how it can be accessed. In Java, we enforce this using **visibility modifiers**.\n",
        "\n",
        "---\n",
        "\n",
        "### Visibility Modifiers in Java\n",
        "\n",
        "A **visibility modifier** tells the compiler (and other programmers) which parts of a class are available to use from the outside.\n",
        "\n",
        "| Modifier               | Where It Can Be Accessed                                                                   | Example Use                                             |\n",
        "| ---------------------- | ------------------------------------------------------------------------------------------ | ------------------------------------------------------- |\n",
        "| `public`               | Anywhere, in any class                                                                     | Methods you want other classes to call, like `attack()` |\n",
        "| `private`              | Only inside the same class                                                                 | Fields you want to protect, like `health`               |\n",
        "| *default* (no keyword) | Anywhere in the same package (not relevant yet since we’re keeping everything in one file) | Used in larger projects                                 |\n",
        "| `protected`            | In the same package or in subclasses (we’ll see this later when we do inheritance)         | Not needed yet                                          |\n",
        "\n",
        "For now, the most important distinction is between **`public`** and **`private`**:\n",
        "\n",
        "* **`public`**: anyone can use it.\n",
        "* **`private`**: only the class itself can use it.\n",
        "\n",
        "---\n",
        "\n",
        "### Example: Making Fields Private\n",
        "\n",
        "We can make our monster’s fields `private`, and provide methods to safely change them:\n",
        "\n"
      ],
      "metadata": {
        "id": "KZrQ25h8Qa9C"
      }
    },
    {
      "cell_type": "code",
      "source": [
        "%%writefile Monster.java\n",
        "public class Monster {\n",
        "    private String name;\n",
        "    private int health;\n",
        "    private int attackPower;\n",
        "\n",
        "    Monster(String name, int health, int attackPower) {\n",
        "        this.name = name;\n",
        "        this.health = health;\n",
        "        this.attackPower = attackPower;\n",
        "    }\n",
        "\n",
        "    // public method controls how health changes\n",
        "    public void takeDamage(int amount) {\n",
        "        health = health - amount;\n",
        "        if (health < 0) {\n",
        "            health = 0; // never allow negative health\n",
        "        }\n",
        "        System.out.println(name + \" takes \" + amount + \" damage and now has \" + health + \" health.\");\n",
        "    }\n",
        "\n",
        "    // public method lets the monster roar\n",
        "    public void roar() {\n",
        "        System.out.println(name + \" roars mightily!\");\n",
        "    }\n",
        "\n",
        "    public static void main(String[] args) {\n",
        "        Monster dragon = new Monster(\"Dragon\", 200, 50);\n",
        "\n",
        "        dragon.takeDamage(30);   // works\n",
        "        // dragon.health = -999; // error: health is private\n",
        "    }\n",
        "}"
      ],
      "metadata": {
        "colab": {
          "base_uri": "https://localhost:8080/"
        },
        "id": "2GpWcXRjQiGn",
        "outputId": "0e94da65-c0fc-477b-f093-c9e55929fcf5"
      },
      "execution_count": 16,
      "outputs": [
        {
          "output_type": "stream",
          "name": "stdout",
          "text": [
            "Overwriting Monster.java\n"
          ]
        }
      ]
    },
    {
      "cell_type": "code",
      "source": [
        "!javac Monster.java\n",
        "!java Monster"
      ],
      "metadata": {
        "colab": {
          "base_uri": "https://localhost:8080/"
        },
        "id": "rpE3Xkb0QnK4",
        "outputId": "29609cb1-60b8-46e9-a7e4-af3a8856afdb"
      },
      "execution_count": 17,
      "outputs": [
        {
          "output_type": "stream",
          "name": "stdout",
          "text": [
            "Dragon takes 30 damage and now has 170 health.\n"
          ]
        }
      ]
    },
    {
      "cell_type": "markdown",
      "source": [
        "\n",
        "Now, nobody outside the `Monster` class can change `health` directly—they must go through the `takeDamage()` method. This means all changes follow the rules we’ve set (like no negative health).\n",
        "\n",
        "---\n",
        "\n",
        "### Why This Matters\n",
        "\n",
        "* **Stronger rules**: The object enforces its own limits.\n",
        "* **Cleaner design**: Other code doesn’t have to worry about the details of how health is stored.\n",
        "* **Better maintenance**: If we later change how health works, we only update the class itself—not every line of code that uses it.\n"
      ],
      "metadata": {
        "id": "ztGk4GIPQeXr"
      }
    },
    {
      "cell_type": "markdown",
      "source": [
        "## Getters and Setters\n",
        "\n",
        "We’ve seen that making fields `private` keeps them safe from accidental misuse. But if all fields are private, how do we actually *use* them? For example, if a monster’s `health` is private, how do we check how much it has left, or how do we heal it?\n",
        "\n",
        "This is where **getters** and **setters** come in.\n",
        "\n",
        "---\n",
        "\n",
        "### The Idea in Plain English\n",
        "\n",
        "* A **getter** is a method that *returns* a private field’s value so that outside code can read it.\n",
        "\n",
        "  * Example: a `getHealth()` method might return a monster’s health.\n",
        "* A **setter** is a method that *changes* a private field’s value in a safe, controlled way.\n",
        "\n",
        "  * Example: a `setHealth(newHealth)` method could change the monster’s health, but only if the value makes sense (no negatives).\n",
        "\n",
        "Think of it like checking into a hotel:\n",
        "\n",
        "* You can’t just walk behind the front desk and grab a key (direct access to the field).\n",
        "* Instead, you *ask the receptionist* (the getter).\n",
        "* If you need to change your reservation, you don’t directly edit the hotel’s database—you ask the receptionist to do it for you (the setter).\n",
        "\n",
        "---\n",
        "\n",
        "### Examples\n",
        "\n",
        "```java\n",
        "// A simple getter\n",
        "public int getHealth() {\n",
        "    return health; // gives back the monster's current health\n",
        "}\n",
        "\n",
        "// A simple setter\n",
        "public void setHealth(int newHealth) {\n",
        "    if (newHealth < 0) {\n",
        "        health = 0; // no negative values allowed\n",
        "    } else {\n",
        "        health = newHealth;\n",
        "    }\n",
        "}\n",
        "```\n",
        "\n",
        "Notice how the setter doesn’t blindly accept whatever value you pass in. It applies rules to protect the object’s state.\n",
        "\n",
        "---\n",
        "\n",
        "### Full Example: Monster with Getters and Setters\n"
      ],
      "metadata": {
        "id": "1w6KDF-oQsiP"
      }
    },
    {
      "cell_type": "code",
      "source": [
        "%%writefile Monster.java\n",
        "public class Monster {\n",
        "    private String name;\n",
        "    private int health;\n",
        "\n",
        "    Monster(String name, int health) {\n",
        "        this.name = name;\n",
        "        this.health = health;\n",
        "    }\n",
        "\n",
        "    // getter: read the health\n",
        "    public int getHealth() {\n",
        "        return health;\n",
        "    }\n",
        "\n",
        "    // setter: update the health safely\n",
        "    public void setHealth(int newHealth) {\n",
        "        if (newHealth < 0) {\n",
        "            this.health = 0; // never allow negative health\n",
        "        } else {\n",
        "            this.health = newHealth;\n",
        "        }\n",
        "    }\n",
        "\n",
        "    public static void main(String[] args) {\n",
        "        Monster dragon = new Monster(\"Dragon\", 200);\n",
        "\n",
        "        System.out.println(\"Dragon health: \" + dragon.getHealth());\n",
        "\n",
        "        dragon.setHealth(150);   // safe update\n",
        "        System.out.println(\"Dragon health: \" + dragon.getHealth());\n",
        "\n",
        "        dragon.setHealth(-999);  // prevented by setter\n",
        "        System.out.println(\"Dragon health: \" + dragon.getHealth());\n",
        "    }\n",
        "}"
      ],
      "metadata": {
        "colab": {
          "base_uri": "https://localhost:8080/"
        },
        "id": "FhM1PSgFRGKS",
        "outputId": "b1832fad-f96a-424a-b441-5eca0b7019a7"
      },
      "execution_count": 18,
      "outputs": [
        {
          "output_type": "stream",
          "name": "stdout",
          "text": [
            "Overwriting Monster.java\n"
          ]
        }
      ]
    },
    {
      "cell_type": "code",
      "source": [
        "!javac Monster.java\n",
        "!java Monster"
      ],
      "metadata": {
        "colab": {
          "base_uri": "https://localhost:8080/"
        },
        "id": "Sz1kicaxRKnw",
        "outputId": "3cd574da-cbdd-435e-8c06-3d4505235cc0"
      },
      "execution_count": 19,
      "outputs": [
        {
          "output_type": "stream",
          "name": "stdout",
          "text": [
            "Dragon health: 200\n",
            "Dragon health: 150\n",
            "Dragon health: 0\n"
          ]
        }
      ]
    },
    {
      "cell_type": "markdown",
      "source": [
        "\n",
        "### Why Getters and Setters Are Better Than Public Fields\n",
        "\n",
        "* **Protection**: Enforce rules (like no negative health).\n",
        "* **Flexibility**: Later, you could change how health is stored or displayed without breaking other code.\n",
        "* **Clarity**: Other programmers know they should always interact with the object through its methods, not by tampering with fields directly.\n"
      ],
      "metadata": {
        "id": "TH_WUZpmRB4c"
      }
    },
    {
      "cell_type": "markdown",
      "source": [
        "## Exercise 4: Encapsulation Practice\n",
        "\n",
        "You’ve learned how **private fields** protect an object’s state, and how **getters** and **setters** provide safe, controlled access. Now it’s your turn to put this into practice with a new example.\n",
        "\n",
        "---\n",
        "\n",
        "### Task\n",
        "\n",
        "1. Create a class called `Weapon`.\n",
        "2. Give it two private fields:\n",
        "\n",
        "   * `String name`\n",
        "   * `int damage`\n",
        "3. Write a constructor that sets both fields (using `this`).\n",
        "4. Write a **getter** for `damage`.\n",
        "5. Write a **setter** for `damage` that enforces a rule:\n",
        "\n",
        "   * The minimum value should be `0`.\n",
        "   * The maximum value should be `100`.\n",
        "   * If someone tries to set it outside that range, adjust it back into the valid range.\n",
        "6. Write a method called `describe()` that prints:\n",
        "\n",
        "   * `\"Sword deals 25 damage.\"` (using the object’s actual data).\n",
        "7. In the `main` method:\n",
        "\n",
        "   * Create one weapon with a valid damage value.\n",
        "   * Create another weapon and then try to set its damage to `-50` and `999` to test your validation.\n",
        "\n",
        "---\n",
        "\n",
        "### Starter Skeleton (you must fill in the TODOs)\n"
      ],
      "metadata": {
        "id": "4kAQhjDGRgTc"
      }
    },
    {
      "cell_type": "code",
      "source": [
        "%%writefile Weapon.java\n",
        "public class Weapon {\n",
        "\n",
        "    // TODO: declare private fields for name and damage\n",
        "\n",
        "    // TODO: constructor that assigns parameters to fields using this\n",
        "\n",
        "    // TODO: getter for damage\n",
        "\n",
        "    // TODO: setter for damage that enforces the 0–100 rule\n",
        "\n",
        "    // TODO: describe() method that prints \"<name> deals <damage> damage.\"\n",
        "\n",
        "    public static void main(String[] args) {\n",
        "        // TODO: create one weapon with valid damage\n",
        "        // TODO: create another weapon and test invalid setter values\n",
        "    }\n",
        "}"
      ],
      "metadata": {
        "id": "9YNaAyuzRpK0"
      },
      "execution_count": null,
      "outputs": []
    },
    {
      "cell_type": "code",
      "source": [
        "!javac Weapon.java\n",
        "!java Weapon"
      ],
      "metadata": {
        "id": "EaoL3OFZRtP8"
      },
      "execution_count": null,
      "outputs": []
    },
    {
      "cell_type": "markdown",
      "source": [
        "\n",
        "### Hints\n",
        "\n",
        "* Use the **`this`** keyword in the constructor.\n",
        "* In the setter, you can use `if` statements to clamp the damage value:\n",
        "\n",
        "```java\n",
        "if (newDamage < 0) {\n",
        "    this.damage = 0;\n",
        "} else if (newDamage > 100) {\n",
        "    this.damage = 100;\n",
        "} else {\n",
        "    this.damage = newDamage;\n",
        "}\n",
        "```\n",
        "\n",
        "---\n",
        "\n",
        "### Example Output\n",
        "\n",
        "If you do this correctly, your program might print:\n",
        "\n",
        "```\n",
        "Sword deals 25 damage.\n",
        "Broken Dagger deals 0 damage.\n",
        "Broken Dagger deals 100 damage.\n",
        "```\n"
      ],
      "metadata": {
        "id": "r8bJUVDaRkiN"
      }
    },
    {
      "cell_type": "markdown",
      "source": [
        "## Objects Working Together\n",
        "\n",
        "Up to now, we’ve built single classes. But in any real project, especially in a game, classes need to **interact**. A `Character` buys an `Item`, a `Monster` takes damage from a `Weapon`, or a `Potion` heals someone. This is where object-oriented design shows its strength: each class models its own small part of the world, and together they form a system.\n",
        "\n",
        "---\n",
        "\n",
        "### Example: A Character Buys an Item\n",
        "\n",
        "We’ll model two simple classes:\n",
        "\n",
        "* `Item` — has a name and a price.\n",
        "* `Character` — has a name, gold, and can buy items.\n"
      ],
      "metadata": {
        "id": "YbCC1cYvSPnB"
      }
    },
    {
      "cell_type": "code",
      "source": [
        "%%writefile Item.java\n",
        "public class Item {\n",
        "    private String name;\n",
        "    private int price;\n",
        "\n",
        "    Item(String name, int price) {\n",
        "        this.name = name;\n",
        "        this.price = price;\n",
        "    }\n",
        "\n",
        "    public int getPrice() {\n",
        "        return price;\n",
        "    }\n",
        "\n",
        "    public String getName() {\n",
        "        return name;\n",
        "    }\n",
        "}"
      ],
      "metadata": {
        "colab": {
          "base_uri": "https://localhost:8080/"
        },
        "id": "qpFGUkJ3SRrv",
        "outputId": "161d7294-8d6b-4c18-b9cb-ce1f58d449df"
      },
      "execution_count": 20,
      "outputs": [
        {
          "output_type": "stream",
          "name": "stdout",
          "text": [
            "Writing Item.java\n"
          ]
        }
      ]
    },
    {
      "cell_type": "code",
      "source": [
        "%%writefile Character.java\n",
        "public class Character {\n",
        "    private String name;\n",
        "    private int gold;\n",
        "\n",
        "    Character(String name, int gold) {\n",
        "        this.name = name;\n",
        "        this.gold = gold;\n",
        "    }\n",
        "\n",
        "    public void buyItem(Item item) {\n",
        "        if (gold >= item.getPrice()) {\n",
        "            gold -= item.getPrice();\n",
        "            System.out.println(name + \" buys a \" + item.getName() +\n",
        "                               \" for \" + item.getPrice() + \" gold.\");\n",
        "        } else {\n",
        "            System.out.println(name + \" cannot afford the \" + item.getName() + \".\");\n",
        "        }\n",
        "    }\n",
        "\n",
        "    public void showGold() {\n",
        "        System.out.println(name + \" now has \" + gold + \" gold.\");\n",
        "    }\n",
        "\n",
        "    public static void main(String[] args) {\n",
        "        Character hero = new Character(\"Aria\", 50);\n",
        "        Item potion = new Item(\"Health Potion\", 20);\n",
        "\n",
        "        hero.buyItem(potion);\n",
        "        hero.showGold();\n",
        "    }\n",
        "}"
      ],
      "metadata": {
        "colab": {
          "base_uri": "https://localhost:8080/"
        },
        "id": "NWz1T3sjA7U-",
        "outputId": "866f600f-5d31-4569-9b4b-544c5dda461b"
      },
      "execution_count": 21,
      "outputs": [
        {
          "output_type": "stream",
          "name": "stdout",
          "text": [
            "Writing Character.java\n"
          ]
        }
      ]
    },
    {
      "cell_type": "markdown",
      "source": [
        "### How It Works in Practice\n",
        "\n",
        "In Java, each **public class** is normally saved in its own file with the same name as the class:\n",
        "\n",
        "* `Item.java` → contains the `Item` class.\n",
        "* `Character.java` → contains the `Character` class.\n",
        "\n",
        "When you want to run the program, you compile both files at the same time:"
      ],
      "metadata": {
        "id": "tW-rGBnxSani"
      }
    },
    {
      "cell_type": "code",
      "source": [
        "!javac Item.java Character.java"
      ],
      "metadata": {
        "id": "meL9v7FxScCQ"
      },
      "execution_count": 22,
      "outputs": []
    },
    {
      "cell_type": "markdown",
      "source": [
        "This creates `Item.class` and `Character.class` (the compiled versions). Then you can run the program starting from the class that has the `main` method:"
      ],
      "metadata": {
        "id": "Jrg9f4WuSdnR"
      }
    },
    {
      "cell_type": "code",
      "source": [
        "!java Character"
      ],
      "metadata": {
        "colab": {
          "base_uri": "https://localhost:8080/"
        },
        "id": "OF0yXTHoSfLo",
        "outputId": "685ed8f9-16ed-4257-8cdc-d75e5335aef6"
      },
      "execution_count": 23,
      "outputs": [
        {
          "output_type": "stream",
          "name": "stdout",
          "text": [
            "Aria buys a Health Potion for 20 gold.\n",
            "Aria now has 30 gold.\n"
          ]
        }
      ]
    },
    {
      "cell_type": "markdown",
      "source": [
        "Since `Character` has a `main` method, it serves as the entry point. From there, it creates an `Item` object and interacts with it.\n",
        "\n",
        "### Why This Matters\n",
        "\n",
        "* Each class is responsible for itself. `Item` only knows about its own name and price. `Character` doesn’t need to know *how* the `Item` works internally—it just asks for the name and price through public methods.\n",
        "* This separation keeps each class focused and makes your code easier to extend. You could later add `Weapon` or `Armor` classes, and the `Character` class could interact with them in much the same way."
      ],
      "metadata": {
        "id": "R3mADVHASiZd"
      }
    },
    {
      "cell_type": "markdown",
      "source": [
        "## Exercise 5: A Simple Interaction\n",
        "\n",
        "Now that you’ve seen how different classes can work together, it’s time for you to try creating two objects that interact. This will give you practice in designing **separate classes**, placing each in its own file, and compiling/running them together.\n",
        "\n",
        "---\n",
        "\n",
        "### Task\n",
        "\n",
        "1. Create a class called `Store`.\n",
        "\n",
        "   * Give it one field: `String name`.\n",
        "   * Add a constructor to set the store’s name.\n",
        "   * Add a method `sellItem(String itemName, int price, Character buyer)` that:\n",
        "\n",
        "     * Checks if the buyer has enough gold.\n",
        "     * If yes, subtracts the gold and prints:\n",
        "\n",
        "       * `\"<buyer name> buys <itemName> from <store name> for <price> gold.\"`\n",
        "     * If not, prints:\n",
        "\n",
        "       * `\"<buyer name> cannot afford <itemName>.\"`\n",
        "\n",
        "2. Use the `Character` class from earlier (with fields for name and gold). If you don’t have it handy, re-create a simplified version with:\n",
        "\n",
        "   * A constructor to set name and gold.\n",
        "   * A method `getGold()` to return current gold.\n",
        "   * A method `spendGold(int amount)` that subtracts gold.\n",
        "\n",
        "3. Write a `main` method (in `Character.java`) that:\n",
        "\n",
        "   * Creates a `Character` with some starting gold.\n",
        "   * Creates a `Store`.\n",
        "   * Calls `store.sellItem(...)` a couple of times to test both success and failure cases.\n",
        "\n",
        "---\n",
        "\n",
        "### Starter Skeletons\n",
        "\n"
      ],
      "metadata": {
        "id": "l-WRhP07SxuM"
      }
    },
    {
      "cell_type": "code",
      "source": [
        "%%writefile Character.java\n",
        "public class Character {\n",
        "    private String name;\n",
        "    private int gold;\n",
        "\n",
        "    // TODO: constructor (String name, int gold)\n",
        "    // TODO: getGold()\n",
        "    // TODO: spendGold(int amount)\n",
        "\n",
        "    public static void main(String[] args) {\n",
        "        // TODO: create a Character\n",
        "        // TODO: create a Store\n",
        "        // TODO: try buying items\n",
        "    }\n",
        "}"
      ],
      "metadata": {
        "colab": {
          "base_uri": "https://localhost:8080/"
        },
        "id": "fxFZAirHS02M",
        "outputId": "0afc146a-f66a-4edf-8537-b26e08833c04"
      },
      "execution_count": 24,
      "outputs": [
        {
          "output_type": "stream",
          "name": "stdout",
          "text": [
            "Overwriting Character.java\n"
          ]
        }
      ]
    },
    {
      "cell_type": "code",
      "source": [
        "%%writefile Store.java\n",
        "public class Store {\n",
        "    private String name;\n",
        "\n",
        "    // TODO: constructor (String name)\n",
        "\n",
        "    // TODO: sellItem(String itemName, int price, Character buyer)\n",
        "}"
      ],
      "metadata": {
        "id": "mhMb7rEXS3he"
      },
      "execution_count": null,
      "outputs": []
    },
    {
      "cell_type": "markdown",
      "source": [
        "### Example Run\n",
        "\n",
        "If you set things up correctly, running `java Character` might print something like this:\n",
        "\n",
        "```\n",
        "Aria buys Potion from Magic Shop for 20 gold.\n",
        "Aria cannot afford Sword.\n",
        "```\n",
        "\n",
        "---\n",
        "\n",
        "### Reflection Question\n",
        "\n",
        "Why is it good practice to separate `Store` and `Character` into their own files and classes, rather than putting everything in one big class? How does this separation aid in program development and debuggin?"
      ],
      "metadata": {
        "id": "vhw2TDbGS_sk"
      }
    },
    {
      "cell_type": "markdown",
      "source": [
        "## Collections of Objects\n",
        "\n",
        "So far, we’ve focused on single objects—one `Monster`, one `Character`, one `Item`. But games and programs rarely work with just one of something. A dungeon usually contains many monsters, a store usually stocks many items, and a character usually carries many things in their inventory.\n",
        "\n",
        "You already know how to use **`ArrayList`** in Java, so here we’ll just remind you of the basics and then show how it connects to objects.\n",
        "\n",
        "---\n",
        "\n",
        "### Review: ArrayList in One Sentence\n",
        "\n",
        "An `ArrayList` is like a **resizable box** that can hold many objects of the same type. You can add, remove, and loop through items without worrying about fixed size.\n",
        "\n",
        "```java\n",
        "ArrayList<Monster> monsters = new ArrayList<>();\n",
        "```\n",
        "\n",
        "This line means: *create a list that will hold Monster objects.*\n",
        "\n",
        "---\n",
        "\n",
        "### Why Use Collections with Objects?\n",
        "\n",
        "* Instead of ten variables (`goblin1`, `goblin2`, …), you keep all your monsters in one list.\n",
        "* You can loop through the list to process every object.\n",
        "* Objects themselves can **contain collections** to represent groups:\n",
        "\n",
        "  * A `Character` can have an `ArrayList<Item>` as an **inventory**.\n",
        "  * A `Store` can keep its **stock** in an `ArrayList<Item>`.\n",
        "\n",
        "---\n",
        "\n",
        "### Examples\n",
        "**A dungeon full of monsters:**\n",
        "\n",
        "```java\n",
        "ArrayList<Monster> monsters = new ArrayList<>();\n",
        "monsters.add(new Monster(\"Goblin\", 30, 5));\n",
        "monsters.add(new Monster(\"Orc\", 60, 10));\n",
        "```\n",
        "\n",
        "**Looping through them:**\n",
        "\n",
        "```java\n",
        "for (Monster m : monsters) {\n",
        "    System.out.println(\"A \" + m.getName() + \" appears!\");\n",
        "}\n",
        "```\n",
        "\n",
        "**A character’s inventory:**\n",
        "\n",
        "```java\n",
        "ArrayList<Item> inventory = new ArrayList<>();\n",
        "inventory.add(new Item(\"Health Potion\", 20));\n",
        "inventory.add(new Item(\"Sword\", 25));\n",
        "```\n",
        "\n",
        "---\n",
        "### A Complete Example\n",
        "\n",
        "Here’s how it looks when we put it together into one self-contained program:"
      ],
      "metadata": {
        "id": "zlMRmpWHTz2H"
      }
    },
    {
      "cell_type": "code",
      "source": [
        "%%writefile Item.java\n",
        "class Item {\n",
        "    private String name;\n",
        "    private int price;\n",
        "\n",
        "    Item(String name, int price) {\n",
        "        this.name = name;\n",
        "        this.price = price;\n",
        "    }\n",
        "\n",
        "    public String getName() {\n",
        "        return name;\n",
        "    }\n",
        "}"
      ],
      "metadata": {
        "colab": {
          "base_uri": "https://localhost:8080/"
        },
        "id": "1rSNXWn9UAdF",
        "outputId": "29ad37de-566e-4e45-a7a4-5e4a8223f659"
      },
      "execution_count": 30,
      "outputs": [
        {
          "output_type": "stream",
          "name": "stdout",
          "text": [
            "Overwriting Item.java\n"
          ]
        }
      ]
    },
    {
      "cell_type": "code",
      "source": [
        "%%writefile Character.java\n",
        "import java.util.ArrayList;\n",
        "\n",
        "public class Character {\n",
        "    private String name;\n",
        "    private ArrayList<Item> inventory;\n",
        "\n",
        "    Character(String name) {\n",
        "        this.name = name;\n",
        "        this.inventory = new ArrayList<>();\n",
        "    }\n",
        "\n",
        "    public void addItem(Item i) {\n",
        "        inventory.add(i);\n",
        "        System.out.println(name + \" picks up \" + i.getName());\n",
        "    }\n",
        "\n",
        "    public void showInventory() {\n",
        "        System.out.println(name + \"'s inventory:\");\n",
        "        for (Item i : inventory) {\n",
        "            System.out.println(\" - \" + i.getName());\n",
        "        }\n",
        "    }\n",
        "\n",
        "    public static void main(String[] args) {\n",
        "        Character hero = new Character(\"Aria\");\n",
        "        hero.addItem(new Item(\"Health Potion\", 20));\n",
        "        hero.addItem(new Item(\"Sword\", 25));\n",
        "        hero.showInventory();\n",
        "    }\n",
        "}\n"
      ],
      "metadata": {
        "colab": {
          "base_uri": "https://localhost:8080/"
        },
        "id": "3KzOYUnUT7d-",
        "outputId": "f34acd45-7e93-4ac8-c89c-1785a8a190e3"
      },
      "execution_count": 28,
      "outputs": [
        {
          "output_type": "stream",
          "name": "stdout",
          "text": [
            "Overwriting Character.java\n"
          ]
        }
      ]
    },
    {
      "cell_type": "code",
      "source": [
        "!javac Item.java Character.java\n",
        "!java Character"
      ],
      "metadata": {
        "colab": {
          "base_uri": "https://localhost:8080/"
        },
        "id": "H-R2X2SmUF_4",
        "outputId": "1bd1b4fb-473c-4327-c6cc-7d594e59c41c"
      },
      "execution_count": 31,
      "outputs": [
        {
          "output_type": "stream",
          "name": "stdout",
          "text": [
            "Aria picks up Health Potion\n",
            "Aria picks up Sword\n",
            "Aria's inventory:\n",
            " - Health Potion\n",
            " - Sword\n"
          ]
        }
      ]
    },
    {
      "cell_type": "markdown",
      "source": [
        "### The Big Idea\n",
        "\n",
        "Collections let us treat groups of objects as one unit. A game character doesn’t just have *a* potion—they have an **inventory**. A dungeon doesn’t just have *a* monster—it has a **list of monsters**. By combining collections with objects, we start to model the real complexity of games and programs."
      ],
      "metadata": {
        "id": "apD1XbGrUSvx"
      }
    },
    {
      "cell_type": "markdown",
      "source": [
        "## Printing Objects with `toString`\n",
        "\n",
        "When you ask Java to print an object directly, like this:\n",
        "\n",
        "```java\n",
        "Monster goblin = new Monster(\"Goblin\", 30, 5);\n",
        "System.out.println(goblin);\n",
        "```\n",
        "\n",
        "you don’t actually get the monster’s data. Instead, you’ll see something like:\n",
        "\n",
        "```\n",
        "Monster@15db9742\n",
        "```\n",
        "\n",
        "This is Java’s **default `toString()`** from the class `Object` (the root of all Java classes). Every class in Java inherits this method, but by default it just prints the class name and a memory code.\n",
        "\n",
        "To make objects print in a useful way, we must **override** `toString()`.\n",
        "\n",
        "---\n",
        "\n",
        "### What Does “Override” Mean?\n",
        "\n",
        "* **Inheritance**: Every class automatically “inherits” methods from `Object`, including `toString()`.\n",
        "* **Overriding**: If you write your own `toString()` method in your class with the exact same name, return type, and parameter list, your version replaces the default one.\n",
        "* Java will automatically call your version whenever you try to print the object.\n",
        "\n",
        "---\n",
        "\n",
        "### How to Override `toString`\n",
        "\n",
        "Follow these exact steps:\n",
        "\n",
        "1. **Write a public method inside your class.**\n",
        "2. The method must be called `toString`.\n",
        "3. It must return a `String`.\n",
        "4. It takes **no parameters**.\n",
        "5. Write a `return` statement that gives back a useful description of your object.\n",
        "6. (Optional but recommended) Use the annotation `@Override` above the method.\n",
        "\n",
        "**Template:**\n",
        "\n",
        "```java\n",
        "@Override\n",
        "public String toString() {\n",
        "    return \"Meaningful description here\";\n",
        "}\n",
        "```\n",
        "\n",
        "\n",
        "### Short Example\n"
      ],
      "metadata": {
        "id": "id4zQbewVQKF"
      }
    },
    {
      "cell_type": "code",
      "source": [
        "%%writefile Monster.java\n",
        "public class Monster {\n",
        "    private String name;\n",
        "    private int health;\n",
        "\n",
        "    Monster(String name, int health) {\n",
        "        this.name = name;\n",
        "        this.health = health;\n",
        "    }\n",
        "\n",
        "    @Override\n",
        "    public String toString() {\n",
        "        return name + \" [HP=\" + health + \"]\";\n",
        "    }\n",
        "\n",
        "    public static void main(String[] args) {\n",
        "        Monster goblin = new Monster(\"Goblin\", 30);\n",
        "        System.out.println(goblin); // calls toString automatically\n",
        "    }\n",
        "}"
      ],
      "metadata": {
        "colab": {
          "base_uri": "https://localhost:8080/"
        },
        "id": "SQew3qDtVVqW",
        "outputId": "c7d3da19-d2d2-4def-e45a-e6fc806e653a"
      },
      "execution_count": 37,
      "outputs": [
        {
          "output_type": "stream",
          "name": "stdout",
          "text": [
            "Overwriting Monster.java\n"
          ]
        }
      ]
    },
    {
      "cell_type": "code",
      "source": [
        "!javac Monster.java\n",
        "!java Monster"
      ],
      "metadata": {
        "colab": {
          "base_uri": "https://localhost:8080/"
        },
        "id": "rbauh-d6VZl8",
        "outputId": "bb6233f9-c5a1-4c38-8899-e9fa5dcd0e34"
      },
      "execution_count": 33,
      "outputs": [
        {
          "output_type": "stream",
          "name": "stdout",
          "text": [
            "Goblin [HP=30]\n"
          ]
        }
      ]
    },
    {
      "cell_type": "markdown",
      "source": [
        "### Using `toString` with Collections\n",
        "\n",
        "The real power of `toString()` shows up when you have a **collection** of objects. If you print an `ArrayList<Monster>` without overriding `toString`, you’ll get unreadable memory codes. But if each `Monster` has a custom `toString()`, the whole list prints clearly."
      ],
      "metadata": {
        "id": "T9CdNBolVzWG"
      }
    },
    {
      "cell_type": "code",
      "source": [
        "%%writefile Dungeon.java\n",
        "import java.util.ArrayList;\n",
        "\n",
        "public class Dungeon {\n",
        "    public static void main(String[] args) {\n",
        "        ArrayList<Monster> monsters = new ArrayList<>();\n",
        "        monsters.add(new Monster(\"Goblin\", 30));\n",
        "        monsters.add(new Monster(\"Orc\", 60));\n",
        "        monsters.add(new Monster(\"Dragon\", 200));\n",
        "\n",
        "        System.out.println(monsters); // uses each Monster's toString\n",
        "    }\n",
        "}"
      ],
      "metadata": {
        "colab": {
          "base_uri": "https://localhost:8080/"
        },
        "id": "4e1wJOOLV0-W",
        "outputId": "cc5ce2f8-f2ec-4abc-f8a2-c07cc64c8f08"
      },
      "execution_count": 40,
      "outputs": [
        {
          "output_type": "stream",
          "name": "stdout",
          "text": [
            "Overwriting Dungeon.java\n"
          ]
        }
      ]
    },
    {
      "cell_type": "code",
      "source": [
        "!javac Dungeon.java\n",
        "!java Dungeon"
      ],
      "metadata": {
        "colab": {
          "base_uri": "https://localhost:8080/"
        },
        "id": "dI7388vCV6jE",
        "outputId": "71dbe338-fbf5-45e4-a6a5-5c239d850259"
      },
      "execution_count": 41,
      "outputs": [
        {
          "output_type": "stream",
          "name": "stdout",
          "text": [
            "[Goblin [HP=30], Orc [HP=60], Dragon [HP=200]]\n"
          ]
        }
      ]
    },
    {
      "cell_type": "markdown",
      "source": [
        "\n",
        "### Why `toString` Matters\n",
        "\n",
        "* It makes objects self-describing.\n",
        "* It improves debugging—just `System.out.println(object)` shows meaningful information.\n",
        "* It makes collections readable, because Java calls `toString()` on each element automatically.\n"
      ],
      "metadata": {
        "id": "IOHQcm6ZWU1M"
      }
    },
    {
      "cell_type": "markdown",
      "source": [
        "## Conclusion: Thinking in Objects\n",
        "\n",
        "In this chapter, you’ve taken your first steps into **object-oriented programming (OOP)**, and you’ve seen how it changes the way we think about designing programs.\n",
        "\n",
        "---\n",
        "\n",
        "### From Functions to Objects\n",
        "\n",
        "At the beginning, we saw that while functions are useful, they become clumsy when programs grow large. Objects solve this by bundling **state** (fields) and **behavior** (methods) into one unit. A monster doesn’t just have health points—it can also roar, attack, and take damage.\n",
        "\n",
        "---\n",
        "\n",
        "### Classes and Instances\n",
        "\n",
        "A **class** is the blueprint. An **object** (or **instance**) is the thing we actually create. Writing a `Monster` class describes what every monster can know and do, but each specific `Monster` you create—like a goblin or a dragon—carries its own data.\n",
        "\n",
        "---\n",
        "\n",
        "### Constructors and `this`\n",
        "\n",
        "Constructors ensure that new objects start life in a consistent state. Instead of setting fields one by one, we can pass values directly when creating the object. Using **`this`** inside a constructor makes it clear that we’re assigning parameter values to the object’s own fields.\n",
        "\n",
        "---\n",
        "\n",
        "### Encapsulation and Access Control\n",
        "\n",
        "By marking fields **private**, we protect them from outside misuse. Objects enforce their own rules: a monster can’t be given negative health or impossible stats. With **getters and setters**, we provide controlled ways to read and update fields safely.\n",
        "\n",
        "---\n",
        "\n",
        "### Objects Working Together\n",
        "\n",
        "Objects don’t live alone. A `Character` can buy an `Item` from a `Store`; a `Monster` can attack a `Character`. Each class has its own responsibility, and they cooperate through their **public methods**. This separation of concerns makes code easier to understand and extend.\n",
        "\n",
        "---\n",
        "\n",
        "### Collections of Objects\n",
        "\n",
        "Real games and programs rarely have just one object of each type. We use **collections** like `ArrayList` to manage groups of objects. An inventory of items or a dungeon full of monsters can be stored in a list, and loops let us work with them all at once.\n",
        "\n",
        "---\n",
        "\n",
        "### Overriding `toString`\n",
        "\n",
        "Finally, we saw how the **`toString()` method** controls how objects are printed. By overriding it, we make objects self-describing and collections much easier to read. This was your first taste of **inheritance** and **method overriding**: even if you don’t ask for it, every class inherits from `Object`, and you can replace its methods with better ones for your own classes.\n",
        "\n",
        "---\n",
        "\n",
        "### The Big Picture\n",
        "\n",
        "By combining all these ideas—**objects, fields, methods, constructors, encapsulation, interaction, collections, and `toString`**—we’ve built the foundation of object-oriented programming. You can now model parts of a role-playing game (and many other problems) in a way that is organized, reusable, and closer to how we already think about the world.\n"
      ],
      "metadata": {
        "id": "AU2wtHaOWdLW"
      }
    },
    {
      "cell_type": "markdown",
      "source": [
        "# Final Exercise / Project: Mini Market & Arena (Starter Kit with TODOs)\n",
        "\n",
        "Build a tiny text-based RPG demo with **three classes** and a single **driver**. Keep everything minimal: **objects** with **fields**, **constructors** using **`this`**, **encapsulation** via `private` fields, a small **`ArrayList`** for inventory/stock, and readable prints via **`toString()`**. No inheritance, no packages.\n",
        "\n",
        "### Scope (trimmed)\n",
        "\n",
        "| Component            | Responsibility                     | Must Show                                                  |\n",
        "| -------------------- | ---------------------------------- | ---------------------------------------------------------- |\n",
        "| `Item`               | Name and price                     | Constructor, getters, `toString()`                         |\n",
        "| `Monster`            | Name and health                    | Constructor, health clamp, `takeDamage(int)`, `toString()` |\n",
        "| `Store`              | Name and stock (`ArrayList<Item>`) | Add stock, sell to a `Character`                           |\n",
        "| `Character` (driver) | Name, health, gold, inventory      | Buy from `Store`, attack `Monster`, `toString()`, `main`   |\n",
        "\n",
        "### How to use\n",
        "\n",
        "Save each class in its own file. Compile and run:\n",
        "\n",
        "```\n",
        "javac Item.java Monster.java Store.java Character.java\n",
        "java Character\n",
        "```"
      ],
      "metadata": {
        "id": "DQubZjxQXong"
      }
    },
    {
      "cell_type": "code",
      "source": [
        "%%writefile Item.java\n",
        "public class Item {\n",
        "    // TODO: make fields private: String name; int price;\n",
        "\n",
        "    // TODO: constructor: Item(String name, int price)\n",
        "    // Use 'this' to assign. Clamp price to be >= 0.\n",
        "\n",
        "    // TODO: public getters: getName(), getPrice()\n",
        "\n",
        "    @Override\n",
        "    public String toString() {\n",
        "        // TODO: return \"Name (X gold)\"\n",
        "        return \"TODO\";\n",
        "    }\n",
        "}"
      ],
      "metadata": {
        "id": "8PRvhP8XXrUI"
      },
      "execution_count": null,
      "outputs": []
    },
    {
      "cell_type": "code",
      "source": [
        "%%writefile Monster.java\n",
        "public class Monster {\n",
        "    // TODO: private fields: String name; int health;\n",
        "\n",
        "    // TODO: constructor: Monster(String name, int health)\n",
        "    // Use 'this'. Clamp health to be >= 0.\n",
        "\n",
        "    // TODO: public void takeDamage(int dmg)\n",
        "    // Ignore negative dmg. Decrease health; clamp at 0.\n",
        "\n",
        "    // (Optional) public boolean isDefeated()\n",
        "\n",
        "    @Override\n",
        "    public String toString() {\n",
        "        // TODO: return \"Name [HP=health]\"\n",
        "        return \"TODO\";\n",
        "    }\n",
        "}"
      ],
      "metadata": {
        "id": "WJDGUUd9XwfY"
      },
      "execution_count": null,
      "outputs": []
    },
    {
      "cell_type": "code",
      "source": [
        "%%writefile Store.java\n",
        "import java.util.ArrayList;\n",
        "\n",
        "public class Store {\n",
        "    // TODO: private fields: String name; ArrayList<Item> stock\n",
        "\n",
        "    // TODO: constructor: Store(String name)\n",
        "    // Initialize stock to an empty ArrayList.\n",
        "\n",
        "    // TODO: public void addItem(Item i)\n",
        "    // Add item to stock.\n",
        "\n",
        "    // TODO: public boolean sell(Item i, Character buyer)\n",
        "    // If stock contains i AND buyer has enough gold:\n",
        "    //   - remove i from stock\n",
        "    //   - ask buyer to spend gold\n",
        "    //   - ask buyer to add item to inventory\n",
        "    //   - return true\n",
        "    // Else, return false\n",
        "\n",
        "    @Override\n",
        "    public String toString() {\n",
        "        // TODO: return \"StoreName \" + stock\n",
        "        return \"TODO\";\n",
        "    }\n",
        "}"
      ],
      "metadata": {
        "id": "u3y9ZoMKX118"
      },
      "execution_count": null,
      "outputs": []
    },
    {
      "cell_type": "code",
      "source": [
        "%%writefile Character.java\n",
        "import java.util.ArrayList;\n",
        "\n",
        "public class Character {\n",
        "    // TODO: private fields: String name; int health; int gold; ArrayList<Item> inventory\n",
        "\n",
        "    // TODO: constructor: Character(String name, int health, int gold)\n",
        "    // Use 'this'. Clamp health and gold to be >= 0.\n",
        "    // Initialize inventory to empty ArrayList.\n",
        "\n",
        "    // TODO: public int getGold()\n",
        "    // TODO: public void spendGold(int amount)  // clamp so gold never negative\n",
        "    // TODO: public void addToInventory(Item i)\n",
        "\n",
        "    // TODO: public void attack(Monster m, int dmg)\n",
        "    // Ignore negative dmg. Call m.takeDamage(dmg).\n",
        "\n",
        "    @Override\n",
        "    public String toString() {\n",
        "        // TODO: return \"Name [HP=health, gold=gold, inventory=\" + inventory + \"]\"\n",
        "        return \"TODO\";\n",
        "    }\n",
        "\n",
        "    public static void main(String[] args) {\n",
        "        // --- demo script (adjust values freely) ---\n",
        "\n",
        "        // TODO: create Character (e.g., \"Aria\", 100 HP, 40 gold)\n",
        "        // TODO: create Store (\"Market\") and add 2–3 Items (e.g., Sword(25), Potion(10))\n",
        "\n",
        "        // TODO: print Character and Store\n",
        "\n",
        "        // TODO: attempt two purchases (one affordable, one not).\n",
        "        // Use Store.sell(item, character); print results.\n",
        "\n",
        "        // TODO: print Character after purchases\n",
        "\n",
        "        // TODO: create Monster (\"Goblin\", ~35 HP), print it\n",
        "        // TODO: attack monster for a small amount, print monster\n",
        "        // TODO: attack again until HP reaches 0, print final state\n",
        "    }\n",
        "}"
      ],
      "metadata": {
        "id": "wdjp733CX77A"
      },
      "execution_count": null,
      "outputs": []
    },
    {
      "cell_type": "markdown",
      "source": [
        "### Minimal target output (illustrative)\n",
        "\n",
        "```\n",
        "Aria [HP=100, gold=40, inventory=[]]\n",
        "Market [Sword (25 gold), Health Potion (10 gold)]\n",
        "Bought: Sword (25 gold)\n",
        "Bought: Health Potion (10 gold)\n",
        "Aria [HP=100, gold=5, inventory=[Sword (25 gold), Health Potion (10 gold)]]\n",
        "Goblin [HP=35]\n",
        "Aria hits Goblin for 12\n",
        "Goblin [HP=23]\n",
        "...\n",
        "Goblin [HP=0]\n",
        "```\n",
        "\n",
        "### Checklist\n",
        "\n",
        "* Each class uses a **constructor** with **`this`** and input validation.\n",
        "* All fields are **private**; interactions happen through methods.\n",
        "* `Store` and `Character` use **`ArrayList`** for stock/inventory.\n",
        "* Every class overrides **`toString()`** for readable prints."
      ],
      "metadata": {
        "id": "bRiUAy7YYCPl"
      }
    }
  ]
}