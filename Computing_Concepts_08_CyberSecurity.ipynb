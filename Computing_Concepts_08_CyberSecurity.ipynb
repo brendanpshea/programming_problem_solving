{
  "nbformat": 4,
  "nbformat_minor": 0,
  "metadata": {
    "colab": {
      "provenance": [],
      "authorship_tag": "ABX9TyNW451d3JuFlSwsxjE0UhSm",
      "include_colab_link": true
    },
    "kernelspec": {
      "name": "python3",
      "display_name": "Python 3"
    },
    "language_info": {
      "name": "python"
    }
  },
  "cells": [
    {
      "cell_type": "markdown",
      "metadata": {
        "id": "view-in-github",
        "colab_type": "text"
      },
      "source": [
        "<a href=\"https://colab.research.google.com/github/brendanpshea/programming_problem_solving/blob/main/Computing_Concepts_08_CyberSecurity.ipynb\" target=\"_parent\"><img src=\"https://colab.research.google.com/assets/colab-badge.svg\" alt=\"Open In Colab\"/></a>"
      ]
    },
    {
      "cell_type": "code",
      "execution_count": null,
      "metadata": {
        "id": "nTi0FAZM32yw"
      },
      "outputs": [],
      "source": []
    },
    {
      "cell_type": "markdown",
      "source": [
        "# From Caesar's Cipher to AI - A Little History of Information Security\n",
        "### Brendan Shea, PhD\n",
        "\n",
        "The need to protect sensitive information has been a constant challenge. As communication methods and technologies have evolved, so too have the threats to the security of our data. In this chapter, we will explore the fascinating history of information security, from the early days of Julius Caesar's cipher to the cutting-edge techniques of artificial intelligence. More specifically, we'll consider how the CIA (Confidentiality, Ingretity, Availabilty) triad has served as a guiding framework throughout its evolution."
      ],
      "metadata": {
        "id": "P23kE6G833YH"
      }
    },
    {
      "cell_type": "markdown",
      "source": [
        "## The CIA Triad\n",
        "The **CIA triad** is a fundamental concept in information security that defines the three key principles of protecting data: Confidentiality, Integrity, and Availability. These principles form the foundation of information security and guide the development and implementation of security measures. While all three aspects are crucial, there is often a tension between them, as focusing too much on one principle can sometimes compromise the others.\n",
        "\n",
        "- **Confidentiality** ensures that data is accessible only to authorized parties. A simple example is your social media account. When you create a password for your account, you ensure that only you can access your private messages and posts. This is confidentiality in action. However, if you choose a very complex password that you can't remember, you might end up locking yourself out of your own account, which affects availability.\n",
        "- **Integrity** maintains the accuracy and consistency of data throughout its lifecycle. Imagine you're working on a school project with your classmates using a shared online document. You want to make sure that the content remains accurate and consistent, even as multiple people make changes. This is where version control and track changes come in handy, as they help maintain the integrity of the document. However, if you set very strict editing permissions to ensure integrity, it might make it harder for your classmates to contribute to the project, affecting availability.\n",
        "- **Availability** guarantees that data and systems are accessible and operational when needed by authorized users. A simple example is your school's online learning platform. You want to be able to access your course materials, submit assignments, and participate in discussions whenever you need to. The school ensures availability by having reliable servers and backup systems. However, if the school focuses too much on availability and grants access to everyone without proper authentication, it could compromise the confidentiality of sensitive information, such as grades or personal details.\n",
        "\n",
        "In practice, achieving a perfect balance among the three principles of the CIA triad can be challenging. Measures taken to strengthen one aspect may have unintended consequences on the others. For instance, if you use **two-factor authentication (2FA)** to enhance the confidentiality of your online banking account, it might take a bit longer to log in, slightly affecting availability.\n",
        "\n",
        "Information security professionals must carefully consider the specific needs and priorities of their organization and find the right balance among confidentiality, integrity, and availability. They do this by assessing risks, implementing various security measures, and regularly reviewing and adjusting their security strategy."
      ],
      "metadata": {
        "id": "CXVLq9l04kRH"
      }
    },
    {
      "cell_type": "markdown",
      "source": [
        "## The Caesar Cipher\n",
        "Imagine you're Julius Caesar, the mighty ruler of the Roman Empire, and you need to send a confidential message to your generals on the battlefield. You know that your enemies are intercepting your communications, and you can't risk your battle plans falling into the wrong hands. What do you do? This is where the Caesar cipher comes into play.\n",
        "\n",
        "Julius Caesar's cipher, also known as the **Caesar cipher** or shift cipher, is one of the earliest known examples of encryption techniques. It contributed to the early development of confidentiality in information security by demonstrating the basic principle of substitution ciphers and highlighting the need for secure communication. How Caesar's cipher works:\n",
        "\n",
        "1.  Each letter in the original message (plaintext) is replaced by a letter a fixed number of positions down the alphabet.\n",
        "2.  For example, with a shift of 3, 'A' would become 'D', 'B' would become 'E', and so on.\n",
        "3.  The resulting encrypted message (ciphertext) would be gibberish to anyone who doesn't know the specific shift number used.\n",
        "4.  To decrypt the message, the recipient would need to know the shift number and apply it in reverse.\n",
        "\n",
        "Here's a simple Python code snippet that demonstrates the Caesar cipher:"
      ],
      "metadata": {
        "id": "cwZSEo8cDxjg"
      }
    },
    {
      "cell_type": "code",
      "source": [
        "def caesar_cipher(text, shift):\n",
        "    result = \"\"\n",
        "    for char in text:\n",
        "        if char.isalpha():\n",
        "            ascii_offset = 65 if char.isupper() else 97\n",
        "            result += chr((ord(char) - ascii_offset + shift) % 26 + ascii_offset)\n",
        "        else:\n",
        "            result += char\n",
        "    return result\n",
        "\n",
        "plaintext = \"Attack at dawn!\"\n",
        "print(\"Original message:\",plaintext)\n",
        "\n",
        "shift = 3\n",
        "ciphertext = caesar_cipher(plaintext, shift)\n",
        "print(\"Ciphertext:\", ciphertext)\n",
        "\n",
        "# We can now decrypt using the same shift (but backwards)\n",
        "decrypted_text = caesar_cipher(ciphertext, -shift)\n",
        "print(\"Decrpyted using same key:\", decrypted_text)"
      ],
      "metadata": {
        "colab": {
          "base_uri": "https://localhost:8080/"
        },
        "id": "RC492CLmD2Eo",
        "outputId": "4762f26a-c05a-4eb2-e528-c0bf5f9888f7"
      },
      "execution_count": 3,
      "outputs": [
        {
          "output_type": "stream",
          "name": "stdout",
          "text": [
            "Original message: Attack at dawn!\n",
            "Ciphertext: Dwwdfn dw gdzq!\n",
            "Decrpyted: Attack at dawn!\n"
          ]
        }
      ]
    },
    {
      "cell_type": "markdown",
      "source": [],
      "metadata": {
        "id": "rjpeKm4vDzKN"
      }
    },
    {
      "cell_type": "code",
      "source": [],
      "metadata": {
        "id": "Lq20Lb7m5I7e"
      },
      "execution_count": null,
      "outputs": []
    }
  ]
}